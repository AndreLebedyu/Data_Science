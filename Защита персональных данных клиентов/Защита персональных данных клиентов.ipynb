{
 "cells": [
  {
   "cell_type": "markdown",
   "metadata": {
    "toc": true
   },
   "source": [
    "<h1>Содержание<span class=\"tocSkip\"></span></h1>\n",
    "<div class=\"toc\"><ul class=\"toc-item\"><li><span><a href=\"#Загрузка-данных\" data-toc-modified-id=\"Загрузка-данных-1\"><span class=\"toc-item-num\">1&nbsp;&nbsp;</span>Загрузка данных</a></span></li><li><span><a href=\"#Умножение-матриц\" data-toc-modified-id=\"Умножение-матриц-2\"><span class=\"toc-item-num\">2&nbsp;&nbsp;</span>Умножение матриц</a></span></li><li><span><a href=\"#Алгоритм-преобразования\" data-toc-modified-id=\"Алгоритм-преобразования-3\"><span class=\"toc-item-num\">3&nbsp;&nbsp;</span>Алгоритм преобразования</a></span></li><li><span><a href=\"#Проверка-алгоритма\" data-toc-modified-id=\"Проверка-алгоритма-4\"><span class=\"toc-item-num\">4&nbsp;&nbsp;</span>Проверка алгоритма</a></span></li></ul></div>"
   ]
  },
  {
   "cell_type": "markdown",
   "metadata": {},
   "source": [
    "# Защита персональных данных клиентов"
   ]
  },
  {
   "cell_type": "markdown",
   "metadata": {},
   "source": [
    "Необходимо защитить данные клиентов страховой компании «Хоть потоп». В ходе работы над проектом разработаем такой метод преобразования данных, чтобы по ним было сложно восстановить персональную информацию. Обоснуем корректность его работы.\n",
    "\n",
    "Нужно защитить данные, чтобы при преобразовании качество моделей машинного обучения не ухудшилось."
   ]
  },
  {
   "cell_type": "markdown",
   "metadata": {},
   "source": [
    "## Загрузка данных"
   ]
  },
  {
   "cell_type": "markdown",
   "metadata": {},
   "source": [
    "Начнем работу с импорта необходимых для работы библиотек"
   ]
  },
  {
   "cell_type": "code",
   "execution_count": 1,
   "metadata": {},
   "outputs": [],
   "source": [
    "import pandas as pd\n",
    "import numpy as np\n",
    "import seaborn as sns\n",
    "import matplotlib.pyplot as plt\n",
    "\n",
    "from sklearn.model_selection import train_test_split\n",
    "from sklearn.linear_model import LinearRegression\n",
    "from sklearn.metrics import r2_score"
   ]
  },
  {
   "cell_type": "markdown",
   "metadata": {},
   "source": [
    "Откроем датасет, выведем первые несколько строк датасета, а также выведем информацию о нем"
   ]
  },
  {
   "cell_type": "code",
   "execution_count": 2,
   "metadata": {
    "scrolled": false
   },
   "outputs": [
    {
     "data": {
      "text/html": [
       "<div>\n",
       "<style scoped>\n",
       "    .dataframe tbody tr th:only-of-type {\n",
       "        vertical-align: middle;\n",
       "    }\n",
       "\n",
       "    .dataframe tbody tr th {\n",
       "        vertical-align: top;\n",
       "    }\n",
       "\n",
       "    .dataframe thead th {\n",
       "        text-align: right;\n",
       "    }\n",
       "</style>\n",
       "<table border=\"1\" class=\"dataframe\">\n",
       "  <thead>\n",
       "    <tr style=\"text-align: right;\">\n",
       "      <th></th>\n",
       "      <th>Пол</th>\n",
       "      <th>Возраст</th>\n",
       "      <th>Зарплата</th>\n",
       "      <th>Члены семьи</th>\n",
       "      <th>Страховые выплаты</th>\n",
       "    </tr>\n",
       "  </thead>\n",
       "  <tbody>\n",
       "    <tr>\n",
       "      <th>0</th>\n",
       "      <td>1</td>\n",
       "      <td>41.0</td>\n",
       "      <td>49600.0</td>\n",
       "      <td>1</td>\n",
       "      <td>0</td>\n",
       "    </tr>\n",
       "    <tr>\n",
       "      <th>1</th>\n",
       "      <td>0</td>\n",
       "      <td>46.0</td>\n",
       "      <td>38000.0</td>\n",
       "      <td>1</td>\n",
       "      <td>1</td>\n",
       "    </tr>\n",
       "    <tr>\n",
       "      <th>2</th>\n",
       "      <td>0</td>\n",
       "      <td>29.0</td>\n",
       "      <td>21000.0</td>\n",
       "      <td>0</td>\n",
       "      <td>0</td>\n",
       "    </tr>\n",
       "    <tr>\n",
       "      <th>3</th>\n",
       "      <td>0</td>\n",
       "      <td>21.0</td>\n",
       "      <td>41700.0</td>\n",
       "      <td>2</td>\n",
       "      <td>0</td>\n",
       "    </tr>\n",
       "    <tr>\n",
       "      <th>4</th>\n",
       "      <td>1</td>\n",
       "      <td>28.0</td>\n",
       "      <td>26100.0</td>\n",
       "      <td>0</td>\n",
       "      <td>0</td>\n",
       "    </tr>\n",
       "    <tr>\n",
       "      <th>5</th>\n",
       "      <td>1</td>\n",
       "      <td>43.0</td>\n",
       "      <td>41000.0</td>\n",
       "      <td>2</td>\n",
       "      <td>1</td>\n",
       "    </tr>\n",
       "    <tr>\n",
       "      <th>6</th>\n",
       "      <td>1</td>\n",
       "      <td>39.0</td>\n",
       "      <td>39700.0</td>\n",
       "      <td>2</td>\n",
       "      <td>0</td>\n",
       "    </tr>\n",
       "    <tr>\n",
       "      <th>7</th>\n",
       "      <td>1</td>\n",
       "      <td>25.0</td>\n",
       "      <td>38600.0</td>\n",
       "      <td>4</td>\n",
       "      <td>0</td>\n",
       "    </tr>\n",
       "    <tr>\n",
       "      <th>8</th>\n",
       "      <td>1</td>\n",
       "      <td>36.0</td>\n",
       "      <td>49700.0</td>\n",
       "      <td>1</td>\n",
       "      <td>0</td>\n",
       "    </tr>\n",
       "    <tr>\n",
       "      <th>9</th>\n",
       "      <td>1</td>\n",
       "      <td>32.0</td>\n",
       "      <td>51700.0</td>\n",
       "      <td>1</td>\n",
       "      <td>0</td>\n",
       "    </tr>\n",
       "  </tbody>\n",
       "</table>\n",
       "</div>"
      ],
      "text/plain": [
       "   Пол  Возраст  Зарплата  Члены семьи  Страховые выплаты\n",
       "0    1     41.0   49600.0            1                  0\n",
       "1    0     46.0   38000.0            1                  1\n",
       "2    0     29.0   21000.0            0                  0\n",
       "3    0     21.0   41700.0            2                  0\n",
       "4    1     28.0   26100.0            0                  0\n",
       "5    1     43.0   41000.0            2                  1\n",
       "6    1     39.0   39700.0            2                  0\n",
       "7    1     25.0   38600.0            4                  0\n",
       "8    1     36.0   49700.0            1                  0\n",
       "9    1     32.0   51700.0            1                  0"
      ]
     },
     "metadata": {},
     "output_type": "display_data"
    },
    {
     "name": "stdout",
     "output_type": "stream",
     "text": [
      "<class 'pandas.core.frame.DataFrame'>\n",
      "RangeIndex: 5000 entries, 0 to 4999\n",
      "Data columns (total 5 columns):\n",
      " #   Column             Non-Null Count  Dtype  \n",
      "---  ------             --------------  -----  \n",
      " 0   Пол                5000 non-null   int64  \n",
      " 1   Возраст            5000 non-null   float64\n",
      " 2   Зарплата           5000 non-null   float64\n",
      " 3   Члены семьи        5000 non-null   int64  \n",
      " 4   Страховые выплаты  5000 non-null   int64  \n",
      "dtypes: float64(2), int64(3)\n",
      "memory usage: 195.4 KB\n"
     ]
    }
   ],
   "source": [
    "data = pd.read_csv('/datasets/insurance.csv')\n",
    "display(data.head(10))\n",
    "data.info()"
   ]
  },
  {
   "cell_type": "markdown",
   "metadata": {},
   "source": [
    "Как мы видим в датасете имеется 5000 строк, пропуски в столбцах отсутствуют"
   ]
  },
  {
   "cell_type": "markdown",
   "metadata": {},
   "source": [
    "Посмотрим отдельно на данные в каждом столбце нашего датасета и построим для наглядности графики "
   ]
  },
  {
   "cell_type": "code",
   "execution_count": 3,
   "metadata": {},
   "outputs": [
    {
     "data": {
      "image/png": "[encoded data removed]",
      "text/plain": [
       "<Figure size 432x288 with 1 Axes>"
      ]
     },
     "metadata": {},
     "output_type": "display_data"
    }
   ],
   "source": [
    "data.groupby(['Пол']).count().plot(kind='pie', y='Страховые выплаты', autopct='%1.0f%%', title='Количество')\n",
    "plt.show()"
   ]
  },
  {
   "cell_type": "code",
   "execution_count": 4,
   "metadata": {},
   "outputs": [
    {
     "data": {
      "image/png": "[encoded data removed]",
      "text/plain": [
       "<Figure size 432x288 with 1 Axes>"
      ]
     },
     "metadata": {
      "needs_background": "light"
     },
     "output_type": "display_data"
    }
   ],
   "source": [
    "data['Возраст'].hist(bins=20)\n",
    "plt.show()"
   ]
  },
  {
   "cell_type": "code",
   "execution_count": 5,
   "metadata": {},
   "outputs": [
    {
     "data": {
      "image/png": "[encoded data removed]",
      "text/plain": [
       "<Figure size 432x288 with 1 Axes>"
      ]
     },
     "metadata": {
      "needs_background": "light"
     },
     "output_type": "display_data"
    }
   ],
   "source": [
    "data['Зарплата'].hist(bins=20)\n",
    "plt.show()"
   ]
  },
  {
   "cell_type": "code",
   "execution_count": 6,
   "metadata": {},
   "outputs": [
    {
     "data": {
      "image/png": "[encoded data removed]",
      "text/plain": [
       "<Figure size 432x288 with 1 Axes>"
      ]
     },
     "metadata": {
      "needs_background": "light"
     },
     "output_type": "display_data"
    }
   ],
   "source": [
    "sns.countplot(data=data, x=\"Члены семьи\")\n",
    "plt.show()"
   ]
  },
  {
   "cell_type": "code",
   "execution_count": 7,
   "metadata": {
    "scrolled": true
   },
   "outputs": [
    {
     "data": {
      "image/png": "[encoded data removed]",
      "text/plain": [
       "<Figure size 432x288 with 1 Axes>"
      ]
     },
     "metadata": {
      "needs_background": "light"
     },
     "output_type": "display_data"
    }
   ],
   "source": [
    "sns.countplot(data=data, x=\"Страховые выплаты\")\n",
    "plt.show()"
   ]
  },
  {
   "cell_type": "markdown",
   "metadata": {},
   "source": [
    "Посмотрим на наличие мультиколлинеарности в нашем датасете.\\\n",
    "Поскольку столбец \"Пол\" содержит категориальные данные, то его в корреляционном анализе мы учитывать не будем"
   ]
  },
  {
   "cell_type": "code",
   "execution_count": 8,
   "metadata": {
    "scrolled": false
   },
   "outputs": [
    {
     "data": {
      "text/html": [
       "<div>\n",
       "<style scoped>\n",
       "    .dataframe tbody tr th:only-of-type {\n",
       "        vertical-align: middle;\n",
       "    }\n",
       "\n",
       "    .dataframe tbody tr th {\n",
       "        vertical-align: top;\n",
       "    }\n",
       "\n",
       "    .dataframe thead th {\n",
       "        text-align: right;\n",
       "    }\n",
       "</style>\n",
       "<table border=\"1\" class=\"dataframe\">\n",
       "  <thead>\n",
       "    <tr style=\"text-align: right;\">\n",
       "      <th></th>\n",
       "      <th>Возраст</th>\n",
       "      <th>Зарплата</th>\n",
       "      <th>Члены семьи</th>\n",
       "      <th>Страховые выплаты</th>\n",
       "    </tr>\n",
       "  </thead>\n",
       "  <tbody>\n",
       "    <tr>\n",
       "      <th>Возраст</th>\n",
       "      <td>1.000000</td>\n",
       "      <td>-0.020238</td>\n",
       "      <td>-0.001503</td>\n",
       "      <td>0.548589</td>\n",
       "    </tr>\n",
       "    <tr>\n",
       "      <th>Зарплата</th>\n",
       "      <td>-0.020238</td>\n",
       "      <td>1.000000</td>\n",
       "      <td>-0.025492</td>\n",
       "      <td>-0.005549</td>\n",
       "    </tr>\n",
       "    <tr>\n",
       "      <th>Члены семьи</th>\n",
       "      <td>-0.001503</td>\n",
       "      <td>-0.025492</td>\n",
       "      <td>1.000000</td>\n",
       "      <td>-0.029210</td>\n",
       "    </tr>\n",
       "    <tr>\n",
       "      <th>Страховые выплаты</th>\n",
       "      <td>0.548589</td>\n",
       "      <td>-0.005549</td>\n",
       "      <td>-0.029210</td>\n",
       "      <td>1.000000</td>\n",
       "    </tr>\n",
       "  </tbody>\n",
       "</table>\n",
       "</div>"
      ],
      "text/plain": [
       "                    Возраст  Зарплата  Члены семьи  Страховые выплаты\n",
       "Возраст            1.000000 -0.020238    -0.001503           0.548589\n",
       "Зарплата          -0.020238  1.000000    -0.025492          -0.005549\n",
       "Члены семьи       -0.001503 -0.025492     1.000000          -0.029210\n",
       "Страховые выплаты  0.548589 -0.005549    -0.029210           1.000000"
      ]
     },
     "execution_count": 8,
     "metadata": {},
     "output_type": "execute_result"
    }
   ],
   "source": [
    "data.drop(['Пол'], axis=1).corr(method='spearman')"
   ]
  },
  {
   "cell_type": "markdown",
   "metadata": {},
   "source": [
    "Как видим мультиколлинеарности в нашем датасете не наблюдается"
   ]
  },
  {
   "cell_type": "markdown",
   "metadata": {},
   "source": [
    "## Умножение матриц"
   ]
  },
  {
   "cell_type": "markdown",
   "metadata": {},
   "source": [
    "Нам необходимо ответить на вопрос: изменится ли качество линейной регрессии при умножении признаков на обратимую матрицу?"
   ]
  },
  {
   "cell_type": "markdown",
   "metadata": {},
   "source": [
    "Для начала запишем обозначения и формулы, необходимые нам для линейной регрессии"
   ]
  },
  {
   "cell_type": "markdown",
   "metadata": {},
   "source": [
    "Обозначения:\n",
    "\n",
    "- $X$ — матрица признаков (нулевой столбец состоит из единиц)\n",
    "\n",
    "- $y$ — вектор целевого признака\n",
    "\n",
    "- $P$ — матрица, на которую умножаются признаки, квадратная, обратимая\n",
    "\n",
    "- $w$ — вектор весов линейной регрессии (нулевой элемент равен сдвигу)"
   ]
  },
  {
   "cell_type": "markdown",
   "metadata": {},
   "source": [
    "Предсказания:\n",
    "\n",
    "$$\n",
    "a = Xw\n",
    "$$\n",
    "\n",
    "Задача обучения:\n",
    "\n",
    "$$\n",
    "w = \\arg\\min_w MSE(Xw, y)\n",
    "$$\n",
    "\n",
    "Формула обучения:\n",
    "\n",
    "$$\n",
    "w = (X^T X)^{-1} X^T y\n",
    "$$"
   ]
  },
  {
   "cell_type": "markdown",
   "metadata": {},
   "source": [
    "**Ответ:** при умножении признаков на обратимую матрицу качество линейной регрессии не изменится \n",
    "\n",
    "**Обоснование:** докажем, что исходные предсказания и предсказания после домножения признаков на обратимую матрицу равны (если они будут равны, то и качество линейной регрессии не изменится)"
   ]
  },
  {
   "cell_type": "markdown",
   "metadata": {},
   "source": [
    "Для начала запишем новую формулу предсказания:\\\n",
    "$$\n",
    "a1 = XPw1\n",
    "$$"
   ]
  },
  {
   "cell_type": "markdown",
   "metadata": {},
   "source": [
    "Далее запишем новую формулу обучения:\\\n",
    "$$\n",
    "w1 = ((XP)^T XP)^{-1} (XP)^T y\n",
    "$$"
   ]
  },
  {
   "cell_type": "markdown",
   "metadata": {},
   "source": [
    "Воспользуемся следующим свойством транспонирования: \n",
    "$$\n",
    "    (AB)^T = B^T A^T \n",
    "$$"
   ]
  },
  {
   "cell_type": "markdown",
   "metadata": {},
   "source": [
    "Получим:\n",
    "$$\n",
    "w1 = (P^T X^T XP)^{-1} P^T X^T y\n",
    "$$"
   ]
  },
  {
   "cell_type": "markdown",
   "metadata": {},
   "source": [
    "Далее воспользуемся следующим свойством обратных матриц:\n",
    "$$\n",
    "    (AB)^{-1} = B^{-1} A^{-1} \n",
    "$$"
   ]
  },
  {
   "cell_type": "markdown",
   "metadata": {},
   "source": [
    "Раскроем скобки и получим:\n",
    "$$\n",
    "w1 = P^{-1} (X^T X)^{-1} (P^T)^{-1} P^T X^T y\n",
    "$$"
   ]
  },
  {
   "cell_type": "markdown",
   "metadata": {},
   "source": [
    "Воспользуемся свойством перемножения обратных матриц:\n",
    "$$\n",
    "    A A^{-1}  = A^{-1} A = E \n",
    "$$"
   ]
  },
  {
   "cell_type": "markdown",
   "metadata": {},
   "source": [
    "Получим:\n",
    "$$\n",
    "w1 =  P^{-1} (X^T X)^{-1}  E X^T y\n",
    "$$"
   ]
  },
  {
   "cell_type": "markdown",
   "metadata": {},
   "source": [
    "Используем свойство умножения на E (единичную матрицу):\n",
    "$$\n",
    "    A E = E A = A \n",
    "$$"
   ]
  },
  {
   "cell_type": "markdown",
   "metadata": {},
   "source": [
    "Получим:\n",
    "$$\n",
    "w1 = P^{-1} (X^T X)^{-1} X^T y\n",
    "$$"
   ]
  },
  {
   "cell_type": "markdown",
   "metadata": {},
   "source": [
    "Как мы знаем:\n",
    "$$\n",
    "(X^T X)^{-1} X^T y = w\n",
    "$$"
   ]
  },
  {
   "cell_type": "markdown",
   "metadata": {},
   "source": [
    "Получим:\n",
    "$$\n",
    "w1 =  P^{-1} w \n",
    "$$"
   ]
  },
  {
   "cell_type": "markdown",
   "metadata": {},
   "source": [
    "Подставим полученное значение $w1$ в новую формулу предсказания:\n",
    "$$\n",
    "a1 = XPw1 = XP P^{-1} w \n",
    "$$"
   ]
  },
  {
   "cell_type": "markdown",
   "metadata": {},
   "source": [
    "Вновь используем свойство:\n",
    "$$\n",
    "    A A^{-1}  = A^{-1} A = E \n",
    "$$"
   ]
  },
  {
   "cell_type": "markdown",
   "metadata": {},
   "source": [
    "Получим: $$\n",
    "a1 = XP P^{-1} w = X E w\n",
    "$$"
   ]
  },
  {
   "cell_type": "markdown",
   "metadata": {},
   "source": [
    "Снова используя свойство умножения на E (единичную матрицу) получим:\n",
    "$$\n",
    "a1 = X w\n",
    "$$"
   ]
  },
  {
   "cell_type": "markdown",
   "metadata": {},
   "source": [
    "Учитывая, чему равны исходные предсказания получим:$$\n",
    "a = Xw = a1\n",
    "$$"
   ]
  },
  {
   "cell_type": "markdown",
   "metadata": {},
   "source": [
    "Таким образом мы доказали, что исходные предсказания и предсказания после домножения признаков на обратимую матрицу равны, следовательно качество линейной регрессии при домножении не изменится "
   ]
  },
  {
   "cell_type": "markdown",
   "metadata": {},
   "source": [
    "## Алгоритм преобразования"
   ]
  },
  {
   "cell_type": "markdown",
   "metadata": {},
   "source": [
    "**Алгоритм**\n",
    "\n",
    "- создать обратимую матрицу (проверить ее на обратимость)\n",
    "- домножить матрицу признаков на обратимую матрицу \n",
    "- оценить качество линейной регрессии используя метрику R2 и сравнить ее с метрикой R2 исходной модели"
   ]
  },
  {
   "cell_type": "markdown",
   "metadata": {},
   "source": [
    "**Обоснование**\n",
    "\n",
    "Принцип, используемый в алгоритме, обоснован в пункте 2 и доказано, что качество линейной регрессии при домножении на обратимую матрицу не изменится "
   ]
  },
  {
   "cell_type": "markdown",
   "metadata": {},
   "source": [
    "## Проверка алгоритма"
   ]
  },
  {
   "cell_type": "markdown",
   "metadata": {},
   "source": [
    "Реализуем наш алгоритм и убедимся в его работе на практике"
   ]
  },
  {
   "cell_type": "markdown",
   "metadata": {},
   "source": [
    "Для начала посчитаем метрику R2 на модели линейной регрессии без домножении на обратимую матрицу.\\\n",
    "Начнем с разделения исходных данных на обучающую и валидационную выборки в соотношении 75:25"
   ]
  },
  {
   "cell_type": "code",
   "execution_count": 9,
   "metadata": {},
   "outputs": [],
   "source": [
    "data_train, data_valid = train_test_split(data, test_size=0.25, random_state=12345)"
   ]
  },
  {
   "cell_type": "markdown",
   "metadata": {},
   "source": [
    "Целевым признаком в нашем датасете является столбец \"Страховые выплаты\" - именно в нем содержится информацию о количестве страховых выплат клиенту за последние 5 лет и его нам необходимо предсказывать. Остальные столбцы датасета будут признаками. "
   ]
  },
  {
   "cell_type": "code",
   "execution_count": 10,
   "metadata": {},
   "outputs": [],
   "source": [
    "features_train = data_train.drop(['Страховые выплаты'], axis=1)\n",
    "target_train = data_train['Страховые выплаты']\n",
    "features_valid = data_valid.drop(['Страховые выплаты'], axis=1)\n",
    "target_valid = data_valid['Страховые выплаты']"
   ]
  },
  {
   "cell_type": "markdown",
   "metadata": {},
   "source": [
    "Далее воспользуемся моделью линейной регрессии и посчитаем метрику R2 "
   ]
  },
  {
   "cell_type": "code",
   "execution_count": 11,
   "metadata": {},
   "outputs": [
    {
     "name": "stdout",
     "output_type": "stream",
     "text": [
      "Метрика R2 без домножения: 0.43522757127026546\n"
     ]
    }
   ],
   "source": [
    "model = LinearRegression()\n",
    "model.fit(features_train, target_train)\n",
    "predictions = model.predict(features_valid)\n",
    "r2 = r2_score(target_valid, predictions)\n",
    "print('Метрика R2 без домножения:', r2)"
   ]
  },
  {
   "cell_type": "markdown",
   "metadata": {},
   "source": [
    "Теперь создададим обратимую квадратную матрицу (создадим рандомную матрицу и проверим ее на обратимость). Поскольку мы будем умножать ее на матрицу принаков, то чтобы произошло перемножение матриц нам необходимо, чтобы число строк обратимой матрицы равнялось числу столбцов в матрице признаков (в нашем случае 4 признака). Поскольку создаваемая матрица квадратная (обратимыми бывают только квадратные матрицы), то число столбцов в ней равно числу строк - то есть размер создаваемой нами матрицы 4х4"
   ]
  },
  {
   "cell_type": "code",
   "execution_count": 12,
   "metadata": {},
   "outputs": [],
   "source": [
    "P = np.random.normal(size = (4,4))\n",
    "P1 = np.linalg.inv(P) # ошибки не возникает, значит созданная нами матрица P обратима"
   ]
  },
  {
   "cell_type": "markdown",
   "metadata": {},
   "source": [
    "Далее домножим матрицы признаков на обратимую матрицу "
   ]
  },
  {
   "cell_type": "code",
   "execution_count": 13,
   "metadata": {},
   "outputs": [],
   "source": [
    "features_train_p = features_train @ P\n",
    "features_valid_p = features_valid @ P"
   ]
  },
  {
   "cell_type": "markdown",
   "metadata": {},
   "source": [
    "Воспользуемся моделью линейной регрессии и посчитаем метрику R2 после домножения признаков на обратимую матрицу "
   ]
  },
  {
   "cell_type": "code",
   "execution_count": 14,
   "metadata": {},
   "outputs": [
    {
     "name": "stdout",
     "output_type": "stream",
     "text": [
      "Метрика R2 после домножения: 0.4352275712702548\n"
     ]
    }
   ],
   "source": [
    "model = LinearRegression()\n",
    "model.fit(features_train_p, target_train)\n",
    "predictions = model.predict(features_valid_p)\n",
    "r2 = r2_score(target_valid, predictions)\n",
    "print('Метрика R2 после домножения:', r2)"
   ]
  },
  {
   "cell_type": "markdown",
   "metadata": {},
   "source": [
    "Как мы видим значение метрик R2 равны, следовательно качество линейной регрессии при домножении признаков на обратимую матрицу не меняется"
   ]
  },
  {
   "cell_type": "markdown",
   "metadata": {},
   "source": [
    "<b>Вывод: </b> нам удалось разработать метод преобразования данных, по которому сложно восстановить персональные данные клиентов страховой компании «Хоть потоп». Разработанный метод позволяет защитить данные, и при этом при преобразовании данных качество моделей машинного обучения не ухудшается. Основной принцип данного метода заключается в умножении признаков на обратимую матрицу"
   ]
  }
 ],
 "metadata": {
  "ExecuteTimeLog": [
   {
    "duration": 1141,
    "start_time": "2023-01-26T17:27:34.014Z"
   },
   {
    "duration": 3,
    "start_time": "2023-01-26T17:28:35.473Z"
   },
   {
    "duration": 77,
    "start_time": "2023-01-26T17:32:25.969Z"
   },
   {
    "duration": 154,
    "start_time": "2023-01-26T17:32:39.423Z"
   },
   {
    "duration": 127,
    "start_time": "2023-01-26T17:32:43.973Z"
   },
   {
    "duration": 45,
    "start_time": "2023-01-26T17:32:56.056Z"
   },
   {
    "duration": 42,
    "start_time": "2023-01-26T17:33:02.746Z"
   },
   {
    "duration": 13,
    "start_time": "2023-01-26T17:37:43.351Z"
   },
   {
    "duration": 52,
    "start_time": "2023-01-31T14:31:58.311Z"
   },
   {
    "duration": 1207,
    "start_time": "2023-01-31T14:32:38.270Z"
   },
   {
    "duration": 62,
    "start_time": "2023-01-31T14:32:51.276Z"
   },
   {
    "duration": 109,
    "start_time": "2023-01-31T14:32:56.585Z"
   },
   {
    "duration": 18,
    "start_time": "2023-01-31T14:33:01.075Z"
   },
   {
    "duration": 6,
    "start_time": "2023-01-31T14:33:09.596Z"
   },
   {
    "duration": 5,
    "start_time": "2023-01-31T14:36:37.966Z"
   },
   {
    "duration": 9,
    "start_time": "2023-01-31T14:41:44.320Z"
   },
   {
    "duration": 9,
    "start_time": "2023-01-31T14:48:57.470Z"
   },
   {
    "duration": 3,
    "start_time": "2023-01-31T14:49:20.331Z"
   },
   {
    "duration": 3,
    "start_time": "2023-01-31T14:49:29.851Z"
   },
   {
    "duration": 4,
    "start_time": "2023-01-31T14:49:39.213Z"
   },
   {
    "duration": 3,
    "start_time": "2023-01-31T14:49:50.814Z"
   },
   {
    "duration": 3,
    "start_time": "2023-01-31T14:49:54.905Z"
   },
   {
    "duration": 11,
    "start_time": "2023-01-31T14:50:27.590Z"
   },
   {
    "duration": 4,
    "start_time": "2023-01-31T14:50:34.281Z"
   },
   {
    "duration": 4,
    "start_time": "2023-01-31T14:51:27.054Z"
   },
   {
    "duration": 6,
    "start_time": "2023-01-31T14:51:47.372Z"
   },
   {
    "duration": 15,
    "start_time": "2023-01-31T14:52:22.086Z"
   },
   {
    "duration": 48,
    "start_time": "2023-01-31T16:48:33.473Z"
   },
   {
    "duration": 1093,
    "start_time": "2023-01-31T16:48:39.251Z"
   },
   {
    "duration": 108,
    "start_time": "2023-01-31T16:48:40.346Z"
   },
   {
    "duration": 13,
    "start_time": "2023-01-31T16:48:40.456Z"
   },
   {
    "duration": 18,
    "start_time": "2023-01-31T16:48:40.471Z"
   },
   {
    "duration": 43,
    "start_time": "2023-01-31T16:48:40.491Z"
   },
   {
    "duration": 26,
    "start_time": "2023-01-31T16:48:40.536Z"
   },
   {
    "duration": 156,
    "start_time": "2023-01-31T16:48:40.564Z"
   },
   {
    "duration": 6,
    "start_time": "2023-01-31T16:48:57.847Z"
   },
   {
    "duration": 3,
    "start_time": "2023-01-31T16:49:06.005Z"
   },
   {
    "duration": 3,
    "start_time": "2023-01-31T16:50:05.435Z"
   },
   {
    "duration": 4,
    "start_time": "2023-01-31T16:54:29.633Z"
   },
   {
    "duration": 9,
    "start_time": "2023-01-31T16:54:43.815Z"
   },
   {
    "duration": 8,
    "start_time": "2023-01-31T16:54:48.762Z"
   },
   {
    "duration": 10,
    "start_time": "2023-01-31T16:55:36.554Z"
   },
   {
    "duration": 4,
    "start_time": "2023-01-31T16:55:38.786Z"
   },
   {
    "duration": 10,
    "start_time": "2023-01-31T16:55:39.846Z"
   },
   {
    "duration": 9,
    "start_time": "2023-01-31T16:57:26.030Z"
   },
   {
    "duration": 10,
    "start_time": "2023-01-31T16:57:32.474Z"
   },
   {
    "duration": 1035,
    "start_time": "2023-01-31T17:15:52.761Z"
   },
   {
    "duration": 45,
    "start_time": "2023-01-31T17:15:53.798Z"
   },
   {
    "duration": 13,
    "start_time": "2023-01-31T17:15:53.845Z"
   },
   {
    "duration": 5,
    "start_time": "2023-01-31T17:15:53.859Z"
   },
   {
    "duration": 16,
    "start_time": "2023-01-31T17:15:53.866Z"
   },
   {
    "duration": 15,
    "start_time": "2023-01-31T17:15:53.883Z"
   },
   {
    "duration": 4,
    "start_time": "2023-01-31T17:15:53.900Z"
   },
   {
    "duration": 4,
    "start_time": "2023-01-31T17:15:53.928Z"
   },
   {
    "duration": 102,
    "start_time": "2023-01-31T17:15:53.933Z"
   },
   {
    "duration": 1854,
    "start_time": "2023-01-31T18:01:43.933Z"
   },
   {
    "duration": 123,
    "start_time": "2023-01-31T18:01:45.790Z"
   },
   {
    "duration": 4,
    "start_time": "2023-01-31T18:05:19.848Z"
   },
   {
    "duration": 4,
    "start_time": "2023-01-31T18:05:21.212Z"
   },
   {
    "duration": 8,
    "start_time": "2023-01-31T18:05:21.960Z"
   },
   {
    "duration": 3,
    "start_time": "2023-01-31T18:05:43.686Z"
   },
   {
    "duration": 4,
    "start_time": "2023-01-31T18:06:10.002Z"
   },
   {
    "duration": 8,
    "start_time": "2023-01-31T18:06:10.733Z"
   },
   {
    "duration": 44,
    "start_time": "2023-02-01T10:59:41.822Z"
   },
   {
    "duration": 1117,
    "start_time": "2023-02-01T10:59:45.597Z"
   },
   {
    "duration": 108,
    "start_time": "2023-02-01T10:59:48.632Z"
   },
   {
    "duration": 46,
    "start_time": "2023-02-01T10:59:57.300Z"
   },
   {
    "duration": 41,
    "start_time": "2023-02-01T11:00:09.430Z"
   },
   {
    "duration": 393,
    "start_time": "2023-02-01T11:00:45.929Z"
   },
   {
    "duration": 1282,
    "start_time": "2023-02-01T11:05:05.530Z"
   },
   {
    "duration": 46,
    "start_time": "2023-02-01T11:05:06.814Z"
   },
   {
    "duration": 1378,
    "start_time": "2023-02-01T11:05:33.091Z"
   },
   {
    "duration": 48,
    "start_time": "2023-02-01T11:05:34.471Z"
   },
   {
    "duration": 343,
    "start_time": "2023-02-01T11:05:34.521Z"
   },
   {
    "duration": 13,
    "start_time": "2023-02-01T11:05:34.866Z"
   },
   {
    "duration": 6,
    "start_time": "2023-02-01T11:05:34.900Z"
   },
   {
    "duration": 17,
    "start_time": "2023-02-01T11:05:34.908Z"
   },
   {
    "duration": 17,
    "start_time": "2023-02-01T11:05:34.927Z"
   },
   {
    "duration": 14,
    "start_time": "2023-02-01T11:05:34.946Z"
   },
   {
    "duration": 39,
    "start_time": "2023-02-01T11:05:34.962Z"
   },
   {
    "duration": 10,
    "start_time": "2023-02-01T11:05:35.004Z"
   },
   {
    "duration": 235,
    "start_time": "2023-02-01T11:06:41.520Z"
   },
   {
    "duration": 0,
    "start_time": "2023-02-01T11:07:30.492Z"
   },
   {
    "duration": 229,
    "start_time": "2023-02-01T11:07:31.901Z"
   },
   {
    "duration": 0,
    "start_time": "2023-02-01T11:08:58.833Z"
   },
   {
    "duration": 375,
    "start_time": "2023-02-01T11:09:02.428Z"
   },
   {
    "duration": 21303,
    "start_time": "2023-02-01T11:10:07.600Z"
   },
   {
    "duration": 0,
    "start_time": "2023-02-01T11:11:01.264Z"
   },
   {
    "duration": 173,
    "start_time": "2023-02-01T11:11:16.058Z"
   },
   {
    "duration": 305,
    "start_time": "2023-02-01T11:11:43.663Z"
   },
   {
    "duration": 12,
    "start_time": "2023-02-01T11:12:13.955Z"
   },
   {
    "duration": 88252,
    "start_time": "2023-02-01T11:12:34.256Z"
   },
   {
    "duration": 12,
    "start_time": "2023-02-01T11:15:25.082Z"
   },
   {
    "duration": 59,
    "start_time": "2023-02-01T11:16:27.349Z"
   },
   {
    "duration": 125,
    "start_time": "2023-02-01T11:17:54.922Z"
   },
   {
    "duration": 169,
    "start_time": "2023-02-01T11:18:39.299Z"
   },
   {
    "duration": 18,
    "start_time": "2023-02-01T11:18:57.445Z"
   },
   {
    "duration": 15,
    "start_time": "2023-02-01T11:19:04.854Z"
   },
   {
    "duration": 166,
    "start_time": "2023-02-01T11:19:24.955Z"
   },
   {
    "duration": 1388,
    "start_time": "2023-02-01T11:19:55.534Z"
   },
   {
    "duration": 300,
    "start_time": "2023-02-01T11:20:14.922Z"
   },
   {
    "duration": 156,
    "start_time": "2023-02-01T11:21:07.556Z"
   },
   {
    "duration": 17,
    "start_time": "2023-02-01T11:21:38.698Z"
   },
   {
    "duration": 201,
    "start_time": "2023-02-01T11:27:53.995Z"
   },
   {
    "duration": 59695,
    "start_time": "2023-02-01T11:29:05.497Z"
   },
   {
    "duration": 134,
    "start_time": "2023-02-01T11:32:56.048Z"
   },
   {
    "duration": 129,
    "start_time": "2023-02-01T11:33:17.540Z"
   },
   {
    "duration": 522,
    "start_time": "2023-02-01T11:33:29.740Z"
   },
   {
    "duration": 119,
    "start_time": "2023-02-01T11:34:14.528Z"
   },
   {
    "duration": 98,
    "start_time": "2023-02-01T11:34:19.028Z"
   },
   {
    "duration": 439,
    "start_time": "2023-02-01T11:34:39.436Z"
   },
   {
    "duration": 155,
    "start_time": "2023-02-01T11:34:56.356Z"
   },
   {
    "duration": 109,
    "start_time": "2023-02-01T11:35:07.966Z"
   },
   {
    "duration": 102,
    "start_time": "2023-02-01T12:30:10.710Z"
   },
   {
    "duration": 91,
    "start_time": "2023-02-01T12:30:44.564Z"
   },
   {
    "duration": 137,
    "start_time": "2023-02-01T12:32:13.768Z"
   },
   {
    "duration": 86,
    "start_time": "2023-02-01T12:32:57.839Z"
   },
   {
    "duration": 122,
    "start_time": "2023-02-01T12:33:01.529Z"
   },
   {
    "duration": 119,
    "start_time": "2023-02-01T12:33:03.757Z"
   },
   {
    "duration": 98,
    "start_time": "2023-02-01T12:33:35.437Z"
   },
   {
    "duration": 156,
    "start_time": "2023-02-01T12:33:43.647Z"
   },
   {
    "duration": 142,
    "start_time": "2023-02-01T12:33:49.527Z"
   },
   {
    "duration": 123,
    "start_time": "2023-02-01T12:33:58.027Z"
   },
   {
    "duration": 95,
    "start_time": "2023-02-01T12:34:03.440Z"
   },
   {
    "duration": 104,
    "start_time": "2023-02-01T12:34:08.045Z"
   },
   {
    "duration": 1318,
    "start_time": "2023-02-01T12:34:14.106Z"
   },
   {
    "duration": 46,
    "start_time": "2023-02-01T12:34:15.426Z"
   },
   {
    "duration": 94,
    "start_time": "2023-02-01T12:34:15.473Z"
   },
   {
    "duration": 132,
    "start_time": "2023-02-01T12:34:15.569Z"
   },
   {
    "duration": 109,
    "start_time": "2023-02-01T12:34:15.703Z"
   },
   {
    "duration": 12,
    "start_time": "2023-02-01T12:34:15.813Z"
   },
   {
    "duration": 52,
    "start_time": "2023-02-01T12:34:15.826Z"
   },
   {
    "duration": 50,
    "start_time": "2023-02-01T12:34:15.880Z"
   },
   {
    "duration": 66,
    "start_time": "2023-02-01T12:34:15.932Z"
   },
   {
    "duration": 35,
    "start_time": "2023-02-01T12:34:16.000Z"
   },
   {
    "duration": 162,
    "start_time": "2023-02-01T12:34:16.037Z"
   },
   {
    "duration": 8,
    "start_time": "2023-02-01T12:34:16.201Z"
   },
   {
    "duration": 103,
    "start_time": "2023-02-01T12:38:20.909Z"
   },
   {
    "duration": 158,
    "start_time": "2023-02-01T12:38:28.243Z"
   },
   {
    "duration": 144,
    "start_time": "2023-02-01T12:38:36.843Z"
   },
   {
    "duration": 91,
    "start_time": "2023-02-01T12:39:45.855Z"
   },
   {
    "duration": 92,
    "start_time": "2023-02-01T12:39:51.609Z"
   },
   {
    "duration": 1430,
    "start_time": "2023-02-01T12:40:04.718Z"
   },
   {
    "duration": 45,
    "start_time": "2023-02-01T12:40:06.150Z"
   },
   {
    "duration": 93,
    "start_time": "2023-02-01T12:40:06.197Z"
   },
   {
    "duration": 140,
    "start_time": "2023-02-01T12:40:06.292Z"
   },
   {
    "duration": 118,
    "start_time": "2023-02-01T12:40:06.434Z"
   },
   {
    "duration": 12,
    "start_time": "2023-02-01T12:40:06.554Z"
   },
   {
    "duration": 5,
    "start_time": "2023-02-01T12:40:06.567Z"
   },
   {
    "duration": 25,
    "start_time": "2023-02-01T12:40:06.574Z"
   },
   {
    "duration": 10,
    "start_time": "2023-02-01T12:40:06.601Z"
   },
   {
    "duration": 6,
    "start_time": "2023-02-01T12:40:06.613Z"
   },
   {
    "duration": 79,
    "start_time": "2023-02-01T12:40:06.621Z"
   },
   {
    "duration": 9,
    "start_time": "2023-02-01T12:40:06.702Z"
   },
   {
    "duration": 116,
    "start_time": "2023-02-01T12:40:33.101Z"
   },
   {
    "duration": 164,
    "start_time": "2023-02-01T12:40:36.922Z"
   },
   {
    "duration": 1345,
    "start_time": "2023-02-01T12:40:50.398Z"
   },
   {
    "duration": 43,
    "start_time": "2023-02-01T12:40:51.746Z"
   },
   {
    "duration": 90,
    "start_time": "2023-02-01T12:40:51.791Z"
   },
   {
    "duration": 127,
    "start_time": "2023-02-01T12:40:51.883Z"
   },
   {
    "duration": 111,
    "start_time": "2023-02-01T12:40:52.012Z"
   },
   {
    "duration": 12,
    "start_time": "2023-02-01T12:40:52.124Z"
   },
   {
    "duration": 20,
    "start_time": "2023-02-01T12:40:52.137Z"
   },
   {
    "duration": 41,
    "start_time": "2023-02-01T12:40:52.159Z"
   },
   {
    "duration": 38,
    "start_time": "2023-02-01T12:40:52.201Z"
   },
   {
    "duration": 26,
    "start_time": "2023-02-01T12:40:52.241Z"
   },
   {
    "duration": 48,
    "start_time": "2023-02-01T12:40:52.269Z"
   },
   {
    "duration": 94,
    "start_time": "2023-02-01T12:40:52.319Z"
   },
   {
    "duration": 423,
    "start_time": "2023-02-01T12:42:46.626Z"
   },
   {
    "duration": 103,
    "start_time": "2023-02-01T12:43:29.358Z"
   },
   {
    "duration": 123,
    "start_time": "2023-02-01T12:47:01.020Z"
   },
   {
    "duration": 242,
    "start_time": "2023-02-01T12:47:26.206Z"
   },
   {
    "duration": 159,
    "start_time": "2023-02-01T12:47:31.706Z"
   },
   {
    "duration": 149,
    "start_time": "2023-02-01T12:47:37.506Z"
   },
   {
    "duration": 115,
    "start_time": "2023-02-01T12:47:44.152Z"
   },
   {
    "duration": 128,
    "start_time": "2023-02-01T12:47:50.130Z"
   },
   {
    "duration": 132,
    "start_time": "2023-02-01T12:48:04.602Z"
   },
   {
    "duration": 165,
    "start_time": "2023-02-01T12:48:14.805Z"
   },
   {
    "duration": 164,
    "start_time": "2023-02-01T12:48:18.890Z"
   },
   {
    "duration": 174,
    "start_time": "2023-02-01T12:48:23.511Z"
   },
   {
    "duration": 313,
    "start_time": "2023-02-01T12:48:31.214Z"
   },
   {
    "duration": 141,
    "start_time": "2023-02-01T12:48:42.706Z"
   },
   {
    "duration": 111,
    "start_time": "2023-02-01T12:48:48.533Z"
   },
   {
    "duration": 125,
    "start_time": "2023-02-01T12:48:52.009Z"
   },
   {
    "duration": 146,
    "start_time": "2023-02-01T12:50:33.805Z"
   },
   {
    "duration": 137,
    "start_time": "2023-02-01T12:50:41.310Z"
   },
   {
    "duration": 149,
    "start_time": "2023-02-01T12:50:58.801Z"
   },
   {
    "duration": 141,
    "start_time": "2023-02-01T12:51:03.702Z"
   },
   {
    "duration": 133,
    "start_time": "2023-02-01T12:51:07.839Z"
   },
   {
    "duration": 126,
    "start_time": "2023-02-01T12:51:14.410Z"
   },
   {
    "duration": 137,
    "start_time": "2023-02-01T12:51:20.814Z"
   },
   {
    "duration": 1582,
    "start_time": "2023-02-01T13:44:29.500Z"
   },
   {
    "duration": 142,
    "start_time": "2023-02-01T13:44:31.084Z"
   },
   {
    "duration": 103,
    "start_time": "2023-02-01T13:44:31.228Z"
   },
   {
    "duration": 143,
    "start_time": "2023-02-01T13:44:31.333Z"
   },
   {
    "duration": 183,
    "start_time": "2023-02-01T13:44:31.479Z"
   },
   {
    "duration": 128,
    "start_time": "2023-02-01T13:44:31.664Z"
   },
   {
    "duration": 115,
    "start_time": "2023-02-01T13:44:31.794Z"
   },
   {
    "duration": 17,
    "start_time": "2023-02-01T13:44:31.911Z"
   },
   {
    "duration": 34,
    "start_time": "2023-02-01T13:44:31.930Z"
   },
   {
    "duration": 32,
    "start_time": "2023-02-01T13:44:31.966Z"
   },
   {
    "duration": 31,
    "start_time": "2023-02-01T13:44:32.000Z"
   },
   {
    "duration": 185,
    "start_time": "2023-02-01T13:44:32.035Z"
   },
   {
    "duration": 183,
    "start_time": "2023-02-01T13:44:32.222Z"
   },
   {
    "duration": 12,
    "start_time": "2023-02-01T13:44:32.407Z"
   },
   {
    "duration": 28094,
    "start_time": "2023-02-01T13:47:32.998Z"
   },
   {
    "duration": 101,
    "start_time": "2023-02-01T13:49:15.670Z"
   },
   {
    "duration": 154,
    "start_time": "2023-02-01T13:50:55.561Z"
   },
   {
    "duration": 85,
    "start_time": "2023-02-01T13:51:23.582Z"
   },
   {
    "duration": 133,
    "start_time": "2023-02-01T13:57:38.892Z"
   },
   {
    "duration": 179,
    "start_time": "2023-02-01T13:57:52.074Z"
   },
   {
    "duration": 193,
    "start_time": "2023-02-01T13:58:03.566Z"
   },
   {
    "duration": 138,
    "start_time": "2023-02-01T13:58:16.828Z"
   },
   {
    "duration": 205,
    "start_time": "2023-02-01T13:59:54.996Z"
   },
   {
    "duration": 162,
    "start_time": "2023-02-01T14:00:23.220Z"
   },
   {
    "duration": 174,
    "start_time": "2023-02-01T14:00:41.090Z"
   },
   {
    "duration": 1349,
    "start_time": "2023-02-01T14:00:48.375Z"
   },
   {
    "duration": 44,
    "start_time": "2023-02-01T14:00:49.726Z"
   },
   {
    "duration": 146,
    "start_time": "2023-02-01T14:00:49.771Z"
   },
   {
    "duration": 147,
    "start_time": "2023-02-01T14:00:49.919Z"
   },
   {
    "duration": 152,
    "start_time": "2023-02-01T14:00:50.068Z"
   },
   {
    "duration": 196,
    "start_time": "2023-02-01T14:00:50.222Z"
   },
   {
    "duration": 251,
    "start_time": "2023-02-01T14:00:50.420Z"
   },
   {
    "duration": 14,
    "start_time": "2023-02-01T14:00:50.672Z"
   },
   {
    "duration": 5,
    "start_time": "2023-02-01T14:00:50.700Z"
   },
   {
    "duration": 24,
    "start_time": "2023-02-01T14:00:50.707Z"
   },
   {
    "duration": 14,
    "start_time": "2023-02-01T14:00:50.733Z"
   },
   {
    "duration": 7,
    "start_time": "2023-02-01T14:00:50.749Z"
   },
   {
    "duration": 41,
    "start_time": "2023-02-01T14:00:50.758Z"
   },
   {
    "duration": 11,
    "start_time": "2023-02-01T14:00:50.802Z"
   },
   {
    "duration": 155,
    "start_time": "2023-02-01T14:01:35.778Z"
   },
   {
    "duration": 139,
    "start_time": "2023-02-01T14:01:36.686Z"
   },
   {
    "duration": 140,
    "start_time": "2023-02-01T14:01:38.003Z"
   },
   {
    "duration": 120,
    "start_time": "2023-02-01T14:01:38.618Z"
   },
   {
    "duration": 133,
    "start_time": "2023-02-01T14:01:39.567Z"
   },
   {
    "duration": 127,
    "start_time": "2023-02-01T14:05:28.716Z"
   },
   {
    "duration": 157,
    "start_time": "2023-02-01T14:05:37.685Z"
   },
   {
    "duration": 157,
    "start_time": "2023-02-01T14:05:45.022Z"
   },
   {
    "duration": 236,
    "start_time": "2023-02-01T14:05:50.482Z"
   },
   {
    "duration": 136,
    "start_time": "2023-02-01T14:05:59.390Z"
   },
   {
    "duration": 187,
    "start_time": "2023-02-01T14:06:10.600Z"
   },
   {
    "duration": 195,
    "start_time": "2023-02-01T14:06:17.592Z"
   },
   {
    "duration": 129,
    "start_time": "2023-02-01T14:06:23.633Z"
   },
   {
    "duration": 148,
    "start_time": "2023-02-01T14:06:31.278Z"
   },
   {
    "duration": 143,
    "start_time": "2023-02-01T14:06:42.108Z"
   },
   {
    "duration": 13,
    "start_time": "2023-02-01T14:07:47.617Z"
   },
   {
    "duration": 15,
    "start_time": "2023-02-01T14:08:21.995Z"
   },
   {
    "duration": 12,
    "start_time": "2023-02-01T14:08:33.695Z"
   },
   {
    "duration": 13,
    "start_time": "2023-02-01T14:08:43.631Z"
   },
   {
    "duration": 1285,
    "start_time": "2023-02-01T14:08:54.632Z"
   },
   {
    "duration": 44,
    "start_time": "2023-02-01T14:08:55.919Z"
   },
   {
    "duration": 131,
    "start_time": "2023-02-01T14:08:55.964Z"
   },
   {
    "duration": 139,
    "start_time": "2023-02-01T14:08:56.096Z"
   },
   {
    "duration": 190,
    "start_time": "2023-02-01T14:08:56.237Z"
   },
   {
    "duration": 127,
    "start_time": "2023-02-01T14:08:56.429Z"
   },
   {
    "duration": 110,
    "start_time": "2023-02-01T14:08:56.558Z"
   },
   {
    "duration": 12,
    "start_time": "2023-02-01T14:08:56.669Z"
   },
   {
    "duration": 28,
    "start_time": "2023-02-01T14:08:56.683Z"
   },
   {
    "duration": 14,
    "start_time": "2023-02-01T14:08:56.713Z"
   },
   {
    "duration": 11,
    "start_time": "2023-02-01T14:08:56.728Z"
   },
   {
    "duration": 96,
    "start_time": "2023-02-01T14:08:56.740Z"
   },
   {
    "duration": 3,
    "start_time": "2023-02-01T14:08:56.838Z"
   },
   {
    "duration": 57,
    "start_time": "2023-02-01T14:08:56.844Z"
   },
   {
    "duration": 12,
    "start_time": "2023-02-01T14:08:56.903Z"
   },
   {
    "duration": 15,
    "start_time": "2023-02-01T14:11:40.108Z"
   },
   {
    "duration": 82,
    "start_time": "2023-02-01T14:18:24.962Z"
   },
   {
    "duration": 221,
    "start_time": "2023-02-01T14:20:04.426Z"
   },
   {
    "duration": 315,
    "start_time": "2023-02-01T14:20:59.873Z"
   },
   {
    "duration": 274,
    "start_time": "2023-02-01T14:21:23.798Z"
   },
   {
    "duration": 100,
    "start_time": "2023-02-01T14:22:19.174Z"
   },
   {
    "duration": 110,
    "start_time": "2023-02-01T14:22:26.847Z"
   },
   {
    "duration": 85222,
    "start_time": "2023-02-01T14:22:34.316Z"
   },
   {
    "duration": 29645,
    "start_time": "2023-02-01T14:24:20.604Z"
   },
   {
    "duration": 82275,
    "start_time": "2023-02-01T14:25:45.724Z"
   },
   {
    "duration": 96,
    "start_time": "2023-02-01T14:27:52.662Z"
   },
   {
    "duration": 83202,
    "start_time": "2023-02-01T14:35:10.536Z"
   },
   {
    "duration": 85,
    "start_time": "2023-02-01T14:37:31.972Z"
   },
   {
    "duration": 1404,
    "start_time": "2023-02-01T14:37:38.968Z"
   },
   {
    "duration": 48,
    "start_time": "2023-02-01T14:37:40.374Z"
   },
   {
    "duration": 106,
    "start_time": "2023-02-01T14:37:40.423Z"
   },
   {
    "duration": 146,
    "start_time": "2023-02-01T14:37:40.531Z"
   },
   {
    "duration": 161,
    "start_time": "2023-02-01T14:37:40.679Z"
   },
   {
    "duration": 133,
    "start_time": "2023-02-01T14:37:40.842Z"
   },
   {
    "duration": 128,
    "start_time": "2023-02-01T14:37:40.977Z"
   },
   {
    "duration": 14,
    "start_time": "2023-02-01T14:37:41.107Z"
   },
   {
    "duration": 7,
    "start_time": "2023-02-01T14:37:41.122Z"
   },
   {
    "duration": 26,
    "start_time": "2023-02-01T14:37:41.131Z"
   },
   {
    "duration": 20,
    "start_time": "2023-02-01T14:37:41.158Z"
   },
   {
    "duration": 6,
    "start_time": "2023-02-01T14:37:41.180Z"
   },
   {
    "duration": 4,
    "start_time": "2023-02-01T14:37:41.199Z"
   },
   {
    "duration": 102,
    "start_time": "2023-02-01T14:37:41.205Z"
   },
   {
    "duration": 45,
    "start_time": "2023-02-02T10:40:04.786Z"
   },
   {
    "duration": 1639,
    "start_time": "2023-02-02T10:40:13.041Z"
   },
   {
    "duration": 114,
    "start_time": "2023-02-02T10:40:16.138Z"
   },
   {
    "duration": 96,
    "start_time": "2023-02-02T10:40:19.845Z"
   },
   {
    "duration": 179,
    "start_time": "2023-02-02T10:40:20.660Z"
   },
   {
    "duration": 147,
    "start_time": "2023-02-02T10:40:21.227Z"
   },
   {
    "duration": 124,
    "start_time": "2023-02-02T10:40:21.946Z"
   },
   {
    "duration": 110,
    "start_time": "2023-02-02T10:40:22.692Z"
   },
   {
    "duration": 173,
    "start_time": "2023-02-02T10:40:25.851Z"
   },
   {
    "duration": 80,
    "start_time": "2023-02-02T10:41:19.417Z"
   },
   {
    "duration": 203,
    "start_time": "2023-02-02T10:41:24.985Z"
   },
   {
    "duration": 126,
    "start_time": "2023-02-02T10:41:31.219Z"
   },
   {
    "duration": 129,
    "start_time": "2023-02-02T10:41:39.389Z"
   },
   {
    "duration": 45,
    "start_time": "2023-11-10T11:00:29.817Z"
   },
   {
    "duration": 1273,
    "start_time": "2023-11-10T11:00:39.010Z"
   },
   {
    "duration": 100,
    "start_time": "2023-11-10T11:00:42.610Z"
   },
   {
    "duration": 88,
    "start_time": "2023-11-10T11:00:45.410Z"
   },
   {
    "duration": 120,
    "start_time": "2023-11-10T11:00:46.700Z"
   },
   {
    "duration": 129,
    "start_time": "2023-11-10T11:00:47.461Z"
   },
   {
    "duration": 106,
    "start_time": "2023-11-10T11:00:48.490Z"
   },
   {
    "duration": 93,
    "start_time": "2023-11-10T11:00:52.841Z"
   },
   {
    "duration": 116,
    "start_time": "2023-11-10T11:00:55.200Z"
   },
   {
    "duration": 174,
    "start_time": "2023-11-10T11:01:03.343Z"
   },
   {
    "duration": 112,
    "start_time": "2023-11-10T11:01:37.523Z"
   },
   {
    "duration": 110,
    "start_time": "2023-11-10T11:01:54.183Z"
   },
   {
    "duration": 134,
    "start_time": "2023-11-10T11:02:24.480Z"
   },
   {
    "duration": 1298,
    "start_time": "2023-11-10T11:15:25.809Z"
   },
   {
    "duration": 46,
    "start_time": "2023-11-10T11:15:27.109Z"
   },
   {
    "duration": 133,
    "start_time": "2023-11-10T11:15:27.157Z"
   },
   {
    "duration": 136,
    "start_time": "2023-11-10T11:15:27.291Z"
   },
   {
    "duration": 147,
    "start_time": "2023-11-10T11:15:27.428Z"
   },
   {
    "duration": 121,
    "start_time": "2023-11-10T11:15:27.576Z"
   },
   {
    "duration": 107,
    "start_time": "2023-11-10T11:15:27.698Z"
   },
   {
    "duration": 11,
    "start_time": "2023-11-10T11:15:27.807Z"
   },
   {
    "duration": 38,
    "start_time": "2023-11-10T11:15:27.819Z"
   },
   {
    "duration": 12,
    "start_time": "2023-11-10T11:15:27.859Z"
   },
   {
    "duration": 8,
    "start_time": "2023-11-10T11:15:27.873Z"
   },
   {
    "duration": 3,
    "start_time": "2023-11-10T11:15:27.883Z"
   },
   {
    "duration": 6,
    "start_time": "2023-11-10T11:15:27.887Z"
   },
   {
    "duration": 13,
    "start_time": "2023-11-10T11:15:27.939Z"
   }
  ],
  "kernelspec": {
   "display_name": "Python 3 (ipykernel)",
   "language": "python",
   "name": "python3"
  },
  "language_info": {
   "codemirror_mode": {
    "name": "ipython",
    "version": 3
   },
   "file_extension": ".py",
   "mimetype": "text/x-python",
   "name": "python",
   "nbconvert_exporter": "python",
   "pygments_lexer": "ipython3",
   "version": "3.9.5"
  },
  "toc": {
   "base_numbering": 1,
   "nav_menu": {},
   "number_sections": true,
   "sideBar": true,
   "skip_h1_title": true,
   "title_cell": "Содержание",
   "title_sidebar": "Contents",
   "toc_cell": true,
   "toc_position": {
    "height": "calc(100% - 180px)",
    "left": "10px",
    "top": "150px",
    "width": "165px"
   },
   "toc_section_display": true,
   "toc_window_display": true
  }
 },
 "nbformat": 4,
 "nbformat_minor": 2
}
