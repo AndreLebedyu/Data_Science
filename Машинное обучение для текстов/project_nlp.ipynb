{
 "cells": [
  {
   "cell_type": "markdown",
   "metadata": {
    "toc": true
   },
   "source": [
    "<h1>Содержание<span class=\"tocSkip\"></span></h1>\n",
    "<div class=\"toc\"><ul class=\"toc-item\"><li><span><a href=\"#Подготовка\" data-toc-modified-id=\"Подготовка-1\"><span class=\"toc-item-num\">1&nbsp;&nbsp;</span>Подготовка</a></span></li><li><span><a href=\"#Обучение\" data-toc-modified-id=\"Обучение-2\"><span class=\"toc-item-num\">2&nbsp;&nbsp;</span>Обучение</a></span></li><li><span><a href=\"#Выводы\" data-toc-modified-id=\"Выводы-3\"><span class=\"toc-item-num\">3&nbsp;&nbsp;</span>Выводы</a></span></li></ul></div>"
   ]
  },
  {
   "cell_type": "markdown",
   "metadata": {},
   "source": [
    "# Проект для «Викишоп»"
   ]
  },
  {
   "cell_type": "markdown",
   "metadata": {},
   "source": [
    "Интернет-магазин «Викишоп» запускает новый сервис. Теперь пользователи могут редактировать и дополнять описания товаров, как в вики-сообществах. То есть клиенты предлагают свои правки и комментируют изменения других. Магазину нужен инструмент, который будет искать токсичные комментарии и отправлять их на модерацию. \n",
    "\n",
    "Обучим модель классифицировать комментарии на позитивные и негативные. В нашем распоряжении набор данных с разметкой о токсичности правок.\n",
    "\n",
    "Необходимо построить модель со значением метрики качества *F1* не меньше 0.75. \n",
    "\n",
    "**Описание данных**\n",
    "\n",
    "Данные находятся в файле `toxic_comments.csv`. Столбец *text* в нём содержит текст комментария, а *toxic* — целевой признак."
   ]
  },
  {
   "cell_type": "markdown",
   "metadata": {},
   "source": [
    "## Подготовка"
   ]
  },
  {
   "cell_type": "markdown",
   "metadata": {},
   "source": [
    "Начнем работу с импорта необходимых для работы библиотек"
   ]
  },
  {
   "cell_type": "code",
   "execution_count": 1,
   "metadata": {},
   "outputs": [],
   "source": [
    "import pandas as pd\n",
    "import re\n",
    "import nltk\n",
    "import matplotlib.pyplot as plt\n",
    "\n",
    "from nltk.tokenize import word_tokenize\n",
    "from nltk.stem import WordNetLemmatizer\n",
    "from sklearn.model_selection import train_test_split\n",
    "from nltk.corpus import stopwords as nltk_stopwords\n",
    "from sklearn.feature_extraction.text import TfidfVectorizer\n",
    "from sklearn.linear_model import LogisticRegression\n",
    "from sklearn.metrics import f1_score\n",
    "from sklearn.tree import DecisionTreeClassifier\n",
    "from sklearn.ensemble import RandomForestClassifier\n",
    "from catboost import CatBoostClassifier"
   ]
  },
  {
   "cell_type": "markdown",
   "metadata": {},
   "source": [
    "Откроем датасет, выведем первые несколько строк датасета, а также выведем информацию о нем"
   ]
  },
  {
   "cell_type": "code",
   "execution_count": 2,
   "metadata": {},
   "outputs": [
    {
     "data": {
      "text/html": [
       "<div>\n",
       "<style scoped>\n",
       "    .dataframe tbody tr th:only-of-type {\n",
       "        vertical-align: middle;\n",
       "    }\n",
       "\n",
       "    .dataframe tbody tr th {\n",
       "        vertical-align: top;\n",
       "    }\n",
       "\n",
       "    .dataframe thead th {\n",
       "        text-align: right;\n",
       "    }\n",
       "</style>\n",
       "<table border=\"1\" class=\"dataframe\">\n",
       "  <thead>\n",
       "    <tr style=\"text-align: right;\">\n",
       "      <th></th>\n",
       "      <th>text</th>\n",
       "      <th>toxic</th>\n",
       "    </tr>\n",
       "  </thead>\n",
       "  <tbody>\n",
       "    <tr>\n",
       "      <th>0</th>\n",
       "      <td>Explanation\\nWhy the edits made under my usern...</td>\n",
       "      <td>0</td>\n",
       "    </tr>\n",
       "    <tr>\n",
       "      <th>1</th>\n",
       "      <td>D'aww! He matches this background colour I'm s...</td>\n",
       "      <td>0</td>\n",
       "    </tr>\n",
       "    <tr>\n",
       "      <th>2</th>\n",
       "      <td>Hey man, I'm really not trying to edit war. It...</td>\n",
       "      <td>0</td>\n",
       "    </tr>\n",
       "    <tr>\n",
       "      <th>3</th>\n",
       "      <td>\"\\nMore\\nI can't make any real suggestions on ...</td>\n",
       "      <td>0</td>\n",
       "    </tr>\n",
       "    <tr>\n",
       "      <th>4</th>\n",
       "      <td>You, sir, are my hero. Any chance you remember...</td>\n",
       "      <td>0</td>\n",
       "    </tr>\n",
       "    <tr>\n",
       "      <th>5</th>\n",
       "      <td>\"\\n\\nCongratulations from me as well, use the ...</td>\n",
       "      <td>0</td>\n",
       "    </tr>\n",
       "    <tr>\n",
       "      <th>6</th>\n",
       "      <td>COCKSUCKER BEFORE YOU PISS AROUND ON MY WORK</td>\n",
       "      <td>1</td>\n",
       "    </tr>\n",
       "    <tr>\n",
       "      <th>7</th>\n",
       "      <td>Your vandalism to the Matt Shirvington article...</td>\n",
       "      <td>0</td>\n",
       "    </tr>\n",
       "    <tr>\n",
       "      <th>8</th>\n",
       "      <td>Sorry if the word 'nonsense' was offensive to ...</td>\n",
       "      <td>0</td>\n",
       "    </tr>\n",
       "    <tr>\n",
       "      <th>9</th>\n",
       "      <td>alignment on this subject and which are contra...</td>\n",
       "      <td>0</td>\n",
       "    </tr>\n",
       "  </tbody>\n",
       "</table>\n",
       "</div>"
      ],
      "text/plain": [
       "                                                text  toxic\n",
       "0  Explanation\\nWhy the edits made under my usern...      0\n",
       "1  D'aww! He matches this background colour I'm s...      0\n",
       "2  Hey man, I'm really not trying to edit war. It...      0\n",
       "3  \"\\nMore\\nI can't make any real suggestions on ...      0\n",
       "4  You, sir, are my hero. Any chance you remember...      0\n",
       "5  \"\\n\\nCongratulations from me as well, use the ...      0\n",
       "6       COCKSUCKER BEFORE YOU PISS AROUND ON MY WORK      1\n",
       "7  Your vandalism to the Matt Shirvington article...      0\n",
       "8  Sorry if the word 'nonsense' was offensive to ...      0\n",
       "9  alignment on this subject and which are contra...      0"
      ]
     },
     "metadata": {},
     "output_type": "display_data"
    },
    {
     "name": "stdout",
     "output_type": "stream",
     "text": [
      "<class 'pandas.core.frame.DataFrame'>\n",
      "Int64Index: 159292 entries, 0 to 159450\n",
      "Data columns (total 2 columns):\n",
      " #   Column  Non-Null Count   Dtype \n",
      "---  ------  --------------   ----- \n",
      " 0   text    159292 non-null  object\n",
      " 1   toxic   159292 non-null  int64 \n",
      "dtypes: int64(1), object(1)\n",
      "memory usage: 3.6+ MB\n"
     ]
    }
   ],
   "source": [
    "data = pd.read_csv('/datasets/toxic_comments.csv', index_col=0)\n",
    "display(data.head(10))\n",
    "data.info()"
   ]
  },
  {
   "cell_type": "markdown",
   "metadata": {},
   "source": [
    "Как мы видим пропуски в обоих столбцах отсутствуют - приступим к обработке столбца с текстом"
   ]
  },
  {
   "cell_type": "markdown",
   "metadata": {},
   "source": [
    "Для начала очистим текст от лишних символов с помощью регулярных выражений. Напишем для этого соответствующую функцию"
   ]
  },
  {
   "cell_type": "code",
   "execution_count": 3,
   "metadata": {},
   "outputs": [],
   "source": [
    "def clear_text(text):\n",
    "    t = re.sub(r'[^a-zA-Z]', ' ', text)\n",
    "    t1 = t.split() \n",
    "    t2 = ' '.join(t1)\n",
    "    return t2.lower()"
   ]
  },
  {
   "cell_type": "markdown",
   "metadata": {},
   "source": [
    "Посмотрим на результат выполнения нашей функции на рандомной строке"
   ]
  },
  {
   "cell_type": "code",
   "execution_count": 4,
   "metadata": {},
   "outputs": [
    {
     "name": "stdout",
     "output_type": "stream",
     "text": [
      "congratulations from me as well use the tools well talk\n"
     ]
    }
   ],
   "source": [
    "data['text'] = data['text'].apply(clear_text)\n",
    "print(data['text'].loc[5])"
   ]
  },
  {
   "cell_type": "markdown",
   "metadata": {},
   "source": [
    "Как мы видим все лишние символы были убраны. Далее нам необходимо провести токенизацию и лемматизацию исходного текста. Напишем для этого соответствующую функцию. Поскольку комментарии у нас на английском будем использовать лемматизатор Wordnet"
   ]
  },
  {
   "cell_type": "code",
   "execution_count": 5,
   "metadata": {},
   "outputs": [],
   "source": [
    "lem = WordNetLemmatizer()\n",
    "\n",
    "def tok_lem(text):\n",
    "    tok_text = nltk.word_tokenize(text)\n",
    "    lem_text = ' '.join([lem.lemmatize(i) for i in tok_text])\n",
    "    return lem_text"
   ]
  },
  {
   "cell_type": "markdown",
   "metadata": {},
   "source": [
    "Посмотрим на результат выполнения нашей функции на той же строке"
   ]
  },
  {
   "cell_type": "code",
   "execution_count": 6,
   "metadata": {},
   "outputs": [
    {
     "name": "stdout",
     "output_type": "stream",
     "text": [
      "congratulation from me a well use the tool well talk\n"
     ]
    }
   ],
   "source": [
    "data['text'] = data['text'].apply(tok_lem)\n",
    "print(data['text'].loc[5])"
   ]
  },
  {
   "cell_type": "markdown",
   "metadata": {},
   "source": [
    "Как мы видим лемматизация прошла успешно - двигаемся дальше"
   ]
  },
  {
   "cell_type": "markdown",
   "metadata": {},
   "source": [
    "Посмотрим на распределение характера комментариев в столбце 'toxic'"
   ]
  },
  {
   "cell_type": "code",
   "execution_count": 7,
   "metadata": {},
   "outputs": [
    {
     "data": {
      "image/png": "[encoded data removed]",
      "text/plain": [
       "<Figure size 432x288 with 1 Axes>"
      ]
     },
     "metadata": {
      "needs_background": "light"
     },
     "output_type": "display_data"
    },
    {
     "name": "stdout",
     "output_type": "stream",
     "text": [
      "0    143106\n",
      "1     16186\n",
      "Name: toxic, dtype: int64\n"
     ]
    }
   ],
   "source": [
    "data['toxic'].hist()\n",
    "plt.show()\n",
    "print(data['toxic'].value_counts())"
   ]
  },
  {
   "cell_type": "markdown",
   "metadata": {},
   "source": [
    "Как мы видим баланс классов далек от 1:1, поэтому нам будет необходимо это учитывать в дальнейшем при работе с моделями"
   ]
  },
  {
   "cell_type": "markdown",
   "metadata": {},
   "source": [
    "Разобьем данные на выборки: выделим 20% данных для тестовой выборки, остальные 80% — для обучающей и валидационной"
   ]
  },
  {
   "cell_type": "code",
   "execution_count": 8,
   "metadata": {},
   "outputs": [],
   "source": [
    "data_train_valid, data_test = train_test_split(data, test_size=0.2, random_state=12345)"
   ]
  },
  {
   "cell_type": "markdown",
   "metadata": {},
   "source": [
    "Далее из обучающей и валидационной выборок выделим каждую из них по отдельности. На валидационную выделим 25%, а на обучающую 75%"
   ]
  },
  {
   "cell_type": "code",
   "execution_count": 9,
   "metadata": {},
   "outputs": [],
   "source": [
    "data_train, data_valid = train_test_split(data_train_valid, test_size=0.25, random_state=12345)"
   ]
  },
  {
   "cell_type": "markdown",
   "metadata": {},
   "source": [
    "Целевым признаком в нашем датасете является столбец \"toxic\" - именно в нем содержится информация о характере комментария и его нам необходимо будет предсказывать. Столбец 'text' с непосредственным текстом комментариев будет признаком. Создадим переменные для признаков и целевого признака для каждой выборки"
   ]
  },
  {
   "cell_type": "code",
   "execution_count": 10,
   "metadata": {},
   "outputs": [],
   "source": [
    "features_train = data_train['text']\n",
    "target_train = data_train['toxic']\n",
    "features_valid = data_valid['text']\n",
    "target_valid = data_valid['toxic']\n",
    "features_test = data_test['text']\n",
    "target_test = data_test['toxic']"
   ]
  },
  {
   "cell_type": "markdown",
   "metadata": {},
   "source": [
    "Получим TF-IDF для нашего столбца с комментариями, но перед этим добавим английские стоп-слова"
   ]
  },
  {
   "cell_type": "code",
   "execution_count": 11,
   "metadata": {},
   "outputs": [
    {
     "name": "stderr",
     "output_type": "stream",
     "text": [
      "[nltk_data] Downloading package stopwords to /home/jovyan/nltk_data...\n",
      "[nltk_data]   Package stopwords is already up-to-date!\n"
     ]
    }
   ],
   "source": [
    "nltk.download('stopwords')\n",
    "stopwords = set(nltk_stopwords.words('english'))"
   ]
  },
  {
   "cell_type": "code",
   "execution_count": 12,
   "metadata": {},
   "outputs": [],
   "source": [
    "count_tf_idf = TfidfVectorizer(stop_words=list(stopwords))\n",
    "\n",
    "features_train = count_tf_idf.fit_transform(features_train)\n",
    "features_valid = count_tf_idf.transform(features_valid)\n",
    "features_test = count_tf_idf.transform(features_test)"
   ]
  },
  {
   "cell_type": "markdown",
   "metadata": {},
   "source": [
    "<b>Вывод: </b> мы проанализировали исходный датасет, оценили баланс классов в нем, построили соответствующий график, обработали текстовые данные, подготовили и провели разделение датасета на выборки."
   ]
  },
  {
   "cell_type": "markdown",
   "metadata": {},
   "source": [
    "## Обучение"
   ]
  },
  {
   "cell_type": "markdown",
   "metadata": {},
   "source": [
    "Применим модель \"Логистическая регрессия\" и вычислим значение F1-меры"
   ]
  },
  {
   "cell_type": "code",
   "execution_count": 13,
   "metadata": {
    "scrolled": false
   },
   "outputs": [
    {
     "name": "stdout",
     "output_type": "stream",
     "text": [
      "0.7407103825136612\n",
      "CPU times: user 5.41 s, sys: 8.04 s, total: 13.4 s\n",
      "Wall time: 13.5 s\n"
     ]
    }
   ],
   "source": [
    "%%time\n",
    "\n",
    "model = LogisticRegression(class_weight='balanced', random_state=12345, solver = 'liblinear') # учитываем несбалансированность классов\n",
    "model.fit(features_train, target_train)\n",
    "predictions = model.predict(features_valid)\n",
    "print(f1_score(target_valid, predictions))"
   ]
  },
  {
   "cell_type": "markdown",
   "metadata": {},
   "source": [
    "Подберем наилучшие параметры для модели \"Логистическая регрессия\" и вычислим значение F1-меры"
   ]
  },
  {
   "cell_type": "code",
   "execution_count": 14,
   "metadata": {
    "scrolled": true
   },
   "outputs": [
    {
     "name": "stdout",
     "output_type": "stream",
     "text": [
      "Параметры наилучшей модели: LogisticRegression(C=5, class_weight='balanced', random_state=12345,\n",
      "                   solver='liblinear')\n",
      "F1 лучшей модели 'Логистическая регрессия': 0.7531249999999999\n",
      "CPU times: user 1min 48s, sys: 3min 1s, total: 4min 50s\n",
      "Wall time: 4min 50s\n"
     ]
    }
   ],
   "source": [
    "%%time\n",
    "\n",
    "best_model = None\n",
    "best_f1 = 0\n",
    "for i in range(2, 15):\n",
    "    model = LogisticRegression(class_weight='balanced', random_state=12345, solver = 'liblinear', C=i)\n",
    "    model.fit(features_train, target_train)\n",
    "    predictions = model.predict(features_valid)\n",
    "    f1 = f1_score(target_valid, predictions)\n",
    "    if f1 > best_f1:\n",
    "        best_model = model\n",
    "        best_f1 = f1\n",
    "print(\"Параметры наилучшей модели:\", best_model)\n",
    "print(\"F1 лучшей модели 'Логистическая регрессия':\", best_f1)"
   ]
  },
  {
   "cell_type": "markdown",
   "metadata": {},
   "source": [
    "Зафиксируем гипермараметры наилучшей модели \"Логистическая регрессия\" и попробуем другие модели\\\n",
    "<font color='blue'>Примечание: время выполненения около 5 мин, F1 лучшей модели 'Логистическая регрессия': 0.753"
   ]
  },
  {
   "cell_type": "markdown",
   "metadata": {},
   "source": [
    "Применим модель \"Дерево решений\": подберем наилучшие параметры и вычислим значение F1-меры"
   ]
  },
  {
   "cell_type": "code",
   "execution_count": 16,
   "metadata": {},
   "outputs": [
    {
     "name": "stdout",
     "output_type": "stream",
     "text": [
      "Параметры наилучшей модели: DecisionTreeClassifier(class_weight='balanced', max_depth=13,\n",
      "                       min_samples_leaf=5, random_state=12345)\n",
      "F1 лучшей модели 'Дерево решений': 0.5925637531633249\n",
      "CPU times: user 9min 53s, sys: 0 ns, total: 9min 53s\n",
      "Wall time: 9min 54s\n"
     ]
    }
   ],
   "source": [
    "%%time\n",
    "\n",
    "best_model = None\n",
    "best_f1 = 0\n",
    "for i in range(2, 15):\n",
    "    for j in range(2,15):\n",
    "            model = DecisionTreeClassifier(class_weight='balanced', random_state=12345, max_depth=i, min_samples_leaf=j)\n",
    "            model.fit(features_train, target_train)\n",
    "            predictions = model.predict(features_valid)\n",
    "            f1 = f1_score(target_valid, predictions)\n",
    "            if f1 > best_f1:\n",
    "                best_model = model\n",
    "                best_f1 = f1\n",
    "print(\"Параметры наилучшей модели:\", best_model)\n",
    "print(\"F1 лучшей модели 'Дерево решений':\", best_f1)"
   ]
  },
  {
   "cell_type": "markdown",
   "metadata": {},
   "source": [
    "Зафиксируем гипермараметры наилучшего \"Дерева решений\" и попробуем другие модели\\\n",
    "<font color='blue'>Примечание: время выполненения около 10 мин, F1 лучшей модели 'Дерево решений': 0.592"
   ]
  },
  {
   "cell_type": "markdown",
   "metadata": {},
   "source": [
    "Применим модель \"Случайный лес\" и вычислим значение F1-меры"
   ]
  },
  {
   "cell_type": "code",
   "execution_count": 17,
   "metadata": {},
   "outputs": [
    {
     "name": "stdout",
     "output_type": "stream",
     "text": [
      "0.6101626832697329\n",
      "CPU times: user 7min 39s, sys: 0 ns, total: 7min 39s\n",
      "Wall time: 7min 40s\n"
     ]
    }
   ],
   "source": [
    "%%time\n",
    "\n",
    "model = RandomForestClassifier(class_weight='balanced', random_state=12345) # учитываем несбалансированность классов\n",
    "model.fit(features_train, target_train)\n",
    "predictions = model.predict(features_valid)\n",
    "print(f1_score(target_valid, predictions))"
   ]
  },
  {
   "cell_type": "markdown",
   "metadata": {},
   "source": [
    "<font color='blue'>Примечание: время выполненения около 7,5 мин, F1 модели 'Случайный лес': 0.61"
   ]
  },
  {
   "cell_type": "markdown",
   "metadata": {},
   "source": [
    "Применим модель \"CatBoost\" и вычислим значение F1-меры"
   ]
  },
  {
   "cell_type": "code",
   "execution_count": 18,
   "metadata": {
    "scrolled": false
   },
   "outputs": [
    {
     "name": "stdout",
     "output_type": "stream",
     "text": [
      "Learning rate set to 0.136328\n",
      "0:\tlearn: 0.5572577\ttotal: 2.51s\tremaining: 20m 52s\n",
      "50:\tlearn: 0.1786134\ttotal: 1m 36s\tremaining: 14m 12s\n",
      "100:\tlearn: 0.1562218\ttotal: 3m 8s\tremaining: 12m 26s\n",
      "150:\tlearn: 0.1435119\ttotal: 4m 39s\tremaining: 10m 46s\n",
      "200:\tlearn: 0.1341298\ttotal: 6m 12s\tremaining: 9m 13s\n",
      "250:\tlearn: 0.1272621\ttotal: 7m 42s\tremaining: 7m 39s\n",
      "300:\tlearn: 0.1220369\ttotal: 9m 18s\tremaining: 6m 8s\n",
      "350:\tlearn: 0.1177731\ttotal: 10m 52s\tremaining: 4m 36s\n",
      "400:\tlearn: 0.1138065\ttotal: 12m 28s\tremaining: 3m 4s\n",
      "450:\tlearn: 0.1104735\ttotal: 14m 4s\tremaining: 1m 31s\n",
      "499:\tlearn: 0.1071308\ttotal: 15m 40s\tremaining: 0us\n",
      "0.7333091436865024\n",
      "CPU times: user 16min, sys: 3.49 s, total: 16min 4s\n",
      "Wall time: 16min 7s\n"
     ]
    }
   ],
   "source": [
    "%%time\n",
    "\n",
    "model = CatBoostClassifier(iterations=500)\n",
    "model.fit(features_train, target_train, verbose=50)\n",
    "predictions = model.predict(features_valid)\n",
    "print(f1_score(target_valid, predictions))"
   ]
  },
  {
   "cell_type": "markdown",
   "metadata": {},
   "source": [
    "<font color='blue'>Примечание: время выполненения около 16 мин, F1 модели \"CatBoost\": 0.733"
   ]
  },
  {
   "cell_type": "markdown",
   "metadata": {},
   "source": [
    "<b>Вывод: </b> Испытав 4 модели, наилучших результатов мы смогли добиться на модели \"Логистическая регрессия\". Далее идет модель \"CatBoost\", однако время ее выполнения ощутимо больше чем у модели \"Логистическая регрессия\". Далее проверим нашу наилучшую модель на тестовой выборке"
   ]
  },
  {
   "cell_type": "markdown",
   "metadata": {},
   "source": [
    "## Выводы"
   ]
  },
  {
   "cell_type": "markdown",
   "metadata": {},
   "source": [
    "Проведем проверку нашей модели \"Логистическая регрессия\" на тестовой выборке"
   ]
  },
  {
   "cell_type": "code",
   "execution_count": 20,
   "metadata": {},
   "outputs": [
    {
     "name": "stdout",
     "output_type": "stream",
     "text": [
      "0.7644787644787645\n"
     ]
    }
   ],
   "source": [
    "model = LogisticRegression(class_weight='balanced', random_state=12345, solver = 'liblinear', C=5)\n",
    "model.fit(features_train, target_train)\n",
    "predictions = model.predict(features_test)\n",
    "print(f1_score(target_test, predictions))"
   ]
  },
  {
   "cell_type": "markdown",
   "metadata": {},
   "source": [
    "Как мы видим нам удалось достичь требуемого значения F1-меры для модели \"Логистическая регрессия\" на тестовой выборке."
   ]
  },
  {
   "cell_type": "markdown",
   "metadata": {},
   "source": [
    "<b>Вывод: </b> нами был обработан исходный датасет, обработаны текстовые данные, проанализированы признаки, подготовлено и протестировано несколько моделей. Выбрав модель 'Логистическая регрессия', показавшую наилучшее значение F1-меры на валидационной выборке и проверив ее на тестовой выборке нам удалось достичь требуемого значения F1-меры. Таким образом наша модель сможет классифицировать комментарии в интернет-магазине «Викишоп» на позитивные и негативные и в дальнейшем токсичные негативные комментарии будут отправляться на модерацию. "
   ]
  }
 ],
 "metadata": {
  "ExecuteTimeLog": [
   {
    "duration": 376,
    "start_time": "2023-03-09T09:45:45.477Z"
   },
   {
    "duration": 3632,
    "start_time": "2023-03-09T09:46:30.871Z"
   },
   {
    "duration": 64,
    "start_time": "2023-03-10T09:01:06.611Z"
   },
   {
    "duration": 391,
    "start_time": "2023-03-10T09:01:12.311Z"
   },
   {
    "duration": 2719,
    "start_time": "2023-03-10T09:01:13.865Z"
   },
   {
    "duration": 1493,
    "start_time": "2023-03-10T09:01:16.586Z"
   },
   {
    "duration": 2042,
    "start_time": "2023-03-10T09:12:09.293Z"
   },
   {
    "duration": 31,
    "start_time": "2023-03-10T09:12:20.731Z"
   },
   {
    "duration": 5,
    "start_time": "2023-03-10T09:13:53.092Z"
   },
   {
    "duration": 4,
    "start_time": "2023-03-10T09:15:43.428Z"
   },
   {
    "duration": 18,
    "start_time": "2023-03-10T09:16:47.305Z"
   },
   {
    "duration": 3,
    "start_time": "2023-03-10T09:17:02.526Z"
   },
   {
    "duration": 12,
    "start_time": "2023-03-10T09:17:03.126Z"
   },
   {
    "duration": 4,
    "start_time": "2023-03-10T09:30:04.470Z"
   },
   {
    "duration": 48,
    "start_time": "2023-03-10T09:30:12.948Z"
   },
   {
    "duration": 500,
    "start_time": "2023-03-10T09:30:19.238Z"
   },
   {
    "duration": 2424,
    "start_time": "2023-03-10T09:30:19.740Z"
   },
   {
    "duration": 3,
    "start_time": "2023-03-10T09:30:22.166Z"
   },
   {
    "duration": 2904,
    "start_time": "2023-03-10T09:30:22.171Z"
   },
   {
    "duration": 3,
    "start_time": "2023-03-10T09:33:35.040Z"
   },
   {
    "duration": 4,
    "start_time": "2023-03-10T09:38:21.323Z"
   },
   {
    "duration": 75,
    "start_time": "2023-03-10T09:39:52.861Z"
   },
   {
    "duration": 401,
    "start_time": "2023-03-10T09:40:05.597Z"
   },
   {
    "duration": 957,
    "start_time": "2023-03-10T09:40:06.000Z"
   },
   {
    "duration": 5,
    "start_time": "2023-03-10T09:40:06.959Z"
   },
   {
    "duration": 68,
    "start_time": "2023-03-10T09:40:06.966Z"
   },
   {
    "duration": 0,
    "start_time": "2023-03-10T09:40:07.036Z"
   },
   {
    "duration": 0,
    "start_time": "2023-03-10T09:40:07.037Z"
   },
   {
    "duration": 2191,
    "start_time": "2023-03-10T09:40:47.705Z"
   },
   {
    "duration": 1449,
    "start_time": "2023-03-10T09:41:04.249Z"
   },
   {
    "duration": 1027,
    "start_time": "2023-03-10T09:46:48.515Z"
   },
   {
    "duration": 3,
    "start_time": "2023-03-10T09:49:10.729Z"
   },
   {
    "duration": 61,
    "start_time": "2023-03-10T10:00:42.598Z"
   },
   {
    "duration": 2,
    "start_time": "2023-03-10T10:01:06.989Z"
   },
   {
    "duration": 3,
    "start_time": "2023-03-10T10:01:11.464Z"
   },
   {
    "duration": 68528,
    "start_time": "2023-03-10T10:01:14.517Z"
   },
   {
    "duration": 66723,
    "start_time": "2023-03-10T10:03:54.539Z"
   },
   {
    "duration": 0,
    "start_time": "2023-03-10T10:05:01.263Z"
   },
   {
    "duration": 12,
    "start_time": "2023-03-10T10:05:21.435Z"
   },
   {
    "duration": 11,
    "start_time": "2023-03-10T10:05:36.406Z"
   },
   {
    "duration": 24,
    "start_time": "2023-03-10T10:06:34.619Z"
   },
   {
    "duration": 40,
    "start_time": "2023-03-10T10:08:09.288Z"
   },
   {
    "duration": 16,
    "start_time": "2023-03-10T10:08:44.572Z"
   },
   {
    "duration": 67676,
    "start_time": "2023-03-10T10:09:24.353Z"
   },
   {
    "duration": 3,
    "start_time": "2023-03-10T10:19:44.042Z"
   },
   {
    "duration": 553,
    "start_time": "2023-03-10T10:20:17.212Z"
   },
   {
    "duration": 5,
    "start_time": "2023-03-10T10:20:57.344Z"
   },
   {
    "duration": 369,
    "start_time": "2023-03-10T10:20:58.122Z"
   },
   {
    "duration": 4,
    "start_time": "2023-03-10T10:22:43.576Z"
   },
   {
    "duration": 4,
    "start_time": "2023-03-10T10:22:49.445Z"
   },
   {
    "duration": 84692,
    "start_time": "2023-03-10T10:22:50.270Z"
   },
   {
    "duration": 5,
    "start_time": "2023-03-10T10:24:31.002Z"
   },
   {
    "duration": 57,
    "start_time": "2023-03-10T12:38:39.654Z"
   },
   {
    "duration": 1402,
    "start_time": "2023-03-10T12:38:48.885Z"
   },
   {
    "duration": 3,
    "start_time": "2023-03-10T12:38:58.645Z"
   },
   {
    "duration": 3910,
    "start_time": "2023-03-10T12:39:00.869Z"
   },
   {
    "duration": 3,
    "start_time": "2023-03-10T12:39:04.781Z"
   },
   {
    "duration": 2259,
    "start_time": "2023-03-10T12:39:04.786Z"
   },
   {
    "duration": 95,
    "start_time": "2023-03-10T12:39:11.094Z"
   },
   {
    "duration": 4,
    "start_time": "2023-03-10T12:46:55.905Z"
   },
   {
    "duration": 95870,
    "start_time": "2023-03-10T12:46:56.459Z"
   },
   {
    "duration": 6,
    "start_time": "2023-03-10T12:48:50.750Z"
   },
   {
    "duration": 3,
    "start_time": "2023-03-10T12:49:24.391Z"
   },
   {
    "duration": 308,
    "start_time": "2023-03-10T12:49:25.989Z"
   },
   {
    "duration": 13,
    "start_time": "2023-03-10T12:49:26.532Z"
   },
   {
    "duration": 1394,
    "start_time": "2023-03-10T12:49:35.699Z"
   },
   {
    "duration": 979,
    "start_time": "2023-03-10T12:49:37.097Z"
   },
   {
    "duration": 4,
    "start_time": "2023-03-10T12:49:38.078Z"
   },
   {
    "duration": 2595,
    "start_time": "2023-03-10T12:49:38.084Z"
   },
   {
    "duration": 3,
    "start_time": "2023-03-10T12:49:40.681Z"
   },
   {
    "duration": 90794,
    "start_time": "2023-03-10T12:49:40.686Z"
   },
   {
    "duration": 5,
    "start_time": "2023-03-10T12:51:11.482Z"
   },
   {
    "duration": 49,
    "start_time": "2023-03-10T12:51:11.490Z"
   },
   {
    "duration": 0,
    "start_time": "2023-03-10T12:51:11.542Z"
   },
   {
    "duration": 1,
    "start_time": "2023-03-10T12:51:11.547Z"
   },
   {
    "duration": 0,
    "start_time": "2023-03-10T12:51:11.549Z"
   },
   {
    "duration": 0,
    "start_time": "2023-03-10T12:51:11.550Z"
   },
   {
    "duration": 0,
    "start_time": "2023-03-10T12:51:11.552Z"
   },
   {
    "duration": 0,
    "start_time": "2023-03-10T12:51:11.553Z"
   },
   {
    "duration": 0,
    "start_time": "2023-03-10T12:51:11.555Z"
   },
   {
    "duration": 0,
    "start_time": "2023-03-10T12:51:11.556Z"
   },
   {
    "duration": 4,
    "start_time": "2023-03-10T12:51:30.147Z"
   },
   {
    "duration": 85721,
    "start_time": "2023-03-10T12:51:31.730Z"
   },
   {
    "duration": 9,
    "start_time": "2023-03-10T12:52:57.453Z"
   },
   {
    "duration": 1367,
    "start_time": "2023-03-10T12:53:20.324Z"
   },
   {
    "duration": 908,
    "start_time": "2023-03-10T12:53:21.694Z"
   },
   {
    "duration": 4,
    "start_time": "2023-03-10T12:53:22.605Z"
   },
   {
    "duration": 2182,
    "start_time": "2023-03-10T12:53:22.611Z"
   },
   {
    "duration": 4,
    "start_time": "2023-03-10T12:53:24.794Z"
   },
   {
    "duration": 3,
    "start_time": "2023-03-10T12:53:24.800Z"
   },
   {
    "duration": 19,
    "start_time": "2023-03-10T12:53:24.805Z"
   },
   {
    "duration": 8,
    "start_time": "2023-03-10T12:53:24.826Z"
   },
   {
    "duration": 5,
    "start_time": "2023-03-10T12:53:24.835Z"
   },
   {
    "duration": 79172,
    "start_time": "2023-03-10T12:53:24.842Z"
   },
   {
    "duration": 6,
    "start_time": "2023-03-10T12:54:44.016Z"
   },
   {
    "duration": 10,
    "start_time": "2023-03-10T12:54:44.024Z"
   },
   {
    "duration": 66372,
    "start_time": "2023-03-10T12:54:44.036Z"
   },
   {
    "duration": 173,
    "start_time": "2023-03-10T12:55:50.413Z"
   },
   {
    "duration": 0,
    "start_time": "2023-03-10T12:55:50.589Z"
   },
   {
    "duration": 1349,
    "start_time": "2023-03-10T12:56:04.562Z"
   },
   {
    "duration": 908,
    "start_time": "2023-03-10T12:56:05.913Z"
   },
   {
    "duration": 3,
    "start_time": "2023-03-10T12:56:06.823Z"
   },
   {
    "duration": 2096,
    "start_time": "2023-03-10T12:56:06.829Z"
   },
   {
    "duration": 4,
    "start_time": "2023-03-10T12:56:08.926Z"
   },
   {
    "duration": 9,
    "start_time": "2023-03-10T12:56:08.931Z"
   },
   {
    "duration": 6,
    "start_time": "2023-03-10T12:56:08.941Z"
   },
   {
    "duration": 2,
    "start_time": "2023-03-10T12:56:08.949Z"
   },
   {
    "duration": 4,
    "start_time": "2023-03-10T12:56:08.953Z"
   },
   {
    "duration": 8,
    "start_time": "2023-03-10T12:56:08.960Z"
   },
   {
    "duration": 4,
    "start_time": "2023-03-10T12:56:08.969Z"
   },
   {
    "duration": 5,
    "start_time": "2023-03-10T12:56:08.975Z"
   },
   {
    "duration": 69474,
    "start_time": "2023-03-10T12:56:08.981Z"
   },
   {
    "duration": 3,
    "start_time": "2023-03-10T12:59:09.298Z"
   },
   {
    "duration": 3446,
    "start_time": "2023-03-10T12:59:10.948Z"
   },
   {
    "duration": 5,
    "start_time": "2023-03-10T12:59:25.011Z"
   },
   {
    "duration": 2681,
    "start_time": "2023-03-10T12:59:25.679Z"
   },
   {
    "duration": 4,
    "start_time": "2023-03-10T12:59:33.060Z"
   },
   {
    "duration": 756,
    "start_time": "2023-03-10T12:59:34.233Z"
   },
   {
    "duration": 1352,
    "start_time": "2023-03-10T12:59:42.992Z"
   },
   {
    "duration": 1035,
    "start_time": "2023-03-10T12:59:44.347Z"
   },
   {
    "duration": 3,
    "start_time": "2023-03-10T12:59:45.384Z"
   },
   {
    "duration": 4135,
    "start_time": "2023-03-10T12:59:45.389Z"
   },
   {
    "duration": 3,
    "start_time": "2023-03-10T12:59:49.526Z"
   },
   {
    "duration": 79483,
    "start_time": "2023-03-10T12:59:49.531Z"
   },
   {
    "duration": 6,
    "start_time": "2023-03-10T13:01:09.016Z"
   },
   {
    "duration": 113,
    "start_time": "2023-03-10T13:01:09.024Z"
   },
   {
    "duration": 1441,
    "start_time": "2023-03-10T13:03:00.215Z"
   },
   {
    "duration": 895,
    "start_time": "2023-03-10T13:03:01.659Z"
   },
   {
    "duration": 4,
    "start_time": "2023-03-10T13:03:02.556Z"
   },
   {
    "duration": 3951,
    "start_time": "2023-03-10T13:03:02.564Z"
   },
   {
    "duration": 4,
    "start_time": "2023-03-10T13:03:06.517Z"
   },
   {
    "duration": 79851,
    "start_time": "2023-03-10T13:03:06.523Z"
   },
   {
    "duration": 4,
    "start_time": "2023-03-10T13:04:26.375Z"
   },
   {
    "duration": 155,
    "start_time": "2023-03-10T13:04:26.381Z"
   },
   {
    "duration": 4,
    "start_time": "2023-03-10T13:16:49.538Z"
   },
   {
    "duration": 1394,
    "start_time": "2023-03-10T13:19:30.126Z"
   },
   {
    "duration": 946,
    "start_time": "2023-03-10T13:19:31.522Z"
   },
   {
    "duration": 4,
    "start_time": "2023-03-10T13:19:32.469Z"
   },
   {
    "duration": 4074,
    "start_time": "2023-03-10T13:19:32.475Z"
   },
   {
    "duration": 4,
    "start_time": "2023-03-10T13:19:36.551Z"
   },
   {
    "duration": 77812,
    "start_time": "2023-03-10T13:19:36.557Z"
   },
   {
    "duration": 24,
    "start_time": "2023-03-10T13:20:54.371Z"
   },
   {
    "duration": 35,
    "start_time": "2023-03-10T13:20:54.397Z"
   },
   {
    "duration": 23,
    "start_time": "2023-03-10T13:20:54.434Z"
   },
   {
    "duration": 4,
    "start_time": "2023-03-10T13:30:46.644Z"
   },
   {
    "duration": 5,
    "start_time": "2023-03-10T13:31:18.153Z"
   },
   {
    "duration": 223,
    "start_time": "2023-03-10T13:35:17.880Z"
   },
   {
    "duration": 13,
    "start_time": "2023-03-10T13:42:45.634Z"
   },
   {
    "duration": 24,
    "start_time": "2023-03-10T13:44:55.019Z"
   },
   {
    "duration": 19,
    "start_time": "2023-03-10T13:45:03.092Z"
   },
   {
    "duration": 4,
    "start_time": "2023-03-10T13:45:04.874Z"
   },
   {
    "duration": 13,
    "start_time": "2023-03-10T13:45:07.667Z"
   },
   {
    "duration": 135,
    "start_time": "2023-03-10T13:45:21.517Z"
   },
   {
    "duration": 21,
    "start_time": "2023-03-10T13:45:36.414Z"
   },
   {
    "duration": 1267,
    "start_time": "2023-03-10T13:45:41.874Z"
   },
   {
    "duration": 908,
    "start_time": "2023-03-10T13:45:43.143Z"
   },
   {
    "duration": 3,
    "start_time": "2023-03-10T13:45:44.053Z"
   },
   {
    "duration": 4231,
    "start_time": "2023-03-10T13:45:44.057Z"
   },
   {
    "duration": 3,
    "start_time": "2023-03-10T13:45:48.290Z"
   },
   {
    "duration": 81993,
    "start_time": "2023-03-10T13:45:48.295Z"
   },
   {
    "duration": 36,
    "start_time": "2023-03-10T13:47:10.290Z"
   },
   {
    "duration": 28,
    "start_time": "2023-03-10T13:47:10.329Z"
   },
   {
    "duration": 20,
    "start_time": "2023-03-10T13:47:10.359Z"
   },
   {
    "duration": 159,
    "start_time": "2023-03-10T13:47:10.381Z"
   },
   {
    "duration": 16,
    "start_time": "2023-03-10T13:47:10.543Z"
   },
   {
    "duration": 3,
    "start_time": "2023-03-10T13:47:53.201Z"
   },
   {
    "duration": 4,
    "start_time": "2023-03-10T13:47:55.080Z"
   },
   {
    "duration": 7120,
    "start_time": "2023-03-10T13:47:56.934Z"
   },
   {
    "duration": 11,
    "start_time": "2023-03-10T13:48:11.122Z"
   },
   {
    "duration": 35,
    "start_time": "2023-03-10T13:48:25.963Z"
   },
   {
    "duration": 3,
    "start_time": "2023-03-10T13:50:16.595Z"
   },
   {
    "duration": 3,
    "start_time": "2023-03-10T13:51:52.261Z"
   },
   {
    "duration": 37942,
    "start_time": "2023-03-10T13:53:01.299Z"
   },
   {
    "duration": 44042,
    "start_time": "2023-03-10T13:54:37.809Z"
   },
   {
    "duration": 132,
    "start_time": "2023-03-10T14:01:23.838Z"
   },
   {
    "duration": 393,
    "start_time": "2023-03-10T14:01:49.169Z"
   },
   {
    "duration": 21,
    "start_time": "2023-03-10T14:01:55.256Z"
   },
   {
    "duration": 164,
    "start_time": "2023-03-10T14:02:03.542Z"
   },
   {
    "duration": 129,
    "start_time": "2023-03-10T14:03:04.636Z"
   },
   {
    "duration": 154,
    "start_time": "2023-03-10T14:03:11.292Z"
   },
   {
    "duration": 50,
    "start_time": "2023-03-10T14:18:49.933Z"
   },
   {
    "duration": 46,
    "start_time": "2023-03-10T14:18:56.847Z"
   },
   {
    "duration": 24,
    "start_time": "2023-03-10T14:18:57.755Z"
   },
   {
    "duration": 4,
    "start_time": "2023-03-10T14:18:58.707Z"
   },
   {
    "duration": 4,
    "start_time": "2023-03-10T14:19:01.601Z"
   },
   {
    "duration": 23246,
    "start_time": "2023-03-10T14:19:02.171Z"
   },
   {
    "duration": 67224,
    "start_time": "2023-03-10T14:19:25.419Z"
   },
   {
    "duration": 41,
    "start_time": "2023-03-10T14:22:07.116Z"
   },
   {
    "duration": 39,
    "start_time": "2023-03-10T14:22:07.805Z"
   },
   {
    "duration": 4,
    "start_time": "2023-03-10T14:22:08.690Z"
   },
   {
    "duration": 13,
    "start_time": "2023-03-10T14:22:10.237Z"
   },
   {
    "duration": 7521,
    "start_time": "2023-03-10T14:22:10.694Z"
   },
   {
    "duration": 45706,
    "start_time": "2023-03-10T14:22:18.217Z"
   },
   {
    "duration": 31,
    "start_time": "2023-03-10T14:27:36.054Z"
   },
   {
    "duration": 519739,
    "start_time": "2023-03-10T14:31:03.417Z"
   },
   {
    "duration": 434334,
    "start_time": "2023-03-10T14:39:50.894Z"
   },
   {
    "duration": 53,
    "start_time": "2023-03-10T14:47:05.230Z"
   },
   {
    "duration": 0,
    "start_time": "2023-03-10T14:47:51.607Z"
   },
   {
    "duration": 579522,
    "start_time": "2023-03-10T14:47:54.375Z"
   },
   {
    "duration": 51234,
    "start_time": "2023-03-10T14:58:07.694Z"
   },
   {
    "duration": 48502,
    "start_time": "2023-03-10T15:01:07.221Z"
   },
   {
    "duration": 50678,
    "start_time": "2023-03-10T15:02:19.958Z"
   },
   {
    "duration": 16,
    "start_time": "2023-03-10T15:03:50.277Z"
   },
   {
    "duration": 14,
    "start_time": "2023-03-10T15:05:39.577Z"
   },
   {
    "duration": 3,
    "start_time": "2023-03-10T15:05:54.366Z"
   },
   {
    "duration": 48634,
    "start_time": "2023-03-10T15:06:26.002Z"
   },
   {
    "duration": 31,
    "start_time": "2023-03-10T15:11:19.251Z"
   },
   {
    "duration": 33,
    "start_time": "2023-03-10T15:11:20.234Z"
   },
   {
    "duration": 5,
    "start_time": "2023-03-10T15:11:21.264Z"
   },
   {
    "duration": 246,
    "start_time": "2023-03-10T15:11:24.661Z"
   },
   {
    "duration": 22719,
    "start_time": "2023-03-10T15:11:26.241Z"
   },
   {
    "duration": 65400,
    "start_time": "2023-03-10T15:11:48.962Z"
   },
   {
    "duration": 65408,
    "start_time": "2023-03-10T15:13:20.506Z"
   },
   {
    "duration": 16075,
    "start_time": "2023-03-10T15:16:46.187Z"
   },
   {
    "duration": 15876,
    "start_time": "2023-03-10T15:18:11.261Z"
   },
   {
    "duration": 1617,
    "start_time": "2023-03-10T15:21:01.768Z"
   },
   {
    "duration": 961,
    "start_time": "2023-03-10T15:21:03.387Z"
   },
   {
    "duration": 8,
    "start_time": "2023-03-10T15:21:04.350Z"
   },
   {
    "duration": 4228,
    "start_time": "2023-03-10T15:21:04.361Z"
   },
   {
    "duration": 4,
    "start_time": "2023-03-10T15:21:08.591Z"
   },
   {
    "duration": 78572,
    "start_time": "2023-03-10T15:21:08.597Z"
   },
   {
    "duration": 159,
    "start_time": "2023-03-10T15:22:27.172Z"
   },
   {
    "duration": 27,
    "start_time": "2023-03-10T15:22:27.332Z"
   },
   {
    "duration": 21,
    "start_time": "2023-03-10T15:22:27.361Z"
   },
   {
    "duration": 4,
    "start_time": "2023-03-10T15:22:27.385Z"
   },
   {
    "duration": 175,
    "start_time": "2023-03-10T15:22:27.390Z"
   },
   {
    "duration": 6824,
    "start_time": "2023-03-10T15:22:27.567Z"
   },
   {
    "duration": 13250,
    "start_time": "2023-03-10T15:22:34.393Z"
   },
   {
    "duration": 606922,
    "start_time": "2023-03-10T15:22:47.645Z"
   },
   {
    "duration": 456825,
    "start_time": "2023-03-10T15:32:54.569Z"
   },
   {
    "duration": 946063,
    "start_time": "2023-03-10T15:40:31.396Z"
   },
   {
    "duration": 2,
    "start_time": "2023-03-10T15:56:17.460Z"
   },
   {
    "duration": 11974,
    "start_time": "2023-03-10T15:56:17.464Z"
   },
   {
    "duration": 9867,
    "start_time": "2023-03-10T16:52:56.679Z"
   },
   {
    "duration": 9354,
    "start_time": "2023-03-10T16:53:15.994Z"
   },
   {
    "duration": 13759,
    "start_time": "2023-03-10T16:53:34.598Z"
   },
   {
    "duration": 14559,
    "start_time": "2023-03-10T16:53:56.304Z"
   },
   {
    "duration": 18356,
    "start_time": "2023-03-10T16:54:20.100Z"
   },
   {
    "duration": 23100,
    "start_time": "2023-03-10T16:54:48.151Z"
   },
   {
    "duration": 20712,
    "start_time": "2023-03-10T16:55:21.245Z"
   },
   {
    "duration": 21202,
    "start_time": "2023-03-10T16:55:53.364Z"
   },
   {
    "duration": 4643242,
    "start_time": "2023-03-10T16:58:06.506Z"
   },
   {
    "duration": 13463,
    "start_time": "2023-03-10T18:22:55.488Z"
   },
   {
    "duration": 21407,
    "start_time": "2023-03-10T18:23:30.446Z"
   },
   {
    "duration": 21586,
    "start_time": "2023-03-10T18:24:30.057Z"
   },
   {
    "duration": 3163,
    "start_time": "2023-03-10T18:25:36.214Z"
   },
   {
    "duration": 4,
    "start_time": "2023-03-10T18:25:54.940Z"
   },
   {
    "duration": 84151,
    "start_time": "2023-03-10T18:25:55.487Z"
   },
   {
    "duration": 1531,
    "start_time": "2023-03-10T18:27:58.354Z"
   },
   {
    "duration": 977,
    "start_time": "2023-03-10T18:27:59.886Z"
   },
   {
    "duration": 4,
    "start_time": "2023-03-10T18:28:00.865Z"
   },
   {
    "duration": 3964,
    "start_time": "2023-03-10T18:28:00.871Z"
   },
   {
    "duration": 3,
    "start_time": "2023-03-10T18:28:04.836Z"
   },
   {
    "duration": 77570,
    "start_time": "2023-03-10T18:28:04.841Z"
   },
   {
    "duration": 180,
    "start_time": "2023-03-10T18:29:22.413Z"
   },
   {
    "duration": 37,
    "start_time": "2023-03-10T18:29:22.594Z"
   },
   {
    "duration": 22,
    "start_time": "2023-03-10T18:29:22.634Z"
   },
   {
    "duration": 5,
    "start_time": "2023-03-10T18:29:22.659Z"
   },
   {
    "duration": 251,
    "start_time": "2023-03-10T18:29:22.666Z"
   },
   {
    "duration": 7204,
    "start_time": "2023-03-10T18:29:22.919Z"
   },
   {
    "duration": 1602,
    "start_time": "2023-03-10T18:29:50.794Z"
   },
   {
    "duration": 998,
    "start_time": "2023-03-10T18:29:52.398Z"
   },
   {
    "duration": 3,
    "start_time": "2023-03-10T18:29:53.398Z"
   },
   {
    "duration": 4394,
    "start_time": "2023-03-10T18:29:53.403Z"
   },
   {
    "duration": 4,
    "start_time": "2023-03-10T18:29:57.799Z"
   },
   {
    "duration": 89368,
    "start_time": "2023-03-10T18:29:57.805Z"
   },
   {
    "duration": 154,
    "start_time": "2023-03-10T18:31:27.175Z"
   },
   {
    "duration": 37,
    "start_time": "2023-03-10T18:31:27.330Z"
   },
   {
    "duration": 22,
    "start_time": "2023-03-10T18:31:27.369Z"
   },
   {
    "duration": 5,
    "start_time": "2023-03-10T18:31:27.394Z"
   },
   {
    "duration": 247,
    "start_time": "2023-03-10T18:31:27.401Z"
   },
   {
    "duration": 7711,
    "start_time": "2023-03-10T18:31:27.650Z"
   },
   {
    "duration": 16378,
    "start_time": "2023-03-10T18:31:35.364Z"
   },
   {
    "duration": 704868,
    "start_time": "2023-03-10T18:31:51.745Z"
   },
   {
    "duration": 48600,
    "start_time": "2023-03-10T18:43:36.615Z"
   },
   {
    "duration": 4506,
    "start_time": "2023-03-10T18:44:25.217Z"
   },
   {
    "duration": 25510,
    "start_time": "2023-03-10T18:44:29.725Z"
   },
   {
    "duration": 32980,
    "start_time": "2023-03-10T18:45:15.816Z"
   },
   {
    "duration": 5,
    "start_time": "2023-03-10T18:45:48.798Z"
   },
   {
    "duration": 19786,
    "start_time": "2023-03-10T18:46:08.759Z"
   },
   {
    "duration": 13674,
    "start_time": "2023-03-10T18:47:08.071Z"
   },
   {
    "duration": 1624,
    "start_time": "2023-03-10T18:49:42.942Z"
   },
   {
    "duration": 913,
    "start_time": "2023-03-10T18:49:44.567Z"
   },
   {
    "duration": 4,
    "start_time": "2023-03-10T18:49:45.482Z"
   },
   {
    "duration": 3925,
    "start_time": "2023-03-10T18:49:45.488Z"
   },
   {
    "duration": 4,
    "start_time": "2023-03-10T18:49:49.418Z"
   },
   {
    "duration": 76550,
    "start_time": "2023-03-10T18:49:49.423Z"
   },
   {
    "duration": 161,
    "start_time": "2023-03-10T18:51:05.975Z"
   },
   {
    "duration": 38,
    "start_time": "2023-03-10T18:51:06.137Z"
   },
   {
    "duration": 20,
    "start_time": "2023-03-10T18:51:06.177Z"
   },
   {
    "duration": 21,
    "start_time": "2023-03-10T18:51:06.200Z"
   },
   {
    "duration": 253,
    "start_time": "2023-03-10T18:51:06.222Z"
   },
   {
    "duration": 6708,
    "start_time": "2023-03-10T18:51:06.477Z"
   },
   {
    "duration": 13464,
    "start_time": "2023-03-10T18:51:13.187Z"
   },
   {
    "duration": 290495,
    "start_time": "2023-03-10T18:51:26.654Z"
   },
   {
    "duration": 3,
    "start_time": "2023-03-10T18:56:17.151Z"
   },
   {
    "duration": 594067,
    "start_time": "2023-03-10T18:56:17.156Z"
   },
   {
    "duration": 460265,
    "start_time": "2023-03-10T19:06:11.225Z"
   },
   {
    "duration": 967541,
    "start_time": "2023-03-10T19:13:51.491Z"
   },
   {
    "duration": 17706,
    "start_time": "2023-03-10T19:29:59.035Z"
   },
   {
    "duration": 18559,
    "start_time": "2023-03-10T19:30:36.600Z"
   }
  ],
  "kernelspec": {
   "display_name": "Python 3 (ipykernel)",
   "language": "python",
   "name": "python3"
  },
  "language_info": {
   "codemirror_mode": {
    "name": "ipython",
    "version": 3
   },
   "file_extension": ".py",
   "mimetype": "text/x-python",
   "name": "python",
   "nbconvert_exporter": "python",
   "pygments_lexer": "ipython3",
   "version": "3.9.5"
  },
  "toc": {
   "base_numbering": 1,
   "nav_menu": {},
   "number_sections": true,
   "sideBar": true,
   "skip_h1_title": true,
   "title_cell": "Содержание",
   "title_sidebar": "Contents",
   "toc_cell": true,
   "toc_position": {
    "height": "calc(100% - 180px)",
    "left": "10px",
    "top": "150px",
    "width": "302.391px"
   },
   "toc_section_display": true,
   "toc_window_display": false
  }
 },
 "nbformat": 4,
 "nbformat_minor": 2
}
