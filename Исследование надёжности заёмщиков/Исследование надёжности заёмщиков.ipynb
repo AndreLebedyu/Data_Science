{
 "cells": [
  {
   "cell_type": "markdown",
   "id": "0ff3018f",
   "metadata": {
    "deletable": false,
    "editable": false,
    "id": "c81daeeb"
   },
   "source": [
    "# Исследование надежности заемщиков\n"
   ]
  },
  {
   "cell_type": "markdown",
   "id": "68de38ec",
   "metadata": {
    "deletable": false,
    "editable": false,
    "id": "827c20bf"
   },
   "source": [
    "Заказчик — кредитный отдел банка. Нужно разобраться, влияет ли семейное положение и количество детей клиента на факт погашения кредита в срок. Входные данные от банка — статистика о платёжеспособности клиентов.\n",
    "Результаты исследования будут учтены при построении модели кредитного скоринга — специальной системы, которая оценивает способность потенциального заёмщика вернуть кредит банку. \n",
    "\n"
   ]
  },
  {
   "cell_type": "markdown",
   "id": "123bda13",
   "metadata": {
    "deletable": false,
    "editable": false,
    "id": "744d7639"
   },
   "source": [
    "## Общая информация о данных"
   ]
  },
  {
   "cell_type": "markdown",
   "id": "e217821e",
   "metadata": {
    "deletable": false,
    "editable": false,
    "id": "e7a14c31"
   },
   "source": [
   ]
  },
  {
   "cell_type": "code",
   "execution_count": 1,
   "id": "30fd95ab",
   "metadata": {
    "deletable": false,
    "id": "7bcf75c9"
   },
   "outputs": [],
   "source": [
    "import pandas as pd\n",
    "\n",
    "try:\n",
    "    data = pd.read_csv('/datasets/data.csv')\n",
    "except:\n",
    "    data = pd.read_csv('.../datasets/data.csv')"
   ]
  },
  {
   "cell_type": "markdown",
   "id": "34bc40cd",
   "metadata": {
    "deletable": false,
    "editable": false,
    "id": "b8038fe3"
   },
   "source": [
    "**Выведем первые 20 строчек датафрейма `data` на экран.**"
   ]
  },
  {
   "cell_type": "code",
   "execution_count": 2,
   "id": "7be25549",
   "metadata": {
    "deletable": false,
    "id": "2a7cab99",
    "outputId": "1a8f3ef2-d323-4ec2-ddf7-89670b5944c4",
    "scrolled": true
   },
   "outputs": [
    {
     "data": {
      "text/html": [
       "<div>\n",
       "<style scoped>\n",
       "    .dataframe tbody tr th:only-of-type {\n",
       "        vertical-align: middle;\n",
       "    }\n",
       "\n",
       "    .dataframe tbody tr th {\n",
       "        vertical-align: top;\n",
       "    }\n",
       "\n",
       "    .dataframe thead th {\n",
       "        text-align: right;\n",
       "    }\n",
       "</style>\n",
       "<table border=\"1\" class=\"dataframe\">\n",
       "  <thead>\n",
       "    <tr style=\"text-align: right;\">\n",
       "      <th></th>\n",
       "      <th>children</th>\n",
       "      <th>days_employed</th>\n",
       "      <th>dob_years</th>\n",
       "      <th>education</th>\n",
       "      <th>education_id</th>\n",
       "      <th>family_status</th>\n",
       "      <th>family_status_id</th>\n",
       "      <th>gender</th>\n",
       "      <th>income_type</th>\n",
       "      <th>debt</th>\n",
       "      <th>total_income</th>\n",
       "      <th>purpose</th>\n",
       "    </tr>\n",
       "  </thead>\n",
       "  <tbody>\n",
       "    <tr>\n",
       "      <th>0</th>\n",
       "      <td>1</td>\n",
       "      <td>-8437.673028</td>\n",
       "      <td>42</td>\n",
       "      <td>высшее</td>\n",
       "      <td>0</td>\n",
       "      <td>женат / замужем</td>\n",
       "      <td>0</td>\n",
       "      <td>F</td>\n",
       "      <td>сотрудник</td>\n",
       "      <td>0</td>\n",
       "      <td>253875.639453</td>\n",
       "      <td>покупка жилья</td>\n",
       "    </tr>\n",
       "    <tr>\n",
       "      <th>1</th>\n",
       "      <td>1</td>\n",
       "      <td>-4024.803754</td>\n",
       "      <td>36</td>\n",
       "      <td>среднее</td>\n",
       "      <td>1</td>\n",
       "      <td>женат / замужем</td>\n",
       "      <td>0</td>\n",
       "      <td>F</td>\n",
       "      <td>сотрудник</td>\n",
       "      <td>0</td>\n",
       "      <td>112080.014102</td>\n",
       "      <td>приобретение автомобиля</td>\n",
       "    </tr>\n",
       "    <tr>\n",
       "      <th>2</th>\n",
       "      <td>0</td>\n",
       "      <td>-5623.422610</td>\n",
       "      <td>33</td>\n",
       "      <td>Среднее</td>\n",
       "      <td>1</td>\n",
       "      <td>женат / замужем</td>\n",
       "      <td>0</td>\n",
       "      <td>M</td>\n",
       "      <td>сотрудник</td>\n",
       "      <td>0</td>\n",
       "      <td>145885.952297</td>\n",
       "      <td>покупка жилья</td>\n",
       "    </tr>\n",
       "    <tr>\n",
       "      <th>3</th>\n",
       "      <td>3</td>\n",
       "      <td>-4124.747207</td>\n",
       "      <td>32</td>\n",
       "      <td>среднее</td>\n",
       "      <td>1</td>\n",
       "      <td>женат / замужем</td>\n",
       "      <td>0</td>\n",
       "      <td>M</td>\n",
       "      <td>сотрудник</td>\n",
       "      <td>0</td>\n",
       "      <td>267628.550329</td>\n",
       "      <td>дополнительное образование</td>\n",
       "    </tr>\n",
       "    <tr>\n",
       "      <th>4</th>\n",
       "      <td>0</td>\n",
       "      <td>340266.072047</td>\n",
       "      <td>53</td>\n",
       "      <td>среднее</td>\n",
       "      <td>1</td>\n",
       "      <td>гражданский брак</td>\n",
       "      <td>1</td>\n",
       "      <td>F</td>\n",
       "      <td>пенсионер</td>\n",
       "      <td>0</td>\n",
       "      <td>158616.077870</td>\n",
       "      <td>сыграть свадьбу</td>\n",
       "    </tr>\n",
       "    <tr>\n",
       "      <th>5</th>\n",
       "      <td>0</td>\n",
       "      <td>-926.185831</td>\n",
       "      <td>27</td>\n",
       "      <td>высшее</td>\n",
       "      <td>0</td>\n",
       "      <td>гражданский брак</td>\n",
       "      <td>1</td>\n",
       "      <td>M</td>\n",
       "      <td>компаньон</td>\n",
       "      <td>0</td>\n",
       "      <td>255763.565419</td>\n",
       "      <td>покупка жилья</td>\n",
       "    </tr>\n",
       "    <tr>\n",
       "      <th>6</th>\n",
       "      <td>0</td>\n",
       "      <td>-2879.202052</td>\n",
       "      <td>43</td>\n",
       "      <td>высшее</td>\n",
       "      <td>0</td>\n",
       "      <td>женат / замужем</td>\n",
       "      <td>0</td>\n",
       "      <td>F</td>\n",
       "      <td>компаньон</td>\n",
       "      <td>0</td>\n",
       "      <td>240525.971920</td>\n",
       "      <td>операции с жильем</td>\n",
       "    </tr>\n",
       "    <tr>\n",
       "      <th>7</th>\n",
       "      <td>0</td>\n",
       "      <td>-152.779569</td>\n",
       "      <td>50</td>\n",
       "      <td>СРЕДНЕЕ</td>\n",
       "      <td>1</td>\n",
       "      <td>женат / замужем</td>\n",
       "      <td>0</td>\n",
       "      <td>M</td>\n",
       "      <td>сотрудник</td>\n",
       "      <td>0</td>\n",
       "      <td>135823.934197</td>\n",
       "      <td>образование</td>\n",
       "    </tr>\n",
       "    <tr>\n",
       "      <th>8</th>\n",
       "      <td>2</td>\n",
       "      <td>-6929.865299</td>\n",
       "      <td>35</td>\n",
       "      <td>ВЫСШЕЕ</td>\n",
       "      <td>0</td>\n",
       "      <td>гражданский брак</td>\n",
       "      <td>1</td>\n",
       "      <td>F</td>\n",
       "      <td>сотрудник</td>\n",
       "      <td>0</td>\n",
       "      <td>95856.832424</td>\n",
       "      <td>на проведение свадьбы</td>\n",
       "    </tr>\n",
       "    <tr>\n",
       "      <th>9</th>\n",
       "      <td>0</td>\n",
       "      <td>-2188.756445</td>\n",
       "      <td>41</td>\n",
       "      <td>среднее</td>\n",
       "      <td>1</td>\n",
       "      <td>женат / замужем</td>\n",
       "      <td>0</td>\n",
       "      <td>M</td>\n",
       "      <td>сотрудник</td>\n",
       "      <td>0</td>\n",
       "      <td>144425.938277</td>\n",
       "      <td>покупка жилья для семьи</td>\n",
       "    </tr>\n",
       "    <tr>\n",
       "      <th>10</th>\n",
       "      <td>2</td>\n",
       "      <td>-4171.483647</td>\n",
       "      <td>36</td>\n",
       "      <td>высшее</td>\n",
       "      <td>0</td>\n",
       "      <td>женат / замужем</td>\n",
       "      <td>0</td>\n",
       "      <td>M</td>\n",
       "      <td>компаньон</td>\n",
       "      <td>0</td>\n",
       "      <td>113943.491460</td>\n",
       "      <td>покупка недвижимости</td>\n",
       "    </tr>\n",
       "    <tr>\n",
       "      <th>11</th>\n",
       "      <td>0</td>\n",
       "      <td>-792.701887</td>\n",
       "      <td>40</td>\n",
       "      <td>среднее</td>\n",
       "      <td>1</td>\n",
       "      <td>женат / замужем</td>\n",
       "      <td>0</td>\n",
       "      <td>F</td>\n",
       "      <td>сотрудник</td>\n",
       "      <td>0</td>\n",
       "      <td>77069.234271</td>\n",
       "      <td>покупка коммерческой недвижимости</td>\n",
       "    </tr>\n",
       "    <tr>\n",
       "      <th>12</th>\n",
       "      <td>0</td>\n",
       "      <td>NaN</td>\n",
       "      <td>65</td>\n",
       "      <td>среднее</td>\n",
       "      <td>1</td>\n",
       "      <td>гражданский брак</td>\n",
       "      <td>1</td>\n",
       "      <td>M</td>\n",
       "      <td>пенсионер</td>\n",
       "      <td>0</td>\n",
       "      <td>NaN</td>\n",
       "      <td>сыграть свадьбу</td>\n",
       "    </tr>\n",
       "    <tr>\n",
       "      <th>13</th>\n",
       "      <td>0</td>\n",
       "      <td>-1846.641941</td>\n",
       "      <td>54</td>\n",
       "      <td>неоконченное высшее</td>\n",
       "      <td>2</td>\n",
       "      <td>женат / замужем</td>\n",
       "      <td>0</td>\n",
       "      <td>F</td>\n",
       "      <td>сотрудник</td>\n",
       "      <td>0</td>\n",
       "      <td>130458.228857</td>\n",
       "      <td>приобретение автомобиля</td>\n",
       "    </tr>\n",
       "    <tr>\n",
       "      <th>14</th>\n",
       "      <td>0</td>\n",
       "      <td>-1844.956182</td>\n",
       "      <td>56</td>\n",
       "      <td>высшее</td>\n",
       "      <td>0</td>\n",
       "      <td>гражданский брак</td>\n",
       "      <td>1</td>\n",
       "      <td>F</td>\n",
       "      <td>компаньон</td>\n",
       "      <td>1</td>\n",
       "      <td>165127.911772</td>\n",
       "      <td>покупка жилой недвижимости</td>\n",
       "    </tr>\n",
       "    <tr>\n",
       "      <th>15</th>\n",
       "      <td>1</td>\n",
       "      <td>-972.364419</td>\n",
       "      <td>26</td>\n",
       "      <td>среднее</td>\n",
       "      <td>1</td>\n",
       "      <td>женат / замужем</td>\n",
       "      <td>0</td>\n",
       "      <td>F</td>\n",
       "      <td>сотрудник</td>\n",
       "      <td>0</td>\n",
       "      <td>116820.904450</td>\n",
       "      <td>строительство собственной недвижимости</td>\n",
       "    </tr>\n",
       "    <tr>\n",
       "      <th>16</th>\n",
       "      <td>0</td>\n",
       "      <td>-1719.934226</td>\n",
       "      <td>35</td>\n",
       "      <td>среднее</td>\n",
       "      <td>1</td>\n",
       "      <td>женат / замужем</td>\n",
       "      <td>0</td>\n",
       "      <td>F</td>\n",
       "      <td>сотрудник</td>\n",
       "      <td>0</td>\n",
       "      <td>289202.704229</td>\n",
       "      <td>недвижимость</td>\n",
       "    </tr>\n",
       "    <tr>\n",
       "      <th>17</th>\n",
       "      <td>0</td>\n",
       "      <td>-2369.999720</td>\n",
       "      <td>33</td>\n",
       "      <td>высшее</td>\n",
       "      <td>0</td>\n",
       "      <td>гражданский брак</td>\n",
       "      <td>1</td>\n",
       "      <td>M</td>\n",
       "      <td>сотрудник</td>\n",
       "      <td>0</td>\n",
       "      <td>90410.586745</td>\n",
       "      <td>строительство недвижимости</td>\n",
       "    </tr>\n",
       "    <tr>\n",
       "      <th>18</th>\n",
       "      <td>0</td>\n",
       "      <td>400281.136913</td>\n",
       "      <td>53</td>\n",
       "      <td>среднее</td>\n",
       "      <td>1</td>\n",
       "      <td>вдовец / вдова</td>\n",
       "      <td>2</td>\n",
       "      <td>F</td>\n",
       "      <td>пенсионер</td>\n",
       "      <td>0</td>\n",
       "      <td>56823.777243</td>\n",
       "      <td>на покупку подержанного автомобиля</td>\n",
       "    </tr>\n",
       "    <tr>\n",
       "      <th>19</th>\n",
       "      <td>0</td>\n",
       "      <td>-10038.818549</td>\n",
       "      <td>48</td>\n",
       "      <td>СРЕДНЕЕ</td>\n",
       "      <td>1</td>\n",
       "      <td>в разводе</td>\n",
       "      <td>3</td>\n",
       "      <td>F</td>\n",
       "      <td>сотрудник</td>\n",
       "      <td>0</td>\n",
       "      <td>242831.107982</td>\n",
       "      <td>на покупку своего автомобиля</td>\n",
       "    </tr>\n",
       "  </tbody>\n",
       "</table>\n",
       "</div>"
      ],
      "text/plain": [
       "    children  days_employed  dob_years            education  education_id  \\\n",
       "0          1   -8437.673028         42               высшее             0   \n",
       "1          1   -4024.803754         36              среднее             1   \n",
       "2          0   -5623.422610         33              Среднее             1   \n",
       "3          3   -4124.747207         32              среднее             1   \n",
       "4          0  340266.072047         53              среднее             1   \n",
       "5          0    -926.185831         27               высшее             0   \n",
       "6          0   -2879.202052         43               высшее             0   \n",
       "7          0    -152.779569         50              СРЕДНЕЕ             1   \n",
       "8          2   -6929.865299         35               ВЫСШЕЕ             0   \n",
       "9          0   -2188.756445         41              среднее             1   \n",
       "10         2   -4171.483647         36               высшее             0   \n",
       "11         0    -792.701887         40              среднее             1   \n",
       "12         0            NaN         65              среднее             1   \n",
       "13         0   -1846.641941         54  неоконченное высшее             2   \n",
       "14         0   -1844.956182         56               высшее             0   \n",
       "15         1    -972.364419         26              среднее             1   \n",
       "16         0   -1719.934226         35              среднее             1   \n",
       "17         0   -2369.999720         33               высшее             0   \n",
       "18         0  400281.136913         53              среднее             1   \n",
       "19         0  -10038.818549         48              СРЕДНЕЕ             1   \n",
       "\n",
       "       family_status  family_status_id gender income_type  debt  \\\n",
       "0    женат / замужем                 0      F   сотрудник     0   \n",
       "1    женат / замужем                 0      F   сотрудник     0   \n",
       "2    женат / замужем                 0      M   сотрудник     0   \n",
       "3    женат / замужем                 0      M   сотрудник     0   \n",
       "4   гражданский брак                 1      F   пенсионер     0   \n",
       "5   гражданский брак                 1      M   компаньон     0   \n",
       "6    женат / замужем                 0      F   компаньон     0   \n",
       "7    женат / замужем                 0      M   сотрудник     0   \n",
       "8   гражданский брак                 1      F   сотрудник     0   \n",
       "9    женат / замужем                 0      M   сотрудник     0   \n",
       "10   женат / замужем                 0      M   компаньон     0   \n",
       "11   женат / замужем                 0      F   сотрудник     0   \n",
       "12  гражданский брак                 1      M   пенсионер     0   \n",
       "13   женат / замужем                 0      F   сотрудник     0   \n",
       "14  гражданский брак                 1      F   компаньон     1   \n",
       "15   женат / замужем                 0      F   сотрудник     0   \n",
       "16   женат / замужем                 0      F   сотрудник     0   \n",
       "17  гражданский брак                 1      M   сотрудник     0   \n",
       "18    вдовец / вдова                 2      F   пенсионер     0   \n",
       "19         в разводе                 3      F   сотрудник     0   \n",
       "\n",
       "     total_income                                 purpose  \n",
       "0   253875.639453                           покупка жилья  \n",
       "1   112080.014102                 приобретение автомобиля  \n",
       "2   145885.952297                           покупка жилья  \n",
       "3   267628.550329              дополнительное образование  \n",
       "4   158616.077870                         сыграть свадьбу  \n",
       "5   255763.565419                           покупка жилья  \n",
       "6   240525.971920                       операции с жильем  \n",
       "7   135823.934197                             образование  \n",
       "8    95856.832424                   на проведение свадьбы  \n",
       "9   144425.938277                 покупка жилья для семьи  \n",
       "10  113943.491460                    покупка недвижимости  \n",
       "11   77069.234271       покупка коммерческой недвижимости  \n",
       "12            NaN                         сыграть свадьбу  \n",
       "13  130458.228857                 приобретение автомобиля  \n",
       "14  165127.911772              покупка жилой недвижимости  \n",
       "15  116820.904450  строительство собственной недвижимости  \n",
       "16  289202.704229                            недвижимость  \n",
       "17   90410.586745              строительство недвижимости  \n",
       "18   56823.777243      на покупку подержанного автомобиля  \n",
       "19  242831.107982            на покупку своего автомобиля  "
      ]
     },
     "execution_count": 2,
     "metadata": {},
     "output_type": "execute_result"
    }
   ],
   "source": [
    "data.head(20)"
   ]
  },
  {
   "cell_type": "markdown",
   "id": "e6a1dff9",
   "metadata": {
    "deletable": false,
    "editable": false,
    "id": "1c12e233"
   },
   "source": [
    "**Выведем основную информацию о датафрейме с помощью метода `info()`.**"
   ]
  },
  {
   "cell_type": "code",
   "execution_count": 3,
   "id": "13ad5622",
   "metadata": {
    "deletable": false,
    "id": "2b757bca",
    "outputId": "15376089-8dad-46c9-b520-c05248d43158"
   },
   "outputs": [
    {
     "name": "stdout",
     "output_type": "stream",
     "text": [
      "<class 'pandas.core.frame.DataFrame'>\n",
      "RangeIndex: 21525 entries, 0 to 21524\n",
      "Data columns (total 12 columns):\n",
      " #   Column            Non-Null Count  Dtype  \n",
      "---  ------            --------------  -----  \n",
      " 0   children          21525 non-null  int64  \n",
      " 1   days_employed     19351 non-null  float64\n",
      " 2   dob_years         21525 non-null  int64  \n",
      " 3   education         21525 non-null  object \n",
      " 4   education_id      21525 non-null  int64  \n",
      " 5   family_status     21525 non-null  object \n",
      " 6   family_status_id  21525 non-null  int64  \n",
      " 7   gender            21525 non-null  object \n",
      " 8   income_type       21525 non-null  object \n",
      " 9   debt              21525 non-null  int64  \n",
      " 10  total_income      19351 non-null  float64\n",
      " 11  purpose           21525 non-null  object \n",
      "dtypes: float64(2), int64(5), object(5)\n",
      "memory usage: 2.0+ MB\n"
     ]
    }
   ],
   "source": [
    "data.info()"
   ]
  },
  {
   "cell_type": "markdown",
   "id": "ff013dc8",
   "metadata": {
    "deletable": false,
    "editable": false,
    "id": "333ec665"
   },
   "source": [
    "## Предобработка данных"
   ]
  },
  {
   "cell_type": "markdown",
   "id": "575c1b14",
   "metadata": {
    "deletable": false,
    "editable": false,
    "id": "02d92d53"
   },
   "source": [
    "### Удаление пропусков"
   ]
  },
  {
   "cell_type": "markdown",
   "id": "39f97f06",
   "metadata": {
    "deletable": false,
    "editable": false,
    "id": "cd84967c"
   },
   "source": [
    "**Выведем количество пропущенных значений для каждого столбца. Используем комбинацию двух методов.**"
   ]
  },
  {
   "cell_type": "code",
   "execution_count": 4,
   "id": "190b2b48",
   "metadata": {
    "deletable": false,
    "id": "7f9b2309",
    "outputId": "81f4d817-781c-465c-ed15-91ce4446810d"
   },
   "outputs": [
    {
     "data": {
      "text/plain": [
       "children               0\n",
       "days_employed       2174\n",
       "dob_years              0\n",
       "education              0\n",
       "education_id           0\n",
       "family_status          0\n",
       "family_status_id       0\n",
       "gender                 0\n",
       "income_type            0\n",
       "debt                   0\n",
       "total_income        2174\n",
       "purpose                0\n",
       "dtype: int64"
      ]
     },
     "execution_count": 4,
     "metadata": {},
     "output_type": "execute_result"
    }
   ],
   "source": [
    "data.isna().sum()"
   ]
  },
  {
   "cell_type": "markdown",
   "id": "abb49fe1",
   "metadata": {
    "deletable": false,
    "editable": false,
    "id": "db86e27b"
   },
   "source": [
    "**В двух столбцах есть пропущенные значения. Один из них — `days_employed`. Пропуски в этом столбце обработаем на следующем этапе. Другой столбец с пропущенными значениями — `total_income` — хранит данные о доходах. На сумму дохода сильнее всего влияет тип занятости, поэтому заполнить пропуски в этом столбце нужно медианным значением по каждому типу из столбца `income_type`. Например, у человека с типом занятости `сотрудник` пропуск в столбце `total_income` должен быть заполнен медианным доходом среди всех записей с тем же типом.**"
   ]
  },
  {
   "cell_type": "code",
   "execution_count": 5,
   "id": "e7580fb9",
   "metadata": {
    "deletable": false,
    "id": "42006a93"
   },
   "outputs": [],
   "source": [
    "for t in data['income_type'].unique():\n",
    "    data.loc[(data['income_type'] == t) & (data['total_income'].isna()), 'total_income'] = \\\n",
    "    data.loc[(data['income_type'] == t), 'total_income'].median()"
   ]
  },
  {
   "cell_type": "markdown",
   "id": "a11ff2ff",
   "metadata": {
    "deletable": false,
    "editable": false,
    "id": "89da5ece"
   },
   "source": [
    "### Обработка аномальных значений"
   ]
  },
  {
   "cell_type": "markdown",
   "id": "a5c3bd1e",
   "metadata": {
    "deletable": false,
    "editable": false,
    "id": "57964554"
   },
   "source": [
    "**В данных могут встречаться артефакты (аномалии) — значения, которые не отражают действительность и появились по какой-то ошибке. таким артефактом будет отрицательное количество дней трудового стажа в столбце `days_employed`. Для реальных данных это нормально. Обработаем значения в этом столбце: заменим все отрицательные значения положительными с помощью метода `abs()`.**"
   ]
  },
  {
   "cell_type": "code",
   "execution_count": 6,
   "id": "d313e7e0",
   "metadata": {
    "deletable": false,
    "id": "f6f055bf"
   },
   "outputs": [],
   "source": [
    "data['days_employed'] = data['days_employed'].abs()"
   ]
  },
  {
   "cell_type": "markdown",
   "id": "f458e5f0",
   "metadata": {
    "deletable": false,
    "editable": false,
    "id": "6107dd2f"
   },
   "source": [
    "**Для каждого типа занятости выведем медианное значение трудового стажа `days_employed` в днях.**"
   ]
  },
  {
   "cell_type": "code",
   "execution_count": 7,
   "id": "22e98335",
   "metadata": {
    "deletable": false,
    "id": "85a5faf6",
    "outputId": "801ef80e-522b-4668-f34e-565af7432bcf"
   },
   "outputs": [
    {
     "data": {
      "text/plain": [
       "income_type\n",
       "безработный        366413.652744\n",
       "в декрете            3296.759962\n",
       "госслужащий          2689.368353\n",
       "компаньон            1547.382223\n",
       "пенсионер          365213.306266\n",
       "предприниматель       520.848083\n",
       "сотрудник            1574.202821\n",
       "студент               578.751554\n",
       "Name: days_employed, dtype: float64"
      ]
     },
     "execution_count": 7,
     "metadata": {},
     "output_type": "execute_result"
    }
   ],
   "source": [
    "data.groupby('income_type')['days_employed'].agg('median')"
   ]
  },
  {
   "cell_type": "markdown",
   "id": "4c36e799",
   "metadata": {
    "deletable": false,
    "editable": false,
    "id": "38d1a030"
   },
   "source": [
    "У двух типов (безработные и пенсионеры) получатся аномально большие значения. Исправить такие значения сложно, поэтому оставьте их как есть. Тем более этот столбец не понадобится вам для исследования."
   ]
  },
  {
   "cell_type": "markdown",
   "id": "9661d41c",
   "metadata": {
    "deletable": false,
    "editable": false,
    "id": "d8a9f147"
   },
   "source": [
    "**Выведем перечень уникальных значений столбца `children`.**"
   ]
  },
  {
   "cell_type": "code",
   "execution_count": 8,
   "id": "281ccb4f",
   "metadata": {
    "deletable": false,
    "id": "ef5056eb",
    "outputId": "6975b15c-7f95-4697-d16d-a0c79b657b03"
   },
   "outputs": [
    {
     "data": {
      "text/plain": [
       "array([ 1,  0,  3,  2, -1,  4, 20,  5])"
      ]
     },
     "execution_count": 8,
     "metadata": {},
     "output_type": "execute_result"
    }
   ],
   "source": [
    "data['children'].unique()"
   ]
  },
  {
   "cell_type": "markdown",
   "id": "34c1d28c",
   "metadata": {
    "deletable": false,
    "editable": false,
    "id": "40b9ebf2"
   },
   "source": [
    "**В столбце `children` есть два аномальных значения. Удалим строки, в которых встречаются такие аномальные значения из датафрейма `data`.**"
   ]
  },
  {
   "cell_type": "code",
   "execution_count": 9,
   "id": "44bd2d5c",
   "metadata": {
    "deletable": false,
    "id": "3ff9801d"
   },
   "outputs": [],
   "source": [
    "data = data[(data['children'] != -1) & (data['children'] != 20)]"
   ]
  },
  {
   "cell_type": "markdown",
   "id": "a59bc411",
   "metadata": {
    "deletable": false,
    "editable": false,
    "id": "bbc4d0ce"
   },
   "source": [
    "**Ещё раз выведем перечень уникальных значений столбца `children`, чтобы убедиться, что артефакты удалены.**"
   ]
  },
  {
   "cell_type": "code",
   "execution_count": 10,
   "id": "745d1409",
   "metadata": {
    "deletable": false,
    "id": "ad4fa8b7",
    "outputId": "b2097101-d49d-44d9-901b-32a65c9463d1"
   },
   "outputs": [
    {
     "data": {
      "text/plain": [
       "array([1, 0, 3, 2, 4, 5])"
      ]
     },
     "execution_count": 10,
     "metadata": {},
     "output_type": "execute_result"
    }
   ],
   "source": [
    "data['children'].unique()"
   ]
  },
  {
   "cell_type": "markdown",
   "id": "693c8e00",
   "metadata": {
    "deletable": false,
    "editable": false,
    "id": "75440b63"
   },
   "source": [
    "### Удаление пропусков"
   ]
  },
  {
   "cell_type": "markdown",
   "id": "a4525bcb",
   "metadata": {
    "deletable": false,
    "editable": false,
    "id": "f4ea573f"
   },
   "source": [
    "**Заполним пропуски в столбце `days_employed` медианными значениями по каждого типа занятости `income_type`.**"
   ]
  },
  {
   "cell_type": "code",
   "execution_count": 11,
   "id": "0fee969b",
   "metadata": {
    "deletable": false,
    "id": "af6b1a7e"
   },
   "outputs": [],
   "source": [
    "for t in data['income_type'].unique():\n",
    "    data.loc[(data['income_type'] == t) & (data['days_employed'].isna()), 'days_employed'] = \\\n",
    "    data.loc[(data['income_type'] == t), 'days_employed'].median()"
   ]
  },
  {
   "cell_type": "markdown",
   "id": "f69b4115",
   "metadata": {
    "deletable": false,
    "editable": false,
    "id": "2753f40d"
   },
   "source": [
    "**Убедимся, что все пропуски заполнены. Проверим себя и ещё раз выведите количество пропущенных значений для каждого столбца с помощью двух методов.**"
   ]
  },
  {
   "cell_type": "code",
   "execution_count": 12,
   "id": "f419a6f5",
   "metadata": {
    "deletable": false,
    "id": "55f78bc2",
    "outputId": "8da1e4e1-358e-4e87-98c9-f261bce0a7b2"
   },
   "outputs": [
    {
     "data": {
      "text/plain": [
       "children            0\n",
       "days_employed       0\n",
       "dob_years           0\n",
       "education           0\n",
       "education_id        0\n",
       "family_status       0\n",
       "family_status_id    0\n",
       "gender              0\n",
       "income_type         0\n",
       "debt                0\n",
       "total_income        0\n",
       "purpose             0\n",
       "dtype: int64"
      ]
     },
     "execution_count": 12,
     "metadata": {},
     "output_type": "execute_result"
    }
   ],
   "source": [
    "data.isna().sum()"
   ]
  },
  {
   "cell_type": "markdown",
   "id": "16670d37",
   "metadata": {
    "deletable": false,
    "editable": false,
    "id": "ddc81e43"
   },
   "source": [
    "### Изменение типов данных"
   ]
  },
  {
   "cell_type": "markdown",
   "id": "23e1ae1a",
   "metadata": {
    "deletable": false,
    "editable": false,
    "id": "42d19d24"
   },
   "source": [
    "**Заменим вещественный тип данных в столбце `total_income` на целочисленный с помощью метода `astype()`.**"
   ]
  },
  {
   "cell_type": "code",
   "execution_count": 13,
   "id": "c13f8ad2",
   "metadata": {
    "deletable": false,
    "id": "920b65ad"
   },
   "outputs": [],
   "source": [
    "data['total_income'] = data['total_income'].astype(int)"
   ]
  },
  {
   "cell_type": "markdown",
   "id": "8cf80985",
   "metadata": {
    "deletable": false,
    "editable": false,
    "id": "80c420ba"
   },
   "source": [
    "### Обработка дубликатов"
   ]
  },
  {
   "cell_type": "markdown",
   "id": "cba837eb",
   "metadata": {
    "deletable": false,
    "editable": false
   },
   "source": [
    "**Обработаем неявные дубликаты в столбце `education`. В этом столбце есть одни и те же значения, но записанные по-разному: с использованием заглавных и строчных букв. Приведем их к нижнему регистру. Проверим остальные столбцы.**"
   ]
  },
  {
   "cell_type": "code",
   "execution_count": 14,
   "id": "e1702b14",
   "metadata": {
    "deletable": false
   },
   "outputs": [],
   "source": [
    "data['education'] = data['education'].str.lower()"
   ]
  },
  {
   "cell_type": "markdown",
   "id": "c9d803f3",
   "metadata": {
    "deletable": false,
    "editable": false,
    "id": "dc587695"
   },
   "source": [
    "**Выведем на экран количество строк-дубликатов в данных. Если такие строки присутствуют, удалим их.**"
   ]
  },
  {
   "cell_type": "code",
   "execution_count": 15,
   "id": "17bb5b76",
   "metadata": {
    "deletable": false,
    "id": "3ee445e4",
    "outputId": "9684deba-1934-42d1-99e1-cda61740f822"
   },
   "outputs": [
    {
     "data": {
      "text/plain": [
       "71"
      ]
     },
     "execution_count": 15,
     "metadata": {},
     "output_type": "execute_result"
    }
   ],
   "source": [
    "data.duplicated().sum()"
   ]
  },
  {
   "cell_type": "code",
   "execution_count": 16,
   "id": "eeb09c07",
   "metadata": {
    "deletable": false,
    "id": "8575fe05"
   },
   "outputs": [],
   "source": [
    "data = data.drop_duplicates()"
   ]
  },
  {
   "cell_type": "markdown",
   "id": "162b0fee",
   "metadata": {
    "deletable": false,
    "editable": false,
    "id": "9904cf55"
   },
   "source": [
    "### Категоризация данных"
   ]
  },
  {
   "cell_type": "markdown",
   "id": "9fa2801c",
   "metadata": {
    "deletable": false,
    "editable": false,
    "id": "72fcc8a2"
   },
   "source": [
    "**На основании диапазонов, указанных ниже, создадим в датафрейме `data` столбец `total_income_category` с категориями:**\n",
    "\n",
    "- 0–30000 — `'E'`;\n",
    "- 30001–50000 — `'D'`;\n",
    "- 50001–200000 — `'C'`;\n",
    "- 200001–1000000 — `'B'`;\n",
    "- 1000001 и выше — `'A'`.\n",
    "\n",
    "\n",
    "**Например, кредитополучателю с доходом 25000 нужно назначить категорию `'E'`, а клиенту, получающему 235000, — `'B'`. Используем собственную функцию с именем `categorize_income()` и метод `apply()`.**"
   ]
  },
  {
   "cell_type": "code",
   "execution_count": 17,
   "id": "238a70bf",
   "metadata": {
    "deletable": false,
    "id": "e1771346"
   },
   "outputs": [],
   "source": [
    "def categorize_income(income):\n",
    "    try:\n",
    "        if 0 <= income <= 30000:\n",
    "            return 'E'\n",
    "        elif 30001 <= income <= 50000:\n",
    "            return 'D'\n",
    "        elif 50001 <= income <= 200000:\n",
    "            return 'C'\n",
    "        elif 200001 <= income <= 1000000:\n",
    "            return 'B'\n",
    "        elif income >= 1000001:\n",
    "            return 'A'\n",
    "    except:\n",
    "        pass"
   ]
  },
  {
   "cell_type": "code",
   "execution_count": 18,
   "id": "577412f8",
   "metadata": {
    "deletable": false,
    "id": "d5f3586d"
   },
   "outputs": [],
   "source": [
    "data['total_income_category'] = data['total_income'].apply(categorize_income)"
   ]
  },
  {
   "cell_type": "markdown",
   "id": "10ed63f4",
   "metadata": {
    "deletable": false,
    "editable": false,
    "id": "dde49b5c"
   },
   "source": [
    "**Задание 17. Выведем на экран перечень уникальных целей взятия кредита из столбца `purpose`.**"
   ]
  },
  {
   "cell_type": "code",
   "execution_count": 19,
   "id": "b12b0856",
   "metadata": {
    "deletable": false,
    "id": "f67ce9b3",
    "outputId": "673c12d9-7d7e-4ae0-9812-c622c89dd244"
   },
   "outputs": [
    {
     "data": {
      "text/plain": [
       "array(['покупка жилья', 'приобретение автомобиля',\n",
       "       'дополнительное образование', 'сыграть свадьбу',\n",
       "       'операции с жильем', 'образование', 'на проведение свадьбы',\n",
       "       'покупка жилья для семьи', 'покупка недвижимости',\n",
       "       'покупка коммерческой недвижимости', 'покупка жилой недвижимости',\n",
       "       'строительство собственной недвижимости', 'недвижимость',\n",
       "       'строительство недвижимости', 'на покупку подержанного автомобиля',\n",
       "       'на покупку своего автомобиля',\n",
       "       'операции с коммерческой недвижимостью',\n",
       "       'строительство жилой недвижимости', 'жилье',\n",
       "       'операции со своей недвижимостью', 'автомобили',\n",
       "       'заняться образованием', 'сделка с подержанным автомобилем',\n",
       "       'получение образования', 'автомобиль', 'свадьба',\n",
       "       'получение дополнительного образования', 'покупка своего жилья',\n",
       "       'операции с недвижимостью', 'получение высшего образования',\n",
       "       'свой автомобиль', 'сделка с автомобилем',\n",
       "       'профильное образование', 'высшее образование',\n",
       "       'покупка жилья для сдачи', 'на покупку автомобиля', 'ремонт жилью',\n",
       "       'заняться высшим образованием'], dtype=object)"
      ]
     },
     "execution_count": 19,
     "metadata": {},
     "output_type": "execute_result"
    }
   ],
   "source": [
    "data['purpose'].unique()"
   ]
  },
  {
   "cell_type": "markdown",
   "id": "54e796b7",
   "metadata": {
    "deletable": false,
    "editable": false,
    "id": "85d0aef0"
   },
   "source": [
    "**Задание 18. Создадим функцию, которая на основании данных из столбца `purpose` сформирует новый столбец `purpose_category`, в который войдут следующие категории:**\n",
    "\n",
    "- `'операции с автомобилем'`,\n",
    "- `'операции с недвижимостью'`,\n",
    "- `'проведение свадьбы'`,\n",
    "- `'получение образования'`.\n",
    "\n",
    "**Например, если в столбце `purpose` находится подстрока `'на покупку автомобиля'`, то в столбце `purpose_category` должна появиться строка `'операции с автомобилем'`.**\n",
    "\n",
    "**Используем собственную функцию с именем `categorize_purpose()` и метод `apply()`. Изучим данные в столбце `purpose` и определим, какие подстроки помогут вам правильно определить категорию.**"
   ]
  },
  {
   "cell_type": "code",
   "execution_count": 20,
   "id": "218ae088",
   "metadata": {
    "deletable": false,
    "id": "e149fab4"
   },
   "outputs": [],
   "source": [
    "def categorize_purpose(row):\n",
    "    try:\n",
    "        if 'автом' in row:\n",
    "            return 'операции с автомобилем'\n",
    "        elif 'жил' in row or 'недвиж' in row:\n",
    "            return 'операции с недвижимостью'\n",
    "        elif 'свад' in row:\n",
    "            return 'проведение свадьбы'\n",
    "        elif 'образов' in row:\n",
    "            return 'получение образования'\n",
    "    except:\n",
    "        return 'нет категории'"
   ]
  },
  {
   "cell_type": "code",
   "execution_count": 21,
   "id": "8f6cb927",
   "metadata": {
    "deletable": false,
    "id": "bf36e69b"
   },
   "outputs": [],
   "source": [
    "data['purpose_category'] = data['purpose'].apply(categorize_purpose)"
   ]
  },
  {
   "cell_type": "markdown",
   "id": "84fdc368",
   "metadata": {
    "deletable": false,
    "editable": false,
    "id": "09b242bf"
   },
   "source": [
    "### Шаг 3. Исследуем данные и ответим на вопросы"
   ]
  },
  {
   "cell_type": "markdown",
   "id": "f399c525",
   "metadata": {},
   "source": [
    "Переименуем столбцы исходного датафрейма:"
   ]
  },
  {
   "cell_type": "code",
   "execution_count": 22,
   "id": "9c3071df",
   "metadata": {},
   "outputs": [],
   "source": [
    "data = data.rename(columns = {'children':'Количество детей', \"family_status\":\"Семейное положение\", \n",
    "                              \"total_income_category\": \"Категория уровня дохода\", \"purpose_category\": \"Цель кредита\"\n",
    "                             })"
   ]
  },
  {
   "cell_type": "markdown",
   "id": "b8687bb4",
   "metadata": {
    "deletable": false,
    "editable": false,
    "id": "c5d66278"
   },
   "source": [
    "#### 3.1 Есть ли зависимость между количеством детей и возвратом кредита в срок?"
   ]
  },
  {
   "cell_type": "markdown",
   "id": "1f207aa1",
   "metadata": {},
   "source": [
    "Оценим наличие задолженности у клиетов с разным количеством детей. Для этого создадим сводную таблицу, где рассмотрим группы клиентов по количеству детей и посмотрим для каждой группы общее количество клиентов, количество клиентов, имеющих задолженность, а также найдем какой процент от общего числа клиентов составляют клиенты с задолженностью для каждой группы:"
   ]
  },
  {
   "cell_type": "code",
   "execution_count": 23,
   "id": "09fcc8af",
   "metadata": {
    "deletable": false,
    "id": "2cacfc4a",
    "scrolled": false
   },
   "outputs": [
    {
     "data": {
      "text/html": [
       "<div>\n",
       "<style scoped>\n",
       "    .dataframe tbody tr th:only-of-type {\n",
       "        vertical-align: middle;\n",
       "    }\n",
       "\n",
       "    .dataframe tbody tr th {\n",
       "        vertical-align: top;\n",
       "    }\n",
       "\n",
       "    .dataframe thead th {\n",
       "        text-align: right;\n",
       "    }\n",
       "</style>\n",
       "<table border=\"1\" class=\"dataframe\">\n",
       "  <thead>\n",
       "    <tr style=\"text-align: right;\">\n",
       "      <th></th>\n",
       "      <th>Всего клиентов</th>\n",
       "      <th>Клиентов с задолженностью</th>\n",
       "      <th>Процент клиентов с задолженностью</th>\n",
       "    </tr>\n",
       "    <tr>\n",
       "      <th>Количество детей</th>\n",
       "      <th></th>\n",
       "      <th></th>\n",
       "      <th></th>\n",
       "    </tr>\n",
       "  </thead>\n",
       "  <tbody>\n",
       "    <tr>\n",
       "      <th>0</th>\n",
       "      <td>14091</td>\n",
       "      <td>1063</td>\n",
       "      <td>7.543822</td>\n",
       "    </tr>\n",
       "    <tr>\n",
       "      <th>1</th>\n",
       "      <td>4808</td>\n",
       "      <td>444</td>\n",
       "      <td>9.234609</td>\n",
       "    </tr>\n",
       "    <tr>\n",
       "      <th>2</th>\n",
       "      <td>2052</td>\n",
       "      <td>194</td>\n",
       "      <td>9.454191</td>\n",
       "    </tr>\n",
       "    <tr>\n",
       "      <th>3</th>\n",
       "      <td>330</td>\n",
       "      <td>27</td>\n",
       "      <td>8.181818</td>\n",
       "    </tr>\n",
       "    <tr>\n",
       "      <th>4</th>\n",
       "      <td>41</td>\n",
       "      <td>4</td>\n",
       "      <td>9.756098</td>\n",
       "    </tr>\n",
       "    <tr>\n",
       "      <th>5</th>\n",
       "      <td>9</td>\n",
       "      <td>0</td>\n",
       "      <td>0.000000</td>\n",
       "    </tr>\n",
       "  </tbody>\n",
       "</table>\n",
       "</div>"
      ],
      "text/plain": [
       "                  Всего клиентов  Клиентов с задолженностью  \\\n",
       "Количество детей                                              \n",
       "0                          14091                       1063   \n",
       "1                           4808                        444   \n",
       "2                           2052                        194   \n",
       "3                            330                         27   \n",
       "4                             41                          4   \n",
       "5                              9                          0   \n",
       "\n",
       "                  Процент клиентов с задолженностью  \n",
       "Количество детей                                     \n",
       "0                                          7.543822  \n",
       "1                                          9.234609  \n",
       "2                                          9.454191  \n",
       "3                                          8.181818  \n",
       "4                                          9.756098  \n",
       "5                                          0.000000  "
      ]
     },
     "metadata": {},
     "output_type": "display_data"
    }
   ],
   "source": [
    "data_children = data.pivot_table(index = 'Количество детей', values = 'debt', aggfunc = {'count','sum','mean'})\n",
    "data_children['mean'] = data_children['mean']*100\n",
    "data_children['count'] = data_children['count'].astype(int)\n",
    "data_children['sum'] = data_children['sum'].astype(int)\n",
    "data_children = data_children.rename(columns = {'count':'Всего клиентов', 'sum':'Клиентов с задолженностью', 'mean':'Процент клиентов с задолженностью'})\n",
    "data_children_final = pd.DataFrame(data = data_children, columns = ['Всего клиентов','Клиентов с задолженностью','Процент клиентов с задолженностью'])\n",
    "display(data_children_final)"
   ]
  },
  {
   "cell_type": "markdown",
   "id": "03ed4473",
   "metadata": {
    "deletable": false,
    "id": "3a6b99ec"
   },
   "source": [
    "**Вывод:** анализируя полученную таблицу мы можем сделать вывод о том, что количество клиентов, имеющих задолженность ниже среди клиентов без детей и примерно равно для групп клиентов с разным количеством детей, исключение составляют только клиенты с 5 детьми, но их количество очень мало по сравнению с другими группами и общим количеством клиентов, поэтому данные по этой группе не являются репрезентативными. Из этого мы можем сделать вывод, что количество детей не влияет на возврат кредита в срок, однако среди людей без детей процент должников ниже."
   ]
  },
  {
   "cell_type": "markdown",
   "id": "ed5f1651",
   "metadata": {
    "deletable": false,
    "editable": false,
    "id": "97be82ca"
   },
   "source": [
    "#### 3.2 Есть ли зависимость между семейным положением и возвратом кредита в срок?"
   ]
  },
  {
   "cell_type": "markdown",
   "id": "8896432f",
   "metadata": {},
   "source": [
    "Оценим наличие задолженности у клиетов с разным семейным положением. Для этого создадим сводную таблицу, где рассморим клиентов по семейному положению и посмотрим для каждой группы общее количество клиентов, количество клиентов, имеющих задолженность, а также найдем какой процент от общего числа клиентов составляют клиенты с задолженностью для каждой группы:"
   ]
  },
  {
   "cell_type": "code",
   "execution_count": 24,
   "id": "bc8422f5",
   "metadata": {
    "deletable": false,
    "id": "dc3f7ee8",
    "scrolled": false
   },
   "outputs": [
    {
     "data": {
      "text/html": [
       "<div>\n",
       "<style scoped>\n",
       "    .dataframe tbody tr th:only-of-type {\n",
       "        vertical-align: middle;\n",
       "    }\n",
       "\n",
       "    .dataframe tbody tr th {\n",
       "        vertical-align: top;\n",
       "    }\n",
       "\n",
       "    .dataframe thead th {\n",
       "        text-align: right;\n",
       "    }\n",
       "</style>\n",
       "<table border=\"1\" class=\"dataframe\">\n",
       "  <thead>\n",
       "    <tr style=\"text-align: right;\">\n",
       "      <th></th>\n",
       "      <th>Всего клиентов</th>\n",
       "      <th>Клиентов с задолженностью</th>\n",
       "      <th>Процент клиентов с задолженностью</th>\n",
       "    </tr>\n",
       "    <tr>\n",
       "      <th>Семейное положение</th>\n",
       "      <th></th>\n",
       "      <th></th>\n",
       "      <th></th>\n",
       "    </tr>\n",
       "  </thead>\n",
       "  <tbody>\n",
       "    <tr>\n",
       "      <th>Не женат / не замужем</th>\n",
       "      <td>2796</td>\n",
       "      <td>273</td>\n",
       "      <td>9.763948</td>\n",
       "    </tr>\n",
       "    <tr>\n",
       "      <th>в разводе</th>\n",
       "      <td>1189</td>\n",
       "      <td>84</td>\n",
       "      <td>7.064760</td>\n",
       "    </tr>\n",
       "    <tr>\n",
       "      <th>вдовец / вдова</th>\n",
       "      <td>951</td>\n",
       "      <td>63</td>\n",
       "      <td>6.624606</td>\n",
       "    </tr>\n",
       "    <tr>\n",
       "      <th>гражданский брак</th>\n",
       "      <td>4134</td>\n",
       "      <td>385</td>\n",
       "      <td>9.313014</td>\n",
       "    </tr>\n",
       "    <tr>\n",
       "      <th>женат / замужем</th>\n",
       "      <td>12261</td>\n",
       "      <td>927</td>\n",
       "      <td>7.560558</td>\n",
       "    </tr>\n",
       "  </tbody>\n",
       "</table>\n",
       "</div>"
      ],
      "text/plain": [
       "                       Всего клиентов  Клиентов с задолженностью  \\\n",
       "Семейное положение                                                 \n",
       "Не женат / не замужем            2796                        273   \n",
       "в разводе                        1189                         84   \n",
       "вдовец / вдова                    951                         63   \n",
       "гражданский брак                 4134                        385   \n",
       "женат / замужем                 12261                        927   \n",
       "\n",
       "                       Процент клиентов с задолженностью  \n",
       "Семейное положение                                        \n",
       "Не женат / не замужем                           9.763948  \n",
       "в разводе                                       7.064760  \n",
       "вдовец / вдова                                  6.624606  \n",
       "гражданский брак                                9.313014  \n",
       "женат / замужем                                 7.560558  "
      ]
     },
     "metadata": {},
     "output_type": "display_data"
    }
   ],
   "source": [
    "data_family = data.pivot_table(index = 'Семейное положение', values = 'debt', aggfunc = {'count','sum','mean'})\n",
    "data_family['mean'] = data_family['mean']*100\n",
    "data_family['count'] = data_family['count'].astype(int)\n",
    "data_family['sum'] = data_family['sum'].astype(int)\n",
    "data_family = data_family.rename(columns = {'count':'Всего клиентов', 'sum':'Клиентов с задолженностью', 'mean':'Процент клиентов с задолженностью'})\n",
    "data_family_final = pd.DataFrame(data = data_family, columns = ['Всего клиентов','Клиентов с задолженностью','Процент клиентов с задолженностью'])\n",
    "display(data_family_final)"
   ]
  },
  {
   "cell_type": "markdown",
   "id": "44089e27",
   "metadata": {
    "deletable": false,
    "id": "1cef7837"
   },
   "source": [
    "**Вывод:** анализируя полученную таблицу мы можем сделать вывод о том, что количество клиентов, имеющих задолженность ниже среди вдов/вдовцов, а также среди людей в разводе. Больше всего имеют задолженность не женатые и состоящие в гражданском браке. Из этого мы можем сделать вывод, что семейное положение влияет на возврат кредита в срок."
   ]
  },
  {
   "cell_type": "markdown",
   "id": "1925eb06",
   "metadata": {
    "deletable": false,
    "editable": false,
    "id": "1e8b2fca"
   },
   "source": [
    "#### 3.3 Есть ли зависимость между уровнем дохода и возвратом кредита в срок?"
   ]
  },
  {
   "cell_type": "markdown",
   "id": "4957aef7",
   "metadata": {},
   "source": [
    "Оценим наличие задолженности у клиетов с разным уровнем дохода. Для этого создадим сводную таблицу, где рассмотрим клиентов по уровню дохода (клиенты были разделены на категории по уровню дохода в пункте 2.6, будем базироваться на этих категориях) и посмотрим для каждой группы общее количество клиентов, количество клиентов, имеющих задолженность, а также найдем какой процент от общего числа клиентов составляют клиенты с задолженностью для каждой группы:"
   ]
  },
  {
   "cell_type": "code",
   "execution_count": 25,
   "id": "1bda9ab2",
   "metadata": {
    "deletable": false,
    "id": "cd7e3720"
   },
   "outputs": [
    {
     "data": {
      "text/html": [
       "<div>\n",
       "<style scoped>\n",
       "    .dataframe tbody tr th:only-of-type {\n",
       "        vertical-align: middle;\n",
       "    }\n",
       "\n",
       "    .dataframe tbody tr th {\n",
       "        vertical-align: top;\n",
       "    }\n",
       "\n",
       "    .dataframe thead th {\n",
       "        text-align: right;\n",
       "    }\n",
       "</style>\n",
       "<table border=\"1\" class=\"dataframe\">\n",
       "  <thead>\n",
       "    <tr style=\"text-align: right;\">\n",
       "      <th></th>\n",
       "      <th>Всего клиентов</th>\n",
       "      <th>Клиентов с задолженностью</th>\n",
       "      <th>Процент клиентов с задолженностью</th>\n",
       "    </tr>\n",
       "    <tr>\n",
       "      <th>Категория уровня дохода</th>\n",
       "      <th></th>\n",
       "      <th></th>\n",
       "      <th></th>\n",
       "    </tr>\n",
       "  </thead>\n",
       "  <tbody>\n",
       "    <tr>\n",
       "      <th>A</th>\n",
       "      <td>25</td>\n",
       "      <td>2</td>\n",
       "      <td>8.000000</td>\n",
       "    </tr>\n",
       "    <tr>\n",
       "      <th>B</th>\n",
       "      <td>5014</td>\n",
       "      <td>354</td>\n",
       "      <td>7.060231</td>\n",
       "    </tr>\n",
       "    <tr>\n",
       "      <th>C</th>\n",
       "      <td>15921</td>\n",
       "      <td>1353</td>\n",
       "      <td>8.498210</td>\n",
       "    </tr>\n",
       "    <tr>\n",
       "      <th>D</th>\n",
       "      <td>349</td>\n",
       "      <td>21</td>\n",
       "      <td>6.017192</td>\n",
       "    </tr>\n",
       "    <tr>\n",
       "      <th>E</th>\n",
       "      <td>22</td>\n",
       "      <td>2</td>\n",
       "      <td>9.090909</td>\n",
       "    </tr>\n",
       "  </tbody>\n",
       "</table>\n",
       "</div>"
      ],
      "text/plain": [
       "                         Всего клиентов  Клиентов с задолженностью  \\\n",
       "Категория уровня дохода                                              \n",
       "A                                    25                          2   \n",
       "B                                  5014                        354   \n",
       "C                                 15921                       1353   \n",
       "D                                   349                         21   \n",
       "E                                    22                          2   \n",
       "\n",
       "                         Процент клиентов с задолженностью  \n",
       "Категория уровня дохода                                     \n",
       "A                                                 8.000000  \n",
       "B                                                 7.060231  \n",
       "C                                                 8.498210  \n",
       "D                                                 6.017192  \n",
       "E                                                 9.090909  "
      ]
     },
     "metadata": {},
     "output_type": "display_data"
    }
   ],
   "source": [
    "data_income = data.pivot_table(index = 'Категория уровня дохода', values = 'debt', aggfunc = {'count','sum','mean'})\n",
    "data_income['mean'] = data_income['mean']*100\n",
    "data_income['count'] = data_income['count'].astype(int)\n",
    "data_income['sum'] = data_income['sum'].astype(int)\n",
    "data_income = data_income.rename(columns = {'count':'Всего клиентов', 'sum':'Клиентов с задолженностью', 'mean':'Процент клиентов с задолженностью'})\n",
    "data_income_final = pd.DataFrame(data = data_income, columns = ['Всего клиентов','Клиентов с задолженностью','Процент клиентов с задолженностью'])\n",
    "display(data_income_final)"
   ]
  },
  {
   "cell_type": "markdown",
   "id": "2abda818",
   "metadata": {
    "deletable": false,
    "id": "e8593def"
   },
   "source": [
    "**Вывод:** анализируя полученную таблицу мы можем сделать вывод о том, что количество клиентов, имеющих задолженность ниже среди людей с маленьким доходом (категория \"D\": доход от 30 до 50 тыс.). Чаще имеют задолженность люди со средним доходом (категория \"С\": доход от 50 до 200 тыс.). Однако эта категория является самой многочисленной, поэтому справедливо было бы ее сравнивать лишь с категорией примерно одного порядка по численности клиентов - категорией \"В\" (доход от 200 тыс. до 1 млн), а остальными группами (\"Е\" и \"А\" - с самыми низкими и высокими доходами) принебречь, т.к. количество клиентов в этих категориях существенно меньше по сравнению с другими категориями и общим количеством клиентов, поэтому данные по этим категориям не являются репрезентативными. В категории \"В\" процент должников ниже примерно на 1,5% чем в категории \"С\". Из этого мы можем сделать вывод, что доход влияет на возврат кредита в срок."
   ]
  },
  {
   "cell_type": "markdown",
   "id": "f2ca0d88",
   "metadata": {
    "deletable": false,
    "editable": false,
    "id": "99ecbd1f"
   },
   "source": [
    "#### 3.4 Как разные цели кредита влияют на его возврат в срок?"
   ]
  },
  {
   "cell_type": "markdown",
   "id": "de514530",
   "metadata": {},
   "source": [
    "Оценим наличие задолженности у клиетов с разным целями кредита. Для этого создадим сводную таблицу, где рассмотрим клиентов по целям кредита (цели кредита были разделены на категории в пункте 2.6, будем базироваться на этих категориях) и посмотрим для каждой группы общее количество клиентов, количество клиентов, имеющих задолженность, а также найдем какой процент от общего числа клиентов составляют клиенты с задолженностью для каждой группы:"
   ]
  },
  {
   "cell_type": "code",
   "execution_count": 26,
   "id": "264fea0c",
   "metadata": {
    "deletable": false,
    "id": "2b687290"
   },
   "outputs": [
    {
     "data": {
      "text/html": [
       "<div>\n",
       "<style scoped>\n",
       "    .dataframe tbody tr th:only-of-type {\n",
       "        vertical-align: middle;\n",
       "    }\n",
       "\n",
       "    .dataframe tbody tr th {\n",
       "        vertical-align: top;\n",
       "    }\n",
       "\n",
       "    .dataframe thead th {\n",
       "        text-align: right;\n",
       "    }\n",
       "</style>\n",
       "<table border=\"1\" class=\"dataframe\">\n",
       "  <thead>\n",
       "    <tr style=\"text-align: right;\">\n",
       "      <th></th>\n",
       "      <th>Всего клиентов</th>\n",
       "      <th>Клиентов с задолженностью</th>\n",
       "      <th>Процент клиентов с задолженностью</th>\n",
       "    </tr>\n",
       "    <tr>\n",
       "      <th>Цель кредита</th>\n",
       "      <th></th>\n",
       "      <th></th>\n",
       "      <th></th>\n",
       "    </tr>\n",
       "  </thead>\n",
       "  <tbody>\n",
       "    <tr>\n",
       "      <th>операции с автомобилем</th>\n",
       "      <td>4279</td>\n",
       "      <td>400</td>\n",
       "      <td>9.347978</td>\n",
       "    </tr>\n",
       "    <tr>\n",
       "      <th>операции с недвижимостью</th>\n",
       "      <td>10751</td>\n",
       "      <td>780</td>\n",
       "      <td>7.255139</td>\n",
       "    </tr>\n",
       "    <tr>\n",
       "      <th>получение образования</th>\n",
       "      <td>3988</td>\n",
       "      <td>369</td>\n",
       "      <td>9.252758</td>\n",
       "    </tr>\n",
       "    <tr>\n",
       "      <th>проведение свадьбы</th>\n",
       "      <td>2313</td>\n",
       "      <td>183</td>\n",
       "      <td>7.911803</td>\n",
       "    </tr>\n",
       "  </tbody>\n",
       "</table>\n",
       "</div>"
      ],
      "text/plain": [
       "                          Всего клиентов  Клиентов с задолженностью  \\\n",
       "Цель кредита                                                          \n",
       "операции с автомобилем              4279                        400   \n",
       "операции с недвижимостью           10751                        780   \n",
       "получение образования               3988                        369   \n",
       "проведение свадьбы                  2313                        183   \n",
       "\n",
       "                          Процент клиентов с задолженностью  \n",
       "Цель кредита                                                 \n",
       "операции с автомобилем                             9.347978  \n",
       "операции с недвижимостью                           7.255139  \n",
       "получение образования                              9.252758  \n",
       "проведение свадьбы                                 7.911803  "
      ]
     },
     "metadata": {},
     "output_type": "display_data"
    }
   ],
   "source": [
    "data_purpose = data.pivot_table(index = 'Цель кредита', values = 'debt', aggfunc = {'count','sum','mean'})\n",
    "data_purpose['mean'] = data_purpose['mean']*100\n",
    "data_purpose['count'] = data_purpose['count'].astype(int)\n",
    "data_purpose['sum'] = data_purpose['sum'].astype(int)\n",
    "data_purpose = data_purpose.rename(columns = {'count':'Всего клиентов', 'sum':'Клиентов с задолженностью', 'mean':'Процент клиентов с задолженностью'})\n",
    "data_purpose_final = pd.DataFrame(data = data_purpose, columns = ['Всего клиентов','Клиентов с задолженностью','Процент клиентов с задолженностью'])\n",
    "display(data_purpose_final)"
   ]
  },
  {
   "cell_type": "markdown",
   "id": "dec4b412",
   "metadata": {
    "deletable": false,
    "id": "b4bb2ce6"
   },
   "source": [
    "**Вывод:** анализируя полученную таблицу мы можем сделать вывод о том, что количество клиентов, имеющих задолженность ниже среди тех, кто берет кредит на операции с недвижимостью, а также на проведение свадьбы. Больше всего имеют задолженность те, кто берет кредит на операции с автомобилем и получение образования. Из этого мы можем сделать вывод, что цель кредита влияет на возврат кредита в срок."
   ]
  },
  {
   "cell_type": "markdown",
   "id": "1f99210f",
   "metadata": {
    "deletable": false,
    "editable": false,
    "id": "09c3ac4c"
   },
   "source": [
    "#### 3.5 Приведите возможные причины появления пропусков в исходных данных."
   ]
  },
  {
   "cell_type": "markdown",
   "id": "ce88487a",
   "metadata": {},
   "source": [
    "В пункте 2.1 мы определили, что пропуски содержатся в 2 столбцах таблицы: 'days_employed' и 'total_income'. Выведем на экран по 25 строк исходной таблицы, содержащей пропуски в этих столбцах и попробуем найти совпадающие значения в других столбцах(например, проверим, что пропуски как-то связаны с типом занятости или каким-то другим столбцом)"
   ]
  },
  {
   "cell_type": "code",
   "execution_count": 27,
   "id": "fecc7aca",
   "metadata": {
    "scrolled": false
   },
   "outputs": [
    {
     "data": {
      "text/html": [
       "<div>\n",
       "<style scoped>\n",
       "    .dataframe tbody tr th:only-of-type {\n",
       "        vertical-align: middle;\n",
       "    }\n",
       "\n",
       "    .dataframe tbody tr th {\n",
       "        vertical-align: top;\n",
       "    }\n",
       "\n",
       "    .dataframe thead th {\n",
       "        text-align: right;\n",
       "    }\n",
       "</style>\n",
       "<table border=\"1\" class=\"dataframe\">\n",
       "  <thead>\n",
       "    <tr style=\"text-align: right;\">\n",
       "      <th></th>\n",
       "      <th>children</th>\n",
       "      <th>days_employed</th>\n",
       "      <th>dob_years</th>\n",
       "      <th>education</th>\n",
       "      <th>education_id</th>\n",
       "      <th>family_status</th>\n",
       "      <th>family_status_id</th>\n",
       "      <th>gender</th>\n",
       "      <th>income_type</th>\n",
       "      <th>debt</th>\n",
       "      <th>total_income</th>\n",
       "      <th>purpose</th>\n",
       "    </tr>\n",
       "  </thead>\n",
       "  <tbody>\n",
       "    <tr>\n",
       "      <th>12</th>\n",
       "      <td>0</td>\n",
       "      <td>NaN</td>\n",
       "      <td>65</td>\n",
       "      <td>среднее</td>\n",
       "      <td>1</td>\n",
       "      <td>гражданский брак</td>\n",
       "      <td>1</td>\n",
       "      <td>M</td>\n",
       "      <td>пенсионер</td>\n",
       "      <td>0</td>\n",
       "      <td>NaN</td>\n",
       "      <td>сыграть свадьбу</td>\n",
       "    </tr>\n",
       "    <tr>\n",
       "      <th>26</th>\n",
       "      <td>0</td>\n",
       "      <td>NaN</td>\n",
       "      <td>41</td>\n",
       "      <td>среднее</td>\n",
       "      <td>1</td>\n",
       "      <td>женат / замужем</td>\n",
       "      <td>0</td>\n",
       "      <td>M</td>\n",
       "      <td>госслужащий</td>\n",
       "      <td>0</td>\n",
       "      <td>NaN</td>\n",
       "      <td>образование</td>\n",
       "    </tr>\n",
       "    <tr>\n",
       "      <th>29</th>\n",
       "      <td>0</td>\n",
       "      <td>NaN</td>\n",
       "      <td>63</td>\n",
       "      <td>среднее</td>\n",
       "      <td>1</td>\n",
       "      <td>Не женат / не замужем</td>\n",
       "      <td>4</td>\n",
       "      <td>F</td>\n",
       "      <td>пенсионер</td>\n",
       "      <td>0</td>\n",
       "      <td>NaN</td>\n",
       "      <td>строительство жилой недвижимости</td>\n",
       "    </tr>\n",
       "    <tr>\n",
       "      <th>41</th>\n",
       "      <td>0</td>\n",
       "      <td>NaN</td>\n",
       "      <td>50</td>\n",
       "      <td>среднее</td>\n",
       "      <td>1</td>\n",
       "      <td>женат / замужем</td>\n",
       "      <td>0</td>\n",
       "      <td>F</td>\n",
       "      <td>госслужащий</td>\n",
       "      <td>0</td>\n",
       "      <td>NaN</td>\n",
       "      <td>сделка с подержанным автомобилем</td>\n",
       "    </tr>\n",
       "    <tr>\n",
       "      <th>55</th>\n",
       "      <td>0</td>\n",
       "      <td>NaN</td>\n",
       "      <td>54</td>\n",
       "      <td>среднее</td>\n",
       "      <td>1</td>\n",
       "      <td>гражданский брак</td>\n",
       "      <td>1</td>\n",
       "      <td>F</td>\n",
       "      <td>пенсионер</td>\n",
       "      <td>1</td>\n",
       "      <td>NaN</td>\n",
       "      <td>сыграть свадьбу</td>\n",
       "    </tr>\n",
       "    <tr>\n",
       "      <th>65</th>\n",
       "      <td>0</td>\n",
       "      <td>NaN</td>\n",
       "      <td>21</td>\n",
       "      <td>среднее</td>\n",
       "      <td>1</td>\n",
       "      <td>Не женат / не замужем</td>\n",
       "      <td>4</td>\n",
       "      <td>M</td>\n",
       "      <td>компаньон</td>\n",
       "      <td>0</td>\n",
       "      <td>NaN</td>\n",
       "      <td>операции с коммерческой недвижимостью</td>\n",
       "    </tr>\n",
       "    <tr>\n",
       "      <th>67</th>\n",
       "      <td>0</td>\n",
       "      <td>NaN</td>\n",
       "      <td>52</td>\n",
       "      <td>высшее</td>\n",
       "      <td>0</td>\n",
       "      <td>женат / замужем</td>\n",
       "      <td>0</td>\n",
       "      <td>F</td>\n",
       "      <td>пенсионер</td>\n",
       "      <td>0</td>\n",
       "      <td>NaN</td>\n",
       "      <td>покупка жилья для семьи</td>\n",
       "    </tr>\n",
       "    <tr>\n",
       "      <th>72</th>\n",
       "      <td>1</td>\n",
       "      <td>NaN</td>\n",
       "      <td>32</td>\n",
       "      <td>высшее</td>\n",
       "      <td>0</td>\n",
       "      <td>женат / замужем</td>\n",
       "      <td>0</td>\n",
       "      <td>M</td>\n",
       "      <td>госслужащий</td>\n",
       "      <td>0</td>\n",
       "      <td>NaN</td>\n",
       "      <td>операции с коммерческой недвижимостью</td>\n",
       "    </tr>\n",
       "    <tr>\n",
       "      <th>82</th>\n",
       "      <td>2</td>\n",
       "      <td>NaN</td>\n",
       "      <td>50</td>\n",
       "      <td>высшее</td>\n",
       "      <td>0</td>\n",
       "      <td>женат / замужем</td>\n",
       "      <td>0</td>\n",
       "      <td>F</td>\n",
       "      <td>сотрудник</td>\n",
       "      <td>0</td>\n",
       "      <td>NaN</td>\n",
       "      <td>жилье</td>\n",
       "    </tr>\n",
       "    <tr>\n",
       "      <th>83</th>\n",
       "      <td>0</td>\n",
       "      <td>NaN</td>\n",
       "      <td>52</td>\n",
       "      <td>среднее</td>\n",
       "      <td>1</td>\n",
       "      <td>женат / замужем</td>\n",
       "      <td>0</td>\n",
       "      <td>M</td>\n",
       "      <td>сотрудник</td>\n",
       "      <td>0</td>\n",
       "      <td>NaN</td>\n",
       "      <td>жилье</td>\n",
       "    </tr>\n",
       "    <tr>\n",
       "      <th>90</th>\n",
       "      <td>2</td>\n",
       "      <td>NaN</td>\n",
       "      <td>35</td>\n",
       "      <td>высшее</td>\n",
       "      <td>0</td>\n",
       "      <td>женат / замужем</td>\n",
       "      <td>0</td>\n",
       "      <td>F</td>\n",
       "      <td>сотрудник</td>\n",
       "      <td>0</td>\n",
       "      <td>NaN</td>\n",
       "      <td>операции с жильем</td>\n",
       "    </tr>\n",
       "    <tr>\n",
       "      <th>94</th>\n",
       "      <td>1</td>\n",
       "      <td>NaN</td>\n",
       "      <td>34</td>\n",
       "      <td>высшее</td>\n",
       "      <td>0</td>\n",
       "      <td>гражданский брак</td>\n",
       "      <td>1</td>\n",
       "      <td>F</td>\n",
       "      <td>компаньон</td>\n",
       "      <td>0</td>\n",
       "      <td>NaN</td>\n",
       "      <td>на проведение свадьбы</td>\n",
       "    </tr>\n",
       "    <tr>\n",
       "      <th>96</th>\n",
       "      <td>0</td>\n",
       "      <td>NaN</td>\n",
       "      <td>44</td>\n",
       "      <td>СРЕДНЕЕ</td>\n",
       "      <td>1</td>\n",
       "      <td>женат / замужем</td>\n",
       "      <td>0</td>\n",
       "      <td>F</td>\n",
       "      <td>сотрудник</td>\n",
       "      <td>0</td>\n",
       "      <td>NaN</td>\n",
       "      <td>покупка жилой недвижимости</td>\n",
       "    </tr>\n",
       "    <tr>\n",
       "      <th>97</th>\n",
       "      <td>0</td>\n",
       "      <td>NaN</td>\n",
       "      <td>47</td>\n",
       "      <td>высшее</td>\n",
       "      <td>0</td>\n",
       "      <td>женат / замужем</td>\n",
       "      <td>0</td>\n",
       "      <td>F</td>\n",
       "      <td>сотрудник</td>\n",
       "      <td>0</td>\n",
       "      <td>NaN</td>\n",
       "      <td>профильное образование</td>\n",
       "    </tr>\n",
       "    <tr>\n",
       "      <th>120</th>\n",
       "      <td>0</td>\n",
       "      <td>NaN</td>\n",
       "      <td>46</td>\n",
       "      <td>среднее</td>\n",
       "      <td>1</td>\n",
       "      <td>женат / замужем</td>\n",
       "      <td>0</td>\n",
       "      <td>F</td>\n",
       "      <td>сотрудник</td>\n",
       "      <td>0</td>\n",
       "      <td>NaN</td>\n",
       "      <td>высшее образование</td>\n",
       "    </tr>\n",
       "    <tr>\n",
       "      <th>121</th>\n",
       "      <td>0</td>\n",
       "      <td>NaN</td>\n",
       "      <td>29</td>\n",
       "      <td>высшее</td>\n",
       "      <td>0</td>\n",
       "      <td>женат / замужем</td>\n",
       "      <td>0</td>\n",
       "      <td>F</td>\n",
       "      <td>компаньон</td>\n",
       "      <td>0</td>\n",
       "      <td>NaN</td>\n",
       "      <td>автомобиль</td>\n",
       "    </tr>\n",
       "    <tr>\n",
       "      <th>135</th>\n",
       "      <td>0</td>\n",
       "      <td>NaN</td>\n",
       "      <td>27</td>\n",
       "      <td>среднее</td>\n",
       "      <td>1</td>\n",
       "      <td>женат / замужем</td>\n",
       "      <td>0</td>\n",
       "      <td>M</td>\n",
       "      <td>компаньон</td>\n",
       "      <td>0</td>\n",
       "      <td>NaN</td>\n",
       "      <td>жилье</td>\n",
       "    </tr>\n",
       "    <tr>\n",
       "      <th>141</th>\n",
       "      <td>0</td>\n",
       "      <td>NaN</td>\n",
       "      <td>39</td>\n",
       "      <td>среднее</td>\n",
       "      <td>1</td>\n",
       "      <td>гражданский брак</td>\n",
       "      <td>1</td>\n",
       "      <td>M</td>\n",
       "      <td>сотрудник</td>\n",
       "      <td>0</td>\n",
       "      <td>NaN</td>\n",
       "      <td>свадьба</td>\n",
       "    </tr>\n",
       "    <tr>\n",
       "      <th>145</th>\n",
       "      <td>0</td>\n",
       "      <td>NaN</td>\n",
       "      <td>62</td>\n",
       "      <td>среднее</td>\n",
       "      <td>1</td>\n",
       "      <td>женат / замужем</td>\n",
       "      <td>0</td>\n",
       "      <td>M</td>\n",
       "      <td>пенсионер</td>\n",
       "      <td>0</td>\n",
       "      <td>NaN</td>\n",
       "      <td>строительство недвижимости</td>\n",
       "    </tr>\n",
       "    <tr>\n",
       "      <th>174</th>\n",
       "      <td>0</td>\n",
       "      <td>NaN</td>\n",
       "      <td>55</td>\n",
       "      <td>высшее</td>\n",
       "      <td>0</td>\n",
       "      <td>вдовец / вдова</td>\n",
       "      <td>2</td>\n",
       "      <td>F</td>\n",
       "      <td>компаньон</td>\n",
       "      <td>0</td>\n",
       "      <td>NaN</td>\n",
       "      <td>свой автомобиль</td>\n",
       "    </tr>\n",
       "    <tr>\n",
       "      <th>181</th>\n",
       "      <td>0</td>\n",
       "      <td>NaN</td>\n",
       "      <td>26</td>\n",
       "      <td>среднее</td>\n",
       "      <td>1</td>\n",
       "      <td>гражданский брак</td>\n",
       "      <td>1</td>\n",
       "      <td>F</td>\n",
       "      <td>компаньон</td>\n",
       "      <td>1</td>\n",
       "      <td>NaN</td>\n",
       "      <td>покупка жилья для семьи</td>\n",
       "    </tr>\n",
       "    <tr>\n",
       "      <th>189</th>\n",
       "      <td>1</td>\n",
       "      <td>NaN</td>\n",
       "      <td>30</td>\n",
       "      <td>среднее</td>\n",
       "      <td>1</td>\n",
       "      <td>Не женат / не замужем</td>\n",
       "      <td>4</td>\n",
       "      <td>F</td>\n",
       "      <td>сотрудник</td>\n",
       "      <td>0</td>\n",
       "      <td>NaN</td>\n",
       "      <td>свой автомобиль</td>\n",
       "    </tr>\n",
       "    <tr>\n",
       "      <th>205</th>\n",
       "      <td>1</td>\n",
       "      <td>NaN</td>\n",
       "      <td>31</td>\n",
       "      <td>высшее</td>\n",
       "      <td>0</td>\n",
       "      <td>женат / замужем</td>\n",
       "      <td>0</td>\n",
       "      <td>F</td>\n",
       "      <td>сотрудник</td>\n",
       "      <td>0</td>\n",
       "      <td>NaN</td>\n",
       "      <td>на покупку подержанного автомобиля</td>\n",
       "    </tr>\n",
       "    <tr>\n",
       "      <th>220</th>\n",
       "      <td>1</td>\n",
       "      <td>NaN</td>\n",
       "      <td>23</td>\n",
       "      <td>неоконченное высшее</td>\n",
       "      <td>2</td>\n",
       "      <td>гражданский брак</td>\n",
       "      <td>1</td>\n",
       "      <td>F</td>\n",
       "      <td>компаньон</td>\n",
       "      <td>0</td>\n",
       "      <td>NaN</td>\n",
       "      <td>сыграть свадьбу</td>\n",
       "    </tr>\n",
       "    <tr>\n",
       "      <th>241</th>\n",
       "      <td>0</td>\n",
       "      <td>NaN</td>\n",
       "      <td>47</td>\n",
       "      <td>среднее</td>\n",
       "      <td>1</td>\n",
       "      <td>женат / замужем</td>\n",
       "      <td>0</td>\n",
       "      <td>M</td>\n",
       "      <td>сотрудник</td>\n",
       "      <td>0</td>\n",
       "      <td>NaN</td>\n",
       "      <td>строительство собственной недвижимости</td>\n",
       "    </tr>\n",
       "  </tbody>\n",
       "</table>\n",
       "</div>"
      ],
      "text/plain": [
       "     children  days_employed  dob_years            education  education_id  \\\n",
       "12          0            NaN         65              среднее             1   \n",
       "26          0            NaN         41              среднее             1   \n",
       "29          0            NaN         63              среднее             1   \n",
       "41          0            NaN         50              среднее             1   \n",
       "55          0            NaN         54              среднее             1   \n",
       "65          0            NaN         21              среднее             1   \n",
       "67          0            NaN         52               высшее             0   \n",
       "72          1            NaN         32               высшее             0   \n",
       "82          2            NaN         50               высшее             0   \n",
       "83          0            NaN         52              среднее             1   \n",
       "90          2            NaN         35               высшее             0   \n",
       "94          1            NaN         34               высшее             0   \n",
       "96          0            NaN         44              СРЕДНЕЕ             1   \n",
       "97          0            NaN         47               высшее             0   \n",
       "120         0            NaN         46              среднее             1   \n",
       "121         0            NaN         29               высшее             0   \n",
       "135         0            NaN         27              среднее             1   \n",
       "141         0            NaN         39              среднее             1   \n",
       "145         0            NaN         62              среднее             1   \n",
       "174         0            NaN         55               высшее             0   \n",
       "181         0            NaN         26              среднее             1   \n",
       "189         1            NaN         30              среднее             1   \n",
       "205         1            NaN         31               высшее             0   \n",
       "220         1            NaN         23  неоконченное высшее             2   \n",
       "241         0            NaN         47              среднее             1   \n",
       "\n",
       "             family_status  family_status_id gender  income_type  debt  \\\n",
       "12        гражданский брак                 1      M    пенсионер     0   \n",
       "26         женат / замужем                 0      M  госслужащий     0   \n",
       "29   Не женат / не замужем                 4      F    пенсионер     0   \n",
       "41         женат / замужем                 0      F  госслужащий     0   \n",
       "55        гражданский брак                 1      F    пенсионер     1   \n",
       "65   Не женат / не замужем                 4      M    компаньон     0   \n",
       "67         женат / замужем                 0      F    пенсионер     0   \n",
       "72         женат / замужем                 0      M  госслужащий     0   \n",
       "82         женат / замужем                 0      F    сотрудник     0   \n",
       "83         женат / замужем                 0      M    сотрудник     0   \n",
       "90         женат / замужем                 0      F    сотрудник     0   \n",
       "94        гражданский брак                 1      F    компаньон     0   \n",
       "96         женат / замужем                 0      F    сотрудник     0   \n",
       "97         женат / замужем                 0      F    сотрудник     0   \n",
       "120        женат / замужем                 0      F    сотрудник     0   \n",
       "121        женат / замужем                 0      F    компаньон     0   \n",
       "135        женат / замужем                 0      M    компаньон     0   \n",
       "141       гражданский брак                 1      M    сотрудник     0   \n",
       "145        женат / замужем                 0      M    пенсионер     0   \n",
       "174         вдовец / вдова                 2      F    компаньон     0   \n",
       "181       гражданский брак                 1      F    компаньон     1   \n",
       "189  Не женат / не замужем                 4      F    сотрудник     0   \n",
       "205        женат / замужем                 0      F    сотрудник     0   \n",
       "220       гражданский брак                 1      F    компаньон     0   \n",
       "241        женат / замужем                 0      M    сотрудник     0   \n",
       "\n",
       "     total_income                                 purpose  \n",
       "12            NaN                         сыграть свадьбу  \n",
       "26            NaN                             образование  \n",
       "29            NaN        строительство жилой недвижимости  \n",
       "41            NaN        сделка с подержанным автомобилем  \n",
       "55            NaN                         сыграть свадьбу  \n",
       "65            NaN   операции с коммерческой недвижимостью  \n",
       "67            NaN                 покупка жилья для семьи  \n",
       "72            NaN   операции с коммерческой недвижимостью  \n",
       "82            NaN                                   жилье  \n",
       "83            NaN                                   жилье  \n",
       "90            NaN                       операции с жильем  \n",
       "94            NaN                   на проведение свадьбы  \n",
       "96            NaN              покупка жилой недвижимости  \n",
       "97            NaN                  профильное образование  \n",
       "120           NaN                      высшее образование  \n",
       "121           NaN                              автомобиль  \n",
       "135           NaN                                   жилье  \n",
       "141           NaN                                 свадьба  \n",
       "145           NaN              строительство недвижимости  \n",
       "174           NaN                         свой автомобиль  \n",
       "181           NaN                 покупка жилья для семьи  \n",
       "189           NaN                         свой автомобиль  \n",
       "205           NaN      на покупку подержанного автомобиля  \n",
       "220           NaN                         сыграть свадьбу  \n",
       "241           NaN  строительство собственной недвижимости  "
      ]
     },
     "metadata": {},
     "output_type": "display_data"
    },
    {
     "data": {
      "text/html": [
       "<div>\n",
       "<style scoped>\n",
       "    .dataframe tbody tr th:only-of-type {\n",
       "        vertical-align: middle;\n",
       "    }\n",
       "\n",
       "    .dataframe tbody tr th {\n",
       "        vertical-align: top;\n",
       "    }\n",
       "\n",
       "    .dataframe thead th {\n",
       "        text-align: right;\n",
       "    }\n",
       "</style>\n",
       "<table border=\"1\" class=\"dataframe\">\n",
       "  <thead>\n",
       "    <tr style=\"text-align: right;\">\n",
       "      <th></th>\n",
       "      <th>children</th>\n",
       "      <th>days_employed</th>\n",
       "      <th>dob_years</th>\n",
       "      <th>education</th>\n",
       "      <th>education_id</th>\n",
       "      <th>family_status</th>\n",
       "      <th>family_status_id</th>\n",
       "      <th>gender</th>\n",
       "      <th>income_type</th>\n",
       "      <th>debt</th>\n",
       "      <th>total_income</th>\n",
       "      <th>purpose</th>\n",
       "    </tr>\n",
       "  </thead>\n",
       "  <tbody>\n",
       "    <tr>\n",
       "      <th>21271</th>\n",
       "      <td>2</td>\n",
       "      <td>NaN</td>\n",
       "      <td>42</td>\n",
       "      <td>среднее</td>\n",
       "      <td>1</td>\n",
       "      <td>гражданский брак</td>\n",
       "      <td>1</td>\n",
       "      <td>M</td>\n",
       "      <td>сотрудник</td>\n",
       "      <td>1</td>\n",
       "      <td>NaN</td>\n",
       "      <td>операции со своей недвижимостью</td>\n",
       "    </tr>\n",
       "    <tr>\n",
       "      <th>21281</th>\n",
       "      <td>1</td>\n",
       "      <td>NaN</td>\n",
       "      <td>30</td>\n",
       "      <td>высшее</td>\n",
       "      <td>0</td>\n",
       "      <td>женат / замужем</td>\n",
       "      <td>0</td>\n",
       "      <td>F</td>\n",
       "      <td>сотрудник</td>\n",
       "      <td>0</td>\n",
       "      <td>NaN</td>\n",
       "      <td>покупка коммерческой недвижимости</td>\n",
       "    </tr>\n",
       "    <tr>\n",
       "      <th>21294</th>\n",
       "      <td>0</td>\n",
       "      <td>NaN</td>\n",
       "      <td>45</td>\n",
       "      <td>ВЫСШЕЕ</td>\n",
       "      <td>0</td>\n",
       "      <td>женат / замужем</td>\n",
       "      <td>0</td>\n",
       "      <td>F</td>\n",
       "      <td>сотрудник</td>\n",
       "      <td>0</td>\n",
       "      <td>NaN</td>\n",
       "      <td>высшее образование</td>\n",
       "    </tr>\n",
       "    <tr>\n",
       "      <th>21300</th>\n",
       "      <td>2</td>\n",
       "      <td>NaN</td>\n",
       "      <td>45</td>\n",
       "      <td>Среднее</td>\n",
       "      <td>1</td>\n",
       "      <td>гражданский брак</td>\n",
       "      <td>1</td>\n",
       "      <td>M</td>\n",
       "      <td>компаньон</td>\n",
       "      <td>0</td>\n",
       "      <td>NaN</td>\n",
       "      <td>получение дополнительного образования</td>\n",
       "    </tr>\n",
       "    <tr>\n",
       "      <th>21305</th>\n",
       "      <td>0</td>\n",
       "      <td>NaN</td>\n",
       "      <td>59</td>\n",
       "      <td>среднее</td>\n",
       "      <td>1</td>\n",
       "      <td>Не женат / не замужем</td>\n",
       "      <td>4</td>\n",
       "      <td>F</td>\n",
       "      <td>пенсионер</td>\n",
       "      <td>0</td>\n",
       "      <td>NaN</td>\n",
       "      <td>строительство собственной недвижимости</td>\n",
       "    </tr>\n",
       "    <tr>\n",
       "      <th>21308</th>\n",
       "      <td>0</td>\n",
       "      <td>NaN</td>\n",
       "      <td>48</td>\n",
       "      <td>среднее</td>\n",
       "      <td>1</td>\n",
       "      <td>женат / замужем</td>\n",
       "      <td>0</td>\n",
       "      <td>F</td>\n",
       "      <td>компаньон</td>\n",
       "      <td>0</td>\n",
       "      <td>NaN</td>\n",
       "      <td>покупка жилья для сдачи</td>\n",
       "    </tr>\n",
       "    <tr>\n",
       "      <th>21311</th>\n",
       "      <td>0</td>\n",
       "      <td>NaN</td>\n",
       "      <td>49</td>\n",
       "      <td>среднее</td>\n",
       "      <td>1</td>\n",
       "      <td>женат / замужем</td>\n",
       "      <td>0</td>\n",
       "      <td>F</td>\n",
       "      <td>пенсионер</td>\n",
       "      <td>0</td>\n",
       "      <td>NaN</td>\n",
       "      <td>покупка жилья для сдачи</td>\n",
       "    </tr>\n",
       "    <tr>\n",
       "      <th>21321</th>\n",
       "      <td>0</td>\n",
       "      <td>NaN</td>\n",
       "      <td>56</td>\n",
       "      <td>Среднее</td>\n",
       "      <td>1</td>\n",
       "      <td>женат / замужем</td>\n",
       "      <td>0</td>\n",
       "      <td>F</td>\n",
       "      <td>пенсионер</td>\n",
       "      <td>0</td>\n",
       "      <td>NaN</td>\n",
       "      <td>операции с недвижимостью</td>\n",
       "    </tr>\n",
       "    <tr>\n",
       "      <th>21350</th>\n",
       "      <td>0</td>\n",
       "      <td>NaN</td>\n",
       "      <td>21</td>\n",
       "      <td>среднее</td>\n",
       "      <td>1</td>\n",
       "      <td>Не женат / не замужем</td>\n",
       "      <td>4</td>\n",
       "      <td>M</td>\n",
       "      <td>компаньон</td>\n",
       "      <td>0</td>\n",
       "      <td>NaN</td>\n",
       "      <td>на покупку автомобиля</td>\n",
       "    </tr>\n",
       "    <tr>\n",
       "      <th>21364</th>\n",
       "      <td>0</td>\n",
       "      <td>NaN</td>\n",
       "      <td>50</td>\n",
       "      <td>среднее</td>\n",
       "      <td>1</td>\n",
       "      <td>женат / замужем</td>\n",
       "      <td>0</td>\n",
       "      <td>M</td>\n",
       "      <td>сотрудник</td>\n",
       "      <td>0</td>\n",
       "      <td>NaN</td>\n",
       "      <td>операции со своей недвижимостью</td>\n",
       "    </tr>\n",
       "    <tr>\n",
       "      <th>21369</th>\n",
       "      <td>2</td>\n",
       "      <td>NaN</td>\n",
       "      <td>42</td>\n",
       "      <td>среднее</td>\n",
       "      <td>1</td>\n",
       "      <td>в разводе</td>\n",
       "      <td>3</td>\n",
       "      <td>M</td>\n",
       "      <td>компаньон</td>\n",
       "      <td>0</td>\n",
       "      <td>NaN</td>\n",
       "      <td>покупка жилой недвижимости</td>\n",
       "    </tr>\n",
       "    <tr>\n",
       "      <th>21390</th>\n",
       "      <td>20</td>\n",
       "      <td>NaN</td>\n",
       "      <td>53</td>\n",
       "      <td>среднее</td>\n",
       "      <td>1</td>\n",
       "      <td>женат / замужем</td>\n",
       "      <td>0</td>\n",
       "      <td>M</td>\n",
       "      <td>компаньон</td>\n",
       "      <td>0</td>\n",
       "      <td>NaN</td>\n",
       "      <td>покупка жилой недвижимости</td>\n",
       "    </tr>\n",
       "    <tr>\n",
       "      <th>21391</th>\n",
       "      <td>0</td>\n",
       "      <td>NaN</td>\n",
       "      <td>52</td>\n",
       "      <td>среднее</td>\n",
       "      <td>1</td>\n",
       "      <td>женат / замужем</td>\n",
       "      <td>0</td>\n",
       "      <td>F</td>\n",
       "      <td>компаньон</td>\n",
       "      <td>0</td>\n",
       "      <td>NaN</td>\n",
       "      <td>покупка жилья для семьи</td>\n",
       "    </tr>\n",
       "    <tr>\n",
       "      <th>21407</th>\n",
       "      <td>1</td>\n",
       "      <td>NaN</td>\n",
       "      <td>36</td>\n",
       "      <td>среднее</td>\n",
       "      <td>1</td>\n",
       "      <td>женат / замужем</td>\n",
       "      <td>0</td>\n",
       "      <td>F</td>\n",
       "      <td>компаньон</td>\n",
       "      <td>0</td>\n",
       "      <td>NaN</td>\n",
       "      <td>строительство жилой недвижимости</td>\n",
       "    </tr>\n",
       "    <tr>\n",
       "      <th>21414</th>\n",
       "      <td>0</td>\n",
       "      <td>NaN</td>\n",
       "      <td>65</td>\n",
       "      <td>среднее</td>\n",
       "      <td>1</td>\n",
       "      <td>женат / замужем</td>\n",
       "      <td>0</td>\n",
       "      <td>F</td>\n",
       "      <td>пенсионер</td>\n",
       "      <td>0</td>\n",
       "      <td>NaN</td>\n",
       "      <td>покупка своего жилья</td>\n",
       "    </tr>\n",
       "    <tr>\n",
       "      <th>21415</th>\n",
       "      <td>0</td>\n",
       "      <td>NaN</td>\n",
       "      <td>54</td>\n",
       "      <td>среднее</td>\n",
       "      <td>1</td>\n",
       "      <td>женат / замужем</td>\n",
       "      <td>0</td>\n",
       "      <td>F</td>\n",
       "      <td>пенсионер</td>\n",
       "      <td>0</td>\n",
       "      <td>NaN</td>\n",
       "      <td>операции с жильем</td>\n",
       "    </tr>\n",
       "    <tr>\n",
       "      <th>21423</th>\n",
       "      <td>0</td>\n",
       "      <td>NaN</td>\n",
       "      <td>63</td>\n",
       "      <td>среднее</td>\n",
       "      <td>1</td>\n",
       "      <td>женат / замужем</td>\n",
       "      <td>0</td>\n",
       "      <td>M</td>\n",
       "      <td>пенсионер</td>\n",
       "      <td>0</td>\n",
       "      <td>NaN</td>\n",
       "      <td>сделка с автомобилем</td>\n",
       "    </tr>\n",
       "    <tr>\n",
       "      <th>21426</th>\n",
       "      <td>0</td>\n",
       "      <td>NaN</td>\n",
       "      <td>49</td>\n",
       "      <td>среднее</td>\n",
       "      <td>1</td>\n",
       "      <td>женат / замужем</td>\n",
       "      <td>0</td>\n",
       "      <td>F</td>\n",
       "      <td>сотрудник</td>\n",
       "      <td>1</td>\n",
       "      <td>NaN</td>\n",
       "      <td>недвижимость</td>\n",
       "    </tr>\n",
       "    <tr>\n",
       "      <th>21432</th>\n",
       "      <td>1</td>\n",
       "      <td>NaN</td>\n",
       "      <td>38</td>\n",
       "      <td>неоконченное высшее</td>\n",
       "      <td>2</td>\n",
       "      <td>Не женат / не замужем</td>\n",
       "      <td>4</td>\n",
       "      <td>F</td>\n",
       "      <td>сотрудник</td>\n",
       "      <td>0</td>\n",
       "      <td>NaN</td>\n",
       "      <td>операции с жильем</td>\n",
       "    </tr>\n",
       "    <tr>\n",
       "      <th>21463</th>\n",
       "      <td>1</td>\n",
       "      <td>NaN</td>\n",
       "      <td>35</td>\n",
       "      <td>высшее</td>\n",
       "      <td>0</td>\n",
       "      <td>гражданский брак</td>\n",
       "      <td>1</td>\n",
       "      <td>M</td>\n",
       "      <td>сотрудник</td>\n",
       "      <td>0</td>\n",
       "      <td>NaN</td>\n",
       "      <td>на проведение свадьбы</td>\n",
       "    </tr>\n",
       "    <tr>\n",
       "      <th>21489</th>\n",
       "      <td>2</td>\n",
       "      <td>NaN</td>\n",
       "      <td>47</td>\n",
       "      <td>Среднее</td>\n",
       "      <td>1</td>\n",
       "      <td>женат / замужем</td>\n",
       "      <td>0</td>\n",
       "      <td>M</td>\n",
       "      <td>компаньон</td>\n",
       "      <td>0</td>\n",
       "      <td>NaN</td>\n",
       "      <td>сделка с автомобилем</td>\n",
       "    </tr>\n",
       "    <tr>\n",
       "      <th>21495</th>\n",
       "      <td>1</td>\n",
       "      <td>NaN</td>\n",
       "      <td>50</td>\n",
       "      <td>среднее</td>\n",
       "      <td>1</td>\n",
       "      <td>гражданский брак</td>\n",
       "      <td>1</td>\n",
       "      <td>F</td>\n",
       "      <td>сотрудник</td>\n",
       "      <td>0</td>\n",
       "      <td>NaN</td>\n",
       "      <td>свадьба</td>\n",
       "    </tr>\n",
       "    <tr>\n",
       "      <th>21497</th>\n",
       "      <td>0</td>\n",
       "      <td>NaN</td>\n",
       "      <td>48</td>\n",
       "      <td>ВЫСШЕЕ</td>\n",
       "      <td>0</td>\n",
       "      <td>женат / замужем</td>\n",
       "      <td>0</td>\n",
       "      <td>F</td>\n",
       "      <td>компаньон</td>\n",
       "      <td>0</td>\n",
       "      <td>NaN</td>\n",
       "      <td>строительство недвижимости</td>\n",
       "    </tr>\n",
       "    <tr>\n",
       "      <th>21502</th>\n",
       "      <td>1</td>\n",
       "      <td>NaN</td>\n",
       "      <td>42</td>\n",
       "      <td>среднее</td>\n",
       "      <td>1</td>\n",
       "      <td>женат / замужем</td>\n",
       "      <td>0</td>\n",
       "      <td>F</td>\n",
       "      <td>сотрудник</td>\n",
       "      <td>0</td>\n",
       "      <td>NaN</td>\n",
       "      <td>строительство жилой недвижимости</td>\n",
       "    </tr>\n",
       "    <tr>\n",
       "      <th>21510</th>\n",
       "      <td>2</td>\n",
       "      <td>NaN</td>\n",
       "      <td>28</td>\n",
       "      <td>среднее</td>\n",
       "      <td>1</td>\n",
       "      <td>женат / замужем</td>\n",
       "      <td>0</td>\n",
       "      <td>F</td>\n",
       "      <td>сотрудник</td>\n",
       "      <td>0</td>\n",
       "      <td>NaN</td>\n",
       "      <td>приобретение автомобиля</td>\n",
       "    </tr>\n",
       "  </tbody>\n",
       "</table>\n",
       "</div>"
      ],
      "text/plain": [
       "       children  days_employed  dob_years            education  education_id  \\\n",
       "21271         2            NaN         42              среднее             1   \n",
       "21281         1            NaN         30               высшее             0   \n",
       "21294         0            NaN         45               ВЫСШЕЕ             0   \n",
       "21300         2            NaN         45              Среднее             1   \n",
       "21305         0            NaN         59              среднее             1   \n",
       "21308         0            NaN         48              среднее             1   \n",
       "21311         0            NaN         49              среднее             1   \n",
       "21321         0            NaN         56              Среднее             1   \n",
       "21350         0            NaN         21              среднее             1   \n",
       "21364         0            NaN         50              среднее             1   \n",
       "21369         2            NaN         42              среднее             1   \n",
       "21390        20            NaN         53              среднее             1   \n",
       "21391         0            NaN         52              среднее             1   \n",
       "21407         1            NaN         36              среднее             1   \n",
       "21414         0            NaN         65              среднее             1   \n",
       "21415         0            NaN         54              среднее             1   \n",
       "21423         0            NaN         63              среднее             1   \n",
       "21426         0            NaN         49              среднее             1   \n",
       "21432         1            NaN         38  неоконченное высшее             2   \n",
       "21463         1            NaN         35               высшее             0   \n",
       "21489         2            NaN         47              Среднее             1   \n",
       "21495         1            NaN         50              среднее             1   \n",
       "21497         0            NaN         48               ВЫСШЕЕ             0   \n",
       "21502         1            NaN         42              среднее             1   \n",
       "21510         2            NaN         28              среднее             1   \n",
       "\n",
       "               family_status  family_status_id gender income_type  debt  \\\n",
       "21271       гражданский брак                 1      M   сотрудник     1   \n",
       "21281        женат / замужем                 0      F   сотрудник     0   \n",
       "21294        женат / замужем                 0      F   сотрудник     0   \n",
       "21300       гражданский брак                 1      M   компаньон     0   \n",
       "21305  Не женат / не замужем                 4      F   пенсионер     0   \n",
       "21308        женат / замужем                 0      F   компаньон     0   \n",
       "21311        женат / замужем                 0      F   пенсионер     0   \n",
       "21321        женат / замужем                 0      F   пенсионер     0   \n",
       "21350  Не женат / не замужем                 4      M   компаньон     0   \n",
       "21364        женат / замужем                 0      M   сотрудник     0   \n",
       "21369              в разводе                 3      M   компаньон     0   \n",
       "21390        женат / замужем                 0      M   компаньон     0   \n",
       "21391        женат / замужем                 0      F   компаньон     0   \n",
       "21407        женат / замужем                 0      F   компаньон     0   \n",
       "21414        женат / замужем                 0      F   пенсионер     0   \n",
       "21415        женат / замужем                 0      F   пенсионер     0   \n",
       "21423        женат / замужем                 0      M   пенсионер     0   \n",
       "21426        женат / замужем                 0      F   сотрудник     1   \n",
       "21432  Не женат / не замужем                 4      F   сотрудник     0   \n",
       "21463       гражданский брак                 1      M   сотрудник     0   \n",
       "21489        женат / замужем                 0      M   компаньон     0   \n",
       "21495       гражданский брак                 1      F   сотрудник     0   \n",
       "21497        женат / замужем                 0      F   компаньон     0   \n",
       "21502        женат / замужем                 0      F   сотрудник     0   \n",
       "21510        женат / замужем                 0      F   сотрудник     0   \n",
       "\n",
       "       total_income                                 purpose  \n",
       "21271           NaN         операции со своей недвижимостью  \n",
       "21281           NaN       покупка коммерческой недвижимости  \n",
       "21294           NaN                      высшее образование  \n",
       "21300           NaN   получение дополнительного образования  \n",
       "21305           NaN  строительство собственной недвижимости  \n",
       "21308           NaN                 покупка жилья для сдачи  \n",
       "21311           NaN                 покупка жилья для сдачи  \n",
       "21321           NaN                операции с недвижимостью  \n",
       "21350           NaN                   на покупку автомобиля  \n",
       "21364           NaN         операции со своей недвижимостью  \n",
       "21369           NaN              покупка жилой недвижимости  \n",
       "21390           NaN              покупка жилой недвижимости  \n",
       "21391           NaN                 покупка жилья для семьи  \n",
       "21407           NaN        строительство жилой недвижимости  \n",
       "21414           NaN                    покупка своего жилья  \n",
       "21415           NaN                       операции с жильем  \n",
       "21423           NaN                    сделка с автомобилем  \n",
       "21426           NaN                            недвижимость  \n",
       "21432           NaN                       операции с жильем  \n",
       "21463           NaN                   на проведение свадьбы  \n",
       "21489           NaN                    сделка с автомобилем  \n",
       "21495           NaN                                 свадьба  \n",
       "21497           NaN              строительство недвижимости  \n",
       "21502           NaN        строительство жилой недвижимости  \n",
       "21510           NaN                 приобретение автомобиля  "
      ]
     },
     "metadata": {},
     "output_type": "display_data"
    }
   ],
   "source": [
    "import pandas as pd\n",
    "\n",
    "try:\n",
    "    data = pd.read_csv('/datasets/data.csv')\n",
    "except:\n",
    "    data = pd.read_csv('https://code.s3.yandex.net/datasets/data.csv')\n",
    "display(data.loc[data['days_employed'].isna()].head(25))\n",
    "display(data.loc[data['total_income'].isna()].tail(25))"
   ]
  },
  {
   "cell_type": "markdown",
   "id": "8b2cb686",
   "metadata": {},
   "source": [
    "Как мы можем заметить при выводе строк с пропущенными значениями в столбце 'days_employed' значения в 'total_income' также пропущены и наоборот. Зная количество пропусков для каждого из столбцов (найдены в пункте 2.1) проверим, совпадает ли это количество с числом строк имеющих одновременно пропуски сразу в двух столбцах:"
   ]
  },
  {
   "cell_type": "code",
   "execution_count": 28,
   "id": "784b23cc",
   "metadata": {
    "scrolled": true
   },
   "outputs": [
    {
     "name": "stdout",
     "output_type": "stream",
     "text": [
      "2174\n"
     ]
    }
   ],
   "source": [
    "print(len(data.loc[(data['days_employed'].isna()) & (data['total_income'].isna())]))"
   ]
  },
  {
   "cell_type": "markdown",
   "id": "a2e8a665",
   "metadata": {},
   "source": [
    "Полученное значение пропусков равно значению пропусков в каждом из столбцов, следовательно все строки с пропущенными значениями в 'days_employed' имеют и пропуски в 'total_income'."
   ]
  },
  {
   "cell_type": "markdown",
   "id": "cb2886f6",
   "metadata": {
    "deletable": false,
    "id": "9da2ceda"
   },
   "source": [
    "*Ответ:* анализируя полученные данные мы можем сделать вывод о том, что пропуски в столбцах 'days_employed' и 'total_income' никак не коррелируются с другими столбцами, однако коллерируются между собой - строки с пропущенными значениями в 'days_employed' имеют и пропуски в 'total_income'. Пропуски могли возникнуть по техническим причинам - из-за потери части данных(например, автоматизированная система сбора информации дала сбой) или на этапе загрузки/выгрузки данных была потеряна часть информации, а также пропуски могли возникнуть по причине человеческого фактора - информацию могли не требовать в определенных случаях или клиент сам мог не предоставлять данные. А также могли быть допущены ошибки при формировании таблиц."
   ]
  },
  {
   "cell_type": "markdown",
   "id": "c3a33fea",
   "metadata": {
    "deletable": false,
    "editable": false,
    "id": "7b0487d6"
   },
   "source": [
    "#### 3.6 Объясните, почему заполнить пропуски медианным значением — лучшее решение для количественных переменных."
   ]
  },
  {
   "cell_type": "markdown",
   "id": "6fa723d7",
   "metadata": {
    "deletable": false,
    "id": "7ecf2b8e"
   },
   "source": [
    "*Ответ:* в пункте 2.1 мы нашли количество пропущенных значений - оно примерно равно 10% от общего количества значений в данных столбцах, поэтому удалить строки с пропусками было бы не совсем верным решением. Следовательно необходимо было заполнить пропуски характерными значениями - средними или медианными значениями. Медианные значения были выбраны, т.к. мы имеем некоторые значения сильно выделяющиеся среди большинства и использование среднего было бы менее корректно."
   ]
  },
  {
   "cell_type": "markdown",
   "id": "ca1f7d3d",
   "metadata": {
    "deletable": false,
    "editable": false,
    "id": "6db5255a"
   },
   "source": [
    "### Шаг 4: общий вывод."
   ]
  },
  {
   "cell_type": "markdown",
   "id": "f05b9e22",
   "metadata": {
    "deletable": false,
    "id": "bad65432"
   },
   "source": [
    "Исследовав датафрейм с данными о клиентах банка мы можем сделать следующие выводы:\n",
    "1) Клиенты без детей детей реже имеют задолженность, чем клиенты с детьми, однако среди клиентов с разным количеством детей мы имеем примерно одинаковый процент дожников;\\\n",
    "2) Количество клиентов, имеющих задолженность ниже среди вдов/вдовцов, а также среди людей в разводе. Больше всего имеют задолженность не женатые и состоящие в гражданском браке;\\\n",
    "3) Клиенты со средним доходом чаще имеют задолженность, чем клиенты с высоким доходом, однако количество клиентов со средним доходом в разы выше количества клиентов во всех остальных группах;\\\n",
    "4) Клиенты, берущие кредит для операций с недвижимостью и проведения свадеб, реже имеют задолженность, чем те, кто берет кредит на авто и образование.\\\n",
    "С точки зрения банка идеальным клиеном был бы вдовец/вдова без детей, <b> с высоким доходом (от 200 тыс. до 1 млн.) </b>, который берет кредит на операцию с недвижимостью. А самым рисковым - не женатый/не замужний клиент с детьми и <b>средним доходом (от 50 до 200 тыс.)</b>, который берет кредит на автомобиль."
   ]
  }
 ],
 "metadata": {
  "ExecuteTimeLog": [
   {
    "duration": 709,
    "start_time": "2022-09-26T10:37:07.322Z"
   },
   {
    "duration": 21,
    "start_time": "2022-09-26T10:37:08.033Z"
   },
   {
    "duration": 21,
    "start_time": "2022-09-26T10:37:08.056Z"
   },
   {
    "duration": 43,
    "start_time": "2022-09-26T10:37:08.079Z"
   },
   {
    "duration": 53,
    "start_time": "2022-09-26T10:37:08.125Z"
   },
   {
    "duration": 4,
    "start_time": "2022-09-26T10:37:08.179Z"
   },
   {
    "duration": 45,
    "start_time": "2022-09-26T10:37:08.185Z"
   },
   {
    "duration": 4,
    "start_time": "2022-09-26T10:37:08.232Z"
   },
   {
    "duration": 13,
    "start_time": "2022-09-26T10:37:08.238Z"
   },
   {
    "duration": 5,
    "start_time": "2022-09-26T10:37:08.252Z"
   },
   {
    "duration": 34,
    "start_time": "2022-09-26T10:37:08.259Z"
   },
   {
    "duration": 9,
    "start_time": "2022-09-26T10:37:08.294Z"
   },
   {
    "duration": 16,
    "start_time": "2022-09-26T10:37:08.308Z"
   },
   {
    "duration": 10,
    "start_time": "2022-09-26T10:37:08.326Z"
   },
   {
    "duration": 20,
    "start_time": "2022-09-26T10:37:08.338Z"
   },
   {
    "duration": 16,
    "start_time": "2022-09-26T10:37:08.359Z"
   },
   {
    "duration": 3,
    "start_time": "2022-09-26T10:37:08.376Z"
   },
   {
    "duration": 31,
    "start_time": "2022-09-26T10:37:08.380Z"
   },
   {
    "duration": 13,
    "start_time": "2022-09-26T10:37:08.412Z"
   },
   {
    "duration": 6,
    "start_time": "2022-09-26T10:37:08.427Z"
   },
   {
    "duration": 12,
    "start_time": "2022-09-26T10:37:08.434Z"
   },
   {
    "duration": 3,
    "start_time": "2022-09-26T10:37:08.447Z"
   },
   {
    "duration": 7,
    "start_time": "2022-09-26T10:37:08.451Z"
   },
   {
    "duration": 5,
    "start_time": "2022-09-26T10:37:08.459Z"
   },
   {
    "duration": 4,
    "start_time": "2022-09-26T10:37:08.465Z"
   },
   {
    "duration": 9,
    "start_time": "2022-09-26T10:38:40.670Z"
   },
   {
    "duration": 10,
    "start_time": "2022-09-26T10:39:32.116Z"
   },
   {
    "duration": 8,
    "start_time": "2022-09-26T10:42:50.533Z"
   },
   {
    "duration": 9,
    "start_time": "2022-09-26T10:42:55.273Z"
   },
   {
    "duration": 8,
    "start_time": "2022-09-26T10:52:21.208Z"
   },
   {
    "duration": 7,
    "start_time": "2022-09-26T10:56:55.324Z"
   },
   {
    "duration": 8,
    "start_time": "2022-09-26T11:16:51.434Z"
   },
   {
    "duration": 675,
    "start_time": "2022-09-29T08:46:21.022Z"
   },
   {
    "duration": 23,
    "start_time": "2022-09-29T08:46:21.699Z"
   },
   {
    "duration": 37,
    "start_time": "2022-09-29T08:46:21.723Z"
   },
   {
    "duration": 17,
    "start_time": "2022-09-29T08:46:21.762Z"
   },
   {
    "duration": 33,
    "start_time": "2022-09-29T08:46:21.781Z"
   },
   {
    "duration": 3,
    "start_time": "2022-09-29T08:46:21.816Z"
   },
   {
    "duration": 20,
    "start_time": "2022-09-29T08:46:21.820Z"
   },
   {
    "duration": 31,
    "start_time": "2022-09-29T08:46:21.841Z"
   },
   {
    "duration": 18,
    "start_time": "2022-09-29T08:46:21.874Z"
   },
   {
    "duration": 20,
    "start_time": "2022-09-29T08:46:21.894Z"
   },
   {
    "duration": 45,
    "start_time": "2022-09-29T08:46:21.916Z"
   },
   {
    "duration": 9,
    "start_time": "2022-09-29T08:46:21.962Z"
   },
   {
    "duration": 21,
    "start_time": "2022-09-29T08:46:21.973Z"
   },
   {
    "duration": 26,
    "start_time": "2022-09-29T08:46:21.997Z"
   },
   {
    "duration": 34,
    "start_time": "2022-09-29T08:46:22.025Z"
   },
   {
    "duration": 17,
    "start_time": "2022-09-29T08:46:22.060Z"
   },
   {
    "duration": 6,
    "start_time": "2022-09-29T08:46:22.079Z"
   },
   {
    "duration": 24,
    "start_time": "2022-09-29T08:46:22.086Z"
   },
   {
    "duration": 20,
    "start_time": "2022-09-29T08:46:22.112Z"
   },
   {
    "duration": 19,
    "start_time": "2022-09-29T08:46:22.133Z"
   },
   {
    "duration": 36,
    "start_time": "2022-09-29T08:46:22.153Z"
   },
   {
    "duration": 28,
    "start_time": "2022-09-29T08:46:22.190Z"
   },
   {
    "duration": 7,
    "start_time": "2022-09-29T08:46:22.220Z"
   },
   {
    "duration": 18,
    "start_time": "2022-09-29T08:46:22.228Z"
   },
   {
    "duration": 24,
    "start_time": "2022-09-29T08:46:22.247Z"
   },
   {
    "duration": 4,
    "start_time": "2022-09-29T08:50:06.845Z"
   },
   {
    "duration": 5,
    "start_time": "2022-09-29T08:50:38.421Z"
   },
   {
    "duration": 81,
    "start_time": "2022-09-29T08:55:29.572Z"
   },
   {
    "duration": 18,
    "start_time": "2022-09-29T08:56:25.906Z"
   },
   {
    "duration": 16,
    "start_time": "2022-09-29T08:56:29.111Z"
   },
   {
    "duration": 7,
    "start_time": "2022-09-29T08:57:27.094Z"
   },
   {
    "duration": 13,
    "start_time": "2022-09-29T08:57:41.424Z"
   },
   {
    "duration": 3,
    "start_time": "2022-09-29T08:59:18.364Z"
   },
   {
    "duration": 3,
    "start_time": "2022-09-29T08:59:36.385Z"
   },
   {
    "duration": 4,
    "start_time": "2022-09-29T09:00:22.304Z"
   },
   {
    "duration": 4,
    "start_time": "2022-09-29T09:04:20.361Z"
   },
   {
    "duration": 9,
    "start_time": "2022-09-29T09:04:58.102Z"
   },
   {
    "duration": 10,
    "start_time": "2022-09-29T09:05:32.581Z"
   },
   {
    "duration": 7,
    "start_time": "2022-09-29T09:06:03.142Z"
   },
   {
    "duration": 6,
    "start_time": "2022-09-29T09:06:19.903Z"
   },
   {
    "duration": 8,
    "start_time": "2022-09-29T09:06:45.433Z"
   },
   {
    "duration": 6,
    "start_time": "2022-09-29T09:06:56.982Z"
   },
   {
    "duration": 6,
    "start_time": "2022-09-29T09:07:07.388Z"
   },
   {
    "duration": 8,
    "start_time": "2022-09-29T09:08:05.180Z"
   },
   {
    "duration": 6,
    "start_time": "2022-09-29T09:08:15.230Z"
   },
   {
    "duration": 5,
    "start_time": "2022-09-29T09:09:52.681Z"
   },
   {
    "duration": 4,
    "start_time": "2022-09-29T09:10:12.252Z"
   },
   {
    "duration": 21,
    "start_time": "2022-09-29T09:10:27.244Z"
   },
   {
    "duration": 17,
    "start_time": "2022-09-29T09:10:49.599Z"
   },
   {
    "duration": 26,
    "start_time": "2022-09-29T09:11:10.159Z"
   },
   {
    "duration": 17,
    "start_time": "2022-09-29T09:11:36.979Z"
   },
   {
    "duration": 12,
    "start_time": "2022-09-29T09:12:05.821Z"
   },
   {
    "duration": 7,
    "start_time": "2022-09-29T09:14:22.751Z"
   },
   {
    "duration": 808,
    "start_time": "2022-09-29T09:17:31.750Z"
   },
   {
    "duration": 4,
    "start_time": "2022-09-29T09:17:40.870Z"
   },
   {
    "duration": 5,
    "start_time": "2022-09-29T09:18:03.371Z"
   },
   {
    "duration": 1242,
    "start_time": "2022-09-29T09:19:23.869Z"
   },
   {
    "duration": 5,
    "start_time": "2022-09-29T09:20:57.075Z"
   },
   {
    "duration": 853,
    "start_time": "2022-09-29T09:21:33.619Z"
   },
   {
    "duration": 1151,
    "start_time": "2022-09-29T09:22:13.241Z"
   },
   {
    "duration": 1225,
    "start_time": "2022-09-29T09:22:39.732Z"
   },
   {
    "duration": 1504,
    "start_time": "2022-09-29T09:23:04.159Z"
   },
   {
    "duration": 1088,
    "start_time": "2022-09-29T09:23:29.137Z"
   },
   {
    "duration": 2,
    "start_time": "2022-09-29T09:24:13.688Z"
   },
   {
    "duration": 15,
    "start_time": "2022-09-29T09:26:02.355Z"
   },
   {
    "duration": 7,
    "start_time": "2022-09-29T09:26:27.539Z"
   },
   {
    "duration": 5,
    "start_time": "2022-09-29T09:26:55.988Z"
   },
   {
    "duration": 1850,
    "start_time": "2022-09-29T09:28:17.740Z"
   },
   {
    "duration": 4,
    "start_time": "2022-09-29T09:29:10.568Z"
   },
   {
    "duration": 8,
    "start_time": "2022-09-29T09:29:29.870Z"
   },
   {
    "duration": 8,
    "start_time": "2022-09-29T09:31:29.103Z"
   },
   {
    "duration": 8,
    "start_time": "2022-09-29T09:31:46.097Z"
   },
   {
    "duration": 9,
    "start_time": "2022-09-29T09:32:18.861Z"
   },
   {
    "duration": 442,
    "start_time": "2022-09-29T09:32:37.570Z"
   },
   {
    "duration": 21,
    "start_time": "2022-09-29T09:32:38.014Z"
   },
   {
    "duration": 14,
    "start_time": "2022-09-29T09:32:38.037Z"
   },
   {
    "duration": 9,
    "start_time": "2022-09-29T09:32:38.052Z"
   },
   {
    "duration": 49,
    "start_time": "2022-09-29T09:32:38.063Z"
   },
   {
    "duration": 3,
    "start_time": "2022-09-29T09:32:38.113Z"
   },
   {
    "duration": 10,
    "start_time": "2022-09-29T09:32:38.118Z"
   },
   {
    "duration": 4,
    "start_time": "2022-09-29T09:32:38.129Z"
   },
   {
    "duration": 13,
    "start_time": "2022-09-29T09:32:38.134Z"
   },
   {
    "duration": 18,
    "start_time": "2022-09-29T09:32:38.149Z"
   },
   {
    "duration": 41,
    "start_time": "2022-09-29T09:32:38.168Z"
   },
   {
    "duration": 8,
    "start_time": "2022-09-29T09:32:38.211Z"
   },
   {
    "duration": 7,
    "start_time": "2022-09-29T09:32:38.221Z"
   },
   {
    "duration": 13,
    "start_time": "2022-09-29T09:32:38.230Z"
   },
   {
    "duration": 18,
    "start_time": "2022-09-29T09:32:38.245Z"
   },
   {
    "duration": 17,
    "start_time": "2022-09-29T09:32:38.264Z"
   },
   {
    "duration": 3,
    "start_time": "2022-09-29T09:32:38.282Z"
   },
   {
    "duration": 10,
    "start_time": "2022-09-29T09:32:38.309Z"
   },
   {
    "duration": 10,
    "start_time": "2022-09-29T09:32:38.320Z"
   },
   {
    "duration": 6,
    "start_time": "2022-09-29T09:32:38.332Z"
   },
   {
    "duration": 11,
    "start_time": "2022-09-29T09:32:38.339Z"
   },
   {
    "duration": 9,
    "start_time": "2022-09-29T09:32:38.351Z"
   },
   {
    "duration": 2,
    "start_time": "2022-09-29T09:32:38.361Z"
   },
   {
    "duration": 4,
    "start_time": "2022-09-29T09:32:38.365Z"
   },
   {
    "duration": 4,
    "start_time": "2022-09-29T09:32:38.371Z"
   },
   {
    "duration": 18,
    "start_time": "2022-09-29T09:37:37.713Z"
   },
   {
    "duration": 89,
    "start_time": "2022-09-29T09:37:54.464Z"
   },
   {
    "duration": 22,
    "start_time": "2022-09-29T09:38:14.143Z"
   },
   {
    "duration": 471,
    "start_time": "2022-09-29T09:38:47.777Z"
   },
   {
    "duration": 23,
    "start_time": "2022-09-29T09:38:48.250Z"
   },
   {
    "duration": 15,
    "start_time": "2022-09-29T09:38:48.275Z"
   },
   {
    "duration": 23,
    "start_time": "2022-09-29T09:38:48.291Z"
   },
   {
    "duration": 31,
    "start_time": "2022-09-29T09:38:48.317Z"
   },
   {
    "duration": 3,
    "start_time": "2022-09-29T09:38:48.350Z"
   },
   {
    "duration": 17,
    "start_time": "2022-09-29T09:38:48.355Z"
   },
   {
    "duration": 18,
    "start_time": "2022-09-29T09:38:48.373Z"
   },
   {
    "duration": 19,
    "start_time": "2022-09-29T09:38:48.393Z"
   },
   {
    "duration": 6,
    "start_time": "2022-09-29T09:38:48.413Z"
   },
   {
    "duration": 36,
    "start_time": "2022-09-29T09:38:48.421Z"
   },
   {
    "duration": 8,
    "start_time": "2022-09-29T09:38:48.459Z"
   },
   {
    "duration": 10,
    "start_time": "2022-09-29T09:38:48.469Z"
   },
   {
    "duration": 15,
    "start_time": "2022-09-29T09:38:48.481Z"
   },
   {
    "duration": 27,
    "start_time": "2022-09-29T09:38:48.497Z"
   },
   {
    "duration": 15,
    "start_time": "2022-09-29T09:38:48.526Z"
   },
   {
    "duration": 3,
    "start_time": "2022-09-29T09:38:48.543Z"
   },
   {
    "duration": 13,
    "start_time": "2022-09-29T09:38:48.548Z"
   },
   {
    "duration": 10,
    "start_time": "2022-09-29T09:38:48.563Z"
   },
   {
    "duration": 5,
    "start_time": "2022-09-29T09:38:48.574Z"
   },
   {
    "duration": 30,
    "start_time": "2022-09-29T09:38:48.580Z"
   },
   {
    "duration": 20,
    "start_time": "2022-09-29T09:38:48.612Z"
   },
   {
    "duration": 2,
    "start_time": "2022-09-29T09:38:48.634Z"
   },
   {
    "duration": 12,
    "start_time": "2022-09-29T09:38:48.637Z"
   },
   {
    "duration": 32,
    "start_time": "2022-09-29T09:38:48.651Z"
   },
   {
    "duration": 16,
    "start_time": "2022-09-29T09:40:33.576Z"
   },
   {
    "duration": 15,
    "start_time": "2022-09-29T09:41:28.996Z"
   },
   {
    "duration": 229,
    "start_time": "2022-09-29T09:41:45.996Z"
   },
   {
    "duration": 217,
    "start_time": "2022-09-29T09:41:50.697Z"
   },
   {
    "duration": 16,
    "start_time": "2022-09-29T09:41:59.041Z"
   },
   {
    "duration": 1088,
    "start_time": "2022-09-29T09:42:20.679Z"
   },
   {
    "duration": 95,
    "start_time": "2022-09-29T09:42:50.167Z"
   },
   {
    "duration": 15,
    "start_time": "2022-09-29T09:43:43.358Z"
   },
   {
    "duration": 18,
    "start_time": "2022-09-29T09:44:44.254Z"
   },
   {
    "duration": 75,
    "start_time": "2022-09-29T09:48:07.386Z"
   },
   {
    "duration": 13,
    "start_time": "2022-09-29T09:48:17.924Z"
   },
   {
    "duration": 20,
    "start_time": "2022-09-29T09:57:50.655Z"
   },
   {
    "duration": 15,
    "start_time": "2022-09-29T10:05:30.604Z"
   },
   {
    "duration": 18,
    "start_time": "2022-09-29T10:05:43.132Z"
   },
   {
    "duration": 434,
    "start_time": "2022-09-29T10:05:58.154Z"
   },
   {
    "duration": 21,
    "start_time": "2022-09-29T10:05:58.590Z"
   },
   {
    "duration": 14,
    "start_time": "2022-09-29T10:05:58.612Z"
   },
   {
    "duration": 9,
    "start_time": "2022-09-29T10:05:58.627Z"
   },
   {
    "duration": 31,
    "start_time": "2022-09-29T10:05:58.638Z"
   },
   {
    "duration": 3,
    "start_time": "2022-09-29T10:05:58.671Z"
   },
   {
    "duration": 33,
    "start_time": "2022-09-29T10:05:58.676Z"
   },
   {
    "duration": 11,
    "start_time": "2022-09-29T10:05:58.710Z"
   },
   {
    "duration": 7,
    "start_time": "2022-09-29T10:05:58.722Z"
   },
   {
    "duration": 7,
    "start_time": "2022-09-29T10:05:58.731Z"
   },
   {
    "duration": 32,
    "start_time": "2022-09-29T10:05:58.739Z"
   },
   {
    "duration": 9,
    "start_time": "2022-09-29T10:05:58.773Z"
   },
   {
    "duration": 7,
    "start_time": "2022-09-29T10:05:58.784Z"
   },
   {
    "duration": 16,
    "start_time": "2022-09-29T10:05:58.810Z"
   },
   {
    "duration": 28,
    "start_time": "2022-09-29T10:05:58.828Z"
   },
   {
    "duration": 20,
    "start_time": "2022-09-29T10:05:58.858Z"
   },
   {
    "duration": 3,
    "start_time": "2022-09-29T10:05:58.880Z"
   },
   {
    "duration": 27,
    "start_time": "2022-09-29T10:05:58.884Z"
   },
   {
    "duration": 13,
    "start_time": "2022-09-29T10:05:58.912Z"
   },
   {
    "duration": 9,
    "start_time": "2022-09-29T10:05:58.926Z"
   },
   {
    "duration": 11,
    "start_time": "2022-09-29T10:05:58.936Z"
   },
   {
    "duration": 22,
    "start_time": "2022-09-29T10:05:58.948Z"
   },
   {
    "duration": 2,
    "start_time": "2022-09-29T10:05:58.971Z"
   },
   {
    "duration": 7,
    "start_time": "2022-09-29T10:05:58.975Z"
   },
   {
    "duration": 5,
    "start_time": "2022-09-29T10:05:58.983Z"
   },
   {
    "duration": 46,
    "start_time": "2022-09-29T10:07:06.406Z"
   },
   {
    "duration": 120,
    "start_time": "2022-09-29T10:09:29.159Z"
   },
   {
    "duration": 43,
    "start_time": "2022-09-29T10:09:46.232Z"
   },
   {
    "duration": 17,
    "start_time": "2022-09-29T10:12:14.735Z"
   },
   {
    "duration": 5,
    "start_time": "2022-09-29T10:13:05.520Z"
   },
   {
    "duration": 8,
    "start_time": "2022-09-29T10:13:44.885Z"
   },
   {
    "duration": 11,
    "start_time": "2022-09-29T10:14:16.108Z"
   },
   {
    "duration": 8,
    "start_time": "2022-09-29T10:14:22.375Z"
   },
   {
    "duration": 137,
    "start_time": "2022-09-29T10:15:11.124Z"
   },
   {
    "duration": 69,
    "start_time": "2022-09-29T10:15:16.624Z"
   },
   {
    "duration": 4,
    "start_time": "2022-09-29T10:15:33.130Z"
   },
   {
    "duration": 2083,
    "start_time": "2022-09-29T10:15:43.784Z"
   },
   {
    "duration": 6,
    "start_time": "2022-09-29T10:18:27.101Z"
   },
   {
    "duration": 9,
    "start_time": "2022-09-29T10:21:04.923Z"
   },
   {
    "duration": 13,
    "start_time": "2022-09-29T10:21:25.890Z"
   },
   {
    "duration": 10,
    "start_time": "2022-09-29T10:21:59.139Z"
   },
   {
    "duration": 771,
    "start_time": "2022-09-29T11:49:14.919Z"
   },
   {
    "duration": 23,
    "start_time": "2022-09-29T11:49:15.692Z"
   },
   {
    "duration": 33,
    "start_time": "2022-09-29T11:49:15.717Z"
   },
   {
    "duration": 11,
    "start_time": "2022-09-29T11:49:15.759Z"
   },
   {
    "duration": 39,
    "start_time": "2022-09-29T11:49:15.773Z"
   },
   {
    "duration": 4,
    "start_time": "2022-09-29T11:49:15.813Z"
   },
   {
    "duration": 13,
    "start_time": "2022-09-29T11:49:15.818Z"
   },
   {
    "duration": 7,
    "start_time": "2022-09-29T11:49:15.838Z"
   },
   {
    "duration": 16,
    "start_time": "2022-09-29T11:49:15.847Z"
   },
   {
    "duration": 7,
    "start_time": "2022-09-29T11:49:15.865Z"
   },
   {
    "duration": 42,
    "start_time": "2022-09-29T11:49:15.874Z"
   },
   {
    "duration": 37,
    "start_time": "2022-09-29T11:49:15.918Z"
   },
   {
    "duration": 10,
    "start_time": "2022-09-29T11:49:15.957Z"
   },
   {
    "duration": 13,
    "start_time": "2022-09-29T11:49:15.970Z"
   },
   {
    "duration": 19,
    "start_time": "2022-09-29T11:49:15.985Z"
   },
   {
    "duration": 17,
    "start_time": "2022-09-29T11:49:16.006Z"
   },
   {
    "duration": 26,
    "start_time": "2022-09-29T11:49:16.024Z"
   },
   {
    "duration": 15,
    "start_time": "2022-09-29T11:49:16.052Z"
   },
   {
    "duration": 12,
    "start_time": "2022-09-29T11:49:16.068Z"
   },
   {
    "duration": 4,
    "start_time": "2022-09-29T11:49:16.083Z"
   },
   {
    "duration": 18,
    "start_time": "2022-09-29T11:49:16.090Z"
   },
   {
    "duration": 110,
    "start_time": "2022-09-29T11:49:16.111Z"
   },
   {
    "duration": 0,
    "start_time": "2022-09-29T11:49:16.223Z"
   },
   {
    "duration": 0,
    "start_time": "2022-09-29T11:49:16.224Z"
   },
   {
    "duration": 0,
    "start_time": "2022-09-29T11:49:16.225Z"
   },
   {
    "duration": 14,
    "start_time": "2022-09-29T11:49:41.040Z"
   },
   {
    "duration": 9,
    "start_time": "2022-09-29T11:50:27.451Z"
   },
   {
    "duration": 12,
    "start_time": "2022-09-29T11:51:22.723Z"
   },
   {
    "duration": 1464,
    "start_time": "2022-09-29T11:51:44.468Z"
   },
   {
    "duration": 5,
    "start_time": "2022-09-29T11:52:34.703Z"
   },
   {
    "duration": 1058,
    "start_time": "2022-09-29T11:58:32.164Z"
   },
   {
    "duration": 21,
    "start_time": "2022-09-29T11:59:20.130Z"
   },
   {
    "duration": 14,
    "start_time": "2022-09-29T12:01:38.217Z"
   },
   {
    "duration": 25,
    "start_time": "2022-09-29T12:10:07.530Z"
   },
   {
    "duration": 14,
    "start_time": "2022-09-29T12:10:30.812Z"
   },
   {
    "duration": 11,
    "start_time": "2022-09-29T12:11:53.607Z"
   },
   {
    "duration": 16,
    "start_time": "2022-09-29T12:12:40.989Z"
   },
   {
    "duration": 24,
    "start_time": "2022-09-29T12:13:35.048Z"
   },
   {
    "duration": 5,
    "start_time": "2022-09-29T12:15:35.599Z"
   },
   {
    "duration": 7,
    "start_time": "2022-09-29T12:15:56.722Z"
   },
   {
    "duration": 5,
    "start_time": "2022-09-29T12:16:25.297Z"
   },
   {
    "duration": 25,
    "start_time": "2022-09-29T12:17:26.129Z"
   },
   {
    "duration": 24,
    "start_time": "2022-09-29T12:17:46.455Z"
   },
   {
    "duration": 32,
    "start_time": "2022-09-29T12:18:05.780Z"
   },
   {
    "duration": 4,
    "start_time": "2022-09-29T12:30:05.048Z"
   },
   {
    "duration": 9,
    "start_time": "2022-09-29T12:31:08.124Z"
   },
   {
    "duration": 9,
    "start_time": "2022-09-29T12:31:51.058Z"
   },
   {
    "duration": 10,
    "start_time": "2022-09-29T12:32:19.267Z"
   },
   {
    "duration": 9,
    "start_time": "2022-09-29T12:32:31.269Z"
   },
   {
    "duration": 85,
    "start_time": "2022-09-29T12:32:58.796Z"
   },
   {
    "duration": 16,
    "start_time": "2022-09-29T12:33:12.130Z"
   },
   {
    "duration": 9,
    "start_time": "2022-09-29T12:33:33.854Z"
   },
   {
    "duration": 7,
    "start_time": "2022-09-29T12:36:35.364Z"
   },
   {
    "duration": 104,
    "start_time": "2022-09-29T12:36:43.964Z"
   },
   {
    "duration": 167,
    "start_time": "2022-09-29T12:37:12.192Z"
   },
   {
    "duration": 536,
    "start_time": "2022-09-29T12:37:17.715Z"
   },
   {
    "duration": 23,
    "start_time": "2022-09-29T12:37:18.253Z"
   },
   {
    "duration": 23,
    "start_time": "2022-09-29T12:37:18.278Z"
   },
   {
    "duration": 15,
    "start_time": "2022-09-29T12:37:18.302Z"
   },
   {
    "duration": 69,
    "start_time": "2022-09-29T12:37:18.320Z"
   },
   {
    "duration": 4,
    "start_time": "2022-09-29T12:37:18.391Z"
   },
   {
    "duration": 16,
    "start_time": "2022-09-29T12:37:18.397Z"
   },
   {
    "duration": 7,
    "start_time": "2022-09-29T12:37:18.415Z"
   },
   {
    "duration": 28,
    "start_time": "2022-09-29T12:37:18.424Z"
   },
   {
    "duration": 14,
    "start_time": "2022-09-29T12:37:18.454Z"
   },
   {
    "duration": 42,
    "start_time": "2022-09-29T12:37:18.469Z"
   },
   {
    "duration": 19,
    "start_time": "2022-09-29T12:37:18.514Z"
   },
   {
    "duration": 29,
    "start_time": "2022-09-29T12:37:18.535Z"
   },
   {
    "duration": 14,
    "start_time": "2022-09-29T12:37:18.567Z"
   },
   {
    "duration": 46,
    "start_time": "2022-09-29T12:37:18.583Z"
   },
   {
    "duration": 27,
    "start_time": "2022-09-29T12:37:18.631Z"
   },
   {
    "duration": 5,
    "start_time": "2022-09-29T12:37:18.661Z"
   },
   {
    "duration": 33,
    "start_time": "2022-09-29T12:37:18.668Z"
   },
   {
    "duration": 11,
    "start_time": "2022-09-29T12:37:18.703Z"
   },
   {
    "duration": 4,
    "start_time": "2022-09-29T12:37:18.717Z"
   },
   {
    "duration": 32,
    "start_time": "2022-09-29T12:37:18.723Z"
   },
   {
    "duration": 117,
    "start_time": "2022-09-29T12:37:18.757Z"
   },
   {
    "duration": 0,
    "start_time": "2022-09-29T12:37:18.877Z"
   },
   {
    "duration": 0,
    "start_time": "2022-09-29T12:37:18.878Z"
   },
   {
    "duration": 0,
    "start_time": "2022-09-29T12:37:18.880Z"
   },
   {
    "duration": 80,
    "start_time": "2022-09-29T12:37:31.522Z"
   },
   {
    "duration": 71,
    "start_time": "2022-09-29T12:37:40.848Z"
   },
   {
    "duration": 8,
    "start_time": "2022-09-29T12:37:53.122Z"
   },
   {
    "duration": 5,
    "start_time": "2022-09-29T12:39:01.590Z"
   },
   {
    "duration": 5,
    "start_time": "2022-09-29T12:39:33.548Z"
   },
   {
    "duration": 8,
    "start_time": "2022-09-29T12:40:55.526Z"
   },
   {
    "duration": 11,
    "start_time": "2022-09-29T12:41:47.593Z"
   },
   {
    "duration": 86,
    "start_time": "2022-09-29T12:46:28.843Z"
   },
   {
    "duration": 21,
    "start_time": "2022-09-29T12:46:45.033Z"
   },
   {
    "duration": 10,
    "start_time": "2022-09-29T12:47:15.021Z"
   },
   {
    "duration": 8,
    "start_time": "2022-09-29T12:47:26.288Z"
   },
   {
    "duration": 9,
    "start_time": "2022-09-29T12:51:20.801Z"
   },
   {
    "duration": 8,
    "start_time": "2022-09-29T12:53:42.897Z"
   },
   {
    "duration": 8,
    "start_time": "2022-09-29T12:54:03.854Z"
   },
   {
    "duration": 10,
    "start_time": "2022-09-29T12:59:51.036Z"
   },
   {
    "duration": 70,
    "start_time": "2022-09-29T13:02:26.099Z"
   },
   {
    "duration": 9,
    "start_time": "2022-09-29T13:02:58.183Z"
   },
   {
    "duration": 7,
    "start_time": "2022-09-29T13:03:26.453Z"
   },
   {
    "duration": 8,
    "start_time": "2022-09-29T13:03:33.852Z"
   },
   {
    "duration": 491,
    "start_time": "2022-09-29T13:03:40.674Z"
   },
   {
    "duration": 24,
    "start_time": "2022-09-29T13:03:41.167Z"
   },
   {
    "duration": 16,
    "start_time": "2022-09-29T13:03:41.192Z"
   },
   {
    "duration": 41,
    "start_time": "2022-09-29T13:03:41.210Z"
   },
   {
    "duration": 38,
    "start_time": "2022-09-29T13:03:41.253Z"
   },
   {
    "duration": 3,
    "start_time": "2022-09-29T13:03:41.293Z"
   },
   {
    "duration": 12,
    "start_time": "2022-09-29T13:03:41.297Z"
   },
   {
    "duration": 7,
    "start_time": "2022-09-29T13:03:41.311Z"
   },
   {
    "duration": 30,
    "start_time": "2022-09-29T13:03:41.320Z"
   },
   {
    "duration": 8,
    "start_time": "2022-09-29T13:03:41.352Z"
   },
   {
    "duration": 40,
    "start_time": "2022-09-29T13:03:41.361Z"
   },
   {
    "duration": 11,
    "start_time": "2022-09-29T13:03:41.403Z"
   },
   {
    "duration": 4,
    "start_time": "2022-09-29T13:03:41.415Z"
   },
   {
    "duration": 29,
    "start_time": "2022-09-29T13:03:41.422Z"
   },
   {
    "duration": 20,
    "start_time": "2022-09-29T13:03:41.453Z"
   },
   {
    "duration": 19,
    "start_time": "2022-09-29T13:03:41.474Z"
   },
   {
    "duration": 4,
    "start_time": "2022-09-29T13:03:41.494Z"
   },
   {
    "duration": 24,
    "start_time": "2022-09-29T13:03:41.500Z"
   },
   {
    "duration": 28,
    "start_time": "2022-09-29T13:03:41.526Z"
   },
   {
    "duration": 8,
    "start_time": "2022-09-29T13:03:41.557Z"
   },
   {
    "duration": 18,
    "start_time": "2022-09-29T13:03:41.567Z"
   },
   {
    "duration": 10,
    "start_time": "2022-09-29T13:03:41.587Z"
   },
   {
    "duration": 3,
    "start_time": "2022-09-29T13:03:41.600Z"
   },
   {
    "duration": 8,
    "start_time": "2022-09-29T13:03:41.604Z"
   },
   {
    "duration": 10,
    "start_time": "2022-09-29T13:03:41.614Z"
   },
   {
    "duration": 9,
    "start_time": "2022-09-29T13:04:46.493Z"
   },
   {
    "duration": 67,
    "start_time": "2022-09-29T13:05:05.803Z"
   },
   {
    "duration": 70,
    "start_time": "2022-09-29T13:05:49.593Z"
   },
   {
    "duration": 9,
    "start_time": "2022-09-29T13:05:56.224Z"
   },
   {
    "duration": 7,
    "start_time": "2022-09-29T13:06:21.773Z"
   },
   {
    "duration": 15,
    "start_time": "2022-09-29T13:11:35.748Z"
   },
   {
    "duration": 9,
    "start_time": "2022-09-29T13:12:30.294Z"
   },
   {
    "duration": 119,
    "start_time": "2022-09-29T13:12:38.851Z"
   },
   {
    "duration": 12,
    "start_time": "2022-09-29T13:15:33.523Z"
   },
   {
    "duration": 11,
    "start_time": "2022-09-29T13:15:39.009Z"
   },
   {
    "duration": 527,
    "start_time": "2022-09-29T13:15:46.523Z"
   },
   {
    "duration": 25,
    "start_time": "2022-09-29T13:15:47.053Z"
   },
   {
    "duration": 16,
    "start_time": "2022-09-29T13:15:47.081Z"
   },
   {
    "duration": 12,
    "start_time": "2022-09-29T13:15:47.099Z"
   },
   {
    "duration": 43,
    "start_time": "2022-09-29T13:15:47.141Z"
   },
   {
    "duration": 4,
    "start_time": "2022-09-29T13:15:47.185Z"
   },
   {
    "duration": 22,
    "start_time": "2022-09-29T13:15:47.191Z"
   },
   {
    "duration": 4,
    "start_time": "2022-09-29T13:15:47.215Z"
   },
   {
    "duration": 21,
    "start_time": "2022-09-29T13:15:47.221Z"
   },
   {
    "duration": 6,
    "start_time": "2022-09-29T13:15:47.247Z"
   },
   {
    "duration": 41,
    "start_time": "2022-09-29T13:15:47.255Z"
   },
   {
    "duration": 11,
    "start_time": "2022-09-29T13:15:47.298Z"
   },
   {
    "duration": 14,
    "start_time": "2022-09-29T13:15:47.310Z"
   },
   {
    "duration": 22,
    "start_time": "2022-09-29T13:15:47.338Z"
   },
   {
    "duration": 27,
    "start_time": "2022-09-29T13:15:47.361Z"
   },
   {
    "duration": 18,
    "start_time": "2022-09-29T13:15:47.390Z"
   },
   {
    "duration": 24,
    "start_time": "2022-09-29T13:15:47.410Z"
   },
   {
    "duration": 31,
    "start_time": "2022-09-29T13:15:47.442Z"
   },
   {
    "duration": 18,
    "start_time": "2022-09-29T13:15:47.475Z"
   },
   {
    "duration": 36,
    "start_time": "2022-09-29T13:15:47.498Z"
   },
   {
    "duration": 36,
    "start_time": "2022-09-29T13:15:47.536Z"
   },
   {
    "duration": 109,
    "start_time": "2022-09-29T13:15:47.574Z"
   },
   {
    "duration": 0,
    "start_time": "2022-09-29T13:15:47.685Z"
   },
   {
    "duration": 0,
    "start_time": "2022-09-29T13:15:47.687Z"
   },
   {
    "duration": 0,
    "start_time": "2022-09-29T13:15:47.689Z"
   },
   {
    "duration": 10,
    "start_time": "2022-09-29T13:16:10.755Z"
   },
   {
    "duration": 10,
    "start_time": "2022-09-29T13:18:01.679Z"
   },
   {
    "duration": 11,
    "start_time": "2022-09-29T13:18:31.885Z"
   },
   {
    "duration": 10,
    "start_time": "2022-09-29T13:18:44.323Z"
   },
   {
    "duration": 11,
    "start_time": "2022-09-29T13:19:39.762Z"
   },
   {
    "duration": 11,
    "start_time": "2022-09-29T13:20:05.262Z"
   },
   {
    "duration": 10,
    "start_time": "2022-09-29T13:20:17.680Z"
   },
   {
    "duration": 10,
    "start_time": "2022-09-29T13:20:30.913Z"
   },
   {
    "duration": 10,
    "start_time": "2022-09-29T13:20:41.723Z"
   },
   {
    "duration": 13,
    "start_time": "2022-09-29T13:20:47.667Z"
   },
   {
    "duration": 10,
    "start_time": "2022-09-29T13:21:03.149Z"
   },
   {
    "duration": 10,
    "start_time": "2022-09-29T13:21:29.281Z"
   },
   {
    "duration": 10,
    "start_time": "2022-09-29T13:21:47.812Z"
   },
   {
    "duration": 9,
    "start_time": "2022-09-29T13:21:55.668Z"
   },
   {
    "duration": 14,
    "start_time": "2022-09-29T13:22:03.435Z"
   },
   {
    "duration": 10,
    "start_time": "2022-09-29T13:22:09.927Z"
   },
   {
    "duration": 17,
    "start_time": "2022-09-29T13:22:15.437Z"
   },
   {
    "duration": 10,
    "start_time": "2022-09-29T13:24:44.075Z"
   },
   {
    "duration": 12,
    "start_time": "2022-09-29T13:25:10.038Z"
   },
   {
    "duration": 11,
    "start_time": "2022-09-29T13:25:15.828Z"
   },
   {
    "duration": 10,
    "start_time": "2022-09-29T13:25:20.767Z"
   },
   {
    "duration": 11,
    "start_time": "2022-09-29T13:25:25.147Z"
   },
   {
    "duration": 555,
    "start_time": "2022-09-29T14:59:38.837Z"
   },
   {
    "duration": 33,
    "start_time": "2022-09-29T14:59:39.394Z"
   },
   {
    "duration": 17,
    "start_time": "2022-09-29T14:59:39.429Z"
   },
   {
    "duration": 9,
    "start_time": "2022-09-29T14:59:39.448Z"
   },
   {
    "duration": 62,
    "start_time": "2022-09-29T14:59:39.460Z"
   },
   {
    "duration": 4,
    "start_time": "2022-09-29T14:59:39.523Z"
   },
   {
    "duration": 10,
    "start_time": "2022-09-29T14:59:39.529Z"
   },
   {
    "duration": 4,
    "start_time": "2022-09-29T14:59:39.541Z"
   },
   {
    "duration": 10,
    "start_time": "2022-09-29T14:59:39.546Z"
   },
   {
    "duration": 5,
    "start_time": "2022-09-29T14:59:39.557Z"
   },
   {
    "duration": 42,
    "start_time": "2022-09-29T14:59:39.595Z"
   },
   {
    "duration": 13,
    "start_time": "2022-09-29T14:59:39.639Z"
   },
   {
    "duration": 7,
    "start_time": "2022-09-29T14:59:39.654Z"
   },
   {
    "duration": 43,
    "start_time": "2022-09-29T14:59:39.663Z"
   },
   {
    "duration": 21,
    "start_time": "2022-09-29T14:59:39.708Z"
   },
   {
    "duration": 18,
    "start_time": "2022-09-29T14:59:39.730Z"
   },
   {
    "duration": 3,
    "start_time": "2022-09-29T14:59:39.750Z"
   },
   {
    "duration": 13,
    "start_time": "2022-09-29T14:59:39.755Z"
   },
   {
    "duration": 6,
    "start_time": "2022-09-29T14:59:39.770Z"
   },
   {
    "duration": 4,
    "start_time": "2022-09-29T14:59:39.795Z"
   },
   {
    "duration": 13,
    "start_time": "2022-09-29T14:59:39.801Z"
   },
   {
    "duration": 12,
    "start_time": "2022-09-29T14:59:39.816Z"
   },
   {
    "duration": 3,
    "start_time": "2022-09-29T14:59:39.829Z"
   },
   {
    "duration": 6,
    "start_time": "2022-09-29T14:59:39.834Z"
   },
   {
    "duration": 5,
    "start_time": "2022-09-29T14:59:39.842Z"
   },
   {
    "duration": 17,
    "start_time": "2022-09-29T14:59:58.255Z"
   },
   {
    "duration": 20,
    "start_time": "2022-09-29T15:00:20.407Z"
   },
   {
    "duration": 17,
    "start_time": "2022-09-29T15:00:31.113Z"
   },
   {
    "duration": 14,
    "start_time": "2022-09-29T15:00:58.486Z"
   },
   {
    "duration": 13,
    "start_time": "2022-09-29T15:01:07.962Z"
   },
   {
    "duration": 85,
    "start_time": "2022-09-29T15:03:23.491Z"
   },
   {
    "duration": 78,
    "start_time": "2022-09-29T15:03:28.698Z"
   },
   {
    "duration": 16,
    "start_time": "2022-09-29T15:04:15.293Z"
   },
   {
    "duration": 582,
    "start_time": "2022-09-29T18:35:50.599Z"
   },
   {
    "duration": 28,
    "start_time": "2022-09-29T18:35:51.183Z"
   },
   {
    "duration": 17,
    "start_time": "2022-09-29T18:35:51.213Z"
   },
   {
    "duration": 10,
    "start_time": "2022-09-29T18:35:51.232Z"
   },
   {
    "duration": 59,
    "start_time": "2022-09-29T18:35:51.244Z"
   },
   {
    "duration": 5,
    "start_time": "2022-09-29T18:35:51.305Z"
   },
   {
    "duration": 13,
    "start_time": "2022-09-29T18:35:51.312Z"
   },
   {
    "duration": 4,
    "start_time": "2022-09-29T18:35:51.326Z"
   },
   {
    "duration": 8,
    "start_time": "2022-09-29T18:35:51.332Z"
   },
   {
    "duration": 6,
    "start_time": "2022-09-29T18:35:51.342Z"
   },
   {
    "duration": 71,
    "start_time": "2022-09-29T18:35:51.350Z"
   },
   {
    "duration": 10,
    "start_time": "2022-09-29T18:35:51.423Z"
   },
   {
    "duration": 5,
    "start_time": "2022-09-29T18:35:51.434Z"
   },
   {
    "duration": 14,
    "start_time": "2022-09-29T18:35:51.441Z"
   },
   {
    "duration": 39,
    "start_time": "2022-09-29T18:35:51.457Z"
   },
   {
    "duration": 19,
    "start_time": "2022-09-29T18:35:51.502Z"
   },
   {
    "duration": 3,
    "start_time": "2022-09-29T18:35:51.523Z"
   },
   {
    "duration": 14,
    "start_time": "2022-09-29T18:35:51.528Z"
   },
   {
    "duration": 6,
    "start_time": "2022-09-29T18:35:51.543Z"
   },
   {
    "duration": 5,
    "start_time": "2022-09-29T18:35:51.550Z"
   },
   {
    "duration": 33,
    "start_time": "2022-09-29T18:35:51.557Z"
   },
   {
    "duration": 29,
    "start_time": "2022-09-29T18:35:51.592Z"
   },
   {
    "duration": 3,
    "start_time": "2022-09-29T18:35:51.622Z"
   },
   {
    "duration": 6,
    "start_time": "2022-09-29T18:35:51.626Z"
   },
   {
    "duration": 6,
    "start_time": "2022-09-29T18:35:51.633Z"
   },
   {
    "duration": 8,
    "start_time": "2022-09-29T18:43:53.073Z"
   },
   {
    "duration": 8,
    "start_time": "2022-09-29T18:44:18.442Z"
   },
   {
    "duration": 9,
    "start_time": "2022-09-29T18:44:32.858Z"
   },
   {
    "duration": 15,
    "start_time": "2022-09-29T18:45:49.262Z"
   },
   {
    "duration": 15,
    "start_time": "2022-09-29T19:08:05.417Z"
   },
   {
    "duration": 14,
    "start_time": "2022-09-29T19:18:22.527Z"
   },
   {
    "duration": 15,
    "start_time": "2022-09-29T19:20:00.614Z"
   },
   {
    "duration": 22,
    "start_time": "2022-09-29T19:41:37.484Z"
   },
   {
    "duration": 16,
    "start_time": "2022-09-29T19:44:33.046Z"
   },
   {
    "duration": 13,
    "start_time": "2022-09-29T19:57:02.968Z"
   },
   {
    "duration": 14,
    "start_time": "2022-09-29T19:57:30.488Z"
   },
   {
    "duration": 14,
    "start_time": "2022-09-29T19:57:55.715Z"
   },
   {
    "duration": 17,
    "start_time": "2022-09-29T20:00:52.802Z"
   },
   {
    "duration": 16,
    "start_time": "2022-09-29T20:00:59.345Z"
   },
   {
    "duration": 553,
    "start_time": "2022-09-29T20:01:12.484Z"
   },
   {
    "duration": 29,
    "start_time": "2022-09-29T20:01:13.039Z"
   },
   {
    "duration": 44,
    "start_time": "2022-09-29T20:01:13.070Z"
   },
   {
    "duration": 28,
    "start_time": "2022-09-29T20:01:13.117Z"
   },
   {
    "duration": 84,
    "start_time": "2022-09-29T20:01:13.147Z"
   },
   {
    "duration": 3,
    "start_time": "2022-09-29T20:01:13.234Z"
   },
   {
    "duration": 25,
    "start_time": "2022-09-29T20:01:13.239Z"
   },
   {
    "duration": 26,
    "start_time": "2022-09-29T20:01:13.266Z"
   },
   {
    "duration": 27,
    "start_time": "2022-09-29T20:01:13.294Z"
   },
   {
    "duration": 26,
    "start_time": "2022-09-29T20:01:13.324Z"
   },
   {
    "duration": 85,
    "start_time": "2022-09-29T20:01:13.352Z"
   },
   {
    "duration": 13,
    "start_time": "2022-09-29T20:01:13.440Z"
   },
   {
    "duration": 9,
    "start_time": "2022-09-29T20:01:13.455Z"
   },
   {
    "duration": 50,
    "start_time": "2022-09-29T20:01:13.466Z"
   },
   {
    "duration": 44,
    "start_time": "2022-09-29T20:01:13.519Z"
   },
   {
    "duration": 47,
    "start_time": "2022-09-29T20:01:13.565Z"
   },
   {
    "duration": 17,
    "start_time": "2022-09-29T20:01:13.615Z"
   },
   {
    "duration": 32,
    "start_time": "2022-09-29T20:01:13.634Z"
   },
   {
    "duration": 19,
    "start_time": "2022-09-29T20:01:13.668Z"
   },
   {
    "duration": 35,
    "start_time": "2022-09-29T20:01:13.689Z"
   },
   {
    "duration": 66,
    "start_time": "2022-09-29T20:01:13.726Z"
   },
   {
    "duration": 33,
    "start_time": "2022-09-29T20:01:13.794Z"
   },
   {
    "duration": 50,
    "start_time": "2022-09-29T20:01:13.829Z"
   },
   {
    "duration": 54,
    "start_time": "2022-09-29T20:01:13.881Z"
   },
   {
    "duration": 52,
    "start_time": "2022-09-29T20:01:13.937Z"
   },
   {
    "duration": 59,
    "start_time": "2022-09-29T20:01:13.992Z"
   },
   {
    "duration": 15,
    "start_time": "2022-09-29T20:01:37.895Z"
   },
   {
    "duration": 7,
    "start_time": "2022-09-29T20:02:04.750Z"
   },
   {
    "duration": 15,
    "start_time": "2022-09-29T20:02:42.482Z"
   },
   {
    "duration": 21,
    "start_time": "2022-09-29T20:03:50.838Z"
   },
   {
    "duration": 9,
    "start_time": "2022-09-29T20:04:28.074Z"
   },
   {
    "duration": 739,
    "start_time": "2022-09-30T06:13:26.105Z"
   },
   {
    "duration": 20,
    "start_time": "2022-09-30T06:13:26.846Z"
   },
   {
    "duration": 49,
    "start_time": "2022-09-30T06:13:26.867Z"
   },
   {
    "duration": 32,
    "start_time": "2022-09-30T06:13:26.919Z"
   },
   {
    "duration": 50,
    "start_time": "2022-09-30T06:13:26.953Z"
   },
   {
    "duration": 8,
    "start_time": "2022-09-30T06:13:27.008Z"
   },
   {
    "duration": 33,
    "start_time": "2022-09-30T06:13:27.018Z"
   },
   {
    "duration": 54,
    "start_time": "2022-09-30T06:13:27.053Z"
   },
   {
    "duration": 36,
    "start_time": "2022-09-30T06:13:27.109Z"
   },
   {
    "duration": 21,
    "start_time": "2022-09-30T06:13:27.147Z"
   },
   {
    "duration": 64,
    "start_time": "2022-09-30T06:13:27.170Z"
   },
   {
    "duration": 8,
    "start_time": "2022-09-30T06:13:27.236Z"
   },
   {
    "duration": 58,
    "start_time": "2022-09-30T06:13:27.246Z"
   },
   {
    "duration": 31,
    "start_time": "2022-09-30T06:13:27.305Z"
   },
   {
    "duration": 57,
    "start_time": "2022-09-30T06:13:27.338Z"
   },
   {
    "duration": 17,
    "start_time": "2022-09-30T06:13:27.399Z"
   },
   {
    "duration": 4,
    "start_time": "2022-09-30T06:13:27.418Z"
   },
   {
    "duration": 24,
    "start_time": "2022-09-30T06:13:27.423Z"
   },
   {
    "duration": 7,
    "start_time": "2022-09-30T06:13:27.449Z"
   },
   {
    "duration": 3,
    "start_time": "2022-09-30T06:13:27.458Z"
   },
   {
    "duration": 12,
    "start_time": "2022-09-30T06:13:27.463Z"
   },
   {
    "duration": 41,
    "start_time": "2022-09-30T06:13:27.477Z"
   },
   {
    "duration": 11,
    "start_time": "2022-09-30T06:13:27.520Z"
   },
   {
    "duration": 12,
    "start_time": "2022-09-30T06:13:27.532Z"
   },
   {
    "duration": 15,
    "start_time": "2022-09-30T06:13:27.545Z"
   },
   {
    "duration": 11,
    "start_time": "2022-09-30T06:13:27.561Z"
   },
   {
    "duration": 29,
    "start_time": "2022-09-30T06:15:04.975Z"
   },
   {
    "duration": 14,
    "start_time": "2022-09-30T06:15:35.501Z"
   },
   {
    "duration": 26,
    "start_time": "2022-09-30T06:15:58.858Z"
   },
   {
    "duration": 83,
    "start_time": "2022-09-30T06:16:21.846Z"
   },
   {
    "duration": 8,
    "start_time": "2022-09-30T06:16:29.545Z"
   },
   {
    "duration": 12,
    "start_time": "2022-09-30T06:17:09.325Z"
   },
   {
    "duration": 24,
    "start_time": "2022-09-30T06:17:25.680Z"
   },
   {
    "duration": 73,
    "start_time": "2022-09-30T06:20:14.302Z"
   },
   {
    "duration": 69,
    "start_time": "2022-09-30T06:20:22.203Z"
   },
   {
    "duration": 78,
    "start_time": "2022-09-30T06:20:39.505Z"
   },
   {
    "duration": 76,
    "start_time": "2022-09-30T06:23:22.709Z"
   },
   {
    "duration": 69,
    "start_time": "2022-09-30T06:24:14.303Z"
   },
   {
    "duration": 91,
    "start_time": "2022-09-30T06:25:46.815Z"
   },
   {
    "duration": 89,
    "start_time": "2022-09-30T06:26:03.770Z"
   },
   {
    "duration": 73,
    "start_time": "2022-09-30T06:26:59.320Z"
   },
   {
    "duration": 481,
    "start_time": "2022-09-30T06:36:51.507Z"
   },
   {
    "duration": 26,
    "start_time": "2022-09-30T06:36:51.997Z"
   },
   {
    "duration": 20,
    "start_time": "2022-09-30T06:36:52.025Z"
   },
   {
    "duration": 9,
    "start_time": "2022-09-30T06:36:52.046Z"
   },
   {
    "duration": 52,
    "start_time": "2022-09-30T06:36:52.057Z"
   },
   {
    "duration": 4,
    "start_time": "2022-09-30T06:36:52.111Z"
   },
   {
    "duration": 13,
    "start_time": "2022-09-30T06:36:52.117Z"
   },
   {
    "duration": 5,
    "start_time": "2022-09-30T06:36:52.132Z"
   },
   {
    "duration": 9,
    "start_time": "2022-09-30T06:36:52.139Z"
   },
   {
    "duration": 5,
    "start_time": "2022-09-30T06:36:52.150Z"
   },
   {
    "duration": 46,
    "start_time": "2022-09-30T06:36:52.179Z"
   },
   {
    "duration": 10,
    "start_time": "2022-09-30T06:36:52.227Z"
   },
   {
    "duration": 9,
    "start_time": "2022-09-30T06:36:52.239Z"
   },
   {
    "duration": 14,
    "start_time": "2022-09-30T06:36:52.250Z"
   },
   {
    "duration": 31,
    "start_time": "2022-09-30T06:36:52.265Z"
   },
   {
    "duration": 36,
    "start_time": "2022-09-30T06:36:52.298Z"
   },
   {
    "duration": 3,
    "start_time": "2022-09-30T06:36:52.336Z"
   },
   {
    "duration": 12,
    "start_time": "2022-09-30T06:36:52.340Z"
   },
   {
    "duration": 6,
    "start_time": "2022-09-30T06:36:52.353Z"
   },
   {
    "duration": 4,
    "start_time": "2022-09-30T06:36:52.360Z"
   },
   {
    "duration": 49,
    "start_time": "2022-09-30T06:36:52.365Z"
   },
   {
    "duration": 17,
    "start_time": "2022-09-30T06:36:52.416Z"
   },
   {
    "duration": 18,
    "start_time": "2022-09-30T06:36:52.435Z"
   },
   {
    "duration": 14,
    "start_time": "2022-09-30T06:36:52.454Z"
   },
   {
    "duration": 16,
    "start_time": "2022-09-30T06:36:52.470Z"
   },
   {
    "duration": 63,
    "start_time": "2022-09-30T06:36:52.487Z"
   },
   {
    "duration": 77,
    "start_time": "2022-09-30T06:37:10.303Z"
   },
   {
    "duration": 88,
    "start_time": "2022-09-30T06:41:37.912Z"
   },
   {
    "duration": 75,
    "start_time": "2022-09-30T06:42:27.249Z"
   },
   {
    "duration": 148,
    "start_time": "2022-09-30T06:42:36.377Z"
   },
   {
    "duration": 80,
    "start_time": "2022-09-30T06:42:51.152Z"
   },
   {
    "duration": 83,
    "start_time": "2022-09-30T06:45:48.117Z"
   },
   {
    "duration": 95,
    "start_time": "2022-09-30T06:46:59.106Z"
   },
   {
    "duration": 90,
    "start_time": "2022-09-30T06:47:17.763Z"
   },
   {
    "duration": 91,
    "start_time": "2022-09-30T06:47:57.917Z"
   },
   {
    "duration": 1777,
    "start_time": "2022-09-30T06:49:23.706Z"
   },
   {
    "duration": 106,
    "start_time": "2022-09-30T06:49:33.109Z"
   },
   {
    "duration": 104,
    "start_time": "2022-09-30T06:59:28.905Z"
   },
   {
    "duration": 105,
    "start_time": "2022-09-30T07:03:37.713Z"
   },
   {
    "duration": 528,
    "start_time": "2022-09-30T10:16:17.530Z"
   },
   {
    "duration": 26,
    "start_time": "2022-09-30T10:16:18.060Z"
   },
   {
    "duration": 16,
    "start_time": "2022-09-30T10:16:18.088Z"
   },
   {
    "duration": 11,
    "start_time": "2022-09-30T10:16:18.106Z"
   },
   {
    "duration": 35,
    "start_time": "2022-09-30T10:16:18.119Z"
   },
   {
    "duration": 4,
    "start_time": "2022-09-30T10:16:18.156Z"
   },
   {
    "duration": 39,
    "start_time": "2022-09-30T10:16:18.161Z"
   },
   {
    "duration": 9,
    "start_time": "2022-09-30T10:16:18.202Z"
   },
   {
    "duration": 18,
    "start_time": "2022-09-30T10:16:18.213Z"
   },
   {
    "duration": 5,
    "start_time": "2022-09-30T10:16:18.234Z"
   },
   {
    "duration": 65,
    "start_time": "2022-09-30T10:16:18.241Z"
   },
   {
    "duration": 13,
    "start_time": "2022-09-30T10:16:18.308Z"
   },
   {
    "duration": 14,
    "start_time": "2022-09-30T10:16:18.322Z"
   },
   {
    "duration": 15,
    "start_time": "2022-09-30T10:16:18.338Z"
   },
   {
    "duration": 36,
    "start_time": "2022-09-30T10:16:18.355Z"
   },
   {
    "duration": 20,
    "start_time": "2022-09-30T10:16:18.393Z"
   },
   {
    "duration": 4,
    "start_time": "2022-09-30T10:16:18.416Z"
   },
   {
    "duration": 19,
    "start_time": "2022-09-30T10:16:18.422Z"
   },
   {
    "duration": 9,
    "start_time": "2022-09-30T10:16:18.443Z"
   },
   {
    "duration": 35,
    "start_time": "2022-09-30T10:16:18.454Z"
   },
   {
    "duration": 9,
    "start_time": "2022-09-30T10:16:18.491Z"
   },
   {
    "duration": 15,
    "start_time": "2022-09-30T10:16:18.501Z"
   },
   {
    "duration": 20,
    "start_time": "2022-09-30T10:16:18.518Z"
   },
   {
    "duration": 49,
    "start_time": "2022-09-30T10:16:18.540Z"
   },
   {
    "duration": 16,
    "start_time": "2022-09-30T10:16:18.591Z"
   },
   {
    "duration": 107,
    "start_time": "2022-09-30T10:16:18.609Z"
   },
   {
    "duration": 473,
    "start_time": "2022-09-30T11:33:06.698Z"
   },
   {
    "duration": 37,
    "start_time": "2022-09-30T11:33:07.173Z"
   },
   {
    "duration": 24,
    "start_time": "2022-09-30T11:33:07.211Z"
   },
   {
    "duration": 11,
    "start_time": "2022-09-30T11:33:07.237Z"
   },
   {
    "duration": 55,
    "start_time": "2022-09-30T11:33:07.251Z"
   },
   {
    "duration": 3,
    "start_time": "2022-09-30T11:33:07.308Z"
   },
   {
    "duration": 12,
    "start_time": "2022-09-30T11:33:07.312Z"
   },
   {
    "duration": 11,
    "start_time": "2022-09-30T11:33:07.325Z"
   },
   {
    "duration": 22,
    "start_time": "2022-09-30T11:33:07.337Z"
   },
   {
    "duration": 11,
    "start_time": "2022-09-30T11:33:07.360Z"
   },
   {
    "duration": 68,
    "start_time": "2022-09-30T11:33:07.373Z"
   },
   {
    "duration": 9,
    "start_time": "2022-09-30T11:33:07.443Z"
   },
   {
    "duration": 9,
    "start_time": "2022-09-30T11:33:07.453Z"
   },
   {
    "duration": 23,
    "start_time": "2022-09-30T11:33:07.465Z"
   },
   {
    "duration": 41,
    "start_time": "2022-09-30T11:33:07.489Z"
   },
   {
    "duration": 16,
    "start_time": "2022-09-30T11:33:07.532Z"
   },
   {
    "duration": 3,
    "start_time": "2022-09-30T11:33:07.550Z"
   },
   {
    "duration": 20,
    "start_time": "2022-09-30T11:33:07.554Z"
   },
   {
    "duration": 36,
    "start_time": "2022-09-30T11:33:07.575Z"
   },
   {
    "duration": 4,
    "start_time": "2022-09-30T11:33:07.612Z"
   },
   {
    "duration": 10,
    "start_time": "2022-09-30T11:33:07.617Z"
   },
   {
    "duration": 22,
    "start_time": "2022-09-30T11:33:07.629Z"
   },
   {
    "duration": 14,
    "start_time": "2022-09-30T11:33:07.652Z"
   },
   {
    "duration": 13,
    "start_time": "2022-09-30T11:33:07.668Z"
   },
   {
    "duration": 39,
    "start_time": "2022-09-30T11:33:07.683Z"
   },
   {
    "duration": 82,
    "start_time": "2022-09-30T11:33:07.723Z"
   },
   {
    "duration": 76,
    "start_time": "2022-09-30T12:21:46.728Z"
   },
   {
    "duration": 5,
    "start_time": "2022-09-30T12:22:17.572Z"
   },
   {
    "duration": 5,
    "start_time": "2022-09-30T12:22:27.408Z"
   },
   {
    "duration": 19,
    "start_time": "2022-09-30T12:23:55.637Z"
   },
   {
    "duration": 10,
    "start_time": "2022-09-30T12:24:18.511Z"
   },
   {
    "duration": 4,
    "start_time": "2022-09-30T12:24:32.721Z"
   },
   {
    "duration": 14,
    "start_time": "2022-09-30T12:24:42.621Z"
   },
   {
    "duration": 13,
    "start_time": "2022-09-30T12:25:10.653Z"
   },
   {
    "duration": 342,
    "start_time": "2022-09-30T12:25:28.867Z"
   },
   {
    "duration": 311,
    "start_time": "2022-09-30T12:26:06.418Z"
   },
   {
    "duration": 5,
    "start_time": "2022-09-30T12:26:32.625Z"
   },
   {
    "duration": 100,
    "start_time": "2022-09-30T12:26:48.183Z"
   },
   {
    "duration": 6,
    "start_time": "2022-09-30T12:27:30.013Z"
   },
   {
    "duration": 5,
    "start_time": "2022-09-30T12:28:03.522Z"
   },
   {
    "duration": 9,
    "start_time": "2022-09-30T12:28:42.284Z"
   },
   {
    "duration": 22,
    "start_time": "2022-09-30T12:29:18.633Z"
   },
   {
    "duration": 11,
    "start_time": "2022-09-30T12:29:33.329Z"
   },
   {
    "duration": 6,
    "start_time": "2022-09-30T12:29:53.578Z"
   },
   {
    "duration": 663,
    "start_time": "2022-10-01T16:50:09.608Z"
   },
   {
    "duration": 21,
    "start_time": "2022-10-01T16:50:10.273Z"
   },
   {
    "duration": 22,
    "start_time": "2022-10-01T16:50:10.296Z"
   },
   {
    "duration": 22,
    "start_time": "2022-10-01T16:50:10.319Z"
   },
   {
    "duration": 53,
    "start_time": "2022-10-01T16:50:10.342Z"
   },
   {
    "duration": 4,
    "start_time": "2022-10-01T16:50:10.396Z"
   },
   {
    "duration": 18,
    "start_time": "2022-10-01T16:50:10.401Z"
   },
   {
    "duration": 14,
    "start_time": "2022-10-01T16:50:10.421Z"
   },
   {
    "duration": 10,
    "start_time": "2022-10-01T16:50:10.437Z"
   },
   {
    "duration": 5,
    "start_time": "2022-10-01T16:50:10.448Z"
   },
   {
    "duration": 33,
    "start_time": "2022-10-01T16:50:10.454Z"
   },
   {
    "duration": 14,
    "start_time": "2022-10-01T16:50:10.489Z"
   },
   {
    "duration": 12,
    "start_time": "2022-10-01T16:50:10.505Z"
   },
   {
    "duration": 13,
    "start_time": "2022-10-01T16:50:10.520Z"
   },
   {
    "duration": 31,
    "start_time": "2022-10-01T16:50:10.534Z"
   },
   {
    "duration": 33,
    "start_time": "2022-10-01T16:50:10.567Z"
   },
   {
    "duration": 4,
    "start_time": "2022-10-01T16:50:10.603Z"
   },
   {
    "duration": 13,
    "start_time": "2022-10-01T16:50:10.608Z"
   },
   {
    "duration": 5,
    "start_time": "2022-10-01T16:50:10.623Z"
   },
   {
    "duration": 6,
    "start_time": "2022-10-01T16:50:10.630Z"
   },
   {
    "duration": 17,
    "start_time": "2022-10-01T16:50:10.637Z"
   },
   {
    "duration": 13,
    "start_time": "2022-10-01T16:50:10.656Z"
   },
   {
    "duration": 36,
    "start_time": "2022-10-01T16:50:10.671Z"
   },
   {
    "duration": 13,
    "start_time": "2022-10-01T16:50:10.709Z"
   },
   {
    "duration": 16,
    "start_time": "2022-10-01T16:50:10.724Z"
   },
   {
    "duration": 88,
    "start_time": "2022-10-01T16:50:10.741Z"
   },
   {
    "duration": 4,
    "start_time": "2022-10-01T16:50:10.831Z"
   },
   {
    "duration": 7,
    "start_time": "2022-10-01T16:51:18.427Z"
   },
   {
    "duration": 7,
    "start_time": "2022-10-01T16:52:47.085Z"
   },
   {
    "duration": 57,
    "start_time": "2022-10-01T16:53:01.714Z"
   },
   {
    "duration": 7,
    "start_time": "2022-10-01T16:53:08.831Z"
   },
   {
    "duration": 5,
    "start_time": "2022-10-01T16:55:32.287Z"
   },
   {
    "duration": 5,
    "start_time": "2022-10-01T16:55:39.239Z"
   },
   {
    "duration": 23,
    "start_time": "2022-10-01T17:11:32.279Z"
   },
   {
    "duration": 462,
    "start_time": "2022-10-01T17:12:19.173Z"
   },
   {
    "duration": 19,
    "start_time": "2022-10-01T17:12:19.636Z"
   },
   {
    "duration": 13,
    "start_time": "2022-10-01T17:12:19.656Z"
   },
   {
    "duration": 9,
    "start_time": "2022-10-01T17:12:19.671Z"
   },
   {
    "duration": 31,
    "start_time": "2022-10-01T17:12:19.700Z"
   },
   {
    "duration": 4,
    "start_time": "2022-10-01T17:12:19.732Z"
   },
   {
    "duration": 15,
    "start_time": "2022-10-01T17:12:19.737Z"
   },
   {
    "duration": 6,
    "start_time": "2022-10-01T17:12:19.754Z"
   },
   {
    "duration": 9,
    "start_time": "2022-10-01T17:12:19.762Z"
   },
   {
    "duration": 3,
    "start_time": "2022-10-01T17:12:19.774Z"
   },
   {
    "duration": 29,
    "start_time": "2022-10-01T17:12:19.800Z"
   },
   {
    "duration": 8,
    "start_time": "2022-10-01T17:12:19.831Z"
   },
   {
    "duration": 4,
    "start_time": "2022-10-01T17:12:19.841Z"
   },
   {
    "duration": 10,
    "start_time": "2022-10-01T17:12:19.846Z"
   },
   {
    "duration": 44,
    "start_time": "2022-10-01T17:12:19.858Z"
   },
   {
    "duration": 16,
    "start_time": "2022-10-01T17:12:19.904Z"
   },
   {
    "duration": 3,
    "start_time": "2022-10-01T17:12:19.922Z"
   },
   {
    "duration": 10,
    "start_time": "2022-10-01T17:12:19.927Z"
   },
   {
    "duration": 6,
    "start_time": "2022-10-01T17:12:19.939Z"
   },
   {
    "duration": 5,
    "start_time": "2022-10-01T17:12:19.947Z"
   },
   {
    "duration": 24,
    "start_time": "2022-10-01T17:12:19.953Z"
   },
   {
    "duration": 40,
    "start_time": "2022-10-01T17:12:19.978Z"
   },
   {
    "duration": 14,
    "start_time": "2022-10-01T17:12:20.020Z"
   },
   {
    "duration": 13,
    "start_time": "2022-10-01T17:12:20.036Z"
   },
   {
    "duration": 16,
    "start_time": "2022-10-01T17:12:20.051Z"
   },
   {
    "duration": 68,
    "start_time": "2022-10-01T17:12:20.100Z"
   },
   {
    "duration": 6,
    "start_time": "2022-10-01T17:12:20.170Z"
   },
   {
    "duration": 26,
    "start_time": "2022-10-01T17:18:08.906Z"
   },
   {
    "duration": 56,
    "start_time": "2022-10-01T17:36:13.168Z"
   },
   {
    "duration": 11,
    "start_time": "2022-10-01T17:36:50.455Z"
   },
   {
    "duration": 421,
    "start_time": "2022-10-01T17:37:01.334Z"
   },
   {
    "duration": 22,
    "start_time": "2022-10-01T17:37:01.756Z"
   },
   {
    "duration": 27,
    "start_time": "2022-10-01T17:37:01.779Z"
   },
   {
    "duration": 9,
    "start_time": "2022-10-01T17:37:01.807Z"
   },
   {
    "duration": 36,
    "start_time": "2022-10-01T17:37:01.818Z"
   },
   {
    "duration": 3,
    "start_time": "2022-10-01T17:37:01.855Z"
   },
   {
    "duration": 16,
    "start_time": "2022-10-01T17:37:01.859Z"
   },
   {
    "duration": 6,
    "start_time": "2022-10-01T17:37:01.877Z"
   },
   {
    "duration": 19,
    "start_time": "2022-10-01T17:37:01.884Z"
   },
   {
    "duration": 7,
    "start_time": "2022-10-01T17:37:01.906Z"
   },
   {
    "duration": 31,
    "start_time": "2022-10-01T17:37:01.915Z"
   },
   {
    "duration": 8,
    "start_time": "2022-10-01T17:37:01.947Z"
   },
   {
    "duration": 5,
    "start_time": "2022-10-01T17:37:01.956Z"
   },
   {
    "duration": 20,
    "start_time": "2022-10-01T17:37:01.962Z"
   },
   {
    "duration": 24,
    "start_time": "2022-10-01T17:37:01.983Z"
   },
   {
    "duration": 15,
    "start_time": "2022-10-01T17:37:02.008Z"
   },
   {
    "duration": 4,
    "start_time": "2022-10-01T17:37:02.024Z"
   },
   {
    "duration": 28,
    "start_time": "2022-10-01T17:37:02.029Z"
   },
   {
    "duration": 21,
    "start_time": "2022-10-01T17:37:02.059Z"
   },
   {
    "duration": 7,
    "start_time": "2022-10-01T17:37:02.082Z"
   },
   {
    "duration": 12,
    "start_time": "2022-10-01T17:37:02.091Z"
   },
   {
    "duration": 15,
    "start_time": "2022-10-01T17:37:02.105Z"
   },
   {
    "duration": 17,
    "start_time": "2022-10-01T17:37:02.122Z"
   },
   {
    "duration": 10,
    "start_time": "2022-10-01T17:37:02.141Z"
   },
   {
    "duration": 17,
    "start_time": "2022-10-01T17:37:02.152Z"
   },
   {
    "duration": 82,
    "start_time": "2022-10-01T17:37:02.171Z"
   },
   {
    "duration": 4,
    "start_time": "2022-10-01T17:37:02.255Z"
   },
   {
    "duration": 88,
    "start_time": "2022-10-01T17:39:26.951Z"
   },
   {
    "duration": 66,
    "start_time": "2022-10-01T17:39:34.689Z"
   },
   {
    "duration": 14,
    "start_time": "2022-10-01T17:40:01.001Z"
   },
   {
    "duration": 13,
    "start_time": "2022-10-01T17:40:10.146Z"
   },
   {
    "duration": 477,
    "start_time": "2022-10-01T17:40:15.594Z"
   },
   {
    "duration": 31,
    "start_time": "2022-10-01T17:40:16.073Z"
   },
   {
    "duration": 22,
    "start_time": "2022-10-01T17:40:16.106Z"
   },
   {
    "duration": 10,
    "start_time": "2022-10-01T17:40:16.130Z"
   },
   {
    "duration": 39,
    "start_time": "2022-10-01T17:40:16.142Z"
   },
   {
    "duration": 3,
    "start_time": "2022-10-01T17:40:16.182Z"
   },
   {
    "duration": 8,
    "start_time": "2022-10-01T17:40:16.200Z"
   },
   {
    "duration": 4,
    "start_time": "2022-10-01T17:40:16.209Z"
   },
   {
    "duration": 8,
    "start_time": "2022-10-01T17:40:16.214Z"
   },
   {
    "duration": 4,
    "start_time": "2022-10-01T17:40:16.223Z"
   },
   {
    "duration": 30,
    "start_time": "2022-10-01T17:40:16.228Z"
   },
   {
    "duration": 8,
    "start_time": "2022-10-01T17:40:16.260Z"
   },
   {
    "duration": 33,
    "start_time": "2022-10-01T17:40:16.269Z"
   },
   {
    "duration": 10,
    "start_time": "2022-10-01T17:40:16.305Z"
   },
   {
    "duration": 23,
    "start_time": "2022-10-01T17:40:16.317Z"
   },
   {
    "duration": 16,
    "start_time": "2022-10-01T17:40:16.341Z"
   },
   {
    "duration": 3,
    "start_time": "2022-10-01T17:40:16.359Z"
   },
   {
    "duration": 11,
    "start_time": "2022-10-01T17:40:16.363Z"
   },
   {
    "duration": 25,
    "start_time": "2022-10-01T17:40:16.376Z"
   },
   {
    "duration": 4,
    "start_time": "2022-10-01T17:40:16.402Z"
   },
   {
    "duration": 10,
    "start_time": "2022-10-01T17:40:16.407Z"
   },
   {
    "duration": 14,
    "start_time": "2022-10-01T17:40:16.418Z"
   },
   {
    "duration": 12,
    "start_time": "2022-10-01T17:40:16.433Z"
   },
   {
    "duration": 11,
    "start_time": "2022-10-01T17:40:16.447Z"
   },
   {
    "duration": 48,
    "start_time": "2022-10-01T17:40:16.460Z"
   },
   {
    "duration": 72,
    "start_time": "2022-10-01T17:40:16.510Z"
   },
   {
    "duration": 19,
    "start_time": "2022-10-01T17:40:16.583Z"
   },
   {
    "duration": 12,
    "start_time": "2022-10-01T17:40:41.892Z"
   },
   {
    "duration": 50,
    "start_time": "2022-10-01T17:41:01.761Z"
   },
   {
    "duration": 16,
    "start_time": "2022-10-01T17:41:14.360Z"
   },
   {
    "duration": 3,
    "start_time": "2022-10-01T17:41:44.022Z"
   },
   {
    "duration": 14,
    "start_time": "2022-10-01T17:41:51.318Z"
   },
   {
    "duration": 424,
    "start_time": "2022-10-01T17:41:59.719Z"
   },
   {
    "duration": 20,
    "start_time": "2022-10-01T17:42:00.144Z"
   },
   {
    "duration": 13,
    "start_time": "2022-10-01T17:42:00.166Z"
   },
   {
    "duration": 23,
    "start_time": "2022-10-01T17:42:00.180Z"
   },
   {
    "duration": 32,
    "start_time": "2022-10-01T17:42:00.205Z"
   },
   {
    "duration": 3,
    "start_time": "2022-10-01T17:42:00.238Z"
   },
   {
    "duration": 19,
    "start_time": "2022-10-01T17:42:00.242Z"
   },
   {
    "duration": 6,
    "start_time": "2022-10-01T17:42:00.262Z"
   },
   {
    "duration": 9,
    "start_time": "2022-10-01T17:42:00.269Z"
   },
   {
    "duration": 5,
    "start_time": "2022-10-01T17:42:00.282Z"
   },
   {
    "duration": 41,
    "start_time": "2022-10-01T17:42:00.289Z"
   },
   {
    "duration": 8,
    "start_time": "2022-10-01T17:42:00.331Z"
   },
   {
    "duration": 15,
    "start_time": "2022-10-01T17:42:00.341Z"
   },
   {
    "duration": 39,
    "start_time": "2022-10-01T17:42:00.358Z"
   },
   {
    "duration": 24,
    "start_time": "2022-10-01T17:42:00.398Z"
   },
   {
    "duration": 15,
    "start_time": "2022-10-01T17:42:00.423Z"
   },
   {
    "duration": 20,
    "start_time": "2022-10-01T17:42:00.440Z"
   },
   {
    "duration": 77,
    "start_time": "2022-10-01T17:42:00.462Z"
   },
   {
    "duration": 25,
    "start_time": "2022-10-01T17:42:00.541Z"
   },
   {
    "duration": 34,
    "start_time": "2022-10-01T17:42:00.567Z"
   },
   {
    "duration": 29,
    "start_time": "2022-10-01T17:42:00.603Z"
   },
   {
    "duration": 25,
    "start_time": "2022-10-01T17:42:00.634Z"
   },
   {
    "duration": 34,
    "start_time": "2022-10-01T17:42:00.661Z"
   },
   {
    "duration": 23,
    "start_time": "2022-10-01T17:42:00.696Z"
   },
   {
    "duration": 36,
    "start_time": "2022-10-01T17:42:00.721Z"
   },
   {
    "duration": 106,
    "start_time": "2022-10-01T17:42:00.758Z"
   },
   {
    "duration": 4,
    "start_time": "2022-10-01T17:42:00.866Z"
   },
   {
    "duration": 16,
    "start_time": "2022-10-01T17:43:15.396Z"
   },
   {
    "duration": 23,
    "start_time": "2022-10-01T17:43:59.690Z"
   },
   {
    "duration": 25,
    "start_time": "2022-10-01T17:44:23.881Z"
   },
   {
    "duration": 453,
    "start_time": "2022-10-01T17:44:32.206Z"
   },
   {
    "duration": 19,
    "start_time": "2022-10-01T17:44:32.661Z"
   },
   {
    "duration": 13,
    "start_time": "2022-10-01T17:44:32.681Z"
   },
   {
    "duration": 8,
    "start_time": "2022-10-01T17:44:32.695Z"
   },
   {
    "duration": 30,
    "start_time": "2022-10-01T17:44:32.705Z"
   },
   {
    "duration": 3,
    "start_time": "2022-10-01T17:44:32.737Z"
   },
   {
    "duration": 11,
    "start_time": "2022-10-01T17:44:32.741Z"
   },
   {
    "duration": 5,
    "start_time": "2022-10-01T17:44:32.754Z"
   },
   {
    "duration": 10,
    "start_time": "2022-10-01T17:44:32.761Z"
   },
   {
    "duration": 4,
    "start_time": "2022-10-01T17:44:32.772Z"
   },
   {
    "duration": 55,
    "start_time": "2022-10-01T17:44:32.777Z"
   },
   {
    "duration": 8,
    "start_time": "2022-10-01T17:44:32.833Z"
   },
   {
    "duration": 9,
    "start_time": "2022-10-01T17:44:32.842Z"
   },
   {
    "duration": 9,
    "start_time": "2022-10-01T17:44:32.853Z"
   },
   {
    "duration": 40,
    "start_time": "2022-10-01T17:44:32.864Z"
   },
   {
    "duration": 15,
    "start_time": "2022-10-01T17:44:32.905Z"
   },
   {
    "duration": 4,
    "start_time": "2022-10-01T17:44:32.921Z"
   },
   {
    "duration": 10,
    "start_time": "2022-10-01T17:44:32.926Z"
   },
   {
    "duration": 5,
    "start_time": "2022-10-01T17:44:32.937Z"
   },
   {
    "duration": 3,
    "start_time": "2022-10-01T17:44:32.944Z"
   },
   {
    "duration": 9,
    "start_time": "2022-10-01T17:44:32.948Z"
   },
   {
    "duration": 49,
    "start_time": "2022-10-01T17:44:32.959Z"
   },
   {
    "duration": 12,
    "start_time": "2022-10-01T17:44:33.010Z"
   },
   {
    "duration": 11,
    "start_time": "2022-10-01T17:44:33.023Z"
   },
   {
    "duration": 13,
    "start_time": "2022-10-01T17:44:33.036Z"
   },
   {
    "duration": 91,
    "start_time": "2022-10-01T17:44:33.050Z"
   },
   {
    "duration": 5,
    "start_time": "2022-10-01T17:44:33.142Z"
   },
   {
    "duration": 15,
    "start_time": "2022-10-01T17:46:05.940Z"
   },
   {
    "duration": 42,
    "start_time": "2022-10-01T17:46:54.247Z"
   },
   {
    "duration": 23,
    "start_time": "2022-10-01T17:47:04.215Z"
   },
   {
    "duration": 454,
    "start_time": "2022-10-01T17:47:09.692Z"
   },
   {
    "duration": 20,
    "start_time": "2022-10-01T17:47:10.148Z"
   },
   {
    "duration": 34,
    "start_time": "2022-10-01T17:47:10.171Z"
   },
   {
    "duration": 17,
    "start_time": "2022-10-01T17:47:10.208Z"
   },
   {
    "duration": 42,
    "start_time": "2022-10-01T17:47:10.227Z"
   },
   {
    "duration": 3,
    "start_time": "2022-10-01T17:47:10.271Z"
   },
   {
    "duration": 41,
    "start_time": "2022-10-01T17:47:10.276Z"
   },
   {
    "duration": 12,
    "start_time": "2022-10-01T17:47:10.319Z"
   },
   {
    "duration": 32,
    "start_time": "2022-10-01T17:47:10.333Z"
   },
   {
    "duration": 8,
    "start_time": "2022-10-01T17:47:10.366Z"
   },
   {
    "duration": 42,
    "start_time": "2022-10-01T17:47:10.376Z"
   },
   {
    "duration": 15,
    "start_time": "2022-10-01T17:47:10.420Z"
   },
   {
    "duration": 6,
    "start_time": "2022-10-01T17:47:10.438Z"
   },
   {
    "duration": 30,
    "start_time": "2022-10-01T17:47:10.446Z"
   },
   {
    "duration": 25,
    "start_time": "2022-10-01T17:47:10.477Z"
   },
   {
    "duration": 21,
    "start_time": "2022-10-01T17:47:10.503Z"
   },
   {
    "duration": 16,
    "start_time": "2022-10-01T17:47:10.525Z"
   },
   {
    "duration": 17,
    "start_time": "2022-10-01T17:47:10.542Z"
   },
   {
    "duration": 25,
    "start_time": "2022-10-01T17:47:10.560Z"
   },
   {
    "duration": 24,
    "start_time": "2022-10-01T17:47:10.587Z"
   },
   {
    "duration": 23,
    "start_time": "2022-10-01T17:47:10.612Z"
   },
   {
    "duration": 33,
    "start_time": "2022-10-01T17:47:10.637Z"
   },
   {
    "duration": 19,
    "start_time": "2022-10-01T17:47:10.671Z"
   },
   {
    "duration": 19,
    "start_time": "2022-10-01T17:47:10.691Z"
   },
   {
    "duration": 14,
    "start_time": "2022-10-01T17:47:10.711Z"
   },
   {
    "duration": 84,
    "start_time": "2022-10-01T17:47:10.726Z"
   },
   {
    "duration": 4,
    "start_time": "2022-10-01T17:47:10.812Z"
   },
   {
    "duration": 15,
    "start_time": "2022-10-01T17:49:53.694Z"
   },
   {
    "duration": 461,
    "start_time": "2022-10-01T17:49:59.892Z"
   },
   {
    "duration": 20,
    "start_time": "2022-10-01T17:50:00.355Z"
   },
   {
    "duration": 18,
    "start_time": "2022-10-01T17:50:00.376Z"
   },
   {
    "duration": 17,
    "start_time": "2022-10-01T17:50:00.395Z"
   },
   {
    "duration": 49,
    "start_time": "2022-10-01T17:50:00.414Z"
   },
   {
    "duration": 3,
    "start_time": "2022-10-01T17:50:00.464Z"
   },
   {
    "duration": 41,
    "start_time": "2022-10-01T17:50:00.468Z"
   },
   {
    "duration": 43,
    "start_time": "2022-10-01T17:50:00.511Z"
   },
   {
    "duration": 33,
    "start_time": "2022-10-01T17:50:00.556Z"
   },
   {
    "duration": 14,
    "start_time": "2022-10-01T17:50:00.591Z"
   },
   {
    "duration": 43,
    "start_time": "2022-10-01T17:50:00.607Z"
   },
   {
    "duration": 11,
    "start_time": "2022-10-01T17:50:00.651Z"
   },
   {
    "duration": 56,
    "start_time": "2022-10-01T17:50:00.664Z"
   },
   {
    "duration": 35,
    "start_time": "2022-10-01T17:50:00.723Z"
   },
   {
    "duration": 18,
    "start_time": "2022-10-01T17:50:00.760Z"
   },
   {
    "duration": 39,
    "start_time": "2022-10-01T17:50:00.780Z"
   },
   {
    "duration": 23,
    "start_time": "2022-10-01T17:50:00.821Z"
   },
   {
    "duration": 43,
    "start_time": "2022-10-01T17:50:00.846Z"
   },
   {
    "duration": 25,
    "start_time": "2022-10-01T17:50:00.891Z"
   },
   {
    "duration": 32,
    "start_time": "2022-10-01T17:50:00.918Z"
   },
   {
    "duration": 34,
    "start_time": "2022-10-01T17:50:00.952Z"
   },
   {
    "duration": 30,
    "start_time": "2022-10-01T17:50:00.987Z"
   },
   {
    "duration": 23,
    "start_time": "2022-10-01T17:50:01.018Z"
   },
   {
    "duration": 30,
    "start_time": "2022-10-01T17:50:01.042Z"
   },
   {
    "duration": 23,
    "start_time": "2022-10-01T17:50:01.074Z"
   },
   {
    "duration": 89,
    "start_time": "2022-10-01T17:50:01.099Z"
   },
   {
    "duration": 5,
    "start_time": "2022-10-01T17:50:01.189Z"
   },
   {
    "duration": 20,
    "start_time": "2022-10-01T17:57:09.138Z"
   },
   {
    "duration": 441,
    "start_time": "2022-10-01T17:57:16.101Z"
   },
   {
    "duration": 21,
    "start_time": "2022-10-01T17:57:16.543Z"
   },
   {
    "duration": 13,
    "start_time": "2022-10-01T17:57:16.565Z"
   },
   {
    "duration": 21,
    "start_time": "2022-10-01T17:57:16.580Z"
   },
   {
    "duration": 29,
    "start_time": "2022-10-01T17:57:16.602Z"
   },
   {
    "duration": 3,
    "start_time": "2022-10-01T17:57:16.632Z"
   },
   {
    "duration": 20,
    "start_time": "2022-10-01T17:57:16.636Z"
   },
   {
    "duration": 3,
    "start_time": "2022-10-01T17:57:16.658Z"
   },
   {
    "duration": 7,
    "start_time": "2022-10-01T17:57:16.662Z"
   },
   {
    "duration": 6,
    "start_time": "2022-10-01T17:57:16.672Z"
   },
   {
    "duration": 40,
    "start_time": "2022-10-01T17:57:16.679Z"
   },
   {
    "duration": 8,
    "start_time": "2022-10-01T17:57:16.721Z"
   },
   {
    "duration": 3,
    "start_time": "2022-10-01T17:57:16.731Z"
   },
   {
    "duration": 15,
    "start_time": "2022-10-01T17:57:16.736Z"
   },
   {
    "duration": 18,
    "start_time": "2022-10-01T17:57:16.753Z"
   },
   {
    "duration": 39,
    "start_time": "2022-10-01T17:57:16.772Z"
   },
   {
    "duration": 3,
    "start_time": "2022-10-01T17:57:16.812Z"
   },
   {
    "duration": 10,
    "start_time": "2022-10-01T17:57:16.817Z"
   },
   {
    "duration": 5,
    "start_time": "2022-10-01T17:57:16.828Z"
   },
   {
    "duration": 12,
    "start_time": "2022-10-01T17:57:16.835Z"
   },
   {
    "duration": 10,
    "start_time": "2022-10-01T17:57:16.848Z"
   },
   {
    "duration": 21,
    "start_time": "2022-10-01T17:57:16.859Z"
   },
   {
    "duration": 29,
    "start_time": "2022-10-01T17:57:16.882Z"
   },
   {
    "duration": 11,
    "start_time": "2022-10-01T17:57:16.912Z"
   },
   {
    "duration": 19,
    "start_time": "2022-10-01T17:57:16.924Z"
   },
   {
    "duration": 81,
    "start_time": "2022-10-01T17:57:16.944Z"
   },
   {
    "duration": 4,
    "start_time": "2022-10-01T17:57:17.027Z"
   },
   {
    "duration": 14,
    "start_time": "2022-10-01T17:57:58.060Z"
   },
   {
    "duration": 16,
    "start_time": "2022-10-01T17:59:35.233Z"
   },
   {
    "duration": 12,
    "start_time": "2022-10-01T17:59:43.192Z"
   },
   {
    "duration": 23,
    "start_time": "2022-10-01T18:00:13.534Z"
   },
   {
    "duration": 23,
    "start_time": "2022-10-01T18:00:30.742Z"
   },
   {
    "duration": 24,
    "start_time": "2022-10-01T18:01:33.580Z"
   },
   {
    "duration": 72,
    "start_time": "2022-10-01T18:01:51.289Z"
   },
   {
    "duration": 255,
    "start_time": "2022-10-01T18:02:04.016Z"
   },
   {
    "duration": 32,
    "start_time": "2022-10-01T18:02:12.966Z"
   },
   {
    "duration": 22,
    "start_time": "2022-10-01T18:02:19.943Z"
   },
   {
    "duration": 16,
    "start_time": "2022-10-01T18:02:48.791Z"
   },
   {
    "duration": 20,
    "start_time": "2022-10-01T18:16:55.105Z"
   },
   {
    "duration": 426,
    "start_time": "2022-10-01T18:17:03.849Z"
   },
   {
    "duration": 20,
    "start_time": "2022-10-01T18:17:04.277Z"
   },
   {
    "duration": 13,
    "start_time": "2022-10-01T18:17:04.299Z"
   },
   {
    "duration": 8,
    "start_time": "2022-10-01T18:17:04.313Z"
   },
   {
    "duration": 30,
    "start_time": "2022-10-01T18:17:04.323Z"
   },
   {
    "duration": 3,
    "start_time": "2022-10-01T18:17:04.355Z"
   },
   {
    "duration": 10,
    "start_time": "2022-10-01T18:17:04.359Z"
   },
   {
    "duration": 31,
    "start_time": "2022-10-01T18:17:04.371Z"
   },
   {
    "duration": 9,
    "start_time": "2022-10-01T18:17:04.404Z"
   },
   {
    "duration": 9,
    "start_time": "2022-10-01T18:17:04.416Z"
   },
   {
    "duration": 40,
    "start_time": "2022-10-01T18:17:04.427Z"
   },
   {
    "duration": 10,
    "start_time": "2022-10-01T18:17:04.469Z"
   },
   {
    "duration": 23,
    "start_time": "2022-10-01T18:17:04.480Z"
   },
   {
    "duration": 19,
    "start_time": "2022-10-01T18:17:04.504Z"
   },
   {
    "duration": 28,
    "start_time": "2022-10-01T18:17:04.525Z"
   },
   {
    "duration": 18,
    "start_time": "2022-10-01T18:17:04.555Z"
   },
   {
    "duration": 23,
    "start_time": "2022-10-01T18:17:04.575Z"
   },
   {
    "duration": 17,
    "start_time": "2022-10-01T18:17:04.600Z"
   },
   {
    "duration": 12,
    "start_time": "2022-10-01T18:17:04.618Z"
   },
   {
    "duration": 15,
    "start_time": "2022-10-01T18:17:04.632Z"
   },
   {
    "duration": 10,
    "start_time": "2022-10-01T18:17:04.649Z"
   },
   {
    "duration": 14,
    "start_time": "2022-10-01T18:17:04.661Z"
   },
   {
    "duration": 12,
    "start_time": "2022-10-01T18:17:04.676Z"
   },
   {
    "duration": 19,
    "start_time": "2022-10-01T18:17:04.690Z"
   },
   {
    "duration": 16,
    "start_time": "2022-10-01T18:17:04.710Z"
   },
   {
    "duration": 85,
    "start_time": "2022-10-01T18:17:04.727Z"
   },
   {
    "duration": 4,
    "start_time": "2022-10-01T18:17:04.814Z"
   },
   {
    "duration": 66,
    "start_time": "2022-10-01T18:58:57.446Z"
   },
   {
    "duration": 21,
    "start_time": "2022-10-01T18:59:21.449Z"
   },
   {
    "duration": 13,
    "start_time": "2022-10-01T18:59:57.983Z"
   },
   {
    "duration": 13,
    "start_time": "2022-10-01T19:00:17.888Z"
   },
   {
    "duration": 460,
    "start_time": "2022-10-01T19:00:22.178Z"
   },
   {
    "duration": 20,
    "start_time": "2022-10-01T19:00:22.640Z"
   },
   {
    "duration": 13,
    "start_time": "2022-10-01T19:00:22.661Z"
   },
   {
    "duration": 9,
    "start_time": "2022-10-01T19:00:22.675Z"
   },
   {
    "duration": 41,
    "start_time": "2022-10-01T19:00:22.685Z"
   },
   {
    "duration": 3,
    "start_time": "2022-10-01T19:00:22.728Z"
   },
   {
    "duration": 9,
    "start_time": "2022-10-01T19:00:22.733Z"
   },
   {
    "duration": 5,
    "start_time": "2022-10-01T19:00:22.743Z"
   },
   {
    "duration": 7,
    "start_time": "2022-10-01T19:00:22.750Z"
   },
   {
    "duration": 4,
    "start_time": "2022-10-01T19:00:22.759Z"
   },
   {
    "duration": 28,
    "start_time": "2022-10-01T19:00:22.800Z"
   },
   {
    "duration": 7,
    "start_time": "2022-10-01T19:00:22.830Z"
   },
   {
    "duration": 4,
    "start_time": "2022-10-01T19:00:22.838Z"
   },
   {
    "duration": 12,
    "start_time": "2022-10-01T19:00:22.843Z"
   },
   {
    "duration": 19,
    "start_time": "2022-10-01T19:00:22.856Z"
   },
   {
    "duration": 33,
    "start_time": "2022-10-01T19:00:22.877Z"
   },
   {
    "duration": 3,
    "start_time": "2022-10-01T19:00:22.911Z"
   },
   {
    "duration": 13,
    "start_time": "2022-10-01T19:00:22.916Z"
   },
   {
    "duration": 6,
    "start_time": "2022-10-01T19:00:22.930Z"
   },
   {
    "duration": 3,
    "start_time": "2022-10-01T19:00:22.937Z"
   },
   {
    "duration": 12,
    "start_time": "2022-10-01T19:00:22.942Z"
   },
   {
    "duration": 17,
    "start_time": "2022-10-01T19:00:22.956Z"
   },
   {
    "duration": 63,
    "start_time": "2022-10-01T19:00:22.999Z"
   },
   {
    "duration": 0,
    "start_time": "2022-10-01T19:00:23.063Z"
   },
   {
    "duration": 0,
    "start_time": "2022-10-01T19:00:23.064Z"
   },
   {
    "duration": 0,
    "start_time": "2022-10-01T19:00:23.065Z"
   },
   {
    "duration": 0,
    "start_time": "2022-10-01T19:00:23.066Z"
   },
   {
    "duration": 14,
    "start_time": "2022-10-01T19:01:22.652Z"
   },
   {
    "duration": 433,
    "start_time": "2022-10-01T19:01:38.260Z"
   },
   {
    "duration": 21,
    "start_time": "2022-10-01T19:01:38.695Z"
   },
   {
    "duration": 40,
    "start_time": "2022-10-01T19:01:38.718Z"
   },
   {
    "duration": 16,
    "start_time": "2022-10-01T19:01:38.760Z"
   },
   {
    "duration": 46,
    "start_time": "2022-10-01T19:01:38.777Z"
   },
   {
    "duration": 13,
    "start_time": "2022-10-01T19:01:38.825Z"
   },
   {
    "duration": 26,
    "start_time": "2022-10-01T19:01:38.839Z"
   },
   {
    "duration": 26,
    "start_time": "2022-10-01T19:01:38.867Z"
   },
   {
    "duration": 27,
    "start_time": "2022-10-01T19:01:38.894Z"
   },
   {
    "duration": 34,
    "start_time": "2022-10-01T19:01:38.925Z"
   },
   {
    "duration": 53,
    "start_time": "2022-10-01T19:01:38.960Z"
   },
   {
    "duration": 8,
    "start_time": "2022-10-01T19:01:39.014Z"
   },
   {
    "duration": 24,
    "start_time": "2022-10-01T19:01:39.023Z"
   },
   {
    "duration": 35,
    "start_time": "2022-10-01T19:01:39.048Z"
   },
   {
    "duration": 36,
    "start_time": "2022-10-01T19:01:39.084Z"
   },
   {
    "duration": 48,
    "start_time": "2022-10-01T19:01:39.122Z"
   },
   {
    "duration": 8,
    "start_time": "2022-10-01T19:01:39.172Z"
   },
   {
    "duration": 45,
    "start_time": "2022-10-01T19:01:39.182Z"
   },
   {
    "duration": 28,
    "start_time": "2022-10-01T19:01:39.230Z"
   },
   {
    "duration": 16,
    "start_time": "2022-10-01T19:01:39.261Z"
   },
   {
    "duration": 32,
    "start_time": "2022-10-01T19:01:39.279Z"
   },
   {
    "duration": 39,
    "start_time": "2022-10-01T19:01:39.313Z"
   },
   {
    "duration": 31,
    "start_time": "2022-10-01T19:01:39.354Z"
   },
   {
    "duration": 27,
    "start_time": "2022-10-01T19:01:39.387Z"
   },
   {
    "duration": 35,
    "start_time": "2022-10-01T19:01:39.416Z"
   },
   {
    "duration": 91,
    "start_time": "2022-10-01T19:01:39.454Z"
   },
   {
    "duration": 5,
    "start_time": "2022-10-01T19:01:39.547Z"
   },
   {
    "duration": 47,
    "start_time": "2022-10-01T19:13:21.551Z"
   },
   {
    "duration": 90,
    "start_time": "2022-10-01T19:14:01.941Z"
   },
   {
    "duration": 18,
    "start_time": "2022-10-01T19:14:07.032Z"
   },
   {
    "duration": 23,
    "start_time": "2022-10-01T19:14:22.694Z"
   },
   {
    "duration": 472,
    "start_time": "2022-10-01T19:14:32.519Z"
   },
   {
    "duration": 21,
    "start_time": "2022-10-01T19:14:32.992Z"
   },
   {
    "duration": 14,
    "start_time": "2022-10-01T19:14:33.015Z"
   },
   {
    "duration": 8,
    "start_time": "2022-10-01T19:14:33.031Z"
   },
   {
    "duration": 32,
    "start_time": "2022-10-01T19:14:33.040Z"
   },
   {
    "duration": 3,
    "start_time": "2022-10-01T19:14:33.073Z"
   },
   {
    "duration": 7,
    "start_time": "2022-10-01T19:14:33.100Z"
   },
   {
    "duration": 4,
    "start_time": "2022-10-01T19:14:33.108Z"
   },
   {
    "duration": 11,
    "start_time": "2022-10-01T19:14:33.113Z"
   },
   {
    "duration": 5,
    "start_time": "2022-10-01T19:14:33.127Z"
   },
   {
    "duration": 31,
    "start_time": "2022-10-01T19:14:33.134Z"
   },
   {
    "duration": 33,
    "start_time": "2022-10-01T19:14:33.167Z"
   },
   {
    "duration": 4,
    "start_time": "2022-10-01T19:14:33.201Z"
   },
   {
    "duration": 17,
    "start_time": "2022-10-01T19:14:33.206Z"
   },
   {
    "duration": 22,
    "start_time": "2022-10-01T19:14:33.225Z"
   },
   {
    "duration": 14,
    "start_time": "2022-10-01T19:14:33.249Z"
   },
   {
    "duration": 4,
    "start_time": "2022-10-01T19:14:33.264Z"
   },
   {
    "duration": 33,
    "start_time": "2022-10-01T19:14:33.269Z"
   },
   {
    "duration": 6,
    "start_time": "2022-10-01T19:14:33.303Z"
   },
   {
    "duration": 4,
    "start_time": "2022-10-01T19:14:33.311Z"
   },
   {
    "duration": 12,
    "start_time": "2022-10-01T19:14:33.316Z"
   },
   {
    "duration": 31,
    "start_time": "2022-10-01T19:14:33.330Z"
   },
   {
    "duration": 13,
    "start_time": "2022-10-01T19:14:33.362Z"
   },
   {
    "duration": 11,
    "start_time": "2022-10-01T19:14:33.401Z"
   },
   {
    "duration": 12,
    "start_time": "2022-10-01T19:14:33.414Z"
   },
   {
    "duration": 90,
    "start_time": "2022-10-01T19:14:33.428Z"
   },
   {
    "duration": 5,
    "start_time": "2022-10-01T19:14:33.519Z"
   },
   {
    "duration": 23,
    "start_time": "2022-10-01T19:15:24.882Z"
   },
   {
    "duration": 23,
    "start_time": "2022-10-01T19:16:26.226Z"
   },
   {
    "duration": 22,
    "start_time": "2022-10-01T19:19:24.255Z"
   },
   {
    "duration": 424,
    "start_time": "2022-10-01T19:19:31.828Z"
   },
   {
    "duration": 20,
    "start_time": "2022-10-01T19:19:32.254Z"
   },
   {
    "duration": 24,
    "start_time": "2022-10-01T19:19:32.276Z"
   },
   {
    "duration": 11,
    "start_time": "2022-10-01T19:19:32.302Z"
   },
   {
    "duration": 30,
    "start_time": "2022-10-01T19:19:32.315Z"
   },
   {
    "duration": 3,
    "start_time": "2022-10-01T19:19:32.346Z"
   },
   {
    "duration": 11,
    "start_time": "2022-10-01T19:19:32.351Z"
   },
   {
    "duration": 4,
    "start_time": "2022-10-01T19:19:32.363Z"
   },
   {
    "duration": 39,
    "start_time": "2022-10-01T19:19:32.368Z"
   },
   {
    "duration": 4,
    "start_time": "2022-10-01T19:19:32.411Z"
   },
   {
    "duration": 32,
    "start_time": "2022-10-01T19:19:32.416Z"
   },
   {
    "duration": 8,
    "start_time": "2022-10-01T19:19:32.449Z"
   },
   {
    "duration": 7,
    "start_time": "2022-10-01T19:19:32.459Z"
   },
   {
    "duration": 32,
    "start_time": "2022-10-01T19:19:32.468Z"
   },
   {
    "duration": 20,
    "start_time": "2022-10-01T19:19:32.502Z"
   },
   {
    "duration": 17,
    "start_time": "2022-10-01T19:19:32.523Z"
   },
   {
    "duration": 3,
    "start_time": "2022-10-01T19:19:32.541Z"
   },
   {
    "duration": 21,
    "start_time": "2022-10-01T19:19:32.546Z"
   },
   {
    "duration": 11,
    "start_time": "2022-10-01T19:19:32.568Z"
   },
   {
    "duration": 24,
    "start_time": "2022-10-01T19:19:32.581Z"
   },
   {
    "duration": 17,
    "start_time": "2022-10-01T19:19:32.606Z"
   },
   {
    "duration": 40,
    "start_time": "2022-10-01T19:19:32.625Z"
   },
   {
    "duration": 17,
    "start_time": "2022-10-01T19:19:32.666Z"
   },
   {
    "duration": 22,
    "start_time": "2022-10-01T19:19:32.685Z"
   },
   {
    "duration": 25,
    "start_time": "2022-10-01T19:19:32.709Z"
   },
   {
    "duration": 104,
    "start_time": "2022-10-01T19:19:32.736Z"
   },
   {
    "duration": 6,
    "start_time": "2022-10-01T19:19:32.842Z"
   },
   {
    "duration": 27,
    "start_time": "2022-10-01T19:21:59.935Z"
   },
   {
    "duration": 441,
    "start_time": "2022-10-01T19:22:10.853Z"
   },
   {
    "duration": 21,
    "start_time": "2022-10-01T19:22:11.296Z"
   },
   {
    "duration": 13,
    "start_time": "2022-10-01T19:22:11.318Z"
   },
   {
    "duration": 8,
    "start_time": "2022-10-01T19:22:11.333Z"
   },
   {
    "duration": 32,
    "start_time": "2022-10-01T19:22:11.342Z"
   },
   {
    "duration": 25,
    "start_time": "2022-10-01T19:22:11.376Z"
   },
   {
    "duration": 12,
    "start_time": "2022-10-01T19:22:11.403Z"
   },
   {
    "duration": 6,
    "start_time": "2022-10-01T19:22:11.416Z"
   },
   {
    "duration": 15,
    "start_time": "2022-10-01T19:22:11.424Z"
   },
   {
    "duration": 15,
    "start_time": "2022-10-01T19:22:11.444Z"
   },
   {
    "duration": 55,
    "start_time": "2022-10-01T19:22:11.461Z"
   },
   {
    "duration": 10,
    "start_time": "2022-10-01T19:22:11.518Z"
   },
   {
    "duration": 11,
    "start_time": "2022-10-01T19:22:11.530Z"
   },
   {
    "duration": 25,
    "start_time": "2022-10-01T19:22:11.543Z"
   },
   {
    "duration": 26,
    "start_time": "2022-10-01T19:22:11.570Z"
   },
   {
    "duration": 49,
    "start_time": "2022-10-01T19:22:11.598Z"
   },
   {
    "duration": 20,
    "start_time": "2022-10-01T19:22:11.648Z"
   },
   {
    "duration": 77,
    "start_time": "2022-10-01T19:22:11.670Z"
   },
   {
    "duration": 24,
    "start_time": "2022-10-01T19:22:11.748Z"
   },
   {
    "duration": 26,
    "start_time": "2022-10-01T19:22:11.775Z"
   },
   {
    "duration": 33,
    "start_time": "2022-10-01T19:22:11.803Z"
   },
   {
    "duration": 45,
    "start_time": "2022-10-01T19:22:11.838Z"
   },
   {
    "duration": 30,
    "start_time": "2022-10-01T19:22:11.885Z"
   },
   {
    "duration": 41,
    "start_time": "2022-10-01T19:22:11.918Z"
   },
   {
    "duration": 24,
    "start_time": "2022-10-01T19:22:11.961Z"
   },
   {
    "duration": 82,
    "start_time": "2022-10-01T19:22:11.986Z"
   },
   {
    "duration": 5,
    "start_time": "2022-10-01T19:22:12.069Z"
   },
   {
    "duration": 765,
    "start_time": "2022-10-01T19:25:56.689Z"
   },
   {
    "duration": 818,
    "start_time": "2022-10-01T19:25:58.893Z"
   },
   {
    "duration": 23,
    "start_time": "2022-10-01T19:33:09.841Z"
   },
   {
    "duration": 22,
    "start_time": "2022-10-01T19:33:39.016Z"
   },
   {
    "duration": 439,
    "start_time": "2022-10-01T19:33:43.310Z"
   },
   {
    "duration": 21,
    "start_time": "2022-10-01T19:33:43.752Z"
   },
   {
    "duration": 14,
    "start_time": "2022-10-01T19:33:43.775Z"
   },
   {
    "duration": 14,
    "start_time": "2022-10-01T19:33:43.790Z"
   },
   {
    "duration": 30,
    "start_time": "2022-10-01T19:33:43.806Z"
   },
   {
    "duration": 3,
    "start_time": "2022-10-01T19:33:43.837Z"
   },
   {
    "duration": 12,
    "start_time": "2022-10-01T19:33:43.841Z"
   },
   {
    "duration": 5,
    "start_time": "2022-10-01T19:33:43.855Z"
   },
   {
    "duration": 10,
    "start_time": "2022-10-01T19:33:43.861Z"
   },
   {
    "duration": 30,
    "start_time": "2022-10-01T19:33:43.872Z"
   },
   {
    "duration": 34,
    "start_time": "2022-10-01T19:33:43.904Z"
   },
   {
    "duration": 9,
    "start_time": "2022-10-01T19:33:43.940Z"
   },
   {
    "duration": 4,
    "start_time": "2022-10-01T19:33:43.950Z"
   },
   {
    "duration": 12,
    "start_time": "2022-10-01T19:33:43.957Z"
   },
   {
    "duration": 45,
    "start_time": "2022-10-01T19:33:43.970Z"
   },
   {
    "duration": 15,
    "start_time": "2022-10-01T19:33:44.016Z"
   },
   {
    "duration": 3,
    "start_time": "2022-10-01T19:33:44.032Z"
   },
   {
    "duration": 12,
    "start_time": "2022-10-01T19:33:44.037Z"
   },
   {
    "duration": 8,
    "start_time": "2022-10-01T19:33:44.050Z"
   },
   {
    "duration": 3,
    "start_time": "2022-10-01T19:33:44.059Z"
   },
   {
    "duration": 11,
    "start_time": "2022-10-01T19:33:44.064Z"
   },
   {
    "duration": 49,
    "start_time": "2022-10-01T19:33:44.077Z"
   },
   {
    "duration": 14,
    "start_time": "2022-10-01T19:33:44.127Z"
   },
   {
    "duration": 16,
    "start_time": "2022-10-01T19:33:44.143Z"
   },
   {
    "duration": 40,
    "start_time": "2022-10-01T19:33:44.161Z"
   },
   {
    "duration": 112,
    "start_time": "2022-10-01T19:33:44.203Z"
   },
   {
    "duration": 6,
    "start_time": "2022-10-01T19:33:44.317Z"
   },
   {
    "duration": 21,
    "start_time": "2022-10-01T19:34:03.974Z"
   },
   {
    "duration": 21,
    "start_time": "2022-10-01T19:34:20.998Z"
   },
   {
    "duration": 27,
    "start_time": "2022-10-01T19:36:31.866Z"
   },
   {
    "duration": 23,
    "start_time": "2022-10-01T19:37:26.203Z"
   },
   {
    "duration": 23,
    "start_time": "2022-10-01T19:38:19.024Z"
   },
   {
    "duration": 450,
    "start_time": "2022-10-01T19:38:43.525Z"
   },
   {
    "duration": 21,
    "start_time": "2022-10-01T19:38:43.977Z"
   },
   {
    "duration": 20,
    "start_time": "2022-10-01T19:38:43.999Z"
   },
   {
    "duration": 14,
    "start_time": "2022-10-01T19:38:44.022Z"
   },
   {
    "duration": 33,
    "start_time": "2022-10-01T19:38:44.037Z"
   },
   {
    "duration": 3,
    "start_time": "2022-10-01T19:38:44.072Z"
   },
   {
    "duration": 33,
    "start_time": "2022-10-01T19:38:44.076Z"
   },
   {
    "duration": 9,
    "start_time": "2022-10-01T19:38:44.110Z"
   },
   {
    "duration": 10,
    "start_time": "2022-10-01T19:38:44.120Z"
   },
   {
    "duration": 4,
    "start_time": "2022-10-01T19:38:44.134Z"
   },
   {
    "duration": 39,
    "start_time": "2022-10-01T19:38:44.139Z"
   },
   {
    "duration": 36,
    "start_time": "2022-10-01T19:38:44.179Z"
   },
   {
    "duration": 4,
    "start_time": "2022-10-01T19:38:44.223Z"
   },
   {
    "duration": 24,
    "start_time": "2022-10-01T19:38:44.229Z"
   },
   {
    "duration": 21,
    "start_time": "2022-10-01T19:38:44.255Z"
   },
   {
    "duration": 17,
    "start_time": "2022-10-01T19:38:44.278Z"
   },
   {
    "duration": 6,
    "start_time": "2022-10-01T19:38:44.297Z"
   },
   {
    "duration": 23,
    "start_time": "2022-10-01T19:38:44.310Z"
   },
   {
    "duration": 12,
    "start_time": "2022-10-01T19:38:44.334Z"
   },
   {
    "duration": 5,
    "start_time": "2022-10-01T19:38:44.347Z"
   },
   {
    "duration": 10,
    "start_time": "2022-10-01T19:38:44.354Z"
   },
   {
    "duration": 34,
    "start_time": "2022-10-01T19:38:44.365Z"
   },
   {
    "duration": 15,
    "start_time": "2022-10-01T19:38:44.401Z"
   },
   {
    "duration": 35,
    "start_time": "2022-10-01T19:38:44.418Z"
   },
   {
    "duration": 15,
    "start_time": "2022-10-01T19:38:44.455Z"
   },
   {
    "duration": 101,
    "start_time": "2022-10-01T19:38:44.472Z"
   },
   {
    "duration": 6,
    "start_time": "2022-10-01T19:38:44.575Z"
   },
   {
    "duration": 24,
    "start_time": "2022-10-01T19:41:49.736Z"
   },
   {
    "duration": 478,
    "start_time": "2022-10-01T19:41:56.884Z"
   },
   {
    "duration": 20,
    "start_time": "2022-10-01T19:41:57.364Z"
   },
   {
    "duration": 15,
    "start_time": "2022-10-01T19:41:57.386Z"
   },
   {
    "duration": 13,
    "start_time": "2022-10-01T19:41:57.404Z"
   },
   {
    "duration": 36,
    "start_time": "2022-10-01T19:41:57.422Z"
   },
   {
    "duration": 4,
    "start_time": "2022-10-01T19:41:57.460Z"
   },
   {
    "duration": 12,
    "start_time": "2022-10-01T19:41:57.467Z"
   },
   {
    "duration": 7,
    "start_time": "2022-10-01T19:41:57.481Z"
   },
   {
    "duration": 33,
    "start_time": "2022-10-01T19:41:57.489Z"
   },
   {
    "duration": 5,
    "start_time": "2022-10-01T19:41:57.524Z"
   },
   {
    "duration": 47,
    "start_time": "2022-10-01T19:41:57.530Z"
   },
   {
    "duration": 9,
    "start_time": "2022-10-01T19:41:57.579Z"
   },
   {
    "duration": 10,
    "start_time": "2022-10-01T19:41:57.590Z"
   },
   {
    "duration": 16,
    "start_time": "2022-10-01T19:41:57.603Z"
   },
   {
    "duration": 21,
    "start_time": "2022-10-01T19:41:57.623Z"
   },
   {
    "duration": 22,
    "start_time": "2022-10-01T19:41:57.645Z"
   },
   {
    "duration": 4,
    "start_time": "2022-10-01T19:41:57.669Z"
   },
   {
    "duration": 38,
    "start_time": "2022-10-01T19:41:57.675Z"
   },
   {
    "duration": 5,
    "start_time": "2022-10-01T19:41:57.715Z"
   },
   {
    "duration": 7,
    "start_time": "2022-10-01T19:41:57.722Z"
   },
   {
    "duration": 15,
    "start_time": "2022-10-01T19:41:57.731Z"
   },
   {
    "duration": 26,
    "start_time": "2022-10-01T19:41:57.748Z"
   },
   {
    "duration": 13,
    "start_time": "2022-10-01T19:41:57.776Z"
   },
   {
    "duration": 22,
    "start_time": "2022-10-01T19:41:57.790Z"
   },
   {
    "duration": 13,
    "start_time": "2022-10-01T19:41:57.817Z"
   },
   {
    "duration": 86,
    "start_time": "2022-10-01T19:41:57.832Z"
   },
   {
    "duration": 5,
    "start_time": "2022-10-01T19:41:57.919Z"
   },
   {
    "duration": 23,
    "start_time": "2022-10-01T19:49:26.772Z"
   },
   {
    "duration": 25,
    "start_time": "2022-10-01T19:49:50.411Z"
   },
   {
    "duration": 404,
    "start_time": "2022-10-01T19:50:15.358Z"
   },
   {
    "duration": 21,
    "start_time": "2022-10-01T19:50:15.763Z"
   },
   {
    "duration": 15,
    "start_time": "2022-10-01T19:50:15.786Z"
   },
   {
    "duration": 9,
    "start_time": "2022-10-01T19:50:15.802Z"
   },
   {
    "duration": 32,
    "start_time": "2022-10-01T19:50:15.812Z"
   },
   {
    "duration": 3,
    "start_time": "2022-10-01T19:50:15.846Z"
   },
   {
    "duration": 23,
    "start_time": "2022-10-01T19:50:15.850Z"
   },
   {
    "duration": 4,
    "start_time": "2022-10-01T19:50:15.875Z"
   },
   {
    "duration": 20,
    "start_time": "2022-10-01T19:50:15.880Z"
   },
   {
    "duration": 4,
    "start_time": "2022-10-01T19:50:15.903Z"
   },
   {
    "duration": 30,
    "start_time": "2022-10-01T19:50:15.909Z"
   },
   {
    "duration": 10,
    "start_time": "2022-10-01T19:50:15.940Z"
   },
   {
    "duration": 5,
    "start_time": "2022-10-01T19:50:15.951Z"
   },
   {
    "duration": 12,
    "start_time": "2022-10-01T19:50:15.957Z"
   },
   {
    "duration": 42,
    "start_time": "2022-10-01T19:50:15.970Z"
   },
   {
    "duration": 15,
    "start_time": "2022-10-01T19:50:16.014Z"
   },
   {
    "duration": 2,
    "start_time": "2022-10-01T19:50:16.031Z"
   },
   {
    "duration": 19,
    "start_time": "2022-10-01T19:50:16.035Z"
   },
   {
    "duration": 9,
    "start_time": "2022-10-01T19:50:16.056Z"
   },
   {
    "duration": 6,
    "start_time": "2022-10-01T19:50:16.067Z"
   },
   {
    "duration": 11,
    "start_time": "2022-10-01T19:50:16.075Z"
   },
   {
    "duration": 36,
    "start_time": "2022-10-01T19:50:16.087Z"
   },
   {
    "duration": 11,
    "start_time": "2022-10-01T19:50:16.125Z"
   },
   {
    "duration": 11,
    "start_time": "2022-10-01T19:50:16.137Z"
   },
   {
    "duration": 12,
    "start_time": "2022-10-01T19:50:16.149Z"
   },
   {
    "duration": 91,
    "start_time": "2022-10-01T19:50:16.162Z"
   },
   {
    "duration": 5,
    "start_time": "2022-10-01T19:50:16.256Z"
   },
   {
    "duration": 725,
    "start_time": "2022-10-01T19:53:25.251Z"
   },
   {
    "duration": 25,
    "start_time": "2022-10-01T19:53:44.280Z"
   },
   {
    "duration": 33,
    "start_time": "2022-10-01T19:54:08.342Z"
   },
   {
    "duration": 24,
    "start_time": "2022-10-01T19:54:20.264Z"
   },
   {
    "duration": 33,
    "start_time": "2022-10-01T19:54:43.667Z"
   },
   {
    "duration": 26,
    "start_time": "2022-10-01T19:55:07.971Z"
   },
   {
    "duration": 25,
    "start_time": "2022-10-01T19:55:19.223Z"
   },
   {
    "duration": 71,
    "start_time": "2022-10-01T19:58:07.450Z"
   },
   {
    "duration": 68,
    "start_time": "2022-10-01T19:58:14.196Z"
   },
   {
    "duration": 79,
    "start_time": "2022-10-01T19:58:25.654Z"
   },
   {
    "duration": 45,
    "start_time": "2022-10-01T19:58:39.956Z"
   },
   {
    "duration": 31,
    "start_time": "2022-10-01T19:58:48.881Z"
   },
   {
    "duration": 426,
    "start_time": "2022-10-01T19:59:11.631Z"
   },
   {
    "duration": 20,
    "start_time": "2022-10-01T19:59:12.059Z"
   },
   {
    "duration": 13,
    "start_time": "2022-10-01T19:59:12.080Z"
   },
   {
    "duration": 18,
    "start_time": "2022-10-01T19:59:12.094Z"
   },
   {
    "duration": 33,
    "start_time": "2022-10-01T19:59:12.115Z"
   },
   {
    "duration": 3,
    "start_time": "2022-10-01T19:59:12.149Z"
   },
   {
    "duration": 13,
    "start_time": "2022-10-01T19:59:12.154Z"
   },
   {
    "duration": 5,
    "start_time": "2022-10-01T19:59:12.168Z"
   },
   {
    "duration": 13,
    "start_time": "2022-10-01T19:59:12.174Z"
   },
   {
    "duration": 21,
    "start_time": "2022-10-01T19:59:12.188Z"
   },
   {
    "duration": 34,
    "start_time": "2022-10-01T19:59:12.215Z"
   },
   {
    "duration": 9,
    "start_time": "2022-10-01T19:59:12.250Z"
   },
   {
    "duration": 4,
    "start_time": "2022-10-01T19:59:12.260Z"
   },
   {
    "duration": 11,
    "start_time": "2022-10-01T19:59:12.267Z"
   },
   {
    "duration": 35,
    "start_time": "2022-10-01T19:59:12.280Z"
   },
   {
    "duration": 14,
    "start_time": "2022-10-01T19:59:12.317Z"
   },
   {
    "duration": 3,
    "start_time": "2022-10-01T19:59:12.333Z"
   },
   {
    "duration": 13,
    "start_time": "2022-10-01T19:59:12.337Z"
   },
   {
    "duration": 6,
    "start_time": "2022-10-01T19:59:12.352Z"
   },
   {
    "duration": 7,
    "start_time": "2022-10-01T19:59:12.359Z"
   },
   {
    "duration": 11,
    "start_time": "2022-10-01T19:59:12.367Z"
   },
   {
    "duration": 52,
    "start_time": "2022-10-01T19:59:12.379Z"
   },
   {
    "duration": 15,
    "start_time": "2022-10-01T19:59:12.433Z"
   },
   {
    "duration": 13,
    "start_time": "2022-10-01T19:59:12.449Z"
   },
   {
    "duration": 45,
    "start_time": "2022-10-01T19:59:12.464Z"
   },
   {
    "duration": 76,
    "start_time": "2022-10-01T19:59:12.511Z"
   },
   {
    "duration": 17,
    "start_time": "2022-10-01T19:59:12.588Z"
   },
   {
    "duration": 51,
    "start_time": "2022-10-02T11:23:47.156Z"
   },
   {
    "duration": 1096,
    "start_time": "2022-10-02T11:23:53.913Z"
   },
   {
    "duration": 32,
    "start_time": "2022-10-02T11:23:55.011Z"
   },
   {
    "duration": 17,
    "start_time": "2022-10-02T11:23:55.046Z"
   },
   {
    "duration": 16,
    "start_time": "2022-10-02T11:23:55.066Z"
   },
   {
    "duration": 61,
    "start_time": "2022-10-02T11:23:55.084Z"
   },
   {
    "duration": 4,
    "start_time": "2022-10-02T11:23:55.147Z"
   },
   {
    "duration": 15,
    "start_time": "2022-10-02T11:23:55.153Z"
   },
   {
    "duration": 5,
    "start_time": "2022-10-02T11:23:55.170Z"
   },
   {
    "duration": 11,
    "start_time": "2022-10-02T11:23:55.177Z"
   },
   {
    "duration": 5,
    "start_time": "2022-10-02T11:23:55.192Z"
   },
   {
    "duration": 38,
    "start_time": "2022-10-02T11:23:55.222Z"
   },
   {
    "duration": 10,
    "start_time": "2022-10-02T11:23:55.262Z"
   },
   {
    "duration": 7,
    "start_time": "2022-10-02T11:23:55.273Z"
   },
   {
    "duration": 17,
    "start_time": "2022-10-02T11:23:55.282Z"
   },
   {
    "duration": 41,
    "start_time": "2022-10-02T11:23:55.301Z"
   },
   {
    "duration": 19,
    "start_time": "2022-10-02T11:23:55.344Z"
   },
   {
    "duration": 4,
    "start_time": "2022-10-02T11:23:55.364Z"
   },
   {
    "duration": 19,
    "start_time": "2022-10-02T11:23:55.370Z"
   },
   {
    "duration": 10,
    "start_time": "2022-10-02T11:23:55.391Z"
   },
   {
    "duration": 4,
    "start_time": "2022-10-02T11:23:55.420Z"
   },
   {
    "duration": 23,
    "start_time": "2022-10-02T11:23:55.426Z"
   },
   {
    "duration": 9,
    "start_time": "2022-10-02T11:23:55.451Z"
   },
   {
    "duration": 40,
    "start_time": "2022-10-02T11:23:55.462Z"
   },
   {
    "duration": 76,
    "start_time": "2022-10-02T11:23:55.504Z"
   },
   {
    "duration": 0,
    "start_time": "2022-10-02T11:23:55.583Z"
   },
   {
    "duration": 0,
    "start_time": "2022-10-02T11:23:55.584Z"
   },
   {
    "duration": 0,
    "start_time": "2022-10-02T11:23:55.585Z"
   },
   {
    "duration": 0,
    "start_time": "2022-10-02T11:23:55.587Z"
   },
   {
    "duration": 25,
    "start_time": "2022-10-02T11:24:40.319Z"
   },
   {
    "duration": 34,
    "start_time": "2022-10-02T11:27:19.122Z"
   },
   {
    "duration": 30,
    "start_time": "2022-10-02T11:30:20.981Z"
   },
   {
    "duration": 31,
    "start_time": "2022-10-02T11:33:10.410Z"
   },
   {
    "duration": 4,
    "start_time": "2022-10-02T11:42:13.713Z"
   },
   {
    "duration": 33,
    "start_time": "2022-10-02T11:56:33.282Z"
   },
   {
    "duration": 522,
    "start_time": "2022-10-02T12:02:19.364Z"
   },
   {
    "duration": 33,
    "start_time": "2022-10-02T12:02:19.889Z"
   },
   {
    "duration": 19,
    "start_time": "2022-10-02T12:02:19.925Z"
   },
   {
    "duration": 17,
    "start_time": "2022-10-02T12:02:19.947Z"
   },
   {
    "duration": 59,
    "start_time": "2022-10-02T12:02:19.966Z"
   },
   {
    "duration": 4,
    "start_time": "2022-10-02T12:02:20.027Z"
   },
   {
    "duration": 41,
    "start_time": "2022-10-02T12:02:20.033Z"
   },
   {
    "duration": 14,
    "start_time": "2022-10-02T12:02:20.076Z"
   },
   {
    "duration": 24,
    "start_time": "2022-10-02T12:02:20.092Z"
   },
   {
    "duration": 13,
    "start_time": "2022-10-02T12:02:20.119Z"
   },
   {
    "duration": 71,
    "start_time": "2022-10-02T12:02:20.133Z"
   },
   {
    "duration": 10,
    "start_time": "2022-10-02T12:02:20.206Z"
   },
   {
    "duration": 26,
    "start_time": "2022-10-02T12:02:20.218Z"
   },
   {
    "duration": 44,
    "start_time": "2022-10-02T12:02:20.245Z"
   },
   {
    "duration": 34,
    "start_time": "2022-10-02T12:02:20.291Z"
   },
   {
    "duration": 20,
    "start_time": "2022-10-02T12:02:20.327Z"
   },
   {
    "duration": 9,
    "start_time": "2022-10-02T12:02:20.349Z"
   },
   {
    "duration": 18,
    "start_time": "2022-10-02T12:02:20.360Z"
   },
   {
    "duration": 14,
    "start_time": "2022-10-02T12:02:20.379Z"
   },
   {
    "duration": 7,
    "start_time": "2022-10-02T12:02:20.395Z"
   },
   {
    "duration": 29,
    "start_time": "2022-10-02T12:02:20.404Z"
   },
   {
    "duration": 7,
    "start_time": "2022-10-02T12:02:20.436Z"
   },
   {
    "duration": 51,
    "start_time": "2022-10-02T12:02:20.444Z"
   },
   {
    "duration": 28,
    "start_time": "2022-10-02T12:02:20.496Z"
   },
   {
    "duration": 24,
    "start_time": "2022-10-02T12:02:20.525Z"
   },
   {
    "duration": 27,
    "start_time": "2022-10-02T12:02:20.551Z"
   },
   {
    "duration": 107,
    "start_time": "2022-10-02T12:02:20.580Z"
   },
   {
    "duration": 5,
    "start_time": "2022-10-02T12:02:20.692Z"
   },
   {
    "duration": 487,
    "start_time": "2022-10-02T12:24:22.473Z"
   },
   {
    "duration": 37,
    "start_time": "2022-10-02T12:24:22.963Z"
   },
   {
    "duration": 51,
    "start_time": "2022-10-02T12:24:23.002Z"
   },
   {
    "duration": 12,
    "start_time": "2022-10-02T12:24:23.055Z"
   },
   {
    "duration": 51,
    "start_time": "2022-10-02T12:24:23.070Z"
   },
   {
    "duration": 4,
    "start_time": "2022-10-02T12:24:23.123Z"
   },
   {
    "duration": 13,
    "start_time": "2022-10-02T12:24:23.129Z"
   },
   {
    "duration": 4,
    "start_time": "2022-10-02T12:24:23.144Z"
   },
   {
    "duration": 22,
    "start_time": "2022-10-02T12:24:23.150Z"
   },
   {
    "duration": 16,
    "start_time": "2022-10-02T12:24:23.175Z"
   },
   {
    "duration": 48,
    "start_time": "2022-10-02T12:24:23.193Z"
   },
   {
    "duration": 13,
    "start_time": "2022-10-02T12:24:23.245Z"
   },
   {
    "duration": 15,
    "start_time": "2022-10-02T12:24:23.259Z"
   },
   {
    "duration": 18,
    "start_time": "2022-10-02T12:24:23.277Z"
   },
   {
    "duration": 28,
    "start_time": "2022-10-02T12:24:23.297Z"
   },
   {
    "duration": 22,
    "start_time": "2022-10-02T12:24:23.326Z"
   },
   {
    "duration": 3,
    "start_time": "2022-10-02T12:24:23.350Z"
   },
   {
    "duration": 22,
    "start_time": "2022-10-02T12:24:23.355Z"
   },
   {
    "duration": 21,
    "start_time": "2022-10-02T12:24:23.379Z"
   },
   {
    "duration": 28,
    "start_time": "2022-10-02T12:24:23.402Z"
   },
   {
    "duration": 35,
    "start_time": "2022-10-02T12:24:23.432Z"
   },
   {
    "duration": 13,
    "start_time": "2022-10-02T12:24:23.469Z"
   },
   {
    "duration": 34,
    "start_time": "2022-10-02T12:24:23.483Z"
   },
   {
    "duration": 50,
    "start_time": "2022-10-02T12:24:23.519Z"
   },
   {
    "duration": 29,
    "start_time": "2022-10-02T12:24:23.572Z"
   },
   {
    "duration": 36,
    "start_time": "2022-10-02T12:24:23.603Z"
   },
   {
    "duration": 93,
    "start_time": "2022-10-02T12:24:23.641Z"
   },
   {
    "duration": 7,
    "start_time": "2022-10-02T12:24:23.736Z"
   },
   {
    "duration": 9,
    "start_time": "2022-10-02T12:38:22.964Z"
   },
   {
    "duration": 9,
    "start_time": "2022-10-02T12:50:56.738Z"
   },
   {
    "duration": 450,
    "start_time": "2022-10-02T12:53:43.855Z"
   },
   {
    "duration": 31,
    "start_time": "2022-10-02T12:53:44.307Z"
   },
   {
    "duration": 22,
    "start_time": "2022-10-02T12:53:44.340Z"
   },
   {
    "duration": 13,
    "start_time": "2022-10-02T12:53:44.365Z"
   },
   {
    "duration": 59,
    "start_time": "2022-10-02T12:53:44.380Z"
   },
   {
    "duration": 3,
    "start_time": "2022-10-02T12:53:44.441Z"
   },
   {
    "duration": 32,
    "start_time": "2022-10-02T12:53:44.446Z"
   },
   {
    "duration": 9,
    "start_time": "2022-10-02T12:53:44.480Z"
   },
   {
    "duration": 11,
    "start_time": "2022-10-02T12:53:44.490Z"
   },
   {
    "duration": 5,
    "start_time": "2022-10-02T12:53:44.505Z"
   },
   {
    "duration": 36,
    "start_time": "2022-10-02T12:53:44.512Z"
   },
   {
    "duration": 11,
    "start_time": "2022-10-02T12:53:44.550Z"
   },
   {
    "duration": 4,
    "start_time": "2022-10-02T12:53:44.563Z"
   },
   {
    "duration": 14,
    "start_time": "2022-10-02T12:53:44.569Z"
   },
   {
    "duration": 46,
    "start_time": "2022-10-02T12:53:44.585Z"
   },
   {
    "duration": 18,
    "start_time": "2022-10-02T12:53:44.633Z"
   },
   {
    "duration": 3,
    "start_time": "2022-10-02T12:53:44.653Z"
   },
   {
    "duration": 15,
    "start_time": "2022-10-02T12:53:44.658Z"
   },
   {
    "duration": 6,
    "start_time": "2022-10-02T12:53:44.675Z"
   },
   {
    "duration": 8,
    "start_time": "2022-10-02T12:53:44.683Z"
   },
   {
    "duration": 31,
    "start_time": "2022-10-02T12:53:44.692Z"
   },
   {
    "duration": 5,
    "start_time": "2022-10-02T12:53:44.724Z"
   },
   {
    "duration": 30,
    "start_time": "2022-10-02T12:53:44.731Z"
   },
   {
    "duration": 27,
    "start_time": "2022-10-02T12:53:44.763Z"
   },
   {
    "duration": 52,
    "start_time": "2022-10-02T12:53:44.792Z"
   },
   {
    "duration": 27,
    "start_time": "2022-10-02T12:53:44.846Z"
   },
   {
    "duration": 108,
    "start_time": "2022-10-02T12:53:44.875Z"
   },
   {
    "duration": 6,
    "start_time": "2022-10-02T12:53:44.986Z"
   },
   {
    "duration": 88,
    "start_time": "2022-10-02T13:16:45.955Z"
   },
   {
    "duration": 490,
    "start_time": "2022-10-02T13:17:01.679Z"
   },
   {
    "duration": 25,
    "start_time": "2022-10-02T13:17:02.170Z"
   },
   {
    "duration": 29,
    "start_time": "2022-10-02T13:17:02.196Z"
   },
   {
    "duration": 25,
    "start_time": "2022-10-02T13:17:02.228Z"
   },
   {
    "duration": 44,
    "start_time": "2022-10-02T13:17:02.256Z"
   },
   {
    "duration": 3,
    "start_time": "2022-10-02T13:17:02.302Z"
   },
   {
    "duration": 15,
    "start_time": "2022-10-02T13:17:02.307Z"
   },
   {
    "duration": 13,
    "start_time": "2022-10-02T13:17:02.325Z"
   },
   {
    "duration": 19,
    "start_time": "2022-10-02T13:17:02.340Z"
   },
   {
    "duration": 9,
    "start_time": "2022-10-02T13:17:02.364Z"
   },
   {
    "duration": 60,
    "start_time": "2022-10-02T13:17:02.374Z"
   },
   {
    "duration": 10,
    "start_time": "2022-10-02T13:17:02.436Z"
   },
   {
    "duration": 4,
    "start_time": "2022-10-02T13:17:02.448Z"
   },
   {
    "duration": 17,
    "start_time": "2022-10-02T13:17:02.453Z"
   },
   {
    "duration": 21,
    "start_time": "2022-10-02T13:17:02.472Z"
   },
   {
    "duration": 38,
    "start_time": "2022-10-02T13:17:02.495Z"
   },
   {
    "duration": 5,
    "start_time": "2022-10-02T13:17:02.534Z"
   },
   {
    "duration": 18,
    "start_time": "2022-10-02T13:17:02.540Z"
   },
   {
    "duration": 6,
    "start_time": "2022-10-02T13:17:02.560Z"
   },
   {
    "duration": 12,
    "start_time": "2022-10-02T13:17:02.568Z"
   },
   {
    "duration": 24,
    "start_time": "2022-10-02T13:17:02.581Z"
   },
   {
    "duration": 24,
    "start_time": "2022-10-02T13:17:02.607Z"
   },
   {
    "duration": 297,
    "start_time": "2022-10-02T13:17:02.634Z"
   },
   {
    "duration": 0,
    "start_time": "2022-10-02T13:17:02.933Z"
   },
   {
    "duration": 0,
    "start_time": "2022-10-02T13:17:02.935Z"
   },
   {
    "duration": 0,
    "start_time": "2022-10-02T13:17:02.936Z"
   },
   {
    "duration": 0,
    "start_time": "2022-10-02T13:17:02.938Z"
   },
   {
    "duration": 0,
    "start_time": "2022-10-02T13:17:02.940Z"
   },
   {
    "duration": 25,
    "start_time": "2022-10-02T13:18:13.011Z"
   },
   {
    "duration": 25,
    "start_time": "2022-10-02T13:18:37.919Z"
   },
   {
    "duration": 24,
    "start_time": "2022-10-02T13:18:40.002Z"
   },
   {
    "duration": 31,
    "start_time": "2022-10-02T13:19:01.768Z"
   },
   {
    "duration": 31,
    "start_time": "2022-10-02T13:19:29.982Z"
   },
   {
    "duration": 34,
    "start_time": "2022-10-02T13:19:54.572Z"
   },
   {
    "duration": 472,
    "start_time": "2022-10-02T13:20:22.126Z"
   },
   {
    "duration": 23,
    "start_time": "2022-10-02T13:20:22.600Z"
   },
   {
    "duration": 19,
    "start_time": "2022-10-02T13:20:22.625Z"
   },
   {
    "duration": 12,
    "start_time": "2022-10-02T13:20:22.648Z"
   },
   {
    "duration": 59,
    "start_time": "2022-10-02T13:20:22.662Z"
   },
   {
    "duration": 5,
    "start_time": "2022-10-02T13:20:22.723Z"
   },
   {
    "duration": 17,
    "start_time": "2022-10-02T13:20:22.729Z"
   },
   {
    "duration": 5,
    "start_time": "2022-10-02T13:20:22.748Z"
   },
   {
    "duration": 15,
    "start_time": "2022-10-02T13:20:22.755Z"
   },
   {
    "duration": 4,
    "start_time": "2022-10-02T13:20:22.773Z"
   },
   {
    "duration": 55,
    "start_time": "2022-10-02T13:20:22.779Z"
   },
   {
    "duration": 9,
    "start_time": "2022-10-02T13:20:22.836Z"
   },
   {
    "duration": 16,
    "start_time": "2022-10-02T13:20:22.847Z"
   },
   {
    "duration": 15,
    "start_time": "2022-10-02T13:20:22.865Z"
   },
   {
    "duration": 25,
    "start_time": "2022-10-02T13:20:22.882Z"
   },
   {
    "duration": 27,
    "start_time": "2022-10-02T13:20:22.909Z"
   },
   {
    "duration": 6,
    "start_time": "2022-10-02T13:20:22.938Z"
   },
   {
    "duration": 15,
    "start_time": "2022-10-02T13:20:22.946Z"
   },
   {
    "duration": 6,
    "start_time": "2022-10-02T13:20:22.963Z"
   },
   {
    "duration": 7,
    "start_time": "2022-10-02T13:20:22.970Z"
   },
   {
    "duration": 21,
    "start_time": "2022-10-02T13:20:22.978Z"
   },
   {
    "duration": 20,
    "start_time": "2022-10-02T13:20:23.001Z"
   },
   {
    "duration": 41,
    "start_time": "2022-10-02T13:20:23.022Z"
   },
   {
    "duration": 27,
    "start_time": "2022-10-02T13:20:23.064Z"
   },
   {
    "duration": 43,
    "start_time": "2022-10-02T13:20:23.093Z"
   },
   {
    "duration": 32,
    "start_time": "2022-10-02T13:20:23.138Z"
   },
   {
    "duration": 98,
    "start_time": "2022-10-02T13:20:23.172Z"
   },
   {
    "duration": 6,
    "start_time": "2022-10-02T13:20:23.272Z"
   },
   {
    "duration": 77,
    "start_time": "2022-10-02T13:20:58.590Z"
   },
   {
    "duration": 23,
    "start_time": "2022-10-02T13:21:35.444Z"
   },
   {
    "duration": 498,
    "start_time": "2022-10-02T13:21:44.812Z"
   },
   {
    "duration": 25,
    "start_time": "2022-10-02T13:21:45.312Z"
   },
   {
    "duration": 19,
    "start_time": "2022-10-02T13:21:45.339Z"
   },
   {
    "duration": 11,
    "start_time": "2022-10-02T13:21:45.360Z"
   },
   {
    "duration": 66,
    "start_time": "2022-10-02T13:21:45.374Z"
   },
   {
    "duration": 4,
    "start_time": "2022-10-02T13:21:45.442Z"
   },
   {
    "duration": 14,
    "start_time": "2022-10-02T13:21:45.448Z"
   },
   {
    "duration": 12,
    "start_time": "2022-10-02T13:21:45.464Z"
   },
   {
    "duration": 25,
    "start_time": "2022-10-02T13:21:45.478Z"
   },
   {
    "duration": 25,
    "start_time": "2022-10-02T13:21:45.505Z"
   },
   {
    "duration": 36,
    "start_time": "2022-10-02T13:21:45.532Z"
   },
   {
    "duration": 10,
    "start_time": "2022-10-02T13:21:45.569Z"
   },
   {
    "duration": 6,
    "start_time": "2022-10-02T13:21:45.580Z"
   },
   {
    "duration": 23,
    "start_time": "2022-10-02T13:21:45.589Z"
   },
   {
    "duration": 31,
    "start_time": "2022-10-02T13:21:45.614Z"
   },
   {
    "duration": 18,
    "start_time": "2022-10-02T13:21:45.646Z"
   },
   {
    "duration": 4,
    "start_time": "2022-10-02T13:21:45.666Z"
   },
   {
    "duration": 14,
    "start_time": "2022-10-02T13:21:45.671Z"
   },
   {
    "duration": 25,
    "start_time": "2022-10-02T13:21:45.687Z"
   },
   {
    "duration": 10,
    "start_time": "2022-10-02T13:21:45.714Z"
   },
   {
    "duration": 13,
    "start_time": "2022-10-02T13:21:45.726Z"
   },
   {
    "duration": 13,
    "start_time": "2022-10-02T13:21:45.741Z"
   },
   {
    "duration": 37,
    "start_time": "2022-10-02T13:21:45.756Z"
   },
   {
    "duration": 39,
    "start_time": "2022-10-02T13:21:45.795Z"
   },
   {
    "duration": 32,
    "start_time": "2022-10-02T13:21:45.836Z"
   },
   {
    "duration": 27,
    "start_time": "2022-10-02T13:21:45.870Z"
   },
   {
    "duration": 108,
    "start_time": "2022-10-02T13:21:45.899Z"
   },
   {
    "duration": 7,
    "start_time": "2022-10-02T13:21:46.021Z"
   },
   {
    "duration": 79,
    "start_time": "2022-10-02T13:24:35.452Z"
   },
   {
    "duration": 16,
    "start_time": "2022-10-02T13:25:00.322Z"
   },
   {
    "duration": 486,
    "start_time": "2022-10-02T13:25:11.848Z"
   },
   {
    "duration": 31,
    "start_time": "2022-10-02T13:25:12.336Z"
   },
   {
    "duration": 18,
    "start_time": "2022-10-02T13:25:12.369Z"
   },
   {
    "duration": 34,
    "start_time": "2022-10-02T13:25:12.389Z"
   },
   {
    "duration": 38,
    "start_time": "2022-10-02T13:25:12.425Z"
   },
   {
    "duration": 5,
    "start_time": "2022-10-02T13:25:12.464Z"
   },
   {
    "duration": 18,
    "start_time": "2022-10-02T13:25:12.471Z"
   },
   {
    "duration": 31,
    "start_time": "2022-10-02T13:25:12.491Z"
   },
   {
    "duration": 9,
    "start_time": "2022-10-02T13:25:12.524Z"
   },
   {
    "duration": 5,
    "start_time": "2022-10-02T13:25:12.537Z"
   },
   {
    "duration": 37,
    "start_time": "2022-10-02T13:25:12.544Z"
   },
   {
    "duration": 38,
    "start_time": "2022-10-02T13:25:12.583Z"
   },
   {
    "duration": 8,
    "start_time": "2022-10-02T13:25:12.623Z"
   },
   {
    "duration": 19,
    "start_time": "2022-10-02T13:25:12.633Z"
   },
   {
    "duration": 31,
    "start_time": "2022-10-02T13:25:12.653Z"
   },
   {
    "duration": 19,
    "start_time": "2022-10-02T13:25:12.686Z"
   },
   {
    "duration": 4,
    "start_time": "2022-10-02T13:25:12.720Z"
   },
   {
    "duration": 23,
    "start_time": "2022-10-02T13:25:12.726Z"
   },
   {
    "duration": 7,
    "start_time": "2022-10-02T13:25:12.752Z"
   },
   {
    "duration": 8,
    "start_time": "2022-10-02T13:25:12.761Z"
   },
   {
    "duration": 16,
    "start_time": "2022-10-02T13:25:12.771Z"
   },
   {
    "duration": 5,
    "start_time": "2022-10-02T13:25:12.789Z"
   },
   {
    "duration": 51,
    "start_time": "2022-10-02T13:25:12.796Z"
   },
   {
    "duration": 27,
    "start_time": "2022-10-02T13:25:12.849Z"
   },
   {
    "duration": 51,
    "start_time": "2022-10-02T13:25:12.878Z"
   },
   {
    "duration": 25,
    "start_time": "2022-10-02T13:25:12.931Z"
   },
   {
    "duration": 99,
    "start_time": "2022-10-02T13:25:12.958Z"
   },
   {
    "duration": 6,
    "start_time": "2022-10-02T13:25:13.061Z"
   },
   {
    "duration": 477,
    "start_time": "2022-10-02T13:27:26.735Z"
   },
   {
    "duration": 25,
    "start_time": "2022-10-02T13:27:27.214Z"
   },
   {
    "duration": 17,
    "start_time": "2022-10-02T13:27:27.241Z"
   },
   {
    "duration": 14,
    "start_time": "2022-10-02T13:27:27.259Z"
   },
   {
    "duration": 55,
    "start_time": "2022-10-02T13:27:27.275Z"
   },
   {
    "duration": 4,
    "start_time": "2022-10-02T13:27:27.332Z"
   },
   {
    "duration": 11,
    "start_time": "2022-10-02T13:27:27.337Z"
   },
   {
    "duration": 5,
    "start_time": "2022-10-02T13:27:27.350Z"
   },
   {
    "duration": 13,
    "start_time": "2022-10-02T13:27:27.356Z"
   },
   {
    "duration": 5,
    "start_time": "2022-10-02T13:27:27.371Z"
   },
   {
    "duration": 65,
    "start_time": "2022-10-02T13:27:27.377Z"
   },
   {
    "duration": 11,
    "start_time": "2022-10-02T13:27:27.443Z"
   },
   {
    "duration": 6,
    "start_time": "2022-10-02T13:27:27.456Z"
   },
   {
    "duration": 12,
    "start_time": "2022-10-02T13:27:27.465Z"
   },
   {
    "duration": 42,
    "start_time": "2022-10-02T13:27:27.479Z"
   },
   {
    "duration": 19,
    "start_time": "2022-10-02T13:27:27.523Z"
   },
   {
    "duration": 4,
    "start_time": "2022-10-02T13:27:27.544Z"
   },
   {
    "duration": 20,
    "start_time": "2022-10-02T13:27:27.550Z"
   },
   {
    "duration": 13,
    "start_time": "2022-10-02T13:27:27.572Z"
   },
   {
    "duration": 5,
    "start_time": "2022-10-02T13:27:27.586Z"
   },
   {
    "duration": 27,
    "start_time": "2022-10-02T13:27:27.593Z"
   },
   {
    "duration": 6,
    "start_time": "2022-10-02T13:27:27.622Z"
   },
   {
    "duration": 36,
    "start_time": "2022-10-02T13:27:27.630Z"
   },
   {
    "duration": 26,
    "start_time": "2022-10-02T13:27:27.668Z"
   },
   {
    "duration": 44,
    "start_time": "2022-10-02T13:27:27.696Z"
   },
   {
    "duration": 26,
    "start_time": "2022-10-02T13:27:27.742Z"
   },
   {
    "duration": 110,
    "start_time": "2022-10-02T13:27:27.770Z"
   },
   {
    "duration": 6,
    "start_time": "2022-10-02T13:27:27.882Z"
   },
   {
    "duration": 7,
    "start_time": "2022-10-02T13:28:53.891Z"
   },
   {
    "duration": 8,
    "start_time": "2022-10-02T13:29:21.676Z"
   },
   {
    "duration": 6,
    "start_time": "2022-10-02T13:30:10.251Z"
   },
   {
    "duration": 508,
    "start_time": "2022-10-02T14:01:16.007Z"
   },
   {
    "duration": 25,
    "start_time": "2022-10-02T14:01:16.518Z"
   },
   {
    "duration": 18,
    "start_time": "2022-10-02T14:01:16.545Z"
   },
   {
    "duration": 12,
    "start_time": "2022-10-02T14:01:16.567Z"
   },
   {
    "duration": 67,
    "start_time": "2022-10-02T14:01:16.582Z"
   },
   {
    "duration": 4,
    "start_time": "2022-10-02T14:01:16.651Z"
   },
   {
    "duration": 29,
    "start_time": "2022-10-02T14:01:16.657Z"
   },
   {
    "duration": 6,
    "start_time": "2022-10-02T14:01:16.688Z"
   },
   {
    "duration": 17,
    "start_time": "2022-10-02T14:01:16.696Z"
   },
   {
    "duration": 6,
    "start_time": "2022-10-02T14:01:16.722Z"
   },
   {
    "duration": 56,
    "start_time": "2022-10-02T14:01:16.730Z"
   },
   {
    "duration": 12,
    "start_time": "2022-10-02T14:01:16.788Z"
   },
   {
    "duration": 20,
    "start_time": "2022-10-02T14:01:16.803Z"
   },
   {
    "duration": 36,
    "start_time": "2022-10-02T14:01:16.826Z"
   },
   {
    "duration": 52,
    "start_time": "2022-10-02T14:01:16.864Z"
   },
   {
    "duration": 20,
    "start_time": "2022-10-02T14:01:16.918Z"
   },
   {
    "duration": 5,
    "start_time": "2022-10-02T14:01:16.940Z"
   },
   {
    "duration": 26,
    "start_time": "2022-10-02T14:01:16.947Z"
   },
   {
    "duration": 28,
    "start_time": "2022-10-02T14:01:16.976Z"
   },
   {
    "duration": 9,
    "start_time": "2022-10-02T14:01:17.007Z"
   },
   {
    "duration": 22,
    "start_time": "2022-10-02T14:01:17.018Z"
   },
   {
    "duration": 31,
    "start_time": "2022-10-02T14:01:17.042Z"
   },
   {
    "duration": 36,
    "start_time": "2022-10-02T14:01:17.075Z"
   },
   {
    "duration": 27,
    "start_time": "2022-10-02T14:01:17.113Z"
   },
   {
    "duration": 26,
    "start_time": "2022-10-02T14:01:17.142Z"
   },
   {
    "duration": 52,
    "start_time": "2022-10-02T14:01:17.170Z"
   },
   {
    "duration": 114,
    "start_time": "2022-10-02T14:01:17.224Z"
   },
   {
    "duration": 6,
    "start_time": "2022-10-02T14:01:17.342Z"
   },
   {
    "duration": 730,
    "start_time": "2023-11-01T16:25:36.883Z"
   },
   {
    "duration": 23,
    "start_time": "2023-11-01T16:25:37.615Z"
   },
   {
    "duration": 15,
    "start_time": "2023-11-01T16:25:37.640Z"
   },
   {
    "duration": 14,
    "start_time": "2023-11-01T16:25:37.657Z"
   },
   {
    "duration": 56,
    "start_time": "2023-11-01T16:25:37.673Z"
   },
   {
    "duration": 5,
    "start_time": "2023-11-01T16:25:37.730Z"
   },
   {
    "duration": 27,
    "start_time": "2023-11-01T16:25:37.737Z"
   },
   {
    "duration": 6,
    "start_time": "2023-11-01T16:25:37.766Z"
   },
   {
    "duration": 30,
    "start_time": "2023-11-01T16:25:37.773Z"
   },
   {
    "duration": 5,
    "start_time": "2023-11-01T16:25:37.806Z"
   },
   {
    "duration": 40,
    "start_time": "2023-11-01T16:25:37.813Z"
   },
   {
    "duration": 12,
    "start_time": "2023-11-01T16:25:37.854Z"
   },
   {
    "duration": 5,
    "start_time": "2023-11-01T16:25:37.901Z"
   },
   {
    "duration": 31,
    "start_time": "2023-11-01T16:25:37.908Z"
   },
   {
    "duration": 25,
    "start_time": "2023-11-01T16:25:37.941Z"
   },
   {
    "duration": 33,
    "start_time": "2023-11-01T16:25:37.968Z"
   },
   {
    "duration": 7,
    "start_time": "2023-11-01T16:25:38.003Z"
   },
   {
    "duration": 22,
    "start_time": "2023-11-01T16:25:38.011Z"
   },
   {
    "duration": 27,
    "start_time": "2023-11-01T16:25:38.035Z"
   },
   {
    "duration": 16,
    "start_time": "2023-11-01T16:25:38.064Z"
   },
   {
    "duration": 27,
    "start_time": "2023-11-01T16:25:38.082Z"
   },
   {
    "duration": 39,
    "start_time": "2023-11-01T16:25:38.111Z"
   },
   {
    "duration": 43,
    "start_time": "2023-11-01T16:25:38.151Z"
   },
   {
    "duration": 123,
    "start_time": "2023-11-01T16:25:38.196Z"
   },
   {
    "duration": 61,
    "start_time": "2023-11-01T16:25:38.321Z"
   },
   {
    "duration": 27,
    "start_time": "2023-11-01T16:25:38.383Z"
   },
   {
    "duration": 107,
    "start_time": "2023-11-01T16:25:38.411Z"
   },
   {
    "duration": 6,
    "start_time": "2023-11-01T16:25:38.521Z"
   },
   {
    "duration": 79,
    "start_time": "2023-11-01T16:28:21.123Z"
   },
   {
    "duration": 86,
    "start_time": "2023-11-01T16:28:28.393Z"
   },
   {
    "duration": 0,
    "start_time": "2023-11-01T16:28:28.481Z"
   },
   {
    "duration": 0,
    "start_time": "2023-11-01T16:28:28.483Z"
   },
   {
    "duration": 0,
    "start_time": "2023-11-01T16:28:28.484Z"
   },
   {
    "duration": 0,
    "start_time": "2023-11-01T16:28:28.485Z"
   },
   {
    "duration": 0,
    "start_time": "2023-11-01T16:28:28.486Z"
   },
   {
    "duration": 0,
    "start_time": "2023-11-01T16:28:28.487Z"
   },
   {
    "duration": 0,
    "start_time": "2023-11-01T16:28:28.488Z"
   },
   {
    "duration": 0,
    "start_time": "2023-11-01T16:28:28.490Z"
   },
   {
    "duration": 0,
    "start_time": "2023-11-01T16:28:28.491Z"
   },
   {
    "duration": 0,
    "start_time": "2023-11-01T16:28:28.492Z"
   },
   {
    "duration": 0,
    "start_time": "2023-11-01T16:28:28.494Z"
   },
   {
    "duration": 0,
    "start_time": "2023-11-01T16:28:28.495Z"
   },
   {
    "duration": 0,
    "start_time": "2023-11-01T16:28:28.496Z"
   },
   {
    "duration": 0,
    "start_time": "2023-11-01T16:28:28.497Z"
   },
   {
    "duration": 0,
    "start_time": "2023-11-01T16:28:28.498Z"
   },
   {
    "duration": 0,
    "start_time": "2023-11-01T16:28:28.499Z"
   },
   {
    "duration": 0,
    "start_time": "2023-11-01T16:28:28.500Z"
   },
   {
    "duration": 0,
    "start_time": "2023-11-01T16:28:28.501Z"
   },
   {
    "duration": 0,
    "start_time": "2023-11-01T16:28:28.503Z"
   },
   {
    "duration": 0,
    "start_time": "2023-11-01T16:28:28.504Z"
   },
   {
    "duration": 0,
    "start_time": "2023-11-01T16:28:28.505Z"
   },
   {
    "duration": 0,
    "start_time": "2023-11-01T16:28:28.506Z"
   },
   {
    "duration": 0,
    "start_time": "2023-11-01T16:28:28.507Z"
   },
   {
    "duration": 0,
    "start_time": "2023-11-01T16:28:28.509Z"
   },
   {
    "duration": 0,
    "start_time": "2023-11-01T16:28:28.510Z"
   },
   {
    "duration": 0,
    "start_time": "2023-11-01T16:28:28.511Z"
   },
   {
    "duration": 0,
    "start_time": "2023-11-01T16:28:28.512Z"
   },
   {
    "duration": 88,
    "start_time": "2023-11-01T16:28:42.374Z"
   },
   {
    "duration": 78,
    "start_time": "2023-11-01T16:28:47.393Z"
   },
   {
    "duration": 99,
    "start_time": "2023-11-01T16:29:03.484Z"
   },
   {
    "duration": 465,
    "start_time": "2023-11-01T16:29:15.634Z"
   },
   {
    "duration": 24,
    "start_time": "2023-11-01T16:29:20.053Z"
   },
   {
    "duration": 77,
    "start_time": "2023-11-01T16:29:30.233Z"
   },
   {
    "duration": 853,
    "start_time": "2023-11-09T10:15:21.141Z"
   },
   {
    "duration": 26,
    "start_time": "2023-11-09T10:15:21.996Z"
   },
   {
    "duration": 17,
    "start_time": "2023-11-09T10:15:22.024Z"
   },
   {
    "duration": 11,
    "start_time": "2023-11-09T10:15:22.043Z"
   },
   {
    "duration": 65,
    "start_time": "2023-11-09T10:15:22.057Z"
   },
   {
    "duration": 3,
    "start_time": "2023-11-09T10:15:22.124Z"
   },
   {
    "duration": 28,
    "start_time": "2023-11-09T10:15:22.129Z"
   },
   {
    "duration": 14,
    "start_time": "2023-11-09T10:15:22.159Z"
   },
   {
    "duration": 15,
    "start_time": "2023-11-09T10:15:22.175Z"
   },
   {
    "duration": 12,
    "start_time": "2023-11-09T10:15:22.192Z"
   },
   {
    "duration": 69,
    "start_time": "2023-11-09T10:15:22.206Z"
   },
   {
    "duration": 25,
    "start_time": "2023-11-09T10:15:22.277Z"
   },
   {
    "duration": 4,
    "start_time": "2023-11-09T10:15:22.303Z"
   },
   {
    "duration": 16,
    "start_time": "2023-11-09T10:15:22.311Z"
   },
   {
    "duration": 31,
    "start_time": "2023-11-09T10:15:22.330Z"
   },
   {
    "duration": 42,
    "start_time": "2023-11-09T10:15:22.363Z"
   },
   {
    "duration": 4,
    "start_time": "2023-11-09T10:15:22.407Z"
   },
   {
    "duration": 26,
    "start_time": "2023-11-09T10:15:22.413Z"
   },
   {
    "duration": 10,
    "start_time": "2023-11-09T10:15:22.441Z"
   },
   {
    "duration": 5,
    "start_time": "2023-11-09T10:15:22.454Z"
   },
   {
    "duration": 38,
    "start_time": "2023-11-09T10:15:22.460Z"
   },
   {
    "duration": 7,
    "start_time": "2023-11-09T10:15:22.502Z"
   },
   {
    "duration": 36,
    "start_time": "2023-11-09T10:15:22.511Z"
   },
   {
    "duration": 54,
    "start_time": "2023-11-09T10:15:22.549Z"
   },
   {
    "duration": 26,
    "start_time": "2023-11-09T10:15:22.605Z"
   },
   {
    "duration": 66,
    "start_time": "2023-11-09T10:15:22.633Z"
   },
   {
    "duration": 143,
    "start_time": "2023-11-09T10:15:22.703Z"
   },
   {
    "duration": 6,
    "start_time": "2023-11-09T10:15:22.848Z"
   }
  ],
  "colab": {
   "name": "dpp_template_part2.ipynb",
   "provenance": []
  },
  "kernelspec": {
   "display_name": "Python 3 (ipykernel)",
   "language": "python",
   "name": "python3"
  },
  "language_info": {
   "codemirror_mode": {
    "name": "ipython",
    "version": 3
   },
   "file_extension": ".py",
   "mimetype": "text/x-python",
   "name": "python",
   "nbconvert_exporter": "python",
   "pygments_lexer": "ipython3",
   "version": "3.9.5"
  },
  "toc": {
   "base_numbering": 1,
   "nav_menu": {},
   "number_sections": true,
   "sideBar": true,
   "skip_h1_title": true,
   "title_cell": "Table of Contents",
   "title_sidebar": "Contents",
   "toc_cell": false,
   "toc_position": {},
   "toc_section_display": true,
   "toc_window_display": false
  }
 },
 "nbformat": 4,
 "nbformat_minor": 5
}
