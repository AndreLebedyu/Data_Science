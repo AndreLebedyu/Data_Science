{
 "cells": [
  {
   "cell_type": "markdown",
   "metadata": {},
   "source": [
    "# Исследование рынка компьютерных игр"
   ]
  },
  {
   "cell_type": "markdown",
   "metadata": {},
   "source": [
    "Из открытых источников доступны исторические данные о продажах игр, оценки пользователей и экспертов, жанры и платформы (например, Xbox или PlayStation). Нам нужно выявить определяющие успешность игры закономерности. Это позволит сделать ставку на потенциально популярный продукт и спланировать рекламные кампании."
   ]
  },
  {
   "cell_type": "markdown",
   "metadata": {},
   "source": [
    "### Откроем файл с данными и изучим общую информацию. "
   ]
  },
  {
   "cell_type": "markdown",
   "metadata": {},
   "source": [
    "Работу над проектом начнем с того, что добавим необходимые для работы библиотеки, откроем датафрейм, выведем общую информацию по нему."
   ]
  },
  {
   "cell_type": "code",
   "execution_count": 1,
   "metadata": {},
   "outputs": [],
   "source": [
    "import pandas as pd\n",
    "import matplotlib.pyplot as plt\n",
    "from scipy import stats as st"
   ]
  },
  {
   "cell_type": "code",
   "execution_count": 2,
   "metadata": {},
   "outputs": [
    {
     "data": {
      "text/html": [
       "<div>\n",
       "<style scoped>\n",
       "    .dataframe tbody tr th:only-of-type {\n",
       "        vertical-align: middle;\n",
       "    }\n",
       "\n",
       "    .dataframe tbody tr th {\n",
       "        vertical-align: top;\n",
       "    }\n",
       "\n",
       "    .dataframe thead th {\n",
       "        text-align: right;\n",
       "    }\n",
       "</style>\n",
       "<table border=\"1\" class=\"dataframe\">\n",
       "  <thead>\n",
       "    <tr style=\"text-align: right;\">\n",
       "      <th></th>\n",
       "      <th>Name</th>\n",
       "      <th>Platform</th>\n",
       "      <th>Year_of_Release</th>\n",
       "      <th>Genre</th>\n",
       "      <th>NA_sales</th>\n",
       "      <th>EU_sales</th>\n",
       "      <th>JP_sales</th>\n",
       "      <th>Other_sales</th>\n",
       "      <th>Critic_Score</th>\n",
       "      <th>User_Score</th>\n",
       "      <th>Rating</th>\n",
       "    </tr>\n",
       "  </thead>\n",
       "  <tbody>\n",
       "    <tr>\n",
       "      <th>0</th>\n",
       "      <td>Wii Sports</td>\n",
       "      <td>Wii</td>\n",
       "      <td>2006.0</td>\n",
       "      <td>Sports</td>\n",
       "      <td>41.36</td>\n",
       "      <td>28.96</td>\n",
       "      <td>3.77</td>\n",
       "      <td>8.45</td>\n",
       "      <td>76.0</td>\n",
       "      <td>8</td>\n",
       "      <td>E</td>\n",
       "    </tr>\n",
       "    <tr>\n",
       "      <th>1</th>\n",
       "      <td>Super Mario Bros.</td>\n",
       "      <td>NES</td>\n",
       "      <td>1985.0</td>\n",
       "      <td>Platform</td>\n",
       "      <td>29.08</td>\n",
       "      <td>3.58</td>\n",
       "      <td>6.81</td>\n",
       "      <td>0.77</td>\n",
       "      <td>NaN</td>\n",
       "      <td>NaN</td>\n",
       "      <td>NaN</td>\n",
       "    </tr>\n",
       "    <tr>\n",
       "      <th>2</th>\n",
       "      <td>Mario Kart Wii</td>\n",
       "      <td>Wii</td>\n",
       "      <td>2008.0</td>\n",
       "      <td>Racing</td>\n",
       "      <td>15.68</td>\n",
       "      <td>12.76</td>\n",
       "      <td>3.79</td>\n",
       "      <td>3.29</td>\n",
       "      <td>82.0</td>\n",
       "      <td>8.3</td>\n",
       "      <td>E</td>\n",
       "    </tr>\n",
       "    <tr>\n",
       "      <th>3</th>\n",
       "      <td>Wii Sports Resort</td>\n",
       "      <td>Wii</td>\n",
       "      <td>2009.0</td>\n",
       "      <td>Sports</td>\n",
       "      <td>15.61</td>\n",
       "      <td>10.93</td>\n",
       "      <td>3.28</td>\n",
       "      <td>2.95</td>\n",
       "      <td>80.0</td>\n",
       "      <td>8</td>\n",
       "      <td>E</td>\n",
       "    </tr>\n",
       "    <tr>\n",
       "      <th>4</th>\n",
       "      <td>Pokemon Red/Pokemon Blue</td>\n",
       "      <td>GB</td>\n",
       "      <td>1996.0</td>\n",
       "      <td>Role-Playing</td>\n",
       "      <td>11.27</td>\n",
       "      <td>8.89</td>\n",
       "      <td>10.22</td>\n",
       "      <td>1.00</td>\n",
       "      <td>NaN</td>\n",
       "      <td>NaN</td>\n",
       "      <td>NaN</td>\n",
       "    </tr>\n",
       "    <tr>\n",
       "      <th>5</th>\n",
       "      <td>Tetris</td>\n",
       "      <td>GB</td>\n",
       "      <td>1989.0</td>\n",
       "      <td>Puzzle</td>\n",
       "      <td>23.20</td>\n",
       "      <td>2.26</td>\n",
       "      <td>4.22</td>\n",
       "      <td>0.58</td>\n",
       "      <td>NaN</td>\n",
       "      <td>NaN</td>\n",
       "      <td>NaN</td>\n",
       "    </tr>\n",
       "    <tr>\n",
       "      <th>6</th>\n",
       "      <td>New Super Mario Bros.</td>\n",
       "      <td>DS</td>\n",
       "      <td>2006.0</td>\n",
       "      <td>Platform</td>\n",
       "      <td>11.28</td>\n",
       "      <td>9.14</td>\n",
       "      <td>6.50</td>\n",
       "      <td>2.88</td>\n",
       "      <td>89.0</td>\n",
       "      <td>8.5</td>\n",
       "      <td>E</td>\n",
       "    </tr>\n",
       "    <tr>\n",
       "      <th>7</th>\n",
       "      <td>Wii Play</td>\n",
       "      <td>Wii</td>\n",
       "      <td>2006.0</td>\n",
       "      <td>Misc</td>\n",
       "      <td>13.96</td>\n",
       "      <td>9.18</td>\n",
       "      <td>2.93</td>\n",
       "      <td>2.84</td>\n",
       "      <td>58.0</td>\n",
       "      <td>6.6</td>\n",
       "      <td>E</td>\n",
       "    </tr>\n",
       "    <tr>\n",
       "      <th>8</th>\n",
       "      <td>New Super Mario Bros. Wii</td>\n",
       "      <td>Wii</td>\n",
       "      <td>2009.0</td>\n",
       "      <td>Platform</td>\n",
       "      <td>14.44</td>\n",
       "      <td>6.94</td>\n",
       "      <td>4.70</td>\n",
       "      <td>2.24</td>\n",
       "      <td>87.0</td>\n",
       "      <td>8.4</td>\n",
       "      <td>E</td>\n",
       "    </tr>\n",
       "    <tr>\n",
       "      <th>9</th>\n",
       "      <td>Duck Hunt</td>\n",
       "      <td>NES</td>\n",
       "      <td>1984.0</td>\n",
       "      <td>Shooter</td>\n",
       "      <td>26.93</td>\n",
       "      <td>0.63</td>\n",
       "      <td>0.28</td>\n",
       "      <td>0.47</td>\n",
       "      <td>NaN</td>\n",
       "      <td>NaN</td>\n",
       "      <td>NaN</td>\n",
       "    </tr>\n",
       "    <tr>\n",
       "      <th>10</th>\n",
       "      <td>Nintendogs</td>\n",
       "      <td>DS</td>\n",
       "      <td>2005.0</td>\n",
       "      <td>Simulation</td>\n",
       "      <td>9.05</td>\n",
       "      <td>10.95</td>\n",
       "      <td>1.93</td>\n",
       "      <td>2.74</td>\n",
       "      <td>NaN</td>\n",
       "      <td>NaN</td>\n",
       "      <td>NaN</td>\n",
       "    </tr>\n",
       "    <tr>\n",
       "      <th>11</th>\n",
       "      <td>Mario Kart DS</td>\n",
       "      <td>DS</td>\n",
       "      <td>2005.0</td>\n",
       "      <td>Racing</td>\n",
       "      <td>9.71</td>\n",
       "      <td>7.47</td>\n",
       "      <td>4.13</td>\n",
       "      <td>1.90</td>\n",
       "      <td>91.0</td>\n",
       "      <td>8.6</td>\n",
       "      <td>E</td>\n",
       "    </tr>\n",
       "    <tr>\n",
       "      <th>12</th>\n",
       "      <td>Pokemon Gold/Pokemon Silver</td>\n",
       "      <td>GB</td>\n",
       "      <td>1999.0</td>\n",
       "      <td>Role-Playing</td>\n",
       "      <td>9.00</td>\n",
       "      <td>6.18</td>\n",
       "      <td>7.20</td>\n",
       "      <td>0.71</td>\n",
       "      <td>NaN</td>\n",
       "      <td>NaN</td>\n",
       "      <td>NaN</td>\n",
       "    </tr>\n",
       "    <tr>\n",
       "      <th>13</th>\n",
       "      <td>Wii Fit</td>\n",
       "      <td>Wii</td>\n",
       "      <td>2007.0</td>\n",
       "      <td>Sports</td>\n",
       "      <td>8.92</td>\n",
       "      <td>8.03</td>\n",
       "      <td>3.60</td>\n",
       "      <td>2.15</td>\n",
       "      <td>80.0</td>\n",
       "      <td>7.7</td>\n",
       "      <td>E</td>\n",
       "    </tr>\n",
       "    <tr>\n",
       "      <th>14</th>\n",
       "      <td>Kinect Adventures!</td>\n",
       "      <td>X360</td>\n",
       "      <td>2010.0</td>\n",
       "      <td>Misc</td>\n",
       "      <td>15.00</td>\n",
       "      <td>4.89</td>\n",
       "      <td>0.24</td>\n",
       "      <td>1.69</td>\n",
       "      <td>61.0</td>\n",
       "      <td>6.3</td>\n",
       "      <td>E</td>\n",
       "    </tr>\n",
       "  </tbody>\n",
       "</table>\n",
       "</div>"
      ],
      "text/plain": [
       "                           Name Platform  Year_of_Release         Genre  \\\n",
       "0                    Wii Sports      Wii           2006.0        Sports   \n",
       "1             Super Mario Bros.      NES           1985.0      Platform   \n",
       "2                Mario Kart Wii      Wii           2008.0        Racing   \n",
       "3             Wii Sports Resort      Wii           2009.0        Sports   \n",
       "4      Pokemon Red/Pokemon Blue       GB           1996.0  Role-Playing   \n",
       "5                        Tetris       GB           1989.0        Puzzle   \n",
       "6         New Super Mario Bros.       DS           2006.0      Platform   \n",
       "7                      Wii Play      Wii           2006.0          Misc   \n",
       "8     New Super Mario Bros. Wii      Wii           2009.0      Platform   \n",
       "9                     Duck Hunt      NES           1984.0       Shooter   \n",
       "10                   Nintendogs       DS           2005.0    Simulation   \n",
       "11                Mario Kart DS       DS           2005.0        Racing   \n",
       "12  Pokemon Gold/Pokemon Silver       GB           1999.0  Role-Playing   \n",
       "13                      Wii Fit      Wii           2007.0        Sports   \n",
       "14           Kinect Adventures!     X360           2010.0          Misc   \n",
       "\n",
       "    NA_sales  EU_sales  JP_sales  Other_sales  Critic_Score User_Score Rating  \n",
       "0      41.36     28.96      3.77         8.45          76.0          8      E  \n",
       "1      29.08      3.58      6.81         0.77           NaN        NaN    NaN  \n",
       "2      15.68     12.76      3.79         3.29          82.0        8.3      E  \n",
       "3      15.61     10.93      3.28         2.95          80.0          8      E  \n",
       "4      11.27      8.89     10.22         1.00           NaN        NaN    NaN  \n",
       "5      23.20      2.26      4.22         0.58           NaN        NaN    NaN  \n",
       "6      11.28      9.14      6.50         2.88          89.0        8.5      E  \n",
       "7      13.96      9.18      2.93         2.84          58.0        6.6      E  \n",
       "8      14.44      6.94      4.70         2.24          87.0        8.4      E  \n",
       "9      26.93      0.63      0.28         0.47           NaN        NaN    NaN  \n",
       "10      9.05     10.95      1.93         2.74           NaN        NaN    NaN  \n",
       "11      9.71      7.47      4.13         1.90          91.0        8.6      E  \n",
       "12      9.00      6.18      7.20         0.71           NaN        NaN    NaN  \n",
       "13      8.92      8.03      3.60         2.15          80.0        7.7      E  \n",
       "14     15.00      4.89      0.24         1.69          61.0        6.3      E  "
      ]
     },
     "metadata": {},
     "output_type": "display_data"
    },
    {
     "data": {
      "text/html": [
       "<div>\n",
       "<style scoped>\n",
       "    .dataframe tbody tr th:only-of-type {\n",
       "        vertical-align: middle;\n",
       "    }\n",
       "\n",
       "    .dataframe tbody tr th {\n",
       "        vertical-align: top;\n",
       "    }\n",
       "\n",
       "    .dataframe thead th {\n",
       "        text-align: right;\n",
       "    }\n",
       "</style>\n",
       "<table border=\"1\" class=\"dataframe\">\n",
       "  <thead>\n",
       "    <tr style=\"text-align: right;\">\n",
       "      <th></th>\n",
       "      <th>Name</th>\n",
       "      <th>Platform</th>\n",
       "      <th>Year_of_Release</th>\n",
       "      <th>Genre</th>\n",
       "      <th>NA_sales</th>\n",
       "      <th>EU_sales</th>\n",
       "      <th>JP_sales</th>\n",
       "      <th>Other_sales</th>\n",
       "      <th>Critic_Score</th>\n",
       "      <th>User_Score</th>\n",
       "      <th>Rating</th>\n",
       "    </tr>\n",
       "  </thead>\n",
       "  <tbody>\n",
       "    <tr>\n",
       "      <th>16700</th>\n",
       "      <td>Mezase!! Tsuri Master DS</td>\n",
       "      <td>DS</td>\n",
       "      <td>2009.0</td>\n",
       "      <td>Sports</td>\n",
       "      <td>0.00</td>\n",
       "      <td>0.00</td>\n",
       "      <td>0.01</td>\n",
       "      <td>0.0</td>\n",
       "      <td>NaN</td>\n",
       "      <td>NaN</td>\n",
       "      <td>NaN</td>\n",
       "    </tr>\n",
       "    <tr>\n",
       "      <th>16701</th>\n",
       "      <td>Eiyuu Densetsu: Sora no Kiseki Material Collec...</td>\n",
       "      <td>PSP</td>\n",
       "      <td>2007.0</td>\n",
       "      <td>Role-Playing</td>\n",
       "      <td>0.00</td>\n",
       "      <td>0.00</td>\n",
       "      <td>0.01</td>\n",
       "      <td>0.0</td>\n",
       "      <td>NaN</td>\n",
       "      <td>NaN</td>\n",
       "      <td>NaN</td>\n",
       "    </tr>\n",
       "    <tr>\n",
       "      <th>16702</th>\n",
       "      <td>STORM: Frontline Nation</td>\n",
       "      <td>PC</td>\n",
       "      <td>2011.0</td>\n",
       "      <td>Strategy</td>\n",
       "      <td>0.00</td>\n",
       "      <td>0.01</td>\n",
       "      <td>0.00</td>\n",
       "      <td>0.0</td>\n",
       "      <td>60.0</td>\n",
       "      <td>7.2</td>\n",
       "      <td>E10+</td>\n",
       "    </tr>\n",
       "    <tr>\n",
       "      <th>16703</th>\n",
       "      <td>Strawberry Nauts</td>\n",
       "      <td>PSV</td>\n",
       "      <td>2016.0</td>\n",
       "      <td>Adventure</td>\n",
       "      <td>0.00</td>\n",
       "      <td>0.00</td>\n",
       "      <td>0.01</td>\n",
       "      <td>0.0</td>\n",
       "      <td>NaN</td>\n",
       "      <td>NaN</td>\n",
       "      <td>NaN</td>\n",
       "    </tr>\n",
       "    <tr>\n",
       "      <th>16704</th>\n",
       "      <td>Plushees</td>\n",
       "      <td>DS</td>\n",
       "      <td>2008.0</td>\n",
       "      <td>Simulation</td>\n",
       "      <td>0.01</td>\n",
       "      <td>0.00</td>\n",
       "      <td>0.00</td>\n",
       "      <td>0.0</td>\n",
       "      <td>NaN</td>\n",
       "      <td>tbd</td>\n",
       "      <td>E</td>\n",
       "    </tr>\n",
       "    <tr>\n",
       "      <th>16705</th>\n",
       "      <td>15 Days</td>\n",
       "      <td>PC</td>\n",
       "      <td>2009.0</td>\n",
       "      <td>Adventure</td>\n",
       "      <td>0.00</td>\n",
       "      <td>0.01</td>\n",
       "      <td>0.00</td>\n",
       "      <td>0.0</td>\n",
       "      <td>63.0</td>\n",
       "      <td>5.8</td>\n",
       "      <td>NaN</td>\n",
       "    </tr>\n",
       "    <tr>\n",
       "      <th>16706</th>\n",
       "      <td>Men in Black II: Alien Escape</td>\n",
       "      <td>GC</td>\n",
       "      <td>2003.0</td>\n",
       "      <td>Shooter</td>\n",
       "      <td>0.01</td>\n",
       "      <td>0.00</td>\n",
       "      <td>0.00</td>\n",
       "      <td>0.0</td>\n",
       "      <td>NaN</td>\n",
       "      <td>tbd</td>\n",
       "      <td>T</td>\n",
       "    </tr>\n",
       "    <tr>\n",
       "      <th>16707</th>\n",
       "      <td>Aiyoku no Eustia</td>\n",
       "      <td>PSV</td>\n",
       "      <td>2014.0</td>\n",
       "      <td>Misc</td>\n",
       "      <td>0.00</td>\n",
       "      <td>0.00</td>\n",
       "      <td>0.01</td>\n",
       "      <td>0.0</td>\n",
       "      <td>NaN</td>\n",
       "      <td>NaN</td>\n",
       "      <td>NaN</td>\n",
       "    </tr>\n",
       "    <tr>\n",
       "      <th>16708</th>\n",
       "      <td>Woody Woodpecker in Crazy Castle 5</td>\n",
       "      <td>GBA</td>\n",
       "      <td>2002.0</td>\n",
       "      <td>Platform</td>\n",
       "      <td>0.01</td>\n",
       "      <td>0.00</td>\n",
       "      <td>0.00</td>\n",
       "      <td>0.0</td>\n",
       "      <td>NaN</td>\n",
       "      <td>NaN</td>\n",
       "      <td>NaN</td>\n",
       "    </tr>\n",
       "    <tr>\n",
       "      <th>16709</th>\n",
       "      <td>SCORE International Baja 1000: The Official Game</td>\n",
       "      <td>PS2</td>\n",
       "      <td>2008.0</td>\n",
       "      <td>Racing</td>\n",
       "      <td>0.00</td>\n",
       "      <td>0.00</td>\n",
       "      <td>0.00</td>\n",
       "      <td>0.0</td>\n",
       "      <td>NaN</td>\n",
       "      <td>NaN</td>\n",
       "      <td>NaN</td>\n",
       "    </tr>\n",
       "    <tr>\n",
       "      <th>16710</th>\n",
       "      <td>Samurai Warriors: Sanada Maru</td>\n",
       "      <td>PS3</td>\n",
       "      <td>2016.0</td>\n",
       "      <td>Action</td>\n",
       "      <td>0.00</td>\n",
       "      <td>0.00</td>\n",
       "      <td>0.01</td>\n",
       "      <td>0.0</td>\n",
       "      <td>NaN</td>\n",
       "      <td>NaN</td>\n",
       "      <td>NaN</td>\n",
       "    </tr>\n",
       "    <tr>\n",
       "      <th>16711</th>\n",
       "      <td>LMA Manager 2007</td>\n",
       "      <td>X360</td>\n",
       "      <td>2006.0</td>\n",
       "      <td>Sports</td>\n",
       "      <td>0.00</td>\n",
       "      <td>0.01</td>\n",
       "      <td>0.00</td>\n",
       "      <td>0.0</td>\n",
       "      <td>NaN</td>\n",
       "      <td>NaN</td>\n",
       "      <td>NaN</td>\n",
       "    </tr>\n",
       "    <tr>\n",
       "      <th>16712</th>\n",
       "      <td>Haitaka no Psychedelica</td>\n",
       "      <td>PSV</td>\n",
       "      <td>2016.0</td>\n",
       "      <td>Adventure</td>\n",
       "      <td>0.00</td>\n",
       "      <td>0.00</td>\n",
       "      <td>0.01</td>\n",
       "      <td>0.0</td>\n",
       "      <td>NaN</td>\n",
       "      <td>NaN</td>\n",
       "      <td>NaN</td>\n",
       "    </tr>\n",
       "    <tr>\n",
       "      <th>16713</th>\n",
       "      <td>Spirits &amp; Spells</td>\n",
       "      <td>GBA</td>\n",
       "      <td>2003.0</td>\n",
       "      <td>Platform</td>\n",
       "      <td>0.01</td>\n",
       "      <td>0.00</td>\n",
       "      <td>0.00</td>\n",
       "      <td>0.0</td>\n",
       "      <td>NaN</td>\n",
       "      <td>NaN</td>\n",
       "      <td>NaN</td>\n",
       "    </tr>\n",
       "    <tr>\n",
       "      <th>16714</th>\n",
       "      <td>Winning Post 8 2016</td>\n",
       "      <td>PSV</td>\n",
       "      <td>2016.0</td>\n",
       "      <td>Simulation</td>\n",
       "      <td>0.00</td>\n",
       "      <td>0.00</td>\n",
       "      <td>0.01</td>\n",
       "      <td>0.0</td>\n",
       "      <td>NaN</td>\n",
       "      <td>NaN</td>\n",
       "      <td>NaN</td>\n",
       "    </tr>\n",
       "  </tbody>\n",
       "</table>\n",
       "</div>"
      ],
      "text/plain": [
       "                                                    Name Platform  \\\n",
       "16700                           Mezase!! Tsuri Master DS       DS   \n",
       "16701  Eiyuu Densetsu: Sora no Kiseki Material Collec...      PSP   \n",
       "16702                            STORM: Frontline Nation       PC   \n",
       "16703                                   Strawberry Nauts      PSV   \n",
       "16704                                           Plushees       DS   \n",
       "16705                                            15 Days       PC   \n",
       "16706                      Men in Black II: Alien Escape       GC   \n",
       "16707                                   Aiyoku no Eustia      PSV   \n",
       "16708                 Woody Woodpecker in Crazy Castle 5      GBA   \n",
       "16709   SCORE International Baja 1000: The Official Game      PS2   \n",
       "16710                      Samurai Warriors: Sanada Maru      PS3   \n",
       "16711                                   LMA Manager 2007     X360   \n",
       "16712                            Haitaka no Psychedelica      PSV   \n",
       "16713                                   Spirits & Spells      GBA   \n",
       "16714                                Winning Post 8 2016      PSV   \n",
       "\n",
       "       Year_of_Release         Genre  NA_sales  EU_sales  JP_sales  \\\n",
       "16700           2009.0        Sports      0.00      0.00      0.01   \n",
       "16701           2007.0  Role-Playing      0.00      0.00      0.01   \n",
       "16702           2011.0      Strategy      0.00      0.01      0.00   \n",
       "16703           2016.0     Adventure      0.00      0.00      0.01   \n",
       "16704           2008.0    Simulation      0.01      0.00      0.00   \n",
       "16705           2009.0     Adventure      0.00      0.01      0.00   \n",
       "16706           2003.0       Shooter      0.01      0.00      0.00   \n",
       "16707           2014.0          Misc      0.00      0.00      0.01   \n",
       "16708           2002.0      Platform      0.01      0.00      0.00   \n",
       "16709           2008.0        Racing      0.00      0.00      0.00   \n",
       "16710           2016.0        Action      0.00      0.00      0.01   \n",
       "16711           2006.0        Sports      0.00      0.01      0.00   \n",
       "16712           2016.0     Adventure      0.00      0.00      0.01   \n",
       "16713           2003.0      Platform      0.01      0.00      0.00   \n",
       "16714           2016.0    Simulation      0.00      0.00      0.01   \n",
       "\n",
       "       Other_sales  Critic_Score User_Score Rating  \n",
       "16700          0.0           NaN        NaN    NaN  \n",
       "16701          0.0           NaN        NaN    NaN  \n",
       "16702          0.0          60.0        7.2   E10+  \n",
       "16703          0.0           NaN        NaN    NaN  \n",
       "16704          0.0           NaN        tbd      E  \n",
       "16705          0.0          63.0        5.8    NaN  \n",
       "16706          0.0           NaN        tbd      T  \n",
       "16707          0.0           NaN        NaN    NaN  \n",
       "16708          0.0           NaN        NaN    NaN  \n",
       "16709          0.0           NaN        NaN    NaN  \n",
       "16710          0.0           NaN        NaN    NaN  \n",
       "16711          0.0           NaN        NaN    NaN  \n",
       "16712          0.0           NaN        NaN    NaN  \n",
       "16713          0.0           NaN        NaN    NaN  \n",
       "16714          0.0           NaN        NaN    NaN  "
      ]
     },
     "metadata": {},
     "output_type": "display_data"
    },
    {
     "name": "stdout",
     "output_type": "stream",
     "text": [
      "<class 'pandas.core.frame.DataFrame'>\n",
      "RangeIndex: 16715 entries, 0 to 16714\n",
      "Data columns (total 11 columns):\n",
      " #   Column           Non-Null Count  Dtype  \n",
      "---  ------           --------------  -----  \n",
      " 0   Name             16713 non-null  object \n",
      " 1   Platform         16715 non-null  object \n",
      " 2   Year_of_Release  16446 non-null  float64\n",
      " 3   Genre            16713 non-null  object \n",
      " 4   NA_sales         16715 non-null  float64\n",
      " 5   EU_sales         16715 non-null  float64\n",
      " 6   JP_sales         16715 non-null  float64\n",
      " 7   Other_sales      16715 non-null  float64\n",
      " 8   Critic_Score     8137 non-null   float64\n",
      " 9   User_Score       10014 non-null  object \n",
      " 10  Rating           9949 non-null   object \n",
      "dtypes: float64(6), object(5)\n",
      "memory usage: 1.4+ MB\n"
     ]
    }
   ],
   "source": [
    "data = pd.read_csv('/datasets/games.csv')\n",
    "display(data.head(15))\n",
    "display(data.tail(15))\n",
    "data.info()"
   ]
  },
  {
   "cell_type": "markdown",
   "metadata": {},
   "source": [
    "<b>Вывод: </b> датасет содержит 16715 строк и 11 столбцов, в некоторых столбцах имеется весьма много пропущенных значений - попробуем исправить это на следующих этапах работы."
   ]
  },
  {
   "cell_type": "markdown",
   "metadata": {},
   "source": [
    "### Предобработка данных"
   ]
  },
  {
   "cell_type": "markdown",
   "metadata": {},
   "source": [
    "Заменим названия столбцов - приведем их к нижнему регистру"
   ]
  },
  {
   "cell_type": "code",
   "execution_count": 3,
   "metadata": {},
   "outputs": [],
   "source": [
    "data.columns = data.columns.str.lower()"
   ]
  },
  {
   "cell_type": "markdown",
   "metadata": {},
   "source": [
    "Изменим тип данных в некоторых столбцах датафрейма. Как вы видим неподходящий формат данных в столбце с годом выхода ('year_of_release') и оценкой пользователей ('user_score'). Займемся этими столбцами."
   ]
  },
  {
   "cell_type": "markdown",
   "metadata": {},
   "source": [
    "В столбце \"year_of_release\" поменяем тип на наиболее подходящий - поскольку это год, то это будет целочисленное число. А также выведем информацию о том какие значения содержатся в этом столбце. "
   ]
  },
  {
   "cell_type": "code",
   "execution_count": 4,
   "metadata": {
    "scrolled": true
   },
   "outputs": [
    {
     "name": "stdout",
     "output_type": "stream",
     "text": [
      "2008    1427\n",
      "2009    1426\n",
      "2010    1255\n",
      "2007    1197\n",
      "2011    1136\n",
      "2006    1006\n",
      "2005     939\n",
      "2002     829\n",
      "2003     775\n",
      "2004     762\n",
      "2012     653\n",
      "2015     606\n",
      "2014     581\n",
      "2013     544\n",
      "2016     502\n",
      "2001     482\n",
      "1998     379\n",
      "2000     350\n",
      "1999     338\n",
      "1997     289\n",
      "1996     263\n",
      "1995     219\n",
      "1994     121\n",
      "1993      62\n",
      "1981      46\n",
      "1992      43\n",
      "1991      41\n",
      "1982      36\n",
      "1986      21\n",
      "1983      17\n",
      "1989      17\n",
      "1990      16\n",
      "1987      16\n",
      "1988      15\n",
      "1985      14\n",
      "1984      14\n",
      "1980       9\n",
      "Name: year_of_release, dtype: Int64\n"
     ]
    }
   ],
   "source": [
    "data['year_of_release'] = data['year_of_release'].convert_dtypes()\n",
    "print(data['year_of_release'].value_counts())"
   ]
  },
  {
   "cell_type": "markdown",
   "metadata": {},
   "source": [
    "Как видим все значения столбца преобразовались в целочисленные значения и в данном столбце нет каких-либо необычных или нелогичных значений"
   ]
  },
  {
   "cell_type": "markdown",
   "metadata": {},
   "source": [
    "Выведем информацию о том какие значения содержатся в столбце \"user_score\""
   ]
  },
  {
   "cell_type": "code",
   "execution_count": 5,
   "metadata": {},
   "outputs": [
    {
     "name": "stdout",
     "output_type": "stream",
     "text": [
      "tbd    2424\n",
      "7.8     324\n",
      "8       290\n",
      "8.2     282\n",
      "8.3     254\n",
      "       ... \n",
      "0.5       2\n",
      "0.3       2\n",
      "0.7       2\n",
      "0         1\n",
      "9.7       1\n",
      "Name: user_score, Length: 96, dtype: int64\n"
     ]
    }
   ],
   "source": [
    "print(data['user_score'].value_counts())"
   ]
  },
  {
   "cell_type": "markdown",
   "metadata": {},
   "source": [
    "Как мы видим в столбце \"user_score\" много значений с аббревиатурой \"tbd\". Она означает \"будет определено\" - т.е. это пропущенное значение. Поменяем эти пропуски на более привычное для пропусков значение NaN и изменими тип данных на наиболее подходящий - поскольку это числовая оценка, то это будет число с плавающей точкой"
   ]
  },
  {
   "cell_type": "code",
   "execution_count": 6,
   "metadata": {
    "scrolled": false
   },
   "outputs": [
    {
     "name": "stdout",
     "output_type": "stream",
     "text": [
      "7.8    324\n",
      "8.0    290\n",
      "8.2    282\n",
      "8.3    254\n",
      "8.5    253\n",
      "      ... \n",
      "0.9      2\n",
      "1.9      2\n",
      "1.3      2\n",
      "9.7      1\n",
      "0.0      1\n",
      "Name: user_score, Length: 95, dtype: int64\n"
     ]
    }
   ],
   "source": [
    "data[\"user_score\"] = pd.to_numeric(data['user_score'], errors='coerce')\n",
    "print(data[\"user_score\"].value_counts())"
   ]
  },
  {
   "cell_type": "markdown",
   "metadata": {},
   "source": [
    "Посмортим как изменились типы данных в нашем датасете"
   ]
  },
  {
   "cell_type": "code",
   "execution_count": 7,
   "metadata": {
    "scrolled": true
   },
   "outputs": [
    {
     "name": "stdout",
     "output_type": "stream",
     "text": [
      "<class 'pandas.core.frame.DataFrame'>\n",
      "RangeIndex: 16715 entries, 0 to 16714\n",
      "Data columns (total 11 columns):\n",
      " #   Column           Non-Null Count  Dtype  \n",
      "---  ------           --------------  -----  \n",
      " 0   name             16713 non-null  object \n",
      " 1   platform         16715 non-null  object \n",
      " 2   year_of_release  16446 non-null  Int64  \n",
      " 3   genre            16713 non-null  object \n",
      " 4   na_sales         16715 non-null  float64\n",
      " 5   eu_sales         16715 non-null  float64\n",
      " 6   jp_sales         16715 non-null  float64\n",
      " 7   other_sales      16715 non-null  float64\n",
      " 8   critic_score     8137 non-null   float64\n",
      " 9   user_score       7590 non-null   float64\n",
      " 10  rating           9949 non-null   object \n",
      "dtypes: Int64(1), float64(6), object(4)\n",
      "memory usage: 1.4+ MB\n"
     ]
    }
   ],
   "source": [
    "data.info()"
   ]
  },
  {
   "cell_type": "markdown",
   "metadata": {},
   "source": [
    "Как видим типы данных успешно изменились на более подходящие"
   ]
  },
  {
   "cell_type": "markdown",
   "metadata": {},
   "source": [
    "Определим количество пропущенных значений в каждом столбце датафрейма"
   ]
  },
  {
   "cell_type": "code",
   "execution_count": 8,
   "metadata": {},
   "outputs": [
    {
     "name": "stdout",
     "output_type": "stream",
     "text": [
      "name                  2\n",
      "platform              0\n",
      "year_of_release     269\n",
      "genre                 2\n",
      "na_sales              0\n",
      "eu_sales              0\n",
      "jp_sales              0\n",
      "other_sales           0\n",
      "critic_score       8578\n",
      "user_score         9125\n",
      "rating             6766\n",
      "dtype: int64\n"
     ]
    }
   ],
   "source": [
    "print(data.isna().sum())"
   ]
  },
  {
   "cell_type": "markdown",
   "metadata": {},
   "source": [
    "Поскольку в столбцах \"name\" и \"genre\" всего по 2 пропуска и без них нам сложно будет судить о какой игре или жанре идет речь - удалим эти строки. Пропуски могли возникнуть из-за невнимательного заполнения данных пользователем или из-за технических ошибок (ошибки при загрузке/выгрузке данных и др.)"
   ]
  },
  {
   "cell_type": "code",
   "execution_count": 9,
   "metadata": {},
   "outputs": [],
   "source": [
    "data = data.dropna(subset=['name','genre'])"
   ]
  },
  {
   "cell_type": "markdown",
   "metadata": {},
   "source": [
    "В названиях некоторых игр имеется год, но на практике это не означает, что игра была выпущена именно в этом году, а также одна и та же игра могла выходить в разное время на разных платформах. Рейтинг и оценки нам будет проблематично определить - поскольку они не зависят от других данных и сделать какие-либо прогнозы затруднительно. Поэтому пока оставим пропуски в этих столбцах без изменений. Пропуски в этих столбцах могли возникнуть как по техническим причинам(из-за потери части данных (например, автоматизированная система сбора информации дала сбой) или на этапе загрузки/выгрузки данных была потеряна часть информации), а также пропуски могли возникнуть по причине человеческого фактора - из-за невнимательного заполнения данных пользователем."
   ]
  },
  {
   "cell_type": "markdown",
   "metadata": {},
   "source": [
    "Заполним пропуски в столбце \"rating\" значением «NR» («No Rating») — «Рейтинг отсутствует»"
   ]
  },
  {
   "cell_type": "code",
   "execution_count": 10,
   "metadata": {},
   "outputs": [],
   "source": [
    "data['rating'] = data['rating'].fillna('NR')"
   ]
  },
  {
   "cell_type": "markdown",
   "metadata": {},
   "source": [
    "Посчитаем суммарные продажи во всех регионах и запишем их в отдельный столбец. А также выведем этот столбец на экран"
   ]
  },
  {
   "cell_type": "code",
   "execution_count": 11,
   "metadata": {},
   "outputs": [
    {
     "name": "stdout",
     "output_type": "stream",
     "text": [
      "0        82.54\n",
      "1        40.24\n",
      "2        35.52\n",
      "3        32.77\n",
      "4        31.38\n",
      "         ...  \n",
      "16710     0.01\n",
      "16711     0.01\n",
      "16712     0.01\n",
      "16713     0.01\n",
      "16714     0.01\n",
      "Name: total_sales, Length: 16713, dtype: float64\n"
     ]
    }
   ],
   "source": [
    "data['total_sales'] = data['na_sales'] + data['eu_sales'] + data['jp_sales'] + data['other_sales']\n",
    "print(data['total_sales'])"
   ]
  },
  {
   "cell_type": "markdown",
   "metadata": {},
   "source": [
    "Обновим индексы поскольку некоторые строки таблицы были удалены:"
   ]
  },
  {
   "cell_type": "code",
   "execution_count": 12,
   "metadata": {},
   "outputs": [],
   "source": [
    "data = data.reset_index(drop = True)"
   ]
  },
  {
   "cell_type": "markdown",
   "metadata": {},
   "source": [
    "<b>Вывод: </b> были приведены к нижнему регистру названия всех столбцов, в некоторых столбцах был изменен тип данных на более подходящий, в некоторых были удалены или заменены непонятные значения, а в некоторых были указаны причины по которым замены трудно осуществить, а также высказаны причины по которым могли возникнуть пропуски. Также был создан новый столбец с сумарными продажами."
   ]
  },
  {
   "cell_type": "markdown",
   "metadata": {},
   "source": [
    "### Исследовательский анализ данных"
   ]
  },
  {
   "cell_type": "markdown",
   "metadata": {},
   "source": [
    "Изучим данные о выпуске игр в разные года. Для этого построим гистаграмму, диаграмму типа 'ящик с усами', а также выведем числовое описание данных."
   ]
  },
  {
   "cell_type": "code",
   "execution_count": 13,
   "metadata": {},
   "outputs": [
    {
     "data": {
      "image/png": "[encoded data removed]",
      "text/plain": [
       "<Figure size 432x288 with 1 Axes>"
      ]
     },
     "metadata": {
      "needs_background": "light"
     },
     "output_type": "display_data"
    },
    {
     "data": {
      "image/png": "[encoded data removed]",
      "text/plain": [
       "<Figure size 432x288 with 1 Axes>"
      ]
     },
     "metadata": {
      "needs_background": "light"
     },
     "output_type": "display_data"
    },
    {
     "data": {
      "text/plain": [
       "count    16444.000000\n",
       "mean      2006.486256\n",
       "std          5.875525\n",
       "min       1980.000000\n",
       "25%       2003.000000\n",
       "50%       2007.000000\n",
       "75%       2010.000000\n",
       "max       2016.000000\n",
       "Name: year_of_release, dtype: float64"
      ]
     },
     "execution_count": 13,
     "metadata": {},
     "output_type": "execute_result"
    }
   ],
   "source": [
    "data['year_of_release'].hist(bins = 36)\n",
    "plt.title('Выпуск игр по годам')\n",
    "plt.show()\n",
    "data.boxplot(column='year_of_release')\n",
    "plt.title('Выпуск игр по годам')\n",
    "plt.show()\n",
    "data['year_of_release'].describe()"
   ]
  },
  {
   "cell_type": "markdown",
   "metadata": {},
   "source": [
    "Как мы видим игры стали активно выпускать с начала 90-ых годов и продолжают до нынешнего времени - большинство выпущено с 1993 года по 2016 (заключительный год выпуска игр, предоставленных в нашем датафрейме). При этом самая ранняя игра в нашем датафрейме была выпущена в 1980 году, однако выпуск игр в 80-ых был не столь велик, поэтому данные до 1993 года для нас не столь важны."
   ]
  },
  {
   "cell_type": "markdown",
   "metadata": {},
   "source": [
    "Рассмотрим как менялись продажи игр в зависимости от платформы. Для этого построим график сумарных продаж во всех регионах по всем платформам."
   ]
  },
  {
   "cell_type": "code",
   "execution_count": 14,
   "metadata": {},
   "outputs": [
    {
     "data": {
      "image/png": "[encoded data removed]",
      "text/plain": [
       "<Figure size 720x432 with 1 Axes>"
      ]
     },
     "metadata": {
      "needs_background": "light"
     },
     "output_type": "display_data"
    }
   ],
   "source": [
    "data.pivot_table(index = 'platform', values = 'total_sales', aggfunc = 'sum').sort_values(by='total_sales', ascending = False).plot(kind='bar', figsize = (10,6),xlabel = 'Игровые платформы', ylabel = 'Суммарные продажи по всем регионам')\n",
    "plt.show()"
   ]
  },
  {
   "cell_type": "markdown",
   "metadata": {},
   "source": [
    "Как мы видим самыми популярными платформами являются PS2, X360 и PS3. Построим для кажой из этих платформ график продаж игр по годам."
   ]
  },
  {
   "cell_type": "code",
   "execution_count": 15,
   "metadata": {},
   "outputs": [
    {
     "data": {
      "image/png": "[encoded data removed]",
      "text/plain": [
       "<Figure size 432x288 with 1 Axes>"
      ]
     },
     "metadata": {
      "needs_background": "light"
     },
     "output_type": "display_data"
    },
    {
     "data": {
      "image/png": "[encoded data removed]",
      "text/plain": [
       "<Figure size 432x288 with 1 Axes>"
      ]
     },
     "metadata": {
      "needs_background": "light"
     },
     "output_type": "display_data"
    },
    {
     "data": {
      "image/png": "[encoded data removed]",
      "text/plain": [
       "<Figure size 432x288 with 1 Axes>"
      ]
     },
     "metadata": {
      "needs_background": "light"
     },
     "output_type": "display_data"
    }
   ],
   "source": [
    "data_x360 = data.loc[data[\"platform\"]=='X360']\n",
    "data_x360.pivot_table(index = 'year_of_release', values = 'total_sales', aggfunc = 'sum').plot(kind='bar', figsize = (6,4),xlabel = 'X360', ylabel = 'Суммарные продажи по всем регионам')\n",
    "plt.show()\n",
    "data_ps2 = data.loc[data[\"platform\"]=='PS2']\n",
    "data_ps2.pivot_table(index = 'year_of_release', values = 'total_sales', aggfunc = 'sum').plot(kind='bar', figsize = (6,4),xlabel = 'PS2', ylabel = 'Суммарные продажи по всем регионам')\n",
    "plt.show()\n",
    "data_ps3 = data.loc[data[\"platform\"]=='PS3']\n",
    "data_ps3.pivot_table(index = 'year_of_release', values = 'total_sales', aggfunc = 'sum').plot(kind='bar', figsize = (6,4),xlabel = 'PS3', ylabel = 'Суммарные продажи по всем регионам')\n",
    "plt.show()"
   ]
  },
  {
   "cell_type": "markdown",
   "metadata": {},
   "source": [
    "Наибольшие продажи игр для PS2 пришлись на 2002-2004 года, а для PS3 и X360 пришлись на 2010-2011 год. PS3 и X360 были конкурирующими платформами одного поколения, поэтому пики продаж игр на них приходятся на одни и те же года. А вот PS2 и PS3 являются платформами разных поколений от одного и того же производителя - поэтому на них будет удобнее проследить за какой характерный срок появляются новые и исчезают старые платформы."
   ]
  },
  {
   "cell_type": "markdown",
   "metadata": {},
   "source": [
    "Пики продаж для PS2 и PS3 отличаются на 5-7 лет, а в тот период, когда у PS3 были максимальные продажи игры на PS2 уже практически не выпускались. Для подтверждения нашей теории о сроках преемственности поколений платформ выведем информацию о продажах игр по годам для других платформ от этого же производителя, а именно PS и PS4."
   ]
  },
  {
   "cell_type": "code",
   "execution_count": 16,
   "metadata": {},
   "outputs": [
    {
     "data": {
      "image/png": "[encoded data removed]",
      "text/plain": [
       "<Figure size 432x288 with 1 Axes>"
      ]
     },
     "metadata": {
      "needs_background": "light"
     },
     "output_type": "display_data"
    },
    {
     "data": {
      "image/png": "[encoded data removed]",
      "text/plain": [
       "<Figure size 432x288 with 1 Axes>"
      ]
     },
     "metadata": {
      "needs_background": "light"
     },
     "output_type": "display_data"
    }
   ],
   "source": [
    "data_ps = data.loc[data[\"platform\"]=='PS']\n",
    "data_ps.pivot_table(index = 'year_of_release', values = 'total_sales', aggfunc = 'sum').plot(kind='bar', figsize = (6,4),xlabel = 'PS', ylabel = 'Суммарные продажи по всем регионам')\n",
    "plt.show()\n",
    "data_ps4 = data.loc[data[\"platform\"]=='PS4']\n",
    "data_ps4.pivot_table(index = 'year_of_release', values = 'total_sales', aggfunc = 'sum').plot(kind='bar', figsize = (6,4),xlabel = 'PS4', ylabel = 'Суммарные продажи по всем регионам')\n",
    "plt.show()"
   ]
  },
  {
   "cell_type": "markdown",
   "metadata": {},
   "source": [
    "Как мы видим разница в пиках продаж у соседних поколений игровых систем PS и PS2, а также у PS3 и PS4 также составляет около 4-6 лет (учитывая то, что на момент создания датафрейма PS4 была актульной платформой последнего поколения и пики продаж для нее скорее всего были бы еще несколько ближайших лет). Также для каждой платформы заметно, что в момент пика продаж на новой платформе игры для старой уже практически не актуальны.\\\n",
    "Мы можем сделать вывод о том, что временной интервал актуальности платформы около 5-7 лет, общий срок жизни платформы около 10 лет, выход новых поколений платформ происходит каждые 6-7 лет."
   ]
  },
  {
   "cell_type": "markdown",
   "metadata": {},
   "source": [
    "Актуальным периодом будем считать тот момент когда последняя выпущенная платформа уже стала обгонять предыдущую по продажам за год. Для семейства PlayStation (PS3 и PS4) это будет 2014 год. Посмотрим каким будет результат для семейства Xbox (X360 и XOne) - для того выведем информацию о продажах игр по годам для этих платформ."
   ]
  },
  {
   "cell_type": "code",
   "execution_count": 17,
   "metadata": {},
   "outputs": [
    {
     "data": {
      "image/png": "[encoded data removed]",
      "text/plain": [
       "<Figure size 432x288 with 1 Axes>"
      ]
     },
     "metadata": {
      "needs_background": "light"
     },
     "output_type": "display_data"
    },
    {
     "data": {
      "image/png": "[encoded data removed]",
      "text/plain": [
       "<Figure size 432x288 with 1 Axes>"
      ]
     },
     "metadata": {
      "needs_background": "light"
     },
     "output_type": "display_data"
    }
   ],
   "source": [
    "data_x360 = data.loc[data[\"platform\"]=='X360']\n",
    "data_x360.pivot_table(index = 'year_of_release', values = 'total_sales', aggfunc = 'sum').plot(kind='bar', figsize = (6,4),xlabel = 'X360', ylabel = 'Суммарные продажи по всем регионам')\n",
    "plt.show()\n",
    "data_xone = data.loc[data[\"platform\"]=='XOne']\n",
    "data_xone.pivot_table(index = 'year_of_release', values = 'total_sales', aggfunc = 'sum').plot(kind='bar', figsize = (6,4),xlabel = 'XOne', ylabel = 'Суммарные продажи по всем регионам')\n",
    "plt.show()"
   ]
  },
  {
   "cell_type": "markdown",
   "metadata": {},
   "source": [
    "Как мы видим для семейства Xbox также в 2014 году новая платформа стала обгонять предыдущую. \\\n",
    "Следовательно актуальный период в нашем анализе будет с 2014 года"
   ]
  },
  {
   "cell_type": "markdown",
   "metadata": {},
   "source": [
    "Рассмотрим как менялись продажи игр в зависимости от платформы с 2014 года. Для этого построим график сумарных продаж во всех регионах по всем платформам и определим какие из них актуальны."
   ]
  },
  {
   "cell_type": "code",
   "execution_count": 18,
   "metadata": {
    "scrolled": true
   },
   "outputs": [
    {
     "data": {
      "image/png": "[encoded data removed]",
      "text/plain": [
       "<Figure size 720x360 with 1 Axes>"
      ]
     },
     "metadata": {
      "needs_background": "light"
     },
     "output_type": "display_data"
    }
   ],
   "source": [
    "actual_period = data.loc[data[\"year_of_release\"] >= 2014]\n",
    "actual_period.pivot_table(index = 'platform', values = 'total_sales', aggfunc = 'sum').sort_values(by='total_sales', ascending = False).plot(kind='bar', figsize = (10,5),xlabel = 'Игровые платформы', ylabel = 'Суммарные продажи по всем регионам')\n",
    "plt.show()"
   ]
  },
  {
   "cell_type": "markdown",
   "metadata": {},
   "source": [
    "Как мы видим после 2014 года игры выпускались для 9 платформ (платформой PSP мы пренебрегаем в силу практически нулевых продаж)."
   ]
  },
  {
   "cell_type": "markdown",
   "metadata": {},
   "source": [
    "Посмотрим продажи по каждой платформе за актуальный период и попробуем определить какие тенденции продаж наблюдаются для каждой из них."
   ]
  },
  {
   "cell_type": "code",
   "execution_count": 19,
   "metadata": {},
   "outputs": [
    {
     "data": {
      "image/png": "[encoded data removed]",
      "text/plain": [
       "<Figure size 432x288 with 1 Axes>"
      ]
     },
     "metadata": {
      "needs_background": "light"
     },
     "output_type": "display_data"
    },
    {
     "data": {
      "image/png": "[encoded data removed]",
      "text/plain": [
       "<Figure size 432x288 with 1 Axes>"
      ]
     },
     "metadata": {
      "needs_background": "light"
     },
     "output_type": "display_data"
    },
    {
     "data": {
      "image/png": "[encoded data removed]",
      "text/plain": [
       "<Figure size 432x288 with 1 Axes>"
      ]
     },
     "metadata": {
      "needs_background": "light"
     },
     "output_type": "display_data"
    },
    {
     "data": {
      "image/png": "[encoded data removed]",
      "text/plain": [
       "<Figure size 432x288 with 1 Axes>"
      ]
     },
     "metadata": {
      "needs_background": "light"
     },
     "output_type": "display_data"
    },
    {
     "data": {
      "image/png": "[encoded data removed]",
      "text/plain": [
       "<Figure size 432x288 with 1 Axes>"
      ]
     },
     "metadata": {
      "needs_background": "light"
     },
     "output_type": "display_data"
    },
    {
     "data": {
      "image/png": "[encoded data removed]",
      "text/plain": [
       "<Figure size 432x288 with 1 Axes>"
      ]
     },
     "metadata": {
      "needs_background": "light"
     },
     "output_type": "display_data"
    },
    {
     "data": {
      "image/png": "[encoded data removed]",
      "text/plain": [
       "<Figure size 432x288 with 1 Axes>"
      ]
     },
     "metadata": {
      "needs_background": "light"
     },
     "output_type": "display_data"
    },
    {
     "data": {
      "image/png": "[encoded data removed]",
      "text/plain": [
       "<Figure size 432x288 with 1 Axes>"
      ]
     },
     "metadata": {
      "needs_background": "light"
     },
     "output_type": "display_data"
    },
    {
     "data": {
      "image/png": "[encoded data removed]",
      "text/plain": [
       "<Figure size 432x288 with 1 Axes>"
      ]
     },
     "metadata": {
      "needs_background": "light"
     },
     "output_type": "display_data"
    }
   ],
   "source": [
    "ps4 = actual_period.loc[actual_period[\"platform\"]=='PS4']\n",
    "ps4.pivot_table(index = 'year_of_release', values = 'total_sales', aggfunc = 'sum').plot(kind='bar', figsize = (6,4),xlabel = 'PS4', ylabel = 'Суммарные продажи по всем регионам') \n",
    "plt.show()\n",
    "\n",
    "xone = actual_period.loc[actual_period[\"platform\"]=='XOne']\n",
    "xone.pivot_table(index = 'year_of_release', values = 'total_sales', aggfunc = 'sum').plot(kind='bar', figsize = (6,4),xlabel = 'XOne', ylabel = 'Суммарные продажи по всем регионам') \n",
    "plt.show()\n",
    "\n",
    "ps3 = actual_period.loc[actual_period[\"platform\"]=='PS3']\n",
    "ps3.pivot_table(index = 'year_of_release', values = 'total_sales', aggfunc = 'sum').plot(kind='bar', figsize = (6,4),xlabel = 'PS3', ylabel = 'Суммарные продажи по всем регионам') \n",
    "plt.show()\n",
    "\n",
    "x360 = actual_period.loc[actual_period[\"platform\"]=='X360']\n",
    "x360.pivot_table(index = 'year_of_release', values = 'total_sales', aggfunc = 'sum').plot(kind='bar', figsize = (6,4),xlabel = 'X360', ylabel = 'Суммарные продажи по всем регионам') \n",
    "plt.show()\n",
    "\n",
    "three_ds = actual_period.loc[actual_period[\"platform\"]=='3DS']\n",
    "three_ds.pivot_table(index = 'year_of_release', values = 'total_sales', aggfunc = 'sum').plot(kind='bar', figsize = (6,4),xlabel = '3DS', ylabel = 'Суммарные продажи по всем регионам') \n",
    "plt.show()\n",
    "\n",
    "pc = actual_period.loc[actual_period[\"platform\"]=='PC']\n",
    "pc.pivot_table(index = 'year_of_release', values = 'total_sales', aggfunc = 'sum').plot(kind='bar', figsize = (6,4),xlabel = 'PC', ylabel = 'Суммарные продажи по всем регионам')\n",
    "plt.show()\n",
    "\n",
    "psv = actual_period.loc[actual_period[\"platform\"]=='PSV']\n",
    "psv.pivot_table(index = 'year_of_release', values = 'total_sales', aggfunc = 'sum').plot(kind='bar', figsize = (6,4),xlabel = 'PSV', ylabel = 'Суммарные продажи по всем регионам')\n",
    "plt.show()\n",
    "\n",
    "wii = actual_period.loc[actual_period[\"platform\"]=='Wii']\n",
    "wii.pivot_table(index = 'year_of_release', values = 'total_sales', aggfunc = 'sum').plot(kind='bar', figsize = (6,4),xlabel = 'Wii', ylabel = 'Суммарные продажи по всем регионам')\n",
    "plt.show()\n",
    "\n",
    "wiiu = actual_period.loc[actual_period[\"platform\"]=='WiiU']\n",
    "wiiu.pivot_table(index = 'year_of_release', values = 'total_sales', aggfunc = 'sum').plot(kind='bar', figsize = (6,4),xlabel = 'WiiU', ylabel = 'Суммарные продажи по всем регионам')\n",
    "plt.show()\n"
   ]
  },
  {
   "cell_type": "markdown",
   "metadata": {},
   "source": [
    "Лидируют по продажам платформы PS4 и XOne, они же и являются актуальными и растущимими в рассматриваемом нами актуальном периоде, но в заключительный из предоставленных 2016 год на обеих платформах наблюдается спад - однако это может объясняться тем, что предоставленные нам данные сформированы не на конец 2016 года или не были учтены данные о всех продажах за этот год (например, не по всем регионам предоставлена статистика за весь 2016 год).\\\n",
    "Для всех остальных рассмотренных нами платформ наблюдается одна и таже картина спада - продажи за заключительный 2015 год, в данных за который мы уверены, ощутимо ниже чем за 2014.\\\n",
    "Поэтому к категории растущих мы можем (с некоторыми допущениями о формировании данных за 2016 год) отнести только PS4 и XOne.\n",
    "Их же мы и будем считать потенциально прибыльными."
   ]
  },
  {
   "cell_type": "markdown",
   "metadata": {},
   "source": [
    "Построим график «ящик с усами» по глобальным продажам игр в разбивке по платформам за актуальный период."
   ]
  },
  {
   "cell_type": "code",
   "execution_count": 20,
   "metadata": {},
   "outputs": [
    {
     "data": {
      "image/png": "[encoded data removed]",
      "text/plain": [
       "<Figure size 1080x1080 with 1 Axes>"
      ]
     },
     "metadata": {
      "needs_background": "light"
     },
     "output_type": "display_data"
    }
   ],
   "source": [
    "actual_period.boxplot(column = 'total_sales', by = \"platform\", figsize = (15, 15))\n",
    "plt.title('Суммарные продажи по всем регионам')\n",
    "plt.show()"
   ]
  },
  {
   "cell_type": "markdown",
   "metadata": {},
   "source": [
    "На полученных графиках мы видим, что большинство игр для 3DS, PC, PS3, PSP, PSV, Wii имеют продажи меньше 1 млн, на PS4, WiiU, X360, XOne большинство игр имеют продажи до 2 млн. Однако для каждой платформы имеются игры с весьма или очень высокими продажами - например, на PS4 есть игры с продажами более 14 млн. Самые же скромные продажи у PSP и PSV (что вполне логично, т.к. это мобильные консоли)"
   ]
  },
  {
   "cell_type": "markdown",
   "metadata": {},
   "source": [
    "Посмотрим как влияют на продажи внутри одной популярной платформы (например, PS4) отзывы пользователей и критиков: построим диаграмму рассеяния, а также посчитаем корреляцию между отзывами и продажами."
   ]
  },
  {
   "cell_type": "code",
   "execution_count": 21,
   "metadata": {},
   "outputs": [
    {
     "data": {
      "image/png": "[encoded data removed]",
      "text/plain": [
       "<Figure size 432x288 with 1 Axes>"
      ]
     },
     "metadata": {
      "needs_background": "light"
     },
     "output_type": "display_data"
    },
    {
     "name": "stdout",
     "output_type": "stream",
     "text": [
      "0.40266141068104083\n"
     ]
    },
    {
     "data": {
      "image/png": "[encoded data removed]",
      "text/plain": [
       "<Figure size 432x288 with 1 Axes>"
      ]
     },
     "metadata": {
      "needs_background": "light"
     },
     "output_type": "display_data"
    },
    {
     "name": "stdout",
     "output_type": "stream",
     "text": [
      "-0.040131589472697356\n"
     ]
    }
   ],
   "source": [
    "ps4.plot(kind='scatter', y = 'total_sales', x = \"critic_score\", xlabel = 'Оценки критиков', ylabel = 'Суммарные продажи по всем регионам')\n",
    "plt.show()\n",
    "print(ps4['total_sales'].corr(ps4['critic_score']))\n",
    "ps4.plot(kind='scatter', y = 'total_sales', x = \"user_score\", xlabel = 'Оценки пользователей', ylabel = 'Суммарные продажи по всем регионам')\n",
    "plt.show()\n",
    "print(ps4['total_sales'].corr(ps4['user_score']))"
   ]
  },
  {
   "cell_type": "markdown",
   "metadata": {},
   "source": [
    "Как мы видим зависимость продаж от оценок критиков весьма мала, а зависимость продаж от оценок пользователей практически отсутствует. Чтобы подтвердить нашу теорию о малой зависимости между продажами и оценками посмотрим как обстоят дела на другой популярной платформе - XOne."
   ]
  },
  {
   "cell_type": "code",
   "execution_count": 22,
   "metadata": {},
   "outputs": [
    {
     "data": {
      "image/png": "[encoded data removed]",
      "text/plain": [
       "<Figure size 432x288 with 1 Axes>"
      ]
     },
     "metadata": {
      "needs_background": "light"
     },
     "output_type": "display_data"
    },
    {
     "name": "stdout",
     "output_type": "stream",
     "text": [
      "0.42867694370333226\n"
     ]
    },
    {
     "data": {
      "image/png": "[encoded data removed]",
      "text/plain": [
       "<Figure size 432x288 with 1 Axes>"
      ]
     },
     "metadata": {
      "needs_background": "light"
     },
     "output_type": "display_data"
    },
    {
     "name": "stdout",
     "output_type": "stream",
     "text": [
      "-0.0703839280647581\n"
     ]
    }
   ],
   "source": [
    "xone.plot(kind='scatter', y = 'total_sales', x = \"critic_score\", xlabel = 'Оценки критиков', ylabel = 'Суммарные продажи по всем регионам')\n",
    "plt.show()\n",
    "print(xone['total_sales'].corr(xone['critic_score']))\n",
    "xone.plot(kind='scatter', y = 'total_sales', x = \"user_score\", xlabel = 'Оценки пользователей', ylabel = 'Суммарные продажи по всем регионам')\n",
    "plt.show()\n",
    "print(xone['total_sales'].corr(xone['user_score']))"
   ]
  },
  {
   "cell_type": "markdown",
   "metadata": {},
   "source": [
    "Наблюдаем аналогичную картину и для XOne - слабая корреция между оценками критиков и продажами и почти полное отсутствие корреляции между продажами и оценками пользователей. Дабы удостовериться, что такая ситуация характерна для всех платформ, построим аналогичные графики и сделаем расчет коэффициентов корреции для всего датасета за актуальный период."
   ]
  },
  {
   "cell_type": "code",
   "execution_count": 23,
   "metadata": {},
   "outputs": [
    {
     "data": {
      "image/png": "[encoded data removed]",
      "text/plain": [
       "<Figure size 432x288 with 1 Axes>"
      ]
     },
     "metadata": {
      "needs_background": "light"
     },
     "output_type": "display_data"
    },
    {
     "name": "stdout",
     "output_type": "stream",
     "text": [
      "0.328105086966363\n"
     ]
    },
    {
     "data": {
      "image/png": "[encoded data removed]",
      "text/plain": [
       "<Figure size 432x288 with 1 Axes>"
      ]
     },
     "metadata": {
      "needs_background": "light"
     },
     "output_type": "display_data"
    },
    {
     "name": "stdout",
     "output_type": "stream",
     "text": [
      "-0.013070305002484585\n"
     ]
    }
   ],
   "source": [
    "actual_period.plot(kind='scatter', y = 'total_sales', x = \"critic_score\", xlabel = 'Оценки критиков', ylabel = 'Суммарные продажи по всем регионам')\n",
    "plt.show()\n",
    "print(actual_period['total_sales'].corr(actual_period['critic_score']))\n",
    "actual_period.plot(kind='scatter', y = 'total_sales', x = \"user_score\", xlabel = 'Оценки пользователей', ylabel = 'Суммарные продажи по всем регионам')\n",
    "plt.show()\n",
    "print(actual_period['total_sales'].corr(actual_period['user_score']))"
   ]
  },
  {
   "cell_type": "markdown",
   "metadata": {},
   "source": [
    "Как мы видим для всех платформ характерна слабая корреляция между между оценками критиков и продажами и почти полное отсутствие корреляции между продажами и оценками пользователей."
   ]
  },
  {
   "cell_type": "markdown",
   "metadata": {},
   "source": [
    "Посмотрим на общее распределение игр по жанрам и определим самые прибыльные жанры, а также посмотрим выделяются ли жанры с высокими и низкими продажами"
   ]
  },
  {
   "cell_type": "code",
   "execution_count": 24,
   "metadata": {},
   "outputs": [
    {
     "data": {
      "image/png": "[encoded data removed]",
      "text/plain": [
       "<Figure size 720x432 with 1 Axes>"
      ]
     },
     "metadata": {
      "needs_background": "light"
     },
     "output_type": "display_data"
    }
   ],
   "source": [
    "actual_period.pivot_table(index = 'genre', values = 'total_sales', aggfunc = 'median').sort_values(by='total_sales', ascending = False).plot(kind='bar', figsize = (10,6),xlabel = 'Игровые жанры', ylabel = 'Медианные продажи по всем регионам')\n",
    "plt.show()"
   ]
  },
  {
   "cell_type": "markdown",
   "metadata": {},
   "source": [
    "Как мы видим самый популярный и прибыльный жанр это \"Shooter\", за ними следуют \"Sports\" и \"Platform\", а остальные жанры имеют еще меньшие медианные продажи. Самыми же непопулярными жанрами являются \"Puzzle\" и \"Adventure\"."
   ]
  },
  {
   "cell_type": "markdown",
   "metadata": {},
   "source": [
    "<b>Вывод: </b> были определены наиболее популярные и перспективные на актуальный момент платформы - ими оказались PS4 и XOne, определено число продаж по всем регионам для актуальных платформ, изучено влияние оценок критиков и пользователей на продажи игр - было определено, что оно весьма мало, а также были определены наиболее популярные и прибыльные жанры - ими оказались \"Shooter\", \"Sports\" и \"Platform\", а наименее популярными и прибыльными жанрами оказались \"Puzzle\" и \"Adventure\"."
   ]
  },
  {
   "cell_type": "markdown",
   "metadata": {},
   "source": [
    "### Портрет пользователя каждого региона"
   ]
  },
  {
   "cell_type": "markdown",
   "metadata": {},
   "source": [
    "Определим для пользователя каждого региона (NA, EU, JP) cамые популярные платформы."
   ]
  },
  {
   "cell_type": "code",
   "execution_count": 25,
   "metadata": {},
   "outputs": [
    {
     "data": {
      "image/png": "[encoded data removed]",
      "text/plain": [
       "<Figure size 720x432 with 1 Axes>"
      ]
     },
     "metadata": {
      "needs_background": "light"
     },
     "output_type": "display_data"
    },
    {
     "data": {
      "image/png": "[encoded data removed]",
      "text/plain": [
       "<Figure size 720x432 with 1 Axes>"
      ]
     },
     "metadata": {
      "needs_background": "light"
     },
     "output_type": "display_data"
    },
    {
     "data": {
      "image/png": "[encoded data removed]",
      "text/plain": [
       "<Figure size 720x432 with 1 Axes>"
      ]
     },
     "metadata": {
      "needs_background": "light"
     },
     "output_type": "display_data"
    }
   ],
   "source": [
    "actual_period.pivot_table(index = 'platform', values = 'na_sales', aggfunc = 'sum').sort_values(by='na_sales', ascending = False).plot(kind='bar', figsize = (10,6),xlabel = 'Игровые платформы', ylabel = 'Млн шт', title = 'Продажи в NA')\n",
    "plt.show()\n",
    "actual_period.pivot_table(index = 'platform', values = 'eu_sales', aggfunc = 'sum').sort_values(by='eu_sales', ascending = False).plot(kind='bar', figsize = (10,6),xlabel = 'Игровые платформы', ylabel = 'Млн шт', title = 'Продажи в EU')\n",
    "plt.show()\n",
    "actual_period.pivot_table(index = 'platform', values = 'jp_sales', aggfunc = 'sum').sort_values(by='jp_sales', ascending = False).plot(kind='bar', figsize = (10,6),xlabel = 'Игровые платформы', ylabel = 'Млн шт', title = 'Продажи в JP')\n",
    "plt.show()"
   ]
  },
  {
   "cell_type": "markdown",
   "metadata": {},
   "source": [
    "Как мы видим в Северной Америке (NA) наибольшая популярность у PS4, немного отстает от неё XOne, далее с существенным отставанием следуют X360, 3DS и PS3, остальные платформы отстают от лидеров в разы.\n",
    "В Европе (EU) также лидирует PS4, XOne идет на втором месте, но уже существенно отстает от первого, затем идет PS3, PC, 3DS и X360, остальные платформы также существенно отстают от лидера.\n",
    "В Японии (JP) наибольшая популярность у 3DS, PS4 идет на втором месте и отстает от нее в несколько раз, следом идет PSV, затем PS3 и WiiU, а вот XOne в Японии не пользуется большой популярностью и находится на одном из последних мест по продажам."
   ]
  },
  {
   "cell_type": "markdown",
   "metadata": {},
   "source": [
    "Определим для пользователя каждого региона (NA, EU, JP) самые популярные жанры"
   ]
  },
  {
   "cell_type": "code",
   "execution_count": 26,
   "metadata": {},
   "outputs": [
    {
     "data": {
      "image/png": "[encoded data removed]",
      "text/plain": [
       "<Figure size 720x432 with 1 Axes>"
      ]
     },
     "metadata": {
      "needs_background": "light"
     },
     "output_type": "display_data"
    },
    {
     "data": {
      "image/png": "[encoded data removed]",
      "text/plain": [
       "<Figure size 720x432 with 1 Axes>"
      ]
     },
     "metadata": {
      "needs_background": "light"
     },
     "output_type": "display_data"
    },
    {
     "data": {
      "image/png": "[encoded data removed]",
      "text/plain": [
       "<Figure size 720x432 with 1 Axes>"
      ]
     },
     "metadata": {
      "needs_background": "light"
     },
     "output_type": "display_data"
    }
   ],
   "source": [
    "actual_period.pivot_table(index = 'genre', values = 'na_sales', aggfunc = 'sum').sort_values(by='na_sales', ascending = False).plot(kind='bar', figsize = (10,6),xlabel = 'Игровые жанры', ylabel = 'Млн шт', title = 'Продажи в NA')\n",
    "plt.show()\n",
    "actual_period.pivot_table(index = 'genre', values = 'eu_sales', aggfunc = 'sum').sort_values(by='eu_sales', ascending = False).plot(kind='bar', figsize = (10,6),xlabel = 'Игровые жанры', ylabel = 'Млн шт', title = 'Продажи в EU')\n",
    "plt.show()\n",
    "actual_period.pivot_table(index = 'genre', values = 'jp_sales', aggfunc = 'sum').sort_values(by='jp_sales', ascending = False).plot(kind='bar', figsize = (10,6),xlabel = 'Игровые жанры', ylabel = 'Млн шт', title = 'Продажи в JP')\n",
    "plt.show()"
   ]
  },
  {
   "cell_type": "markdown",
   "metadata": {},
   "source": [
    "Как мы видим самым популярным жанром в Северной Америке (NA) является Shooter, слегка отстают игры в жанре Action, далее следует Sports, Role-Playing и Misc, остальные жанры отстают от лидеров в разы. В Европе (EU) наибольшая популярность у Action игр, далее идут игры в жанре Shooter, а затем Sports, Role-Playing и Racing. В Японии (JP) наибольшая популярность у Role-Playing и Action, далее следуют с существенным отставанием игры в жанре Fighting, Misc и Shooter."
   ]
  },
  {
   "cell_type": "markdown",
   "metadata": {},
   "source": [
    "Посмотрим как влияет рейтинг ESRB на продажи в каждом регионе"
   ]
  },
  {
   "cell_type": "code",
   "execution_count": 27,
   "metadata": {},
   "outputs": [
    {
     "data": {
      "image/png": "[encoded data removed]",
      "text/plain": [
       "<Figure size 720x432 with 1 Axes>"
      ]
     },
     "metadata": {
      "needs_background": "light"
     },
     "output_type": "display_data"
    },
    {
     "data": {
      "image/png": "[encoded data removed]",
      "text/plain": [
       "<Figure size 720x432 with 1 Axes>"
      ]
     },
     "metadata": {
      "needs_background": "light"
     },
     "output_type": "display_data"
    },
    {
     "data": {
      "image/png": "[encoded data removed]",
      "text/plain": [
       "<Figure size 720x432 with 1 Axes>"
      ]
     },
     "metadata": {
      "needs_background": "light"
     },
     "output_type": "display_data"
    }
   ],
   "source": [
    "actual_period.pivot_table(index = 'rating', values = 'na_sales', aggfunc = 'sum').sort_values(by='na_sales', ascending = False).plot(kind='bar', figsize = (10,6),xlabel = 'Рейтинг', ylabel = 'Млн шт', title = 'Продажи в NA')\n",
    "plt.show()\n",
    "actual_period.pivot_table(index = 'rating', values = 'eu_sales', aggfunc = 'sum').sort_values(by='eu_sales', ascending = False).plot(kind='bar', figsize = (10,6),xlabel = 'Рейтинг', ylabel = 'Млн шт', title = 'Продажи в EU')\n",
    "plt.show()\n",
    "actual_period.pivot_table(index = 'rating', values = 'jp_sales', aggfunc = 'sum').sort_values(by='jp_sales', ascending = False).plot(kind='bar', figsize = (10,6),xlabel = 'Рейтинг', ylabel = 'Млн шт', title = 'Продажи в JP')\n",
    "plt.show()"
   ]
  },
  {
   "cell_type": "markdown",
   "metadata": {},
   "source": [
    "Как мы видим в Северной Америке (NA) больше всего продается игр с рейтингом M («Mature») — «Для взрослых», далее идут игры без рейтинга NR, примерно в половину меньше по сравнению с  лидером игр с рейтингом Е («Everyone») — «Для всех» и еще чуть меньше с рейтингами Т («Teen») — «Подросткам» и E10+ («Everyone 10 and older») — «Для всех от 10 лет и старше». В Европе (EU) аналогичная картина, что и в Северной Америке. В Японии (JP) же больше всего игр без рейтинга, с большим отставанием идут игры с рейтингом Т, далее идут игры с рейтингами Е и М, а меньше всего с рейтингом E10+."
   ]
  },
  {
   "cell_type": "markdown",
   "metadata": {},
   "source": [
    "<b>Вывод: </b> В Северной Америке (NA) пользователи чаще всего предпочитают играть на PS4 и XOne в игры в жанрах Shooter и Action с рейтингом М. В Европе (EU) похожая картина, только пользователи ощутимо чаще выбирают PS4 в качестве игровой платформы и Action игры чуть более популярны чем Shooter игры, но наиболее популярный рейтинг игр все также М. В Японии (JP) же все иначе: наибольшая популярность у платформы 3DS, а только затем с ощутимым отставанием идет PS4, наибольшая популярность у игр в жанре Role-Playing и Action без рейтинга."
   ]
  },
  {
   "cell_type": "markdown",
   "metadata": {},
   "source": [
    "### Проверка гипотез"
   ]
  },
  {
   "cell_type": "markdown",
   "metadata": {},
   "source": [
    "Проверим гипотезу, что средние пользовательские рейтинги платформ Xbox One и PC одинаковые"
   ]
  },
  {
   "cell_type": "markdown",
   "metadata": {},
   "source": [
    "Сформулируем гипотезы:\\\n",
    "Нулевая гипотеза H₀: средние пользовательские рейтинги платформ Xbox One и PC одинаковые\\\n",
    "Альтернативная гипотеза H₁: средние пользовательские рейтинги платформ Xbox One и PC разные\\\n",
    "Зададим пороговое значение alpha = 5%\\\n",
    "При выборе метода проверки гипотезы учитываем то, что рассматриваемые нами совокупности не зависят друг от друга"
   ]
  },
  {
   "cell_type": "code",
   "execution_count": 28,
   "metadata": {},
   "outputs": [
    {
     "name": "stdout",
     "output_type": "stream",
     "text": [
      "Средний пользовательский рейтинг PC: 6.298360655737704\n",
      "Средний пользовательский рейтинг XOne: 6.594545454545454\n",
      "p-значение: 0.11601398086668943\n",
      "Не получилось отвергнуть нулевую гипотезу\n"
     ]
    }
   ],
   "source": [
    "print('Средний пользовательский рейтинг PC:', pc['user_score'].mean())\n",
    "print('Средний пользовательский рейтинг XOne:', xone['user_score'].mean())\n",
    "\n",
    "alpha = 0.05\n",
    "results = st.ttest_ind(pc['user_score'], xone['user_score'], equal_var = False, nan_policy = 'omit')\n",
    "\n",
    "print('p-значение:', results.pvalue)\n",
    "\n",
    "if results.pvalue < alpha: \n",
    "    print(\"Отвергаем нулевую гипотезу\")\n",
    "else:\n",
    "    print(\"Не получилось отвергнуть нулевую гипотезу\")"
   ]
  },
  {
   "cell_type": "markdown",
   "metadata": {},
   "source": [
    "Как мы видим нам не удалось отвергнуть нулевую гипотезу, следовательно средние пользовательские рейтинги платформ XOne и PC не имеют статистически значимых отличий"
   ]
  },
  {
   "cell_type": "markdown",
   "metadata": {},
   "source": [
    "Проверим гипотезу, что средние пользовательские рейтинги жанров Action и Sports разные"
   ]
  },
  {
   "cell_type": "markdown",
   "metadata": {},
   "source": [
    "Сформулируем гипотезы:\\\n",
    "Нулевая гипотеза H₀: средние пользовательские рейтинги жанров Action и Sports одинаковые\\\n",
    "Альтернативная гипотеза H₁: средние пользовательские рейтинги жанров Action и Sports разные\\\n",
    "Зададим пороговое значение alpha = 5%\\\n",
    "При выборе метода проверки гипотезы учитываем то, что рассматриваемые нами совокупности не зависят друг от друга"
   ]
  },
  {
   "cell_type": "code",
   "execution_count": 29,
   "metadata": {},
   "outputs": [
    {
     "name": "stdout",
     "output_type": "stream",
     "text": [
      "Средний пользовательский рейтинг Action: 6.760606060606061\n",
      "Средний пользовательский Sports: 5.225196850393701\n",
      "p-значение: 1.182555038264477e-14\n",
      "Отвергаем нулевую гипотезу\n"
     ]
    }
   ],
   "source": [
    "action = actual_period.loc[actual_period[\"genre\"]=='Action']\n",
    "sports = actual_period.loc[actual_period[\"genre\"]=='Sports']\n",
    "print('Средний пользовательский рейтинг Action:',action['user_score'].mean())\n",
    "print('Средний пользовательский Sports:', sports['user_score'].mean())\n",
    "\n",
    "alpha = 0.05\n",
    "results = st.ttest_ind(action['user_score'], sports['user_score'], equal_var = False, nan_policy = 'omit')\n",
    "\n",
    "print('p-значение:', results.pvalue)\n",
    "\n",
    "if results.pvalue < alpha: \n",
    "    print(\"Отвергаем нулевую гипотезу\")\n",
    "else:\n",
    "    print(\"Не получилось отвергнуть нулевую гипотезу\")"
   ]
  },
  {
   "cell_type": "markdown",
   "metadata": {},
   "source": [
    "Как мы видим нам удалось отвергнуть нулевую гипотезу, следовательно средние пользовательские рейтинги жанров Action и Sports имеют статистически значимые отличия"
   ]
  },
  {
   "cell_type": "markdown",
   "metadata": {},
   "source": [
    "<b>Вывод: </b> мы проверили гипотезы и определили, что средние пользовательские рейтинги платформ Xbox One и PC не имеют статистически значимых отличий, а средние пользовательские рейтинги жанров Action и Sports имеют статистически значимые отличия."
   ]
  },
  {
   "cell_type": "markdown",
   "metadata": {},
   "source": [
    "### Общий вывод"
   ]
  },
  {
   "cell_type": "markdown",
   "metadata": {},
   "source": [
    "Мы определили, что наиболее популярные и перспективные на актуальный момент платформы PS4 и XOne, определили число продаж по всем регионам для актуальных платформ, изучили влияние оценок критиков и пользователей на продажи игр - было определено, что оно весьма мало, а также определили наиболее популярные и прибыльные жанры - ими оказались \"Shooter\", \"Sports\" и \"Platform\", а наименее популярными и прибыльными жанрами оказались \"Puzzle\" и \"Adventure\". Узнали, что в Северной Америке пользователи чаще всего предпочитают играть на PS4 и XOne в игры в жанрах Shooter и Action с рейтингом М. В Европе пользователи ощутимо чаще выбирают PS4 в качестве игровой платформы и Action игры чуть более популярны чем Shooter игры, наиболее популярный рейтинг игр М. В Японии наибольшая популярность у платформы 3DS, а только затем с ощутимым отставанием идет PS4, наибольшая популярность у игр в жанре Role-Playing и Action без рейтинга. А также мы проверили гипотезы и определили, что средние пользовательские рейтинги платформ Xbox One и PC не имеют статистически значимых отличий, а средние пользовательские рейтинги жанров Action и Sports имеют статистически значимые отличия.\\\n",
    "В 2017 году следует сконцентрировать внимание на играх в жанрах \"Shooter\" для платформ PS4 и XOne, при этом следует учитывать региональную специфику и то, с каким рынком придется работать, т.к. японский рынок по многим параметрам отличается от американского и европейского."
   ]
  }
 ],
 "metadata": {
  "ExecuteTimeLog": [
   {
    "duration": 850,
    "start_time": "2022-11-01T11:41:19.720Z"
   },
   {
    "duration": 132,
    "start_time": "2022-11-01T11:42:33.553Z"
   },
   {
    "duration": 63,
    "start_time": "2022-11-01T11:42:53.873Z"
   },
   {
    "duration": 79,
    "start_time": "2022-11-01T11:43:02.671Z"
   },
   {
    "duration": 77,
    "start_time": "2022-11-01T11:43:46.984Z"
   },
   {
    "duration": 76,
    "start_time": "2022-11-01T11:44:43.733Z"
   },
   {
    "duration": 9,
    "start_time": "2022-11-01T11:47:50.193Z"
   },
   {
    "duration": 86,
    "start_time": "2022-11-01T11:57:00.075Z"
   },
   {
    "duration": 18,
    "start_time": "2022-11-01T12:06:47.269Z"
   },
   {
    "duration": 13,
    "start_time": "2022-11-01T12:11:24.141Z"
   },
   {
    "duration": 12,
    "start_time": "2022-11-01T12:11:41.420Z"
   },
   {
    "duration": 4,
    "start_time": "2022-11-01T12:12:02.060Z"
   },
   {
    "duration": 15,
    "start_time": "2022-11-01T12:12:18.581Z"
   },
   {
    "duration": 5,
    "start_time": "2022-11-01T12:12:34.222Z"
   },
   {
    "duration": 7,
    "start_time": "2022-11-01T12:13:16.243Z"
   },
   {
    "duration": 802,
    "start_time": "2022-11-01T12:13:20.116Z"
   },
   {
    "duration": 14,
    "start_time": "2022-11-01T12:13:52.830Z"
   },
   {
    "duration": 42,
    "start_time": "2022-11-01T12:17:08.500Z"
   },
   {
    "duration": 5,
    "start_time": "2022-11-01T12:17:22.948Z"
   },
   {
    "duration": 14,
    "start_time": "2022-11-01T12:17:45.449Z"
   },
   {
    "duration": 10,
    "start_time": "2022-11-01T12:22:19.237Z"
   },
   {
    "duration": 23,
    "start_time": "2022-11-01T12:22:55.541Z"
   },
   {
    "duration": 27,
    "start_time": "2022-11-01T12:23:18.241Z"
   },
   {
    "duration": 19,
    "start_time": "2022-11-01T12:24:38.520Z"
   },
   {
    "duration": 21,
    "start_time": "2022-11-01T12:25:23.308Z"
   },
   {
    "duration": 9,
    "start_time": "2022-11-01T12:25:48.827Z"
   },
   {
    "duration": 8,
    "start_time": "2022-11-01T12:26:21.051Z"
   },
   {
    "duration": 8,
    "start_time": "2022-11-01T12:26:30.758Z"
   },
   {
    "duration": 11,
    "start_time": "2022-11-01T12:26:38.470Z"
   },
   {
    "duration": 7,
    "start_time": "2022-11-01T12:28:41.030Z"
   },
   {
    "duration": 80,
    "start_time": "2022-11-01T12:31:38.259Z"
   },
   {
    "duration": 82,
    "start_time": "2022-11-01T12:31:46.964Z"
   },
   {
    "duration": 123,
    "start_time": "2022-11-01T12:32:22.719Z"
   },
   {
    "duration": 815,
    "start_time": "2022-11-01T12:36:06.128Z"
   },
   {
    "duration": 1019,
    "start_time": "2022-11-01T12:36:30.206Z"
   },
   {
    "duration": 634,
    "start_time": "2022-11-01T12:36:41.259Z"
   },
   {
    "duration": 95,
    "start_time": "2022-11-01T12:36:41.895Z"
   },
   {
    "duration": 6,
    "start_time": "2022-11-01T12:36:41.994Z"
   },
   {
    "duration": 11,
    "start_time": "2022-11-01T12:36:42.002Z"
   },
   {
    "duration": 22,
    "start_time": "2022-11-01T12:36:42.015Z"
   },
   {
    "duration": 20,
    "start_time": "2022-11-01T12:36:42.039Z"
   },
   {
    "duration": 16,
    "start_time": "2022-11-01T12:36:42.061Z"
   },
   {
    "duration": 9,
    "start_time": "2022-11-01T12:38:04.151Z"
   },
   {
    "duration": 7,
    "start_time": "2022-11-01T12:38:23.392Z"
   },
   {
    "duration": 7,
    "start_time": "2022-11-01T12:38:41.126Z"
   },
   {
    "duration": 7,
    "start_time": "2022-11-01T12:39:31.225Z"
   },
   {
    "duration": 5,
    "start_time": "2022-11-01T12:39:42.944Z"
   },
   {
    "duration": 6,
    "start_time": "2022-11-01T12:39:54.975Z"
   },
   {
    "duration": 651,
    "start_time": "2022-11-01T12:40:00.701Z"
   },
   {
    "duration": 103,
    "start_time": "2022-11-01T12:40:01.354Z"
   },
   {
    "duration": 4,
    "start_time": "2022-11-01T12:40:01.458Z"
   },
   {
    "duration": 20,
    "start_time": "2022-11-01T12:40:01.464Z"
   },
   {
    "duration": 23,
    "start_time": "2022-11-01T12:40:01.487Z"
   },
   {
    "duration": 50,
    "start_time": "2022-11-01T12:40:01.512Z"
   },
   {
    "duration": 41,
    "start_time": "2022-11-01T12:40:01.564Z"
   },
   {
    "duration": 6,
    "start_time": "2022-11-01T12:43:45.982Z"
   },
   {
    "duration": 6,
    "start_time": "2022-11-01T12:44:03.467Z"
   },
   {
    "duration": 6,
    "start_time": "2022-11-01T12:51:07.002Z"
   },
   {
    "duration": 603,
    "start_time": "2022-11-01T14:20:56.765Z"
   },
   {
    "duration": 101,
    "start_time": "2022-11-01T14:20:57.370Z"
   },
   {
    "duration": 4,
    "start_time": "2022-11-01T14:20:57.473Z"
   },
   {
    "duration": 10,
    "start_time": "2022-11-01T14:20:57.479Z"
   },
   {
    "duration": 7,
    "start_time": "2022-11-01T14:20:57.490Z"
   },
   {
    "duration": 73,
    "start_time": "2022-11-01T14:20:57.498Z"
   },
   {
    "duration": 0,
    "start_time": "2022-11-01T14:20:57.573Z"
   },
   {
    "duration": 89,
    "start_time": "2022-11-01T14:25:20.468Z"
   },
   {
    "duration": 11,
    "start_time": "2022-11-01T14:25:27.328Z"
   },
   {
    "duration": 9,
    "start_time": "2022-11-01T14:26:08.759Z"
   },
   {
    "duration": 13,
    "start_time": "2022-11-01T14:26:30.207Z"
   },
   {
    "duration": 41,
    "start_time": "2022-11-01T15:40:43.180Z"
   },
   {
    "duration": 771,
    "start_time": "2022-11-01T15:40:49.654Z"
   },
   {
    "duration": 557,
    "start_time": "2022-11-01T15:40:50.427Z"
   },
   {
    "duration": 5,
    "start_time": "2022-11-01T15:40:50.985Z"
   },
   {
    "duration": 12,
    "start_time": "2022-11-01T15:40:50.992Z"
   },
   {
    "duration": 9,
    "start_time": "2022-11-01T15:40:51.007Z"
   },
   {
    "duration": 15,
    "start_time": "2022-11-01T15:40:51.021Z"
   },
   {
    "duration": 14,
    "start_time": "2022-11-01T15:40:51.038Z"
   },
   {
    "duration": 10,
    "start_time": "2022-11-01T15:40:51.054Z"
   },
   {
    "duration": 92,
    "start_time": "2022-11-01T15:41:28.126Z"
   },
   {
    "duration": 10,
    "start_time": "2022-11-01T15:41:34.800Z"
   },
   {
    "duration": 12,
    "start_time": "2022-11-01T15:41:38.408Z"
   },
   {
    "duration": 19,
    "start_time": "2022-11-01T15:43:37.772Z"
   },
   {
    "duration": 9,
    "start_time": "2022-11-01T15:43:54.910Z"
   },
   {
    "duration": 12,
    "start_time": "2022-11-01T15:44:06.942Z"
   },
   {
    "duration": 576,
    "start_time": "2022-11-01T15:44:19.156Z"
   },
   {
    "duration": 92,
    "start_time": "2022-11-01T15:44:19.734Z"
   },
   {
    "duration": 5,
    "start_time": "2022-11-01T15:44:19.827Z"
   },
   {
    "duration": 11,
    "start_time": "2022-11-01T15:44:19.833Z"
   },
   {
    "duration": 6,
    "start_time": "2022-11-01T15:44:19.846Z"
   },
   {
    "duration": 12,
    "start_time": "2022-11-01T15:44:19.853Z"
   },
   {
    "duration": 20,
    "start_time": "2022-11-01T15:44:19.867Z"
   },
   {
    "duration": 7,
    "start_time": "2022-11-01T15:44:19.888Z"
   },
   {
    "duration": 10,
    "start_time": "2022-11-01T15:45:10.551Z"
   },
   {
    "duration": 14,
    "start_time": "2022-11-01T15:45:14.422Z"
   },
   {
    "duration": 71,
    "start_time": "2022-11-01T15:46:32.052Z"
   },
   {
    "duration": 51,
    "start_time": "2022-11-01T15:47:17.222Z"
   },
   {
    "duration": 12,
    "start_time": "2022-11-01T15:47:28.463Z"
   },
   {
    "duration": 1102,
    "start_time": "2022-11-01T15:52:49.974Z"
   },
   {
    "duration": 12,
    "start_time": "2022-11-01T15:53:04.321Z"
   },
   {
    "duration": 13,
    "start_time": "2022-11-01T15:53:08.074Z"
   },
   {
    "duration": 5,
    "start_time": "2022-11-01T15:54:30.242Z"
   },
   {
    "duration": 6,
    "start_time": "2022-11-01T16:01:02.184Z"
   },
   {
    "duration": 6,
    "start_time": "2022-11-01T16:01:10.717Z"
   },
   {
    "duration": 7,
    "start_time": "2022-11-01T16:01:12.167Z"
   },
   {
    "duration": 18,
    "start_time": "2022-11-01T16:01:13.219Z"
   },
   {
    "duration": 576,
    "start_time": "2022-11-01T16:01:20.798Z"
   },
   {
    "duration": 94,
    "start_time": "2022-11-01T16:01:21.376Z"
   },
   {
    "duration": 4,
    "start_time": "2022-11-01T16:01:21.472Z"
   },
   {
    "duration": 7,
    "start_time": "2022-11-01T16:01:21.478Z"
   },
   {
    "duration": 8,
    "start_time": "2022-11-01T16:01:21.487Z"
   },
   {
    "duration": 12,
    "start_time": "2022-11-01T16:01:21.496Z"
   },
   {
    "duration": 16,
    "start_time": "2022-11-01T16:01:21.521Z"
   },
   {
    "duration": 11,
    "start_time": "2022-11-01T16:01:21.539Z"
   },
   {
    "duration": 70,
    "start_time": "2022-11-01T16:05:15.068Z"
   },
   {
    "duration": 8,
    "start_time": "2022-11-01T16:05:50.467Z"
   },
   {
    "duration": 632,
    "start_time": "2022-11-01T16:06:02.917Z"
   },
   {
    "duration": 96,
    "start_time": "2022-11-01T16:06:03.551Z"
   },
   {
    "duration": 3,
    "start_time": "2022-11-01T16:06:03.649Z"
   },
   {
    "duration": 37,
    "start_time": "2022-11-01T16:06:03.654Z"
   },
   {
    "duration": 16,
    "start_time": "2022-11-01T16:06:03.692Z"
   },
   {
    "duration": 15,
    "start_time": "2022-11-01T16:06:03.710Z"
   },
   {
    "duration": 23,
    "start_time": "2022-11-01T16:06:03.727Z"
   },
   {
    "duration": 7,
    "start_time": "2022-11-01T16:06:03.752Z"
   },
   {
    "duration": 7,
    "start_time": "2022-11-01T16:06:41.299Z"
   },
   {
    "duration": 5,
    "start_time": "2022-11-01T16:06:58.656Z"
   },
   {
    "duration": 6,
    "start_time": "2022-11-01T16:07:03.759Z"
   },
   {
    "duration": 6,
    "start_time": "2022-11-01T16:07:27.064Z"
   },
   {
    "duration": 11,
    "start_time": "2022-11-01T16:07:28.057Z"
   },
   {
    "duration": 76,
    "start_time": "2022-11-01T16:18:26.016Z"
   },
   {
    "duration": 11,
    "start_time": "2022-11-01T16:18:37.346Z"
   },
   {
    "duration": 625,
    "start_time": "2022-11-01T16:24:37.219Z"
   },
   {
    "duration": 93,
    "start_time": "2022-11-01T16:24:37.846Z"
   },
   {
    "duration": 5,
    "start_time": "2022-11-01T16:24:37.941Z"
   },
   {
    "duration": 24,
    "start_time": "2022-11-01T16:24:37.948Z"
   },
   {
    "duration": 26,
    "start_time": "2022-11-01T16:24:37.974Z"
   },
   {
    "duration": 18,
    "start_time": "2022-11-01T16:24:38.002Z"
   },
   {
    "duration": 21,
    "start_time": "2022-11-01T16:24:38.021Z"
   },
   {
    "duration": 18,
    "start_time": "2022-11-01T16:24:38.044Z"
   },
   {
    "duration": 26,
    "start_time": "2022-11-01T16:24:38.064Z"
   },
   {
    "duration": 17,
    "start_time": "2022-11-01T16:24:38.092Z"
   },
   {
    "duration": 557,
    "start_time": "2022-11-01T16:24:47.978Z"
   },
   {
    "duration": 97,
    "start_time": "2022-11-01T16:24:48.537Z"
   },
   {
    "duration": 5,
    "start_time": "2022-11-01T16:24:48.636Z"
   },
   {
    "duration": 9,
    "start_time": "2022-11-01T16:24:48.643Z"
   },
   {
    "duration": 22,
    "start_time": "2022-11-01T16:24:48.654Z"
   },
   {
    "duration": 12,
    "start_time": "2022-11-01T16:24:48.678Z"
   },
   {
    "duration": 18,
    "start_time": "2022-11-01T16:24:48.692Z"
   },
   {
    "duration": 6,
    "start_time": "2022-11-01T16:24:48.721Z"
   },
   {
    "duration": 11,
    "start_time": "2022-11-01T16:24:48.729Z"
   },
   {
    "duration": 8,
    "start_time": "2022-11-01T16:24:48.743Z"
   },
   {
    "duration": 89,
    "start_time": "2022-11-01T16:27:23.135Z"
   },
   {
    "duration": 12,
    "start_time": "2022-11-01T16:27:30.579Z"
   },
   {
    "duration": 4,
    "start_time": "2022-11-01T16:27:47.832Z"
   },
   {
    "duration": 6,
    "start_time": "2022-11-01T16:27:49.712Z"
   },
   {
    "duration": 597,
    "start_time": "2022-11-01T16:28:01.930Z"
   },
   {
    "duration": 92,
    "start_time": "2022-11-01T16:28:02.528Z"
   },
   {
    "duration": 14,
    "start_time": "2022-11-01T16:28:02.621Z"
   },
   {
    "duration": 23,
    "start_time": "2022-11-01T16:28:02.637Z"
   },
   {
    "duration": 10,
    "start_time": "2022-11-01T16:28:02.661Z"
   },
   {
    "duration": 16,
    "start_time": "2022-11-01T16:28:02.672Z"
   },
   {
    "duration": 22,
    "start_time": "2022-11-01T16:28:02.689Z"
   },
   {
    "duration": 14,
    "start_time": "2022-11-01T16:28:02.713Z"
   },
   {
    "duration": 23,
    "start_time": "2022-11-01T16:28:02.728Z"
   },
   {
    "duration": 26,
    "start_time": "2022-11-01T16:28:02.753Z"
   },
   {
    "duration": 9,
    "start_time": "2022-11-01T16:29:45.209Z"
   },
   {
    "duration": 8,
    "start_time": "2022-11-01T16:29:45.757Z"
   },
   {
    "duration": 669,
    "start_time": "2022-11-01T16:29:53.018Z"
   },
   {
    "duration": 111,
    "start_time": "2022-11-01T16:29:53.689Z"
   },
   {
    "duration": 5,
    "start_time": "2022-11-01T16:29:53.802Z"
   },
   {
    "duration": 31,
    "start_time": "2022-11-01T16:29:53.808Z"
   },
   {
    "duration": 6,
    "start_time": "2022-11-01T16:29:53.841Z"
   },
   {
    "duration": 13,
    "start_time": "2022-11-01T16:29:53.849Z"
   },
   {
    "duration": 22,
    "start_time": "2022-11-01T16:29:53.863Z"
   },
   {
    "duration": 9,
    "start_time": "2022-11-01T16:29:53.887Z"
   },
   {
    "duration": 13,
    "start_time": "2022-11-01T16:29:53.898Z"
   },
   {
    "duration": 7,
    "start_time": "2022-11-01T16:29:53.913Z"
   },
   {
    "duration": 8,
    "start_time": "2022-11-01T16:33:34.017Z"
   },
   {
    "duration": 3,
    "start_time": "2022-11-01T16:36:49.129Z"
   },
   {
    "duration": 3,
    "start_time": "2022-11-01T16:38:15.486Z"
   },
   {
    "duration": 74,
    "start_time": "2022-11-01T16:38:23.103Z"
   },
   {
    "duration": 12,
    "start_time": "2022-11-01T16:38:34.875Z"
   },
   {
    "duration": 76,
    "start_time": "2022-11-01T16:42:55.742Z"
   },
   {
    "duration": 56,
    "start_time": "2022-11-02T07:46:37.164Z"
   },
   {
    "duration": 774,
    "start_time": "2022-11-02T07:46:42.787Z"
   },
   {
    "duration": 141,
    "start_time": "2022-11-02T07:46:43.563Z"
   },
   {
    "duration": 5,
    "start_time": "2022-11-02T07:46:43.706Z"
   },
   {
    "duration": 10,
    "start_time": "2022-11-02T07:46:43.713Z"
   },
   {
    "duration": 15,
    "start_time": "2022-11-02T07:46:43.725Z"
   },
   {
    "duration": 13,
    "start_time": "2022-11-02T07:46:43.741Z"
   },
   {
    "duration": 15,
    "start_time": "2022-11-02T07:46:43.755Z"
   },
   {
    "duration": 8,
    "start_time": "2022-11-02T07:46:43.771Z"
   },
   {
    "duration": 10,
    "start_time": "2022-11-02T07:46:43.780Z"
   },
   {
    "duration": 5,
    "start_time": "2022-11-02T07:46:43.791Z"
   },
   {
    "duration": 6,
    "start_time": "2022-11-02T07:48:37.636Z"
   },
   {
    "duration": 13,
    "start_time": "2022-11-02T07:48:53.655Z"
   },
   {
    "duration": 47,
    "start_time": "2022-11-02T07:58:03.350Z"
   },
   {
    "duration": 4,
    "start_time": "2022-11-02T08:03:25.106Z"
   },
   {
    "duration": 4,
    "start_time": "2022-11-02T08:03:39.042Z"
   },
   {
    "duration": 7,
    "start_time": "2022-11-02T08:05:55.603Z"
   },
   {
    "duration": 4,
    "start_time": "2022-11-02T08:08:55.460Z"
   },
   {
    "duration": 51,
    "start_time": "2022-11-02T11:39:54.925Z"
   },
   {
    "duration": 1006,
    "start_time": "2022-11-02T11:40:02.065Z"
   },
   {
    "duration": 229,
    "start_time": "2022-11-02T11:40:03.073Z"
   },
   {
    "duration": 5,
    "start_time": "2022-11-02T11:40:03.303Z"
   },
   {
    "duration": 27,
    "start_time": "2022-11-02T11:40:03.310Z"
   },
   {
    "duration": 17,
    "start_time": "2022-11-02T11:40:03.339Z"
   },
   {
    "duration": 25,
    "start_time": "2022-11-02T11:40:03.358Z"
   },
   {
    "duration": 36,
    "start_time": "2022-11-02T11:40:03.385Z"
   },
   {
    "duration": 11,
    "start_time": "2022-11-02T11:40:03.423Z"
   },
   {
    "duration": 18,
    "start_time": "2022-11-02T11:40:03.436Z"
   },
   {
    "duration": 7,
    "start_time": "2022-11-02T11:40:03.457Z"
   },
   {
    "duration": 4,
    "start_time": "2022-11-02T11:40:03.466Z"
   },
   {
    "duration": 186,
    "start_time": "2022-11-02T11:40:03.472Z"
   },
   {
    "duration": 178,
    "start_time": "2022-11-02T11:40:25.268Z"
   },
   {
    "duration": 190,
    "start_time": "2022-11-02T11:40:36.125Z"
   },
   {
    "duration": 740,
    "start_time": "2022-11-02T11:42:53.126Z"
   },
   {
    "duration": 118,
    "start_time": "2022-11-02T11:42:53.868Z"
   },
   {
    "duration": 5,
    "start_time": "2022-11-02T11:42:53.988Z"
   },
   {
    "duration": 9,
    "start_time": "2022-11-02T11:42:53.995Z"
   },
   {
    "duration": 7,
    "start_time": "2022-11-02T11:42:54.006Z"
   },
   {
    "duration": 19,
    "start_time": "2022-11-02T11:42:54.015Z"
   },
   {
    "duration": 16,
    "start_time": "2022-11-02T11:42:54.036Z"
   },
   {
    "duration": 12,
    "start_time": "2022-11-02T11:42:54.053Z"
   },
   {
    "duration": 57,
    "start_time": "2022-11-02T11:42:54.067Z"
   },
   {
    "duration": 8,
    "start_time": "2022-11-02T11:42:54.126Z"
   },
   {
    "duration": 5,
    "start_time": "2022-11-02T11:42:54.136Z"
   },
   {
    "duration": 710,
    "start_time": "2022-11-02T11:44:14.537Z"
   },
   {
    "duration": 109,
    "start_time": "2022-11-02T11:44:15.250Z"
   },
   {
    "duration": 6,
    "start_time": "2022-11-02T11:44:15.361Z"
   },
   {
    "duration": 11,
    "start_time": "2022-11-02T11:44:15.368Z"
   },
   {
    "duration": 10,
    "start_time": "2022-11-02T11:44:15.382Z"
   },
   {
    "duration": 36,
    "start_time": "2022-11-02T11:44:15.393Z"
   },
   {
    "duration": 16,
    "start_time": "2022-11-02T11:44:15.431Z"
   },
   {
    "duration": 9,
    "start_time": "2022-11-02T11:44:15.449Z"
   },
   {
    "duration": 12,
    "start_time": "2022-11-02T11:44:15.460Z"
   },
   {
    "duration": 10,
    "start_time": "2022-11-02T11:44:15.473Z"
   },
   {
    "duration": 4,
    "start_time": "2022-11-02T11:44:15.485Z"
   },
   {
    "duration": 259,
    "start_time": "2022-11-02T11:44:15.490Z"
   },
   {
    "duration": 193,
    "start_time": "2022-11-02T11:45:52.208Z"
   },
   {
    "duration": 223,
    "start_time": "2022-11-02T11:46:04.625Z"
   },
   {
    "duration": 247,
    "start_time": "2022-11-02T11:46:14.347Z"
   },
   {
    "duration": 361,
    "start_time": "2022-11-02T11:47:39.169Z"
   },
   {
    "duration": 16,
    "start_time": "2022-11-02T12:03:29.283Z"
   },
   {
    "duration": 20,
    "start_time": "2022-11-02T12:09:17.603Z"
   },
   {
    "duration": 150,
    "start_time": "2022-11-02T12:10:04.453Z"
   },
   {
    "duration": 145,
    "start_time": "2022-11-02T12:10:16.832Z"
   },
   {
    "duration": 289,
    "start_time": "2022-11-02T12:11:36.357Z"
   },
   {
    "duration": 319,
    "start_time": "2022-11-02T12:11:58.997Z"
   },
   {
    "duration": 309,
    "start_time": "2022-11-02T12:12:35.172Z"
   },
   {
    "duration": 382,
    "start_time": "2022-11-02T12:12:46.582Z"
   },
   {
    "duration": 309,
    "start_time": "2022-11-02T12:14:13.923Z"
   },
   {
    "duration": 315,
    "start_time": "2022-11-02T12:14:28.310Z"
   },
   {
    "duration": 681,
    "start_time": "2022-11-02T12:47:49.489Z"
   },
   {
    "duration": 106,
    "start_time": "2022-11-02T12:47:50.172Z"
   },
   {
    "duration": 5,
    "start_time": "2022-11-02T12:47:50.280Z"
   },
   {
    "duration": 11,
    "start_time": "2022-11-02T12:47:50.287Z"
   },
   {
    "duration": 8,
    "start_time": "2022-11-02T12:47:50.300Z"
   },
   {
    "duration": 16,
    "start_time": "2022-11-02T12:47:50.324Z"
   },
   {
    "duration": 17,
    "start_time": "2022-11-02T12:47:50.342Z"
   },
   {
    "duration": 8,
    "start_time": "2022-11-02T12:47:50.361Z"
   },
   {
    "duration": 9,
    "start_time": "2022-11-02T12:47:50.371Z"
   },
   {
    "duration": 7,
    "start_time": "2022-11-02T12:47:50.382Z"
   },
   {
    "duration": 5,
    "start_time": "2022-11-02T12:47:50.431Z"
   },
   {
    "duration": 368,
    "start_time": "2022-11-02T12:47:50.438Z"
   },
   {
    "duration": 318,
    "start_time": "2022-11-02T12:47:50.808Z"
   },
   {
    "duration": 17,
    "start_time": "2022-11-02T12:55:28.590Z"
   },
   {
    "duration": 10,
    "start_time": "2022-11-02T12:57:20.787Z"
   },
   {
    "duration": 156,
    "start_time": "2022-11-02T12:57:34.020Z"
   },
   {
    "duration": 29915,
    "start_time": "2022-11-02T12:57:55.040Z"
   },
   {
    "duration": 2837,
    "start_time": "2022-11-02T13:00:08.501Z"
   },
   {
    "duration": 673,
    "start_time": "2022-11-02T13:00:45.544Z"
   },
   {
    "duration": 83,
    "start_time": "2022-11-02T13:01:01.922Z"
   },
   {
    "duration": 8,
    "start_time": "2022-11-02T13:11:23.004Z"
   },
   {
    "duration": 83,
    "start_time": "2022-11-02T13:11:46.703Z"
   },
   {
    "duration": 9,
    "start_time": "2022-11-02T13:11:59.485Z"
   },
   {
    "duration": 25,
    "start_time": "2022-11-02T13:12:17.706Z"
   },
   {
    "duration": 8,
    "start_time": "2022-11-02T13:13:18.083Z"
   },
   {
    "duration": 18,
    "start_time": "2022-11-02T13:13:38.280Z"
   },
   {
    "duration": 19,
    "start_time": "2022-11-02T13:14:19.773Z"
   },
   {
    "duration": 213,
    "start_time": "2022-11-02T13:14:42.052Z"
   },
   {
    "duration": 190,
    "start_time": "2022-11-02T13:14:57.095Z"
   },
   {
    "duration": 200,
    "start_time": "2022-11-02T13:15:03.820Z"
   },
   {
    "duration": 171,
    "start_time": "2022-11-02T13:15:19.834Z"
   },
   {
    "duration": 218,
    "start_time": "2022-11-02T13:28:00.974Z"
   },
   {
    "duration": 199,
    "start_time": "2022-11-02T13:28:13.425Z"
   },
   {
    "duration": 101,
    "start_time": "2022-11-02T13:30:06.263Z"
   },
   {
    "duration": 219,
    "start_time": "2022-11-02T13:30:15.261Z"
   },
   {
    "duration": 596,
    "start_time": "2022-11-02T13:32:37.094Z"
   },
   {
    "duration": 339,
    "start_time": "2022-11-02T13:56:24.459Z"
   },
   {
    "duration": 586,
    "start_time": "2022-11-02T13:57:08.402Z"
   },
   {
    "duration": 575,
    "start_time": "2022-11-02T14:01:34.486Z"
   },
   {
    "duration": 343,
    "start_time": "2022-11-02T14:35:33.019Z"
   },
   {
    "duration": 42,
    "start_time": "2022-11-03T07:30:54.978Z"
   },
   {
    "duration": 683,
    "start_time": "2022-11-03T07:30:58.764Z"
   },
   {
    "duration": 222,
    "start_time": "2022-11-03T07:30:59.449Z"
   },
   {
    "duration": 5,
    "start_time": "2022-11-03T07:30:59.673Z"
   },
   {
    "duration": 18,
    "start_time": "2022-11-03T07:30:59.679Z"
   },
   {
    "duration": 11,
    "start_time": "2022-11-03T07:30:59.699Z"
   },
   {
    "duration": 12,
    "start_time": "2022-11-03T07:30:59.712Z"
   },
   {
    "duration": 30,
    "start_time": "2022-11-03T07:30:59.725Z"
   },
   {
    "duration": 6,
    "start_time": "2022-11-03T07:30:59.757Z"
   },
   {
    "duration": 18,
    "start_time": "2022-11-03T07:30:59.764Z"
   },
   {
    "duration": 19,
    "start_time": "2022-11-03T07:30:59.783Z"
   },
   {
    "duration": 16,
    "start_time": "2022-11-03T07:30:59.803Z"
   },
   {
    "duration": 303,
    "start_time": "2022-11-03T07:30:59.821Z"
   },
   {
    "duration": 266,
    "start_time": "2022-11-03T07:31:00.125Z"
   },
   {
    "duration": 548,
    "start_time": "2022-11-03T07:31:00.393Z"
   },
   {
    "duration": 276,
    "start_time": "2022-11-03T07:31:00.942Z"
   },
   {
    "duration": 291,
    "start_time": "2022-11-03T07:31:01.219Z"
   },
   {
    "duration": 173,
    "start_time": "2022-11-03T07:31:01.511Z"
   },
   {
    "duration": 65,
    "start_time": "2022-11-03T07:48:33.653Z"
   },
   {
    "duration": 111,
    "start_time": "2022-11-03T07:49:18.123Z"
   },
   {
    "duration": 4,
    "start_time": "2022-11-03T07:49:34.313Z"
   },
   {
    "duration": 112,
    "start_time": "2022-11-03T07:49:45.160Z"
   },
   {
    "duration": 278,
    "start_time": "2022-11-03T07:50:29.563Z"
   },
   {
    "duration": 359,
    "start_time": "2022-11-03T07:51:11.383Z"
   },
   {
    "duration": 447,
    "start_time": "2022-11-03T07:52:09.680Z"
   },
   {
    "duration": 618,
    "start_time": "2022-11-03T07:52:53.373Z"
   },
   {
    "duration": 641,
    "start_time": "2022-11-03T08:18:37.080Z"
   },
   {
    "duration": 88,
    "start_time": "2022-11-03T08:18:37.723Z"
   },
   {
    "duration": 5,
    "start_time": "2022-11-03T08:18:37.812Z"
   },
   {
    "duration": 17,
    "start_time": "2022-11-03T08:18:37.818Z"
   },
   {
    "duration": 13,
    "start_time": "2022-11-03T08:18:37.837Z"
   },
   {
    "duration": 15,
    "start_time": "2022-11-03T08:18:37.851Z"
   },
   {
    "duration": 22,
    "start_time": "2022-11-03T08:18:37.867Z"
   },
   {
    "duration": 7,
    "start_time": "2022-11-03T08:18:37.890Z"
   },
   {
    "duration": 14,
    "start_time": "2022-11-03T08:18:37.898Z"
   },
   {
    "duration": 7,
    "start_time": "2022-11-03T08:18:37.914Z"
   },
   {
    "duration": 12,
    "start_time": "2022-11-03T08:18:37.922Z"
   },
   {
    "duration": 317,
    "start_time": "2022-11-03T08:18:37.935Z"
   },
   {
    "duration": 275,
    "start_time": "2022-11-03T08:18:38.254Z"
   },
   {
    "duration": 527,
    "start_time": "2022-11-03T08:18:38.531Z"
   },
   {
    "duration": 280,
    "start_time": "2022-11-03T08:18:39.059Z"
   },
   {
    "duration": 295,
    "start_time": "2022-11-03T08:18:39.342Z"
   },
   {
    "duration": 170,
    "start_time": "2022-11-03T08:18:39.638Z"
   },
   {
    "duration": 656,
    "start_time": "2022-11-03T08:18:39.810Z"
   },
   {
    "duration": 189,
    "start_time": "2022-11-03T08:18:40.467Z"
   },
   {
    "duration": 84,
    "start_time": "2022-11-03T08:19:33.797Z"
   },
   {
    "duration": 87,
    "start_time": "2022-11-03T08:21:15.607Z"
   },
   {
    "duration": 10,
    "start_time": "2022-11-03T08:21:33.625Z"
   },
   {
    "duration": 98,
    "start_time": "2022-11-03T08:24:57.575Z"
   },
   {
    "duration": 612,
    "start_time": "2022-11-03T08:25:37.175Z"
   },
   {
    "duration": 94,
    "start_time": "2022-11-03T08:25:37.789Z"
   },
   {
    "duration": 5,
    "start_time": "2022-11-03T08:25:37.884Z"
   },
   {
    "duration": 17,
    "start_time": "2022-11-03T08:25:37.891Z"
   },
   {
    "duration": 21,
    "start_time": "2022-11-03T08:25:37.909Z"
   },
   {
    "duration": 28,
    "start_time": "2022-11-03T08:25:37.932Z"
   },
   {
    "duration": 32,
    "start_time": "2022-11-03T08:25:37.961Z"
   },
   {
    "duration": 18,
    "start_time": "2022-11-03T08:25:37.995Z"
   },
   {
    "duration": 29,
    "start_time": "2022-11-03T08:25:38.015Z"
   },
   {
    "duration": 8,
    "start_time": "2022-11-03T08:25:38.047Z"
   },
   {
    "duration": 7,
    "start_time": "2022-11-03T08:25:38.057Z"
   },
   {
    "duration": 324,
    "start_time": "2022-11-03T08:25:38.065Z"
   },
   {
    "duration": 258,
    "start_time": "2022-11-03T08:25:38.391Z"
   },
   {
    "duration": 513,
    "start_time": "2022-11-03T08:25:38.651Z"
   },
   {
    "duration": 266,
    "start_time": "2022-11-03T08:25:39.165Z"
   },
   {
    "duration": 287,
    "start_time": "2022-11-03T08:25:39.433Z"
   },
   {
    "duration": 166,
    "start_time": "2022-11-03T08:25:39.722Z"
   },
   {
    "duration": 644,
    "start_time": "2022-11-03T08:25:39.890Z"
   },
   {
    "duration": 171,
    "start_time": "2022-11-03T08:25:40.536Z"
   },
   {
    "duration": 95,
    "start_time": "2022-11-03T08:26:41.853Z"
   },
   {
    "duration": 104,
    "start_time": "2022-11-03T08:27:25.451Z"
   },
   {
    "duration": 84,
    "start_time": "2022-11-03T08:29:33.764Z"
   },
   {
    "duration": 81,
    "start_time": "2022-11-03T08:29:58.722Z"
   },
   {
    "duration": 10,
    "start_time": "2022-11-03T08:31:46.342Z"
   },
   {
    "duration": 164,
    "start_time": "2022-11-03T08:42:36.975Z"
   },
   {
    "duration": 63,
    "start_time": "2022-11-04T15:59:22.994Z"
   },
   {
    "duration": 983,
    "start_time": "2022-11-04T15:59:27.202Z"
   },
   {
    "duration": 518,
    "start_time": "2022-11-04T15:59:28.190Z"
   },
   {
    "duration": 6,
    "start_time": "2022-11-04T15:59:28.710Z"
   },
   {
    "duration": 19,
    "start_time": "2022-11-04T15:59:28.718Z"
   },
   {
    "duration": 9,
    "start_time": "2022-11-04T15:59:28.739Z"
   },
   {
    "duration": 15,
    "start_time": "2022-11-04T15:59:28.750Z"
   },
   {
    "duration": 19,
    "start_time": "2022-11-04T15:59:28.767Z"
   },
   {
    "duration": 10,
    "start_time": "2022-11-04T15:59:28.787Z"
   },
   {
    "duration": 12,
    "start_time": "2022-11-04T15:59:28.832Z"
   },
   {
    "duration": 8,
    "start_time": "2022-11-04T15:59:28.847Z"
   },
   {
    "duration": 4,
    "start_time": "2022-11-04T15:59:28.858Z"
   },
   {
    "duration": 396,
    "start_time": "2022-11-04T15:59:28.865Z"
   },
   {
    "duration": 419,
    "start_time": "2022-11-04T15:59:29.264Z"
   },
   {
    "duration": 639,
    "start_time": "2022-11-04T15:59:29.686Z"
   },
   {
    "duration": 361,
    "start_time": "2022-11-04T15:59:30.327Z"
   },
   {
    "duration": 384,
    "start_time": "2022-11-04T15:59:30.690Z"
   },
   {
    "duration": 265,
    "start_time": "2022-11-04T15:59:31.076Z"
   },
   {
    "duration": 901,
    "start_time": "2022-11-04T15:59:31.344Z"
   },
   {
    "duration": 242,
    "start_time": "2022-11-04T15:59:32.246Z"
   },
   {
    "duration": 655,
    "start_time": "2022-11-04T16:00:04.365Z"
   },
   {
    "duration": 117,
    "start_time": "2022-11-04T16:00:05.023Z"
   },
   {
    "duration": 6,
    "start_time": "2022-11-04T16:00:05.142Z"
   },
   {
    "duration": 15,
    "start_time": "2022-11-04T16:00:05.150Z"
   },
   {
    "duration": 10,
    "start_time": "2022-11-04T16:00:05.167Z"
   },
   {
    "duration": 18,
    "start_time": "2022-11-04T16:00:05.179Z"
   },
   {
    "duration": 44,
    "start_time": "2022-11-04T16:00:05.199Z"
   },
   {
    "duration": 8,
    "start_time": "2022-11-04T16:00:05.245Z"
   },
   {
    "duration": 21,
    "start_time": "2022-11-04T16:00:05.255Z"
   },
   {
    "duration": 10,
    "start_time": "2022-11-04T16:00:05.280Z"
   },
   {
    "duration": 15,
    "start_time": "2022-11-04T16:00:05.293Z"
   },
   {
    "duration": 515,
    "start_time": "2022-11-04T16:00:05.310Z"
   },
   {
    "duration": 399,
    "start_time": "2022-11-04T16:00:05.832Z"
   },
   {
    "duration": 745,
    "start_time": "2022-11-04T16:00:06.234Z"
   },
   {
    "duration": 475,
    "start_time": "2022-11-04T16:00:06.982Z"
   },
   {
    "duration": 525,
    "start_time": "2022-11-04T16:00:07.460Z"
   },
   {
    "duration": 310,
    "start_time": "2022-11-04T16:00:07.987Z"
   },
   {
    "duration": 966,
    "start_time": "2022-11-04T16:00:08.298Z"
   },
   {
    "duration": 269,
    "start_time": "2022-11-04T16:00:09.266Z"
   },
   {
    "duration": 1066,
    "start_time": "2022-11-04T16:00:35.998Z"
   },
   {
    "duration": 1154,
    "start_time": "2022-11-04T16:01:35.031Z"
   },
   {
    "duration": 1563,
    "start_time": "2022-11-04T16:03:21.692Z"
   },
   {
    "duration": 152,
    "start_time": "2022-11-04T16:04:21.092Z"
   },
   {
    "duration": 612,
    "start_time": "2022-11-04T16:05:29.220Z"
   },
   {
    "duration": 968,
    "start_time": "2022-11-04T16:06:26.755Z"
   },
   {
    "duration": 1141,
    "start_time": "2022-11-04T16:08:38.959Z"
   },
   {
    "duration": 1157,
    "start_time": "2022-11-04T16:08:58.981Z"
   },
   {
    "duration": 15,
    "start_time": "2022-11-04T16:10:30.575Z"
   },
   {
    "duration": 85,
    "start_time": "2022-11-04T16:11:35.313Z"
   },
   {
    "duration": 6,
    "start_time": "2022-11-04T16:11:40.012Z"
   },
   {
    "duration": 112,
    "start_time": "2022-11-04T16:12:29.034Z"
   },
   {
    "duration": 26,
    "start_time": "2022-11-04T16:12:33.420Z"
   },
   {
    "duration": 661,
    "start_time": "2022-11-04T16:20:47.778Z"
   },
   {
    "duration": 1180,
    "start_time": "2022-11-04T16:21:23.575Z"
   },
   {
    "duration": 734,
    "start_time": "2022-11-05T13:32:21.091Z"
   },
   {
    "duration": 142,
    "start_time": "2022-11-05T13:32:21.827Z"
   },
   {
    "duration": 4,
    "start_time": "2022-11-05T13:32:21.971Z"
   },
   {
    "duration": 7,
    "start_time": "2022-11-05T13:32:21.977Z"
   },
   {
    "duration": 8,
    "start_time": "2022-11-05T13:32:21.985Z"
   },
   {
    "duration": 6,
    "start_time": "2022-11-05T13:32:21.995Z"
   },
   {
    "duration": 12,
    "start_time": "2022-11-05T13:32:22.002Z"
   },
   {
    "duration": 12,
    "start_time": "2022-11-05T13:32:22.039Z"
   },
   {
    "duration": 8,
    "start_time": "2022-11-05T13:32:22.053Z"
   },
   {
    "duration": 9,
    "start_time": "2022-11-05T13:32:22.063Z"
   },
   {
    "duration": 6,
    "start_time": "2022-11-05T13:32:22.074Z"
   },
   {
    "duration": 6,
    "start_time": "2022-11-05T13:32:22.082Z"
   },
   {
    "duration": 345,
    "start_time": "2022-11-05T13:32:22.089Z"
   },
   {
    "duration": 290,
    "start_time": "2022-11-05T13:32:22.439Z"
   },
   {
    "duration": 567,
    "start_time": "2022-11-05T13:32:22.730Z"
   },
   {
    "duration": 293,
    "start_time": "2022-11-05T13:32:23.298Z"
   },
   {
    "duration": 316,
    "start_time": "2022-11-05T13:32:23.593Z"
   },
   {
    "duration": 179,
    "start_time": "2022-11-05T13:32:23.910Z"
   },
   {
    "duration": 1206,
    "start_time": "2022-11-05T13:32:24.091Z"
   },
   {
    "duration": 985,
    "start_time": "2022-11-05T13:32:25.299Z"
   },
   {
    "duration": 13,
    "start_time": "2022-11-05T13:32:32.975Z"
   },
   {
    "duration": 12,
    "start_time": "2022-11-05T13:32:43.652Z"
   },
   {
    "duration": 5,
    "start_time": "2022-11-05T13:32:45.643Z"
   },
   {
    "duration": 625,
    "start_time": "2022-11-05T13:32:54.140Z"
   },
   {
    "duration": 94,
    "start_time": "2022-11-05T13:32:54.767Z"
   },
   {
    "duration": 11,
    "start_time": "2022-11-05T13:32:54.863Z"
   },
   {
    "duration": 8,
    "start_time": "2022-11-05T13:32:54.876Z"
   },
   {
    "duration": 10,
    "start_time": "2022-11-05T13:32:54.885Z"
   },
   {
    "duration": 7,
    "start_time": "2022-11-05T13:32:54.896Z"
   },
   {
    "duration": 39,
    "start_time": "2022-11-05T13:32:54.904Z"
   },
   {
    "duration": 13,
    "start_time": "2022-11-05T13:32:54.944Z"
   },
   {
    "duration": 7,
    "start_time": "2022-11-05T13:32:54.959Z"
   },
   {
    "duration": 9,
    "start_time": "2022-11-05T13:32:54.969Z"
   },
   {
    "duration": 7,
    "start_time": "2022-11-05T13:32:54.980Z"
   },
   {
    "duration": 4,
    "start_time": "2022-11-05T13:32:54.988Z"
   },
   {
    "duration": 364,
    "start_time": "2022-11-05T13:32:54.994Z"
   },
   {
    "duration": 296,
    "start_time": "2022-11-05T13:32:55.360Z"
   },
   {
    "duration": 583,
    "start_time": "2022-11-05T13:32:55.658Z"
   },
   {
    "duration": 330,
    "start_time": "2022-11-05T13:32:56.243Z"
   },
   {
    "duration": 341,
    "start_time": "2022-11-05T13:32:56.575Z"
   },
   {
    "duration": 213,
    "start_time": "2022-11-05T13:32:56.918Z"
   },
   {
    "duration": 1319,
    "start_time": "2022-11-05T13:32:57.137Z"
   },
   {
    "duration": 1033,
    "start_time": "2022-11-05T13:32:58.458Z"
   },
   {
    "duration": 13,
    "start_time": "2022-11-05T13:33:13.134Z"
   },
   {
    "duration": 620,
    "start_time": "2022-11-05T13:33:33.643Z"
   },
   {
    "duration": 102,
    "start_time": "2022-11-05T13:33:34.264Z"
   },
   {
    "duration": 3,
    "start_time": "2022-11-05T13:33:34.368Z"
   },
   {
    "duration": 12,
    "start_time": "2022-11-05T13:33:34.373Z"
   },
   {
    "duration": 7,
    "start_time": "2022-11-05T13:33:34.387Z"
   },
   {
    "duration": 17,
    "start_time": "2022-11-05T13:33:34.396Z"
   },
   {
    "duration": 15,
    "start_time": "2022-11-05T13:33:34.439Z"
   },
   {
    "duration": 9,
    "start_time": "2022-11-05T13:33:34.456Z"
   },
   {
    "duration": 11,
    "start_time": "2022-11-05T13:33:34.466Z"
   },
   {
    "duration": 6,
    "start_time": "2022-11-05T13:33:34.480Z"
   },
   {
    "duration": 5,
    "start_time": "2022-11-05T13:33:34.488Z"
   },
   {
    "duration": 383,
    "start_time": "2022-11-05T13:33:34.494Z"
   },
   {
    "duration": 315,
    "start_time": "2022-11-05T13:33:34.879Z"
   },
   {
    "duration": 610,
    "start_time": "2022-11-05T13:33:35.196Z"
   },
   {
    "duration": 313,
    "start_time": "2022-11-05T13:33:35.808Z"
   },
   {
    "duration": 329,
    "start_time": "2022-11-05T13:33:36.123Z"
   },
   {
    "duration": 199,
    "start_time": "2022-11-05T13:33:36.453Z"
   },
   {
    "duration": 1348,
    "start_time": "2022-11-05T13:33:36.653Z"
   },
   {
    "duration": 1093,
    "start_time": "2022-11-05T13:33:38.003Z"
   },
   {
    "duration": 631,
    "start_time": "2022-11-05T13:41:05.926Z"
   },
   {
    "duration": 147,
    "start_time": "2022-11-05T14:03:05.727Z"
   },
   {
    "duration": 224,
    "start_time": "2022-11-05T14:03:18.446Z"
   },
   {
    "duration": 142,
    "start_time": "2022-11-05T14:05:08.969Z"
   },
   {
    "duration": 167,
    "start_time": "2022-11-05T14:05:17.334Z"
   },
   {
    "duration": 343,
    "start_time": "2022-11-05T14:06:03.398Z"
   },
   {
    "duration": 274,
    "start_time": "2022-11-05T14:06:38.198Z"
   },
   {
    "duration": 294,
    "start_time": "2022-11-05T14:07:56.701Z"
   },
   {
    "duration": 557,
    "start_time": "2022-11-05T15:42:14.791Z"
   },
   {
    "duration": 100,
    "start_time": "2022-11-05T15:42:15.350Z"
   },
   {
    "duration": 4,
    "start_time": "2022-11-05T15:42:15.452Z"
   },
   {
    "duration": 28,
    "start_time": "2022-11-05T15:42:15.457Z"
   },
   {
    "duration": 13,
    "start_time": "2022-11-05T15:42:15.487Z"
   },
   {
    "duration": 28,
    "start_time": "2022-11-05T15:42:15.502Z"
   },
   {
    "duration": 26,
    "start_time": "2022-11-05T15:42:15.532Z"
   },
   {
    "duration": 16,
    "start_time": "2022-11-05T15:42:15.559Z"
   },
   {
    "duration": 25,
    "start_time": "2022-11-05T15:42:15.577Z"
   },
   {
    "duration": 17,
    "start_time": "2022-11-05T15:42:15.605Z"
   },
   {
    "duration": 15,
    "start_time": "2022-11-05T15:42:15.623Z"
   },
   {
    "duration": 335,
    "start_time": "2022-11-05T15:42:15.639Z"
   },
   {
    "duration": 293,
    "start_time": "2022-11-05T15:42:15.976Z"
   },
   {
    "duration": 591,
    "start_time": "2022-11-05T15:42:16.271Z"
   },
   {
    "duration": 327,
    "start_time": "2022-11-05T15:42:16.863Z"
   },
   {
    "duration": 380,
    "start_time": "2022-11-05T15:42:17.193Z"
   },
   {
    "duration": 201,
    "start_time": "2022-11-05T15:42:17.575Z"
   },
   {
    "duration": 698,
    "start_time": "2022-11-05T15:42:17.778Z"
   },
   {
    "duration": 936,
    "start_time": "2022-11-05T15:42:18.478Z"
   },
   {
    "duration": 356,
    "start_time": "2022-11-05T15:42:19.416Z"
   },
   {
    "duration": 291,
    "start_time": "2022-11-05T15:48:45.220Z"
   },
   {
    "duration": 320,
    "start_time": "2022-11-05T15:49:18.435Z"
   },
   {
    "duration": 298,
    "start_time": "2022-11-05T15:49:40.212Z"
   },
   {
    "duration": 273,
    "start_time": "2022-11-05T15:50:36.099Z"
   },
   {
    "duration": 332,
    "start_time": "2022-11-05T15:56:43.236Z"
   },
   {
    "duration": 299,
    "start_time": "2022-11-05T16:01:29.224Z"
   },
   {
    "duration": 193,
    "start_time": "2022-11-05T16:04:32.718Z"
   },
   {
    "duration": 50,
    "start_time": "2022-11-05T18:15:07.918Z"
   },
   {
    "duration": 910,
    "start_time": "2022-11-05T18:15:18.356Z"
   },
   {
    "duration": 149,
    "start_time": "2022-11-05T18:15:19.268Z"
   },
   {
    "duration": 3,
    "start_time": "2022-11-05T18:15:19.419Z"
   },
   {
    "duration": 19,
    "start_time": "2022-11-05T18:15:19.424Z"
   },
   {
    "duration": 19,
    "start_time": "2022-11-05T18:15:19.446Z"
   },
   {
    "duration": 26,
    "start_time": "2022-11-05T18:15:19.467Z"
   },
   {
    "duration": 22,
    "start_time": "2022-11-05T18:15:19.495Z"
   },
   {
    "duration": 24,
    "start_time": "2022-11-05T18:15:19.519Z"
   },
   {
    "duration": 23,
    "start_time": "2022-11-05T18:15:19.545Z"
   },
   {
    "duration": 13,
    "start_time": "2022-11-05T18:15:19.570Z"
   },
   {
    "duration": 20,
    "start_time": "2022-11-05T18:15:19.585Z"
   },
   {
    "duration": 379,
    "start_time": "2022-11-05T18:15:19.606Z"
   },
   {
    "duration": 312,
    "start_time": "2022-11-05T18:15:19.988Z"
   },
   {
    "duration": 606,
    "start_time": "2022-11-05T18:15:20.303Z"
   },
   {
    "duration": 332,
    "start_time": "2022-11-05T18:15:20.911Z"
   },
   {
    "duration": 327,
    "start_time": "2022-11-05T18:15:21.244Z"
   },
   {
    "duration": 190,
    "start_time": "2022-11-05T18:15:21.573Z"
   },
   {
    "duration": 798,
    "start_time": "2022-11-05T18:15:21.765Z"
   },
   {
    "duration": 1048,
    "start_time": "2022-11-05T18:15:22.565Z"
   },
   {
    "duration": 378,
    "start_time": "2022-11-05T18:15:23.620Z"
   },
   {
    "duration": 292,
    "start_time": "2022-11-05T18:15:24.000Z"
   },
   {
    "duration": 293,
    "start_time": "2022-11-05T18:15:24.294Z"
   },
   {
    "duration": 227,
    "start_time": "2022-11-05T18:15:24.588Z"
   },
   {
    "duration": 183,
    "start_time": "2022-11-05T18:15:24.817Z"
   },
   {
    "duration": 550,
    "start_time": "2022-11-05T18:16:36.853Z"
   },
   {
    "duration": 705,
    "start_time": "2022-11-05T18:17:43.516Z"
   },
   {
    "duration": 538,
    "start_time": "2022-11-05T18:18:10.229Z"
   },
   {
    "duration": 205,
    "start_time": "2022-11-05T18:31:43.132Z"
   },
   {
    "duration": 596,
    "start_time": "2022-11-05T18:32:26.946Z"
   },
   {
    "duration": 575,
    "start_time": "2022-11-05T18:51:44.293Z"
   },
   {
    "duration": 565,
    "start_time": "2022-11-05T18:51:55.209Z"
   },
   {
    "duration": 431,
    "start_time": "2022-11-05T19:08:26.011Z"
   },
   {
    "duration": 23,
    "start_time": "2022-11-05T20:38:28.442Z"
   },
   {
    "duration": 1445,
    "start_time": "2022-11-06T07:32:36.975Z"
   },
   {
    "duration": 117,
    "start_time": "2022-11-06T07:35:21.760Z"
   },
   {
    "duration": 1246,
    "start_time": "2022-11-06T07:35:28.398Z"
   },
   {
    "duration": 322,
    "start_time": "2022-11-06T07:35:29.646Z"
   },
   {
    "duration": 4,
    "start_time": "2022-11-06T07:35:29.970Z"
   },
   {
    "duration": 13,
    "start_time": "2022-11-06T07:35:29.976Z"
   },
   {
    "duration": 9,
    "start_time": "2022-11-06T07:35:29.991Z"
   },
   {
    "duration": 36,
    "start_time": "2022-11-06T07:35:30.002Z"
   },
   {
    "duration": 17,
    "start_time": "2022-11-06T07:35:30.040Z"
   },
   {
    "duration": 10,
    "start_time": "2022-11-06T07:35:30.059Z"
   },
   {
    "duration": 26,
    "start_time": "2022-11-06T07:35:30.071Z"
   },
   {
    "duration": 9,
    "start_time": "2022-11-06T07:35:30.102Z"
   },
   {
    "duration": 39,
    "start_time": "2022-11-06T07:35:30.113Z"
   },
   {
    "duration": 403,
    "start_time": "2022-11-06T07:35:30.154Z"
   },
   {
    "duration": 369,
    "start_time": "2022-11-06T07:35:30.559Z"
   },
   {
    "duration": 702,
    "start_time": "2022-11-06T07:35:30.932Z"
   },
   {
    "duration": 371,
    "start_time": "2022-11-06T07:35:31.637Z"
   },
   {
    "duration": 473,
    "start_time": "2022-11-06T07:35:32.013Z"
   },
   {
    "duration": 216,
    "start_time": "2022-11-06T07:35:32.488Z"
   },
   {
    "duration": 784,
    "start_time": "2022-11-06T07:35:32.706Z"
   },
   {
    "duration": 1154,
    "start_time": "2022-11-06T07:35:33.491Z"
   },
   {
    "duration": 357,
    "start_time": "2022-11-06T07:35:34.648Z"
   },
   {
    "duration": 426,
    "start_time": "2022-11-06T07:35:35.007Z"
   },
   {
    "duration": 368,
    "start_time": "2022-11-06T07:35:35.435Z"
   },
   {
    "duration": 359,
    "start_time": "2022-11-06T07:35:35.805Z"
   },
   {
    "duration": 638,
    "start_time": "2022-11-06T07:35:36.166Z"
   },
   {
    "duration": 712,
    "start_time": "2022-11-06T07:35:36.805Z"
   },
   {
    "duration": 552,
    "start_time": "2022-11-06T07:35:37.519Z"
   },
   {
    "duration": 171,
    "start_time": "2022-11-06T07:35:38.073Z"
   },
   {
    "duration": 16,
    "start_time": "2022-11-06T07:38:31.371Z"
   },
   {
    "duration": 7,
    "start_time": "2022-11-06T07:40:11.940Z"
   },
   {
    "duration": 5,
    "start_time": "2022-11-06T07:40:28.411Z"
   },
   {
    "duration": 6,
    "start_time": "2022-11-06T07:40:35.059Z"
   },
   {
    "duration": 7,
    "start_time": "2022-11-06T07:43:28.550Z"
   },
   {
    "duration": 6,
    "start_time": "2022-11-06T07:43:57.332Z"
   },
   {
    "duration": 66,
    "start_time": "2022-11-06T07:53:14.223Z"
   },
   {
    "duration": 10,
    "start_time": "2022-11-06T07:56:00.082Z"
   },
   {
    "duration": 10,
    "start_time": "2022-11-06T08:00:29.286Z"
   },
   {
    "duration": 10,
    "start_time": "2022-11-06T08:01:15.762Z"
   },
   {
    "duration": 9,
    "start_time": "2022-11-06T08:02:35.356Z"
   },
   {
    "duration": 12,
    "start_time": "2022-11-06T08:18:04.841Z"
   },
   {
    "duration": 8,
    "start_time": "2022-11-06T08:21:56.015Z"
   },
   {
    "duration": 8,
    "start_time": "2022-11-06T08:22:09.233Z"
   },
   {
    "duration": 8,
    "start_time": "2022-11-06T08:22:18.793Z"
   },
   {
    "duration": 11,
    "start_time": "2022-11-06T08:23:10.503Z"
   },
   {
    "duration": 13,
    "start_time": "2022-11-06T08:23:24.383Z"
   },
   {
    "duration": 1264,
    "start_time": "2022-11-06T08:33:47.356Z"
   },
   {
    "duration": 117,
    "start_time": "2022-11-06T08:33:48.622Z"
   },
   {
    "duration": 4,
    "start_time": "2022-11-06T08:33:48.741Z"
   },
   {
    "duration": 38,
    "start_time": "2022-11-06T08:33:48.748Z"
   },
   {
    "duration": 26,
    "start_time": "2022-11-06T08:33:48.788Z"
   },
   {
    "duration": 19,
    "start_time": "2022-11-06T08:33:48.816Z"
   },
   {
    "duration": 38,
    "start_time": "2022-11-06T08:33:48.837Z"
   },
   {
    "duration": 45,
    "start_time": "2022-11-06T08:33:48.876Z"
   },
   {
    "duration": 18,
    "start_time": "2022-11-06T08:33:48.923Z"
   },
   {
    "duration": 25,
    "start_time": "2022-11-06T08:33:48.944Z"
   },
   {
    "duration": 16,
    "start_time": "2022-11-06T08:33:48.971Z"
   },
   {
    "duration": 361,
    "start_time": "2022-11-06T08:33:48.989Z"
   },
   {
    "duration": 363,
    "start_time": "2022-11-06T08:33:49.352Z"
   },
   {
    "duration": 624,
    "start_time": "2022-11-06T08:33:49.717Z"
   },
   {
    "duration": 365,
    "start_time": "2022-11-06T08:33:50.343Z"
   },
   {
    "duration": 459,
    "start_time": "2022-11-06T08:33:50.710Z"
   },
   {
    "duration": 220,
    "start_time": "2022-11-06T08:33:51.172Z"
   },
   {
    "duration": 733,
    "start_time": "2022-11-06T08:33:51.394Z"
   },
   {
    "duration": 1157,
    "start_time": "2022-11-06T08:33:52.129Z"
   },
   {
    "duration": 349,
    "start_time": "2022-11-06T08:33:53.287Z"
   },
   {
    "duration": 395,
    "start_time": "2022-11-06T08:33:53.638Z"
   },
   {
    "duration": 331,
    "start_time": "2022-11-06T08:33:54.035Z"
   },
   {
    "duration": 326,
    "start_time": "2022-11-06T08:33:54.369Z"
   },
   {
    "duration": 571,
    "start_time": "2022-11-06T08:33:54.696Z"
   },
   {
    "duration": 662,
    "start_time": "2022-11-06T08:33:55.269Z"
   },
   {
    "duration": 452,
    "start_time": "2022-11-06T08:33:55.933Z"
   },
   {
    "duration": 8,
    "start_time": "2022-11-06T08:33:56.387Z"
   },
   {
    "duration": 12,
    "start_time": "2022-11-06T08:33:56.399Z"
   },
   {
    "duration": 8,
    "start_time": "2022-11-06T08:41:49.559Z"
   },
   {
    "duration": 12,
    "start_time": "2022-11-06T08:45:32.992Z"
   },
   {
    "duration": 13,
    "start_time": "2022-11-06T08:45:42.725Z"
   },
   {
    "duration": 1283,
    "start_time": "2022-11-06T08:55:05.975Z"
   },
   {
    "duration": 151,
    "start_time": "2022-11-06T08:55:07.260Z"
   },
   {
    "duration": 3,
    "start_time": "2022-11-06T08:55:07.413Z"
   },
   {
    "duration": 9,
    "start_time": "2022-11-06T08:55:07.418Z"
   },
   {
    "duration": 6,
    "start_time": "2022-11-06T08:55:07.428Z"
   },
   {
    "duration": 12,
    "start_time": "2022-11-06T08:55:07.435Z"
   },
   {
    "duration": 40,
    "start_time": "2022-11-06T08:55:07.449Z"
   },
   {
    "duration": 12,
    "start_time": "2022-11-06T08:55:07.490Z"
   },
   {
    "duration": 9,
    "start_time": "2022-11-06T08:55:07.504Z"
   },
   {
    "duration": 7,
    "start_time": "2022-11-06T08:55:07.515Z"
   },
   {
    "duration": 4,
    "start_time": "2022-11-06T08:55:07.523Z"
   },
   {
    "duration": 350,
    "start_time": "2022-11-06T08:55:07.528Z"
   },
   {
    "duration": 320,
    "start_time": "2022-11-06T08:55:07.880Z"
   },
   {
    "duration": 546,
    "start_time": "2022-11-06T08:55:08.202Z"
   },
   {
    "duration": 327,
    "start_time": "2022-11-06T08:55:08.750Z"
   },
   {
    "duration": 404,
    "start_time": "2022-11-06T08:55:09.079Z"
   },
   {
    "duration": 185,
    "start_time": "2022-11-06T08:55:09.485Z"
   },
   {
    "duration": 640,
    "start_time": "2022-11-06T08:55:09.676Z"
   },
   {
    "duration": 1051,
    "start_time": "2022-11-06T08:55:10.318Z"
   },
   {
    "duration": 307,
    "start_time": "2022-11-06T08:55:11.371Z"
   },
   {
    "duration": 316,
    "start_time": "2022-11-06T08:55:11.680Z"
   },
   {
    "duration": 282,
    "start_time": "2022-11-06T08:55:11.998Z"
   },
   {
    "duration": 311,
    "start_time": "2022-11-06T08:55:12.282Z"
   },
   {
    "duration": 511,
    "start_time": "2022-11-06T08:55:12.595Z"
   },
   {
    "duration": 591,
    "start_time": "2022-11-06T08:55:13.107Z"
   },
   {
    "duration": 428,
    "start_time": "2022-11-06T08:55:13.700Z"
   },
   {
    "duration": 6,
    "start_time": "2022-11-06T08:55:14.130Z"
   },
   {
    "duration": 10,
    "start_time": "2022-11-06T08:55:14.139Z"
   },
   {
    "duration": 1060,
    "start_time": "2022-11-06T09:33:25.491Z"
   },
   {
    "duration": 99,
    "start_time": "2022-11-06T09:33:26.553Z"
   },
   {
    "duration": 3,
    "start_time": "2022-11-06T09:33:26.655Z"
   },
   {
    "duration": 19,
    "start_time": "2022-11-06T09:33:26.660Z"
   },
   {
    "duration": 6,
    "start_time": "2022-11-06T09:33:26.680Z"
   },
   {
    "duration": 16,
    "start_time": "2022-11-06T09:33:26.688Z"
   },
   {
    "duration": 12,
    "start_time": "2022-11-06T09:33:26.706Z"
   },
   {
    "duration": 7,
    "start_time": "2022-11-06T09:33:26.719Z"
   },
   {
    "duration": 9,
    "start_time": "2022-11-06T09:33:26.727Z"
   },
   {
    "duration": 8,
    "start_time": "2022-11-06T09:33:26.739Z"
   },
   {
    "duration": 4,
    "start_time": "2022-11-06T09:33:26.777Z"
   },
   {
    "duration": 349,
    "start_time": "2022-11-06T09:33:26.782Z"
   },
   {
    "duration": 285,
    "start_time": "2022-11-06T09:33:27.133Z"
   },
   {
    "duration": 588,
    "start_time": "2022-11-06T09:33:27.420Z"
   },
   {
    "duration": 318,
    "start_time": "2022-11-06T09:33:28.010Z"
   },
   {
    "duration": 399,
    "start_time": "2022-11-06T09:33:28.330Z"
   },
   {
    "duration": 180,
    "start_time": "2022-11-06T09:33:28.731Z"
   },
   {
    "duration": 619,
    "start_time": "2022-11-06T09:33:28.912Z"
   },
   {
    "duration": 1065,
    "start_time": "2022-11-06T09:33:29.533Z"
   },
   {
    "duration": 305,
    "start_time": "2022-11-06T09:33:30.600Z"
   },
   {
    "duration": 320,
    "start_time": "2022-11-06T09:33:30.907Z"
   },
   {
    "duration": 284,
    "start_time": "2022-11-06T09:33:31.229Z"
   },
   {
    "duration": 283,
    "start_time": "2022-11-06T09:33:31.514Z"
   },
   {
    "duration": 500,
    "start_time": "2022-11-06T09:33:31.799Z"
   },
   {
    "duration": 594,
    "start_time": "2022-11-06T09:33:32.300Z"
   },
   {
    "duration": 416,
    "start_time": "2022-11-06T09:33:32.896Z"
   },
   {
    "duration": 8,
    "start_time": "2022-11-06T09:33:33.314Z"
   },
   {
    "duration": 12,
    "start_time": "2022-11-06T09:33:33.326Z"
   },
   {
    "duration": 51,
    "start_time": "2022-11-06T17:30:01.916Z"
   },
   {
    "duration": 1292,
    "start_time": "2022-11-06T17:30:07.933Z"
   },
   {
    "duration": 150,
    "start_time": "2022-11-06T17:30:09.227Z"
   },
   {
    "duration": 5,
    "start_time": "2022-11-06T17:30:09.378Z"
   },
   {
    "duration": 9,
    "start_time": "2022-11-06T17:30:09.385Z"
   },
   {
    "duration": 7,
    "start_time": "2022-11-06T17:30:09.395Z"
   },
   {
    "duration": 11,
    "start_time": "2022-11-06T17:30:09.403Z"
   },
   {
    "duration": 13,
    "start_time": "2022-11-06T17:30:09.438Z"
   },
   {
    "duration": 9,
    "start_time": "2022-11-06T17:30:09.453Z"
   },
   {
    "duration": 12,
    "start_time": "2022-11-06T17:30:09.464Z"
   },
   {
    "duration": 7,
    "start_time": "2022-11-06T17:30:09.479Z"
   },
   {
    "duration": 6,
    "start_time": "2022-11-06T17:30:09.487Z"
   },
   {
    "duration": 369,
    "start_time": "2022-11-06T17:30:09.495Z"
   },
   {
    "duration": 298,
    "start_time": "2022-11-06T17:30:09.866Z"
   },
   {
    "duration": 571,
    "start_time": "2022-11-06T17:30:10.166Z"
   },
   {
    "duration": 316,
    "start_time": "2022-11-06T17:30:10.739Z"
   },
   {
    "duration": 409,
    "start_time": "2022-11-06T17:30:11.057Z"
   },
   {
    "duration": 203,
    "start_time": "2022-11-06T17:30:11.467Z"
   },
   {
    "duration": 640,
    "start_time": "2022-11-06T17:30:11.673Z"
   },
   {
    "duration": 1050,
    "start_time": "2022-11-06T17:30:12.314Z"
   },
   {
    "duration": 297,
    "start_time": "2022-11-06T17:30:13.366Z"
   },
   {
    "duration": 295,
    "start_time": "2022-11-06T17:30:13.664Z"
   },
   {
    "duration": 308,
    "start_time": "2022-11-06T17:30:13.961Z"
   },
   {
    "duration": 320,
    "start_time": "2022-11-06T17:30:14.272Z"
   },
   {
    "duration": 523,
    "start_time": "2022-11-06T17:30:14.594Z"
   },
   {
    "duration": 572,
    "start_time": "2022-11-06T17:30:15.119Z"
   },
   {
    "duration": 419,
    "start_time": "2022-11-06T17:30:15.692Z"
   },
   {
    "duration": 9,
    "start_time": "2022-11-06T17:30:16.113Z"
   },
   {
    "duration": 10,
    "start_time": "2022-11-06T17:30:16.138Z"
   },
   {
    "duration": 325,
    "start_time": "2022-11-06T17:30:29.114Z"
   },
   {
    "duration": 653,
    "start_time": "2022-11-06T17:32:24.783Z"
   },
   {
    "duration": 307,
    "start_time": "2022-11-06T17:32:55.876Z"
   },
   {
    "duration": 339,
    "start_time": "2022-11-06T17:33:30.782Z"
   },
   {
    "duration": 196,
    "start_time": "2022-11-06T17:34:35.745Z"
   },
   {
    "duration": 1304,
    "start_time": "2022-11-06T17:55:49.719Z"
   },
   {
    "duration": 1155,
    "start_time": "2022-11-06T18:05:38.765Z"
   },
   {
    "duration": 1257,
    "start_time": "2022-11-06T18:06:05.037Z"
   },
   {
    "duration": 1128,
    "start_time": "2022-11-06T18:08:49.248Z"
   },
   {
    "duration": 98,
    "start_time": "2022-11-06T18:08:50.378Z"
   },
   {
    "duration": 4,
    "start_time": "2022-11-06T18:08:50.478Z"
   },
   {
    "duration": 11,
    "start_time": "2022-11-06T18:08:50.484Z"
   },
   {
    "duration": 8,
    "start_time": "2022-11-06T18:08:50.496Z"
   },
   {
    "duration": 35,
    "start_time": "2022-11-06T18:08:50.506Z"
   },
   {
    "duration": 13,
    "start_time": "2022-11-06T18:08:50.543Z"
   },
   {
    "duration": 8,
    "start_time": "2022-11-06T18:08:50.558Z"
   },
   {
    "duration": 11,
    "start_time": "2022-11-06T18:08:50.567Z"
   },
   {
    "duration": 6,
    "start_time": "2022-11-06T18:08:50.580Z"
   },
   {
    "duration": 7,
    "start_time": "2022-11-06T18:08:50.588Z"
   },
   {
    "duration": 376,
    "start_time": "2022-11-06T18:08:50.596Z"
   },
   {
    "duration": 297,
    "start_time": "2022-11-06T18:08:50.974Z"
   },
   {
    "duration": 572,
    "start_time": "2022-11-06T18:08:51.273Z"
   },
   {
    "duration": 319,
    "start_time": "2022-11-06T18:08:51.846Z"
   },
   {
    "duration": 396,
    "start_time": "2022-11-06T18:08:52.167Z"
   },
   {
    "duration": 181,
    "start_time": "2022-11-06T18:08:52.565Z"
   },
   {
    "duration": 1200,
    "start_time": "2022-11-06T18:08:52.748Z"
   },
   {
    "duration": 1136,
    "start_time": "2022-11-06T18:08:53.950Z"
   },
   {
    "duration": 366,
    "start_time": "2022-11-06T18:08:55.088Z"
   },
   {
    "duration": 289,
    "start_time": "2022-11-06T18:08:55.456Z"
   },
   {
    "duration": 274,
    "start_time": "2022-11-06T18:08:55.747Z"
   },
   {
    "duration": 218,
    "start_time": "2022-11-06T18:08:56.023Z"
   },
   {
    "duration": 517,
    "start_time": "2022-11-06T18:08:56.242Z"
   },
   {
    "duration": 754,
    "start_time": "2022-11-06T18:08:56.760Z"
   },
   {
    "duration": 407,
    "start_time": "2022-11-06T18:08:57.516Z"
   },
   {
    "duration": 16,
    "start_time": "2022-11-06T18:08:57.925Z"
   },
   {
    "duration": 11,
    "start_time": "2022-11-06T18:08:57.944Z"
   },
   {
    "duration": 254,
    "start_time": "2022-11-06T18:12:08.847Z"
   },
   {
    "duration": 259,
    "start_time": "2022-11-06T18:12:36.918Z"
   },
   {
    "duration": 284,
    "start_time": "2022-11-06T18:31:13.846Z"
   },
   {
    "duration": 122,
    "start_time": "2022-11-06T18:31:33.464Z"
   },
   {
    "duration": 118,
    "start_time": "2022-11-06T18:31:46.688Z"
   },
   {
    "duration": 247,
    "start_time": "2022-11-06T18:31:54.457Z"
   },
   {
    "duration": 140,
    "start_time": "2022-11-06T18:33:26.492Z"
   },
   {
    "duration": 137,
    "start_time": "2022-11-06T18:33:52.440Z"
   },
   {
    "duration": 134,
    "start_time": "2022-11-06T18:33:59.366Z"
   },
   {
    "duration": 241,
    "start_time": "2022-11-06T18:34:48.315Z"
   },
   {
    "duration": 1082,
    "start_time": "2022-11-06T18:37:32.512Z"
   },
   {
    "duration": 104,
    "start_time": "2022-11-06T18:37:33.596Z"
   },
   {
    "duration": 3,
    "start_time": "2022-11-06T18:37:33.701Z"
   },
   {
    "duration": 9,
    "start_time": "2022-11-06T18:37:33.707Z"
   },
   {
    "duration": 24,
    "start_time": "2022-11-06T18:37:33.717Z"
   },
   {
    "duration": 12,
    "start_time": "2022-11-06T18:37:33.742Z"
   },
   {
    "duration": 12,
    "start_time": "2022-11-06T18:37:33.756Z"
   },
   {
    "duration": 7,
    "start_time": "2022-11-06T18:37:33.769Z"
   },
   {
    "duration": 11,
    "start_time": "2022-11-06T18:37:33.777Z"
   },
   {
    "duration": 7,
    "start_time": "2022-11-06T18:37:33.791Z"
   },
   {
    "duration": 40,
    "start_time": "2022-11-06T18:37:33.799Z"
   },
   {
    "duration": 324,
    "start_time": "2022-11-06T18:37:33.841Z"
   },
   {
    "duration": 296,
    "start_time": "2022-11-06T18:37:34.166Z"
   },
   {
    "duration": 563,
    "start_time": "2022-11-06T18:37:34.463Z"
   },
   {
    "duration": 315,
    "start_time": "2022-11-06T18:37:35.027Z"
   },
   {
    "duration": 387,
    "start_time": "2022-11-06T18:37:35.343Z"
   },
   {
    "duration": 182,
    "start_time": "2022-11-06T18:37:35.732Z"
   },
   {
    "duration": 1235,
    "start_time": "2022-11-06T18:37:35.916Z"
   },
   {
    "duration": 315,
    "start_time": "2022-11-06T18:37:37.153Z"
   },
   {
    "duration": 1014,
    "start_time": "2022-11-06T18:37:37.470Z"
   },
   {
    "duration": 283,
    "start_time": "2022-11-06T18:37:38.485Z"
   },
   {
    "duration": 289,
    "start_time": "2022-11-06T18:37:38.770Z"
   },
   {
    "duration": 278,
    "start_time": "2022-11-06T18:37:39.060Z"
   },
   {
    "duration": 231,
    "start_time": "2022-11-06T18:37:39.340Z"
   },
   {
    "duration": 503,
    "start_time": "2022-11-06T18:37:39.574Z"
   },
   {
    "duration": 718,
    "start_time": "2022-11-06T18:37:40.079Z"
   },
   {
    "duration": 423,
    "start_time": "2022-11-06T18:37:40.798Z"
   },
   {
    "duration": 14,
    "start_time": "2022-11-06T18:37:41.224Z"
   },
   {
    "duration": 13,
    "start_time": "2022-11-06T18:37:41.240Z"
   },
   {
    "duration": 262,
    "start_time": "2022-11-06T18:38:32.571Z"
   },
   {
    "duration": 252,
    "start_time": "2022-11-06T18:38:49.165Z"
   },
   {
    "duration": 376,
    "start_time": "2022-11-06T18:47:05.664Z"
   },
   {
    "duration": 259,
    "start_time": "2022-11-06T18:47:19.386Z"
   },
   {
    "duration": 457,
    "start_time": "2022-11-06T18:47:51.757Z"
   },
   {
    "duration": 407,
    "start_time": "2022-11-06T18:48:17.246Z"
   },
   {
    "duration": 443,
    "start_time": "2022-11-06T18:48:33.841Z"
   },
   {
    "duration": 406,
    "start_time": "2022-11-06T18:50:46.270Z"
   },
   {
    "duration": 345,
    "start_time": "2022-11-06T18:50:56.606Z"
   },
   {
    "duration": 625,
    "start_time": "2022-11-06T18:51:16.781Z"
   },
   {
    "duration": 226,
    "start_time": "2022-11-06T18:53:09.757Z"
   },
   {
    "duration": 255,
    "start_time": "2022-11-06T18:53:28.583Z"
   },
   {
    "duration": 265,
    "start_time": "2022-11-06T18:54:13.253Z"
   },
   {
    "duration": 292,
    "start_time": "2022-11-06T18:55:20.107Z"
   },
   {
    "duration": 282,
    "start_time": "2022-11-06T18:55:29.894Z"
   },
   {
    "duration": 364,
    "start_time": "2022-11-06T18:55:39.342Z"
   },
   {
    "duration": 288,
    "start_time": "2022-11-06T18:55:44.767Z"
   },
   {
    "duration": 280,
    "start_time": "2022-11-06T18:55:54.734Z"
   },
   {
    "duration": 315,
    "start_time": "2022-11-06T18:56:00.686Z"
   },
   {
    "duration": 198,
    "start_time": "2022-11-06T19:09:57.788Z"
   },
   {
    "duration": 26,
    "start_time": "2022-11-06T19:12:18.728Z"
   },
   {
    "duration": 620,
    "start_time": "2022-11-06T19:12:44.423Z"
   },
   {
    "duration": 517,
    "start_time": "2022-11-06T19:15:01.154Z"
   },
   {
    "duration": 594,
    "start_time": "2022-11-06T19:15:16.507Z"
   },
   {
    "duration": 558,
    "start_time": "2022-11-06T19:16:40.583Z"
   },
   {
    "duration": 705,
    "start_time": "2022-11-06T19:19:09.088Z"
   },
   {
    "duration": 569,
    "start_time": "2022-11-06T19:19:44.704Z"
   },
   {
    "duration": 563,
    "start_time": "2022-11-06T19:21:26.737Z"
   },
   {
    "duration": 634,
    "start_time": "2022-11-06T19:21:35.319Z"
   },
   {
    "duration": 708,
    "start_time": "2022-11-06T19:22:48.655Z"
   },
   {
    "duration": 199,
    "start_time": "2022-11-06T19:34:04.177Z"
   },
   {
    "duration": 213,
    "start_time": "2022-11-06T19:44:29.544Z"
   },
   {
    "duration": 196,
    "start_time": "2022-11-06T19:44:52.214Z"
   },
   {
    "duration": 5,
    "start_time": "2022-11-06T19:58:07.801Z"
   },
   {
    "duration": 1053,
    "start_time": "2022-11-06T20:00:05.080Z"
   },
   {
    "duration": 106,
    "start_time": "2022-11-06T20:00:06.136Z"
   },
   {
    "duration": 4,
    "start_time": "2022-11-06T20:00:06.244Z"
   },
   {
    "duration": 10,
    "start_time": "2022-11-06T20:00:06.250Z"
   },
   {
    "duration": 6,
    "start_time": "2022-11-06T20:00:06.262Z"
   },
   {
    "duration": 12,
    "start_time": "2022-11-06T20:00:06.270Z"
   },
   {
    "duration": 17,
    "start_time": "2022-11-06T20:00:06.284Z"
   },
   {
    "duration": 37,
    "start_time": "2022-11-06T20:00:06.302Z"
   },
   {
    "duration": 10,
    "start_time": "2022-11-06T20:00:06.341Z"
   },
   {
    "duration": 6,
    "start_time": "2022-11-06T20:00:06.355Z"
   },
   {
    "duration": 10,
    "start_time": "2022-11-06T20:00:06.363Z"
   },
   {
    "duration": 6,
    "start_time": "2022-11-06T20:00:06.376Z"
   },
   {
    "duration": 427,
    "start_time": "2022-11-06T20:00:06.384Z"
   },
   {
    "duration": 345,
    "start_time": "2022-11-06T20:00:06.812Z"
   },
   {
    "duration": 615,
    "start_time": "2022-11-06T20:00:07.159Z"
   },
   {
    "duration": 314,
    "start_time": "2022-11-06T20:00:07.776Z"
   },
   {
    "duration": 384,
    "start_time": "2022-11-06T20:00:08.091Z"
   },
   {
    "duration": 183,
    "start_time": "2022-11-06T20:00:08.476Z"
   },
   {
    "duration": 1262,
    "start_time": "2022-11-06T20:00:08.661Z"
   },
   {
    "duration": 310,
    "start_time": "2022-11-06T20:00:09.924Z"
   },
   {
    "duration": 306,
    "start_time": "2022-11-06T20:00:10.235Z"
   },
   {
    "duration": 317,
    "start_time": "2022-11-06T20:00:10.543Z"
   },
   {
    "duration": 289,
    "start_time": "2022-11-06T20:00:10.862Z"
   },
   {
    "duration": 207,
    "start_time": "2022-11-06T20:00:11.153Z"
   },
   {
    "duration": 751,
    "start_time": "2022-11-06T20:00:11.362Z"
   },
   {
    "duration": 623,
    "start_time": "2022-11-06T20:00:12.115Z"
   },
   {
    "duration": 417,
    "start_time": "2022-11-06T20:00:12.740Z"
   },
   {
    "duration": 7,
    "start_time": "2022-11-06T20:00:13.161Z"
   },
   {
    "duration": 13,
    "start_time": "2022-11-06T20:00:13.170Z"
   },
   {
    "duration": 5,
    "start_time": "2022-11-06T20:05:19.111Z"
   },
   {
    "duration": 8,
    "start_time": "2022-11-06T20:06:51.512Z"
   },
   {
    "duration": 5,
    "start_time": "2022-11-06T20:07:01.249Z"
   },
   {
    "duration": 1235,
    "start_time": "2022-11-06T20:07:06.658Z"
   },
   {
    "duration": 96,
    "start_time": "2022-11-06T20:07:07.895Z"
   },
   {
    "duration": 3,
    "start_time": "2022-11-06T20:07:07.992Z"
   },
   {
    "duration": 8,
    "start_time": "2022-11-06T20:07:07.997Z"
   },
   {
    "duration": 6,
    "start_time": "2022-11-06T20:07:08.007Z"
   },
   {
    "duration": 31,
    "start_time": "2022-11-06T20:07:08.015Z"
   },
   {
    "duration": 14,
    "start_time": "2022-11-06T20:07:08.048Z"
   },
   {
    "duration": 7,
    "start_time": "2022-11-06T20:07:08.064Z"
   },
   {
    "duration": 13,
    "start_time": "2022-11-06T20:07:08.073Z"
   },
   {
    "duration": 5,
    "start_time": "2022-11-06T20:07:08.089Z"
   },
   {
    "duration": 44,
    "start_time": "2022-11-06T20:07:08.095Z"
   },
   {
    "duration": 5,
    "start_time": "2022-11-06T20:07:08.140Z"
   },
   {
    "duration": 333,
    "start_time": "2022-11-06T20:07:08.147Z"
   },
   {
    "duration": 313,
    "start_time": "2022-11-06T20:07:08.481Z"
   },
   {
    "duration": 595,
    "start_time": "2022-11-06T20:07:08.796Z"
   },
   {
    "duration": 334,
    "start_time": "2022-11-06T20:07:09.393Z"
   },
   {
    "duration": 420,
    "start_time": "2022-11-06T20:07:09.729Z"
   },
   {
    "duration": 194,
    "start_time": "2022-11-06T20:07:10.151Z"
   },
   {
    "duration": 1403,
    "start_time": "2022-11-06T20:07:10.348Z"
   },
   {
    "duration": 353,
    "start_time": "2022-11-06T20:07:11.753Z"
   },
   {
    "duration": 331,
    "start_time": "2022-11-06T20:07:12.114Z"
   },
   {
    "duration": 292,
    "start_time": "2022-11-06T20:07:12.447Z"
   },
   {
    "duration": 274,
    "start_time": "2022-11-06T20:07:12.741Z"
   },
   {
    "duration": 224,
    "start_time": "2022-11-06T20:07:13.017Z"
   },
   {
    "duration": 617,
    "start_time": "2022-11-06T20:07:13.243Z"
   },
   {
    "duration": 621,
    "start_time": "2022-11-06T20:07:13.861Z"
   },
   {
    "duration": 445,
    "start_time": "2022-11-06T20:07:14.484Z"
   },
   {
    "duration": 12,
    "start_time": "2022-11-06T20:07:14.932Z"
   },
   {
    "duration": 11,
    "start_time": "2022-11-06T20:07:14.945Z"
   },
   {
    "duration": 417,
    "start_time": "2022-11-06T20:08:35.636Z"
   },
   {
    "duration": 515,
    "start_time": "2022-11-06T20:19:14.109Z"
   },
   {
    "duration": 1262,
    "start_time": "2022-11-08T05:00:13.490Z"
   },
   {
    "duration": 160,
    "start_time": "2022-11-08T05:00:14.754Z"
   },
   {
    "duration": 4,
    "start_time": "2022-11-08T05:00:14.915Z"
   },
   {
    "duration": 15,
    "start_time": "2022-11-08T05:00:14.920Z"
   },
   {
    "duration": 8,
    "start_time": "2022-11-08T05:00:14.937Z"
   },
   {
    "duration": 22,
    "start_time": "2022-11-08T05:00:14.946Z"
   },
   {
    "duration": 23,
    "start_time": "2022-11-08T05:00:14.970Z"
   },
   {
    "duration": 9,
    "start_time": "2022-11-08T05:00:14.996Z"
   },
   {
    "duration": 52,
    "start_time": "2022-11-08T05:00:15.006Z"
   },
   {
    "duration": 8,
    "start_time": "2022-11-08T05:00:15.061Z"
   },
   {
    "duration": 10,
    "start_time": "2022-11-08T05:00:15.071Z"
   },
   {
    "duration": 20,
    "start_time": "2022-11-08T05:00:15.082Z"
   },
   {
    "duration": 303,
    "start_time": "2022-11-08T05:00:15.104Z"
   },
   {
    "duration": 279,
    "start_time": "2022-11-08T05:00:15.409Z"
   },
   {
    "duration": 535,
    "start_time": "2022-11-08T05:00:15.690Z"
   },
   {
    "duration": 298,
    "start_time": "2022-11-08T05:00:16.227Z"
   },
   {
    "duration": 381,
    "start_time": "2022-11-08T05:00:16.526Z"
   },
   {
    "duration": 177,
    "start_time": "2022-11-08T05:00:16.908Z"
   },
   {
    "duration": 1224,
    "start_time": "2022-11-08T05:00:17.088Z"
   },
   {
    "duration": 278,
    "start_time": "2022-11-08T05:00:18.313Z"
   },
   {
    "duration": 275,
    "start_time": "2022-11-08T05:00:18.593Z"
   },
   {
    "duration": 267,
    "start_time": "2022-11-08T05:00:18.870Z"
   },
   {
    "duration": 275,
    "start_time": "2022-11-08T05:00:19.139Z"
   },
   {
    "duration": 199,
    "start_time": "2022-11-08T05:00:19.416Z"
   },
   {
    "duration": 566,
    "start_time": "2022-11-08T05:00:19.617Z"
   },
   {
    "duration": 575,
    "start_time": "2022-11-08T05:00:20.186Z"
   },
   {
    "duration": 414,
    "start_time": "2022-11-08T05:00:20.763Z"
   },
   {
    "duration": 7,
    "start_time": "2022-11-08T05:00:21.185Z"
   },
   {
    "duration": 13,
    "start_time": "2022-11-08T05:00:21.194Z"
   }
  ],
  "kernelspec": {
   "display_name": "Python 3 (ipykernel)",
   "language": "python",
   "name": "python3"
  },
  "language_info": {
   "codemirror_mode": {
    "name": "ipython",
    "version": 3
   },
   "file_extension": ".py",
   "mimetype": "text/x-python",
   "name": "python",
   "nbconvert_exporter": "python",
   "pygments_lexer": "ipython3",
   "version": "3.9.5"
  },
  "toc": {
   "base_numbering": 1,
   "nav_menu": {},
   "number_sections": true,
   "sideBar": true,
   "skip_h1_title": true,
   "title_cell": "Table of Contents",
   "title_sidebar": "Contents",
   "toc_cell": false,
   "toc_position": {},
   "toc_section_display": true,
   "toc_window_display": false
  }
 },
 "nbformat": 4,
 "nbformat_minor": 2
}
