{
 "cells": [
  {
   "cell_type": "markdown",
   "metadata": {},
   "source": [
    "# Определение стоимости автомобилей"
   ]
  },
  {
   "cell_type": "markdown",
   "metadata": {},
   "source": [
    "Сервис по продаже автомобилей с пробегом «Не бит, не крашен» разрабатывает приложение для привлечения новых клиентов. В нём можно быстро узнать рыночную стоимость своего автомобиля. В нашем распоряжении исторические данные: технические характеристики, комплектации и цены автомобилей. Нам нужно построить модель для определения стоимости. \n",
    "\n",
    "Заказчику важны:\n",
    "\n",
    "- качество предсказания;\n",
    "- скорость предсказания;\n",
    "- время обучения."
   ]
  },
  {
   "cell_type": "markdown",
   "metadata": {},
   "source": [
    "## Подготовка данных"
   ]
  },
  {
   "cell_type": "markdown",
   "metadata": {},
   "source": [
    "Начнем работу с импорта необходимых для работы библиотек"
   ]
  },
  {
   "cell_type": "code",
   "execution_count": 1,
   "metadata": {},
   "outputs": [],
   "source": [
    "import pandas as pd\n",
    "import matplotlib.pyplot as plt\n",
    "import seaborn as sns\n",
    "import lightgbm as lgb\n",
    "\n",
    "from sklearn.model_selection import train_test_split\n",
    "from sklearn.preprocessing import OrdinalEncoder\n",
    "from sklearn.preprocessing import StandardScaler\n",
    "from sklearn.linear_model import LinearRegression\n",
    "from sklearn.metrics import mean_squared_error\n",
    "from sklearn.tree import DecisionTreeClassifier\n",
    "from sklearn.ensemble import RandomForestRegressor\n",
    "from catboost import CatBoostRegressor\n",
    "from sklearn.preprocessing import OneHotEncoder\n",
    "from sklearn.compose import make_column_transformer"
   ]
  },
  {
   "cell_type": "markdown",
   "metadata": {},
   "source": [
    "Откроем датасет, выведем первые несколько строк датасета, а также выведем информацию о нем"
   ]
  },
  {
   "cell_type": "code",
   "execution_count": 2,
   "metadata": {},
   "outputs": [
    {
     "data": {
      "text/html": [
       "<div>\n",
       "<style scoped>\n",
       "    .dataframe tbody tr th:only-of-type {\n",
       "        vertical-align: middle;\n",
       "    }\n",
       "\n",
       "    .dataframe tbody tr th {\n",
       "        vertical-align: top;\n",
       "    }\n",
       "\n",
       "    .dataframe thead th {\n",
       "        text-align: right;\n",
       "    }\n",
       "</style>\n",
       "<table border=\"1\" class=\"dataframe\">\n",
       "  <thead>\n",
       "    <tr style=\"text-align: right;\">\n",
       "      <th></th>\n",
       "      <th>DateCrawled</th>\n",
       "      <th>Price</th>\n",
       "      <th>VehicleType</th>\n",
       "      <th>RegistrationYear</th>\n",
       "      <th>Gearbox</th>\n",
       "      <th>Power</th>\n",
       "      <th>Model</th>\n",
       "      <th>Kilometer</th>\n",
       "      <th>RegistrationMonth</th>\n",
       "      <th>FuelType</th>\n",
       "      <th>Brand</th>\n",
       "      <th>Repaired</th>\n",
       "      <th>DateCreated</th>\n",
       "      <th>NumberOfPictures</th>\n",
       "      <th>PostalCode</th>\n",
       "      <th>LastSeen</th>\n",
       "    </tr>\n",
       "  </thead>\n",
       "  <tbody>\n",
       "    <tr>\n",
       "      <th>0</th>\n",
       "      <td>2016-03-24 11:52:17</td>\n",
       "      <td>480</td>\n",
       "      <td>NaN</td>\n",
       "      <td>1993</td>\n",
       "      <td>manual</td>\n",
       "      <td>0</td>\n",
       "      <td>golf</td>\n",
       "      <td>150000</td>\n",
       "      <td>0</td>\n",
       "      <td>petrol</td>\n",
       "      <td>volkswagen</td>\n",
       "      <td>NaN</td>\n",
       "      <td>2016-03-24 00:00:00</td>\n",
       "      <td>0</td>\n",
       "      <td>70435</td>\n",
       "      <td>2016-04-07 03:16:57</td>\n",
       "    </tr>\n",
       "    <tr>\n",
       "      <th>1</th>\n",
       "      <td>2016-03-24 10:58:45</td>\n",
       "      <td>18300</td>\n",
       "      <td>coupe</td>\n",
       "      <td>2011</td>\n",
       "      <td>manual</td>\n",
       "      <td>190</td>\n",
       "      <td>NaN</td>\n",
       "      <td>125000</td>\n",
       "      <td>5</td>\n",
       "      <td>gasoline</td>\n",
       "      <td>audi</td>\n",
       "      <td>yes</td>\n",
       "      <td>2016-03-24 00:00:00</td>\n",
       "      <td>0</td>\n",
       "      <td>66954</td>\n",
       "      <td>2016-04-07 01:46:50</td>\n",
       "    </tr>\n",
       "    <tr>\n",
       "      <th>2</th>\n",
       "      <td>2016-03-14 12:52:21</td>\n",
       "      <td>9800</td>\n",
       "      <td>suv</td>\n",
       "      <td>2004</td>\n",
       "      <td>auto</td>\n",
       "      <td>163</td>\n",
       "      <td>grand</td>\n",
       "      <td>125000</td>\n",
       "      <td>8</td>\n",
       "      <td>gasoline</td>\n",
       "      <td>jeep</td>\n",
       "      <td>NaN</td>\n",
       "      <td>2016-03-14 00:00:00</td>\n",
       "      <td>0</td>\n",
       "      <td>90480</td>\n",
       "      <td>2016-04-05 12:47:46</td>\n",
       "    </tr>\n",
       "    <tr>\n",
       "      <th>3</th>\n",
       "      <td>2016-03-17 16:54:04</td>\n",
       "      <td>1500</td>\n",
       "      <td>small</td>\n",
       "      <td>2001</td>\n",
       "      <td>manual</td>\n",
       "      <td>75</td>\n",
       "      <td>golf</td>\n",
       "      <td>150000</td>\n",
       "      <td>6</td>\n",
       "      <td>petrol</td>\n",
       "      <td>volkswagen</td>\n",
       "      <td>no</td>\n",
       "      <td>2016-03-17 00:00:00</td>\n",
       "      <td>0</td>\n",
       "      <td>91074</td>\n",
       "      <td>2016-03-17 17:40:17</td>\n",
       "    </tr>\n",
       "    <tr>\n",
       "      <th>4</th>\n",
       "      <td>2016-03-31 17:25:20</td>\n",
       "      <td>3600</td>\n",
       "      <td>small</td>\n",
       "      <td>2008</td>\n",
       "      <td>manual</td>\n",
       "      <td>69</td>\n",
       "      <td>fabia</td>\n",
       "      <td>90000</td>\n",
       "      <td>7</td>\n",
       "      <td>gasoline</td>\n",
       "      <td>skoda</td>\n",
       "      <td>no</td>\n",
       "      <td>2016-03-31 00:00:00</td>\n",
       "      <td>0</td>\n",
       "      <td>60437</td>\n",
       "      <td>2016-04-06 10:17:21</td>\n",
       "    </tr>\n",
       "    <tr>\n",
       "      <th>5</th>\n",
       "      <td>2016-04-04 17:36:23</td>\n",
       "      <td>650</td>\n",
       "      <td>sedan</td>\n",
       "      <td>1995</td>\n",
       "      <td>manual</td>\n",
       "      <td>102</td>\n",
       "      <td>3er</td>\n",
       "      <td>150000</td>\n",
       "      <td>10</td>\n",
       "      <td>petrol</td>\n",
       "      <td>bmw</td>\n",
       "      <td>yes</td>\n",
       "      <td>2016-04-04 00:00:00</td>\n",
       "      <td>0</td>\n",
       "      <td>33775</td>\n",
       "      <td>2016-04-06 19:17:07</td>\n",
       "    </tr>\n",
       "    <tr>\n",
       "      <th>6</th>\n",
       "      <td>2016-04-01 20:48:51</td>\n",
       "      <td>2200</td>\n",
       "      <td>convertible</td>\n",
       "      <td>2004</td>\n",
       "      <td>manual</td>\n",
       "      <td>109</td>\n",
       "      <td>2_reihe</td>\n",
       "      <td>150000</td>\n",
       "      <td>8</td>\n",
       "      <td>petrol</td>\n",
       "      <td>peugeot</td>\n",
       "      <td>no</td>\n",
       "      <td>2016-04-01 00:00:00</td>\n",
       "      <td>0</td>\n",
       "      <td>67112</td>\n",
       "      <td>2016-04-05 18:18:39</td>\n",
       "    </tr>\n",
       "    <tr>\n",
       "      <th>7</th>\n",
       "      <td>2016-03-21 18:54:38</td>\n",
       "      <td>0</td>\n",
       "      <td>sedan</td>\n",
       "      <td>1980</td>\n",
       "      <td>manual</td>\n",
       "      <td>50</td>\n",
       "      <td>other</td>\n",
       "      <td>40000</td>\n",
       "      <td>7</td>\n",
       "      <td>petrol</td>\n",
       "      <td>volkswagen</td>\n",
       "      <td>no</td>\n",
       "      <td>2016-03-21 00:00:00</td>\n",
       "      <td>0</td>\n",
       "      <td>19348</td>\n",
       "      <td>2016-03-25 16:47:58</td>\n",
       "    </tr>\n",
       "    <tr>\n",
       "      <th>8</th>\n",
       "      <td>2016-04-04 23:42:13</td>\n",
       "      <td>14500</td>\n",
       "      <td>bus</td>\n",
       "      <td>2014</td>\n",
       "      <td>manual</td>\n",
       "      <td>125</td>\n",
       "      <td>c_max</td>\n",
       "      <td>30000</td>\n",
       "      <td>8</td>\n",
       "      <td>petrol</td>\n",
       "      <td>ford</td>\n",
       "      <td>NaN</td>\n",
       "      <td>2016-04-04 00:00:00</td>\n",
       "      <td>0</td>\n",
       "      <td>94505</td>\n",
       "      <td>2016-04-04 23:42:13</td>\n",
       "    </tr>\n",
       "    <tr>\n",
       "      <th>9</th>\n",
       "      <td>2016-03-17 10:53:50</td>\n",
       "      <td>999</td>\n",
       "      <td>small</td>\n",
       "      <td>1998</td>\n",
       "      <td>manual</td>\n",
       "      <td>101</td>\n",
       "      <td>golf</td>\n",
       "      <td>150000</td>\n",
       "      <td>0</td>\n",
       "      <td>NaN</td>\n",
       "      <td>volkswagen</td>\n",
       "      <td>NaN</td>\n",
       "      <td>2016-03-17 00:00:00</td>\n",
       "      <td>0</td>\n",
       "      <td>27472</td>\n",
       "      <td>2016-03-31 17:17:06</td>\n",
       "    </tr>\n",
       "  </tbody>\n",
       "</table>\n",
       "</div>"
      ],
      "text/plain": [
       "           DateCrawled  Price  VehicleType  RegistrationYear Gearbox  Power  \\\n",
       "0  2016-03-24 11:52:17    480          NaN              1993  manual      0   \n",
       "1  2016-03-24 10:58:45  18300        coupe              2011  manual    190   \n",
       "2  2016-03-14 12:52:21   9800          suv              2004    auto    163   \n",
       "3  2016-03-17 16:54:04   1500        small              2001  manual     75   \n",
       "4  2016-03-31 17:25:20   3600        small              2008  manual     69   \n",
       "5  2016-04-04 17:36:23    650        sedan              1995  manual    102   \n",
       "6  2016-04-01 20:48:51   2200  convertible              2004  manual    109   \n",
       "7  2016-03-21 18:54:38      0        sedan              1980  manual     50   \n",
       "8  2016-04-04 23:42:13  14500          bus              2014  manual    125   \n",
       "9  2016-03-17 10:53:50    999        small              1998  manual    101   \n",
       "\n",
       "     Model  Kilometer  RegistrationMonth  FuelType       Brand Repaired  \\\n",
       "0     golf     150000                  0    petrol  volkswagen      NaN   \n",
       "1      NaN     125000                  5  gasoline        audi      yes   \n",
       "2    grand     125000                  8  gasoline        jeep      NaN   \n",
       "3     golf     150000                  6    petrol  volkswagen       no   \n",
       "4    fabia      90000                  7  gasoline       skoda       no   \n",
       "5      3er     150000                 10    petrol         bmw      yes   \n",
       "6  2_reihe     150000                  8    petrol     peugeot       no   \n",
       "7    other      40000                  7    petrol  volkswagen       no   \n",
       "8    c_max      30000                  8    petrol        ford      NaN   \n",
       "9     golf     150000                  0       NaN  volkswagen      NaN   \n",
       "\n",
       "           DateCreated  NumberOfPictures  PostalCode             LastSeen  \n",
       "0  2016-03-24 00:00:00                 0       70435  2016-04-07 03:16:57  \n",
       "1  2016-03-24 00:00:00                 0       66954  2016-04-07 01:46:50  \n",
       "2  2016-03-14 00:00:00                 0       90480  2016-04-05 12:47:46  \n",
       "3  2016-03-17 00:00:00                 0       91074  2016-03-17 17:40:17  \n",
       "4  2016-03-31 00:00:00                 0       60437  2016-04-06 10:17:21  \n",
       "5  2016-04-04 00:00:00                 0       33775  2016-04-06 19:17:07  \n",
       "6  2016-04-01 00:00:00                 0       67112  2016-04-05 18:18:39  \n",
       "7  2016-03-21 00:00:00                 0       19348  2016-03-25 16:47:58  \n",
       "8  2016-04-04 00:00:00                 0       94505  2016-04-04 23:42:13  \n",
       "9  2016-03-17 00:00:00                 0       27472  2016-03-31 17:17:06  "
      ]
     },
     "metadata": {},
     "output_type": "display_data"
    },
    {
     "name": "stdout",
     "output_type": "stream",
     "text": [
      "<class 'pandas.core.frame.DataFrame'>\n",
      "RangeIndex: 354369 entries, 0 to 354368\n",
      "Data columns (total 16 columns):\n",
      " #   Column             Non-Null Count   Dtype \n",
      "---  ------             --------------   ----- \n",
      " 0   DateCrawled        354369 non-null  object\n",
      " 1   Price              354369 non-null  int64 \n",
      " 2   VehicleType        316879 non-null  object\n",
      " 3   RegistrationYear   354369 non-null  int64 \n",
      " 4   Gearbox            334536 non-null  object\n",
      " 5   Power              354369 non-null  int64 \n",
      " 6   Model              334664 non-null  object\n",
      " 7   Kilometer          354369 non-null  int64 \n",
      " 8   RegistrationMonth  354369 non-null  int64 \n",
      " 9   FuelType           321474 non-null  object\n",
      " 10  Brand              354369 non-null  object\n",
      " 11  Repaired           283215 non-null  object\n",
      " 12  DateCreated        354369 non-null  object\n",
      " 13  NumberOfPictures   354369 non-null  int64 \n",
      " 14  PostalCode         354369 non-null  int64 \n",
      " 15  LastSeen           354369 non-null  object\n",
      "dtypes: int64(7), object(9)\n",
      "memory usage: 43.3+ MB\n"
     ]
    }
   ],
   "source": [
    "data = pd.read_csv('/datasets/autos.csv')\n",
    "display(data.head(10))\n",
    "data.info()"
   ]
  },
  {
   "cell_type": "markdown",
   "metadata": {},
   "source": [
    "Как мы видим во многих столбцах имеются пропуски (зачастую они составляют небольшое количество относительно общего числа данных в каждом из столбцов)."
   ]
  },
  {
   "cell_type": "markdown",
   "metadata": {},
   "source": [
    "Посмотрим подробнее на значения в столбце с количество фотографий автомобиля ('NumberOfPictures') "
   ]
  },
  {
   "cell_type": "code",
   "execution_count": 3,
   "metadata": {
    "scrolled": true
   },
   "outputs": [
    {
     "name": "stdout",
     "output_type": "stream",
     "text": [
      "0    354369\n",
      "Name: NumberOfPictures, dtype: int64\n"
     ]
    }
   ],
   "source": [
    "print(data['NumberOfPictures'].value_counts())"
   ]
  },
  {
   "cell_type": "markdown",
   "metadata": {},
   "source": [
    "Как мы видим все значения в данном столбце нулевые и мы не можем это исправить"
   ]
  },
  {
   "cell_type": "markdown",
   "metadata": {},
   "source": [
    "Посмотрим на столбец 'DateCrawled' (дата скачивания анкеты из базы) чтобы определиться каким временным интервалом мы ограничены"
   ]
  },
  {
   "cell_type": "code",
   "execution_count": 4,
   "metadata": {},
   "outputs": [
    {
     "name": "stdout",
     "output_type": "stream",
     "text": [
      "90713     2016-04-07 14:36:58\n",
      "339649    2016-04-07 14:36:56\n",
      "301030    2016-04-07 14:36:55\n",
      "53739     2016-04-07 14:36:54\n",
      "204218    2016-04-07 14:36:53\n",
      "                 ...         \n",
      "99885     2016-03-05 14:06:24\n",
      "324763    2016-03-05 14:06:24\n",
      "176823    2016-03-05 14:06:24\n",
      "220583    2016-03-05 14:06:23\n",
      "329497    2016-03-05 14:06:22\n",
      "Name: DateCrawled, Length: 354369, dtype: object\n"
     ]
    }
   ],
   "source": [
    "print(data.sort_values('DateCrawled', ascending = False)['DateCrawled'])"
   ]
  },
  {
   "cell_type": "markdown",
   "metadata": {},
   "source": [
    "Как мы видим наши данные сформированы на 2016 год"
   ]
  },
  {
   "cell_type": "markdown",
   "metadata": {},
   "source": [
    "Посмотрим на наличие дубликатов в нашем датасете"
   ]
  },
  {
   "cell_type": "code",
   "execution_count": 5,
   "metadata": {},
   "outputs": [
    {
     "name": "stdout",
     "output_type": "stream",
     "text": [
      "4\n"
     ]
    }
   ],
   "source": [
    "print(data.duplicated().sum())"
   ]
  },
  {
   "cell_type": "markdown",
   "metadata": {},
   "source": [
    "Как мы видим их совсем немного - удалим их"
   ]
  },
  {
   "cell_type": "code",
   "execution_count": 6,
   "metadata": {},
   "outputs": [],
   "source": [
    "data = data.drop_duplicates().reset_index(drop=True)"
   ]
  },
  {
   "cell_type": "markdown",
   "metadata": {},
   "source": [
    "Нам необходимо будет предсказать цену авто, поэтому некоторые столбцы датасета будут для нас неинформативны - в частности: дата скачивания анкеты из базы ('DateCrawled'), дата создания анкеты ('DateCreated'), количество фотографий автомобиля ('NumberOfPictures') - тем более в этом столбце только нулевые значения, почтовый индекс владельца анкеты ('PostalCode'), дата последней активности пользователя ('LastSeen'). Удалим эти столбцы и посмотрим на получившийся датасет."
   ]
  },
  {
   "cell_type": "code",
   "execution_count": 7,
   "metadata": {
    "scrolled": true
   },
   "outputs": [
    {
     "data": {
      "text/html": [
       "<div>\n",
       "<style scoped>\n",
       "    .dataframe tbody tr th:only-of-type {\n",
       "        vertical-align: middle;\n",
       "    }\n",
       "\n",
       "    .dataframe tbody tr th {\n",
       "        vertical-align: top;\n",
       "    }\n",
       "\n",
       "    .dataframe thead th {\n",
       "        text-align: right;\n",
       "    }\n",
       "</style>\n",
       "<table border=\"1\" class=\"dataframe\">\n",
       "  <thead>\n",
       "    <tr style=\"text-align: right;\">\n",
       "      <th></th>\n",
       "      <th>Price</th>\n",
       "      <th>VehicleType</th>\n",
       "      <th>RegistrationYear</th>\n",
       "      <th>Gearbox</th>\n",
       "      <th>Power</th>\n",
       "      <th>Model</th>\n",
       "      <th>Kilometer</th>\n",
       "      <th>RegistrationMonth</th>\n",
       "      <th>FuelType</th>\n",
       "      <th>Brand</th>\n",
       "      <th>Repaired</th>\n",
       "    </tr>\n",
       "  </thead>\n",
       "  <tbody>\n",
       "    <tr>\n",
       "      <th>16077</th>\n",
       "      <td>9500</td>\n",
       "      <td>wagon</td>\n",
       "      <td>2008</td>\n",
       "      <td>manual</td>\n",
       "      <td>140</td>\n",
       "      <td>a3</td>\n",
       "      <td>150000</td>\n",
       "      <td>4</td>\n",
       "      <td>gasoline</td>\n",
       "      <td>audi</td>\n",
       "      <td>no</td>\n",
       "    </tr>\n",
       "    <tr>\n",
       "      <th>195117</th>\n",
       "      <td>2490</td>\n",
       "      <td>sedan</td>\n",
       "      <td>2004</td>\n",
       "      <td>manual</td>\n",
       "      <td>109</td>\n",
       "      <td>3_reihe</td>\n",
       "      <td>150000</td>\n",
       "      <td>9</td>\n",
       "      <td>gasoline</td>\n",
       "      <td>mazda</td>\n",
       "      <td>no</td>\n",
       "    </tr>\n",
       "    <tr>\n",
       "      <th>206268</th>\n",
       "      <td>1840</td>\n",
       "      <td>sedan</td>\n",
       "      <td>1997</td>\n",
       "      <td>manual</td>\n",
       "      <td>193</td>\n",
       "      <td>a4</td>\n",
       "      <td>150000</td>\n",
       "      <td>0</td>\n",
       "      <td>petrol</td>\n",
       "      <td>audi</td>\n",
       "      <td>NaN</td>\n",
       "    </tr>\n",
       "    <tr>\n",
       "      <th>286395</th>\n",
       "      <td>9500</td>\n",
       "      <td>wagon</td>\n",
       "      <td>2011</td>\n",
       "      <td>auto</td>\n",
       "      <td>310</td>\n",
       "      <td>a4</td>\n",
       "      <td>80000</td>\n",
       "      <td>4</td>\n",
       "      <td>gasoline</td>\n",
       "      <td>audi</td>\n",
       "      <td>no</td>\n",
       "    </tr>\n",
       "    <tr>\n",
       "      <th>307533</th>\n",
       "      <td>19500</td>\n",
       "      <td>wagon</td>\n",
       "      <td>2011</td>\n",
       "      <td>auto</td>\n",
       "      <td>143</td>\n",
       "      <td>a4</td>\n",
       "      <td>90000</td>\n",
       "      <td>8</td>\n",
       "      <td>gasoline</td>\n",
       "      <td>audi</td>\n",
       "      <td>no</td>\n",
       "    </tr>\n",
       "    <tr>\n",
       "      <th>149374</th>\n",
       "      <td>15700</td>\n",
       "      <td>suv</td>\n",
       "      <td>2011</td>\n",
       "      <td>manual</td>\n",
       "      <td>122</td>\n",
       "      <td>NaN</td>\n",
       "      <td>60000</td>\n",
       "      <td>12</td>\n",
       "      <td>petrol</td>\n",
       "      <td>volkswagen</td>\n",
       "      <td>no</td>\n",
       "    </tr>\n",
       "    <tr>\n",
       "      <th>264061</th>\n",
       "      <td>800</td>\n",
       "      <td>wagon</td>\n",
       "      <td>1993</td>\n",
       "      <td>manual</td>\n",
       "      <td>140</td>\n",
       "      <td>850</td>\n",
       "      <td>150000</td>\n",
       "      <td>7</td>\n",
       "      <td>petrol</td>\n",
       "      <td>volvo</td>\n",
       "      <td>no</td>\n",
       "    </tr>\n",
       "    <tr>\n",
       "      <th>34175</th>\n",
       "      <td>149</td>\n",
       "      <td>NaN</td>\n",
       "      <td>2005</td>\n",
       "      <td>NaN</td>\n",
       "      <td>0</td>\n",
       "      <td>m_klasse</td>\n",
       "      <td>5000</td>\n",
       "      <td>0</td>\n",
       "      <td>NaN</td>\n",
       "      <td>mercedes_benz</td>\n",
       "      <td>NaN</td>\n",
       "    </tr>\n",
       "    <tr>\n",
       "      <th>102462</th>\n",
       "      <td>10900</td>\n",
       "      <td>bus</td>\n",
       "      <td>2010</td>\n",
       "      <td>manual</td>\n",
       "      <td>145</td>\n",
       "      <td>5_reihe</td>\n",
       "      <td>80000</td>\n",
       "      <td>4</td>\n",
       "      <td>petrol</td>\n",
       "      <td>mazda</td>\n",
       "      <td>no</td>\n",
       "    </tr>\n",
       "    <tr>\n",
       "      <th>339668</th>\n",
       "      <td>3800</td>\n",
       "      <td>small</td>\n",
       "      <td>2001</td>\n",
       "      <td>manual</td>\n",
       "      <td>75</td>\n",
       "      <td>a2</td>\n",
       "      <td>150000</td>\n",
       "      <td>10</td>\n",
       "      <td>gasoline</td>\n",
       "      <td>audi</td>\n",
       "      <td>no</td>\n",
       "    </tr>\n",
       "  </tbody>\n",
       "</table>\n",
       "</div>"
      ],
      "text/plain": [
       "        Price VehicleType  RegistrationYear Gearbox  Power     Model  \\\n",
       "16077    9500       wagon              2008  manual    140        a3   \n",
       "195117   2490       sedan              2004  manual    109   3_reihe   \n",
       "206268   1840       sedan              1997  manual    193        a4   \n",
       "286395   9500       wagon              2011    auto    310        a4   \n",
       "307533  19500       wagon              2011    auto    143        a4   \n",
       "149374  15700         suv              2011  manual    122       NaN   \n",
       "264061    800       wagon              1993  manual    140       850   \n",
       "34175     149         NaN              2005     NaN      0  m_klasse   \n",
       "102462  10900         bus              2010  manual    145   5_reihe   \n",
       "339668   3800       small              2001  manual     75        a2   \n",
       "\n",
       "        Kilometer  RegistrationMonth  FuelType          Brand Repaired  \n",
       "16077      150000                  4  gasoline           audi       no  \n",
       "195117     150000                  9  gasoline          mazda       no  \n",
       "206268     150000                  0    petrol           audi      NaN  \n",
       "286395      80000                  4  gasoline           audi       no  \n",
       "307533      90000                  8  gasoline           audi       no  \n",
       "149374      60000                 12    petrol     volkswagen       no  \n",
       "264061     150000                  7    petrol          volvo       no  \n",
       "34175        5000                  0       NaN  mercedes_benz      NaN  \n",
       "102462      80000                  4    petrol          mazda       no  \n",
       "339668     150000                 10  gasoline           audi       no  "
      ]
     },
     "metadata": {},
     "output_type": "display_data"
    },
    {
     "name": "stdout",
     "output_type": "stream",
     "text": [
      "<class 'pandas.core.frame.DataFrame'>\n",
      "RangeIndex: 354365 entries, 0 to 354364\n",
      "Data columns (total 11 columns):\n",
      " #   Column             Non-Null Count   Dtype \n",
      "---  ------             --------------   ----- \n",
      " 0   Price              354365 non-null  int64 \n",
      " 1   VehicleType        316875 non-null  object\n",
      " 2   RegistrationYear   354365 non-null  int64 \n",
      " 3   Gearbox            334532 non-null  object\n",
      " 4   Power              354365 non-null  int64 \n",
      " 5   Model              334660 non-null  object\n",
      " 6   Kilometer          354365 non-null  int64 \n",
      " 7   RegistrationMonth  354365 non-null  int64 \n",
      " 8   FuelType           321470 non-null  object\n",
      " 9   Brand              354365 non-null  object\n",
      " 10  Repaired           283211 non-null  object\n",
      "dtypes: int64(5), object(6)\n",
      "memory usage: 29.7+ MB\n"
     ]
    }
   ],
   "source": [
    "data = data.drop(['DateCrawled', 'DateCreated', 'NumberOfPictures', 'PostalCode', 'LastSeen'], axis=1)\n",
    "display(data.sample(10))\n",
    "data.info()"
   ]
  },
  {
   "cell_type": "markdown",
   "metadata": {},
   "source": [
    "Посмотрим на значения в столбце 'Price' и построим по значениям этого столбца график"
   ]
  },
  {
   "cell_type": "code",
   "execution_count": 8,
   "metadata": {
    "scrolled": true
   },
   "outputs": [
    {
     "data": {
      "image/png": "[encoded data removed]",
      "text/plain": [
       "<Figure size 432x288 with 1 Axes>"
      ]
     },
     "metadata": {
      "needs_background": "light"
     },
     "output_type": "display_data"
    },
    {
     "name": "stdout",
     "output_type": "stream",
     "text": [
      "0        10772\n",
      "500       5670\n",
      "1500      5394\n",
      "1000      4648\n",
      "1200      4594\n",
      "         ...  \n",
      "13180        1\n",
      "10879        1\n",
      "2683         1\n",
      "634          1\n",
      "8188         1\n",
      "Name: Price, Length: 3731, dtype: int64\n"
     ]
    }
   ],
   "source": [
    "data['Price'].hist(bins=40)\n",
    "plt.show()\n",
    "print(data['Price'].value_counts())"
   ]
  },
  {
   "cell_type": "markdown",
   "metadata": {},
   "source": [
    "Как мы видим у нас имеется 10 тыс. нулевых значений цены - это явные аномалии. Удалим их"
   ]
  },
  {
   "cell_type": "code",
   "execution_count": 9,
   "metadata": {},
   "outputs": [],
   "source": [
    "data = data.loc[data['Price']!=0]"
   ]
  },
  {
   "cell_type": "markdown",
   "metadata": {},
   "source": [
    "Далее посмотрим какие еще значения у нас имеются в датасете и отсортируем значения"
   ]
  },
  {
   "cell_type": "code",
   "execution_count": 10,
   "metadata": {},
   "outputs": [
    {
     "name": "stdout",
     "output_type": "stream",
     "text": [
      "322319        1\n",
      "102202        1\n",
      "183699        1\n",
      "46837         1\n",
      "294681        1\n",
      "          ...  \n",
      "17724     20000\n",
      "94187     20000\n",
      "76411     20000\n",
      "307572    20000\n",
      "312213    20000\n",
      "Name: Price, Length: 343593, dtype: int64\n"
     ]
    }
   ],
   "source": [
    "print(data.sort_values('Price')['Price'])"
   ]
  },
  {
   "cell_type": "markdown",
   "metadata": {},
   "source": [
    "Как мы видим у нас имеются значения цены равные 1 евро - что не очень похоже на правду для цены авто, однако мы вряд ли сможем точно установить минимальный порог цены на авто (вдруг кто-то желает избавиться от своего авто за \"символическую цену\") - обозначим минимальный порог стоимости авто в 100 евро"
   ]
  },
  {
   "cell_type": "code",
   "execution_count": 11,
   "metadata": {},
   "outputs": [],
   "source": [
    "data = data.loc[data['Price'] > 100]"
   ]
  },
  {
   "cell_type": "markdown",
   "metadata": {},
   "source": [
    "Посмотрим на значения в столбце 'VehicleType' и построим по значениям этого столбца график, а также посмотрим на пропуски в этом столбце"
   ]
  },
  {
   "cell_type": "code",
   "execution_count": 12,
   "metadata": {},
   "outputs": [
    {
     "data": {
      "image/png": "[encoded data removed]",
      "text/plain": [
       "<Figure size 432x288 with 1 Axes>"
      ]
     },
     "metadata": {
      "needs_background": "light"
     },
     "output_type": "display_data"
    },
    {
     "name": "stdout",
     "output_type": "stream",
     "text": [
      "sedan          88965\n",
      "small          77028\n",
      "wagon          63383\n",
      "bus            28256\n",
      "convertible    19807\n",
      "coupe          15532\n",
      "suv            11758\n",
      "other           3040\n",
      "Name: VehicleType, dtype: int64\n",
      "\n",
      "32251\n"
     ]
    }
   ],
   "source": [
    "sns.countplot(data=data, x='VehicleType')\n",
    "plt.show()\n",
    "print(data['VehicleType'].value_counts())\n",
    "print()\n",
    "print(data['VehicleType'].isna().sum())"
   ]
  },
  {
   "cell_type": "markdown",
   "metadata": {},
   "source": [
    "Как мы видим у нас имеется довольно много пропусков в этом столбце и они составляют около 10% от общего объема данных, поэтому удалить их просто так не получится. Остается заменить все пропуски на значение 'unknown'"
   ]
  },
  {
   "cell_type": "code",
   "execution_count": 13,
   "metadata": {},
   "outputs": [],
   "source": [
    "data['VehicleType'] = data['VehicleType'].fillna('unknown')"
   ]
  },
  {
   "cell_type": "markdown",
   "metadata": {},
   "source": [
    "Посмотрим на значения в столбце 'RegistrationYear', а также оценим количество пропусков в нем"
   ]
  },
  {
   "cell_type": "code",
   "execution_count": 14,
   "metadata": {},
   "outputs": [
    {
     "name": "stdout",
     "output_type": "stream",
     "text": [
      "2000    22496\n",
      "1999    21779\n",
      "2005    21341\n",
      "2006    19639\n",
      "2001    19549\n",
      "        ...  \n",
      "1946        1\n",
      "1949        1\n",
      "5300        1\n",
      "8888        1\n",
      "2290        1\n",
      "Name: RegistrationYear, Length: 136, dtype: int64\n",
      "\n",
      "0\n"
     ]
    }
   ],
   "source": [
    "print(data['RegistrationYear'].value_counts())\n",
    "print()\n",
    "print(data['RegistrationYear'].isna().sum())"
   ]
  },
  {
   "cell_type": "markdown",
   "metadata": {},
   "source": [
    "Как мы видим пропуски отсутствуют, но имеются явно аномальные значения в годах регистрации. Как-то логично исправить такие значения не получится, поэтому удалим значения годов до 1885 (год создания первого автомобиля) и после 2016 года (т.к. данные выгружены в этом году)"
   ]
  },
  {
   "cell_type": "code",
   "execution_count": 15,
   "metadata": {},
   "outputs": [],
   "source": [
    "data = data.loc[data['RegistrationYear'] > 1885]\n",
    "data = data.loc[data['RegistrationYear'] <= 2016]"
   ]
  },
  {
   "cell_type": "markdown",
   "metadata": {},
   "source": [
    "Посмотрим на значения в столбце 'Gearbox' и построим по значениям этого столбца график, а также посмотрим на пропуски в этом столбце"
   ]
  },
  {
   "cell_type": "code",
   "execution_count": 16,
   "metadata": {},
   "outputs": [
    {
     "data": {
      "image/png": "[encoded data removed]",
      "text/plain": [
       "<Figure size 432x288 with 1 Axes>"
      ]
     },
     "metadata": {
      "needs_background": "light"
     },
     "output_type": "display_data"
    },
    {
     "name": "stdout",
     "output_type": "stream",
     "text": [
      "manual    249168\n",
      "auto       62763\n",
      "Name: Gearbox, dtype: int64\n",
      "\n",
      "14376\n"
     ]
    }
   ],
   "source": [
    "sns.countplot(data=data, x='Gearbox')\n",
    "plt.show()\n",
    "print(data['Gearbox'].value_counts())\n",
    "print()\n",
    "print(data['Gearbox'].isna().sum())"
   ]
  },
  {
   "cell_type": "markdown",
   "metadata": {},
   "source": [
    "Как мы видим у нас ощутимо больше машин с ручной коробкой передач, а также имеются пропуски. Заполнить их вы вряд ли сможем т.к. для многих машин одной модели обычно доступны комплектации с разными коробками передач - поэтому заполним пропуски значением 'unknown'"
   ]
  },
  {
   "cell_type": "code",
   "execution_count": 17,
   "metadata": {},
   "outputs": [],
   "source": [
    "data['Gearbox'] = data['Gearbox'].fillna('unknown')"
   ]
  },
  {
   "cell_type": "markdown",
   "metadata": {},
   "source": [
    "Посмотрим на значения в столбце 'Power' и построим по значениям этого столбца график"
   ]
  },
  {
   "cell_type": "code",
   "execution_count": 18,
   "metadata": {},
   "outputs": [
    {
     "data": {
      "image/png": "[encoded data removed]",
      "text/plain": [
       "<Figure size 432x288 with 1 Axes>"
      ]
     },
     "metadata": {
      "needs_background": "light"
     },
     "output_type": "display_data"
    },
    {
     "name": "stdout",
     "output_type": "stream",
     "text": [
      "0        31209\n",
      "75       21919\n",
      "60       14559\n",
      "150      13688\n",
      "101      12374\n",
      "         ...  \n",
      "1625         1\n",
      "685          1\n",
      "1799         1\n",
      "15017        1\n",
      "903          1\n",
      "Name: Power, Length: 681, dtype: int64\n"
     ]
    }
   ],
   "source": [
    "data['Power'].hist(bins=50, range=(0, 1000))\n",
    "plt.show()\n",
    "print(data['Power'].value_counts())"
   ]
  },
  {
   "cell_type": "markdown",
   "metadata": {},
   "source": [
    "Как мы видим у нас имеются явные аномалии в данных - автомобили с 0 мощностью, а также со слишком большой мощностью (более 1000 л.с.). Как-то исправить слишком большую мощность сложно, т.к. это не похоже на опечатку и лишнее количество нулей, нулевую мощность мы также вряд ли сможем исправить - т.к. ориентироваться на авто с имеющейся информацией о мощности не совсем корректно из-за различных двигателей и комплектаций для одной модели машин. Удалим строки с мощностью менее 10 л.с. и более 1000 л.с. - т.к. такие большие значения мощности почти не встречаются кроме нескольких не серийных суперкаров"
   ]
  },
  {
   "cell_type": "code",
   "execution_count": 19,
   "metadata": {},
   "outputs": [],
   "source": [
    "data = data.loc[data['Power'] > 10]\n",
    "data = data.loc[data['Power'] < 1000]"
   ]
  },
  {
   "cell_type": "markdown",
   "metadata": {},
   "source": [
    "Посмотрим на значения в столбце 'Model', а также оценим количество пропусков в нем"
   ]
  },
  {
   "cell_type": "code",
   "execution_count": 20,
   "metadata": {},
   "outputs": [
    {
     "name": "stdout",
     "output_type": "stream",
     "text": [
      "golf                  24566\n",
      "other                 20326\n",
      "3er                   17318\n",
      "polo                  10561\n",
      "corsa                  9963\n",
      "                      ...  \n",
      "samara                    5\n",
      "kalina                    5\n",
      "serie_3                   3\n",
      "rangerover                2\n",
      "range_rover_evoque        2\n",
      "Name: Model, Length: 249, dtype: int64\n",
      "\n",
      "10876\n"
     ]
    }
   ],
   "source": [
    "print(data['Model'].value_counts())\n",
    "print()\n",
    "print(data['Model'].isna().sum())"
   ]
  },
  {
   "cell_type": "markdown",
   "metadata": {},
   "source": [
    "Как мы видим у нас имеется некоторое количество пропусков, которые мы вряд ли сможем заполнить как-то логично, поэтому заполним пропуски значением 'unknown'"
   ]
  },
  {
   "cell_type": "code",
   "execution_count": 21,
   "metadata": {},
   "outputs": [],
   "source": [
    "data['Model'] = data['Model'].fillna('unknown')"
   ]
  },
  {
   "cell_type": "markdown",
   "metadata": {},
   "source": [
    "Посмотрим на значения в столбце 'Kilometer' и построим по значениям этого столбца график, а также оценим количество пропусков в нем"
   ]
  },
  {
   "cell_type": "code",
   "execution_count": 22,
   "metadata": {},
   "outputs": [
    {
     "data": {
      "image/png": "[encoded data removed]",
      "text/plain": [
       "<Figure size 432x288 with 1 Axes>"
      ]
     },
     "metadata": {
      "needs_background": "light"
     },
     "output_type": "display_data"
    },
    {
     "name": "stdout",
     "output_type": "stream",
     "text": [
      "150000    195219\n",
      "125000     31714\n",
      "100000     12799\n",
      "90000      10285\n",
      "80000       9015\n",
      "70000       7802\n",
      "60000       6834\n",
      "50000       5650\n",
      "40000       4499\n",
      "30000       3881\n",
      "20000       3242\n",
      "5000        2767\n",
      "10000        917\n",
      "Name: Kilometer, dtype: int64\n",
      "\n",
      "0\n"
     ]
    }
   ],
   "source": [
    "data['Kilometer'].hist(bins=40)\n",
    "plt.show()\n",
    "print(data['Kilometer'].value_counts())\n",
    "print()\n",
    "print(data['Model'].isna().sum())"
   ]
  },
  {
   "cell_type": "markdown",
   "metadata": {},
   "source": [
    "Как мы видим пропуски отсутствуют, больше всего машин с пробегом более 150 тыс.км - возможно это максимально допустимый пробег для продажи авто на этом сайте"
   ]
  },
  {
   "cell_type": "markdown",
   "metadata": {},
   "source": [
    "Посмотрим на значения в столбце 'RegistrationMonth' и построим по значениям этого столбца график, а также посмотрим на пропуски в этом столбце"
   ]
  },
  {
   "cell_type": "code",
   "execution_count": 23,
   "metadata": {
    "scrolled": true
   },
   "outputs": [
    {
     "data": {
      "image/png": "[encoded data removed]",
      "text/plain": [
       "<Figure size 432x288 with 1 Axes>"
      ]
     },
     "metadata": {
      "needs_background": "light"
     },
     "output_type": "display_data"
    },
    {
     "name": "stdout",
     "output_type": "stream",
     "text": [
      "3     30327\n",
      "6     27463\n",
      "4     25655\n",
      "5     25521\n",
      "7     23755\n",
      "10    22892\n",
      "12    21120\n",
      "11    20986\n",
      "9     20892\n",
      "1     20082\n",
      "8     19661\n",
      "2     18792\n",
      "0     17478\n",
      "Name: RegistrationMonth, dtype: int64\n",
      "\n",
      "0\n"
     ]
    }
   ],
   "source": [
    "sns.countplot(data=data, x='RegistrationMonth')\n",
    "plt.show()\n",
    "print(data['RegistrationMonth'].value_counts())\n",
    "print()\n",
    "print(data['RegistrationMonth'].isna().sum())"
   ]
  },
  {
   "cell_type": "markdown",
   "metadata": {},
   "source": [
    "Как мы видим у нас присутствует 'лишний' месяц - скорее всего владелец забыл когда регистрировал автомобиль, были утеряны документы на регистрацию или по другим причинам не известен месяц регистрации. Однако данные по месяцам распределены относительно равномерно, поэтому не будем ничего предпринимать."
   ]
  },
  {
   "cell_type": "markdown",
   "metadata": {},
   "source": [
    "Посмотрим на значения в столбце 'FuelType' и построим по значениям этого столбца график, а также посмотрим на пропуски в этом столбце"
   ]
  },
  {
   "cell_type": "code",
   "execution_count": 24,
   "metadata": {},
   "outputs": [
    {
     "data": {
      "image/png": "[encoded data removed]",
      "text/plain": [
       "<Figure size 432x288 with 1 Axes>"
      ]
     },
     "metadata": {
      "needs_background": "light"
     },
     "output_type": "display_data"
    },
    {
     "name": "stdout",
     "output_type": "stream",
     "text": [
      "petrol      186331\n",
      "gasoline     87594\n",
      "lpg           4676\n",
      "cng            480\n",
      "hybrid         201\n",
      "other           85\n",
      "electric        63\n",
      "Name: FuelType, dtype: int64\n",
      "\n",
      "15194\n"
     ]
    }
   ],
   "source": [
    "sns.countplot(data=data, x='FuelType')\n",
    "plt.show()\n",
    "print(data['FuelType'].value_counts())\n",
    "print()\n",
    "print(data['FuelType'].isna().sum())"
   ]
  },
  {
   "cell_type": "markdown",
   "metadata": {},
   "source": [
    "Как мы видим у нас ощутимо больше машин с бензиновым двигателем, а также имеются пропуски. Заполнить их вы вряд ли сможем т.к. для многих машин одной модели часто доступны комплектации с разными двигателями - поэтому заполним пропуски значением 'unknown'"
   ]
  },
  {
   "cell_type": "code",
   "execution_count": 25,
   "metadata": {},
   "outputs": [],
   "source": [
    "data['FuelType'] = data['FuelType'].fillna('unknown')"
   ]
  },
  {
   "cell_type": "markdown",
   "metadata": {},
   "source": [
    "Посмотрим на значения в столбце 'Brand', а также оценим количество пропусков в нем"
   ]
  },
  {
   "cell_type": "code",
   "execution_count": 26,
   "metadata": {},
   "outputs": [
    {
     "name": "stdout",
     "output_type": "stream",
     "text": [
      "volkswagen        63717\n",
      "opel              32207\n",
      "bmw               32149\n",
      "mercedes_benz     27285\n",
      "audi              25554\n",
      "ford              20510\n",
      "renault           13816\n",
      "peugeot            9369\n",
      "fiat               7609\n",
      "seat               5815\n",
      "skoda              4941\n",
      "mazda              4701\n",
      "smart              4480\n",
      "citroen            4227\n",
      "nissan             4021\n",
      "toyota             4009\n",
      "hyundai            3099\n",
      "mini               2961\n",
      "volvo              2812\n",
      "mitsubishi         2477\n",
      "honda              2357\n",
      "kia                2081\n",
      "alfa_romeo         1965\n",
      "suzuki             1949\n",
      "sonstige_autos     1693\n",
      "chevrolet          1462\n",
      "chrysler           1155\n",
      "dacia               800\n",
      "subaru              637\n",
      "porsche             624\n",
      "daihatsu            605\n",
      "jeep                579\n",
      "saab                472\n",
      "land_rover          465\n",
      "jaguar              436\n",
      "daewoo              402\n",
      "lancia              378\n",
      "rover               361\n",
      "trabant             287\n",
      "lada                157\n",
      "Name: Brand, dtype: int64\n",
      "\n",
      "0\n"
     ]
    }
   ],
   "source": [
    "print(data['Brand'].value_counts())\n",
    "print()\n",
    "print(data['Brand'].isna().sum())"
   ]
  },
  {
   "cell_type": "markdown",
   "metadata": {},
   "source": [
    "Как мы видим пропуски отсутствуют, дубликатов в названиях нет, двигаемся дальше"
   ]
  },
  {
   "cell_type": "markdown",
   "metadata": {},
   "source": [
    "Посмотрим на значения в столбце 'Repaired' и построим по значениям этого столбца график, а также посмотрим на пропуски в этом столбце"
   ]
  },
  {
   "cell_type": "code",
   "execution_count": 27,
   "metadata": {},
   "outputs": [
    {
     "data": {
      "image/png": "[encoded data removed]",
      "text/plain": [
       "<Figure size 432x288 with 1 Axes>"
      ]
     },
     "metadata": {
      "needs_background": "light"
     },
     "output_type": "display_data"
    },
    {
     "name": "stdout",
     "output_type": "stream",
     "text": [
      "no     224087\n",
      "yes     28262\n",
      "Name: Repaired, dtype: int64\n",
      "\n",
      "42275\n"
     ]
    }
   ],
   "source": [
    "sns.countplot(data=data, x='Repaired')\n",
    "plt.show()\n",
    "print(data['Repaired'].value_counts())\n",
    "print()\n",
    "print(data['Repaired'].isna().sum())"
   ]
  },
  {
   "cell_type": "markdown",
   "metadata": {},
   "source": [
    "Как мы видим у нас ощутимо больше машин не бывавших в ремонте, а также много пропусков. Как-то логично заполнить пропуски мы не можем, поэтому заполним их значением 'unknown'"
   ]
  },
  {
   "cell_type": "code",
   "execution_count": 28,
   "metadata": {},
   "outputs": [],
   "source": [
    "data['Repaired'] = data['Repaired'].fillna('unknown')"
   ]
  },
  {
   "cell_type": "markdown",
   "metadata": {},
   "source": [
    "Выведем информацию о нашем датасете после предобработки данных"
   ]
  },
  {
   "cell_type": "code",
   "execution_count": 29,
   "metadata": {
    "scrolled": true
   },
   "outputs": [
    {
     "name": "stdout",
     "output_type": "stream",
     "text": [
      "<class 'pandas.core.frame.DataFrame'>\n",
      "Int64Index: 294624 entries, 1 to 354364\n",
      "Data columns (total 11 columns):\n",
      " #   Column             Non-Null Count   Dtype \n",
      "---  ------             --------------   ----- \n",
      " 0   Price              294624 non-null  int64 \n",
      " 1   VehicleType        294624 non-null  object\n",
      " 2   RegistrationYear   294624 non-null  int64 \n",
      " 3   Gearbox            294624 non-null  object\n",
      " 4   Power              294624 non-null  int64 \n",
      " 5   Model              294624 non-null  object\n",
      " 6   Kilometer          294624 non-null  int64 \n",
      " 7   RegistrationMonth  294624 non-null  int64 \n",
      " 8   FuelType           294624 non-null  object\n",
      " 9   Brand              294624 non-null  object\n",
      " 10  Repaired           294624 non-null  object\n",
      "dtypes: int64(5), object(6)\n",
      "memory usage: 35.0+ MB\n",
      "None\n"
     ]
    }
   ],
   "source": [
    "print(data.info())"
   ]
  },
  {
   "cell_type": "markdown",
   "metadata": {},
   "source": [
    "Как мы видим пропуски в данных отсутствуют и остались только необходимые для нас столбцы"
   ]
  },
  {
   "cell_type": "markdown",
   "metadata": {},
   "source": [
    "<b>Вывод: </b> Мы оценили исходный датасет, узнали его размер, избавились от дубликатов и лишних столбцов, заполнили пропуски и построили по каждому столбцу графики"
   ]
  },
  {
   "cell_type": "markdown",
   "metadata": {},
   "source": [
    "## Обучение моделей"
   ]
  },
  {
   "cell_type": "markdown",
   "metadata": {},
   "source": [
    "Перед обучением модели нам необходимо разделить датасет на выборки"
   ]
  },
  {
   "cell_type": "markdown",
   "metadata": {},
   "source": [
    "Разобьем данные на выборки: выделим 20% данных для тестовой выборки, остальные 80% — для обучающей и валидационной"
   ]
  },
  {
   "cell_type": "code",
   "execution_count": 30,
   "metadata": {},
   "outputs": [],
   "source": [
    "data_train_valid, data_test = train_test_split(data, test_size=0.2, random_state=12345)"
   ]
  },
  {
   "cell_type": "markdown",
   "metadata": {},
   "source": [
    "Далее из обучающей и валидационной выборок выделим каждую из них по отдельности. На валидационную выделим 25%, а на обучающую 75%"
   ]
  },
  {
   "cell_type": "code",
   "execution_count": 31,
   "metadata": {},
   "outputs": [],
   "source": [
    "data_train, data_valid = train_test_split(data_train_valid, test_size=0.25, random_state=12345)"
   ]
  },
  {
   "cell_type": "markdown",
   "metadata": {},
   "source": [
    "Целевым признаком в нашем датасете является столбец \"Price\" - именно в нем содержится информацию о цене автомобиля (в евро) и его нам необходимо будет предсказывать. Остальные столбцы датасета будут признаками. Создадим переменные для признаков и целевого признака для каждой выборки"
   ]
  },
  {
   "cell_type": "code",
   "execution_count": 32,
   "metadata": {},
   "outputs": [],
   "source": [
    "features_train = data_train.drop(['Price'], axis=1)\n",
    "target_train = data_train['Price']\n",
    "features_valid = data_valid.drop(['Price'], axis=1)\n",
    "target_valid = data_valid['Price']\n",
    "features_test = data_test.drop(['Price'], axis=1)\n",
    "target_test = data_test['Price']"
   ]
  },
  {
   "cell_type": "markdown",
   "metadata": {},
   "source": [
    "Для преобразования категориальных признаков в численные для модели 'Линейной регрессии' воспользуемся техникой OHE"
   ]
  },
  {
   "cell_type": "code",
   "execution_count": 33,
   "metadata": {},
   "outputs": [],
   "source": [
    "category = ['VehicleType', 'Gearbox', 'Model', 'FuelType', 'Brand', 'Repaired']\n",
    "\n",
    "ohe = OneHotEncoder(handle_unknown='ignore')\n",
    "ohe.fit(features_train[category])\n",
    "\n",
    "features_train_ohe = ohe.transform(features_train[category]).toarray()\n",
    "features_valid_ohe = ohe.transform(features_valid[category]).toarray()\n",
    "features_test_ohe = ohe.transform(features_test[category]).toarray()\n",
    "\n",
    "df_features_train_ohe = pd.DataFrame(features_train_ohe, index=features_train.index)\n",
    "df_features_valid_ohe = pd.DataFrame(features_valid_ohe, index=features_valid.index)\n",
    "df_features_test_ohe = pd.DataFrame(features_test_ohe, index=features_test.index)"
   ]
  },
  {
   "cell_type": "markdown",
   "metadata": {},
   "source": [
    "Для преобразования категориальных признаков в численные воспользуемся техникой порядкового кодирования (Ordinal Encoding)"
   ]
  },
  {
   "cell_type": "code",
   "execution_count": 34,
   "metadata": {},
   "outputs": [],
   "source": [
    "category = ['VehicleType', 'Gearbox', 'Model', 'FuelType', 'Brand', 'Repaired']\n",
    "\n",
    "encoder = OrdinalEncoder()\n",
    "encoder.fit(features_train[category])\n",
    "\n",
    "features_train[category] = encoder.transform(features_train[category])\n",
    "features_valid[category] = encoder.transform(features_valid[category])\n",
    "features_test[category] = encoder.transform(features_test[category])"
   ]
  },
  {
   "cell_type": "markdown",
   "metadata": {},
   "source": [
    "Стандартизируем численные признаки. Перед этим в переменной numeric создадим список всех численных признаков"
   ]
  },
  {
   "cell_type": "code",
   "execution_count": 35,
   "metadata": {},
   "outputs": [],
   "source": [
    "numeric = ['RegistrationYear', 'Power', 'Kilometer', 'RegistrationMonth']\n",
    "scaler = StandardScaler() \n",
    "scaler.fit(features_train[numeric])\n",
    "\n",
    "features_train[numeric] = scaler.transform(features_train[numeric])\n",
    "features_valid[numeric] = scaler.transform(features_valid[numeric])\n",
    "features_test[numeric] = scaler.transform(features_test[numeric])"
   ]
  },
  {
   "cell_type": "code",
   "execution_count": 36,
   "metadata": {},
   "outputs": [],
   "source": [
    "scaler = StandardScaler() \n",
    "scaler.fit(df_features_train_ohe)\n",
    "\n",
    "df_features_train_ohe = scaler.transform(df_features_train_ohe)\n",
    "df_features_valid_ohe = scaler.transform(df_features_valid_ohe)\n",
    "df_features_test_ohe = scaler.transform(df_features_test_ohe)"
   ]
  },
  {
   "cell_type": "markdown",
   "metadata": {},
   "source": [
    "Применим модель \"Линейная регрессия\" и вычислим RMSE на данных закодированных OHE"
   ]
  },
  {
   "cell_type": "code",
   "execution_count": 37,
   "metadata": {},
   "outputs": [
    {
     "name": "stdout",
     "output_type": "stream",
     "text": [
      "Время обучения модели:\n",
      "CPU times: user 14 s, sys: 7.43 s, total: 21.4 s\n",
      "Wall time: 21.4 s\n"
     ]
    }
   ],
   "source": [
    "%%time\n",
    " \n",
    "model = LinearRegression()\n",
    "model.fit(df_features_train_ohe, target_train)\n",
    "print('Время обучения модели:')"
   ]
  },
  {
   "cell_type": "code",
   "execution_count": 38,
   "metadata": {},
   "outputs": [
    {
     "name": "stdout",
     "output_type": "stream",
     "text": [
      "RMSE Линейной регрессии: 3581.793830116426\n",
      "Время предсказания модели:\n",
      "CPU times: user 65.5 ms, sys: 66.9 ms, total: 132 ms\n",
      "Wall time: 102 ms\n"
     ]
    }
   ],
   "source": [
    "%%time\n",
    "\n",
    "predictions = model.predict(df_features_valid_ohe)\n",
    "mse = mean_squared_error(target_valid, predictions)\n",
    "rmse = mse ** 0.5\n",
    "print('RMSE Линейной регрессии:', rmse)\n",
    "print('Время предсказания модели:') "
   ]
  },
  {
   "cell_type": "markdown",
   "metadata": {},
   "source": [
    "Как мы видим модель \"Линейная регрессия\" имеет быстрое время обучения (около 37 сек) и предсказания (менее секунды), но не обеспечивает требуемое нам значение RMSE (<2500) - попробуем другие модели"
   ]
  },
  {
   "cell_type": "markdown",
   "metadata": {},
   "source": [
    "Применим модель \"Дерево решений\": подберем наилучшие параметры и вычислим RMSE"
   ]
  },
  {
   "cell_type": "code",
   "execution_count": 39,
   "metadata": {},
   "outputs": [
    {
     "name": "stdout",
     "output_type": "stream",
     "text": [
      "Параметры наилучшей модели: DecisionTreeClassifier(max_depth=13, min_samples_leaf=12, random_state=12345)\n",
      "RMSE лучшей модели: 2248.8244282825995\n",
      "CPU times: user 3min 19s, sys: 1min 5s, total: 4min 24s\n",
      "Wall time: 4min 25s\n"
     ]
    }
   ],
   "source": [
    "%%time\n",
    "\n",
    "best_model = None\n",
    "best_rmse = 5000\n",
    "for i in range(2, 15):\n",
    "    for j in range(2,15):\n",
    "            model = DecisionTreeClassifier(random_state=12345, max_depth=i, min_samples_leaf=j)\n",
    "            model.fit(features_train, target_train)\n",
    "            predictions = model.predict(features_valid)\n",
    "            mse = mean_squared_error(target_valid, predictions)\n",
    "            rmse = mse ** 0.5\n",
    "            if rmse < best_rmse:\n",
    "                best_model = model\n",
    "                best_rmse = rmse\n",
    "print(\"Параметры наилучшей модели:\", best_model)\n",
    "print(\"RMSE лучшей модели:\", best_rmse)"
   ]
  },
  {
   "cell_type": "markdown",
   "metadata": {},
   "source": [
    "Узнав наилучшие параметры для модели \"Дерево решений\" посмотрим сколько времени у нас займет обучение и предсказание модели"
   ]
  },
  {
   "cell_type": "code",
   "execution_count": 40,
   "metadata": {},
   "outputs": [
    {
     "name": "stdout",
     "output_type": "stream",
     "text": [
      "Время обучения модели:\n",
      "CPU times: user 1.51 s, sys: 108 ms, total: 1.62 s\n",
      "Wall time: 1.63 s\n"
     ]
    }
   ],
   "source": [
    "%%time\n",
    "\n",
    "model = DecisionTreeClassifier(random_state=12345, max_depth=12, min_samples_leaf=10)\n",
    "model.fit(features_train, target_train)\n",
    "print('Время обучения модели:')"
   ]
  },
  {
   "cell_type": "code",
   "execution_count": 41,
   "metadata": {},
   "outputs": [
    {
     "name": "stdout",
     "output_type": "stream",
     "text": [
      "RMSE модели \"Дерево решений\": 2289.7308529548336\n",
      "Время предсказания модели:\n",
      "CPU times: user 377 ms, sys: 372 ms, total: 749 ms\n",
      "Wall time: 759 ms\n"
     ]
    }
   ],
   "source": [
    "%%time\n",
    "\n",
    "predictions = model.predict(features_valid)\n",
    "mse = mean_squared_error(target_valid, predictions)\n",
    "rmse = mse ** 0.5\n",
    "print('RMSE модели \"Дерево решений\":', rmse)\n",
    "print('Время предсказания модели:') "
   ]
  },
  {
   "cell_type": "markdown",
   "metadata": {},
   "source": [
    "Как мы видим модель \"Дерево решений\" имеет очень быстрое время обучения и предсказания (2 и 1 секунда), а также обеспечивает требуемое нам значение RMSE ( 2289 ), но подбор наилучших параметров занимает ощутимое время (около 5 мин)"
   ]
  },
  {
   "cell_type": "markdown",
   "metadata": {},
   "source": [
    "Применим модель \"Случайный лес\". Учитывая, что подбор параметров для модели \"Случайный лес\" обычно занимет еще больше времени чем для модели \"Дерево решений\" попробуем вручную поменять некоторые параметры и зафиксируем результат"
   ]
  },
  {
   "cell_type": "code",
   "execution_count": 42,
   "metadata": {},
   "outputs": [
    {
     "name": "stdout",
     "output_type": "stream",
     "text": [
      "Время обучения модели:\n",
      "CPU times: user 53 s, sys: 924 ms, total: 53.9 s\n",
      "Wall time: 54.2 s\n"
     ]
    }
   ],
   "source": [
    "%%time\n",
    "\n",
    "model = RandomForestRegressor(random_state=12345, n_estimators=100, max_depth=30)\n",
    "model.fit(features_train, target_train)\n",
    "print('Время обучения модели:')"
   ]
  },
  {
   "cell_type": "code",
   "execution_count": 43,
   "metadata": {},
   "outputs": [
    {
     "name": "stdout",
     "output_type": "stream",
     "text": [
      "RMSE модели \"Случайный лес\": 1583.896481841222\n",
      "Время предсказания модели:\n",
      "CPU times: user 2.48 s, sys: 25.8 ms, total: 2.51 s\n",
      "Wall time: 2.52 s\n"
     ]
    }
   ],
   "source": [
    "%%time\n",
    "\n",
    "predictions = model.predict(features_valid)\n",
    "mse = mean_squared_error(target_valid, predictions)\n",
    "rmse = mse ** 0.5\n",
    "print('RMSE модели \"Случайный лес\":', rmse)\n",
    "print('Время предсказания модели:') "
   ]
  },
  {
   "cell_type": "markdown",
   "metadata": {},
   "source": [
    "Как мы видим модель \"Случайный лес\" довольно быстро обучается (около 1 мин), быстро предсказывает (4 сек) и показывает хорошее значение RMSE ( 1583 )"
   ]
  },
  {
   "cell_type": "markdown",
   "metadata": {},
   "source": [
    "Попробуем LGBM модель и вычислим RMSE. Параметры будем также пробовать вручную"
   ]
  },
  {
   "cell_type": "code",
   "execution_count": 44,
   "metadata": {},
   "outputs": [
    {
     "name": "stdout",
     "output_type": "stream",
     "text": [
      "Время обучения модели:\n",
      "CPU times: user 4min, sys: 5.59 s, total: 4min 5s\n",
      "Wall time: 4min 7s\n"
     ]
    }
   ],
   "source": [
    "%%time\n",
    "\n",
    "model = lgb.LGBMRegressor(max_depth=150, n_estimators=100)\n",
    "model.fit(features_train, target_train)\n",
    "print('Время обучения модели:')"
   ]
  },
  {
   "cell_type": "code",
   "execution_count": 45,
   "metadata": {},
   "outputs": [
    {
     "name": "stdout",
     "output_type": "stream",
     "text": [
      "RMSE модели LGBM: 1660.2273899370607\n",
      "Время предсказания модели:\n",
      "CPU times: user 535 ms, sys: 0 ns, total: 535 ms\n",
      "Wall time: 507 ms\n"
     ]
    }
   ],
   "source": [
    "%%time\n",
    "\n",
    "predictions = model.predict(features_valid)\n",
    "mse = mean_squared_error(target_valid, predictions)\n",
    "rmse = mse ** 0.5\n",
    "print('RMSE модели LGBM:', rmse)\n",
    "print('Время предсказания модели:') "
   ]
  },
  {
   "cell_type": "markdown",
   "metadata": {},
   "source": [
    "Как мы видим модель \"LGBM\" имеет быстрое время обучения (6 сек - 6 мин, модель с одними и теме же параметрами может показывать разное время, отличающееся порой в десятки раз), быстрое время предсказания (615 мс) и обеспечивает требуемое нам значение RMSE ( 1660 )"
   ]
  },
  {
   "cell_type": "markdown",
   "metadata": {},
   "source": [
    "Применим модель \"CatBoost\" пробуя разные параметры"
   ]
  },
  {
   "cell_type": "code",
   "execution_count": 46,
   "metadata": {
    "scrolled": true
   },
   "outputs": [
    {
     "name": "stdout",
     "output_type": "stream",
     "text": [
      "Learning rate set to 0.246815\n",
      "0:\tlearn: 3902.4739899\ttotal: 77.8ms\tremaining: 23.3s\n",
      "20:\tlearn: 1911.1966798\ttotal: 638ms\tremaining: 8.48s\n",
      "40:\tlearn: 1798.2684168\ttotal: 1.15s\tremaining: 7.26s\n",
      "60:\tlearn: 1740.9178053\ttotal: 1.63s\tremaining: 6.38s\n",
      "80:\tlearn: 1702.0904540\ttotal: 2.2s\tremaining: 5.95s\n",
      "100:\tlearn: 1674.6619801\ttotal: 2.74s\tremaining: 5.39s\n",
      "120:\tlearn: 1648.4941932\ttotal: 3.21s\tremaining: 4.75s\n",
      "140:\tlearn: 1628.3319804\ttotal: 3.75s\tremaining: 4.22s\n",
      "160:\tlearn: 1613.2580598\ttotal: 4.25s\tremaining: 3.67s\n",
      "180:\tlearn: 1599.6029548\ttotal: 4.72s\tremaining: 3.1s\n",
      "200:\tlearn: 1587.0143921\ttotal: 5.21s\tremaining: 2.56s\n",
      "220:\tlearn: 1575.2597753\ttotal: 5.72s\tremaining: 2.04s\n",
      "240:\tlearn: 1564.3351216\ttotal: 6.25s\tremaining: 1.53s\n",
      "260:\tlearn: 1554.8622587\ttotal: 6.76s\tremaining: 1.01s\n",
      "280:\tlearn: 1546.3312101\ttotal: 7.27s\tremaining: 492ms\n",
      "299:\tlearn: 1537.8226495\ttotal: 7.74s\tremaining: 0us\n",
      "Время обучения модели:\n",
      "CPU times: user 7.78 s, sys: 90.3 ms, total: 7.87 s\n",
      "Wall time: 8.97 s\n"
     ]
    }
   ],
   "source": [
    "%%time\n",
    "\n",
    "model =  CatBoostRegressor(iterations=300)\n",
    "model.fit(features_train, target_train, verbose=20)\n",
    "print('Время обучения модели:')"
   ]
  },
  {
   "cell_type": "code",
   "execution_count": 47,
   "metadata": {},
   "outputs": [
    {
     "name": "stdout",
     "output_type": "stream",
     "text": [
      "RMSE модели \"CatBoost\": 1599.6978494279917\n",
      "Время предсказания модели:\n",
      "CPU times: user 40.5 ms, sys: 0 ns, total: 40.5 ms\n",
      "Wall time: 38 ms\n"
     ]
    }
   ],
   "source": [
    "%%time\n",
    "\n",
    "predictions = model.predict(features_valid)\n",
    "mse = mean_squared_error(target_valid, predictions)\n",
    "rmse = mse ** 0.5\n",
    "print('RMSE модели \"CatBoost\":', rmse)\n",
    "print('Время предсказания модели:') "
   ]
  },
  {
   "cell_type": "markdown",
   "metadata": {},
   "source": [
    "Как видим модель \"CatBoost\" быстро обучается (около 9 сек), быстро предсказывает (39 мс) и также дает хорошее значение RMSE ( 1599 )"
   ]
  },
  {
   "cell_type": "markdown",
   "metadata": {},
   "source": [
    "## Анализ моделей"
   ]
  },
  {
   "cell_type": "markdown",
   "metadata": {},
   "source": [
    "Нами были использованы 5 моделей:\n",
    "- все модели кроме \"Линейной регрессии\" обеспечили требуемое нам значение RMSE (<2500) - ее мы отбрасываем;\n",
    "- наилучшее значение метрики RMSE показала модель \"Случайный лес\", далее с небольшим отставанием модели \"CatBoost\" и \"LGBM\";\n",
    "- наилучшее время обучения у модели \"Дерево решений\", \"CatBoost\" и \"LGBM\" - однако подбор параметров для \"Дерева решений\" занимает куда большее время, чем тратится на обучение, а модель \"LGBM\" при одних и тех же параметрах демонстрирует разное время обучения (отличающееся порой в десятки раз), у моделей \"CatBoost\" такого не наблюдается\n",
    "- время предсказания у всех моделей довольно маленькое, однако наилучшее у моделей \"CatBoost\" и \"LGBM\"\n",
    "\n",
    "Проанализировав вышесказанное и учитывая стабильность моделей, мы можем прийти к выводу, что нам наиболее подойдет модель \"CatBoost\", далее идут модели \"LGBM\" (при быстром обучении) и \"Случайный лес\""
   ]
  },
  {
   "cell_type": "markdown",
   "metadata": {},
   "source": [
    "Проверим нашу наилучшую модель на тестовой выборке. Перед этим объединим обучающую и валидационную выборки для обучения нашей модели"
   ]
  },
  {
   "cell_type": "code",
   "execution_count": 48,
   "metadata": {},
   "outputs": [],
   "source": [
    "features_tr_vl = pd.concat([features_train, features_valid])\n",
    "target_tr_vl = pd.concat([target_train, target_valid])"
   ]
  },
  {
   "cell_type": "markdown",
   "metadata": {},
   "source": [
    "Теперь проведем проверку нашей модели 'CatBoost'"
   ]
  },
  {
   "cell_type": "code",
   "execution_count": 49,
   "metadata": {
    "scrolled": true
   },
   "outputs": [
    {
     "name": "stdout",
     "output_type": "stream",
     "text": [
      "Learning rate set to 0.258293\n",
      "0:\tlearn: 3856.2793474\ttotal: 39.2ms\tremaining: 11.7s\n",
      "20:\tlearn: 1889.4865839\ttotal: 709ms\tremaining: 9.42s\n",
      "40:\tlearn: 1781.2200890\ttotal: 1.39s\tremaining: 8.75s\n",
      "60:\tlearn: 1728.8668828\ttotal: 2.08s\tremaining: 8.15s\n",
      "80:\tlearn: 1692.8484397\ttotal: 2.79s\tremaining: 7.54s\n",
      "100:\tlearn: 1665.2071878\ttotal: 3.42s\tremaining: 6.74s\n",
      "120:\tlearn: 1644.2529438\ttotal: 4.04s\tremaining: 5.98s\n",
      "140:\tlearn: 1626.2460465\ttotal: 4.71s\tremaining: 5.31s\n",
      "160:\tlearn: 1610.5114640\ttotal: 5.33s\tremaining: 4.6s\n",
      "180:\tlearn: 1596.4956564\ttotal: 5.96s\tremaining: 3.92s\n",
      "200:\tlearn: 1583.9888405\ttotal: 6.58s\tremaining: 3.24s\n",
      "220:\tlearn: 1573.5597151\ttotal: 7.23s\tremaining: 2.58s\n",
      "240:\tlearn: 1563.8849954\ttotal: 7.85s\tremaining: 1.92s\n",
      "260:\tlearn: 1555.5488696\ttotal: 8.5s\tremaining: 1.27s\n",
      "280:\tlearn: 1547.1853519\ttotal: 9.13s\tremaining: 617ms\n",
      "299:\tlearn: 1540.2813799\ttotal: 9.71s\tremaining: 0us\n",
      "Время обучения модели:\n",
      "CPU times: user 9.8 s, sys: 101 ms, total: 9.9 s\n",
      "Wall time: 10.7 s\n"
     ]
    }
   ],
   "source": [
    "%%time\n",
    "#category=['VehicleType', 'Gearbox', 'Model', 'FuelType', 'Brand', 'Repaired']\n",
    "model =  CatBoostRegressor(iterations=300) #, cat_features = category)\n",
    "model.fit(features_tr_vl, target_tr_vl, verbose=20)\n",
    "print('Время обучения модели:')"
   ]
  },
  {
   "cell_type": "code",
   "execution_count": 50,
   "metadata": {
    "scrolled": true
   },
   "outputs": [
    {
     "name": "stdout",
     "output_type": "stream",
     "text": [
      "RMSE модели \"CatBoost\": 1600.7116368481952\n",
      "Время предсказания модели:\n",
      "CPU times: user 32.5 ms, sys: 507 µs, total: 33 ms\n",
      "Wall time: 31 ms\n"
     ]
    }
   ],
   "source": [
    "%%time\n",
    "\n",
    "predictions = model.predict(features_test)\n",
    "mse = mean_squared_error(target_test, predictions)\n",
    "rmse = mse ** 0.5\n",
    "print('RMSE модели \"CatBoost\":', rmse)\n",
    "print('Время предсказания модели:') "
   ]
  },
  {
   "cell_type": "code",
   "execution_count": 51,
   "metadata": {},
   "outputs": [
    {
     "data": {
      "image/png": "[encoded data removed]",
      "text/plain": [
       "<Figure size 720x576 with 1 Axes>"
      ]
     },
     "metadata": {
      "needs_background": "light"
     },
     "output_type": "display_data"
    }
   ],
   "source": [
    "feature_importances = pd.Series(model.get_feature_importance(),\n",
    "                         features_tr_vl.columns)\n",
    "fig, ax = plt.subplots(figsize=(10,8))\n",
    "feature_importances.plot.bar(ax=ax)\n",
    "ax.set_title(\"Признаки\")\n",
    "ax.set_ylabel('Важность, %')\n",
    "fig.tight_layout()"
   ]
  },
  {
   "cell_type": "markdown",
   "metadata": {},
   "source": [
    "Как мы видим нам удалось достичь требуемого значения RMSE для модели 'CatBoost' на тестовой выборке. Время обучения и время предсказания у нас также весьма малы (суммарно менее 11 сек). А также мы можем посмотреть на график и понять важности наших факторов "
   ]
  },
  {
   "cell_type": "markdown",
   "metadata": {},
   "source": [
    "<b>Вывод: </b> нами был обработан исходный датасет, заполнены пропуски и проанализированы признаки, подготовлено и протестировано несколько моделей. Проанализировав критерии заказчика (качество моделей, время обучения и время предсказания), а также учтя стабильность моделей, мы пришли к выводу, что наиболее подходящей моделью будет \"CatBoost\" - проверка на тестовой выборке это подтвердила"
   ]
  }
 ],
 "metadata": {
  "ExecuteTimeLog": [
   {
    "duration": 414,
    "start_time": "2023-02-09T10:20:03.600Z"
   },
   {
    "duration": 1248,
    "start_time": "2023-02-09T10:20:46.322Z"
   },
   {
    "duration": 6,
    "start_time": "2023-02-09T10:37:29.039Z"
   },
   {
    "duration": 95,
    "start_time": "2023-02-09T10:40:25.874Z"
   },
   {
    "duration": 20,
    "start_time": "2023-02-09T10:40:46.526Z"
   },
   {
    "duration": 11,
    "start_time": "2023-02-09T10:41:20.595Z"
   },
   {
    "duration": 11,
    "start_time": "2023-02-09T10:41:28.571Z"
   },
   {
    "duration": 701,
    "start_time": "2023-02-09T10:41:34.405Z"
   },
   {
    "duration": 400,
    "start_time": "2023-02-09T10:41:43.410Z"
   },
   {
    "duration": 998,
    "start_time": "2023-02-09T10:41:43.812Z"
   },
   {
    "duration": 6,
    "start_time": "2023-02-09T10:41:44.812Z"
   },
   {
    "duration": 50,
    "start_time": "2023-02-09T10:41:44.820Z"
   },
   {
    "duration": 72,
    "start_time": "2023-02-09T10:42:00.588Z"
   },
   {
    "duration": 416,
    "start_time": "2023-02-09T10:42:04.703Z"
   },
   {
    "duration": 938,
    "start_time": "2023-02-09T10:42:05.121Z"
   },
   {
    "duration": 7,
    "start_time": "2023-02-09T10:42:06.061Z"
   },
   {
    "duration": 70,
    "start_time": "2023-02-09T10:42:06.069Z"
   },
   {
    "duration": 71,
    "start_time": "2023-02-09T10:43:41.977Z"
   },
   {
    "duration": 398,
    "start_time": "2023-02-09T10:43:46.205Z"
   },
   {
    "duration": 1013,
    "start_time": "2023-02-09T10:43:46.605Z"
   },
   {
    "duration": 6,
    "start_time": "2023-02-09T10:43:47.619Z"
   },
   {
    "duration": 149,
    "start_time": "2023-02-09T10:43:47.627Z"
   },
   {
    "duration": 9,
    "start_time": "2023-02-09T10:47:09.870Z"
   },
   {
    "duration": 398,
    "start_time": "2023-02-09T10:48:06.244Z"
   },
   {
    "duration": 47,
    "start_time": "2023-02-09T10:49:05.596Z"
   },
   {
    "duration": 193,
    "start_time": "2023-02-09T10:49:09.676Z"
   },
   {
    "duration": 192,
    "start_time": "2023-02-09T10:49:41.370Z"
   },
   {
    "duration": 9,
    "start_time": "2023-02-09T10:53:06.406Z"
   },
   {
    "duration": 76,
    "start_time": "2023-02-09T10:53:26.077Z"
   },
   {
    "duration": 14,
    "start_time": "2023-02-09T10:53:42.813Z"
   },
   {
    "duration": 10,
    "start_time": "2023-02-09T10:54:03.245Z"
   },
   {
    "duration": 627,
    "start_time": "2023-02-09T10:54:57.816Z"
   },
   {
    "duration": 962,
    "start_time": "2023-02-09T10:54:58.445Z"
   },
   {
    "duration": 6,
    "start_time": "2023-02-09T10:54:59.408Z"
   },
   {
    "duration": 150,
    "start_time": "2023-02-09T10:54:59.416Z"
   },
   {
    "duration": 188,
    "start_time": "2023-02-09T10:54:59.568Z"
   },
   {
    "duration": 83,
    "start_time": "2023-02-09T10:54:59.758Z"
   },
   {
    "duration": 0,
    "start_time": "2023-02-09T10:54:59.843Z"
   },
   {
    "duration": 29,
    "start_time": "2023-02-09T10:56:39.614Z"
   },
   {
    "duration": 76,
    "start_time": "2023-02-09T10:56:40.666Z"
   },
   {
    "duration": 217,
    "start_time": "2023-02-09T10:57:28.434Z"
   },
   {
    "duration": 209,
    "start_time": "2023-02-09T10:57:43.545Z"
   },
   {
    "duration": 615,
    "start_time": "2023-02-09T10:57:50.365Z"
   },
   {
    "duration": 942,
    "start_time": "2023-02-09T10:57:50.982Z"
   },
   {
    "duration": 7,
    "start_time": "2023-02-09T10:57:51.926Z"
   },
   {
    "duration": 149,
    "start_time": "2023-02-09T10:57:51.935Z"
   },
   {
    "duration": 206,
    "start_time": "2023-02-09T10:57:52.086Z"
   },
   {
    "duration": 40,
    "start_time": "2023-02-09T10:57:52.294Z"
   },
   {
    "duration": 80,
    "start_time": "2023-02-09T10:57:52.335Z"
   },
   {
    "duration": 246,
    "start_time": "2023-02-09T10:59:33.770Z"
   },
   {
    "duration": 216,
    "start_time": "2023-02-09T10:59:40.960Z"
   },
   {
    "duration": 658,
    "start_time": "2023-02-09T11:00:03.861Z"
   },
   {
    "duration": 1007,
    "start_time": "2023-02-09T11:00:04.522Z"
   },
   {
    "duration": 7,
    "start_time": "2023-02-09T11:00:05.530Z"
   },
   {
    "duration": 153,
    "start_time": "2023-02-09T11:00:05.538Z"
   },
   {
    "duration": 239,
    "start_time": "2023-02-09T11:00:05.693Z"
   },
   {
    "duration": 35,
    "start_time": "2023-02-09T11:00:05.934Z"
   },
   {
    "duration": 84,
    "start_time": "2023-02-09T11:00:05.972Z"
   },
   {
    "duration": 273,
    "start_time": "2023-02-09T11:01:41.275Z"
   },
   {
    "duration": 656,
    "start_time": "2023-02-09T11:01:47.916Z"
   },
   {
    "duration": 966,
    "start_time": "2023-02-09T11:01:48.574Z"
   },
   {
    "duration": 6,
    "start_time": "2023-02-09T11:01:49.542Z"
   },
   {
    "duration": 155,
    "start_time": "2023-02-09T11:01:49.550Z"
   },
   {
    "duration": 297,
    "start_time": "2023-02-09T11:01:49.707Z"
   },
   {
    "duration": 28,
    "start_time": "2023-02-09T11:01:50.005Z"
   },
   {
    "duration": 83,
    "start_time": "2023-02-09T11:01:50.034Z"
   },
   {
    "duration": 249,
    "start_time": "2023-02-09T11:02:17.786Z"
   },
   {
    "duration": 603,
    "start_time": "2023-02-09T11:02:22.558Z"
   },
   {
    "duration": 982,
    "start_time": "2023-02-09T11:02:23.163Z"
   },
   {
    "duration": 7,
    "start_time": "2023-02-09T11:02:24.146Z"
   },
   {
    "duration": 209,
    "start_time": "2023-02-09T11:02:24.154Z"
   },
   {
    "duration": 302,
    "start_time": "2023-02-09T11:02:24.366Z"
   },
   {
    "duration": 0,
    "start_time": "2023-02-09T11:02:24.670Z"
   },
   {
    "duration": 0,
    "start_time": "2023-02-09T11:02:24.671Z"
   },
   {
    "duration": 295,
    "start_time": "2023-02-09T11:02:43.570Z"
   },
   {
    "duration": 191,
    "start_time": "2023-02-09T11:02:50.985Z"
   },
   {
    "duration": 709,
    "start_time": "2023-02-09T11:02:57.261Z"
   },
   {
    "duration": 970,
    "start_time": "2023-02-09T11:02:57.972Z"
   },
   {
    "duration": 10,
    "start_time": "2023-02-09T11:02:58.944Z"
   },
   {
    "duration": 171,
    "start_time": "2023-02-09T11:02:58.957Z"
   },
   {
    "duration": 222,
    "start_time": "2023-02-09T11:02:59.131Z"
   },
   {
    "duration": 50,
    "start_time": "2023-02-09T11:02:59.355Z"
   },
   {
    "duration": 74,
    "start_time": "2023-02-09T11:02:59.407Z"
   },
   {
    "duration": 101,
    "start_time": "2023-02-09T11:03:15.005Z"
   },
   {
    "duration": 34,
    "start_time": "2023-02-09T11:03:52.984Z"
   },
   {
    "duration": 669,
    "start_time": "2023-02-09T11:04:02.197Z"
   },
   {
    "duration": 1008,
    "start_time": "2023-02-09T11:04:02.869Z"
   },
   {
    "duration": 6,
    "start_time": "2023-02-09T11:04:03.879Z"
   },
   {
    "duration": 158,
    "start_time": "2023-02-09T11:04:03.887Z"
   },
   {
    "duration": 260,
    "start_time": "2023-02-09T11:04:04.047Z"
   },
   {
    "duration": 43,
    "start_time": "2023-02-09T11:04:04.309Z"
   },
   {
    "duration": 3,
    "start_time": "2023-02-09T11:04:04.354Z"
   },
   {
    "duration": 8,
    "start_time": "2023-02-09T11:04:04.359Z"
   },
   {
    "duration": 31,
    "start_time": "2023-02-09T11:05:25.775Z"
   },
   {
    "duration": 87,
    "start_time": "2023-02-09T11:05:55.402Z"
   },
   {
    "duration": 83,
    "start_time": "2023-02-09T11:06:17.713Z"
   },
   {
    "duration": 77,
    "start_time": "2023-02-09T11:06:49.323Z"
   },
   {
    "duration": 657,
    "start_time": "2023-02-09T11:07:10.530Z"
   },
   {
    "duration": 947,
    "start_time": "2023-02-09T11:07:11.189Z"
   },
   {
    "duration": 6,
    "start_time": "2023-02-09T11:07:12.137Z"
   },
   {
    "duration": 145,
    "start_time": "2023-02-09T11:07:12.145Z"
   },
   {
    "duration": 218,
    "start_time": "2023-02-09T11:07:12.293Z"
   },
   {
    "duration": 78,
    "start_time": "2023-02-09T11:07:12.513Z"
   },
   {
    "duration": 0,
    "start_time": "2023-02-09T11:07:12.593Z"
   },
   {
    "duration": 0,
    "start_time": "2023-02-09T11:07:12.603Z"
   },
   {
    "duration": 94,
    "start_time": "2023-02-09T11:07:19.096Z"
   },
   {
    "duration": 23,
    "start_time": "2023-02-09T11:07:43.045Z"
   },
   {
    "duration": 3,
    "start_time": "2023-02-09T11:07:44.162Z"
   },
   {
    "duration": 90,
    "start_time": "2023-02-09T11:07:44.623Z"
   },
   {
    "duration": 23,
    "start_time": "2023-02-09T11:08:03.781Z"
   },
   {
    "duration": 2,
    "start_time": "2023-02-09T11:08:04.606Z"
   },
   {
    "duration": 93,
    "start_time": "2023-02-09T11:08:06.985Z"
   },
   {
    "duration": 24,
    "start_time": "2023-02-09T11:08:17.733Z"
   },
   {
    "duration": 2,
    "start_time": "2023-02-09T11:08:18.276Z"
   },
   {
    "duration": 81,
    "start_time": "2023-02-09T11:08:19.857Z"
   },
   {
    "duration": 24,
    "start_time": "2023-02-09T11:08:27.999Z"
   },
   {
    "duration": 2,
    "start_time": "2023-02-09T11:08:28.585Z"
   },
   {
    "duration": 80,
    "start_time": "2023-02-09T11:08:29.296Z"
   },
   {
    "duration": 25,
    "start_time": "2023-02-09T11:08:38.235Z"
   },
   {
    "duration": 2,
    "start_time": "2023-02-09T11:08:41.293Z"
   },
   {
    "duration": 84,
    "start_time": "2023-02-09T11:08:44.877Z"
   },
   {
    "duration": 24,
    "start_time": "2023-02-09T11:08:57.718Z"
   },
   {
    "duration": 3,
    "start_time": "2023-02-09T11:08:58.092Z"
   },
   {
    "duration": 129,
    "start_time": "2023-02-09T11:08:58.546Z"
   },
   {
    "duration": 679,
    "start_time": "2023-02-09T11:09:04.106Z"
   },
   {
    "duration": 1011,
    "start_time": "2023-02-09T11:09:04.787Z"
   },
   {
    "duration": 7,
    "start_time": "2023-02-09T11:09:05.802Z"
   },
   {
    "duration": 160,
    "start_time": "2023-02-09T11:09:05.811Z"
   },
   {
    "duration": 214,
    "start_time": "2023-02-09T11:09:05.974Z"
   },
   {
    "duration": 58,
    "start_time": "2023-02-09T11:09:06.190Z"
   },
   {
    "duration": 3,
    "start_time": "2023-02-09T11:09:06.252Z"
   },
   {
    "duration": 107,
    "start_time": "2023-02-09T11:09:06.258Z"
   },
   {
    "duration": 84,
    "start_time": "2023-02-09T11:09:45.599Z"
   },
   {
    "duration": 658,
    "start_time": "2023-02-09T11:30:18.796Z"
   },
   {
    "duration": 951,
    "start_time": "2023-02-09T11:30:19.456Z"
   },
   {
    "duration": 7,
    "start_time": "2023-02-09T11:30:20.409Z"
   },
   {
    "duration": 151,
    "start_time": "2023-02-09T11:30:20.417Z"
   },
   {
    "duration": 208,
    "start_time": "2023-02-09T11:30:20.570Z"
   },
   {
    "duration": 46,
    "start_time": "2023-02-09T11:30:20.779Z"
   },
   {
    "duration": 105,
    "start_time": "2023-02-09T11:30:20.826Z"
   },
   {
    "duration": 330,
    "start_time": "2023-02-09T11:38:54.002Z"
   },
   {
    "duration": 75,
    "start_time": "2023-02-09T11:39:49.507Z"
   },
   {
    "duration": 513,
    "start_time": "2023-02-09T11:40:10.400Z"
   },
   {
    "duration": 307,
    "start_time": "2023-02-09T11:40:18.036Z"
   },
   {
    "duration": 332,
    "start_time": "2023-02-09T11:41:23.778Z"
   },
   {
    "duration": 309,
    "start_time": "2023-02-09T11:42:24.580Z"
   },
   {
    "duration": 309,
    "start_time": "2023-02-09T11:42:35.887Z"
   },
   {
    "duration": 290,
    "start_time": "2023-02-09T11:43:52.102Z"
   },
   {
    "duration": 317,
    "start_time": "2023-02-09T11:47:50.563Z"
   },
   {
    "duration": 9,
    "start_time": "2023-02-09T11:51:29.302Z"
   },
   {
    "duration": 16,
    "start_time": "2023-02-09T11:51:37.821Z"
   },
   {
    "duration": 524,
    "start_time": "2023-02-09T11:51:53.485Z"
   },
   {
    "duration": 1226,
    "start_time": "2023-02-09T11:52:06.904Z"
   },
   {
    "duration": 992,
    "start_time": "2023-02-09T11:52:08.132Z"
   },
   {
    "duration": 7,
    "start_time": "2023-02-09T11:52:09.125Z"
   },
   {
    "duration": 171,
    "start_time": "2023-02-09T11:52:09.133Z"
   },
   {
    "duration": 208,
    "start_time": "2023-02-09T11:52:09.306Z"
   },
   {
    "duration": 35,
    "start_time": "2023-02-09T11:52:09.515Z"
   },
   {
    "duration": 110,
    "start_time": "2023-02-09T11:52:09.552Z"
   },
   {
    "duration": 339,
    "start_time": "2023-02-09T11:52:09.664Z"
   },
   {
    "duration": 660,
    "start_time": "2023-02-09T11:52:10.005Z"
   },
   {
    "duration": 613,
    "start_time": "2023-02-09T11:53:27.857Z"
   },
   {
    "duration": 497,
    "start_time": "2023-02-09T11:53:47.357Z"
   },
   {
    "duration": 1183,
    "start_time": "2023-02-09T11:54:01.021Z"
   },
   {
    "duration": 999,
    "start_time": "2023-02-09T11:54:02.206Z"
   },
   {
    "duration": 7,
    "start_time": "2023-02-09T11:54:03.207Z"
   },
   {
    "duration": 152,
    "start_time": "2023-02-09T11:54:03.217Z"
   },
   {
    "duration": 199,
    "start_time": "2023-02-09T11:54:03.371Z"
   },
   {
    "duration": 45,
    "start_time": "2023-02-09T11:54:03.572Z"
   },
   {
    "duration": 94,
    "start_time": "2023-02-09T11:54:03.618Z"
   },
   {
    "duration": 327,
    "start_time": "2023-02-09T11:54:03.714Z"
   },
   {
    "duration": 641,
    "start_time": "2023-02-09T11:54:04.043Z"
   },
   {
    "duration": 532,
    "start_time": "2023-02-09T11:54:18.844Z"
   },
   {
    "duration": 530,
    "start_time": "2023-02-09T11:54:52.100Z"
   },
   {
    "duration": 544,
    "start_time": "2023-02-09T11:55:15.884Z"
   },
   {
    "duration": 506,
    "start_time": "2023-02-09T11:55:54.944Z"
   },
   {
    "duration": 564,
    "start_time": "2023-02-09T11:56:27.152Z"
   },
   {
    "duration": 1205,
    "start_time": "2023-02-09T11:56:40.209Z"
   },
   {
    "duration": 956,
    "start_time": "2023-02-09T11:56:41.416Z"
   },
   {
    "duration": 7,
    "start_time": "2023-02-09T11:56:42.374Z"
   },
   {
    "duration": 179,
    "start_time": "2023-02-09T11:56:42.383Z"
   },
   {
    "duration": 205,
    "start_time": "2023-02-09T11:56:42.565Z"
   },
   {
    "duration": 43,
    "start_time": "2023-02-09T11:56:42.772Z"
   },
   {
    "duration": 106,
    "start_time": "2023-02-09T11:56:42.817Z"
   },
   {
    "duration": 400,
    "start_time": "2023-02-09T11:56:42.925Z"
   },
   {
    "duration": 19,
    "start_time": "2023-02-09T11:56:43.327Z"
   },
   {
    "duration": 27,
    "start_time": "2023-02-09T11:56:55.212Z"
   },
   {
    "duration": 19,
    "start_time": "2023-02-09T11:57:18.223Z"
   },
   {
    "duration": 19,
    "start_time": "2023-02-09T11:57:27.294Z"
   },
   {
    "duration": 1220,
    "start_time": "2023-02-09T11:57:36.836Z"
   },
   {
    "duration": 1114,
    "start_time": "2023-02-09T11:57:38.058Z"
   },
   {
    "duration": 7,
    "start_time": "2023-02-09T11:57:39.174Z"
   },
   {
    "duration": 190,
    "start_time": "2023-02-09T11:57:39.183Z"
   },
   {
    "duration": 240,
    "start_time": "2023-02-09T11:57:39.376Z"
   },
   {
    "duration": 47,
    "start_time": "2023-02-09T11:57:39.619Z"
   },
   {
    "duration": 159,
    "start_time": "2023-02-09T11:57:39.669Z"
   },
   {
    "duration": 378,
    "start_time": "2023-02-09T11:57:39.831Z"
   },
   {
    "duration": 32,
    "start_time": "2023-02-09T11:57:40.212Z"
   },
   {
    "duration": 1328,
    "start_time": "2023-02-09T15:37:52.494Z"
   },
   {
    "duration": 1391,
    "start_time": "2023-02-09T15:37:53.824Z"
   },
   {
    "duration": 6,
    "start_time": "2023-02-09T15:37:55.217Z"
   },
   {
    "duration": 169,
    "start_time": "2023-02-09T15:37:55.224Z"
   },
   {
    "duration": 205,
    "start_time": "2023-02-09T15:37:55.395Z"
   },
   {
    "duration": 37,
    "start_time": "2023-02-09T15:37:55.601Z"
   },
   {
    "duration": 144,
    "start_time": "2023-02-09T15:37:55.641Z"
   },
   {
    "duration": 356,
    "start_time": "2023-02-09T15:37:55.787Z"
   },
   {
    "duration": 21,
    "start_time": "2023-02-09T15:37:56.145Z"
   },
   {
    "duration": 46,
    "start_time": "2023-02-09T15:38:20.307Z"
   },
   {
    "duration": 21,
    "start_time": "2023-02-09T15:38:36.229Z"
   },
   {
    "duration": 1803,
    "start_time": "2023-02-09T15:40:22.380Z"
   },
   {
    "duration": 5094,
    "start_time": "2023-02-09T15:41:54.174Z"
   },
   {
    "duration": 197,
    "start_time": "2023-02-09T15:42:47.356Z"
   },
   {
    "duration": 177,
    "start_time": "2023-02-09T15:42:58.606Z"
   },
   {
    "duration": 1332,
    "start_time": "2023-02-09T15:43:10.665Z"
   },
   {
    "duration": 139,
    "start_time": "2023-02-09T15:43:17.022Z"
   },
   {
    "duration": 11,
    "start_time": "2023-02-09T15:44:23.829Z"
   },
   {
    "duration": 1274,
    "start_time": "2023-02-10T13:52:49.159Z"
   },
   {
    "duration": 1289,
    "start_time": "2023-02-10T13:52:50.435Z"
   },
   {
    "duration": 6,
    "start_time": "2023-02-10T13:52:51.726Z"
   },
   {
    "duration": 178,
    "start_time": "2023-02-10T13:52:51.734Z"
   },
   {
    "duration": 216,
    "start_time": "2023-02-10T13:52:51.915Z"
   },
   {
    "duration": 35,
    "start_time": "2023-02-10T13:52:52.132Z"
   },
   {
    "duration": 108,
    "start_time": "2023-02-10T13:52:52.169Z"
   },
   {
    "duration": 379,
    "start_time": "2023-02-10T13:52:52.279Z"
   },
   {
    "duration": 20,
    "start_time": "2023-02-10T13:52:52.660Z"
   },
   {
    "duration": 17,
    "start_time": "2023-02-10T13:52:52.681Z"
   },
   {
    "duration": 183,
    "start_time": "2023-02-10T13:53:39.144Z"
   },
   {
    "duration": 43,
    "start_time": "2023-02-10T13:58:33.128Z"
   },
   {
    "duration": 87,
    "start_time": "2023-02-10T13:59:07.018Z"
   },
   {
    "duration": 7,
    "start_time": "2023-02-10T14:00:00.040Z"
   },
   {
    "duration": 16,
    "start_time": "2023-02-10T14:00:42.529Z"
   },
   {
    "duration": 5,
    "start_time": "2023-02-10T14:00:52.470Z"
   },
   {
    "duration": 15,
    "start_time": "2023-02-10T14:00:59.228Z"
   },
   {
    "duration": 12,
    "start_time": "2023-02-10T14:01:07.418Z"
   },
   {
    "duration": 8,
    "start_time": "2023-02-10T14:01:13.020Z"
   },
   {
    "duration": 5,
    "start_time": "2023-02-10T14:01:45.916Z"
   },
   {
    "duration": 9,
    "start_time": "2023-02-10T14:01:55.153Z"
   },
   {
    "duration": 4,
    "start_time": "2023-02-10T14:02:23.320Z"
   },
   {
    "duration": 9,
    "start_time": "2023-02-10T14:02:27.138Z"
   },
   {
    "duration": 305,
    "start_time": "2023-02-10T14:07:20.721Z"
   },
   {
    "duration": 19,
    "start_time": "2023-02-10T14:11:45.672Z"
   },
   {
    "duration": 189,
    "start_time": "2023-02-10T14:13:19.568Z"
   },
   {
    "duration": 1450,
    "start_time": "2023-02-10T14:13:31.233Z"
   },
   {
    "duration": 101,
    "start_time": "2023-02-10T14:14:46.108Z"
   },
   {
    "duration": 245,
    "start_time": "2023-02-10T14:14:56.177Z"
   },
   {
    "duration": 396,
    "start_time": "2023-02-10T14:15:08.118Z"
   },
   {
    "duration": 145,
    "start_time": "2023-02-10T14:15:21.526Z"
   },
   {
    "duration": 177,
    "start_time": "2023-02-10T14:15:26.916Z"
   },
   {
    "duration": 171,
    "start_time": "2023-02-10T14:15:44.712Z"
   },
   {
    "duration": 206,
    "start_time": "2023-02-10T14:15:52.274Z"
   },
   {
    "duration": 187,
    "start_time": "2023-02-10T14:16:02.472Z"
   },
   {
    "duration": 270,
    "start_time": "2023-02-10T14:16:48.159Z"
   },
   {
    "duration": 252,
    "start_time": "2023-02-10T14:16:59.589Z"
   },
   {
    "duration": 260,
    "start_time": "2023-02-10T14:17:31.286Z"
   },
   {
    "duration": 348,
    "start_time": "2023-02-10T14:17:48.842Z"
   },
   {
    "duration": 211,
    "start_time": "2023-02-10T14:18:23.071Z"
   },
   {
    "duration": 206,
    "start_time": "2023-02-10T14:19:16.168Z"
   },
   {
    "duration": 62,
    "start_time": "2023-02-10T14:19:53.929Z"
   },
   {
    "duration": 377,
    "start_time": "2023-02-10T14:20:19.286Z"
   },
   {
    "duration": 48,
    "start_time": "2023-02-10T14:20:56.881Z"
   },
   {
    "duration": 53,
    "start_time": "2023-02-10T14:21:05.893Z"
   },
   {
    "duration": 59,
    "start_time": "2023-02-10T14:21:17.864Z"
   },
   {
    "duration": 63,
    "start_time": "2023-02-10T14:24:21.334Z"
   },
   {
    "duration": 177,
    "start_time": "2023-02-10T14:24:26.515Z"
   },
   {
    "duration": 4,
    "start_time": "2023-02-10T14:25:05.028Z"
   },
   {
    "duration": 201,
    "start_time": "2023-02-10T14:25:08.834Z"
   },
   {
    "duration": 201,
    "start_time": "2023-02-10T14:25:28.099Z"
   },
   {
    "duration": 38,
    "start_time": "2023-02-10T14:46:14.425Z"
   },
   {
    "duration": 74,
    "start_time": "2023-02-10T14:46:47.818Z"
   },
   {
    "duration": 8,
    "start_time": "2023-02-10T14:48:14.976Z"
   },
   {
    "duration": 37,
    "start_time": "2023-02-10T14:48:28.961Z"
   },
   {
    "duration": 19,
    "start_time": "2023-02-10T14:52:02.232Z"
   },
   {
    "duration": 184,
    "start_time": "2023-02-10T14:54:30.990Z"
   },
   {
    "duration": 188,
    "start_time": "2023-02-10T14:54:58.123Z"
   },
   {
    "duration": 176,
    "start_time": "2023-02-10T15:01:37.698Z"
   },
   {
    "duration": 189,
    "start_time": "2023-02-10T15:03:35.482Z"
   },
   {
    "duration": 433,
    "start_time": "2023-02-10T15:12:00.802Z"
   },
   {
    "duration": 18,
    "start_time": "2023-02-10T15:17:41.015Z"
   },
   {
    "duration": 39,
    "start_time": "2023-02-10T15:18:53.234Z"
   },
   {
    "duration": 487,
    "start_time": "2023-02-10T15:19:41.227Z"
   },
   {
    "duration": 38,
    "start_time": "2023-02-10T15:19:50.673Z"
   },
   {
    "duration": 249,
    "start_time": "2023-02-10T15:22:20.686Z"
   },
   {
    "duration": 18,
    "start_time": "2023-02-10T15:25:58.109Z"
   },
   {
    "duration": 148,
    "start_time": "2023-02-10T15:27:23.300Z"
   },
   {
    "duration": 127,
    "start_time": "2023-02-10T15:27:38.156Z"
   },
   {
    "duration": 140,
    "start_time": "2023-02-10T15:29:16.066Z"
   },
   {
    "duration": 1103,
    "start_time": "2023-02-10T15:29:20.434Z"
   },
   {
    "duration": 1000,
    "start_time": "2023-02-10T15:29:21.539Z"
   },
   {
    "duration": 478,
    "start_time": "2023-02-10T15:29:22.540Z"
   },
   {
    "duration": 6,
    "start_time": "2023-02-10T15:29:23.020Z"
   },
   {
    "duration": 179,
    "start_time": "2023-02-10T15:29:23.027Z"
   },
   {
    "duration": 195,
    "start_time": "2023-02-10T15:29:23.208Z"
   },
   {
    "duration": 35,
    "start_time": "2023-02-10T15:29:23.405Z"
   },
   {
    "duration": 109,
    "start_time": "2023-02-10T15:29:23.441Z"
   },
   {
    "duration": 344,
    "start_time": "2023-02-10T15:29:23.552Z"
   },
   {
    "duration": 19,
    "start_time": "2023-02-10T15:29:23.898Z"
   },
   {
    "duration": 43,
    "start_time": "2023-02-10T15:29:23.918Z"
   },
   {
    "duration": 70,
    "start_time": "2023-02-10T15:29:23.964Z"
   },
   {
    "duration": 390,
    "start_time": "2023-02-10T15:29:24.036Z"
   },
   {
    "duration": 19,
    "start_time": "2023-02-10T15:29:24.427Z"
   },
   {
    "duration": 188,
    "start_time": "2023-02-10T15:29:24.447Z"
   },
   {
    "duration": 39,
    "start_time": "2023-02-10T15:29:24.637Z"
   },
   {
    "duration": 50,
    "start_time": "2023-02-10T15:29:24.678Z"
   },
   {
    "duration": 41,
    "start_time": "2023-02-10T15:29:24.729Z"
   },
   {
    "duration": 206,
    "start_time": "2023-02-10T15:29:24.772Z"
   },
   {
    "duration": 199,
    "start_time": "2023-02-10T15:29:24.980Z"
   },
   {
    "duration": 331,
    "start_time": "2023-02-10T15:29:25.182Z"
   },
   {
    "duration": 18,
    "start_time": "2023-02-10T15:29:25.514Z"
   },
   {
    "duration": 74,
    "start_time": "2023-02-10T15:29:25.534Z"
   },
   {
    "duration": 302,
    "start_time": "2023-02-10T15:29:25.610Z"
   },
   {
    "duration": 18,
    "start_time": "2023-02-10T15:29:25.913Z"
   },
   {
    "duration": 150,
    "start_time": "2023-02-10T15:29:25.933Z"
   },
   {
    "duration": 171,
    "start_time": "2023-02-10T15:30:25.674Z"
   },
   {
    "duration": 1166,
    "start_time": "2023-02-10T15:31:23.453Z"
   },
   {
    "duration": 990,
    "start_time": "2023-02-10T15:31:24.621Z"
   },
   {
    "duration": 462,
    "start_time": "2023-02-10T15:31:25.612Z"
   },
   {
    "duration": 589,
    "start_time": "2023-02-10T15:31:26.076Z"
   },
   {
    "duration": 6,
    "start_time": "2023-02-10T15:31:26.667Z"
   },
   {
    "duration": 165,
    "start_time": "2023-02-10T15:31:26.674Z"
   },
   {
    "duration": 190,
    "start_time": "2023-02-10T15:31:26.840Z"
   },
   {
    "duration": 33,
    "start_time": "2023-02-10T15:31:27.032Z"
   },
   {
    "duration": 101,
    "start_time": "2023-02-10T15:31:27.066Z"
   },
   {
    "duration": 336,
    "start_time": "2023-02-10T15:31:27.169Z"
   },
   {
    "duration": 19,
    "start_time": "2023-02-10T15:31:27.507Z"
   },
   {
    "duration": 9,
    "start_time": "2023-02-10T15:31:27.528Z"
   },
   {
    "duration": 72,
    "start_time": "2023-02-10T15:31:27.538Z"
   },
   {
    "duration": 298,
    "start_time": "2023-02-10T15:31:27.613Z"
   },
   {
    "duration": 24,
    "start_time": "2023-02-10T15:31:27.913Z"
   },
   {
    "duration": 187,
    "start_time": "2023-02-10T15:31:27.938Z"
   },
   {
    "duration": 39,
    "start_time": "2023-02-10T15:31:28.127Z"
   },
   {
    "duration": 56,
    "start_time": "2023-02-10T15:31:28.168Z"
   },
   {
    "duration": 18,
    "start_time": "2023-02-10T15:31:28.226Z"
   },
   {
    "duration": 232,
    "start_time": "2023-02-10T15:31:28.246Z"
   },
   {
    "duration": 186,
    "start_time": "2023-02-10T15:31:28.480Z"
   },
   {
    "duration": 339,
    "start_time": "2023-02-10T15:31:28.668Z"
   },
   {
    "duration": 26,
    "start_time": "2023-02-10T15:31:29.008Z"
   },
   {
    "duration": 61,
    "start_time": "2023-02-10T15:31:29.035Z"
   },
   {
    "duration": 326,
    "start_time": "2023-02-10T15:31:29.097Z"
   },
   {
    "duration": 20,
    "start_time": "2023-02-10T15:31:29.425Z"
   },
   {
    "duration": 182,
    "start_time": "2023-02-10T15:31:29.447Z"
   },
   {
    "duration": 78,
    "start_time": "2023-02-10T15:33:52.483Z"
   },
   {
    "duration": 48,
    "start_time": "2023-02-13T10:41:02.419Z"
   },
   {
    "duration": 6,
    "start_time": "2023-02-13T10:41:03.645Z"
   },
   {
    "duration": 1360,
    "start_time": "2023-02-13T10:41:26.024Z"
   },
   {
    "duration": 1126,
    "start_time": "2023-02-13T10:41:27.386Z"
   },
   {
    "duration": 6,
    "start_time": "2023-02-13T10:41:28.513Z"
   },
   {
    "duration": 436,
    "start_time": "2023-02-13T10:41:28.521Z"
   },
   {
    "duration": 524,
    "start_time": "2023-02-13T10:41:28.960Z"
   },
   {
    "duration": 143,
    "start_time": "2023-02-13T10:41:29.485Z"
   },
   {
    "duration": 200,
    "start_time": "2023-02-13T10:41:29.630Z"
   },
   {
    "duration": 40,
    "start_time": "2023-02-13T10:41:29.832Z"
   },
   {
    "duration": 101,
    "start_time": "2023-02-13T10:41:29.874Z"
   },
   {
    "duration": 320,
    "start_time": "2023-02-13T10:41:29.978Z"
   },
   {
    "duration": 26,
    "start_time": "2023-02-13T10:41:30.300Z"
   },
   {
    "duration": 11,
    "start_time": "2023-02-13T10:41:30.329Z"
   },
   {
    "duration": 82,
    "start_time": "2023-02-13T10:41:30.342Z"
   },
   {
    "duration": 335,
    "start_time": "2023-02-13T10:41:30.425Z"
   },
   {
    "duration": 21,
    "start_time": "2023-02-13T10:41:30.762Z"
   },
   {
    "duration": 202,
    "start_time": "2023-02-13T10:41:30.784Z"
   },
   {
    "duration": 43,
    "start_time": "2023-02-13T10:41:30.987Z"
   },
   {
    "duration": 35,
    "start_time": "2023-02-13T10:41:31.032Z"
   },
   {
    "duration": 41,
    "start_time": "2023-02-13T10:41:31.069Z"
   },
   {
    "duration": 217,
    "start_time": "2023-02-13T10:41:31.111Z"
   },
   {
    "duration": 186,
    "start_time": "2023-02-13T10:41:31.330Z"
   },
   {
    "duration": 290,
    "start_time": "2023-02-13T10:41:31.517Z"
   },
   {
    "duration": 25,
    "start_time": "2023-02-13T10:41:31.808Z"
   },
   {
    "duration": 69,
    "start_time": "2023-02-13T10:41:31.835Z"
   },
   {
    "duration": 253,
    "start_time": "2023-02-13T10:41:31.906Z"
   },
   {
    "duration": 16,
    "start_time": "2023-02-13T10:41:32.161Z"
   },
   {
    "duration": 73,
    "start_time": "2023-02-13T10:41:32.179Z"
   },
   {
    "duration": 71,
    "start_time": "2023-02-13T10:43:27.419Z"
   },
   {
    "duration": 70,
    "start_time": "2023-02-13T10:43:37.312Z"
   },
   {
    "duration": 71,
    "start_time": "2023-02-13T10:44:01.332Z"
   },
   {
    "duration": 38,
    "start_time": "2023-02-13T10:46:45.314Z"
   },
   {
    "duration": 38,
    "start_time": "2023-02-13T10:46:52.903Z"
   },
   {
    "duration": 38,
    "start_time": "2023-02-13T10:47:06.674Z"
   },
   {
    "duration": 1143,
    "start_time": "2023-02-13T10:49:18.798Z"
   },
   {
    "duration": 945,
    "start_time": "2023-02-13T10:49:19.943Z"
   },
   {
    "duration": 7,
    "start_time": "2023-02-13T10:49:20.889Z"
   },
   {
    "duration": 454,
    "start_time": "2023-02-13T10:49:20.897Z"
   },
   {
    "duration": 546,
    "start_time": "2023-02-13T10:49:21.353Z"
   },
   {
    "duration": 145,
    "start_time": "2023-02-13T10:49:21.901Z"
   },
   {
    "duration": 200,
    "start_time": "2023-02-13T10:49:22.047Z"
   },
   {
    "duration": 32,
    "start_time": "2023-02-13T10:49:22.249Z"
   },
   {
    "duration": 98,
    "start_time": "2023-02-13T10:49:22.283Z"
   },
   {
    "duration": 324,
    "start_time": "2023-02-13T10:49:22.383Z"
   },
   {
    "duration": 22,
    "start_time": "2023-02-13T10:49:22.710Z"
   },
   {
    "duration": 10,
    "start_time": "2023-02-13T10:49:22.734Z"
   },
   {
    "duration": 43,
    "start_time": "2023-02-13T10:49:22.747Z"
   },
   {
    "duration": 287,
    "start_time": "2023-02-13T10:49:22.793Z"
   },
   {
    "duration": 17,
    "start_time": "2023-02-13T10:49:23.082Z"
   },
   {
    "duration": 194,
    "start_time": "2023-02-13T10:49:23.101Z"
   },
   {
    "duration": 48,
    "start_time": "2023-02-13T10:49:23.296Z"
   },
   {
    "duration": 35,
    "start_time": "2023-02-13T10:49:23.346Z"
   },
   {
    "duration": 19,
    "start_time": "2023-02-13T10:49:23.382Z"
   },
   {
    "duration": 230,
    "start_time": "2023-02-13T10:49:23.403Z"
   },
   {
    "duration": 199,
    "start_time": "2023-02-13T10:49:23.635Z"
   },
   {
    "duration": 298,
    "start_time": "2023-02-13T10:49:23.836Z"
   },
   {
    "duration": 15,
    "start_time": "2023-02-13T10:49:24.136Z"
   },
   {
    "duration": 37,
    "start_time": "2023-02-13T10:49:24.153Z"
   },
   {
    "duration": 255,
    "start_time": "2023-02-13T10:49:24.192Z"
   },
   {
    "duration": 17,
    "start_time": "2023-02-13T10:49:24.449Z"
   },
   {
    "duration": 78,
    "start_time": "2023-02-13T10:49:24.468Z"
   },
   {
    "duration": 315,
    "start_time": "2023-02-13T11:12:01.580Z"
   },
   {
    "duration": 56,
    "start_time": "2023-02-13T11:12:08.893Z"
   },
   {
    "duration": 20,
    "start_time": "2023-02-13T11:15:26.026Z"
   },
   {
    "duration": 108,
    "start_time": "2023-02-13T11:31:45.420Z"
   },
   {
    "duration": 3,
    "start_time": "2023-02-13T11:32:16.181Z"
   },
   {
    "duration": 203,
    "start_time": "2023-02-13T11:32:22.938Z"
   },
   {
    "duration": 1742,
    "start_time": "2023-02-13T12:54:52.628Z"
   },
   {
    "duration": 3147,
    "start_time": "2023-02-13T12:54:54.373Z"
   },
   {
    "duration": 8,
    "start_time": "2023-02-13T12:54:57.522Z"
   },
   {
    "duration": 460,
    "start_time": "2023-02-13T12:54:57.532Z"
   },
   {
    "duration": 558,
    "start_time": "2023-02-13T12:54:57.995Z"
   },
   {
    "duration": 153,
    "start_time": "2023-02-13T12:54:58.555Z"
   },
   {
    "duration": 200,
    "start_time": "2023-02-13T12:54:58.709Z"
   },
   {
    "duration": 33,
    "start_time": "2023-02-13T12:54:58.911Z"
   },
   {
    "duration": 96,
    "start_time": "2023-02-13T12:54:58.945Z"
   },
   {
    "duration": 351,
    "start_time": "2023-02-13T12:54:59.043Z"
   },
   {
    "duration": 26,
    "start_time": "2023-02-13T12:54:59.396Z"
   },
   {
    "duration": 14,
    "start_time": "2023-02-13T12:54:59.424Z"
   },
   {
    "duration": 68,
    "start_time": "2023-02-13T12:54:59.440Z"
   },
   {
    "duration": 305,
    "start_time": "2023-02-13T12:54:59.511Z"
   },
   {
    "duration": 33,
    "start_time": "2023-02-13T12:54:59.818Z"
   },
   {
    "duration": 205,
    "start_time": "2023-02-13T12:54:59.853Z"
   },
   {
    "duration": 50,
    "start_time": "2023-02-13T12:55:00.060Z"
   },
   {
    "duration": 42,
    "start_time": "2023-02-13T12:55:00.112Z"
   },
   {
    "duration": 40,
    "start_time": "2023-02-13T12:55:00.155Z"
   },
   {
    "duration": 321,
    "start_time": "2023-02-13T12:55:00.197Z"
   },
   {
    "duration": 203,
    "start_time": "2023-02-13T12:55:00.520Z"
   },
   {
    "duration": 349,
    "start_time": "2023-02-13T12:55:00.725Z"
   },
   {
    "duration": 30,
    "start_time": "2023-02-13T12:55:01.078Z"
   },
   {
    "duration": 82,
    "start_time": "2023-02-13T12:55:01.111Z"
   },
   {
    "duration": 312,
    "start_time": "2023-02-13T12:55:01.195Z"
   },
   {
    "duration": 27,
    "start_time": "2023-02-13T12:55:01.509Z"
   },
   {
    "duration": 186,
    "start_time": "2023-02-13T12:55:01.538Z"
   },
   {
    "duration": 86,
    "start_time": "2023-02-13T12:55:01.726Z"
   },
   {
    "duration": 20,
    "start_time": "2023-02-13T12:55:01.814Z"
   },
   {
    "duration": 124,
    "start_time": "2023-02-13T12:55:01.836Z"
   },
   {
    "duration": 0,
    "start_time": "2023-02-13T12:55:01.962Z"
   },
   {
    "duration": 3,
    "start_time": "2023-02-13T12:55:29.148Z"
   },
   {
    "duration": 25,
    "start_time": "2023-02-13T12:55:34.545Z"
   },
   {
    "duration": 908,
    "start_time": "2023-02-13T12:55:35.716Z"
   },
   {
    "duration": 231,
    "start_time": "2023-02-13T12:55:39.145Z"
   },
   {
    "duration": 67,
    "start_time": "2023-02-13T12:57:56.063Z"
   },
   {
    "duration": 60,
    "start_time": "2023-02-13T12:58:25.602Z"
   },
   {
    "duration": 1534,
    "start_time": "2023-02-13T12:58:32.720Z"
   },
   {
    "duration": 1062,
    "start_time": "2023-02-13T12:58:34.256Z"
   },
   {
    "duration": 8,
    "start_time": "2023-02-13T12:58:35.320Z"
   },
   {
    "duration": 515,
    "start_time": "2023-02-13T12:58:35.329Z"
   },
   {
    "duration": 638,
    "start_time": "2023-02-13T12:58:35.846Z"
   },
   {
    "duration": 184,
    "start_time": "2023-02-13T12:58:36.486Z"
   },
   {
    "duration": 229,
    "start_time": "2023-02-13T12:58:36.672Z"
   },
   {
    "duration": 47,
    "start_time": "2023-02-13T12:58:36.903Z"
   },
   {
    "duration": 124,
    "start_time": "2023-02-13T12:58:36.952Z"
   },
   {
    "duration": 384,
    "start_time": "2023-02-13T12:58:37.079Z"
   },
   {
    "duration": 19,
    "start_time": "2023-02-13T12:58:37.465Z"
   },
   {
    "duration": 28,
    "start_time": "2023-02-13T12:58:37.486Z"
   },
   {
    "duration": 49,
    "start_time": "2023-02-13T12:58:37.516Z"
   },
   {
    "duration": 354,
    "start_time": "2023-02-13T12:58:37.568Z"
   },
   {
    "duration": 19,
    "start_time": "2023-02-13T12:58:37.924Z"
   },
   {
    "duration": 211,
    "start_time": "2023-02-13T12:58:37.945Z"
   },
   {
    "duration": 57,
    "start_time": "2023-02-13T12:58:38.157Z"
   },
   {
    "duration": 47,
    "start_time": "2023-02-13T12:58:38.217Z"
   },
   {
    "duration": 16,
    "start_time": "2023-02-13T12:58:38.266Z"
   },
   {
    "duration": 334,
    "start_time": "2023-02-13T12:58:38.284Z"
   },
   {
    "duration": 215,
    "start_time": "2023-02-13T12:58:38.621Z"
   },
   {
    "duration": 349,
    "start_time": "2023-02-13T12:58:38.837Z"
   },
   {
    "duration": 27,
    "start_time": "2023-02-13T12:58:39.188Z"
   },
   {
    "duration": 45,
    "start_time": "2023-02-13T12:58:39.218Z"
   },
   {
    "duration": 300,
    "start_time": "2023-02-13T12:58:39.265Z"
   },
   {
    "duration": 18,
    "start_time": "2023-02-13T12:58:39.566Z"
   },
   {
    "duration": 101,
    "start_time": "2023-02-13T12:58:39.586Z"
   },
   {
    "duration": 82,
    "start_time": "2023-02-13T12:58:39.689Z"
   },
   {
    "duration": 26,
    "start_time": "2023-02-13T12:58:39.774Z"
   },
   {
    "duration": 1055,
    "start_time": "2023-02-13T12:58:39.807Z"
   },
   {
    "duration": 89,
    "start_time": "2023-02-13T12:58:40.864Z"
   },
   {
    "duration": 67,
    "start_time": "2023-02-13T12:59:06.703Z"
   },
   {
    "duration": 5,
    "start_time": "2023-02-13T12:59:09.856Z"
   },
   {
    "duration": 4,
    "start_time": "2023-02-13T12:59:21.437Z"
   },
   {
    "duration": 5,
    "start_time": "2023-02-13T12:59:32.356Z"
   },
   {
    "duration": 130,
    "start_time": "2023-02-13T12:59:56.820Z"
   },
   {
    "duration": 9,
    "start_time": "2023-02-13T13:00:05.171Z"
   },
   {
    "duration": 7,
    "start_time": "2023-02-13T13:00:50.017Z"
   },
   {
    "duration": 5,
    "start_time": "2023-02-13T13:01:02.557Z"
   },
   {
    "duration": 6,
    "start_time": "2023-02-13T13:04:36.884Z"
   },
   {
    "duration": 12,
    "start_time": "2023-02-13T13:05:06.746Z"
   },
   {
    "duration": 1512,
    "start_time": "2023-02-13T13:05:20.345Z"
   },
   {
    "duration": 926,
    "start_time": "2023-02-13T13:05:21.859Z"
   },
   {
    "duration": 6,
    "start_time": "2023-02-13T13:05:22.787Z"
   },
   {
    "duration": 456,
    "start_time": "2023-02-13T13:05:22.803Z"
   },
   {
    "duration": 550,
    "start_time": "2023-02-13T13:05:23.263Z"
   },
   {
    "duration": 150,
    "start_time": "2023-02-13T13:05:23.814Z"
   },
   {
    "duration": 194,
    "start_time": "2023-02-13T13:05:23.966Z"
   },
   {
    "duration": 33,
    "start_time": "2023-02-13T13:05:24.161Z"
   },
   {
    "duration": 78,
    "start_time": "2023-02-13T13:05:24.204Z"
   },
   {
    "duration": 331,
    "start_time": "2023-02-13T13:05:24.284Z"
   },
   {
    "duration": 19,
    "start_time": "2023-02-13T13:05:24.617Z"
   },
   {
    "duration": 10,
    "start_time": "2023-02-13T13:05:24.638Z"
   },
   {
    "duration": 66,
    "start_time": "2023-02-13T13:05:24.649Z"
   },
   {
    "duration": 294,
    "start_time": "2023-02-13T13:05:24.718Z"
   },
   {
    "duration": 19,
    "start_time": "2023-02-13T13:05:25.014Z"
   },
   {
    "duration": 194,
    "start_time": "2023-02-13T13:05:25.035Z"
   },
   {
    "duration": 41,
    "start_time": "2023-02-13T13:05:25.230Z"
   },
   {
    "duration": 61,
    "start_time": "2023-02-13T13:05:25.273Z"
   },
   {
    "duration": 19,
    "start_time": "2023-02-13T13:05:25.336Z"
   },
   {
    "duration": 299,
    "start_time": "2023-02-13T13:05:25.357Z"
   },
   {
    "duration": 187,
    "start_time": "2023-02-13T13:05:25.658Z"
   },
   {
    "duration": 315,
    "start_time": "2023-02-13T13:05:25.846Z"
   },
   {
    "duration": 41,
    "start_time": "2023-02-13T13:05:26.163Z"
   },
   {
    "duration": 58,
    "start_time": "2023-02-13T13:05:26.206Z"
   },
   {
    "duration": 296,
    "start_time": "2023-02-13T13:05:26.266Z"
   },
   {
    "duration": 18,
    "start_time": "2023-02-13T13:05:26.564Z"
   },
   {
    "duration": 88,
    "start_time": "2023-02-13T13:05:26.584Z"
   },
   {
    "duration": 67,
    "start_time": "2023-02-13T13:05:26.674Z"
   },
   {
    "duration": 19,
    "start_time": "2023-02-13T13:05:26.743Z"
   },
   {
    "duration": 984,
    "start_time": "2023-02-13T13:05:26.764Z"
   },
   {
    "duration": 196,
    "start_time": "2023-02-13T13:05:27.750Z"
   },
   {
    "duration": 19,
    "start_time": "2023-02-13T13:05:27.948Z"
   },
   {
    "duration": 75,
    "start_time": "2023-02-13T13:06:51.379Z"
   },
   {
    "duration": 125,
    "start_time": "2023-02-13T13:07:51.640Z"
   },
   {
    "duration": 224,
    "start_time": "2023-02-13T13:08:01.799Z"
   },
   {
    "duration": 206,
    "start_time": "2023-02-13T13:08:57.549Z"
   },
   {
    "duration": 76,
    "start_time": "2023-02-13T13:13:40.381Z"
   },
   {
    "duration": 31,
    "start_time": "2023-02-13T13:13:55.594Z"
   },
   {
    "duration": 31,
    "start_time": "2023-02-13T13:14:38.933Z"
   },
   {
    "duration": 22,
    "start_time": "2023-02-13T13:18:09.616Z"
   },
   {
    "duration": 255,
    "start_time": "2023-02-13T13:18:17.053Z"
   },
   {
    "duration": 4,
    "start_time": "2023-02-13T13:20:10.189Z"
   },
   {
    "duration": 237,
    "start_time": "2023-02-13T13:20:45.771Z"
   },
   {
    "duration": 213,
    "start_time": "2023-02-13T13:20:58.992Z"
   },
   {
    "duration": 69,
    "start_time": "2023-02-13T13:21:19.939Z"
   },
   {
    "duration": 71,
    "start_time": "2023-02-13T13:21:52.891Z"
   },
   {
    "duration": 152,
    "start_time": "2023-02-13T13:21:54.766Z"
   },
   {
    "duration": 1556,
    "start_time": "2023-02-13T13:22:02.209Z"
   },
   {
    "duration": 1033,
    "start_time": "2023-02-13T13:22:03.768Z"
   },
   {
    "duration": 8,
    "start_time": "2023-02-13T13:22:04.804Z"
   },
   {
    "duration": 702,
    "start_time": "2023-02-13T13:22:04.814Z"
   },
   {
    "duration": 616,
    "start_time": "2023-02-13T13:22:05.520Z"
   },
   {
    "duration": 168,
    "start_time": "2023-02-13T13:22:06.138Z"
   },
   {
    "duration": 223,
    "start_time": "2023-02-13T13:22:06.308Z"
   },
   {
    "duration": 42,
    "start_time": "2023-02-13T13:22:06.533Z"
   },
   {
    "duration": 108,
    "start_time": "2023-02-13T13:22:06.577Z"
   },
   {
    "duration": 558,
    "start_time": "2023-02-13T13:22:06.686Z"
   },
   {
    "duration": 19,
    "start_time": "2023-02-13T13:22:07.245Z"
   },
   {
    "duration": 14,
    "start_time": "2023-02-13T13:22:07.266Z"
   },
   {
    "duration": 64,
    "start_time": "2023-02-13T13:22:07.282Z"
   },
   {
    "duration": 320,
    "start_time": "2023-02-13T13:22:07.350Z"
   },
   {
    "duration": 20,
    "start_time": "2023-02-13T13:22:07.672Z"
   },
   {
    "duration": 209,
    "start_time": "2023-02-13T13:22:07.704Z"
   },
   {
    "duration": 49,
    "start_time": "2023-02-13T13:22:07.915Z"
   },
   {
    "duration": 86,
    "start_time": "2023-02-13T13:22:07.966Z"
   },
   {
    "duration": 19,
    "start_time": "2023-02-13T13:22:08.055Z"
   },
   {
    "duration": 296,
    "start_time": "2023-02-13T13:22:08.076Z"
   },
   {
    "duration": 194,
    "start_time": "2023-02-13T13:22:08.374Z"
   },
   {
    "duration": 419,
    "start_time": "2023-02-13T13:22:08.569Z"
   },
   {
    "duration": 37,
    "start_time": "2023-02-13T13:22:08.990Z"
   },
   {
    "duration": 45,
    "start_time": "2023-02-13T13:22:09.029Z"
   },
   {
    "duration": 349,
    "start_time": "2023-02-13T13:22:09.076Z"
   },
   {
    "duration": 19,
    "start_time": "2023-02-13T13:22:09.427Z"
   },
   {
    "duration": 143,
    "start_time": "2023-02-13T13:22:09.449Z"
   },
   {
    "duration": 66,
    "start_time": "2023-02-13T13:22:09.594Z"
   },
   {
    "duration": 25,
    "start_time": "2023-02-13T13:22:09.662Z"
   },
   {
    "duration": 995,
    "start_time": "2023-02-13T13:22:09.689Z"
   },
   {
    "duration": 874,
    "start_time": "2023-02-13T13:22:10.686Z"
   },
   {
    "duration": 247,
    "start_time": "2023-02-13T13:22:11.562Z"
   },
   {
    "duration": 46,
    "start_time": "2023-02-13T13:22:25.361Z"
   },
   {
    "duration": 92,
    "start_time": "2023-02-13T13:22:27.622Z"
   },
   {
    "duration": 46,
    "start_time": "2023-02-13T13:33:26.108Z"
   },
   {
    "duration": 108,
    "start_time": "2023-02-13T13:33:27.797Z"
   },
   {
    "duration": 1449,
    "start_time": "2023-02-13T13:33:46.410Z"
   },
   {
    "duration": 985,
    "start_time": "2023-02-13T13:33:47.861Z"
   },
   {
    "duration": 7,
    "start_time": "2023-02-13T13:33:48.847Z"
   },
   {
    "duration": 480,
    "start_time": "2023-02-13T13:33:48.855Z"
   },
   {
    "duration": 573,
    "start_time": "2023-02-13T13:33:49.337Z"
   },
   {
    "duration": 158,
    "start_time": "2023-02-13T13:33:49.912Z"
   },
   {
    "duration": 203,
    "start_time": "2023-02-13T13:33:50.072Z"
   },
   {
    "duration": 45,
    "start_time": "2023-02-13T13:33:50.277Z"
   },
   {
    "duration": 86,
    "start_time": "2023-02-13T13:33:50.324Z"
   },
   {
    "duration": 334,
    "start_time": "2023-02-13T13:33:50.412Z"
   },
   {
    "duration": 33,
    "start_time": "2023-02-13T13:33:50.748Z"
   },
   {
    "duration": 30,
    "start_time": "2023-02-13T13:33:50.784Z"
   },
   {
    "duration": 49,
    "start_time": "2023-02-13T13:33:50.816Z"
   },
   {
    "duration": 322,
    "start_time": "2023-02-13T13:33:50.867Z"
   },
   {
    "duration": 25,
    "start_time": "2023-02-13T13:33:51.191Z"
   },
   {
    "duration": 192,
    "start_time": "2023-02-13T13:33:51.218Z"
   },
   {
    "duration": 43,
    "start_time": "2023-02-13T13:33:51.412Z"
   },
   {
    "duration": 54,
    "start_time": "2023-02-13T13:33:51.457Z"
   },
   {
    "duration": 30,
    "start_time": "2023-02-13T13:33:51.513Z"
   },
   {
    "duration": 286,
    "start_time": "2023-02-13T13:33:51.545Z"
   },
   {
    "duration": 187,
    "start_time": "2023-02-13T13:33:51.832Z"
   },
   {
    "duration": 314,
    "start_time": "2023-02-13T13:33:52.021Z"
   },
   {
    "duration": 18,
    "start_time": "2023-02-13T13:33:52.336Z"
   },
   {
    "duration": 57,
    "start_time": "2023-02-13T13:33:52.355Z"
   },
   {
    "duration": 281,
    "start_time": "2023-02-13T13:33:52.414Z"
   },
   {
    "duration": 18,
    "start_time": "2023-02-13T13:33:52.696Z"
   },
   {
    "duration": 89,
    "start_time": "2023-02-13T13:33:52.716Z"
   },
   {
    "duration": 57,
    "start_time": "2023-02-13T13:33:52.808Z"
   },
   {
    "duration": 19,
    "start_time": "2023-02-13T13:33:52.867Z"
   },
   {
    "duration": 845,
    "start_time": "2023-02-13T13:33:52.903Z"
   },
   {
    "duration": 75,
    "start_time": "2023-02-13T13:33:53.749Z"
   },
   {
    "duration": 90,
    "start_time": "2023-02-13T13:33:53.826Z"
   },
   {
    "duration": 115,
    "start_time": "2023-02-13T13:34:17.171Z"
   },
   {
    "duration": 1331,
    "start_time": "2023-02-13T13:34:23.095Z"
   },
   {
    "duration": 944,
    "start_time": "2023-02-13T13:34:24.428Z"
   },
   {
    "duration": 8,
    "start_time": "2023-02-13T13:34:25.374Z"
   },
   {
    "duration": 459,
    "start_time": "2023-02-13T13:34:25.384Z"
   },
   {
    "duration": 557,
    "start_time": "2023-02-13T13:34:25.846Z"
   },
   {
    "duration": 152,
    "start_time": "2023-02-13T13:34:26.405Z"
   },
   {
    "duration": 214,
    "start_time": "2023-02-13T13:34:26.559Z"
   },
   {
    "duration": 52,
    "start_time": "2023-02-13T13:34:26.775Z"
   },
   {
    "duration": 107,
    "start_time": "2023-02-13T13:34:26.829Z"
   },
   {
    "duration": 370,
    "start_time": "2023-02-13T13:34:26.939Z"
   },
   {
    "duration": 20,
    "start_time": "2023-02-13T13:34:27.311Z"
   },
   {
    "duration": 12,
    "start_time": "2023-02-13T13:34:27.332Z"
   },
   {
    "duration": 58,
    "start_time": "2023-02-13T13:34:27.346Z"
   },
   {
    "duration": 306,
    "start_time": "2023-02-13T13:34:27.406Z"
   },
   {
    "duration": 20,
    "start_time": "2023-02-13T13:34:27.713Z"
   },
   {
    "duration": 198,
    "start_time": "2023-02-13T13:34:27.735Z"
   },
   {
    "duration": 39,
    "start_time": "2023-02-13T13:34:27.934Z"
   },
   {
    "duration": 50,
    "start_time": "2023-02-13T13:34:27.974Z"
   },
   {
    "duration": 16,
    "start_time": "2023-02-13T13:34:28.026Z"
   },
   {
    "duration": 318,
    "start_time": "2023-02-13T13:34:28.043Z"
   },
   {
    "duration": 193,
    "start_time": "2023-02-13T13:34:28.363Z"
   },
   {
    "duration": 303,
    "start_time": "2023-02-13T13:34:28.558Z"
   },
   {
    "duration": 17,
    "start_time": "2023-02-13T13:34:28.863Z"
   },
   {
    "duration": 69,
    "start_time": "2023-02-13T13:34:28.882Z"
   },
   {
    "duration": 262,
    "start_time": "2023-02-13T13:34:28.953Z"
   },
   {
    "duration": 17,
    "start_time": "2023-02-13T13:34:29.217Z"
   },
   {
    "duration": 80,
    "start_time": "2023-02-13T13:34:29.235Z"
   },
   {
    "duration": 58,
    "start_time": "2023-02-13T13:34:29.316Z"
   },
   {
    "duration": 42,
    "start_time": "2023-02-13T13:34:29.376Z"
   },
   {
    "duration": 873,
    "start_time": "2023-02-13T13:34:29.420Z"
   },
   {
    "duration": 198,
    "start_time": "2023-02-13T13:34:30.295Z"
   },
   {
    "duration": 211,
    "start_time": "2023-02-13T13:34:30.495Z"
   },
   {
    "duration": 24,
    "start_time": "2023-02-13T13:41:01.349Z"
   },
   {
    "duration": 335699,
    "start_time": "2023-02-13T13:44:49.308Z"
   },
   {
    "duration": 88,
    "start_time": "2023-02-13T13:50:48.849Z"
   },
   {
    "duration": 78,
    "start_time": "2023-02-13T13:50:54.516Z"
   },
   {
    "duration": 78,
    "start_time": "2023-02-13T13:51:11.598Z"
   },
   {
    "duration": 6,
    "start_time": "2023-02-13T13:51:26.591Z"
   },
   {
    "duration": 52,
    "start_time": "2023-02-13T13:51:38.619Z"
   },
   {
    "duration": 105,
    "start_time": "2023-02-13T13:51:59.699Z"
   },
   {
    "duration": 52,
    "start_time": "2023-02-13T13:52:28.229Z"
   },
   {
    "duration": 10,
    "start_time": "2023-02-13T13:52:52.958Z"
   },
   {
    "duration": 55,
    "start_time": "2023-02-13T13:52:55.808Z"
   },
   {
    "duration": 16,
    "start_time": "2023-02-13T13:52:57.439Z"
   },
   {
    "duration": 60,
    "start_time": "2023-02-13T13:53:05.063Z"
   },
   {
    "duration": 8,
    "start_time": "2023-02-13T13:53:06.488Z"
   },
   {
    "duration": 12,
    "start_time": "2023-02-13T13:53:22.459Z"
   },
   {
    "duration": 89,
    "start_time": "2023-02-13T13:54:02.718Z"
   },
   {
    "duration": 19175,
    "start_time": "2023-02-13T13:54:17.260Z"
   },
   {
    "duration": 1540,
    "start_time": "2023-02-13T13:56:01.389Z"
   },
   {
    "duration": 1037,
    "start_time": "2023-02-13T13:56:02.931Z"
   },
   {
    "duration": 6,
    "start_time": "2023-02-13T13:56:03.970Z"
   },
   {
    "duration": 494,
    "start_time": "2023-02-13T13:56:03.977Z"
   },
   {
    "duration": 593,
    "start_time": "2023-02-13T13:56:04.473Z"
   },
   {
    "duration": 173,
    "start_time": "2023-02-13T13:56:05.068Z"
   },
   {
    "duration": 235,
    "start_time": "2023-02-13T13:56:05.243Z"
   },
   {
    "duration": 42,
    "start_time": "2023-02-13T13:56:05.480Z"
   },
   {
    "duration": 86,
    "start_time": "2023-02-13T13:56:05.524Z"
   },
   {
    "duration": 383,
    "start_time": "2023-02-13T13:56:05.614Z"
   },
   {
    "duration": 30,
    "start_time": "2023-02-13T13:56:05.999Z"
   },
   {
    "duration": 11,
    "start_time": "2023-02-13T13:56:06.031Z"
   },
   {
    "duration": 47,
    "start_time": "2023-02-13T13:56:06.043Z"
   },
   {
    "duration": 363,
    "start_time": "2023-02-13T13:56:06.091Z"
   },
   {
    "duration": 19,
    "start_time": "2023-02-13T13:56:06.456Z"
   },
   {
    "duration": 261,
    "start_time": "2023-02-13T13:56:06.477Z"
   },
   {
    "duration": 46,
    "start_time": "2023-02-13T13:56:06.741Z"
   },
   {
    "duration": 76,
    "start_time": "2023-02-13T13:56:06.789Z"
   },
   {
    "duration": 46,
    "start_time": "2023-02-13T13:56:06.868Z"
   },
   {
    "duration": 370,
    "start_time": "2023-02-13T13:56:06.919Z"
   },
   {
    "duration": 209,
    "start_time": "2023-02-13T13:56:07.291Z"
   },
   {
    "duration": 352,
    "start_time": "2023-02-13T13:56:07.502Z"
   },
   {
    "duration": 18,
    "start_time": "2023-02-13T13:56:07.855Z"
   },
   {
    "duration": 58,
    "start_time": "2023-02-13T13:56:07.874Z"
   },
   {
    "duration": 300,
    "start_time": "2023-02-13T13:56:07.935Z"
   },
   {
    "duration": 19,
    "start_time": "2023-02-13T13:56:08.237Z"
   },
   {
    "duration": 107,
    "start_time": "2023-02-13T13:56:08.257Z"
   },
   {
    "duration": 76,
    "start_time": "2023-02-13T13:56:08.367Z"
   },
   {
    "duration": 19,
    "start_time": "2023-02-13T13:56:08.445Z"
   },
   {
    "duration": 983,
    "start_time": "2023-02-13T13:56:08.465Z"
   },
   {
    "duration": 211,
    "start_time": "2023-02-13T13:56:09.451Z"
   },
   {
    "duration": 81,
    "start_time": "2023-02-13T13:56:09.664Z"
   },
   {
    "duration": 69,
    "start_time": "2023-02-13T13:56:09.746Z"
   },
   {
    "duration": 364689,
    "start_time": "2023-02-13T13:56:09.818Z"
   },
   {
    "duration": 717,
    "start_time": "2023-02-13T14:02:14.510Z"
   },
   {
    "duration": 111,
    "start_time": "2023-02-14T15:49:10.515Z"
   },
   {
    "duration": 1740,
    "start_time": "2023-02-14T15:50:01.564Z"
   },
   {
    "duration": 147,
    "start_time": "2023-02-14T15:50:10.464Z"
   },
   {
    "duration": 1414,
    "start_time": "2023-02-14T15:50:40.944Z"
   },
   {
    "duration": 2905,
    "start_time": "2023-02-14T15:50:42.360Z"
   },
   {
    "duration": 6,
    "start_time": "2023-02-14T15:50:45.267Z"
   },
   {
    "duration": 495,
    "start_time": "2023-02-14T15:50:45.274Z"
   },
   {
    "duration": 545,
    "start_time": "2023-02-14T15:50:45.771Z"
   },
   {
    "duration": 151,
    "start_time": "2023-02-14T15:50:46.318Z"
   },
   {
    "duration": 177,
    "start_time": "2023-02-14T15:50:46.471Z"
   },
   {
    "duration": 31,
    "start_time": "2023-02-14T15:50:46.649Z"
   },
   {
    "duration": 87,
    "start_time": "2023-02-14T15:50:46.682Z"
   },
   {
    "duration": 326,
    "start_time": "2023-02-14T15:50:46.771Z"
   },
   {
    "duration": 18,
    "start_time": "2023-02-14T15:50:47.099Z"
   },
   {
    "duration": 8,
    "start_time": "2023-02-14T15:50:47.119Z"
   },
   {
    "duration": 54,
    "start_time": "2023-02-14T15:50:47.129Z"
   },
   {
    "duration": 326,
    "start_time": "2023-02-14T15:50:47.187Z"
   },
   {
    "duration": 19,
    "start_time": "2023-02-14T15:50:47.516Z"
   },
   {
    "duration": 289,
    "start_time": "2023-02-14T15:50:47.536Z"
   },
   {
    "duration": 48,
    "start_time": "2023-02-14T15:50:47.827Z"
   },
   {
    "duration": 48,
    "start_time": "2023-02-14T15:50:47.877Z"
   },
   {
    "duration": 31,
    "start_time": "2023-02-14T15:50:47.928Z"
   },
   {
    "duration": 222,
    "start_time": "2023-02-14T15:50:47.961Z"
   },
   {
    "duration": 199,
    "start_time": "2023-02-14T15:50:48.185Z"
   },
   {
    "duration": 301,
    "start_time": "2023-02-14T15:50:48.385Z"
   },
   {
    "duration": 16,
    "start_time": "2023-02-14T15:50:48.688Z"
   },
   {
    "duration": 82,
    "start_time": "2023-02-14T15:50:48.707Z"
   },
   {
    "duration": 245,
    "start_time": "2023-02-14T15:50:48.791Z"
   },
   {
    "duration": 19,
    "start_time": "2023-02-14T15:50:49.037Z"
   },
   {
    "duration": 104,
    "start_time": "2023-02-14T15:50:49.058Z"
   },
   {
    "duration": 65,
    "start_time": "2023-02-14T15:50:49.164Z"
   },
   {
    "duration": 22,
    "start_time": "2023-02-14T15:50:49.230Z"
   },
   {
    "duration": 837,
    "start_time": "2023-02-14T15:50:49.253Z"
   },
   {
    "duration": 182,
    "start_time": "2023-02-14T15:50:50.091Z"
   },
   {
    "duration": 88,
    "start_time": "2023-02-14T15:50:50.275Z"
   },
   {
    "duration": 183,
    "start_time": "2023-02-14T15:50:50.365Z"
   },
   {
    "duration": 5,
    "start_time": "2023-02-14T15:50:50.551Z"
   },
   {
    "duration": 93,
    "start_time": "2023-02-14T15:50:50.557Z"
   },
   {
    "duration": 24840,
    "start_time": "2023-02-14T15:50:50.651Z"
   },
   {
    "duration": 33344,
    "start_time": "2023-02-14T15:51:18.757Z"
   },
   {
    "duration": 117,
    "start_time": "2023-02-14T15:52:32.058Z"
   },
   {
    "duration": 1452,
    "start_time": "2023-02-14T15:52:42.813Z"
   },
   {
    "duration": 2884,
    "start_time": "2023-02-14T15:52:44.267Z"
   },
   {
    "duration": 7,
    "start_time": "2023-02-14T15:52:47.152Z"
   },
   {
    "duration": 420,
    "start_time": "2023-02-14T15:52:47.160Z"
   },
   {
    "duration": 529,
    "start_time": "2023-02-14T15:52:47.582Z"
   },
   {
    "duration": 142,
    "start_time": "2023-02-14T15:52:48.112Z"
   },
   {
    "duration": 173,
    "start_time": "2023-02-14T15:52:48.255Z"
   },
   {
    "duration": 35,
    "start_time": "2023-02-14T15:52:48.430Z"
   },
   {
    "duration": 81,
    "start_time": "2023-02-14T15:52:48.467Z"
   },
   {
    "duration": 317,
    "start_time": "2023-02-14T15:52:48.550Z"
   },
   {
    "duration": 17,
    "start_time": "2023-02-14T15:52:48.869Z"
   },
   {
    "duration": 9,
    "start_time": "2023-02-14T15:52:48.888Z"
   },
   {
    "duration": 58,
    "start_time": "2023-02-14T15:52:48.899Z"
   },
   {
    "duration": 273,
    "start_time": "2023-02-14T15:52:48.959Z"
   },
   {
    "duration": 24,
    "start_time": "2023-02-14T15:52:49.233Z"
   },
   {
    "duration": 223,
    "start_time": "2023-02-14T15:52:49.258Z"
   },
   {
    "duration": 38,
    "start_time": "2023-02-14T15:52:49.483Z"
   },
   {
    "duration": 53,
    "start_time": "2023-02-14T15:52:49.523Z"
   },
   {
    "duration": 21,
    "start_time": "2023-02-14T15:52:49.577Z"
   },
   {
    "duration": 201,
    "start_time": "2023-02-14T15:52:49.600Z"
   },
   {
    "duration": 167,
    "start_time": "2023-02-14T15:52:49.802Z"
   },
   {
    "duration": 295,
    "start_time": "2023-02-14T15:52:49.971Z"
   },
   {
    "duration": 16,
    "start_time": "2023-02-14T15:52:50.267Z"
   },
   {
    "duration": 38,
    "start_time": "2023-02-14T15:52:50.284Z"
   },
   {
    "duration": 253,
    "start_time": "2023-02-14T15:52:50.324Z"
   },
   {
    "duration": 16,
    "start_time": "2023-02-14T15:52:50.579Z"
   },
   {
    "duration": 75,
    "start_time": "2023-02-14T15:52:50.597Z"
   },
   {
    "duration": 54,
    "start_time": "2023-02-14T15:52:50.674Z"
   },
   {
    "duration": 33,
    "start_time": "2023-02-14T15:52:50.730Z"
   },
   {
    "duration": 821,
    "start_time": "2023-02-14T15:52:50.764Z"
   },
   {
    "duration": 184,
    "start_time": "2023-02-14T15:52:51.587Z"
   },
   {
    "duration": 86,
    "start_time": "2023-02-14T15:52:51.773Z"
   },
   {
    "duration": 87,
    "start_time": "2023-02-14T15:52:51.861Z"
   },
   {
    "duration": 97,
    "start_time": "2023-02-14T15:52:51.951Z"
   },
   {
    "duration": 19,
    "start_time": "2023-02-14T15:52:52.050Z"
   },
   {
    "duration": 331667,
    "start_time": "2023-02-14T15:52:52.070Z"
   },
   {
    "duration": 1778,
    "start_time": "2023-02-14T16:04:12.025Z"
   },
   {
    "duration": 1035,
    "start_time": "2023-02-14T16:04:15.491Z"
   },
   {
    "duration": 1010,
    "start_time": "2023-02-14T16:04:54.246Z"
   },
   {
    "duration": 1807,
    "start_time": "2023-02-14T16:04:59.424Z"
   },
   {
    "duration": 1042,
    "start_time": "2023-02-14T16:05:02.325Z"
   },
   {
    "duration": 10,
    "start_time": "2023-02-14T16:13:45.446Z"
   },
   {
    "duration": 63352,
    "start_time": "2023-02-14T16:14:47.265Z"
   },
   {
    "duration": 3399,
    "start_time": "2023-02-14T16:15:50.618Z"
   },
   {
    "duration": 187,
    "start_time": "2023-02-14T16:30:26.018Z"
   },
   {
    "duration": 3677,
    "start_time": "2023-02-14T16:30:26.555Z"
   },
   {
    "duration": 22,
    "start_time": "2023-02-14T16:30:36.317Z"
   },
   {
    "duration": 1456,
    "start_time": "2023-02-14T16:30:42.658Z"
   },
   {
    "duration": 3,
    "start_time": "2023-02-14T16:33:27.404Z"
   },
   {
    "duration": 701,
    "start_time": "2023-02-14T16:35:08.155Z"
   },
   {
    "duration": 31536,
    "start_time": "2023-02-14T16:35:39.106Z"
   },
   {
    "duration": 30729,
    "start_time": "2023-02-14T16:36:40.504Z"
   },
   {
    "duration": 78,
    "start_time": "2023-02-14T16:37:11.235Z"
   },
   {
    "duration": 5516,
    "start_time": "2023-02-14T16:37:38.619Z"
   },
   {
    "duration": 23,
    "start_time": "2023-02-14T16:37:52.038Z"
   },
   {
    "duration": 5276,
    "start_time": "2023-02-14T16:38:29.059Z"
   },
   {
    "duration": 9964,
    "start_time": "2023-02-14T16:39:02.175Z"
   },
   {
    "duration": 33,
    "start_time": "2023-02-14T16:39:19.826Z"
   },
   {
    "duration": 9843,
    "start_time": "2023-02-14T16:45:36.499Z"
   },
   {
    "duration": 32,
    "start_time": "2023-02-14T16:45:46.344Z"
   },
   {
    "duration": 9652,
    "start_time": "2023-02-14T16:49:39.672Z"
   },
   {
    "duration": 35,
    "start_time": "2023-02-14T16:49:49.326Z"
   },
   {
    "duration": 98,
    "start_time": "2023-02-14T16:51:43.767Z"
   },
   {
    "duration": 129936,
    "start_time": "2023-02-14T16:51:54.516Z"
   },
   {
    "duration": 611,
    "start_time": "2023-02-14T16:54:14.139Z"
   },
   {
    "duration": 1784,
    "start_time": "2023-02-15T10:07:10.049Z"
   },
   {
    "duration": 3220,
    "start_time": "2023-02-15T10:07:11.836Z"
   },
   {
    "duration": 8,
    "start_time": "2023-02-15T10:07:15.058Z"
   },
   {
    "duration": 539,
    "start_time": "2023-02-15T10:07:15.069Z"
   },
   {
    "duration": 677,
    "start_time": "2023-02-15T10:07:15.610Z"
   },
   {
    "duration": 194,
    "start_time": "2023-02-15T10:07:16.289Z"
   },
   {
    "duration": 224,
    "start_time": "2023-02-15T10:07:16.486Z"
   },
   {
    "duration": 43,
    "start_time": "2023-02-15T10:07:16.712Z"
   },
   {
    "duration": 82,
    "start_time": "2023-02-15T10:07:16.756Z"
   },
   {
    "duration": 368,
    "start_time": "2023-02-15T10:07:16.840Z"
   },
   {
    "duration": 34,
    "start_time": "2023-02-15T10:07:17.209Z"
   },
   {
    "duration": 15,
    "start_time": "2023-02-15T10:07:17.246Z"
   },
   {
    "duration": 46,
    "start_time": "2023-02-15T10:07:17.266Z"
   },
   {
    "duration": 457,
    "start_time": "2023-02-15T10:07:17.314Z"
   },
   {
    "duration": 21,
    "start_time": "2023-02-15T10:07:17.772Z"
   },
   {
    "duration": 225,
    "start_time": "2023-02-15T10:07:17.795Z"
   },
   {
    "duration": 55,
    "start_time": "2023-02-15T10:07:18.022Z"
   },
   {
    "duration": 43,
    "start_time": "2023-02-15T10:07:18.079Z"
   },
   {
    "duration": 31,
    "start_time": "2023-02-15T10:07:18.141Z"
   },
   {
    "duration": 250,
    "start_time": "2023-02-15T10:07:18.173Z"
   },
   {
    "duration": 218,
    "start_time": "2023-02-15T10:07:18.424Z"
   },
   {
    "duration": 380,
    "start_time": "2023-02-15T10:07:18.644Z"
   },
   {
    "duration": 33,
    "start_time": "2023-02-15T10:07:19.026Z"
   },
   {
    "duration": 76,
    "start_time": "2023-02-15T10:07:19.062Z"
   },
   {
    "duration": 353,
    "start_time": "2023-02-15T10:07:19.140Z"
   },
   {
    "duration": 19,
    "start_time": "2023-02-15T10:07:19.494Z"
   },
   {
    "duration": 113,
    "start_time": "2023-02-15T10:07:19.515Z"
   },
   {
    "duration": 74,
    "start_time": "2023-02-15T10:07:19.637Z"
   },
   {
    "duration": 30,
    "start_time": "2023-02-15T10:07:19.713Z"
   },
   {
    "duration": 1018,
    "start_time": "2023-02-15T10:07:19.746Z"
   },
   {
    "duration": 236,
    "start_time": "2023-02-15T10:07:20.765Z"
   },
   {
    "duration": 82,
    "start_time": "2023-02-15T10:07:21.003Z"
   },
   {
    "duration": 100,
    "start_time": "2023-02-15T10:07:21.138Z"
   },
   {
    "duration": 308604,
    "start_time": "2023-02-15T10:07:21.241Z"
   },
   {
    "duration": 707,
    "start_time": "2023-02-15T10:12:29.848Z"
   },
   {
    "duration": 370241,
    "start_time": "2023-02-15T10:12:30.557Z"
   },
   {
    "duration": 2269,
    "start_time": "2023-02-15T10:18:40.800Z"
   },
   {
    "duration": 1181,
    "start_time": "2023-02-15T10:18:43.072Z"
   },
   {
    "duration": 77208,
    "start_time": "2023-02-15T10:18:44.255Z"
   },
   {
    "duration": 4100,
    "start_time": "2023-02-15T10:20:01.465Z"
   },
   {
    "duration": 11124,
    "start_time": "2023-02-15T10:20:05.567Z"
   },
   {
    "duration": 41,
    "start_time": "2023-02-15T10:20:16.694Z"
   },
   {
    "duration": 43127,
    "start_time": "2023-02-15T10:21:09.824Z"
   },
   {
    "duration": 187,
    "start_time": "2023-02-15T10:21:52.954Z"
   },
   {
    "duration": 42362,
    "start_time": "2023-02-15T10:24:36.085Z"
   },
   {
    "duration": 108,
    "start_time": "2023-02-15T10:25:18.449Z"
   },
   {
    "duration": 71917,
    "start_time": "2023-02-15T10:25:39.322Z"
   },
   {
    "duration": 317,
    "start_time": "2023-02-15T10:26:51.241Z"
   },
   {
    "duration": 4278,
    "start_time": "2023-02-15T10:31:18.875Z"
   },
   {
    "duration": 594,
    "start_time": "2023-02-15T10:31:23.155Z"
   },
   {
    "duration": 8269,
    "start_time": "2023-02-15T10:32:03.772Z"
   },
   {
    "duration": 520,
    "start_time": "2023-02-15T10:32:12.044Z"
   },
   {
    "duration": 3312,
    "start_time": "2023-02-15T10:32:22.830Z"
   },
   {
    "duration": 5608,
    "start_time": "2023-02-15T10:33:00.945Z"
   },
   {
    "duration": 699,
    "start_time": "2023-02-15T10:33:06.555Z"
   },
   {
    "duration": 5778,
    "start_time": "2023-02-15T10:33:25.368Z"
   },
   {
    "duration": 712,
    "start_time": "2023-02-15T10:33:31.148Z"
   },
   {
    "duration": 10495,
    "start_time": "2023-02-15T10:33:52.248Z"
   },
   {
    "duration": 701,
    "start_time": "2023-02-15T10:34:02.745Z"
   },
   {
    "duration": 6125,
    "start_time": "2023-02-15T10:34:51.219Z"
   },
   {
    "duration": 702,
    "start_time": "2023-02-15T10:34:57.346Z"
   },
   {
    "duration": 69,
    "start_time": "2023-02-15T10:36:03.208Z"
   },
   {
    "duration": 5476,
    "start_time": "2023-02-15T10:36:12.869Z"
   },
   {
    "duration": 692,
    "start_time": "2023-02-15T10:36:18.347Z"
   },
   {
    "duration": 10739,
    "start_time": "2023-02-15T10:36:35.747Z"
   },
   {
    "duration": 38,
    "start_time": "2023-02-15T10:36:46.488Z"
   },
   {
    "duration": 71,
    "start_time": "2023-02-15T10:37:18.428Z"
   },
   {
    "duration": 52,
    "start_time": "2023-02-15T10:37:24.029Z"
   },
   {
    "duration": 9,
    "start_time": "2023-02-15T10:37:25.263Z"
   },
   {
    "duration": 63734,
    "start_time": "2023-02-15T10:37:31.714Z"
   },
   {
    "duration": 802,
    "start_time": "2023-02-15T10:38:35.451Z"
   },
   {
    "duration": 11700,
    "start_time": "2023-02-15T10:38:36.255Z"
   },
   {
    "duration": 37,
    "start_time": "2023-02-15T10:38:47.957Z"
   },
   {
    "duration": 33,
    "start_time": "2023-02-15T10:40:25.143Z"
   },
   {
    "duration": 9875,
    "start_time": "2023-02-15T10:40:36.765Z"
   },
   {
    "duration": 696,
    "start_time": "2023-02-15T10:40:46.642Z"
   },
   {
    "duration": 2,
    "start_time": "2023-02-15T10:45:40.044Z"
   },
   {
    "duration": 130,
    "start_time": "2023-02-15T10:45:46.734Z"
   },
   {
    "duration": 1603,
    "start_time": "2023-02-15T11:09:26.228Z"
   },
   {
    "duration": 1061,
    "start_time": "2023-02-15T11:09:27.833Z"
   },
   {
    "duration": 7,
    "start_time": "2023-02-15T11:09:28.896Z"
   },
   {
    "duration": 492,
    "start_time": "2023-02-15T11:09:28.904Z"
   },
   {
    "duration": 657,
    "start_time": "2023-02-15T11:09:29.399Z"
   },
   {
    "duration": 184,
    "start_time": "2023-02-15T11:09:30.057Z"
   },
   {
    "duration": 230,
    "start_time": "2023-02-15T11:09:30.243Z"
   },
   {
    "duration": 36,
    "start_time": "2023-02-15T11:09:30.475Z"
   },
   {
    "duration": 123,
    "start_time": "2023-02-15T11:09:30.513Z"
   },
   {
    "duration": 364,
    "start_time": "2023-02-15T11:09:30.638Z"
   },
   {
    "duration": 21,
    "start_time": "2023-02-15T11:09:31.004Z"
   },
   {
    "duration": 14,
    "start_time": "2023-02-15T11:09:31.038Z"
   },
   {
    "duration": 57,
    "start_time": "2023-02-15T11:09:31.054Z"
   },
   {
    "duration": 425,
    "start_time": "2023-02-15T11:09:31.115Z"
   },
   {
    "duration": 21,
    "start_time": "2023-02-15T11:09:31.542Z"
   },
   {
    "duration": 237,
    "start_time": "2023-02-15T11:09:31.565Z"
   },
   {
    "duration": 47,
    "start_time": "2023-02-15T11:09:31.803Z"
   },
   {
    "duration": 45,
    "start_time": "2023-02-15T11:09:31.851Z"
   },
   {
    "duration": 17,
    "start_time": "2023-02-15T11:09:31.898Z"
   },
   {
    "duration": 244,
    "start_time": "2023-02-15T11:09:31.917Z"
   },
   {
    "duration": 216,
    "start_time": "2023-02-15T11:09:32.163Z"
   },
   {
    "duration": 380,
    "start_time": "2023-02-15T11:09:32.382Z"
   },
   {
    "duration": 22,
    "start_time": "2023-02-15T11:09:32.765Z"
   },
   {
    "duration": 67,
    "start_time": "2023-02-15T11:09:32.789Z"
   },
   {
    "duration": 267,
    "start_time": "2023-02-15T11:09:32.858Z"
   },
   {
    "duration": 27,
    "start_time": "2023-02-15T11:09:33.126Z"
   },
   {
    "duration": 99,
    "start_time": "2023-02-15T11:09:33.154Z"
   },
   {
    "duration": 75,
    "start_time": "2023-02-15T11:09:33.255Z"
   },
   {
    "duration": 20,
    "start_time": "2023-02-15T11:09:33.332Z"
   },
   {
    "duration": 879,
    "start_time": "2023-02-15T11:09:33.354Z"
   },
   {
    "duration": 213,
    "start_time": "2023-02-15T11:09:34.235Z"
   },
   {
    "duration": 92,
    "start_time": "2023-02-15T11:09:34.450Z"
   },
   {
    "duration": 12,
    "start_time": "2023-02-15T11:09:34.544Z"
   },
   {
    "duration": 370881,
    "start_time": "2023-02-15T11:09:34.638Z"
   },
   {
    "duration": 2048,
    "start_time": "2023-02-15T11:15:45.520Z"
   },
   {
    "duration": 1109,
    "start_time": "2023-02-15T11:15:47.569Z"
   },
   {
    "duration": 2108,
    "start_time": "2023-02-15T11:15:48.681Z"
   },
   {
    "duration": 48,
    "start_time": "2023-02-15T11:15:50.792Z"
   },
   {
    "duration": 5603,
    "start_time": "2023-02-15T11:15:50.841Z"
   },
   {
    "duration": 702,
    "start_time": "2023-02-15T11:15:56.446Z"
   },
   {
    "duration": 11002,
    "start_time": "2023-02-15T11:15:57.151Z"
   },
   {
    "duration": 44,
    "start_time": "2023-02-15T11:16:08.155Z"
   },
   {
    "duration": 1994,
    "start_time": "2023-02-15T11:17:43.545Z"
   },
   {
    "duration": 36,
    "start_time": "2023-02-15T11:17:45.541Z"
   },
   {
    "duration": 2065,
    "start_time": "2023-02-15T11:17:51.065Z"
   },
   {
    "duration": 41,
    "start_time": "2023-02-15T11:17:53.132Z"
   },
   {
    "duration": 15579,
    "start_time": "2023-02-15T11:18:06.443Z"
   },
   {
    "duration": 517,
    "start_time": "2023-02-15T11:18:22.024Z"
   },
   {
    "duration": 26005,
    "start_time": "2023-02-15T11:18:46.964Z"
   },
   {
    "duration": 793,
    "start_time": "2023-02-15T11:19:12.971Z"
   },
   {
    "duration": 73170,
    "start_time": "2023-02-15T11:19:26.159Z"
   },
   {
    "duration": 3900,
    "start_time": "2023-02-15T11:20:39.337Z"
   },
   {
    "duration": 1662,
    "start_time": "2023-02-15T11:23:41.440Z"
   },
   {
    "duration": 1109,
    "start_time": "2023-02-15T11:23:43.104Z"
   },
   {
    "duration": 7,
    "start_time": "2023-02-15T11:23:44.215Z"
   },
   {
    "duration": 525,
    "start_time": "2023-02-15T11:23:44.224Z"
   },
   {
    "duration": 635,
    "start_time": "2023-02-15T11:23:44.751Z"
   },
   {
    "duration": 173,
    "start_time": "2023-02-15T11:23:45.388Z"
   },
   {
    "duration": 201,
    "start_time": "2023-02-15T11:23:45.563Z"
   },
   {
    "duration": 36,
    "start_time": "2023-02-15T11:23:45.765Z"
   },
   {
    "duration": 94,
    "start_time": "2023-02-15T11:23:45.802Z"
   },
   {
    "duration": 363,
    "start_time": "2023-02-15T11:23:45.899Z"
   },
   {
    "duration": 20,
    "start_time": "2023-02-15T11:23:46.264Z"
   },
   {
    "duration": 21,
    "start_time": "2023-02-15T11:23:46.285Z"
   },
   {
    "duration": 57,
    "start_time": "2023-02-15T11:23:46.307Z"
   },
   {
    "duration": 413,
    "start_time": "2023-02-15T11:23:46.367Z"
   },
   {
    "duration": 23,
    "start_time": "2023-02-15T11:23:46.781Z"
   },
   {
    "duration": 212,
    "start_time": "2023-02-15T11:23:46.806Z"
   },
   {
    "duration": 55,
    "start_time": "2023-02-15T11:23:47.020Z"
   },
   {
    "duration": 48,
    "start_time": "2023-02-15T11:23:47.077Z"
   },
   {
    "duration": 33,
    "start_time": "2023-02-15T11:23:47.127Z"
   },
   {
    "duration": 251,
    "start_time": "2023-02-15T11:23:47.162Z"
   },
   {
    "duration": 215,
    "start_time": "2023-02-15T11:23:47.415Z"
   },
   {
    "duration": 335,
    "start_time": "2023-02-15T11:23:47.632Z"
   },
   {
    "duration": 18,
    "start_time": "2023-02-15T11:23:47.969Z"
   },
   {
    "duration": 62,
    "start_time": "2023-02-15T11:23:47.989Z"
   },
   {
    "duration": 310,
    "start_time": "2023-02-15T11:23:48.053Z"
   },
   {
    "duration": 20,
    "start_time": "2023-02-15T11:23:48.365Z"
   },
   {
    "duration": 94,
    "start_time": "2023-02-15T11:23:48.386Z"
   },
   {
    "duration": 67,
    "start_time": "2023-02-15T11:23:48.482Z"
   },
   {
    "duration": 19,
    "start_time": "2023-02-15T11:23:48.551Z"
   },
   {
    "duration": 958,
    "start_time": "2023-02-15T11:23:48.572Z"
   },
   {
    "duration": 214,
    "start_time": "2023-02-15T11:23:49.532Z"
   },
   {
    "duration": 101,
    "start_time": "2023-02-15T11:23:49.748Z"
   },
   {
    "duration": 89,
    "start_time": "2023-02-15T11:23:49.851Z"
   },
   {
    "duration": 377188,
    "start_time": "2023-02-15T11:23:49.942Z"
   },
   {
    "duration": 2288,
    "start_time": "2023-02-15T11:30:07.132Z"
   },
   {
    "duration": 1273,
    "start_time": "2023-02-15T11:30:09.422Z"
   },
   {
    "duration": 79442,
    "start_time": "2023-02-15T11:30:10.697Z"
   },
   {
    "duration": 4045,
    "start_time": "2023-02-15T11:31:30.141Z"
   },
   {
    "duration": 331160,
    "start_time": "2023-02-15T11:31:34.187Z"
   },
   {
    "duration": 794,
    "start_time": "2023-02-15T11:37:05.351Z"
   },
   {
    "duration": 12246,
    "start_time": "2023-02-15T11:37:06.151Z"
   },
   {
    "duration": 36,
    "start_time": "2023-02-15T11:37:18.399Z"
   },
   {
    "duration": 11748,
    "start_time": "2023-02-15T11:49:02.417Z"
   },
   {
    "duration": 40,
    "start_time": "2023-02-15T11:49:14.167Z"
   },
   {
    "duration": 47,
    "start_time": "2023-02-16T10:32:31.677Z"
   },
   {
    "duration": 10,
    "start_time": "2023-02-16T10:32:52.172Z"
   },
   {
    "duration": 7,
    "start_time": "2023-02-16T10:33:00.462Z"
   },
   {
    "duration": 1738,
    "start_time": "2023-02-16T10:33:12.733Z"
   },
   {
    "duration": 1451,
    "start_time": "2023-02-16T10:33:18.233Z"
   },
   {
    "duration": 7,
    "start_time": "2023-02-16T10:33:22.942Z"
   },
   {
    "duration": 701,
    "start_time": "2023-02-16T10:33:25.742Z"
   },
   {
    "duration": 652,
    "start_time": "2023-02-16T10:33:58.580Z"
   },
   {
    "duration": 50,
    "start_time": "2023-02-16T12:16:03.253Z"
   },
   {
    "duration": 6,
    "start_time": "2023-02-16T12:21:10.590Z"
   },
   {
    "duration": 1542,
    "start_time": "2023-02-16T12:21:18.999Z"
   },
   {
    "duration": 3081,
    "start_time": "2023-02-16T12:21:20.978Z"
   },
   {
    "duration": 10,
    "start_time": "2023-02-16T12:21:24.061Z"
   },
   {
    "duration": 599,
    "start_time": "2023-02-16T12:21:25.557Z"
   },
   {
    "duration": 466,
    "start_time": "2023-02-16T12:21:28.470Z"
   },
   {
    "duration": 524,
    "start_time": "2023-02-16T12:21:30.029Z"
   },
   {
    "duration": 131,
    "start_time": "2023-02-16T12:21:31.187Z"
   },
   {
    "duration": 206,
    "start_time": "2023-02-16T12:21:33.150Z"
   },
   {
    "duration": 42,
    "start_time": "2023-02-16T12:21:34.920Z"
   },
   {
    "duration": 72,
    "start_time": "2023-02-16T12:21:38.779Z"
   },
   {
    "duration": 21,
    "start_time": "2023-02-16T12:21:40.480Z"
   },
   {
    "duration": 372,
    "start_time": "2023-02-16T12:21:41.721Z"
   },
   {
    "duration": 19,
    "start_time": "2023-02-16T12:21:43.254Z"
   },
   {
    "duration": 8,
    "start_time": "2023-02-16T12:21:44.237Z"
   },
   {
    "duration": 40,
    "start_time": "2023-02-16T12:21:45.395Z"
   },
   {
    "duration": 41,
    "start_time": "2023-02-16T12:22:19.259Z"
   },
   {
    "duration": 43,
    "start_time": "2023-02-16T12:22:41.020Z"
   },
   {
    "duration": 316,
    "start_time": "2023-02-16T12:22:45.114Z"
   },
   {
    "duration": 20,
    "start_time": "2023-02-16T12:22:46.281Z"
   },
   {
    "duration": 180,
    "start_time": "2023-02-16T12:22:47.252Z"
   },
   {
    "duration": 35,
    "start_time": "2023-02-16T12:23:18.400Z"
   },
   {
    "duration": 43,
    "start_time": "2023-02-16T12:23:20.101Z"
   },
   {
    "duration": 16,
    "start_time": "2023-02-16T12:23:21.421Z"
   },
   {
    "duration": 178,
    "start_time": "2023-02-16T12:23:22.362Z"
   },
   {
    "duration": 196,
    "start_time": "2023-02-16T12:23:24.174Z"
   },
   {
    "duration": 278,
    "start_time": "2023-02-16T12:23:25.872Z"
   },
   {
    "duration": 16,
    "start_time": "2023-02-16T12:23:26.265Z"
   },
   {
    "duration": 42,
    "start_time": "2023-02-16T12:23:27.181Z"
   },
   {
    "duration": 238,
    "start_time": "2023-02-16T12:23:28.740Z"
   },
   {
    "duration": 17,
    "start_time": "2023-02-16T12:23:29.965Z"
   },
   {
    "duration": 74,
    "start_time": "2023-02-16T12:23:32.723Z"
   },
   {
    "duration": 28,
    "start_time": "2023-02-16T12:38:36.704Z"
   },
   {
    "duration": 92,
    "start_time": "2023-02-16T12:38:44.048Z"
   },
   {
    "duration": 4,
    "start_time": "2023-02-16T12:38:53.022Z"
   },
   {
    "duration": 962,
    "start_time": "2023-02-16T12:38:53.564Z"
   },
   {
    "duration": 6,
    "start_time": "2023-02-16T12:38:54.528Z"
   },
   {
    "duration": 713,
    "start_time": "2023-02-16T12:38:54.585Z"
   },
   {
    "duration": 453,
    "start_time": "2023-02-16T12:38:55.456Z"
   },
   {
    "duration": 498,
    "start_time": "2023-02-16T12:38:55.985Z"
   },
   {
    "duration": 161,
    "start_time": "2023-02-16T12:38:56.485Z"
   },
   {
    "duration": 180,
    "start_time": "2023-02-16T12:38:57.621Z"
   },
   {
    "duration": 35,
    "start_time": "2023-02-16T12:38:58.355Z"
   },
   {
    "duration": 78,
    "start_time": "2023-02-16T12:38:59.005Z"
   },
   {
    "duration": 26,
    "start_time": "2023-02-16T12:38:59.455Z"
   },
   {
    "duration": 351,
    "start_time": "2023-02-16T12:38:59.885Z"
   },
   {
    "duration": 19,
    "start_time": "2023-02-16T12:39:00.320Z"
   },
   {
    "duration": 8,
    "start_time": "2023-02-16T12:39:00.695Z"
   },
   {
    "duration": 41,
    "start_time": "2023-02-16T12:39:01.305Z"
   },
   {
    "duration": 340,
    "start_time": "2023-02-16T12:39:03.064Z"
   },
   {
    "duration": 22,
    "start_time": "2023-02-16T12:39:03.884Z"
   },
   {
    "duration": 220,
    "start_time": "2023-02-16T12:39:04.754Z"
   },
   {
    "duration": 40,
    "start_time": "2023-02-16T12:39:06.352Z"
   },
   {
    "duration": 54,
    "start_time": "2023-02-16T12:39:08.955Z"
   },
   {
    "duration": 16,
    "start_time": "2023-02-16T12:39:10.484Z"
   },
   {
    "duration": 312,
    "start_time": "2023-02-16T12:39:11.498Z"
   },
   {
    "duration": 178,
    "start_time": "2023-02-16T12:39:13.056Z"
   },
   {
    "duration": 313,
    "start_time": "2023-02-16T12:39:14.604Z"
   },
   {
    "duration": 17,
    "start_time": "2023-02-16T12:39:15.717Z"
   },
   {
    "duration": 42,
    "start_time": "2023-02-16T12:39:16.694Z"
   },
   {
    "duration": 272,
    "start_time": "2023-02-16T12:39:18.345Z"
   },
   {
    "duration": 18,
    "start_time": "2023-02-16T12:39:20.518Z"
   },
   {
    "duration": 76,
    "start_time": "2023-02-16T12:39:22.182Z"
   },
   {
    "duration": 19,
    "start_time": "2023-02-16T12:40:15.428Z"
   },
   {
    "duration": 4,
    "start_time": "2023-02-16T12:45:35.277Z"
   },
   {
    "duration": 974,
    "start_time": "2023-02-16T12:45:36.765Z"
   },
   {
    "duration": 6,
    "start_time": "2023-02-16T12:45:37.740Z"
   },
   {
    "duration": 609,
    "start_time": "2023-02-16T12:45:38.185Z"
   },
   {
    "duration": 415,
    "start_time": "2023-02-16T12:45:38.796Z"
   },
   {
    "duration": 480,
    "start_time": "2023-02-16T12:45:39.213Z"
   },
   {
    "duration": 147,
    "start_time": "2023-02-16T12:45:39.695Z"
   },
   {
    "duration": 164,
    "start_time": "2023-02-16T12:45:39.966Z"
   },
   {
    "duration": 30,
    "start_time": "2023-02-16T12:45:40.323Z"
   },
   {
    "duration": 70,
    "start_time": "2023-02-16T12:45:40.885Z"
   },
   {
    "duration": 22,
    "start_time": "2023-02-16T12:45:41.226Z"
   },
   {
    "duration": 334,
    "start_time": "2023-02-16T12:45:41.814Z"
   },
   {
    "duration": 18,
    "start_time": "2023-02-16T12:45:42.196Z"
   },
   {
    "duration": 7,
    "start_time": "2023-02-16T12:45:42.597Z"
   },
   {
    "duration": 42,
    "start_time": "2023-02-16T12:45:43.244Z"
   },
   {
    "duration": 294,
    "start_time": "2023-02-16T12:45:45.763Z"
   },
   {
    "duration": 21,
    "start_time": "2023-02-16T12:45:46.835Z"
   },
   {
    "duration": 170,
    "start_time": "2023-02-16T12:45:47.595Z"
   },
   {
    "duration": 41,
    "start_time": "2023-02-16T12:45:49.283Z"
   },
   {
    "duration": 48,
    "start_time": "2023-02-16T12:45:56.463Z"
   },
   {
    "duration": 17,
    "start_time": "2023-02-16T12:45:57.646Z"
   },
   {
    "duration": 218,
    "start_time": "2023-02-16T12:45:58.678Z"
   },
   {
    "duration": 175,
    "start_time": "2023-02-16T12:45:59.962Z"
   },
   {
    "duration": 332,
    "start_time": "2023-02-16T12:46:00.503Z"
   },
   {
    "duration": 16,
    "start_time": "2023-02-16T12:46:01.243Z"
   },
   {
    "duration": 49,
    "start_time": "2023-02-16T12:46:02.156Z"
   },
   {
    "duration": 438,
    "start_time": "2023-02-16T12:46:04.534Z"
   },
   {
    "duration": 19,
    "start_time": "2023-02-16T12:46:06.238Z"
   },
   {
    "duration": 89,
    "start_time": "2023-02-16T12:46:07.465Z"
   },
   {
    "duration": 37,
    "start_time": "2023-02-16T12:46:51.307Z"
   },
   {
    "duration": 285,
    "start_time": "2023-02-16T12:46:52.456Z"
   },
   {
    "duration": 17,
    "start_time": "2023-02-16T12:46:52.807Z"
   },
   {
    "duration": 175,
    "start_time": "2023-02-16T12:46:53.180Z"
   },
   {
    "duration": 37,
    "start_time": "2023-02-16T12:46:53.481Z"
   },
   {
    "duration": 47,
    "start_time": "2023-02-16T12:46:54.637Z"
   },
   {
    "duration": 16,
    "start_time": "2023-02-16T12:46:55.846Z"
   },
   {
    "duration": 187,
    "start_time": "2023-02-16T12:46:56.794Z"
   },
   {
    "duration": 168,
    "start_time": "2023-02-16T12:46:58.038Z"
   },
   {
    "duration": 279,
    "start_time": "2023-02-16T12:46:59.117Z"
   },
   {
    "duration": 17,
    "start_time": "2023-02-16T12:46:59.947Z"
   },
   {
    "duration": 40,
    "start_time": "2023-02-16T12:47:00.317Z"
   },
   {
    "duration": 245,
    "start_time": "2023-02-16T12:47:01.379Z"
   },
   {
    "duration": 17,
    "start_time": "2023-02-16T12:47:01.698Z"
   },
   {
    "duration": 78,
    "start_time": "2023-02-16T12:47:03.127Z"
   },
   {
    "duration": 52,
    "start_time": "2023-02-16T12:50:20.481Z"
   },
   {
    "duration": 42,
    "start_time": "2023-02-16T12:50:59.217Z"
   },
   {
    "duration": 24,
    "start_time": "2023-02-16T12:51:56.758Z"
   },
   {
    "duration": 753,
    "start_time": "2023-02-16T12:53:10.735Z"
   },
   {
    "duration": 53,
    "start_time": "2023-02-16T12:53:21.815Z"
   },
   {
    "duration": 51,
    "start_time": "2023-02-16T12:53:22.996Z"
   },
   {
    "duration": 17,
    "start_time": "2023-02-16T12:53:24.495Z"
   },
   {
    "duration": 735,
    "start_time": "2023-02-16T12:53:26.575Z"
   },
   {
    "duration": 204,
    "start_time": "2023-02-16T12:54:40.936Z"
   },
   {
    "duration": 45,
    "start_time": "2023-02-16T12:54:59.007Z"
   },
   {
    "duration": 13,
    "start_time": "2023-02-16T12:55:00.806Z"
   },
   {
    "duration": 11,
    "start_time": "2023-02-16T12:57:54.719Z"
   },
   {
    "duration": 8334,
    "start_time": "2023-02-16T12:59:13.481Z"
   },
   {
    "duration": 30,
    "start_time": "2023-02-16T12:59:23.691Z"
   },
   {
    "duration": 1561,
    "start_time": "2023-02-16T14:47:58.460Z"
   },
   {
    "duration": 104,
    "start_time": "2023-02-16T14:52:02.119Z"
   },
   {
    "duration": 9,
    "start_time": "2023-02-16T14:52:14.380Z"
   },
   {
    "duration": 11,
    "start_time": "2023-02-16T14:52:36.351Z"
   },
   {
    "duration": 9,
    "start_time": "2023-02-16T14:52:55.200Z"
   },
   {
    "duration": 0,
    "start_time": "2023-02-16T14:52:55.210Z"
   },
   {
    "duration": 0,
    "start_time": "2023-02-16T14:52:55.211Z"
   },
   {
    "duration": 61,
    "start_time": "2023-02-16T14:52:55.241Z"
   },
   {
    "duration": 53,
    "start_time": "2023-02-16T14:52:55.303Z"
   },
   {
    "duration": 61,
    "start_time": "2023-02-16T14:52:55.357Z"
   },
   {
    "duration": 52,
    "start_time": "2023-02-16T14:52:55.420Z"
   },
   {
    "duration": 54,
    "start_time": "2023-02-16T14:52:55.474Z"
   },
   {
    "duration": 53,
    "start_time": "2023-02-16T14:52:55.530Z"
   },
   {
    "duration": 53,
    "start_time": "2023-02-16T14:52:55.584Z"
   },
   {
    "duration": 64,
    "start_time": "2023-02-16T14:52:55.639Z"
   },
   {
    "duration": 46,
    "start_time": "2023-02-16T14:52:55.704Z"
   },
   {
    "duration": 1356,
    "start_time": "2023-02-16T14:53:12.691Z"
   },
   {
    "duration": 1199,
    "start_time": "2023-02-16T14:53:14.049Z"
   },
   {
    "duration": 6,
    "start_time": "2023-02-16T14:53:15.250Z"
   },
   {
    "duration": 669,
    "start_time": "2023-02-16T14:53:15.258Z"
   },
   {
    "duration": 467,
    "start_time": "2023-02-16T14:53:15.929Z"
   },
   {
    "duration": 523,
    "start_time": "2023-02-16T14:53:16.398Z"
   },
   {
    "duration": 131,
    "start_time": "2023-02-16T14:53:16.924Z"
   },
   {
    "duration": 203,
    "start_time": "2023-02-16T14:53:17.057Z"
   },
   {
    "duration": 34,
    "start_time": "2023-02-16T14:53:17.263Z"
   },
   {
    "duration": 94,
    "start_time": "2023-02-16T14:53:17.299Z"
   },
   {
    "duration": 22,
    "start_time": "2023-02-16T14:53:17.395Z"
   },
   {
    "duration": 323,
    "start_time": "2023-02-16T14:53:17.419Z"
   },
   {
    "duration": 23,
    "start_time": "2023-02-16T14:53:17.744Z"
   },
   {
    "duration": 10,
    "start_time": "2023-02-16T14:53:17.772Z"
   },
   {
    "duration": 60,
    "start_time": "2023-02-16T14:53:17.784Z"
   },
   {
    "duration": 344,
    "start_time": "2023-02-16T14:53:17.846Z"
   },
   {
    "duration": 16,
    "start_time": "2023-02-16T14:53:18.192Z"
   },
   {
    "duration": 208,
    "start_time": "2023-02-16T14:53:18.210Z"
   },
   {
    "duration": 44,
    "start_time": "2023-02-16T14:53:18.419Z"
   },
   {
    "duration": 36,
    "start_time": "2023-02-16T14:53:18.465Z"
   },
   {
    "duration": 15,
    "start_time": "2023-02-16T14:53:18.503Z"
   },
   {
    "duration": 204,
    "start_time": "2023-02-16T14:53:18.537Z"
   },
   {
    "duration": 179,
    "start_time": "2023-02-16T14:53:18.742Z"
   },
   {
    "duration": 270,
    "start_time": "2023-02-16T14:53:18.923Z"
   },
   {
    "duration": 15,
    "start_time": "2023-02-16T14:53:19.195Z"
   },
   {
    "duration": 49,
    "start_time": "2023-02-16T14:53:19.212Z"
   },
   {
    "duration": 241,
    "start_time": "2023-02-16T14:53:19.263Z"
   },
   {
    "duration": 16,
    "start_time": "2023-02-16T14:53:19.506Z"
   },
   {
    "duration": 59,
    "start_time": "2023-02-16T14:53:19.536Z"
   },
   {
    "duration": 69,
    "start_time": "2023-02-16T14:53:19.597Z"
   },
   {
    "duration": 47,
    "start_time": "2023-02-16T14:53:19.668Z"
   },
   {
    "duration": 36,
    "start_time": "2023-02-16T14:53:19.717Z"
   },
   {
    "duration": 786,
    "start_time": "2023-02-16T14:53:19.755Z"
   },
   {
    "duration": 165,
    "start_time": "2023-02-16T14:53:20.542Z"
   },
   {
    "duration": 122,
    "start_time": "2023-02-16T14:53:20.709Z"
   },
   {
    "duration": 0,
    "start_time": "2023-02-16T14:53:20.836Z"
   },
   {
    "duration": 0,
    "start_time": "2023-02-16T14:53:20.837Z"
   },
   {
    "duration": 0,
    "start_time": "2023-02-16T14:53:20.838Z"
   },
   {
    "duration": 0,
    "start_time": "2023-02-16T14:53:20.839Z"
   },
   {
    "duration": 0,
    "start_time": "2023-02-16T14:53:20.840Z"
   },
   {
    "duration": 0,
    "start_time": "2023-02-16T14:53:20.841Z"
   },
   {
    "duration": 0,
    "start_time": "2023-02-16T14:53:20.843Z"
   },
   {
    "duration": 0,
    "start_time": "2023-02-16T14:53:20.844Z"
   },
   {
    "duration": 0,
    "start_time": "2023-02-16T14:53:20.845Z"
   },
   {
    "duration": 0,
    "start_time": "2023-02-16T14:53:20.846Z"
   },
   {
    "duration": 0,
    "start_time": "2023-02-16T14:53:20.846Z"
   },
   {
    "duration": 30,
    "start_time": "2023-02-16T14:53:52.331Z"
   },
   {
    "duration": 137,
    "start_time": "2023-02-16T14:54:06.122Z"
   },
   {
    "duration": 134,
    "start_time": "2023-02-16T15:00:00.720Z"
   },
   {
    "duration": 1437,
    "start_time": "2023-02-16T15:00:50.394Z"
   },
   {
    "duration": 968,
    "start_time": "2023-02-16T15:00:51.833Z"
   },
   {
    "duration": 8,
    "start_time": "2023-02-16T15:00:52.803Z"
   },
   {
    "duration": 748,
    "start_time": "2023-02-16T15:00:52.813Z"
   },
   {
    "duration": 460,
    "start_time": "2023-02-16T15:00:53.563Z"
   },
   {
    "duration": 508,
    "start_time": "2023-02-16T15:00:54.025Z"
   },
   {
    "duration": 125,
    "start_time": "2023-02-16T15:00:54.537Z"
   },
   {
    "duration": 180,
    "start_time": "2023-02-16T15:00:54.664Z"
   },
   {
    "duration": 30,
    "start_time": "2023-02-16T15:00:54.845Z"
   },
   {
    "duration": 87,
    "start_time": "2023-02-16T15:00:54.877Z"
   },
   {
    "duration": 22,
    "start_time": "2023-02-16T15:00:54.965Z"
   },
   {
    "duration": 299,
    "start_time": "2023-02-16T15:00:54.989Z"
   },
   {
    "duration": 16,
    "start_time": "2023-02-16T15:00:55.289Z"
   },
   {
    "duration": 8,
    "start_time": "2023-02-16T15:00:55.307Z"
   },
   {
    "duration": 60,
    "start_time": "2023-02-16T15:00:55.316Z"
   },
   {
    "duration": 358,
    "start_time": "2023-02-16T15:00:55.379Z"
   },
   {
    "duration": 17,
    "start_time": "2023-02-16T15:00:55.739Z"
   },
   {
    "duration": 182,
    "start_time": "2023-02-16T15:00:55.758Z"
   },
   {
    "duration": 41,
    "start_time": "2023-02-16T15:00:55.941Z"
   },
   {
    "duration": 53,
    "start_time": "2023-02-16T15:00:55.984Z"
   },
   {
    "duration": 14,
    "start_time": "2023-02-16T15:00:56.039Z"
   },
   {
    "duration": 201,
    "start_time": "2023-02-16T15:00:56.055Z"
   },
   {
    "duration": 192,
    "start_time": "2023-02-16T15:00:56.258Z"
   },
   {
    "duration": 254,
    "start_time": "2023-02-16T15:00:56.451Z"
   },
   {
    "duration": 13,
    "start_time": "2023-02-16T15:00:56.707Z"
   },
   {
    "duration": 37,
    "start_time": "2023-02-16T15:00:56.722Z"
   },
   {
    "duration": 223,
    "start_time": "2023-02-16T15:00:56.761Z"
   },
   {
    "duration": 14,
    "start_time": "2023-02-16T15:00:56.986Z"
   },
   {
    "duration": 67,
    "start_time": "2023-02-16T15:00:57.001Z"
   },
   {
    "duration": 53,
    "start_time": "2023-02-16T15:00:57.069Z"
   },
   {
    "duration": 56,
    "start_time": "2023-02-16T15:00:57.124Z"
   },
   {
    "duration": 23,
    "start_time": "2023-02-16T15:00:57.181Z"
   },
   {
    "duration": 356,
    "start_time": "2023-02-16T15:00:57.206Z"
   },
   {
    "duration": 0,
    "start_time": "2023-02-16T15:00:57.564Z"
   },
   {
    "duration": 0,
    "start_time": "2023-02-16T15:00:57.565Z"
   },
   {
    "duration": 0,
    "start_time": "2023-02-16T15:00:57.566Z"
   },
   {
    "duration": 0,
    "start_time": "2023-02-16T15:00:57.568Z"
   },
   {
    "duration": 0,
    "start_time": "2023-02-16T15:00:57.569Z"
   },
   {
    "duration": 0,
    "start_time": "2023-02-16T15:00:57.570Z"
   },
   {
    "duration": 0,
    "start_time": "2023-02-16T15:00:57.572Z"
   },
   {
    "duration": 0,
    "start_time": "2023-02-16T15:00:57.573Z"
   },
   {
    "duration": 0,
    "start_time": "2023-02-16T15:00:57.575Z"
   },
   {
    "duration": 0,
    "start_time": "2023-02-16T15:00:57.576Z"
   },
   {
    "duration": 0,
    "start_time": "2023-02-16T15:00:57.577Z"
   },
   {
    "duration": 0,
    "start_time": "2023-02-16T15:00:57.579Z"
   },
   {
    "duration": 0,
    "start_time": "2023-02-16T15:00:57.580Z"
   },
   {
    "duration": 0,
    "start_time": "2023-02-16T15:00:57.582Z"
   },
   {
    "duration": 26,
    "start_time": "2023-02-16T15:02:17.279Z"
   },
   {
    "duration": 230,
    "start_time": "2023-02-16T15:02:19.710Z"
   },
   {
    "duration": 1431,
    "start_time": "2023-02-16T15:02:42.071Z"
   },
   {
    "duration": 875,
    "start_time": "2023-02-16T15:02:43.504Z"
   },
   {
    "duration": 5,
    "start_time": "2023-02-16T15:02:44.383Z"
   },
   {
    "duration": 618,
    "start_time": "2023-02-16T15:02:44.390Z"
   },
   {
    "duration": 424,
    "start_time": "2023-02-16T15:02:45.010Z"
   },
   {
    "duration": 531,
    "start_time": "2023-02-16T15:02:45.435Z"
   },
   {
    "duration": 129,
    "start_time": "2023-02-16T15:02:45.967Z"
   },
   {
    "duration": 191,
    "start_time": "2023-02-16T15:02:46.098Z"
   },
   {
    "duration": 31,
    "start_time": "2023-02-16T15:02:46.290Z"
   },
   {
    "duration": 94,
    "start_time": "2023-02-16T15:02:46.323Z"
   },
   {
    "duration": 28,
    "start_time": "2023-02-16T15:02:46.419Z"
   },
   {
    "duration": 289,
    "start_time": "2023-02-16T15:02:46.449Z"
   },
   {
    "duration": 16,
    "start_time": "2023-02-16T15:02:46.741Z"
   },
   {
    "duration": 10,
    "start_time": "2023-02-16T15:02:46.758Z"
   },
   {
    "duration": 41,
    "start_time": "2023-02-16T15:02:46.769Z"
   },
   {
    "duration": 332,
    "start_time": "2023-02-16T15:02:46.811Z"
   },
   {
    "duration": 15,
    "start_time": "2023-02-16T15:02:47.144Z"
   },
   {
    "duration": 178,
    "start_time": "2023-02-16T15:02:47.161Z"
   },
   {
    "duration": 38,
    "start_time": "2023-02-16T15:02:47.341Z"
   },
   {
    "duration": 33,
    "start_time": "2023-02-16T15:02:47.381Z"
   },
   {
    "duration": 33,
    "start_time": "2023-02-16T15:02:47.416Z"
   },
   {
    "duration": 204,
    "start_time": "2023-02-16T15:02:47.450Z"
   },
   {
    "duration": 182,
    "start_time": "2023-02-16T15:02:47.655Z"
   },
   {
    "duration": 272,
    "start_time": "2023-02-16T15:02:47.838Z"
   },
   {
    "duration": 14,
    "start_time": "2023-02-16T15:02:48.112Z"
   },
   {
    "duration": 32,
    "start_time": "2023-02-16T15:02:48.137Z"
   },
   {
    "duration": 229,
    "start_time": "2023-02-16T15:02:48.171Z"
   },
   {
    "duration": 15,
    "start_time": "2023-02-16T15:02:48.401Z"
   },
   {
    "duration": 70,
    "start_time": "2023-02-16T15:02:48.418Z"
   },
   {
    "duration": 69,
    "start_time": "2023-02-16T15:02:48.490Z"
   },
   {
    "duration": 46,
    "start_time": "2023-02-16T15:02:48.561Z"
   },
   {
    "duration": 37,
    "start_time": "2023-02-16T15:02:48.609Z"
   },
   {
    "duration": 29,
    "start_time": "2023-02-16T15:02:48.648Z"
   },
   {
    "duration": 363,
    "start_time": "2023-02-16T15:02:48.679Z"
   },
   {
    "duration": 0,
    "start_time": "2023-02-16T15:02:49.044Z"
   },
   {
    "duration": 0,
    "start_time": "2023-02-16T15:02:49.045Z"
   },
   {
    "duration": 0,
    "start_time": "2023-02-16T15:02:49.046Z"
   },
   {
    "duration": 0,
    "start_time": "2023-02-16T15:02:49.047Z"
   },
   {
    "duration": 0,
    "start_time": "2023-02-16T15:02:49.049Z"
   },
   {
    "duration": 0,
    "start_time": "2023-02-16T15:02:49.050Z"
   },
   {
    "duration": 0,
    "start_time": "2023-02-16T15:02:49.051Z"
   },
   {
    "duration": 0,
    "start_time": "2023-02-16T15:02:49.052Z"
   },
   {
    "duration": 0,
    "start_time": "2023-02-16T15:02:49.054Z"
   },
   {
    "duration": 0,
    "start_time": "2023-02-16T15:02:49.055Z"
   },
   {
    "duration": 0,
    "start_time": "2023-02-16T15:02:49.056Z"
   },
   {
    "duration": 0,
    "start_time": "2023-02-16T15:02:49.057Z"
   },
   {
    "duration": 0,
    "start_time": "2023-02-16T15:02:49.059Z"
   },
   {
    "duration": 0,
    "start_time": "2023-02-16T15:02:49.060Z"
   },
   {
    "duration": 18,
    "start_time": "2023-02-16T15:04:03.559Z"
   },
   {
    "duration": 12,
    "start_time": "2023-02-16T15:04:04.172Z"
   },
   {
    "duration": 236,
    "start_time": "2023-02-16T15:08:29.831Z"
   },
   {
    "duration": 18,
    "start_time": "2023-02-16T15:09:14.840Z"
   },
   {
    "duration": 56,
    "start_time": "2023-02-16T15:09:16.799Z"
   },
   {
    "duration": 46,
    "start_time": "2023-02-16T15:09:17.863Z"
   },
   {
    "duration": 17,
    "start_time": "2023-02-16T15:09:18.889Z"
   },
   {
    "duration": 33,
    "start_time": "2023-02-16T15:09:19.390Z"
   },
   {
    "duration": 237,
    "start_time": "2023-02-16T15:09:22.980Z"
   },
   {
    "duration": 18,
    "start_time": "2023-02-16T15:09:42.311Z"
   },
   {
    "duration": 59,
    "start_time": "2023-02-16T15:09:43.520Z"
   },
   {
    "duration": 46,
    "start_time": "2023-02-16T15:09:46.553Z"
   },
   {
    "duration": 16,
    "start_time": "2023-02-16T15:09:46.601Z"
   },
   {
    "duration": 246,
    "start_time": "2023-02-16T15:09:46.619Z"
   },
   {
    "duration": 1310,
    "start_time": "2023-02-16T15:09:55.879Z"
   },
   {
    "duration": 826,
    "start_time": "2023-02-16T15:09:57.191Z"
   },
   {
    "duration": 6,
    "start_time": "2023-02-16T15:09:58.019Z"
   },
   {
    "duration": 655,
    "start_time": "2023-02-16T15:09:58.027Z"
   },
   {
    "duration": 442,
    "start_time": "2023-02-16T15:09:58.685Z"
   },
   {
    "duration": 526,
    "start_time": "2023-02-16T15:09:59.128Z"
   },
   {
    "duration": 137,
    "start_time": "2023-02-16T15:09:59.656Z"
   },
   {
    "duration": 186,
    "start_time": "2023-02-16T15:09:59.795Z"
   },
   {
    "duration": 33,
    "start_time": "2023-02-16T15:09:59.983Z"
   },
   {
    "duration": 83,
    "start_time": "2023-02-16T15:10:00.017Z"
   },
   {
    "duration": 23,
    "start_time": "2023-02-16T15:10:00.101Z"
   },
   {
    "duration": 333,
    "start_time": "2023-02-16T15:10:00.125Z"
   },
   {
    "duration": 16,
    "start_time": "2023-02-16T15:10:00.460Z"
   },
   {
    "duration": 53,
    "start_time": "2023-02-16T15:10:00.479Z"
   },
   {
    "duration": 68,
    "start_time": "2023-02-16T15:10:00.534Z"
   },
   {
    "duration": 344,
    "start_time": "2023-02-16T15:10:00.604Z"
   },
   {
    "duration": 18,
    "start_time": "2023-02-16T15:10:00.950Z"
   },
   {
    "duration": 213,
    "start_time": "2023-02-16T15:10:00.969Z"
   },
   {
    "duration": 39,
    "start_time": "2023-02-16T15:10:01.184Z"
   },
   {
    "duration": 48,
    "start_time": "2023-02-16T15:10:01.225Z"
   },
   {
    "duration": 22,
    "start_time": "2023-02-16T15:10:01.275Z"
   },
   {
    "duration": 232,
    "start_time": "2023-02-16T15:10:01.299Z"
   },
   {
    "duration": 188,
    "start_time": "2023-02-16T15:10:01.533Z"
   },
   {
    "duration": 288,
    "start_time": "2023-02-16T15:10:01.723Z"
   },
   {
    "duration": 27,
    "start_time": "2023-02-16T15:10:02.013Z"
   },
   {
    "duration": 41,
    "start_time": "2023-02-16T15:10:02.042Z"
   },
   {
    "duration": 244,
    "start_time": "2023-02-16T15:10:02.085Z"
   },
   {
    "duration": 28,
    "start_time": "2023-02-16T15:10:02.331Z"
   },
   {
    "duration": 60,
    "start_time": "2023-02-16T15:10:02.361Z"
   },
   {
    "duration": 28,
    "start_time": "2023-02-16T15:10:02.423Z"
   },
   {
    "duration": 60,
    "start_time": "2023-02-16T15:10:02.453Z"
   },
   {
    "duration": 57,
    "start_time": "2023-02-16T15:10:02.515Z"
   },
   {
    "duration": 25,
    "start_time": "2023-02-16T15:10:02.573Z"
   },
   {
    "duration": 372,
    "start_time": "2023-02-16T15:10:02.599Z"
   },
   {
    "duration": 0,
    "start_time": "2023-02-16T15:10:02.973Z"
   },
   {
    "duration": 0,
    "start_time": "2023-02-16T15:10:02.974Z"
   },
   {
    "duration": 0,
    "start_time": "2023-02-16T15:10:02.976Z"
   },
   {
    "duration": 0,
    "start_time": "2023-02-16T15:10:02.977Z"
   },
   {
    "duration": 0,
    "start_time": "2023-02-16T15:10:02.978Z"
   },
   {
    "duration": 0,
    "start_time": "2023-02-16T15:10:02.980Z"
   },
   {
    "duration": 0,
    "start_time": "2023-02-16T15:10:02.981Z"
   },
   {
    "duration": 0,
    "start_time": "2023-02-16T15:10:02.982Z"
   },
   {
    "duration": 0,
    "start_time": "2023-02-16T15:10:02.984Z"
   },
   {
    "duration": 0,
    "start_time": "2023-02-16T15:10:02.985Z"
   },
   {
    "duration": 0,
    "start_time": "2023-02-16T15:10:02.986Z"
   },
   {
    "duration": 0,
    "start_time": "2023-02-16T15:10:02.987Z"
   },
   {
    "duration": 0,
    "start_time": "2023-02-16T15:10:02.989Z"
   },
   {
    "duration": 0,
    "start_time": "2023-02-16T15:10:02.990Z"
   },
   {
    "duration": 16,
    "start_time": "2023-02-16T15:13:47.020Z"
   },
   {
    "duration": 827,
    "start_time": "2023-02-16T15:13:48.038Z"
   },
   {
    "duration": 220,
    "start_time": "2023-02-16T15:14:05.712Z"
   },
   {
    "duration": 1372,
    "start_time": "2023-02-16T15:23:40.746Z"
   },
   {
    "duration": 998,
    "start_time": "2023-02-16T15:23:42.119Z"
   },
   {
    "duration": 6,
    "start_time": "2023-02-16T15:23:43.119Z"
   },
   {
    "duration": 653,
    "start_time": "2023-02-16T15:23:43.126Z"
   },
   {
    "duration": 435,
    "start_time": "2023-02-16T15:23:43.781Z"
   },
   {
    "duration": 544,
    "start_time": "2023-02-16T15:23:44.218Z"
   },
   {
    "duration": 191,
    "start_time": "2023-02-16T15:23:44.764Z"
   },
   {
    "duration": 221,
    "start_time": "2023-02-16T15:23:44.957Z"
   },
   {
    "duration": 30,
    "start_time": "2023-02-16T15:23:45.180Z"
   },
   {
    "duration": 90,
    "start_time": "2023-02-16T15:23:45.212Z"
   },
   {
    "duration": 21,
    "start_time": "2023-02-16T15:23:45.304Z"
   },
   {
    "duration": 326,
    "start_time": "2023-02-16T15:23:45.327Z"
   },
   {
    "duration": 18,
    "start_time": "2023-02-16T15:23:45.655Z"
   },
   {
    "duration": 10,
    "start_time": "2023-02-16T15:23:45.677Z"
   },
   {
    "duration": 55,
    "start_time": "2023-02-16T15:23:45.690Z"
   },
   {
    "duration": 342,
    "start_time": "2023-02-16T15:23:45.747Z"
   },
   {
    "duration": 15,
    "start_time": "2023-02-16T15:23:46.090Z"
   },
   {
    "duration": 195,
    "start_time": "2023-02-16T15:23:46.107Z"
   },
   {
    "duration": 49,
    "start_time": "2023-02-16T15:23:46.304Z"
   },
   {
    "duration": 34,
    "start_time": "2023-02-16T15:23:46.357Z"
   },
   {
    "duration": 13,
    "start_time": "2023-02-16T15:23:46.393Z"
   },
   {
    "duration": 208,
    "start_time": "2023-02-16T15:23:46.408Z"
   },
   {
    "duration": 197,
    "start_time": "2023-02-16T15:23:46.618Z"
   },
   {
    "duration": 286,
    "start_time": "2023-02-16T15:23:46.817Z"
   },
   {
    "duration": 14,
    "start_time": "2023-02-16T15:23:47.105Z"
   },
   {
    "duration": 52,
    "start_time": "2023-02-16T15:23:47.121Z"
   },
   {
    "duration": 228,
    "start_time": "2023-02-16T15:23:47.174Z"
   },
   {
    "duration": 16,
    "start_time": "2023-02-16T15:23:47.404Z"
   },
   {
    "duration": 89,
    "start_time": "2023-02-16T15:23:47.422Z"
   },
   {
    "duration": 72,
    "start_time": "2023-02-16T15:23:47.513Z"
   },
   {
    "duration": 45,
    "start_time": "2023-02-16T15:23:47.587Z"
   },
   {
    "duration": 32,
    "start_time": "2023-02-16T15:23:47.633Z"
   },
   {
    "duration": 775,
    "start_time": "2023-02-16T15:23:47.667Z"
   },
   {
    "duration": 171,
    "start_time": "2023-02-16T15:23:48.443Z"
   },
   {
    "duration": 3,
    "start_time": "2023-02-16T15:23:48.615Z"
   },
   {
    "duration": 250103,
    "start_time": "2023-02-16T15:23:48.620Z"
   },
   {
    "duration": 1532,
    "start_time": "2023-02-16T15:27:58.724Z"
   },
   {
    "duration": 667,
    "start_time": "2023-02-16T15:28:00.258Z"
   },
   {
    "duration": 52936,
    "start_time": "2023-02-16T15:28:00.927Z"
   },
   {
    "duration": 2685,
    "start_time": "2023-02-16T15:28:53.866Z"
   },
   {
    "duration": 359293,
    "start_time": "2023-02-16T15:28:56.555Z"
   },
   {
    "duration": 507,
    "start_time": "2023-02-16T15:34:55.850Z"
   },
   {
    "duration": 8400,
    "start_time": "2023-02-16T15:34:56.366Z"
   },
   {
    "duration": 43,
    "start_time": "2023-02-16T15:35:04.768Z"
   },
   {
    "duration": 11,
    "start_time": "2023-02-16T15:41:38.140Z"
   },
   {
    "duration": 29,
    "start_time": "2023-02-16T15:42:08.755Z"
   },
   {
    "duration": 8673,
    "start_time": "2023-02-16T15:43:06.790Z"
   },
   {
    "duration": 26,
    "start_time": "2023-02-16T15:43:15.468Z"
   },
   {
    "duration": 16,
    "start_time": "2023-02-16T15:43:29.656Z"
   },
   {
    "duration": 10777,
    "start_time": "2023-02-16T15:43:30.378Z"
   },
   {
    "duration": 32,
    "start_time": "2023-02-16T15:43:41.157Z"
   },
   {
    "duration": 10168,
    "start_time": "2023-02-16T15:48:58.663Z"
   },
   {
    "duration": 31,
    "start_time": "2023-02-16T15:49:08.833Z"
   },
   {
    "duration": 21,
    "start_time": "2023-02-16T15:55:01.362Z"
   },
   {
    "duration": 39,
    "start_time": "2023-02-16T15:55:24.278Z"
   },
   {
    "duration": 20,
    "start_time": "2023-02-16T15:55:58.689Z"
   },
   {
    "duration": 3,
    "start_time": "2023-02-16T15:57:42.418Z"
   },
   {
    "duration": 19,
    "start_time": "2023-02-16T15:59:28.863Z"
   },
   {
    "duration": 184,
    "start_time": "2023-02-16T16:00:00.108Z"
   },
   {
    "duration": 72,
    "start_time": "2023-02-16T16:00:14.608Z"
   },
   {
    "duration": 45,
    "start_time": "2023-02-16T16:00:33.401Z"
   },
   {
    "duration": 11,
    "start_time": "2023-02-16T16:00:51.869Z"
   },
   {
    "duration": 34,
    "start_time": "2023-02-16T16:01:54.090Z"
   },
   {
    "duration": 1436,
    "start_time": "2023-02-16T16:02:08.196Z"
   },
   {
    "duration": 1076,
    "start_time": "2023-02-16T16:02:09.634Z"
   },
   {
    "duration": 6,
    "start_time": "2023-02-16T16:02:10.712Z"
   },
   {
    "duration": 791,
    "start_time": "2023-02-16T16:02:10.720Z"
   },
   {
    "duration": 498,
    "start_time": "2023-02-16T16:02:11.514Z"
   },
   {
    "duration": 614,
    "start_time": "2023-02-16T16:02:12.013Z"
   },
   {
    "duration": 179,
    "start_time": "2023-02-16T16:02:12.629Z"
   },
   {
    "duration": 203,
    "start_time": "2023-02-16T16:02:12.810Z"
   },
   {
    "duration": 56,
    "start_time": "2023-02-16T16:02:13.015Z"
   },
   {
    "duration": 90,
    "start_time": "2023-02-16T16:02:13.072Z"
   },
   {
    "duration": 25,
    "start_time": "2023-02-16T16:02:13.165Z"
   },
   {
    "duration": 332,
    "start_time": "2023-02-16T16:02:13.191Z"
   },
   {
    "duration": 36,
    "start_time": "2023-02-16T16:02:13.524Z"
   },
   {
    "duration": 20,
    "start_time": "2023-02-16T16:02:13.563Z"
   },
   {
    "duration": 45,
    "start_time": "2023-02-16T16:02:13.585Z"
   },
   {
    "duration": 374,
    "start_time": "2023-02-16T16:02:13.631Z"
   },
   {
    "duration": 16,
    "start_time": "2023-02-16T16:02:14.007Z"
   },
   {
    "duration": 198,
    "start_time": "2023-02-16T16:02:14.024Z"
   },
   {
    "duration": 51,
    "start_time": "2023-02-16T16:02:14.223Z"
   },
   {
    "duration": 35,
    "start_time": "2023-02-16T16:02:14.276Z"
   },
   {
    "duration": 39,
    "start_time": "2023-02-16T16:02:14.313Z"
   },
   {
    "duration": 225,
    "start_time": "2023-02-16T16:02:14.357Z"
   },
   {
    "duration": 202,
    "start_time": "2023-02-16T16:02:14.583Z"
   },
   {
    "duration": 317,
    "start_time": "2023-02-16T16:02:14.786Z"
   },
   {
    "duration": 14,
    "start_time": "2023-02-16T16:02:15.105Z"
   },
   {
    "duration": 59,
    "start_time": "2023-02-16T16:02:15.121Z"
   },
   {
    "duration": 247,
    "start_time": "2023-02-16T16:02:15.182Z"
   },
   {
    "duration": 29,
    "start_time": "2023-02-16T16:02:15.430Z"
   },
   {
    "duration": 89,
    "start_time": "2023-02-16T16:02:15.463Z"
   },
   {
    "duration": 91,
    "start_time": "2023-02-16T16:02:15.561Z"
   },
   {
    "duration": 56,
    "start_time": "2023-02-16T16:02:15.659Z"
   },
   {
    "duration": 32,
    "start_time": "2023-02-16T16:02:15.717Z"
   },
   {
    "duration": 29,
    "start_time": "2023-02-16T16:02:15.753Z"
   },
   {
    "duration": 587,
    "start_time": "2023-02-16T16:02:15.784Z"
   },
   {
    "duration": 875,
    "start_time": "2023-02-16T16:02:16.373Z"
   },
   {
    "duration": 219,
    "start_time": "2023-02-16T16:02:17.249Z"
   },
   {
    "duration": 59006,
    "start_time": "2023-02-16T16:02:17.469Z"
   },
   {
    "duration": 351,
    "start_time": "2023-02-16T16:03:16.477Z"
   },
   {
    "duration": 246912,
    "start_time": "2023-02-16T16:03:16.830Z"
   },
   {
    "duration": 1560,
    "start_time": "2023-02-16T16:07:23.745Z"
   },
   {
    "duration": 677,
    "start_time": "2023-02-16T16:07:25.309Z"
   },
   {
    "duration": 1173,
    "start_time": "2023-02-16T16:07:25.988Z"
   },
   {
    "duration": 49,
    "start_time": "2023-02-16T16:07:27.165Z"
   },
   {
    "duration": 1531,
    "start_time": "2023-02-16T16:08:31.176Z"
   },
   {
    "duration": 984,
    "start_time": "2023-02-16T16:08:32.710Z"
   },
   {
    "duration": 6,
    "start_time": "2023-02-16T16:08:33.696Z"
   },
   {
    "duration": 768,
    "start_time": "2023-02-16T16:08:33.704Z"
   },
   {
    "duration": 500,
    "start_time": "2023-02-16T16:08:34.478Z"
   },
   {
    "duration": 566,
    "start_time": "2023-02-16T16:08:34.979Z"
   },
   {
    "duration": 164,
    "start_time": "2023-02-16T16:08:35.546Z"
   },
   {
    "duration": 214,
    "start_time": "2023-02-16T16:08:35.712Z"
   },
   {
    "duration": 63,
    "start_time": "2023-02-16T16:08:35.928Z"
   },
   {
    "duration": 94,
    "start_time": "2023-02-16T16:08:35.994Z"
   },
   {
    "duration": 24,
    "start_time": "2023-02-16T16:08:36.090Z"
   },
   {
    "duration": 356,
    "start_time": "2023-02-16T16:08:36.115Z"
   },
   {
    "duration": 19,
    "start_time": "2023-02-16T16:08:36.474Z"
   },
   {
    "duration": 8,
    "start_time": "2023-02-16T16:08:36.496Z"
   },
   {
    "duration": 68,
    "start_time": "2023-02-16T16:08:36.506Z"
   },
   {
    "duration": 356,
    "start_time": "2023-02-16T16:08:36.576Z"
   },
   {
    "duration": 23,
    "start_time": "2023-02-16T16:08:36.934Z"
   },
   {
    "duration": 208,
    "start_time": "2023-02-16T16:08:36.958Z"
   },
   {
    "duration": 37,
    "start_time": "2023-02-16T16:08:37.168Z"
   },
   {
    "duration": 59,
    "start_time": "2023-02-16T16:08:37.206Z"
   },
   {
    "duration": 30,
    "start_time": "2023-02-16T16:08:37.266Z"
   },
   {
    "duration": 203,
    "start_time": "2023-02-16T16:08:37.299Z"
   },
   {
    "duration": 200,
    "start_time": "2023-02-16T16:08:37.504Z"
   },
   {
    "duration": 307,
    "start_time": "2023-02-16T16:08:37.706Z"
   },
   {
    "duration": 37,
    "start_time": "2023-02-16T16:08:38.015Z"
   },
   {
    "duration": 45,
    "start_time": "2023-02-16T16:08:38.060Z"
   },
   {
    "duration": 264,
    "start_time": "2023-02-16T16:08:38.107Z"
   },
   {
    "duration": 21,
    "start_time": "2023-02-16T16:08:38.373Z"
   },
   {
    "duration": 81,
    "start_time": "2023-02-16T16:08:38.396Z"
   },
   {
    "duration": 70,
    "start_time": "2023-02-16T16:08:38.479Z"
   },
   {
    "duration": 51,
    "start_time": "2023-02-16T16:08:38.553Z"
   },
   {
    "duration": 24,
    "start_time": "2023-02-16T16:08:38.606Z"
   },
   {
    "duration": 3,
    "start_time": "2023-02-16T16:08:38.631Z"
   },
   {
    "duration": 560,
    "start_time": "2023-02-16T16:08:38.639Z"
   },
   {
    "duration": 914,
    "start_time": "2023-02-16T16:08:39.201Z"
   },
   {
    "duration": 203,
    "start_time": "2023-02-16T16:08:40.117Z"
   },
   {
    "duration": 1611,
    "start_time": "2023-02-17T10:14:36.886Z"
   },
   {
    "duration": 1193,
    "start_time": "2023-02-17T10:14:38.499Z"
   },
   {
    "duration": 7,
    "start_time": "2023-02-17T10:14:39.694Z"
   },
   {
    "duration": 667,
    "start_time": "2023-02-17T10:14:39.703Z"
   },
   {
    "duration": 491,
    "start_time": "2023-02-17T10:14:40.372Z"
   },
   {
    "duration": 514,
    "start_time": "2023-02-17T10:14:40.865Z"
   },
   {
    "duration": 139,
    "start_time": "2023-02-17T10:14:41.380Z"
   },
   {
    "duration": 188,
    "start_time": "2023-02-17T10:14:41.521Z"
   },
   {
    "duration": 29,
    "start_time": "2023-02-17T10:14:41.710Z"
   },
   {
    "duration": 92,
    "start_time": "2023-02-17T10:14:41.741Z"
   },
   {
    "duration": 23,
    "start_time": "2023-02-17T10:14:41.835Z"
   },
   {
    "duration": 342,
    "start_time": "2023-02-17T10:14:41.860Z"
   },
   {
    "duration": 42,
    "start_time": "2023-02-17T10:14:42.205Z"
   },
   {
    "duration": 9,
    "start_time": "2023-02-17T10:14:42.250Z"
   },
   {
    "duration": 69,
    "start_time": "2023-02-17T10:14:42.260Z"
   },
   {
    "duration": 358,
    "start_time": "2023-02-17T10:14:42.331Z"
   },
   {
    "duration": 22,
    "start_time": "2023-02-17T10:14:42.691Z"
   },
   {
    "duration": 210,
    "start_time": "2023-02-17T10:14:42.715Z"
   },
   {
    "duration": 37,
    "start_time": "2023-02-17T10:14:42.927Z"
   },
   {
    "duration": 64,
    "start_time": "2023-02-17T10:14:42.966Z"
   },
   {
    "duration": 17,
    "start_time": "2023-02-17T10:14:43.032Z"
   },
   {
    "duration": 206,
    "start_time": "2023-02-17T10:14:43.050Z"
   },
   {
    "duration": 188,
    "start_time": "2023-02-17T10:14:43.258Z"
   },
   {
    "duration": 325,
    "start_time": "2023-02-17T10:14:43.448Z"
   },
   {
    "duration": 23,
    "start_time": "2023-02-17T10:14:43.774Z"
   },
   {
    "duration": 40,
    "start_time": "2023-02-17T10:14:43.799Z"
   },
   {
    "duration": 267,
    "start_time": "2023-02-17T10:14:43.840Z"
   },
   {
    "duration": 17,
    "start_time": "2023-02-17T10:14:44.109Z"
   },
   {
    "duration": 84,
    "start_time": "2023-02-17T10:14:44.127Z"
   },
   {
    "duration": 59,
    "start_time": "2023-02-17T10:14:44.213Z"
   },
   {
    "duration": 60,
    "start_time": "2023-02-17T10:14:44.274Z"
   },
   {
    "duration": 24,
    "start_time": "2023-02-17T10:14:44.336Z"
   },
   {
    "duration": 3,
    "start_time": "2023-02-17T10:14:44.361Z"
   },
   {
    "duration": 579,
    "start_time": "2023-02-17T10:14:44.365Z"
   },
   {
    "duration": 830,
    "start_time": "2023-02-17T10:14:44.945Z"
   },
   {
    "duration": 199,
    "start_time": "2023-02-17T10:14:45.777Z"
   },
   {
    "duration": 25018,
    "start_time": "2023-02-17T10:14:45.978Z"
   },
   {
    "duration": 267,
    "start_time": "2023-02-17T10:15:10.998Z"
   },
   {
    "duration": 67583,
    "start_time": "2023-02-17T10:15:11.267Z"
   },
   {
    "duration": 1554,
    "start_time": "2023-02-17T10:16:18.852Z"
   },
   {
    "duration": 738,
    "start_time": "2023-02-17T10:16:20.410Z"
   },
   {
    "duration": 53096,
    "start_time": "2023-02-17T10:16:21.150Z"
   },
   {
    "duration": 2703,
    "start_time": "2023-02-17T10:17:14.247Z"
   },
   {
    "duration": 36277,
    "start_time": "2023-02-17T10:17:16.951Z"
   },
   {
    "duration": 46,
    "start_time": "2023-02-17T10:17:53.229Z"
   },
   {
    "duration": 1490,
    "start_time": "2023-02-17T10:18:00.699Z"
   },
   {
    "duration": 954,
    "start_time": "2023-02-17T10:18:02.191Z"
   },
   {
    "duration": 6,
    "start_time": "2023-02-17T10:18:03.146Z"
   },
   {
    "duration": 695,
    "start_time": "2023-02-17T10:18:03.154Z"
   },
   {
    "duration": 504,
    "start_time": "2023-02-17T10:18:03.851Z"
   },
   {
    "duration": 595,
    "start_time": "2023-02-17T10:18:04.357Z"
   },
   {
    "duration": 148,
    "start_time": "2023-02-17T10:18:04.954Z"
   },
   {
    "duration": 191,
    "start_time": "2023-02-17T10:18:05.104Z"
   },
   {
    "duration": 43,
    "start_time": "2023-02-17T10:18:05.297Z"
   },
   {
    "duration": 88,
    "start_time": "2023-02-17T10:18:05.342Z"
   },
   {
    "duration": 34,
    "start_time": "2023-02-17T10:18:05.432Z"
   },
   {
    "duration": 356,
    "start_time": "2023-02-17T10:18:05.468Z"
   },
   {
    "duration": 18,
    "start_time": "2023-02-17T10:18:05.826Z"
   },
   {
    "duration": 26,
    "start_time": "2023-02-17T10:18:05.847Z"
   },
   {
    "duration": 87,
    "start_time": "2023-02-17T10:18:05.875Z"
   },
   {
    "duration": 387,
    "start_time": "2023-02-17T10:18:05.963Z"
   },
   {
    "duration": 20,
    "start_time": "2023-02-17T10:18:06.352Z"
   },
   {
    "duration": 190,
    "start_time": "2023-02-17T10:18:06.373Z"
   },
   {
    "duration": 66,
    "start_time": "2023-02-17T10:18:06.565Z"
   },
   {
    "duration": 42,
    "start_time": "2023-02-17T10:18:06.633Z"
   },
   {
    "duration": 27,
    "start_time": "2023-02-17T10:18:06.677Z"
   },
   {
    "duration": 226,
    "start_time": "2023-02-17T10:18:06.706Z"
   },
   {
    "duration": 189,
    "start_time": "2023-02-17T10:18:06.934Z"
   },
   {
    "duration": 316,
    "start_time": "2023-02-17T10:18:07.125Z"
   },
   {
    "duration": 18,
    "start_time": "2023-02-17T10:18:07.443Z"
   },
   {
    "duration": 57,
    "start_time": "2023-02-17T10:18:07.463Z"
   },
   {
    "duration": 287,
    "start_time": "2023-02-17T10:18:07.522Z"
   },
   {
    "duration": 19,
    "start_time": "2023-02-17T10:18:07.811Z"
   },
   {
    "duration": 102,
    "start_time": "2023-02-17T10:18:07.831Z"
   },
   {
    "duration": 63,
    "start_time": "2023-02-17T10:18:07.934Z"
   },
   {
    "duration": 52,
    "start_time": "2023-02-17T10:18:07.998Z"
   },
   {
    "duration": 46,
    "start_time": "2023-02-17T10:18:08.052Z"
   },
   {
    "duration": 3,
    "start_time": "2023-02-17T10:18:08.100Z"
   },
   {
    "duration": 584,
    "start_time": "2023-02-17T10:18:08.104Z"
   },
   {
    "duration": 815,
    "start_time": "2023-02-17T10:18:08.689Z"
   },
   {
    "duration": 189,
    "start_time": "2023-02-17T10:18:09.506Z"
   },
   {
    "duration": 22203,
    "start_time": "2023-02-17T10:18:09.697Z"
   },
   {
    "duration": 284,
    "start_time": "2023-02-17T10:18:31.902Z"
   },
   {
    "duration": 258467,
    "start_time": "2023-02-17T10:18:32.189Z"
   },
   {
    "duration": 1561,
    "start_time": "2023-02-17T10:22:50.658Z"
   },
   {
    "duration": 751,
    "start_time": "2023-02-17T10:22:52.224Z"
   },
   {
    "duration": 52897,
    "start_time": "2023-02-17T10:22:52.977Z"
   },
   {
    "duration": 2854,
    "start_time": "2023-02-17T10:23:45.876Z"
   },
   {
    "duration": 4371,
    "start_time": "2023-02-17T10:23:48.732Z"
   },
   {
    "duration": 505,
    "start_time": "2023-02-17T10:23:53.105Z"
   },
   {
    "duration": 8910,
    "start_time": "2023-02-17T10:23:53.611Z"
   },
   {
    "duration": 31,
    "start_time": "2023-02-17T10:24:02.523Z"
   },
   {
    "duration": 10,
    "start_time": "2023-02-17T10:24:02.556Z"
   },
   {
    "duration": 11161,
    "start_time": "2023-02-17T10:24:02.568Z"
   },
   {
    "duration": 30,
    "start_time": "2023-02-17T10:24:13.731Z"
   },
   {
    "duration": 144,
    "start_time": "2023-02-17T10:26:29.574Z"
   },
   {
    "duration": 11,
    "start_time": "2023-02-17T10:40:37.444Z"
   },
   {
    "duration": 6545,
    "start_time": "2023-02-17T10:40:51.631Z"
   },
   {
    "duration": 6863,
    "start_time": "2023-02-17T10:41:27.996Z"
   },
   {
    "duration": 6876,
    "start_time": "2023-02-17T10:41:45.313Z"
   },
   {
    "duration": 8746,
    "start_time": "2023-02-17T10:42:26.333Z"
   },
   {
    "duration": 170,
    "start_time": "2023-02-17T11:14:15.613Z"
   },
   {
    "duration": 142,
    "start_time": "2023-02-17T11:17:25.582Z"
   },
   {
    "duration": 146,
    "start_time": "2023-02-17T11:17:47.373Z"
   },
   {
    "duration": 142,
    "start_time": "2023-02-17T11:17:57.212Z"
   },
   {
    "duration": 144,
    "start_time": "2023-02-17T11:18:20.562Z"
   },
   {
    "duration": 147,
    "start_time": "2023-02-17T11:18:41.184Z"
   },
   {
    "duration": 144,
    "start_time": "2023-02-17T11:18:53.874Z"
   },
   {
    "duration": 156,
    "start_time": "2023-02-17T11:19:08.944Z"
   },
   {
    "duration": 169,
    "start_time": "2023-02-17T11:21:46.104Z"
   },
   {
    "duration": 195,
    "start_time": "2023-02-17T11:23:00.552Z"
   },
   {
    "duration": 57,
    "start_time": "2023-02-17T11:23:17.032Z"
   },
   {
    "duration": 186,
    "start_time": "2023-02-17T11:23:22.552Z"
   },
   {
    "duration": 171,
    "start_time": "2023-02-17T11:23:56.014Z"
   },
   {
    "duration": 215,
    "start_time": "2023-02-17T11:24:30.685Z"
   },
   {
    "duration": 184,
    "start_time": "2023-02-17T11:26:22.954Z"
   },
   {
    "duration": 20663,
    "start_time": "2023-02-17T11:26:34.334Z"
   },
   {
    "duration": 92,
    "start_time": "2023-02-17T11:26:55.005Z"
   },
   {
    "duration": 21535,
    "start_time": "2023-02-17T11:27:26.963Z"
   },
   {
    "duration": 98,
    "start_time": "2023-02-17T11:27:48.501Z"
   },
   {
    "duration": 47,
    "start_time": "2023-02-17T11:28:37.599Z"
   },
   {
    "duration": 31,
    "start_time": "2023-02-17T11:28:54.224Z"
   },
   {
    "duration": 14,
    "start_time": "2023-02-17T11:29:02.545Z"
   },
   {
    "duration": 170,
    "start_time": "2023-02-17T11:30:28.804Z"
   },
   {
    "duration": 13,
    "start_time": "2023-02-17T11:31:37.107Z"
   },
   {
    "duration": 18,
    "start_time": "2023-02-17T11:32:10.743Z"
   },
   {
    "duration": 197,
    "start_time": "2023-02-17T11:32:32.715Z"
   },
   {
    "duration": 1489,
    "start_time": "2023-02-17T11:32:49.032Z"
   },
   {
    "duration": 1094,
    "start_time": "2023-02-17T11:32:50.523Z"
   },
   {
    "duration": 6,
    "start_time": "2023-02-17T11:32:51.619Z"
   },
   {
    "duration": 730,
    "start_time": "2023-02-17T11:32:51.627Z"
   },
   {
    "duration": 509,
    "start_time": "2023-02-17T11:32:52.359Z"
   },
   {
    "duration": 589,
    "start_time": "2023-02-17T11:32:52.870Z"
   },
   {
    "duration": 160,
    "start_time": "2023-02-17T11:32:53.461Z"
   },
   {
    "duration": 207,
    "start_time": "2023-02-17T11:32:53.623Z"
   },
   {
    "duration": 33,
    "start_time": "2023-02-17T11:32:53.831Z"
   },
   {
    "duration": 96,
    "start_time": "2023-02-17T11:32:53.866Z"
   },
   {
    "duration": 33,
    "start_time": "2023-02-17T11:32:53.963Z"
   },
   {
    "duration": 378,
    "start_time": "2023-02-17T11:32:53.997Z"
   },
   {
    "duration": 28,
    "start_time": "2023-02-17T11:32:54.377Z"
   },
   {
    "duration": 16,
    "start_time": "2023-02-17T11:32:54.408Z"
   },
   {
    "duration": 96,
    "start_time": "2023-02-17T11:32:54.426Z"
   },
   {
    "duration": 407,
    "start_time": "2023-02-17T11:32:54.525Z"
   },
   {
    "duration": 21,
    "start_time": "2023-02-17T11:32:54.934Z"
   },
   {
    "duration": 213,
    "start_time": "2023-02-17T11:32:54.956Z"
   },
   {
    "duration": 50,
    "start_time": "2023-02-17T11:32:55.171Z"
   },
   {
    "duration": 43,
    "start_time": "2023-02-17T11:32:55.223Z"
   },
   {
    "duration": 29,
    "start_time": "2023-02-17T11:32:55.268Z"
   },
   {
    "duration": 226,
    "start_time": "2023-02-17T11:32:55.299Z"
   },
   {
    "duration": 200,
    "start_time": "2023-02-17T11:32:55.527Z"
   },
   {
    "duration": 338,
    "start_time": "2023-02-17T11:32:55.729Z"
   },
   {
    "duration": 26,
    "start_time": "2023-02-17T11:32:56.069Z"
   },
   {
    "duration": 42,
    "start_time": "2023-02-17T11:32:56.097Z"
   },
   {
    "duration": 294,
    "start_time": "2023-02-17T11:32:56.141Z"
   },
   {
    "duration": 19,
    "start_time": "2023-02-17T11:32:56.437Z"
   },
   {
    "duration": 96,
    "start_time": "2023-02-17T11:32:56.458Z"
   },
   {
    "duration": 62,
    "start_time": "2023-02-17T11:32:56.555Z"
   },
   {
    "duration": 51,
    "start_time": "2023-02-17T11:32:56.619Z"
   },
   {
    "duration": 38,
    "start_time": "2023-02-17T11:32:56.672Z"
   },
   {
    "duration": 402,
    "start_time": "2023-02-17T11:32:56.712Z"
   },
   {
    "duration": 558,
    "start_time": "2023-02-17T11:32:57.115Z"
   },
   {
    "duration": 872,
    "start_time": "2023-02-17T11:32:57.675Z"
   },
   {
    "duration": 200,
    "start_time": "2023-02-17T11:32:58.549Z"
   },
   {
    "duration": 133,
    "start_time": "2023-02-17T11:32:58.751Z"
   },
   {
    "duration": 0,
    "start_time": "2023-02-17T11:32:58.886Z"
   },
   {
    "duration": 0,
    "start_time": "2023-02-17T11:32:58.887Z"
   },
   {
    "duration": 0,
    "start_time": "2023-02-17T11:32:58.888Z"
   },
   {
    "duration": 0,
    "start_time": "2023-02-17T11:32:58.895Z"
   },
   {
    "duration": 0,
    "start_time": "2023-02-17T11:32:58.897Z"
   },
   {
    "duration": 0,
    "start_time": "2023-02-17T11:32:58.897Z"
   },
   {
    "duration": 0,
    "start_time": "2023-02-17T11:32:58.898Z"
   },
   {
    "duration": 0,
    "start_time": "2023-02-17T11:32:58.899Z"
   },
   {
    "duration": 0,
    "start_time": "2023-02-17T11:32:58.900Z"
   },
   {
    "duration": 0,
    "start_time": "2023-02-17T11:32:58.900Z"
   },
   {
    "duration": 0,
    "start_time": "2023-02-17T11:32:58.901Z"
   },
   {
    "duration": 0,
    "start_time": "2023-02-17T11:32:58.903Z"
   },
   {
    "duration": 0,
    "start_time": "2023-02-17T11:32:58.904Z"
   },
   {
    "duration": 0,
    "start_time": "2023-02-17T11:32:58.905Z"
   },
   {
    "duration": 194,
    "start_time": "2023-02-17T11:39:57.002Z"
   },
   {
    "duration": 205,
    "start_time": "2023-02-17T11:40:05.103Z"
   },
   {
    "duration": 182,
    "start_time": "2023-02-17T11:40:36.523Z"
   },
   {
    "duration": 196,
    "start_time": "2023-02-17T11:40:55.950Z"
   },
   {
    "duration": 7354,
    "start_time": "2023-02-17T11:42:42.620Z"
   },
   {
    "duration": 7389,
    "start_time": "2023-02-17T11:43:06.844Z"
   },
   {
    "duration": 6693,
    "start_time": "2023-02-17T11:44:43.082Z"
   },
   {
    "duration": 6885,
    "start_time": "2023-02-17T11:45:16.931Z"
   },
   {
    "duration": 1632,
    "start_time": "2023-02-17T12:38:34.501Z"
   },
   {
    "duration": 1103,
    "start_time": "2023-02-17T12:38:36.135Z"
   },
   {
    "duration": 7,
    "start_time": "2023-02-17T12:38:37.240Z"
   },
   {
    "duration": 766,
    "start_time": "2023-02-17T12:38:37.249Z"
   },
   {
    "duration": 518,
    "start_time": "2023-02-17T12:38:38.017Z"
   },
   {
    "duration": 626,
    "start_time": "2023-02-17T12:38:38.537Z"
   },
   {
    "duration": 155,
    "start_time": "2023-02-17T12:38:39.165Z"
   },
   {
    "duration": 203,
    "start_time": "2023-02-17T12:38:39.322Z"
   },
   {
    "duration": 35,
    "start_time": "2023-02-17T12:38:39.526Z"
   },
   {
    "duration": 94,
    "start_time": "2023-02-17T12:38:39.564Z"
   },
   {
    "duration": 36,
    "start_time": "2023-02-17T12:38:39.660Z"
   },
   {
    "duration": 365,
    "start_time": "2023-02-17T12:38:39.697Z"
   },
   {
    "duration": 31,
    "start_time": "2023-02-17T12:38:40.064Z"
   },
   {
    "duration": 9,
    "start_time": "2023-02-17T12:38:40.097Z"
   },
   {
    "duration": 46,
    "start_time": "2023-02-17T12:38:40.107Z"
   },
   {
    "duration": 431,
    "start_time": "2023-02-17T12:38:40.155Z"
   },
   {
    "duration": 26,
    "start_time": "2023-02-17T12:38:40.587Z"
   },
   {
    "duration": 248,
    "start_time": "2023-02-17T12:38:40.614Z"
   },
   {
    "duration": 54,
    "start_time": "2023-02-17T12:38:40.864Z"
   },
   {
    "duration": 51,
    "start_time": "2023-02-17T12:38:40.920Z"
   },
   {
    "duration": 35,
    "start_time": "2023-02-17T12:38:40.973Z"
   },
   {
    "duration": 229,
    "start_time": "2023-02-17T12:38:41.010Z"
   },
   {
    "duration": 200,
    "start_time": "2023-02-17T12:38:41.240Z"
   },
   {
    "duration": 335,
    "start_time": "2023-02-17T12:38:41.441Z"
   },
   {
    "duration": 26,
    "start_time": "2023-02-17T12:38:41.778Z"
   },
   {
    "duration": 43,
    "start_time": "2023-02-17T12:38:41.805Z"
   },
   {
    "duration": 292,
    "start_time": "2023-02-17T12:38:41.850Z"
   },
   {
    "duration": 22,
    "start_time": "2023-02-17T12:38:42.146Z"
   },
   {
    "duration": 93,
    "start_time": "2023-02-17T12:38:42.170Z"
   },
   {
    "duration": 67,
    "start_time": "2023-02-17T12:38:42.266Z"
   },
   {
    "duration": 61,
    "start_time": "2023-02-17T12:38:42.334Z"
   },
   {
    "duration": 27,
    "start_time": "2023-02-17T12:38:42.397Z"
   },
   {
    "duration": 7044,
    "start_time": "2023-02-17T12:38:42.426Z"
   },
   {
    "duration": 561,
    "start_time": "2023-02-17T12:38:49.471Z"
   },
   {
    "duration": 935,
    "start_time": "2023-02-17T12:38:50.034Z"
   },
   {
    "duration": 237,
    "start_time": "2023-02-17T12:38:50.972Z"
   },
   {
    "duration": 134,
    "start_time": "2023-02-17T12:38:51.210Z"
   },
   {
    "duration": 0,
    "start_time": "2023-02-17T12:38:51.345Z"
   },
   {
    "duration": 0,
    "start_time": "2023-02-17T12:38:51.347Z"
   },
   {
    "duration": 0,
    "start_time": "2023-02-17T12:38:51.348Z"
   },
   {
    "duration": 0,
    "start_time": "2023-02-17T12:38:51.349Z"
   },
   {
    "duration": 0,
    "start_time": "2023-02-17T12:38:51.350Z"
   },
   {
    "duration": 0,
    "start_time": "2023-02-17T12:38:51.351Z"
   },
   {
    "duration": 0,
    "start_time": "2023-02-17T12:38:51.353Z"
   },
   {
    "duration": 0,
    "start_time": "2023-02-17T12:38:51.354Z"
   },
   {
    "duration": 0,
    "start_time": "2023-02-17T12:38:51.355Z"
   },
   {
    "duration": 0,
    "start_time": "2023-02-17T12:38:51.357Z"
   },
   {
    "duration": 0,
    "start_time": "2023-02-17T12:38:51.359Z"
   },
   {
    "duration": 0,
    "start_time": "2023-02-17T12:38:51.360Z"
   },
   {
    "duration": 0,
    "start_time": "2023-02-17T12:38:51.361Z"
   },
   {
    "duration": 0,
    "start_time": "2023-02-17T12:38:51.362Z"
   },
   {
    "duration": 169,
    "start_time": "2023-02-17T12:40:59.146Z"
   },
   {
    "duration": 1573,
    "start_time": "2023-02-17T12:41:59.693Z"
   },
   {
    "duration": 1033,
    "start_time": "2023-02-17T12:42:01.268Z"
   },
   {
    "duration": 7,
    "start_time": "2023-02-17T12:42:02.303Z"
   },
   {
    "duration": 755,
    "start_time": "2023-02-17T12:42:02.312Z"
   },
   {
    "duration": 486,
    "start_time": "2023-02-17T12:42:03.070Z"
   },
   {
    "duration": 592,
    "start_time": "2023-02-17T12:42:03.557Z"
   },
   {
    "duration": 158,
    "start_time": "2023-02-17T12:42:04.151Z"
   },
   {
    "duration": 219,
    "start_time": "2023-02-17T12:42:04.310Z"
   },
   {
    "duration": 41,
    "start_time": "2023-02-17T12:42:04.531Z"
   },
   {
    "duration": 110,
    "start_time": "2023-02-17T12:42:04.574Z"
   },
   {
    "duration": 31,
    "start_time": "2023-02-17T12:42:04.686Z"
   },
   {
    "duration": 395,
    "start_time": "2023-02-17T12:42:04.719Z"
   },
   {
    "duration": 22,
    "start_time": "2023-02-17T12:42:05.116Z"
   },
   {
    "duration": 13,
    "start_time": "2023-02-17T12:42:05.142Z"
   },
   {
    "duration": 70,
    "start_time": "2023-02-17T12:42:05.158Z"
   },
   {
    "duration": 402,
    "start_time": "2023-02-17T12:42:05.230Z"
   },
   {
    "duration": 21,
    "start_time": "2023-02-17T12:42:05.634Z"
   },
   {
    "duration": 213,
    "start_time": "2023-02-17T12:42:05.657Z"
   },
   {
    "duration": 50,
    "start_time": "2023-02-17T12:42:05.873Z"
   },
   {
    "duration": 44,
    "start_time": "2023-02-17T12:42:05.924Z"
   },
   {
    "duration": 34,
    "start_time": "2023-02-17T12:42:05.970Z"
   },
   {
    "duration": 225,
    "start_time": "2023-02-17T12:42:06.006Z"
   },
   {
    "duration": 204,
    "start_time": "2023-02-17T12:42:06.233Z"
   },
   {
    "duration": 339,
    "start_time": "2023-02-17T12:42:06.439Z"
   },
   {
    "duration": 33,
    "start_time": "2023-02-17T12:42:06.780Z"
   },
   {
    "duration": 48,
    "start_time": "2023-02-17T12:42:06.814Z"
   },
   {
    "duration": 296,
    "start_time": "2023-02-17T12:42:06.864Z"
   },
   {
    "duration": 33,
    "start_time": "2023-02-17T12:42:07.162Z"
   },
   {
    "duration": 83,
    "start_time": "2023-02-17T12:42:07.198Z"
   },
   {
    "duration": 69,
    "start_time": "2023-02-17T12:42:07.282Z"
   },
   {
    "duration": 60,
    "start_time": "2023-02-17T12:42:07.353Z"
   },
   {
    "duration": 29,
    "start_time": "2023-02-17T12:42:07.416Z"
   },
   {
    "duration": 451,
    "start_time": "2023-02-17T12:42:07.447Z"
   },
   {
    "duration": 0,
    "start_time": "2023-02-17T12:42:07.900Z"
   },
   {
    "duration": 0,
    "start_time": "2023-02-17T12:42:07.902Z"
   },
   {
    "duration": 0,
    "start_time": "2023-02-17T12:42:07.903Z"
   },
   {
    "duration": 0,
    "start_time": "2023-02-17T12:42:07.905Z"
   },
   {
    "duration": 0,
    "start_time": "2023-02-17T12:42:07.906Z"
   },
   {
    "duration": 0,
    "start_time": "2023-02-17T12:42:07.908Z"
   },
   {
    "duration": 0,
    "start_time": "2023-02-17T12:42:07.909Z"
   },
   {
    "duration": 0,
    "start_time": "2023-02-17T12:42:07.911Z"
   },
   {
    "duration": 0,
    "start_time": "2023-02-17T12:42:07.912Z"
   },
   {
    "duration": 0,
    "start_time": "2023-02-17T12:42:07.913Z"
   },
   {
    "duration": 0,
    "start_time": "2023-02-17T12:42:07.915Z"
   },
   {
    "duration": 0,
    "start_time": "2023-02-17T12:42:07.917Z"
   },
   {
    "duration": 0,
    "start_time": "2023-02-17T12:42:07.919Z"
   },
   {
    "duration": 0,
    "start_time": "2023-02-17T12:42:07.920Z"
   },
   {
    "duration": 0,
    "start_time": "2023-02-17T12:42:07.922Z"
   },
   {
    "duration": 0,
    "start_time": "2023-02-17T12:42:07.924Z"
   },
   {
    "duration": 0,
    "start_time": "2023-02-17T12:42:07.925Z"
   },
   {
    "duration": 0,
    "start_time": "2023-02-17T12:42:07.927Z"
   },
   {
    "duration": 573,
    "start_time": "2023-02-17T12:54:40.840Z"
   },
   {
    "duration": 1497,
    "start_time": "2023-02-17T12:55:52.842Z"
   },
   {
    "duration": 1071,
    "start_time": "2023-02-17T12:55:54.341Z"
   },
   {
    "duration": 7,
    "start_time": "2023-02-17T12:55:55.413Z"
   },
   {
    "duration": 703,
    "start_time": "2023-02-17T12:55:55.422Z"
   },
   {
    "duration": 481,
    "start_time": "2023-02-17T12:55:56.127Z"
   },
   {
    "duration": 575,
    "start_time": "2023-02-17T12:55:56.609Z"
   },
   {
    "duration": 154,
    "start_time": "2023-02-17T12:55:57.186Z"
   },
   {
    "duration": 195,
    "start_time": "2023-02-17T12:55:57.342Z"
   },
   {
    "duration": 32,
    "start_time": "2023-02-17T12:55:57.539Z"
   },
   {
    "duration": 96,
    "start_time": "2023-02-17T12:55:57.574Z"
   },
   {
    "duration": 35,
    "start_time": "2023-02-17T12:55:57.672Z"
   },
   {
    "duration": 346,
    "start_time": "2023-02-17T12:55:57.708Z"
   },
   {
    "duration": 20,
    "start_time": "2023-02-17T12:55:58.056Z"
   },
   {
    "duration": 21,
    "start_time": "2023-02-17T12:55:58.077Z"
   },
   {
    "duration": 43,
    "start_time": "2023-02-17T12:55:58.100Z"
   },
   {
    "duration": 392,
    "start_time": "2023-02-17T12:55:58.145Z"
   },
   {
    "duration": 21,
    "start_time": "2023-02-17T12:55:58.539Z"
   },
   {
    "duration": 206,
    "start_time": "2023-02-17T12:55:58.562Z"
   },
   {
    "duration": 54,
    "start_time": "2023-02-17T12:55:58.770Z"
   },
   {
    "duration": 48,
    "start_time": "2023-02-17T12:55:58.826Z"
   },
   {
    "duration": 30,
    "start_time": "2023-02-17T12:55:58.876Z"
   },
   {
    "duration": 236,
    "start_time": "2023-02-17T12:55:58.907Z"
   },
   {
    "duration": 199,
    "start_time": "2023-02-17T12:55:59.144Z"
   },
   {
    "duration": 331,
    "start_time": "2023-02-17T12:55:59.345Z"
   },
   {
    "duration": 24,
    "start_time": "2023-02-17T12:55:59.678Z"
   },
   {
    "duration": 40,
    "start_time": "2023-02-17T12:55:59.704Z"
   },
   {
    "duration": 292,
    "start_time": "2023-02-17T12:55:59.746Z"
   },
   {
    "duration": 19,
    "start_time": "2023-02-17T12:56:00.042Z"
   },
   {
    "duration": 92,
    "start_time": "2023-02-17T12:56:00.063Z"
   },
   {
    "duration": 73,
    "start_time": "2023-02-17T12:56:00.157Z"
   },
   {
    "duration": 50,
    "start_time": "2023-02-17T12:56:00.232Z"
   },
   {
    "duration": 31,
    "start_time": "2023-02-17T12:56:00.284Z"
   },
   {
    "duration": 708,
    "start_time": "2023-02-17T12:56:00.317Z"
   },
   {
    "duration": 0,
    "start_time": "2023-02-17T12:56:01.027Z"
   },
   {
    "duration": 0,
    "start_time": "2023-02-17T12:56:01.029Z"
   },
   {
    "duration": 0,
    "start_time": "2023-02-17T12:56:01.031Z"
   },
   {
    "duration": 0,
    "start_time": "2023-02-17T12:56:01.032Z"
   },
   {
    "duration": 0,
    "start_time": "2023-02-17T12:56:01.034Z"
   },
   {
    "duration": 0,
    "start_time": "2023-02-17T12:56:01.035Z"
   },
   {
    "duration": 0,
    "start_time": "2023-02-17T12:56:01.036Z"
   },
   {
    "duration": 0,
    "start_time": "2023-02-17T12:56:01.038Z"
   },
   {
    "duration": 0,
    "start_time": "2023-02-17T12:56:01.039Z"
   },
   {
    "duration": 0,
    "start_time": "2023-02-17T12:56:01.040Z"
   },
   {
    "duration": 0,
    "start_time": "2023-02-17T12:56:01.041Z"
   },
   {
    "duration": 0,
    "start_time": "2023-02-17T12:56:01.042Z"
   },
   {
    "duration": 0,
    "start_time": "2023-02-17T12:56:01.043Z"
   },
   {
    "duration": 0,
    "start_time": "2023-02-17T12:56:01.044Z"
   },
   {
    "duration": 0,
    "start_time": "2023-02-17T12:56:01.045Z"
   },
   {
    "duration": 0,
    "start_time": "2023-02-17T12:56:01.046Z"
   },
   {
    "duration": 0,
    "start_time": "2023-02-17T12:56:01.047Z"
   },
   {
    "duration": 0,
    "start_time": "2023-02-17T12:56:01.049Z"
   },
   {
    "duration": 300,
    "start_time": "2023-02-17T12:56:33.874Z"
   },
   {
    "duration": 390,
    "start_time": "2023-02-17T12:56:52.016Z"
   },
   {
    "duration": 370,
    "start_time": "2023-02-17T12:57:00.670Z"
   },
   {
    "duration": 607,
    "start_time": "2023-02-17T12:57:55.037Z"
   },
   {
    "duration": 1013,
    "start_time": "2023-02-17T12:58:06.134Z"
   },
   {
    "duration": 44,
    "start_time": "2023-02-17T12:58:12.552Z"
   },
   {
    "duration": 3,
    "start_time": "2023-02-17T12:58:14.137Z"
   },
   {
    "duration": 22248,
    "start_time": "2023-02-17T12:58:19.048Z"
   },
   {
    "duration": 10,
    "start_time": "2023-02-17T12:58:41.299Z"
   },
   {
    "duration": 172,
    "start_time": "2023-02-17T13:02:03.161Z"
   },
   {
    "duration": 23314,
    "start_time": "2023-02-17T13:02:13.891Z"
   },
   {
    "duration": 90,
    "start_time": "2023-02-17T13:02:37.207Z"
   },
   {
    "duration": 17,
    "start_time": "2023-02-17T13:05:16.033Z"
   },
   {
    "duration": 11,
    "start_time": "2023-02-17T13:05:24.412Z"
   },
   {
    "duration": 6,
    "start_time": "2023-02-17T13:05:59.316Z"
   },
   {
    "duration": 7193,
    "start_time": "2023-02-17T13:06:06.014Z"
   },
   {
    "duration": 7743,
    "start_time": "2023-02-17T13:10:34.494Z"
   },
   {
    "duration": 365,
    "start_time": "2023-02-17T13:11:10.593Z"
   },
   {
    "duration": 314,
    "start_time": "2023-02-17T13:11:48.273Z"
   },
   {
    "duration": 356,
    "start_time": "2023-02-17T13:12:00.773Z"
   },
   {
    "duration": 7075,
    "start_time": "2023-02-17T13:12:51.825Z"
   },
   {
    "duration": 82,
    "start_time": "2023-02-17T14:41:46.691Z"
   },
   {
    "duration": 1965,
    "start_time": "2023-02-17T14:42:43.166Z"
   },
   {
    "duration": 4,
    "start_time": "2023-02-17T14:42:53.993Z"
   },
   {
    "duration": 12,
    "start_time": "2023-02-17T14:43:24.897Z"
   },
   {
    "duration": 111,
    "start_time": "2023-02-17T14:44:00.542Z"
   },
   {
    "duration": 83,
    "start_time": "2023-02-17T14:44:08.013Z"
   },
   {
    "duration": 12,
    "start_time": "2023-02-17T14:44:19.596Z"
   },
   {
    "duration": 11,
    "start_time": "2023-02-17T14:45:21.766Z"
   },
   {
    "duration": 1713,
    "start_time": "2023-02-17T14:45:28.373Z"
   },
   {
    "duration": 5755,
    "start_time": "2023-02-17T14:45:30.089Z"
   },
   {
    "duration": 15,
    "start_time": "2023-02-17T14:45:35.846Z"
   },
   {
    "duration": 905,
    "start_time": "2023-02-17T14:45:35.864Z"
   },
   {
    "duration": 530,
    "start_time": "2023-02-17T14:45:36.771Z"
   },
   {
    "duration": 700,
    "start_time": "2023-02-17T14:45:37.303Z"
   },
   {
    "duration": 172,
    "start_time": "2023-02-17T14:45:38.005Z"
   },
   {
    "duration": 325,
    "start_time": "2023-02-17T14:45:38.179Z"
   },
   {
    "duration": 49,
    "start_time": "2023-02-17T14:45:38.506Z"
   },
   {
    "duration": 86,
    "start_time": "2023-02-17T14:45:38.561Z"
   },
   {
    "duration": 49,
    "start_time": "2023-02-17T14:45:38.653Z"
   },
   {
    "duration": 420,
    "start_time": "2023-02-17T14:45:38.704Z"
   },
   {
    "duration": 32,
    "start_time": "2023-02-17T14:45:39.126Z"
   },
   {
    "duration": 20,
    "start_time": "2023-02-17T14:45:39.161Z"
   },
   {
    "duration": 45,
    "start_time": "2023-02-17T14:45:39.183Z"
   },
   {
    "duration": 476,
    "start_time": "2023-02-17T14:45:39.230Z"
   },
   {
    "duration": 21,
    "start_time": "2023-02-17T14:45:39.708Z"
   },
   {
    "duration": 242,
    "start_time": "2023-02-17T14:45:39.731Z"
   },
   {
    "duration": 46,
    "start_time": "2023-02-17T14:45:39.975Z"
   },
   {
    "duration": 61,
    "start_time": "2023-02-17T14:45:40.023Z"
   },
   {
    "duration": 21,
    "start_time": "2023-02-17T14:45:40.085Z"
   },
   {
    "duration": 272,
    "start_time": "2023-02-17T14:45:40.108Z"
   },
   {
    "duration": 219,
    "start_time": "2023-02-17T14:45:40.382Z"
   },
   {
    "duration": 396,
    "start_time": "2023-02-17T14:45:40.603Z"
   },
   {
    "duration": 29,
    "start_time": "2023-02-17T14:45:41.001Z"
   },
   {
    "duration": 87,
    "start_time": "2023-02-17T14:45:41.033Z"
   },
   {
    "duration": 421,
    "start_time": "2023-02-17T14:45:41.123Z"
   },
   {
    "duration": 28,
    "start_time": "2023-02-17T14:45:41.551Z"
   },
   {
    "duration": 144,
    "start_time": "2023-02-17T14:45:41.582Z"
   },
   {
    "duration": 86,
    "start_time": "2023-02-17T14:45:41.728Z"
   },
   {
    "duration": 83,
    "start_time": "2023-02-17T14:45:41.816Z"
   },
   {
    "duration": 36,
    "start_time": "2023-02-17T14:45:41.902Z"
   },
   {
    "duration": 150,
    "start_time": "2023-02-17T14:45:41.953Z"
   },
   {
    "duration": 0,
    "start_time": "2023-02-17T14:45:42.105Z"
   },
   {
    "duration": 0,
    "start_time": "2023-02-17T14:45:42.106Z"
   },
   {
    "duration": 0,
    "start_time": "2023-02-17T14:45:42.107Z"
   },
   {
    "duration": 0,
    "start_time": "2023-02-17T14:45:42.108Z"
   },
   {
    "duration": 0,
    "start_time": "2023-02-17T14:45:42.109Z"
   },
   {
    "duration": 0,
    "start_time": "2023-02-17T14:45:42.110Z"
   },
   {
    "duration": 0,
    "start_time": "2023-02-17T14:45:42.111Z"
   },
   {
    "duration": 0,
    "start_time": "2023-02-17T14:45:42.112Z"
   },
   {
    "duration": 0,
    "start_time": "2023-02-17T14:45:42.114Z"
   },
   {
    "duration": 0,
    "start_time": "2023-02-17T14:45:42.115Z"
   },
   {
    "duration": 0,
    "start_time": "2023-02-17T14:45:42.117Z"
   },
   {
    "duration": 0,
    "start_time": "2023-02-17T14:45:42.118Z"
   },
   {
    "duration": 0,
    "start_time": "2023-02-17T14:45:42.119Z"
   },
   {
    "duration": 0,
    "start_time": "2023-02-17T14:45:42.121Z"
   },
   {
    "duration": 0,
    "start_time": "2023-02-17T14:45:42.122Z"
   },
   {
    "duration": 1,
    "start_time": "2023-02-17T14:45:42.151Z"
   },
   {
    "duration": 1,
    "start_time": "2023-02-17T14:45:42.152Z"
   },
   {
    "duration": 0,
    "start_time": "2023-02-17T14:45:42.153Z"
   },
   {
    "duration": 392,
    "start_time": "2023-02-17T14:46:51.623Z"
   },
   {
    "duration": 21,
    "start_time": "2023-02-17T14:47:14.282Z"
   },
   {
    "duration": 17,
    "start_time": "2023-02-17T14:47:22.022Z"
   },
   {
    "duration": 24,
    "start_time": "2023-02-17T15:33:04.714Z"
   },
   {
    "duration": 28,
    "start_time": "2023-02-17T15:33:30.935Z"
   },
   {
    "duration": 1688,
    "start_time": "2023-02-17T15:33:35.101Z"
   },
   {
    "duration": 1178,
    "start_time": "2023-02-17T15:33:36.798Z"
   },
   {
    "duration": 9,
    "start_time": "2023-02-17T15:33:37.981Z"
   },
   {
    "duration": 772,
    "start_time": "2023-02-17T15:33:37.992Z"
   },
   {
    "duration": 539,
    "start_time": "2023-02-17T15:33:38.766Z"
   },
   {
    "duration": 661,
    "start_time": "2023-02-17T15:33:39.307Z"
   },
   {
    "duration": 181,
    "start_time": "2023-02-17T15:33:39.975Z"
   },
   {
    "duration": 234,
    "start_time": "2023-02-17T15:33:40.160Z"
   },
   {
    "duration": 37,
    "start_time": "2023-02-17T15:33:40.395Z"
   },
   {
    "duration": 100,
    "start_time": "2023-02-17T15:33:40.434Z"
   },
   {
    "duration": 36,
    "start_time": "2023-02-17T15:33:40.537Z"
   },
   {
    "duration": 410,
    "start_time": "2023-02-17T15:33:40.578Z"
   },
   {
    "duration": 20,
    "start_time": "2023-02-17T15:33:40.992Z"
   },
   {
    "duration": 10,
    "start_time": "2023-02-17T15:33:41.014Z"
   },
   {
    "duration": 64,
    "start_time": "2023-02-17T15:33:41.025Z"
   },
   {
    "duration": 449,
    "start_time": "2023-02-17T15:33:41.091Z"
   },
   {
    "duration": 29,
    "start_time": "2023-02-17T15:33:41.541Z"
   },
   {
    "duration": 215,
    "start_time": "2023-02-17T15:33:41.580Z"
   },
   {
    "duration": 41,
    "start_time": "2023-02-17T15:33:41.796Z"
   },
   {
    "duration": 71,
    "start_time": "2023-02-17T15:33:41.839Z"
   },
   {
    "duration": 43,
    "start_time": "2023-02-17T15:33:41.912Z"
   },
   {
    "duration": 252,
    "start_time": "2023-02-17T15:33:41.962Z"
   },
   {
    "duration": 209,
    "start_time": "2023-02-17T15:33:42.216Z"
   },
   {
    "duration": 395,
    "start_time": "2023-02-17T15:33:42.426Z"
   },
   {
    "duration": 19,
    "start_time": "2023-02-17T15:33:42.823Z"
   },
   {
    "duration": 72,
    "start_time": "2023-02-17T15:33:42.843Z"
   },
   {
    "duration": 320,
    "start_time": "2023-02-17T15:33:42.916Z"
   },
   {
    "duration": 27,
    "start_time": "2023-02-17T15:33:43.240Z"
   },
   {
    "duration": 97,
    "start_time": "2023-02-17T15:33:43.268Z"
   },
   {
    "duration": 94,
    "start_time": "2023-02-17T15:33:43.366Z"
   },
   {
    "duration": 64,
    "start_time": "2023-02-17T15:33:43.478Z"
   },
   {
    "duration": 39,
    "start_time": "2023-02-17T15:33:43.545Z"
   },
   {
    "duration": 1603,
    "start_time": "2023-02-17T15:33:43.586Z"
   },
   {
    "duration": 0,
    "start_time": "2023-02-17T15:33:45.190Z"
   },
   {
    "duration": 0,
    "start_time": "2023-02-17T15:33:45.192Z"
   },
   {
    "duration": 0,
    "start_time": "2023-02-17T15:33:45.193Z"
   },
   {
    "duration": 0,
    "start_time": "2023-02-17T15:33:45.195Z"
   },
   {
    "duration": 0,
    "start_time": "2023-02-17T15:33:45.197Z"
   },
   {
    "duration": 0,
    "start_time": "2023-02-17T15:33:45.198Z"
   },
   {
    "duration": 0,
    "start_time": "2023-02-17T15:33:45.199Z"
   },
   {
    "duration": 0,
    "start_time": "2023-02-17T15:33:45.200Z"
   },
   {
    "duration": 0,
    "start_time": "2023-02-17T15:33:45.202Z"
   },
   {
    "duration": 0,
    "start_time": "2023-02-17T15:33:45.203Z"
   },
   {
    "duration": 0,
    "start_time": "2023-02-17T15:33:45.204Z"
   },
   {
    "duration": 0,
    "start_time": "2023-02-17T15:33:45.206Z"
   },
   {
    "duration": 0,
    "start_time": "2023-02-17T15:33:45.207Z"
   },
   {
    "duration": 1,
    "start_time": "2023-02-17T15:33:45.208Z"
   },
   {
    "duration": 0,
    "start_time": "2023-02-17T15:33:45.210Z"
   },
   {
    "duration": 0,
    "start_time": "2023-02-17T15:33:45.211Z"
   },
   {
    "duration": 0,
    "start_time": "2023-02-17T15:33:45.213Z"
   },
   {
    "duration": 0,
    "start_time": "2023-02-17T15:33:45.214Z"
   },
   {
    "duration": 1631,
    "start_time": "2023-02-17T15:34:19.113Z"
   },
   {
    "duration": 1648,
    "start_time": "2023-02-17T15:34:43.663Z"
   },
   {
    "duration": 1472,
    "start_time": "2023-02-17T15:36:13.704Z"
   },
   {
    "duration": 1037,
    "start_time": "2023-02-17T15:37:40.787Z"
   },
   {
    "duration": 14070,
    "start_time": "2023-02-17T15:38:56.301Z"
   },
   {
    "duration": 272,
    "start_time": "2023-02-17T15:41:00.048Z"
   },
   {
    "duration": 1615,
    "start_time": "2023-02-17T15:41:02.184Z"
   },
   {
    "duration": 50547,
    "start_time": "2023-02-17T15:41:32.506Z"
   },
   {
    "duration": 187,
    "start_time": "2023-02-17T15:42:23.061Z"
   },
   {
    "duration": 1681,
    "start_time": "2023-02-17T15:49:08.902Z"
   },
   {
    "duration": 1172,
    "start_time": "2023-02-17T15:49:10.586Z"
   },
   {
    "duration": 11,
    "start_time": "2023-02-17T15:49:11.762Z"
   },
   {
    "duration": 820,
    "start_time": "2023-02-17T15:49:11.777Z"
   },
   {
    "duration": 575,
    "start_time": "2023-02-17T15:49:12.599Z"
   },
   {
    "duration": 629,
    "start_time": "2023-02-17T15:49:13.176Z"
   },
   {
    "duration": 192,
    "start_time": "2023-02-17T15:49:13.808Z"
   },
   {
    "duration": 302,
    "start_time": "2023-02-17T15:49:14.002Z"
   },
   {
    "duration": 50,
    "start_time": "2023-02-17T15:49:14.306Z"
   },
   {
    "duration": 146,
    "start_time": "2023-02-17T15:49:14.364Z"
   },
   {
    "duration": 25,
    "start_time": "2023-02-17T15:49:14.512Z"
   },
   {
    "duration": 427,
    "start_time": "2023-02-17T15:49:14.548Z"
   },
   {
    "duration": 25,
    "start_time": "2023-02-17T15:49:14.977Z"
   },
   {
    "duration": 13,
    "start_time": "2023-02-17T15:49:15.005Z"
   },
   {
    "duration": 76,
    "start_time": "2023-02-17T15:49:15.020Z"
   },
   {
    "duration": 460,
    "start_time": "2023-02-17T15:49:15.098Z"
   },
   {
    "duration": 27,
    "start_time": "2023-02-17T15:49:15.561Z"
   },
   {
    "duration": 239,
    "start_time": "2023-02-17T15:49:15.590Z"
   },
   {
    "duration": 57,
    "start_time": "2023-02-17T15:49:15.832Z"
   },
   {
    "duration": 73,
    "start_time": "2023-02-17T15:49:15.891Z"
   },
   {
    "duration": 23,
    "start_time": "2023-02-17T15:49:15.966Z"
   },
   {
    "duration": 248,
    "start_time": "2023-02-17T15:49:15.992Z"
   },
   {
    "duration": 228,
    "start_time": "2023-02-17T15:49:16.250Z"
   },
   {
    "duration": 549,
    "start_time": "2023-02-17T15:49:16.486Z"
   },
   {
    "duration": 29,
    "start_time": "2023-02-17T15:49:17.037Z"
   },
   {
    "duration": 64,
    "start_time": "2023-02-17T15:49:17.069Z"
   },
   {
    "duration": 330,
    "start_time": "2023-02-17T15:49:17.135Z"
   },
   {
    "duration": 27,
    "start_time": "2023-02-17T15:49:17.469Z"
   },
   {
    "duration": 103,
    "start_time": "2023-02-17T15:49:17.498Z"
   },
   {
    "duration": 81,
    "start_time": "2023-02-17T15:49:17.603Z"
   },
   {
    "duration": 81,
    "start_time": "2023-02-17T15:49:17.687Z"
   },
   {
    "duration": 34,
    "start_time": "2023-02-17T15:49:17.775Z"
   },
   {
    "duration": 445,
    "start_time": "2023-02-17T15:49:17.812Z"
   },
   {
    "duration": 1412,
    "start_time": "2023-02-17T15:49:18.259Z"
   },
   {
    "duration": 965,
    "start_time": "2023-02-17T15:49:19.673Z"
   },
   {
    "duration": 234,
    "start_time": "2023-02-17T15:49:20.640Z"
   },
   {
    "duration": 1671,
    "start_time": "2023-02-17T15:49:20.876Z"
   },
   {
    "duration": 37699,
    "start_time": "2023-02-17T15:49:22.553Z"
   },
   {
    "duration": 213,
    "start_time": "2023-02-17T15:50:00.260Z"
   },
   {
    "duration": 302928,
    "start_time": "2023-02-17T15:50:00.482Z"
   },
   {
    "duration": 1763,
    "start_time": "2023-02-17T15:55:03.414Z"
   },
   {
    "duration": 828,
    "start_time": "2023-02-17T15:55:05.180Z"
   },
   {
    "duration": 61893,
    "start_time": "2023-02-17T15:55:06.010Z"
   },
   {
    "duration": 2852,
    "start_time": "2023-02-17T15:56:07.905Z"
   },
   {
    "duration": 377015,
    "start_time": "2023-02-17T15:56:10.761Z"
   },
   {
    "duration": 597,
    "start_time": "2023-02-17T16:02:27.782Z"
   },
   {
    "duration": 9872,
    "start_time": "2023-02-17T16:02:28.381Z"
   },
   {
    "duration": 58,
    "start_time": "2023-02-17T16:02:38.256Z"
   },
   {
    "duration": 13,
    "start_time": "2023-02-17T16:02:38.317Z"
   },
   {
    "duration": 12626,
    "start_time": "2023-02-17T16:02:38.333Z"
   },
   {
    "duration": 47,
    "start_time": "2023-02-17T16:02:50.967Z"
   },
   {
    "duration": 51,
    "start_time": "2023-02-18T13:31:14.253Z"
   },
   {
    "duration": 1583,
    "start_time": "2023-02-18T13:31:37.985Z"
   },
   {
    "duration": 1245,
    "start_time": "2023-02-18T13:31:39.571Z"
   },
   {
    "duration": 7,
    "start_time": "2023-02-18T13:31:40.818Z"
   },
   {
    "duration": 664,
    "start_time": "2023-02-18T13:31:40.826Z"
   },
   {
    "duration": 436,
    "start_time": "2023-02-18T13:31:41.493Z"
   },
   {
    "duration": 552,
    "start_time": "2023-02-18T13:31:41.931Z"
   },
   {
    "duration": 143,
    "start_time": "2023-02-18T13:31:42.484Z"
   },
   {
    "duration": 219,
    "start_time": "2023-02-18T13:31:42.629Z"
   },
   {
    "duration": 31,
    "start_time": "2023-02-18T13:31:42.849Z"
   },
   {
    "duration": 98,
    "start_time": "2023-02-18T13:31:42.881Z"
   },
   {
    "duration": 24,
    "start_time": "2023-02-18T13:31:42.981Z"
   },
   {
    "duration": 329,
    "start_time": "2023-02-18T13:31:43.007Z"
   },
   {
    "duration": 17,
    "start_time": "2023-02-18T13:31:43.338Z"
   },
   {
    "duration": 8,
    "start_time": "2023-02-18T13:31:43.359Z"
   },
   {
    "duration": 62,
    "start_time": "2023-02-18T13:31:43.368Z"
   },
   {
    "duration": 355,
    "start_time": "2023-02-18T13:31:43.432Z"
   },
   {
    "duration": 17,
    "start_time": "2023-02-18T13:31:43.789Z"
   },
   {
    "duration": 204,
    "start_time": "2023-02-18T13:31:43.807Z"
   },
   {
    "duration": 49,
    "start_time": "2023-02-18T13:31:44.013Z"
   },
   {
    "duration": 36,
    "start_time": "2023-02-18T13:31:44.064Z"
   },
   {
    "duration": 34,
    "start_time": "2023-02-18T13:31:44.102Z"
   },
   {
    "duration": 221,
    "start_time": "2023-02-18T13:31:44.138Z"
   },
   {
    "duration": 201,
    "start_time": "2023-02-18T13:31:44.360Z"
   },
   {
    "duration": 294,
    "start_time": "2023-02-18T13:31:44.563Z"
   },
   {
    "duration": 24,
    "start_time": "2023-02-18T13:31:44.859Z"
   },
   {
    "duration": 47,
    "start_time": "2023-02-18T13:31:44.885Z"
   },
   {
    "duration": 248,
    "start_time": "2023-02-18T13:31:44.934Z"
   },
   {
    "duration": 17,
    "start_time": "2023-02-18T13:31:45.184Z"
   },
   {
    "duration": 85,
    "start_time": "2023-02-18T13:31:45.203Z"
   },
   {
    "duration": 101,
    "start_time": "2023-02-18T13:31:45.290Z"
   },
   {
    "duration": 59,
    "start_time": "2023-02-18T13:31:45.393Z"
   },
   {
    "duration": 26,
    "start_time": "2023-02-18T13:31:45.454Z"
   },
   {
    "duration": 1352,
    "start_time": "2023-02-18T13:31:45.482Z"
   },
   {
    "duration": 771,
    "start_time": "2023-02-18T13:31:46.836Z"
   },
   {
    "duration": 190,
    "start_time": "2023-02-18T13:31:47.609Z"
   },
   {
    "duration": 1563,
    "start_time": "2023-02-18T13:31:47.801Z"
   },
   {
    "duration": 16869,
    "start_time": "2023-02-18T13:31:49.366Z"
   },
   {
    "duration": 106,
    "start_time": "2023-02-18T13:32:06.328Z"
   },
   {
    "duration": 63280,
    "start_time": "2023-02-18T13:32:06.437Z"
   },
   {
    "duration": 1573,
    "start_time": "2023-02-18T13:33:09.719Z"
   },
   {
    "duration": 685,
    "start_time": "2023-02-18T13:33:11.296Z"
   },
   {
    "duration": 50999,
    "start_time": "2023-02-18T13:33:11.983Z"
   },
   {
    "duration": 2591,
    "start_time": "2023-02-18T13:34:02.984Z"
   },
   {
    "duration": 4660,
    "start_time": "2023-02-18T13:34:05.577Z"
   },
   {
    "duration": 607,
    "start_time": "2023-02-18T13:34:10.239Z"
   },
   {
    "duration": 7927,
    "start_time": "2023-02-18T13:34:10.847Z"
   },
   {
    "duration": 29,
    "start_time": "2023-02-18T13:34:18.776Z"
   },
   {
    "duration": 9,
    "start_time": "2023-02-18T13:34:18.807Z"
   },
   {
    "duration": 10492,
    "start_time": "2023-02-18T13:34:18.818Z"
   },
   {
    "duration": 28,
    "start_time": "2023-02-18T13:34:29.311Z"
   },
   {
    "duration": 1048,
    "start_time": "2023-02-18T13:34:29.341Z"
   },
   {
    "duration": 203,
    "start_time": "2023-02-18T13:34:30.391Z"
   },
   {
    "duration": 1626,
    "start_time": "2023-02-18T13:35:08.428Z"
   },
   {
    "duration": 1021,
    "start_time": "2023-02-18T13:35:10.056Z"
   },
   {
    "duration": 6,
    "start_time": "2023-02-18T13:35:11.079Z"
   },
   {
    "duration": 714,
    "start_time": "2023-02-18T13:35:11.086Z"
   },
   {
    "duration": 467,
    "start_time": "2023-02-18T13:35:11.804Z"
   },
   {
    "duration": 576,
    "start_time": "2023-02-18T13:35:12.273Z"
   },
   {
    "duration": 139,
    "start_time": "2023-02-18T13:35:12.851Z"
   },
   {
    "duration": 203,
    "start_time": "2023-02-18T13:35:12.992Z"
   },
   {
    "duration": 47,
    "start_time": "2023-02-18T13:35:13.197Z"
   },
   {
    "duration": 88,
    "start_time": "2023-02-18T13:35:13.246Z"
   },
   {
    "duration": 23,
    "start_time": "2023-02-18T13:35:13.336Z"
   },
   {
    "duration": 335,
    "start_time": "2023-02-18T13:35:13.361Z"
   },
   {
    "duration": 30,
    "start_time": "2023-02-18T13:35:13.697Z"
   },
   {
    "duration": 7,
    "start_time": "2023-02-18T13:35:13.731Z"
   },
   {
    "duration": 61,
    "start_time": "2023-02-18T13:35:13.740Z"
   },
   {
    "duration": 344,
    "start_time": "2023-02-18T13:35:13.802Z"
   },
   {
    "duration": 17,
    "start_time": "2023-02-18T13:35:14.147Z"
   },
   {
    "duration": 191,
    "start_time": "2023-02-18T13:35:14.166Z"
   },
   {
    "duration": 42,
    "start_time": "2023-02-18T13:35:14.359Z"
   },
   {
    "duration": 44,
    "start_time": "2023-02-18T13:35:14.403Z"
   },
   {
    "duration": 31,
    "start_time": "2023-02-18T13:35:14.449Z"
   },
   {
    "duration": 213,
    "start_time": "2023-02-18T13:35:14.481Z"
   },
   {
    "duration": 199,
    "start_time": "2023-02-18T13:35:14.696Z"
   },
   {
    "duration": 290,
    "start_time": "2023-02-18T13:35:14.897Z"
   },
   {
    "duration": 17,
    "start_time": "2023-02-18T13:35:15.189Z"
   },
   {
    "duration": 54,
    "start_time": "2023-02-18T13:35:15.207Z"
   },
   {
    "duration": 257,
    "start_time": "2023-02-18T13:35:15.263Z"
   },
   {
    "duration": 17,
    "start_time": "2023-02-18T13:35:15.526Z"
   },
   {
    "duration": 74,
    "start_time": "2023-02-18T13:35:15.545Z"
   },
   {
    "duration": 70,
    "start_time": "2023-02-18T13:35:15.620Z"
   },
   {
    "duration": 66,
    "start_time": "2023-02-18T13:35:15.692Z"
   },
   {
    "duration": 27,
    "start_time": "2023-02-18T13:35:15.760Z"
   },
   {
    "duration": 1225,
    "start_time": "2023-02-18T13:35:15.789Z"
   },
   {
    "duration": 828,
    "start_time": "2023-02-18T13:35:17.016Z"
   },
   {
    "duration": 213,
    "start_time": "2023-02-18T13:35:17.845Z"
   },
   {
    "duration": 1616,
    "start_time": "2023-02-18T13:35:18.059Z"
   },
   {
    "duration": 24456,
    "start_time": "2023-02-18T13:35:19.677Z"
   },
   {
    "duration": 195,
    "start_time": "2023-02-18T13:35:44.135Z"
   },
   {
    "duration": 256769,
    "start_time": "2023-02-18T13:35:44.334Z"
   },
   {
    "duration": 1608,
    "start_time": "2023-02-18T13:40:01.105Z"
   },
   {
    "duration": 692,
    "start_time": "2023-02-18T13:40:02.717Z"
   },
   {
    "duration": 53725,
    "start_time": "2023-02-18T13:40:03.411Z"
   },
   {
    "duration": 2683,
    "start_time": "2023-02-18T13:40:57.138Z"
   },
   {
    "duration": 4610,
    "start_time": "2023-02-18T13:40:59.823Z"
   },
   {
    "duration": 504,
    "start_time": "2023-02-18T13:41:04.435Z"
   },
   {
    "duration": 7832,
    "start_time": "2023-02-18T13:41:04.941Z"
   },
   {
    "duration": 28,
    "start_time": "2023-02-18T13:41:12.775Z"
   },
   {
    "duration": 10,
    "start_time": "2023-02-18T13:41:12.805Z"
   },
   {
    "duration": 10156,
    "start_time": "2023-02-18T13:41:12.817Z"
   },
   {
    "duration": 28,
    "start_time": "2023-02-18T13:41:22.975Z"
   },
   {
    "duration": 6,
    "start_time": "2023-02-18T13:48:29.803Z"
   },
   {
    "duration": 10451,
    "start_time": "2023-02-18T13:49:20.867Z"
   },
   {
    "duration": 10818,
    "start_time": "2023-02-18T13:50:56.083Z"
   },
   {
    "duration": 10197,
    "start_time": "2023-02-18T13:51:49.689Z"
   },
   {
    "duration": 302,
    "start_time": "2023-02-18T13:51:59.887Z"
   },
   {
    "duration": 295,
    "start_time": "2023-02-18T13:52:29.494Z"
   },
   {
    "duration": 29,
    "start_time": "2023-02-18T13:56:58.251Z"
   },
   {
    "duration": 306,
    "start_time": "2023-02-18T13:56:59.137Z"
   },
   {
    "duration": 19,
    "start_time": "2023-02-18T14:10:57.068Z"
   },
   {
    "duration": 1579,
    "start_time": "2023-02-18T14:24:51.495Z"
   },
   {
    "duration": 1542,
    "start_time": "2023-02-18T14:25:35.010Z"
   },
   {
    "duration": 77,
    "start_time": "2023-02-18T14:25:52.918Z"
   },
   {
    "duration": 67,
    "start_time": "2023-02-18T14:27:39.672Z"
   },
   {
    "duration": 1536,
    "start_time": "2023-02-18T14:28:13.030Z"
   },
   {
    "duration": 61,
    "start_time": "2023-02-18T14:34:05.783Z"
   },
   {
    "duration": 57,
    "start_time": "2023-02-18T14:34:22.728Z"
   },
   {
    "duration": 95,
    "start_time": "2023-02-18T14:35:27.766Z"
   },
   {
    "duration": 11561,
    "start_time": "2023-02-18T14:36:18.648Z"
   },
   {
    "duration": 10884,
    "start_time": "2023-02-18T14:43:00.053Z"
   },
   {
    "duration": 30,
    "start_time": "2023-02-18T14:43:20.589Z"
   },
   {
    "duration": 1387,
    "start_time": "2023-02-18T14:46:07.657Z"
   },
   {
    "duration": 974,
    "start_time": "2023-02-18T14:46:09.046Z"
   },
   {
    "duration": 7,
    "start_time": "2023-02-18T14:46:10.021Z"
   },
   {
    "duration": 804,
    "start_time": "2023-02-18T14:46:10.030Z"
   },
   {
    "duration": 469,
    "start_time": "2023-02-18T14:46:10.835Z"
   },
   {
    "duration": 582,
    "start_time": "2023-02-18T14:46:11.306Z"
   },
   {
    "duration": 149,
    "start_time": "2023-02-18T14:46:11.890Z"
   },
   {
    "duration": 198,
    "start_time": "2023-02-18T14:46:12.041Z"
   },
   {
    "duration": 37,
    "start_time": "2023-02-18T14:46:12.241Z"
   },
   {
    "duration": 100,
    "start_time": "2023-02-18T14:46:12.281Z"
   },
   {
    "duration": 27,
    "start_time": "2023-02-18T14:46:12.383Z"
   },
   {
    "duration": 367,
    "start_time": "2023-02-18T14:46:12.412Z"
   },
   {
    "duration": 19,
    "start_time": "2023-02-18T14:46:12.780Z"
   },
   {
    "duration": 27,
    "start_time": "2023-02-18T14:46:12.800Z"
   },
   {
    "duration": 54,
    "start_time": "2023-02-18T14:46:12.829Z"
   },
   {
    "duration": 363,
    "start_time": "2023-02-18T14:46:12.885Z"
   },
   {
    "duration": 18,
    "start_time": "2023-02-18T14:46:13.249Z"
   },
   {
    "duration": 226,
    "start_time": "2023-02-18T14:46:13.269Z"
   },
   {
    "duration": 49,
    "start_time": "2023-02-18T14:46:13.497Z"
   },
   {
    "duration": 36,
    "start_time": "2023-02-18T14:46:13.547Z"
   },
   {
    "duration": 117,
    "start_time": "2023-02-18T14:46:13.584Z"
   },
   {
    "duration": 212,
    "start_time": "2023-02-18T14:46:13.703Z"
   },
   {
    "duration": 195,
    "start_time": "2023-02-18T14:46:13.917Z"
   },
   {
    "duration": 288,
    "start_time": "2023-02-18T14:46:14.114Z"
   },
   {
    "duration": 28,
    "start_time": "2023-02-18T14:46:14.405Z"
   },
   {
    "duration": 39,
    "start_time": "2023-02-18T14:46:14.435Z"
   },
   {
    "duration": 255,
    "start_time": "2023-02-18T14:46:14.476Z"
   },
   {
    "duration": 17,
    "start_time": "2023-02-18T14:46:14.736Z"
   },
   {
    "duration": 74,
    "start_time": "2023-02-18T14:46:14.755Z"
   },
   {
    "duration": 56,
    "start_time": "2023-02-18T14:46:14.830Z"
   },
   {
    "duration": 67,
    "start_time": "2023-02-18T14:46:14.888Z"
   },
   {
    "duration": 27,
    "start_time": "2023-02-18T14:46:14.957Z"
   },
   {
    "duration": 214,
    "start_time": "2023-02-18T14:46:14.986Z"
   },
   {
    "duration": 1219,
    "start_time": "2023-02-18T14:46:15.202Z"
   },
   {
    "duration": 840,
    "start_time": "2023-02-18T14:46:16.423Z"
   },
   {
    "duration": 206,
    "start_time": "2023-02-18T14:46:17.265Z"
   },
   {
    "duration": 1861,
    "start_time": "2023-02-18T14:46:17.472Z"
   },
   {
    "duration": 29793,
    "start_time": "2023-02-18T14:46:19.335Z"
   },
   {
    "duration": 105,
    "start_time": "2023-02-18T14:46:49.129Z"
   },
   {
    "duration": 14304,
    "start_time": "2023-02-18T14:46:49.236Z"
   },
   {
    "duration": 1611,
    "start_time": "2023-02-18T14:47:03.541Z"
   },
   {
    "duration": 683,
    "start_time": "2023-02-18T14:47:05.154Z"
   },
   {
    "duration": 55280,
    "start_time": "2023-02-18T14:47:05.839Z"
   },
   {
    "duration": 2717,
    "start_time": "2023-02-18T14:48:01.120Z"
   },
   {
    "duration": 1468,
    "start_time": "2023-02-18T14:48:12.074Z"
   },
   {
    "duration": 956,
    "start_time": "2023-02-18T14:48:13.543Z"
   },
   {
    "duration": 6,
    "start_time": "2023-02-18T14:48:14.500Z"
   },
   {
    "duration": 747,
    "start_time": "2023-02-18T14:48:14.509Z"
   },
   {
    "duration": 501,
    "start_time": "2023-02-18T14:48:15.258Z"
   },
   {
    "duration": 571,
    "start_time": "2023-02-18T14:48:15.761Z"
   },
   {
    "duration": 173,
    "start_time": "2023-02-18T14:48:16.334Z"
   },
   {
    "duration": 208,
    "start_time": "2023-02-18T14:48:16.509Z"
   },
   {
    "duration": 39,
    "start_time": "2023-02-18T14:48:16.719Z"
   },
   {
    "duration": 89,
    "start_time": "2023-02-18T14:48:16.761Z"
   },
   {
    "duration": 24,
    "start_time": "2023-02-18T14:48:16.852Z"
   },
   {
    "duration": 333,
    "start_time": "2023-02-18T14:48:16.878Z"
   },
   {
    "duration": 22,
    "start_time": "2023-02-18T14:48:17.213Z"
   },
   {
    "duration": 13,
    "start_time": "2023-02-18T14:48:17.237Z"
   },
   {
    "duration": 44,
    "start_time": "2023-02-18T14:48:17.252Z"
   },
   {
    "duration": 393,
    "start_time": "2023-02-18T14:48:17.298Z"
   },
   {
    "duration": 17,
    "start_time": "2023-02-18T14:48:17.693Z"
   },
   {
    "duration": 217,
    "start_time": "2023-02-18T14:48:17.712Z"
   },
   {
    "duration": 47,
    "start_time": "2023-02-18T14:48:17.931Z"
   },
   {
    "duration": 83,
    "start_time": "2023-02-18T14:48:17.980Z"
   },
   {
    "duration": 16,
    "start_time": "2023-02-18T14:48:18.065Z"
   },
   {
    "duration": 223,
    "start_time": "2023-02-18T14:48:18.083Z"
   },
   {
    "duration": 384,
    "start_time": "2023-02-18T14:48:18.308Z"
   },
   {
    "duration": 303,
    "start_time": "2023-02-18T14:48:18.693Z"
   },
   {
    "duration": 28,
    "start_time": "2023-02-18T14:48:18.999Z"
   },
   {
    "duration": 38,
    "start_time": "2023-02-18T14:48:19.029Z"
   },
   {
    "duration": 240,
    "start_time": "2023-02-18T14:48:19.069Z"
   },
   {
    "duration": 20,
    "start_time": "2023-02-18T14:48:19.313Z"
   },
   {
    "duration": 60,
    "start_time": "2023-02-18T14:48:19.335Z"
   },
   {
    "duration": 84,
    "start_time": "2023-02-18T14:48:19.397Z"
   },
   {
    "duration": 70,
    "start_time": "2023-02-18T14:48:19.483Z"
   },
   {
    "duration": 28,
    "start_time": "2023-02-18T14:48:19.555Z"
   },
   {
    "duration": 166,
    "start_time": "2023-02-18T14:48:19.585Z"
   },
   {
    "duration": 1253,
    "start_time": "2023-02-18T14:48:19.752Z"
   },
   {
    "duration": 761,
    "start_time": "2023-02-18T14:48:21.007Z"
   },
   {
    "duration": 184,
    "start_time": "2023-02-18T14:48:21.770Z"
   },
   {
    "duration": 1600,
    "start_time": "2023-02-18T14:48:21.956Z"
   },
   {
    "duration": 1555,
    "start_time": "2023-02-18T14:49:00.188Z"
   },
   {
    "duration": 1000,
    "start_time": "2023-02-18T14:49:01.745Z"
   },
   {
    "duration": 7,
    "start_time": "2023-02-18T14:49:02.746Z"
   },
   {
    "duration": 690,
    "start_time": "2023-02-18T14:49:02.754Z"
   },
   {
    "duration": 496,
    "start_time": "2023-02-18T14:49:03.447Z"
   },
   {
    "duration": 599,
    "start_time": "2023-02-18T14:49:03.944Z"
   },
   {
    "duration": 174,
    "start_time": "2023-02-18T14:49:04.547Z"
   },
   {
    "duration": 221,
    "start_time": "2023-02-18T14:49:04.728Z"
   },
   {
    "duration": 35,
    "start_time": "2023-02-18T14:49:04.951Z"
   },
   {
    "duration": 106,
    "start_time": "2023-02-18T14:49:04.987Z"
   },
   {
    "duration": 24,
    "start_time": "2023-02-18T14:49:05.095Z"
   },
   {
    "duration": 366,
    "start_time": "2023-02-18T14:49:05.128Z"
   },
   {
    "duration": 18,
    "start_time": "2023-02-18T14:49:05.496Z"
   },
   {
    "duration": 10,
    "start_time": "2023-02-18T14:49:05.528Z"
   },
   {
    "duration": 48,
    "start_time": "2023-02-18T14:49:05.543Z"
   },
   {
    "duration": 383,
    "start_time": "2023-02-18T14:49:05.593Z"
   },
   {
    "duration": 16,
    "start_time": "2023-02-18T14:49:05.978Z"
   },
   {
    "duration": 259,
    "start_time": "2023-02-18T14:49:05.996Z"
   },
   {
    "duration": 45,
    "start_time": "2023-02-18T14:49:06.257Z"
   },
   {
    "duration": 59,
    "start_time": "2023-02-18T14:49:06.304Z"
   },
   {
    "duration": 17,
    "start_time": "2023-02-18T14:49:06.365Z"
   },
   {
    "duration": 257,
    "start_time": "2023-02-18T14:49:06.384Z"
   },
   {
    "duration": 214,
    "start_time": "2023-02-18T14:49:06.646Z"
   },
   {
    "duration": 316,
    "start_time": "2023-02-18T14:49:06.862Z"
   },
   {
    "duration": 16,
    "start_time": "2023-02-18T14:49:07.180Z"
   },
   {
    "duration": 52,
    "start_time": "2023-02-18T14:49:07.198Z"
   },
   {
    "duration": 263,
    "start_time": "2023-02-18T14:49:07.252Z"
   },
   {
    "duration": 34,
    "start_time": "2023-02-18T14:49:07.516Z"
   },
   {
    "duration": 84,
    "start_time": "2023-02-18T14:49:07.552Z"
   },
   {
    "duration": 64,
    "start_time": "2023-02-18T14:49:07.643Z"
   },
   {
    "duration": 60,
    "start_time": "2023-02-18T14:49:07.708Z"
   },
   {
    "duration": 27,
    "start_time": "2023-02-18T14:49:07.770Z"
   },
   {
    "duration": 1279,
    "start_time": "2023-02-18T14:49:07.799Z"
   },
   {
    "duration": 841,
    "start_time": "2023-02-18T14:49:09.080Z"
   },
   {
    "duration": 188,
    "start_time": "2023-02-18T14:49:09.923Z"
   },
   {
    "duration": 1665,
    "start_time": "2023-02-18T14:49:10.114Z"
   },
   {
    "duration": 33245,
    "start_time": "2023-02-18T14:49:11.781Z"
   },
   {
    "duration": 92,
    "start_time": "2023-02-18T14:49:45.040Z"
   },
   {
    "duration": 261737,
    "start_time": "2023-02-18T14:49:45.138Z"
   },
   {
    "duration": 1611,
    "start_time": "2023-02-18T14:54:06.876Z"
   },
   {
    "duration": 697,
    "start_time": "2023-02-18T14:54:08.491Z"
   },
   {
    "duration": 54480,
    "start_time": "2023-02-18T14:54:09.190Z"
   },
   {
    "duration": 2835,
    "start_time": "2023-02-18T14:55:03.671Z"
   },
   {
    "duration": 48520,
    "start_time": "2023-02-18T14:55:06.508Z"
   },
   {
    "duration": 532,
    "start_time": "2023-02-18T14:55:55.030Z"
   },
   {
    "duration": 8782,
    "start_time": "2023-02-18T14:55:55.564Z"
   },
   {
    "duration": 37,
    "start_time": "2023-02-18T14:56:04.348Z"
   },
   {
    "duration": 13,
    "start_time": "2023-02-18T14:56:04.386Z"
   },
   {
    "duration": 10949,
    "start_time": "2023-02-18T14:56:04.401Z"
   },
   {
    "duration": 33,
    "start_time": "2023-02-18T14:56:15.352Z"
   },
   {
    "duration": 321,
    "start_time": "2023-02-18T14:56:15.386Z"
   },
   {
    "duration": 1215,
    "start_time": "2023-02-19T09:18:27.697Z"
   },
   {
    "duration": 1268,
    "start_time": "2023-02-19T09:18:28.914Z"
   },
   {
    "duration": 3,
    "start_time": "2023-02-19T09:18:30.184Z"
   },
   {
    "duration": 23,
    "start_time": "2023-02-19T09:18:30.189Z"
   },
   {
    "duration": 18,
    "start_time": "2023-02-19T09:18:30.215Z"
   },
   {
    "duration": 37,
    "start_time": "2023-02-19T09:18:30.234Z"
   },
   {
    "duration": 44,
    "start_time": "2023-02-19T09:18:30.273Z"
   },
   {
    "duration": 33,
    "start_time": "2023-02-19T09:18:30.319Z"
   },
   {
    "duration": 218,
    "start_time": "2023-02-19T09:18:30.354Z"
   },
   {
    "duration": 5,
    "start_time": "2023-02-19T09:18:30.574Z"
   },
   {
    "duration": 39,
    "start_time": "2023-02-19T09:18:30.581Z"
   },
   {
    "duration": 38,
    "start_time": "2023-02-19T09:18:30.622Z"
   },
   {
    "duration": 142,
    "start_time": "2023-02-19T09:18:30.662Z"
   },
   {
    "duration": 4,
    "start_time": "2023-02-19T09:18:30.807Z"
   },
   {
    "duration": 44,
    "start_time": "2023-02-19T09:18:30.813Z"
   },
   {
    "duration": 15,
    "start_time": "2023-02-19T09:18:30.859Z"
   },
   {
    "duration": 106,
    "start_time": "2023-02-19T09:18:30.876Z"
   },
   {
    "duration": 3,
    "start_time": "2023-02-19T09:18:30.985Z"
   },
   {
    "duration": 214,
    "start_time": "2023-02-19T09:18:30.989Z"
   },
   {
    "duration": 5,
    "start_time": "2023-02-19T09:18:31.205Z"
   },
   {
    "duration": 43,
    "start_time": "2023-02-19T09:18:31.212Z"
   },
   {
    "duration": 19,
    "start_time": "2023-02-19T09:18:31.257Z"
   },
   {
    "duration": 254,
    "start_time": "2023-02-19T09:18:31.278Z"
   },
   {
    "duration": 148,
    "start_time": "2023-02-19T09:18:31.534Z"
   },
   {
    "duration": 128,
    "start_time": "2023-02-19T09:18:31.684Z"
   },
   {
    "duration": 5,
    "start_time": "2023-02-19T09:18:31.814Z"
   },
   {
    "duration": 28,
    "start_time": "2023-02-19T09:18:31.821Z"
   },
   {
    "duration": 128,
    "start_time": "2023-02-19T09:18:31.855Z"
   },
   {
    "duration": 4,
    "start_time": "2023-02-19T09:18:31.985Z"
   },
   {
    "duration": 23,
    "start_time": "2023-02-19T09:18:31.991Z"
   },
   {
    "duration": 44,
    "start_time": "2023-02-19T09:18:32.016Z"
   },
   {
    "duration": 6,
    "start_time": "2023-02-19T09:18:32.061Z"
   },
   {
    "duration": 15,
    "start_time": "2023-02-19T09:18:32.069Z"
   },
   {
    "duration": 29,
    "start_time": "2023-02-19T09:18:32.086Z"
   },
   {
    "duration": 139,
    "start_time": "2023-02-19T09:18:32.117Z"
   },
   {
    "duration": 0,
    "start_time": "2023-02-19T09:18:32.259Z"
   },
   {
    "duration": 0,
    "start_time": "2023-02-19T09:18:32.260Z"
   },
   {
    "duration": 0,
    "start_time": "2023-02-19T09:18:32.261Z"
   },
   {
    "duration": 0,
    "start_time": "2023-02-19T09:18:32.263Z"
   },
   {
    "duration": 0,
    "start_time": "2023-02-19T09:18:32.265Z"
   },
   {
    "duration": 0,
    "start_time": "2023-02-19T09:18:32.265Z"
   },
   {
    "duration": 0,
    "start_time": "2023-02-19T09:18:32.267Z"
   },
   {
    "duration": 0,
    "start_time": "2023-02-19T09:18:32.267Z"
   },
   {
    "duration": 0,
    "start_time": "2023-02-19T09:18:32.268Z"
   },
   {
    "duration": 0,
    "start_time": "2023-02-19T09:18:32.269Z"
   },
   {
    "duration": 0,
    "start_time": "2023-02-19T09:18:32.270Z"
   },
   {
    "duration": 0,
    "start_time": "2023-02-19T09:18:32.271Z"
   },
   {
    "duration": 0,
    "start_time": "2023-02-19T09:18:32.272Z"
   },
   {
    "duration": 0,
    "start_time": "2023-02-19T09:18:32.273Z"
   },
   {
    "duration": 0,
    "start_time": "2023-02-19T09:18:32.274Z"
   },
   {
    "duration": 0,
    "start_time": "2023-02-19T09:18:32.275Z"
   },
   {
    "duration": 0,
    "start_time": "2023-02-19T09:18:32.276Z"
   },
   {
    "duration": 23,
    "start_time": "2023-02-19T09:19:55.904Z"
   },
   {
    "duration": 33,
    "start_time": "2023-02-19T09:19:55.929Z"
   },
   {
    "duration": 22,
    "start_time": "2023-02-19T09:19:55.965Z"
   },
   {
    "duration": 456,
    "start_time": "2023-02-19T09:19:55.989Z"
   },
   {
    "duration": 92,
    "start_time": "2023-02-19T09:19:56.448Z"
   },
   {
    "duration": 1055,
    "start_time": "2023-02-19T09:19:56.545Z"
   },
   {
    "duration": 13,
    "start_time": "2023-02-19T09:19:57.602Z"
   },
   {
    "duration": 31,
    "start_time": "2023-02-19T09:19:57.617Z"
   },
   {
    "duration": 225,
    "start_time": "2023-02-19T09:19:57.657Z"
   },
   {
    "duration": 18,
    "start_time": "2023-02-19T09:19:57.884Z"
   },
   {
    "duration": 238184,
    "start_time": "2023-02-19T09:19:57.903Z"
   },
   {
    "duration": 150,
    "start_time": "2023-02-19T09:23:56.090Z"
   },
   {
    "duration": 2404,
    "start_time": "2023-02-19T09:23:56.245Z"
   },
   {
    "duration": 20,
    "start_time": "2023-02-19T09:23:58.654Z"
   },
   {
    "duration": 74,
    "start_time": "2023-02-19T09:23:58.678Z"
   },
   {
    "duration": 2248,
    "start_time": "2023-02-19T09:23:58.766Z"
   },
   {
    "duration": 36,
    "start_time": "2023-02-19T09:24:01.017Z"
   },
   {
    "duration": 691,
    "start_time": "2023-02-19T09:24:01.056Z"
   },
   {
    "duration": 1633,
    "start_time": "2023-02-19T09:32:46.666Z"
   },
   {
    "duration": 25,
    "start_time": "2023-02-19T09:33:00.855Z"
   },
   {
    "duration": 11,
    "start_time": "2023-02-19T09:33:04.267Z"
   },
   {
    "duration": 10,
    "start_time": "2023-02-19T09:33:08.702Z"
   },
   {
    "duration": 8,
    "start_time": "2023-02-20T08:37:16.477Z"
   },
   {
    "duration": 4,
    "start_time": "2023-02-20T08:37:31.433Z"
   },
   {
    "duration": 4,
    "start_time": "2023-02-20T08:37:45.564Z"
   },
   {
    "duration": 4,
    "start_time": "2023-02-20T08:38:37.880Z"
   },
   {
    "duration": 71,
    "start_time": "2023-02-20T08:39:04.250Z"
   },
   {
    "duration": 3,
    "start_time": "2023-02-20T08:39:12.021Z"
   },
   {
    "duration": 4,
    "start_time": "2023-02-20T08:41:04.364Z"
   },
   {
    "duration": 4,
    "start_time": "2023-02-20T08:54:58.670Z"
   },
   {
    "duration": 2065,
    "start_time": "2023-03-27T15:28:24.996Z"
   },
   {
    "duration": 2972,
    "start_time": "2023-03-27T15:28:27.063Z"
   },
   {
    "duration": 7,
    "start_time": "2023-03-27T15:28:30.037Z"
   },
   {
    "duration": 666,
    "start_time": "2023-03-27T15:28:30.047Z"
   },
   {
    "duration": 470,
    "start_time": "2023-03-27T15:28:30.715Z"
   },
   {
    "duration": 560,
    "start_time": "2023-03-27T15:28:31.187Z"
   },
   {
    "duration": 158,
    "start_time": "2023-03-27T15:28:31.749Z"
   },
   {
    "duration": 218,
    "start_time": "2023-03-27T15:28:31.909Z"
   },
   {
    "duration": 33,
    "start_time": "2023-03-27T15:28:32.128Z"
   },
   {
    "duration": 94,
    "start_time": "2023-03-27T15:28:32.164Z"
   },
   {
    "duration": 40,
    "start_time": "2023-03-27T15:28:32.260Z"
   },
   {
    "duration": 403,
    "start_time": "2023-03-27T15:28:32.301Z"
   },
   {
    "duration": 22,
    "start_time": "2023-03-27T15:28:32.706Z"
   },
   {
    "duration": 28,
    "start_time": "2023-03-27T15:28:32.730Z"
   },
   {
    "duration": 59,
    "start_time": "2023-03-27T15:28:32.760Z"
   },
   {
    "duration": 377,
    "start_time": "2023-03-27T15:28:32.821Z"
   },
   {
    "duration": 20,
    "start_time": "2023-03-27T15:28:33.200Z"
   },
   {
    "duration": 201,
    "start_time": "2023-03-27T15:28:33.221Z"
   },
   {
    "duration": 42,
    "start_time": "2023-03-27T15:28:33.424Z"
   },
   {
    "duration": 54,
    "start_time": "2023-03-27T15:28:33.468Z"
   },
   {
    "duration": 70,
    "start_time": "2023-03-27T15:28:33.524Z"
   },
   {
    "duration": 246,
    "start_time": "2023-03-27T15:28:33.596Z"
   },
   {
    "duration": 244,
    "start_time": "2023-03-27T15:28:33.843Z"
   },
   {
    "duration": 332,
    "start_time": "2023-03-27T15:28:34.088Z"
   },
   {
    "duration": 18,
    "start_time": "2023-03-27T15:28:34.422Z"
   },
   {
    "duration": 65,
    "start_time": "2023-03-27T15:28:34.441Z"
   },
   {
    "duration": 343,
    "start_time": "2023-03-27T15:28:34.508Z"
   },
   {
    "duration": 32,
    "start_time": "2023-03-27T15:28:34.855Z"
   },
   {
    "duration": 107,
    "start_time": "2023-03-27T15:28:34.889Z"
   },
   {
    "duration": 126,
    "start_time": "2023-03-27T15:28:34.998Z"
   },
   {
    "duration": 59,
    "start_time": "2023-03-27T15:28:35.125Z"
   },
   {
    "duration": 26,
    "start_time": "2023-03-27T15:28:35.186Z"
   },
   {
    "duration": 1388,
    "start_time": "2023-03-27T15:28:35.213Z"
   },
   {
    "duration": 817,
    "start_time": "2023-03-27T15:28:36.603Z"
   },
   {
    "duration": 203,
    "start_time": "2023-03-27T15:28:37.421Z"
   },
   {
    "duration": 1590,
    "start_time": "2023-03-27T15:28:37.626Z"
   },
   {
    "duration": 21467,
    "start_time": "2023-03-27T15:28:39.217Z"
   },
   {
    "duration": 107,
    "start_time": "2023-03-27T15:29:00.686Z"
   },
   {
    "duration": 265200,
    "start_time": "2023-03-27T15:29:00.795Z"
   },
   {
    "duration": 1631,
    "start_time": "2023-03-27T15:33:25.996Z"
   },
   {
    "duration": 764,
    "start_time": "2023-03-27T15:33:27.629Z"
   },
   {
    "duration": 54155,
    "start_time": "2023-03-27T15:33:28.395Z"
   },
   {
    "duration": 2521,
    "start_time": "2023-03-27T15:34:22.552Z"
   },
   {
    "duration": 247510,
    "start_time": "2023-03-27T15:34:25.074Z"
   },
   {
    "duration": 512,
    "start_time": "2023-03-27T15:38:32.587Z"
   },
   {
    "duration": 8977,
    "start_time": "2023-03-27T15:38:33.101Z"
   },
   {
    "duration": 41,
    "start_time": "2023-03-27T15:38:42.080Z"
   },
   {
    "duration": 9,
    "start_time": "2023-03-27T15:38:42.123Z"
   },
   {
    "duration": 10730,
    "start_time": "2023-03-27T15:38:42.134Z"
   },
   {
    "duration": 35,
    "start_time": "2023-03-27T15:38:52.866Z"
   },
   {
    "duration": 372,
    "start_time": "2023-03-27T15:38:52.903Z"
   }
  ],
  "kernelspec": {
   "display_name": "Python 3 (ipykernel)",
   "language": "python",
   "name": "python3"
  },
  "language_info": {
   "codemirror_mode": {
    "name": "ipython",
    "version": 3
   },
   "file_extension": ".py",
   "mimetype": "text/x-python",
   "name": "python",
   "nbconvert_exporter": "python",
   "pygments_lexer": "ipython3",
   "version": "3.9.5"
  },
  "toc": {
   "base_numbering": 1,
   "nav_menu": {},
   "number_sections": true,
   "sideBar": true,
   "skip_h1_title": true,
   "title_cell": "Table of Contents",
   "title_sidebar": "Contents",
   "toc_cell": false,
   "toc_position": {},
   "toc_section_display": true,
   "toc_window_display": false
  }
 },
 "nbformat": 4,
 "nbformat_minor": 2
}
