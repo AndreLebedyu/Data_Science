{
 "cells": [
  {
   "cell_type": "markdown",
   "metadata": {
    "toc": true
   },
   "source": [
    "<h1>Содержание<span class=\"tocSkip\"></span></h1>\n",
    "<div class=\"toc\"><ul class=\"toc-item\"><li><span><a href=\"#Подготовка\" data-toc-modified-id=\"Подготовка-1\"><span class=\"toc-item-num\">1&nbsp;&nbsp;</span>Подготовка</a></span></li><li><span><a href=\"#Анализ\" data-toc-modified-id=\"Анализ-2\"><span class=\"toc-item-num\">2&nbsp;&nbsp;</span>Анализ</a></span></li><li><span><a href=\"#Обучение\" data-toc-modified-id=\"Обучение-3\"><span class=\"toc-item-num\">3&nbsp;&nbsp;</span>Обучение</a></span></li><li><span><a href=\"#Тестирование\" data-toc-modified-id=\"Тестирование-4\"><span class=\"toc-item-num\">4&nbsp;&nbsp;</span>Тестирование</a></span></li></ul></div>"
   ]
  },
  {
   "cell_type": "markdown",
   "metadata": {},
   "source": [
    "#  Прогнозирование заказов такси"
   ]
  },
  {
   "cell_type": "markdown",
   "metadata": {},
   "source": [
    "Компания «Чётенькое такси» собрала исторические данные о заказах такси в аэропортах. Чтобы привлекать больше водителей в период пиковой нагрузки, нужно спрогнозировать количество заказов такси на следующий час. Постройте модель для такого предсказания.\n",
    "\n",
    "Значение метрики *RMSE* на тестовой выборке должно быть не больше 48.\n",
    "\n",
    "Вам нужно:\n",
    "\n",
    "1. Загрузить данные и выполнить их ресемплирование по одному часу.\n",
    "2. Проанализировать данные.\n",
    "3. Обучить разные модели с различными гиперпараметрами. Сделать тестовую выборку размером 10% от исходных данных.\n",
    "4. Проверить данные на тестовой выборке и сделать выводы.\n",
    "\n",
    "\n",
    "Данные лежат в файле `taxi.csv`. Количество заказов находится в столбце `num_orders` (от англ. *number of orders*, «число заказов»)."
   ]
  },
  {
   "cell_type": "markdown",
   "metadata": {},
   "source": [
    "## Подготовка"
   ]
  },
  {
   "cell_type": "markdown",
   "metadata": {},
   "source": [
    "Начнем работу с импорта необходимых для работы библиотек"
   ]
  },
  {
   "cell_type": "code",
   "execution_count": 1,
   "metadata": {},
   "outputs": [],
   "source": [
    "import pandas as pd\n",
    "import matplotlib.pyplot as plt\n",
    "\n",
    "from statsmodels.tsa.seasonal import seasonal_decompose\n",
    "from sklearn.model_selection import train_test_split\n",
    "from sklearn.metrics import mean_squared_error\n",
    "from sklearn.linear_model import LinearRegression\n",
    "from sklearn.tree import DecisionTreeClassifier\n",
    "from sklearn.ensemble import RandomForestRegressor\n",
    "from catboost import CatBoostRegressor"
   ]
  },
  {
   "cell_type": "markdown",
   "metadata": {},
   "source": [
    "Откроем датасет, выведем первые несколько строк датасета, а также выведем информацию о нем"
   ]
  },
  {
   "cell_type": "code",
   "execution_count": 2,
   "metadata": {
    "scrolled": true
   },
   "outputs": [
    {
     "data": {
      "text/html": [
       "<div>\n",
       "<style scoped>\n",
       "    .dataframe tbody tr th:only-of-type {\n",
       "        vertical-align: middle;\n",
       "    }\n",
       "\n",
       "    .dataframe tbody tr th {\n",
       "        vertical-align: top;\n",
       "    }\n",
       "\n",
       "    .dataframe thead th {\n",
       "        text-align: right;\n",
       "    }\n",
       "</style>\n",
       "<table border=\"1\" class=\"dataframe\">\n",
       "  <thead>\n",
       "    <tr style=\"text-align: right;\">\n",
       "      <th></th>\n",
       "      <th>datetime</th>\n",
       "      <th>num_orders</th>\n",
       "    </tr>\n",
       "  </thead>\n",
       "  <tbody>\n",
       "    <tr>\n",
       "      <th>0</th>\n",
       "      <td>2018-03-01 00:00:00</td>\n",
       "      <td>9</td>\n",
       "    </tr>\n",
       "    <tr>\n",
       "      <th>1</th>\n",
       "      <td>2018-03-01 00:10:00</td>\n",
       "      <td>14</td>\n",
       "    </tr>\n",
       "    <tr>\n",
       "      <th>2</th>\n",
       "      <td>2018-03-01 00:20:00</td>\n",
       "      <td>28</td>\n",
       "    </tr>\n",
       "    <tr>\n",
       "      <th>3</th>\n",
       "      <td>2018-03-01 00:30:00</td>\n",
       "      <td>20</td>\n",
       "    </tr>\n",
       "    <tr>\n",
       "      <th>4</th>\n",
       "      <td>2018-03-01 00:40:00</td>\n",
       "      <td>32</td>\n",
       "    </tr>\n",
       "    <tr>\n",
       "      <th>5</th>\n",
       "      <td>2018-03-01 00:50:00</td>\n",
       "      <td>21</td>\n",
       "    </tr>\n",
       "    <tr>\n",
       "      <th>6</th>\n",
       "      <td>2018-03-01 01:00:00</td>\n",
       "      <td>7</td>\n",
       "    </tr>\n",
       "    <tr>\n",
       "      <th>7</th>\n",
       "      <td>2018-03-01 01:10:00</td>\n",
       "      <td>5</td>\n",
       "    </tr>\n",
       "    <tr>\n",
       "      <th>8</th>\n",
       "      <td>2018-03-01 01:20:00</td>\n",
       "      <td>17</td>\n",
       "    </tr>\n",
       "    <tr>\n",
       "      <th>9</th>\n",
       "      <td>2018-03-01 01:30:00</td>\n",
       "      <td>12</td>\n",
       "    </tr>\n",
       "  </tbody>\n",
       "</table>\n",
       "</div>"
      ],
      "text/plain": [
       "              datetime  num_orders\n",
       "0  2018-03-01 00:00:00           9\n",
       "1  2018-03-01 00:10:00          14\n",
       "2  2018-03-01 00:20:00          28\n",
       "3  2018-03-01 00:30:00          20\n",
       "4  2018-03-01 00:40:00          32\n",
       "5  2018-03-01 00:50:00          21\n",
       "6  2018-03-01 01:00:00           7\n",
       "7  2018-03-01 01:10:00           5\n",
       "8  2018-03-01 01:20:00          17\n",
       "9  2018-03-01 01:30:00          12"
      ]
     },
     "metadata": {},
     "output_type": "display_data"
    },
    {
     "name": "stdout",
     "output_type": "stream",
     "text": [
      "<class 'pandas.core.frame.DataFrame'>\n",
      "RangeIndex: 26496 entries, 0 to 26495\n",
      "Data columns (total 2 columns):\n",
      " #   Column      Non-Null Count  Dtype \n",
      "---  ------      --------------  ----- \n",
      " 0   datetime    26496 non-null  object\n",
      " 1   num_orders  26496 non-null  int64 \n",
      "dtypes: int64(1), object(1)\n",
      "memory usage: 414.1+ KB\n"
     ]
    }
   ],
   "source": [
    "data = pd.read_csv('/datasets/taxi.csv')\n",
    "display(data.head(10))\n",
    "data.info()"
   ]
  },
  {
   "cell_type": "markdown",
   "metadata": {},
   "source": [
    "Как мы видим пропуски отсутствуют. Поменяем формат времени в столбце 'datetime' с object на datetime64 и установим индекс таблицы равным столбцу 'datetime'"
   ]
  },
  {
   "cell_type": "code",
   "execution_count": 3,
   "metadata": {},
   "outputs": [],
   "source": [
    "data['datetime'] = data['datetime'].astype('datetime64')"
   ]
  },
  {
   "cell_type": "code",
   "execution_count": 4,
   "metadata": {},
   "outputs": [],
   "source": [
    "data = data.set_index('datetime')"
   ]
  },
  {
   "cell_type": "markdown",
   "metadata": {},
   "source": [
    "Проверим, в хронологическом ли порядке расположены даты и время"
   ]
  },
  {
   "cell_type": "code",
   "execution_count": 5,
   "metadata": {},
   "outputs": [
    {
     "name": "stdout",
     "output_type": "stream",
     "text": [
      "True\n"
     ]
    }
   ],
   "source": [
    "data = data.sort_index(ascending=True)\n",
    "print(data.index.is_monotonic)"
   ]
  },
  {
   "cell_type": "markdown",
   "metadata": {},
   "source": [
    "Данные расположены в хронологическом порядке. Выполним ресемплирование по одному часу и посчитаем суммы заказов за каждый час"
   ]
  },
  {
   "cell_type": "code",
   "execution_count": 6,
   "metadata": {},
   "outputs": [
    {
     "data": {
      "text/html": [
       "<div>\n",
       "<style scoped>\n",
       "    .dataframe tbody tr th:only-of-type {\n",
       "        vertical-align: middle;\n",
       "    }\n",
       "\n",
       "    .dataframe tbody tr th {\n",
       "        vertical-align: top;\n",
       "    }\n",
       "\n",
       "    .dataframe thead th {\n",
       "        text-align: right;\n",
       "    }\n",
       "</style>\n",
       "<table border=\"1\" class=\"dataframe\">\n",
       "  <thead>\n",
       "    <tr style=\"text-align: right;\">\n",
       "      <th></th>\n",
       "      <th>num_orders</th>\n",
       "    </tr>\n",
       "    <tr>\n",
       "      <th>datetime</th>\n",
       "      <th></th>\n",
       "    </tr>\n",
       "  </thead>\n",
       "  <tbody>\n",
       "    <tr>\n",
       "      <th>2018-03-01 00:00:00</th>\n",
       "      <td>124</td>\n",
       "    </tr>\n",
       "    <tr>\n",
       "      <th>2018-03-01 01:00:00</th>\n",
       "      <td>85</td>\n",
       "    </tr>\n",
       "    <tr>\n",
       "      <th>2018-03-01 02:00:00</th>\n",
       "      <td>71</td>\n",
       "    </tr>\n",
       "    <tr>\n",
       "      <th>2018-03-01 03:00:00</th>\n",
       "      <td>66</td>\n",
       "    </tr>\n",
       "    <tr>\n",
       "      <th>2018-03-01 04:00:00</th>\n",
       "      <td>43</td>\n",
       "    </tr>\n",
       "    <tr>\n",
       "      <th>2018-03-01 05:00:00</th>\n",
       "      <td>6</td>\n",
       "    </tr>\n",
       "    <tr>\n",
       "      <th>2018-03-01 06:00:00</th>\n",
       "      <td>12</td>\n",
       "    </tr>\n",
       "    <tr>\n",
       "      <th>2018-03-01 07:00:00</th>\n",
       "      <td>15</td>\n",
       "    </tr>\n",
       "    <tr>\n",
       "      <th>2018-03-01 08:00:00</th>\n",
       "      <td>34</td>\n",
       "    </tr>\n",
       "    <tr>\n",
       "      <th>2018-03-01 09:00:00</th>\n",
       "      <td>69</td>\n",
       "    </tr>\n",
       "  </tbody>\n",
       "</table>\n",
       "</div>"
      ],
      "text/plain": [
       "                     num_orders\n",
       "datetime                       \n",
       "2018-03-01 00:00:00         124\n",
       "2018-03-01 01:00:00          85\n",
       "2018-03-01 02:00:00          71\n",
       "2018-03-01 03:00:00          66\n",
       "2018-03-01 04:00:00          43\n",
       "2018-03-01 05:00:00           6\n",
       "2018-03-01 06:00:00          12\n",
       "2018-03-01 07:00:00          15\n",
       "2018-03-01 08:00:00          34\n",
       "2018-03-01 09:00:00          69"
      ]
     },
     "metadata": {},
     "output_type": "display_data"
    }
   ],
   "source": [
    "data = data.resample('1H').sum()\n",
    "display(data.head(10))"
   ]
  },
  {
   "cell_type": "markdown",
   "metadata": {},
   "source": [
    "Построим график временного ряда"
   ]
  },
  {
   "cell_type": "code",
   "execution_count": 7,
   "metadata": {
    "scrolled": false
   },
   "outputs": [
    {
     "data": {
      "image/png": "[encoded data removed]",
      "text/plain": [
       "<Figure size 1080x504 with 1 Axes>"
      ]
     },
     "metadata": {
      "needs_background": "light"
     },
     "output_type": "display_data"
    }
   ],
   "source": [
    "plt.figure(figsize=(15, 7))\n",
    "data.plot(ax=plt.gca())\n",
    "plt.title('График заказов такси в аэропортах по времени')\n",
    "plt.ylabel('Количество заказов')\n",
    "plt.xlabel('Дата')\n",
    "plt.show()"
   ]
  },
  {
   "cell_type": "markdown",
   "metadata": {},
   "source": [
    "<b>Вывод: </b> Мы оценили исходный датасет, узнали его размер, поменяли формат необходимых столбцов, оценили пропуски, проверили хронологический ли у нас порядок, выполнили ресемплирование и построили график временного ряда"
   ]
  },
  {
   "cell_type": "markdown",
   "metadata": {},
   "source": [
    "## Анализ"
   ]
  },
  {
   "cell_type": "markdown",
   "metadata": {},
   "source": [
    "Чтобы лучше понимать временной ряд оценим тренды и сезонность в нем, а также построим графики составляющих нашего временного ряда"
   ]
  },
  {
   "cell_type": "code",
   "execution_count": 8,
   "metadata": {},
   "outputs": [],
   "source": [
    "decomposed = seasonal_decompose(data)"
   ]
  },
  {
   "cell_type": "code",
   "execution_count": 9,
   "metadata": {},
   "outputs": [
    {
     "data": {
      "image/png": "[encoded data removed]",
      "text/plain": [
       "<Figure size 1008x432 with 1 Axes>"
      ]
     },
     "metadata": {
      "needs_background": "light"
     },
     "output_type": "display_data"
    }
   ],
   "source": [
    "plt.figure(figsize=(14, 6))\n",
    "decomposed.trend.plot(ax=plt.gca())\n",
    "plt.title('Trend')\n",
    "plt.ylabel('Количество заказов')\n",
    "plt.xlabel('Дата')\n",
    "plt.show()"
   ]
  },
  {
   "cell_type": "code",
   "execution_count": 10,
   "metadata": {},
   "outputs": [
    {
     "data": {
      "image/png": "[encoded data removed]",
      "text/plain": [
       "<Figure size 1008x432 with 1 Axes>"
      ]
     },
     "metadata": {
      "needs_background": "light"
     },
     "output_type": "display_data"
    }
   ],
   "source": [
    "plt.figure(figsize=(14, 6))\n",
    "decomposed.seasonal.plot(ax=plt.gca())\n",
    "plt.title('Seasonality')\n",
    "plt.show()"
   ]
  },
  {
   "cell_type": "code",
   "execution_count": 11,
   "metadata": {},
   "outputs": [
    {
     "data": {
      "image/png": "[encoded data removed]",
      "text/plain": [
       "<Figure size 1008x432 with 1 Axes>"
      ]
     },
     "metadata": {
      "needs_background": "light"
     },
     "output_type": "display_data"
    }
   ],
   "source": [
    "plt.figure(figsize=(14, 6))\n",
    "decomposed.resid.plot(ax=plt.gca())\n",
    "plt.title('Residuals')\n",
    "plt.show()"
   ]
  },
  {
   "cell_type": "markdown",
   "metadata": {},
   "source": [
    "Как мы видим трендом является постепенный рост заказов за все время наблюдения"
   ]
  },
  {
   "cell_type": "markdown",
   "metadata": {},
   "source": [
    "Чтобы сделать какие-то выводы о сезонности рассмотрим отрезок в 5 дней и 2 дня в рандомном месте нашего временного ряда"
   ]
  },
  {
   "cell_type": "code",
   "execution_count": 12,
   "metadata": {},
   "outputs": [
    {
     "data": {
      "image/png": "[encoded data removed]",
      "text/plain": [
       "<Figure size 1008x432 with 1 Axes>"
      ]
     },
     "metadata": {
      "needs_background": "light"
     },
     "output_type": "display_data"
    }
   ],
   "source": [
    "plt.figure(figsize=(14, 6))\n",
    "decomposed.seasonal['2018-04-15':'2018-04-20'].plot(ax=plt.gca())\n",
    "plt.title('Seasonality')\n",
    "plt.show()"
   ]
  },
  {
   "cell_type": "code",
   "execution_count": 13,
   "metadata": {
    "scrolled": true
   },
   "outputs": [
    {
     "data": {
      "image/png": "[encoded data removed]",
      "text/plain": [
       "<Figure size 1008x432 with 1 Axes>"
      ]
     },
     "metadata": {
      "needs_background": "light"
     },
     "output_type": "display_data"
    }
   ],
   "source": [
    "plt.figure(figsize=(14, 6))\n",
    "decomposed.seasonal['2018-06-10':'2018-06-11'].plot(ax=plt.gca())\n",
    "plt.title('Seasonality')\n",
    "plt.show()"
   ]
  },
  {
   "cell_type": "markdown",
   "metadata": {},
   "source": [
    "Как мы видим наибольшее количество заказов наблюдается в районе 00:00, наименьшее в районе 06:00 "
   ]
  },
  {
   "cell_type": "markdown",
   "metadata": {},
   "source": [
    "Перед тем как заниматься обучением моделей нам необходимо создать признаки для прогнозирования и сделать разделение датасета на выборки.\n",
    "Начнем с создания функции побавляющей признаки следующих типов:\n",
    "- календарные признаки (представим дату, день недели и время как отдельные столбцы)\n",
    "- \"отстающие\" значения (предыдущие значения временного ряда подскажут, будет ли наша функция расти или уменьшаться)\n",
    "- скользящее среднее (задаёт общий тренд временного ряда)"
   ]
  },
  {
   "cell_type": "code",
   "execution_count": 14,
   "metadata": {},
   "outputs": [],
   "source": [
    "def make_features(data, max_lag, rolling_mean_size):\n",
    "    data['day'] = data.index.day\n",
    "    data['dayofweek'] = data.index.dayofweek\n",
    "    data['hour'] = data.index.hour\n",
    "    \n",
    "    for lag in range(1, max_lag + 1):\n",
    "        data['lag_{}'.format(lag)] = data['num_orders'].shift(lag)\n",
    "\n",
    "    data['rolling_mean'] = data['num_orders'].shift().rolling(rolling_mean_size).mean()"
   ]
  },
  {
   "cell_type": "markdown",
   "metadata": {},
   "source": [
    "Выбираем значения аргументов исходя из сезонности (в дальнейшем мы можем менять их для изменения качества)"
   ]
  },
  {
   "cell_type": "code",
   "execution_count": 15,
   "metadata": {},
   "outputs": [],
   "source": [
    "make_features(data, 77, 24)"
   ]
  },
  {
   "cell_type": "code",
   "execution_count": 16,
   "metadata": {},
   "outputs": [
    {
     "data": {
      "image/png": "[encoded data removed]",
      "text/plain": [
       "<Figure size 1332x432 with 1 Axes>"
      ]
     },
     "metadata": {
      "needs_background": "light"
     },
     "output_type": "display_data"
    }
   ],
   "source": [
    "from statsmodels.graphics import tsaplots\n",
    "\n",
    "fig = tsaplots.plot_acf(data['num_orders'],lags= 90)\n",
    "fig.set_size_inches(18.5, 6)\n",
    "plt.ylim(-.1, 1.1)\n",
    "plt.show() "
   ]
  },
  {
   "cell_type": "markdown",
   "metadata": {},
   "source": [
    "Далее разобьем данные на выборки: выделим 10% данных для тестовой выборки, остальные 90% — для обучающей и валидационной. А также из обучающей и валидационной выборки удалим строки с пропусками."
   ]
  },
  {
   "cell_type": "code",
   "execution_count": 17,
   "metadata": {},
   "outputs": [],
   "source": [
    "data_train_valid, data_test = train_test_split(data, test_size=0.1, shuffle=False, random_state=12345)\n",
    "data_train_valid = data_train_valid.dropna()"
   ]
  },
  {
   "cell_type": "markdown",
   "metadata": {},
   "source": [
    "Далее из обучающей и валидационной выборок выделим каждую из них по отдельности. На валидационную выделим 25%, а на обучающую 75%"
   ]
  },
  {
   "cell_type": "code",
   "execution_count": 18,
   "metadata": {},
   "outputs": [],
   "source": [
    "data_train, data_valid = train_test_split(data_train_valid, test_size=0.25, shuffle=False, random_state=12345)"
   ]
  },
  {
   "cell_type": "markdown",
   "metadata": {},
   "source": [
    "Целевым признаком в нашем датасете является столбец \"num_orders\" - именно в нем содержится информацию о количестве заказов и его нам необходимо будет предсказывать. Остальные столбцы датасета будут признаками. Создадим переменные для признаков и целевого признака для каждой выборки"
   ]
  },
  {
   "cell_type": "code",
   "execution_count": 19,
   "metadata": {},
   "outputs": [],
   "source": [
    "features_train = data_train.drop(['num_orders'], axis=1)\n",
    "target_train = data_train['num_orders']\n",
    "features_valid = data_valid.drop(['num_orders'], axis=1)\n",
    "target_valid = data_valid['num_orders']\n",
    "features_test = data_test.drop(['num_orders'], axis=1)\n",
    "target_test = data_test['num_orders']"
   ]
  },
  {
   "cell_type": "markdown",
   "metadata": {},
   "source": [
    "Выведем размеры получившихся выборок, чтобы удостовериться, что мы сделали правильное разбиение"
   ]
  },
  {
   "cell_type": "code",
   "execution_count": 20,
   "metadata": {},
   "outputs": [
    {
     "name": "stdout",
     "output_type": "stream",
     "text": [
      "(2922, 81)\n",
      "(2922,)\n",
      "(975, 81)\n",
      "(975,)\n",
      "(442, 81)\n",
      "(442,)\n"
     ]
    }
   ],
   "source": [
    "print(features_train.shape)\n",
    "print(target_train.shape)\n",
    "print(features_valid.shape)\n",
    "print(target_valid.shape)\n",
    "print(features_test.shape)\n",
    "print(target_test.shape)"
   ]
  },
  {
   "cell_type": "markdown",
   "metadata": {},
   "source": [
    "Как мы видим необходимые пропорции при разделении датасетов на выборки получены - теперь можно обучать модель"
   ]
  },
  {
   "cell_type": "markdown",
   "metadata": {},
   "source": [
    "<b>Вывод: </b> мы проанализировали исходный датасет, оценили тренды и сезонность в нем, построили соответствующие графики, создали признаки для прогнозирования и сделали разделение датасета на выборки."
   ]
  },
  {
   "cell_type": "markdown",
   "metadata": {},
   "source": [
    "## Обучение"
   ]
  },
  {
   "cell_type": "markdown",
   "metadata": {},
   "source": [
    "Применим модель \"Линейная регрессия\" и вычислим RMSE"
   ]
  },
  {
   "cell_type": "code",
   "execution_count": 21,
   "metadata": {
    "scrolled": true
   },
   "outputs": [
    {
     "name": "stdout",
     "output_type": "stream",
     "text": [
      "RMSE Линейной регрессии: 28.978168128310607\n"
     ]
    }
   ],
   "source": [
    "model = LinearRegression()\n",
    "model.fit(features_train, target_train)\n",
    "predictions = model.predict(features_valid)\n",
    "mse = mean_squared_error(target_valid, predictions)\n",
    "rmse = mse ** 0.5\n",
    "print('RMSE Линейной регрессии:', rmse)"
   ]
  },
  {
   "cell_type": "markdown",
   "metadata": {},
   "source": [
    "Применим модель \"Дерево решений\": подберем наилучшие параметры и вычислим RMSE"
   ]
  },
  {
   "cell_type": "code",
   "execution_count": 22,
   "metadata": {},
   "outputs": [
    {
     "name": "stdout",
     "output_type": "stream",
     "text": [
      "Параметры наилучшей модели: DecisionTreeClassifier(max_depth=7, min_samples_leaf=6, random_state=12345)\n",
      "RMSE лучшей модели 'Дерево решений': 37.90066639019046\n"
     ]
    }
   ],
   "source": [
    "best_model = None\n",
    "best_rmse = 100\n",
    "for i in range(2, 15):\n",
    "    for j in range(2,15):\n",
    "            model = DecisionTreeClassifier(random_state=12345, max_depth=i, min_samples_leaf=j)\n",
    "            model.fit(features_train, target_train)\n",
    "            predictions = model.predict(features_valid)\n",
    "            mse = mean_squared_error(target_valid, predictions)\n",
    "            rmse = mse ** 0.5\n",
    "            if rmse < best_rmse:\n",
    "                best_model = model\n",
    "                best_rmse = rmse\n",
    "print(\"Параметры наилучшей модели:\", best_model)\n",
    "print(\"RMSE лучшей модели 'Дерево решений':\", best_rmse)"
   ]
  },
  {
   "cell_type": "markdown",
   "metadata": {},
   "source": [
    "Применим модель \"Случайный лес\": подберем наилучшие параметры и вычислим RMSE"
   ]
  },
  {
   "cell_type": "code",
   "execution_count": 23,
   "metadata": {},
   "outputs": [
    {
     "name": "stdout",
     "output_type": "stream",
     "text": [
      "Параметры наилучшей модели: RandomForestRegressor(max_depth=9, n_estimators=40, random_state=12345)\n",
      "RMSE лучшей модели 'Дерево решений': 30.02405402066251\n"
     ]
    }
   ],
   "source": [
    "best_model = None\n",
    "best_rmse = 100\n",
    "for i in range(10, 50, 10):\n",
    "    for j in range(2, 10):\n",
    "            model = RandomForestRegressor(random_state=12345, n_estimators=i, max_depth=j)\n",
    "            model.fit(features_train, target_train)\n",
    "            predictions = model.predict(features_valid)\n",
    "            mse = mean_squared_error(target_valid, predictions)\n",
    "            rmse = mse ** 0.5\n",
    "            if rmse < best_rmse:\n",
    "                best_model = model\n",
    "                best_rmse = rmse\n",
    "print(\"Параметры наилучшей модели:\", best_model)\n",
    "print(\"RMSE лучшей модели 'Дерево решений':\", best_rmse)"
   ]
  },
  {
   "cell_type": "markdown",
   "metadata": {},
   "source": [
    "Применим модель \"CatBoost\""
   ]
  },
  {
   "cell_type": "code",
   "execution_count": 24,
   "metadata": {
    "scrolled": true
   },
   "outputs": [
    {
     "name": "stdout",
     "output_type": "stream",
     "text": [
      "Learning rate set to 0.12908\n",
      "0:\tlearn: 31.7988000\ttotal: 66.5ms\tremaining: 19.9s\n",
      "30:\tlearn: 18.9835300\ttotal: 500ms\tremaining: 4.34s\n",
      "60:\tlearn: 17.1437543\ttotal: 928ms\tremaining: 3.64s\n",
      "90:\tlearn: 15.5418383\ttotal: 1.34s\tremaining: 3.08s\n",
      "120:\tlearn: 14.1935002\ttotal: 1.78s\tremaining: 2.64s\n",
      "150:\tlearn: 13.0713456\ttotal: 2.22s\tremaining: 2.19s\n",
      "180:\tlearn: 12.1263961\ttotal: 2.64s\tremaining: 1.74s\n",
      "210:\tlearn: 11.1785348\ttotal: 3.09s\tremaining: 1.3s\n",
      "240:\tlearn: 10.3238392\ttotal: 3.53s\tremaining: 864ms\n",
      "270:\tlearn: 9.6551882\ttotal: 4s\tremaining: 428ms\n",
      "299:\tlearn: 9.0084136\ttotal: 4.42s\tremaining: 0us\n",
      "RMSE модели \"CatBoost\": 29.84477723174986\n"
     ]
    }
   ],
   "source": [
    "model =  CatBoostRegressor(iterations=300)\n",
    "model.fit(features_train, target_train, verbose=30)\n",
    "predictions = model.predict(features_valid)\n",
    "mse = mean_squared_error(target_valid, predictions)\n",
    "rmse = mse ** 0.5\n",
    "print('RMSE модели \"CatBoost\":', rmse)"
   ]
  },
  {
   "cell_type": "markdown",
   "metadata": {},
   "source": [
    "<b>Вывод: </b> Нами было использовано 4 модели:\n",
    "- все модели обеспечили требуемое нам значение RMSE (<48);\n",
    "- наилучшее значение метрики RMSE показала модель \"CatBoost\" и \"Линейная регрессия\", далее \"Случайный лес\", выполняющийся дольше\n",
    "\n",
    "Проанализировав вышесказанное, мы можем прийти к выводу, что нам наиболее подойдет модель \"CatBoost\" - ее мы и будем использовать для тестовой выборки"
   ]
  },
  {
   "cell_type": "markdown",
   "metadata": {},
   "source": [
    "## Тестирование"
   ]
  },
  {
   "cell_type": "markdown",
   "metadata": {},
   "source": [
    "Проверим нашу наилучшую модель на тестовой выборке. Перед этим объединим обучающую и валидационную выборки для обучения нашей модели"
   ]
  },
  {
   "cell_type": "code",
   "execution_count": 25,
   "metadata": {},
   "outputs": [],
   "source": [
    "features_tr_vl = pd.concat([features_train, features_valid])\n",
    "target_tr_vl = pd.concat([target_train, target_valid])"
   ]
  },
  {
   "cell_type": "markdown",
   "metadata": {},
   "source": [
    "Проведем проверку нашей модели 'CatBoost'"
   ]
  },
  {
   "cell_type": "code",
   "execution_count": 26,
   "metadata": {
    "scrolled": true
   },
   "outputs": [
    {
     "name": "stdout",
     "output_type": "stream",
     "text": [
      "Learning rate set to 0.135088\n",
      "0:\tlearn: 36.2077023\ttotal: 23.5ms\tremaining: 7.03s\n",
      "30:\tlearn: 21.2750076\ttotal: 527ms\tremaining: 4.57s\n",
      "60:\tlearn: 19.5825997\ttotal: 1.03s\tremaining: 4.04s\n",
      "90:\tlearn: 17.7872979\ttotal: 1.56s\tremaining: 3.58s\n",
      "120:\tlearn: 16.5444921\ttotal: 2.05s\tremaining: 3.04s\n",
      "150:\tlearn: 15.4276921\ttotal: 2.54s\tremaining: 2.51s\n",
      "180:\tlearn: 14.3975102\ttotal: 3.04s\tremaining: 2s\n",
      "210:\tlearn: 13.4315998\ttotal: 3.55s\tremaining: 1.5s\n",
      "240:\tlearn: 12.5721230\ttotal: 4.07s\tremaining: 997ms\n",
      "270:\tlearn: 11.7883252\ttotal: 4.6s\tremaining: 493ms\n",
      "299:\tlearn: 11.0948002\ttotal: 5.11s\tremaining: 0us\n",
      "RMSE модели \"CatBoost\": 38.269749822533356\n"
     ]
    }
   ],
   "source": [
    "model =  CatBoostRegressor(iterations=300)\n",
    "model.fit(features_tr_vl, target_tr_vl, verbose=30)\n",
    "predictions = model.predict(features_test)\n",
    "mse = mean_squared_error(target_test, predictions)\n",
    "rmse = mse ** 0.5\n",
    "print('RMSE модели \"CatBoost\":', rmse)"
   ]
  },
  {
   "cell_type": "markdown",
   "metadata": {},
   "source": [
    "Как мы видим нам удалось достичь требуемого значения RMSE для модели 'CatBoost' на тестовой выборке."
   ]
  },
  {
   "cell_type": "markdown",
   "metadata": {},
   "source": [
    "<b>Вывод: </b> нами был обработан исходный датасет, выполнено ресемплирование и проанализированы признаки, оценены тренды и сезонность, подготовлено и протестировано несколько моделей. Выбрав модель 'CatBoost', показавшую наилучшее значение RMSE на валидационной выборке и проверив ее на тестовой выборке нам удалось достичь требуемого значения RMSE. Таким образом наша модель сможет спрогнозировать количество заказов такси в аэропортах для привлечения необходимого числа водителей"
   ]
  }
 ],
 "metadata": {
  "ExecuteTimeLog": [
   {
    "duration": 389,
    "start_time": "2023-02-28T11:16:16.002Z"
   },
   {
    "duration": 143,
    "start_time": "2023-02-28T11:17:01.834Z"
   },
   {
    "duration": 8,
    "start_time": "2023-02-28T11:28:41.165Z"
   },
   {
    "duration": 4,
    "start_time": "2023-02-28T11:31:58.284Z"
   },
   {
    "duration": 4,
    "start_time": "2023-02-28T11:31:58.865Z"
   },
   {
    "duration": 4,
    "start_time": "2023-02-28T11:32:35.762Z"
   },
   {
    "duration": 1093,
    "start_time": "2023-02-28T11:34:35.158Z"
   },
   {
    "duration": 3,
    "start_time": "2023-02-28T11:35:15.359Z"
   },
   {
    "duration": 580,
    "start_time": "2023-02-28T11:35:36.819Z"
   },
   {
    "duration": 6,
    "start_time": "2023-02-28T11:37:49.459Z"
   },
   {
    "duration": 66,
    "start_time": "2023-02-28T11:38:52.377Z"
   },
   {
    "duration": 7,
    "start_time": "2023-02-28T11:39:05.315Z"
   },
   {
    "duration": 2,
    "start_time": "2023-02-28T11:39:25.660Z"
   },
   {
    "duration": 56,
    "start_time": "2023-02-28T11:39:27.037Z"
   },
   {
    "duration": 9,
    "start_time": "2023-02-28T11:39:30.434Z"
   },
   {
    "duration": 4,
    "start_time": "2023-02-28T11:39:31.278Z"
   },
   {
    "duration": 4,
    "start_time": "2023-02-28T11:39:32.526Z"
   },
   {
    "duration": 7,
    "start_time": "2023-02-28T11:39:34.016Z"
   },
   {
    "duration": 196,
    "start_time": "2023-02-28T11:42:17.585Z"
   },
   {
    "duration": 219,
    "start_time": "2023-02-28T11:42:30.166Z"
   },
   {
    "duration": 211,
    "start_time": "2023-02-28T11:46:24.034Z"
   },
   {
    "duration": 300,
    "start_time": "2023-02-28T11:46:51.042Z"
   },
   {
    "duration": 205,
    "start_time": "2023-02-28T11:47:01.941Z"
   },
   {
    "duration": 201,
    "start_time": "2023-02-28T11:47:30.432Z"
   },
   {
    "duration": 144,
    "start_time": "2023-02-28T11:47:37.369Z"
   },
   {
    "duration": 171,
    "start_time": "2023-02-28T11:47:47.563Z"
   },
   {
    "duration": 181,
    "start_time": "2023-02-28T11:47:59.381Z"
   },
   {
    "duration": 164,
    "start_time": "2023-02-28T11:48:08.770Z"
   },
   {
    "duration": 195,
    "start_time": "2023-02-28T11:48:14.670Z"
   },
   {
    "duration": 177,
    "start_time": "2023-02-28T11:48:20.859Z"
   },
   {
    "duration": 178,
    "start_time": "2023-02-28T11:48:27.120Z"
   },
   {
    "duration": 181,
    "start_time": "2023-02-28T11:49:43.162Z"
   },
   {
    "duration": 173,
    "start_time": "2023-02-28T11:49:48.832Z"
   },
   {
    "duration": 634,
    "start_time": "2023-02-28T12:38:08.487Z"
   },
   {
    "duration": 59,
    "start_time": "2023-02-28T12:38:09.123Z"
   },
   {
    "duration": 9,
    "start_time": "2023-02-28T12:38:09.183Z"
   },
   {
    "duration": 13,
    "start_time": "2023-02-28T12:38:09.194Z"
   },
   {
    "duration": 6,
    "start_time": "2023-02-28T12:38:09.209Z"
   },
   {
    "duration": 13,
    "start_time": "2023-02-28T12:38:09.217Z"
   },
   {
    "duration": 255,
    "start_time": "2023-02-28T12:38:09.232Z"
   },
   {
    "duration": 473,
    "start_time": "2023-02-28T12:41:34.571Z"
   },
   {
    "duration": 7,
    "start_time": "2023-02-28T12:42:03.573Z"
   },
   {
    "duration": 420,
    "start_time": "2023-02-28T12:42:55.220Z"
   },
   {
    "duration": 270,
    "start_time": "2023-02-28T12:43:06.400Z"
   },
   {
    "duration": 277,
    "start_time": "2023-02-28T12:44:27.971Z"
   },
   {
    "duration": 206,
    "start_time": "2023-02-28T12:44:42.071Z"
   },
   {
    "duration": 204,
    "start_time": "2023-02-28T12:44:59.675Z"
   },
   {
    "duration": 266,
    "start_time": "2023-02-28T12:45:38.500Z"
   },
   {
    "duration": 208,
    "start_time": "2023-02-28T12:45:42.912Z"
   },
   {
    "duration": 382,
    "start_time": "2023-02-28T12:47:52.671Z"
   },
   {
    "duration": 491,
    "start_time": "2023-02-28T12:48:01.384Z"
   },
   {
    "duration": 225,
    "start_time": "2023-02-28T12:48:12.835Z"
   },
   {
    "duration": 219,
    "start_time": "2023-02-28T12:48:22.870Z"
   },
   {
    "duration": 159,
    "start_time": "2023-02-28T12:56:35.203Z"
   },
   {
    "duration": 164,
    "start_time": "2023-02-28T12:56:51.994Z"
   },
   {
    "duration": 162,
    "start_time": "2023-02-28T12:57:00.495Z"
   },
   {
    "duration": 144,
    "start_time": "2023-02-28T12:57:08.294Z"
   },
   {
    "duration": 154,
    "start_time": "2023-02-28T12:58:23.085Z"
   },
   {
    "duration": 163,
    "start_time": "2023-02-28T12:58:29.385Z"
   },
   {
    "duration": 148,
    "start_time": "2023-02-28T12:58:36.503Z"
   },
   {
    "duration": 263,
    "start_time": "2023-02-28T12:58:51.007Z"
   },
   {
    "duration": 161,
    "start_time": "2023-02-28T13:02:18.239Z"
   },
   {
    "duration": 144,
    "start_time": "2023-02-28T13:02:28.114Z"
   },
   {
    "duration": 142,
    "start_time": "2023-02-28T13:02:38.884Z"
   },
   {
    "duration": 137,
    "start_time": "2023-02-28T13:02:44.814Z"
   },
   {
    "duration": 147,
    "start_time": "2023-02-28T13:02:58.186Z"
   },
   {
    "duration": 163,
    "start_time": "2023-02-28T13:03:38.740Z"
   },
   {
    "duration": 163,
    "start_time": "2023-02-28T13:03:58.703Z"
   },
   {
    "duration": 154,
    "start_time": "2023-02-28T13:04:31.087Z"
   },
   {
    "duration": 186,
    "start_time": "2023-02-28T13:04:53.237Z"
   },
   {
    "duration": 1369,
    "start_time": "2023-02-28T15:49:24.811Z"
   },
   {
    "duration": 197,
    "start_time": "2023-02-28T15:49:26.182Z"
   },
   {
    "duration": 27,
    "start_time": "2023-02-28T15:49:26.380Z"
   },
   {
    "duration": 22,
    "start_time": "2023-02-28T15:49:26.408Z"
   },
   {
    "duration": 6,
    "start_time": "2023-02-28T15:49:26.432Z"
   },
   {
    "duration": 10,
    "start_time": "2023-02-28T15:49:26.439Z"
   },
   {
    "duration": 314,
    "start_time": "2023-02-28T15:49:26.451Z"
   },
   {
    "duration": 8,
    "start_time": "2023-02-28T15:49:26.767Z"
   },
   {
    "duration": 392,
    "start_time": "2023-02-28T15:49:26.777Z"
   },
   {
    "duration": 353,
    "start_time": "2023-02-28T15:49:27.172Z"
   },
   {
    "duration": 286,
    "start_time": "2023-02-28T15:49:27.527Z"
   },
   {
    "duration": 192,
    "start_time": "2023-02-28T15:49:27.815Z"
   },
   {
    "duration": 239,
    "start_time": "2023-02-28T15:49:28.014Z"
   },
   {
    "duration": 17,
    "start_time": "2023-02-28T16:07:01.784Z"
   },
   {
    "duration": 8,
    "start_time": "2023-02-28T16:07:21.514Z"
   },
   {
    "duration": 11,
    "start_time": "2023-02-28T16:07:51.173Z"
   },
   {
    "duration": 18,
    "start_time": "2023-02-28T16:07:58.543Z"
   },
   {
    "duration": 21,
    "start_time": "2023-02-28T16:08:07.943Z"
   },
   {
    "duration": 22,
    "start_time": "2023-02-28T16:08:13.773Z"
   },
   {
    "duration": 11,
    "start_time": "2023-02-28T16:08:18.444Z"
   },
   {
    "duration": 13,
    "start_time": "2023-02-28T16:08:38.432Z"
   },
   {
    "duration": 13,
    "start_time": "2023-02-28T16:08:43.416Z"
   },
   {
    "duration": 1153,
    "start_time": "2023-02-28T16:08:53.163Z"
   },
   {
    "duration": 56,
    "start_time": "2023-02-28T16:08:54.318Z"
   },
   {
    "duration": 9,
    "start_time": "2023-02-28T16:08:54.376Z"
   },
   {
    "duration": 24,
    "start_time": "2023-02-28T16:08:54.387Z"
   },
   {
    "duration": 11,
    "start_time": "2023-02-28T16:08:54.414Z"
   },
   {
    "duration": 12,
    "start_time": "2023-02-28T16:08:54.426Z"
   },
   {
    "duration": 279,
    "start_time": "2023-02-28T16:08:54.440Z"
   },
   {
    "duration": 10,
    "start_time": "2023-02-28T16:08:54.721Z"
   },
   {
    "duration": 293,
    "start_time": "2023-02-28T16:08:54.733Z"
   },
   {
    "duration": 356,
    "start_time": "2023-02-28T16:08:55.028Z"
   },
   {
    "duration": 257,
    "start_time": "2023-02-28T16:08:55.393Z"
   },
   {
    "duration": 214,
    "start_time": "2023-02-28T16:08:55.651Z"
   },
   {
    "duration": 246,
    "start_time": "2023-02-28T16:08:55.867Z"
   },
   {
    "duration": 5,
    "start_time": "2023-02-28T16:08:56.115Z"
   },
   {
    "duration": 21,
    "start_time": "2023-02-28T16:08:56.122Z"
   },
   {
    "duration": 15,
    "start_time": "2023-02-28T16:09:29.121Z"
   },
   {
    "duration": 4,
    "start_time": "2023-02-28T16:11:19.958Z"
   },
   {
    "duration": 11,
    "start_time": "2023-02-28T16:11:20.751Z"
   },
   {
    "duration": 5,
    "start_time": "2023-02-28T16:12:54.320Z"
   },
   {
    "duration": 13,
    "start_time": "2023-02-28T16:12:57.948Z"
   },
   {
    "duration": 4,
    "start_time": "2023-02-28T16:16:55.834Z"
   },
   {
    "duration": 254,
    "start_time": "2023-02-28T16:29:59.854Z"
   },
   {
    "duration": 6,
    "start_time": "2023-02-28T16:30:09.079Z"
   },
   {
    "duration": 12,
    "start_time": "2023-02-28T16:30:10.279Z"
   },
   {
    "duration": 6,
    "start_time": "2023-02-28T16:30:11.601Z"
   },
   {
    "duration": 9,
    "start_time": "2023-02-28T16:41:43.662Z"
   },
   {
    "duration": 18,
    "start_time": "2023-02-28T16:45:52.994Z"
   },
   {
    "duration": 5,
    "start_time": "2023-02-28T16:45:54.456Z"
   },
   {
    "duration": 7,
    "start_time": "2023-02-28T16:45:55.466Z"
   },
   {
    "duration": 8,
    "start_time": "2023-02-28T16:45:56.476Z"
   },
   {
    "duration": 23,
    "start_time": "2023-02-28T16:45:57.176Z"
   },
   {
    "duration": 9,
    "start_time": "2023-02-28T17:01:32.305Z"
   },
   {
    "duration": 7,
    "start_time": "2023-02-28T17:03:14.316Z"
   },
   {
    "duration": 5,
    "start_time": "2023-02-28T17:03:15.406Z"
   },
   {
    "duration": 4,
    "start_time": "2023-02-28T17:03:16.465Z"
   },
   {
    "duration": 10,
    "start_time": "2023-02-28T17:04:16.347Z"
   },
   {
    "duration": 10,
    "start_time": "2023-02-28T17:04:44.058Z"
   },
   {
    "duration": 12,
    "start_time": "2023-02-28T17:04:48.887Z"
   },
   {
    "duration": 13,
    "start_time": "2023-02-28T17:04:50.326Z"
   },
   {
    "duration": 7,
    "start_time": "2023-02-28T17:05:18.446Z"
   },
   {
    "duration": 8,
    "start_time": "2023-02-28T17:05:31.797Z"
   },
   {
    "duration": 12,
    "start_time": "2023-02-28T17:05:35.359Z"
   },
   {
    "duration": 6,
    "start_time": "2023-02-28T17:09:13.573Z"
   },
   {
    "duration": 5,
    "start_time": "2023-02-28T17:09:14.426Z"
   },
   {
    "duration": 8,
    "start_time": "2023-02-28T17:09:15.507Z"
   },
   {
    "duration": 4,
    "start_time": "2023-02-28T17:09:25.659Z"
   },
   {
    "duration": 3,
    "start_time": "2023-02-28T17:09:43.365Z"
   },
   {
    "duration": 9,
    "start_time": "2023-02-28T17:09:52.867Z"
   },
   {
    "duration": 6,
    "start_time": "2023-02-28T17:09:54.106Z"
   },
   {
    "duration": 4,
    "start_time": "2023-02-28T17:09:55.246Z"
   },
   {
    "duration": 10,
    "start_time": "2023-02-28T17:10:10.467Z"
   },
   {
    "duration": 9,
    "start_time": "2023-02-28T17:10:11.165Z"
   },
   {
    "duration": 6,
    "start_time": "2023-02-28T17:10:12.065Z"
   },
   {
    "duration": 4,
    "start_time": "2023-02-28T17:10:12.517Z"
   },
   {
    "duration": 6,
    "start_time": "2023-02-28T17:10:27.874Z"
   },
   {
    "duration": 4,
    "start_time": "2023-02-28T17:10:28.667Z"
   },
   {
    "duration": 10,
    "start_time": "2023-02-28T17:10:29.391Z"
   },
   {
    "duration": 4,
    "start_time": "2023-02-28T17:10:30.004Z"
   },
   {
    "duration": 6,
    "start_time": "2023-02-28T17:10:43.727Z"
   },
   {
    "duration": 5,
    "start_time": "2023-02-28T17:10:44.376Z"
   },
   {
    "duration": 7,
    "start_time": "2023-02-28T17:10:45.048Z"
   },
   {
    "duration": 4,
    "start_time": "2023-02-28T17:10:45.497Z"
   },
   {
    "duration": 10,
    "start_time": "2023-02-28T17:11:02.458Z"
   },
   {
    "duration": 6,
    "start_time": "2023-02-28T17:11:03.207Z"
   },
   {
    "duration": 5,
    "start_time": "2023-02-28T17:11:03.767Z"
   },
   {
    "duration": 10,
    "start_time": "2023-02-28T17:11:11.713Z"
   },
   {
    "duration": 5,
    "start_time": "2023-02-28T17:11:12.308Z"
   },
   {
    "duration": 6,
    "start_time": "2023-02-28T17:11:13.007Z"
   },
   {
    "duration": 4,
    "start_time": "2023-02-28T17:11:13.347Z"
   },
   {
    "duration": 8,
    "start_time": "2023-02-28T17:11:18.906Z"
   },
   {
    "duration": 6,
    "start_time": "2023-02-28T17:11:19.797Z"
   },
   {
    "duration": 8,
    "start_time": "2023-02-28T17:12:22.785Z"
   },
   {
    "duration": 6,
    "start_time": "2023-02-28T17:12:24.099Z"
   },
   {
    "duration": 6,
    "start_time": "2023-02-28T17:12:25.106Z"
   },
   {
    "duration": 4,
    "start_time": "2023-02-28T17:15:35.200Z"
   },
   {
    "duration": 116,
    "start_time": "2023-02-28T17:27:33.199Z"
   },
   {
    "duration": 98,
    "start_time": "2023-02-28T17:28:02.119Z"
   },
   {
    "duration": 5,
    "start_time": "2023-02-28T17:28:21.538Z"
   },
   {
    "duration": 26,
    "start_time": "2023-02-28T17:28:30.960Z"
   },
   {
    "duration": 47,
    "start_time": "2023-02-28T17:30:53.733Z"
   },
   {
    "duration": 137,
    "start_time": "2023-02-28T17:31:07.148Z"
   },
   {
    "duration": 118,
    "start_time": "2023-02-28T17:31:17.601Z"
   },
   {
    "duration": 119,
    "start_time": "2023-02-28T17:31:40.411Z"
   },
   {
    "duration": 1839,
    "start_time": "2023-02-28T17:32:11.562Z"
   },
   {
    "duration": 1832,
    "start_time": "2023-02-28T17:32:20.133Z"
   },
   {
    "duration": 1880,
    "start_time": "2023-02-28T17:32:28.653Z"
   },
   {
    "duration": 1107,
    "start_time": "2023-02-28T17:33:46.744Z"
   },
   {
    "duration": 1023,
    "start_time": "2023-02-28T17:39:26.091Z"
   },
   {
    "duration": 959,
    "start_time": "2023-02-28T17:39:36.931Z"
   },
   {
    "duration": 583,
    "start_time": "2023-02-28T17:39:53.180Z"
   },
   {
    "duration": 1406,
    "start_time": "2023-02-28T17:39:58.711Z"
   },
   {
    "duration": 10918,
    "start_time": "2023-02-28T17:40:17.231Z"
   },
   {
    "duration": 1123,
    "start_time": "2023-02-28T17:40:42.139Z"
   },
   {
    "duration": 14,
    "start_time": "2023-02-28T17:41:06.641Z"
   },
   {
    "duration": 7,
    "start_time": "2023-02-28T17:41:07.731Z"
   },
   {
    "duration": 4,
    "start_time": "2023-02-28T17:41:08.723Z"
   },
   {
    "duration": 6,
    "start_time": "2023-02-28T17:41:09.681Z"
   },
   {
    "duration": 4,
    "start_time": "2023-02-28T17:41:11.051Z"
   },
   {
    "duration": 116,
    "start_time": "2023-02-28T17:41:18.474Z"
   },
   {
    "duration": 205,
    "start_time": "2023-02-28T17:41:23.141Z"
   },
   {
    "duration": 2899,
    "start_time": "2023-02-28T17:41:25.391Z"
   },
   {
    "duration": 2099,
    "start_time": "2023-02-28T17:41:31.731Z"
   },
   {
    "duration": 1350,
    "start_time": "2023-02-28T17:41:38.383Z"
   },
   {
    "duration": 10,
    "start_time": "2023-02-28T17:41:56.799Z"
   },
   {
    "duration": 7,
    "start_time": "2023-02-28T17:41:57.701Z"
   },
   {
    "duration": 4,
    "start_time": "2023-02-28T17:41:58.511Z"
   },
   {
    "duration": 7,
    "start_time": "2023-02-28T17:41:59.518Z"
   },
   {
    "duration": 5,
    "start_time": "2023-02-28T17:42:00.352Z"
   },
   {
    "duration": 18,
    "start_time": "2023-02-28T17:42:04.903Z"
   },
   {
    "duration": 206,
    "start_time": "2023-02-28T17:42:06.951Z"
   },
   {
    "duration": 2931,
    "start_time": "2023-02-28T17:42:10.669Z"
   },
   {
    "duration": 1398,
    "start_time": "2023-02-28T17:42:16.499Z"
   },
   {
    "duration": 1388,
    "start_time": "2023-02-28T17:42:22.952Z"
   },
   {
    "duration": 1323,
    "start_time": "2023-02-28T17:42:40.429Z"
   },
   {
    "duration": 56,
    "start_time": "2023-02-28T17:42:41.754Z"
   },
   {
    "duration": 9,
    "start_time": "2023-02-28T17:42:41.812Z"
   },
   {
    "duration": 5,
    "start_time": "2023-02-28T17:42:41.823Z"
   },
   {
    "duration": 5,
    "start_time": "2023-02-28T17:42:41.829Z"
   },
   {
    "duration": 9,
    "start_time": "2023-02-28T17:42:41.835Z"
   },
   {
    "duration": 286,
    "start_time": "2023-02-28T17:42:41.845Z"
   },
   {
    "duration": 8,
    "start_time": "2023-02-28T17:42:42.133Z"
   },
   {
    "duration": 260,
    "start_time": "2023-02-28T17:42:42.143Z"
   },
   {
    "duration": 334,
    "start_time": "2023-02-28T17:42:42.406Z"
   },
   {
    "duration": 252,
    "start_time": "2023-02-28T17:42:42.742Z"
   },
   {
    "duration": 165,
    "start_time": "2023-02-28T17:42:42.996Z"
   },
   {
    "duration": 176,
    "start_time": "2023-02-28T17:42:43.163Z"
   },
   {
    "duration": 4,
    "start_time": "2023-02-28T17:42:43.341Z"
   },
   {
    "duration": 21,
    "start_time": "2023-02-28T17:42:43.347Z"
   },
   {
    "duration": 21,
    "start_time": "2023-02-28T17:42:43.370Z"
   },
   {
    "duration": 4,
    "start_time": "2023-02-28T17:42:43.393Z"
   },
   {
    "duration": 8,
    "start_time": "2023-02-28T17:42:43.398Z"
   },
   {
    "duration": 6,
    "start_time": "2023-02-28T17:42:43.408Z"
   },
   {
    "duration": 71,
    "start_time": "2023-02-28T17:42:43.416Z"
   },
   {
    "duration": 457,
    "start_time": "2023-02-28T17:42:43.489Z"
   },
   {
    "duration": 5342,
    "start_time": "2023-02-28T17:42:43.947Z"
   },
   {
    "duration": 1877,
    "start_time": "2023-02-28T17:42:49.291Z"
   },
   {
    "duration": 1900,
    "start_time": "2023-02-28T17:42:51.170Z"
   },
   {
    "duration": 1329,
    "start_time": "2023-02-28T17:43:09.317Z"
   },
   {
    "duration": 55,
    "start_time": "2023-02-28T17:43:10.647Z"
   },
   {
    "duration": 8,
    "start_time": "2023-02-28T17:43:10.703Z"
   },
   {
    "duration": 7,
    "start_time": "2023-02-28T17:43:10.713Z"
   },
   {
    "duration": 12,
    "start_time": "2023-02-28T17:43:10.722Z"
   },
   {
    "duration": 7,
    "start_time": "2023-02-28T17:43:10.735Z"
   },
   {
    "duration": 268,
    "start_time": "2023-02-28T17:43:10.744Z"
   },
   {
    "duration": 7,
    "start_time": "2023-02-28T17:43:11.013Z"
   },
   {
    "duration": 244,
    "start_time": "2023-02-28T17:43:11.022Z"
   },
   {
    "duration": 336,
    "start_time": "2023-02-28T17:43:11.268Z"
   },
   {
    "duration": 408,
    "start_time": "2023-02-28T17:43:11.606Z"
   },
   {
    "duration": 380,
    "start_time": "2023-02-28T17:43:12.017Z"
   },
   {
    "duration": 332,
    "start_time": "2023-02-28T17:43:12.399Z"
   },
   {
    "duration": 5,
    "start_time": "2023-02-28T17:43:12.787Z"
   },
   {
    "duration": 17,
    "start_time": "2023-02-28T17:43:12.794Z"
   },
   {
    "duration": 8,
    "start_time": "2023-02-28T17:43:12.812Z"
   },
   {
    "duration": 5,
    "start_time": "2023-02-28T17:43:12.822Z"
   },
   {
    "duration": 58,
    "start_time": "2023-02-28T17:43:12.828Z"
   },
   {
    "duration": 9,
    "start_time": "2023-02-28T17:43:12.888Z"
   },
   {
    "duration": 88,
    "start_time": "2023-02-28T17:43:12.899Z"
   },
   {
    "duration": 408,
    "start_time": "2023-02-28T17:43:12.989Z"
   },
   {
    "duration": 2359,
    "start_time": "2023-02-28T17:43:13.399Z"
   },
   {
    "duration": 1261,
    "start_time": "2023-02-28T17:43:15.760Z"
   },
   {
    "duration": 1108,
    "start_time": "2023-02-28T17:43:17.022Z"
   },
   {
    "duration": 1466,
    "start_time": "2023-02-28T17:43:32.857Z"
   },
   {
    "duration": 95,
    "start_time": "2023-02-28T17:43:34.325Z"
   },
   {
    "duration": 9,
    "start_time": "2023-02-28T17:43:34.421Z"
   },
   {
    "duration": 56,
    "start_time": "2023-02-28T17:43:34.432Z"
   },
   {
    "duration": 10,
    "start_time": "2023-02-28T17:43:34.490Z"
   },
   {
    "duration": 9,
    "start_time": "2023-02-28T17:43:34.501Z"
   },
   {
    "duration": 513,
    "start_time": "2023-02-28T17:43:34.511Z"
   },
   {
    "duration": 7,
    "start_time": "2023-02-28T17:43:35.025Z"
   },
   {
    "duration": 490,
    "start_time": "2023-02-28T17:43:35.034Z"
   },
   {
    "duration": 634,
    "start_time": "2023-02-28T17:43:35.526Z"
   },
   {
    "duration": 244,
    "start_time": "2023-02-28T17:43:36.162Z"
   },
   {
    "duration": 166,
    "start_time": "2023-02-28T17:43:36.408Z"
   },
   {
    "duration": 167,
    "start_time": "2023-02-28T17:43:36.575Z"
   },
   {
    "duration": 4,
    "start_time": "2023-02-28T17:43:36.745Z"
   },
   {
    "duration": 19,
    "start_time": "2023-02-28T17:43:36.751Z"
   },
   {
    "duration": 18,
    "start_time": "2023-02-28T17:43:36.772Z"
   },
   {
    "duration": 4,
    "start_time": "2023-02-28T17:43:36.791Z"
   },
   {
    "duration": 7,
    "start_time": "2023-02-28T17:43:36.796Z"
   },
   {
    "duration": 5,
    "start_time": "2023-02-28T17:43:36.804Z"
   },
   {
    "duration": 177,
    "start_time": "2023-02-28T17:43:36.810Z"
   },
   {
    "duration": 323,
    "start_time": "2023-02-28T17:43:36.988Z"
   },
   {
    "duration": 3471,
    "start_time": "2023-02-28T17:43:37.312Z"
   },
   {
    "duration": 1574,
    "start_time": "2023-02-28T17:43:40.786Z"
   },
   {
    "duration": 1531,
    "start_time": "2023-02-28T17:43:42.362Z"
   },
   {
    "duration": 1341,
    "start_time": "2023-02-28T17:44:00.507Z"
   },
   {
    "duration": 56,
    "start_time": "2023-02-28T17:44:01.849Z"
   },
   {
    "duration": 9,
    "start_time": "2023-02-28T17:44:01.906Z"
   },
   {
    "duration": 18,
    "start_time": "2023-02-28T17:44:01.916Z"
   },
   {
    "duration": 17,
    "start_time": "2023-02-28T17:44:01.936Z"
   },
   {
    "duration": 17,
    "start_time": "2023-02-28T17:44:01.955Z"
   },
   {
    "duration": 273,
    "start_time": "2023-02-28T17:44:01.973Z"
   },
   {
    "duration": 7,
    "start_time": "2023-02-28T17:44:02.248Z"
   },
   {
    "duration": 256,
    "start_time": "2023-02-28T17:44:02.257Z"
   },
   {
    "duration": 349,
    "start_time": "2023-02-28T17:44:02.515Z"
   },
   {
    "duration": 258,
    "start_time": "2023-02-28T17:44:02.866Z"
   },
   {
    "duration": 172,
    "start_time": "2023-02-28T17:44:03.126Z"
   },
   {
    "duration": 171,
    "start_time": "2023-02-28T17:44:03.305Z"
   },
   {
    "duration": 8,
    "start_time": "2023-02-28T17:44:03.478Z"
   },
   {
    "duration": 19,
    "start_time": "2023-02-28T17:44:03.487Z"
   },
   {
    "duration": 7,
    "start_time": "2023-02-28T17:44:03.507Z"
   },
   {
    "duration": 4,
    "start_time": "2023-02-28T17:44:03.515Z"
   },
   {
    "duration": 6,
    "start_time": "2023-02-28T17:44:03.521Z"
   },
   {
    "duration": 6,
    "start_time": "2023-02-28T17:44:03.528Z"
   },
   {
    "duration": 152,
    "start_time": "2023-02-28T17:44:03.535Z"
   },
   {
    "duration": 251,
    "start_time": "2023-02-28T17:44:03.688Z"
   },
   {
    "duration": 3744,
    "start_time": "2023-02-28T17:44:03.940Z"
   },
   {
    "duration": 1408,
    "start_time": "2023-02-28T17:44:07.686Z"
   },
   {
    "duration": 1392,
    "start_time": "2023-02-28T17:44:09.095Z"
   },
   {
    "duration": 1550,
    "start_time": "2023-03-01T10:57:08.508Z"
   },
   {
    "duration": 174,
    "start_time": "2023-03-01T10:57:10.060Z"
   },
   {
    "duration": 9,
    "start_time": "2023-03-01T10:57:10.236Z"
   },
   {
    "duration": 7,
    "start_time": "2023-03-01T10:57:10.246Z"
   },
   {
    "duration": 18,
    "start_time": "2023-03-01T10:57:10.255Z"
   },
   {
    "duration": 14,
    "start_time": "2023-03-01T10:57:10.274Z"
   },
   {
    "duration": 275,
    "start_time": "2023-03-01T10:57:10.290Z"
   },
   {
    "duration": 7,
    "start_time": "2023-03-01T10:57:10.567Z"
   },
   {
    "duration": 240,
    "start_time": "2023-03-01T10:57:10.585Z"
   },
   {
    "duration": 349,
    "start_time": "2023-03-01T10:57:10.827Z"
   },
   {
    "duration": 230,
    "start_time": "2023-03-01T10:57:11.178Z"
   },
   {
    "duration": 162,
    "start_time": "2023-03-01T10:57:11.410Z"
   },
   {
    "duration": 166,
    "start_time": "2023-03-01T10:57:11.574Z"
   },
   {
    "duration": 4,
    "start_time": "2023-03-01T10:57:11.743Z"
   },
   {
    "duration": 29,
    "start_time": "2023-03-01T10:57:11.748Z"
   },
   {
    "duration": 7,
    "start_time": "2023-03-01T10:57:11.779Z"
   },
   {
    "duration": 16,
    "start_time": "2023-03-01T10:57:11.787Z"
   },
   {
    "duration": 19,
    "start_time": "2023-03-01T10:57:11.804Z"
   },
   {
    "duration": 4,
    "start_time": "2023-03-01T10:57:11.825Z"
   },
   {
    "duration": 156,
    "start_time": "2023-03-01T10:57:11.831Z"
   },
   {
    "duration": 310,
    "start_time": "2023-03-01T10:57:11.988Z"
   },
   {
    "duration": 2818,
    "start_time": "2023-03-01T10:57:12.299Z"
   },
   {
    "duration": 1517,
    "start_time": "2023-03-01T10:57:15.118Z"
   },
   {
    "duration": 1318,
    "start_time": "2023-03-01T10:57:16.636Z"
   },
   {
    "duration": 1337,
    "start_time": "2023-03-01T10:58:48.115Z"
   },
   {
    "duration": 51,
    "start_time": "2023-03-01T10:58:49.454Z"
   },
   {
    "duration": 10,
    "start_time": "2023-03-01T10:58:49.507Z"
   },
   {
    "duration": 5,
    "start_time": "2023-03-01T10:58:49.518Z"
   },
   {
    "duration": 5,
    "start_time": "2023-03-01T10:58:49.525Z"
   },
   {
    "duration": 9,
    "start_time": "2023-03-01T10:58:49.531Z"
   },
   {
    "duration": 264,
    "start_time": "2023-03-01T10:58:49.541Z"
   },
   {
    "duration": 6,
    "start_time": "2023-03-01T10:58:49.807Z"
   },
   {
    "duration": 239,
    "start_time": "2023-03-01T10:58:49.814Z"
   },
   {
    "duration": 321,
    "start_time": "2023-03-01T10:58:50.055Z"
   },
   {
    "duration": 237,
    "start_time": "2023-03-01T10:58:50.377Z"
   },
   {
    "duration": 162,
    "start_time": "2023-03-01T10:58:50.615Z"
   },
   {
    "duration": 171,
    "start_time": "2023-03-01T10:58:50.779Z"
   },
   {
    "duration": 4,
    "start_time": "2023-03-01T10:58:50.951Z"
   },
   {
    "duration": 32,
    "start_time": "2023-03-01T10:58:50.957Z"
   },
   {
    "duration": 6,
    "start_time": "2023-03-01T10:58:50.991Z"
   },
   {
    "duration": 9,
    "start_time": "2023-03-01T10:58:50.999Z"
   },
   {
    "duration": 7,
    "start_time": "2023-03-01T10:58:51.009Z"
   },
   {
    "duration": 5,
    "start_time": "2023-03-01T10:58:51.017Z"
   },
   {
    "duration": 164,
    "start_time": "2023-03-01T10:58:51.024Z"
   },
   {
    "duration": 414,
    "start_time": "2023-03-01T10:58:51.190Z"
   },
   {
    "duration": 4329,
    "start_time": "2023-03-01T10:58:51.606Z"
   },
   {
    "duration": 1975,
    "start_time": "2023-03-01T10:58:55.936Z"
   },
   {
    "duration": 1842,
    "start_time": "2023-03-01T10:58:57.912Z"
   },
   {
    "duration": 1339,
    "start_time": "2023-03-01T10:59:38.703Z"
   },
   {
    "duration": 53,
    "start_time": "2023-03-01T10:59:40.043Z"
   },
   {
    "duration": 9,
    "start_time": "2023-03-01T10:59:40.097Z"
   },
   {
    "duration": 5,
    "start_time": "2023-03-01T10:59:40.108Z"
   },
   {
    "duration": 7,
    "start_time": "2023-03-01T10:59:40.115Z"
   },
   {
    "duration": 9,
    "start_time": "2023-03-01T10:59:40.124Z"
   },
   {
    "duration": 273,
    "start_time": "2023-03-01T10:59:40.134Z"
   },
   {
    "duration": 7,
    "start_time": "2023-03-01T10:59:40.409Z"
   },
   {
    "duration": 247,
    "start_time": "2023-03-01T10:59:40.417Z"
   },
   {
    "duration": 357,
    "start_time": "2023-03-01T10:59:40.667Z"
   },
   {
    "duration": 231,
    "start_time": "2023-03-01T10:59:41.025Z"
   },
   {
    "duration": 161,
    "start_time": "2023-03-01T10:59:41.258Z"
   },
   {
    "duration": 176,
    "start_time": "2023-03-01T10:59:41.421Z"
   },
   {
    "duration": 5,
    "start_time": "2023-03-01T10:59:41.599Z"
   },
   {
    "duration": 12,
    "start_time": "2023-03-01T10:59:41.606Z"
   },
   {
    "duration": 7,
    "start_time": "2023-03-01T10:59:41.620Z"
   },
   {
    "duration": 3,
    "start_time": "2023-03-01T10:59:41.629Z"
   },
   {
    "duration": 7,
    "start_time": "2023-03-01T10:59:41.634Z"
   },
   {
    "duration": 6,
    "start_time": "2023-03-01T10:59:41.642Z"
   },
   {
    "duration": 39,
    "start_time": "2023-03-01T10:59:41.649Z"
   },
   {
    "duration": 116,
    "start_time": "2023-03-01T10:59:41.689Z"
   },
   {
    "duration": 871,
    "start_time": "2023-03-01T10:59:41.806Z"
   },
   {
    "duration": 735,
    "start_time": "2023-03-01T10:59:42.679Z"
   },
   {
    "duration": 672,
    "start_time": "2023-03-01T10:59:43.416Z"
   },
   {
    "duration": 1361,
    "start_time": "2023-03-01T11:00:17.111Z"
   },
   {
    "duration": 53,
    "start_time": "2023-03-01T11:00:18.474Z"
   },
   {
    "duration": 8,
    "start_time": "2023-03-01T11:00:18.529Z"
   },
   {
    "duration": 6,
    "start_time": "2023-03-01T11:00:18.539Z"
   },
   {
    "duration": 5,
    "start_time": "2023-03-01T11:00:18.546Z"
   },
   {
    "duration": 9,
    "start_time": "2023-03-01T11:00:18.552Z"
   },
   {
    "duration": 290,
    "start_time": "2023-03-01T11:00:18.562Z"
   },
   {
    "duration": 6,
    "start_time": "2023-03-01T11:00:18.854Z"
   },
   {
    "duration": 245,
    "start_time": "2023-03-01T11:00:18.862Z"
   },
   {
    "duration": 335,
    "start_time": "2023-03-01T11:00:19.109Z"
   },
   {
    "duration": 234,
    "start_time": "2023-03-01T11:00:19.446Z"
   },
   {
    "duration": 155,
    "start_time": "2023-03-01T11:00:19.682Z"
   },
   {
    "duration": 174,
    "start_time": "2023-03-01T11:00:19.839Z"
   },
   {
    "duration": 4,
    "start_time": "2023-03-01T11:00:20.015Z"
   },
   {
    "duration": 31,
    "start_time": "2023-03-01T11:00:20.020Z"
   },
   {
    "duration": 7,
    "start_time": "2023-03-01T11:00:20.053Z"
   },
   {
    "duration": 16,
    "start_time": "2023-03-01T11:00:20.061Z"
   },
   {
    "duration": 21,
    "start_time": "2023-03-01T11:00:20.079Z"
   },
   {
    "duration": 14,
    "start_time": "2023-03-01T11:00:20.102Z"
   },
   {
    "duration": 169,
    "start_time": "2023-03-01T11:00:20.118Z"
   },
   {
    "duration": 739,
    "start_time": "2023-03-01T11:00:20.289Z"
   },
   {
    "duration": 4930,
    "start_time": "2023-03-01T11:00:21.030Z"
   },
   {
    "duration": 1968,
    "start_time": "2023-03-01T11:00:25.961Z"
   },
   {
    "duration": 1880,
    "start_time": "2023-03-01T11:00:27.930Z"
   },
   {
    "duration": 5,
    "start_time": "2023-03-01T11:07:17.544Z"
   },
   {
    "duration": 7,
    "start_time": "2023-03-01T11:07:18.480Z"
   },
   {
    "duration": 5,
    "start_time": "2023-03-01T11:07:19.448Z"
   },
   {
    "duration": 7,
    "start_time": "2023-03-01T11:07:20.879Z"
   },
   {
    "duration": 4,
    "start_time": "2023-03-01T11:07:21.299Z"
   },
   {
    "duration": 11,
    "start_time": "2023-03-01T11:07:27.479Z"
   },
   {
    "duration": 366,
    "start_time": "2023-03-01T11:07:28.997Z"
   },
   {
    "duration": 4354,
    "start_time": "2023-03-01T11:07:33.544Z"
   },
   {
    "duration": 1404,
    "start_time": "2023-03-01T11:07:43.162Z"
   },
   {
    "duration": 54,
    "start_time": "2023-03-01T11:07:44.568Z"
   },
   {
    "duration": 8,
    "start_time": "2023-03-01T11:07:44.624Z"
   },
   {
    "duration": 3,
    "start_time": "2023-03-01T11:07:44.634Z"
   },
   {
    "duration": 6,
    "start_time": "2023-03-01T11:07:44.639Z"
   },
   {
    "duration": 8,
    "start_time": "2023-03-01T11:07:44.646Z"
   },
   {
    "duration": 273,
    "start_time": "2023-03-01T11:07:44.655Z"
   },
   {
    "duration": 6,
    "start_time": "2023-03-01T11:07:44.930Z"
   },
   {
    "duration": 237,
    "start_time": "2023-03-01T11:07:44.938Z"
   },
   {
    "duration": 331,
    "start_time": "2023-03-01T11:07:45.177Z"
   },
   {
    "duration": 230,
    "start_time": "2023-03-01T11:07:45.509Z"
   },
   {
    "duration": 163,
    "start_time": "2023-03-01T11:07:45.741Z"
   },
   {
    "duration": 171,
    "start_time": "2023-03-01T11:07:45.905Z"
   },
   {
    "duration": 9,
    "start_time": "2023-03-01T11:07:46.077Z"
   },
   {
    "duration": 9,
    "start_time": "2023-03-01T11:07:46.087Z"
   },
   {
    "duration": 6,
    "start_time": "2023-03-01T11:07:46.097Z"
   },
   {
    "duration": 4,
    "start_time": "2023-03-01T11:07:46.104Z"
   },
   {
    "duration": 6,
    "start_time": "2023-03-01T11:07:46.109Z"
   },
   {
    "duration": 8,
    "start_time": "2023-03-01T11:07:46.116Z"
   },
   {
    "duration": 13,
    "start_time": "2023-03-01T11:07:46.125Z"
   },
   {
    "duration": 95,
    "start_time": "2023-03-01T11:07:46.139Z"
   },
   {
    "duration": 896,
    "start_time": "2023-03-01T11:07:46.286Z"
   },
   {
    "duration": 752,
    "start_time": "2023-03-01T11:07:47.186Z"
   },
   {
    "duration": 939,
    "start_time": "2023-03-01T11:07:47.940Z"
   },
   {
    "duration": 18,
    "start_time": "2023-03-01T11:08:31.318Z"
   },
   {
    "duration": 7,
    "start_time": "2023-03-01T11:08:31.826Z"
   },
   {
    "duration": 4,
    "start_time": "2023-03-01T11:08:32.490Z"
   },
   {
    "duration": 6,
    "start_time": "2023-03-01T11:08:32.852Z"
   },
   {
    "duration": 4,
    "start_time": "2023-03-01T11:08:33.221Z"
   },
   {
    "duration": 156,
    "start_time": "2023-03-01T11:08:36.230Z"
   },
   {
    "duration": 337,
    "start_time": "2023-03-01T11:08:37.888Z"
   },
   {
    "duration": 4318,
    "start_time": "2023-03-01T11:08:40.662Z"
   },
   {
    "duration": 1933,
    "start_time": "2023-03-01T11:08:44.982Z"
   },
   {
    "duration": 2179,
    "start_time": "2023-03-01T11:08:53.208Z"
   },
   {
    "duration": 13,
    "start_time": "2023-03-01T11:09:06.880Z"
   },
   {
    "duration": 8,
    "start_time": "2023-03-01T11:09:07.380Z"
   },
   {
    "duration": 4,
    "start_time": "2023-03-01T11:09:08.000Z"
   },
   {
    "duration": 6,
    "start_time": "2023-03-01T11:09:08.898Z"
   },
   {
    "duration": 3,
    "start_time": "2023-03-01T11:09:09.698Z"
   },
   {
    "duration": 101,
    "start_time": "2023-03-01T11:09:13.788Z"
   },
   {
    "duration": 362,
    "start_time": "2023-03-01T11:09:15.871Z"
   },
   {
    "duration": 4316,
    "start_time": "2023-03-01T11:09:19.179Z"
   },
   {
    "duration": 2188,
    "start_time": "2023-03-01T11:09:28.303Z"
   },
   {
    "duration": 1911,
    "start_time": "2023-03-01T11:09:35.839Z"
   },
   {
    "duration": 1350,
    "start_time": "2023-03-01T11:10:27.600Z"
   },
   {
    "duration": 54,
    "start_time": "2023-03-01T11:10:28.952Z"
   },
   {
    "duration": 8,
    "start_time": "2023-03-01T11:10:29.007Z"
   },
   {
    "duration": 14,
    "start_time": "2023-03-01T11:10:29.017Z"
   },
   {
    "duration": 19,
    "start_time": "2023-03-01T11:10:29.032Z"
   },
   {
    "duration": 16,
    "start_time": "2023-03-01T11:10:29.052Z"
   },
   {
    "duration": 272,
    "start_time": "2023-03-01T11:10:29.069Z"
   },
   {
    "duration": 8,
    "start_time": "2023-03-01T11:10:29.343Z"
   },
   {
    "duration": 255,
    "start_time": "2023-03-01T11:10:29.353Z"
   },
   {
    "duration": 333,
    "start_time": "2023-03-01T11:10:29.611Z"
   },
   {
    "duration": 234,
    "start_time": "2023-03-01T11:10:29.946Z"
   },
   {
    "duration": 177,
    "start_time": "2023-03-01T11:10:30.182Z"
   },
   {
    "duration": 180,
    "start_time": "2023-03-01T11:10:30.361Z"
   },
   {
    "duration": 4,
    "start_time": "2023-03-01T11:10:30.542Z"
   },
   {
    "duration": 59,
    "start_time": "2023-03-01T11:10:30.548Z"
   },
   {
    "duration": 12,
    "start_time": "2023-03-01T11:10:30.608Z"
   },
   {
    "duration": 23,
    "start_time": "2023-03-01T11:10:30.622Z"
   },
   {
    "duration": 35,
    "start_time": "2023-03-01T11:10:30.647Z"
   },
   {
    "duration": 30,
    "start_time": "2023-03-01T11:10:30.683Z"
   },
   {
    "duration": 173,
    "start_time": "2023-03-01T11:10:30.715Z"
   },
   {
    "duration": 286,
    "start_time": "2023-03-01T11:10:30.889Z"
   },
   {
    "duration": 2553,
    "start_time": "2023-03-01T11:10:31.177Z"
   },
   {
    "duration": 1467,
    "start_time": "2023-03-01T11:10:33.732Z"
   },
   {
    "duration": 1247,
    "start_time": "2023-03-01T11:10:35.200Z"
   },
   {
    "duration": 5,
    "start_time": "2023-03-01T11:12:45.728Z"
   },
   {
    "duration": 1767,
    "start_time": "2023-03-01T11:13:08.641Z"
   },
   {
    "duration": 1396,
    "start_time": "2023-03-01T11:13:33.866Z"
   },
   {
    "duration": 52,
    "start_time": "2023-03-01T11:13:35.264Z"
   },
   {
    "duration": 9,
    "start_time": "2023-03-01T11:13:35.317Z"
   },
   {
    "duration": 9,
    "start_time": "2023-03-01T11:13:35.328Z"
   },
   {
    "duration": 5,
    "start_time": "2023-03-01T11:13:35.338Z"
   },
   {
    "duration": 9,
    "start_time": "2023-03-01T11:13:35.344Z"
   },
   {
    "duration": 285,
    "start_time": "2023-03-01T11:13:35.355Z"
   },
   {
    "duration": 6,
    "start_time": "2023-03-01T11:13:35.642Z"
   },
   {
    "duration": 264,
    "start_time": "2023-03-01T11:13:35.650Z"
   },
   {
    "duration": 372,
    "start_time": "2023-03-01T11:13:35.917Z"
   },
   {
    "duration": 253,
    "start_time": "2023-03-01T11:13:36.291Z"
   },
   {
    "duration": 188,
    "start_time": "2023-03-01T11:13:36.546Z"
   },
   {
    "duration": 230,
    "start_time": "2023-03-01T11:13:36.736Z"
   },
   {
    "duration": 5,
    "start_time": "2023-03-01T11:13:36.968Z"
   },
   {
    "duration": 36,
    "start_time": "2023-03-01T11:13:36.974Z"
   },
   {
    "duration": 14,
    "start_time": "2023-03-01T11:13:37.013Z"
   },
   {
    "duration": 44,
    "start_time": "2023-03-01T11:13:37.029Z"
   },
   {
    "duration": 10,
    "start_time": "2023-03-01T11:13:37.075Z"
   },
   {
    "duration": 13,
    "start_time": "2023-03-01T11:13:37.086Z"
   },
   {
    "duration": 91,
    "start_time": "2023-03-01T11:13:37.101Z"
   },
   {
    "duration": 290,
    "start_time": "2023-03-01T11:13:37.193Z"
   },
   {
    "duration": 3873,
    "start_time": "2023-03-01T11:13:37.486Z"
   },
   {
    "duration": 1366,
    "start_time": "2023-03-01T11:13:41.360Z"
   },
   {
    "duration": 5,
    "start_time": "2023-03-01T11:13:42.728Z"
   },
   {
    "duration": 1575,
    "start_time": "2023-03-01T11:13:42.735Z"
   },
   {
    "duration": 1335,
    "start_time": "2023-03-01T11:14:17.922Z"
   },
   {
    "duration": 55,
    "start_time": "2023-03-01T11:14:19.258Z"
   },
   {
    "duration": 9,
    "start_time": "2023-03-01T11:14:19.314Z"
   },
   {
    "duration": 13,
    "start_time": "2023-03-01T11:14:19.324Z"
   },
   {
    "duration": 17,
    "start_time": "2023-03-01T11:14:19.339Z"
   },
   {
    "duration": 20,
    "start_time": "2023-03-01T11:14:19.358Z"
   },
   {
    "duration": 257,
    "start_time": "2023-03-01T11:14:19.379Z"
   },
   {
    "duration": 7,
    "start_time": "2023-03-01T11:14:19.638Z"
   },
   {
    "duration": 259,
    "start_time": "2023-03-01T11:14:19.647Z"
   },
   {
    "duration": 353,
    "start_time": "2023-03-01T11:14:19.907Z"
   },
   {
    "duration": 235,
    "start_time": "2023-03-01T11:14:20.262Z"
   },
   {
    "duration": 162,
    "start_time": "2023-03-01T11:14:20.498Z"
   },
   {
    "duration": 178,
    "start_time": "2023-03-01T11:14:20.662Z"
   },
   {
    "duration": 4,
    "start_time": "2023-03-01T11:14:20.843Z"
   },
   {
    "duration": 11,
    "start_time": "2023-03-01T11:14:20.848Z"
   },
   {
    "duration": 7,
    "start_time": "2023-03-01T11:14:20.860Z"
   },
   {
    "duration": 20,
    "start_time": "2023-03-01T11:14:20.868Z"
   },
   {
    "duration": 9,
    "start_time": "2023-03-01T11:14:20.889Z"
   },
   {
    "duration": 7,
    "start_time": "2023-03-01T11:14:20.899Z"
   },
   {
    "duration": 8,
    "start_time": "2023-03-01T11:14:20.908Z"
   },
   {
    "duration": 102,
    "start_time": "2023-03-01T11:14:20.917Z"
   },
   {
    "duration": 909,
    "start_time": "2023-03-01T11:14:21.021Z"
   },
   {
    "duration": 754,
    "start_time": "2023-03-01T11:14:21.932Z"
   },
   {
    "duration": 4,
    "start_time": "2023-03-01T11:14:22.688Z"
   },
   {
    "duration": 753,
    "start_time": "2023-03-01T11:14:22.694Z"
   },
   {
    "duration": 17,
    "start_time": "2023-03-01T11:14:40.029Z"
   },
   {
    "duration": 1362,
    "start_time": "2023-03-01T11:14:43.605Z"
   },
   {
    "duration": 56,
    "start_time": "2023-03-01T11:14:44.969Z"
   },
   {
    "duration": 9,
    "start_time": "2023-03-01T11:14:45.027Z"
   },
   {
    "duration": 7,
    "start_time": "2023-03-01T11:14:45.037Z"
   },
   {
    "duration": 7,
    "start_time": "2023-03-01T11:14:45.046Z"
   },
   {
    "duration": 10,
    "start_time": "2023-03-01T11:14:45.054Z"
   },
   {
    "duration": 273,
    "start_time": "2023-03-01T11:14:45.065Z"
   },
   {
    "duration": 6,
    "start_time": "2023-03-01T11:14:45.340Z"
   },
   {
    "duration": 243,
    "start_time": "2023-03-01T11:14:45.348Z"
   },
   {
    "duration": 340,
    "start_time": "2023-03-01T11:14:45.592Z"
   },
   {
    "duration": 237,
    "start_time": "2023-03-01T11:14:45.934Z"
   },
   {
    "duration": 182,
    "start_time": "2023-03-01T11:14:46.173Z"
   },
   {
    "duration": 167,
    "start_time": "2023-03-01T11:14:46.356Z"
   },
   {
    "duration": 4,
    "start_time": "2023-03-01T11:14:46.526Z"
   },
   {
    "duration": 52,
    "start_time": "2023-03-01T11:14:46.532Z"
   },
   {
    "duration": 16,
    "start_time": "2023-03-01T11:14:46.586Z"
   },
   {
    "duration": 9,
    "start_time": "2023-03-01T11:14:46.603Z"
   },
   {
    "duration": 14,
    "start_time": "2023-03-01T11:14:46.614Z"
   },
   {
    "duration": 20,
    "start_time": "2023-03-01T11:14:46.630Z"
   },
   {
    "duration": 236,
    "start_time": "2023-03-01T11:14:46.652Z"
   },
   {
    "duration": 528,
    "start_time": "2023-03-01T11:14:46.890Z"
   },
   {
    "duration": 4364,
    "start_time": "2023-03-01T11:14:47.420Z"
   },
   {
    "duration": 1948,
    "start_time": "2023-03-01T11:14:51.786Z"
   },
   {
    "duration": 5,
    "start_time": "2023-03-01T11:14:53.735Z"
   },
   {
    "duration": 2244,
    "start_time": "2023-03-01T11:14:53.742Z"
   },
   {
    "duration": 13652,
    "start_time": "2023-03-01T11:16:35.836Z"
   },
   {
    "duration": 13637,
    "start_time": "2023-03-01T11:17:03.826Z"
   },
   {
    "duration": 13928,
    "start_time": "2023-03-01T11:18:14.446Z"
   },
   {
    "duration": 14740,
    "start_time": "2023-03-01T11:20:33.117Z"
   },
   {
    "duration": 4423,
    "start_time": "2023-03-01T11:21:04.186Z"
   },
   {
    "duration": 52650,
    "start_time": "2023-03-01T11:21:35.927Z"
   },
   {
    "duration": 32880,
    "start_time": "2023-03-01T11:22:50.370Z"
   },
   {
    "duration": 14583,
    "start_time": "2023-03-01T11:23:46.829Z"
   },
   {
    "duration": 1971,
    "start_time": "2023-03-01T11:24:55.378Z"
   },
   {
    "duration": 2201,
    "start_time": "2023-03-01T11:25:08.303Z"
   },
   {
    "duration": 935,
    "start_time": "2023-03-01T11:25:26.335Z"
   },
   {
    "duration": 2943,
    "start_time": "2023-03-01T11:25:32.728Z"
   },
   {
    "duration": 1826,
    "start_time": "2023-03-01T11:25:41.390Z"
   },
   {
    "duration": 361,
    "start_time": "2023-03-01T11:31:10.656Z"
   },
   {
    "duration": 1340,
    "start_time": "2023-03-01T11:31:29.018Z"
   },
   {
    "duration": 56,
    "start_time": "2023-03-01T11:31:30.360Z"
   },
   {
    "duration": 9,
    "start_time": "2023-03-01T11:31:30.417Z"
   },
   {
    "duration": 15,
    "start_time": "2023-03-01T11:31:30.428Z"
   },
   {
    "duration": 5,
    "start_time": "2023-03-01T11:31:30.445Z"
   },
   {
    "duration": 37,
    "start_time": "2023-03-01T11:31:30.452Z"
   },
   {
    "duration": 296,
    "start_time": "2023-03-01T11:31:30.490Z"
   },
   {
    "duration": 7,
    "start_time": "2023-03-01T11:31:30.788Z"
   },
   {
    "duration": 272,
    "start_time": "2023-03-01T11:31:30.797Z"
   },
   {
    "duration": 360,
    "start_time": "2023-03-01T11:31:31.072Z"
   },
   {
    "duration": 240,
    "start_time": "2023-03-01T11:31:31.434Z"
   },
   {
    "duration": 166,
    "start_time": "2023-03-01T11:31:31.676Z"
   },
   {
    "duration": 174,
    "start_time": "2023-03-01T11:31:31.843Z"
   },
   {
    "duration": 4,
    "start_time": "2023-03-01T11:31:32.019Z"
   },
   {
    "duration": 42,
    "start_time": "2023-03-01T11:31:32.024Z"
   },
   {
    "duration": 9,
    "start_time": "2023-03-01T11:31:32.068Z"
   },
   {
    "duration": 20,
    "start_time": "2023-03-01T11:31:32.078Z"
   },
   {
    "duration": 28,
    "start_time": "2023-03-01T11:31:32.099Z"
   },
   {
    "duration": 21,
    "start_time": "2023-03-01T11:31:32.128Z"
   },
   {
    "duration": 42,
    "start_time": "2023-03-01T11:31:32.151Z"
   },
   {
    "duration": 13937,
    "start_time": "2023-03-01T11:31:32.194Z"
   },
   {
    "duration": 14703,
    "start_time": "2023-03-01T11:31:46.133Z"
   },
   {
    "duration": 2023,
    "start_time": "2023-03-01T11:32:00.837Z"
   },
   {
    "duration": 6,
    "start_time": "2023-03-01T11:32:02.861Z"
   },
   {
    "duration": 2308,
    "start_time": "2023-03-01T11:32:02.869Z"
   },
   {
    "duration": 422,
    "start_time": "2023-03-01T11:32:05.179Z"
   },
   {
    "duration": 6,
    "start_time": "2023-03-01T11:32:37.939Z"
   },
   {
    "duration": 7,
    "start_time": "2023-03-01T11:32:42.175Z"
   },
   {
    "duration": 5,
    "start_time": "2023-03-01T11:32:42.930Z"
   },
   {
    "duration": 7,
    "start_time": "2023-03-01T11:32:44.489Z"
   },
   {
    "duration": 5,
    "start_time": "2023-03-01T11:32:45.276Z"
   },
   {
    "duration": 226,
    "start_time": "2023-03-01T11:32:52.459Z"
   },
   {
    "duration": 1352,
    "start_time": "2023-03-01T11:32:58.839Z"
   },
   {
    "duration": 54,
    "start_time": "2023-03-01T11:33:00.193Z"
   },
   {
    "duration": 10,
    "start_time": "2023-03-01T11:33:00.249Z"
   },
   {
    "duration": 40,
    "start_time": "2023-03-01T11:33:00.260Z"
   },
   {
    "duration": 27,
    "start_time": "2023-03-01T11:33:00.302Z"
   },
   {
    "duration": 30,
    "start_time": "2023-03-01T11:33:00.330Z"
   },
   {
    "duration": 276,
    "start_time": "2023-03-01T11:33:00.362Z"
   },
   {
    "duration": 6,
    "start_time": "2023-03-01T11:33:00.640Z"
   },
   {
    "duration": 250,
    "start_time": "2023-03-01T11:33:00.648Z"
   },
   {
    "duration": 376,
    "start_time": "2023-03-01T11:33:00.900Z"
   },
   {
    "duration": 236,
    "start_time": "2023-03-01T11:33:01.278Z"
   },
   {
    "duration": 163,
    "start_time": "2023-03-01T11:33:01.516Z"
   },
   {
    "duration": 169,
    "start_time": "2023-03-01T11:33:01.686Z"
   },
   {
    "duration": 4,
    "start_time": "2023-03-01T11:33:01.858Z"
   },
   {
    "duration": 26,
    "start_time": "2023-03-01T11:33:01.864Z"
   },
   {
    "duration": 28,
    "start_time": "2023-03-01T11:33:01.892Z"
   },
   {
    "duration": 37,
    "start_time": "2023-03-01T11:33:01.921Z"
   },
   {
    "duration": 26,
    "start_time": "2023-03-01T11:33:01.960Z"
   },
   {
    "duration": 23,
    "start_time": "2023-03-01T11:33:01.988Z"
   },
   {
    "duration": 45,
    "start_time": "2023-03-01T11:33:02.013Z"
   },
   {
    "duration": 3639,
    "start_time": "2023-03-01T11:33:02.060Z"
   },
   {
    "duration": 3554,
    "start_time": "2023-03-01T11:33:05.701Z"
   },
   {
    "duration": 761,
    "start_time": "2023-03-01T11:33:09.257Z"
   },
   {
    "duration": 5,
    "start_time": "2023-03-01T11:33:10.020Z"
   },
   {
    "duration": 890,
    "start_time": "2023-03-01T11:33:10.026Z"
   },
   {
    "duration": 335,
    "start_time": "2023-03-01T11:33:10.918Z"
   },
   {
    "duration": 1382,
    "start_time": "2023-03-01T11:33:52.107Z"
   },
   {
    "duration": 55,
    "start_time": "2023-03-01T11:33:53.491Z"
   },
   {
    "duration": 10,
    "start_time": "2023-03-01T11:33:53.548Z"
   },
   {
    "duration": 5,
    "start_time": "2023-03-01T11:33:53.560Z"
   },
   {
    "duration": 5,
    "start_time": "2023-03-01T11:33:53.566Z"
   },
   {
    "duration": 8,
    "start_time": "2023-03-01T11:33:53.572Z"
   },
   {
    "duration": 272,
    "start_time": "2023-03-01T11:33:53.586Z"
   },
   {
    "duration": 9,
    "start_time": "2023-03-01T11:33:53.860Z"
   },
   {
    "duration": 278,
    "start_time": "2023-03-01T11:33:53.870Z"
   },
   {
    "duration": 366,
    "start_time": "2023-03-01T11:33:54.150Z"
   },
   {
    "duration": 232,
    "start_time": "2023-03-01T11:33:54.518Z"
   },
   {
    "duration": 170,
    "start_time": "2023-03-01T11:33:54.752Z"
   },
   {
    "duration": 173,
    "start_time": "2023-03-01T11:33:54.924Z"
   },
   {
    "duration": 4,
    "start_time": "2023-03-01T11:33:55.098Z"
   },
   {
    "duration": 23,
    "start_time": "2023-03-01T11:33:55.103Z"
   },
   {
    "duration": 7,
    "start_time": "2023-03-01T11:33:55.127Z"
   },
   {
    "duration": 4,
    "start_time": "2023-03-01T11:33:55.135Z"
   },
   {
    "duration": 7,
    "start_time": "2023-03-01T11:33:55.140Z"
   },
   {
    "duration": 5,
    "start_time": "2023-03-01T11:33:55.148Z"
   },
   {
    "duration": 136,
    "start_time": "2023-03-01T11:33:55.155Z"
   },
   {
    "duration": 13874,
    "start_time": "2023-03-01T11:33:55.293Z"
   },
   {
    "duration": 14639,
    "start_time": "2023-03-01T11:34:09.168Z"
   },
   {
    "duration": 1992,
    "start_time": "2023-03-01T11:34:23.809Z"
   },
   {
    "duration": 4,
    "start_time": "2023-03-01T11:34:25.803Z"
   },
   {
    "duration": 2234,
    "start_time": "2023-03-01T11:34:25.809Z"
   },
   {
    "duration": 372,
    "start_time": "2023-03-01T11:34:28.045Z"
   },
   {
    "duration": 1373,
    "start_time": "2023-03-01T11:43:50.484Z"
   },
   {
    "duration": 55,
    "start_time": "2023-03-01T11:43:51.859Z"
   },
   {
    "duration": 8,
    "start_time": "2023-03-01T11:43:51.916Z"
   },
   {
    "duration": 10,
    "start_time": "2023-03-01T11:43:51.926Z"
   },
   {
    "duration": 3,
    "start_time": "2023-03-01T11:43:51.938Z"
   },
   {
    "duration": 8,
    "start_time": "2023-03-01T11:43:51.942Z"
   },
   {
    "duration": 278,
    "start_time": "2023-03-01T11:43:51.952Z"
   },
   {
    "duration": 6,
    "start_time": "2023-03-01T11:43:52.231Z"
   },
   {
    "duration": 261,
    "start_time": "2023-03-01T11:43:52.239Z"
   },
   {
    "duration": 350,
    "start_time": "2023-03-01T11:43:52.502Z"
   },
   {
    "duration": 247,
    "start_time": "2023-03-01T11:43:52.854Z"
   },
   {
    "duration": 170,
    "start_time": "2023-03-01T11:43:53.103Z"
   },
   {
    "duration": 177,
    "start_time": "2023-03-01T11:43:53.275Z"
   },
   {
    "duration": 4,
    "start_time": "2023-03-01T11:43:53.454Z"
   },
   {
    "duration": 29,
    "start_time": "2023-03-01T11:43:53.460Z"
   },
   {
    "duration": 7,
    "start_time": "2023-03-01T11:43:53.490Z"
   },
   {
    "duration": 4,
    "start_time": "2023-03-01T11:43:53.498Z"
   },
   {
    "duration": 8,
    "start_time": "2023-03-01T11:43:53.503Z"
   },
   {
    "duration": 5,
    "start_time": "2023-03-01T11:43:53.512Z"
   },
   {
    "duration": 167,
    "start_time": "2023-03-01T11:43:53.519Z"
   },
   {
    "duration": 14623,
    "start_time": "2023-03-01T11:43:53.689Z"
   },
   {
    "duration": 14519,
    "start_time": "2023-03-01T11:44:08.314Z"
   },
   {
    "duration": 1906,
    "start_time": "2023-03-01T11:44:22.834Z"
   },
   {
    "duration": 4,
    "start_time": "2023-03-01T11:44:24.742Z"
   },
   {
    "duration": 2102,
    "start_time": "2023-03-01T11:44:24.747Z"
   },
   {
    "duration": 31,
    "start_time": "2023-03-01T11:45:35.094Z"
   },
   {
    "duration": 1434,
    "start_time": "2023-03-01T11:45:41.349Z"
   },
   {
    "duration": 58,
    "start_time": "2023-03-01T11:45:42.786Z"
   },
   {
    "duration": 9,
    "start_time": "2023-03-01T11:45:42.845Z"
   },
   {
    "duration": 8,
    "start_time": "2023-03-01T11:45:42.856Z"
   },
   {
    "duration": 23,
    "start_time": "2023-03-01T11:45:42.865Z"
   },
   {
    "duration": 25,
    "start_time": "2023-03-01T11:45:42.889Z"
   },
   {
    "duration": 260,
    "start_time": "2023-03-01T11:45:42.915Z"
   },
   {
    "duration": 12,
    "start_time": "2023-03-01T11:45:43.177Z"
   },
   {
    "duration": 335,
    "start_time": "2023-03-01T11:45:43.191Z"
   },
   {
    "duration": 708,
    "start_time": "2023-03-01T11:45:43.528Z"
   },
   {
    "duration": 488,
    "start_time": "2023-03-01T11:45:44.238Z"
   },
   {
    "duration": 366,
    "start_time": "2023-03-01T11:45:44.727Z"
   },
   {
    "duration": 195,
    "start_time": "2023-03-01T11:45:45.095Z"
   },
   {
    "duration": 4,
    "start_time": "2023-03-01T11:45:45.292Z"
   },
   {
    "duration": 24,
    "start_time": "2023-03-01T11:45:45.297Z"
   },
   {
    "duration": 7,
    "start_time": "2023-03-01T11:45:45.322Z"
   },
   {
    "duration": 4,
    "start_time": "2023-03-01T11:45:45.330Z"
   },
   {
    "duration": 9,
    "start_time": "2023-03-01T11:45:45.335Z"
   },
   {
    "duration": 7,
    "start_time": "2023-03-01T11:45:45.346Z"
   },
   {
    "duration": 231,
    "start_time": "2023-03-01T11:45:45.355Z"
   },
   {
    "duration": 13677,
    "start_time": "2023-03-01T11:45:45.588Z"
   },
   {
    "duration": 15285,
    "start_time": "2023-03-01T11:45:59.266Z"
   },
   {
    "duration": 2232,
    "start_time": "2023-03-01T11:46:14.552Z"
   },
   {
    "duration": 8,
    "start_time": "2023-03-01T11:46:16.786Z"
   },
   {
    "duration": 2499,
    "start_time": "2023-03-01T11:46:16.795Z"
   },
   {
    "duration": 1633,
    "start_time": "2023-03-01T12:04:33.276Z"
   },
   {
    "duration": 86,
    "start_time": "2023-03-01T12:04:34.912Z"
   },
   {
    "duration": 10,
    "start_time": "2023-03-01T12:04:34.999Z"
   },
   {
    "duration": 11,
    "start_time": "2023-03-01T12:04:35.011Z"
   },
   {
    "duration": 9,
    "start_time": "2023-03-01T12:04:35.025Z"
   },
   {
    "duration": 22,
    "start_time": "2023-03-01T12:04:35.036Z"
   },
   {
    "duration": 346,
    "start_time": "2023-03-01T12:04:35.061Z"
   },
   {
    "duration": 8,
    "start_time": "2023-03-01T12:04:35.409Z"
   },
   {
    "duration": 279,
    "start_time": "2023-03-01T12:04:35.418Z"
   },
   {
    "duration": 364,
    "start_time": "2023-03-01T12:04:35.699Z"
   },
   {
    "duration": 241,
    "start_time": "2023-03-01T12:04:36.065Z"
   },
   {
    "duration": 170,
    "start_time": "2023-03-01T12:04:36.309Z"
   },
   {
    "duration": 181,
    "start_time": "2023-03-01T12:04:36.481Z"
   },
   {
    "duration": 6,
    "start_time": "2023-03-01T12:04:36.668Z"
   },
   {
    "duration": 31,
    "start_time": "2023-03-01T12:04:36.692Z"
   },
   {
    "duration": 9,
    "start_time": "2023-03-01T12:04:36.725Z"
   },
   {
    "duration": 19,
    "start_time": "2023-03-01T12:04:36.737Z"
   },
   {
    "duration": 29,
    "start_time": "2023-03-01T12:04:36.758Z"
   },
   {
    "duration": 38,
    "start_time": "2023-03-01T12:04:36.789Z"
   },
   {
    "duration": 158,
    "start_time": "2023-03-01T12:04:36.829Z"
   },
   {
    "duration": 18455,
    "start_time": "2023-03-01T12:04:36.988Z"
   },
   {
    "duration": 15126,
    "start_time": "2023-03-01T12:04:55.444Z"
   },
   {
    "duration": 2158,
    "start_time": "2023-03-01T12:05:10.572Z"
   },
   {
    "duration": 5,
    "start_time": "2023-03-01T12:05:12.732Z"
   },
   {
    "duration": 2291,
    "start_time": "2023-03-01T12:05:12.738Z"
   },
   {
    "duration": 1949,
    "start_time": "2023-03-01T12:30:37.780Z"
   },
   {
    "duration": 60,
    "start_time": "2023-03-01T12:30:39.736Z"
   },
   {
    "duration": 9,
    "start_time": "2023-03-01T12:30:39.798Z"
   },
   {
    "duration": 11,
    "start_time": "2023-03-01T12:30:39.810Z"
   },
   {
    "duration": 23,
    "start_time": "2023-03-01T12:30:39.822Z"
   },
   {
    "duration": 30,
    "start_time": "2023-03-01T12:30:39.847Z"
   },
   {
    "duration": 284,
    "start_time": "2023-03-01T12:30:39.879Z"
   },
   {
    "duration": 10,
    "start_time": "2023-03-01T12:30:40.164Z"
   },
   {
    "duration": 331,
    "start_time": "2023-03-01T12:30:40.176Z"
   },
   {
    "duration": 281,
    "start_time": "2023-03-01T12:30:40.509Z"
   },
   {
    "duration": 267,
    "start_time": "2023-03-01T12:30:40.792Z"
   },
   {
    "duration": 186,
    "start_time": "2023-03-01T12:30:41.061Z"
   },
   {
    "duration": 213,
    "start_time": "2023-03-01T12:30:41.248Z"
   },
   {
    "duration": 4,
    "start_time": "2023-03-01T12:30:41.463Z"
   },
   {
    "duration": 27,
    "start_time": "2023-03-01T12:30:41.469Z"
   },
   {
    "duration": 339,
    "start_time": "2023-03-01T12:30:41.501Z"
   },
   {
    "duration": 45,
    "start_time": "2023-03-01T13:30:08.785Z"
   },
   {
    "duration": 7,
    "start_time": "2023-03-01T13:31:58.768Z"
   },
   {
    "duration": 1620,
    "start_time": "2023-03-01T13:32:18.200Z"
   },
   {
    "duration": 137,
    "start_time": "2023-03-01T13:32:19.822Z"
   },
   {
    "duration": 8,
    "start_time": "2023-03-01T13:32:19.961Z"
   },
   {
    "duration": 6,
    "start_time": "2023-03-01T13:32:19.971Z"
   },
   {
    "duration": 5,
    "start_time": "2023-03-01T13:32:19.979Z"
   },
   {
    "duration": 26,
    "start_time": "2023-03-01T13:32:19.986Z"
   },
   {
    "duration": 356,
    "start_time": "2023-03-01T13:32:20.014Z"
   },
   {
    "duration": 9,
    "start_time": "2023-03-01T13:32:20.372Z"
   },
   {
    "duration": 329,
    "start_time": "2023-03-01T13:32:20.383Z"
   },
   {
    "duration": 283,
    "start_time": "2023-03-01T13:32:20.716Z"
   },
   {
    "duration": 277,
    "start_time": "2023-03-01T13:32:21.003Z"
   },
   {
    "duration": 182,
    "start_time": "2023-03-01T13:32:21.281Z"
   },
   {
    "duration": 182,
    "start_time": "2023-03-01T13:32:21.465Z"
   },
   {
    "duration": 4,
    "start_time": "2023-03-01T13:32:21.649Z"
   },
   {
    "duration": 49,
    "start_time": "2023-03-01T13:32:21.655Z"
   },
   {
    "duration": 331,
    "start_time": "2023-03-01T13:32:21.706Z"
   },
   {
    "duration": 10,
    "start_time": "2023-03-01T13:32:22.039Z"
   },
   {
    "duration": 8,
    "start_time": "2023-03-01T13:32:22.052Z"
   },
   {
    "duration": 10,
    "start_time": "2023-03-01T13:32:22.061Z"
   },
   {
    "duration": 14,
    "start_time": "2023-03-01T13:32:22.073Z"
   },
   {
    "duration": 122,
    "start_time": "2023-03-01T13:32:22.089Z"
   },
   {
    "duration": 12500,
    "start_time": "2023-03-01T13:32:22.213Z"
   },
   {
    "duration": 13369,
    "start_time": "2023-03-01T13:32:34.715Z"
   },
   {
    "duration": 2267,
    "start_time": "2023-03-01T13:32:48.086Z"
   },
   {
    "duration": 6,
    "start_time": "2023-03-01T13:32:50.355Z"
   },
   {
    "duration": 2425,
    "start_time": "2023-03-01T13:32:50.363Z"
   },
   {
    "duration": 1516,
    "start_time": "2023-03-01T13:33:48.334Z"
   },
   {
    "duration": 1520,
    "start_time": "2023-03-01T13:33:57.601Z"
   },
   {
    "duration": 57,
    "start_time": "2023-03-01T13:33:59.123Z"
   },
   {
    "duration": 8,
    "start_time": "2023-03-01T13:33:59.182Z"
   },
   {
    "duration": 8,
    "start_time": "2023-03-01T13:33:59.192Z"
   },
   {
    "duration": 15,
    "start_time": "2023-03-01T13:33:59.201Z"
   },
   {
    "duration": 15,
    "start_time": "2023-03-01T13:33:59.218Z"
   },
   {
    "duration": 310,
    "start_time": "2023-03-01T13:33:59.234Z"
   },
   {
    "duration": 7,
    "start_time": "2023-03-01T13:33:59.546Z"
   },
   {
    "duration": 306,
    "start_time": "2023-03-01T13:33:59.555Z"
   },
   {
    "duration": 272,
    "start_time": "2023-03-01T13:33:59.863Z"
   },
   {
    "duration": 305,
    "start_time": "2023-03-01T13:34:00.137Z"
   },
   {
    "duration": 175,
    "start_time": "2023-03-01T13:34:00.444Z"
   },
   {
    "duration": 194,
    "start_time": "2023-03-01T13:34:00.620Z"
   },
   {
    "duration": 4,
    "start_time": "2023-03-01T13:34:00.816Z"
   },
   {
    "duration": 77,
    "start_time": "2023-03-01T13:34:00.822Z"
   },
   {
    "duration": 325,
    "start_time": "2023-03-01T13:34:00.901Z"
   },
   {
    "duration": 9,
    "start_time": "2023-03-01T13:34:01.228Z"
   },
   {
    "duration": 32,
    "start_time": "2023-03-01T13:34:01.238Z"
   },
   {
    "duration": 65,
    "start_time": "2023-03-01T13:34:01.272Z"
   },
   {
    "duration": 44,
    "start_time": "2023-03-01T13:34:01.339Z"
   },
   {
    "duration": 223,
    "start_time": "2023-03-01T13:34:01.384Z"
   },
   {
    "duration": 12076,
    "start_time": "2023-03-01T13:34:01.609Z"
   },
   {
    "duration": 13288,
    "start_time": "2023-03-01T13:34:13.686Z"
   },
   {
    "duration": 2370,
    "start_time": "2023-03-01T13:34:26.977Z"
   },
   {
    "duration": 6,
    "start_time": "2023-03-01T13:34:29.349Z"
   },
   {
    "duration": 2689,
    "start_time": "2023-03-01T13:34:29.358Z"
   },
   {
    "duration": 1624,
    "start_time": "2023-03-01T13:34:32.051Z"
   },
   {
    "duration": 1486,
    "start_time": "2023-03-01T13:34:40.754Z"
   },
   {
    "duration": 57,
    "start_time": "2023-03-01T13:34:42.242Z"
   },
   {
    "duration": 9,
    "start_time": "2023-03-01T13:34:42.301Z"
   },
   {
    "duration": 11,
    "start_time": "2023-03-01T13:34:42.312Z"
   },
   {
    "duration": 7,
    "start_time": "2023-03-01T13:34:42.325Z"
   },
   {
    "duration": 17,
    "start_time": "2023-03-01T13:34:42.333Z"
   },
   {
    "duration": 313,
    "start_time": "2023-03-01T13:34:42.351Z"
   },
   {
    "duration": 7,
    "start_time": "2023-03-01T13:34:42.666Z"
   },
   {
    "duration": 290,
    "start_time": "2023-03-01T13:34:42.675Z"
   },
   {
    "duration": 283,
    "start_time": "2023-03-01T13:34:42.969Z"
   },
   {
    "duration": 254,
    "start_time": "2023-03-01T13:34:43.254Z"
   },
   {
    "duration": 175,
    "start_time": "2023-03-01T13:34:43.509Z"
   },
   {
    "duration": 171,
    "start_time": "2023-03-01T13:34:43.685Z"
   },
   {
    "duration": 4,
    "start_time": "2023-03-01T13:34:43.858Z"
   },
   {
    "duration": 43,
    "start_time": "2023-03-01T13:34:43.863Z"
   },
   {
    "duration": 269,
    "start_time": "2023-03-01T13:34:43.908Z"
   },
   {
    "duration": 8,
    "start_time": "2023-03-01T13:34:44.178Z"
   },
   {
    "duration": 18,
    "start_time": "2023-03-01T13:34:44.188Z"
   },
   {
    "duration": 7,
    "start_time": "2023-03-01T13:34:44.208Z"
   },
   {
    "duration": 8,
    "start_time": "2023-03-01T13:34:44.217Z"
   },
   {
    "duration": 85,
    "start_time": "2023-03-01T13:34:44.226Z"
   },
   {
    "duration": 12246,
    "start_time": "2023-03-01T13:34:44.314Z"
   },
   {
    "duration": 13082,
    "start_time": "2023-03-01T13:34:56.562Z"
   },
   {
    "duration": 2516,
    "start_time": "2023-03-01T13:35:09.645Z"
   },
   {
    "duration": 5,
    "start_time": "2023-03-01T13:35:12.163Z"
   },
   {
    "duration": 2457,
    "start_time": "2023-03-01T13:35:12.170Z"
   },
   {
    "duration": 276,
    "start_time": "2023-03-01T13:39:01.033Z"
   },
   {
    "duration": 362,
    "start_time": "2023-03-01T13:39:13.536Z"
   },
   {
    "duration": 416,
    "start_time": "2023-03-01T13:39:30.388Z"
   },
   {
    "duration": 278,
    "start_time": "2023-03-01T13:39:38.608Z"
   },
   {
    "duration": 257,
    "start_time": "2023-03-01T13:40:04.939Z"
   },
   {
    "duration": 1630,
    "start_time": "2023-03-01T13:40:25.528Z"
   },
   {
    "duration": 63,
    "start_time": "2023-03-01T13:40:27.160Z"
   },
   {
    "duration": 10,
    "start_time": "2023-03-01T13:40:27.225Z"
   },
   {
    "duration": 5,
    "start_time": "2023-03-01T13:40:27.238Z"
   },
   {
    "duration": 6,
    "start_time": "2023-03-01T13:40:27.245Z"
   },
   {
    "duration": 17,
    "start_time": "2023-03-01T13:40:27.252Z"
   },
   {
    "duration": 381,
    "start_time": "2023-03-01T13:40:27.271Z"
   },
   {
    "duration": 8,
    "start_time": "2023-03-01T13:40:27.654Z"
   },
   {
    "duration": 346,
    "start_time": "2023-03-01T13:40:27.663Z"
   },
   {
    "duration": 335,
    "start_time": "2023-03-01T13:40:28.012Z"
   },
   {
    "duration": 273,
    "start_time": "2023-03-01T13:40:28.349Z"
   },
   {
    "duration": 271,
    "start_time": "2023-03-01T13:40:28.623Z"
   },
   {
    "duration": 207,
    "start_time": "2023-03-01T13:40:28.903Z"
   },
   {
    "duration": 7,
    "start_time": "2023-03-01T13:40:29.116Z"
   },
   {
    "duration": 70,
    "start_time": "2023-03-01T13:40:29.126Z"
   },
   {
    "duration": 314,
    "start_time": "2023-03-01T13:40:29.199Z"
   },
   {
    "duration": 10,
    "start_time": "2023-03-01T13:40:29.515Z"
   },
   {
    "duration": 9,
    "start_time": "2023-03-01T13:40:29.526Z"
   },
   {
    "duration": 15,
    "start_time": "2023-03-01T13:40:29.536Z"
   },
   {
    "duration": 8,
    "start_time": "2023-03-01T13:40:29.553Z"
   },
   {
    "duration": 152,
    "start_time": "2023-03-01T13:40:29.563Z"
   },
   {
    "duration": 13260,
    "start_time": "2023-03-01T13:40:29.717Z"
   },
   {
    "duration": 13745,
    "start_time": "2023-03-01T13:40:42.979Z"
   },
   {
    "duration": 2344,
    "start_time": "2023-03-01T13:40:56.725Z"
   },
   {
    "duration": 6,
    "start_time": "2023-03-01T13:40:59.071Z"
   },
   {
    "duration": 2937,
    "start_time": "2023-03-01T13:40:59.079Z"
   },
   {
    "duration": 1409,
    "start_time": "2023-03-01T14:11:37.701Z"
   },
   {
    "duration": 62,
    "start_time": "2023-03-01T14:11:39.112Z"
   },
   {
    "duration": 9,
    "start_time": "2023-03-01T14:11:39.176Z"
   },
   {
    "duration": 28,
    "start_time": "2023-03-01T14:11:39.187Z"
   },
   {
    "duration": 10,
    "start_time": "2023-03-01T14:11:39.216Z"
   },
   {
    "duration": 18,
    "start_time": "2023-03-01T14:11:39.228Z"
   },
   {
    "duration": 316,
    "start_time": "2023-03-01T14:11:39.248Z"
   },
   {
    "duration": 8,
    "start_time": "2023-03-01T14:11:39.565Z"
   },
   {
    "duration": 298,
    "start_time": "2023-03-01T14:11:39.574Z"
   },
   {
    "duration": 269,
    "start_time": "2023-03-01T14:11:39.874Z"
   },
   {
    "duration": 278,
    "start_time": "2023-03-01T14:11:40.145Z"
   },
   {
    "duration": 178,
    "start_time": "2023-03-01T14:11:40.425Z"
   },
   {
    "duration": 182,
    "start_time": "2023-03-01T14:11:40.605Z"
   },
   {
    "duration": 13,
    "start_time": "2023-03-01T14:11:40.790Z"
   },
   {
    "duration": 21,
    "start_time": "2023-03-01T14:11:40.805Z"
   },
   {
    "duration": 306,
    "start_time": "2023-03-01T14:11:40.829Z"
   },
   {
    "duration": 11,
    "start_time": "2023-03-01T14:11:41.137Z"
   },
   {
    "duration": 7,
    "start_time": "2023-03-01T14:11:41.149Z"
   },
   {
    "duration": 9,
    "start_time": "2023-03-01T14:11:41.158Z"
   },
   {
    "duration": 7,
    "start_time": "2023-03-01T14:11:41.168Z"
   },
   {
    "duration": 132,
    "start_time": "2023-03-01T14:11:41.176Z"
   },
   {
    "duration": 12209,
    "start_time": "2023-03-01T14:11:41.311Z"
   },
   {
    "duration": 13123,
    "start_time": "2023-03-01T14:11:53.523Z"
   },
   {
    "duration": 2310,
    "start_time": "2023-03-01T14:12:06.648Z"
   },
   {
    "duration": 5,
    "start_time": "2023-03-01T14:12:08.960Z"
   },
   {
    "duration": 2357,
    "start_time": "2023-03-01T14:12:08.966Z"
   },
   {
    "duration": 50,
    "start_time": "2023-03-01T14:14:16.857Z"
   },
   {
    "duration": 242,
    "start_time": "2023-03-01T14:14:18.930Z"
   },
   {
    "duration": 14,
    "start_time": "2023-03-01T14:14:20.999Z"
   },
   {
    "duration": 6,
    "start_time": "2023-03-01T14:14:22.400Z"
   },
   {
    "duration": 7,
    "start_time": "2023-03-01T14:14:23.683Z"
   },
   {
    "duration": 5,
    "start_time": "2023-03-01T14:14:27.302Z"
   },
   {
    "duration": 152,
    "start_time": "2023-03-01T14:14:33.456Z"
   },
   {
    "duration": 32644,
    "start_time": "2023-03-01T14:14:35.672Z"
   },
   {
    "duration": 33669,
    "start_time": "2023-03-01T14:15:13.986Z"
   },
   {
    "duration": 4899,
    "start_time": "2023-03-01T14:15:59.673Z"
   },
   {
    "duration": 5,
    "start_time": "2023-03-01T14:16:10.351Z"
   },
   {
    "duration": 5972,
    "start_time": "2023-03-01T14:16:15.193Z"
   },
   {
    "duration": 28,
    "start_time": "2023-03-01T14:19:00.930Z"
   },
   {
    "duration": 344,
    "start_time": "2023-03-01T14:19:02.270Z"
   },
   {
    "duration": 9,
    "start_time": "2023-03-01T14:19:03.383Z"
   },
   {
    "duration": 6,
    "start_time": "2023-03-01T14:19:03.931Z"
   },
   {
    "duration": 8,
    "start_time": "2023-03-01T14:19:05.000Z"
   },
   {
    "duration": 5,
    "start_time": "2023-03-01T14:19:08.940Z"
   },
   {
    "duration": 126,
    "start_time": "2023-03-01T14:19:12.080Z"
   },
   {
    "duration": 5023,
    "start_time": "2023-03-01T14:19:17.700Z"
   },
   {
    "duration": 6,
    "start_time": "2023-03-01T14:19:26.919Z"
   },
   {
    "duration": 6083,
    "start_time": "2023-03-01T14:19:28.567Z"
   },
   {
    "duration": 30,
    "start_time": "2023-03-01T14:19:47.982Z"
   },
   {
    "duration": 13,
    "start_time": "2023-03-01T14:19:54.658Z"
   },
   {
    "duration": 6,
    "start_time": "2023-03-01T14:19:55.681Z"
   },
   {
    "duration": 9,
    "start_time": "2023-03-01T14:19:56.387Z"
   },
   {
    "duration": 5,
    "start_time": "2023-03-01T14:20:00.715Z"
   },
   {
    "duration": 37,
    "start_time": "2023-03-01T14:20:06.170Z"
   },
   {
    "duration": 5845,
    "start_time": "2023-03-01T14:20:10.967Z"
   },
   {
    "duration": 6,
    "start_time": "2023-03-01T14:20:23.708Z"
   },
   {
    "duration": 6959,
    "start_time": "2023-03-01T14:20:25.168Z"
   },
   {
    "duration": 1501,
    "start_time": "2023-03-01T14:21:08.804Z"
   },
   {
    "duration": 58,
    "start_time": "2023-03-01T14:21:10.307Z"
   },
   {
    "duration": 9,
    "start_time": "2023-03-01T14:21:10.367Z"
   },
   {
    "duration": 5,
    "start_time": "2023-03-01T14:21:10.378Z"
   },
   {
    "duration": 5,
    "start_time": "2023-03-01T14:21:10.385Z"
   },
   {
    "duration": 13,
    "start_time": "2023-03-01T14:21:10.392Z"
   },
   {
    "duration": 309,
    "start_time": "2023-03-01T14:21:10.407Z"
   },
   {
    "duration": 8,
    "start_time": "2023-03-01T14:21:10.718Z"
   },
   {
    "duration": 293,
    "start_time": "2023-03-01T14:21:10.727Z"
   },
   {
    "duration": 276,
    "start_time": "2023-03-01T14:21:11.022Z"
   },
   {
    "duration": 256,
    "start_time": "2023-03-01T14:21:11.300Z"
   },
   {
    "duration": 174,
    "start_time": "2023-03-01T14:21:11.558Z"
   },
   {
    "duration": 191,
    "start_time": "2023-03-01T14:21:11.734Z"
   },
   {
    "duration": 5,
    "start_time": "2023-03-01T14:21:11.926Z"
   },
   {
    "duration": 78,
    "start_time": "2023-03-01T14:21:11.933Z"
   },
   {
    "duration": 279,
    "start_time": "2023-03-01T14:21:12.013Z"
   },
   {
    "duration": 23,
    "start_time": "2023-03-01T14:21:12.294Z"
   },
   {
    "duration": 4,
    "start_time": "2023-03-01T14:21:12.319Z"
   },
   {
    "duration": 8,
    "start_time": "2023-03-01T14:21:12.325Z"
   },
   {
    "duration": 16,
    "start_time": "2023-03-01T14:21:12.336Z"
   },
   {
    "duration": 250,
    "start_time": "2023-03-01T14:21:12.354Z"
   },
   {
    "duration": 35115,
    "start_time": "2023-03-01T14:21:12.607Z"
   },
   {
    "duration": 35802,
    "start_time": "2023-03-01T14:21:47.724Z"
   },
   {
    "duration": 5122,
    "start_time": "2023-03-01T14:22:23.527Z"
   },
   {
    "duration": 7,
    "start_time": "2023-03-01T14:22:28.651Z"
   },
   {
    "duration": 6153,
    "start_time": "2023-03-01T14:22:28.659Z"
   },
   {
    "duration": 5183,
    "start_time": "2023-03-01T14:25:18.669Z"
   },
   {
    "duration": 1470,
    "start_time": "2023-03-01T14:27:13.736Z"
   },
   {
    "duration": 61,
    "start_time": "2023-03-01T14:27:15.208Z"
   },
   {
    "duration": 9,
    "start_time": "2023-03-01T14:27:15.271Z"
   },
   {
    "duration": 10,
    "start_time": "2023-03-01T14:27:15.282Z"
   },
   {
    "duration": 8,
    "start_time": "2023-03-01T14:27:15.294Z"
   },
   {
    "duration": 16,
    "start_time": "2023-03-01T14:27:15.304Z"
   },
   {
    "duration": 322,
    "start_time": "2023-03-01T14:27:15.322Z"
   },
   {
    "duration": 7,
    "start_time": "2023-03-01T14:27:15.645Z"
   },
   {
    "duration": 306,
    "start_time": "2023-03-01T14:27:15.654Z"
   },
   {
    "duration": 277,
    "start_time": "2023-03-01T14:27:15.961Z"
   },
   {
    "duration": 247,
    "start_time": "2023-03-01T14:27:16.239Z"
   },
   {
    "duration": 212,
    "start_time": "2023-03-01T14:27:16.487Z"
   },
   {
    "duration": 194,
    "start_time": "2023-03-01T14:27:16.703Z"
   },
   {
    "duration": 5,
    "start_time": "2023-03-01T14:27:16.900Z"
   },
   {
    "duration": 57,
    "start_time": "2023-03-01T14:27:16.907Z"
   },
   {
    "duration": 308,
    "start_time": "2023-03-01T14:27:16.966Z"
   },
   {
    "duration": 29,
    "start_time": "2023-03-01T14:27:17.276Z"
   },
   {
    "duration": 7,
    "start_time": "2023-03-01T14:27:17.307Z"
   },
   {
    "duration": 12,
    "start_time": "2023-03-01T14:27:17.316Z"
   },
   {
    "duration": 7,
    "start_time": "2023-03-01T14:27:17.329Z"
   },
   {
    "duration": 376,
    "start_time": "2023-03-01T14:27:17.337Z"
   },
   {
    "duration": 38500,
    "start_time": "2023-03-01T14:27:17.804Z"
   },
   {
    "duration": 35468,
    "start_time": "2023-03-01T14:27:56.305Z"
   },
   {
    "duration": 1438,
    "start_time": "2023-03-01T14:28:38.657Z"
   },
   {
    "duration": 60,
    "start_time": "2023-03-01T14:28:40.098Z"
   },
   {
    "duration": 9,
    "start_time": "2023-03-01T14:28:40.160Z"
   },
   {
    "duration": 66,
    "start_time": "2023-03-01T14:28:40.171Z"
   },
   {
    "duration": 32,
    "start_time": "2023-03-01T14:28:40.240Z"
   },
   {
    "duration": 28,
    "start_time": "2023-03-01T14:28:40.274Z"
   },
   {
    "duration": 329,
    "start_time": "2023-03-01T14:28:40.303Z"
   },
   {
    "duration": 7,
    "start_time": "2023-03-01T14:28:40.634Z"
   },
   {
    "duration": 335,
    "start_time": "2023-03-01T14:28:40.643Z"
   },
   {
    "duration": 291,
    "start_time": "2023-03-01T14:28:40.982Z"
   },
   {
    "duration": 267,
    "start_time": "2023-03-01T14:28:41.275Z"
   },
   {
    "duration": 164,
    "start_time": "2023-03-01T14:28:41.544Z"
   },
   {
    "duration": 201,
    "start_time": "2023-03-01T14:28:41.709Z"
   },
   {
    "duration": 4,
    "start_time": "2023-03-01T14:28:41.912Z"
   },
   {
    "duration": 54,
    "start_time": "2023-03-01T14:28:41.918Z"
   },
   {
    "duration": 355,
    "start_time": "2023-03-01T14:28:41.973Z"
   },
   {
    "duration": 15,
    "start_time": "2023-03-01T14:28:42.330Z"
   },
   {
    "duration": 5,
    "start_time": "2023-03-01T14:28:42.346Z"
   },
   {
    "duration": 17,
    "start_time": "2023-03-01T14:28:42.353Z"
   },
   {
    "duration": 5,
    "start_time": "2023-03-01T14:28:42.404Z"
   },
   {
    "duration": 295,
    "start_time": "2023-03-01T14:28:42.410Z"
   },
   {
    "duration": 36237,
    "start_time": "2023-03-01T14:28:42.707Z"
   },
   {
    "duration": 46,
    "start_time": "2023-03-03T08:25:43.040Z"
   },
   {
    "duration": 1451,
    "start_time": "2023-03-03T08:25:53.297Z"
   },
   {
    "duration": 163,
    "start_time": "2023-03-03T08:26:00.414Z"
   },
   {
    "duration": 395,
    "start_time": "2023-03-03T08:28:28.258Z"
   },
   {
    "duration": 8,
    "start_time": "2023-03-05T22:21:38.637Z"
   },
   {
    "duration": 2132,
    "start_time": "2023-03-05T22:23:18.116Z"
   },
   {
    "duration": 120,
    "start_time": "2023-03-05T22:24:15.504Z"
   },
   {
    "duration": 14,
    "start_time": "2023-03-05T22:27:06.373Z"
   },
   {
    "duration": 12,
    "start_time": "2023-03-05T22:27:16.323Z"
   },
   {
    "duration": 15,
    "start_time": "2023-03-05T22:27:29.739Z"
   },
   {
    "duration": 15,
    "start_time": "2023-03-05T22:29:58.111Z"
   },
   {
    "duration": 421,
    "start_time": "2023-03-05T22:30:11.171Z"
   },
   {
    "duration": 18,
    "start_time": "2023-03-05T22:30:14.671Z"
   },
   {
    "duration": 411,
    "start_time": "2023-03-05T22:41:40.426Z"
   },
   {
    "duration": 218,
    "start_time": "2023-03-05T22:42:01.716Z"
   },
   {
    "duration": 236,
    "start_time": "2023-03-05T22:52:30.678Z"
   },
   {
    "duration": 90,
    "start_time": "2023-03-05T22:53:07.584Z"
   },
   {
    "duration": 104,
    "start_time": "2023-03-05T22:53:17.667Z"
   },
   {
    "duration": 131,
    "start_time": "2023-03-05T22:53:25.073Z"
   },
   {
    "duration": 125,
    "start_time": "2023-03-05T22:53:30.812Z"
   },
   {
    "duration": 9,
    "start_time": "2023-03-10T21:23:44.447Z"
   },
   {
    "duration": 2073,
    "start_time": "2023-03-10T21:25:09.783Z"
   },
   {
    "duration": 9,
    "start_time": "2023-03-11T16:44:07.188Z"
   },
   {
    "duration": 1680,
    "start_time": "2023-03-11T16:44:08.003Z"
   },
   {
    "duration": 6,
    "start_time": "2023-03-11T16:44:33.892Z"
   },
   {
    "duration": 3,
    "start_time": "2023-03-11T16:45:19.073Z"
   },
   {
    "duration": 441,
    "start_time": "2023-03-11T16:45:58.975Z"
   },
   {
    "duration": 207,
    "start_time": "2023-03-11T16:46:24.929Z"
   },
   {
    "duration": 6,
    "start_time": "2023-03-11T16:46:26.776Z"
   },
   {
    "duration": 3,
    "start_time": "2023-03-11T16:46:29.183Z"
   },
   {
    "duration": 68,
    "start_time": "2023-03-11T16:46:29.645Z"
   },
   {
    "duration": 4,
    "start_time": "2023-03-11T16:46:45.588Z"
   },
   {
    "duration": 3,
    "start_time": "2023-03-11T16:47:20.585Z"
   },
   {
    "duration": 24,
    "start_time": "2023-03-11T16:47:21.129Z"
   },
   {
    "duration": 6,
    "start_time": "2023-03-11T16:47:21.694Z"
   },
   {
    "duration": 184,
    "start_time": "2023-03-11T16:47:32.854Z"
   },
   {
    "duration": 5,
    "start_time": "2023-03-11T16:47:34.022Z"
   },
   {
    "duration": 3,
    "start_time": "2023-03-11T16:47:34.675Z"
   },
   {
    "duration": 53,
    "start_time": "2023-03-11T16:47:35.363Z"
   },
   {
    "duration": 5,
    "start_time": "2023-03-11T16:47:36.198Z"
   },
   {
    "duration": 3,
    "start_time": "2023-03-11T16:48:48.475Z"
   },
   {
    "duration": 4,
    "start_time": "2023-03-11T16:49:28.598Z"
   },
   {
    "duration": 63,
    "start_time": "2023-03-11T16:49:29.058Z"
   },
   {
    "duration": 5,
    "start_time": "2023-03-11T16:49:29.593Z"
   },
   {
    "duration": 188,
    "start_time": "2023-03-11T16:49:33.319Z"
   },
   {
    "duration": 6,
    "start_time": "2023-03-11T16:49:34.057Z"
   },
   {
    "duration": 3,
    "start_time": "2023-03-11T16:49:35.215Z"
   },
   {
    "duration": 86,
    "start_time": "2023-03-11T16:49:36.570Z"
   },
   {
    "duration": 6,
    "start_time": "2023-03-11T16:49:37.342Z"
   },
   {
    "duration": 10,
    "start_time": "2023-03-11T16:49:50.470Z"
   },
   {
    "duration": 11773,
    "start_time": "2023-03-11T16:50:20.571Z"
   },
   {
    "duration": 11,
    "start_time": "2023-03-11T16:52:51.535Z"
   },
   {
    "duration": 3250,
    "start_time": "2023-03-11T16:54:16.969Z"
   },
   {
    "duration": 12145,
    "start_time": "2023-03-11T16:54:35.079Z"
   },
   {
    "duration": 0,
    "start_time": "2023-03-11T16:54:47.226Z"
   },
   {
    "duration": 83,
    "start_time": "2023-03-11T16:54:50.565Z"
   },
   {
    "duration": 614,
    "start_time": "2023-03-11T16:55:29.742Z"
   },
   {
    "duration": 93,
    "start_time": "2023-03-11T16:56:05.720Z"
   },
   {
    "duration": 141,
    "start_time": "2023-03-11T16:57:09.687Z"
   },
   {
    "duration": 71,
    "start_time": "2023-03-11T16:57:31.620Z"
   },
   {
    "duration": 512,
    "start_time": "2023-03-11T16:57:56.873Z"
   },
   {
    "duration": 504,
    "start_time": "2023-03-11T16:58:23.320Z"
   },
   {
    "duration": 487,
    "start_time": "2023-03-11T16:59:02.127Z"
   },
   {
    "duration": 477,
    "start_time": "2023-03-11T17:02:20.578Z"
   },
   {
    "duration": 14,
    "start_time": "2023-03-11T17:02:51.298Z"
   },
   {
    "duration": 384,
    "start_time": "2023-03-11T17:03:16.452Z"
   },
   {
    "duration": 733,
    "start_time": "2023-03-11T17:06:02.325Z"
   },
   {
    "duration": 10934,
    "start_time": "2023-03-11T17:06:05.465Z"
   },
   {
    "duration": 1577,
    "start_time": "2023-11-10T10:05:17.440Z"
   },
   {
    "duration": 128,
    "start_time": "2023-11-10T10:05:19.019Z"
   },
   {
    "duration": 9,
    "start_time": "2023-11-10T10:05:19.149Z"
   },
   {
    "duration": 10,
    "start_time": "2023-11-10T10:05:19.160Z"
   },
   {
    "duration": 16,
    "start_time": "2023-11-10T10:05:19.173Z"
   },
   {
    "duration": 23,
    "start_time": "2023-11-10T10:05:19.191Z"
   },
   {
    "duration": 333,
    "start_time": "2023-11-10T10:05:19.216Z"
   },
   {
    "duration": 7,
    "start_time": "2023-11-10T10:05:19.551Z"
   },
   {
    "duration": 290,
    "start_time": "2023-11-10T10:05:19.560Z"
   },
   {
    "duration": 264,
    "start_time": "2023-11-10T10:05:19.851Z"
   },
   {
    "duration": 232,
    "start_time": "2023-11-10T10:05:20.117Z"
   },
   {
    "duration": 164,
    "start_time": "2023-11-10T10:05:20.350Z"
   },
   {
    "duration": 166,
    "start_time": "2023-11-10T10:05:20.516Z"
   },
   {
    "duration": 4,
    "start_time": "2023-11-10T10:05:20.685Z"
   },
   {
    "duration": 69,
    "start_time": "2023-11-10T10:05:20.690Z"
   },
   {
    "duration": 318,
    "start_time": "2023-11-10T10:05:20.760Z"
   },
   {
    "duration": 13,
    "start_time": "2023-11-10T10:05:21.080Z"
   },
   {
    "duration": 5,
    "start_time": "2023-11-10T10:05:21.094Z"
   },
   {
    "duration": 15,
    "start_time": "2023-11-10T10:05:21.100Z"
   },
   {
    "duration": 6,
    "start_time": "2023-11-10T10:05:21.116Z"
   },
   {
    "duration": 216,
    "start_time": "2023-11-10T10:05:21.124Z"
   },
   {
    "duration": 39839,
    "start_time": "2023-11-10T10:05:21.342Z"
   },
   {
    "duration": 39804,
    "start_time": "2023-11-10T10:06:01.182Z"
   },
   {
    "duration": 5209,
    "start_time": "2023-11-10T10:06:40.988Z"
   },
   {
    "duration": 5,
    "start_time": "2023-11-10T10:06:46.199Z"
   },
   {
    "duration": 6491,
    "start_time": "2023-11-10T10:06:46.205Z"
   },
   {
    "duration": 754,
    "start_time": "2023-11-10T10:06:52.697Z"
   },
   {
    "duration": 3,
    "start_time": "2023-11-10T10:06:53.452Z"
   },
   {
    "duration": 712,
    "start_time": "2023-11-10T10:06:53.456Z"
   },
   {
    "duration": 5,
    "start_time": "2023-11-10T10:06:54.169Z"
   },
   {
    "duration": 24,
    "start_time": "2023-11-10T10:06:54.176Z"
   },
   {
    "duration": 94,
    "start_time": "2023-11-10T10:06:54.202Z"
   },
   {
    "duration": 4,
    "start_time": "2023-11-10T10:06:54.298Z"
   },
   {
    "duration": 11531,
    "start_time": "2023-11-10T10:06:54.304Z"
   },
   {
    "duration": 0,
    "start_time": "2023-11-10T10:07:05.836Z"
   },
   {
    "duration": 0,
    "start_time": "2023-11-10T10:07:05.839Z"
   },
   {
    "duration": 0,
    "start_time": "2023-11-10T10:07:05.840Z"
   },
   {
    "duration": 0,
    "start_time": "2023-11-10T10:07:05.841Z"
   },
   {
    "duration": 0,
    "start_time": "2023-11-10T10:07:05.842Z"
   },
   {
    "duration": 0,
    "start_time": "2023-11-10T10:07:05.843Z"
   },
   {
    "duration": 5022,
    "start_time": "2023-11-10T10:07:41.313Z"
   },
   {
    "duration": 6,
    "start_time": "2023-11-10T10:08:02.818Z"
   },
   {
    "duration": 6048,
    "start_time": "2023-11-10T10:08:04.324Z"
   },
   {
    "duration": 1440,
    "start_time": "2023-11-10T10:31:55.952Z"
   },
   {
    "duration": 57,
    "start_time": "2023-11-10T10:31:57.394Z"
   },
   {
    "duration": 9,
    "start_time": "2023-11-10T10:31:57.452Z"
   },
   {
    "duration": 10,
    "start_time": "2023-11-10T10:31:57.462Z"
   },
   {
    "duration": 18,
    "start_time": "2023-11-10T10:31:57.474Z"
   },
   {
    "duration": 16,
    "start_time": "2023-11-10T10:31:57.493Z"
   },
   {
    "duration": 326,
    "start_time": "2023-11-10T10:31:57.511Z"
   },
   {
    "duration": 6,
    "start_time": "2023-11-10T10:31:57.839Z"
   },
   {
    "duration": 275,
    "start_time": "2023-11-10T10:31:57.846Z"
   },
   {
    "duration": 260,
    "start_time": "2023-11-10T10:31:58.122Z"
   },
   {
    "duration": 227,
    "start_time": "2023-11-10T10:31:58.383Z"
   },
   {
    "duration": 163,
    "start_time": "2023-11-10T10:31:58.611Z"
   },
   {
    "duration": 166,
    "start_time": "2023-11-10T10:31:58.775Z"
   },
   {
    "duration": 3,
    "start_time": "2023-11-10T10:31:58.944Z"
   },
   {
    "duration": 45,
    "start_time": "2023-11-10T10:31:58.949Z"
   },
   {
    "duration": 299,
    "start_time": "2023-11-10T10:31:58.996Z"
   },
   {
    "duration": 13,
    "start_time": "2023-11-10T10:31:59.297Z"
   },
   {
    "duration": 6,
    "start_time": "2023-11-10T10:31:59.312Z"
   },
   {
    "duration": 24,
    "start_time": "2023-11-10T10:31:59.319Z"
   },
   {
    "duration": 8,
    "start_time": "2023-11-10T10:31:59.344Z"
   },
   {
    "duration": 188,
    "start_time": "2023-11-10T10:31:59.354Z"
   },
   {
    "duration": 40230,
    "start_time": "2023-11-10T10:31:59.543Z"
   },
   {
    "duration": 40317,
    "start_time": "2023-11-10T10:32:39.774Z"
   },
   {
    "duration": 5684,
    "start_time": "2023-11-10T10:33:20.092Z"
   },
   {
    "duration": 5,
    "start_time": "2023-11-10T10:33:25.777Z"
   },
   {
    "duration": 5965,
    "start_time": "2023-11-10T10:33:25.783Z"
   }
  ],
  "kernelspec": {
   "display_name": "Python 3 (ipykernel)",
   "language": "python",
   "name": "python3"
  },
  "language_info": {
   "codemirror_mode": {
    "name": "ipython",
    "version": 3
   },
   "file_extension": ".py",
   "mimetype": "text/x-python",
   "name": "python",
   "nbconvert_exporter": "python",
   "pygments_lexer": "ipython3",
   "version": "3.9.5"
  },
  "toc": {
   "base_numbering": 1,
   "nav_menu": {},
   "number_sections": true,
   "sideBar": true,
   "skip_h1_title": true,
   "title_cell": "Содержание",
   "title_sidebar": "Contents",
   "toc_cell": true,
   "toc_position": {
    "height": "calc(100% - 180px)",
    "left": "10px",
    "top": "150px",
    "width": "167.188px"
   },
   "toc_section_display": true,
   "toc_window_display": false
  }
 },
 "nbformat": 4,
 "nbformat_minor": 2
}
