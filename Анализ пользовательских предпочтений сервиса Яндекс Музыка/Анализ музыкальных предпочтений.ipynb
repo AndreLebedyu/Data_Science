{
 "cells": [
  {
   "cell_type": "markdown",
   "metadata": {
    "deletable": false,
    "editable": false,
    "id": "E0vqbgi9ay0H"
   },
   "source": [
    "# Яндекс Музыка"
   ]
  },
  {
   "cell_type": "markdown",
   "metadata": {
    "deletable": false,
    "editable": false,
    "id": "VUC88oWjTJw2"
   },
   "source": [
    "Сравнение Москвы и Петербурга окружено мифами. Например:\n",
    " * Москва — мегаполис, подчинённый жёсткому ритму рабочей недели;\n",
    " * Петербург — культурная столица, со своими вкусами.\n",
    "\n",
    "На данных Яндекс Музыки вы сравните поведение пользователей двух столиц.\n",
    "\n",
    "**Цель исследования** — проверьте три гипотезы:\n",
    "1. Активность пользователей зависит от дня недели. Причём в Москве и Петербурге это проявляется по-разному.\n",
    "2. В понедельник утром в Москве преобладают одни жанры, а в Петербурге — другие. Так же и вечером пятницы преобладают разные жанры — в зависимости от города. \n",
    "3. Москва и Петербург предпочитают разные жанры музыки. В Москве чаще слушают поп-музыку, в Петербурге — русский рэп.\n",
    "\n",
    "**Ход исследования**\n",
    "\n",
    "Данные о поведении пользователей вы получите из файла `yandex_music_project.csv`. О качестве данных ничего не известно. Поэтому перед проверкой гипотез понадобится обзор данных. \n",
    "\n",
    "Вы проверите данные на ошибки и оцените их влияние на исследование. Затем, на этапе предобработки вы поищете возможность исправить самые критичные ошибки данных.\n",
    " \n",
    "Таким образом, исследование пройдёт в три этапа:\n",
    " 1. Обзор данных.\n",
    " 2. Предобработка данных.\n",
    " 3. Проверка гипотез.\n",
    "\n"
   ]
  },
  {
   "cell_type": "markdown",
   "metadata": {
    "deletable": false,
    "editable": false,
    "id": "Ml1hmfXC_Zcs"
   },
   "source": [
    "## Обзор данных\n",
    "\n",
    "Составьте первое представление о данных Яндекс Музыки.\n",
    "\n",
    "\n"
   ]
  },
  {
   "cell_type": "markdown",
   "metadata": {
    "deletable": false,
    "editable": false,
    "id": "57eAOGIz_Zcs",
    "tags": [
     "start_task"
    ]
   },
   "source": [
    
  
    "Основной инструмент аналитика — `pandas`. Импортируем эту библиотеку."
   ]
  },
  {
   "cell_type": "code",
   "execution_count": 1,
   "metadata": {
    "deletable": false,
    "id": "AXN7PHPN_Zcs"
   },
   "outputs": [],
   "source": [
    "import pandas as pd # импорт библиотеки pandas"
   ]
  },
  {
   "cell_type": "markdown",
   "metadata": {
    "deletable": false,
    "editable": false,
    "id": "SG23P8tt_Zcs",
    "tags": [
     "start_task"
    ]
   },
   "source": [
    "**Задание 2**\n",
    "\n",
    "Прочитаем файл `yandex_music_project.csv` и сохраним его в переменной `df`:"
   ]
  },
  {
   "cell_type": "code",
   "execution_count": 2,
   "metadata": {
    "deletable": false,
    "id": "fFVu7vqh_Zct"
   },
   "outputs": [],
   "source": [
    "df = pd.read_csv('/datasets/yandex_music_project.csv') # чтение файла с данными и сохранение в df"
   ]
  },
  {
   "cell_type": "markdown",
   "metadata": {
    "deletable": false,
    "editable": false,
    "id": "rDoOMd3uTqnZ",
    "tags": [
     "start_task"
    ]
   },
   "source": [
    "**Задание 3**\n",
    "\n",
    "\n",
    "Выведем на экран первые десять строк таблицы:"
   ]
  },
  {
   "cell_type": "code",
   "execution_count": 3,
   "metadata": {
    "deletable": false,
    "id": "oWTVX3gW_Zct"
   },
   "outputs": [
    {
     "name": "stdout",
     "output_type": "stream",
     "text": [
      "     userID                        Track            artist   genre  \\\n",
      "0  FFB692EC            Kamigata To Boots  The Mass Missile    rock   \n",
      "1  55204538  Delayed Because of Accident  Andreas Rönnberg    rock   \n",
      "2    20EC38            Funiculì funiculà       Mario Lanza     pop   \n",
      "3  A3DD03C9        Dragons in the Sunset        Fire + Ice    folk   \n",
      "4  E2DC1FAE                  Soul People        Space Echo   dance   \n",
      "5  842029A1                    Преданная         IMPERVTOR  rusrap   \n",
      "6  4CB90AA5                         True      Roman Messer   dance   \n",
      "7  F03E1C1F             Feeling This Way   Polina Griffith   dance   \n",
      "8  8FA1D3BE     И вновь продолжается бой               NaN  ruspop   \n",
      "9  E772D5C0                    Pessimist               NaN   dance   \n",
      "\n",
      "             City        time        Day  \n",
      "0  Saint-Petersburg  20:28:33  Wednesday  \n",
      "1            Moscow  14:07:09     Friday  \n",
      "2  Saint-Petersburg  20:58:07  Wednesday  \n",
      "3  Saint-Petersburg  08:37:09     Monday  \n",
      "4            Moscow  08:34:34     Monday  \n",
      "5  Saint-Petersburg  13:09:41     Friday  \n",
      "6            Moscow  13:00:07  Wednesday  \n",
      "7            Moscow  20:47:49  Wednesday  \n",
      "8            Moscow  09:17:40     Friday  \n",
      "9  Saint-Petersburg  21:20:49  Wednesday  \n"
     ]
    }
   ],
   "source": [
    "print(df.head(10)) # получение первых 10 строк таблицы df"
   ]
  },
  {
   "cell_type": "markdown",
   "metadata": {
    "deletable": false,
    "editable": false,
    "id": "EO73Kwic_Zct",
    "tags": [
     "start_task"
    ]
   },
   "source": [
    "**Задание 4**\n",
    "\n",
    "\n",
    "Получим общую информацию о таблице c помощью метода `info()`:"
   ]
  },
  {
   "cell_type": "code",
   "execution_count": 4,
   "metadata": {
    "deletable": false,
    "id": "DSf2kIb-_Zct"
   },
   "outputs": [
    {
     "name": "stdout",
     "output_type": "stream",
     "text": [
      "<class 'pandas.core.frame.DataFrame'>\n",
      "RangeIndex: 65079 entries, 0 to 65078\n",
      "Data columns (total 7 columns):\n",
      " #   Column    Non-Null Count  Dtype \n",
      "---  ------    --------------  ----- \n",
      " 0     userID  65079 non-null  object\n",
      " 1   Track     63848 non-null  object\n",
      " 2   artist    57876 non-null  object\n",
      " 3   genre     63881 non-null  object\n",
      " 4     City    65079 non-null  object\n",
      " 5   time      65079 non-null  object\n",
      " 6   Day       65079 non-null  object\n",
      "dtypes: object(7)\n",
      "memory usage: 3.5+ MB\n"
     ]
    }
   ],
   "source": [
    "df.info() # получение общей информации о данных в таблице df"
   ]
  },
  {
   "cell_type": "markdown",
   "metadata": {
    "deletable": false,
    "editable": false,
    "id": "TaQ2Iwbr_Zct"
   },
   "source": [
    "Итак, в таблице семь столбцов. Тип данных во всех столбцах — `object`.\n",
    "\n",
    "Согласно документации к данным:\n",
    "* `userID` — идентификатор пользователя;\n",
    "* `Track` — название трека;  \n",
    "* `artist` — имя исполнителя;\n",
    "* `genre` — название жанра;\n",
    "* `City` — город пользователя;\n",
    "* `time` — время начала прослушивания;\n",
    "* `Day` — день недели.\n",
    "\n",
    "Количество значений в столбцах различается. Значит, в данных есть пропущенные значения."
   ]
  },
  {
   "cell_type": "markdown",
   "metadata": {
    "deletable": false,
    "editable": false,
    "id": "rAfziTBDmf2h",
    "tags": [
     "start_task"
    ]
   },
   "source": [
    "**Задание 5**\n",
    "\n",
    "**Вопрос со свободной формой ответа**\n",
    "\n",
    "В названиях колонок видны нарушения стиля:\n",
    "* Строчные буквы сочетаются с прописными.\n",
    "* Встречаются пробелы.\n",
    "\n",
    "Какое третье нарушение?"
   ]
  },
  {
   "cell_type": "code",
   "execution_count": 5,
   "metadata": {
    "id": "jD8EXEIvmf2h"
   },
   "outputs": [],
   "source": [
    "# для некоторых названий столбцов необходим \"змеиный регистр\""
   ]
  },
  {
   "cell_type": "markdown",
   "metadata": {
    "deletable": false,
    "editable": false,
    "id": "MCB6-dXG_Zct"
   },
   "source": [
    "**Выводы**\n",
    "\n",
    "В каждой строке таблицы — данные о прослушанном треке. Часть колонок описывает саму композицию: название, исполнителя и жанр. Остальные данные рассказывают о пользователе: из какого он города, когда он слушал музыку. \n",
    "\n",
    "Предварительно можно утверждать, что данных достаточно для проверки гипотез. Но встречаются пропуски в данных, а в названиях колонок — расхождения с хорошим стилем.\n",
    "\n",
    "Чтобы двигаться дальше, нужно устранить проблемы в данных."
   ]
  },
  {
   "cell_type": "markdown",
   "metadata": {
    "deletable": false,
    "editable": false,
    "id": "SjYF6Ub9_Zct"
   },
   "source": [
    "## Предобработка данных\n",
    "Исправьте стиль в заголовках столбцов, исключите пропуски. Затем проверьте данные на дубликаты."
   ]
  },
  {
   "cell_type": "markdown",
   "metadata": {
    "deletable": false,
    "editable": false,
    "id": "dIaKXr29_Zct",
    "tags": [
     "start_task"
    ]
   },
   "source": [
    "### Стиль заголовков\n",
    "\n",
    "**Задание 6**\n",
    "\n",
    "Выведите на экран названия столбцов:"
   ]
  },
  {
   "cell_type": "code",
   "execution_count": 6,
   "metadata": {
    "deletable": false,
    "id": "oKOTdF_Q_Zct"
   },
   "outputs": [
    {
     "name": "stdout",
     "output_type": "stream",
     "text": [
      "Index(['  userID', 'Track', 'artist', 'genre', '  City  ', 'time', 'Day'], dtype='object')\n"
     ]
    }
   ],
   "source": [
    "print(df.columns) # перечень названий столбцов таблицы df"
   ]
  },
  {
   "cell_type": "markdown",
   "metadata": {
    "deletable": false,
    "editable": false,
    "id": "zj5534cv_Zct",
    "tags": [
     "start_task"
    ]
   },
   "source": [
    "**Задание 7**\n",
    "\n",
    "\n",
    "Приведите названия в соответствие с хорошим стилем:\n",
    "* несколько слов в названии запишите в «змеином_регистре»,\n",
    "* все символы сделайте строчными,\n",
    "* устраните пробелы.\n",
    "\n",
    "Для этого переименуйте колонки так:\n",
    "* `'  userID'` → `'user_id'`;\n",
    "* `'Track'` → `'track'`;\n",
    "* `'  City  '` → `'city'`;\n",
    "* `'Day'` → `'day'`."
   ]
  },
  {
   "cell_type": "code",
   "execution_count": 7,
   "metadata": {
    "deletable": false,
    "id": "ISlFqs5y_Zct"
   },
   "outputs": [],
   "source": [
    "df = df.rename(\n",
    "    columns = {\n",
    "    '  userID':'user_id',\n",
    "    'Track': 'track', \n",
    "    '  City  ':'city',\n",
    "    'Day': 'day'\n",
    "}\n",
    ") # переименование столбцов"
   ]
  },
  {
   "cell_type": "markdown",
   "metadata": {
    "deletable": false,
    "editable": false,
    "id": "1dqbh00J_Zct",
    "tags": [
     "start_task"
    ]
   },
   "source": [
    "**Задание 8**\n",
    "\n",
    "\n",
    "Проверьте результат. Для этого ещё раз выведите на экран названия столбцов:"
   ]
  },
  {
   "cell_type": "code",
   "execution_count": 8,
   "metadata": {
    "deletable": false,
    "id": "d4NOAmTW_Zct"
   },
   "outputs": [
    {
     "name": "stdout",
     "output_type": "stream",
     "text": [
      "Index(['user_id', 'track', 'artist', 'genre', 'city', 'time', 'day'], dtype='object')\n"
     ]
    }
   ],
   "source": [
    "print(df.columns) # проверка результатов - перечень названий столбцов"
   ]
  },
  {
   "cell_type": "markdown",
   "metadata": {
    "deletable": false,
    "editable": false,
    "id": "5ISfbcfY_Zct",
    "tags": [
     "start_task"
    ]
   },
   "source": [
    "### Пропуски значений\n",
    "\n",
    "**Задание 9**\n",
    "\n",
    "Сначала посчитайте, сколько в таблице пропущенных значений. Для этого достаточно двух методов `pandas`:"
   ]
  },
  {
   "cell_type": "code",
   "execution_count": 9,
   "metadata": {
    "deletable": false,
    "id": "RskX29qr_Zct"
   },
   "outputs": [
    {
     "name": "stdout",
     "output_type": "stream",
     "text": [
      "user_id       0\n",
      "track      1231\n",
      "artist     7203\n",
      "genre      1198\n",
      "city          0\n",
      "time          0\n",
      "day           0\n",
      "dtype: int64\n"
     ]
    }
   ],
   "source": [
    "print(df.isna().sum()) # подсчёт пропусков"
   ]
  },
  {
   "cell_type": "markdown",
   "metadata": {
    "deletable": false,
    "editable": false,
    "id": "qubhgnlO_Zct"
   },
   "source": [
    "Не все пропущенные значения влияют на исследование. Так в `track` и `artist` пропуски не важны для вашей работы. Достаточно заменить их явными обозначениями.\n",
    "\n",
    "Но пропуски в `genre` могут помешать сравнению музыкальных вкусов в Москве и Санкт-Петербурге. На практике было бы правильно установить причину пропусков и восстановить данные. Такой возможности нет в учебном проекте. Придётся:\n",
    "* заполнить и эти пропуски явными обозначениями;\n",
    "* оценить, насколько они повредят расчётам. "
   ]
  },
  {
   "cell_type": "markdown",
   "metadata": {
    "deletable": false,
    "editable": false,
    "id": "fSv2laPA_Zct",
    "tags": [
     "start_task"
    ]
   },
   "source": [
    "**Задание 10**\n",
    "\n",
    "Замените пропущенные значения в столбцах `track`, `artist` и `genre` на строку `'unknown'`. Для этого создайте список `columns_to_replace`, переберите его элементы циклом `for` и для каждого столбца выполните замену пропущенных значений:"
   ]
  },
  {
   "cell_type": "code",
   "execution_count": 10,
   "metadata": {
    "deletable": false,
    "id": "KplB5qWs_Zct"
   },
   "outputs": [],
   "source": [
    "columns_to_replace = ['track', 'artist', 'genre']\n",
    "for _ in columns_to_replace:\n",
    "    df[_] = df[_].fillna('unknown') # перебор названий столбцов в цикле и замена пропущенных значений на 'unknown'"
   ]
  },
  {
   "cell_type": "markdown",
   "metadata": {
    "deletable": false,
    "editable": false,
    "id": "Ilsm-MZo_Zct",
    "tags": [
     "start_task"
    ]
   },
   "source": [
    "**Задание 11**\n",
    "\n",
    "Убедитесь, что в таблице не осталось пропусков. Для этого ещё раз посчитайте пропущенные значения."
   ]
  },
  {
   "cell_type": "code",
   "execution_count": 11,
   "metadata": {
    "deletable": false,
    "id": "Tq4nYRX4_Zct"
   },
   "outputs": [
    {
     "name": "stdout",
     "output_type": "stream",
     "text": [
      "user_id    0\n",
      "track      0\n",
      "artist     0\n",
      "genre      0\n",
      "city       0\n",
      "time       0\n",
      "day        0\n",
      "dtype: int64\n"
     ]
    }
   ],
   "source": [
    "print(df.isna().sum()) # подсчёт пропусков"
   ]
  },
  {
   "cell_type": "markdown",
   "metadata": {
    "deletable": false,
    "editable": false,
    "id": "BWKRtBJ3_Zct",
    "tags": [
     "start_task"
    ]
   },
   "source": [
    "### Дубликаты\n",
    "\n",
    "**Задание 12**\n",
    "\n",
    "Посчитайте явные дубликаты в таблице одной командой:"
   ]
  },
  {
   "cell_type": "code",
   "execution_count": 12,
   "metadata": {
    "deletable": false,
    "id": "36eES_S0_Zct"
   },
   "outputs": [
    {
     "name": "stdout",
     "output_type": "stream",
     "text": [
      "3826\n"
     ]
    }
   ],
   "source": [
    "print(df.duplicated().sum()) # подсчёт явных дубликатов"
   ]
  },
  {
   "cell_type": "markdown",
   "metadata": {
    "deletable": false,
    "editable": false,
    "id": "Ot25h6XR_Zct",
    "tags": [
     "start_task"
    ]
   },
   "source": [
    "**Задание 13**\n",
    "\n",
    "Вызовите специальный метод `pandas`, чтобы удалить явные дубликаты:"
   ]
  },
  {
   "cell_type": "code",
   "execution_count": 13,
   "metadata": {
    "deletable": false,
    "id": "exFHq6tt_Zct",
    "scrolled": true
   },
   "outputs": [],
   "source": [
    "df = df.drop_duplicates() # удаление явных дубликатов"
   ]
  },
  {
   "cell_type": "markdown",
   "metadata": {
    "deletable": false,
    "editable": false,
    "id": "Im2YwBEG_Zct",
    "tags": [
     "start_task"
    ]
   },
   "source": [
    "**Задание 14**\n",
    "\n",
    "Ещё раз посчитайте явные дубликаты в таблице — убедитесь, что полностью от них избавились:"
   ]
  },
  {
   "cell_type": "code",
   "execution_count": 14,
   "metadata": {
    "deletable": false,
    "id": "-8PuNWQ0_Zct"
   },
   "outputs": [
    {
     "name": "stdout",
     "output_type": "stream",
     "text": [
      "0\n"
     ]
    }
   ],
   "source": [
    "print(df.duplicated().sum()) # проверка на отсутствие дубликатов"
   ]
  },
  {
   "cell_type": "markdown",
   "metadata": {
    "deletable": false,
    "editable": false,
    "id": "QlFBsxAr_Zct"
   },
   "source": [
    "Теперь избавьтесь от неявных дубликатов в колонке `genre`. Например, название одного и того же жанра может быть записано немного по-разному. Такие ошибки тоже повлияют на результат исследования."
   ]
  },
  {
   "cell_type": "markdown",
   "metadata": {
    "deletable": false,
    "editable": false,
    "id": "eSjWwsOh_Zct",
    "tags": [
     "start_task"
    ]
   },
   "source": [
    "**Задание 15**\n",
    "\n",
    "Выведите на экран список уникальных названий жанров, отсортированный в алфавитном порядке. Для этого:\n",
    "1. извлеките нужный столбец датафрейма; \n",
    "2. примените к нему метод сортировки;\n",
    "3. для отсортированного столбца вызовите метод, который вернёт уникальные значения из столбца."
   ]
  },
  {
   "cell_type": "code",
   "execution_count": 15,
   "metadata": {
    "deletable": false,
    "id": "JIUcqzZN_Zct"
   },
   "outputs": [
    {
     "name": "stdout",
     "output_type": "stream",
     "text": [
      "['acid' 'acoustic' 'action' 'adult' 'africa' 'afrikaans' 'alternative'\n",
      " 'alternativepunk' 'ambient' 'americana' 'animated' 'anime' 'arabesk'\n",
      " 'arabic' 'arena' 'argentinetango' 'art' 'audiobook' 'author' 'avantgarde'\n",
      " 'axé' 'baile' 'balkan' 'beats' 'bigroom' 'black' 'bluegrass' 'blues'\n",
      " 'bollywood' 'bossa' 'brazilian' 'breakbeat' 'breaks' 'broadway'\n",
      " 'cantautori' 'cantopop' 'canzone' 'caribbean' 'caucasian' 'celtic'\n",
      " 'chamber' 'chanson' 'children' 'chill' 'chinese' 'choral' 'christian'\n",
      " 'christmas' 'classical' 'classicmetal' 'club' 'colombian' 'comedy'\n",
      " 'conjazz' 'contemporary' 'country' 'cuban' 'dance' 'dancehall' 'dancepop'\n",
      " 'dark' 'death' 'deep' 'deutschrock' 'deutschspr' 'dirty' 'disco' 'dnb'\n",
      " 'documentary' 'downbeat' 'downtempo' 'drum' 'dub' 'dubstep' 'eastern'\n",
      " 'easy' 'electronic' 'electropop' 'emo' 'entehno' 'epicmetal' 'estrada'\n",
      " 'ethnic' 'eurofolk' 'european' 'experimental' 'extrememetal' 'fado'\n",
      " 'fairytail' 'film' 'fitness' 'flamenco' 'folk' 'folklore' 'folkmetal'\n",
      " 'folkrock' 'folktronica' 'forró' 'frankreich' 'französisch' 'french'\n",
      " 'funk' 'future' 'gangsta' 'garage' 'german' 'ghazal' 'gitarre' 'glitch'\n",
      " 'gospel' 'gothic' 'grime' 'grunge' 'gypsy' 'handsup' \"hard'n'heavy\"\n",
      " 'hardcore' 'hardstyle' 'hardtechno' 'hip' 'hip-hop' 'hiphop' 'historisch'\n",
      " 'holiday' 'hop' 'horror' 'house' 'hymn' 'idm' 'independent' 'indian'\n",
      " 'indie' 'indipop' 'industrial' 'inspirational' 'instrumental'\n",
      " 'international' 'irish' 'jam' 'japanese' 'jazz' 'jewish' 'jpop' 'jungle'\n",
      " 'k-pop' 'karadeniz' 'karaoke' 'kayokyoku' 'korean' 'laiko' 'latin'\n",
      " 'latino' 'leftfield' 'local' 'lounge' 'loungeelectronic' 'lovers'\n",
      " 'malaysian' 'mandopop' 'marschmusik' 'meditative' 'mediterranean'\n",
      " 'melodic' 'metal' 'metalcore' 'mexican' 'middle' 'minimal'\n",
      " 'miscellaneous' 'modern' 'mood' 'mpb' 'muslim' 'native' 'neoklassik'\n",
      " 'neue' 'new' 'newage' 'newwave' 'nu' 'nujazz' 'numetal' 'oceania' 'old'\n",
      " 'opera' 'orchestral' 'other' 'piano' 'podcasts' 'pop' 'popdance'\n",
      " 'popelectronic' 'popeurodance' 'poprussian' 'post' 'posthardcore'\n",
      " 'postrock' 'power' 'progmetal' 'progressive' 'psychedelic' 'punjabi'\n",
      " 'punk' 'quebecois' 'ragga' 'ram' 'rancheras' 'rap' 'rave' 'reggae'\n",
      " 'reggaeton' 'regional' 'relax' 'religious' 'retro' 'rhythm' 'rnb' 'rnr'\n",
      " 'rock' 'rockabilly' 'rockalternative' 'rockindie' 'rockother' 'romance'\n",
      " 'roots' 'ruspop' 'rusrap' 'rusrock' 'russian' 'salsa' 'samba' 'scenic'\n",
      " 'schlager' 'self' 'sertanejo' 'shanson' 'shoegazing' 'showtunes' 'singer'\n",
      " 'ska' 'skarock' 'slow' 'smooth' 'soft' 'soul' 'soulful' 'sound'\n",
      " 'soundtrack' 'southern' 'specialty' 'speech' 'spiritual' 'sport'\n",
      " 'stonerrock' 'surf' 'swing' 'synthpop' 'synthrock' 'sängerportrait'\n",
      " 'tango' 'tanzorchester' 'taraftar' 'tatar' 'tech' 'techno' 'teen'\n",
      " 'thrash' 'top' 'traditional' 'tradjazz' 'trance' 'tribal' 'trip'\n",
      " 'triphop' 'tropical' 'türk' 'türkçe' 'ukrrock' 'unknown' 'urban' 'uzbek'\n",
      " 'variété' 'vi' 'videogame' 'vocal' 'western' 'world' 'worldbeat' 'ïîï'\n",
      " 'электроника']\n"
     ]
    }
   ],
   "source": [
    "genre = df[\"genre\"]\n",
    "sorted_genre = genre.sort_values()\n",
    "print(sorted_genre.unique()) # Просмотр уникальных названий жанров"
   ]
  },
  {
   "cell_type": "markdown",
   "metadata": {
    "deletable": false,
    "editable": false,
    "id": "qej-Qmuo_Zct",
    "tags": [
     "start_task"
    ]
   },
   "source": [
    "**Задание 16**\n",
    "\n",
    "Просмотрите список и найдите неявные дубликаты названия `hiphop`. Это могут быть названия с ошибками или альтернативные названия того же жанра.\n",
    "\n",
    "Вы увидите следующие неявные дубликаты:\n",
    "* *hip*,\n",
    "* *hop*,\n",
    "* *hip-hop*.\n",
    "\n",
    "Чтобы очистить от них таблицу используйте метод `replace()` с двумя аргументами: списком строк-дубликатов (включащий *hip*, *hop* и *hip-hop*) и строкой с правильным значением. Вам нужно исправить колонку `genre` в таблице `df`: заменить каждое значение из списка дубликатов на верное. Вместо `hip`, `hop` и `hip-hop` в таблице должно быть значение `hiphop`:"
   ]
  },
  {
   "cell_type": "code",
   "execution_count": 16,
   "metadata": {
    "deletable": false,
    "id": "ErNDkmns_Zct"
   },
   "outputs": [],
   "source": [
    "bad_name = ['hip', 'hop', 'hip-hop']\n",
    "good_name = ('hiphop')\n",
    "df = df.replace(bad_name, good_name) # Устранение неявных дубликатов"
   ]
  },
  {
   "cell_type": "markdown",
   "metadata": {
    "deletable": false,
    "editable": false,
    "id": "zQKF16_RG15m",
    "tags": [
     "start_task"
    ]
   },
   "source": [
    "**Задание 17**\n",
    "\n",
    "Проверьте, что заменили неправильные названия:\n",
    "\n",
    "*   hip,\n",
    "*   hop,\n",
    "*   hip-hop.\n",
    "\n",
    "Выведите отсортированный список уникальных значений столбца `genre`:"
   ]
  },
  {
   "cell_type": "code",
   "execution_count": 17,
   "metadata": {
    "deletable": false,
    "id": "wvixALnFG15m",
    "scrolled": false
   },
   "outputs": [
    {
     "name": "stdout",
     "output_type": "stream",
     "text": [
      "['acid' 'acoustic' 'action' 'adult' 'africa' 'afrikaans' 'alternative'\n",
      " 'alternativepunk' 'ambient' 'americana' 'animated' 'anime' 'arabesk'\n",
      " 'arabic' 'arena' 'argentinetango' 'art' 'audiobook' 'author' 'avantgarde'\n",
      " 'axé' 'baile' 'balkan' 'beats' 'bigroom' 'black' 'bluegrass' 'blues'\n",
      " 'bollywood' 'bossa' 'brazilian' 'breakbeat' 'breaks' 'broadway'\n",
      " 'cantautori' 'cantopop' 'canzone' 'caribbean' 'caucasian' 'celtic'\n",
      " 'chamber' 'chanson' 'children' 'chill' 'chinese' 'choral' 'christian'\n",
      " 'christmas' 'classical' 'classicmetal' 'club' 'colombian' 'comedy'\n",
      " 'conjazz' 'contemporary' 'country' 'cuban' 'dance' 'dancehall' 'dancepop'\n",
      " 'dark' 'death' 'deep' 'deutschrock' 'deutschspr' 'dirty' 'disco' 'dnb'\n",
      " 'documentary' 'downbeat' 'downtempo' 'drum' 'dub' 'dubstep' 'eastern'\n",
      " 'easy' 'electronic' 'electropop' 'emo' 'entehno' 'epicmetal' 'estrada'\n",
      " 'ethnic' 'eurofolk' 'european' 'experimental' 'extrememetal' 'fado'\n",
      " 'fairytail' 'film' 'fitness' 'flamenco' 'folk' 'folklore' 'folkmetal'\n",
      " 'folkrock' 'folktronica' 'forró' 'frankreich' 'französisch' 'french'\n",
      " 'funk' 'future' 'gangsta' 'garage' 'german' 'ghazal' 'gitarre' 'glitch'\n",
      " 'gospel' 'gothic' 'grime' 'grunge' 'gypsy' 'handsup' \"hard'n'heavy\"\n",
      " 'hardcore' 'hardstyle' 'hardtechno' 'hiphop' 'historisch' 'holiday'\n",
      " 'horror' 'house' 'hymn' 'idm' 'independent' 'indian' 'indie' 'indipop'\n",
      " 'industrial' 'inspirational' 'instrumental' 'international' 'irish' 'jam'\n",
      " 'japanese' 'jazz' 'jewish' 'jpop' 'jungle' 'k-pop' 'karadeniz' 'karaoke'\n",
      " 'kayokyoku' 'korean' 'laiko' 'latin' 'latino' 'leftfield' 'local'\n",
      " 'lounge' 'loungeelectronic' 'lovers' 'malaysian' 'mandopop' 'marschmusik'\n",
      " 'meditative' 'mediterranean' 'melodic' 'metal' 'metalcore' 'mexican'\n",
      " 'middle' 'minimal' 'miscellaneous' 'modern' 'mood' 'mpb' 'muslim'\n",
      " 'native' 'neoklassik' 'neue' 'new' 'newage' 'newwave' 'nu' 'nujazz'\n",
      " 'numetal' 'oceania' 'old' 'opera' 'orchestral' 'other' 'piano' 'podcasts'\n",
      " 'pop' 'popdance' 'popelectronic' 'popeurodance' 'poprussian' 'post'\n",
      " 'posthardcore' 'postrock' 'power' 'progmetal' 'progressive' 'psychedelic'\n",
      " 'punjabi' 'punk' 'quebecois' 'ragga' 'ram' 'rancheras' 'rap' 'rave'\n",
      " 'reggae' 'reggaeton' 'regional' 'relax' 'religious' 'retro' 'rhythm'\n",
      " 'rnb' 'rnr' 'rock' 'rockabilly' 'rockalternative' 'rockindie' 'rockother'\n",
      " 'romance' 'roots' 'ruspop' 'rusrap' 'rusrock' 'russian' 'salsa' 'samba'\n",
      " 'scenic' 'schlager' 'self' 'sertanejo' 'shanson' 'shoegazing' 'showtunes'\n",
      " 'singer' 'ska' 'skarock' 'slow' 'smooth' 'soft' 'soul' 'soulful' 'sound'\n",
      " 'soundtrack' 'southern' 'specialty' 'speech' 'spiritual' 'sport'\n",
      " 'stonerrock' 'surf' 'swing' 'synthpop' 'synthrock' 'sängerportrait'\n",
      " 'tango' 'tanzorchester' 'taraftar' 'tatar' 'tech' 'techno' 'teen'\n",
      " 'thrash' 'top' 'traditional' 'tradjazz' 'trance' 'tribal' 'trip'\n",
      " 'triphop' 'tropical' 'türk' 'türkçe' 'ukrrock' 'unknown' 'urban' 'uzbek'\n",
      " 'variété' 'vi' 'videogame' 'vocal' 'western' 'world' 'worldbeat' 'ïîï'\n",
      " 'электроника']\n"
     ]
    }
   ],
   "source": [
    "print(df[\"genre\"].sort_values().unique()) # Проверка на неявные дубликаты"
   ]
  },
  {
   "cell_type": "markdown",
   "metadata": {
    "deletable": false,
    "editable": false,
    "id": "jz6a9-7HQUDd"
   },
   "source": [
    "**Выводы**\n",
    "\n",
    "Предобработка обнаружила три проблемы в данных:\n",
    "\n",
    "- нарушения в стиле заголовков,\n",
    "- пропущенные значения,\n",
    "- дубликаты — явные и неявные.\n",
    "\n",
    "Вы исправили заголовки, чтобы упростить работу с таблицей. Без дубликатов исследование станет более точным.\n",
    "\n",
    "Пропущенные значения вы заменили на `'unknown'`. Ещё предстоит увидеть, не повредят ли исследованию пропуски в колонке `genre`.\n",
    "\n",
    "Теперь можно перейти к проверке гипотез. "
   ]
  },
  {
   "cell_type": "markdown",
   "metadata": {
    "deletable": false,
    "editable": false,
    "id": "WttZHXH0SqKk"
   },
   "source": [
    "## Проверка гипотез"
   ]
  },
  {
   "cell_type": "markdown",
   "metadata": {
    "deletable": false,
    "editable": false,
    "id": "Im936VVi_Zcu"
   },
   "source": [
    "### Сравнение поведения пользователей двух столиц"
   ]
  },
  {
   "cell_type": "markdown",
   "metadata": {
    "deletable": false,
    "editable": false,
    "id": "nwt_MuaL_Zcu"
   },
   "source": [
    "Первая гипотеза утверждает, что пользователи по-разному слушают музыку в Москве и Санкт-Петербурге. Проверьте это предположение по данным о трёх днях недели — понедельнике, среде и пятнице. Для этого:\n",
    "\n",
    "* Разделите пользователей Москвы и Санкт-Петербурга.\n",
    "* Сравните, сколько треков послушала каждая группа пользователей в понедельник, среду и пятницу.\n"
   ]
  },
  {
   "cell_type": "markdown",
   "metadata": {
    "deletable": false,
    "editable": false,
    "id": "8Dw_YMmT_Zcu",
    "tags": [
     "start_task"
    ]
   },
   "source": [
    "**Задание 18**\n",
    "\n",
    "Для тренировки сначала выполните каждый из расчётов по отдельности. \n",
    "\n",
    "Оцените активность пользователей в каждом городе. Сгруппируйте данные по городу и посчитайте прослушивания в каждой группе.\n",
    "\n"
   ]
  },
  {
   "cell_type": "code",
   "execution_count": 18,
   "metadata": {
    "deletable": false,
    "id": "0_Qs96oh_Zcu",
    "scrolled": false
   },
   "outputs": [
    {
     "name": "stdout",
     "output_type": "stream",
     "text": [
      "city\n",
      "Moscow              42741\n",
      "Saint-Petersburg    18512\n",
      "Name: time, dtype: int64\n"
     ]
    }
   ],
   "source": [
    "print(df.groupby(\"city\")['time'].count()) # Подсчёт прослушиваний в каждом городе"
   ]
  },
  {
   "cell_type": "markdown",
   "metadata": {
    "deletable": false,
    "editable": false,
    "id": "dzli3w8o_Zcu",
    "tags": [
     "start_task"
    ]
   },
   "source": [
    "В Москве прослушиваний больше, чем в Петербурге. Из этого не следует, что московские пользователи чаще слушают музыку. Просто самих пользователей в Москве больше.\n",
    "\n",
    "**Задание 19**\n",
    "\n",
    "Теперь сгруппируйте данные по дню недели и посчитайте прослушивания в понедельник, среду и пятницу. Учтите, что в данных есть информация о прослушиваниях только за эти дни.\n"
   ]
  },
  {
   "cell_type": "code",
   "execution_count": 19,
   "metadata": {
    "deletable": false,
    "id": "uZMKjiJz_Zcu"
   },
   "outputs": [
    {
     "name": "stdout",
     "output_type": "stream",
     "text": [
      "day\n",
      "Friday       21840\n",
      "Monday       21354\n",
      "Wednesday    18059\n",
      "Name: time, dtype: int64\n"
     ]
    }
   ],
   "source": [
    "print(df.groupby('day')[\"time\"].count())# Подсчёт прослушиваний в каждый из трёх дней"
   ]
  },
  {
   "cell_type": "markdown",
   "metadata": {
    "deletable": false,
    "editable": false,
    "id": "cC2tNrlL_Zcu"
   },
   "source": [
    "В среднем пользователи из двух городов менее активны по средам. Но картина может измениться, если рассмотреть каждый город в отдельности."
   ]
  },
  {
   "cell_type": "markdown",
   "metadata": {
    "deletable": false,
    "editable": false,
    "id": "POzs8bGa_Zcu",
    "tags": [
     "start_task"
    ]
   },
   "source": [
    "**Задание 20**\n",
    "\n",
    "\n",
    "Вы видели, как работает группировка по городу и по дням недели. Теперь напишите функцию, которая объединит два эти расчёта.\n",
    "\n",
    "Создайте функцию `number_tracks()`, которая посчитает прослушивания для заданного дня и города. Ей понадобятся два параметра:\n",
    "* день недели,\n",
    "* название города.\n",
    "\n",
    "В функции сохраните в переменную строки исходной таблицы, у которых значение:\n",
    "  * в колонке `day` равно параметру `day`,\n",
    "  * в колонке `city` равно параметру `city`.\n",
    "\n",
    "Для этого примените последовательную фильтрацию с логической индексацией (или сложные логические выражения в одну строку, если вы уже знакомы с ними).\n",
    "\n",
    "Затем посчитайте значения в столбце `user_id` получившейся таблицы. Результат сохраните в новую переменную. Верните эту переменную из функции."
   ]
  },
  {
   "cell_type": "code",
   "execution_count": 20,
   "metadata": {
    "deletable": false,
    "id": "Nz3GdQB1_Zcu"
   },
   "outputs": [],
   "source": [
    "# <создание функции number_tracks()>\n",
    "def number_tracks(day, city): # Объявляется функция с двумя параметрами: day, city.\n",
    "    track_list = df[df['day'] == day]\n",
    "    track_list = track_list[track_list['city'] == city]\n",
    "    track_list_count = track_list[\"user_id\"].count()\n",
    "    return track_list_count\n",
    "\n",
    "# В переменной track_list сохраняются те строки таблицы df, для которых \n",
    "# значение в столбце 'day' равно параметру day и одновременно значение\n",
    "# в столбце 'city' равно параметру city (используйте последовательную фильтрацию\n",
    "# с помощью логической индексации или сложные логические выражения в одну строку, если вы уже знакомы с ними).\n",
    "# В переменной track_list_count сохраняется число значений столбца 'user_id',\n",
    "# рассчитанное методом count() для таблицы track_list.\n",
    "# Функция возвращает число - значение track_list_count.\n",
    "\n",
    "# Функция для подсчёта прослушиваний для конкретного города и дня.\n",
    "# С помощью последовательной фильтрации с логической индексацией она \n",
    "# сначала получит из исходной таблицы строки с нужным днём,\n",
    "# затем из результата отфильтрует строки с нужным городом,\n",
    "# методом count() посчитает количество значений в колонке user_id. \n",
    "# Это количество функция вернёт в качестве результата"
   ]
  },
  {
   "cell_type": "markdown",
   "metadata": {
    "deletable": false,
    "editable": false,
    "id": "ytf7xFrFJQ2r",
    "tags": [
     "start_task"
    ]
   },
   "source": [
    "**Задание 21**\n",
    "\n",
    "Вызовите `number_tracks()` шесть раз, меняя значение параметров — так, чтобы получить данные для каждого города в каждый из трёх дней."
   ]
  },
  {
   "cell_type": "code",
   "execution_count": 21,
   "metadata": {
    "deletable": false,
    "id": "rJcRATNQ_Zcu"
   },
   "outputs": [
    {
     "name": "stdout",
     "output_type": "stream",
     "text": [
      "15740\n"
     ]
    }
   ],
   "source": [
    "print(number_tracks('Monday', 'Moscow')) # количество прослушиваний в Москве по понедельникам"
   ]
  },
  {
   "cell_type": "code",
   "execution_count": 22,
   "metadata": {
    "deletable": false,
    "id": "hq_ncZ5T_Zcu"
   },
   "outputs": [
    {
     "name": "stdout",
     "output_type": "stream",
     "text": [
      "5614\n"
     ]
    }
   ],
   "source": [
    "print(number_tracks('Monday', 'Saint-Petersburg')) # количество прослушиваний в Санкт-Петербурге по понедельникам"
   ]
  },
  {
   "cell_type": "code",
   "execution_count": 23,
   "metadata": {
    "deletable": false,
    "id": "_NTy2VPU_Zcu"
   },
   "outputs": [
    {
     "name": "stdout",
     "output_type": "stream",
     "text": [
      "11056\n"
     ]
    }
   ],
   "source": [
    "print(number_tracks('Wednesday', 'Moscow')) # количество прослушиваний в Москве по средам"
   ]
  },
  {
   "cell_type": "code",
   "execution_count": 24,
   "metadata": {
    "deletable": false,
    "id": "j2y3TAwo_Zcu"
   },
   "outputs": [
    {
     "name": "stdout",
     "output_type": "stream",
     "text": [
      "7003\n"
     ]
    }
   ],
   "source": [
    "print(number_tracks('Wednesday', 'Saint-Petersburg')) # количество прослушиваний в Санкт-Петербурге по средам"
   ]
  },
  {
   "cell_type": "code",
   "execution_count": 25,
   "metadata": {
    "deletable": false,
    "id": "vYDw5u_K_Zcu"
   },
   "outputs": [
    {
     "name": "stdout",
     "output_type": "stream",
     "text": [
      "15945\n"
     ]
    }
   ],
   "source": [
    "print(number_tracks('Friday', 'Moscow')) # количество прослушиваний в Москве по пятницам"
   ]
  },
  {
   "cell_type": "code",
   "execution_count": 26,
   "metadata": {
    "deletable": false,
    "id": "8_yzFtW3_Zcu"
   },
   "outputs": [
    {
     "name": "stdout",
     "output_type": "stream",
     "text": [
      "5895\n"
     ]
    }
   ],
   "source": [
    "print(number_tracks('Friday', 'Saint-Petersburg')) # количество прослушиваний в Санкт-Петербурге по пятницам"
   ]
  },
  {
   "cell_type": "markdown",
   "metadata": {
    "deletable": false,
    "editable": false,
    "id": "7QXffbO-_Zcu",
    "tags": [
     "start_task"
    ]
   },
   "source": [
    "**Задание 22**\n",
    "\n",
    "Создайте c помощью конструктора `pd.DataFrame` таблицу, где\n",
    "* названия колонок — `['city', 'monday', 'wednesday', 'friday']`;\n",
    "* данные — результаты, которые вы получили с помощью `number_tracks`."
   ]
  },
  {
   "cell_type": "code",
   "execution_count": 27,
   "metadata": {
    "deletable": false,
    "id": "APAcLpOr_Zcu",
    "scrolled": true
   },
   "outputs": [
    {
     "data": {
      "text/html": [
       "<div>\n",
       "<style scoped>\n",
       "    .dataframe tbody tr th:only-of-type {\n",
       "        vertical-align: middle;\n",
       "    }\n",
       "\n",
       "    .dataframe tbody tr th {\n",
       "        vertical-align: top;\n",
       "    }\n",
       "\n",
       "    .dataframe thead th {\n",
       "        text-align: right;\n",
       "    }\n",
       "</style>\n",
       "<table border=\"1\" class=\"dataframe\">\n",
       "  <thead>\n",
       "    <tr style=\"text-align: right;\">\n",
       "      <th></th>\n",
       "      <th>city</th>\n",
       "      <th>monday</th>\n",
       "      <th>wednesday</th>\n",
       "      <th>friday</th>\n",
       "    </tr>\n",
       "  </thead>\n",
       "  <tbody>\n",
       "    <tr>\n",
       "      <th>0</th>\n",
       "      <td>Москва</td>\n",
       "      <td>15740</td>\n",
       "      <td>11056</td>\n",
       "      <td>15945</td>\n",
       "    </tr>\n",
       "    <tr>\n",
       "      <th>1</th>\n",
       "      <td>Санкт-Петербург</td>\n",
       "      <td>5614</td>\n",
       "      <td>7003</td>\n",
       "      <td>5895</td>\n",
       "    </tr>\n",
       "  </tbody>\n",
       "</table>\n",
       "</div>"
      ],
      "text/plain": [
       "              city  monday  wednesday  friday\n",
       "0           Москва   15740      11056   15945\n",
       "1  Санкт-Петербург    5614       7003    5895"
      ]
     },
     "execution_count": 27,
     "metadata": {},
     "output_type": "execute_result"
    }
   ],
   "source": [
    "pd.DataFrame(data = [[\"Москва\", 15740, 11056, 15945], ['Санкт-Петербург', 5614, 7003, 5895]], columns = ['city', 'monday', 'wednesday', 'friday']) # Таблица с результатами"
   ]
  },
  {
   "cell_type": "markdown",
   "metadata": {
    "deletable": false,
    "editable": false,
    "id": "-EgPIHYu_Zcu"
   },
   "source": [
    "**Выводы**\n",
    "\n",
    "Данные показывают разницу поведения пользователей:\n",
    "\n",
    "- В Москве пик прослушиваний приходится на понедельник и пятницу, а в среду заметен спад.\n",
    "- В Петербурге, наоборот, больше слушают музыку по средам. Активность в понедельник и пятницу здесь почти в равной мере уступает среде.\n",
    "\n",
    "Значит, данные говорят в пользу первой гипотезы."
   ]
  },
  {
   "cell_type": "markdown",
   "metadata": {
    "deletable": false,
    "editable": false,
    "id": "atZAxtq4_Zcu"
   },
   "source": [
    "### Музыка в начале и в конце недели"
   ]
  },
  {
   "cell_type": "markdown",
   "metadata": {
    "deletable": false,
    "editable": false,
    "id": "eXrQqXFH_Zcu"
   },
   "source": [
    "Согласно второй гипотезе, утром в понедельник в Москве преобладают одни жанры, а в Петербурге — другие. Так же и вечером пятницы преобладают разные жанры — в зависимости от города."
   ]
  },
  {
   "cell_type": "markdown",
   "metadata": {
    "deletable": false,
    "editable": false,
    "id": "S8UcW6Hw_Zcu",
    "tags": [
     "start_task"
    ]
   },
   "source": [
    "**Задание 23**\n",
    "\n",
    "Сохраните таблицы с данными в две переменные:\n",
    "* по Москве — в `moscow_general`;\n",
    "* по Санкт-Петербургу — в `spb_general`."
   ]
  },
  {
   "cell_type": "code",
   "execution_count": 28,
   "metadata": {
    "deletable": false,
    "id": "qeaFfM_P_Zcu"
   },
   "outputs": [],
   "source": [
    "moscow_general = df[df['city'] == 'Moscow'] # получение таблицы moscow_general из тех строк таблицы df, \n",
    "# для которых значение в столбце 'city' равно 'Moscow'\n"
   ]
  },
  {
   "cell_type": "code",
   "execution_count": 29,
   "metadata": {
    "deletable": false,
    "id": "ORaVRKto_Zcu"
   },
   "outputs": [],
   "source": [
    "spb_general = df[df['city'] == 'Saint-Petersburg'] # получение таблицы spb_general из тех строк таблицы df,\n",
    "# для которых значение в столбце 'city' равно 'Saint-Petersburg'\n"
   ]
  },
  {
   "cell_type": "markdown",
   "metadata": {
    "deletable": false,
    "editable": false,
    "id": "MEJV-CX2_Zcu",
    "tags": [
     "start_task"
    ]
   },
   "source": [
    "**Задание 24**\n",
    "\n",
    "Создайте функцию `genre_weekday()` с четырьмя параметрами:\n",
    "* таблица (датафрейм) с данными,\n",
    "* день недели,\n",
    "* начальная временная метка в формате 'hh:mm', \n",
    "* последняя временная метка в формате 'hh:mm'.\n",
    "\n",
    "Функция должна вернуть информацию о топ-10 жанров тех треков, которые прослушивали в указанный день, в промежутке между двумя отметками времени."
   ]
  },
  {
   "cell_type": "code",
   "execution_count": 30,
   "metadata": {
    "deletable": false,
    "id": "laJT9BYl_Zcu"
   },
   "outputs": [],
   "source": [
    "# Объявление функции genre_weekday() с параметрами table, day, time1, time2,\n",
    "# которая возвращает информацию о самых популярных жанрах в указанный день в\n",
    "# заданное время:\n",
    "# 1) в переменную genre_df сохраняются те строки переданного датафрейма table, для\n",
    "#    которых одновременно:\n",
    "#    - значение в столбце day равно значению аргумента day\n",
    "#    - значение в столбце time больше значения аргумента time1\n",
    "#    - значение в столбце time меньше значения аргумента time2\n",
    "#    Используйте последовательную фильтрацию с помощью логической индексации.\n",
    "# 2) сгруппировать датафрейм genre_df по столбцу genre, взять один из его\n",
    "#    столбцов и посчитать методом count() количество записей для каждого из\n",
    "#    присутствующих жанров, получившийся Series записать в переменную\n",
    "#    genre_df_count\n",
    "# 3) отсортировать genre_df_count по убыванию встречаемости и сохранить\n",
    "#    в переменную genre_df_sorted\n",
    "# 4) вернуть Series из 10 первых значений genre_df_sorted, это будут топ-10\n",
    "#    популярных жанров (в указанный день, в заданное время)\n",
    "\n",
    "def genre_weekday(df, day, time1, time2):\n",
    "    # последовательная фильтрация\n",
    "    # оставляем в genre_df только те строки df, у которых день равен day\n",
    "    genre_df = df[df[\"day\"] == day]# ваш код здесь\n",
    "    # оставляем в genre_df только те строки genre_df, у которых время меньше time2\n",
    "    genre_df = genre_df[genre_df['time'] < time2]# ваш код здесь\n",
    "    # оставляем в genre_df только те строки genre_df, у которых время больше time1\n",
    "    genre_df = genre_df[genre_df['time'] > time1]# ваш код здесь\n",
    "    # сгруппируем отфильтрованный датафрейм по столбцу с названиями жанров, возьмём столбец genre и посчитаем кол-во строк для каждого жанра методом count()\n",
    "    genre_df_grouped = genre_df.groupby('genre')['genre'].count() # ваш код здесь\n",
    "    # отсортируем результат по убыванию (чтобы в начале Series оказались самые популярные жанры)\n",
    "    genre_df_sorted = genre_df_grouped.sort_values(ascending = False) # ваш код здесь\n",
    "    # вернём Series с 10 самыми популярными жанрами в указанный отрезок времени заданного дня\n",
    "    return genre_df_sorted[:10]"
   ]
  },
  {
   "cell_type": "markdown",
   "metadata": {
    "deletable": false,
    "editable": false,
    "id": "la2s2_PF_Zcu",
    "tags": [
     "start_task"
    ]
   },
   "source": [
    "**Задание 25**\n",
    "\n",
    "\n",
    "Cравните результаты функции `genre_weekday()` для Москвы и Санкт-Петербурга в понедельник утром (с 7:00 до 11:00) и в пятницу вечером (с 17:00 до 23:00):"
   ]
  },
  {
   "cell_type": "code",
   "execution_count": 31,
   "metadata": {
    "deletable": false,
    "id": "yz7itPUQ_Zcu",
    "scrolled": false
   },
   "outputs": [
    {
     "data": {
      "text/plain": [
       "genre\n",
       "pop            781\n",
       "dance          549\n",
       "electronic     480\n",
       "rock           474\n",
       "hiphop         286\n",
       "ruspop         186\n",
       "world          181\n",
       "rusrap         175\n",
       "alternative    164\n",
       "unknown        161\n",
       "Name: genre, dtype: int64"
      ]
     },
     "execution_count": 31,
     "metadata": {},
     "output_type": "execute_result"
    }
   ],
   "source": [
    "genre_weekday(moscow_general, 'Monday', '07:00', '11:00') # вызов функции для утра понедельника в Москве (вместо df — таблица moscow_general)\n",
    "# объекты, хранящие время, являются строками и сравниваются как строки\n",
    "# пример вызова: genre_weekday(moscow_general, 'Monday', '07:00', '11:00')"
   ]
  },
  {
   "cell_type": "code",
   "execution_count": 32,
   "metadata": {
    "deletable": false,
    "id": "kwUcHPdy_Zcu"
   },
   "outputs": [
    {
     "data": {
      "text/plain": [
       "genre\n",
       "pop            218\n",
       "dance          182\n",
       "rock           162\n",
       "electronic     147\n",
       "hiphop          80\n",
       "ruspop          64\n",
       "alternative     58\n",
       "rusrap          55\n",
       "jazz            44\n",
       "classical       40\n",
       "Name: genre, dtype: int64"
      ]
     },
     "execution_count": 32,
     "metadata": {},
     "output_type": "execute_result"
    }
   ],
   "source": [
    "genre_weekday(spb_general, 'Monday', '07:00', '11:00') # вызов функции для утра понедельника в Петербурге (вместо df — таблица spb_general)"
   ]
  },
  {
   "cell_type": "code",
   "execution_count": 33,
   "metadata": {
    "deletable": false,
    "id": "EzXVRE1o_Zcu"
   },
   "outputs": [
    {
     "data": {
      "text/plain": [
       "genre\n",
       "pop            713\n",
       "rock           517\n",
       "dance          495\n",
       "electronic     482\n",
       "hiphop         273\n",
       "world          208\n",
       "ruspop         170\n",
       "alternative    163\n",
       "classical      163\n",
       "rusrap         142\n",
       "Name: genre, dtype: int64"
      ]
     },
     "execution_count": 33,
     "metadata": {},
     "output_type": "execute_result"
    }
   ],
   "source": [
    "genre_weekday(moscow_general, 'Friday', '17:00', '23:00') # вызов функции для вечера пятницы в Москве"
   ]
  },
  {
   "cell_type": "code",
   "execution_count": 34,
   "metadata": {
    "deletable": false,
    "id": "JZaEKu5v_Zcu"
   },
   "outputs": [
    {
     "data": {
      "text/plain": [
       "genre\n",
       "pop            256\n",
       "electronic     216\n",
       "rock           216\n",
       "dance          210\n",
       "hiphop          97\n",
       "alternative     63\n",
       "jazz            61\n",
       "classical       60\n",
       "rusrap          59\n",
       "world           54\n",
       "Name: genre, dtype: int64"
      ]
     },
     "execution_count": 34,
     "metadata": {},
     "output_type": "execute_result"
    }
   ],
   "source": [
    "genre_weekday(spb_general, 'Friday', '17:00', '23:00') # вызов функции для вечера пятницы в Петербурге"
   ]
  },
  {
   "cell_type": "markdown",
   "metadata": {
    "deletable": false,
    "editable": false,
    "id": "wrCe4MNX_Zcu"
   },
   "source": [
    "**Выводы**\n",
    "\n",
    "Если сравнить топ-10 жанров в понедельник утром, можно сделать такие выводы:\n",
    "\n",
    "1. В Москве и Петербурге слушают похожую музыку. Единственное отличие — в московский рейтинг вошёл жанр “world”, а в петербургский — джаз и классика.\n",
    "\n",
    "2. В Москве пропущенных значений оказалось так много, что значение `'unknown'` заняло десятое место среди самых популярных жанров. Значит, пропущенные значения занимают существенную долю в данных и угрожают достоверности исследования.\n",
    "\n",
    "Вечер пятницы не меняет эту картину. Некоторые жанры поднимаются немного выше, другие спускаются, но в целом топ-10 остаётся тем же самым.\n",
    "\n",
    "Таким образом, вторая гипотеза подтвердилась лишь частично:\n",
    "* Пользователи слушают похожую музыку в начале недели и в конце.\n",
    "* Разница между Москвой и Петербургом не слишком выражена. В Москве чаще слушают русскую популярную музыку, в Петербурге — джаз.\n",
    "\n",
    "Однако пропуски в данных ставят под сомнение этот результат. В Москве их так много, что рейтинг топ-10 мог бы выглядеть иначе, если бы не утерянные  данные о жанрах."
   ]
  },
  {
   "cell_type": "markdown",
   "metadata": {
    "deletable": false,
    "editable": false,
    "id": "JolODAqr_Zcu"
   },
   "source": [
    "### Жанровые предпочтения в Москве и Петербурге\n",
    "\n",
    "Гипотеза: Петербург — столица рэпа, музыку этого жанра там слушают чаще, чем в Москве.  А Москва — город контрастов, в котором, тем не менее, преобладает поп-музыка."
   ]
  },
  {
   "cell_type": "markdown",
   "metadata": {
    "deletable": false,
    "editable": false,
    "id": "DlegSvaT_Zcu",
    "tags": [
     "start_task"
    ]
   },
   "source": [
    "**Задание 26**\n",
    "\n",
    "Сгруппируйте таблицу `moscow_general` по жанру и посчитайте прослушивания треков каждого жанра методом `count()`. Затем отсортируйте результат в порядке убывания и сохраните его в таблице `moscow_genres`."
   ]
  },
  {
   "cell_type": "code",
   "execution_count": 42,
   "metadata": {
    "deletable": false,
    "id": "r19lIPke_Zcu",
    "scrolled": true
   },
   "outputs": [],
   "source": [
    "\n",
    "moscow_genres = moscow_general.groupby(\"genre\")[\"genre\"].count().sort_values(ascending = False)# одной строкой: группировка таблицы moscow_general по столбцу 'genre', \n",
    "# подсчёт числа значений 'genre' в этой группировке методом count(), \n",
    "#moscow_genres = moscow_general.sort_values(ascending = False)\n",
    "# сортировка получившегося Series в порядке убывания и сохранение в moscow_genres"
   ]
  },
  {
   "cell_type": "markdown",
   "metadata": {
    "deletable": false,
    "editable": false,
    "id": "6kMuomxTiIr8",
    "tags": [
     "start_task"
    ]
   },
   "source": [
    "**Задание 27**\n",
    "\n",
    "Выведите на экран первые десять строк `moscow_genres`:"
   ]
  },
  {
   "cell_type": "code",
   "execution_count": 43,
   "metadata": {
    "deletable": false,
    "id": "WhCSooF8_Zcv",
    "scrolled": true
   },
   "outputs": [
    {
     "name": "stdout",
     "output_type": "stream",
     "text": [
      "genre\n",
      "pop            5892\n",
      "dance          4435\n",
      "rock           3965\n",
      "electronic     3786\n",
      "hiphop         2096\n",
      "classical      1616\n",
      "world          1432\n",
      "alternative    1379\n",
      "ruspop         1372\n",
      "rusrap         1161\n",
      "Name: genre, dtype: int64\n"
     ]
    }
   ],
   "source": [
    "print(moscow_genres.head(10))# просмотр первых 10 строк moscow_genres"
   ]
  },
  {
   "cell_type": "markdown",
   "metadata": {
    "deletable": false,
    "editable": false,
    "id": "cnPG2vnN_Zcv",
    "tags": [
     "start_task"
    ]
   },
   "source": [
    "**Задание 28**\n",
    "\n",
    "\n",
    "Теперь повторите то же и для Петербурга.\n",
    "\n",
    "Сгруппируйте таблицу `spb_general` по жанру. Посчитайте прослушивания треков каждого жанра. Результат отсортируйте в порядке убывания и сохраните в таблице `spb_genres`:\n"
   ]
  },
  {
   "cell_type": "code",
   "execution_count": 41,
   "metadata": {
    "deletable": false,
    "id": "gluLIpE7_Zcv",
    "scrolled": true
   },
   "outputs": [],
   "source": [
    "spb_genres = spb_general.groupby('genre')['genre'].count().sort_values(ascending = False)# одной строкой: группировка таблицы spb_general по столбцу 'genre', \n",
    "# подсчёт числа значений 'genre' в этой группировке методом count(), \n",
    "#spb_genres = spb_general.sort_values(ascending = False)# сортировка получившегося Series в порядке убывания и сохранение в spb_genres"
   ]
  },
  {
   "cell_type": "markdown",
   "metadata": {
    "deletable": false,
    "editable": false,
    "id": "5Doha_ODgyQ8",
    "tags": [
     "start_task"
    ]
   },
   "source": [
    "**Задание 29**\n",
    "\n",
    "Выведите на экран первые десять строк `spb_genres`:"
   ]
  },
  {
   "cell_type": "code",
   "execution_count": 38,
   "metadata": {
    "deletable": false,
    "id": "uaGJHjVU_Zcv"
   },
   "outputs": [
    {
     "name": "stdout",
     "output_type": "stream",
     "text": [
      "genre\n",
      "pop            2431\n",
      "dance          1932\n",
      "rock           1879\n",
      "electronic     1736\n",
      "hiphop          960\n",
      "alternative     649\n",
      "classical       646\n",
      "rusrap          564\n",
      "ruspop          538\n",
      "world           515\n",
      "Name: genre, dtype: int64\n"
     ]
    }
   ],
   "source": [
    "print(spb_genres.head(10))# просмотр первых 10 строк spb_genres"
   ]
  },
  {
   "cell_type": "markdown",
   "metadata": {
    "deletable": false,
    "editable": false,
    "id": "RY51YJYu_Zcv"
   },
   "source": [
    "**Выводы**"
   ]
  },
  {
   "cell_type": "markdown",
   "metadata": {
    "deletable": false,
    "editable": false,
    "id": "nVhnJEm__Zcv"
   },
   "source": [
    "Гипотеза частично подтвердилась:\n",
    "* Поп-музыка — самый популярный жанр в Москве, как и предполагала гипотеза. Более того, в топ-10 жанров встречается близкий жанр — русская популярная музыка.\n",
    "* Вопреки ожиданиям, рэп одинаково популярен в Москве и Петербурге. \n"
   ]
  },
  {
   "cell_type": "markdown",
   "metadata": {
    "deletable": false,
    "editable": false,
    "id": "ykKQ0N65_Zcv"
   },
   "source": [
    "## Итоги исследования"
   ]
  },
  {
   "cell_type": "markdown",
   "metadata": {
    "deletable": false,
    "editable": false,
    "id": "tjUwbHb3_Zcv"
   },
   "source": [
    "Вы проверили три гипотезы и установили:\n",
    "\n",
    "1. День недели по-разному влияет на активность пользователей в Москве и Петербурге. \n",
    "\n",
    "Первая гипотеза полностью подтвердилась.\n",
    "\n",
    "2. Музыкальные предпочтения не сильно меняются в течение недели — будь то Москва или Петербург. Небольшие различия заметны в начале недели, по понедельникам:\n",
    "* в Москве слушают музыку жанра “world”,\n",
    "* в Петербурге — джаз и классику.\n",
    "\n",
    "Таким образом, вторая гипотеза подтвердилась лишь отчасти. Этот результат мог оказаться иным, если бы не пропуски в данных.\n",
    "\n",
    "3. Во вкусах пользователей Москвы и Петербурга больше общего чем различий. Вопреки ожиданиям, предпочтения жанров в Петербурге напоминают московские.\n",
    "\n",
    "Третья гипотеза не подтвердилась. Если различия в предпочтениях и существуют, на основной массе пользователей они незаметны.\n",
    "\n",
    "**На практике исследования содержат проверки статистических гипотез.**\n",
    "Из данных одного сервиса не всегда можно сделать вывод о всех жителях города.\n",
    "Проверки статистических гипотез покажут, насколько они достоверны, исходя из имеющихся данных. \n",
    "С методами проверок гипотез вы ещё познакомитесь в следующих темах."
   ]
  }
 ],
 "metadata": {
  "ExecuteTimeLog": [
   {
    "duration": 47,
    "start_time": "2022-09-12T20:43:44.628Z"
   },
   {
    "duration": 54,
    "start_time": "2022-09-12T20:43:58.506Z"
   },
   {
    "duration": 6,
    "start_time": "2022-09-12T20:44:20.173Z"
   },
   {
    "duration": 6,
    "start_time": "2022-09-12T20:44:45.339Z"
   },
   {
    "duration": 6,
    "start_time": "2022-09-12T20:45:21.981Z"
   },
   {
    "duration": 7,
    "start_time": "2022-09-12T20:46:17.728Z"
   },
   {
    "duration": 6,
    "start_time": "2022-09-12T20:47:02.653Z"
   },
   {
    "duration": 418,
    "start_time": "2022-09-12T20:47:22.527Z"
   },
   {
    "duration": 224,
    "start_time": "2022-09-12T20:47:29.261Z"
   },
   {
    "duration": 8,
    "start_time": "2022-09-12T20:47:34.381Z"
   },
   {
    "duration": 30,
    "start_time": "2022-09-12T20:48:18.667Z"
   },
   {
    "duration": 43,
    "start_time": "2022-09-13T11:43:25.746Z"
   },
   {
    "duration": 6,
    "start_time": "2022-09-13T11:44:59.807Z"
   },
   {
    "duration": 380,
    "start_time": "2022-09-13T11:46:34.162Z"
   },
   {
    "duration": 404,
    "start_time": "2022-09-13T11:46:37.959Z"
   },
   {
    "duration": 8,
    "start_time": "2022-09-13T11:46:40.355Z"
   },
   {
    "duration": 30,
    "start_time": "2022-09-13T11:46:42.674Z"
   },
   {
    "duration": 2,
    "start_time": "2022-09-13T11:46:46.301Z"
   },
   {
    "duration": 4,
    "start_time": "2022-09-13T11:46:50.670Z"
   },
   {
    "duration": 14,
    "start_time": "2022-09-13T11:52:13.163Z"
   },
   {
    "duration": 3,
    "start_time": "2022-09-13T11:53:12.947Z"
   },
   {
    "duration": 24,
    "start_time": "2022-09-13T11:55:08.158Z"
   },
   {
    "duration": 18,
    "start_time": "2022-09-13T12:02:37.342Z"
   },
   {
    "duration": 22,
    "start_time": "2022-09-13T12:03:24.414Z"
   },
   {
    "duration": 23,
    "start_time": "2022-09-13T12:05:03.768Z"
   },
   {
    "duration": 66,
    "start_time": "2022-09-13T12:06:48.325Z"
   },
   {
    "duration": 29,
    "start_time": "2022-09-13T12:08:31.045Z"
   },
   {
    "duration": 74,
    "start_time": "2022-09-13T12:08:43.246Z"
   },
   {
    "duration": 66,
    "start_time": "2022-09-13T12:08:49.261Z"
   },
   {
    "duration": 68,
    "start_time": "2022-09-13T12:08:59.542Z"
   },
   {
    "duration": 66,
    "start_time": "2022-09-13T12:10:12.728Z"
   },
   {
    "duration": 35,
    "start_time": "2022-09-13T12:18:20.448Z"
   },
   {
    "duration": 7,
    "start_time": "2022-09-13T12:24:40.888Z"
   },
   {
    "duration": 80,
    "start_time": "2022-09-13T12:25:20.662Z"
   },
   {
    "duration": 67,
    "start_time": "2022-09-13T12:26:07.562Z"
   },
   {
    "duration": 33,
    "start_time": "2022-09-13T12:29:22.254Z"
   },
   {
    "duration": 10,
    "start_time": "2022-09-13T12:32:28.532Z"
   },
   {
    "duration": 37,
    "start_time": "2022-09-13T12:33:55.058Z"
   },
   {
    "duration": 49,
    "start_time": "2022-09-13T14:08:52.617Z"
   },
   {
    "duration": 6,
    "start_time": "2022-09-13T14:09:16.947Z"
   },
   {
    "duration": 351,
    "start_time": "2022-09-13T14:09:28.897Z"
   },
   {
    "duration": 224,
    "start_time": "2022-09-13T14:09:30.348Z"
   },
   {
    "duration": 9,
    "start_time": "2022-09-13T14:09:30.677Z"
   },
   {
    "duration": 30,
    "start_time": "2022-09-13T14:09:31.036Z"
   },
   {
    "duration": 2,
    "start_time": "2022-09-13T14:09:31.636Z"
   },
   {
    "duration": 4,
    "start_time": "2022-09-13T14:09:34.636Z"
   },
   {
    "duration": 12,
    "start_time": "2022-09-13T14:09:36.281Z"
   },
   {
    "duration": 4,
    "start_time": "2022-09-13T14:09:37.297Z"
   },
   {
    "duration": 23,
    "start_time": "2022-09-13T14:09:37.867Z"
   },
   {
    "duration": 17,
    "start_time": "2022-09-13T14:09:38.357Z"
   },
   {
    "duration": 25,
    "start_time": "2022-09-13T14:09:38.687Z"
   },
   {
    "duration": 60,
    "start_time": "2022-09-13T14:09:39.016Z"
   },
   {
    "duration": 68,
    "start_time": "2022-09-13T14:09:39.387Z"
   },
   {
    "duration": 59,
    "start_time": "2022-09-13T14:09:39.866Z"
   },
   {
    "duration": 39,
    "start_time": "2022-09-13T14:09:41.945Z"
   },
   {
    "duration": 83,
    "start_time": "2022-09-13T14:09:43.367Z"
   },
   {
    "duration": 37,
    "start_time": "2022-09-13T14:09:44.631Z"
   },
   {
    "duration": 4368,
    "start_time": "2022-09-13T14:09:52.257Z"
   },
   {
    "duration": 322,
    "start_time": "2022-09-13T14:11:47.493Z"
   },
   {
    "duration": 2058,
    "start_time": "2022-09-13T14:12:04.574Z"
   },
   {
    "duration": 315,
    "start_time": "2022-09-13T14:13:01.298Z"
   },
   {
    "duration": 297,
    "start_time": "2022-09-13T14:13:34.688Z"
   },
   {
    "duration": 4,
    "start_time": "2022-09-13T14:13:40.708Z"
   },
   {
    "duration": 4,
    "start_time": "2022-09-13T14:13:48.055Z"
   },
   {
    "duration": 4,
    "start_time": "2022-09-13T14:14:09.987Z"
   },
   {
    "duration": 2049,
    "start_time": "2022-09-13T14:15:25.535Z"
   },
   {
    "duration": 73,
    "start_time": "2022-09-13T14:15:47.205Z"
   },
   {
    "duration": 3,
    "start_time": "2022-09-13T14:15:59.057Z"
   },
   {
    "duration": 4,
    "start_time": "2022-09-13T14:16:32.761Z"
   },
   {
    "duration": 3,
    "start_time": "2022-09-13T14:16:39.490Z"
   },
   {
    "duration": 4118,
    "start_time": "2022-09-13T14:16:47.366Z"
   },
   {
    "duration": 4083,
    "start_time": "2022-09-13T14:16:51.999Z"
   },
   {
    "duration": 30,
    "start_time": "2022-09-13T14:17:31.416Z"
   },
   {
    "duration": 4194,
    "start_time": "2022-09-13T14:17:54.319Z"
   },
   {
    "duration": 11,
    "start_time": "2022-09-13T14:18:38.400Z"
   },
   {
    "duration": 7,
    "start_time": "2022-09-13T14:18:50.457Z"
   },
   {
    "duration": 9,
    "start_time": "2022-09-13T14:19:37.439Z"
   },
   {
    "duration": 7,
    "start_time": "2022-09-13T14:19:40.572Z"
   },
   {
    "duration": 3,
    "start_time": "2022-09-13T14:19:46.949Z"
   },
   {
    "duration": 28,
    "start_time": "2022-09-13T14:24:49.516Z"
   },
   {
    "duration": 29,
    "start_time": "2022-09-13T14:25:13.218Z"
   },
   {
    "duration": 12,
    "start_time": "2022-09-13T14:27:51.233Z"
   },
   {
    "duration": 12,
    "start_time": "2022-09-13T14:38:08.552Z"
   },
   {
    "duration": 74,
    "start_time": "2022-09-13T14:38:10.883Z"
   },
   {
    "duration": 10,
    "start_time": "2022-09-13T14:38:19.993Z"
   },
   {
    "duration": 82,
    "start_time": "2022-09-13T14:59:57.242Z"
   },
   {
    "duration": 62,
    "start_time": "2022-09-13T15:00:08.460Z"
   },
   {
    "duration": 123,
    "start_time": "2022-09-13T15:05:36.442Z"
   },
   {
    "duration": 3,
    "start_time": "2022-09-13T15:06:30.522Z"
   },
   {
    "duration": 3,
    "start_time": "2022-09-13T15:06:34.182Z"
   },
   {
    "duration": 15,
    "start_time": "2022-09-13T15:11:18.409Z"
   },
   {
    "duration": 5,
    "start_time": "2022-09-13T15:12:07.509Z"
   },
   {
    "duration": 3,
    "start_time": "2022-09-13T15:26:01.202Z"
   },
   {
    "duration": 21,
    "start_time": "2022-09-13T15:26:05.795Z"
   },
   {
    "duration": 20,
    "start_time": "2022-09-13T15:29:49.495Z"
   },
   {
    "duration": 17,
    "start_time": "2022-09-13T15:29:51.462Z"
   },
   {
    "duration": 21,
    "start_time": "2022-09-13T15:29:52.563Z"
   },
   {
    "duration": 17,
    "start_time": "2022-09-13T15:29:54.852Z"
   },
   {
    "duration": 26,
    "start_time": "2022-09-13T15:29:57.055Z"
   },
   {
    "duration": 19,
    "start_time": "2022-09-13T15:29:58.598Z"
   },
   {
    "duration": 4,
    "start_time": "2022-09-13T15:32:33.396Z"
   },
   {
    "duration": 15,
    "start_time": "2022-09-13T15:32:35.771Z"
   },
   {
    "duration": 13,
    "start_time": "2022-09-13T15:32:38.495Z"
   },
   {
    "duration": 14,
    "start_time": "2022-09-13T15:32:40.251Z"
   },
   {
    "duration": 13,
    "start_time": "2022-09-13T15:32:41.170Z"
   },
   {
    "duration": 14,
    "start_time": "2022-09-13T15:32:42.164Z"
   },
   {
    "duration": 13,
    "start_time": "2022-09-13T15:32:44.690Z"
   },
   {
    "duration": 15,
    "start_time": "2022-09-13T15:38:08.562Z"
   },
   {
    "duration": 75,
    "start_time": "2022-09-13T15:40:37.060Z"
   },
   {
    "duration": 20,
    "start_time": "2022-09-13T15:44:57.368Z"
   },
   {
    "duration": 11,
    "start_time": "2022-09-13T15:45:57.582Z"
   },
   {
    "duration": 14,
    "start_time": "2022-09-13T15:46:11.973Z"
   },
   {
    "duration": 53,
    "start_time": "2022-09-13T15:50:06.746Z"
   },
   {
    "duration": 14,
    "start_time": "2022-09-13T15:50:31.251Z"
   },
   {
    "duration": 11,
    "start_time": "2022-09-14T07:17:32.986Z"
   },
   {
    "duration": 446,
    "start_time": "2022-09-14T07:17:48.494Z"
   },
   {
    "duration": 241,
    "start_time": "2022-09-14T07:17:49.335Z"
   },
   {
    "duration": 9,
    "start_time": "2022-09-14T07:17:49.922Z"
   },
   {
    "duration": 29,
    "start_time": "2022-09-14T07:17:50.469Z"
   },
   {
    "duration": 3,
    "start_time": "2022-09-14T07:17:51.276Z"
   },
   {
    "duration": 3,
    "start_time": "2022-09-14T07:17:52.379Z"
   },
   {
    "duration": 14,
    "start_time": "2022-09-14T07:17:53.816Z"
   },
   {
    "duration": 3,
    "start_time": "2022-09-14T07:17:54.912Z"
   },
   {
    "duration": 24,
    "start_time": "2022-09-14T07:17:56.038Z"
   },
   {
    "duration": 17,
    "start_time": "2022-09-14T07:17:57.461Z"
   },
   {
    "duration": 22,
    "start_time": "2022-09-14T07:17:58.405Z"
   },
   {
    "duration": 87,
    "start_time": "2022-09-14T07:17:58.856Z"
   },
   {
    "duration": 70,
    "start_time": "2022-09-14T07:17:59.168Z"
   },
   {
    "duration": 61,
    "start_time": "2022-09-14T07:17:59.468Z"
   },
   {
    "duration": 36,
    "start_time": "2022-09-14T07:17:59.938Z"
   },
   {
    "duration": 82,
    "start_time": "2022-09-14T07:18:00.956Z"
   },
   {
    "duration": 40,
    "start_time": "2022-09-14T07:18:01.277Z"
   },
   {
    "duration": 11,
    "start_time": "2022-09-14T07:18:02.932Z"
   },
   {
    "duration": 11,
    "start_time": "2022-09-14T07:18:03.279Z"
   },
   {
    "duration": 3,
    "start_time": "2022-09-14T07:18:05.307Z"
   },
   {
    "duration": 17,
    "start_time": "2022-09-14T07:18:06.308Z"
   },
   {
    "duration": 16,
    "start_time": "2022-09-14T07:18:06.736Z"
   },
   {
    "duration": 15,
    "start_time": "2022-09-14T07:18:07.366Z"
   },
   {
    "duration": 15,
    "start_time": "2022-09-14T07:18:07.918Z"
   },
   {
    "duration": 16,
    "start_time": "2022-09-14T07:18:08.767Z"
   },
   {
    "duration": 15,
    "start_time": "2022-09-14T07:18:09.578Z"
   },
   {
    "duration": 15,
    "start_time": "2022-09-14T07:18:11.177Z"
   },
   {
    "duration": 11,
    "start_time": "2022-09-14T07:18:13.772Z"
   },
   {
    "duration": 9,
    "start_time": "2022-09-14T07:18:14.485Z"
   },
   {
    "duration": 5,
    "start_time": "2022-09-14T07:18:16.479Z"
   },
   {
    "duration": 7,
    "start_time": "2022-09-14T07:22:05.847Z"
   },
   {
    "duration": 5,
    "start_time": "2022-09-14T07:26:16.690Z"
   },
   {
    "duration": 79,
    "start_time": "2022-09-14T07:26:17.958Z"
   },
   {
    "duration": 5,
    "start_time": "2022-09-14T07:29:28.208Z"
   },
   {
    "duration": 22,
    "start_time": "2022-09-14T07:29:30.269Z"
   },
   {
    "duration": 7,
    "start_time": "2022-09-14T07:31:54.320Z"
   },
   {
    "duration": 21,
    "start_time": "2022-09-14T07:31:55.943Z"
   },
   {
    "duration": 5,
    "start_time": "2022-09-14T07:36:28.535Z"
   },
   {
    "duration": 5,
    "start_time": "2022-09-14T07:36:36.703Z"
   },
   {
    "duration": 5,
    "start_time": "2022-09-14T07:37:48.433Z"
   },
   {
    "duration": 5,
    "start_time": "2022-09-14T07:40:41.456Z"
   },
   {
    "duration": 5,
    "start_time": "2022-09-14T07:41:54.467Z"
   },
   {
    "duration": 20,
    "start_time": "2022-09-14T07:41:56.336Z"
   },
   {
    "duration": 5,
    "start_time": "2022-09-14T07:44:27.478Z"
   },
   {
    "duration": 26,
    "start_time": "2022-09-14T07:44:28.904Z"
   },
   {
    "duration": 5,
    "start_time": "2022-09-14T07:45:34.914Z"
   },
   {
    "duration": 21,
    "start_time": "2022-09-14T07:45:36.425Z"
   },
   {
    "duration": 5,
    "start_time": "2022-09-14T07:46:14.964Z"
   },
   {
    "duration": 31,
    "start_time": "2022-09-14T07:46:15.965Z"
   },
   {
    "duration": 7,
    "start_time": "2022-09-14T07:48:09.217Z"
   },
   {
    "duration": 18,
    "start_time": "2022-09-14T07:48:10.687Z"
   },
   {
    "duration": 7,
    "start_time": "2022-09-14T07:50:02.701Z"
   },
   {
    "duration": 21,
    "start_time": "2022-09-14T07:50:04.056Z"
   },
   {
    "duration": 5,
    "start_time": "2022-09-14T07:51:54.434Z"
   },
   {
    "duration": 18,
    "start_time": "2022-09-14T07:51:55.579Z"
   },
   {
    "duration": 7,
    "start_time": "2022-09-14T07:52:17.963Z"
   },
   {
    "duration": 19,
    "start_time": "2022-09-14T07:52:19.255Z"
   },
   {
    "duration": 13,
    "start_time": "2022-09-14T07:52:21.015Z"
   },
   {
    "duration": 20,
    "start_time": "2022-09-14T07:52:22.555Z"
   },
   {
    "duration": 14,
    "start_time": "2022-09-14T07:52:23.445Z"
   },
   {
    "duration": 4,
    "start_time": "2022-09-14T07:54:48.029Z"
   },
   {
    "duration": 18,
    "start_time": "2022-09-14T07:56:47.262Z"
   },
   {
    "duration": 13,
    "start_time": "2022-09-14T07:56:48.315Z"
   },
   {
    "duration": 19,
    "start_time": "2022-09-14T07:56:49.495Z"
   },
   {
    "duration": 14,
    "start_time": "2022-09-14T07:56:50.515Z"
   },
   {
    "duration": 3,
    "start_time": "2022-09-14T07:58:59.113Z"
   },
   {
    "duration": 163,
    "start_time": "2022-09-14T07:58:59.465Z"
   },
   {
    "duration": 8,
    "start_time": "2022-09-14T07:58:59.884Z"
   },
   {
    "duration": 28,
    "start_time": "2022-09-14T07:59:00.253Z"
   },
   {
    "duration": 3,
    "start_time": "2022-09-14T07:59:00.755Z"
   },
   {
    "duration": 3,
    "start_time": "2022-09-14T07:59:01.475Z"
   },
   {
    "duration": 9,
    "start_time": "2022-09-14T07:59:01.845Z"
   },
   {
    "duration": 4,
    "start_time": "2022-09-14T07:59:02.195Z"
   },
   {
    "duration": 23,
    "start_time": "2022-09-14T07:59:02.556Z"
   },
   {
    "duration": 16,
    "start_time": "2022-09-14T07:59:03.126Z"
   },
   {
    "duration": 22,
    "start_time": "2022-09-14T07:59:04.225Z"
   },
   {
    "duration": 64,
    "start_time": "2022-09-14T07:59:04.763Z"
   },
   {
    "duration": 67,
    "start_time": "2022-09-14T07:59:05.365Z"
   },
   {
    "duration": 60,
    "start_time": "2022-09-14T07:59:05.744Z"
   },
   {
    "duration": 40,
    "start_time": "2022-09-14T07:59:06.365Z"
   },
   {
    "duration": 75,
    "start_time": "2022-09-14T07:59:06.705Z"
   },
   {
    "duration": 36,
    "start_time": "2022-09-14T07:59:07.085Z"
   },
   {
    "duration": 12,
    "start_time": "2022-09-14T07:59:08.213Z"
   },
   {
    "duration": 12,
    "start_time": "2022-09-14T07:59:08.565Z"
   },
   {
    "duration": 4,
    "start_time": "2022-09-14T07:59:09.157Z"
   },
   {
    "duration": 17,
    "start_time": "2022-09-14T07:59:10.055Z"
   },
   {
    "duration": 14,
    "start_time": "2022-09-14T07:59:10.596Z"
   },
   {
    "duration": 14,
    "start_time": "2022-09-14T07:59:10.825Z"
   },
   {
    "duration": 14,
    "start_time": "2022-09-14T07:59:11.833Z"
   },
   {
    "duration": 17,
    "start_time": "2022-09-14T07:59:13.155Z"
   },
   {
    "duration": 16,
    "start_time": "2022-09-14T07:59:13.787Z"
   },
   {
    "duration": 8,
    "start_time": "2022-09-14T07:59:14.875Z"
   },
   {
    "duration": 13,
    "start_time": "2022-09-14T07:59:17.087Z"
   },
   {
    "duration": 12,
    "start_time": "2022-09-14T07:59:17.521Z"
   },
   {
    "duration": 4,
    "start_time": "2022-09-14T07:59:18.834Z"
   },
   {
    "duration": 18,
    "start_time": "2022-09-14T07:59:20.567Z"
   },
   {
    "duration": 11,
    "start_time": "2022-09-14T07:59:21.383Z"
   },
   {
    "duration": 19,
    "start_time": "2022-09-14T07:59:22.106Z"
   },
   {
    "duration": 13,
    "start_time": "2022-09-14T07:59:22.903Z"
   },
   {
    "duration": 16,
    "start_time": "2022-09-14T08:02:00.609Z"
   },
   {
    "duration": 17,
    "start_time": "2022-09-14T08:02:11.775Z"
   },
   {
    "duration": 17,
    "start_time": "2022-09-14T08:02:50.435Z"
   },
   {
    "duration": 13,
    "start_time": "2022-09-14T08:02:51.749Z"
   },
   {
    "duration": 18,
    "start_time": "2022-09-14T08:02:52.402Z"
   },
   {
    "duration": 12,
    "start_time": "2022-09-14T08:02:53.171Z"
   },
   {
    "duration": 19,
    "start_time": "2022-09-14T08:03:34.582Z"
   },
   {
    "duration": 16,
    "start_time": "2022-09-14T08:03:42.401Z"
   },
   {
    "duration": 11,
    "start_time": "2022-09-14T08:03:43.290Z"
   },
   {
    "duration": 18,
    "start_time": "2022-09-14T08:03:49.240Z"
   },
   {
    "duration": 12,
    "start_time": "2022-09-14T08:03:50.102Z"
   },
   {
    "duration": 18,
    "start_time": "2022-09-14T08:06:15.154Z"
   },
   {
    "duration": 12,
    "start_time": "2022-09-14T08:06:17.161Z"
   },
   {
    "duration": 19,
    "start_time": "2022-09-14T08:06:18.065Z"
   },
   {
    "duration": 13,
    "start_time": "2022-09-14T08:06:19.463Z"
   },
   {
    "duration": 24,
    "start_time": "2022-09-14T08:19:13.985Z"
   },
   {
    "duration": 19,
    "start_time": "2022-09-14T08:19:16.372Z"
   },
   {
    "duration": 28,
    "start_time": "2022-09-14T08:19:17.112Z"
   },
   {
    "duration": 20,
    "start_time": "2022-09-14T08:19:18.019Z"
   },
   {
    "duration": 11,
    "start_time": "2022-09-14T08:28:53.715Z"
   },
   {
    "duration": 11,
    "start_time": "2022-09-14T08:32:22.973Z"
   },
   {
    "duration": 7,
    "start_time": "2022-09-14T08:34:24.953Z"
   },
   {
    "duration": 11,
    "start_time": "2022-09-14T08:35:26.834Z"
   },
   {
    "duration": 10,
    "start_time": "2022-09-14T08:35:31.165Z"
   },
   {
    "duration": 5,
    "start_time": "2022-09-14T08:36:06.243Z"
   },
   {
    "duration": 6,
    "start_time": "2022-09-14T08:36:08.894Z"
   },
   {
    "duration": 8,
    "start_time": "2022-09-14T08:36:14.826Z"
   },
   {
    "duration": 48,
    "start_time": "2022-09-14T10:56:32.087Z"
   },
   {
    "duration": 398,
    "start_time": "2022-09-14T10:56:58.762Z"
   },
   {
    "duration": 229,
    "start_time": "2022-09-14T10:56:59.162Z"
   },
   {
    "duration": 8,
    "start_time": "2022-09-14T10:56:59.392Z"
   },
   {
    "duration": 25,
    "start_time": "2022-09-14T10:56:59.402Z"
   },
   {
    "duration": 3,
    "start_time": "2022-09-14T10:56:59.429Z"
   },
   {
    "duration": 6,
    "start_time": "2022-09-14T10:56:59.433Z"
   },
   {
    "duration": 15,
    "start_time": "2022-09-14T10:56:59.440Z"
   },
   {
    "duration": 9,
    "start_time": "2022-09-14T10:56:59.457Z"
   },
   {
    "duration": 21,
    "start_time": "2022-09-14T10:56:59.468Z"
   },
   {
    "duration": 23,
    "start_time": "2022-09-14T10:56:59.490Z"
   },
   {
    "duration": 18,
    "start_time": "2022-09-14T10:56:59.514Z"
   },
   {
    "duration": 62,
    "start_time": "2022-09-14T10:56:59.533Z"
   },
   {
    "duration": 64,
    "start_time": "2022-09-14T10:56:59.609Z"
   },
   {
    "duration": 65,
    "start_time": "2022-09-14T10:56:59.676Z"
   },
   {
    "duration": 36,
    "start_time": "2022-09-14T10:56:59.743Z"
   },
   {
    "duration": 78,
    "start_time": "2022-09-14T10:56:59.781Z"
   },
   {
    "duration": 70,
    "start_time": "2022-09-14T10:56:59.861Z"
   },
   {
    "duration": 11,
    "start_time": "2022-09-14T10:56:59.933Z"
   },
   {
    "duration": 10,
    "start_time": "2022-09-14T10:56:59.946Z"
   },
   {
    "duration": 4,
    "start_time": "2022-09-14T10:56:59.958Z"
   },
   {
    "duration": 19,
    "start_time": "2022-09-14T10:56:59.964Z"
   },
   {
    "duration": 33,
    "start_time": "2022-09-14T10:56:59.985Z"
   },
   {
    "duration": 26,
    "start_time": "2022-09-14T10:57:00.020Z"
   },
   {
    "duration": 18,
    "start_time": "2022-09-14T10:57:00.047Z"
   },
   {
    "duration": 14,
    "start_time": "2022-09-14T10:57:00.067Z"
   },
   {
    "duration": 26,
    "start_time": "2022-09-14T10:57:00.082Z"
   },
   {
    "duration": 15,
    "start_time": "2022-09-14T10:57:00.110Z"
   },
   {
    "duration": 35,
    "start_time": "2022-09-14T10:57:00.127Z"
   },
   {
    "duration": 11,
    "start_time": "2022-09-14T10:57:00.164Z"
   },
   {
    "duration": 20,
    "start_time": "2022-09-14T10:57:00.177Z"
   },
   {
    "duration": 26,
    "start_time": "2022-09-14T10:57:00.199Z"
   },
   {
    "duration": 20,
    "start_time": "2022-09-14T10:57:00.227Z"
   },
   {
    "duration": 27,
    "start_time": "2022-09-14T10:57:00.248Z"
   },
   {
    "duration": 11,
    "start_time": "2022-09-14T10:57:00.277Z"
   },
   {
    "duration": 107,
    "start_time": "2022-09-14T10:57:00.289Z"
   },
   {
    "duration": 0,
    "start_time": "2022-09-14T10:57:00.397Z"
   },
   {
    "duration": 0,
    "start_time": "2022-09-14T10:57:00.398Z"
   },
   {
    "duration": 0,
    "start_time": "2022-09-14T10:57:00.399Z"
   },
   {
    "duration": 9,
    "start_time": "2022-09-14T10:57:57.020Z"
   },
   {
    "duration": 14,
    "start_time": "2022-09-14T10:58:54.188Z"
   },
   {
    "duration": 8,
    "start_time": "2022-09-14T11:02:41.581Z"
   },
   {
    "duration": 9,
    "start_time": "2022-09-14T11:07:28.902Z"
   },
   {
    "duration": 6,
    "start_time": "2022-09-14T11:08:37.516Z"
   },
   {
    "duration": 8,
    "start_time": "2022-09-14T11:09:31.452Z"
   },
   {
    "duration": 8,
    "start_time": "2022-09-14T11:09:49.170Z"
   },
   {
    "duration": 9,
    "start_time": "2022-09-14T11:10:04.687Z"
   },
   {
    "duration": 12,
    "start_time": "2022-09-14T11:10:54.842Z"
   },
   {
    "duration": 383,
    "start_time": "2022-09-14T11:11:15.042Z"
   },
   {
    "duration": 168,
    "start_time": "2022-09-14T11:11:15.428Z"
   },
   {
    "duration": 12,
    "start_time": "2022-09-14T11:11:15.598Z"
   },
   {
    "duration": 27,
    "start_time": "2022-09-14T11:11:15.611Z"
   },
   {
    "duration": 2,
    "start_time": "2022-09-14T11:11:15.641Z"
   },
   {
    "duration": 7,
    "start_time": "2022-09-14T11:11:15.645Z"
   },
   {
    "duration": 13,
    "start_time": "2022-09-14T11:11:15.653Z"
   },
   {
    "duration": 6,
    "start_time": "2022-09-14T11:11:15.668Z"
   },
   {
    "duration": 44,
    "start_time": "2022-09-14T11:11:15.675Z"
   },
   {
    "duration": 15,
    "start_time": "2022-09-14T11:11:15.720Z"
   },
   {
    "duration": 19,
    "start_time": "2022-09-14T11:11:15.737Z"
   },
   {
    "duration": 81,
    "start_time": "2022-09-14T11:11:15.757Z"
   },
   {
    "duration": 81,
    "start_time": "2022-09-14T11:11:15.839Z"
   },
   {
    "duration": 59,
    "start_time": "2022-09-14T11:11:15.924Z"
   },
   {
    "duration": 51,
    "start_time": "2022-09-14T11:11:15.984Z"
   },
   {
    "duration": 79,
    "start_time": "2022-09-14T11:11:16.036Z"
   },
   {
    "duration": 39,
    "start_time": "2022-09-14T11:11:16.117Z"
   },
   {
    "duration": 12,
    "start_time": "2022-09-14T11:11:16.158Z"
   },
   {
    "duration": 11,
    "start_time": "2022-09-14T11:11:16.171Z"
   },
   {
    "duration": 3,
    "start_time": "2022-09-14T11:11:16.209Z"
   },
   {
    "duration": 27,
    "start_time": "2022-09-14T11:11:16.214Z"
   },
   {
    "duration": 19,
    "start_time": "2022-09-14T11:11:16.243Z"
   },
   {
    "duration": 13,
    "start_time": "2022-09-14T11:11:16.265Z"
   },
   {
    "duration": 40,
    "start_time": "2022-09-14T11:11:16.280Z"
   },
   {
    "duration": 15,
    "start_time": "2022-09-14T11:11:16.321Z"
   },
   {
    "duration": 17,
    "start_time": "2022-09-14T11:11:16.338Z"
   },
   {
    "duration": 18,
    "start_time": "2022-09-14T11:11:16.357Z"
   },
   {
    "duration": 39,
    "start_time": "2022-09-14T11:11:16.377Z"
   },
   {
    "duration": 8,
    "start_time": "2022-09-14T11:11:16.418Z"
   },
   {
    "duration": 5,
    "start_time": "2022-09-14T11:11:16.428Z"
   },
   {
    "duration": 19,
    "start_time": "2022-09-14T11:11:16.434Z"
   },
   {
    "duration": 13,
    "start_time": "2022-09-14T11:11:16.455Z"
   },
   {
    "duration": 50,
    "start_time": "2022-09-14T11:11:16.470Z"
   },
   {
    "duration": 12,
    "start_time": "2022-09-14T11:11:16.521Z"
   },
   {
    "duration": 16,
    "start_time": "2022-09-14T11:11:16.535Z"
   },
   {
    "duration": 2,
    "start_time": "2022-09-14T11:11:16.553Z"
   },
   {
    "duration": 4,
    "start_time": "2022-09-14T11:11:16.557Z"
   },
   {
    "duration": 5,
    "start_time": "2022-09-14T11:11:16.563Z"
   },
   {
    "duration": 75,
    "start_time": "2022-09-14T11:14:28.501Z"
   },
   {
    "duration": 412,
    "start_time": "2022-09-14T11:14:41.181Z"
   },
   {
    "duration": 190,
    "start_time": "2022-09-14T11:14:41.595Z"
   },
   {
    "duration": 10,
    "start_time": "2022-09-14T11:14:41.786Z"
   },
   {
    "duration": 51,
    "start_time": "2022-09-14T11:14:41.798Z"
   },
   {
    "duration": 24,
    "start_time": "2022-09-14T11:14:41.851Z"
   },
   {
    "duration": 19,
    "start_time": "2022-09-14T11:14:41.876Z"
   },
   {
    "duration": 40,
    "start_time": "2022-09-14T11:14:41.896Z"
   },
   {
    "duration": 20,
    "start_time": "2022-09-14T11:14:41.938Z"
   },
   {
    "duration": 40,
    "start_time": "2022-09-14T11:14:41.959Z"
   },
   {
    "duration": 39,
    "start_time": "2022-09-14T11:14:42.000Z"
   },
   {
    "duration": 28,
    "start_time": "2022-09-14T11:14:42.041Z"
   },
   {
    "duration": 80,
    "start_time": "2022-09-14T11:14:42.070Z"
   },
   {
    "duration": 62,
    "start_time": "2022-09-14T11:14:42.152Z"
   },
   {
    "duration": 57,
    "start_time": "2022-09-14T11:14:42.218Z"
   },
   {
    "duration": 57,
    "start_time": "2022-09-14T11:14:42.277Z"
   },
   {
    "duration": 81,
    "start_time": "2022-09-14T11:14:42.336Z"
   },
   {
    "duration": 42,
    "start_time": "2022-09-14T11:14:42.418Z"
   },
   {
    "duration": 14,
    "start_time": "2022-09-14T11:14:42.462Z"
   },
   {
    "duration": 23,
    "start_time": "2022-09-14T11:14:42.478Z"
   },
   {
    "duration": 54,
    "start_time": "2022-09-14T11:14:42.503Z"
   },
   {
    "duration": 80,
    "start_time": "2022-09-14T11:14:42.560Z"
   },
   {
    "duration": 49,
    "start_time": "2022-09-14T11:14:42.643Z"
   },
   {
    "duration": 27,
    "start_time": "2022-09-14T11:14:42.694Z"
   },
   {
    "duration": 54,
    "start_time": "2022-09-14T11:14:42.723Z"
   },
   {
    "duration": 52,
    "start_time": "2022-09-14T11:14:42.780Z"
   },
   {
    "duration": 49,
    "start_time": "2022-09-14T11:14:42.834Z"
   },
   {
    "duration": 34,
    "start_time": "2022-09-14T11:14:42.885Z"
   },
   {
    "duration": 24,
    "start_time": "2022-09-14T11:14:42.921Z"
   },
   {
    "duration": 32,
    "start_time": "2022-09-14T11:14:42.946Z"
   },
   {
    "duration": 16,
    "start_time": "2022-09-14T11:14:42.979Z"
   },
   {
    "duration": 57,
    "start_time": "2022-09-14T11:14:42.997Z"
   },
   {
    "duration": 29,
    "start_time": "2022-09-14T11:14:43.056Z"
   },
   {
    "duration": 44,
    "start_time": "2022-09-14T11:14:43.086Z"
   },
   {
    "duration": 15,
    "start_time": "2022-09-14T11:14:43.131Z"
   },
   {
    "duration": 41,
    "start_time": "2022-09-14T11:14:43.147Z"
   },
   {
    "duration": 13,
    "start_time": "2022-09-14T11:14:43.190Z"
   },
   {
    "duration": 13,
    "start_time": "2022-09-14T11:14:43.204Z"
   },
   {
    "duration": 25,
    "start_time": "2022-09-14T11:14:43.219Z"
   },
   {
    "duration": 76,
    "start_time": "2022-09-14T11:15:16.106Z"
   },
   {
    "duration": 385,
    "start_time": "2022-09-14T11:15:24.076Z"
   },
   {
    "duration": 170,
    "start_time": "2022-09-14T11:15:24.463Z"
   },
   {
    "duration": 8,
    "start_time": "2022-09-14T11:15:24.635Z"
   },
   {
    "duration": 33,
    "start_time": "2022-09-14T11:15:24.645Z"
   },
   {
    "duration": 2,
    "start_time": "2022-09-14T11:15:24.679Z"
   },
   {
    "duration": 5,
    "start_time": "2022-09-14T11:15:24.682Z"
   },
   {
    "duration": 32,
    "start_time": "2022-09-14T11:15:24.688Z"
   },
   {
    "duration": 6,
    "start_time": "2022-09-14T11:15:24.723Z"
   },
   {
    "duration": 33,
    "start_time": "2022-09-14T11:15:24.731Z"
   },
   {
    "duration": 19,
    "start_time": "2022-09-14T11:15:24.766Z"
   },
   {
    "duration": 31,
    "start_time": "2022-09-14T11:15:24.787Z"
   },
   {
    "duration": 80,
    "start_time": "2022-09-14T11:15:24.820Z"
   },
   {
    "duration": 86,
    "start_time": "2022-09-14T11:15:24.901Z"
   },
   {
    "duration": 82,
    "start_time": "2022-09-14T11:15:24.988Z"
   },
   {
    "duration": 42,
    "start_time": "2022-09-14T11:15:25.071Z"
   },
   {
    "duration": 94,
    "start_time": "2022-09-14T11:15:25.115Z"
   },
   {
    "duration": 59,
    "start_time": "2022-09-14T11:15:25.211Z"
   },
   {
    "duration": 9,
    "start_time": "2022-09-14T11:15:25.271Z"
   },
   {
    "duration": 27,
    "start_time": "2022-09-14T11:15:25.282Z"
   },
   {
    "duration": 5,
    "start_time": "2022-09-14T11:15:25.311Z"
   },
   {
    "duration": 33,
    "start_time": "2022-09-14T11:15:25.323Z"
   },
   {
    "duration": 13,
    "start_time": "2022-09-14T11:15:25.358Z"
   },
   {
    "duration": 16,
    "start_time": "2022-09-14T11:15:25.372Z"
   },
   {
    "duration": 29,
    "start_time": "2022-09-14T11:15:25.389Z"
   },
   {
    "duration": 19,
    "start_time": "2022-09-14T11:15:25.422Z"
   },
   {
    "duration": 13,
    "start_time": "2022-09-14T11:15:25.442Z"
   },
   {
    "duration": 14,
    "start_time": "2022-09-14T11:15:25.456Z"
   },
   {
    "duration": 39,
    "start_time": "2022-09-14T11:15:25.474Z"
   },
   {
    "duration": 12,
    "start_time": "2022-09-14T11:15:25.514Z"
   },
   {
    "duration": 7,
    "start_time": "2022-09-14T11:15:25.528Z"
   },
   {
    "duration": 19,
    "start_time": "2022-09-14T11:15:25.536Z"
   },
   {
    "duration": 9,
    "start_time": "2022-09-14T11:15:25.557Z"
   },
   {
    "duration": 16,
    "start_time": "2022-09-14T11:15:25.567Z"
   },
   {
    "duration": 12,
    "start_time": "2022-09-14T11:15:25.610Z"
   },
   {
    "duration": 26,
    "start_time": "2022-09-14T11:15:25.623Z"
   },
   {
    "duration": 3,
    "start_time": "2022-09-14T11:15:25.650Z"
   },
   {
    "duration": 5,
    "start_time": "2022-09-14T11:15:25.654Z"
   },
   {
    "duration": 7,
    "start_time": "2022-09-14T11:15:25.661Z"
   },
   {
    "duration": 81,
    "start_time": "2022-09-14T11:19:56.797Z"
   },
   {
    "duration": 9,
    "start_time": "2022-09-14T11:21:20.825Z"
   },
   {
    "duration": 8,
    "start_time": "2022-09-14T11:21:57.830Z"
   },
   {
    "duration": 7,
    "start_time": "2022-09-14T11:22:32.380Z"
   },
   {
    "duration": 333,
    "start_time": "2022-09-14T11:22:39.068Z"
   },
   {
    "duration": 154,
    "start_time": "2022-09-14T11:22:39.402Z"
   },
   {
    "duration": 8,
    "start_time": "2022-09-14T11:22:39.558Z"
   },
   {
    "duration": 30,
    "start_time": "2022-09-14T11:22:39.568Z"
   },
   {
    "duration": 2,
    "start_time": "2022-09-14T11:22:39.600Z"
   },
   {
    "duration": 18,
    "start_time": "2022-09-14T11:22:39.603Z"
   },
   {
    "duration": 21,
    "start_time": "2022-09-14T11:22:39.622Z"
   },
   {
    "duration": 14,
    "start_time": "2022-09-14T11:22:39.645Z"
   },
   {
    "duration": 36,
    "start_time": "2022-09-14T11:22:39.660Z"
   },
   {
    "duration": 20,
    "start_time": "2022-09-14T11:22:39.697Z"
   },
   {
    "duration": 26,
    "start_time": "2022-09-14T11:22:39.719Z"
   },
   {
    "duration": 86,
    "start_time": "2022-09-14T11:22:39.747Z"
   },
   {
    "duration": 61,
    "start_time": "2022-09-14T11:22:39.835Z"
   },
   {
    "duration": 67,
    "start_time": "2022-09-14T11:22:39.898Z"
   },
   {
    "duration": 51,
    "start_time": "2022-09-14T11:22:39.966Z"
   },
   {
    "duration": 82,
    "start_time": "2022-09-14T11:22:40.020Z"
   },
   {
    "duration": 37,
    "start_time": "2022-09-14T11:22:40.103Z"
   },
   {
    "duration": 10,
    "start_time": "2022-09-14T11:22:40.141Z"
   },
   {
    "duration": 21,
    "start_time": "2022-09-14T11:22:40.153Z"
   },
   {
    "duration": 23,
    "start_time": "2022-09-14T11:22:40.175Z"
   },
   {
    "duration": 41,
    "start_time": "2022-09-14T11:22:40.199Z"
   },
   {
    "duration": 30,
    "start_time": "2022-09-14T11:22:40.242Z"
   },
   {
    "duration": 27,
    "start_time": "2022-09-14T11:22:40.274Z"
   },
   {
    "duration": 27,
    "start_time": "2022-09-14T11:22:40.303Z"
   },
   {
    "duration": 27,
    "start_time": "2022-09-14T11:22:40.332Z"
   },
   {
    "duration": 15,
    "start_time": "2022-09-14T11:22:40.360Z"
   },
   {
    "duration": 24,
    "start_time": "2022-09-14T11:22:40.376Z"
   },
   {
    "duration": 24,
    "start_time": "2022-09-14T11:22:40.401Z"
   },
   {
    "duration": 25,
    "start_time": "2022-09-14T11:22:40.426Z"
   },
   {
    "duration": 16,
    "start_time": "2022-09-14T11:22:40.452Z"
   },
   {
    "duration": 29,
    "start_time": "2022-09-14T11:22:40.469Z"
   },
   {
    "duration": 12,
    "start_time": "2022-09-14T11:22:40.499Z"
   },
   {
    "duration": 31,
    "start_time": "2022-09-14T11:22:40.512Z"
   },
   {
    "duration": 11,
    "start_time": "2022-09-14T11:22:40.545Z"
   },
   {
    "duration": 27,
    "start_time": "2022-09-14T11:22:40.558Z"
   },
   {
    "duration": 15,
    "start_time": "2022-09-14T11:22:40.586Z"
   },
   {
    "duration": 26,
    "start_time": "2022-09-14T11:22:40.602Z"
   },
   {
    "duration": 18,
    "start_time": "2022-09-14T11:22:40.629Z"
   },
   {
    "duration": 3,
    "start_time": "2022-09-14T11:24:00.563Z"
   },
   {
    "duration": 67,
    "start_time": "2022-09-14T11:25:44.390Z"
   },
   {
    "duration": 5,
    "start_time": "2022-09-14T11:25:51.216Z"
   },
   {
    "duration": 9,
    "start_time": "2022-09-14T11:26:35.625Z"
   },
   {
    "duration": 4,
    "start_time": "2022-09-14T11:26:37.366Z"
   },
   {
    "duration": 369,
    "start_time": "2022-09-14T11:27:20.878Z"
   },
   {
    "duration": 156,
    "start_time": "2022-09-14T11:27:21.249Z"
   },
   {
    "duration": 8,
    "start_time": "2022-09-14T11:27:21.407Z"
   },
   {
    "duration": 43,
    "start_time": "2022-09-14T11:27:21.417Z"
   },
   {
    "duration": 7,
    "start_time": "2022-09-14T11:27:21.462Z"
   },
   {
    "duration": 18,
    "start_time": "2022-09-14T11:27:21.470Z"
   },
   {
    "duration": 18,
    "start_time": "2022-09-14T11:27:21.489Z"
   },
   {
    "duration": 13,
    "start_time": "2022-09-14T11:27:21.508Z"
   },
   {
    "duration": 35,
    "start_time": "2022-09-14T11:27:21.523Z"
   },
   {
    "duration": 22,
    "start_time": "2022-09-14T11:27:21.560Z"
   },
   {
    "duration": 23,
    "start_time": "2022-09-14T11:27:21.583Z"
   },
   {
    "duration": 82,
    "start_time": "2022-09-14T11:27:21.607Z"
   },
   {
    "duration": 69,
    "start_time": "2022-09-14T11:27:21.691Z"
   },
   {
    "duration": 65,
    "start_time": "2022-09-14T11:27:21.763Z"
   },
   {
    "duration": 38,
    "start_time": "2022-09-14T11:27:21.830Z"
   },
   {
    "duration": 94,
    "start_time": "2022-09-14T11:27:21.870Z"
   },
   {
    "duration": 36,
    "start_time": "2022-09-14T11:27:21.966Z"
   },
   {
    "duration": 32,
    "start_time": "2022-09-14T11:27:22.003Z"
   },
   {
    "duration": 28,
    "start_time": "2022-09-14T11:27:22.037Z"
   },
   {
    "duration": 26,
    "start_time": "2022-09-14T11:27:22.066Z"
   },
   {
    "duration": 55,
    "start_time": "2022-09-14T11:27:22.093Z"
   },
   {
    "duration": 25,
    "start_time": "2022-09-14T11:27:22.150Z"
   },
   {
    "duration": 31,
    "start_time": "2022-09-14T11:27:22.177Z"
   },
   {
    "duration": 20,
    "start_time": "2022-09-14T11:27:22.209Z"
   },
   {
    "duration": 31,
    "start_time": "2022-09-14T11:27:22.231Z"
   },
   {
    "duration": 27,
    "start_time": "2022-09-14T11:27:22.263Z"
   },
   {
    "duration": 33,
    "start_time": "2022-09-14T11:27:22.292Z"
   },
   {
    "duration": 34,
    "start_time": "2022-09-14T11:27:22.326Z"
   },
   {
    "duration": 27,
    "start_time": "2022-09-14T11:27:22.361Z"
   },
   {
    "duration": 26,
    "start_time": "2022-09-14T11:27:22.390Z"
   },
   {
    "duration": 47,
    "start_time": "2022-09-14T11:27:22.418Z"
   },
   {
    "duration": 14,
    "start_time": "2022-09-14T11:27:22.466Z"
   },
   {
    "duration": 39,
    "start_time": "2022-09-14T11:27:22.482Z"
   },
   {
    "duration": 29,
    "start_time": "2022-09-14T11:27:22.523Z"
   },
   {
    "duration": 37,
    "start_time": "2022-09-14T11:27:22.554Z"
   },
   {
    "duration": 22,
    "start_time": "2022-09-14T11:27:22.593Z"
   },
   {
    "duration": 36,
    "start_time": "2022-09-14T11:27:22.621Z"
   },
   {
    "duration": 30,
    "start_time": "2022-09-14T11:27:22.659Z"
   },
   {
    "duration": 94,
    "start_time": "2022-09-14T11:34:04.141Z"
   },
   {
    "duration": 3,
    "start_time": "2022-09-14T11:34:08.704Z"
   },
   {
    "duration": 7,
    "start_time": "2022-09-14T11:34:35.683Z"
   },
   {
    "duration": 9,
    "start_time": "2022-09-14T11:34:49.028Z"
   },
   {
    "duration": 4,
    "start_time": "2022-09-14T11:34:51.340Z"
   },
   {
    "duration": 8,
    "start_time": "2022-09-14T11:35:01.261Z"
   },
   {
    "duration": 3,
    "start_time": "2022-09-14T11:35:06.594Z"
   },
   {
    "duration": 8,
    "start_time": "2022-09-14T11:36:02.161Z"
   },
   {
    "duration": 7,
    "start_time": "2022-09-14T11:36:11.868Z"
   },
   {
    "duration": 13,
    "start_time": "2022-09-14T11:47:02.349Z"
   },
   {
    "duration": 8,
    "start_time": "2022-09-14T11:47:28.129Z"
   },
   {
    "duration": 4,
    "start_time": "2022-09-14T11:47:32.969Z"
   },
   {
    "duration": 7,
    "start_time": "2022-09-14T11:48:27.232Z"
   },
   {
    "duration": 8,
    "start_time": "2022-09-14T11:49:51.687Z"
   },
   {
    "duration": 8,
    "start_time": "2022-09-14T11:50:21.874Z"
   },
   {
    "duration": 8,
    "start_time": "2022-09-14T11:50:51.327Z"
   },
   {
    "duration": 395,
    "start_time": "2022-09-14T11:51:15.879Z"
   },
   {
    "duration": 153,
    "start_time": "2022-09-14T11:51:16.276Z"
   },
   {
    "duration": 8,
    "start_time": "2022-09-14T11:51:16.430Z"
   },
   {
    "duration": 25,
    "start_time": "2022-09-14T11:51:16.440Z"
   },
   {
    "duration": 1,
    "start_time": "2022-09-14T11:51:16.467Z"
   },
   {
    "duration": 8,
    "start_time": "2022-09-14T11:51:16.470Z"
   },
   {
    "duration": 14,
    "start_time": "2022-09-14T11:51:16.479Z"
   },
   {
    "duration": 3,
    "start_time": "2022-09-14T11:51:16.508Z"
   },
   {
    "duration": 22,
    "start_time": "2022-09-14T11:51:16.513Z"
   },
   {
    "duration": 15,
    "start_time": "2022-09-14T11:51:16.538Z"
   },
   {
    "duration": 18,
    "start_time": "2022-09-14T11:51:16.555Z"
   },
   {
    "duration": 84,
    "start_time": "2022-09-14T11:51:16.575Z"
   },
   {
    "duration": 71,
    "start_time": "2022-09-14T11:51:16.660Z"
   },
   {
    "duration": 53,
    "start_time": "2022-09-14T11:51:16.732Z"
   },
   {
    "duration": 45,
    "start_time": "2022-09-14T11:51:16.786Z"
   },
   {
    "duration": 78,
    "start_time": "2022-09-14T11:51:16.832Z"
   },
   {
    "duration": 37,
    "start_time": "2022-09-14T11:51:16.912Z"
   },
   {
    "duration": 11,
    "start_time": "2022-09-14T11:51:16.951Z"
   },
   {
    "duration": 8,
    "start_time": "2022-09-14T11:51:16.964Z"
   },
   {
    "duration": 3,
    "start_time": "2022-09-14T11:51:16.974Z"
   },
   {
    "duration": 39,
    "start_time": "2022-09-14T11:51:16.978Z"
   },
   {
    "duration": 12,
    "start_time": "2022-09-14T11:51:17.018Z"
   },
   {
    "duration": 11,
    "start_time": "2022-09-14T11:51:17.032Z"
   },
   {
    "duration": 10,
    "start_time": "2022-09-14T11:51:17.044Z"
   },
   {
    "duration": 12,
    "start_time": "2022-09-14T11:51:17.056Z"
   },
   {
    "duration": 39,
    "start_time": "2022-09-14T11:51:17.070Z"
   },
   {
    "duration": 13,
    "start_time": "2022-09-14T11:51:17.111Z"
   },
   {
    "duration": 10,
    "start_time": "2022-09-14T11:51:17.127Z"
   },
   {
    "duration": 10,
    "start_time": "2022-09-14T11:51:17.138Z"
   },
   {
    "duration": 4,
    "start_time": "2022-09-14T11:51:17.150Z"
   },
   {
    "duration": 19,
    "start_time": "2022-09-14T11:51:17.156Z"
   },
   {
    "duration": 34,
    "start_time": "2022-09-14T11:51:17.177Z"
   },
   {
    "duration": 16,
    "start_time": "2022-09-14T11:51:17.212Z"
   },
   {
    "duration": 9,
    "start_time": "2022-09-14T11:51:17.229Z"
   },
   {
    "duration": 9,
    "start_time": "2022-09-14T11:51:17.240Z"
   },
   {
    "duration": 4,
    "start_time": "2022-09-14T11:51:17.250Z"
   },
   {
    "duration": 15,
    "start_time": "2022-09-14T11:51:17.255Z"
   },
   {
    "duration": 4,
    "start_time": "2022-09-14T11:51:17.271Z"
   },
   {
    "duration": 66,
    "start_time": "2022-09-14T11:51:50.158Z"
   },
   {
    "duration": 4,
    "start_time": "2022-09-14T11:51:54.816Z"
   },
   {
    "duration": 8,
    "start_time": "2022-09-14T11:51:59.528Z"
   },
   {
    "duration": 4,
    "start_time": "2022-09-14T11:52:03.988Z"
   },
   {
    "duration": 8,
    "start_time": "2022-09-14T11:57:53.556Z"
   },
   {
    "duration": 4,
    "start_time": "2022-09-14T11:58:00.223Z"
   },
   {
    "duration": 11,
    "start_time": "2022-09-14T11:58:44.743Z"
   },
   {
    "duration": 5,
    "start_time": "2022-09-14T11:58:49.636Z"
   },
   {
    "duration": 11,
    "start_time": "2022-09-14T11:59:46.683Z"
   },
   {
    "duration": 8,
    "start_time": "2022-09-14T12:00:04.855Z"
   },
   {
    "duration": 8,
    "start_time": "2022-09-14T12:08:28.586Z"
   },
   {
    "duration": 4,
    "start_time": "2022-09-14T12:08:30.436Z"
   },
   {
    "duration": 8,
    "start_time": "2022-09-14T12:33:14.886Z"
   },
   {
    "duration": 4,
    "start_time": "2022-09-14T12:33:18.287Z"
   },
   {
    "duration": 9,
    "start_time": "2022-09-14T12:33:39.797Z"
   },
   {
    "duration": 7,
    "start_time": "2022-09-14T12:33:55.535Z"
   },
   {
    "duration": 8,
    "start_time": "2022-09-14T12:36:39.058Z"
   },
   {
    "duration": 3,
    "start_time": "2022-09-14T12:36:41.076Z"
   },
   {
    "duration": 8,
    "start_time": "2022-09-14T12:37:08.986Z"
   },
   {
    "duration": 433,
    "start_time": "2022-09-14T12:39:32.499Z"
   },
   {
    "duration": 150,
    "start_time": "2022-09-14T12:39:32.934Z"
   },
   {
    "duration": 7,
    "start_time": "2022-09-14T12:39:33.086Z"
   },
   {
    "duration": 32,
    "start_time": "2022-09-14T12:39:33.094Z"
   },
   {
    "duration": 2,
    "start_time": "2022-09-14T12:39:33.127Z"
   },
   {
    "duration": 6,
    "start_time": "2022-09-14T12:39:33.131Z"
   },
   {
    "duration": 17,
    "start_time": "2022-09-14T12:39:33.139Z"
   },
   {
    "duration": 4,
    "start_time": "2022-09-14T12:39:33.157Z"
   },
   {
    "duration": 22,
    "start_time": "2022-09-14T12:39:33.162Z"
   },
   {
    "duration": 33,
    "start_time": "2022-09-14T12:39:33.186Z"
   },
   {
    "duration": 18,
    "start_time": "2022-09-14T12:39:33.220Z"
   },
   {
    "duration": 73,
    "start_time": "2022-09-14T12:39:33.240Z"
   },
   {
    "duration": 62,
    "start_time": "2022-09-14T12:39:33.315Z"
   },
   {
    "duration": 62,
    "start_time": "2022-09-14T12:39:33.379Z"
   },
   {
    "duration": 35,
    "start_time": "2022-09-14T12:39:33.443Z"
   },
   {
    "duration": 78,
    "start_time": "2022-09-14T12:39:33.480Z"
   },
   {
    "duration": 35,
    "start_time": "2022-09-14T12:39:33.560Z"
   },
   {
    "duration": 10,
    "start_time": "2022-09-14T12:39:33.609Z"
   },
   {
    "duration": 9,
    "start_time": "2022-09-14T12:39:33.621Z"
   },
   {
    "duration": 3,
    "start_time": "2022-09-14T12:39:33.632Z"
   },
   {
    "duration": 19,
    "start_time": "2022-09-14T12:39:33.636Z"
   },
   {
    "duration": 11,
    "start_time": "2022-09-14T12:39:33.656Z"
   },
   {
    "duration": 11,
    "start_time": "2022-09-14T12:39:33.669Z"
   },
   {
    "duration": 37,
    "start_time": "2022-09-14T12:39:33.681Z"
   },
   {
    "duration": 24,
    "start_time": "2022-09-14T12:39:33.719Z"
   },
   {
    "duration": 13,
    "start_time": "2022-09-14T12:39:33.746Z"
   },
   {
    "duration": 12,
    "start_time": "2022-09-14T12:39:33.761Z"
   },
   {
    "duration": 10,
    "start_time": "2022-09-14T12:39:33.776Z"
   },
   {
    "duration": 27,
    "start_time": "2022-09-14T12:39:33.787Z"
   },
   {
    "duration": 8,
    "start_time": "2022-09-14T12:39:33.815Z"
   },
   {
    "duration": 22,
    "start_time": "2022-09-14T12:39:33.824Z"
   },
   {
    "duration": 10,
    "start_time": "2022-09-14T12:39:33.848Z"
   },
   {
    "duration": 16,
    "start_time": "2022-09-14T12:39:33.859Z"
   },
   {
    "duration": 32,
    "start_time": "2022-09-14T12:39:33.877Z"
   },
   {
    "duration": 8,
    "start_time": "2022-09-14T12:39:33.911Z"
   },
   {
    "duration": 4,
    "start_time": "2022-09-14T12:39:33.920Z"
   },
   {
    "duration": 8,
    "start_time": "2022-09-14T12:39:33.925Z"
   },
   {
    "duration": 4,
    "start_time": "2022-09-14T12:39:33.934Z"
   },
   {
    "duration": 7,
    "start_time": "2022-09-14T12:39:40.368Z"
   },
   {
    "duration": 4,
    "start_time": "2022-09-14T12:39:44.117Z"
   },
   {
    "duration": 5,
    "start_time": "2022-09-14T12:39:47.016Z"
   },
   {
    "duration": 7,
    "start_time": "2022-09-14T12:39:58.863Z"
   },
   {
    "duration": 4,
    "start_time": "2022-09-14T12:40:00.748Z"
   }
  ],
  "colab": {
   "collapsed_sections": [
    "E0vqbgi9ay0H",
    "VUC88oWjTJw2"
   ],
   "name": "automatization_template_upd4.ipynb",
   "provenance": []
  },
  "kernelspec": {
   "display_name": "Python 3 (ipykernel)",
   "language": "python",
   "name": "python3"
  },
  "language_info": {
   "codemirror_mode": {
    "name": "ipython",
    "version": 3
   },
   "file_extension": ".py",
   "mimetype": "text/x-python",
   "name": "python",
   "nbconvert_exporter": "python",
   "pygments_lexer": "ipython3",
   "version": "3.9.5"
  },
  "toc": {
   "base_numbering": 1,
   "nav_menu": {
    "height": "215px",
    "width": "403px"
   },
   "number_sections": true,
   "sideBar": true,
   "skip_h1_title": true,
   "title_cell": "Table of Contents",
   "title_sidebar": "Contents",
   "toc_cell": false,
   "toc_position": {
    "height": "calc(100% - 180px)",
    "left": "10px",
    "top": "150px",
    "width": "285.825px"
   },
   "toc_section_display": true,
   "toc_window_display": false
  }
 },
 "nbformat": 4,
 "nbformat_minor": 1
}
