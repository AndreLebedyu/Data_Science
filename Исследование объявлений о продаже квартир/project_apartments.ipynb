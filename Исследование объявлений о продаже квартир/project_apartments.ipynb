{
 "cells": [
  {
   "cell_type": "markdown",
   "metadata": {},
   "source": [
    "# Исследование объявлений о продаже квартир\n",
    "\n",
    "В нашем распоряжении данные сервиса Яндекс.Недвижимость — архив объявлений о продаже квартир в Санкт-Петербурге и соседних населённых пунктов за несколько лет. Нужно научиться определять рыночную стоимость объектов недвижимости. Наша задача — установить параметры. Это позволит построить автоматизированную систему: она отследит аномалии и мошенническую деятельность. \n",
    "\n",
    "По каждой квартире на продажу доступны два вида данных. Первые вписаны пользователем, вторые — получены автоматически на основе картографических данных. Например, расстояние до центра, аэропорта, ближайшего парка и водоёма. "
   ]
  },
  {
   "cell_type": "markdown",
   "metadata": {},
   "source": [
    "### Изучим общую информацию"
   ]
  },
  {
   "cell_type": "markdown",
   "metadata": {},
   "source": [
    "Работу над проектом начнем с того, что добавим необходимые для работы библиотеки, откроем датафрейм, выведем общую информацию по нему, а также построим гистограммы для каждого столбца датафрейма."
   ]
  },
  {
   "cell_type": "code",
   "execution_count": 1,
   "metadata": {},
   "outputs": [],
   "source": [
    "import pandas as pd\n",
    "import matplotlib.pyplot as plt"
   ]
  },
  {
   "cell_type": "code",
   "execution_count": 2,
   "metadata": {
    "scrolled": false
   },
   "outputs": [
    {
     "data": {
      "text/html": [
       "<div>\n",
       "<style scoped>\n",
       "    .dataframe tbody tr th:only-of-type {\n",
       "        vertical-align: middle;\n",
       "    }\n",
       "\n",
       "    .dataframe tbody tr th {\n",
       "        vertical-align: top;\n",
       "    }\n",
       "\n",
       "    .dataframe thead th {\n",
       "        text-align: right;\n",
       "    }\n",
       "</style>\n",
       "<table border=\"1\" class=\"dataframe\">\n",
       "  <thead>\n",
       "    <tr style=\"text-align: right;\">\n",
       "      <th></th>\n",
       "      <th>total_images</th>\n",
       "      <th>last_price</th>\n",
       "      <th>total_area</th>\n",
       "      <th>first_day_exposition</th>\n",
       "      <th>rooms</th>\n",
       "      <th>ceiling_height</th>\n",
       "      <th>floors_total</th>\n",
       "      <th>living_area</th>\n",
       "      <th>floor</th>\n",
       "      <th>is_apartment</th>\n",
       "      <th>...</th>\n",
       "      <th>kitchen_area</th>\n",
       "      <th>balcony</th>\n",
       "      <th>locality_name</th>\n",
       "      <th>airports_nearest</th>\n",
       "      <th>cityCenters_nearest</th>\n",
       "      <th>parks_around3000</th>\n",
       "      <th>parks_nearest</th>\n",
       "      <th>ponds_around3000</th>\n",
       "      <th>ponds_nearest</th>\n",
       "      <th>days_exposition</th>\n",
       "    </tr>\n",
       "  </thead>\n",
       "  <tbody>\n",
       "    <tr>\n",
       "      <th>0</th>\n",
       "      <td>20</td>\n",
       "      <td>13000000.0</td>\n",
       "      <td>108.00</td>\n",
       "      <td>2019-03-07T00:00:00</td>\n",
       "      <td>3</td>\n",
       "      <td>2.70</td>\n",
       "      <td>16.0</td>\n",
       "      <td>51.00</td>\n",
       "      <td>8</td>\n",
       "      <td>NaN</td>\n",
       "      <td>...</td>\n",
       "      <td>25.00</td>\n",
       "      <td>NaN</td>\n",
       "      <td>Санкт-Петербург</td>\n",
       "      <td>18863.0</td>\n",
       "      <td>16028.0</td>\n",
       "      <td>1.0</td>\n",
       "      <td>482.0</td>\n",
       "      <td>2.0</td>\n",
       "      <td>755.0</td>\n",
       "      <td>NaN</td>\n",
       "    </tr>\n",
       "    <tr>\n",
       "      <th>1</th>\n",
       "      <td>7</td>\n",
       "      <td>3350000.0</td>\n",
       "      <td>40.40</td>\n",
       "      <td>2018-12-04T00:00:00</td>\n",
       "      <td>1</td>\n",
       "      <td>NaN</td>\n",
       "      <td>11.0</td>\n",
       "      <td>18.60</td>\n",
       "      <td>1</td>\n",
       "      <td>NaN</td>\n",
       "      <td>...</td>\n",
       "      <td>11.00</td>\n",
       "      <td>2.0</td>\n",
       "      <td>посёлок Шушары</td>\n",
       "      <td>12817.0</td>\n",
       "      <td>18603.0</td>\n",
       "      <td>0.0</td>\n",
       "      <td>NaN</td>\n",
       "      <td>0.0</td>\n",
       "      <td>NaN</td>\n",
       "      <td>81.0</td>\n",
       "    </tr>\n",
       "    <tr>\n",
       "      <th>2</th>\n",
       "      <td>10</td>\n",
       "      <td>5196000.0</td>\n",
       "      <td>56.00</td>\n",
       "      <td>2015-08-20T00:00:00</td>\n",
       "      <td>2</td>\n",
       "      <td>NaN</td>\n",
       "      <td>5.0</td>\n",
       "      <td>34.30</td>\n",
       "      <td>4</td>\n",
       "      <td>NaN</td>\n",
       "      <td>...</td>\n",
       "      <td>8.30</td>\n",
       "      <td>0.0</td>\n",
       "      <td>Санкт-Петербург</td>\n",
       "      <td>21741.0</td>\n",
       "      <td>13933.0</td>\n",
       "      <td>1.0</td>\n",
       "      <td>90.0</td>\n",
       "      <td>2.0</td>\n",
       "      <td>574.0</td>\n",
       "      <td>558.0</td>\n",
       "    </tr>\n",
       "    <tr>\n",
       "      <th>3</th>\n",
       "      <td>0</td>\n",
       "      <td>64900000.0</td>\n",
       "      <td>159.00</td>\n",
       "      <td>2015-07-24T00:00:00</td>\n",
       "      <td>3</td>\n",
       "      <td>NaN</td>\n",
       "      <td>14.0</td>\n",
       "      <td>NaN</td>\n",
       "      <td>9</td>\n",
       "      <td>NaN</td>\n",
       "      <td>...</td>\n",
       "      <td>NaN</td>\n",
       "      <td>0.0</td>\n",
       "      <td>Санкт-Петербург</td>\n",
       "      <td>28098.0</td>\n",
       "      <td>6800.0</td>\n",
       "      <td>2.0</td>\n",
       "      <td>84.0</td>\n",
       "      <td>3.0</td>\n",
       "      <td>234.0</td>\n",
       "      <td>424.0</td>\n",
       "    </tr>\n",
       "    <tr>\n",
       "      <th>4</th>\n",
       "      <td>2</td>\n",
       "      <td>10000000.0</td>\n",
       "      <td>100.00</td>\n",
       "      <td>2018-06-19T00:00:00</td>\n",
       "      <td>2</td>\n",
       "      <td>3.03</td>\n",
       "      <td>14.0</td>\n",
       "      <td>32.00</td>\n",
       "      <td>13</td>\n",
       "      <td>NaN</td>\n",
       "      <td>...</td>\n",
       "      <td>41.00</td>\n",
       "      <td>NaN</td>\n",
       "      <td>Санкт-Петербург</td>\n",
       "      <td>31856.0</td>\n",
       "      <td>8098.0</td>\n",
       "      <td>2.0</td>\n",
       "      <td>112.0</td>\n",
       "      <td>1.0</td>\n",
       "      <td>48.0</td>\n",
       "      <td>121.0</td>\n",
       "    </tr>\n",
       "    <tr>\n",
       "      <th>5</th>\n",
       "      <td>10</td>\n",
       "      <td>2890000.0</td>\n",
       "      <td>30.40</td>\n",
       "      <td>2018-09-10T00:00:00</td>\n",
       "      <td>1</td>\n",
       "      <td>NaN</td>\n",
       "      <td>12.0</td>\n",
       "      <td>14.40</td>\n",
       "      <td>5</td>\n",
       "      <td>NaN</td>\n",
       "      <td>...</td>\n",
       "      <td>9.10</td>\n",
       "      <td>NaN</td>\n",
       "      <td>городской посёлок Янино-1</td>\n",
       "      <td>NaN</td>\n",
       "      <td>NaN</td>\n",
       "      <td>NaN</td>\n",
       "      <td>NaN</td>\n",
       "      <td>NaN</td>\n",
       "      <td>NaN</td>\n",
       "      <td>55.0</td>\n",
       "    </tr>\n",
       "    <tr>\n",
       "      <th>6</th>\n",
       "      <td>6</td>\n",
       "      <td>3700000.0</td>\n",
       "      <td>37.30</td>\n",
       "      <td>2017-11-02T00:00:00</td>\n",
       "      <td>1</td>\n",
       "      <td>NaN</td>\n",
       "      <td>26.0</td>\n",
       "      <td>10.60</td>\n",
       "      <td>6</td>\n",
       "      <td>NaN</td>\n",
       "      <td>...</td>\n",
       "      <td>14.40</td>\n",
       "      <td>1.0</td>\n",
       "      <td>посёлок Парголово</td>\n",
       "      <td>52996.0</td>\n",
       "      <td>19143.0</td>\n",
       "      <td>0.0</td>\n",
       "      <td>NaN</td>\n",
       "      <td>0.0</td>\n",
       "      <td>NaN</td>\n",
       "      <td>155.0</td>\n",
       "    </tr>\n",
       "    <tr>\n",
       "      <th>7</th>\n",
       "      <td>5</td>\n",
       "      <td>7915000.0</td>\n",
       "      <td>71.60</td>\n",
       "      <td>2019-04-18T00:00:00</td>\n",
       "      <td>2</td>\n",
       "      <td>NaN</td>\n",
       "      <td>24.0</td>\n",
       "      <td>NaN</td>\n",
       "      <td>22</td>\n",
       "      <td>NaN</td>\n",
       "      <td>...</td>\n",
       "      <td>18.90</td>\n",
       "      <td>2.0</td>\n",
       "      <td>Санкт-Петербург</td>\n",
       "      <td>23982.0</td>\n",
       "      <td>11634.0</td>\n",
       "      <td>0.0</td>\n",
       "      <td>NaN</td>\n",
       "      <td>0.0</td>\n",
       "      <td>NaN</td>\n",
       "      <td>NaN</td>\n",
       "    </tr>\n",
       "    <tr>\n",
       "      <th>8</th>\n",
       "      <td>20</td>\n",
       "      <td>2900000.0</td>\n",
       "      <td>33.16</td>\n",
       "      <td>2018-05-23T00:00:00</td>\n",
       "      <td>1</td>\n",
       "      <td>NaN</td>\n",
       "      <td>27.0</td>\n",
       "      <td>15.43</td>\n",
       "      <td>26</td>\n",
       "      <td>NaN</td>\n",
       "      <td>...</td>\n",
       "      <td>8.81</td>\n",
       "      <td>NaN</td>\n",
       "      <td>посёлок Мурино</td>\n",
       "      <td>NaN</td>\n",
       "      <td>NaN</td>\n",
       "      <td>NaN</td>\n",
       "      <td>NaN</td>\n",
       "      <td>NaN</td>\n",
       "      <td>NaN</td>\n",
       "      <td>189.0</td>\n",
       "    </tr>\n",
       "    <tr>\n",
       "      <th>9</th>\n",
       "      <td>18</td>\n",
       "      <td>5400000.0</td>\n",
       "      <td>61.00</td>\n",
       "      <td>2017-02-26T00:00:00</td>\n",
       "      <td>3</td>\n",
       "      <td>2.50</td>\n",
       "      <td>9.0</td>\n",
       "      <td>43.60</td>\n",
       "      <td>7</td>\n",
       "      <td>NaN</td>\n",
       "      <td>...</td>\n",
       "      <td>6.50</td>\n",
       "      <td>2.0</td>\n",
       "      <td>Санкт-Петербург</td>\n",
       "      <td>50898.0</td>\n",
       "      <td>15008.0</td>\n",
       "      <td>0.0</td>\n",
       "      <td>NaN</td>\n",
       "      <td>0.0</td>\n",
       "      <td>NaN</td>\n",
       "      <td>289.0</td>\n",
       "    </tr>\n",
       "    <tr>\n",
       "      <th>10</th>\n",
       "      <td>5</td>\n",
       "      <td>5050000.0</td>\n",
       "      <td>39.60</td>\n",
       "      <td>2017-11-16T00:00:00</td>\n",
       "      <td>1</td>\n",
       "      <td>2.67</td>\n",
       "      <td>12.0</td>\n",
       "      <td>20.30</td>\n",
       "      <td>3</td>\n",
       "      <td>NaN</td>\n",
       "      <td>...</td>\n",
       "      <td>8.50</td>\n",
       "      <td>NaN</td>\n",
       "      <td>Санкт-Петербург</td>\n",
       "      <td>38357.0</td>\n",
       "      <td>13878.0</td>\n",
       "      <td>1.0</td>\n",
       "      <td>310.0</td>\n",
       "      <td>2.0</td>\n",
       "      <td>553.0</td>\n",
       "      <td>137.0</td>\n",
       "    </tr>\n",
       "    <tr>\n",
       "      <th>11</th>\n",
       "      <td>9</td>\n",
       "      <td>3300000.0</td>\n",
       "      <td>44.00</td>\n",
       "      <td>2018-08-27T00:00:00</td>\n",
       "      <td>2</td>\n",
       "      <td>NaN</td>\n",
       "      <td>5.0</td>\n",
       "      <td>31.00</td>\n",
       "      <td>4</td>\n",
       "      <td>False</td>\n",
       "      <td>...</td>\n",
       "      <td>6.00</td>\n",
       "      <td>1.0</td>\n",
       "      <td>Ломоносов</td>\n",
       "      <td>48252.0</td>\n",
       "      <td>51677.0</td>\n",
       "      <td>0.0</td>\n",
       "      <td>NaN</td>\n",
       "      <td>0.0</td>\n",
       "      <td>NaN</td>\n",
       "      <td>7.0</td>\n",
       "    </tr>\n",
       "    <tr>\n",
       "      <th>12</th>\n",
       "      <td>10</td>\n",
       "      <td>3890000.0</td>\n",
       "      <td>54.00</td>\n",
       "      <td>2016-06-30T00:00:00</td>\n",
       "      <td>2</td>\n",
       "      <td>NaN</td>\n",
       "      <td>5.0</td>\n",
       "      <td>30.00</td>\n",
       "      <td>5</td>\n",
       "      <td>NaN</td>\n",
       "      <td>...</td>\n",
       "      <td>9.00</td>\n",
       "      <td>0.0</td>\n",
       "      <td>Сертолово</td>\n",
       "      <td>NaN</td>\n",
       "      <td>NaN</td>\n",
       "      <td>NaN</td>\n",
       "      <td>NaN</td>\n",
       "      <td>NaN</td>\n",
       "      <td>NaN</td>\n",
       "      <td>90.0</td>\n",
       "    </tr>\n",
       "    <tr>\n",
       "      <th>13</th>\n",
       "      <td>20</td>\n",
       "      <td>3550000.0</td>\n",
       "      <td>42.80</td>\n",
       "      <td>2017-07-01T00:00:00</td>\n",
       "      <td>2</td>\n",
       "      <td>2.56</td>\n",
       "      <td>5.0</td>\n",
       "      <td>27.00</td>\n",
       "      <td>5</td>\n",
       "      <td>NaN</td>\n",
       "      <td>...</td>\n",
       "      <td>5.20</td>\n",
       "      <td>1.0</td>\n",
       "      <td>Петергоф</td>\n",
       "      <td>37868.0</td>\n",
       "      <td>33058.0</td>\n",
       "      <td>1.0</td>\n",
       "      <td>294.0</td>\n",
       "      <td>3.0</td>\n",
       "      <td>298.0</td>\n",
       "      <td>366.0</td>\n",
       "    </tr>\n",
       "    <tr>\n",
       "      <th>14</th>\n",
       "      <td>1</td>\n",
       "      <td>4400000.0</td>\n",
       "      <td>36.00</td>\n",
       "      <td>2016-06-23T00:00:00</td>\n",
       "      <td>1</td>\n",
       "      <td>NaN</td>\n",
       "      <td>6.0</td>\n",
       "      <td>17.00</td>\n",
       "      <td>1</td>\n",
       "      <td>NaN</td>\n",
       "      <td>...</td>\n",
       "      <td>8.00</td>\n",
       "      <td>0.0</td>\n",
       "      <td>Пушкин</td>\n",
       "      <td>20782.0</td>\n",
       "      <td>30759.0</td>\n",
       "      <td>0.0</td>\n",
       "      <td>NaN</td>\n",
       "      <td>1.0</td>\n",
       "      <td>96.0</td>\n",
       "      <td>203.0</td>\n",
       "    </tr>\n",
       "  </tbody>\n",
       "</table>\n",
       "<p>15 rows × 22 columns</p>\n",
       "</div>"
      ],
      "text/plain": [
       "    total_images  last_price  total_area first_day_exposition  rooms  \\\n",
       "0             20  13000000.0      108.00  2019-03-07T00:00:00      3   \n",
       "1              7   3350000.0       40.40  2018-12-04T00:00:00      1   \n",
       "2             10   5196000.0       56.00  2015-08-20T00:00:00      2   \n",
       "3              0  64900000.0      159.00  2015-07-24T00:00:00      3   \n",
       "4              2  10000000.0      100.00  2018-06-19T00:00:00      2   \n",
       "5             10   2890000.0       30.40  2018-09-10T00:00:00      1   \n",
       "6              6   3700000.0       37.30  2017-11-02T00:00:00      1   \n",
       "7              5   7915000.0       71.60  2019-04-18T00:00:00      2   \n",
       "8             20   2900000.0       33.16  2018-05-23T00:00:00      1   \n",
       "9             18   5400000.0       61.00  2017-02-26T00:00:00      3   \n",
       "10             5   5050000.0       39.60  2017-11-16T00:00:00      1   \n",
       "11             9   3300000.0       44.00  2018-08-27T00:00:00      2   \n",
       "12            10   3890000.0       54.00  2016-06-30T00:00:00      2   \n",
       "13            20   3550000.0       42.80  2017-07-01T00:00:00      2   \n",
       "14             1   4400000.0       36.00  2016-06-23T00:00:00      1   \n",
       "\n",
       "    ceiling_height  floors_total  living_area  floor is_apartment  ...  \\\n",
       "0             2.70          16.0        51.00      8          NaN  ...   \n",
       "1              NaN          11.0        18.60      1          NaN  ...   \n",
       "2              NaN           5.0        34.30      4          NaN  ...   \n",
       "3              NaN          14.0          NaN      9          NaN  ...   \n",
       "4             3.03          14.0        32.00     13          NaN  ...   \n",
       "5              NaN          12.0        14.40      5          NaN  ...   \n",
       "6              NaN          26.0        10.60      6          NaN  ...   \n",
       "7              NaN          24.0          NaN     22          NaN  ...   \n",
       "8              NaN          27.0        15.43     26          NaN  ...   \n",
       "9             2.50           9.0        43.60      7          NaN  ...   \n",
       "10            2.67          12.0        20.30      3          NaN  ...   \n",
       "11             NaN           5.0        31.00      4        False  ...   \n",
       "12             NaN           5.0        30.00      5          NaN  ...   \n",
       "13            2.56           5.0        27.00      5          NaN  ...   \n",
       "14             NaN           6.0        17.00      1          NaN  ...   \n",
       "\n",
       "    kitchen_area  balcony              locality_name  airports_nearest  \\\n",
       "0          25.00      NaN            Санкт-Петербург           18863.0   \n",
       "1          11.00      2.0             посёлок Шушары           12817.0   \n",
       "2           8.30      0.0            Санкт-Петербург           21741.0   \n",
       "3            NaN      0.0            Санкт-Петербург           28098.0   \n",
       "4          41.00      NaN            Санкт-Петербург           31856.0   \n",
       "5           9.10      NaN  городской посёлок Янино-1               NaN   \n",
       "6          14.40      1.0          посёлок Парголово           52996.0   \n",
       "7          18.90      2.0            Санкт-Петербург           23982.0   \n",
       "8           8.81      NaN             посёлок Мурино               NaN   \n",
       "9           6.50      2.0            Санкт-Петербург           50898.0   \n",
       "10          8.50      NaN            Санкт-Петербург           38357.0   \n",
       "11          6.00      1.0                  Ломоносов           48252.0   \n",
       "12          9.00      0.0                  Сертолово               NaN   \n",
       "13          5.20      1.0                   Петергоф           37868.0   \n",
       "14          8.00      0.0                     Пушкин           20782.0   \n",
       "\n",
       "   cityCenters_nearest  parks_around3000  parks_nearest  ponds_around3000  \\\n",
       "0              16028.0               1.0          482.0               2.0   \n",
       "1              18603.0               0.0            NaN               0.0   \n",
       "2              13933.0               1.0           90.0               2.0   \n",
       "3               6800.0               2.0           84.0               3.0   \n",
       "4               8098.0               2.0          112.0               1.0   \n",
       "5                  NaN               NaN            NaN               NaN   \n",
       "6              19143.0               0.0            NaN               0.0   \n",
       "7              11634.0               0.0            NaN               0.0   \n",
       "8                  NaN               NaN            NaN               NaN   \n",
       "9              15008.0               0.0            NaN               0.0   \n",
       "10             13878.0               1.0          310.0               2.0   \n",
       "11             51677.0               0.0            NaN               0.0   \n",
       "12                 NaN               NaN            NaN               NaN   \n",
       "13             33058.0               1.0          294.0               3.0   \n",
       "14             30759.0               0.0            NaN               1.0   \n",
       "\n",
       "    ponds_nearest  days_exposition  \n",
       "0           755.0              NaN  \n",
       "1             NaN             81.0  \n",
       "2           574.0            558.0  \n",
       "3           234.0            424.0  \n",
       "4            48.0            121.0  \n",
       "5             NaN             55.0  \n",
       "6             NaN            155.0  \n",
       "7             NaN              NaN  \n",
       "8             NaN            189.0  \n",
       "9             NaN            289.0  \n",
       "10          553.0            137.0  \n",
       "11            NaN              7.0  \n",
       "12            NaN             90.0  \n",
       "13          298.0            366.0  \n",
       "14           96.0            203.0  \n",
       "\n",
       "[15 rows x 22 columns]"
      ]
     },
     "metadata": {},
     "output_type": "display_data"
    },
    {
     "data": {
      "image/png": "[encoded data removed]",
      "text/plain": [
       "<Figure size 1080x1440 with 20 Axes>"
      ]
     },
     "metadata": {
      "needs_background": "light"
     },
     "output_type": "display_data"
    },
    {
     "name": "stdout",
     "output_type": "stream",
     "text": [
      "<class 'pandas.core.frame.DataFrame'>\n",
      "RangeIndex: 23699 entries, 0 to 23698\n",
      "Data columns (total 22 columns):\n",
      " #   Column                Non-Null Count  Dtype  \n",
      "---  ------                --------------  -----  \n",
      " 0   total_images          23699 non-null  int64  \n",
      " 1   last_price            23699 non-null  float64\n",
      " 2   total_area            23699 non-null  float64\n",
      " 3   first_day_exposition  23699 non-null  object \n",
      " 4   rooms                 23699 non-null  int64  \n",
      " 5   ceiling_height        14504 non-null  float64\n",
      " 6   floors_total          23613 non-null  float64\n",
      " 7   living_area           21796 non-null  float64\n",
      " 8   floor                 23699 non-null  int64  \n",
      " 9   is_apartment          2775 non-null   object \n",
      " 10  studio                23699 non-null  bool   \n",
      " 11  open_plan             23699 non-null  bool   \n",
      " 12  kitchen_area          21421 non-null  float64\n",
      " 13  balcony               12180 non-null  float64\n",
      " 14  locality_name         23650 non-null  object \n",
      " 15  airports_nearest      18157 non-null  float64\n",
      " 16  cityCenters_nearest   18180 non-null  float64\n",
      " 17  parks_around3000      18181 non-null  float64\n",
      " 18  parks_nearest         8079 non-null   float64\n",
      " 19  ponds_around3000      18181 non-null  float64\n",
      " 20  ponds_nearest         9110 non-null   float64\n",
      " 21  days_exposition       20518 non-null  float64\n",
      "dtypes: bool(2), float64(14), int64(3), object(3)\n",
      "memory usage: 3.7+ MB\n"
     ]
    }
   ],
   "source": [
    "data = pd.read_csv('/datasets/real_estate_data.csv', sep = '\\t')\n",
    "display(data.head(15))\n",
    "pd.set_option('display.max_columns', None)\n",
    "data.hist(figsize=(15, 20))\n",
    "plt.show()\n",
    "data.info()"
   ]
  },
  {
   "cell_type": "markdown",
   "metadata": {},
   "source": [
    "<b>Вывод: </b> датасет содержит 23699 строк и 22 столбца, в некоторых столбцах имеется весьма много пропущенных значений - попробуем исправить это на следующих этапах работы."
   ]
  },
  {
   "cell_type": "markdown",
   "metadata": {},
   "source": [
    "### Предобработка данных"
   ]
  },
  {
   "cell_type": "markdown",
   "metadata": {},
   "source": [
    "Определим количество пропущенных значений в каждом столбце датафрейма"
   ]
  },
  {
   "cell_type": "code",
   "execution_count": 3,
   "metadata": {
    "scrolled": true
   },
   "outputs": [
    {
     "name": "stdout",
     "output_type": "stream",
     "text": [
      "total_images                0\n",
      "last_price                  0\n",
      "total_area                  0\n",
      "first_day_exposition        0\n",
      "rooms                       0\n",
      "ceiling_height           9195\n",
      "floors_total               86\n",
      "living_area              1903\n",
      "floor                       0\n",
      "is_apartment            20924\n",
      "studio                      0\n",
      "open_plan                   0\n",
      "kitchen_area             2278\n",
      "balcony                 11519\n",
      "locality_name              49\n",
      "airports_nearest         5542\n",
      "cityCenters_nearest      5519\n",
      "parks_around3000         5518\n",
      "parks_nearest           15620\n",
      "ponds_around3000         5518\n",
      "ponds_nearest           14589\n",
      "days_exposition          3181\n",
      "dtype: int64\n"
     ]
    }
   ],
   "source": [
    "print(data.isna().sum())"
   ]
  },
  {
   "cell_type": "markdown",
   "metadata": {},
   "source": [
    "Заполним пропуски в столбце 'balcony'. Поскольку данные о количестве балконов добавляет пользователь, будем исходить из логики, что пропущенные значения означают отсутствия балкона в квартире. Поэтому заполним пропущенные значения нулями."
   ]
  },
  {
   "cell_type": "code",
   "execution_count": 4,
   "metadata": {
    "scrolled": false
   },
   "outputs": [],
   "source": [
    "data['balcony'] = data['balcony'].fillna(0)"
   ]
  },
  {
   "cell_type": "markdown",
   "metadata": {},
   "source": [
    "Также поменяем тип данных в этом столбце, т.к. количество балконов всегда целое число:"
   ]
  },
  {
   "cell_type": "code",
   "execution_count": 5,
   "metadata": {},
   "outputs": [
    {
     "data": {
      "text/plain": [
       "0        0\n",
       "1        2\n",
       "2        0\n",
       "3        0\n",
       "4        0\n",
       "        ..\n",
       "23694    0\n",
       "23695    0\n",
       "23696    0\n",
       "23697    2\n",
       "23698    0\n",
       "Name: balcony, Length: 23699, dtype: int64"
      ]
     },
     "execution_count": 5,
     "metadata": {},
     "output_type": "execute_result"
    }
   ],
   "source": [
    "data['balcony'].astype('int')"
   ]
  },
  {
   "cell_type": "markdown",
   "metadata": {},
   "source": [
    "Заполним пропуски в столбце 'ceiling_height' средним значением высоты потолка. При нахождении среднего будем учитывать, что потолки квартир редко бывают больше 5-6 метров, поэтому для более точного нахождения величины средней высоты ограничимся стандартными квартирами."
   ]
  },
  {
   "cell_type": "code",
   "execution_count": 6,
   "metadata": {
    "scrolled": true
   },
   "outputs": [],
   "source": [
    "data['ceiling_height'] = data['ceiling_height'].fillna(data.query('0 < ceiling_height < 6')['ceiling_height'].mean())"
   ]
  },
  {
   "cell_type": "markdown",
   "metadata": {},
   "source": [
    "Пропущенные значения из столбца 'floors_total' мы не можем заполнить по текущим данным (поскольку у нас нет даже адресов домов). Поэтому пока оставим их без изменений. Пропуски могли возникнуть из-за невнимательного заполнения данных пользователем или из-за технических ошибок (ошибки при загрузке/выгрузке данных и др.)"
   ]
  },
  {
   "cell_type": "markdown",
   "metadata": {},
   "source": [
    "Заполним пропуски в столбце 'living_area' медианным значением площади в зависимости от количества комнат. Для этого сгруппируем квартиры по количеству комнат и найдем медианное значение площади для каждого количества комнат и заполним этими значениями пропуски.\\\n",
    "Также уберем квартиры с площадью жилых помещений меньше 8 квадратных метров, т.к. они не соответствуют нормативам по минимальной площади жилых помещений в квартире."
   ]
  },
  {
   "cell_type": "code",
   "execution_count": 7,
   "metadata": {
    "scrolled": false
   },
   "outputs": [],
   "source": [
    "for t in data['rooms'].unique():\n",
    "    data.loc[(data['rooms'] == t) & (data['living_area'].isna()), 'living_area'] = \\\n",
    "    data.loc[(data['rooms'] == t), 'living_area'].median()\n",
    "data = data.loc[data['living_area'] > 8]"
   ]
  },
  {
   "cell_type": "markdown",
   "metadata": {},
   "source": [
    "Заполним пропуски в столбце 'is_apartment'. Будем исходить из логики, что владельцы апартаментов обычно в курсе о типе своей недвижимости, т.к. этот тип появился сравнительно недавно и этот тип недвижимости имеет некоторые юридичесские ограничения (например, связанные с пропиской). Поэтому будем считать, что все пропущенные значения это не апартаменты."
   ]
  },
  {
   "cell_type": "code",
   "execution_count": 8,
   "metadata": {
    "scrolled": true
   },
   "outputs": [],
   "source": [
    "data['is_apartment'] = data['is_apartment'].fillna(False)"
   ]
  },
  {
   "cell_type": "markdown",
   "metadata": {},
   "source": [
    "Также поменяем тип данных в данном столбце на логический, т.к. это подразумевается первоначально заполненными значениями."
   ]
  },
  {
   "cell_type": "code",
   "execution_count": 9,
   "metadata": {
    "scrolled": true
   },
   "outputs": [
    {
     "data": {
      "text/plain": [
       "0        False\n",
       "1        False\n",
       "2        False\n",
       "3        False\n",
       "4        False\n",
       "         ...  \n",
       "23694    False\n",
       "23695    False\n",
       "23696    False\n",
       "23697    False\n",
       "23698    False\n",
       "Name: is_apartment, Length: 23689, dtype: bool"
      ]
     },
     "execution_count": 9,
     "metadata": {},
     "output_type": "execute_result"
    }
   ],
   "source": [
    "data['is_apartment'].astype('bool')"
   ]
  },
  {
   "cell_type": "markdown",
   "metadata": {},
   "source": [
    "Проверим, есть ли у нас строки в которых площадь кухни превышает общую площадь квартиры (т.к. это явно противоречит здравому смыслу):"
   ]
  },
  {
   "cell_type": "code",
   "execution_count": 10,
   "metadata": {
    "scrolled": false
   },
   "outputs": [
    {
     "name": "stdout",
     "output_type": "stream",
     "text": [
      "0\n"
     ]
    }
   ],
   "source": [
    "print(len(data.loc[data['kitchen_area'] > data['total_area']]))"
   ]
  },
  {
   "cell_type": "markdown",
   "metadata": {},
   "source": [
    "Как мы видим таких строк у нас в датафрейме нет. <font color='black'> Заполним пропуски в столбце 'kitchen_area' средним значением площади кухни, т.к. во многих квартирах площадь кухонь стандартна."
   ]
  },
  {
   "cell_type": "code",
   "execution_count": 11,
   "metadata": {
    "scrolled": false
   },
   "outputs": [],
   "source": [
    "data['kitchen_area'] = data['kitchen_area'].fillna(data['kitchen_area'].mean())"
   ]
  },
  {
   "cell_type": "markdown",
   "metadata": {},
   "source": [
    "Посмотрим распределение квартир по населенным пунктам."
   ]
  },
  {
   "cell_type": "code",
   "execution_count": 12,
   "metadata": {
    "scrolled": true
   },
   "outputs": [
    {
     "name": "stdout",
     "output_type": "stream",
     "text": [
      "Санкт-Петербург                    15712\n",
      "посёлок Мурино                       521\n",
      "посёлок Шушары                       440\n",
      "Всеволожск                           398\n",
      "Пушкин                               369\n",
      "                                   ...  \n",
      "посёлок Платформа 69-й километр        1\n",
      "поселок Тёсово-4                       1\n",
      "посёлок Петро-Славянка                 1\n",
      "деревня Тойворово                      1\n",
      "посёлок Сумино                         1\n",
      "Name: locality_name, Length: 364, dtype: int64\n"
     ]
    }
   ],
   "source": [
    "print(data['locality_name'].value_counts())"
   ]
  },
  {
   "cell_type": "markdown",
   "metadata": {},
   "source": [
    "Пропуски в столбцах 'airports_nearest', 'cityCenters_nearest', 'parks_around3000', 'parks_nearest', 'ponds_around3000', 'ponds_nearest' мы могли бы заполнить медианными значениями расстояний в зависимости от населенного пункта, но поскольку большая часть объектов находится непосредственно в Санкт-Петербурге, а конкретного адреса мы не имеем для каждой квартиры, то оставим эти пропуски без изменений.\\\n",
    "Чтобы убедиться, что расстояния до разных объектов даже в пределах Санкт-Петербурга сильно разнятся, выведем информацию с расстояниями до объектов, а также количеством водоемов и парков для некоторых квартир непосредственно из Санкт-Петербурга:"
   ]
  },
  {
   "cell_type": "code",
   "execution_count": 13,
   "metadata": {
    "scrolled": true
   },
   "outputs": [
    {
     "data": {
      "text/html": [
       "<div>\n",
       "<style scoped>\n",
       "    .dataframe tbody tr th:only-of-type {\n",
       "        vertical-align: middle;\n",
       "    }\n",
       "\n",
       "    .dataframe tbody tr th {\n",
       "        vertical-align: top;\n",
       "    }\n",
       "\n",
       "    .dataframe thead th {\n",
       "        text-align: right;\n",
       "    }\n",
       "</style>\n",
       "<table border=\"1\" class=\"dataframe\">\n",
       "  <thead>\n",
       "    <tr style=\"text-align: right;\">\n",
       "      <th></th>\n",
       "      <th>locality_name</th>\n",
       "      <th>airports_nearest</th>\n",
       "      <th>cityCenters_nearest</th>\n",
       "      <th>parks_around3000</th>\n",
       "      <th>parks_nearest</th>\n",
       "      <th>ponds_around3000</th>\n",
       "      <th>ponds_nearest</th>\n",
       "    </tr>\n",
       "  </thead>\n",
       "  <tbody>\n",
       "    <tr>\n",
       "      <th>0</th>\n",
       "      <td>Санкт-Петербург</td>\n",
       "      <td>18863.0</td>\n",
       "      <td>16028.0</td>\n",
       "      <td>1.0</td>\n",
       "      <td>482.0</td>\n",
       "      <td>2.0</td>\n",
       "      <td>755.0</td>\n",
       "    </tr>\n",
       "    <tr>\n",
       "      <th>2</th>\n",
       "      <td>Санкт-Петербург</td>\n",
       "      <td>21741.0</td>\n",
       "      <td>13933.0</td>\n",
       "      <td>1.0</td>\n",
       "      <td>90.0</td>\n",
       "      <td>2.0</td>\n",
       "      <td>574.0</td>\n",
       "    </tr>\n",
       "    <tr>\n",
       "      <th>3</th>\n",
       "      <td>Санкт-Петербург</td>\n",
       "      <td>28098.0</td>\n",
       "      <td>6800.0</td>\n",
       "      <td>2.0</td>\n",
       "      <td>84.0</td>\n",
       "      <td>3.0</td>\n",
       "      <td>234.0</td>\n",
       "    </tr>\n",
       "    <tr>\n",
       "      <th>4</th>\n",
       "      <td>Санкт-Петербург</td>\n",
       "      <td>31856.0</td>\n",
       "      <td>8098.0</td>\n",
       "      <td>2.0</td>\n",
       "      <td>112.0</td>\n",
       "      <td>1.0</td>\n",
       "      <td>48.0</td>\n",
       "    </tr>\n",
       "    <tr>\n",
       "      <th>7</th>\n",
       "      <td>Санкт-Петербург</td>\n",
       "      <td>23982.0</td>\n",
       "      <td>11634.0</td>\n",
       "      <td>0.0</td>\n",
       "      <td>NaN</td>\n",
       "      <td>0.0</td>\n",
       "      <td>NaN</td>\n",
       "    </tr>\n",
       "    <tr>\n",
       "      <th>9</th>\n",
       "      <td>Санкт-Петербург</td>\n",
       "      <td>50898.0</td>\n",
       "      <td>15008.0</td>\n",
       "      <td>0.0</td>\n",
       "      <td>NaN</td>\n",
       "      <td>0.0</td>\n",
       "      <td>NaN</td>\n",
       "    </tr>\n",
       "    <tr>\n",
       "      <th>10</th>\n",
       "      <td>Санкт-Петербург</td>\n",
       "      <td>38357.0</td>\n",
       "      <td>13878.0</td>\n",
       "      <td>1.0</td>\n",
       "      <td>310.0</td>\n",
       "      <td>2.0</td>\n",
       "      <td>553.0</td>\n",
       "    </tr>\n",
       "    <tr>\n",
       "      <th>15</th>\n",
       "      <td>Санкт-Петербург</td>\n",
       "      <td>12900.0</td>\n",
       "      <td>14259.0</td>\n",
       "      <td>1.0</td>\n",
       "      <td>590.0</td>\n",
       "      <td>1.0</td>\n",
       "      <td>296.0</td>\n",
       "    </tr>\n",
       "    <tr>\n",
       "      <th>16</th>\n",
       "      <td>Санкт-Петербург</td>\n",
       "      <td>22108.0</td>\n",
       "      <td>10698.0</td>\n",
       "      <td>3.0</td>\n",
       "      <td>420.0</td>\n",
       "      <td>0.0</td>\n",
       "      <td>NaN</td>\n",
       "    </tr>\n",
       "    <tr>\n",
       "      <th>17</th>\n",
       "      <td>Санкт-Петербург</td>\n",
       "      <td>33564.0</td>\n",
       "      <td>14616.0</td>\n",
       "      <td>0.0</td>\n",
       "      <td>NaN</td>\n",
       "      <td>1.0</td>\n",
       "      <td>859.0</td>\n",
       "    </tr>\n",
       "    <tr>\n",
       "      <th>18</th>\n",
       "      <td>Санкт-Петербург</td>\n",
       "      <td>44060.0</td>\n",
       "      <td>10842.0</td>\n",
       "      <td>1.0</td>\n",
       "      <td>759.0</td>\n",
       "      <td>0.0</td>\n",
       "      <td>NaN</td>\n",
       "    </tr>\n",
       "    <tr>\n",
       "      <th>19</th>\n",
       "      <td>Санкт-Петербург</td>\n",
       "      <td>38900.0</td>\n",
       "      <td>12843.0</td>\n",
       "      <td>0.0</td>\n",
       "      <td>NaN</td>\n",
       "      <td>0.0</td>\n",
       "      <td>NaN</td>\n",
       "    </tr>\n",
       "    <tr>\n",
       "      <th>21</th>\n",
       "      <td>Санкт-Петербург</td>\n",
       "      <td>36064.0</td>\n",
       "      <td>9722.0</td>\n",
       "      <td>1.0</td>\n",
       "      <td>248.0</td>\n",
       "      <td>0.0</td>\n",
       "      <td>NaN</td>\n",
       "    </tr>\n",
       "    <tr>\n",
       "      <th>23</th>\n",
       "      <td>Санкт-Петербург</td>\n",
       "      <td>15414.0</td>\n",
       "      <td>14211.0</td>\n",
       "      <td>2.0</td>\n",
       "      <td>517.0</td>\n",
       "      <td>1.0</td>\n",
       "      <td>190.0</td>\n",
       "    </tr>\n",
       "    <tr>\n",
       "      <th>24</th>\n",
       "      <td>Санкт-Петербург</td>\n",
       "      <td>20052.0</td>\n",
       "      <td>2336.0</td>\n",
       "      <td>3.0</td>\n",
       "      <td>411.0</td>\n",
       "      <td>3.0</td>\n",
       "      <td>124.0</td>\n",
       "    </tr>\n",
       "  </tbody>\n",
       "</table>\n",
       "</div>"
      ],
      "text/plain": [
       "      locality_name  airports_nearest  cityCenters_nearest  parks_around3000  \\\n",
       "0   Санкт-Петербург           18863.0              16028.0               1.0   \n",
       "2   Санкт-Петербург           21741.0              13933.0               1.0   \n",
       "3   Санкт-Петербург           28098.0               6800.0               2.0   \n",
       "4   Санкт-Петербург           31856.0               8098.0               2.0   \n",
       "7   Санкт-Петербург           23982.0              11634.0               0.0   \n",
       "9   Санкт-Петербург           50898.0              15008.0               0.0   \n",
       "10  Санкт-Петербург           38357.0              13878.0               1.0   \n",
       "15  Санкт-Петербург           12900.0              14259.0               1.0   \n",
       "16  Санкт-Петербург           22108.0              10698.0               3.0   \n",
       "17  Санкт-Петербург           33564.0              14616.0               0.0   \n",
       "18  Санкт-Петербург           44060.0              10842.0               1.0   \n",
       "19  Санкт-Петербург           38900.0              12843.0               0.0   \n",
       "21  Санкт-Петербург           36064.0               9722.0               1.0   \n",
       "23  Санкт-Петербург           15414.0              14211.0               2.0   \n",
       "24  Санкт-Петербург           20052.0               2336.0               3.0   \n",
       "\n",
       "    parks_nearest  ponds_around3000  ponds_nearest  \n",
       "0           482.0               2.0          755.0  \n",
       "2            90.0               2.0          574.0  \n",
       "3            84.0               3.0          234.0  \n",
       "4           112.0               1.0           48.0  \n",
       "7             NaN               0.0            NaN  \n",
       "9             NaN               0.0            NaN  \n",
       "10          310.0               2.0          553.0  \n",
       "15          590.0               1.0          296.0  \n",
       "16          420.0               0.0            NaN  \n",
       "17            NaN               1.0          859.0  \n",
       "18          759.0               0.0            NaN  \n",
       "19            NaN               0.0            NaN  \n",
       "21          248.0               0.0            NaN  \n",
       "23          517.0               1.0          190.0  \n",
       "24          411.0               3.0          124.0  "
      ]
     },
     "metadata": {},
     "output_type": "display_data"
    }
   ],
   "source": [
    "display(data.loc[data['locality_name'] == 'Санкт-Петербург', ('locality_name','airports_nearest', 'cityCenters_nearest', 'parks_around3000', 'parks_nearest', 'ponds_around3000', 'ponds_nearest')].head(15))"
   ]
  },
  {
   "cell_type": "markdown",
   "metadata": {},
   "source": [
    "Как мы видим данные по каждому из столбцов довольно сильно разнятся, поэтому мы не можем использовать средние или медианные значения даже в пределах одного города.\\\n",
    "Пропуски в данных о расстояних до различных объектов и количестве близлежащих водоемов и парков могли возникнуть как по техническим причинам(из-за потери части данных(например, автоматизированная система сбора информации дала сбой) или на этапе загрузки/выгрузки данных была потеряна часть информации), а также пропуски могли возникнуть по причине человеческого фактора - из-за невнимательного заполнения данных пользователем."
   ]
  },
  {
   "cell_type": "markdown",
   "metadata": {},
   "source": [
    "Пропуски в столбце 'locality_name' мы не можем заполнить без дополнительной информации. Поэтому пока оставим их без изменений. Пропуски могли возникнуть из-за невнимательного заполнения данных пользователем или из-за технических ошибок(ошибки при загрузке/выгрузке данных и др.)"
   ]
  },
  {
   "cell_type": "markdown",
   "metadata": {},
   "source": [
    "Пропуски в столбце 'days_exposition' мы также не можем заполнить без дополнительной информации (в том числе из-за того, что некоторые объявления еще могли не снять). Поэтому пока оставим их без изменений. Пропуски могли возникнуть из-за невнимательного заполнения данных пользователем или из-за технических ошибок(ошибки при загрузке/выгрузке данных и др.)"
   ]
  },
  {
   "cell_type": "markdown",
   "metadata": {},
   "source": [
    "Посмотрим как изменилось число пропусков в нашем датафрейме:"
   ]
  },
  {
   "cell_type": "code",
   "execution_count": 14,
   "metadata": {
    "scrolled": true
   },
   "outputs": [
    {
     "name": "stdout",
     "output_type": "stream",
     "text": [
      "total_images                0\n",
      "last_price                  0\n",
      "total_area                  0\n",
      "first_day_exposition        0\n",
      "rooms                       0\n",
      "ceiling_height              0\n",
      "floors_total               86\n",
      "living_area                 0\n",
      "floor                       0\n",
      "is_apartment                0\n",
      "studio                      0\n",
      "open_plan                   0\n",
      "kitchen_area                0\n",
      "balcony                     0\n",
      "locality_name              49\n",
      "airports_nearest         5541\n",
      "cityCenters_nearest      5518\n",
      "parks_around3000         5517\n",
      "parks_nearest           15617\n",
      "ponds_around3000         5517\n",
      "ponds_nearest           14584\n",
      "days_exposition          3180\n",
      "dtype: int64\n"
     ]
    }
   ],
   "source": [
    "print(data.isna().sum())"
   ]
  },
  {
   "cell_type": "markdown",
   "metadata": {},
   "source": [
    "Как мы видим осталось много пропусков связанных с расстоянием до аэропорта, парка, центра города, водоема и их количества - попробуем разобраться с ними позже."
   ]
  },
  {
   "cell_type": "markdown",
   "metadata": {},
   "source": [
    "Изучим столбец с названиями населенных пунктов. Для этого выведем все уникальные значения и их количество столбца 'locality_name':"
   ]
  },
  {
   "cell_type": "code",
   "execution_count": 15,
   "metadata": {
    "scrolled": false
   },
   "outputs": [
    {
     "name": "stdout",
     "output_type": "stream",
     "text": [
      "['Санкт-Петербург' 'посёлок Шушары' 'городской посёлок Янино-1'\n",
      " 'посёлок Парголово' 'посёлок Мурино' 'Ломоносов' 'Сертолово' 'Петергоф'\n",
      " 'Пушкин' 'деревня Кудрово' 'Коммунар' 'Колпино'\n",
      " 'поселок городского типа Красный Бор' 'Гатчина' 'поселок Мурино'\n",
      " 'деревня Фёдоровское' 'Выборг' 'Кронштадт' 'Кировск'\n",
      " 'деревня Новое Девяткино' 'посёлок Металлострой'\n",
      " 'посёлок городского типа Лебяжье' 'посёлок городского типа Сиверский'\n",
      " 'поселок Молодцово' 'поселок городского типа Кузьмоловский'\n",
      " 'садовое товарищество Новая Ропша' 'Павловск' 'деревня Пикколово'\n",
      " 'Всеволожск' 'Волхов' 'Кингисепп' 'Приозерск' 'Сестрорецк'\n",
      " 'деревня Куттузи' 'посёлок Аннино' 'поселок городского типа Ефимовский'\n",
      " 'посёлок Плодовое' 'деревня Заклинье' 'поселок Торковичи'\n",
      " 'поселок Первомайское' 'Красное Село' 'посёлок Понтонный' 'Сясьстрой'\n",
      " 'деревня Старая' 'деревня Лесколово' 'посёлок Новый Свет' 'Сланцы'\n",
      " 'село Путилово' 'Ивангород' 'Мурино' 'Шлиссельбург' 'Никольское'\n",
      " 'Зеленогорск' 'Сосновый Бор' 'поселок Новый Свет' 'деревня Оржицы'\n",
      " 'деревня Кальтино' 'Кудрово' 'поселок Романовка' 'посёлок Бугры'\n",
      " 'поселок Бугры' 'поселок городского типа Рощино' 'Кириши' 'Луга'\n",
      " 'Волосово' 'Отрадное' 'село Павлово' 'поселок Оредеж' 'село Копорье'\n",
      " 'посёлок городского типа Красный Бор' 'посёлок Молодёжное' 'Тихвин'\n",
      " 'посёлок Победа' 'деревня Нурма' 'поселок городского типа Синявино'\n",
      " 'Тосно' 'посёлок городского типа Кузьмоловский' 'посёлок Стрельна'\n",
      " 'Бокситогорск' 'посёлок Александровская' 'деревня Лопухинка' 'Пикалёво'\n",
      " 'поселок Терволово' 'поселок городского типа Советский' 'Подпорожье'\n",
      " 'посёлок Петровское' 'посёлок городского типа Токсово' 'поселок Сельцо'\n",
      " 'посёлок городского типа Вырица' 'деревня Кипень' 'деревня Келози'\n",
      " 'деревня Вартемяги' 'посёлок Тельмана' 'поселок Севастьяново'\n",
      " 'городской поселок Большая Ижора' nan 'городской посёлок Павлово'\n",
      " 'деревня Агалатово' 'посёлок Новогорелово'\n",
      " 'городской посёлок Лесогорский' 'деревня Лаголово' 'поселок Цвелодубово'\n",
      " 'поселок городского типа Рахья' 'поселок городского типа Вырица'\n",
      " 'деревня Белогорка' 'поселок Заводской' 'городской посёлок Новоселье'\n",
      " 'деревня Большие Колпаны' 'деревня Горбунки' 'деревня Батово'\n",
      " 'деревня Заневка' 'деревня Иссад' 'Приморск'\n",
      " 'городской посёлок Фёдоровское' 'деревня Мистолово' 'Новая Ладога'\n",
      " 'поселок Зимитицы' 'поселок Барышево' 'деревня Разметелево'\n",
      " 'поселок городского типа имени Свердлова' 'деревня Пеники'\n",
      " 'поселок Рябово' 'деревня Пудомяги' 'поселок станции Корнево'\n",
      " 'деревня Низино' 'деревня Бегуницы' 'посёлок Поляны'\n",
      " 'городской посёлок Мга' 'поселок Елизаветино'\n",
      " 'посёлок городского типа Кузнечное' 'деревня Колтуши'\n",
      " 'поселок Запорожское' 'посёлок городского типа Рощино'\n",
      " 'деревня Гостилицы' 'деревня Малое Карлино' 'посёлок Мичуринское'\n",
      " 'посёлок городского типа имени Морозова' 'посёлок Песочный'\n",
      " 'посёлок Сосново' 'деревня Аро' 'поселок Ильичёво'\n",
      " 'посёлок городского типа Тайцы' 'деревня Малое Верево' 'деревня Извара'\n",
      " 'поселок станции Вещево' 'село Паша' 'деревня Калитино'\n",
      " 'посёлок городского типа Ульяновка' 'деревня Чудской Бор'\n",
      " 'поселок городского типа Дубровка' 'деревня Мины' 'поселок Войсковицы'\n",
      " 'посёлок городского типа имени Свердлова' 'деревня Коркино'\n",
      " 'посёлок Ропша' 'поселок городского типа Приладожский' 'посёлок Щеглово'\n",
      " 'посёлок Гаврилово' 'Лодейное Поле' 'деревня Рабитицы'\n",
      " 'поселок городского типа Никольский' 'деревня Кузьмолово'\n",
      " 'деревня Малые Колпаны' 'поселок Тельмана' 'посёлок Петро-Славянка'\n",
      " 'городской посёлок Назия' 'посёлок Репино' 'посёлок Ильичёво'\n",
      " 'поселок Углово' 'поселок Старая Малукса' 'садовое товарищество Рахья'\n",
      " 'поселок Аннино' 'поселок Победа' 'деревня Меньково'\n",
      " 'деревня Старые Бегуницы' 'посёлок Сапёрный' 'поселок Семрино'\n",
      " 'поселок Гаврилово' 'поселок Глажево' 'поселок Кобринское'\n",
      " 'деревня Гарболово' 'деревня Юкки' 'поселок станции Приветнинское'\n",
      " 'деревня Мануйлово' 'деревня Пчева' 'поселок Поляны' 'поселок Цвылёво'\n",
      " 'поселок Мельниково' 'посёлок Пудость' 'посёлок Усть-Луга' 'Светогорск'\n",
      " 'Любань' 'поселок Селезнёво' 'поселок городского типа Рябово'\n",
      " 'Каменногорск' 'деревня Кривко' 'поселок Глебычево' 'деревня Парицы'\n",
      " 'поселок Жилпосёлок' 'посёлок городского типа Мга'\n",
      " 'городской поселок Янино-1' 'посёлок Войскорово' 'село Никольское'\n",
      " 'посёлок Терволово' 'поселок Стеклянный' 'посёлок городского типа Важины'\n",
      " 'посёлок Мыза-Ивановка' 'село Русско-Высоцкое'\n",
      " 'поселок городского типа Лебяжье' 'поселок городского типа Форносово'\n",
      " 'село Старая Ладога' 'поселок Житково' 'городской посёлок Виллози'\n",
      " 'деревня Лампово' 'деревня Шпаньково' 'деревня Лаврики' 'посёлок Сумино'\n",
      " 'посёлок Возрождение' 'деревня Старосиверская' 'посёлок Кикерино'\n",
      " 'поселок Возрождение' 'деревня Старое Хинколово' 'посёлок Пригородный'\n",
      " 'посёлок Торфяное' 'городской посёлок Будогощь' 'поселок Суходолье'\n",
      " 'поселок Красная Долина' 'деревня Хапо-Ое'\n",
      " 'поселок городского типа Дружная Горка' 'поселок Лисий Нос'\n",
      " 'деревня Яльгелево' 'посёлок Стеклянный' 'село Рождествено'\n",
      " 'деревня Старополье' 'посёлок Левашово' 'деревня Сяськелево'\n",
      " 'деревня Камышовка'\n",
      " 'садоводческое некоммерческое товарищество Лесная Поляна'\n",
      " 'деревня Хязельки' 'поселок Жилгородок' 'посёлок городского типа Павлово'\n",
      " 'деревня Ялгино' 'поселок Новый Учхоз' 'городской посёлок Рощино'\n",
      " 'поселок Гончарово' 'поселок Почап' 'посёлок Сапёрное'\n",
      " 'посёлок Платформа 69-й километр' 'поселок Каложицы' 'деревня Фалилеево'\n",
      " 'деревня Пельгора' 'поселок городского типа Лесогорский'\n",
      " 'деревня Торошковичи' 'посёлок Белоостров' 'посёлок Алексеевка'\n",
      " 'поселок Серебрянский' 'поселок Лукаши' 'поселок Петровское'\n",
      " 'деревня Щеглово' 'поселок Мичуринское' 'деревня Тарасово'\n",
      " 'поселок Кингисеппский' 'посёлок при железнодорожной станции Вещево'\n",
      " 'поселок Ушаки' 'деревня Котлы' 'деревня Сижно' 'деревня Торосово'\n",
      " 'посёлок Форт Красная Горка' 'поселок городского типа Токсово'\n",
      " 'деревня Новолисино' 'посёлок станции Громово' 'деревня Глинка'\n",
      " 'посёлок Мельниково' 'поселок городского типа Назия'\n",
      " 'деревня Старая Пустошь' 'поселок Коммунары' 'поселок Починок'\n",
      " 'посёлок городского типа Вознесенье' 'деревня Разбегаево'\n",
      " 'посёлок городского типа Рябово' 'поселок Гладкое'\n",
      " 'посёлок при железнодорожной станции Приветнинское' 'поселок Тёсово-4'\n",
      " 'посёлок Жилгородок' 'деревня Бор' 'посёлок Коробицыно'\n",
      " 'деревня Большая Вруда' 'деревня Курковицы' 'посёлок Лисий Нос'\n",
      " 'городской посёлок Советский' 'посёлок Кобралово' 'деревня Суоранда'\n",
      " 'поселок Кобралово' 'поселок городского типа Кондратьево'\n",
      " 'коттеджный поселок Счастье' 'поселок Любань' 'деревня Реброво'\n",
      " 'деревня Зимитицы' 'деревня Тойворово' 'поселок Семиозерье'\n",
      " 'поселок Лесное' 'поселок Совхозный' 'поселок Усть-Луга'\n",
      " 'посёлок Ленинское' 'посёлок Суйда' 'посёлок городского типа Форносово'\n",
      " 'деревня Нижние Осельки' 'посёлок станции Свирь' 'поселок Перово'\n",
      " 'Высоцк' 'поселок Гарболово' 'село Шум' 'поселок Котельский'\n",
      " 'поселок станции Лужайка' 'деревня Большая Пустомержа'\n",
      " 'поселок Красносельское' 'деревня Вахнова Кара' 'деревня Пижма'\n",
      " 'коттеджный поселок Кивеннапа Север' 'поселок Коробицыно'\n",
      " 'поселок Ромашки' 'посёлок Перово' 'деревня Каськово' 'деревня Куровицы'\n",
      " 'посёлок Плоское' 'поселок Сумино'\n",
      " 'поселок городского типа Большая Ижора' 'поселок Кирпичное'\n",
      " 'деревня Ям-Тесово' 'деревня Раздолье' 'деревня Терпилицы'\n",
      " 'посёлок Шугозеро' 'деревня Ваганово' 'поселок Пушное'\n",
      " 'садовое товарищество Садко' 'посёлок Усть-Ижора' 'деревня Выскатка'\n",
      " 'городской посёлок Свирьстрой' 'поселок Громово' 'деревня Кисельня'\n",
      " 'посёлок Старая Малукса' 'деревня Трубников Бор' 'поселок Калитино'\n",
      " 'посёлок Высокоключевой' 'садовое товарищество Приладожский'\n",
      " 'посёлок Пансионат Зелёный Бор' 'деревня Ненимяки'\n",
      " 'поселок Пансионат Зелёный Бор' 'деревня Снегирёвка' 'деревня Рапполово'\n",
      " 'деревня Пустынка' 'поселок Рабитицы' 'деревня Большой Сабск'\n",
      " 'деревня Русско' 'деревня Лупполово' 'деревня Большое Рейзино'\n",
      " 'деревня Малая Романовка' 'поселок Дружноселье' 'поселок Пчевжа'\n",
      " 'поселок Володарское' 'деревня Нижняя' 'коттеджный посёлок Лесное'\n",
      " 'деревня Тихковицы' 'деревня Борисова Грива' 'посёлок Дзержинского']\n",
      "364\n"
     ]
    }
   ],
   "source": [
    "print(data['locality_name'].unique())\n",
    "print(data['locality_name'].nunique())"
   ]
  },
  {
   "cell_type": "markdown",
   "metadata": {},
   "source": [
    "Как видим здесь встречаются неявные дубликаты (например, 'поселок городского типа Рябово' и 'поселок Рябово').\\\n",
    "Исправим это."
   ]
  },
  {
   "cell_type": "code",
   "execution_count": 16,
   "metadata": {
    "scrolled": false
   },
   "outputs": [
    {
     "name": "stdout",
     "output_type": "stream",
     "text": [
      "['Санкт-Петербург' 'Шушары' 'Янино-1' 'Парголово' 'Мурино' 'Ломоносов'\n",
      " 'Сертолово' 'Петергоф' 'Пушкин' 'Кудрово' 'Коммунар' 'Колпино'\n",
      " 'Красный Бор' 'Гатчина' 'Фёдоровское' 'Выборг' 'Кронштадт' 'Кировск'\n",
      " 'Новое Девяткино' 'Металлострой' 'Лебяжье' 'Сиверский' 'Молодцово'\n",
      " 'Кузьмоловский' 'Новая Ропша' 'Павловск' 'Пикколово' 'Всеволожск'\n",
      " 'Волхов' 'Кингисепп' 'Приозерск' 'Сестрорецк' 'Куттузи' 'Аннино'\n",
      " 'Ефимовский' 'Плодовое' 'Заклинье' 'Торковичи' 'Первомайское'\n",
      " 'Красное Село' 'Понтонный' 'Сясьстрой' 'Старая' 'Лесколово' 'Новый Свет'\n",
      " 'Сланцы' 'Путилово' 'Ивангород' 'Шлиссельбург' 'Никольское' 'Зеленогорск'\n",
      " 'Сосновый Бор' 'Оржицы' 'Кальтино' 'Романовка' 'Бугры' 'Рощино' 'Кириши'\n",
      " 'Луга' 'Волосово' 'Отрадное' 'Павлово' 'Оредеж' 'Копорье' 'Молодёжное'\n",
      " 'Тихвин' 'Победа' 'Нурма' 'Синявино' 'Тосно' 'Стрельна' 'Бокситогорск'\n",
      " 'Александровская' 'Лопухинка' 'Пикалёво' 'Терволово' 'Советский'\n",
      " 'Подпорожье' 'Петровское' 'Токсово' 'Сельцо' 'Вырица' 'Кипень' 'Келози'\n",
      " 'Вартемяги' 'Тельмана' 'Севастьяново' 'Большая Ижора' nan 'Агалатово'\n",
      " 'Новогорелово' 'Лесогорский' 'Лаголово' 'Цвелодубово' 'Рахья' 'Белогорка'\n",
      " 'Заводской' 'Новоселье' 'Большие Колпаны' 'Горбунки' 'Батово' 'Заневка'\n",
      " 'Иссад' 'Приморск' 'Мистолово' 'Новая Ладога' 'Зимитицы' 'Барышево'\n",
      " 'Разметелево' 'Свердлова' 'Пеники' 'Рябово' 'Пудомяги' 'Корнево' 'Низино'\n",
      " 'Бегуницы' 'Поляны' 'Мга' 'Елизаветино' 'Кузнечное' 'Колтуши'\n",
      " 'Запорожское' 'Гостилицы' 'Малое Карлино' 'Мичуринское' 'Морозова'\n",
      " 'Песочный' 'Сосново' 'Аро' 'Ильичёво' 'Тайцы' 'Малое Верево' 'Извара'\n",
      " 'Вещево' 'Паша' 'Калитино' 'Ульяновка' 'Чудской Бор' 'Дубровка' 'Мины'\n",
      " 'Войсковицы' 'Коркино' 'Ропша' 'Приладожский' 'Щеглово' 'Гаврилово'\n",
      " 'Лодейное Поле' 'Рабитицы' 'Никольский' 'Кузьмолово' 'Малые Колпаны'\n",
      " 'Петро-Славянка' 'Назия' 'Репино' 'Углово' 'Старая Малукса' 'Меньково'\n",
      " 'Старые Бегуницы' 'Сапёрный' 'Семрино' 'Глажево' 'Кобринское' 'Гарболово'\n",
      " 'Юкки' 'Приветнинское' 'Мануйлово' 'Пчева' 'Цвылёво' 'Мельниково'\n",
      " 'Пудость' 'Усть-Луга' 'Светогорск' 'Любань' 'Селезнёво' 'Каменногорск'\n",
      " 'Кривко' 'Глебычево' 'Парицы' 'Жилпосёлок' 'Войскорово' 'Стеклянный'\n",
      " 'Важины' 'Мыза-Ивановка' 'Русско-Высоцкое' 'Форносово' 'Старая Ладога'\n",
      " 'Житково' 'Виллози' 'Лампово' 'Шпаньково' 'Лаврики' 'Сумино'\n",
      " 'Возрождение' 'Старосиверская' 'Кикерино' 'Старое Хинколово'\n",
      " 'Пригородный' 'Торфяное' 'Будогощь' 'Суходолье' 'Красная Долина'\n",
      " 'Хапо-Ое' 'Дружная Горка' 'Лисий Нос' 'Яльгелево' 'Рождествено'\n",
      " 'Старополье' 'Левашово' 'Сяськелево' 'Камышовка' 'Лесная Поляна'\n",
      " 'Хязельки' 'Жилгородок' 'Ялгино' 'Новый Учхоз' 'Гончарово' 'Почап'\n",
      " 'Сапёрное' 'Платформа 69-й километр' 'Каложицы' 'Фалилеево' 'Пельгора'\n",
      " 'Торошковичи' 'Белоостров' 'Алексеевка' 'Серебрянский' 'Лукаши'\n",
      " 'Тарасово' 'Кингисеппский' 'Ушаки' 'Котлы' 'Сижно' 'Торосово'\n",
      " 'Форт Красная Горка' 'Новолисино' 'Громово' 'Глинка' 'Старая Пустошь'\n",
      " 'Коммунары' 'Починок' 'Вознесенье' 'Разбегаево' 'Гладкое' 'Тёсово-4'\n",
      " 'Бор' 'Коробицыно' 'Большая Вруда' 'Курковицы' 'Кобралово' 'Суоранда'\n",
      " 'Кондратьево' 'Счастье' 'Реброво' 'Тойворово' 'Семиозерье' 'Лесное'\n",
      " 'Совхозный' 'Ленинское' 'Суйда' 'Нижние Осельки' 'Свирь' 'Перово'\n",
      " 'Высоцк' 'Шум' 'Котельский' 'Лужайка' 'Большая Пустомержа'\n",
      " 'Красносельское' 'Вахнова Кара' 'Пижма' 'Кивеннапа Север' 'Ромашки'\n",
      " 'Каськово' 'Куровицы' 'Плоское' 'Кирпичное' 'Ям-Тесово' 'Раздолье'\n",
      " 'Терпилицы' 'Шугозеро' 'Ваганово' 'Пушное' 'Садко' 'Усть-Ижора'\n",
      " 'Выскатка' 'Свирьстрой' 'Кисельня' 'Трубников Бор' 'Высокоключевой'\n",
      " 'Пансионат Зелёный Бор' 'Ненимяки' 'Снегирёвка' 'Рапполово' 'Пустынка'\n",
      " 'Большой Сабск' 'Русско' 'Лупполово' 'Большое Рейзино' 'Малая Романовка'\n",
      " 'Дружноселье' 'Пчевжа' 'Володарское' 'Нижняя' 'Тихковицы'\n",
      " 'Борисова Грива' 'Дзержинского']\n"
     ]
    }
   ],
   "source": [
    "data['locality_name'] = data['locality_name'].replace(['посёлок ','поселок городского типа ','посёлок городского типа ', 'поселок ','садовое товарищество ', 'городской посёлок ', 'городской поселок ', 'деревня ', 'село ', 'городской ', ' городского типа ', 'городского типа ', 'коттеджный ', 'при железнодорожной станции ', ' станции ', 'станции ', 'садоводческое некоммерческое товарищество ', 'имени '], '', regex=True)\n",
    "print(data['locality_name'].unique())"
   ]
  },
  {
   "cell_type": "code",
   "execution_count": 17,
   "metadata": {
    "scrolled": false
   },
   "outputs": [
    {
     "name": "stdout",
     "output_type": "stream",
     "text": [
      "305\n"
     ]
    }
   ],
   "source": [
    "print(data['locality_name'].nunique())"
   ]
  },
  {
   "cell_type": "markdown",
   "metadata": {},
   "source": [
    "Как мы видим, удалив тип населенного пункта перед его непосредственным назвванием, мы смогли сократить количество неявных дубликатов в названиях с 364 до 305."
   ]
  },
  {
   "cell_type": "markdown",
   "metadata": {},
   "source": [
    "Рассмотрим редкие и выбивающиеся значения по всем столбцам таблицы."
   ]
  },
  {
   "cell_type": "markdown",
   "metadata": {},
   "source": [
    "Рассмотрим столбец 'ceiling_height' и обратим внимание на высоту потолка выше 6м (обычно это максимальная высота потолков в элитных квартирах) и меньше 2,4м (согласно нормативам это минимальная высота потолков для квартир)."
   ]
  },
  {
   "cell_type": "code",
   "execution_count": 18,
   "metadata": {
    "scrolled": false
   },
   "outputs": [
    {
     "name": "stdout",
     "output_type": "stream",
     "text": [
      "355       25.0\n",
      "3148      32.0\n",
      "3474       8.0\n",
      "4643      25.0\n",
      "4876      27.0\n",
      "5076      24.0\n",
      "5246      27.0\n",
      "5669      26.0\n",
      "5807      27.0\n",
      "5863       8.3\n",
      "6246      25.0\n",
      "9379      25.0\n",
      "10773     27.0\n",
      "11285     25.0\n",
      "14382     25.0\n",
      "15061     14.0\n",
      "15743      8.0\n",
      "17442      8.0\n",
      "17496     20.0\n",
      "17857     27.0\n",
      "18545     25.0\n",
      "20478     27.0\n",
      "20507     22.6\n",
      "21377     27.5\n",
      "21824     27.0\n",
      "22309     10.3\n",
      "22336     32.0\n",
      "22869    100.0\n",
      "22938     27.0\n",
      "Name: ceiling_height, dtype: float64\n",
      "227      2.34\n",
      "552      2.00\n",
      "1582     2.30\n",
      "2572     2.00\n",
      "4212     2.00\n",
      "5498     2.30\n",
      "5712     1.20\n",
      "5850     2.00\n",
      "11352    2.00\n",
      "12755    2.20\n",
      "16446    2.00\n",
      "16884    2.00\n",
      "16934    1.75\n",
      "17762    2.30\n",
      "17794    2.25\n",
      "19098    2.00\n",
      "19329    2.00\n",
      "20520    2.00\n",
      "22590    1.00\n",
      "22960    2.00\n",
      "23498    2.30\n",
      "Name: ceiling_height, dtype: float64\n"
     ]
    }
   ],
   "source": [
    "print(data.query('ceiling_height > 6')['ceiling_height'])\n",
    "print(data.query('ceiling_height < 2.4')['ceiling_height'])"
   ]
  },
  {
   "cell_type": "markdown",
   "metadata": {},
   "source": [
    "Можем предположить, что указанные высоты в 20-30 метров являются на самом деле 2.0-3.0 метрами для которых забыли добавить запятую между разрядами. Исправим это:"
   ]
  },
  {
   "cell_type": "code",
   "execution_count": 19,
   "metadata": {},
   "outputs": [
    {
     "name": "stdout",
     "output_type": "stream",
     "text": [
      "22869    10.0\n",
      "Name: ceiling_height, dtype: float64\n"
     ]
    }
   ],
   "source": [
    "data.loc[data['ceiling_height'] > 6, 'ceiling_height'] = data['ceiling_height']/10\n",
    "print(data.query('ceiling_height > 6')['ceiling_height'])"
   ]
  },
  {
   "cell_type": "markdown",
   "metadata": {},
   "source": [
    "Как вы видим осталась только одна квартира с непонятной высотой - избавимся от нее. А также избавимся от квартир и удалим строки, в которых высота потолка меньше 2,4м"
   ]
  },
  {
   "cell_type": "code",
   "execution_count": 20,
   "metadata": {
    "scrolled": true
   },
   "outputs": [],
   "source": [
    "data = data.loc[data['ceiling_height'] < 6]\n",
    "data = data.loc[data['ceiling_height'] > 2.4]"
   ]
  },
  {
   "cell_type": "markdown",
   "metadata": {},
   "source": [
    "Рассмотрим общие площади квартир в столбце 'total_area' и посмотрим на возможные аномалии в этом столбце:"
   ]
  },
  {
   "cell_type": "code",
   "execution_count": 21,
   "metadata": {
    "scrolled": false
   },
   "outputs": [
    {
     "name": "stdout",
     "output_type": "stream",
     "text": [
      "19904     12.0\n",
      "19546     13.0\n",
      "19807     13.0\n",
      "17961     13.0\n",
      "19558     13.2\n",
      "         ...  \n",
      "5358     590.0\n",
      "15651    618.0\n",
      "3117     631.0\n",
      "12859    631.2\n",
      "19540    900.0\n",
      "Name: total_area, Length: 23634, dtype: float64\n"
     ]
    }
   ],
   "source": [
    "print(data['total_area'].sort_values())"
   ]
  },
  {
   "cell_type": "markdown",
   "metadata": {},
   "source": [
    "Как мы видим данные по площадям находятся в диапазоне от 12 до 900 кв.метра. Если ориентироваться на данные из открытых источников, то эти данные соотвествуют действительности и квартиры с такими площадями существуют так как:\n",
    "- если посмотреть на максимальные площади, то данные о квартирах больше 400 кв.метров могут смутить, однако по информации из открытых источников мы можем узнать, что такие объекты реально существуют - в частности квартира площадью 900 кв.метров реально существует в Санкт-Петербурге, поэтому будем считать, что и квартиры с меньшими площадями существуют.\n",
    "- если посмотреть на минимальные площади, то по данным из открытых источников мы также можем судить, что квартиры площадью 12 кв.метров (и даже меньше) также существуют - в частности, квартира площадью 10 кв.метров реально существует в Санкт-Петербурге, поэтому будем считать, что и квартиры с большими площадями существуют. \n",
    "\n",
    "Поэтому оставим значения в этом столбце без изменений. "
   ]
  },
  {
   "cell_type": "markdown",
   "metadata": {},
   "source": [
    "Рассмотрим данные по количеству комнат в столбце 'rooms' и посмотрим на возможные аномалии в этом столбце:"
   ]
  },
  {
   "cell_type": "code",
   "execution_count": 22,
   "metadata": {},
   "outputs": [
    {
     "name": "stdout",
     "output_type": "stream",
     "text": [
      "1     8024\n",
      "2     7916\n",
      "3     5801\n",
      "4     1177\n",
      "5      326\n",
      "0      195\n",
      "6      105\n",
      "7       59\n",
      "8       12\n",
      "9        8\n",
      "10       3\n",
      "11       2\n",
      "14       2\n",
      "19       1\n",
      "16       1\n",
      "12       1\n",
      "15       1\n",
      "Name: rooms, dtype: int64\n"
     ]
    }
   ],
   "source": [
    "print(data['rooms'].value_counts())"
   ]
  },
  {
   "cell_type": "markdown",
   "metadata": {},
   "source": [
    "Как мы видим у нас имеется 197 квартир с 0 комнат, чего быть не может - скорее всего в этих квартирах 1 комната. Исправим это."
   ]
  },
  {
   "cell_type": "code",
   "execution_count": 23,
   "metadata": {},
   "outputs": [],
   "source": [
    "data.loc[data['rooms'] == 0, 'rooms'] = 1"
   ]
  },
  {
   "cell_type": "markdown",
   "metadata": {},
   "source": [
    "Посмотрим как изменились значения в столбце 'rooms':"
   ]
  },
  {
   "cell_type": "code",
   "execution_count": 24,
   "metadata": {
    "scrolled": true
   },
   "outputs": [
    {
     "name": "stdout",
     "output_type": "stream",
     "text": [
      "1     8219\n",
      "2     7916\n",
      "3     5801\n",
      "4     1177\n",
      "5      326\n",
      "6      105\n",
      "7       59\n",
      "8       12\n",
      "9        8\n",
      "10       3\n",
      "11       2\n",
      "14       2\n",
      "16       1\n",
      "19       1\n",
      "12       1\n",
      "15       1\n",
      "Name: rooms, dtype: int64\n"
     ]
    }
   ],
   "source": [
    "print(data['rooms'].value_counts())"
   ]
  },
  {
   "cell_type": "markdown",
   "metadata": {},
   "source": [
    "Теперь все квартиры с нулем комнат стали однокомнатными.\\\n",
    "Как мы видим максимальное количество комнат в одной из квартир - 19. Если судить по данным из открытых источников, то максимальное количество комнат в продаваемых в России квартирах - 20, поэтому будем считать, что наша квартира с 19 комнатами и все остальные квартиры  с меньшим количеством комнат существуют."
   ]
  },
  {
   "cell_type": "markdown",
   "metadata": {},
   "source": [
    "Рассмотрим данные об этажах, на которых находятся квартиры, и об общем количестве этажей в домах:"
   ]
  },
  {
   "cell_type": "code",
   "execution_count": 25,
   "metadata": {
    "scrolled": true
   },
   "outputs": [
    {
     "name": "stdout",
     "output_type": "stream",
     "text": [
      "2     3357\n",
      "3     3069\n",
      "1     2903\n",
      "4     2800\n",
      "5     2611\n",
      "6     1302\n",
      "7     1216\n",
      "8     1078\n",
      "9     1049\n",
      "10     687\n",
      "12     525\n",
      "11     520\n",
      "13     379\n",
      "15     342\n",
      "14     335\n",
      "16     315\n",
      "17     226\n",
      "18     178\n",
      "19     147\n",
      "21     124\n",
      "22     112\n",
      "20     110\n",
      "23     100\n",
      "24      63\n",
      "25      46\n",
      "26      24\n",
      "27      10\n",
      "28       1\n",
      "29       1\n",
      "32       1\n",
      "30       1\n",
      "33       1\n",
      "31       1\n",
      "Name: floor, dtype: int64\n",
      "5.0     5760\n",
      "9.0     3755\n",
      "16.0    1373\n",
      "12.0    1358\n",
      "4.0     1199\n",
      "10.0    1174\n",
      "25.0    1074\n",
      "6.0      911\n",
      "17.0     830\n",
      "3.0      668\n",
      "7.0      590\n",
      "14.0     550\n",
      "18.0     504\n",
      "24.0     468\n",
      "8.0      388\n",
      "2.0      380\n",
      "15.0     364\n",
      "23.0     352\n",
      "19.0     339\n",
      "22.0     285\n",
      "20.0     271\n",
      "13.0     229\n",
      "11.0     203\n",
      "27.0     164\n",
      "21.0     158\n",
      "26.0     124\n",
      "35.0      24\n",
      "1.0       24\n",
      "28.0      21\n",
      "36.0       3\n",
      "29.0       1\n",
      "60.0       1\n",
      "52.0       1\n",
      "34.0       1\n",
      "33.0       1\n",
      "Name: floors_total, dtype: int64\n"
     ]
    }
   ],
   "source": [
    "print(data['floor'].value_counts())\n",
    "print(data['floors_total'].value_counts())"
   ]
  },
  {
   "cell_type": "markdown",
   "metadata": {},
   "source": [
    "По данным из открытых источников максимальная этажность зданий в Санкт-Петербурге составляет 87 этажей.  Как мы видим, количество этажей в нашем случае не превышает эту цифру, следовательно оставим эти столбцы без изменений. "
   ]
  },
  {
   "cell_type": "markdown",
   "metadata": {},
   "source": [
    "Рассмотрим данные по количеству балконов в столбце 'balcony':"
   ]
  },
  {
   "cell_type": "code",
   "execution_count": 26,
   "metadata": {
    "scrolled": false
   },
   "outputs": [
    {
     "name": "stdout",
     "output_type": "stream",
     "text": [
      "0.0    15242\n",
      "1.0     4178\n",
      "2.0     3651\n",
      "5.0      300\n",
      "4.0      183\n",
      "3.0       80\n",
      "Name: balcony, dtype: int64\n"
     ]
    }
   ],
   "source": [
    "print(data['balcony'].value_counts())"
   ]
  },
  {
   "cell_type": "markdown",
   "metadata": {},
   "source": [
    "Как мы видим у нас нет неправдоподобных значений, поэтому оставляем этот столбец без изменений."
   ]
  },
  {
   "cell_type": "markdown",
   "metadata": {},
   "source": [
    "Рассмотрим данные о стоимости продаваемых квартир и выведем на экран данные и самых дорогих и дешевых квартирах:"
   ]
  },
  {
   "cell_type": "code",
   "execution_count": 27,
   "metadata": {
    "scrolled": true
   },
   "outputs": [
    {
     "name": "stdout",
     "output_type": "stream",
     "text": [
      "8793         12190.0\n",
      "14911       430000.0\n",
      "17456       430000.0\n",
      "16274       440000.0\n",
      "5698        450000.0\n",
      "            ...     \n",
      "15651    300000000.0\n",
      "1436     330000000.0\n",
      "14706    401300000.0\n",
      "19540    420000000.0\n",
      "12971    763000000.0\n",
      "Name: last_price, Length: 23634, dtype: float64\n"
     ]
    }
   ],
   "source": [
    "print(data.sort_values(by='last_price')['last_price'])"
   ]
  },
  {
   "cell_type": "markdown",
   "metadata": {},
   "source": [
    "Как мы видим самая дорогая квартира стоит 763 млн. Если судить по данным из открытых источников, то самая дорогая квартира в Санкт-Петербурге стоит 1 млрд., поэтому будем считать, что наша квартира за 763 млн. и дешевле также существуют.\\\n",
    "Самая дешевая квартира стоит 12 тыс. и это выглядит уже странно, т.к. по данным из открытых источников самая дешевая квартира в России стоит 200 тыс, поэтому такую квартиру мы будем считать аномалией и удалим из нашего датафрейма. Следующая за ней квартира стоит 430 тыс. и с учетом выше сказанного о минимальной стомости квартир будем считать, что квартиры с такой ценой и выше существуют, поэтому избавимся только от квартиры за 12 тыс."
   ]
  },
  {
   "cell_type": "code",
   "execution_count": 28,
   "metadata": {
    "scrolled": true
   },
   "outputs": [],
   "source": [
    "data = data.loc[data['last_price'] > 200000]"
   ]
  },
  {
   "cell_type": "markdown",
   "metadata": {},
   "source": [
    "Поскольку на данном этапе мы не можем оценить правдоподобность расстояний до различных объектов и площади различных объектов внутри квартиры, то оставим соответствующие столбцы без изменений."
   ]
  },
  {
   "cell_type": "markdown",
   "metadata": {},
   "source": [
    "Обновим индексы поскольку некоторые строки таблицы были удалены:"
   ]
  },
  {
   "cell_type": "code",
   "execution_count": 29,
   "metadata": {},
   "outputs": [],
   "source": [
    "data = data.reset_index(drop = True)"
   ]
  },
  {
   "cell_type": "markdown",
   "metadata": {},
   "source": [
    "Проверим какой процент данных остался в нашем датафрейме после удаления всех аномалий. При работе с датафреймом мы можем удалить не более 10% от изначального объёма данных. Первоначально в нашем датафрейме было 23699 значений (данные из 1 раздела). Посмотрим сколько их осталось сейчас и какой процент от первоначального объема они составляют:"
   ]
  },
  {
   "cell_type": "code",
   "execution_count": 30,
   "metadata": {
    "scrolled": false
   },
   "outputs": [
    {
     "name": "stdout",
     "output_type": "stream",
     "text": [
      "23633\n",
      "99.72150723659226\n"
     ]
    }
   ],
   "source": [
    "print(data.shape[0])\n",
    "print(data.shape[0]/23699*100)"
   ]
  },
  {
   "cell_type": "markdown",
   "metadata": {},
   "source": [
    "Как мы видим мы удалили меньше 1% от первоначальных данных, следовательно можем дальше продолжать работу с датафреймом."
   ]
  },
  {
   "cell_type": "markdown",
   "metadata": {},
   "source": [
    "<b>Вывод: </b> в большинсте столбцов были проведены замены пропущенных значений, а в некоторых были указаны причины по которым замены трудно осуществить, а также высказаны причины по которым могли возникнуть пропуски. Также были убраны аномальные значения и поменяны типы данных для некоторых столбцов, а также убраны дубликаты в названиях населенных пунктов."
   ]
  },
  {
   "cell_type": "markdown",
   "metadata": {},
   "source": [
    "### Посчитаем и добавим в таблицу новые столбцы"
   ]
  },
  {
   "cell_type": "markdown",
   "metadata": {},
   "source": [
    "Добавим в таблицу новый столбец с ценой одного квадратного метра и выведем первые и последние несколько строк получившегося столбца на экран."
   ]
  },
  {
   "cell_type": "code",
   "execution_count": 31,
   "metadata": {
    "scrolled": true
   },
   "outputs": [
    {
     "name": "stdout",
     "output_type": "stream",
     "text": [
      "0        120370.370370\n",
      "1         82920.792079\n",
      "2         92785.714286\n",
      "3        408176.100629\n",
      "4        100000.000000\n",
      "             ...      \n",
      "23628     72490.845228\n",
      "23629     52542.372881\n",
      "23630     44091.710758\n",
      "23631    149511.400651\n",
      "23632     41795.665635\n",
      "Name: price_area, Length: 23633, dtype: float64\n"
     ]
    }
   ],
   "source": [
    "data['price_area'] = data['last_price']/data['total_area']\n",
    "print(data['price_area'])"
   ]
  },
  {
   "cell_type": "markdown",
   "metadata": {},
   "source": [
    "Добавим столбец с днем недели публикации объявления и выведем несколько его строк на экран. Но перед этим поменяем формат времени в исходной таблице и избавимся от часов, минут и секунд (т.к. они для всех строк имеют дефолтное значение и ничего нам не показывают)"
   ]
  },
  {
   "cell_type": "code",
   "execution_count": 32,
   "metadata": {
    "scrolled": true
   },
   "outputs": [],
   "source": [
    "data['first_day_exposition'] = pd.to_datetime(data['first_day_exposition'],format='%Y.%m.%d')"
   ]
  },
  {
   "cell_type": "code",
   "execution_count": 33,
   "metadata": {},
   "outputs": [
    {
     "name": "stdout",
     "output_type": "stream",
     "text": [
      "0        3\n",
      "1        1\n",
      "2        3\n",
      "3        4\n",
      "4        1\n",
      "        ..\n",
      "23628    1\n",
      "23629    0\n",
      "23630    6\n",
      "23631    1\n",
      "23632    4\n",
      "Name: day_of_week_exposition, Length: 23633, dtype: int64\n"
     ]
    }
   ],
   "source": [
    "data['day_of_week_exposition'] = data['first_day_exposition'].dt.weekday\n",
    "print(data['day_of_week_exposition'])"
   ]
  },
  {
   "cell_type": "markdown",
   "metadata": {},
   "source": [
    "В полученном столбце понедельнику соответствует 0, вторнику - 1, среде - 2 и т.д."
   ]
  },
  {
   "cell_type": "markdown",
   "metadata": {},
   "source": [
    "Добавим столбец с месяцем публикации объявления и выведем несколько его строк на экран."
   ]
  },
  {
   "cell_type": "code",
   "execution_count": 34,
   "metadata": {
    "scrolled": false
   },
   "outputs": [
    {
     "name": "stdout",
     "output_type": "stream",
     "text": [
      "0         3\n",
      "1        12\n",
      "2         8\n",
      "3         7\n",
      "4         6\n",
      "         ..\n",
      "23628     3\n",
      "23629     1\n",
      "23630     2\n",
      "23631     3\n",
      "23632     7\n",
      "Name: month_exposition, Length: 23633, dtype: int64\n"
     ]
    }
   ],
   "source": [
    "data['month_exposition'] = data['first_day_exposition'].dt.month\n",
    "print(data['month_exposition'])"
   ]
  },
  {
   "cell_type": "markdown",
   "metadata": {},
   "source": [
    "Добавим столбец с годом публикации объявления и выведем несколько его строк на экран."
   ]
  },
  {
   "cell_type": "code",
   "execution_count": 35,
   "metadata": {},
   "outputs": [
    {
     "name": "stdout",
     "output_type": "stream",
     "text": [
      "0        2019\n",
      "1        2018\n",
      "2        2015\n",
      "3        2015\n",
      "4        2018\n",
      "         ... \n",
      "23628    2017\n",
      "23629    2018\n",
      "23630    2018\n",
      "23631    2017\n",
      "23632    2017\n",
      "Name: year_exposition, Length: 23633, dtype: int64\n"
     ]
    }
   ],
   "source": [
    "data['year_exposition'] = data['first_day_exposition'].dt.year\n",
    "print(data['year_exposition'])"
   ]
  },
  {
   "cell_type": "markdown",
   "metadata": {},
   "source": [
    "Добавим столбец с типом этажа квартиры (значения — «первый», «последний», «другой») и выведем несколько его строк на экран."
   ]
  },
  {
   "cell_type": "code",
   "execution_count": 36,
   "metadata": {},
   "outputs": [
    {
     "name": "stdout",
     "output_type": "stream",
     "text": [
      "0        другой\n",
      "1        первый\n",
      "2        другой\n",
      "3        другой\n",
      "4        другой\n",
      "5        другой\n",
      "6        другой\n",
      "7        другой\n",
      "8        другой\n",
      "9        другой\n",
      "10       другой\n",
      "11       другой\n",
      "12    последний\n",
      "13    последний\n",
      "14       первый\n",
      "Name: type_floor, dtype: object\n"
     ]
    }
   ],
   "source": [
    "data.loc[data['floor'] == 1, 'type_floor'] = 'первый'\n",
    "data.loc[data['floor'] == data['floors_total'], 'type_floor'] = 'последний'\n",
    "data.loc[(data['floor'] != data['floors_total']) & (data['floor'] != 1), 'type_floor'] = 'другой'\n",
    "print(data['type_floor'].head(15))"
   ]
  },
  {
   "cell_type": "markdown",
   "metadata": {},
   "source": [
    "Добавим столбец с расстоянием до центра города в километрах, округлим полученные значения и выведем несколько его строк на экран."
   ]
  },
  {
   "cell_type": "code",
   "execution_count": 37,
   "metadata": {
    "scrolled": true
   },
   "outputs": [
    {
     "name": "stdout",
     "output_type": "stream",
     "text": [
      "0        16.0\n",
      "1        19.0\n",
      "2        14.0\n",
      "3         7.0\n",
      "4         8.0\n",
      "         ... \n",
      "23628     4.0\n",
      "23629     NaN\n",
      "23630     NaN\n",
      "23631    10.0\n",
      "23632     NaN\n",
      "Name: cityCenters_nearest_km, Length: 23633, dtype: float64\n"
     ]
    }
   ],
   "source": [
    "data['cityCenters_nearest_km'] = (data['cityCenters_nearest']/1000).round()\n",
    "print(data['cityCenters_nearest_km'])"
   ]
  },
  {
   "cell_type": "markdown",
   "metadata": {},
   "source": [
    "<b>Вывод: </b> в таблицу были добавлены новые столбцы, для каждого столбца были проведены необходимые расчеты и изменен формат времени."
   ]
  },
  {
   "cell_type": "markdown",
   "metadata": {},
   "source": [
    "### Проведем исследовательский анализ данных"
   ]
  },
  {
   "cell_type": "markdown",
   "metadata": {},
   "source": [
    "Изучим данные об общей площади продаваемых квартир. Для этого построим гистаграммы, диаграмму типа 'ящик с усами', а также выведем числовое описание данных."
   ]
  },
  {
   "cell_type": "code",
   "execution_count": 38,
   "metadata": {
    "scrolled": false
   },
   "outputs": [
    {
     "data": {
      "image/png": "[encoded data removed]",
      "text/plain": [
       "<Figure size 432x288 with 1 Axes>"
      ]
     },
     "metadata": {
      "needs_background": "light"
     },
     "output_type": "display_data"
    },
    {
     "data": {
      "image/png": "[encoded data removed]",
      "text/plain": [
       "<Figure size 432x288 with 1 Axes>"
      ]
     },
     "metadata": {
      "needs_background": "light"
     },
     "output_type": "display_data"
    },
    {
     "data": {
      "image/png": "[encoded data removed]",
      "text/plain": [
       "<Figure size 432x288 with 1 Axes>"
      ]
     },
     "metadata": {
      "needs_background": "light"
     },
     "output_type": "display_data"
    },
    {
     "data": {
      "text/plain": [
       "count    23633.000000\n",
       "mean        60.373484\n",
       "std         35.673922\n",
       "min         12.000000\n",
       "25%         40.000000\n",
       "50%         52.000000\n",
       "75%         70.000000\n",
       "max        900.000000\n",
       "Name: total_area, dtype: float64"
      ]
     },
     "execution_count": 38,
     "metadata": {},
     "output_type": "execute_result"
    }
   ],
   "source": [
    "data['total_area'].hist(bins = 50, range = (0, 1000))\n",
    "plt.title('Общие площади')\n",
    "plt.show()\n",
    "data.boxplot(column='total_area')\n",
    "plt.title('Общие площади')\n",
    "plt.show()\n",
    "data['total_area'].hist(bins = 30, range = (0, 200))\n",
    "plt.title('Общие площади')\n",
    "plt.show()\n",
    "data['total_area'].describe()"
   ]
  },
  {
   "cell_type": "markdown",
   "metadata": {},
   "source": [
    "Как мы видим среднее значение площади квартиры 60 кв.метров, медианное - 52 кв.метра, самая маленькая квартира имеет площадь всего 12 кв.метров (согласно нормативам, допускается и такое), а самая большая целых 900 кв.метров (судя по всему это уже сегмент ультра-элитной недвижимости). Большая часть квартир имеет площадь от 25 от 110 кв.метров, что выглядит довольно правдоподобно, а большие площади уже редкость."
   ]
  },
  {
   "cell_type": "markdown",
   "metadata": {},
   "source": [
    "Изучим данные о жилой площади продаваемых квартир. Для этого построим гистаграмму, диаграмму типа 'ящик с усами', а также выведем числовое описание данных."
   ]
  },
  {
   "cell_type": "code",
   "execution_count": 39,
   "metadata": {},
   "outputs": [
    {
     "data": {
      "image/png": "[encoded data removed]",
      "text/plain": [
       "<Figure size 432x288 with 1 Axes>"
      ]
     },
     "metadata": {
      "needs_background": "light"
     },
     "output_type": "display_data"
    },
    {
     "data": {
      "image/png": "[encoded data removed]",
      "text/plain": [
       "<Figure size 432x288 with 1 Axes>"
      ]
     },
     "metadata": {
      "needs_background": "light"
     },
     "output_type": "display_data"
    },
    {
     "data": {
      "text/plain": [
       "count    23633.000000\n",
       "mean        34.341444\n",
       "std         21.701471\n",
       "min          8.300000\n",
       "25%         18.400000\n",
       "50%         30.400000\n",
       "75%         42.700000\n",
       "max        409.700000\n",
       "Name: living_area, dtype: float64"
      ]
     },
     "execution_count": 39,
     "metadata": {},
     "output_type": "execute_result"
    }
   ],
   "source": [
    "data['living_area'].hist(bins = 50, range = (0, 500))\n",
    "plt.title('Жилые площади')\n",
    "plt.show()\n",
    "data.boxplot(column='living_area')\n",
    "plt.title('Жилые площади')\n",
    "plt.show()\n",
    "data['living_area'].describe()"
   ]
  },
  {
   "cell_type": "markdown",
   "metadata": {},
   "source": [
    "Как мы видим среднее значение жилой площади квартиры 34 кв.метра, медианное - 30 кв.метров, самая маленькая квартира имеет площадь жилых помещений 8 кв.метров, а самая большая целых 409 кв.метров.  Большая часть квартир имеет жилую площадь от 15 до 80 кв.метров, что выглядит довольно правдоподобно, а большие жилые площади уже редкость."
   ]
  },
  {
   "cell_type": "markdown",
   "metadata": {},
   "source": [
    "Изучим данные о площади кухонь в продаваемых квартир. Для этого построим гистаграмму, диаграмму типа 'ящик с усами', а также выведем числовое описание данных."
   ]
  },
  {
   "cell_type": "code",
   "execution_count": 40,
   "metadata": {},
   "outputs": [
    {
     "data": {
      "image/png": "[encoded data removed]",
      "text/plain": [
       "<Figure size 432x288 with 1 Axes>"
      ]
     },
     "metadata": {
      "needs_background": "light"
     },
     "output_type": "display_data"
    },
    {
     "data": {
      "image/png": "[encoded data removed]",
      "text/plain": [
       "<Figure size 432x288 with 1 Axes>"
      ]
     },
     "metadata": {
      "needs_background": "light"
     },
     "output_type": "display_data"
    },
    {
     "data": {
      "text/plain": [
       "count    23633.000000\n",
       "mean        10.570262\n",
       "std          5.613584\n",
       "min          1.300000\n",
       "25%          7.400000\n",
       "50%         10.000000\n",
       "75%         11.440000\n",
       "max        112.000000\n",
       "Name: kitchen_area, dtype: float64"
      ]
     },
     "execution_count": 40,
     "metadata": {},
     "output_type": "execute_result"
    }
   ],
   "source": [
    "data['kitchen_area'].hist(bins = 50, range = (0, 120))\n",
    "plt.title('Площади кухонь')\n",
    "plt.show()\n",
    "data.boxplot(column='kitchen_area')\n",
    "plt.title('Площади кухонь')\n",
    "plt.show()\n",
    "data['kitchen_area'].describe()"
   ]
  },
  {
   "cell_type": "markdown",
   "metadata": {},
   "source": [
    "Как мы видим среднее значение площади кухни 10 кв.метров, медианное - 10 кв.метров, самая маленькая квартира имеет площадь кухни 1,3 кв.метра (сделаем допущение, что это может быть студия, в которых иногда нет столь четкого разделения помещений и их площадей), а самая большая целых 112 кв.метров.  Большая часть квартир имеет кухню от 5 до 19 кв.метров, что выглядит довольно правдоподобно, а большие кухни уже редкость."
   ]
  },
  {
   "cell_type": "markdown",
   "metadata": {},
   "source": [
    "Изучим данные о цене продаваемых квартир. Для этого построим гистаграммы, диаграмму типа 'ящик с усами', а также выведем числовое описание данных. Для удобства отображения разделим столбец 'last_price' на 1 млн."
   ]
  },
  {
   "cell_type": "code",
   "execution_count": 41,
   "metadata": {},
   "outputs": [
    {
     "data": {
      "image/png": "[encoded data removed]",
      "text/plain": [
       "<Figure size 432x288 with 1 Axes>"
      ]
     },
     "metadata": {
      "needs_background": "light"
     },
     "output_type": "display_data"
    },
    {
     "data": {
      "image/png": "[encoded data removed]",
      "text/plain": [
       "<Figure size 432x288 with 1 Axes>"
      ]
     },
     "metadata": {
      "needs_background": "light"
     },
     "output_type": "display_data"
    },
    {
     "data": {
      "image/png": "[encoded data removed]",
      "text/plain": [
       "<Figure size 432x288 with 1 Axes>"
      ]
     },
     "metadata": {
      "needs_background": "light"
     },
     "output_type": "display_data"
    },
    {
     "data": {
      "text/plain": [
       "count    23633.000000\n",
       "mean         6.541210\n",
       "std         10.869381\n",
       "min          0.430000\n",
       "25%          3.420000\n",
       "50%          4.650000\n",
       "75%          6.800000\n",
       "max        763.000000\n",
       "Name: last_price, dtype: float64"
      ]
     },
     "execution_count": 41,
     "metadata": {},
     "output_type": "execute_result"
    }
   ],
   "source": [
    "(data['last_price']/1000000).hist(bins = 50, range = (0, 800))\n",
    "plt.title('Стоимость квартир')\n",
    "plt.show()\n",
    "data.boxplot(column='last_price')\n",
    "plt.title('Стоимость квартир')\n",
    "plt.show()\n",
    "(data['last_price']/1000000).hist(bins = 50, range = (0, 30))\n",
    "plt.title('Стоимость квартир')\n",
    "plt.show()\n",
    "(data['last_price']/1000000).describe()"
   ]
  },
  {
   "cell_type": "markdown",
   "metadata": {},
   "source": [
    "Как мы видим среднее значение цены на квартиру - 6,5 млн., медианное - 4,65 млн., самая маленькая стоимость квартиры 430 тыс. (сделаем допущение, что это может быть студия, в которых иногда нет столь четкого разделения помещений и их площадей), а самая большая стоимость - 763 млн. Большая часть квартир имеет стоимость от 3 млн. до 20 млн., что выглядит довольно правдоподобно, но редкие квартиры продаются и за сотни миллионов."
   ]
  },
  {
   "cell_type": "markdown",
   "metadata": {},
   "source": [
    "Изучим данные о количестве комнат в продаваемых квартир. Для этого построим гистаграммы, диаграмму типа 'ящик с усами', а также выведем числовое описание данных."
   ]
  },
  {
   "cell_type": "code",
   "execution_count": 42,
   "metadata": {},
   "outputs": [
    {
     "data": {
      "image/png": "[encoded data removed]",
      "text/plain": [
       "<Figure size 432x288 with 1 Axes>"
      ]
     },
     "metadata": {
      "needs_background": "light"
     },
     "output_type": "display_data"
    },
    {
     "data": {
      "image/png": "[encoded data removed]",
      "text/plain": [
       "<Figure size 432x288 with 1 Axes>"
      ]
     },
     "metadata": {
      "needs_background": "light"
     },
     "output_type": "display_data"
    },
    {
     "data": {
      "image/png": "[encoded data removed]",
      "text/plain": [
       "<Figure size 432x288 with 1 Axes>"
      ]
     },
     "metadata": {
      "needs_background": "light"
     },
     "output_type": "display_data"
    },
    {
     "data": {
      "text/plain": [
       "count    23633.000000\n",
       "mean         2.079423\n",
       "std          1.066666\n",
       "min          1.000000\n",
       "25%          1.000000\n",
       "50%          2.000000\n",
       "75%          3.000000\n",
       "max         19.000000\n",
       "Name: rooms, dtype: float64"
      ]
     },
     "execution_count": 42,
     "metadata": {},
     "output_type": "execute_result"
    }
   ],
   "source": [
    "data['rooms'].hist(bins = 10, range = (0, 20))\n",
    "plt.title('Количество комнат')\n",
    "plt.show()\n",
    "data.boxplot(column='rooms')\n",
    "plt.title('Количество комнат')\n",
    "plt.show()\n",
    "data['rooms'].hist(bins = 20, range = (0, 5))\n",
    "plt.title('Количество комнат')\n",
    "plt.show()\n",
    "data['rooms'].describe()"
   ]
  },
  {
   "cell_type": "markdown",
   "metadata": {},
   "source": [
    "Большая часть квартир имеет 1 или 2 комнаты, чуть меньшее количество - 3 комнаты, что выглядит довольно правдоподобно, но редкие квартиры имеют и большее количество комнат, а сама большая квартира имеет целых 19 комнат."
   ]
  },
  {
   "cell_type": "markdown",
   "metadata": {},
   "source": [
    "Изучим данные о высоте потолков в продаваемых квартир. Для этого построим гистаграмму, диаграмму типа 'ящик с усами', а также выведем числовое описание данных."
   ]
  },
  {
   "cell_type": "code",
   "execution_count": 43,
   "metadata": {},
   "outputs": [
    {
     "data": {
      "image/png": "[encoded data removed]",
      "text/plain": [
       "<Figure size 432x288 with 1 Axes>"
      ]
     },
     "metadata": {
      "needs_background": "light"
     },
     "output_type": "display_data"
    },
    {
     "data": {
      "image/png": "[encoded data removed]",
      "text/plain": [
       "<Figure size 432x288 with 1 Axes>"
      ]
     },
     "metadata": {
      "needs_background": "light"
     },
     "output_type": "display_data"
    },
    {
     "data": {
      "text/plain": [
       "count    23633.000000\n",
       "mean         2.727211\n",
       "std          0.216160\n",
       "min          2.450000\n",
       "25%          2.600000\n",
       "50%          2.726276\n",
       "75%          2.726276\n",
       "max          5.800000\n",
       "Name: ceiling_height, dtype: float64"
      ]
     },
     "execution_count": 43,
     "metadata": {},
     "output_type": "execute_result"
    }
   ],
   "source": [
    "data['ceiling_height'].hist(bins = 20, range = (2, 6))\n",
    "plt.title('Высота потолков')\n",
    "plt.show()\n",
    "data.boxplot(column='ceiling_height')\n",
    "plt.title('Высота потолков')\n",
    "plt.show()\n",
    "data['ceiling_height'].describe()"
   ]
  },
  {
   "cell_type": "markdown",
   "metadata": {},
   "source": [
    "Как мы видим средняя высота потолков - 2,7 метра, медианная - 2,7 метра, самая маленькая высота потолка 2,45 метра (что соответствует стандартам о минимальной высоте в жилых помещениях), а самая большая высота потолков - 5,8 метра. Большая часть квартир имеет высоту потолков от 2,5м до 3м, что выглядит довольно правдоподобно, а высота больше 4м уже редкость."
   ]
  },
  {
   "cell_type": "markdown",
   "metadata": {},
   "source": [
    "Изучим данные об этажах, на которых расположены продаваемые квартиры. Для этого построим гистаграмму, диаграмму типа 'ящик с усами', а также выведем числовое описание данных."
   ]
  },
  {
   "cell_type": "code",
   "execution_count": 44,
   "metadata": {},
   "outputs": [
    {
     "data": {
      "image/png": "[encoded data removed]",
      "text/plain": [
       "<Figure size 432x288 with 1 Axes>"
      ]
     },
     "metadata": {
      "needs_background": "light"
     },
     "output_type": "display_data"
    },
    {
     "data": {
      "image/png": "[encoded data removed]",
      "text/plain": [
       "<Figure size 432x288 with 1 Axes>"
      ]
     },
     "metadata": {
      "needs_background": "light"
     },
     "output_type": "display_data"
    },
    {
     "data": {
      "text/plain": [
       "count    23633.000000\n",
       "mean         5.892862\n",
       "std          4.883809\n",
       "min          1.000000\n",
       "25%          2.000000\n",
       "50%          4.000000\n",
       "75%          8.000000\n",
       "max         33.000000\n",
       "Name: floor, dtype: float64"
      ]
     },
     "execution_count": 44,
     "metadata": {},
     "output_type": "execute_result"
    }
   ],
   "source": [
    "data['floor'].hist(bins = 20, range = (0, 34))\n",
    "plt.title('Этажи')\n",
    "plt.show()\n",
    "data.boxplot(column='floor')\n",
    "plt.title('Этажи')\n",
    "plt.show()\n",
    "data['floor'].describe()"
   ]
  },
  {
   "cell_type": "markdown",
   "metadata": {},
   "source": [
    "Большая часть квартир расположена на этажах с 1 по 17, однако некоторые расположены и на более высоких этажах, а самая высокая квартира расположена на 33 этаже."
   ]
  },
  {
   "cell_type": "markdown",
   "metadata": {},
   "source": [
    "Изучим данные о типах этажа, на которых расположены продаваемые квартиры. Для этого построим гистаграмму, а также выведем числовое описание данных."
   ]
  },
  {
   "cell_type": "code",
   "execution_count": 45,
   "metadata": {
    "scrolled": true
   },
   "outputs": [
    {
     "data": {
      "image/png": "[encoded data removed]",
      "text/plain": [
       "<Figure size 432x288 with 1 Axes>"
      ]
     },
     "metadata": {
      "needs_background": "light"
     },
     "output_type": "display_data"
    },
    {
     "name": "stdout",
     "output_type": "stream",
     "text": [
      "12.182118224516564\n",
      "14.162400033850972\n"
     ]
    }
   ],
   "source": [
    "data['type_floor'].hist(bins = 20)\n",
    "plt.title('Типы этажа')\n",
    "plt.show()\n",
    "print(len(data.loc[data['type_floor'] == 'первый'])/len(data['type_floor'])*100)\n",
    "print(len(data.loc[data['type_floor'] == 'последний'])/len(data['type_floor'])*100)"
   ]
  },
  {
   "cell_type": "markdown",
   "metadata": {},
   "source": [
    "Как мы видим чаще всего квартиры располагаются на этажах типа 'другой', доли квартир на первом и последнем этажах примерно равны и составляют 12% и 14% от общего числа квартир."
   ]
  },
  {
   "cell_type": "markdown",
   "metadata": {},
   "source": [
    "Изучим данные об общем количестве этажей в домах, на которых расположены продаваемые квартиры. Для этого построим гистаграмму, диаграмму типа 'ящик с усами', а также выведем числовое описание данных."
   ]
  },
  {
   "cell_type": "code",
   "execution_count": 46,
   "metadata": {
    "scrolled": true
   },
   "outputs": [
    {
     "data": {
      "image/png": "[encoded data removed]",
      "text/plain": [
       "<Figure size 432x288 with 1 Axes>"
      ]
     },
     "metadata": {
      "needs_background": "light"
     },
     "output_type": "display_data"
    },
    {
     "data": {
      "image/png": "[encoded data removed]",
      "text/plain": [
       "<Figure size 432x288 with 1 Axes>"
      ]
     },
     "metadata": {
      "needs_background": "light"
     },
     "output_type": "display_data"
    },
    {
     "data": {
      "text/plain": [
       "count    23547.000000\n",
       "mean        10.677921\n",
       "std          6.596388\n",
       "min          1.000000\n",
       "25%          5.000000\n",
       "50%          9.000000\n",
       "75%         16.000000\n",
       "max         60.000000\n",
       "Name: floors_total, dtype: float64"
      ]
     },
     "execution_count": 46,
     "metadata": {},
     "output_type": "execute_result"
    }
   ],
   "source": [
    "data['floors_total'].hist(bins = 20, range = (0, 35))\n",
    "plt.title('Общее количество этажей в домах')\n",
    "plt.show()\n",
    "data.boxplot(column='floors_total')\n",
    "plt.title('Общее количество этажей в домах')\n",
    "plt.show()\n",
    "data['floors_total'].describe()"
   ]
  },
  {
   "cell_type": "markdown",
   "metadata": {},
   "source": [
    "Большая часть домов имеет от 2 до 28 этажей, однако некоторые дома имеют и большее количество этажей, а самый высокий дом имеет 60 этажей."
   ]
  },
  {
   "cell_type": "markdown",
   "metadata": {},
   "source": [
    "Изучим данные о расстоянии до центра города, на котором расположены продаваемые квартиры. Для этого построим гистаграмму, диаграмму типа 'ящик с усами', а также выведем числовое описание данных."
   ]
  },
  {
   "cell_type": "code",
   "execution_count": 47,
   "metadata": {},
   "outputs": [
    {
     "data": {
      "image/png": "[encoded data removed]",
      "text/plain": [
       "<Figure size 432x288 with 1 Axes>"
      ]
     },
     "metadata": {
      "needs_background": "light"
     },
     "output_type": "display_data"
    },
    {
     "data": {
      "image/png": "[encoded data removed]",
      "text/plain": [
       "<Figure size 432x288 with 1 Axes>"
      ]
     },
     "metadata": {
      "needs_background": "light"
     },
     "output_type": "display_data"
    },
    {
     "data": {
      "text/plain": [
       "count    18139.000000\n",
       "mean     14191.284139\n",
       "std       8611.457999\n",
       "min        181.000000\n",
       "25%       9238.000000\n",
       "50%      13101.000000\n",
       "75%      16293.000000\n",
       "max      65968.000000\n",
       "Name: cityCenters_nearest, dtype: float64"
      ]
     },
     "execution_count": 47,
     "metadata": {},
     "output_type": "execute_result"
    }
   ],
   "source": [
    "data['cityCenters_nearest'].hist(bins = 40, range = (0, 70000))\n",
    "plt.title('Расстояние до центра города')\n",
    "plt.show()\n",
    "data.boxplot(column='cityCenters_nearest')\n",
    "plt.title('Расстояние до центра города')\n",
    "plt.show()\n",
    "data['cityCenters_nearest'].describe()"
   ]
  },
  {
   "cell_type": "markdown",
   "metadata": {},
   "source": [
    "Как мы видим в среднем квартиры расположены в 14 км от центра города метра, медианное значение расстояния до центра  - 13 км, самая близкая к центру квартира находится в 181 метре (центральнее сложно придумать), а самая далекая от центра на расстоянии целых 65 км. Большая часть квартир расположена на расстоянии от нескольких сотен метров до 26 км до центра, что выглядит довольно правдоподобно (учитывая, что во многих других городах плотность постройки снижается ближе к периферии)."
   ]
  },
  {
   "cell_type": "markdown",
   "metadata": {},
   "source": [
    "Изучим данные о расстоянии до ближайшего аэропорта, на котором расположены продаваемые квартиры. Для этого построим гистаграмму, диаграмму типа 'ящик с усами', а также выведем числовое описание данных."
   ]
  },
  {
   "cell_type": "code",
   "execution_count": 48,
   "metadata": {},
   "outputs": [
    {
     "data": {
      "image/png": "[encoded data removed]",
      "text/plain": [
       "<Figure size 432x288 with 1 Axes>"
      ]
     },
     "metadata": {
      "needs_background": "light"
     },
     "output_type": "display_data"
    },
    {
     "data": {
      "image/png": "[encoded data removed]",
      "text/plain": [
       "<Figure size 432x288 with 1 Axes>"
      ]
     },
     "metadata": {
      "needs_background": "light"
     },
     "output_type": "display_data"
    },
    {
     "data": {
      "text/plain": [
       "count    18116.000000\n",
       "mean     28803.194855\n",
       "std      12636.427265\n",
       "min          0.000000\n",
       "25%      18585.000000\n",
       "50%      26729.000000\n",
       "75%      37294.000000\n",
       "max      84869.000000\n",
       "Name: airports_nearest, dtype: float64"
      ]
     },
     "execution_count": 48,
     "metadata": {},
     "output_type": "execute_result"
    }
   ],
   "source": [
    "data['airports_nearest'].hist(bins = 40, range = (0, 85000))\n",
    "plt.title('Расстояние до ближайшего аэропорта')\n",
    "plt.show()\n",
    "data.boxplot(column='airports_nearest')\n",
    "plt.title('Расстояние до ближайшего аэропорта')\n",
    "plt.show()\n",
    "data['airports_nearest'].describe()"
   ]
  },
  {
   "cell_type": "markdown",
   "metadata": {},
   "source": [
    "Как мы видим в среднем квартиры расположены в 28 км от аэропорта, медианное значение расстояния до центра  - 26 км, самая близкая квартира находится вплотную к аэропорту (скорее всего это связано с неправильно заполненным значением в определенной строке, но возможны и другие варианты), а самая далекая от аэропорта квартира расположена на расстоянии 84 км. Большая часть квартир расположена на расстоянии от 19 км до 64 км до аэропорта, что выглядит довольно правдоподобно (согласно открытым источникам расстояние от центра Санкт-Петербурга до наиболее популярного аэропорта Пулково составляет около 21 км)."
   ]
  },
  {
   "cell_type": "markdown",
   "metadata": {},
   "source": [
    "Изучим данные о расстоянии до ближайшего парка, на котором расположены продаваемые квартиры. Для этого построим гистаграмму, диаграмму типа 'ящик с усами', а также выведем числовое описание данных."
   ]
  },
  {
   "cell_type": "code",
   "execution_count": 49,
   "metadata": {},
   "outputs": [
    {
     "data": {
      "image/png": "[encoded data removed]",
      "text/plain": [
       "<Figure size 432x288 with 1 Axes>"
      ]
     },
     "metadata": {
      "needs_background": "light"
     },
     "output_type": "display_data"
    },
    {
     "data": {
      "image/png": "[encoded data removed]",
      "text/plain": [
       "<Figure size 432x288 with 1 Axes>"
      ]
     },
     "metadata": {
      "needs_background": "light"
     },
     "output_type": "display_data"
    },
    {
     "data": {
      "text/plain": [
       "count    8051.000000\n",
       "mean      490.720780\n",
       "std       342.729164\n",
       "min         1.000000\n",
       "25%       287.000000\n",
       "50%       454.000000\n",
       "75%       612.000000\n",
       "max      3190.000000\n",
       "Name: parks_nearest, dtype: float64"
      ]
     },
     "execution_count": 49,
     "metadata": {},
     "output_type": "execute_result"
    }
   ],
   "source": [
    "data['parks_nearest'].hist(bins = 30, range = (0, 3500))\n",
    "plt.title('Расстояние до ближайшего парка')\n",
    "plt.show()\n",
    "data.boxplot(column='parks_nearest')\n",
    "plt.title('Расстояние до ближайшего парка')\n",
    "plt.show()\n",
    "data['parks_nearest'].describe()"
   ]
  },
  {
   "cell_type": "markdown",
   "metadata": {},
   "source": [
    "Как мы видим в среднем квартиры расположены в 490 метрах от ближайшего парка, медианное значение расстояния до ближайшего парка  - 454 метра, самая близкая квартира находится на расстоянии всего 1 м к ближайшему парку, а самая далекая расположена на расстоянии 3190 м. Большая часть квартир расположена на расстоянии от нескольких десятков метров до 1 с небольшим километра от ближайшего парка, что выглядит довольно правдоподобно."
   ]
  },
  {
   "cell_type": "markdown",
   "metadata": {},
   "source": [
    "Изучим данные о днях недели, в которые были размещены объявления о продаже квартир. Для этого построим гистаграмму, а также выведем числовое описание данных. Напомним, что понедельнику соответствует 0, вторнику - 1 и т.д. на данной гистограмме."
   ]
  },
  {
   "cell_type": "code",
   "execution_count": 50,
   "metadata": {},
   "outputs": [
    {
     "data": {
      "image/png": "[encoded data removed]",
      "text/plain": [
       "<Figure size 432x288 with 1 Axes>"
      ]
     },
     "metadata": {
      "needs_background": "light"
     },
     "output_type": "display_data"
    },
    {
     "data": {
      "text/plain": [
       "count    23633.000000\n",
       "mean         2.569881\n",
       "std          1.788670\n",
       "min          0.000000\n",
       "25%          1.000000\n",
       "50%          3.000000\n",
       "75%          4.000000\n",
       "max          6.000000\n",
       "Name: day_of_week_exposition, dtype: float64"
      ]
     },
     "execution_count": 50,
     "metadata": {},
     "output_type": "execute_result"
    }
   ],
   "source": [
    "data['day_of_week_exposition'].hist(bins = 20, range = (0, 6))\n",
    "plt.title('Размещение объявлений по дням недели')\n",
    "plt.show()\n",
    "data['day_of_week_exposition'].describe()"
   ]
  },
  {
   "cell_type": "markdown",
   "metadata": {},
   "source": [
    "Как мы видим объявления довольно равномерно размещались с понедельника по пт (чаще всего - по четвергам и вторникам), в выходные наблюдался заметный спад и меньше всего объявлений размещалось по воскресеньям."
   ]
  },
  {
   "cell_type": "markdown",
   "metadata": {},
   "source": [
    "Изучим данные о месяцах, в которые были размещены объявления о продаже квартир. Для этого построим гистаграмму, а также выведем числовое описание данных."
   ]
  },
  {
   "cell_type": "code",
   "execution_count": 51,
   "metadata": {
    "scrolled": true
   },
   "outputs": [
    {
     "data": {
      "image/png": "[encoded data removed]",
      "text/plain": [
       "<Figure size 432x288 with 1 Axes>"
      ]
     },
     "metadata": {
      "needs_background": "light"
     },
     "output_type": "display_data"
    },
    {
     "data": {
      "text/plain": [
       "count    23633.000000\n",
       "mean         6.399103\n",
       "std          3.491428\n",
       "min          1.000000\n",
       "25%          3.000000\n",
       "50%          6.000000\n",
       "75%         10.000000\n",
       "max         12.000000\n",
       "Name: month_exposition, dtype: float64"
      ]
     },
     "execution_count": 51,
     "metadata": {},
     "output_type": "execute_result"
    }
   ],
   "source": [
    "data['month_exposition'].hist(bins = 40, range = (0, 12))\n",
    "plt.title('Размещение объявлений по месяцам')\n",
    "plt.show()\n",
    "data['month_exposition'].describe()"
   ]
  },
  {
   "cell_type": "markdown",
   "metadata": {},
   "source": [
    "Как мы видим объявления чаще всего размещались в феврале, марте и апреле, а в мае, январе и декабре наблюдался заметный спад и размещалось меньше всего объявлений (что выглядит весьма правдаподобно, т.к. в эти месяцы довольно много праздничных и выходных дней)."
   ]
  },
  {
   "cell_type": "markdown",
   "metadata": {},
   "source": [
    "Изучим данные о том, как быстро продавались квартиры. Для этого построим гистаграмму, диаграмму типа 'ящик с усами', а также выведем числовое описание данных."
   ]
  },
  {
   "cell_type": "code",
   "execution_count": 52,
   "metadata": {},
   "outputs": [
    {
     "data": {
      "image/png": "[encoded data removed]",
      "text/plain": [
       "<Figure size 432x288 with 1 Axes>"
      ]
     },
     "metadata": {
      "needs_background": "light"
     },
     "output_type": "display_data"
    },
    {
     "data": {
      "image/png": "[encoded data removed]",
      "text/plain": [
       "<Figure size 432x288 with 1 Axes>"
      ]
     },
     "metadata": {
      "needs_background": "light"
     },
     "output_type": "display_data"
    },
    {
     "data": {
      "image/png": "[encoded data removed]",
      "text/plain": [
       "<Figure size 432x288 with 1 Axes>"
      ]
     },
     "metadata": {
      "needs_background": "light"
     },
     "output_type": "display_data"
    },
    {
     "data": {
      "text/plain": [
       "count    20460.000000\n",
       "mean       181.037879\n",
       "std        219.921779\n",
       "min          1.000000\n",
       "25%         45.000000\n",
       "50%         95.000000\n",
       "75%        232.000000\n",
       "max       1580.000000\n",
       "Name: days_exposition, dtype: float64"
      ]
     },
     "execution_count": 52,
     "metadata": {},
     "output_type": "execute_result"
    }
   ],
   "source": [
    "data['days_exposition'].hist(bins = 30, range = (0, 1600))\n",
    "plt.title('Время продажи квартир')\n",
    "plt.show()\n",
    "data.boxplot(column='days_exposition')\n",
    "plt.title('Время продажи квартир')\n",
    "plt.show()\n",
    "data['days_exposition'].hist(bins = 50, range = (0, 100))\n",
    "plt.title('Время продажи квартир')\n",
    "plt.show()\n",
    "data['days_exposition'].describe()"
   ]
  },
  {
   "cell_type": "markdown",
   "metadata": {},
   "source": [
    "Как мы видим средний показатель продажи квартиры - 181 день, медианное значение - 95 дней, самая быстрая продажа была за 1 день, а самая долгая целых 1580 дней. При этом многие были проданы даже менее чем за 50 дней, что можно считать быстрыми продажами, однако встречались и необычно долгие продажи, продолжительность которых составляла более 500 дней."
   ]
  },
  {
   "cell_type": "markdown",
   "metadata": {},
   "source": [
    "Изучим какие факторы больше всего влияют на стоимость квартиры. Для этого построим графики зависимости стоимости квартиры от различных параметров."
   ]
  },
  {
   "cell_type": "markdown",
   "metadata": {},
   "source": [
    "Построим график зависимости стоимости квартиры от общей площади. По оси х отложим стоимость, а по оси у - общую площадь.\\\n",
    "А также посчитаем коэффициент корреляции Пирсона между этими показателями."
   ]
  },
  {
   "cell_type": "code",
   "execution_count": 53,
   "metadata": {
    "scrolled": true
   },
   "outputs": [
    {
     "data": {
      "image/png": "[encoded data removed]",
      "text/plain": [
       "<Figure size 432x288 with 1 Axes>"
      ]
     },
     "metadata": {
      "needs_background": "light"
     },
     "output_type": "display_data"
    },
    {
     "name": "stdout",
     "output_type": "stream",
     "text": [
      "0.65\n"
     ]
    }
   ],
   "source": [
    "data.plot(x='last_price', y='total_area', style='o', grid = True)\n",
    "plt.title('Зависимость стоимости квартиры от общей площади')\n",
    "plt.show()\n",
    "print((data['last_price'].corr(data['total_area'])).round(2))"
   ]
  },
  {
   "cell_type": "markdown",
   "metadata": {},
   "source": [
    "Как мы видим эти параметры ощутимо зависят друг от друга и с увеличением площади возрастает стоимость, что вполне логично. Это же мы видим если судить по коэффициенту корреляции Пирсона, который показывает зависомость близкую к высокой."
   ]
  },
  {
   "cell_type": "markdown",
   "metadata": {},
   "source": [
    "Построим график зависимости стоимости квартиры от жилой площади. По оси х отложим стоимость, а по оси у - жилую площадь.\\\n",
    "А также посчитаем коэффициент корреляции Пирсона между этими показателями."
   ]
  },
  {
   "cell_type": "code",
   "execution_count": 54,
   "metadata": {},
   "outputs": [
    {
     "data": {
      "image/png": "[encoded data removed]",
      "text/plain": [
       "<Figure size 432x288 with 1 Axes>"
      ]
     },
     "metadata": {
      "needs_background": "light"
     },
     "output_type": "display_data"
    },
    {
     "name": "stdout",
     "output_type": "stream",
     "text": [
      "0.56\n"
     ]
    }
   ],
   "source": [
    "data.plot(x='last_price', y='living_area', style='o', grid = True)\n",
    "plt.title('Зависимость стоимости квартиры от жилой площади')\n",
    "plt.show()\n",
    "print((data['last_price'].corr(data['living_area'])).round(2))"
   ]
  },
  {
   "cell_type": "markdown",
   "metadata": {},
   "source": [
    "Как мы видим эти параметры также зависят друг от друга (хотя зависимость меньше, чем от общей площади). С увеличением жилой площади возрастает стоимость, что  также вполне логично. При этом коэффициент корреляции Пирсона показывает среднюю зависомость."
   ]
  },
  {
   "cell_type": "markdown",
   "metadata": {},
   "source": [
    "Построим график зависимости стоимости квартиры от площади кухни. По оси х отложим стоимость, а по оси у - площадь кухни.\\\n",
    "А также посчитаем коэффициент корреляции Пирсона между этими показателями."
   ]
  },
  {
   "cell_type": "code",
   "execution_count": 55,
   "metadata": {},
   "outputs": [
    {
     "data": {
      "image/png": "[encoded data removed]",
      "text/plain": [
       "<Figure size 432x288 with 1 Axes>"
      ]
     },
     "metadata": {
      "needs_background": "light"
     },
     "output_type": "display_data"
    },
    {
     "name": "stdout",
     "output_type": "stream",
     "text": [
      "0.44\n"
     ]
    }
   ],
   "source": [
    "data.plot(x='last_price', y='kitchen_area', style='o', grid = True)\n",
    "plt.title('Зависимость стоимости квартиры от площади кухни')\n",
    "plt.show()\n",
    "print((data['last_price'].corr(data['kitchen_area'])).round(2))"
   ]
  },
  {
   "cell_type": "markdown",
   "metadata": {},
   "source": [
    "Как мы видим зависимость стоимости квартиры от площади кухни еще меньше, чем от жилой площади. Коэффициент корреляции Пирсона показывает зависомость уже ниже средней."
   ]
  },
  {
   "cell_type": "markdown",
   "metadata": {},
   "source": [
    "Построим график зависимости стоимости квартиры от количества комнат в ней. По оси х отложим стоимость, а по оси у - количество комнат.\\\n",
    "А также посчитаем коэффициент корреляции Пирсона между этими показателями."
   ]
  },
  {
   "cell_type": "code",
   "execution_count": 56,
   "metadata": {
    "scrolled": true
   },
   "outputs": [
    {
     "data": {
      "image/png": "[encoded data removed]",
      "text/plain": [
       "<Figure size 432x288 with 1 Axes>"
      ]
     },
     "metadata": {
      "needs_background": "light"
     },
     "output_type": "display_data"
    },
    {
     "name": "stdout",
     "output_type": "stream",
     "text": [
      "0.37\n"
     ]
    }
   ],
   "source": [
    "data.plot(x='last_price', y='rooms', style='o', grid = True)\n",
    "plt.title('Зависимость стоимости квартиры от количества комнат в ней')\n",
    "plt.show()\n",
    "print((data['last_price'].corr(data['rooms'])).round(2))"
   ]
  },
  {
   "cell_type": "markdown",
   "metadata": {},
   "source": [
    "Как мы видим зависимость стоимости квартиры от количества комнат еще меньше, чем от каждой из площадей. Если судить по коэффициенту корреляции Пирсона зависомость уже близка к очень слабой."
   ]
  },
  {
   "cell_type": "markdown",
   "metadata": {},
   "source": [
    "Построим график зависимости стоимости квартиры от типа этажа на котором она расположена (первый, последний, другой). По оси х отложим стоимость, а по оси у - тип этажа."
   ]
  },
  {
   "cell_type": "code",
   "execution_count": 57,
   "metadata": {},
   "outputs": [
    {
     "data": {
      "image/png": "[encoded data removed]",
      "text/plain": [
       "<Figure size 432x288 with 1 Axes>"
      ]
     },
     "metadata": {
      "needs_background": "light"
     },
     "output_type": "display_data"
    }
   ],
   "source": [
    "data.plot(x='last_price', y='type_floor', kind='scatter', grid = True)\n",
    "plt.title('Зависимость стоимости квартиры от типа этажа')\n",
    "plt.show()"
   ]
  },
  {
   "cell_type": "markdown",
   "metadata": {},
   "source": [
    "Как мы видим зависимость стоимости квартиры от типа этажа на котором она расположена отсутствует или практически отсутствует."
   ]
  },
  {
   "cell_type": "markdown",
   "metadata": {},
   "source": [
    "Построим графики зависимости стоимости квартиры от даты размещения объявления о продаже(день недели, месяц, год). По оси х отложим стоимость, а по оси у - даты.\n",
    "А также посчитаем коэффициент корреляции Пирсона между этими показателями."
   ]
  },
  {
   "cell_type": "code",
   "execution_count": 58,
   "metadata": {
    "scrolled": true
   },
   "outputs": [
    {
     "data": {
      "image/png": "[encoded data removed]",
      "text/plain": [
       "<Figure size 432x288 with 1 Axes>"
      ]
     },
     "metadata": {
      "needs_background": "light"
     },
     "output_type": "display_data"
    },
    {
     "data": {
      "image/png": "[encoded data removed]",
      "text/plain": [
       "<Figure size 432x288 with 1 Axes>"
      ]
     },
     "metadata": {
      "needs_background": "light"
     },
     "output_type": "display_data"
    },
    {
     "data": {
      "image/png": "[encoded data removed]",
      "text/plain": [
       "<Figure size 432x288 with 1 Axes>"
      ]
     },
     "metadata": {
      "needs_background": "light"
     },
     "output_type": "display_data"
    }
   ],
   "source": [
    "data.plot(x='last_price', y='day_of_week_exposition', style='o', grid = True)\n",
    "plt.title('Зависимость стоимости квартиры от дня размещения объявления о продаже')\n",
    "plt.show()\n",
    "data.plot(x='last_price', y='month_exposition', style='o', grid = True)\n",
    "plt.title('Зависимость стоимости квартиры от месяца размещения объявления о продаже')\n",
    "plt.show()\n",
    "data.plot(x='last_price', y='year_exposition', style='o', grid = True)\n",
    "plt.title('Зависимость стоимости квартиры от года размещения объявления о продаже')\n",
    "plt.show()"
   ]
  },
  {
   "cell_type": "markdown",
   "metadata": {},
   "source": [
    "Как мы видим зависимость стоимости квартиры от даты размещения объявления о продаже (как от дня недели, так и от месяца и года) отсутствует."
   ]
  },
  {
   "cell_type": "markdown",
   "metadata": {},
   "source": [
    "Посчитаем среднюю цену одного квадратного метра в 10 населённых пунктах с наибольшим числом объявлений. Выделим населённые пункты с самой высокой и низкой стоимостью квадратного метра. Для удобства построим свобную таблицу и округлим полученную стоимость."
   ]
  },
  {
   "cell_type": "code",
   "execution_count": 59,
   "metadata": {
    "scrolled": false
   },
   "outputs": [
    {
     "data": {
      "text/html": [
       "<div>\n",
       "<style scoped>\n",
       "    .dataframe tbody tr th:only-of-type {\n",
       "        vertical-align: middle;\n",
       "    }\n",
       "\n",
       "    .dataframe tbody tr th {\n",
       "        vertical-align: top;\n",
       "    }\n",
       "\n",
       "    .dataframe thead th {\n",
       "        text-align: right;\n",
       "    }\n",
       "</style>\n",
       "<table border=\"1\" class=\"dataframe\">\n",
       "  <thead>\n",
       "    <tr style=\"text-align: right;\">\n",
       "      <th></th>\n",
       "      <th>Количество предложений</th>\n",
       "      <th>Средняя цена квадратного метра</th>\n",
       "    </tr>\n",
       "    <tr>\n",
       "      <th>locality_name</th>\n",
       "      <th></th>\n",
       "      <th></th>\n",
       "    </tr>\n",
       "  </thead>\n",
       "  <tbody>\n",
       "    <tr>\n",
       "      <th>Санкт-Петербург</th>\n",
       "      <td>15687</td>\n",
       "      <td>114782.0</td>\n",
       "    </tr>\n",
       "    <tr>\n",
       "      <th>Мурино</th>\n",
       "      <td>589</td>\n",
       "      <td>86062.0</td>\n",
       "    </tr>\n",
       "    <tr>\n",
       "      <th>Кудрово</th>\n",
       "      <td>471</td>\n",
       "      <td>95326.0</td>\n",
       "    </tr>\n",
       "    <tr>\n",
       "      <th>Шушары</th>\n",
       "      <td>440</td>\n",
       "      <td>78677.0</td>\n",
       "    </tr>\n",
       "    <tr>\n",
       "      <th>Всеволожск</th>\n",
       "      <td>397</td>\n",
       "      <td>68719.0</td>\n",
       "    </tr>\n",
       "    <tr>\n",
       "      <th>Пушкин</th>\n",
       "      <td>366</td>\n",
       "      <td>103148.0</td>\n",
       "    </tr>\n",
       "    <tr>\n",
       "      <th>Колпино</th>\n",
       "      <td>337</td>\n",
       "      <td>75444.0</td>\n",
       "    </tr>\n",
       "    <tr>\n",
       "      <th>Парголово</th>\n",
       "      <td>327</td>\n",
       "      <td>90176.0</td>\n",
       "    </tr>\n",
       "    <tr>\n",
       "      <th>Гатчина</th>\n",
       "      <td>307</td>\n",
       "      <td>68746.0</td>\n",
       "    </tr>\n",
       "    <tr>\n",
       "      <th>Выборг</th>\n",
       "      <td>235</td>\n",
       "      <td>58238.0</td>\n",
       "    </tr>\n",
       "  </tbody>\n",
       "</table>\n",
       "</div>"
      ],
      "text/plain": [
       "                 Количество предложений  Средняя цена квадратного метра\n",
       "locality_name                                                          \n",
       "Санкт-Петербург                   15687                        114782.0\n",
       "Мурино                              589                         86062.0\n",
       "Кудрово                             471                         95326.0\n",
       "Шушары                              440                         78677.0\n",
       "Всеволожск                          397                         68719.0\n",
       "Пушкин                              366                        103148.0\n",
       "Колпино                             337                         75444.0\n",
       "Парголово                           327                         90176.0\n",
       "Гатчина                             307                         68746.0\n",
       "Выборг                              235                         58238.0"
      ]
     },
     "metadata": {},
     "output_type": "display_data"
    }
   ],
   "source": [
    "top_10_locality = data.pivot_table(index = 'locality_name', values = 'price_area', aggfunc = ['count','mean'])\n",
    "top_10_locality.columns = ('Количество предложений', 'Средняя цена квадратного метра')\n",
    "display(top_10_locality.sort_values(by='Количество предложений', ascending = False).head(10).round(0))"
   ]
  },
  {
   "cell_type": "markdown",
   "metadata": {
    "scrolled": true
   },
   "source": [
    "Как мы видим больше всего предложений в Санкт-Петербурге и там же самые высокие цены за один квадратный метр, а самая низкая средняя цена в Выборге - практически в 2 раза меньше чем в Санкт-Петербурге."
   ]
  },
  {
   "cell_type": "markdown",
   "metadata": {},
   "source": [
    "Теперь посмотрим как меняется стоимость квартир непосредственно в самом Санкт-Петербурге в зависимости от расстояния до центра города. Для удобства построим сводную таблицу и отобразим данные о средней стоимости квартир для первых 15 км от центра города, а также для наглядности построим график со средней стоимостью квартир для 24 км от центра города (примерное расстояние от центра города до его административной границы)"
   ]
  },
  {
   "cell_type": "code",
   "execution_count": 60,
   "metadata": {},
   "outputs": [
    {
     "data": {
      "text/html": [
       "<div>\n",
       "<style scoped>\n",
       "    .dataframe tbody tr th:only-of-type {\n",
       "        vertical-align: middle;\n",
       "    }\n",
       "\n",
       "    .dataframe tbody tr th {\n",
       "        vertical-align: top;\n",
       "    }\n",
       "\n",
       "    .dataframe thead th {\n",
       "        text-align: right;\n",
       "    }\n",
       "</style>\n",
       "<table border=\"1\" class=\"dataframe\">\n",
       "  <thead>\n",
       "    <tr style=\"text-align: right;\">\n",
       "      <th></th>\n",
       "      <th>Средняя стоимость квартиры</th>\n",
       "    </tr>\n",
       "    <tr>\n",
       "      <th>cityCenters_nearest_km</th>\n",
       "      <th></th>\n",
       "    </tr>\n",
       "  </thead>\n",
       "  <tbody>\n",
       "    <tr>\n",
       "      <th>0.0</th>\n",
       "      <td>31449116.0</td>\n",
       "    </tr>\n",
       "    <tr>\n",
       "      <th>1.0</th>\n",
       "      <td>21158707.0</td>\n",
       "    </tr>\n",
       "    <tr>\n",
       "      <th>2.0</th>\n",
       "      <td>17808293.0</td>\n",
       "    </tr>\n",
       "    <tr>\n",
       "      <th>3.0</th>\n",
       "      <td>11102708.0</td>\n",
       "    </tr>\n",
       "    <tr>\n",
       "      <th>4.0</th>\n",
       "      <td>13277474.0</td>\n",
       "    </tr>\n",
       "    <tr>\n",
       "      <th>5.0</th>\n",
       "      <td>14472364.0</td>\n",
       "    </tr>\n",
       "    <tr>\n",
       "      <th>6.0</th>\n",
       "      <td>15089533.0</td>\n",
       "    </tr>\n",
       "    <tr>\n",
       "      <th>7.0</th>\n",
       "      <td>14795260.0</td>\n",
       "    </tr>\n",
       "    <tr>\n",
       "      <th>8.0</th>\n",
       "      <td>9935407.0</td>\n",
       "    </tr>\n",
       "    <tr>\n",
       "      <th>9.0</th>\n",
       "      <td>6960031.0</td>\n",
       "    </tr>\n",
       "    <tr>\n",
       "      <th>10.0</th>\n",
       "      <td>6511375.0</td>\n",
       "    </tr>\n",
       "    <tr>\n",
       "      <th>11.0</th>\n",
       "      <td>6257340.0</td>\n",
       "    </tr>\n",
       "    <tr>\n",
       "      <th>12.0</th>\n",
       "      <td>5833730.0</td>\n",
       "    </tr>\n",
       "    <tr>\n",
       "      <th>13.0</th>\n",
       "      <td>6084362.0</td>\n",
       "    </tr>\n",
       "    <tr>\n",
       "      <th>14.0</th>\n",
       "      <td>5630345.0</td>\n",
       "    </tr>\n",
       "    <tr>\n",
       "      <th>15.0</th>\n",
       "      <td>5884658.0</td>\n",
       "    </tr>\n",
       "  </tbody>\n",
       "</table>\n",
       "</div>"
      ],
      "text/plain": [
       "                        Средняя стоимость квартиры\n",
       "cityCenters_nearest_km                            \n",
       "0.0                                     31449116.0\n",
       "1.0                                     21158707.0\n",
       "2.0                                     17808293.0\n",
       "3.0                                     11102708.0\n",
       "4.0                                     13277474.0\n",
       "5.0                                     14472364.0\n",
       "6.0                                     15089533.0\n",
       "7.0                                     14795260.0\n",
       "8.0                                      9935407.0\n",
       "9.0                                      6960031.0\n",
       "10.0                                     6511375.0\n",
       "11.0                                     6257340.0\n",
       "12.0                                     5833730.0\n",
       "13.0                                     6084362.0\n",
       "14.0                                     5630345.0\n",
       "15.0                                     5884658.0"
      ]
     },
     "metadata": {},
     "output_type": "display_data"
    }
   ],
   "source": [
    "price_for_km = data.pivot_table(index = 'cityCenters_nearest_km', values = 'last_price', aggfunc = 'mean')\n",
    "price_for_km.columns = ['Средняя стоимость квартиры']\n",
    "display(price_for_km.round(0).head(16))"
   ]
  },
  {
   "cell_type": "code",
   "execution_count": 61,
   "metadata": {
    "scrolled": true
   },
   "outputs": [
    {
     "data": {
      "image/png": "[encoded data removed]",
      "text/plain": [
       "<Figure size 720x360 with 1 Axes>"
      ]
     },
     "metadata": {
      "needs_background": "light"
     },
     "output_type": "display_data"
    }
   ],
   "source": [
    "price_for_km.plot(xlim=(0,24), xlabel = 'Расстояние до центра города', ylabel = 'Средняя стоимость квартиры', figsize = (10,5))\n",
    "plt.show()"
   ]
  },
  {
   "cell_type": "markdown",
   "metadata": {},
   "source": [
    "Как мы видим наибольшая средняя стоимость квартир наблюдается для первых 7 км от центра города, далее идет заметный спад и начиная с 9 км с каждым последующим километром наблюдается плавное снижение стоимости. Например, разница между средней стоимостью квартиры расположенной в 7 км от центра и в 10 км более чем 2 раза."
   ]
  },
  {
   "cell_type": "markdown",
   "metadata": {},
   "source": [
    "<b>Вывод:</b>  самые дорогие квартиры по стоимости квадратного метра расположены в Санкт-Петербурге, а самые дешевые - в Выборге, а в самом Санкт-Петербурге самые дорогие квартиры расположены в радиусе 7 км от центра города."
   ]
  },
  {
   "cell_type": "markdown",
   "metadata": {},
   "source": [
    "### Общий вывод"
   ]
  },
  {
   "cell_type": "markdown",
   "metadata": {},
   "source": [
    "\n",
    "- большинство квартир имеют общую площадь от 25 до 110 кв.метров, жилую площадь от 15 до 80 кв.метров, площадь кухни от 5 до 19 кв.метров;\n",
    "- стоимость большинство квартир - от 3 до 20 млн.;\n",
    "- большинство квартир однокомнатные или двухкомнатные, чуть реже трехкомнатные, однако встречаются квартиры и с большим количеством комнат;\n",
    "- большинство квартир имеет высоту потолков от 2,5 до 3 метров;\n",
    "- большинство квартир находится на этажах с 1 по 17, из которых 12% находятся на первом этаже, а 14% - на последнем этаже, при этом большинство домов имеют от 2 до 28 этажей;\n",
    "- большинство квартир располагается в радиусе 26 км от центра города, на расстоянии от 19 до 64 км от ближайшего аэропорта и всего в нескольких сотнях метров и до 1 км от ближайшего парка;\n",
    "- объявления о продаже равномерно размещались в течение рабочей недели (с пн по пт) и реже в выходные чаще, всего в феврале, марте и апреле и реже всего в мае, январе и декабре; \n",
    "- наиболее быстрыми продажами можно считать сделки проведенные меньше чем за 50 дней, а долгими - уже более 500 дней;\n",
    "- больше всего на стоимость квартиры влияет общая площадь, меньше - жилая площадь и площадь кухни, влияние количества комнат и этаж очень малы, а дата размещения объявления о продаже вообще не влияет на стоимость продажи;\n",
    "- самая высокая цена за 1 кв. метр в Санкт-Петербурге, а самая низкая из топ-10 по количеству предложений - в Выборге;\n",
    "- в самом Санкт-Петербурге самая высокая стоимость квартир в радиусе 7 км от центра города."
   ]
  }
 ],
 "metadata": {
  "ExecuteTimeLog": [
   {
    "duration": 49,
    "start_time": "2022-10-10T20:43:16.604Z"
   },
   {
    "duration": 675,
    "start_time": "2022-10-10T20:43:33.390Z"
   },
   {
    "duration": 504,
    "start_time": "2022-10-11T11:20:39.578Z"
   },
   {
    "duration": 2145,
    "start_time": "2022-10-11T11:21:31.467Z"
   },
   {
    "duration": 1859,
    "start_time": "2022-10-11T11:22:00.666Z"
   },
   {
    "duration": 1985,
    "start_time": "2022-10-11T11:22:34.947Z"
   },
   {
    "duration": 1878,
    "start_time": "2022-10-11T11:23:15.786Z"
   },
   {
    "duration": 1943,
    "start_time": "2022-10-11T11:23:25.569Z"
   },
   {
    "duration": 1975,
    "start_time": "2022-10-11T11:24:06.426Z"
   },
   {
    "duration": 1894,
    "start_time": "2022-10-11T11:25:26.666Z"
   },
   {
    "duration": 9,
    "start_time": "2022-10-11T11:31:27.334Z"
   },
   {
    "duration": 1859,
    "start_time": "2022-10-11T11:37:38.225Z"
   },
   {
    "duration": 11,
    "start_time": "2022-10-11T11:49:52.719Z"
   },
   {
    "duration": 11,
    "start_time": "2022-10-11T11:50:17.010Z"
   },
   {
    "duration": 10,
    "start_time": "2022-10-11T11:50:26.297Z"
   },
   {
    "duration": 11,
    "start_time": "2022-10-11T11:50:45.409Z"
   },
   {
    "duration": 6,
    "start_time": "2022-10-11T11:58:11.312Z"
   },
   {
    "duration": 5,
    "start_time": "2022-10-11T12:02:15.541Z"
   },
   {
    "duration": 16,
    "start_time": "2022-10-11T12:02:36.700Z"
   },
   {
    "duration": 4,
    "start_time": "2022-10-11T12:02:55.332Z"
   },
   {
    "duration": 3,
    "start_time": "2022-10-11T12:07:44.316Z"
   },
   {
    "duration": 29,
    "start_time": "2022-10-11T12:11:33.505Z"
   },
   {
    "duration": 26,
    "start_time": "2022-10-11T12:11:46.433Z"
   },
   {
    "duration": 29,
    "start_time": "2022-10-11T12:12:48.695Z"
   },
   {
    "duration": 28,
    "start_time": "2022-10-11T12:14:28.475Z"
   },
   {
    "duration": 2621,
    "start_time": "2022-10-11T12:14:49.427Z"
   },
   {
    "duration": 9,
    "start_time": "2022-10-11T12:14:52.049Z"
   },
   {
    "duration": 15,
    "start_time": "2022-10-11T12:14:52.060Z"
   },
   {
    "duration": 28,
    "start_time": "2022-10-11T12:14:52.077Z"
   },
   {
    "duration": 27,
    "start_time": "2022-10-11T12:15:38.540Z"
   },
   {
    "duration": 92,
    "start_time": "2022-10-11T12:15:49.337Z"
   },
   {
    "duration": 10,
    "start_time": "2022-10-11T12:16:07.348Z"
   },
   {
    "duration": 9,
    "start_time": "2022-10-11T12:18:21.351Z"
   },
   {
    "duration": 18,
    "start_time": "2022-10-11T12:18:27.895Z"
   },
   {
    "duration": 24,
    "start_time": "2022-10-11T12:21:48.276Z"
   },
   {
    "duration": 31,
    "start_time": "2022-10-11T12:22:18.050Z"
   },
   {
    "duration": 19,
    "start_time": "2022-10-11T12:22:32.776Z"
   },
   {
    "duration": 149,
    "start_time": "2022-10-11T12:22:49.848Z"
   },
   {
    "duration": 18,
    "start_time": "2022-10-11T12:22:57.580Z"
   },
   {
    "duration": 15,
    "start_time": "2022-10-11T12:23:12.840Z"
   },
   {
    "duration": 24,
    "start_time": "2022-10-11T12:24:08.909Z"
   },
   {
    "duration": 26,
    "start_time": "2022-10-11T12:24:14.940Z"
   },
   {
    "duration": 7,
    "start_time": "2022-10-11T12:24:54.820Z"
   },
   {
    "duration": 23,
    "start_time": "2022-10-11T12:25:01.971Z"
   },
   {
    "duration": 19,
    "start_time": "2022-10-11T12:26:07.604Z"
   },
   {
    "duration": 24,
    "start_time": "2022-10-11T12:26:41.556Z"
   },
   {
    "duration": 5,
    "start_time": "2022-10-11T12:27:13.958Z"
   },
   {
    "duration": 17,
    "start_time": "2022-10-11T12:29:50.706Z"
   },
   {
    "duration": 37,
    "start_time": "2022-10-11T12:30:45.884Z"
   },
   {
    "duration": 8,
    "start_time": "2022-10-11T12:32:18.723Z"
   },
   {
    "duration": 7,
    "start_time": "2022-10-11T12:32:34.582Z"
   },
   {
    "duration": 11,
    "start_time": "2022-10-11T12:32:50.763Z"
   },
   {
    "duration": 12,
    "start_time": "2022-10-11T12:33:21.742Z"
   },
   {
    "duration": 15,
    "start_time": "2022-10-11T12:35:20.651Z"
   },
   {
    "duration": 8,
    "start_time": "2022-10-11T12:35:30.613Z"
   },
   {
    "duration": 11,
    "start_time": "2022-10-11T12:36:30.593Z"
   },
   {
    "duration": 21,
    "start_time": "2022-10-11T12:37:23.238Z"
   },
   {
    "duration": 251,
    "start_time": "2022-10-11T12:37:43.224Z"
   },
   {
    "duration": 22,
    "start_time": "2022-10-11T12:37:53.569Z"
   },
   {
    "duration": 22,
    "start_time": "2022-10-11T12:38:30.600Z"
   },
   {
    "duration": 23,
    "start_time": "2022-10-11T12:39:37.786Z"
   },
   {
    "duration": 26,
    "start_time": "2022-10-11T12:39:47.818Z"
   },
   {
    "duration": 23,
    "start_time": "2022-10-11T12:40:33.275Z"
   },
   {
    "duration": 13,
    "start_time": "2022-10-11T12:46:12.059Z"
   },
   {
    "duration": 11,
    "start_time": "2022-10-11T12:52:26.271Z"
   },
   {
    "duration": 15,
    "start_time": "2022-10-11T12:52:36.026Z"
   },
   {
    "duration": 13,
    "start_time": "2022-10-11T12:52:43.291Z"
   },
   {
    "duration": 11,
    "start_time": "2022-10-11T12:52:48.221Z"
   },
   {
    "duration": 12,
    "start_time": "2022-10-11T12:52:53.520Z"
   },
   {
    "duration": 16,
    "start_time": "2022-10-11T12:52:58.698Z"
   },
   {
    "duration": 12,
    "start_time": "2022-10-11T12:53:04.551Z"
   },
   {
    "duration": 12,
    "start_time": "2022-10-11T12:53:10.440Z"
   },
   {
    "duration": 12,
    "start_time": "2022-10-11T12:53:15.421Z"
   },
   {
    "duration": 13,
    "start_time": "2022-10-11T12:53:23.228Z"
   },
   {
    "duration": 12,
    "start_time": "2022-10-11T12:53:48.060Z"
   },
   {
    "duration": 23,
    "start_time": "2022-10-11T12:55:06.879Z"
   },
   {
    "duration": 18,
    "start_time": "2022-10-11T12:58:24.145Z"
   },
   {
    "duration": 33,
    "start_time": "2022-10-11T12:58:48.327Z"
   },
   {
    "duration": 14,
    "start_time": "2022-10-11T12:59:01.921Z"
   },
   {
    "duration": 16,
    "start_time": "2022-10-11T13:00:34.738Z"
   },
   {
    "duration": 15,
    "start_time": "2022-10-11T13:01:03.737Z"
   },
   {
    "duration": 16,
    "start_time": "2022-10-11T13:01:14.469Z"
   },
   {
    "duration": 2489,
    "start_time": "2022-10-11T13:01:21.895Z"
   },
   {
    "duration": 10,
    "start_time": "2022-10-11T13:01:24.386Z"
   },
   {
    "duration": 13,
    "start_time": "2022-10-11T13:01:24.398Z"
   },
   {
    "duration": 24,
    "start_time": "2022-10-11T13:01:24.413Z"
   },
   {
    "duration": 21,
    "start_time": "2022-10-11T13:01:53.615Z"
   },
   {
    "duration": 2541,
    "start_time": "2022-10-11T13:02:01.270Z"
   },
   {
    "duration": 9,
    "start_time": "2022-10-11T13:02:03.813Z"
   },
   {
    "duration": 18,
    "start_time": "2022-10-11T13:02:03.824Z"
   },
   {
    "duration": 22,
    "start_time": "2022-10-11T13:02:03.844Z"
   },
   {
    "duration": 72,
    "start_time": "2022-10-11T13:02:19.964Z"
   },
   {
    "duration": 21,
    "start_time": "2022-10-11T13:03:11.744Z"
   },
   {
    "duration": 15,
    "start_time": "2022-10-11T13:04:51.763Z"
   },
   {
    "duration": 8,
    "start_time": "2022-10-11T13:05:29.840Z"
   },
   {
    "duration": 8,
    "start_time": "2022-10-11T13:05:38.201Z"
   },
   {
    "duration": 9,
    "start_time": "2022-10-11T13:05:48.294Z"
   },
   {
    "duration": 16,
    "start_time": "2022-10-11T13:06:02.972Z"
   },
   {
    "duration": 11,
    "start_time": "2022-10-11T13:06:38.403Z"
   },
   {
    "duration": 13,
    "start_time": "2022-10-11T13:07:35.364Z"
   },
   {
    "duration": 12,
    "start_time": "2022-10-11T13:07:50.626Z"
   },
   {
    "duration": 4,
    "start_time": "2022-10-11T13:08:19.265Z"
   },
   {
    "duration": 5,
    "start_time": "2022-10-11T13:08:34.923Z"
   },
   {
    "duration": 5,
    "start_time": "2022-10-11T13:09:37.423Z"
   },
   {
    "duration": 26,
    "start_time": "2022-10-11T13:11:07.753Z"
   },
   {
    "duration": 1848,
    "start_time": "2022-10-11T13:11:45.222Z"
   },
   {
    "duration": 1867,
    "start_time": "2022-10-11T13:12:08.295Z"
   },
   {
    "duration": 2979,
    "start_time": "2022-10-12T06:30:37.230Z"
   },
   {
    "duration": 29,
    "start_time": "2022-10-12T06:33:26.829Z"
   },
   {
    "duration": 29,
    "start_time": "2022-10-12T06:33:50.012Z"
   },
   {
    "duration": 27,
    "start_time": "2022-10-12T06:34:16.117Z"
   },
   {
    "duration": 56,
    "start_time": "2022-10-12T06:34:35.440Z"
   },
   {
    "duration": 7,
    "start_time": "2022-10-12T06:35:20.556Z"
   },
   {
    "duration": 6,
    "start_time": "2022-10-12T06:35:33.825Z"
   },
   {
    "duration": 6,
    "start_time": "2022-10-12T06:35:44.841Z"
   },
   {
    "duration": 13,
    "start_time": "2022-10-12T06:37:34.464Z"
   },
   {
    "duration": 11,
    "start_time": "2022-10-12T06:38:17.418Z"
   },
   {
    "duration": 10,
    "start_time": "2022-10-12T06:38:30.054Z"
   },
   {
    "duration": 12,
    "start_time": "2022-10-12T06:38:36.178Z"
   },
   {
    "duration": 12,
    "start_time": "2022-10-12T06:38:44.544Z"
   },
   {
    "duration": 16,
    "start_time": "2022-10-12T06:39:13.597Z"
   },
   {
    "duration": 13,
    "start_time": "2022-10-12T06:39:20.374Z"
   },
   {
    "duration": 15,
    "start_time": "2022-10-12T06:39:27.147Z"
   },
   {
    "duration": 15,
    "start_time": "2022-10-12T06:39:33.201Z"
   },
   {
    "duration": 15,
    "start_time": "2022-10-12T06:39:38.557Z"
   },
   {
    "duration": 14,
    "start_time": "2022-10-12T06:39:44.428Z"
   },
   {
    "duration": 14,
    "start_time": "2022-10-12T06:39:49.804Z"
   },
   {
    "duration": 15,
    "start_time": "2022-10-12T06:39:55.124Z"
   },
   {
    "duration": 16,
    "start_time": "2022-10-12T06:40:01.246Z"
   },
   {
    "duration": 13,
    "start_time": "2022-10-12T06:40:07.600Z"
   },
   {
    "duration": 14,
    "start_time": "2022-10-12T06:40:17.200Z"
   },
   {
    "duration": 9,
    "start_time": "2022-10-12T06:41:35.295Z"
   },
   {
    "duration": 4,
    "start_time": "2022-10-12T06:42:14.648Z"
   },
   {
    "duration": 9,
    "start_time": "2022-10-12T06:42:19.203Z"
   },
   {
    "duration": 1108,
    "start_time": "2022-10-12T06:48:16.085Z"
   },
   {
    "duration": 7,
    "start_time": "2022-10-12T06:48:26.944Z"
   },
   {
    "duration": 47,
    "start_time": "2022-10-12T06:54:33.490Z"
   },
   {
    "duration": 5,
    "start_time": "2022-10-12T06:54:42.199Z"
   },
   {
    "duration": 4,
    "start_time": "2022-10-12T06:54:58.173Z"
   },
   {
    "duration": 7,
    "start_time": "2022-10-12T06:57:04.996Z"
   },
   {
    "duration": 41,
    "start_time": "2022-10-12T07:04:48.146Z"
   },
   {
    "duration": 30,
    "start_time": "2022-10-12T07:05:09.307Z"
   },
   {
    "duration": 41,
    "start_time": "2022-10-12T07:05:26.400Z"
   },
   {
    "duration": 32,
    "start_time": "2022-10-12T07:06:07.493Z"
   },
   {
    "duration": 31,
    "start_time": "2022-10-12T07:06:17.514Z"
   },
   {
    "duration": 6,
    "start_time": "2022-10-12T07:06:32.358Z"
   },
   {
    "duration": 32,
    "start_time": "2022-10-12T07:07:35.007Z"
   },
   {
    "duration": 31,
    "start_time": "2022-10-12T07:08:10.808Z"
   },
   {
    "duration": 29,
    "start_time": "2022-10-12T07:08:49.545Z"
   },
   {
    "duration": 28,
    "start_time": "2022-10-12T07:09:16.968Z"
   },
   {
    "duration": 7,
    "start_time": "2022-10-12T07:16:47.676Z"
   },
   {
    "duration": 4,
    "start_time": "2022-10-12T07:16:49.737Z"
   },
   {
    "duration": 9,
    "start_time": "2022-10-12T07:16:51.007Z"
   },
   {
    "duration": 3,
    "start_time": "2022-10-12T07:16:52.177Z"
   },
   {
    "duration": 28,
    "start_time": "2022-10-12T07:16:55.317Z"
   },
   {
    "duration": 7,
    "start_time": "2022-10-12T07:21:45.228Z"
   },
   {
    "duration": 6,
    "start_time": "2022-10-12T07:22:14.005Z"
   },
   {
    "duration": 5,
    "start_time": "2022-10-12T07:22:23.204Z"
   },
   {
    "duration": 5,
    "start_time": "2022-10-12T07:22:34.309Z"
   },
   {
    "duration": 5,
    "start_time": "2022-10-12T07:22:45.521Z"
   },
   {
    "duration": 6,
    "start_time": "2022-10-12T07:23:05.562Z"
   },
   {
    "duration": 5,
    "start_time": "2022-10-12T07:23:36.807Z"
   },
   {
    "duration": 8,
    "start_time": "2022-10-12T07:25:35.568Z"
   },
   {
    "duration": 5,
    "start_time": "2022-10-12T07:26:34.803Z"
   },
   {
    "duration": 6,
    "start_time": "2022-10-12T07:26:57.289Z"
   },
   {
    "duration": 10,
    "start_time": "2022-10-12T07:27:21.731Z"
   },
   {
    "duration": 10,
    "start_time": "2022-10-12T07:27:43.512Z"
   },
   {
    "duration": 7,
    "start_time": "2022-10-12T07:27:58.087Z"
   },
   {
    "duration": 1393,
    "start_time": "2022-10-12T07:39:48.215Z"
   },
   {
    "duration": 1569,
    "start_time": "2022-10-12T07:40:23.920Z"
   },
   {
    "duration": 1527,
    "start_time": "2022-10-12T07:40:57.483Z"
   },
   {
    "duration": 1499,
    "start_time": "2022-10-12T07:42:12.688Z"
   },
   {
    "duration": 2044,
    "start_time": "2022-10-12T07:43:16.818Z"
   },
   {
    "duration": 1469,
    "start_time": "2022-10-12T07:44:16.070Z"
   },
   {
    "duration": 13,
    "start_time": "2022-10-12T07:44:53.357Z"
   },
   {
    "duration": 8,
    "start_time": "2022-10-12T07:45:00.139Z"
   },
   {
    "duration": 3,
    "start_time": "2022-10-12T07:45:05.430Z"
   },
   {
    "duration": 9,
    "start_time": "2022-10-12T07:45:06.569Z"
   },
   {
    "duration": 5,
    "start_time": "2022-10-12T07:45:07.600Z"
   },
   {
    "duration": 27,
    "start_time": "2022-10-12T07:45:08.837Z"
   },
   {
    "duration": 4,
    "start_time": "2022-10-12T07:45:11.882Z"
   },
   {
    "duration": 1413,
    "start_time": "2022-10-12T07:45:13.260Z"
   },
   {
    "duration": 1425,
    "start_time": "2022-10-12T07:45:43.276Z"
   },
   {
    "duration": 1361,
    "start_time": "2022-10-12T07:46:12.557Z"
   },
   {
    "duration": 1586,
    "start_time": "2022-10-12T07:47:11.305Z"
   },
   {
    "duration": 1486,
    "start_time": "2022-10-12T08:28:57.766Z"
   },
   {
    "duration": 5,
    "start_time": "2022-10-12T08:29:05.650Z"
   },
   {
    "duration": 1408,
    "start_time": "2022-10-12T08:31:44.645Z"
   },
   {
    "duration": 1420,
    "start_time": "2022-10-12T08:37:33.784Z"
   },
   {
    "duration": 2417,
    "start_time": "2022-10-12T08:39:06.550Z"
   },
   {
    "duration": 2506,
    "start_time": "2022-10-12T08:39:44.510Z"
   },
   {
    "duration": 2512,
    "start_time": "2022-10-12T08:40:04.321Z"
   },
   {
    "duration": 2447,
    "start_time": "2022-10-12T08:41:46.199Z"
   },
   {
    "duration": 2386,
    "start_time": "2022-10-12T08:43:23.968Z"
   },
   {
    "duration": 4,
    "start_time": "2022-10-12T08:44:05.440Z"
   },
   {
    "duration": 1507,
    "start_time": "2022-10-12T08:44:26.285Z"
   },
   {
    "duration": 4,
    "start_time": "2022-10-12T08:45:07.264Z"
   },
   {
    "duration": 2731,
    "start_time": "2022-10-12T08:45:24.225Z"
   },
   {
    "duration": 9,
    "start_time": "2022-10-12T08:45:26.958Z"
   },
   {
    "duration": 15,
    "start_time": "2022-10-12T08:45:26.968Z"
   },
   {
    "duration": 21,
    "start_time": "2022-10-12T08:45:26.985Z"
   },
   {
    "duration": 26,
    "start_time": "2022-10-12T08:45:27.008Z"
   },
   {
    "duration": 40,
    "start_time": "2022-10-12T08:45:27.036Z"
   },
   {
    "duration": 11,
    "start_time": "2022-10-12T08:45:27.078Z"
   },
   {
    "duration": 22,
    "start_time": "2022-10-12T08:45:27.090Z"
   },
   {
    "duration": 23,
    "start_time": "2022-10-12T08:50:27.448Z"
   },
   {
    "duration": 7,
    "start_time": "2022-10-12T08:50:56.644Z"
   },
   {
    "duration": 2860,
    "start_time": "2022-10-12T08:51:34.521Z"
   },
   {
    "duration": 8,
    "start_time": "2022-10-12T08:51:37.383Z"
   },
   {
    "duration": 5,
    "start_time": "2022-10-12T08:51:37.392Z"
   },
   {
    "duration": 13,
    "start_time": "2022-10-12T08:51:37.398Z"
   },
   {
    "duration": 5,
    "start_time": "2022-10-12T08:51:37.413Z"
   },
   {
    "duration": 32,
    "start_time": "2022-10-12T08:51:37.419Z"
   },
   {
    "duration": 5,
    "start_time": "2022-10-12T08:51:37.452Z"
   },
   {
    "duration": 9,
    "start_time": "2022-10-12T08:51:37.458Z"
   },
   {
    "duration": 3,
    "start_time": "2022-10-12T08:51:53.619Z"
   },
   {
    "duration": 14,
    "start_time": "2022-10-12T08:51:54.720Z"
   },
   {
    "duration": 4,
    "start_time": "2022-10-12T08:51:55.671Z"
   },
   {
    "duration": 28,
    "start_time": "2022-10-12T08:51:56.556Z"
   },
   {
    "duration": 4,
    "start_time": "2022-10-12T08:51:57.452Z"
   },
   {
    "duration": 7,
    "start_time": "2022-10-12T08:51:58.853Z"
   },
   {
    "duration": 7,
    "start_time": "2022-10-12T08:52:03.931Z"
   },
   {
    "duration": 2707,
    "start_time": "2022-10-12T11:14:11.215Z"
   },
   {
    "duration": 6,
    "start_time": "2022-10-12T11:14:13.924Z"
   },
   {
    "duration": 16,
    "start_time": "2022-10-12T11:14:13.932Z"
   },
   {
    "duration": 22,
    "start_time": "2022-10-12T11:14:13.950Z"
   },
   {
    "duration": 14,
    "start_time": "2022-10-12T11:14:13.973Z"
   },
   {
    "duration": 46,
    "start_time": "2022-10-12T11:14:13.989Z"
   },
   {
    "duration": 3,
    "start_time": "2022-10-12T11:14:14.036Z"
   },
   {
    "duration": 26,
    "start_time": "2022-10-12T11:14:14.041Z"
   },
   {
    "duration": 27,
    "start_time": "2022-10-12T11:18:21.198Z"
   },
   {
    "duration": 36,
    "start_time": "2022-10-12T11:18:47.150Z"
   },
   {
    "duration": 5,
    "start_time": "2022-10-12T11:19:19.386Z"
   },
   {
    "duration": 7,
    "start_time": "2022-10-12T11:19:51.261Z"
   },
   {
    "duration": 7,
    "start_time": "2022-10-12T11:20:07.451Z"
   },
   {
    "duration": 6,
    "start_time": "2022-10-12T11:20:39.708Z"
   },
   {
    "duration": 8,
    "start_time": "2022-10-12T11:21:04.962Z"
   },
   {
    "duration": 6,
    "start_time": "2022-10-12T11:21:16.911Z"
   },
   {
    "duration": 6,
    "start_time": "2022-10-12T11:22:01.694Z"
   },
   {
    "duration": 6,
    "start_time": "2022-10-12T11:22:07.801Z"
   },
   {
    "duration": 7,
    "start_time": "2022-10-12T11:22:16.194Z"
   },
   {
    "duration": 7,
    "start_time": "2022-10-12T11:22:37.800Z"
   },
   {
    "duration": 7,
    "start_time": "2022-10-12T11:27:17.789Z"
   },
   {
    "duration": 86,
    "start_time": "2022-10-12T11:27:40.881Z"
   },
   {
    "duration": 76,
    "start_time": "2022-10-12T11:28:08.139Z"
   },
   {
    "duration": 28,
    "start_time": "2022-10-12T11:29:25.171Z"
   },
   {
    "duration": 8,
    "start_time": "2022-10-12T11:37:45.532Z"
   },
   {
    "duration": 20,
    "start_time": "2022-10-12T11:42:10.665Z"
   },
   {
    "duration": 34,
    "start_time": "2022-10-12T11:42:37.522Z"
   },
   {
    "duration": 7,
    "start_time": "2022-10-12T11:43:15.048Z"
   },
   {
    "duration": 12,
    "start_time": "2022-10-12T11:43:59.011Z"
   },
   {
    "duration": 12,
    "start_time": "2022-10-12T11:44:16.576Z"
   },
   {
    "duration": 18,
    "start_time": "2022-10-12T11:44:40.611Z"
   },
   {
    "duration": 9,
    "start_time": "2022-10-12T11:55:47.107Z"
   },
   {
    "duration": 14,
    "start_time": "2022-10-12T12:10:34.097Z"
   },
   {
    "duration": 11,
    "start_time": "2022-10-12T12:10:48.910Z"
   },
   {
    "duration": 6,
    "start_time": "2022-10-12T12:17:08.813Z"
   },
   {
    "duration": 7,
    "start_time": "2022-10-12T12:21:20.233Z"
   },
   {
    "duration": 7,
    "start_time": "2022-10-12T12:22:20.019Z"
   },
   {
    "duration": 7,
    "start_time": "2022-10-12T12:27:01.598Z"
   },
   {
    "duration": 7,
    "start_time": "2022-10-12T12:27:13.428Z"
   },
   {
    "duration": 6,
    "start_time": "2022-10-12T12:27:36.799Z"
   },
   {
    "duration": 7,
    "start_time": "2022-10-12T12:28:26.423Z"
   },
   {
    "duration": 6,
    "start_time": "2022-10-12T12:28:42.291Z"
   },
   {
    "duration": 8,
    "start_time": "2022-10-12T12:34:06.391Z"
   },
   {
    "duration": 9,
    "start_time": "2022-10-12T12:34:11.202Z"
   },
   {
    "duration": 6,
    "start_time": "2022-10-12T12:37:14.547Z"
   },
   {
    "duration": 8,
    "start_time": "2022-10-12T12:44:19.228Z"
   },
   {
    "duration": 5,
    "start_time": "2022-10-12T13:14:57.514Z"
   },
   {
    "duration": 8,
    "start_time": "2022-10-12T13:21:45.122Z"
   },
   {
    "duration": 5,
    "start_time": "2022-10-12T13:21:54.125Z"
   },
   {
    "duration": 4,
    "start_time": "2022-10-12T13:26:20.746Z"
   },
   {
    "duration": 2192,
    "start_time": "2022-10-12T13:35:40.149Z"
   },
   {
    "duration": 370,
    "start_time": "2022-10-12T13:37:57.161Z"
   },
   {
    "duration": 7,
    "start_time": "2022-10-12T13:55:47.875Z"
   },
   {
    "duration": 8,
    "start_time": "2022-10-12T13:58:19.616Z"
   },
   {
    "duration": 9,
    "start_time": "2022-10-12T14:04:05.166Z"
   },
   {
    "duration": 8,
    "start_time": "2022-10-12T14:04:07.840Z"
   },
   {
    "duration": 11,
    "start_time": "2022-10-12T14:04:23.048Z"
   },
   {
    "duration": 9,
    "start_time": "2022-10-12T14:05:05.058Z"
   },
   {
    "duration": 456,
    "start_time": "2022-10-12T14:07:45.066Z"
   },
   {
    "duration": 10,
    "start_time": "2022-10-12T14:08:55.937Z"
   },
   {
    "duration": 10,
    "start_time": "2022-10-12T14:22:14.504Z"
   },
   {
    "duration": 3068,
    "start_time": "2022-10-13T07:59:07.317Z"
   },
   {
    "duration": 7,
    "start_time": "2022-10-13T07:59:10.387Z"
   },
   {
    "duration": 3,
    "start_time": "2022-10-13T07:59:10.396Z"
   },
   {
    "duration": 10,
    "start_time": "2022-10-13T07:59:10.400Z"
   },
   {
    "duration": 16,
    "start_time": "2022-10-13T07:59:10.412Z"
   },
   {
    "duration": 5,
    "start_time": "2022-10-13T07:59:10.429Z"
   },
   {
    "duration": 7,
    "start_time": "2022-10-13T07:59:10.436Z"
   },
   {
    "duration": 5,
    "start_time": "2022-10-13T07:59:10.445Z"
   },
   {
    "duration": 9,
    "start_time": "2022-10-13T07:59:10.451Z"
   },
   {
    "duration": 40,
    "start_time": "2022-10-13T07:59:10.462Z"
   },
   {
    "duration": 8,
    "start_time": "2022-10-13T07:59:10.504Z"
   },
   {
    "duration": 5,
    "start_time": "2022-10-13T07:59:10.514Z"
   },
   {
    "duration": 12,
    "start_time": "2022-10-13T07:59:10.520Z"
   },
   {
    "duration": 13,
    "start_time": "2022-10-13T08:09:30.465Z"
   },
   {
    "duration": 6,
    "start_time": "2022-10-13T08:09:47.736Z"
   },
   {
    "duration": 9,
    "start_time": "2022-10-13T08:09:56.291Z"
   },
   {
    "duration": 7,
    "start_time": "2022-10-13T08:10:20.585Z"
   },
   {
    "duration": 3280,
    "start_time": "2022-10-13T08:10:25.809Z"
   },
   {
    "duration": 12,
    "start_time": "2022-10-13T08:10:29.092Z"
   },
   {
    "duration": 15,
    "start_time": "2022-10-13T08:10:29.107Z"
   },
   {
    "duration": 13,
    "start_time": "2022-10-13T08:10:29.124Z"
   },
   {
    "duration": 16,
    "start_time": "2022-10-13T08:10:29.140Z"
   },
   {
    "duration": 8,
    "start_time": "2022-10-13T08:10:29.158Z"
   },
   {
    "duration": 27,
    "start_time": "2022-10-13T08:10:29.168Z"
   },
   {
    "duration": 8,
    "start_time": "2022-10-13T08:10:29.197Z"
   },
   {
    "duration": 9,
    "start_time": "2022-10-13T08:10:29.211Z"
   },
   {
    "duration": 32,
    "start_time": "2022-10-13T08:10:29.223Z"
   },
   {
    "duration": 32,
    "start_time": "2022-10-13T08:10:29.257Z"
   },
   {
    "duration": 11,
    "start_time": "2022-10-13T08:10:29.295Z"
   },
   {
    "duration": 7,
    "start_time": "2022-10-13T08:10:29.308Z"
   },
   {
    "duration": 20,
    "start_time": "2022-10-13T08:10:29.318Z"
   },
   {
    "duration": 7,
    "start_time": "2022-10-13T08:12:31.269Z"
   },
   {
    "duration": 11,
    "start_time": "2022-10-13T08:12:38.031Z"
   },
   {
    "duration": 6,
    "start_time": "2022-10-13T08:12:51.732Z"
   },
   {
    "duration": 7,
    "start_time": "2022-10-13T08:13:12.410Z"
   },
   {
    "duration": 2745,
    "start_time": "2022-10-13T08:13:27.377Z"
   },
   {
    "duration": 8,
    "start_time": "2022-10-13T08:13:30.124Z"
   },
   {
    "duration": 3,
    "start_time": "2022-10-13T08:13:30.134Z"
   },
   {
    "duration": 23,
    "start_time": "2022-10-13T08:13:30.139Z"
   },
   {
    "duration": 26,
    "start_time": "2022-10-13T08:13:30.164Z"
   },
   {
    "duration": 23,
    "start_time": "2022-10-13T08:13:30.192Z"
   },
   {
    "duration": 30,
    "start_time": "2022-10-13T08:13:30.217Z"
   },
   {
    "duration": 41,
    "start_time": "2022-10-13T08:13:30.248Z"
   },
   {
    "duration": 13,
    "start_time": "2022-10-13T08:13:30.290Z"
   },
   {
    "duration": 15,
    "start_time": "2022-10-13T08:13:30.304Z"
   },
   {
    "duration": 26,
    "start_time": "2022-10-13T08:13:30.320Z"
   },
   {
    "duration": 7,
    "start_time": "2022-10-13T08:13:30.348Z"
   },
   {
    "duration": 25,
    "start_time": "2022-10-13T08:13:30.357Z"
   },
   {
    "duration": 35,
    "start_time": "2022-10-13T08:13:30.385Z"
   },
   {
    "duration": 29,
    "start_time": "2022-10-13T08:15:59.273Z"
   },
   {
    "duration": 34,
    "start_time": "2022-10-13T08:16:05.288Z"
   },
   {
    "duration": 74,
    "start_time": "2022-10-13T08:16:16.073Z"
   },
   {
    "duration": 5,
    "start_time": "2022-10-13T08:16:21.236Z"
   },
   {
    "duration": 7,
    "start_time": "2022-10-13T08:16:41.545Z"
   },
   {
    "duration": 30,
    "start_time": "2022-10-13T08:16:59.298Z"
   },
   {
    "duration": 31,
    "start_time": "2022-10-13T08:17:24.523Z"
   },
   {
    "duration": 5,
    "start_time": "2022-10-13T08:18:06.278Z"
   },
   {
    "duration": 6,
    "start_time": "2022-10-13T08:18:12.998Z"
   },
   {
    "duration": 31,
    "start_time": "2022-10-13T08:18:15.630Z"
   },
   {
    "duration": 6,
    "start_time": "2022-10-13T08:19:03.356Z"
   },
   {
    "duration": 32,
    "start_time": "2022-10-13T08:19:04.478Z"
   },
   {
    "duration": 2625,
    "start_time": "2022-10-13T08:19:14.291Z"
   },
   {
    "duration": 6,
    "start_time": "2022-10-13T08:19:16.918Z"
   },
   {
    "duration": 3,
    "start_time": "2022-10-13T08:19:16.926Z"
   },
   {
    "duration": 7,
    "start_time": "2022-10-13T08:19:16.931Z"
   },
   {
    "duration": 12,
    "start_time": "2022-10-13T08:19:16.940Z"
   },
   {
    "duration": 7,
    "start_time": "2022-10-13T08:19:16.953Z"
   },
   {
    "duration": 52,
    "start_time": "2022-10-13T08:19:16.962Z"
   },
   {
    "duration": 6,
    "start_time": "2022-10-13T08:19:17.016Z"
   },
   {
    "duration": 9,
    "start_time": "2022-10-13T08:19:17.023Z"
   },
   {
    "duration": 5,
    "start_time": "2022-10-13T08:19:17.034Z"
   },
   {
    "duration": 10,
    "start_time": "2022-10-13T08:19:17.041Z"
   },
   {
    "duration": 21,
    "start_time": "2022-10-13T08:19:17.053Z"
   },
   {
    "duration": 7,
    "start_time": "2022-10-13T08:19:17.095Z"
   },
   {
    "duration": 11,
    "start_time": "2022-10-13T08:19:17.104Z"
   },
   {
    "duration": 12,
    "start_time": "2022-10-13T08:19:17.116Z"
   },
   {
    "duration": 29,
    "start_time": "2022-10-13T08:20:11.851Z"
   },
   {
    "duration": 10,
    "start_time": "2022-10-13T08:45:34.081Z"
   },
   {
    "duration": 2844,
    "start_time": "2022-10-13T08:45:47.429Z"
   },
   {
    "duration": 8,
    "start_time": "2022-10-13T08:45:50.275Z"
   },
   {
    "duration": 4,
    "start_time": "2022-10-13T08:45:50.284Z"
   },
   {
    "duration": 15,
    "start_time": "2022-10-13T08:45:50.289Z"
   },
   {
    "duration": 11,
    "start_time": "2022-10-13T08:45:50.306Z"
   },
   {
    "duration": 31,
    "start_time": "2022-10-13T08:45:50.319Z"
   },
   {
    "duration": 5,
    "start_time": "2022-10-13T08:45:50.352Z"
   },
   {
    "duration": 18,
    "start_time": "2022-10-13T08:45:50.359Z"
   },
   {
    "duration": 10,
    "start_time": "2022-10-13T08:45:50.378Z"
   },
   {
    "duration": 12,
    "start_time": "2022-10-13T08:45:50.389Z"
   },
   {
    "duration": 26,
    "start_time": "2022-10-13T08:45:50.403Z"
   },
   {
    "duration": 12,
    "start_time": "2022-10-13T08:45:50.431Z"
   },
   {
    "duration": 11,
    "start_time": "2022-10-13T08:45:50.445Z"
   },
   {
    "duration": 16,
    "start_time": "2022-10-13T08:45:50.459Z"
   },
   {
    "duration": 15,
    "start_time": "2022-10-13T08:45:50.496Z"
   },
   {
    "duration": 11,
    "start_time": "2022-10-13T08:49:54.176Z"
   },
   {
    "duration": 9,
    "start_time": "2022-10-13T08:50:19.098Z"
   },
   {
    "duration": 13,
    "start_time": "2022-10-13T08:50:53.476Z"
   },
   {
    "duration": 2736,
    "start_time": "2022-10-13T08:51:05.688Z"
   },
   {
    "duration": 8,
    "start_time": "2022-10-13T08:51:08.426Z"
   },
   {
    "duration": 7,
    "start_time": "2022-10-13T08:51:08.435Z"
   },
   {
    "duration": 6,
    "start_time": "2022-10-13T08:51:08.444Z"
   },
   {
    "duration": 12,
    "start_time": "2022-10-13T08:51:08.453Z"
   },
   {
    "duration": 45,
    "start_time": "2022-10-13T08:51:08.467Z"
   },
   {
    "duration": 6,
    "start_time": "2022-10-13T08:51:08.513Z"
   },
   {
    "duration": 8,
    "start_time": "2022-10-13T08:51:08.520Z"
   },
   {
    "duration": 7,
    "start_time": "2022-10-13T08:51:08.530Z"
   },
   {
    "duration": 8,
    "start_time": "2022-10-13T08:51:08.539Z"
   },
   {
    "duration": 46,
    "start_time": "2022-10-13T08:51:08.549Z"
   },
   {
    "duration": 7,
    "start_time": "2022-10-13T08:51:08.597Z"
   },
   {
    "duration": 5,
    "start_time": "2022-10-13T08:51:08.606Z"
   },
   {
    "duration": 12,
    "start_time": "2022-10-13T08:51:08.613Z"
   },
   {
    "duration": 13,
    "start_time": "2022-10-13T08:51:08.627Z"
   },
   {
    "duration": 2735,
    "start_time": "2022-10-13T10:59:28.182Z"
   },
   {
    "duration": 13,
    "start_time": "2022-10-13T10:59:30.920Z"
   },
   {
    "duration": 10,
    "start_time": "2022-10-13T10:59:30.935Z"
   },
   {
    "duration": 12,
    "start_time": "2022-10-13T10:59:30.948Z"
   },
   {
    "duration": 15,
    "start_time": "2022-10-13T10:59:30.962Z"
   },
   {
    "duration": 40,
    "start_time": "2022-10-13T10:59:30.979Z"
   },
   {
    "duration": 5,
    "start_time": "2022-10-13T10:59:31.020Z"
   },
   {
    "duration": 30,
    "start_time": "2022-10-13T10:59:31.027Z"
   },
   {
    "duration": 27,
    "start_time": "2022-10-13T10:59:31.059Z"
   },
   {
    "duration": 36,
    "start_time": "2022-10-13T10:59:31.088Z"
   },
   {
    "duration": 48,
    "start_time": "2022-10-13T10:59:31.125Z"
   },
   {
    "duration": 15,
    "start_time": "2022-10-13T10:59:31.175Z"
   },
   {
    "duration": 35,
    "start_time": "2022-10-13T10:59:31.192Z"
   },
   {
    "duration": 28,
    "start_time": "2022-10-13T10:59:31.229Z"
   },
   {
    "duration": 28,
    "start_time": "2022-10-13T10:59:31.258Z"
   },
   {
    "duration": 13,
    "start_time": "2022-10-13T11:08:10.514Z"
   },
   {
    "duration": 15,
    "start_time": "2022-10-13T11:08:35.130Z"
   },
   {
    "duration": 10,
    "start_time": "2022-10-13T11:09:15.508Z"
   },
   {
    "duration": 10,
    "start_time": "2022-10-13T11:10:05.683Z"
   },
   {
    "duration": 274,
    "start_time": "2022-10-13T11:13:36.512Z"
   },
   {
    "duration": 89,
    "start_time": "2022-10-13T11:13:50.983Z"
   },
   {
    "duration": 5,
    "start_time": "2022-10-13T11:14:58.324Z"
   },
   {
    "duration": 6,
    "start_time": "2022-10-13T11:15:28.147Z"
   },
   {
    "duration": 7,
    "start_time": "2022-10-13T11:15:47.106Z"
   },
   {
    "duration": 7,
    "start_time": "2022-10-13T11:16:02.606Z"
   },
   {
    "duration": 49,
    "start_time": "2022-10-16T08:27:15.097Z"
   },
   {
    "duration": 2837,
    "start_time": "2022-10-16T08:27:23.031Z"
   },
   {
    "duration": 8,
    "start_time": "2022-10-16T08:27:25.870Z"
   },
   {
    "duration": 6,
    "start_time": "2022-10-16T08:27:25.880Z"
   },
   {
    "duration": 7,
    "start_time": "2022-10-16T08:27:25.888Z"
   },
   {
    "duration": 13,
    "start_time": "2022-10-16T08:27:25.897Z"
   },
   {
    "duration": 30,
    "start_time": "2022-10-16T08:27:25.912Z"
   },
   {
    "duration": 5,
    "start_time": "2022-10-16T08:27:25.944Z"
   },
   {
    "duration": 9,
    "start_time": "2022-10-16T08:27:25.951Z"
   },
   {
    "duration": 5,
    "start_time": "2022-10-16T08:27:25.961Z"
   },
   {
    "duration": 7,
    "start_time": "2022-10-16T08:27:25.968Z"
   },
   {
    "duration": 38,
    "start_time": "2022-10-16T08:27:25.976Z"
   },
   {
    "duration": 10,
    "start_time": "2022-10-16T08:27:26.016Z"
   },
   {
    "duration": 8,
    "start_time": "2022-10-16T08:27:26.028Z"
   },
   {
    "duration": 9,
    "start_time": "2022-10-16T08:27:26.038Z"
   },
   {
    "duration": 18,
    "start_time": "2022-10-16T08:27:26.049Z"
   },
   {
    "duration": 28,
    "start_time": "2022-10-16T08:27:48.418Z"
   },
   {
    "duration": 25,
    "start_time": "2022-10-16T08:27:56.545Z"
   },
   {
    "duration": 26,
    "start_time": "2022-10-16T08:28:08.788Z"
   },
   {
    "duration": 63,
    "start_time": "2022-10-16T08:29:33.206Z"
   },
   {
    "duration": 56,
    "start_time": "2022-10-16T08:29:46.576Z"
   },
   {
    "duration": 60,
    "start_time": "2022-10-16T08:30:01.531Z"
   },
   {
    "duration": 57,
    "start_time": "2022-10-16T08:30:17.314Z"
   },
   {
    "duration": 115,
    "start_time": "2022-10-16T08:31:38.353Z"
   },
   {
    "duration": 98,
    "start_time": "2022-10-16T08:32:59.009Z"
   },
   {
    "duration": 143,
    "start_time": "2022-10-16T08:33:44.425Z"
   },
   {
    "duration": 132,
    "start_time": "2022-10-16T08:34:36.844Z"
   },
   {
    "duration": 2495,
    "start_time": "2022-10-16T08:35:17.704Z"
   },
   {
    "duration": 7,
    "start_time": "2022-10-16T08:35:20.201Z"
   },
   {
    "duration": 3,
    "start_time": "2022-10-16T08:35:20.210Z"
   },
   {
    "duration": 13,
    "start_time": "2022-10-16T08:35:20.215Z"
   },
   {
    "duration": 12,
    "start_time": "2022-10-16T08:35:20.230Z"
   },
   {
    "duration": 30,
    "start_time": "2022-10-16T08:35:20.243Z"
   },
   {
    "duration": 25,
    "start_time": "2022-10-16T08:35:20.275Z"
   },
   {
    "duration": 5,
    "start_time": "2022-10-16T08:35:20.302Z"
   },
   {
    "duration": 4,
    "start_time": "2022-10-16T08:35:20.310Z"
   },
   {
    "duration": 6,
    "start_time": "2022-10-16T08:35:20.317Z"
   },
   {
    "duration": 22,
    "start_time": "2022-10-16T08:35:20.325Z"
   },
   {
    "duration": 7,
    "start_time": "2022-10-16T08:35:20.348Z"
   },
   {
    "duration": 6,
    "start_time": "2022-10-16T08:35:20.356Z"
   },
   {
    "duration": 151,
    "start_time": "2022-10-16T08:35:20.400Z"
   },
   {
    "duration": 13,
    "start_time": "2022-10-16T08:35:20.553Z"
   },
   {
    "duration": 138,
    "start_time": "2022-10-16T08:37:36.848Z"
   },
   {
    "duration": 160,
    "start_time": "2022-10-16T08:38:00.790Z"
   },
   {
    "duration": 148,
    "start_time": "2022-10-16T08:38:08.578Z"
   },
   {
    "duration": 170,
    "start_time": "2022-10-16T08:38:18.687Z"
   },
   {
    "duration": 171,
    "start_time": "2022-10-16T08:39:56.088Z"
   },
   {
    "duration": 176,
    "start_time": "2022-10-16T08:40:32.433Z"
   },
   {
    "duration": 236,
    "start_time": "2022-10-16T08:42:42.480Z"
   },
   {
    "duration": 242,
    "start_time": "2022-10-16T08:43:41.850Z"
   },
   {
    "duration": 7,
    "start_time": "2022-10-16T08:44:11.963Z"
   },
   {
    "duration": 248,
    "start_time": "2022-10-16T08:45:12.813Z"
   },
   {
    "duration": 7,
    "start_time": "2022-10-16T08:45:16.610Z"
   },
   {
    "duration": 252,
    "start_time": "2022-10-16T08:48:00.566Z"
   },
   {
    "duration": 8,
    "start_time": "2022-10-16T08:48:55.411Z"
   },
   {
    "duration": 243,
    "start_time": "2022-10-16T08:48:58.674Z"
   },
   {
    "duration": 6,
    "start_time": "2022-10-16T08:49:00.135Z"
   },
   {
    "duration": 2543,
    "start_time": "2022-10-16T08:49:12.235Z"
   },
   {
    "duration": 7,
    "start_time": "2022-10-16T08:49:14.780Z"
   },
   {
    "duration": 10,
    "start_time": "2022-10-16T08:49:14.788Z"
   },
   {
    "duration": 8,
    "start_time": "2022-10-16T08:49:14.799Z"
   },
   {
    "duration": 12,
    "start_time": "2022-10-16T08:49:14.809Z"
   },
   {
    "duration": 29,
    "start_time": "2022-10-16T08:49:14.823Z"
   },
   {
    "duration": 5,
    "start_time": "2022-10-16T08:49:14.854Z"
   },
   {
    "duration": 11,
    "start_time": "2022-10-16T08:49:14.861Z"
   },
   {
    "duration": 5,
    "start_time": "2022-10-16T08:49:14.874Z"
   },
   {
    "duration": 6,
    "start_time": "2022-10-16T08:49:14.900Z"
   },
   {
    "duration": 19,
    "start_time": "2022-10-16T08:49:14.908Z"
   },
   {
    "duration": 6,
    "start_time": "2022-10-16T08:49:14.929Z"
   },
   {
    "duration": 10,
    "start_time": "2022-10-16T08:49:14.936Z"
   },
   {
    "duration": 289,
    "start_time": "2022-10-16T08:49:14.947Z"
   },
   {
    "duration": 8,
    "start_time": "2022-10-16T08:49:15.238Z"
   },
   {
    "duration": 9,
    "start_time": "2022-10-16T08:49:59.499Z"
   },
   {
    "duration": 2476,
    "start_time": "2022-10-16T08:50:08.871Z"
   },
   {
    "duration": 8,
    "start_time": "2022-10-16T08:50:11.350Z"
   },
   {
    "duration": 3,
    "start_time": "2022-10-16T08:50:11.362Z"
   },
   {
    "duration": 16,
    "start_time": "2022-10-16T08:50:11.367Z"
   },
   {
    "duration": 11,
    "start_time": "2022-10-16T08:50:11.385Z"
   },
   {
    "duration": 27,
    "start_time": "2022-10-16T08:50:11.397Z"
   },
   {
    "duration": 6,
    "start_time": "2022-10-16T08:50:11.426Z"
   },
   {
    "duration": 21,
    "start_time": "2022-10-16T08:50:11.433Z"
   },
   {
    "duration": 16,
    "start_time": "2022-10-16T08:50:11.457Z"
   },
   {
    "duration": 30,
    "start_time": "2022-10-16T08:50:11.475Z"
   },
   {
    "duration": 23,
    "start_time": "2022-10-16T08:50:11.506Z"
   },
   {
    "duration": 7,
    "start_time": "2022-10-16T08:50:11.530Z"
   },
   {
    "duration": 25,
    "start_time": "2022-10-16T08:50:11.539Z"
   },
   {
    "duration": 310,
    "start_time": "2022-10-16T08:50:11.566Z"
   },
   {
    "duration": 6,
    "start_time": "2022-10-16T08:50:11.877Z"
   },
   {
    "duration": 7,
    "start_time": "2022-10-16T08:50:42.053Z"
   },
   {
    "duration": 258,
    "start_time": "2022-10-16T08:51:30.153Z"
   },
   {
    "duration": 6,
    "start_time": "2022-10-16T08:51:31.260Z"
   },
   {
    "duration": 238,
    "start_time": "2022-10-16T08:51:45.952Z"
   },
   {
    "duration": 226,
    "start_time": "2022-10-16T08:51:56.714Z"
   },
   {
    "duration": 6,
    "start_time": "2022-10-16T08:51:57.611Z"
   },
   {
    "duration": 2436,
    "start_time": "2022-10-16T08:52:07.486Z"
   },
   {
    "duration": 7,
    "start_time": "2022-10-16T08:52:09.924Z"
   },
   {
    "duration": 12,
    "start_time": "2022-10-16T08:52:09.932Z"
   },
   {
    "duration": 6,
    "start_time": "2022-10-16T08:52:09.946Z"
   },
   {
    "duration": 14,
    "start_time": "2022-10-16T08:52:09.953Z"
   },
   {
    "duration": 28,
    "start_time": "2022-10-16T08:52:09.968Z"
   },
   {
    "duration": 5,
    "start_time": "2022-10-16T08:52:09.997Z"
   },
   {
    "duration": 43,
    "start_time": "2022-10-16T08:52:10.003Z"
   },
   {
    "duration": 24,
    "start_time": "2022-10-16T08:52:10.048Z"
   },
   {
    "duration": 16,
    "start_time": "2022-10-16T08:52:10.075Z"
   },
   {
    "duration": 39,
    "start_time": "2022-10-16T08:52:10.092Z"
   },
   {
    "duration": 8,
    "start_time": "2022-10-16T08:52:10.133Z"
   },
   {
    "duration": 18,
    "start_time": "2022-10-16T08:52:10.143Z"
   },
   {
    "duration": 273,
    "start_time": "2022-10-16T08:52:10.163Z"
   },
   {
    "duration": 7,
    "start_time": "2022-10-16T08:52:10.437Z"
   },
   {
    "duration": 240,
    "start_time": "2022-10-16T08:52:47.879Z"
   },
   {
    "duration": 6,
    "start_time": "2022-10-16T08:52:54.771Z"
   },
   {
    "duration": 271,
    "start_time": "2022-10-16T08:54:02.151Z"
   },
   {
    "duration": 6,
    "start_time": "2022-10-16T08:54:21.310Z"
   },
   {
    "duration": 2538,
    "start_time": "2022-10-16T08:54:27.265Z"
   },
   {
    "duration": 7,
    "start_time": "2022-10-16T08:54:29.805Z"
   },
   {
    "duration": 3,
    "start_time": "2022-10-16T08:54:29.814Z"
   },
   {
    "duration": 10,
    "start_time": "2022-10-16T08:54:29.819Z"
   },
   {
    "duration": 11,
    "start_time": "2022-10-16T08:54:29.831Z"
   },
   {
    "duration": 28,
    "start_time": "2022-10-16T08:54:29.844Z"
   },
   {
    "duration": 30,
    "start_time": "2022-10-16T08:54:29.873Z"
   },
   {
    "duration": 7,
    "start_time": "2022-10-16T08:54:29.905Z"
   },
   {
    "duration": 4,
    "start_time": "2022-10-16T08:54:29.914Z"
   },
   {
    "duration": 7,
    "start_time": "2022-10-16T08:54:29.921Z"
   },
   {
    "duration": 22,
    "start_time": "2022-10-16T08:54:29.930Z"
   },
   {
    "duration": 7,
    "start_time": "2022-10-16T08:54:29.953Z"
   },
   {
    "duration": 48,
    "start_time": "2022-10-16T08:54:29.961Z"
   },
   {
    "duration": 286,
    "start_time": "2022-10-16T08:54:30.011Z"
   },
   {
    "duration": 6,
    "start_time": "2022-10-16T08:54:30.300Z"
   },
   {
    "duration": 240,
    "start_time": "2022-10-16T08:55:42.999Z"
   },
   {
    "duration": 8,
    "start_time": "2022-10-16T08:55:44.074Z"
   },
   {
    "duration": 6,
    "start_time": "2022-10-16T08:55:47.039Z"
   },
   {
    "duration": 274,
    "start_time": "2022-10-16T08:56:43.250Z"
   },
   {
    "duration": 7,
    "start_time": "2022-10-16T08:56:45.427Z"
   },
   {
    "duration": 268,
    "start_time": "2022-10-16T08:57:27.247Z"
   },
   {
    "duration": 6,
    "start_time": "2022-10-16T08:57:28.653Z"
   },
   {
    "duration": 286,
    "start_time": "2022-10-16T08:58:39.191Z"
   },
   {
    "duration": 7,
    "start_time": "2022-10-16T08:58:40.230Z"
   },
   {
    "duration": 27,
    "start_time": "2022-10-16T09:08:52.522Z"
   },
   {
    "duration": 10,
    "start_time": "2022-10-16T09:09:19.875Z"
   },
   {
    "duration": 49,
    "start_time": "2022-10-16T09:14:40.429Z"
   },
   {
    "duration": 77,
    "start_time": "2022-10-16T09:17:40.388Z"
   },
   {
    "duration": 18,
    "start_time": "2022-10-16T09:18:42.543Z"
   },
   {
    "duration": 19,
    "start_time": "2022-10-16T09:20:08.738Z"
   },
   {
    "duration": 22,
    "start_time": "2022-10-16T09:20:33.516Z"
   },
   {
    "duration": 26,
    "start_time": "2022-10-16T09:20:38.602Z"
   },
   {
    "duration": 7,
    "start_time": "2022-10-16T09:23:35.890Z"
   },
   {
    "duration": 7,
    "start_time": "2022-10-16T09:24:02.706Z"
   },
   {
    "duration": 11,
    "start_time": "2022-10-16T09:28:35.318Z"
   },
   {
    "duration": 30,
    "start_time": "2022-10-16T09:30:14.073Z"
   },
   {
    "duration": 24,
    "start_time": "2022-10-16T09:30:46.753Z"
   },
   {
    "duration": 10,
    "start_time": "2022-10-16T09:31:19.805Z"
   },
   {
    "duration": 10,
    "start_time": "2022-10-16T09:36:41.977Z"
   },
   {
    "duration": 2848,
    "start_time": "2022-10-16T12:36:50.852Z"
   },
   {
    "duration": 7,
    "start_time": "2022-10-16T12:36:53.703Z"
   },
   {
    "duration": 9,
    "start_time": "2022-10-16T12:36:53.712Z"
   },
   {
    "duration": 5,
    "start_time": "2022-10-16T12:36:53.723Z"
   },
   {
    "duration": 12,
    "start_time": "2022-10-16T12:36:53.730Z"
   },
   {
    "duration": 27,
    "start_time": "2022-10-16T12:36:53.744Z"
   },
   {
    "duration": 5,
    "start_time": "2022-10-16T12:36:53.773Z"
   },
   {
    "duration": 9,
    "start_time": "2022-10-16T12:36:53.779Z"
   },
   {
    "duration": 7,
    "start_time": "2022-10-16T12:36:53.790Z"
   },
   {
    "duration": 23,
    "start_time": "2022-10-16T12:36:53.800Z"
   },
   {
    "duration": 20,
    "start_time": "2022-10-16T12:36:53.825Z"
   },
   {
    "duration": 6,
    "start_time": "2022-10-16T12:36:53.847Z"
   },
   {
    "duration": 11,
    "start_time": "2022-10-16T12:36:53.855Z"
   },
   {
    "duration": 305,
    "start_time": "2022-10-16T12:36:53.868Z"
   },
   {
    "duration": 7,
    "start_time": "2022-10-16T12:36:54.174Z"
   },
   {
    "duration": 15,
    "start_time": "2022-10-16T12:36:54.183Z"
   },
   {
    "duration": 9,
    "start_time": "2022-10-16T12:36:54.200Z"
   },
   {
    "duration": 80,
    "start_time": "2022-10-16T12:38:15.501Z"
   },
   {
    "duration": 26,
    "start_time": "2022-10-16T12:38:45.859Z"
   },
   {
    "duration": 13,
    "start_time": "2022-10-16T12:38:54.077Z"
   },
   {
    "duration": 9,
    "start_time": "2022-10-16T12:43:36.564Z"
   },
   {
    "duration": 72,
    "start_time": "2022-10-16T12:44:13.084Z"
   },
   {
    "duration": 12,
    "start_time": "2022-10-16T12:44:19.645Z"
   },
   {
    "duration": 10,
    "start_time": "2022-10-16T12:48:57.560Z"
   },
   {
    "duration": 894,
    "start_time": "2022-10-16T12:49:23.140Z"
   },
   {
    "duration": 2454,
    "start_time": "2022-10-16T12:49:35.785Z"
   },
   {
    "duration": 7,
    "start_time": "2022-10-16T12:49:38.241Z"
   },
   {
    "duration": 16,
    "start_time": "2022-10-16T12:49:38.249Z"
   },
   {
    "duration": 11,
    "start_time": "2022-10-16T12:49:38.267Z"
   },
   {
    "duration": 15,
    "start_time": "2022-10-16T12:49:38.279Z"
   },
   {
    "duration": 28,
    "start_time": "2022-10-16T12:49:38.295Z"
   },
   {
    "duration": 9,
    "start_time": "2022-10-16T12:49:38.324Z"
   },
   {
    "duration": 13,
    "start_time": "2022-10-16T12:49:38.334Z"
   },
   {
    "duration": 12,
    "start_time": "2022-10-16T12:49:38.348Z"
   },
   {
    "duration": 23,
    "start_time": "2022-10-16T12:49:38.362Z"
   },
   {
    "duration": 21,
    "start_time": "2022-10-16T12:49:38.387Z"
   },
   {
    "duration": 20,
    "start_time": "2022-10-16T12:49:38.410Z"
   },
   {
    "duration": 23,
    "start_time": "2022-10-16T12:49:38.431Z"
   },
   {
    "duration": 336,
    "start_time": "2022-10-16T12:49:38.456Z"
   },
   {
    "duration": 7,
    "start_time": "2022-10-16T12:49:38.793Z"
   },
   {
    "duration": 41,
    "start_time": "2022-10-16T12:49:38.801Z"
   },
   {
    "duration": 16,
    "start_time": "2022-10-16T12:49:38.844Z"
   },
   {
    "duration": 7,
    "start_time": "2022-10-16T12:52:19.044Z"
   },
   {
    "duration": 11,
    "start_time": "2022-10-16T12:52:43.217Z"
   },
   {
    "duration": 2481,
    "start_time": "2022-10-16T12:52:56.794Z"
   },
   {
    "duration": 7,
    "start_time": "2022-10-16T12:52:59.277Z"
   },
   {
    "duration": 7,
    "start_time": "2022-10-16T12:52:59.285Z"
   },
   {
    "duration": 12,
    "start_time": "2022-10-16T12:52:59.294Z"
   },
   {
    "duration": 15,
    "start_time": "2022-10-16T12:52:59.308Z"
   },
   {
    "duration": 29,
    "start_time": "2022-10-16T12:52:59.325Z"
   },
   {
    "duration": 5,
    "start_time": "2022-10-16T12:52:59.356Z"
   },
   {
    "duration": 13,
    "start_time": "2022-10-16T12:52:59.362Z"
   },
   {
    "duration": 11,
    "start_time": "2022-10-16T12:52:59.376Z"
   },
   {
    "duration": 11,
    "start_time": "2022-10-16T12:52:59.389Z"
   },
   {
    "duration": 21,
    "start_time": "2022-10-16T12:52:59.402Z"
   },
   {
    "duration": 6,
    "start_time": "2022-10-16T12:52:59.424Z"
   },
   {
    "duration": 7,
    "start_time": "2022-10-16T12:52:59.432Z"
   },
   {
    "duration": 288,
    "start_time": "2022-10-16T12:52:59.441Z"
   },
   {
    "duration": 6,
    "start_time": "2022-10-16T12:52:59.730Z"
   },
   {
    "duration": 18,
    "start_time": "2022-10-16T12:52:59.737Z"
   },
   {
    "duration": 4,
    "start_time": "2022-10-16T12:52:59.757Z"
   },
   {
    "duration": 11,
    "start_time": "2022-10-16T12:52:59.762Z"
   },
   {
    "duration": 348,
    "start_time": "2022-10-16T12:56:03.303Z"
   },
   {
    "duration": 299,
    "start_time": "2022-10-16T12:57:24.914Z"
   },
   {
    "duration": 301,
    "start_time": "2022-10-16T12:57:34.463Z"
   },
   {
    "duration": 73,
    "start_time": "2022-10-16T12:59:30.601Z"
   },
   {
    "duration": 278,
    "start_time": "2022-10-16T12:59:39.125Z"
   },
   {
    "duration": 69,
    "start_time": "2022-10-16T13:02:53.842Z"
   },
   {
    "duration": 266,
    "start_time": "2022-10-16T13:03:06.817Z"
   },
   {
    "duration": 72,
    "start_time": "2022-10-16T13:14:41.566Z"
   },
   {
    "duration": 2397,
    "start_time": "2022-10-16T13:15:05.440Z"
   },
   {
    "duration": 8,
    "start_time": "2022-10-16T13:15:07.838Z"
   },
   {
    "duration": 6,
    "start_time": "2022-10-16T13:15:07.847Z"
   },
   {
    "duration": 8,
    "start_time": "2022-10-16T13:15:07.855Z"
   },
   {
    "duration": 15,
    "start_time": "2022-10-16T13:15:07.865Z"
   },
   {
    "duration": 41,
    "start_time": "2022-10-16T13:15:07.881Z"
   },
   {
    "duration": 7,
    "start_time": "2022-10-16T13:15:07.924Z"
   },
   {
    "duration": 10,
    "start_time": "2022-10-16T13:15:07.933Z"
   },
   {
    "duration": 8,
    "start_time": "2022-10-16T13:15:07.944Z"
   },
   {
    "duration": 10,
    "start_time": "2022-10-16T13:15:07.953Z"
   },
   {
    "duration": 26,
    "start_time": "2022-10-16T13:15:07.965Z"
   },
   {
    "duration": 6,
    "start_time": "2022-10-16T13:15:07.992Z"
   },
   {
    "duration": 21,
    "start_time": "2022-10-16T13:15:07.999Z"
   },
   {
    "duration": 285,
    "start_time": "2022-10-16T13:15:08.022Z"
   },
   {
    "duration": 12,
    "start_time": "2022-10-16T13:15:08.309Z"
   },
   {
    "duration": 11,
    "start_time": "2022-10-16T13:15:08.323Z"
   },
   {
    "duration": 8,
    "start_time": "2022-10-16T13:15:08.335Z"
   },
   {
    "duration": 71,
    "start_time": "2022-10-16T13:15:08.344Z"
   },
   {
    "duration": 69,
    "start_time": "2022-10-16T13:21:01.342Z"
   },
   {
    "duration": 4,
    "start_time": "2022-10-16T13:21:16.971Z"
   },
   {
    "duration": 3,
    "start_time": "2022-10-16T13:22:17.519Z"
   },
   {
    "duration": 7,
    "start_time": "2022-10-16T13:22:44.196Z"
   },
   {
    "duration": 2454,
    "start_time": "2022-10-16T13:22:58.422Z"
   },
   {
    "duration": 7,
    "start_time": "2022-10-16T13:23:00.878Z"
   },
   {
    "duration": 26,
    "start_time": "2022-10-16T13:23:00.886Z"
   },
   {
    "duration": 16,
    "start_time": "2022-10-16T13:23:00.914Z"
   },
   {
    "duration": 12,
    "start_time": "2022-10-16T13:23:00.931Z"
   },
   {
    "duration": 26,
    "start_time": "2022-10-16T13:23:00.945Z"
   },
   {
    "duration": 4,
    "start_time": "2022-10-16T13:23:00.973Z"
   },
   {
    "duration": 20,
    "start_time": "2022-10-16T13:23:00.979Z"
   },
   {
    "duration": 31,
    "start_time": "2022-10-16T13:23:01.001Z"
   },
   {
    "duration": 10,
    "start_time": "2022-10-16T13:23:01.035Z"
   },
   {
    "duration": 26,
    "start_time": "2022-10-16T13:23:01.047Z"
   },
   {
    "duration": 8,
    "start_time": "2022-10-16T13:23:01.076Z"
   },
   {
    "duration": 40,
    "start_time": "2022-10-16T13:23:01.086Z"
   },
   {
    "duration": 304,
    "start_time": "2022-10-16T13:23:01.128Z"
   },
   {
    "duration": 6,
    "start_time": "2022-10-16T13:23:01.434Z"
   },
   {
    "duration": 13,
    "start_time": "2022-10-16T13:23:01.441Z"
   },
   {
    "duration": 7,
    "start_time": "2022-10-16T13:23:01.455Z"
   },
   {
    "duration": 16,
    "start_time": "2022-10-16T13:23:01.464Z"
   },
   {
    "duration": 8,
    "start_time": "2022-10-16T13:29:27.212Z"
   },
   {
    "duration": 2397,
    "start_time": "2022-10-16T13:29:32.355Z"
   },
   {
    "duration": 7,
    "start_time": "2022-10-16T13:29:34.753Z"
   },
   {
    "duration": 11,
    "start_time": "2022-10-16T13:29:34.762Z"
   },
   {
    "duration": 9,
    "start_time": "2022-10-16T13:29:34.776Z"
   },
   {
    "duration": 15,
    "start_time": "2022-10-16T13:29:34.787Z"
   },
   {
    "duration": 26,
    "start_time": "2022-10-16T13:29:34.804Z"
   },
   {
    "duration": 5,
    "start_time": "2022-10-16T13:29:34.831Z"
   },
   {
    "duration": 8,
    "start_time": "2022-10-16T13:29:34.837Z"
   },
   {
    "duration": 6,
    "start_time": "2022-10-16T13:29:34.846Z"
   },
   {
    "duration": 8,
    "start_time": "2022-10-16T13:29:34.854Z"
   },
   {
    "duration": 22,
    "start_time": "2022-10-16T13:29:34.863Z"
   },
   {
    "duration": 7,
    "start_time": "2022-10-16T13:29:34.886Z"
   },
   {
    "duration": 28,
    "start_time": "2022-10-16T13:29:34.894Z"
   },
   {
    "duration": 305,
    "start_time": "2022-10-16T13:29:34.923Z"
   },
   {
    "duration": 6,
    "start_time": "2022-10-16T13:29:35.229Z"
   },
   {
    "duration": 13,
    "start_time": "2022-10-16T13:29:35.237Z"
   },
   {
    "duration": 8,
    "start_time": "2022-10-16T13:29:35.251Z"
   },
   {
    "duration": 5,
    "start_time": "2022-10-16T13:29:35.260Z"
   },
   {
    "duration": 15,
    "start_time": "2022-10-16T13:29:35.266Z"
   },
   {
    "duration": 75,
    "start_time": "2022-10-16T13:32:13.361Z"
   },
   {
    "duration": 9,
    "start_time": "2022-10-16T13:32:52.551Z"
   },
   {
    "duration": 10,
    "start_time": "2022-10-16T13:33:16.393Z"
   },
   {
    "duration": 4,
    "start_time": "2022-10-16T13:37:59.123Z"
   },
   {
    "duration": 5,
    "start_time": "2022-10-16T13:39:29.071Z"
   },
   {
    "duration": 18,
    "start_time": "2022-10-16T13:40:49.191Z"
   },
   {
    "duration": 20,
    "start_time": "2022-10-16T13:40:56.517Z"
   },
   {
    "duration": 19,
    "start_time": "2022-10-16T13:41:04.382Z"
   },
   {
    "duration": 6,
    "start_time": "2022-10-16T13:41:26.597Z"
   },
   {
    "duration": 10,
    "start_time": "2022-10-16T13:42:08.256Z"
   },
   {
    "duration": 8,
    "start_time": "2022-10-16T13:42:21.121Z"
   },
   {
    "duration": 8,
    "start_time": "2022-10-16T13:44:36.009Z"
   },
   {
    "duration": 6,
    "start_time": "2022-10-16T13:44:55.389Z"
   },
   {
    "duration": 8,
    "start_time": "2022-10-16T13:45:23.896Z"
   },
   {
    "duration": 7,
    "start_time": "2022-10-16T13:45:48.695Z"
   },
   {
    "duration": 6,
    "start_time": "2022-10-16T13:46:19.291Z"
   },
   {
    "duration": 7,
    "start_time": "2022-10-16T13:49:56.191Z"
   },
   {
    "duration": 4,
    "start_time": "2022-10-16T13:50:51.738Z"
   },
   {
    "duration": 6,
    "start_time": "2022-10-16T13:50:58.622Z"
   },
   {
    "duration": 68,
    "start_time": "2022-10-16T13:51:50.562Z"
   },
   {
    "duration": 6,
    "start_time": "2022-10-16T13:52:04.574Z"
   },
   {
    "duration": 3,
    "start_time": "2022-10-16T13:58:57.735Z"
   },
   {
    "duration": 7,
    "start_time": "2022-10-16T13:59:53.168Z"
   },
   {
    "duration": 6,
    "start_time": "2022-10-16T14:00:07.690Z"
   },
   {
    "duration": 4,
    "start_time": "2022-10-16T14:02:49.273Z"
   },
   {
    "duration": 5,
    "start_time": "2022-10-16T14:03:00.372Z"
   },
   {
    "duration": 6,
    "start_time": "2022-10-16T14:03:46.442Z"
   },
   {
    "duration": 5,
    "start_time": "2022-10-16T14:05:02.291Z"
   },
   {
    "duration": 6,
    "start_time": "2022-10-16T14:05:18.673Z"
   },
   {
    "duration": 7,
    "start_time": "2022-10-16T14:08:59.145Z"
   },
   {
    "duration": 4,
    "start_time": "2022-10-16T14:20:06.904Z"
   },
   {
    "duration": 5,
    "start_time": "2022-10-16T14:20:56.300Z"
   },
   {
    "duration": 7,
    "start_time": "2022-10-16T14:21:18.025Z"
   },
   {
    "duration": 5,
    "start_time": "2022-10-16T14:21:54.368Z"
   },
   {
    "duration": 5,
    "start_time": "2022-10-16T14:22:12.566Z"
   },
   {
    "duration": 5,
    "start_time": "2022-10-16T14:24:41.605Z"
   },
   {
    "duration": 4,
    "start_time": "2022-10-16T14:24:45.163Z"
   },
   {
    "duration": 6,
    "start_time": "2022-10-16T14:31:37.152Z"
   },
   {
    "duration": 53,
    "start_time": "2022-10-17T06:55:28.985Z"
   },
   {
    "duration": 2768,
    "start_time": "2022-10-17T06:55:34.777Z"
   },
   {
    "duration": 9,
    "start_time": "2022-10-17T06:55:37.547Z"
   },
   {
    "duration": 4,
    "start_time": "2022-10-17T06:55:37.557Z"
   },
   {
    "duration": 10,
    "start_time": "2022-10-17T06:55:37.563Z"
   },
   {
    "duration": 11,
    "start_time": "2022-10-17T06:55:37.575Z"
   },
   {
    "duration": 34,
    "start_time": "2022-10-17T06:55:37.588Z"
   },
   {
    "duration": 5,
    "start_time": "2022-10-17T06:55:37.624Z"
   },
   {
    "duration": 10,
    "start_time": "2022-10-17T06:55:37.631Z"
   },
   {
    "duration": 5,
    "start_time": "2022-10-17T06:55:37.643Z"
   },
   {
    "duration": 12,
    "start_time": "2022-10-17T06:55:37.649Z"
   },
   {
    "duration": 23,
    "start_time": "2022-10-17T06:55:37.662Z"
   },
   {
    "duration": 28,
    "start_time": "2022-10-17T06:55:37.686Z"
   },
   {
    "duration": 8,
    "start_time": "2022-10-17T06:55:37.715Z"
   },
   {
    "duration": 355,
    "start_time": "2022-10-17T06:55:37.726Z"
   },
   {
    "duration": 7,
    "start_time": "2022-10-17T06:55:38.082Z"
   },
   {
    "duration": 22,
    "start_time": "2022-10-17T06:55:38.090Z"
   },
   {
    "duration": 7,
    "start_time": "2022-10-17T06:55:38.113Z"
   },
   {
    "duration": 9,
    "start_time": "2022-10-17T06:55:38.121Z"
   },
   {
    "duration": 9,
    "start_time": "2022-10-17T06:55:38.131Z"
   },
   {
    "duration": 4,
    "start_time": "2022-10-17T06:55:38.142Z"
   },
   {
    "duration": 8,
    "start_time": "2022-10-17T06:55:38.147Z"
   },
   {
    "duration": 8,
    "start_time": "2022-10-17T06:55:38.156Z"
   },
   {
    "duration": 4,
    "start_time": "2022-10-17T06:55:38.166Z"
   },
   {
    "duration": 40,
    "start_time": "2022-10-17T06:55:38.172Z"
   },
   {
    "duration": 6,
    "start_time": "2022-10-17T06:55:38.214Z"
   },
   {
    "duration": 5,
    "start_time": "2022-10-17T06:56:06.777Z"
   },
   {
    "duration": 6,
    "start_time": "2022-10-17T06:57:28.746Z"
   },
   {
    "duration": 466,
    "start_time": "2022-10-17T07:03:49.156Z"
   },
   {
    "duration": 9,
    "start_time": "2022-10-17T07:04:06.688Z"
   },
   {
    "duration": 4,
    "start_time": "2022-10-17T07:04:25.997Z"
   },
   {
    "duration": 5,
    "start_time": "2022-10-17T07:05:19.678Z"
   },
   {
    "duration": 10,
    "start_time": "2022-10-17T07:05:32.476Z"
   },
   {
    "duration": 15,
    "start_time": "2022-10-17T07:06:14.782Z"
   },
   {
    "duration": 12,
    "start_time": "2022-10-17T07:06:21.171Z"
   },
   {
    "duration": 13,
    "start_time": "2022-10-17T07:06:37.714Z"
   },
   {
    "duration": 12,
    "start_time": "2022-10-17T07:10:38.710Z"
   },
   {
    "duration": 68,
    "start_time": "2022-10-17T07:12:59.521Z"
   },
   {
    "duration": 7,
    "start_time": "2022-10-17T07:14:15.196Z"
   },
   {
    "duration": 736,
    "start_time": "2022-10-17T07:19:05.500Z"
   },
   {
    "duration": 5,
    "start_time": "2022-10-17T07:19:22.429Z"
   },
   {
    "duration": 7,
    "start_time": "2022-10-17T07:21:53.231Z"
   },
   {
    "duration": 5,
    "start_time": "2022-10-17T07:30:33.709Z"
   },
   {
    "duration": 8,
    "start_time": "2022-10-17T07:31:43.412Z"
   },
   {
    "duration": 9,
    "start_time": "2022-10-17T07:32:07.121Z"
   },
   {
    "duration": 11,
    "start_time": "2022-10-17T07:32:31.159Z"
   },
   {
    "duration": 993,
    "start_time": "2022-10-17T07:34:16.507Z"
   },
   {
    "duration": 10,
    "start_time": "2022-10-17T07:34:37.714Z"
   },
   {
    "duration": 11,
    "start_time": "2022-10-17T07:36:24.957Z"
   },
   {
    "duration": 11,
    "start_time": "2022-10-17T07:36:47.631Z"
   },
   {
    "duration": 9,
    "start_time": "2022-10-17T07:37:07.155Z"
   },
   {
    "duration": 10,
    "start_time": "2022-10-17T07:37:22.888Z"
   },
   {
    "duration": 57,
    "start_time": "2022-10-17T07:38:41.282Z"
   },
   {
    "duration": 4,
    "start_time": "2022-10-17T07:40:06.151Z"
   },
   {
    "duration": 14,
    "start_time": "2022-10-17T07:41:29.133Z"
   },
   {
    "duration": 6,
    "start_time": "2022-10-17T07:41:50.453Z"
   },
   {
    "duration": 9,
    "start_time": "2022-10-17T07:42:51.929Z"
   },
   {
    "duration": 6,
    "start_time": "2022-10-17T07:43:53.243Z"
   },
   {
    "duration": 7,
    "start_time": "2022-10-17T07:45:48.207Z"
   },
   {
    "duration": 7,
    "start_time": "2022-10-17T08:12:21.787Z"
   },
   {
    "duration": 113,
    "start_time": "2022-10-17T08:12:38.541Z"
   },
   {
    "duration": 149,
    "start_time": "2022-10-17T08:12:51.799Z"
   },
   {
    "duration": 110,
    "start_time": "2022-10-17T08:12:57.208Z"
   },
   {
    "duration": 129,
    "start_time": "2022-10-17T08:13:05.319Z"
   },
   {
    "duration": 149,
    "start_time": "2022-10-17T08:13:11.870Z"
   },
   {
    "duration": 165,
    "start_time": "2022-10-17T08:13:22.028Z"
   },
   {
    "duration": 167,
    "start_time": "2022-10-17T08:13:43.388Z"
   },
   {
    "duration": 191,
    "start_time": "2022-10-17T08:13:53.878Z"
   },
   {
    "duration": 253,
    "start_time": "2022-10-17T08:13:59.840Z"
   },
   {
    "duration": 145,
    "start_time": "2022-10-17T08:14:08.358Z"
   },
   {
    "duration": 149,
    "start_time": "2022-10-17T08:16:30.504Z"
   },
   {
    "duration": 172,
    "start_time": "2022-10-17T08:16:41.769Z"
   },
   {
    "duration": 148,
    "start_time": "2022-10-17T08:16:51.634Z"
   },
   {
    "duration": 134,
    "start_time": "2022-10-17T08:16:57.186Z"
   },
   {
    "duration": 139,
    "start_time": "2022-10-17T08:17:03.632Z"
   },
   {
    "duration": 246,
    "start_time": "2022-10-17T08:18:08.346Z"
   },
   {
    "duration": 335,
    "start_time": "2022-10-17T08:19:20.232Z"
   },
   {
    "duration": 278,
    "start_time": "2022-10-17T08:23:33.951Z"
   },
   {
    "duration": 419,
    "start_time": "2022-10-17T08:33:07.652Z"
   },
   {
    "duration": 409,
    "start_time": "2022-10-17T08:33:28.911Z"
   },
   {
    "duration": 457,
    "start_time": "2022-10-17T08:33:36.559Z"
   },
   {
    "duration": 386,
    "start_time": "2022-10-17T08:33:46.997Z"
   },
   {
    "duration": 412,
    "start_time": "2022-10-17T08:34:18.460Z"
   },
   {
    "duration": 452,
    "start_time": "2022-10-17T08:34:26.798Z"
   },
   {
    "duration": 485,
    "start_time": "2022-10-17T08:34:36.250Z"
   },
   {
    "duration": 398,
    "start_time": "2022-10-17T08:34:48.077Z"
   },
   {
    "duration": 482,
    "start_time": "2022-10-17T08:41:52.249Z"
   },
   {
    "duration": 491,
    "start_time": "2022-10-17T08:42:48.849Z"
   },
   {
    "duration": 149,
    "start_time": "2022-10-17T08:43:08.209Z"
   },
   {
    "duration": 429,
    "start_time": "2022-10-17T08:43:27.097Z"
   },
   {
    "duration": 401,
    "start_time": "2022-10-17T08:44:51.096Z"
   },
   {
    "duration": 423,
    "start_time": "2022-10-17T08:45:22.187Z"
   },
   {
    "duration": 378,
    "start_time": "2022-10-17T08:46:12.838Z"
   },
   {
    "duration": 402,
    "start_time": "2022-10-17T08:53:07.375Z"
   },
   {
    "duration": 416,
    "start_time": "2022-10-17T08:53:50.591Z"
   },
   {
    "duration": 423,
    "start_time": "2022-10-17T08:54:40.044Z"
   },
   {
    "duration": 475,
    "start_time": "2022-10-17T08:55:19.369Z"
   },
   {
    "duration": 444,
    "start_time": "2022-10-17T08:57:34.074Z"
   },
   {
    "duration": 293,
    "start_time": "2022-10-17T08:59:14.912Z"
   },
   {
    "duration": 3136,
    "start_time": "2022-10-17T12:12:52.397Z"
   },
   {
    "duration": 9,
    "start_time": "2022-10-17T12:12:55.535Z"
   },
   {
    "duration": 9,
    "start_time": "2022-10-17T12:12:55.545Z"
   },
   {
    "duration": 10,
    "start_time": "2022-10-17T12:12:55.556Z"
   },
   {
    "duration": 12,
    "start_time": "2022-10-17T12:12:55.568Z"
   },
   {
    "duration": 41,
    "start_time": "2022-10-17T12:12:55.582Z"
   },
   {
    "duration": 6,
    "start_time": "2022-10-17T12:12:55.625Z"
   },
   {
    "duration": 10,
    "start_time": "2022-10-17T12:12:55.633Z"
   },
   {
    "duration": 6,
    "start_time": "2022-10-17T12:12:55.645Z"
   },
   {
    "duration": 10,
    "start_time": "2022-10-17T12:12:55.652Z"
   },
   {
    "duration": 34,
    "start_time": "2022-10-17T12:12:55.664Z"
   },
   {
    "duration": 7,
    "start_time": "2022-10-17T12:12:55.700Z"
   },
   {
    "duration": 20,
    "start_time": "2022-10-17T12:12:55.708Z"
   },
   {
    "duration": 311,
    "start_time": "2022-10-17T12:12:55.731Z"
   },
   {
    "duration": 6,
    "start_time": "2022-10-17T12:12:56.044Z"
   },
   {
    "duration": 15,
    "start_time": "2022-10-17T12:12:56.052Z"
   },
   {
    "duration": 28,
    "start_time": "2022-10-17T12:12:56.069Z"
   },
   {
    "duration": 8,
    "start_time": "2022-10-17T12:12:56.099Z"
   },
   {
    "duration": 7,
    "start_time": "2022-10-17T12:12:56.108Z"
   },
   {
    "duration": 4,
    "start_time": "2022-10-17T12:12:56.116Z"
   },
   {
    "duration": 6,
    "start_time": "2022-10-17T12:12:56.121Z"
   },
   {
    "duration": 8,
    "start_time": "2022-10-17T12:12:56.128Z"
   },
   {
    "duration": 5,
    "start_time": "2022-10-17T12:12:56.137Z"
   },
   {
    "duration": 4,
    "start_time": "2022-10-17T12:12:56.144Z"
   },
   {
    "duration": 6,
    "start_time": "2022-10-17T12:12:56.149Z"
   },
   {
    "duration": 46,
    "start_time": "2022-10-17T12:12:56.156Z"
   },
   {
    "duration": 8,
    "start_time": "2022-10-17T12:12:56.204Z"
   },
   {
    "duration": 6,
    "start_time": "2022-10-17T12:12:56.213Z"
   },
   {
    "duration": 7,
    "start_time": "2022-10-17T12:12:56.221Z"
   },
   {
    "duration": 10,
    "start_time": "2022-10-17T12:12:56.229Z"
   },
   {
    "duration": 1228,
    "start_time": "2022-10-17T12:12:56.241Z"
   },
   {
    "duration": 0,
    "start_time": "2022-10-17T12:12:57.471Z"
   },
   {
    "duration": 0,
    "start_time": "2022-10-17T12:12:57.473Z"
   },
   {
    "duration": 2782,
    "start_time": "2022-10-17T12:13:26.074Z"
   },
   {
    "duration": 9,
    "start_time": "2022-10-17T12:13:28.858Z"
   },
   {
    "duration": 4,
    "start_time": "2022-10-17T12:13:28.869Z"
   },
   {
    "duration": 8,
    "start_time": "2022-10-17T12:13:28.875Z"
   },
   {
    "duration": 20,
    "start_time": "2022-10-17T12:13:28.884Z"
   },
   {
    "duration": 33,
    "start_time": "2022-10-17T12:13:28.905Z"
   },
   {
    "duration": 6,
    "start_time": "2022-10-17T12:13:28.940Z"
   },
   {
    "duration": 8,
    "start_time": "2022-10-17T12:13:28.948Z"
   },
   {
    "duration": 7,
    "start_time": "2022-10-17T12:13:28.957Z"
   },
   {
    "duration": 31,
    "start_time": "2022-10-17T12:13:28.966Z"
   },
   {
    "duration": 22,
    "start_time": "2022-10-17T12:13:28.999Z"
   },
   {
    "duration": 7,
    "start_time": "2022-10-17T12:13:29.023Z"
   },
   {
    "duration": 11,
    "start_time": "2022-10-17T12:13:29.032Z"
   },
   {
    "duration": 332,
    "start_time": "2022-10-17T12:13:29.044Z"
   },
   {
    "duration": 7,
    "start_time": "2022-10-17T12:13:29.378Z"
   },
   {
    "duration": 11,
    "start_time": "2022-10-17T12:13:29.396Z"
   },
   {
    "duration": 9,
    "start_time": "2022-10-17T12:13:29.409Z"
   },
   {
    "duration": 8,
    "start_time": "2022-10-17T12:13:29.419Z"
   },
   {
    "duration": 7,
    "start_time": "2022-10-17T12:13:29.429Z"
   },
   {
    "duration": 4,
    "start_time": "2022-10-17T12:13:29.437Z"
   },
   {
    "duration": 8,
    "start_time": "2022-10-17T12:13:29.443Z"
   },
   {
    "duration": 11,
    "start_time": "2022-10-17T12:13:29.453Z"
   },
   {
    "duration": 5,
    "start_time": "2022-10-17T12:13:29.497Z"
   },
   {
    "duration": 4,
    "start_time": "2022-10-17T12:13:29.504Z"
   },
   {
    "duration": 7,
    "start_time": "2022-10-17T12:13:29.510Z"
   },
   {
    "duration": 10,
    "start_time": "2022-10-17T12:13:29.518Z"
   },
   {
    "duration": 12,
    "start_time": "2022-10-17T12:13:29.529Z"
   },
   {
    "duration": 7,
    "start_time": "2022-10-17T12:13:29.544Z"
   },
   {
    "duration": 6,
    "start_time": "2022-10-17T12:13:29.553Z"
   },
   {
    "duration": 40,
    "start_time": "2022-10-17T12:13:29.561Z"
   },
   {
    "duration": 1614,
    "start_time": "2022-10-17T12:13:29.603Z"
   },
   {
    "duration": 0,
    "start_time": "2022-10-17T12:13:31.219Z"
   },
   {
    "duration": 0,
    "start_time": "2022-10-17T12:13:31.220Z"
   },
   {
    "duration": 2803,
    "start_time": "2022-10-17T12:14:06.961Z"
   },
   {
    "duration": 8,
    "start_time": "2022-10-17T12:14:09.766Z"
   },
   {
    "duration": 3,
    "start_time": "2022-10-17T12:14:09.776Z"
   },
   {
    "duration": 6,
    "start_time": "2022-10-17T12:14:09.781Z"
   },
   {
    "duration": 15,
    "start_time": "2022-10-17T12:14:09.789Z"
   },
   {
    "duration": 29,
    "start_time": "2022-10-17T12:14:09.806Z"
   },
   {
    "duration": 5,
    "start_time": "2022-10-17T12:14:09.836Z"
   },
   {
    "duration": 13,
    "start_time": "2022-10-17T12:14:09.843Z"
   },
   {
    "duration": 6,
    "start_time": "2022-10-17T12:14:09.857Z"
   },
   {
    "duration": 8,
    "start_time": "2022-10-17T12:14:09.865Z"
   },
   {
    "duration": 38,
    "start_time": "2022-10-17T12:14:09.875Z"
   },
   {
    "duration": 7,
    "start_time": "2022-10-17T12:14:09.915Z"
   },
   {
    "duration": 10,
    "start_time": "2022-10-17T12:14:09.923Z"
   },
   {
    "duration": 320,
    "start_time": "2022-10-17T12:14:09.936Z"
   },
   {
    "duration": 6,
    "start_time": "2022-10-17T12:14:10.257Z"
   },
   {
    "duration": 12,
    "start_time": "2022-10-17T12:14:10.265Z"
   },
   {
    "duration": 29,
    "start_time": "2022-10-17T12:14:10.278Z"
   },
   {
    "duration": 11,
    "start_time": "2022-10-17T12:14:10.309Z"
   },
   {
    "duration": 6,
    "start_time": "2022-10-17T12:14:10.322Z"
   },
   {
    "duration": 6,
    "start_time": "2022-10-17T12:14:10.329Z"
   },
   {
    "duration": 5,
    "start_time": "2022-10-17T12:14:10.336Z"
   },
   {
    "duration": 8,
    "start_time": "2022-10-17T12:14:10.343Z"
   },
   {
    "duration": 5,
    "start_time": "2022-10-17T12:14:10.353Z"
   },
   {
    "duration": 5,
    "start_time": "2022-10-17T12:14:10.360Z"
   },
   {
    "duration": 6,
    "start_time": "2022-10-17T12:14:10.397Z"
   },
   {
    "duration": 8,
    "start_time": "2022-10-17T12:14:10.404Z"
   },
   {
    "duration": 8,
    "start_time": "2022-10-17T12:14:10.413Z"
   },
   {
    "duration": 7,
    "start_time": "2022-10-17T12:14:10.423Z"
   },
   {
    "duration": 7,
    "start_time": "2022-10-17T12:14:10.431Z"
   },
   {
    "duration": 11,
    "start_time": "2022-10-17T12:14:10.440Z"
   },
   {
    "duration": 1306,
    "start_time": "2022-10-17T12:14:10.453Z"
   },
   {
    "duration": 0,
    "start_time": "2022-10-17T12:14:11.761Z"
   },
   {
    "duration": 0,
    "start_time": "2022-10-17T12:14:11.762Z"
   },
   {
    "duration": 9,
    "start_time": "2022-10-17T12:15:08.523Z"
   },
   {
    "duration": 423,
    "start_time": "2022-10-17T12:15:13.054Z"
   },
   {
    "duration": 2694,
    "start_time": "2022-10-17T12:15:21.146Z"
   },
   {
    "duration": 8,
    "start_time": "2022-10-17T12:15:23.842Z"
   },
   {
    "duration": 6,
    "start_time": "2022-10-17T12:15:23.852Z"
   },
   {
    "duration": 10,
    "start_time": "2022-10-17T12:15:23.859Z"
   },
   {
    "duration": 12,
    "start_time": "2022-10-17T12:15:23.871Z"
   },
   {
    "duration": 34,
    "start_time": "2022-10-17T12:15:23.885Z"
   },
   {
    "duration": 7,
    "start_time": "2022-10-17T12:15:23.921Z"
   },
   {
    "duration": 14,
    "start_time": "2022-10-17T12:15:23.930Z"
   },
   {
    "duration": 9,
    "start_time": "2022-10-17T12:15:23.946Z"
   },
   {
    "duration": 9,
    "start_time": "2022-10-17T12:15:23.957Z"
   },
   {
    "duration": 38,
    "start_time": "2022-10-17T12:15:23.968Z"
   },
   {
    "duration": 8,
    "start_time": "2022-10-17T12:15:24.007Z"
   },
   {
    "duration": 10,
    "start_time": "2022-10-17T12:15:24.016Z"
   },
   {
    "duration": 323,
    "start_time": "2022-10-17T12:15:24.030Z"
   },
   {
    "duration": 7,
    "start_time": "2022-10-17T12:15:24.355Z"
   },
   {
    "duration": 11,
    "start_time": "2022-10-17T12:15:24.363Z"
   },
   {
    "duration": 27,
    "start_time": "2022-10-17T12:15:24.376Z"
   },
   {
    "duration": 15,
    "start_time": "2022-10-17T12:15:24.404Z"
   },
   {
    "duration": 9,
    "start_time": "2022-10-17T12:15:24.422Z"
   },
   {
    "duration": 5,
    "start_time": "2022-10-17T12:15:24.433Z"
   },
   {
    "duration": 6,
    "start_time": "2022-10-17T12:15:24.439Z"
   },
   {
    "duration": 10,
    "start_time": "2022-10-17T12:15:24.447Z"
   },
   {
    "duration": 42,
    "start_time": "2022-10-17T12:15:24.459Z"
   },
   {
    "duration": 6,
    "start_time": "2022-10-17T12:15:24.503Z"
   },
   {
    "duration": 8,
    "start_time": "2022-10-17T12:15:24.510Z"
   },
   {
    "duration": 13,
    "start_time": "2022-10-17T12:15:24.520Z"
   },
   {
    "duration": 12,
    "start_time": "2022-10-17T12:15:24.535Z"
   },
   {
    "duration": 10,
    "start_time": "2022-10-17T12:15:24.549Z"
   },
   {
    "duration": 8,
    "start_time": "2022-10-17T12:15:24.561Z"
   },
   {
    "duration": 11,
    "start_time": "2022-10-17T12:15:24.597Z"
   },
   {
    "duration": 7,
    "start_time": "2022-10-17T12:15:24.611Z"
   },
   {
    "duration": 468,
    "start_time": "2022-10-17T12:15:24.619Z"
   },
   {
    "duration": 299,
    "start_time": "2022-10-17T12:15:25.089Z"
   },
   {
    "duration": 2681,
    "start_time": "2022-10-17T12:16:45.543Z"
   },
   {
    "duration": 8,
    "start_time": "2022-10-17T12:16:48.226Z"
   },
   {
    "duration": 21,
    "start_time": "2022-10-17T12:16:48.235Z"
   },
   {
    "duration": 16,
    "start_time": "2022-10-17T12:16:48.257Z"
   },
   {
    "duration": 28,
    "start_time": "2022-10-17T12:16:48.275Z"
   },
   {
    "duration": 40,
    "start_time": "2022-10-17T12:16:48.305Z"
   },
   {
    "duration": 7,
    "start_time": "2022-10-17T12:16:48.347Z"
   },
   {
    "duration": 36,
    "start_time": "2022-10-17T12:16:48.355Z"
   },
   {
    "duration": 16,
    "start_time": "2022-10-17T12:16:48.392Z"
   },
   {
    "duration": 29,
    "start_time": "2022-10-17T12:16:48.410Z"
   },
   {
    "duration": 31,
    "start_time": "2022-10-17T12:16:48.441Z"
   },
   {
    "duration": 7,
    "start_time": "2022-10-17T12:16:48.474Z"
   },
   {
    "duration": 37,
    "start_time": "2022-10-17T12:16:48.482Z"
   },
   {
    "duration": 326,
    "start_time": "2022-10-17T12:16:48.522Z"
   },
   {
    "duration": 6,
    "start_time": "2022-10-17T12:16:48.850Z"
   },
   {
    "duration": 53,
    "start_time": "2022-10-17T12:16:48.858Z"
   },
   {
    "duration": 38,
    "start_time": "2022-10-17T12:16:48.913Z"
   },
   {
    "duration": 31,
    "start_time": "2022-10-17T12:16:48.953Z"
   },
   {
    "duration": 22,
    "start_time": "2022-10-17T12:16:48.985Z"
   },
   {
    "duration": 15,
    "start_time": "2022-10-17T12:16:49.009Z"
   },
   {
    "duration": 32,
    "start_time": "2022-10-17T12:16:49.026Z"
   },
   {
    "duration": 41,
    "start_time": "2022-10-17T12:16:49.061Z"
   },
   {
    "duration": 28,
    "start_time": "2022-10-17T12:16:49.105Z"
   },
   {
    "duration": 33,
    "start_time": "2022-10-17T12:16:49.135Z"
   },
   {
    "duration": 21,
    "start_time": "2022-10-17T12:16:49.170Z"
   },
   {
    "duration": 48,
    "start_time": "2022-10-17T12:16:49.193Z"
   },
   {
    "duration": 40,
    "start_time": "2022-10-17T12:16:49.243Z"
   },
   {
    "duration": 23,
    "start_time": "2022-10-17T12:16:49.285Z"
   },
   {
    "duration": 34,
    "start_time": "2022-10-17T12:16:49.310Z"
   },
   {
    "duration": 15,
    "start_time": "2022-10-17T12:16:49.346Z"
   },
   {
    "duration": 33,
    "start_time": "2022-10-17T12:16:49.363Z"
   },
   {
    "duration": 483,
    "start_time": "2022-10-17T12:16:49.397Z"
   },
   {
    "duration": 329,
    "start_time": "2022-10-17T12:16:49.882Z"
   },
   {
    "duration": 56,
    "start_time": "2022-10-17T12:21:09.127Z"
   },
   {
    "duration": 55,
    "start_time": "2022-10-17T12:21:17.829Z"
   },
   {
    "duration": 32,
    "start_time": "2022-10-17T12:21:36.384Z"
   },
   {
    "duration": 38,
    "start_time": "2022-10-17T12:21:55.738Z"
   },
   {
    "duration": 30,
    "start_time": "2022-10-17T12:22:25.153Z"
   },
   {
    "duration": 2672,
    "start_time": "2022-10-17T12:22:42.925Z"
   },
   {
    "duration": 8,
    "start_time": "2022-10-17T12:22:45.599Z"
   },
   {
    "duration": 5,
    "start_time": "2022-10-17T12:22:45.608Z"
   },
   {
    "duration": 14,
    "start_time": "2022-10-17T12:22:45.615Z"
   },
   {
    "duration": 16,
    "start_time": "2022-10-17T12:22:45.631Z"
   },
   {
    "duration": 33,
    "start_time": "2022-10-17T12:22:45.649Z"
   },
   {
    "duration": 7,
    "start_time": "2022-10-17T12:22:45.696Z"
   },
   {
    "duration": 10,
    "start_time": "2022-10-17T12:22:45.704Z"
   },
   {
    "duration": 5,
    "start_time": "2022-10-17T12:22:45.715Z"
   },
   {
    "duration": 7,
    "start_time": "2022-10-17T12:22:45.723Z"
   },
   {
    "duration": 22,
    "start_time": "2022-10-17T12:22:45.731Z"
   },
   {
    "duration": 7,
    "start_time": "2022-10-17T12:22:45.754Z"
   },
   {
    "duration": 37,
    "start_time": "2022-10-17T12:22:45.763Z"
   },
   {
    "duration": 310,
    "start_time": "2022-10-17T12:22:45.801Z"
   },
   {
    "duration": 6,
    "start_time": "2022-10-17T12:22:46.112Z"
   },
   {
    "duration": 11,
    "start_time": "2022-10-17T12:22:46.120Z"
   },
   {
    "duration": 8,
    "start_time": "2022-10-17T12:22:46.133Z"
   },
   {
    "duration": 9,
    "start_time": "2022-10-17T12:22:46.142Z"
   },
   {
    "duration": 7,
    "start_time": "2022-10-17T12:22:46.152Z"
   },
   {
    "duration": 4,
    "start_time": "2022-10-17T12:22:46.160Z"
   },
   {
    "duration": 4,
    "start_time": "2022-10-17T12:22:46.197Z"
   },
   {
    "duration": 9,
    "start_time": "2022-10-17T12:22:46.203Z"
   },
   {
    "duration": 5,
    "start_time": "2022-10-17T12:22:46.213Z"
   },
   {
    "duration": 5,
    "start_time": "2022-10-17T12:22:46.219Z"
   },
   {
    "duration": 6,
    "start_time": "2022-10-17T12:22:46.225Z"
   },
   {
    "duration": 8,
    "start_time": "2022-10-17T12:22:46.233Z"
   },
   {
    "duration": 9,
    "start_time": "2022-10-17T12:22:46.242Z"
   },
   {
    "duration": 6,
    "start_time": "2022-10-17T12:22:46.253Z"
   },
   {
    "duration": 7,
    "start_time": "2022-10-17T12:22:46.297Z"
   },
   {
    "duration": 10,
    "start_time": "2022-10-17T12:22:46.305Z"
   },
   {
    "duration": 7,
    "start_time": "2022-10-17T12:22:46.316Z"
   },
   {
    "duration": 460,
    "start_time": "2022-10-17T12:22:46.324Z"
   },
   {
    "duration": 316,
    "start_time": "2022-10-17T12:22:46.785Z"
   },
   {
    "duration": 367,
    "start_time": "2022-10-17T12:26:32.172Z"
   },
   {
    "duration": 286,
    "start_time": "2022-10-17T12:26:52.948Z"
   },
   {
    "duration": 502,
    "start_time": "2022-10-17T12:31:41.478Z"
   },
   {
    "duration": 557,
    "start_time": "2022-10-17T12:32:47.298Z"
   },
   {
    "duration": 282,
    "start_time": "2022-10-17T12:33:04.089Z"
   },
   {
    "duration": 303,
    "start_time": "2022-10-17T12:38:05.017Z"
   },
   {
    "duration": 309,
    "start_time": "2022-10-17T12:38:55.954Z"
   },
   {
    "duration": 329,
    "start_time": "2022-10-17T12:39:30.976Z"
   },
   {
    "duration": 326,
    "start_time": "2022-10-17T12:39:39.044Z"
   },
   {
    "duration": 398,
    "start_time": "2022-10-17T12:39:52.968Z"
   },
   {
    "duration": 328,
    "start_time": "2022-10-17T12:40:26.495Z"
   },
   {
    "duration": 479,
    "start_time": "2022-10-17T12:40:59.458Z"
   },
   {
    "duration": 465,
    "start_time": "2022-10-17T12:41:28.665Z"
   },
   {
    "duration": 584,
    "start_time": "2022-10-17T12:41:37.865Z"
   },
   {
    "duration": 458,
    "start_time": "2022-10-17T12:41:47.945Z"
   },
   {
    "duration": 493,
    "start_time": "2022-10-17T12:42:40.568Z"
   },
   {
    "duration": 638,
    "start_time": "2022-10-17T12:42:48.802Z"
   },
   {
    "duration": 467,
    "start_time": "2022-10-17T12:43:01.062Z"
   },
   {
    "duration": 521,
    "start_time": "2022-10-17T12:49:43.016Z"
   },
   {
    "duration": 575,
    "start_time": "2022-10-17T12:49:54.432Z"
   },
   {
    "duration": 448,
    "start_time": "2022-10-17T12:50:47.037Z"
   },
   {
    "duration": 508,
    "start_time": "2022-10-17T12:59:21.898Z"
   },
   {
    "duration": 469,
    "start_time": "2022-10-17T12:59:38.184Z"
   },
   {
    "duration": 600,
    "start_time": "2022-10-17T13:00:04.617Z"
   },
   {
    "duration": 303,
    "start_time": "2022-10-17T13:04:40.624Z"
   },
   {
    "duration": 319,
    "start_time": "2022-10-17T13:04:53.909Z"
   },
   {
    "duration": 302,
    "start_time": "2022-10-17T13:05:00.630Z"
   },
   {
    "duration": 363,
    "start_time": "2022-10-17T13:05:09.109Z"
   },
   {
    "duration": 236,
    "start_time": "2022-10-17T13:05:16.307Z"
   },
   {
    "duration": 272,
    "start_time": "2022-10-17T13:05:24.632Z"
   },
   {
    "duration": 253,
    "start_time": "2022-10-17T13:05:38.047Z"
   },
   {
    "duration": 235,
    "start_time": "2022-10-17T13:05:43.907Z"
   },
   {
    "duration": 254,
    "start_time": "2022-10-17T13:05:49.658Z"
   },
   {
    "duration": 474,
    "start_time": "2022-10-17T13:06:20.943Z"
   },
   {
    "duration": 420,
    "start_time": "2022-10-17T13:06:32.261Z"
   },
   {
    "duration": 424,
    "start_time": "2022-10-17T13:06:55.380Z"
   },
   {
    "duration": 494,
    "start_time": "2022-10-17T13:07:04.562Z"
   },
   {
    "duration": 389,
    "start_time": "2022-10-17T13:15:57.317Z"
   },
   {
    "duration": 472,
    "start_time": "2022-10-17T13:16:38.891Z"
   },
   {
    "duration": 427,
    "start_time": "2022-10-17T13:17:01.588Z"
   },
   {
    "duration": 470,
    "start_time": "2022-10-17T13:17:09.576Z"
   },
   {
    "duration": 451,
    "start_time": "2022-10-17T13:17:21.438Z"
   },
   {
    "duration": 284,
    "start_time": "2022-10-17T13:17:30.218Z"
   },
   {
    "duration": 267,
    "start_time": "2022-10-17T13:40:20.330Z"
   },
   {
    "duration": 268,
    "start_time": "2022-10-17T13:40:34.896Z"
   },
   {
    "duration": 323,
    "start_time": "2022-10-17T13:40:46.243Z"
   },
   {
    "duration": 322,
    "start_time": "2022-10-17T13:58:57.635Z"
   },
   {
    "duration": 226,
    "start_time": "2022-10-17T13:59:28.154Z"
   },
   {
    "duration": 132,
    "start_time": "2022-10-17T13:59:38.784Z"
   },
   {
    "duration": 154,
    "start_time": "2022-10-17T14:15:52.443Z"
   },
   {
    "duration": 138,
    "start_time": "2022-10-17T14:16:07.982Z"
   },
   {
    "duration": 155,
    "start_time": "2022-10-17T14:16:36.780Z"
   },
   {
    "duration": 332,
    "start_time": "2022-10-17T14:21:10.874Z"
   },
   {
    "duration": 271,
    "start_time": "2022-10-17T14:21:24.154Z"
   },
   {
    "duration": 249,
    "start_time": "2022-10-17T14:21:40.005Z"
   },
   {
    "duration": 275,
    "start_time": "2022-10-17T14:28:45.841Z"
   },
   {
    "duration": 42,
    "start_time": "2022-10-18T07:00:41.692Z"
   },
   {
    "duration": 2755,
    "start_time": "2022-10-18T07:00:50.700Z"
   },
   {
    "duration": 9,
    "start_time": "2022-10-18T07:00:53.457Z"
   },
   {
    "duration": 32,
    "start_time": "2022-10-18T07:00:53.467Z"
   },
   {
    "duration": 40,
    "start_time": "2022-10-18T07:00:53.501Z"
   },
   {
    "duration": 41,
    "start_time": "2022-10-18T07:00:53.543Z"
   },
   {
    "duration": 55,
    "start_time": "2022-10-18T07:00:53.586Z"
   },
   {
    "duration": 12,
    "start_time": "2022-10-18T07:00:53.642Z"
   },
   {
    "duration": 49,
    "start_time": "2022-10-18T07:00:53.656Z"
   },
   {
    "duration": 34,
    "start_time": "2022-10-18T07:00:53.707Z"
   },
   {
    "duration": 21,
    "start_time": "2022-10-18T07:00:53.743Z"
   },
   {
    "duration": 66,
    "start_time": "2022-10-18T07:00:53.766Z"
   },
   {
    "duration": 22,
    "start_time": "2022-10-18T07:00:53.834Z"
   },
   {
    "duration": 62,
    "start_time": "2022-10-18T07:00:53.858Z"
   },
   {
    "duration": 368,
    "start_time": "2022-10-18T07:00:53.924Z"
   },
   {
    "duration": 12,
    "start_time": "2022-10-18T07:00:54.293Z"
   },
   {
    "duration": 46,
    "start_time": "2022-10-18T07:00:54.307Z"
   },
   {
    "duration": 66,
    "start_time": "2022-10-18T07:00:54.355Z"
   },
   {
    "duration": 33,
    "start_time": "2022-10-18T07:00:54.426Z"
   },
   {
    "duration": 33,
    "start_time": "2022-10-18T07:00:54.461Z"
   },
   {
    "duration": 65,
    "start_time": "2022-10-18T07:00:54.496Z"
   },
   {
    "duration": 71,
    "start_time": "2022-10-18T07:00:54.563Z"
   },
   {
    "duration": 55,
    "start_time": "2022-10-18T07:00:54.636Z"
   },
   {
    "duration": 67,
    "start_time": "2022-10-18T07:00:54.693Z"
   },
   {
    "duration": 85,
    "start_time": "2022-10-18T07:00:54.762Z"
   },
   {
    "duration": 52,
    "start_time": "2022-10-18T07:00:54.849Z"
   },
   {
    "duration": 51,
    "start_time": "2022-10-18T07:00:54.903Z"
   },
   {
    "duration": 59,
    "start_time": "2022-10-18T07:00:54.955Z"
   },
   {
    "duration": 63,
    "start_time": "2022-10-18T07:00:55.016Z"
   },
   {
    "duration": 51,
    "start_time": "2022-10-18T07:00:55.081Z"
   },
   {
    "duration": 30,
    "start_time": "2022-10-18T07:00:55.133Z"
   },
   {
    "duration": 75,
    "start_time": "2022-10-18T07:00:55.165Z"
   },
   {
    "duration": 447,
    "start_time": "2022-10-18T07:00:55.241Z"
   },
   {
    "duration": 288,
    "start_time": "2022-10-18T07:00:55.689Z"
   },
   {
    "duration": 374,
    "start_time": "2022-10-18T07:00:55.978Z"
   },
   {
    "duration": 487,
    "start_time": "2022-10-18T07:00:56.353Z"
   },
   {
    "duration": 381,
    "start_time": "2022-10-18T07:00:56.842Z"
   },
   {
    "duration": 261,
    "start_time": "2022-10-18T07:00:57.224Z"
   },
   {
    "duration": 326,
    "start_time": "2022-10-18T07:00:57.487Z"
   },
   {
    "duration": 138,
    "start_time": "2022-10-18T07:00:57.815Z"
   },
   {
    "duration": 253,
    "start_time": "2022-10-18T07:00:57.955Z"
   },
   {
    "duration": 271,
    "start_time": "2022-10-18T07:00:58.211Z"
   },
   {
    "duration": 243,
    "start_time": "2022-10-18T07:01:23.759Z"
   },
   {
    "duration": 232,
    "start_time": "2022-10-18T07:01:33.914Z"
   },
   {
    "duration": 313,
    "start_time": "2022-10-18T07:01:44.545Z"
   },
   {
    "duration": 241,
    "start_time": "2022-10-18T07:01:51.823Z"
   },
   {
    "duration": 265,
    "start_time": "2022-10-18T07:02:04.537Z"
   },
   {
    "duration": 284,
    "start_time": "2022-10-18T07:02:10.236Z"
   },
   {
    "duration": 254,
    "start_time": "2022-10-18T07:02:17.005Z"
   },
   {
    "duration": 303,
    "start_time": "2022-10-18T07:02:51.815Z"
   },
   {
    "duration": 282,
    "start_time": "2022-10-18T07:02:59.392Z"
   },
   {
    "duration": 4,
    "start_time": "2022-10-18T07:04:36.492Z"
   },
   {
    "duration": 2490,
    "start_time": "2022-10-18T07:04:43.601Z"
   },
   {
    "duration": 74,
    "start_time": "2022-10-18T07:05:29.101Z"
   },
   {
    "duration": 370,
    "start_time": "2022-10-18T07:05:58.240Z"
   },
   {
    "duration": 225,
    "start_time": "2022-10-18T07:08:49.833Z"
   },
   {
    "duration": 291,
    "start_time": "2022-10-18T07:09:00.728Z"
   },
   {
    "duration": 309,
    "start_time": "2022-10-18T07:10:25.932Z"
   },
   {
    "duration": 249,
    "start_time": "2022-10-18T07:10:53.158Z"
   },
   {
    "duration": 6,
    "start_time": "2022-10-18T07:17:20.702Z"
   },
   {
    "duration": 6,
    "start_time": "2022-10-18T07:19:04.746Z"
   },
   {
    "duration": 7,
    "start_time": "2022-10-18T07:19:09.985Z"
   },
   {
    "duration": 5,
    "start_time": "2022-10-18T07:19:15.565Z"
   },
   {
    "duration": 6,
    "start_time": "2022-10-18T07:19:20.722Z"
   },
   {
    "duration": 6,
    "start_time": "2022-10-18T07:19:25.472Z"
   },
   {
    "duration": 6,
    "start_time": "2022-10-18T07:21:42.335Z"
   },
   {
    "duration": 6,
    "start_time": "2022-10-18T07:21:53.865Z"
   },
   {
    "duration": 2577,
    "start_time": "2022-10-18T07:24:04.218Z"
   },
   {
    "duration": 7,
    "start_time": "2022-10-18T07:24:06.796Z"
   },
   {
    "duration": 6,
    "start_time": "2022-10-18T07:24:06.804Z"
   },
   {
    "duration": 10,
    "start_time": "2022-10-18T07:24:06.811Z"
   },
   {
    "duration": 16,
    "start_time": "2022-10-18T07:24:06.823Z"
   },
   {
    "duration": 30,
    "start_time": "2022-10-18T07:24:06.841Z"
   },
   {
    "duration": 5,
    "start_time": "2022-10-18T07:24:06.873Z"
   },
   {
    "duration": 27,
    "start_time": "2022-10-18T07:24:06.879Z"
   },
   {
    "duration": 6,
    "start_time": "2022-10-18T07:24:06.908Z"
   },
   {
    "duration": 8,
    "start_time": "2022-10-18T07:24:06.916Z"
   },
   {
    "duration": 31,
    "start_time": "2022-10-18T07:24:06.926Z"
   },
   {
    "duration": 7,
    "start_time": "2022-10-18T07:24:06.959Z"
   },
   {
    "duration": 12,
    "start_time": "2022-10-18T07:24:06.968Z"
   },
   {
    "duration": 319,
    "start_time": "2022-10-18T07:24:06.985Z"
   },
   {
    "duration": 6,
    "start_time": "2022-10-18T07:24:07.306Z"
   },
   {
    "duration": 20,
    "start_time": "2022-10-18T07:24:07.313Z"
   },
   {
    "duration": 11,
    "start_time": "2022-10-18T07:24:07.335Z"
   },
   {
    "duration": 8,
    "start_time": "2022-10-18T07:24:07.347Z"
   },
   {
    "duration": 8,
    "start_time": "2022-10-18T07:24:07.357Z"
   },
   {
    "duration": 34,
    "start_time": "2022-10-18T07:24:07.366Z"
   },
   {
    "duration": 4,
    "start_time": "2022-10-18T07:24:07.402Z"
   },
   {
    "duration": 12,
    "start_time": "2022-10-18T07:24:07.407Z"
   },
   {
    "duration": 7,
    "start_time": "2022-10-18T07:24:07.420Z"
   },
   {
    "duration": 6,
    "start_time": "2022-10-18T07:24:07.428Z"
   },
   {
    "duration": 9,
    "start_time": "2022-10-18T07:24:07.435Z"
   },
   {
    "duration": 12,
    "start_time": "2022-10-18T07:24:07.445Z"
   },
   {
    "duration": 21,
    "start_time": "2022-10-18T07:24:07.459Z"
   },
   {
    "duration": 34,
    "start_time": "2022-10-18T07:24:07.482Z"
   },
   {
    "duration": 7,
    "start_time": "2022-10-18T07:24:07.518Z"
   },
   {
    "duration": 14,
    "start_time": "2022-10-18T07:24:07.527Z"
   },
   {
    "duration": 6,
    "start_time": "2022-10-18T07:24:07.543Z"
   },
   {
    "duration": 463,
    "start_time": "2022-10-18T07:24:07.551Z"
   },
   {
    "duration": 308,
    "start_time": "2022-10-18T07:24:08.016Z"
   },
   {
    "duration": 410,
    "start_time": "2022-10-18T07:24:08.326Z"
   },
   {
    "duration": 477,
    "start_time": "2022-10-18T07:24:08.738Z"
   },
   {
    "duration": 384,
    "start_time": "2022-10-18T07:24:09.217Z"
   },
   {
    "duration": 279,
    "start_time": "2022-10-18T07:24:09.603Z"
   },
   {
    "duration": 317,
    "start_time": "2022-10-18T07:24:09.883Z"
   },
   {
    "duration": 140,
    "start_time": "2022-10-18T07:24:10.202Z"
   },
   {
    "duration": 234,
    "start_time": "2022-10-18T07:24:10.343Z"
   },
   {
    "duration": 248,
    "start_time": "2022-10-18T07:24:10.579Z"
   },
   {
    "duration": 247,
    "start_time": "2022-10-18T07:28:45.306Z"
   },
   {
    "duration": 244,
    "start_time": "2022-10-18T07:34:28.863Z"
   },
   {
    "duration": 299,
    "start_time": "2022-10-18T07:34:46.264Z"
   },
   {
    "duration": 267,
    "start_time": "2022-10-18T07:51:59.589Z"
   },
   {
    "duration": 235,
    "start_time": "2022-10-18T07:52:16.544Z"
   },
   {
    "duration": 253,
    "start_time": "2022-10-18T07:52:23.570Z"
   },
   {
    "duration": 3108,
    "start_time": "2022-10-18T11:02:30.889Z"
   },
   {
    "duration": 8,
    "start_time": "2022-10-18T11:02:33.999Z"
   },
   {
    "duration": 5,
    "start_time": "2022-10-18T11:02:34.008Z"
   },
   {
    "duration": 7,
    "start_time": "2022-10-18T11:02:34.015Z"
   },
   {
    "duration": 11,
    "start_time": "2022-10-18T11:02:34.024Z"
   },
   {
    "duration": 32,
    "start_time": "2022-10-18T11:02:34.036Z"
   },
   {
    "duration": 29,
    "start_time": "2022-10-18T11:02:34.070Z"
   },
   {
    "duration": 7,
    "start_time": "2022-10-18T11:02:34.101Z"
   },
   {
    "duration": 5,
    "start_time": "2022-10-18T11:02:34.110Z"
   },
   {
    "duration": 9,
    "start_time": "2022-10-18T11:02:34.117Z"
   },
   {
    "duration": 22,
    "start_time": "2022-10-18T11:02:34.128Z"
   },
   {
    "duration": 8,
    "start_time": "2022-10-18T11:02:34.152Z"
   },
   {
    "duration": 9,
    "start_time": "2022-10-18T11:02:34.196Z"
   },
   {
    "duration": 319,
    "start_time": "2022-10-18T11:02:34.210Z"
   },
   {
    "duration": 8,
    "start_time": "2022-10-18T11:02:34.531Z"
   },
   {
    "duration": 14,
    "start_time": "2022-10-18T11:02:34.541Z"
   },
   {
    "duration": 11,
    "start_time": "2022-10-18T11:02:34.556Z"
   },
   {
    "duration": 33,
    "start_time": "2022-10-18T11:02:34.568Z"
   },
   {
    "duration": 8,
    "start_time": "2022-10-18T11:02:34.603Z"
   },
   {
    "duration": 5,
    "start_time": "2022-10-18T11:02:34.613Z"
   },
   {
    "duration": 5,
    "start_time": "2022-10-18T11:02:34.620Z"
   },
   {
    "duration": 9,
    "start_time": "2022-10-18T11:02:34.626Z"
   },
   {
    "duration": 5,
    "start_time": "2022-10-18T11:02:34.637Z"
   },
   {
    "duration": 5,
    "start_time": "2022-10-18T11:02:34.644Z"
   },
   {
    "duration": 50,
    "start_time": "2022-10-18T11:02:34.651Z"
   },
   {
    "duration": 8,
    "start_time": "2022-10-18T11:02:34.703Z"
   },
   {
    "duration": 13,
    "start_time": "2022-10-18T11:02:34.713Z"
   },
   {
    "duration": 11,
    "start_time": "2022-10-18T11:02:34.728Z"
   },
   {
    "duration": 7,
    "start_time": "2022-10-18T11:02:34.740Z"
   },
   {
    "duration": 10,
    "start_time": "2022-10-18T11:02:34.749Z"
   },
   {
    "duration": 36,
    "start_time": "2022-10-18T11:02:34.760Z"
   },
   {
    "duration": 432,
    "start_time": "2022-10-18T11:02:34.797Z"
   },
   {
    "duration": 288,
    "start_time": "2022-10-18T11:02:35.230Z"
   },
   {
    "duration": 355,
    "start_time": "2022-10-18T11:02:35.519Z"
   },
   {
    "duration": 430,
    "start_time": "2022-10-18T11:02:35.875Z"
   },
   {
    "duration": 399,
    "start_time": "2022-10-18T11:02:36.307Z"
   },
   {
    "duration": 256,
    "start_time": "2022-10-18T11:02:36.708Z"
   },
   {
    "duration": 308,
    "start_time": "2022-10-18T11:02:36.966Z"
   },
   {
    "duration": 142,
    "start_time": "2022-10-18T11:02:37.276Z"
   },
   {
    "duration": 246,
    "start_time": "2022-10-18T11:02:37.419Z"
   },
   {
    "duration": 276,
    "start_time": "2022-10-18T11:02:37.669Z"
   },
   {
    "duration": 273,
    "start_time": "2022-10-18T11:02:37.947Z"
   },
   {
    "duration": 256,
    "start_time": "2022-10-18T11:02:38.221Z"
   },
   {
    "duration": 328,
    "start_time": "2022-10-18T11:06:31.076Z"
   },
   {
    "duration": 243,
    "start_time": "2022-10-18T11:06:58.763Z"
   },
   {
    "duration": 254,
    "start_time": "2022-10-18T11:07:03.997Z"
   },
   {
    "duration": 228,
    "start_time": "2022-10-18T11:07:10.508Z"
   },
   {
    "duration": 236,
    "start_time": "2022-10-18T11:07:21.589Z"
   },
   {
    "duration": 127,
    "start_time": "2022-10-18T11:10:49.672Z"
   },
   {
    "duration": 151,
    "start_time": "2022-10-18T11:11:05.795Z"
   },
   {
    "duration": 314,
    "start_time": "2022-10-18T11:11:49.649Z"
   },
   {
    "duration": 247,
    "start_time": "2022-10-18T11:12:26.601Z"
   },
   {
    "duration": 164,
    "start_time": "2022-10-18T11:12:38.732Z"
   },
   {
    "duration": 2745,
    "start_time": "2022-10-18T11:20:45.977Z"
   },
   {
    "duration": 9,
    "start_time": "2022-10-18T11:20:48.724Z"
   },
   {
    "duration": 4,
    "start_time": "2022-10-18T11:20:48.734Z"
   },
   {
    "duration": 6,
    "start_time": "2022-10-18T11:20:48.740Z"
   },
   {
    "duration": 11,
    "start_time": "2022-10-18T11:20:48.749Z"
   },
   {
    "duration": 43,
    "start_time": "2022-10-18T11:20:48.762Z"
   },
   {
    "duration": 8,
    "start_time": "2022-10-18T11:20:48.807Z"
   },
   {
    "duration": 14,
    "start_time": "2022-10-18T11:20:48.816Z"
   },
   {
    "duration": 6,
    "start_time": "2022-10-18T11:20:48.832Z"
   },
   {
    "duration": 12,
    "start_time": "2022-10-18T11:20:48.840Z"
   },
   {
    "duration": 24,
    "start_time": "2022-10-18T11:20:48.854Z"
   },
   {
    "duration": 12,
    "start_time": "2022-10-18T11:20:48.894Z"
   },
   {
    "duration": 14,
    "start_time": "2022-10-18T11:20:48.909Z"
   },
   {
    "duration": 370,
    "start_time": "2022-10-18T11:20:48.928Z"
   },
   {
    "duration": 14,
    "start_time": "2022-10-18T11:20:49.300Z"
   },
   {
    "duration": 18,
    "start_time": "2022-10-18T11:20:49.316Z"
   },
   {
    "duration": 8,
    "start_time": "2022-10-18T11:20:49.336Z"
   },
   {
    "duration": 8,
    "start_time": "2022-10-18T11:20:49.345Z"
   },
   {
    "duration": 8,
    "start_time": "2022-10-18T11:20:49.354Z"
   },
   {
    "duration": 4,
    "start_time": "2022-10-18T11:20:49.364Z"
   },
   {
    "duration": 6,
    "start_time": "2022-10-18T11:20:49.396Z"
   },
   {
    "duration": 19,
    "start_time": "2022-10-18T11:20:49.404Z"
   },
   {
    "duration": 5,
    "start_time": "2022-10-18T11:20:49.425Z"
   },
   {
    "duration": 5,
    "start_time": "2022-10-18T11:20:49.432Z"
   },
   {
    "duration": 7,
    "start_time": "2022-10-18T11:20:49.439Z"
   },
   {
    "duration": 13,
    "start_time": "2022-10-18T11:20:49.448Z"
   },
   {
    "duration": 35,
    "start_time": "2022-10-18T11:20:49.463Z"
   },
   {
    "duration": 11,
    "start_time": "2022-10-18T11:20:49.500Z"
   },
   {
    "duration": 8,
    "start_time": "2022-10-18T11:20:49.513Z"
   },
   {
    "duration": 11,
    "start_time": "2022-10-18T11:20:49.523Z"
   },
   {
    "duration": 5,
    "start_time": "2022-10-18T11:20:49.536Z"
   },
   {
    "duration": 528,
    "start_time": "2022-10-18T11:20:49.543Z"
   },
   {
    "duration": 352,
    "start_time": "2022-10-18T11:20:50.073Z"
   },
   {
    "duration": 446,
    "start_time": "2022-10-18T11:20:50.426Z"
   },
   {
    "duration": 538,
    "start_time": "2022-10-18T11:20:50.873Z"
   },
   {
    "duration": 406,
    "start_time": "2022-10-18T11:20:51.413Z"
   },
   {
    "duration": 271,
    "start_time": "2022-10-18T11:20:51.820Z"
   },
   {
    "duration": 366,
    "start_time": "2022-10-18T11:20:52.096Z"
   },
   {
    "duration": 162,
    "start_time": "2022-10-18T11:20:52.463Z"
   },
   {
    "duration": 304,
    "start_time": "2022-10-18T11:20:52.626Z"
   },
   {
    "duration": 286,
    "start_time": "2022-10-18T11:20:52.934Z"
   },
   {
    "duration": 261,
    "start_time": "2022-10-18T11:20:53.222Z"
   },
   {
    "duration": 278,
    "start_time": "2022-10-18T11:20:53.485Z"
   },
   {
    "duration": 162,
    "start_time": "2022-10-18T11:20:53.764Z"
   },
   {
    "duration": 243,
    "start_time": "2022-10-18T11:24:04.894Z"
   },
   {
    "duration": 158,
    "start_time": "2022-10-18T11:24:17.144Z"
   },
   {
    "duration": 158,
    "start_time": "2022-10-18T11:24:31.701Z"
   },
   {
    "duration": 178,
    "start_time": "2022-10-18T11:24:42.308Z"
   },
   {
    "duration": 160,
    "start_time": "2022-10-18T11:24:58.966Z"
   },
   {
    "duration": 3058,
    "start_time": "2022-10-18T12:52:20.213Z"
   },
   {
    "duration": 7,
    "start_time": "2022-10-18T12:52:23.273Z"
   },
   {
    "duration": 11,
    "start_time": "2022-10-18T12:52:23.281Z"
   },
   {
    "duration": 9,
    "start_time": "2022-10-18T12:52:23.293Z"
   },
   {
    "duration": 16,
    "start_time": "2022-10-18T12:52:23.304Z"
   },
   {
    "duration": 51,
    "start_time": "2022-10-18T12:52:23.322Z"
   },
   {
    "duration": 5,
    "start_time": "2022-10-18T12:52:23.375Z"
   },
   {
    "duration": 23,
    "start_time": "2022-10-18T12:52:23.382Z"
   },
   {
    "duration": 28,
    "start_time": "2022-10-18T12:52:23.407Z"
   },
   {
    "duration": 21,
    "start_time": "2022-10-18T12:52:23.437Z"
   },
   {
    "duration": 30,
    "start_time": "2022-10-18T12:52:23.460Z"
   },
   {
    "duration": 6,
    "start_time": "2022-10-18T12:52:23.492Z"
   },
   {
    "duration": 54,
    "start_time": "2022-10-18T12:52:23.500Z"
   },
   {
    "duration": 318,
    "start_time": "2022-10-18T12:52:23.558Z"
   },
   {
    "duration": 6,
    "start_time": "2022-10-18T12:52:23.878Z"
   },
   {
    "duration": 51,
    "start_time": "2022-10-18T12:52:23.885Z"
   },
   {
    "duration": 24,
    "start_time": "2022-10-18T12:52:23.938Z"
   },
   {
    "duration": 29,
    "start_time": "2022-10-18T12:52:23.964Z"
   },
   {
    "duration": 16,
    "start_time": "2022-10-18T12:52:23.995Z"
   },
   {
    "duration": 21,
    "start_time": "2022-10-18T12:52:24.013Z"
   },
   {
    "duration": 14,
    "start_time": "2022-10-18T12:52:24.039Z"
   },
   {
    "duration": 33,
    "start_time": "2022-10-18T12:52:24.054Z"
   },
   {
    "duration": 25,
    "start_time": "2022-10-18T12:52:24.088Z"
   },
   {
    "duration": 30,
    "start_time": "2022-10-18T12:52:24.115Z"
   },
   {
    "duration": 14,
    "start_time": "2022-10-18T12:52:24.147Z"
   },
   {
    "duration": 29,
    "start_time": "2022-10-18T12:52:24.162Z"
   },
   {
    "duration": 18,
    "start_time": "2022-10-18T12:52:24.192Z"
   },
   {
    "duration": 29,
    "start_time": "2022-10-18T12:52:24.211Z"
   },
   {
    "duration": 18,
    "start_time": "2022-10-18T12:52:24.241Z"
   },
   {
    "duration": 41,
    "start_time": "2022-10-18T12:52:24.260Z"
   },
   {
    "duration": 24,
    "start_time": "2022-10-18T12:52:24.302Z"
   },
   {
    "duration": 444,
    "start_time": "2022-10-18T12:52:24.328Z"
   },
   {
    "duration": 288,
    "start_time": "2022-10-18T12:52:24.773Z"
   },
   {
    "duration": 365,
    "start_time": "2022-10-18T12:52:25.065Z"
   },
   {
    "duration": 450,
    "start_time": "2022-10-18T12:52:25.434Z"
   },
   {
    "duration": 482,
    "start_time": "2022-10-18T12:52:25.886Z"
   },
   {
    "duration": 261,
    "start_time": "2022-10-18T12:52:26.369Z"
   },
   {
    "duration": 308,
    "start_time": "2022-10-18T12:52:26.632Z"
   },
   {
    "duration": 128,
    "start_time": "2022-10-18T12:52:26.942Z"
   },
   {
    "duration": 255,
    "start_time": "2022-10-18T12:52:27.072Z"
   },
   {
    "duration": 256,
    "start_time": "2022-10-18T12:52:27.336Z"
   },
   {
    "duration": 264,
    "start_time": "2022-10-18T12:52:27.594Z"
   },
   {
    "duration": 264,
    "start_time": "2022-10-18T12:52:27.860Z"
   },
   {
    "duration": 154,
    "start_time": "2022-10-18T12:52:28.127Z"
   },
   {
    "duration": 225,
    "start_time": "2022-10-18T12:52:28.283Z"
   },
   {
    "duration": 214,
    "start_time": "2022-10-18T12:53:16.579Z"
   },
   {
    "duration": 248,
    "start_time": "2022-10-18T12:55:22.777Z"
   },
   {
    "duration": 294,
    "start_time": "2022-10-18T12:55:37.315Z"
   },
   {
    "duration": 248,
    "start_time": "2022-10-18T12:55:55.037Z"
   },
   {
    "duration": 152,
    "start_time": "2022-10-18T13:25:57.815Z"
   },
   {
    "duration": 237,
    "start_time": "2022-10-18T13:26:37.155Z"
   },
   {
    "duration": 182,
    "start_time": "2022-10-18T13:26:49.544Z"
   },
   {
    "duration": 336,
    "start_time": "2022-10-18T13:28:14.793Z"
   },
   {
    "duration": 214,
    "start_time": "2022-10-18T13:28:40.636Z"
   },
   {
    "duration": 178,
    "start_time": "2022-10-18T13:28:59.531Z"
   },
   {
    "duration": 207,
    "start_time": "2022-10-18T13:29:04.892Z"
   },
   {
    "duration": 172,
    "start_time": "2022-10-18T13:29:37.166Z"
   },
   {
    "duration": 176,
    "start_time": "2022-10-18T13:30:52.983Z"
   },
   {
    "duration": 193,
    "start_time": "2022-10-18T13:31:07.938Z"
   },
   {
    "duration": 79,
    "start_time": "2022-10-18T13:31:27.792Z"
   },
   {
    "duration": 178,
    "start_time": "2022-10-18T13:31:34.862Z"
   },
   {
    "duration": 183,
    "start_time": "2022-10-18T13:31:58.693Z"
   },
   {
    "duration": 195,
    "start_time": "2022-10-18T13:32:31.945Z"
   },
   {
    "duration": 175,
    "start_time": "2022-10-18T13:32:43.541Z"
   },
   {
    "duration": 272,
    "start_time": "2022-10-18T13:33:06.137Z"
   },
   {
    "duration": 175,
    "start_time": "2022-10-18T13:39:03.468Z"
   },
   {
    "duration": 208,
    "start_time": "2022-10-18T13:39:49.162Z"
   },
   {
    "duration": 177,
    "start_time": "2022-10-18T13:40:00.143Z"
   },
   {
    "duration": 204,
    "start_time": "2022-10-18T13:40:13.295Z"
   },
   {
    "duration": 174,
    "start_time": "2022-10-18T13:40:23.866Z"
   },
   {
    "duration": 201,
    "start_time": "2022-10-18T13:40:29.737Z"
   },
   {
    "duration": 408,
    "start_time": "2022-10-18T13:43:26.540Z"
   },
   {
    "duration": 391,
    "start_time": "2022-10-18T13:44:32.860Z"
   },
   {
    "duration": 444,
    "start_time": "2022-10-18T13:44:40.622Z"
   },
   {
    "duration": 411,
    "start_time": "2022-10-18T13:45:19.631Z"
   },
   {
    "duration": 170,
    "start_time": "2022-10-18T13:49:58.859Z"
   },
   {
    "duration": 174,
    "start_time": "2022-10-18T13:52:09.941Z"
   },
   {
    "duration": 177,
    "start_time": "2022-10-18T13:52:28.356Z"
   },
   {
    "duration": 75,
    "start_time": "2022-10-18T13:53:46.674Z"
   },
   {
    "duration": 213,
    "start_time": "2022-10-18T13:54:29.674Z"
   },
   {
    "duration": 201,
    "start_time": "2022-10-18T13:58:29.644Z"
   },
   {
    "duration": 3042,
    "start_time": "2022-10-19T06:45:24.352Z"
   },
   {
    "duration": 8,
    "start_time": "2022-10-19T06:45:27.396Z"
   },
   {
    "duration": 24,
    "start_time": "2022-10-19T06:45:27.405Z"
   },
   {
    "duration": 31,
    "start_time": "2022-10-19T06:45:27.430Z"
   },
   {
    "duration": 36,
    "start_time": "2022-10-19T06:45:27.462Z"
   },
   {
    "duration": 44,
    "start_time": "2022-10-19T06:45:27.500Z"
   },
   {
    "duration": 12,
    "start_time": "2022-10-19T06:45:27.545Z"
   },
   {
    "duration": 35,
    "start_time": "2022-10-19T06:45:27.558Z"
   },
   {
    "duration": 30,
    "start_time": "2022-10-19T06:45:27.594Z"
   },
   {
    "duration": 30,
    "start_time": "2022-10-19T06:45:27.626Z"
   },
   {
    "duration": 48,
    "start_time": "2022-10-19T06:45:27.658Z"
   },
   {
    "duration": 7,
    "start_time": "2022-10-19T06:45:27.707Z"
   },
   {
    "duration": 35,
    "start_time": "2022-10-19T06:45:27.716Z"
   },
   {
    "duration": 330,
    "start_time": "2022-10-19T06:45:27.755Z"
   },
   {
    "duration": 6,
    "start_time": "2022-10-19T06:45:28.086Z"
   },
   {
    "duration": 46,
    "start_time": "2022-10-19T06:45:28.094Z"
   },
   {
    "duration": 32,
    "start_time": "2022-10-19T06:45:28.142Z"
   },
   {
    "duration": 52,
    "start_time": "2022-10-19T06:45:28.176Z"
   },
   {
    "duration": 36,
    "start_time": "2022-10-19T06:45:28.230Z"
   },
   {
    "duration": 29,
    "start_time": "2022-10-19T06:45:28.268Z"
   },
   {
    "duration": 17,
    "start_time": "2022-10-19T06:45:28.298Z"
   },
   {
    "duration": 24,
    "start_time": "2022-10-19T06:45:28.316Z"
   },
   {
    "duration": 29,
    "start_time": "2022-10-19T06:45:28.342Z"
   },
   {
    "duration": 26,
    "start_time": "2022-10-19T06:45:28.372Z"
   },
   {
    "duration": 25,
    "start_time": "2022-10-19T06:45:28.400Z"
   },
   {
    "duration": 54,
    "start_time": "2022-10-19T06:45:28.427Z"
   },
   {
    "duration": 41,
    "start_time": "2022-10-19T06:45:28.483Z"
   },
   {
    "duration": 40,
    "start_time": "2022-10-19T06:45:28.526Z"
   },
   {
    "duration": 29,
    "start_time": "2022-10-19T06:45:28.567Z"
   },
   {
    "duration": 45,
    "start_time": "2022-10-19T06:45:28.597Z"
   },
   {
    "duration": 7,
    "start_time": "2022-10-19T06:45:28.643Z"
   },
   {
    "duration": 433,
    "start_time": "2022-10-19T06:45:28.652Z"
   },
   {
    "duration": 322,
    "start_time": "2022-10-19T06:45:29.086Z"
   },
   {
    "duration": 381,
    "start_time": "2022-10-19T06:45:29.410Z"
   },
   {
    "duration": 480,
    "start_time": "2022-10-19T06:45:29.793Z"
   },
   {
    "duration": 393,
    "start_time": "2022-10-19T06:45:30.274Z"
   },
   {
    "duration": 283,
    "start_time": "2022-10-19T06:45:30.669Z"
   },
   {
    "duration": 346,
    "start_time": "2022-10-19T06:45:30.954Z"
   },
   {
    "duration": 137,
    "start_time": "2022-10-19T06:45:31.302Z"
   },
   {
    "duration": 250,
    "start_time": "2022-10-19T06:45:31.440Z"
   },
   {
    "duration": 295,
    "start_time": "2022-10-19T06:45:31.694Z"
   },
   {
    "duration": 241,
    "start_time": "2022-10-19T06:45:31.991Z"
   },
   {
    "duration": 256,
    "start_time": "2022-10-19T06:45:32.234Z"
   },
   {
    "duration": 143,
    "start_time": "2022-10-19T06:45:32.492Z"
   },
   {
    "duration": 221,
    "start_time": "2022-10-19T06:45:32.637Z"
   },
   {
    "duration": 278,
    "start_time": "2022-10-19T06:45:32.860Z"
   },
   {
    "duration": 198,
    "start_time": "2022-10-19T06:45:33.140Z"
   },
   {
    "duration": 184,
    "start_time": "2022-10-19T06:45:33.340Z"
   },
   {
    "duration": 186,
    "start_time": "2022-10-19T06:45:33.526Z"
   },
   {
    "duration": 182,
    "start_time": "2022-10-19T06:47:47.998Z"
   },
   {
    "duration": 71,
    "start_time": "2022-10-19T06:51:32.592Z"
   },
   {
    "duration": 176,
    "start_time": "2022-10-19T06:51:42.628Z"
   },
   {
    "duration": 150,
    "start_time": "2022-10-19T06:52:02.030Z"
   },
   {
    "duration": 153,
    "start_time": "2022-10-19T06:52:27.595Z"
   },
   {
    "duration": 154,
    "start_time": "2022-10-19T06:52:44.055Z"
   },
   {
    "duration": 251,
    "start_time": "2022-10-19T06:52:53.800Z"
   },
   {
    "duration": 18,
    "start_time": "2022-10-19T07:03:03.993Z"
   },
   {
    "duration": 540,
    "start_time": "2022-10-19T07:04:48.811Z"
   },
   {
    "duration": 167,
    "start_time": "2022-10-19T07:05:14.301Z"
   },
   {
    "duration": 13,
    "start_time": "2022-10-19T07:05:46.338Z"
   },
   {
    "duration": 167,
    "start_time": "2022-10-19T07:06:26.302Z"
   },
   {
    "duration": 72,
    "start_time": "2022-10-19T07:08:56.781Z"
   },
   {
    "duration": 136,
    "start_time": "2022-10-19T07:09:03.938Z"
   },
   {
    "duration": 120,
    "start_time": "2022-10-19T07:09:09.982Z"
   },
   {
    "duration": 137,
    "start_time": "2022-10-19T07:09:22.542Z"
   },
   {
    "duration": 134,
    "start_time": "2022-10-19T07:09:30.105Z"
   },
   {
    "duration": 118,
    "start_time": "2022-10-19T07:09:35.341Z"
   },
   {
    "duration": 115,
    "start_time": "2022-10-19T07:09:42.611Z"
   },
   {
    "duration": 141,
    "start_time": "2022-10-19T07:10:10.636Z"
   },
   {
    "duration": 216,
    "start_time": "2022-10-19T07:10:25.376Z"
   },
   {
    "duration": 635,
    "start_time": "2022-10-19T07:16:06.456Z"
   },
   {
    "duration": 103,
    "start_time": "2022-10-19T07:20:27.778Z"
   },
   {
    "duration": 79,
    "start_time": "2022-10-19T07:20:56.457Z"
   },
   {
    "duration": 77,
    "start_time": "2022-10-19T07:21:21.269Z"
   },
   {
    "duration": 66,
    "start_time": "2022-10-19T07:21:40.805Z"
   },
   {
    "duration": 87,
    "start_time": "2022-10-19T07:23:00.527Z"
   },
   {
    "duration": 88,
    "start_time": "2022-10-19T07:24:13.459Z"
   },
   {
    "duration": 69,
    "start_time": "2022-10-19T07:24:48.612Z"
   },
   {
    "duration": 616,
    "start_time": "2022-10-19T07:25:18.250Z"
   },
   {
    "duration": 560,
    "start_time": "2022-10-19T07:25:31.234Z"
   },
   {
    "duration": 214,
    "start_time": "2022-10-19T07:26:16.834Z"
   },
   {
    "duration": 2687,
    "start_time": "2022-10-19T07:31:54.507Z"
   },
   {
    "duration": 7,
    "start_time": "2022-10-19T07:31:57.196Z"
   },
   {
    "duration": 3,
    "start_time": "2022-10-19T07:31:57.204Z"
   },
   {
    "duration": 7,
    "start_time": "2022-10-19T07:31:57.209Z"
   },
   {
    "duration": 11,
    "start_time": "2022-10-19T07:31:57.218Z"
   },
   {
    "duration": 56,
    "start_time": "2022-10-19T07:31:57.231Z"
   },
   {
    "duration": 6,
    "start_time": "2022-10-19T07:31:57.288Z"
   },
   {
    "duration": 11,
    "start_time": "2022-10-19T07:31:57.295Z"
   },
   {
    "duration": 7,
    "start_time": "2022-10-19T07:31:57.308Z"
   },
   {
    "duration": 10,
    "start_time": "2022-10-19T07:31:57.316Z"
   },
   {
    "duration": 20,
    "start_time": "2022-10-19T07:31:57.328Z"
   },
   {
    "duration": 6,
    "start_time": "2022-10-19T07:31:57.350Z"
   },
   {
    "duration": 8,
    "start_time": "2022-10-19T07:31:57.357Z"
   },
   {
    "duration": 310,
    "start_time": "2022-10-19T07:31:57.367Z"
   },
   {
    "duration": 10,
    "start_time": "2022-10-19T07:31:57.678Z"
   },
   {
    "duration": 12,
    "start_time": "2022-10-19T07:31:57.689Z"
   },
   {
    "duration": 9,
    "start_time": "2022-10-19T07:31:57.702Z"
   },
   {
    "duration": 10,
    "start_time": "2022-10-19T07:31:57.712Z"
   },
   {
    "duration": 8,
    "start_time": "2022-10-19T07:31:57.724Z"
   },
   {
    "duration": 4,
    "start_time": "2022-10-19T07:31:57.734Z"
   },
   {
    "duration": 3,
    "start_time": "2022-10-19T07:31:57.740Z"
   },
   {
    "duration": 8,
    "start_time": "2022-10-19T07:31:57.745Z"
   },
   {
    "duration": 5,
    "start_time": "2022-10-19T07:31:57.784Z"
   },
   {
    "duration": 4,
    "start_time": "2022-10-19T07:31:57.791Z"
   },
   {
    "duration": 7,
    "start_time": "2022-10-19T07:31:57.796Z"
   },
   {
    "duration": 12,
    "start_time": "2022-10-19T07:31:57.805Z"
   },
   {
    "duration": 10,
    "start_time": "2022-10-19T07:31:57.819Z"
   },
   {
    "duration": 7,
    "start_time": "2022-10-19T07:31:57.831Z"
   },
   {
    "duration": 10,
    "start_time": "2022-10-19T07:31:57.840Z"
   },
   {
    "duration": 41,
    "start_time": "2022-10-19T07:31:57.852Z"
   },
   {
    "duration": 5,
    "start_time": "2022-10-19T07:31:57.895Z"
   },
   {
    "duration": 439,
    "start_time": "2022-10-19T07:31:57.901Z"
   },
   {
    "duration": 303,
    "start_time": "2022-10-19T07:31:58.342Z"
   },
   {
    "duration": 369,
    "start_time": "2022-10-19T07:31:58.647Z"
   },
   {
    "duration": 481,
    "start_time": "2022-10-19T07:31:59.017Z"
   },
   {
    "duration": 387,
    "start_time": "2022-10-19T07:31:59.499Z"
   },
   {
    "duration": 262,
    "start_time": "2022-10-19T07:31:59.887Z"
   },
   {
    "duration": 328,
    "start_time": "2022-10-19T07:32:00.151Z"
   },
   {
    "duration": 141,
    "start_time": "2022-10-19T07:32:00.484Z"
   },
   {
    "duration": 263,
    "start_time": "2022-10-19T07:32:00.627Z"
   },
   {
    "duration": 271,
    "start_time": "2022-10-19T07:32:00.894Z"
   },
   {
    "duration": 268,
    "start_time": "2022-10-19T07:32:01.167Z"
   },
   {
    "duration": 259,
    "start_time": "2022-10-19T07:32:01.436Z"
   },
   {
    "duration": 156,
    "start_time": "2022-10-19T07:32:01.697Z"
   },
   {
    "duration": 236,
    "start_time": "2022-10-19T07:32:01.855Z"
   },
   {
    "duration": 263,
    "start_time": "2022-10-19T07:32:02.092Z"
   },
   {
    "duration": 187,
    "start_time": "2022-10-19T07:32:02.357Z"
   },
   {
    "duration": 192,
    "start_time": "2022-10-19T07:32:02.546Z"
   },
   {
    "duration": 188,
    "start_time": "2022-10-19T07:32:02.739Z"
   },
   {
    "duration": 192,
    "start_time": "2022-10-19T07:32:02.928Z"
   },
   {
    "duration": 168,
    "start_time": "2022-10-19T07:32:03.121Z"
   },
   {
    "duration": 552,
    "start_time": "2022-10-19T07:32:03.291Z"
   },
   {
    "duration": 7,
    "start_time": "2022-10-19T07:35:19.292Z"
   },
   {
    "duration": 7,
    "start_time": "2022-10-19T07:35:31.073Z"
   },
   {
    "duration": 83,
    "start_time": "2022-10-19T07:41:08.669Z"
   },
   {
    "duration": 9,
    "start_time": "2022-10-19T07:41:29.601Z"
   },
   {
    "duration": 9,
    "start_time": "2022-10-19T07:41:47.870Z"
   },
   {
    "duration": 9,
    "start_time": "2022-10-19T07:42:24.477Z"
   },
   {
    "duration": 10,
    "start_time": "2022-10-19T07:43:07.476Z"
   },
   {
    "duration": 72,
    "start_time": "2022-10-19T07:46:28.831Z"
   },
   {
    "duration": 67,
    "start_time": "2022-10-19T07:46:49.993Z"
   },
   {
    "duration": 105,
    "start_time": "2022-10-19T07:47:04.556Z"
   },
   {
    "duration": 34,
    "start_time": "2022-10-19T07:50:42.272Z"
   },
   {
    "duration": 15,
    "start_time": "2022-10-19T07:51:12.134Z"
   },
   {
    "duration": 18,
    "start_time": "2022-10-19T07:51:22.364Z"
   },
   {
    "duration": 6,
    "start_time": "2022-10-19T07:52:11.410Z"
   },
   {
    "duration": 17,
    "start_time": "2022-10-19T07:54:07.254Z"
   },
   {
    "duration": 15,
    "start_time": "2022-10-19T08:04:16.246Z"
   },
   {
    "duration": 23,
    "start_time": "2022-10-19T08:04:57.961Z"
   },
   {
    "duration": 26,
    "start_time": "2022-10-19T08:05:58.486Z"
   },
   {
    "duration": 24,
    "start_time": "2022-10-19T08:07:02.094Z"
   },
   {
    "duration": 2549,
    "start_time": "2022-10-19T08:24:27.181Z"
   },
   {
    "duration": 7,
    "start_time": "2022-10-19T08:24:29.732Z"
   },
   {
    "duration": 5,
    "start_time": "2022-10-19T08:24:29.740Z"
   },
   {
    "duration": 18,
    "start_time": "2022-10-19T08:24:29.747Z"
   },
   {
    "duration": 13,
    "start_time": "2022-10-19T08:24:29.766Z"
   },
   {
    "duration": 35,
    "start_time": "2022-10-19T08:24:29.781Z"
   },
   {
    "duration": 6,
    "start_time": "2022-10-19T08:24:29.817Z"
   },
   {
    "duration": 12,
    "start_time": "2022-10-19T08:24:29.825Z"
   },
   {
    "duration": 9,
    "start_time": "2022-10-19T08:24:29.838Z"
   },
   {
    "duration": 8,
    "start_time": "2022-10-19T08:24:29.850Z"
   },
   {
    "duration": 32,
    "start_time": "2022-10-19T08:24:29.860Z"
   },
   {
    "duration": 6,
    "start_time": "2022-10-19T08:24:29.893Z"
   },
   {
    "duration": 9,
    "start_time": "2022-10-19T08:24:29.901Z"
   },
   {
    "duration": 294,
    "start_time": "2022-10-19T08:24:29.911Z"
   },
   {
    "duration": 6,
    "start_time": "2022-10-19T08:24:30.206Z"
   },
   {
    "duration": 12,
    "start_time": "2022-10-19T08:24:30.213Z"
   },
   {
    "duration": 8,
    "start_time": "2022-10-19T08:24:30.226Z"
   },
   {
    "duration": 9,
    "start_time": "2022-10-19T08:24:30.235Z"
   },
   {
    "duration": 9,
    "start_time": "2022-10-19T08:24:30.245Z"
   },
   {
    "duration": 29,
    "start_time": "2022-10-19T08:24:30.256Z"
   },
   {
    "duration": 4,
    "start_time": "2022-10-19T08:24:30.287Z"
   },
   {
    "duration": 18,
    "start_time": "2022-10-19T08:24:30.292Z"
   },
   {
    "duration": 13,
    "start_time": "2022-10-19T08:24:30.311Z"
   },
   {
    "duration": 9,
    "start_time": "2022-10-19T08:24:30.326Z"
   },
   {
    "duration": 13,
    "start_time": "2022-10-19T08:24:30.337Z"
   },
   {
    "duration": 23,
    "start_time": "2022-10-19T08:24:30.352Z"
   },
   {
    "duration": 20,
    "start_time": "2022-10-19T08:24:30.377Z"
   },
   {
    "duration": 9,
    "start_time": "2022-10-19T08:24:30.400Z"
   },
   {
    "duration": 7,
    "start_time": "2022-10-19T08:24:30.410Z"
   },
   {
    "duration": 17,
    "start_time": "2022-10-19T08:24:30.418Z"
   },
   {
    "duration": 17,
    "start_time": "2022-10-19T08:24:30.436Z"
   },
   {
    "duration": 440,
    "start_time": "2022-10-19T08:24:30.455Z"
   },
   {
    "duration": 291,
    "start_time": "2022-10-19T08:24:30.897Z"
   },
   {
    "duration": 369,
    "start_time": "2022-10-19T08:24:31.190Z"
   },
   {
    "duration": 460,
    "start_time": "2022-10-19T08:24:31.561Z"
   },
   {
    "duration": 367,
    "start_time": "2022-10-19T08:24:32.023Z"
   },
   {
    "duration": 258,
    "start_time": "2022-10-19T08:24:32.391Z"
   },
   {
    "duration": 316,
    "start_time": "2022-10-19T08:24:32.650Z"
   },
   {
    "duration": 136,
    "start_time": "2022-10-19T08:24:32.967Z"
   },
   {
    "duration": 250,
    "start_time": "2022-10-19T08:24:33.104Z"
   },
   {
    "duration": 265,
    "start_time": "2022-10-19T08:24:33.355Z"
   },
   {
    "duration": 266,
    "start_time": "2022-10-19T08:24:33.621Z"
   },
   {
    "duration": 254,
    "start_time": "2022-10-19T08:24:33.889Z"
   },
   {
    "duration": 153,
    "start_time": "2022-10-19T08:24:34.144Z"
   },
   {
    "duration": 230,
    "start_time": "2022-10-19T08:24:34.298Z"
   },
   {
    "duration": 281,
    "start_time": "2022-10-19T08:24:34.530Z"
   },
   {
    "duration": 214,
    "start_time": "2022-10-19T08:24:34.813Z"
   },
   {
    "duration": 204,
    "start_time": "2022-10-19T08:24:35.028Z"
   },
   {
    "duration": 189,
    "start_time": "2022-10-19T08:24:35.234Z"
   },
   {
    "duration": 191,
    "start_time": "2022-10-19T08:24:35.425Z"
   },
   {
    "duration": 169,
    "start_time": "2022-10-19T08:24:35.618Z"
   },
   {
    "duration": 550,
    "start_time": "2022-10-19T08:24:35.789Z"
   },
   {
    "duration": 24,
    "start_time": "2022-10-19T08:24:36.341Z"
   },
   {
    "duration": 35,
    "start_time": "2022-10-19T08:25:04.212Z"
   },
   {
    "duration": 22,
    "start_time": "2022-10-19T08:26:03.236Z"
   },
   {
    "duration": 23,
    "start_time": "2022-10-19T08:26:48.669Z"
   },
   {
    "duration": 22,
    "start_time": "2022-10-19T08:27:07.594Z"
   },
   {
    "duration": 152,
    "start_time": "2022-10-19T08:35:41.643Z"
   },
   {
    "duration": 22,
    "start_time": "2022-10-19T08:36:00.704Z"
   },
   {
    "duration": 8,
    "start_time": "2022-10-19T08:38:05.102Z"
   },
   {
    "duration": 8,
    "start_time": "2022-10-19T08:38:11.204Z"
   },
   {
    "duration": 64,
    "start_time": "2022-10-19T08:38:22.050Z"
   },
   {
    "duration": 9,
    "start_time": "2022-10-19T08:38:52.239Z"
   },
   {
    "duration": 7,
    "start_time": "2022-10-19T08:39:15.436Z"
   },
   {
    "duration": 6,
    "start_time": "2022-10-19T08:40:09.927Z"
   },
   {
    "duration": 23,
    "start_time": "2022-10-19T08:41:01.523Z"
   },
   {
    "duration": 19,
    "start_time": "2022-10-19T08:41:12.878Z"
   },
   {
    "duration": 15,
    "start_time": "2022-10-19T08:41:20.739Z"
   },
   {
    "duration": 19,
    "start_time": "2022-10-19T08:41:31.940Z"
   },
   {
    "duration": 21,
    "start_time": "2022-10-19T08:41:40.436Z"
   },
   {
    "duration": 22,
    "start_time": "2022-10-19T08:41:50.563Z"
   },
   {
    "duration": 24,
    "start_time": "2022-10-19T08:44:53.433Z"
   },
   {
    "duration": 8,
    "start_time": "2022-10-19T08:45:51.364Z"
   },
   {
    "duration": 11,
    "start_time": "2022-10-19T08:46:20.570Z"
   },
   {
    "duration": 8,
    "start_time": "2022-10-19T08:46:44.963Z"
   },
   {
    "duration": 7,
    "start_time": "2022-10-19T08:47:06.619Z"
   },
   {
    "duration": 8,
    "start_time": "2022-10-19T08:47:22.537Z"
   },
   {
    "duration": 8,
    "start_time": "2022-10-19T08:47:31.983Z"
   },
   {
    "duration": 29,
    "start_time": "2022-10-19T08:48:41.095Z"
   },
   {
    "duration": 32,
    "start_time": "2022-10-19T08:49:01.734Z"
   },
   {
    "duration": 30,
    "start_time": "2022-10-19T08:49:32.966Z"
   },
   {
    "duration": 26,
    "start_time": "2022-10-19T08:52:13.144Z"
   },
   {
    "duration": 27,
    "start_time": "2022-10-19T08:53:30.464Z"
   },
   {
    "duration": 4,
    "start_time": "2022-10-19T10:07:01.806Z"
   },
   {
    "duration": 55,
    "start_time": "2022-10-19T10:09:56.299Z"
   },
   {
    "duration": 3372,
    "start_time": "2022-10-19T10:10:05.313Z"
   },
   {
    "duration": 9,
    "start_time": "2022-10-19T10:10:08.687Z"
   },
   {
    "duration": 17,
    "start_time": "2022-10-19T10:10:08.698Z"
   },
   {
    "duration": 11,
    "start_time": "2022-10-19T10:10:08.717Z"
   },
   {
    "duration": 30,
    "start_time": "2022-10-19T10:10:08.730Z"
   },
   {
    "duration": 49,
    "start_time": "2022-10-19T10:10:08.762Z"
   },
   {
    "duration": 6,
    "start_time": "2022-10-19T10:10:08.812Z"
   },
   {
    "duration": 34,
    "start_time": "2022-10-19T10:10:08.820Z"
   },
   {
    "duration": 7,
    "start_time": "2022-10-19T10:10:08.856Z"
   },
   {
    "duration": 42,
    "start_time": "2022-10-19T10:10:08.866Z"
   },
   {
    "duration": 40,
    "start_time": "2022-10-19T10:10:08.909Z"
   },
   {
    "duration": 14,
    "start_time": "2022-10-19T10:10:08.951Z"
   },
   {
    "duration": 30,
    "start_time": "2022-10-19T10:10:08.968Z"
   },
   {
    "duration": 419,
    "start_time": "2022-10-19T10:10:09.002Z"
   },
   {
    "duration": 9,
    "start_time": "2022-10-19T10:10:09.429Z"
   },
   {
    "duration": 24,
    "start_time": "2022-10-19T10:10:09.440Z"
   },
   {
    "duration": 13,
    "start_time": "2022-10-19T10:10:09.466Z"
   },
   {
    "duration": 10,
    "start_time": "2022-10-19T10:10:09.481Z"
   },
   {
    "duration": 8,
    "start_time": "2022-10-19T10:10:09.492Z"
   },
   {
    "duration": 26,
    "start_time": "2022-10-19T10:10:09.501Z"
   },
   {
    "duration": 19,
    "start_time": "2022-10-19T10:10:09.529Z"
   },
   {
    "duration": 11,
    "start_time": "2022-10-19T10:10:09.550Z"
   },
   {
    "duration": 18,
    "start_time": "2022-10-19T10:10:09.563Z"
   },
   {
    "duration": 9,
    "start_time": "2022-10-19T10:10:09.583Z"
   },
   {
    "duration": 22,
    "start_time": "2022-10-19T10:10:09.594Z"
   },
   {
    "duration": 19,
    "start_time": "2022-10-19T10:10:09.617Z"
   },
   {
    "duration": 12,
    "start_time": "2022-10-19T10:10:09.638Z"
   },
   {
    "duration": 8,
    "start_time": "2022-10-19T10:10:09.652Z"
   },
   {
    "duration": 10,
    "start_time": "2022-10-19T10:10:09.662Z"
   },
   {
    "duration": 15,
    "start_time": "2022-10-19T10:10:09.673Z"
   },
   {
    "duration": 6,
    "start_time": "2022-10-19T10:10:09.690Z"
   },
   {
    "duration": 525,
    "start_time": "2022-10-19T10:10:09.723Z"
   },
   {
    "duration": 347,
    "start_time": "2022-10-19T10:10:10.249Z"
   },
   {
    "duration": 462,
    "start_time": "2022-10-19T10:10:10.598Z"
   },
   {
    "duration": 570,
    "start_time": "2022-10-19T10:10:11.062Z"
   },
   {
    "duration": 529,
    "start_time": "2022-10-19T10:10:11.635Z"
   },
   {
    "duration": 336,
    "start_time": "2022-10-19T10:10:12.166Z"
   },
   {
    "duration": 396,
    "start_time": "2022-10-19T10:10:12.504Z"
   },
   {
    "duration": 170,
    "start_time": "2022-10-19T10:10:12.902Z"
   },
   {
    "duration": 308,
    "start_time": "2022-10-19T10:10:13.074Z"
   },
   {
    "duration": 326,
    "start_time": "2022-10-19T10:10:13.386Z"
   },
   {
    "duration": 311,
    "start_time": "2022-10-19T10:10:13.714Z"
   },
   {
    "duration": 328,
    "start_time": "2022-10-19T10:10:14.028Z"
   },
   {
    "duration": 186,
    "start_time": "2022-10-19T10:10:14.358Z"
   },
   {
    "duration": 290,
    "start_time": "2022-10-19T10:10:14.546Z"
   },
   {
    "duration": 340,
    "start_time": "2022-10-19T10:10:14.838Z"
   },
   {
    "duration": 231,
    "start_time": "2022-10-19T10:10:15.180Z"
   },
   {
    "duration": 247,
    "start_time": "2022-10-19T10:10:15.413Z"
   },
   {
    "duration": 268,
    "start_time": "2022-10-19T10:10:15.662Z"
   },
   {
    "duration": 255,
    "start_time": "2022-10-19T10:10:15.933Z"
   },
   {
    "duration": 210,
    "start_time": "2022-10-19T10:10:16.190Z"
   },
   {
    "duration": 689,
    "start_time": "2022-10-19T10:10:16.402Z"
   },
   {
    "duration": 9,
    "start_time": "2022-10-19T10:10:17.093Z"
   },
   {
    "duration": 40,
    "start_time": "2022-10-19T10:10:17.121Z"
   },
   {
    "duration": 4,
    "start_time": "2022-10-19T10:10:37.853Z"
   },
   {
    "duration": 4,
    "start_time": "2022-10-19T10:11:01.590Z"
   },
   {
    "duration": 3,
    "start_time": "2022-10-19T10:11:04.658Z"
   },
   {
    "duration": 3166,
    "start_time": "2022-10-19T10:11:27.546Z"
   },
   {
    "duration": 13,
    "start_time": "2022-10-19T10:11:30.714Z"
   },
   {
    "duration": 64,
    "start_time": "2022-10-19T10:11:30.733Z"
   },
   {
    "duration": 47,
    "start_time": "2022-10-19T10:11:30.800Z"
   },
   {
    "duration": 95,
    "start_time": "2022-10-19T10:11:30.850Z"
   },
   {
    "duration": 89,
    "start_time": "2022-10-19T10:11:30.947Z"
   },
   {
    "duration": 19,
    "start_time": "2022-10-19T10:11:31.038Z"
   },
   {
    "duration": 49,
    "start_time": "2022-10-19T10:11:31.059Z"
   },
   {
    "duration": 133,
    "start_time": "2022-10-19T10:11:31.110Z"
   },
   {
    "duration": 46,
    "start_time": "2022-10-19T10:11:31.244Z"
   },
   {
    "duration": 76,
    "start_time": "2022-10-19T10:11:31.292Z"
   },
   {
    "duration": 21,
    "start_time": "2022-10-19T10:11:31.370Z"
   },
   {
    "duration": 38,
    "start_time": "2022-10-19T10:11:31.393Z"
   },
   {
    "duration": 475,
    "start_time": "2022-10-19T10:11:31.435Z"
   },
   {
    "duration": 17,
    "start_time": "2022-10-19T10:11:31.913Z"
   },
   {
    "duration": 44,
    "start_time": "2022-10-19T10:11:31.932Z"
   },
   {
    "duration": 34,
    "start_time": "2022-10-19T10:11:31.978Z"
   },
   {
    "duration": 33,
    "start_time": "2022-10-19T10:11:32.014Z"
   },
   {
    "duration": 41,
    "start_time": "2022-10-19T10:11:32.050Z"
   },
   {
    "duration": 52,
    "start_time": "2022-10-19T10:11:32.093Z"
   },
   {
    "duration": 39,
    "start_time": "2022-10-19T10:11:32.147Z"
   },
   {
    "duration": 61,
    "start_time": "2022-10-19T10:11:32.188Z"
   },
   {
    "duration": 55,
    "start_time": "2022-10-19T10:11:32.251Z"
   },
   {
    "duration": 48,
    "start_time": "2022-10-19T10:11:32.308Z"
   },
   {
    "duration": 80,
    "start_time": "2022-10-19T10:11:32.358Z"
   },
   {
    "duration": 38,
    "start_time": "2022-10-19T10:11:32.440Z"
   },
   {
    "duration": 78,
    "start_time": "2022-10-19T10:11:32.480Z"
   },
   {
    "duration": 38,
    "start_time": "2022-10-19T10:11:32.560Z"
   },
   {
    "duration": 17,
    "start_time": "2022-10-19T10:11:32.601Z"
   },
   {
    "duration": 53,
    "start_time": "2022-10-19T10:11:32.620Z"
   },
   {
    "duration": 45,
    "start_time": "2022-10-19T10:11:32.675Z"
   },
   {
    "duration": 592,
    "start_time": "2022-10-19T10:11:32.723Z"
   },
   {
    "duration": 350,
    "start_time": "2022-10-19T10:11:33.321Z"
   },
   {
    "duration": 466,
    "start_time": "2022-10-19T10:11:33.673Z"
   },
   {
    "duration": 540,
    "start_time": "2022-10-19T10:11:34.140Z"
   },
   {
    "duration": 484,
    "start_time": "2022-10-19T10:11:34.682Z"
   },
   {
    "duration": 323,
    "start_time": "2022-10-19T10:11:35.168Z"
   },
   {
    "duration": 396,
    "start_time": "2022-10-19T10:11:35.494Z"
   },
   {
    "duration": 175,
    "start_time": "2022-10-19T10:11:35.892Z"
   },
   {
    "duration": 320,
    "start_time": "2022-10-19T10:11:36.069Z"
   },
   {
    "duration": 335,
    "start_time": "2022-10-19T10:11:36.392Z"
   },
   {
    "duration": 312,
    "start_time": "2022-10-19T10:11:36.730Z"
   },
   {
    "duration": 316,
    "start_time": "2022-10-19T10:11:37.043Z"
   },
   {
    "duration": 196,
    "start_time": "2022-10-19T10:11:37.361Z"
   },
   {
    "duration": 291,
    "start_time": "2022-10-19T10:11:37.559Z"
   },
   {
    "duration": 335,
    "start_time": "2022-10-19T10:11:37.852Z"
   },
   {
    "duration": 223,
    "start_time": "2022-10-19T10:11:38.189Z"
   },
   {
    "duration": 261,
    "start_time": "2022-10-19T10:11:38.414Z"
   },
   {
    "duration": 241,
    "start_time": "2022-10-19T10:11:38.677Z"
   },
   {
    "duration": 267,
    "start_time": "2022-10-19T10:11:38.923Z"
   },
   {
    "duration": 247,
    "start_time": "2022-10-19T10:11:39.193Z"
   },
   {
    "duration": 699,
    "start_time": "2022-10-19T10:11:39.442Z"
   },
   {
    "duration": 3,
    "start_time": "2022-10-19T10:11:40.143Z"
   },
   {
    "duration": 64,
    "start_time": "2022-10-19T10:11:40.147Z"
   },
   {
    "duration": 13,
    "start_time": "2022-10-19T10:14:10.601Z"
   },
   {
    "duration": 13,
    "start_time": "2022-10-19T10:14:27.359Z"
   },
   {
    "duration": 14,
    "start_time": "2022-10-19T10:14:36.050Z"
   },
   {
    "duration": 18,
    "start_time": "2022-10-19T10:15:09.153Z"
   },
   {
    "duration": 82,
    "start_time": "2022-10-19T10:15:44.836Z"
   },
   {
    "duration": 17,
    "start_time": "2022-10-19T10:20:02.294Z"
   },
   {
    "duration": 15,
    "start_time": "2022-10-19T10:20:26.744Z"
   },
   {
    "duration": 12,
    "start_time": "2022-10-19T10:22:02.940Z"
   },
   {
    "duration": 73,
    "start_time": "2022-10-19T10:23:03.621Z"
   },
   {
    "duration": 44,
    "start_time": "2022-10-19T10:23:25.929Z"
   },
   {
    "duration": 51,
    "start_time": "2022-10-19T10:23:45.791Z"
   },
   {
    "duration": 11,
    "start_time": "2022-10-19T10:24:35.128Z"
   },
   {
    "duration": 22,
    "start_time": "2022-10-19T10:27:59.172Z"
   },
   {
    "duration": 18,
    "start_time": "2022-10-19T10:28:51.280Z"
   },
   {
    "duration": 12,
    "start_time": "2022-10-19T10:29:11.099Z"
   },
   {
    "duration": 375,
    "start_time": "2022-10-19T10:32:17.724Z"
   },
   {
    "duration": 8,
    "start_time": "2022-10-19T10:32:23.669Z"
   },
   {
    "duration": 3025,
    "start_time": "2022-10-19T10:32:33.216Z"
   },
   {
    "duration": 9,
    "start_time": "2022-10-19T10:32:36.243Z"
   },
   {
    "duration": 5,
    "start_time": "2022-10-19T10:32:36.254Z"
   },
   {
    "duration": 8,
    "start_time": "2022-10-19T10:32:36.261Z"
   },
   {
    "duration": 20,
    "start_time": "2022-10-19T10:32:36.272Z"
   },
   {
    "duration": 45,
    "start_time": "2022-10-19T10:32:36.294Z"
   },
   {
    "duration": 7,
    "start_time": "2022-10-19T10:32:36.341Z"
   },
   {
    "duration": 24,
    "start_time": "2022-10-19T10:32:36.350Z"
   },
   {
    "duration": 7,
    "start_time": "2022-10-19T10:32:36.376Z"
   },
   {
    "duration": 13,
    "start_time": "2022-10-19T10:32:36.384Z"
   },
   {
    "duration": 50,
    "start_time": "2022-10-19T10:32:36.399Z"
   },
   {
    "duration": 10,
    "start_time": "2022-10-19T10:32:36.451Z"
   },
   {
    "duration": 15,
    "start_time": "2022-10-19T10:32:36.463Z"
   },
   {
    "duration": 377,
    "start_time": "2022-10-19T10:32:36.482Z"
   },
   {
    "duration": 7,
    "start_time": "2022-10-19T10:32:36.861Z"
   },
   {
    "duration": 23,
    "start_time": "2022-10-19T10:32:36.870Z"
   },
   {
    "duration": 25,
    "start_time": "2022-10-19T10:32:36.895Z"
   },
   {
    "duration": 10,
    "start_time": "2022-10-19T10:32:36.923Z"
   },
   {
    "duration": 16,
    "start_time": "2022-10-19T10:32:36.934Z"
   },
   {
    "duration": 11,
    "start_time": "2022-10-19T10:32:36.953Z"
   },
   {
    "duration": 9,
    "start_time": "2022-10-19T10:32:36.966Z"
   },
   {
    "duration": 12,
    "start_time": "2022-10-19T10:32:36.977Z"
   },
   {
    "duration": 13,
    "start_time": "2022-10-19T10:32:36.991Z"
   },
   {
    "duration": 4,
    "start_time": "2022-10-19T10:32:37.021Z"
   },
   {
    "duration": 13,
    "start_time": "2022-10-19T10:32:37.027Z"
   },
   {
    "duration": 15,
    "start_time": "2022-10-19T10:32:37.042Z"
   },
   {
    "duration": 14,
    "start_time": "2022-10-19T10:32:37.059Z"
   },
   {
    "duration": 8,
    "start_time": "2022-10-19T10:32:37.075Z"
   },
   {
    "duration": 8,
    "start_time": "2022-10-19T10:32:37.084Z"
   },
   {
    "duration": 49,
    "start_time": "2022-10-19T10:32:37.093Z"
   },
   {
    "duration": 13,
    "start_time": "2022-10-19T10:32:37.144Z"
   },
   {
    "duration": 529,
    "start_time": "2022-10-19T10:32:37.159Z"
   },
   {
    "duration": 365,
    "start_time": "2022-10-19T10:32:37.692Z"
   },
   {
    "duration": 466,
    "start_time": "2022-10-19T10:32:38.059Z"
   },
   {
    "duration": 620,
    "start_time": "2022-10-19T10:32:38.527Z"
   },
   {
    "duration": 452,
    "start_time": "2022-10-19T10:32:39.149Z"
   },
   {
    "duration": 332,
    "start_time": "2022-10-19T10:32:39.603Z"
   },
   {
    "duration": 386,
    "start_time": "2022-10-19T10:32:39.937Z"
   },
   {
    "duration": 164,
    "start_time": "2022-10-19T10:32:40.325Z"
   },
   {
    "duration": 287,
    "start_time": "2022-10-19T10:32:40.490Z"
   },
   {
    "duration": 321,
    "start_time": "2022-10-19T10:32:40.782Z"
   },
   {
    "duration": 296,
    "start_time": "2022-10-19T10:32:41.105Z"
   },
   {
    "duration": 323,
    "start_time": "2022-10-19T10:32:41.403Z"
   },
   {
    "duration": 198,
    "start_time": "2022-10-19T10:32:41.729Z"
   },
   {
    "duration": 271,
    "start_time": "2022-10-19T10:32:41.928Z"
   },
   {
    "duration": 321,
    "start_time": "2022-10-19T10:32:42.201Z"
   },
   {
    "duration": 235,
    "start_time": "2022-10-19T10:32:42.524Z"
   },
   {
    "duration": 258,
    "start_time": "2022-10-19T10:32:42.761Z"
   },
   {
    "duration": 232,
    "start_time": "2022-10-19T10:32:43.020Z"
   },
   {
    "duration": 239,
    "start_time": "2022-10-19T10:32:43.254Z"
   },
   {
    "duration": 195,
    "start_time": "2022-10-19T10:32:43.495Z"
   },
   {
    "duration": 653,
    "start_time": "2022-10-19T10:32:43.692Z"
   },
   {
    "duration": 3,
    "start_time": "2022-10-19T10:32:44.347Z"
   },
   {
    "duration": 58,
    "start_time": "2022-10-19T10:32:44.352Z"
   },
   {
    "duration": 107,
    "start_time": "2022-10-19T10:34:57.770Z"
   },
   {
    "duration": 22,
    "start_time": "2022-10-19T10:35:21.910Z"
   },
   {
    "duration": 32,
    "start_time": "2022-10-19T10:35:49.103Z"
   },
   {
    "duration": 116,
    "start_time": "2022-10-19T10:38:30.814Z"
   },
   {
    "duration": 21,
    "start_time": "2022-10-19T10:39:44.090Z"
   },
   {
    "duration": 25,
    "start_time": "2022-10-19T10:40:10.424Z"
   },
   {
    "duration": 21,
    "start_time": "2022-10-19T10:41:27.379Z"
   },
   {
    "duration": 22,
    "start_time": "2022-10-19T10:41:51.224Z"
   },
   {
    "duration": 24,
    "start_time": "2022-10-19T10:42:19.224Z"
   },
   {
    "duration": 25,
    "start_time": "2022-10-19T10:43:39.456Z"
   },
   {
    "duration": 28,
    "start_time": "2022-10-19T10:44:09.963Z"
   },
   {
    "duration": 24,
    "start_time": "2022-10-19T10:44:19.394Z"
   },
   {
    "duration": 25,
    "start_time": "2022-10-19T10:46:03.418Z"
   },
   {
    "duration": 24,
    "start_time": "2022-10-19T10:46:22.755Z"
   },
   {
    "duration": 25,
    "start_time": "2022-10-19T10:47:30.525Z"
   },
   {
    "duration": 32,
    "start_time": "2022-10-19T10:48:39.496Z"
   },
   {
    "duration": 29,
    "start_time": "2022-10-19T10:48:51.526Z"
   },
   {
    "duration": 34,
    "start_time": "2022-10-19T10:49:01.641Z"
   },
   {
    "duration": 24,
    "start_time": "2022-10-19T10:49:11.776Z"
   },
   {
    "duration": 27,
    "start_time": "2022-10-19T10:49:50.230Z"
   },
   {
    "duration": 27,
    "start_time": "2022-10-19T10:49:58.668Z"
   },
   {
    "duration": 30,
    "start_time": "2022-10-19T10:50:05.381Z"
   },
   {
    "duration": 339,
    "start_time": "2022-10-19T11:02:38.614Z"
   },
   {
    "duration": 1085,
    "start_time": "2022-10-19T11:06:50.197Z"
   },
   {
    "duration": 17,
    "start_time": "2022-10-19T11:07:19.013Z"
   },
   {
    "duration": 12,
    "start_time": "2022-10-19T11:12:27.169Z"
   },
   {
    "duration": 9,
    "start_time": "2022-10-19T11:12:37.927Z"
   },
   {
    "duration": 161,
    "start_time": "2022-10-19T11:13:00.091Z"
   },
   {
    "duration": 150,
    "start_time": "2022-10-19T11:13:21.065Z"
   },
   {
    "duration": 143,
    "start_time": "2022-10-19T11:15:53.960Z"
   },
   {
    "duration": 153,
    "start_time": "2022-10-19T11:16:05.249Z"
   },
   {
    "duration": 11,
    "start_time": "2022-10-19T11:16:16.859Z"
   },
   {
    "duration": 12,
    "start_time": "2022-10-19T11:16:31.728Z"
   },
   {
    "duration": 19,
    "start_time": "2022-10-19T11:16:43.810Z"
   },
   {
    "duration": 18,
    "start_time": "2022-10-19T11:17:22.229Z"
   },
   {
    "duration": 19,
    "start_time": "2022-10-19T11:17:33.140Z"
   },
   {
    "duration": 152,
    "start_time": "2022-10-19T11:18:16.759Z"
   },
   {
    "duration": 153,
    "start_time": "2022-10-19T11:18:47.319Z"
   },
   {
    "duration": 157,
    "start_time": "2022-10-19T11:19:03.508Z"
   },
   {
    "duration": 341,
    "start_time": "2022-10-19T11:19:27.072Z"
   },
   {
    "duration": 19,
    "start_time": "2022-10-19T11:24:39.988Z"
   },
   {
    "duration": 378,
    "start_time": "2022-10-19T11:24:50.958Z"
   },
   {
    "duration": 149,
    "start_time": "2022-10-19T11:25:14.232Z"
   },
   {
    "duration": 422,
    "start_time": "2022-10-19T11:29:25.586Z"
   },
   {
    "duration": 210,
    "start_time": "2022-10-19T11:29:35.617Z"
   },
   {
    "duration": 148,
    "start_time": "2022-10-19T11:36:19.531Z"
   },
   {
    "duration": 150,
    "start_time": "2022-10-19T11:36:29.623Z"
   },
   {
    "duration": 150,
    "start_time": "2022-10-19T11:36:35.954Z"
   },
   {
    "duration": 152,
    "start_time": "2022-10-19T11:40:10.662Z"
   },
   {
    "duration": 172,
    "start_time": "2022-10-19T11:40:18.553Z"
   },
   {
    "duration": 160,
    "start_time": "2022-10-19T11:40:24.261Z"
   },
   {
    "duration": 163,
    "start_time": "2022-10-19T11:40:34.041Z"
   },
   {
    "duration": 17,
    "start_time": "2022-10-19T12:01:06.627Z"
   },
   {
    "duration": 294,
    "start_time": "2022-10-19T12:02:15.925Z"
   },
   {
    "duration": 184,
    "start_time": "2022-10-19T12:02:23.294Z"
   },
   {
    "duration": 20,
    "start_time": "2022-10-19T12:02:34.923Z"
   },
   {
    "duration": 23,
    "start_time": "2022-10-19T12:03:03.121Z"
   },
   {
    "duration": 231,
    "start_time": "2022-10-19T12:04:11.854Z"
   },
   {
    "duration": 2987,
    "start_time": "2022-10-19T12:12:55.322Z"
   },
   {
    "duration": 10,
    "start_time": "2022-10-19T12:12:58.312Z"
   },
   {
    "duration": 9,
    "start_time": "2022-10-19T12:12:58.324Z"
   },
   {
    "duration": 19,
    "start_time": "2022-10-19T12:12:58.336Z"
   },
   {
    "duration": 23,
    "start_time": "2022-10-19T12:12:58.357Z"
   },
   {
    "duration": 39,
    "start_time": "2022-10-19T12:12:58.382Z"
   },
   {
    "duration": 6,
    "start_time": "2022-10-19T12:12:58.423Z"
   },
   {
    "duration": 19,
    "start_time": "2022-10-19T12:12:58.431Z"
   },
   {
    "duration": 23,
    "start_time": "2022-10-19T12:12:58.452Z"
   },
   {
    "duration": 13,
    "start_time": "2022-10-19T12:12:58.478Z"
   },
   {
    "duration": 31,
    "start_time": "2022-10-19T12:12:58.492Z"
   },
   {
    "duration": 7,
    "start_time": "2022-10-19T12:12:58.525Z"
   },
   {
    "duration": 19,
    "start_time": "2022-10-19T12:12:58.534Z"
   },
   {
    "duration": 404,
    "start_time": "2022-10-19T12:12:58.555Z"
   },
   {
    "duration": 11,
    "start_time": "2022-10-19T12:12:58.961Z"
   },
   {
    "duration": 19,
    "start_time": "2022-10-19T12:12:58.975Z"
   },
   {
    "duration": 30,
    "start_time": "2022-10-19T12:12:58.997Z"
   },
   {
    "duration": 23,
    "start_time": "2022-10-19T12:12:59.030Z"
   },
   {
    "duration": 18,
    "start_time": "2022-10-19T12:12:59.056Z"
   },
   {
    "duration": 8,
    "start_time": "2022-10-19T12:12:59.076Z"
   },
   {
    "duration": 9,
    "start_time": "2022-10-19T12:12:59.087Z"
   },
   {
    "duration": 24,
    "start_time": "2022-10-19T12:12:59.098Z"
   },
   {
    "duration": 17,
    "start_time": "2022-10-19T12:12:59.125Z"
   },
   {
    "duration": 34,
    "start_time": "2022-10-19T12:12:59.145Z"
   },
   {
    "duration": 18,
    "start_time": "2022-10-19T12:12:59.182Z"
   },
   {
    "duration": 20,
    "start_time": "2022-10-19T12:12:59.203Z"
   },
   {
    "duration": 25,
    "start_time": "2022-10-19T12:12:59.226Z"
   },
   {
    "duration": 17,
    "start_time": "2022-10-19T12:12:59.258Z"
   },
   {
    "duration": 9,
    "start_time": "2022-10-19T12:12:59.278Z"
   },
   {
    "duration": 24,
    "start_time": "2022-10-19T12:12:59.289Z"
   },
   {
    "duration": 9,
    "start_time": "2022-10-19T12:12:59.321Z"
   },
   {
    "duration": 575,
    "start_time": "2022-10-19T12:12:59.331Z"
   },
   {
    "duration": 341,
    "start_time": "2022-10-19T12:12:59.908Z"
   },
   {
    "duration": 461,
    "start_time": "2022-10-19T12:13:00.251Z"
   },
   {
    "duration": 561,
    "start_time": "2022-10-19T12:13:00.720Z"
   },
   {
    "duration": 465,
    "start_time": "2022-10-19T12:13:01.283Z"
   },
   {
    "duration": 356,
    "start_time": "2022-10-19T12:13:01.750Z"
   },
   {
    "duration": 417,
    "start_time": "2022-10-19T12:13:02.108Z"
   },
   {
    "duration": 167,
    "start_time": "2022-10-19T12:13:02.527Z"
   },
   {
    "duration": 325,
    "start_time": "2022-10-19T12:13:02.696Z"
   },
   {
    "duration": 328,
    "start_time": "2022-10-19T12:13:03.023Z"
   },
   {
    "duration": 312,
    "start_time": "2022-10-19T12:13:03.353Z"
   },
   {
    "duration": 325,
    "start_time": "2022-10-19T12:13:03.667Z"
   },
   {
    "duration": 187,
    "start_time": "2022-10-19T12:13:03.994Z"
   },
   {
    "duration": 290,
    "start_time": "2022-10-19T12:13:04.182Z"
   },
   {
    "duration": 355,
    "start_time": "2022-10-19T12:13:04.474Z"
   },
   {
    "duration": 225,
    "start_time": "2022-10-19T12:13:04.831Z"
   },
   {
    "duration": 238,
    "start_time": "2022-10-19T12:13:05.059Z"
   },
   {
    "duration": 244,
    "start_time": "2022-10-19T12:13:05.298Z"
   },
   {
    "duration": 228,
    "start_time": "2022-10-19T12:13:05.544Z"
   },
   {
    "duration": 199,
    "start_time": "2022-10-19T12:13:05.775Z"
   },
   {
    "duration": 701,
    "start_time": "2022-10-19T12:13:05.976Z"
   },
   {
    "duration": 27,
    "start_time": "2022-10-19T12:13:06.679Z"
   },
   {
    "duration": 20,
    "start_time": "2022-10-19T12:13:06.721Z"
   },
   {
    "duration": 247,
    "start_time": "2022-10-19T12:13:06.743Z"
   },
   {
    "duration": 59,
    "start_time": "2022-10-19T12:16:25.792Z"
   },
   {
    "duration": 42,
    "start_time": "2022-10-19T12:16:34.262Z"
   },
   {
    "duration": 79,
    "start_time": "2022-10-19T12:17:16.199Z"
   },
   {
    "duration": 296,
    "start_time": "2022-10-19T13:38:42.537Z"
   },
   {
    "duration": 295,
    "start_time": "2022-10-19T13:38:54.563Z"
   },
   {
    "duration": 483,
    "start_time": "2022-10-19T13:39:31.673Z"
   },
   {
    "duration": 300,
    "start_time": "2022-10-19T13:39:44.525Z"
   },
   {
    "duration": 3024,
    "start_time": "2022-10-19T15:48:24.791Z"
   },
   {
    "duration": 8,
    "start_time": "2022-10-19T15:48:27.817Z"
   },
   {
    "duration": 4,
    "start_time": "2022-10-19T15:48:27.827Z"
   },
   {
    "duration": 8,
    "start_time": "2022-10-19T15:48:27.833Z"
   },
   {
    "duration": 16,
    "start_time": "2022-10-19T15:48:27.843Z"
   },
   {
    "duration": 33,
    "start_time": "2022-10-19T15:48:27.861Z"
   },
   {
    "duration": 7,
    "start_time": "2022-10-19T15:48:27.896Z"
   },
   {
    "duration": 9,
    "start_time": "2022-10-19T15:48:27.905Z"
   },
   {
    "duration": 10,
    "start_time": "2022-10-19T15:48:27.916Z"
   },
   {
    "duration": 28,
    "start_time": "2022-10-19T15:48:27.929Z"
   },
   {
    "duration": 33,
    "start_time": "2022-10-19T15:48:27.960Z"
   },
   {
    "duration": 10,
    "start_time": "2022-10-19T15:48:27.995Z"
   },
   {
    "duration": 25,
    "start_time": "2022-10-19T15:48:28.007Z"
   },
   {
    "duration": 367,
    "start_time": "2022-10-19T15:48:28.034Z"
   },
   {
    "duration": 7,
    "start_time": "2022-10-19T15:48:28.404Z"
   },
   {
    "duration": 41,
    "start_time": "2022-10-19T15:48:28.413Z"
   },
   {
    "duration": 12,
    "start_time": "2022-10-19T15:48:28.457Z"
   },
   {
    "duration": 25,
    "start_time": "2022-10-19T15:48:28.471Z"
   },
   {
    "duration": 24,
    "start_time": "2022-10-19T15:48:28.498Z"
   },
   {
    "duration": 10,
    "start_time": "2022-10-19T15:48:28.524Z"
   },
   {
    "duration": 22,
    "start_time": "2022-10-19T15:48:28.536Z"
   },
   {
    "duration": 28,
    "start_time": "2022-10-19T15:48:28.560Z"
   },
   {
    "duration": 15,
    "start_time": "2022-10-19T15:48:28.590Z"
   },
   {
    "duration": 18,
    "start_time": "2022-10-19T15:48:28.608Z"
   },
   {
    "duration": 15,
    "start_time": "2022-10-19T15:48:28.629Z"
   },
   {
    "duration": 34,
    "start_time": "2022-10-19T15:48:28.646Z"
   },
   {
    "duration": 28,
    "start_time": "2022-10-19T15:48:28.682Z"
   },
   {
    "duration": 7,
    "start_time": "2022-10-19T15:48:28.714Z"
   },
   {
    "duration": 8,
    "start_time": "2022-10-19T15:48:28.723Z"
   },
   {
    "duration": 16,
    "start_time": "2022-10-19T15:48:28.733Z"
   },
   {
    "duration": 8,
    "start_time": "2022-10-19T15:48:28.751Z"
   },
   {
    "duration": 499,
    "start_time": "2022-10-19T15:48:28.761Z"
   },
   {
    "duration": 358,
    "start_time": "2022-10-19T15:48:29.262Z"
   },
   {
    "duration": 440,
    "start_time": "2022-10-19T15:48:29.623Z"
   },
   {
    "duration": 550,
    "start_time": "2022-10-19T15:48:30.065Z"
   },
   {
    "duration": 453,
    "start_time": "2022-10-19T15:48:30.617Z"
   },
   {
    "duration": 318,
    "start_time": "2022-10-19T15:48:31.072Z"
   },
   {
    "duration": 479,
    "start_time": "2022-10-19T15:48:31.392Z"
   },
   {
    "duration": 158,
    "start_time": "2022-10-19T15:48:31.873Z"
   },
   {
    "duration": 293,
    "start_time": "2022-10-19T15:48:32.033Z"
   },
   {
    "duration": 309,
    "start_time": "2022-10-19T15:48:32.329Z"
   },
   {
    "duration": 291,
    "start_time": "2022-10-19T15:48:32.640Z"
   },
   {
    "duration": 289,
    "start_time": "2022-10-19T15:48:32.933Z"
   },
   {
    "duration": 198,
    "start_time": "2022-10-19T15:48:33.224Z"
   },
   {
    "duration": 270,
    "start_time": "2022-10-19T15:48:33.423Z"
   },
   {
    "duration": 336,
    "start_time": "2022-10-19T15:48:33.695Z"
   },
   {
    "duration": 216,
    "start_time": "2022-10-19T15:48:34.033Z"
   },
   {
    "duration": 284,
    "start_time": "2022-10-19T15:48:34.253Z"
   },
   {
    "duration": 217,
    "start_time": "2022-10-19T15:48:34.539Z"
   },
   {
    "duration": 219,
    "start_time": "2022-10-19T15:48:34.757Z"
   },
   {
    "duration": 190,
    "start_time": "2022-10-19T15:48:34.978Z"
   },
   {
    "duration": 632,
    "start_time": "2022-10-19T15:48:35.169Z"
   },
   {
    "duration": 26,
    "start_time": "2022-10-19T15:48:35.803Z"
   },
   {
    "duration": 32,
    "start_time": "2022-10-19T15:48:35.831Z"
   },
   {
    "duration": 268,
    "start_time": "2022-10-19T15:48:35.864Z"
   },
   {
    "duration": 10,
    "start_time": "2022-10-19T15:56:17.012Z"
   },
   {
    "duration": 17,
    "start_time": "2022-10-19T15:56:46.568Z"
   },
   {
    "duration": 91,
    "start_time": "2022-10-19T15:56:49.651Z"
   },
   {
    "duration": 10,
    "start_time": "2022-10-19T15:57:07.583Z"
   },
   {
    "duration": 862,
    "start_time": "2022-10-20T10:59:45.962Z"
   },
   {
    "duration": 2371,
    "start_time": "2022-10-20T10:59:50.353Z"
   },
   {
    "duration": 2286,
    "start_time": "2022-10-20T11:00:35.390Z"
   },
   {
    "duration": 2157,
    "start_time": "2022-10-20T11:01:02.596Z"
   },
   {
    "duration": 2094,
    "start_time": "2022-10-20T11:01:19.449Z"
   },
   {
    "duration": 10,
    "start_time": "2022-10-20T11:06:08.943Z"
   },
   {
    "duration": 7,
    "start_time": "2022-10-20T11:06:50.548Z"
   },
   {
    "duration": 22,
    "start_time": "2022-10-20T11:07:07.285Z"
   },
   {
    "duration": 7,
    "start_time": "2022-10-20T11:09:33.998Z"
   },
   {
    "duration": 8,
    "start_time": "2022-10-20T11:10:44.727Z"
   },
   {
    "duration": 43,
    "start_time": "2022-10-20T11:12:53.654Z"
   },
   {
    "duration": 3,
    "start_time": "2022-10-20T11:12:59.894Z"
   },
   {
    "duration": 766,
    "start_time": "2022-10-20T11:13:11.343Z"
   },
   {
    "duration": 2150,
    "start_time": "2022-10-20T11:13:12.111Z"
   },
   {
    "duration": 9,
    "start_time": "2022-10-20T11:13:14.263Z"
   },
   {
    "duration": 10,
    "start_time": "2022-10-20T11:13:14.275Z"
   },
   {
    "duration": 29,
    "start_time": "2022-10-20T11:13:14.287Z"
   },
   {
    "duration": 20,
    "start_time": "2022-10-20T11:13:14.318Z"
   },
   {
    "duration": 67,
    "start_time": "2022-10-20T11:13:14.345Z"
   },
   {
    "duration": 8,
    "start_time": "2022-10-20T11:13:14.415Z"
   },
   {
    "duration": 19,
    "start_time": "2022-10-20T11:13:14.425Z"
   },
   {
    "duration": 19,
    "start_time": "2022-10-20T11:13:14.448Z"
   },
   {
    "duration": 8,
    "start_time": "2022-10-20T11:13:14.469Z"
   },
   {
    "duration": 25,
    "start_time": "2022-10-20T11:13:14.479Z"
   },
   {
    "duration": 7,
    "start_time": "2022-10-20T11:13:14.505Z"
   },
   {
    "duration": 18,
    "start_time": "2022-10-20T11:13:14.514Z"
   },
   {
    "duration": 355,
    "start_time": "2022-10-20T11:13:14.534Z"
   },
   {
    "duration": 7,
    "start_time": "2022-10-20T11:13:14.891Z"
   },
   {
    "duration": 12,
    "start_time": "2022-10-20T11:13:14.900Z"
   },
   {
    "duration": 11,
    "start_time": "2022-10-20T11:13:14.914Z"
   },
   {
    "duration": 35,
    "start_time": "2022-10-20T11:13:14.927Z"
   },
   {
    "duration": 11,
    "start_time": "2022-10-20T11:13:14.964Z"
   },
   {
    "duration": 42,
    "start_time": "2022-10-20T11:13:14.977Z"
   },
   {
    "duration": 68,
    "start_time": "2022-10-20T11:13:15.021Z"
   },
   {
    "duration": 13,
    "start_time": "2022-10-20T11:13:15.091Z"
   },
   {
    "duration": 13,
    "start_time": "2022-10-20T11:13:15.106Z"
   },
   {
    "duration": 7,
    "start_time": "2022-10-20T11:13:15.120Z"
   },
   {
    "duration": 17,
    "start_time": "2022-10-20T11:13:15.129Z"
   },
   {
    "duration": 12,
    "start_time": "2022-10-20T11:13:15.148Z"
   },
   {
    "duration": 13,
    "start_time": "2022-10-20T11:13:15.164Z"
   },
   {
    "duration": 7,
    "start_time": "2022-10-20T11:13:15.179Z"
   },
   {
    "duration": 8,
    "start_time": "2022-10-20T11:13:15.188Z"
   },
   {
    "duration": 15,
    "start_time": "2022-10-20T11:13:15.197Z"
   },
   {
    "duration": 13,
    "start_time": "2022-10-20T11:13:15.214Z"
   },
   {
    "duration": 500,
    "start_time": "2022-10-20T11:13:15.229Z"
   },
   {
    "duration": 319,
    "start_time": "2022-10-20T11:13:15.730Z"
   },
   {
    "duration": 397,
    "start_time": "2022-10-20T11:13:16.051Z"
   },
   {
    "duration": 509,
    "start_time": "2022-10-20T11:13:16.449Z"
   },
   {
    "duration": 417,
    "start_time": "2022-10-20T11:13:16.960Z"
   },
   {
    "duration": 301,
    "start_time": "2022-10-20T11:13:17.379Z"
   },
   {
    "duration": 359,
    "start_time": "2022-10-20T11:13:17.682Z"
   },
   {
    "duration": 155,
    "start_time": "2022-10-20T11:13:18.043Z"
   },
   {
    "duration": 278,
    "start_time": "2022-10-20T11:13:18.200Z"
   },
   {
    "duration": 307,
    "start_time": "2022-10-20T11:13:18.480Z"
   },
   {
    "duration": 286,
    "start_time": "2022-10-20T11:13:18.789Z"
   },
   {
    "duration": 305,
    "start_time": "2022-10-20T11:13:19.076Z"
   },
   {
    "duration": 253,
    "start_time": "2022-10-20T11:13:19.383Z"
   },
   {
    "duration": 178,
    "start_time": "2022-10-20T11:13:19.638Z"
   },
   {
    "duration": 308,
    "start_time": "2022-10-20T11:13:19.817Z"
   },
   {
    "duration": 204,
    "start_time": "2022-10-20T11:13:20.126Z"
   },
   {
    "duration": 227,
    "start_time": "2022-10-20T11:13:20.331Z"
   },
   {
    "duration": 214,
    "start_time": "2022-10-20T11:13:20.560Z"
   },
   {
    "duration": 196,
    "start_time": "2022-10-20T11:13:20.776Z"
   },
   {
    "duration": 166,
    "start_time": "2022-10-20T11:13:20.974Z"
   },
   {
    "duration": 735,
    "start_time": "2022-10-20T11:13:21.142Z"
   },
   {
    "duration": 24,
    "start_time": "2022-10-20T11:13:21.879Z"
   },
   {
    "duration": 15,
    "start_time": "2022-10-20T11:13:21.905Z"
   },
   {
    "duration": 154,
    "start_time": "2022-10-20T11:13:21.921Z"
   },
   {
    "duration": 7,
    "start_time": "2022-10-20T11:18:21.175Z"
   },
   {
    "duration": 630,
    "start_time": "2022-10-20T11:18:29.697Z"
   },
   {
    "duration": 2339,
    "start_time": "2022-10-20T11:18:30.329Z"
   },
   {
    "duration": 9,
    "start_time": "2022-10-20T11:18:32.670Z"
   },
   {
    "duration": 11,
    "start_time": "2022-10-20T11:18:32.680Z"
   },
   {
    "duration": 13,
    "start_time": "2022-10-20T11:18:32.694Z"
   },
   {
    "duration": 15,
    "start_time": "2022-10-20T11:18:32.709Z"
   },
   {
    "duration": 50,
    "start_time": "2022-10-20T11:18:32.726Z"
   },
   {
    "duration": 6,
    "start_time": "2022-10-20T11:18:32.778Z"
   },
   {
    "duration": 20,
    "start_time": "2022-10-20T11:18:32.786Z"
   },
   {
    "duration": 20,
    "start_time": "2022-10-20T11:18:32.809Z"
   },
   {
    "duration": 18,
    "start_time": "2022-10-20T11:18:32.831Z"
   },
   {
    "duration": 24,
    "start_time": "2022-10-20T11:18:32.851Z"
   },
   {
    "duration": 7,
    "start_time": "2022-10-20T11:18:32.877Z"
   },
   {
    "duration": 14,
    "start_time": "2022-10-20T11:18:32.887Z"
   },
   {
    "duration": 323,
    "start_time": "2022-10-20T11:18:32.903Z"
   },
   {
    "duration": 7,
    "start_time": "2022-10-20T11:18:33.228Z"
   },
   {
    "duration": 28,
    "start_time": "2022-10-20T11:18:33.237Z"
   },
   {
    "duration": 11,
    "start_time": "2022-10-20T11:18:33.267Z"
   },
   {
    "duration": 9,
    "start_time": "2022-10-20T11:18:33.280Z"
   },
   {
    "duration": 9,
    "start_time": "2022-10-20T11:18:33.291Z"
   },
   {
    "duration": 23,
    "start_time": "2022-10-20T11:18:33.301Z"
   },
   {
    "duration": 9,
    "start_time": "2022-10-20T11:18:33.326Z"
   },
   {
    "duration": 18,
    "start_time": "2022-10-20T11:18:33.336Z"
   },
   {
    "duration": 12,
    "start_time": "2022-10-20T11:18:33.356Z"
   },
   {
    "duration": 12,
    "start_time": "2022-10-20T11:18:33.369Z"
   },
   {
    "duration": 9,
    "start_time": "2022-10-20T11:18:33.383Z"
   },
   {
    "duration": 11,
    "start_time": "2022-10-20T11:18:33.393Z"
   },
   {
    "duration": 11,
    "start_time": "2022-10-20T11:18:33.406Z"
   },
   {
    "duration": 10,
    "start_time": "2022-10-20T11:18:33.419Z"
   },
   {
    "duration": 23,
    "start_time": "2022-10-20T11:18:33.431Z"
   },
   {
    "duration": 12,
    "start_time": "2022-10-20T11:18:33.456Z"
   },
   {
    "duration": 6,
    "start_time": "2022-10-20T11:18:33.470Z"
   },
   {
    "duration": 513,
    "start_time": "2022-10-20T11:18:33.478Z"
   },
   {
    "duration": 334,
    "start_time": "2022-10-20T11:18:33.993Z"
   },
   {
    "duration": 432,
    "start_time": "2022-10-20T11:18:34.329Z"
   },
   {
    "duration": 520,
    "start_time": "2022-10-20T11:18:34.763Z"
   },
   {
    "duration": 446,
    "start_time": "2022-10-20T11:18:35.285Z"
   },
   {
    "duration": 294,
    "start_time": "2022-10-20T11:18:35.733Z"
   },
   {
    "duration": 401,
    "start_time": "2022-10-20T11:18:36.028Z"
   },
   {
    "duration": 177,
    "start_time": "2022-10-20T11:18:36.432Z"
   },
   {
    "duration": 299,
    "start_time": "2022-10-20T11:18:36.616Z"
   },
   {
    "duration": 342,
    "start_time": "2022-10-20T11:18:36.916Z"
   },
   {
    "duration": 328,
    "start_time": "2022-10-20T11:18:37.260Z"
   },
   {
    "duration": 388,
    "start_time": "2022-10-20T11:18:37.589Z"
   },
   {
    "duration": 338,
    "start_time": "2022-10-20T11:18:37.978Z"
   },
   {
    "duration": 184,
    "start_time": "2022-10-20T11:18:38.317Z"
   },
   {
    "duration": 317,
    "start_time": "2022-10-20T11:18:38.503Z"
   },
   {
    "duration": 215,
    "start_time": "2022-10-20T11:18:38.821Z"
   },
   {
    "duration": 239,
    "start_time": "2022-10-20T11:18:39.038Z"
   },
   {
    "duration": 221,
    "start_time": "2022-10-20T11:18:39.279Z"
   },
   {
    "duration": 201,
    "start_time": "2022-10-20T11:18:39.502Z"
   },
   {
    "duration": 172,
    "start_time": "2022-10-20T11:18:39.704Z"
   },
   {
    "duration": 703,
    "start_time": "2022-10-20T11:18:39.878Z"
   },
   {
    "duration": 30,
    "start_time": "2022-10-20T11:18:40.583Z"
   },
   {
    "duration": 42,
    "start_time": "2022-10-20T11:18:40.615Z"
   },
   {
    "duration": 164,
    "start_time": "2022-10-20T11:18:40.659Z"
   },
   {
    "duration": 702,
    "start_time": "2022-10-20T11:19:46.054Z"
   },
   {
    "duration": 2201,
    "start_time": "2022-10-20T11:19:46.758Z"
   },
   {
    "duration": 10,
    "start_time": "2022-10-20T11:19:48.961Z"
   },
   {
    "duration": 16,
    "start_time": "2022-10-20T11:19:48.973Z"
   },
   {
    "duration": 18,
    "start_time": "2022-10-20T11:19:48.991Z"
   },
   {
    "duration": 24,
    "start_time": "2022-10-20T11:19:49.011Z"
   },
   {
    "duration": 39,
    "start_time": "2022-10-20T11:19:49.037Z"
   },
   {
    "duration": 6,
    "start_time": "2022-10-20T11:19:49.078Z"
   },
   {
    "duration": 13,
    "start_time": "2022-10-20T11:19:49.086Z"
   },
   {
    "duration": 9,
    "start_time": "2022-10-20T11:19:49.102Z"
   },
   {
    "duration": 19,
    "start_time": "2022-10-20T11:19:49.113Z"
   },
   {
    "duration": 31,
    "start_time": "2022-10-20T11:19:49.134Z"
   },
   {
    "duration": 7,
    "start_time": "2022-10-20T11:19:49.167Z"
   },
   {
    "duration": 11,
    "start_time": "2022-10-20T11:19:49.175Z"
   },
   {
    "duration": 352,
    "start_time": "2022-10-20T11:19:49.188Z"
   },
   {
    "duration": 13,
    "start_time": "2022-10-20T11:19:49.541Z"
   },
   {
    "duration": 17,
    "start_time": "2022-10-20T11:19:49.556Z"
   },
   {
    "duration": 10,
    "start_time": "2022-10-20T11:19:49.574Z"
   },
   {
    "duration": 14,
    "start_time": "2022-10-20T11:19:49.585Z"
   },
   {
    "duration": 27,
    "start_time": "2022-10-20T11:19:49.601Z"
   },
   {
    "duration": 21,
    "start_time": "2022-10-20T11:19:49.630Z"
   },
   {
    "duration": 23,
    "start_time": "2022-10-20T11:19:49.653Z"
   },
   {
    "duration": 17,
    "start_time": "2022-10-20T11:19:49.677Z"
   },
   {
    "duration": 25,
    "start_time": "2022-10-20T11:19:49.695Z"
   },
   {
    "duration": 15,
    "start_time": "2022-10-20T11:19:49.721Z"
   },
   {
    "duration": 20,
    "start_time": "2022-10-20T11:19:49.738Z"
   },
   {
    "duration": 24,
    "start_time": "2022-10-20T11:19:49.760Z"
   },
   {
    "duration": 21,
    "start_time": "2022-10-20T11:19:49.788Z"
   },
   {
    "duration": 16,
    "start_time": "2022-10-20T11:19:49.811Z"
   },
   {
    "duration": 15,
    "start_time": "2022-10-20T11:19:49.829Z"
   },
   {
    "duration": 29,
    "start_time": "2022-10-20T11:19:49.846Z"
   },
   {
    "duration": 36,
    "start_time": "2022-10-20T11:19:49.876Z"
   },
   {
    "duration": 473,
    "start_time": "2022-10-20T11:19:49.913Z"
   },
   {
    "duration": 335,
    "start_time": "2022-10-20T11:19:50.387Z"
   },
   {
    "duration": 436,
    "start_time": "2022-10-20T11:19:50.724Z"
   },
   {
    "duration": 610,
    "start_time": "2022-10-20T11:19:51.162Z"
   },
   {
    "duration": 435,
    "start_time": "2022-10-20T11:19:51.775Z"
   },
   {
    "duration": 299,
    "start_time": "2022-10-20T11:19:52.212Z"
   },
   {
    "duration": 368,
    "start_time": "2022-10-20T11:19:52.513Z"
   },
   {
    "duration": 161,
    "start_time": "2022-10-20T11:19:52.883Z"
   },
   {
    "duration": 285,
    "start_time": "2022-10-20T11:19:53.053Z"
   },
   {
    "duration": 309,
    "start_time": "2022-10-20T11:19:53.340Z"
   },
   {
    "duration": 275,
    "start_time": "2022-10-20T11:19:53.653Z"
   },
   {
    "duration": 299,
    "start_time": "2022-10-20T11:19:53.930Z"
   },
   {
    "duration": 178,
    "start_time": "2022-10-20T11:19:54.231Z"
   },
   {
    "duration": 276,
    "start_time": "2022-10-20T11:19:54.411Z"
   },
   {
    "duration": 317,
    "start_time": "2022-10-20T11:19:54.689Z"
   },
   {
    "duration": 215,
    "start_time": "2022-10-20T11:19:55.007Z"
   },
   {
    "duration": 240,
    "start_time": "2022-10-20T11:19:55.223Z"
   },
   {
    "duration": 252,
    "start_time": "2022-10-20T11:19:55.465Z"
   },
   {
    "duration": 225,
    "start_time": "2022-10-20T11:19:55.719Z"
   },
   {
    "duration": 186,
    "start_time": "2022-10-20T11:19:55.946Z"
   },
   {
    "duration": 639,
    "start_time": "2022-10-20T11:19:56.134Z"
   },
   {
    "duration": 27,
    "start_time": "2022-10-20T11:19:56.775Z"
   },
   {
    "duration": 17,
    "start_time": "2022-10-20T11:19:56.803Z"
   },
   {
    "duration": 247,
    "start_time": "2022-10-20T11:19:56.822Z"
   },
   {
    "duration": 24,
    "start_time": "2022-10-20T11:20:58.023Z"
   },
   {
    "duration": 8,
    "start_time": "2022-10-20T11:21:05.210Z"
   },
   {
    "duration": 14,
    "start_time": "2022-10-20T11:21:18.091Z"
   },
   {
    "duration": 4,
    "start_time": "2022-10-20T11:24:13.077Z"
   },
   {
    "duration": 13,
    "start_time": "2022-10-20T11:24:17.726Z"
   },
   {
    "duration": 4,
    "start_time": "2022-10-20T11:26:09.751Z"
   },
   {
    "duration": 85,
    "start_time": "2022-10-20T11:26:35.623Z"
   },
   {
    "duration": 4,
    "start_time": "2022-10-20T11:26:49.499Z"
   },
   {
    "duration": 5,
    "start_time": "2022-10-20T11:27:11.269Z"
   },
   {
    "duration": 680,
    "start_time": "2022-10-20T11:28:29.861Z"
   },
   {
    "duration": 2444,
    "start_time": "2022-10-20T11:28:30.543Z"
   },
   {
    "duration": 10,
    "start_time": "2022-10-20T11:28:32.988Z"
   },
   {
    "duration": 4,
    "start_time": "2022-10-20T11:28:33.000Z"
   },
   {
    "duration": 23,
    "start_time": "2022-10-20T11:28:33.006Z"
   },
   {
    "duration": 32,
    "start_time": "2022-10-20T11:28:33.031Z"
   },
   {
    "duration": 62,
    "start_time": "2022-10-20T11:28:33.065Z"
   },
   {
    "duration": 15,
    "start_time": "2022-10-20T11:28:33.129Z"
   },
   {
    "duration": 41,
    "start_time": "2022-10-20T11:28:33.146Z"
   },
   {
    "duration": 46,
    "start_time": "2022-10-20T11:28:33.189Z"
   },
   {
    "duration": 18,
    "start_time": "2022-10-20T11:28:33.237Z"
   },
   {
    "duration": 28,
    "start_time": "2022-10-20T11:28:33.257Z"
   },
   {
    "duration": 37,
    "start_time": "2022-10-20T11:28:33.287Z"
   },
   {
    "duration": 10,
    "start_time": "2022-10-20T11:28:33.328Z"
   },
   {
    "duration": 32,
    "start_time": "2022-10-20T11:28:33.339Z"
   },
   {
    "duration": 360,
    "start_time": "2022-10-20T11:28:33.372Z"
   },
   {
    "duration": 7,
    "start_time": "2022-10-20T11:28:33.734Z"
   },
   {
    "duration": 22,
    "start_time": "2022-10-20T11:28:33.753Z"
   },
   {
    "duration": 25,
    "start_time": "2022-10-20T11:28:33.776Z"
   },
   {
    "duration": 39,
    "start_time": "2022-10-20T11:28:33.803Z"
   },
   {
    "duration": 16,
    "start_time": "2022-10-20T11:28:33.844Z"
   },
   {
    "duration": 25,
    "start_time": "2022-10-20T11:28:33.861Z"
   },
   {
    "duration": 21,
    "start_time": "2022-10-20T11:28:33.887Z"
   },
   {
    "duration": 31,
    "start_time": "2022-10-20T11:28:33.910Z"
   },
   {
    "duration": 24,
    "start_time": "2022-10-20T11:28:33.943Z"
   },
   {
    "duration": 35,
    "start_time": "2022-10-20T11:28:33.969Z"
   },
   {
    "duration": 29,
    "start_time": "2022-10-20T11:28:34.006Z"
   },
   {
    "duration": 28,
    "start_time": "2022-10-20T11:28:34.036Z"
   },
   {
    "duration": 45,
    "start_time": "2022-10-20T11:28:34.066Z"
   },
   {
    "duration": 36,
    "start_time": "2022-10-20T11:28:34.113Z"
   },
   {
    "duration": 28,
    "start_time": "2022-10-20T11:28:34.151Z"
   },
   {
    "duration": 39,
    "start_time": "2022-10-20T11:28:34.180Z"
   },
   {
    "duration": 22,
    "start_time": "2022-10-20T11:28:34.221Z"
   },
   {
    "duration": 477,
    "start_time": "2022-10-20T11:28:34.244Z"
   },
   {
    "duration": 335,
    "start_time": "2022-10-20T11:28:34.723Z"
   },
   {
    "duration": 418,
    "start_time": "2022-10-20T11:28:35.060Z"
   },
   {
    "duration": 519,
    "start_time": "2022-10-20T11:28:35.480Z"
   },
   {
    "duration": 435,
    "start_time": "2022-10-20T11:28:36.001Z"
   },
   {
    "duration": 304,
    "start_time": "2022-10-20T11:28:36.437Z"
   },
   {
    "duration": 426,
    "start_time": "2022-10-20T11:28:36.744Z"
   },
   {
    "duration": 151,
    "start_time": "2022-10-20T11:28:37.174Z"
   },
   {
    "duration": 286,
    "start_time": "2022-10-20T11:28:37.327Z"
   },
   {
    "duration": 364,
    "start_time": "2022-10-20T11:28:37.615Z"
   },
   {
    "duration": 423,
    "start_time": "2022-10-20T11:28:37.980Z"
   },
   {
    "duration": 311,
    "start_time": "2022-10-20T11:28:38.404Z"
   },
   {
    "duration": 176,
    "start_time": "2022-10-20T11:28:38.717Z"
   },
   {
    "duration": 275,
    "start_time": "2022-10-20T11:28:38.894Z"
   },
   {
    "duration": 314,
    "start_time": "2022-10-20T11:28:39.170Z"
   },
   {
    "duration": 218,
    "start_time": "2022-10-20T11:28:39.485Z"
   },
   {
    "duration": 234,
    "start_time": "2022-10-20T11:28:39.705Z"
   },
   {
    "duration": 217,
    "start_time": "2022-10-20T11:28:39.941Z"
   },
   {
    "duration": 222,
    "start_time": "2022-10-20T11:28:40.160Z"
   },
   {
    "duration": 190,
    "start_time": "2022-10-20T11:28:40.384Z"
   },
   {
    "duration": 634,
    "start_time": "2022-10-20T11:28:40.576Z"
   },
   {
    "duration": 28,
    "start_time": "2022-10-20T11:28:41.212Z"
   },
   {
    "duration": 29,
    "start_time": "2022-10-20T11:28:41.241Z"
   },
   {
    "duration": 273,
    "start_time": "2022-10-20T11:28:41.272Z"
   },
   {
    "duration": 5,
    "start_time": "2022-10-20T11:53:12.606Z"
   },
   {
    "duration": 6,
    "start_time": "2022-10-20T12:04:27.364Z"
   },
   {
    "duration": 26,
    "start_time": "2022-10-20T12:05:12.494Z"
   },
   {
    "duration": 27,
    "start_time": "2022-10-20T12:05:46.287Z"
   },
   {
    "duration": 12,
    "start_time": "2022-10-20T12:05:57.670Z"
   },
   {
    "duration": 6,
    "start_time": "2022-10-20T12:22:34.586Z"
   },
   {
    "duration": 26,
    "start_time": "2022-10-20T12:22:48.742Z"
   },
   {
    "duration": 15,
    "start_time": "2022-10-20T12:23:19.228Z"
   },
   {
    "duration": 7,
    "start_time": "2022-10-20T12:23:28.617Z"
   },
   {
    "duration": 77,
    "start_time": "2022-10-20T12:24:32.290Z"
   },
   {
    "duration": 655,
    "start_time": "2022-10-20T12:27:37.689Z"
   },
   {
    "duration": 2180,
    "start_time": "2022-10-20T12:27:38.346Z"
   },
   {
    "duration": 11,
    "start_time": "2022-10-20T12:27:40.528Z"
   },
   {
    "duration": 9,
    "start_time": "2022-10-20T12:27:40.541Z"
   },
   {
    "duration": 13,
    "start_time": "2022-10-20T12:27:40.552Z"
   },
   {
    "duration": 26,
    "start_time": "2022-10-20T12:27:40.567Z"
   },
   {
    "duration": 44,
    "start_time": "2022-10-20T12:27:40.595Z"
   },
   {
    "duration": 9,
    "start_time": "2022-10-20T12:27:40.642Z"
   },
   {
    "duration": 15,
    "start_time": "2022-10-20T12:27:40.654Z"
   },
   {
    "duration": 16,
    "start_time": "2022-10-20T12:27:40.671Z"
   },
   {
    "duration": 7,
    "start_time": "2022-10-20T12:27:40.689Z"
   },
   {
    "duration": 14,
    "start_time": "2022-10-20T12:27:40.698Z"
   },
   {
    "duration": 30,
    "start_time": "2022-10-20T12:27:40.714Z"
   },
   {
    "duration": 20,
    "start_time": "2022-10-20T12:27:40.747Z"
   },
   {
    "duration": 9,
    "start_time": "2022-10-20T12:27:40.769Z"
   },
   {
    "duration": 346,
    "start_time": "2022-10-20T12:27:40.780Z"
   },
   {
    "duration": 7,
    "start_time": "2022-10-20T12:27:41.128Z"
   },
   {
    "duration": 24,
    "start_time": "2022-10-20T12:27:41.136Z"
   },
   {
    "duration": 8,
    "start_time": "2022-10-20T12:27:41.162Z"
   },
   {
    "duration": 9,
    "start_time": "2022-10-20T12:27:41.172Z"
   },
   {
    "duration": 8,
    "start_time": "2022-10-20T12:27:41.183Z"
   },
   {
    "duration": 6,
    "start_time": "2022-10-20T12:27:41.192Z"
   },
   {
    "duration": 12,
    "start_time": "2022-10-20T12:27:41.199Z"
   },
   {
    "duration": 10,
    "start_time": "2022-10-20T12:27:41.213Z"
   },
   {
    "duration": 8,
    "start_time": "2022-10-20T12:27:41.253Z"
   },
   {
    "duration": 10,
    "start_time": "2022-10-20T12:27:41.263Z"
   },
   {
    "duration": 14,
    "start_time": "2022-10-20T12:27:41.274Z"
   },
   {
    "duration": 7,
    "start_time": "2022-10-20T12:27:41.289Z"
   },
   {
    "duration": 17,
    "start_time": "2022-10-20T12:27:41.297Z"
   },
   {
    "duration": 21,
    "start_time": "2022-10-20T12:27:41.316Z"
   },
   {
    "duration": 28,
    "start_time": "2022-10-20T12:27:41.338Z"
   },
   {
    "duration": 16,
    "start_time": "2022-10-20T12:27:41.368Z"
   },
   {
    "duration": 8,
    "start_time": "2022-10-20T12:27:41.386Z"
   },
   {
    "duration": 9,
    "start_time": "2022-10-20T12:27:41.395Z"
   },
   {
    "duration": 11,
    "start_time": "2022-10-20T12:27:41.406Z"
   },
   {
    "duration": 8,
    "start_time": "2022-10-20T12:27:41.419Z"
   },
   {
    "duration": 608,
    "start_time": "2022-10-20T12:27:41.430Z"
   },
   {
    "duration": 329,
    "start_time": "2022-10-20T12:27:42.040Z"
   },
   {
    "duration": 444,
    "start_time": "2022-10-20T12:27:42.371Z"
   },
   {
    "duration": 525,
    "start_time": "2022-10-20T12:27:42.817Z"
   },
   {
    "duration": 425,
    "start_time": "2022-10-20T12:27:43.353Z"
   },
   {
    "duration": 294,
    "start_time": "2022-10-20T12:27:43.780Z"
   },
   {
    "duration": 383,
    "start_time": "2022-10-20T12:27:44.075Z"
   },
   {
    "duration": 143,
    "start_time": "2022-10-20T12:27:44.459Z"
   },
   {
    "duration": 288,
    "start_time": "2022-10-20T12:27:44.604Z"
   },
   {
    "duration": 308,
    "start_time": "2022-10-20T12:27:44.894Z"
   },
   {
    "duration": 279,
    "start_time": "2022-10-20T12:27:45.204Z"
   },
   {
    "duration": 318,
    "start_time": "2022-10-20T12:27:45.485Z"
   },
   {
    "duration": 171,
    "start_time": "2022-10-20T12:27:45.805Z"
   },
   {
    "duration": 262,
    "start_time": "2022-10-20T12:27:45.978Z"
   },
   {
    "duration": 307,
    "start_time": "2022-10-20T12:27:46.241Z"
   },
   {
    "duration": 210,
    "start_time": "2022-10-20T12:27:46.553Z"
   },
   {
    "duration": 225,
    "start_time": "2022-10-20T12:27:46.765Z"
   },
   {
    "duration": 211,
    "start_time": "2022-10-20T12:27:46.992Z"
   },
   {
    "duration": 218,
    "start_time": "2022-10-20T12:27:47.205Z"
   },
   {
    "duration": 190,
    "start_time": "2022-10-20T12:27:47.426Z"
   },
   {
    "duration": 650,
    "start_time": "2022-10-20T12:27:47.618Z"
   },
   {
    "duration": 26,
    "start_time": "2022-10-20T12:27:48.269Z"
   },
   {
    "duration": 17,
    "start_time": "2022-10-20T12:27:48.296Z"
   },
   {
    "duration": 247,
    "start_time": "2022-10-20T12:27:48.315Z"
   },
   {
    "duration": 76,
    "start_time": "2022-10-20T12:28:11.300Z"
   },
   {
    "duration": 10,
    "start_time": "2022-10-20T12:28:55.100Z"
   },
   {
    "duration": 3,
    "start_time": "2022-10-20T12:29:05.936Z"
   },
   {
    "duration": 2,
    "start_time": "2022-10-20T12:30:57.358Z"
   },
   {
    "duration": 6,
    "start_time": "2022-10-20T12:31:00.099Z"
   },
   {
    "duration": 67,
    "start_time": "2022-10-20T12:31:00.522Z"
   },
   {
    "duration": 4,
    "start_time": "2022-10-20T12:31:02.137Z"
   },
   {
    "duration": 10,
    "start_time": "2022-10-20T12:31:11.890Z"
   },
   {
    "duration": 3,
    "start_time": "2022-10-20T12:31:15.444Z"
   },
   {
    "duration": 705,
    "start_time": "2022-10-20T12:31:36.241Z"
   },
   {
    "duration": 2263,
    "start_time": "2022-10-20T12:31:36.948Z"
   },
   {
    "duration": 10,
    "start_time": "2022-10-20T12:31:39.212Z"
   },
   {
    "duration": 5,
    "start_time": "2022-10-20T12:31:39.224Z"
   },
   {
    "duration": 7,
    "start_time": "2022-10-20T12:31:39.232Z"
   },
   {
    "duration": 22,
    "start_time": "2022-10-20T12:31:39.241Z"
   },
   {
    "duration": 36,
    "start_time": "2022-10-20T12:31:39.265Z"
   },
   {
    "duration": 7,
    "start_time": "2022-10-20T12:31:39.303Z"
   },
   {
    "duration": 13,
    "start_time": "2022-10-20T12:31:39.311Z"
   },
   {
    "duration": 7,
    "start_time": "2022-10-20T12:31:39.325Z"
   },
   {
    "duration": 21,
    "start_time": "2022-10-20T12:31:39.334Z"
   },
   {
    "duration": 14,
    "start_time": "2022-10-20T12:31:39.356Z"
   },
   {
    "duration": 26,
    "start_time": "2022-10-20T12:31:39.372Z"
   },
   {
    "duration": 8,
    "start_time": "2022-10-20T12:31:39.401Z"
   },
   {
    "duration": 13,
    "start_time": "2022-10-20T12:31:39.411Z"
   },
   {
    "duration": 371,
    "start_time": "2022-10-20T12:31:39.426Z"
   },
   {
    "duration": 7,
    "start_time": "2022-10-20T12:31:39.799Z"
   },
   {
    "duration": 18,
    "start_time": "2022-10-20T12:31:39.807Z"
   },
   {
    "duration": 33,
    "start_time": "2022-10-20T12:31:39.827Z"
   },
   {
    "duration": 10,
    "start_time": "2022-10-20T12:31:39.861Z"
   },
   {
    "duration": 14,
    "start_time": "2022-10-20T12:31:39.872Z"
   },
   {
    "duration": 13,
    "start_time": "2022-10-20T12:31:39.888Z"
   },
   {
    "duration": 14,
    "start_time": "2022-10-20T12:31:39.903Z"
   },
   {
    "duration": 19,
    "start_time": "2022-10-20T12:31:39.919Z"
   },
   {
    "duration": 12,
    "start_time": "2022-10-20T12:31:39.940Z"
   },
   {
    "duration": 6,
    "start_time": "2022-10-20T12:31:39.955Z"
   },
   {
    "duration": 19,
    "start_time": "2022-10-20T12:31:39.962Z"
   },
   {
    "duration": 3,
    "start_time": "2022-10-20T12:31:39.983Z"
   },
   {
    "duration": 11,
    "start_time": "2022-10-20T12:31:39.987Z"
   },
   {
    "duration": 48,
    "start_time": "2022-10-20T12:31:40.000Z"
   },
   {
    "duration": 0,
    "start_time": "2022-10-20T12:31:40.050Z"
   },
   {
    "duration": 0,
    "start_time": "2022-10-20T12:31:40.052Z"
   },
   {
    "duration": 0,
    "start_time": "2022-10-20T12:31:40.053Z"
   },
   {
    "duration": 0,
    "start_time": "2022-10-20T12:31:40.054Z"
   },
   {
    "duration": 0,
    "start_time": "2022-10-20T12:31:40.056Z"
   },
   {
    "duration": 0,
    "start_time": "2022-10-20T12:31:40.057Z"
   },
   {
    "duration": 0,
    "start_time": "2022-10-20T12:31:40.058Z"
   },
   {
    "duration": 0,
    "start_time": "2022-10-20T12:31:40.059Z"
   },
   {
    "duration": 0,
    "start_time": "2022-10-20T12:31:40.060Z"
   },
   {
    "duration": 0,
    "start_time": "2022-10-20T12:31:40.060Z"
   },
   {
    "duration": 0,
    "start_time": "2022-10-20T12:31:40.061Z"
   },
   {
    "duration": 0,
    "start_time": "2022-10-20T12:31:40.062Z"
   },
   {
    "duration": 0,
    "start_time": "2022-10-20T12:31:40.063Z"
   },
   {
    "duration": 0,
    "start_time": "2022-10-20T12:31:40.064Z"
   },
   {
    "duration": 0,
    "start_time": "2022-10-20T12:31:40.065Z"
   },
   {
    "duration": 0,
    "start_time": "2022-10-20T12:31:40.066Z"
   },
   {
    "duration": 0,
    "start_time": "2022-10-20T12:31:40.067Z"
   },
   {
    "duration": 0,
    "start_time": "2022-10-20T12:31:40.068Z"
   },
   {
    "duration": 0,
    "start_time": "2022-10-20T12:31:40.069Z"
   },
   {
    "duration": 0,
    "start_time": "2022-10-20T12:31:40.069Z"
   },
   {
    "duration": 0,
    "start_time": "2022-10-20T12:31:40.070Z"
   },
   {
    "duration": 0,
    "start_time": "2022-10-20T12:31:40.071Z"
   },
   {
    "duration": 0,
    "start_time": "2022-10-20T12:31:40.072Z"
   },
   {
    "duration": 0,
    "start_time": "2022-10-20T12:31:40.073Z"
   },
   {
    "duration": 0,
    "start_time": "2022-10-20T12:31:40.074Z"
   },
   {
    "duration": 0,
    "start_time": "2022-10-20T12:31:40.075Z"
   },
   {
    "duration": 0,
    "start_time": "2022-10-20T12:31:40.076Z"
   },
   {
    "duration": 0,
    "start_time": "2022-10-20T12:31:40.077Z"
   },
   {
    "duration": 0,
    "start_time": "2022-10-20T12:31:40.078Z"
   },
   {
    "duration": 0,
    "start_time": "2022-10-20T12:31:40.079Z"
   },
   {
    "duration": 0,
    "start_time": "2022-10-20T12:31:40.080Z"
   },
   {
    "duration": 0,
    "start_time": "2022-10-20T12:31:40.080Z"
   },
   {
    "duration": 4,
    "start_time": "2022-10-20T12:36:00.028Z"
   },
   {
    "duration": 4,
    "start_time": "2022-10-20T12:36:34.714Z"
   },
   {
    "duration": 694,
    "start_time": "2022-10-20T12:39:05.829Z"
   },
   {
    "duration": 2344,
    "start_time": "2022-10-20T12:39:06.525Z"
   },
   {
    "duration": 9,
    "start_time": "2022-10-20T12:39:08.871Z"
   },
   {
    "duration": 11,
    "start_time": "2022-10-20T12:39:08.881Z"
   },
   {
    "duration": 9,
    "start_time": "2022-10-20T12:39:08.894Z"
   },
   {
    "duration": 13,
    "start_time": "2022-10-20T12:39:08.905Z"
   },
   {
    "duration": 59,
    "start_time": "2022-10-20T12:39:08.920Z"
   },
   {
    "duration": 6,
    "start_time": "2022-10-20T12:39:08.980Z"
   },
   {
    "duration": 21,
    "start_time": "2022-10-20T12:39:08.989Z"
   },
   {
    "duration": 15,
    "start_time": "2022-10-20T12:39:09.013Z"
   },
   {
    "duration": 6,
    "start_time": "2022-10-20T12:39:09.031Z"
   },
   {
    "duration": 17,
    "start_time": "2022-10-20T12:39:09.039Z"
   },
   {
    "duration": 36,
    "start_time": "2022-10-20T12:39:09.059Z"
   },
   {
    "duration": 8,
    "start_time": "2022-10-20T12:39:09.100Z"
   },
   {
    "duration": 12,
    "start_time": "2022-10-20T12:39:09.109Z"
   },
   {
    "duration": 364,
    "start_time": "2022-10-20T12:39:09.123Z"
   },
   {
    "duration": 9,
    "start_time": "2022-10-20T12:39:09.489Z"
   },
   {
    "duration": 14,
    "start_time": "2022-10-20T12:39:09.500Z"
   },
   {
    "duration": 8,
    "start_time": "2022-10-20T12:39:09.516Z"
   },
   {
    "duration": 35,
    "start_time": "2022-10-20T12:39:09.526Z"
   },
   {
    "duration": 8,
    "start_time": "2022-10-20T12:39:09.562Z"
   },
   {
    "duration": 5,
    "start_time": "2022-10-20T12:39:09.572Z"
   },
   {
    "duration": 20,
    "start_time": "2022-10-20T12:39:09.578Z"
   },
   {
    "duration": 11,
    "start_time": "2022-10-20T12:39:09.599Z"
   },
   {
    "duration": 12,
    "start_time": "2022-10-20T12:39:09.612Z"
   },
   {
    "duration": 7,
    "start_time": "2022-10-20T12:39:09.626Z"
   },
   {
    "duration": 21,
    "start_time": "2022-10-20T12:39:09.635Z"
   },
   {
    "duration": 3,
    "start_time": "2022-10-20T12:39:09.658Z"
   },
   {
    "duration": 208,
    "start_time": "2022-10-20T12:39:09.662Z"
   },
   {
    "duration": 4,
    "start_time": "2022-10-20T12:39:09.872Z"
   },
   {
    "duration": 8,
    "start_time": "2022-10-20T12:39:09.878Z"
   },
   {
    "duration": 11,
    "start_time": "2022-10-20T12:39:09.887Z"
   },
   {
    "duration": 9,
    "start_time": "2022-10-20T12:39:09.900Z"
   },
   {
    "duration": 8,
    "start_time": "2022-10-20T12:39:09.911Z"
   },
   {
    "duration": 7,
    "start_time": "2022-10-20T12:39:09.921Z"
   },
   {
    "duration": 35,
    "start_time": "2022-10-20T12:39:09.929Z"
   },
   {
    "duration": 5,
    "start_time": "2022-10-20T12:39:09.966Z"
   },
   {
    "duration": 494,
    "start_time": "2022-10-20T12:39:09.973Z"
   },
   {
    "duration": 345,
    "start_time": "2022-10-20T12:39:10.469Z"
   },
   {
    "duration": 450,
    "start_time": "2022-10-20T12:39:10.815Z"
   },
   {
    "duration": 627,
    "start_time": "2022-10-20T12:39:11.270Z"
   },
   {
    "duration": 415,
    "start_time": "2022-10-20T12:39:11.899Z"
   },
   {
    "duration": 287,
    "start_time": "2022-10-20T12:39:12.315Z"
   },
   {
    "duration": 385,
    "start_time": "2022-10-20T12:39:12.603Z"
   },
   {
    "duration": 154,
    "start_time": "2022-10-20T12:39:12.990Z"
   },
   {
    "duration": 292,
    "start_time": "2022-10-20T12:39:13.153Z"
   },
   {
    "duration": 319,
    "start_time": "2022-10-20T12:39:13.447Z"
   },
   {
    "duration": 313,
    "start_time": "2022-10-20T12:39:13.768Z"
   },
   {
    "duration": 303,
    "start_time": "2022-10-20T12:39:14.083Z"
   },
   {
    "duration": 172,
    "start_time": "2022-10-20T12:39:14.388Z"
   },
   {
    "duration": 275,
    "start_time": "2022-10-20T12:39:14.561Z"
   },
   {
    "duration": 312,
    "start_time": "2022-10-20T12:39:14.837Z"
   },
   {
    "duration": 211,
    "start_time": "2022-10-20T12:39:15.154Z"
   },
   {
    "duration": 234,
    "start_time": "2022-10-20T12:39:15.367Z"
   },
   {
    "duration": 214,
    "start_time": "2022-10-20T12:39:15.603Z"
   },
   {
    "duration": 217,
    "start_time": "2022-10-20T12:39:15.819Z"
   },
   {
    "duration": 183,
    "start_time": "2022-10-20T12:39:16.037Z"
   },
   {
    "duration": 622,
    "start_time": "2022-10-20T12:39:16.221Z"
   },
   {
    "duration": 32,
    "start_time": "2022-10-20T12:39:16.845Z"
   },
   {
    "duration": 16,
    "start_time": "2022-10-20T12:39:16.879Z"
   },
   {
    "duration": 242,
    "start_time": "2022-10-20T12:39:16.897Z"
   },
   {
    "duration": 713,
    "start_time": "2022-10-20T12:40:13.338Z"
   },
   {
    "duration": 2390,
    "start_time": "2022-10-20T12:40:14.053Z"
   },
   {
    "duration": 9,
    "start_time": "2022-10-20T12:40:16.445Z"
   },
   {
    "duration": 5,
    "start_time": "2022-10-20T12:40:16.456Z"
   },
   {
    "duration": 12,
    "start_time": "2022-10-20T12:40:16.463Z"
   },
   {
    "duration": 15,
    "start_time": "2022-10-20T12:40:16.477Z"
   },
   {
    "duration": 36,
    "start_time": "2022-10-20T12:40:16.494Z"
   },
   {
    "duration": 23,
    "start_time": "2022-10-20T12:40:16.532Z"
   },
   {
    "duration": 21,
    "start_time": "2022-10-20T12:40:16.557Z"
   },
   {
    "duration": 10,
    "start_time": "2022-10-20T12:40:16.579Z"
   },
   {
    "duration": 10,
    "start_time": "2022-10-20T12:40:16.591Z"
   },
   {
    "duration": 15,
    "start_time": "2022-10-20T12:40:16.603Z"
   },
   {
    "duration": 33,
    "start_time": "2022-10-20T12:40:16.620Z"
   },
   {
    "duration": 11,
    "start_time": "2022-10-20T12:40:16.657Z"
   },
   {
    "duration": 28,
    "start_time": "2022-10-20T12:40:16.670Z"
   },
   {
    "duration": 392,
    "start_time": "2022-10-20T12:40:16.700Z"
   },
   {
    "duration": 8,
    "start_time": "2022-10-20T12:40:17.094Z"
   },
   {
    "duration": 27,
    "start_time": "2022-10-20T12:40:17.103Z"
   },
   {
    "duration": 10,
    "start_time": "2022-10-20T12:40:17.132Z"
   },
   {
    "duration": 10,
    "start_time": "2022-10-20T12:40:17.154Z"
   },
   {
    "duration": 16,
    "start_time": "2022-10-20T12:40:17.166Z"
   },
   {
    "duration": 8,
    "start_time": "2022-10-20T12:40:17.183Z"
   },
   {
    "duration": 28,
    "start_time": "2022-10-20T12:40:17.193Z"
   },
   {
    "duration": 17,
    "start_time": "2022-10-20T12:40:17.222Z"
   },
   {
    "duration": 38,
    "start_time": "2022-10-20T12:40:17.241Z"
   },
   {
    "duration": 16,
    "start_time": "2022-10-20T12:40:17.281Z"
   },
   {
    "duration": 20,
    "start_time": "2022-10-20T12:40:17.299Z"
   },
   {
    "duration": 6,
    "start_time": "2022-10-20T12:40:17.321Z"
   },
   {
    "duration": 13,
    "start_time": "2022-10-20T12:40:17.329Z"
   },
   {
    "duration": 7,
    "start_time": "2022-10-20T12:40:17.344Z"
   },
   {
    "duration": 21,
    "start_time": "2022-10-20T12:40:17.352Z"
   },
   {
    "duration": 19,
    "start_time": "2022-10-20T12:40:17.375Z"
   },
   {
    "duration": 27,
    "start_time": "2022-10-20T12:40:17.396Z"
   },
   {
    "duration": 10,
    "start_time": "2022-10-20T12:40:17.425Z"
   },
   {
    "duration": 13,
    "start_time": "2022-10-20T12:40:17.437Z"
   },
   {
    "duration": 21,
    "start_time": "2022-10-20T12:40:17.453Z"
   },
   {
    "duration": 8,
    "start_time": "2022-10-20T12:40:17.476Z"
   },
   {
    "duration": 529,
    "start_time": "2022-10-20T12:40:17.486Z"
   },
   {
    "duration": 358,
    "start_time": "2022-10-20T12:40:18.017Z"
   },
   {
    "duration": 481,
    "start_time": "2022-10-20T12:40:18.376Z"
   },
   {
    "duration": 550,
    "start_time": "2022-10-20T12:40:18.862Z"
   },
   {
    "duration": 458,
    "start_time": "2022-10-20T12:40:19.414Z"
   },
   {
    "duration": 327,
    "start_time": "2022-10-20T12:40:19.874Z"
   },
   {
    "duration": 393,
    "start_time": "2022-10-20T12:40:20.203Z"
   },
   {
    "duration": 179,
    "start_time": "2022-10-20T12:40:20.598Z"
   },
   {
    "duration": 296,
    "start_time": "2022-10-20T12:40:20.779Z"
   },
   {
    "duration": 323,
    "start_time": "2022-10-20T12:40:21.077Z"
   },
   {
    "duration": 388,
    "start_time": "2022-10-20T12:40:21.402Z"
   },
   {
    "duration": 345,
    "start_time": "2022-10-20T12:40:21.792Z"
   },
   {
    "duration": 184,
    "start_time": "2022-10-20T12:40:22.139Z"
   },
   {
    "duration": 307,
    "start_time": "2022-10-20T12:40:22.324Z"
   },
   {
    "duration": 339,
    "start_time": "2022-10-20T12:40:22.632Z"
   },
   {
    "duration": 224,
    "start_time": "2022-10-20T12:40:22.973Z"
   },
   {
    "duration": 243,
    "start_time": "2022-10-20T12:40:23.198Z"
   },
   {
    "duration": 227,
    "start_time": "2022-10-20T12:40:23.443Z"
   },
   {
    "duration": 223,
    "start_time": "2022-10-20T12:40:23.672Z"
   },
   {
    "duration": 197,
    "start_time": "2022-10-20T12:40:23.897Z"
   },
   {
    "duration": 658,
    "start_time": "2022-10-20T12:40:24.096Z"
   },
   {
    "duration": 28,
    "start_time": "2022-10-20T12:40:24.756Z"
   },
   {
    "duration": 18,
    "start_time": "2022-10-20T12:40:24.785Z"
   },
   {
    "duration": 271,
    "start_time": "2022-10-20T12:40:24.805Z"
   },
   {
    "duration": 503,
    "start_time": "2022-10-20T12:42:08.146Z"
   },
   {
    "duration": 491,
    "start_time": "2022-10-20T12:42:23.664Z"
   },
   {
    "duration": 489,
    "start_time": "2022-10-20T12:42:52.749Z"
   },
   {
    "duration": 641,
    "start_time": "2022-10-20T12:43:30.604Z"
   },
   {
    "duration": 268,
    "start_time": "2022-10-20T12:44:11.906Z"
   },
   {
    "duration": 229,
    "start_time": "2022-10-20T12:44:34.629Z"
   },
   {
    "duration": 582,
    "start_time": "2022-10-20T12:45:04.196Z"
   },
   {
    "duration": 337,
    "start_time": "2022-10-20T12:45:47.648Z"
   },
   {
    "duration": 669,
    "start_time": "2022-10-20T12:46:00.150Z"
   },
   {
    "duration": 506,
    "start_time": "2022-10-20T12:48:00.405Z"
   },
   {
    "duration": 554,
    "start_time": "2022-10-20T12:48:21.025Z"
   },
   {
    "duration": 506,
    "start_time": "2022-10-20T12:48:41.984Z"
   },
   {
    "duration": 768,
    "start_time": "2022-10-20T12:51:41.712Z"
   },
   {
    "duration": 274,
    "start_time": "2022-10-20T12:57:54.531Z"
   },
   {
    "duration": 283,
    "start_time": "2022-10-20T12:58:27.234Z"
   },
   {
    "duration": 281,
    "start_time": "2022-10-20T12:59:13.576Z"
   },
   {
    "duration": 169,
    "start_time": "2022-10-20T12:59:49.870Z"
   },
   {
    "duration": 48,
    "start_time": "2022-10-20T13:01:33.804Z"
   },
   {
    "duration": 192,
    "start_time": "2022-10-20T13:06:04.881Z"
   },
   {
    "duration": 168,
    "start_time": "2022-10-20T13:06:19.601Z"
   },
   {
    "duration": 202,
    "start_time": "2022-10-20T13:06:34.254Z"
   },
   {
    "duration": 244,
    "start_time": "2022-10-20T13:07:21.512Z"
   },
   {
    "duration": 165,
    "start_time": "2022-10-20T13:07:42.299Z"
   },
   {
    "duration": 393,
    "start_time": "2022-10-20T13:08:16.308Z"
   },
   {
    "duration": 274,
    "start_time": "2022-10-20T13:08:58.524Z"
   },
   {
    "duration": 330,
    "start_time": "2022-10-20T13:09:18.825Z"
   },
   {
    "duration": 284,
    "start_time": "2022-10-20T13:10:04.044Z"
   },
   {
    "duration": 321,
    "start_time": "2022-10-20T13:10:16.334Z"
   },
   {
    "duration": 149,
    "start_time": "2022-10-20T13:10:50.021Z"
   },
   {
    "duration": 359,
    "start_time": "2022-10-20T13:11:29.889Z"
   },
   {
    "duration": 323,
    "start_time": "2022-10-20T13:12:02.220Z"
   },
   {
    "duration": 265,
    "start_time": "2022-10-20T13:12:29.528Z"
   },
   {
    "duration": 282,
    "start_time": "2022-10-20T13:13:03.272Z"
   },
   {
    "duration": 405,
    "start_time": "2022-10-20T13:14:02.591Z"
   },
   {
    "duration": 519,
    "start_time": "2022-10-20T13:14:26.852Z"
   },
   {
    "duration": 538,
    "start_time": "2022-10-20T13:17:13.043Z"
   },
   {
    "duration": 447,
    "start_time": "2022-10-20T13:17:32.737Z"
   },
   {
    "duration": 299,
    "start_time": "2022-10-20T13:17:46.687Z"
   },
   {
    "duration": 373,
    "start_time": "2022-10-20T13:17:59.725Z"
   },
   {
    "duration": 316,
    "start_time": "2022-10-20T13:18:18.847Z"
   },
   {
    "duration": 308,
    "start_time": "2022-10-20T13:18:33.762Z"
   },
   {
    "duration": 299,
    "start_time": "2022-10-20T13:18:48.508Z"
   },
   {
    "duration": 299,
    "start_time": "2022-10-20T13:19:06.398Z"
   },
   {
    "duration": 403,
    "start_time": "2022-10-20T13:20:12.911Z"
   },
   {
    "duration": 348,
    "start_time": "2022-10-20T13:20:48.968Z"
   },
   {
    "duration": 500,
    "start_time": "2022-10-20T13:21:32.698Z"
   },
   {
    "duration": 681,
    "start_time": "2022-10-20T13:26:17.152Z"
   },
   {
    "duration": 2215,
    "start_time": "2022-10-20T13:26:17.835Z"
   },
   {
    "duration": 9,
    "start_time": "2022-10-20T13:26:20.052Z"
   },
   {
    "duration": 6,
    "start_time": "2022-10-20T13:26:20.062Z"
   },
   {
    "duration": 15,
    "start_time": "2022-10-20T13:26:20.069Z"
   },
   {
    "duration": 33,
    "start_time": "2022-10-20T13:26:20.085Z"
   },
   {
    "duration": 51,
    "start_time": "2022-10-20T13:26:20.120Z"
   },
   {
    "duration": 5,
    "start_time": "2022-10-20T13:26:20.173Z"
   },
   {
    "duration": 11,
    "start_time": "2022-10-20T13:26:20.180Z"
   },
   {
    "duration": 26,
    "start_time": "2022-10-20T13:26:20.194Z"
   },
   {
    "duration": 28,
    "start_time": "2022-10-20T13:26:20.221Z"
   },
   {
    "duration": 25,
    "start_time": "2022-10-20T13:26:20.252Z"
   },
   {
    "duration": 27,
    "start_time": "2022-10-20T13:26:20.279Z"
   },
   {
    "duration": 8,
    "start_time": "2022-10-20T13:26:20.308Z"
   },
   {
    "duration": 9,
    "start_time": "2022-10-20T13:26:20.318Z"
   },
   {
    "duration": 353,
    "start_time": "2022-10-20T13:26:20.329Z"
   },
   {
    "duration": 9,
    "start_time": "2022-10-20T13:26:20.684Z"
   },
   {
    "duration": 11,
    "start_time": "2022-10-20T13:26:20.695Z"
   },
   {
    "duration": 13,
    "start_time": "2022-10-20T13:26:20.707Z"
   },
   {
    "duration": 12,
    "start_time": "2022-10-20T13:26:20.722Z"
   },
   {
    "duration": 8,
    "start_time": "2022-10-20T13:26:20.755Z"
   },
   {
    "duration": 5,
    "start_time": "2022-10-20T13:26:20.764Z"
   },
   {
    "duration": 11,
    "start_time": "2022-10-20T13:26:20.770Z"
   },
   {
    "duration": 13,
    "start_time": "2022-10-20T13:26:20.783Z"
   },
   {
    "duration": 11,
    "start_time": "2022-10-20T13:26:20.797Z"
   },
   {
    "duration": 7,
    "start_time": "2022-10-20T13:26:20.809Z"
   },
   {
    "duration": 37,
    "start_time": "2022-10-20T13:26:20.817Z"
   },
   {
    "duration": 7,
    "start_time": "2022-10-20T13:26:20.858Z"
   },
   {
    "duration": 20,
    "start_time": "2022-10-20T13:26:20.867Z"
   },
   {
    "duration": 10,
    "start_time": "2022-10-20T13:26:20.889Z"
   },
   {
    "duration": 9,
    "start_time": "2022-10-20T13:26:20.901Z"
   },
   {
    "duration": 12,
    "start_time": "2022-10-20T13:26:20.912Z"
   },
   {
    "duration": 15,
    "start_time": "2022-10-20T13:26:20.926Z"
   },
   {
    "duration": 11,
    "start_time": "2022-10-20T13:26:20.943Z"
   },
   {
    "duration": 10,
    "start_time": "2022-10-20T13:26:20.955Z"
   },
   {
    "duration": 18,
    "start_time": "2022-10-20T13:26:20.967Z"
   },
   {
    "duration": 6,
    "start_time": "2022-10-20T13:26:20.986Z"
   },
   {
    "duration": 533,
    "start_time": "2022-10-20T13:26:20.994Z"
   },
   {
    "duration": 390,
    "start_time": "2022-10-20T13:26:21.529Z"
   },
   {
    "duration": 438,
    "start_time": "2022-10-20T13:26:21.920Z"
   },
   {
    "duration": 526,
    "start_time": "2022-10-20T13:26:22.360Z"
   },
   {
    "duration": 445,
    "start_time": "2022-10-20T13:26:22.888Z"
   },
   {
    "duration": 333,
    "start_time": "2022-10-20T13:26:23.335Z"
   },
   {
    "duration": 392,
    "start_time": "2022-10-20T13:26:23.670Z"
   },
   {
    "duration": 163,
    "start_time": "2022-10-20T13:26:24.063Z"
   },
   {
    "duration": 308,
    "start_time": "2022-10-20T13:26:24.228Z"
   },
   {
    "duration": 319,
    "start_time": "2022-10-20T13:26:24.538Z"
   },
   {
    "duration": 314,
    "start_time": "2022-10-20T13:26:24.859Z"
   },
   {
    "duration": 314,
    "start_time": "2022-10-20T13:26:25.175Z"
   },
   {
    "duration": 197,
    "start_time": "2022-10-20T13:26:25.491Z"
   },
   {
    "duration": 270,
    "start_time": "2022-10-20T13:26:25.690Z"
   },
   {
    "duration": 310,
    "start_time": "2022-10-20T13:26:25.962Z"
   },
   {
    "duration": 216,
    "start_time": "2022-10-20T13:26:26.274Z"
   },
   {
    "duration": 229,
    "start_time": "2022-10-20T13:26:26.492Z"
   },
   {
    "duration": 231,
    "start_time": "2022-10-20T13:26:26.723Z"
   },
   {
    "duration": 223,
    "start_time": "2022-10-20T13:26:26.955Z"
   },
   {
    "duration": 193,
    "start_time": "2022-10-20T13:26:27.180Z"
   },
   {
    "duration": 612,
    "start_time": "2022-10-20T13:26:27.374Z"
   },
   {
    "duration": 25,
    "start_time": "2022-10-20T13:26:27.988Z"
   },
   {
    "duration": 16,
    "start_time": "2022-10-20T13:26:28.014Z"
   },
   {
    "duration": 252,
    "start_time": "2022-10-20T13:26:28.032Z"
   },
   {
    "duration": 2041,
    "start_time": "2022-10-20T13:27:07.298Z"
   },
   {
    "duration": 2245,
    "start_time": "2022-10-20T13:27:18.344Z"
   },
   {
    "duration": 641,
    "start_time": "2022-10-20T13:39:13.695Z"
   },
   {
    "duration": 2247,
    "start_time": "2022-10-20T13:39:14.338Z"
   },
   {
    "duration": 9,
    "start_time": "2022-10-20T13:39:16.586Z"
   },
   {
    "duration": 7,
    "start_time": "2022-10-20T13:39:16.596Z"
   },
   {
    "duration": 13,
    "start_time": "2022-10-20T13:39:16.605Z"
   },
   {
    "duration": 13,
    "start_time": "2022-10-20T13:39:16.620Z"
   },
   {
    "duration": 45,
    "start_time": "2022-10-20T13:39:16.635Z"
   },
   {
    "duration": 8,
    "start_time": "2022-10-20T13:39:16.682Z"
   },
   {
    "duration": 11,
    "start_time": "2022-10-20T13:39:16.692Z"
   },
   {
    "duration": 26,
    "start_time": "2022-10-20T13:39:16.706Z"
   },
   {
    "duration": 24,
    "start_time": "2022-10-20T13:39:16.733Z"
   },
   {
    "duration": 14,
    "start_time": "2022-10-20T13:39:16.759Z"
   },
   {
    "duration": 36,
    "start_time": "2022-10-20T13:39:16.775Z"
   },
   {
    "duration": 8,
    "start_time": "2022-10-20T13:39:16.814Z"
   },
   {
    "duration": 12,
    "start_time": "2022-10-20T13:39:16.823Z"
   },
   {
    "duration": 359,
    "start_time": "2022-10-20T13:39:16.837Z"
   },
   {
    "duration": 7,
    "start_time": "2022-10-20T13:39:17.198Z"
   },
   {
    "duration": 15,
    "start_time": "2022-10-20T13:39:17.207Z"
   },
   {
    "duration": 31,
    "start_time": "2022-10-20T13:39:17.224Z"
   },
   {
    "duration": 10,
    "start_time": "2022-10-20T13:39:17.257Z"
   },
   {
    "duration": 8,
    "start_time": "2022-10-20T13:39:17.269Z"
   },
   {
    "duration": 5,
    "start_time": "2022-10-20T13:39:17.279Z"
   },
   {
    "duration": 14,
    "start_time": "2022-10-20T13:39:17.285Z"
   },
   {
    "duration": 11,
    "start_time": "2022-10-20T13:39:17.301Z"
   },
   {
    "duration": 9,
    "start_time": "2022-10-20T13:39:17.313Z"
   },
   {
    "duration": 31,
    "start_time": "2022-10-20T13:39:17.324Z"
   },
   {
    "duration": 12,
    "start_time": "2022-10-20T13:39:17.357Z"
   },
   {
    "duration": 7,
    "start_time": "2022-10-20T13:39:17.370Z"
   },
   {
    "duration": 5,
    "start_time": "2022-10-20T13:39:17.379Z"
   },
   {
    "duration": 12,
    "start_time": "2022-10-20T13:39:17.385Z"
   },
   {
    "duration": 9,
    "start_time": "2022-10-20T13:39:17.398Z"
   },
   {
    "duration": 15,
    "start_time": "2022-10-20T13:39:17.409Z"
   },
   {
    "duration": 30,
    "start_time": "2022-10-20T13:39:17.426Z"
   },
   {
    "duration": 7,
    "start_time": "2022-10-20T13:39:17.458Z"
   },
   {
    "duration": 14,
    "start_time": "2022-10-20T13:39:17.467Z"
   },
   {
    "duration": 12,
    "start_time": "2022-10-20T13:39:17.482Z"
   },
   {
    "duration": 15,
    "start_time": "2022-10-20T13:39:17.496Z"
   },
   {
    "duration": 518,
    "start_time": "2022-10-20T13:39:17.513Z"
   },
   {
    "duration": 338,
    "start_time": "2022-10-20T13:39:18.033Z"
   },
   {
    "duration": 438,
    "start_time": "2022-10-20T13:39:18.373Z"
   },
   {
    "duration": 519,
    "start_time": "2022-10-20T13:39:18.815Z"
   },
   {
    "duration": 423,
    "start_time": "2022-10-20T13:39:19.335Z"
   },
   {
    "duration": 298,
    "start_time": "2022-10-20T13:39:19.760Z"
   },
   {
    "duration": 389,
    "start_time": "2022-10-20T13:39:20.060Z"
   },
   {
    "duration": 154,
    "start_time": "2022-10-20T13:39:20.454Z"
   },
   {
    "duration": 329,
    "start_time": "2022-10-20T13:39:20.610Z"
   },
   {
    "duration": 318,
    "start_time": "2022-10-20T13:39:20.940Z"
   },
   {
    "duration": 335,
    "start_time": "2022-10-20T13:39:21.259Z"
   },
   {
    "duration": 364,
    "start_time": "2022-10-20T13:39:21.597Z"
   },
   {
    "duration": 169,
    "start_time": "2022-10-20T13:39:21.962Z"
   },
   {
    "duration": 273,
    "start_time": "2022-10-20T13:39:22.133Z"
   },
   {
    "duration": 315,
    "start_time": "2022-10-20T13:39:22.408Z"
   },
   {
    "duration": 205,
    "start_time": "2022-10-20T13:39:22.726Z"
   },
   {
    "duration": 222,
    "start_time": "2022-10-20T13:39:22.933Z"
   },
   {
    "duration": 208,
    "start_time": "2022-10-20T13:39:23.157Z"
   },
   {
    "duration": 223,
    "start_time": "2022-10-20T13:39:23.367Z"
   },
   {
    "duration": 188,
    "start_time": "2022-10-20T13:39:23.592Z"
   },
   {
    "duration": 593,
    "start_time": "2022-10-20T13:39:23.781Z"
   },
   {
    "duration": 25,
    "start_time": "2022-10-20T13:39:24.376Z"
   },
   {
    "duration": 25,
    "start_time": "2022-10-20T13:39:24.402Z"
   },
   {
    "duration": 227,
    "start_time": "2022-10-20T13:39:24.429Z"
   },
   {
    "duration": 442,
    "start_time": "2022-10-20T13:44:03.738Z"
   },
   {
    "duration": 484,
    "start_time": "2022-10-20T13:45:19.132Z"
   },
   {
    "duration": 504,
    "start_time": "2022-10-20T13:45:35.140Z"
   },
   {
    "duration": 621,
    "start_time": "2022-10-20T13:46:05.829Z"
   },
   {
    "duration": 476,
    "start_time": "2022-10-20T13:46:19.629Z"
   },
   {
    "duration": 262,
    "start_time": "2022-10-20T13:56:41.329Z"
   },
   {
    "duration": 214,
    "start_time": "2022-10-20T13:57:02.659Z"
   },
   {
    "duration": 242,
    "start_time": "2022-10-20T13:57:29.267Z"
   },
   {
    "duration": 212,
    "start_time": "2022-10-20T13:57:51.903Z"
   },
   {
    "duration": 224,
    "start_time": "2022-10-20T13:58:20.211Z"
   },
   {
    "duration": 271,
    "start_time": "2022-10-20T13:58:49.593Z"
   },
   {
    "duration": 192,
    "start_time": "2022-10-20T13:58:57.912Z"
   },
   {
    "duration": 677,
    "start_time": "2022-10-20T14:00:10.650Z"
   },
   {
    "duration": 149,
    "start_time": "2022-10-20T14:01:50.807Z"
   },
   {
    "duration": 146,
    "start_time": "2022-10-20T14:02:13.521Z"
   },
   {
    "duration": 155,
    "start_time": "2022-10-20T14:02:19.178Z"
   },
   {
    "duration": 209,
    "start_time": "2022-10-20T14:07:26.185Z"
   },
   {
    "duration": 144,
    "start_time": "2022-10-20T14:07:36.816Z"
   },
   {
    "duration": 143,
    "start_time": "2022-10-20T14:07:56.765Z"
   },
   {
    "duration": 227,
    "start_time": "2022-10-20T14:08:28.644Z"
   },
   {
    "duration": 94,
    "start_time": "2022-10-20T14:09:54.305Z"
   },
   {
    "duration": 138,
    "start_time": "2022-10-20T14:10:02.760Z"
   },
   {
    "duration": 196,
    "start_time": "2022-10-20T14:10:11.580Z"
   },
   {
    "duration": 149,
    "start_time": "2022-10-20T14:10:21.008Z"
   },
   {
    "duration": 704,
    "start_time": "2022-10-20T14:11:30.482Z"
   },
   {
    "duration": 2246,
    "start_time": "2022-10-20T14:11:31.189Z"
   },
   {
    "duration": 10,
    "start_time": "2022-10-20T14:11:33.437Z"
   },
   {
    "duration": 12,
    "start_time": "2022-10-20T14:11:33.449Z"
   },
   {
    "duration": 14,
    "start_time": "2022-10-20T14:11:33.464Z"
   },
   {
    "duration": 29,
    "start_time": "2022-10-20T14:11:33.480Z"
   },
   {
    "duration": 47,
    "start_time": "2022-10-20T14:11:33.511Z"
   },
   {
    "duration": 6,
    "start_time": "2022-10-20T14:11:33.560Z"
   },
   {
    "duration": 17,
    "start_time": "2022-10-20T14:11:33.568Z"
   },
   {
    "duration": 20,
    "start_time": "2022-10-20T14:11:33.587Z"
   },
   {
    "duration": 20,
    "start_time": "2022-10-20T14:11:33.608Z"
   },
   {
    "duration": 28,
    "start_time": "2022-10-20T14:11:33.630Z"
   },
   {
    "duration": 36,
    "start_time": "2022-10-20T14:11:33.660Z"
   },
   {
    "duration": 11,
    "start_time": "2022-10-20T14:11:33.701Z"
   },
   {
    "duration": 31,
    "start_time": "2022-10-20T14:11:33.714Z"
   },
   {
    "duration": 373,
    "start_time": "2022-10-20T14:11:33.747Z"
   },
   {
    "duration": 7,
    "start_time": "2022-10-20T14:11:34.121Z"
   },
   {
    "duration": 28,
    "start_time": "2022-10-20T14:11:34.129Z"
   },
   {
    "duration": 9,
    "start_time": "2022-10-20T14:11:34.159Z"
   },
   {
    "duration": 22,
    "start_time": "2022-10-20T14:11:34.170Z"
   },
   {
    "duration": 13,
    "start_time": "2022-10-20T14:11:34.194Z"
   },
   {
    "duration": 13,
    "start_time": "2022-10-20T14:11:34.209Z"
   },
   {
    "duration": 28,
    "start_time": "2022-10-20T14:11:34.224Z"
   },
   {
    "duration": 17,
    "start_time": "2022-10-20T14:11:34.254Z"
   },
   {
    "duration": 37,
    "start_time": "2022-10-20T14:11:34.273Z"
   },
   {
    "duration": 27,
    "start_time": "2022-10-20T14:11:34.312Z"
   },
   {
    "duration": 33,
    "start_time": "2022-10-20T14:11:34.341Z"
   },
   {
    "duration": 6,
    "start_time": "2022-10-20T14:11:34.376Z"
   },
   {
    "duration": 18,
    "start_time": "2022-10-20T14:11:34.384Z"
   },
   {
    "duration": 16,
    "start_time": "2022-10-20T14:11:34.404Z"
   },
   {
    "duration": 10,
    "start_time": "2022-10-20T14:11:34.422Z"
   },
   {
    "duration": 39,
    "start_time": "2022-10-20T14:11:34.433Z"
   },
   {
    "duration": 12,
    "start_time": "2022-10-20T14:11:34.473Z"
   },
   {
    "duration": 21,
    "start_time": "2022-10-20T14:11:34.487Z"
   },
   {
    "duration": 17,
    "start_time": "2022-10-20T14:11:34.510Z"
   },
   {
    "duration": 12,
    "start_time": "2022-10-20T14:11:34.528Z"
   },
   {
    "duration": 30,
    "start_time": "2022-10-20T14:11:34.542Z"
   },
   {
    "duration": 518,
    "start_time": "2022-10-20T14:11:34.575Z"
   },
   {
    "duration": 337,
    "start_time": "2022-10-20T14:11:35.094Z"
   },
   {
    "duration": 456,
    "start_time": "2022-10-20T14:11:35.433Z"
   },
   {
    "duration": 530,
    "start_time": "2022-10-20T14:11:35.895Z"
   },
   {
    "duration": 470,
    "start_time": "2022-10-20T14:11:36.427Z"
   },
   {
    "duration": 330,
    "start_time": "2022-10-20T14:11:36.899Z"
   },
   {
    "duration": 406,
    "start_time": "2022-10-20T14:11:37.231Z"
   },
   {
    "duration": 176,
    "start_time": "2022-10-20T14:11:37.638Z"
   },
   {
    "duration": 343,
    "start_time": "2022-10-20T14:11:37.816Z"
   },
   {
    "duration": 400,
    "start_time": "2022-10-20T14:11:38.161Z"
   },
   {
    "duration": 349,
    "start_time": "2022-10-20T14:11:38.563Z"
   },
   {
    "duration": 341,
    "start_time": "2022-10-20T14:11:38.914Z"
   },
   {
    "duration": 179,
    "start_time": "2022-10-20T14:11:39.259Z"
   },
   {
    "duration": 295,
    "start_time": "2022-10-20T14:11:39.440Z"
   },
   {
    "duration": 518,
    "start_time": "2022-10-20T14:11:39.737Z"
   },
   {
    "duration": 218,
    "start_time": "2022-10-20T14:11:40.257Z"
   },
   {
    "duration": 242,
    "start_time": "2022-10-20T14:11:40.477Z"
   },
   {
    "duration": 233,
    "start_time": "2022-10-20T14:11:40.721Z"
   },
   {
    "duration": 238,
    "start_time": "2022-10-20T14:11:40.955Z"
   },
   {
    "duration": 206,
    "start_time": "2022-10-20T14:11:41.194Z"
   },
   {
    "duration": 828,
    "start_time": "2022-10-20T14:11:41.401Z"
   },
   {
    "duration": 31,
    "start_time": "2022-10-20T14:11:42.231Z"
   },
   {
    "duration": 22,
    "start_time": "2022-10-20T14:11:42.264Z"
   },
   {
    "duration": 161,
    "start_time": "2022-10-20T14:11:42.288Z"
   },
   {
    "duration": 162,
    "start_time": "2022-10-20T14:13:31.076Z"
   },
   {
    "duration": 26,
    "start_time": "2022-10-20T14:13:45.450Z"
   },
   {
    "duration": 738,
    "start_time": "2022-10-20T14:13:59.754Z"
   },
   {
    "duration": 2325,
    "start_time": "2022-10-20T14:14:00.494Z"
   },
   {
    "duration": 9,
    "start_time": "2022-10-20T14:14:02.821Z"
   },
   {
    "duration": 35,
    "start_time": "2022-10-20T14:14:02.832Z"
   },
   {
    "duration": 23,
    "start_time": "2022-10-20T14:14:02.869Z"
   },
   {
    "duration": 43,
    "start_time": "2022-10-20T14:14:02.894Z"
   },
   {
    "duration": 59,
    "start_time": "2022-10-20T14:14:02.939Z"
   },
   {
    "duration": 6,
    "start_time": "2022-10-20T14:14:03.000Z"
   },
   {
    "duration": 21,
    "start_time": "2022-10-20T14:14:03.008Z"
   },
   {
    "duration": 21,
    "start_time": "2022-10-20T14:14:03.031Z"
   },
   {
    "duration": 17,
    "start_time": "2022-10-20T14:14:03.054Z"
   },
   {
    "duration": 17,
    "start_time": "2022-10-20T14:14:03.072Z"
   },
   {
    "duration": 51,
    "start_time": "2022-10-20T14:14:03.091Z"
   },
   {
    "duration": 22,
    "start_time": "2022-10-20T14:14:03.147Z"
   },
   {
    "duration": 11,
    "start_time": "2022-10-20T14:14:03.171Z"
   },
   {
    "duration": 347,
    "start_time": "2022-10-20T14:14:03.184Z"
   },
   {
    "duration": 7,
    "start_time": "2022-10-20T14:14:03.532Z"
   },
   {
    "duration": 21,
    "start_time": "2022-10-20T14:14:03.541Z"
   },
   {
    "duration": 13,
    "start_time": "2022-10-20T14:14:03.564Z"
   },
   {
    "duration": 9,
    "start_time": "2022-10-20T14:14:03.579Z"
   },
   {
    "duration": 10,
    "start_time": "2022-10-20T14:14:03.589Z"
   },
   {
    "duration": 5,
    "start_time": "2022-10-20T14:14:03.600Z"
   },
   {
    "duration": 18,
    "start_time": "2022-10-20T14:14:03.606Z"
   },
   {
    "duration": 28,
    "start_time": "2022-10-20T14:14:03.626Z"
   },
   {
    "duration": 7,
    "start_time": "2022-10-20T14:14:03.656Z"
   },
   {
    "duration": 5,
    "start_time": "2022-10-20T14:14:03.665Z"
   },
   {
    "duration": 13,
    "start_time": "2022-10-20T14:14:03.671Z"
   },
   {
    "duration": 7,
    "start_time": "2022-10-20T14:14:03.686Z"
   },
   {
    "duration": 5,
    "start_time": "2022-10-20T14:14:03.694Z"
   },
   {
    "duration": 5,
    "start_time": "2022-10-20T14:14:03.700Z"
   },
   {
    "duration": 47,
    "start_time": "2022-10-20T14:14:03.707Z"
   },
   {
    "duration": 10,
    "start_time": "2022-10-20T14:14:03.756Z"
   },
   {
    "duration": 10,
    "start_time": "2022-10-20T14:14:03.768Z"
   },
   {
    "duration": 8,
    "start_time": "2022-10-20T14:14:03.780Z"
   },
   {
    "duration": 12,
    "start_time": "2022-10-20T14:14:03.789Z"
   },
   {
    "duration": 12,
    "start_time": "2022-10-20T14:14:03.803Z"
   },
   {
    "duration": 43,
    "start_time": "2022-10-20T14:14:03.816Z"
   },
   {
    "duration": 498,
    "start_time": "2022-10-20T14:14:03.861Z"
   },
   {
    "duration": 351,
    "start_time": "2022-10-20T14:14:04.361Z"
   },
   {
    "duration": 449,
    "start_time": "2022-10-20T14:14:04.714Z"
   },
   {
    "duration": 546,
    "start_time": "2022-10-20T14:14:05.168Z"
   },
   {
    "duration": 452,
    "start_time": "2022-10-20T14:14:05.716Z"
   },
   {
    "duration": 310,
    "start_time": "2022-10-20T14:14:06.169Z"
   },
   {
    "duration": 405,
    "start_time": "2022-10-20T14:14:06.481Z"
   },
   {
    "duration": 172,
    "start_time": "2022-10-20T14:14:06.888Z"
   },
   {
    "duration": 296,
    "start_time": "2022-10-20T14:14:07.061Z"
   },
   {
    "duration": 315,
    "start_time": "2022-10-20T14:14:07.359Z"
   },
   {
    "duration": 298,
    "start_time": "2022-10-20T14:14:07.676Z"
   },
   {
    "duration": 304,
    "start_time": "2022-10-20T14:14:07.976Z"
   },
   {
    "duration": 185,
    "start_time": "2022-10-20T14:14:08.282Z"
   },
   {
    "duration": 285,
    "start_time": "2022-10-20T14:14:08.469Z"
   },
   {
    "duration": 505,
    "start_time": "2022-10-20T14:14:08.756Z"
   },
   {
    "duration": 211,
    "start_time": "2022-10-20T14:14:09.262Z"
   },
   {
    "duration": 231,
    "start_time": "2022-10-20T14:14:09.475Z"
   },
   {
    "duration": 228,
    "start_time": "2022-10-20T14:14:09.708Z"
   },
   {
    "duration": 227,
    "start_time": "2022-10-20T14:14:09.938Z"
   },
   {
    "duration": 204,
    "start_time": "2022-10-20T14:14:10.166Z"
   },
   {
    "duration": 778,
    "start_time": "2022-10-20T14:14:10.371Z"
   },
   {
    "duration": 27,
    "start_time": "2022-10-20T14:14:11.153Z"
   },
   {
    "duration": 18,
    "start_time": "2022-10-20T14:14:11.183Z"
   },
   {
    "duration": 189,
    "start_time": "2022-10-20T14:14:11.204Z"
   },
   {
    "duration": 738,
    "start_time": "2022-10-20T16:48:17.614Z"
   },
   {
    "duration": 2758,
    "start_time": "2022-10-20T16:48:18.354Z"
   },
   {
    "duration": 7,
    "start_time": "2022-10-20T16:48:21.114Z"
   },
   {
    "duration": 3,
    "start_time": "2022-10-20T16:48:21.124Z"
   },
   {
    "duration": 26,
    "start_time": "2022-10-20T16:48:21.129Z"
   },
   {
    "duration": 17,
    "start_time": "2022-10-20T16:48:21.157Z"
   },
   {
    "duration": 33,
    "start_time": "2022-10-20T16:48:21.175Z"
   },
   {
    "duration": 5,
    "start_time": "2022-10-20T16:48:21.210Z"
   },
   {
    "duration": 27,
    "start_time": "2022-10-20T16:48:21.217Z"
   },
   {
    "duration": 17,
    "start_time": "2022-10-20T16:48:21.246Z"
   },
   {
    "duration": 16,
    "start_time": "2022-10-20T16:48:21.265Z"
   },
   {
    "duration": 13,
    "start_time": "2022-10-20T16:48:21.283Z"
   },
   {
    "duration": 55,
    "start_time": "2022-10-20T16:48:21.297Z"
   },
   {
    "duration": 7,
    "start_time": "2022-10-20T16:48:21.354Z"
   },
   {
    "duration": 18,
    "start_time": "2022-10-20T16:48:21.363Z"
   },
   {
    "duration": 470,
    "start_time": "2022-10-20T16:48:21.384Z"
   },
   {
    "duration": 9,
    "start_time": "2022-10-20T16:48:21.856Z"
   },
   {
    "duration": 13,
    "start_time": "2022-10-20T16:48:21.867Z"
   },
   {
    "duration": 9,
    "start_time": "2022-10-20T16:48:21.882Z"
   },
   {
    "duration": 9,
    "start_time": "2022-10-20T16:48:21.893Z"
   },
   {
    "duration": 7,
    "start_time": "2022-10-20T16:48:21.903Z"
   },
   {
    "duration": 43,
    "start_time": "2022-10-20T16:48:21.912Z"
   },
   {
    "duration": 35,
    "start_time": "2022-10-20T16:48:21.957Z"
   },
   {
    "duration": 9,
    "start_time": "2022-10-20T16:48:21.994Z"
   },
   {
    "duration": 16,
    "start_time": "2022-10-20T16:48:22.004Z"
   },
   {
    "duration": 8,
    "start_time": "2022-10-20T16:48:22.021Z"
   },
   {
    "duration": 13,
    "start_time": "2022-10-20T16:48:22.030Z"
   },
   {
    "duration": 6,
    "start_time": "2022-10-20T16:48:22.046Z"
   },
   {
    "duration": 10,
    "start_time": "2022-10-20T16:48:22.053Z"
   },
   {
    "duration": 8,
    "start_time": "2022-10-20T16:48:22.064Z"
   },
   {
    "duration": 10,
    "start_time": "2022-10-20T16:48:22.074Z"
   },
   {
    "duration": 12,
    "start_time": "2022-10-20T16:48:22.086Z"
   },
   {
    "duration": 19,
    "start_time": "2022-10-20T16:48:22.100Z"
   },
   {
    "duration": 6,
    "start_time": "2022-10-20T16:48:22.121Z"
   },
   {
    "duration": 11,
    "start_time": "2022-10-20T16:48:22.128Z"
   },
   {
    "duration": 20,
    "start_time": "2022-10-20T16:48:22.140Z"
   },
   {
    "duration": 7,
    "start_time": "2022-10-20T16:48:22.161Z"
   },
   {
    "duration": 501,
    "start_time": "2022-10-20T16:48:22.170Z"
   },
   {
    "duration": 340,
    "start_time": "2022-10-20T16:48:22.673Z"
   },
   {
    "duration": 443,
    "start_time": "2022-10-20T16:48:23.015Z"
   },
   {
    "duration": 523,
    "start_time": "2022-10-20T16:48:23.459Z"
   },
   {
    "duration": 443,
    "start_time": "2022-10-20T16:48:23.983Z"
   },
   {
    "duration": 307,
    "start_time": "2022-10-20T16:48:24.428Z"
   },
   {
    "duration": 396,
    "start_time": "2022-10-20T16:48:24.737Z"
   },
   {
    "duration": 172,
    "start_time": "2022-10-20T16:48:25.135Z"
   },
   {
    "duration": 325,
    "start_time": "2022-10-20T16:48:25.309Z"
   },
   {
    "duration": 323,
    "start_time": "2022-10-20T16:48:25.636Z"
   },
   {
    "duration": 300,
    "start_time": "2022-10-20T16:48:25.961Z"
   },
   {
    "duration": 307,
    "start_time": "2022-10-20T16:48:26.263Z"
   },
   {
    "duration": 187,
    "start_time": "2022-10-20T16:48:26.571Z"
   },
   {
    "duration": 297,
    "start_time": "2022-10-20T16:48:26.760Z"
   },
   {
    "duration": 506,
    "start_time": "2022-10-20T16:48:27.059Z"
   },
   {
    "duration": 216,
    "start_time": "2022-10-20T16:48:27.566Z"
   },
   {
    "duration": 225,
    "start_time": "2022-10-20T16:48:27.783Z"
   },
   {
    "duration": 216,
    "start_time": "2022-10-20T16:48:28.010Z"
   },
   {
    "duration": 236,
    "start_time": "2022-10-20T16:48:28.228Z"
   },
   {
    "duration": 198,
    "start_time": "2022-10-20T16:48:28.466Z"
   },
   {
    "duration": 733,
    "start_time": "2022-10-20T16:48:28.666Z"
   },
   {
    "duration": 25,
    "start_time": "2022-10-20T16:48:29.401Z"
   },
   {
    "duration": 35,
    "start_time": "2022-10-20T16:48:29.427Z"
   },
   {
    "duration": 154,
    "start_time": "2022-10-20T16:48:29.464Z"
   },
   {
    "duration": 717,
    "start_time": "2022-10-20T16:49:28.658Z"
   },
   {
    "duration": 2395,
    "start_time": "2022-10-20T16:49:29.378Z"
   },
   {
    "duration": 28,
    "start_time": "2022-10-20T16:49:31.775Z"
   },
   {
    "duration": 14,
    "start_time": "2022-10-20T16:49:31.807Z"
   },
   {
    "duration": 50,
    "start_time": "2022-10-20T16:49:31.824Z"
   },
   {
    "duration": 28,
    "start_time": "2022-10-20T16:49:31.876Z"
   },
   {
    "duration": 58,
    "start_time": "2022-10-20T16:49:31.906Z"
   },
   {
    "duration": 8,
    "start_time": "2022-10-20T16:49:31.966Z"
   },
   {
    "duration": 16,
    "start_time": "2022-10-20T16:49:31.976Z"
   },
   {
    "duration": 22,
    "start_time": "2022-10-20T16:49:31.996Z"
   },
   {
    "duration": 24,
    "start_time": "2022-10-20T16:49:32.021Z"
   },
   {
    "duration": 37,
    "start_time": "2022-10-20T16:49:32.047Z"
   },
   {
    "duration": 42,
    "start_time": "2022-10-20T16:49:32.087Z"
   },
   {
    "duration": 10,
    "start_time": "2022-10-20T16:49:32.132Z"
   },
   {
    "duration": 44,
    "start_time": "2022-10-20T16:49:32.144Z"
   },
   {
    "duration": 355,
    "start_time": "2022-10-20T16:49:32.190Z"
   },
   {
    "duration": 11,
    "start_time": "2022-10-20T16:49:32.547Z"
   },
   {
    "duration": 14,
    "start_time": "2022-10-20T16:49:32.560Z"
   },
   {
    "duration": 20,
    "start_time": "2022-10-20T16:49:32.576Z"
   },
   {
    "duration": 12,
    "start_time": "2022-10-20T16:49:32.598Z"
   },
   {
    "duration": 8,
    "start_time": "2022-10-20T16:49:32.612Z"
   },
   {
    "duration": 10,
    "start_time": "2022-10-20T16:49:32.622Z"
   },
   {
    "duration": 9,
    "start_time": "2022-10-20T16:49:32.655Z"
   },
   {
    "duration": 8,
    "start_time": "2022-10-20T16:49:32.666Z"
   },
   {
    "duration": 12,
    "start_time": "2022-10-20T16:49:32.676Z"
   },
   {
    "duration": 5,
    "start_time": "2022-10-20T16:49:32.689Z"
   },
   {
    "duration": 10,
    "start_time": "2022-10-20T16:49:32.696Z"
   },
   {
    "duration": 6,
    "start_time": "2022-10-20T16:49:32.710Z"
   },
   {
    "duration": 39,
    "start_time": "2022-10-20T16:49:32.718Z"
   },
   {
    "duration": 5,
    "start_time": "2022-10-20T16:49:32.759Z"
   },
   {
    "duration": 13,
    "start_time": "2022-10-20T16:49:32.765Z"
   },
   {
    "duration": 10,
    "start_time": "2022-10-20T16:49:32.780Z"
   },
   {
    "duration": 11,
    "start_time": "2022-10-20T16:49:32.792Z"
   },
   {
    "duration": 7,
    "start_time": "2022-10-20T16:49:32.805Z"
   },
   {
    "duration": 44,
    "start_time": "2022-10-20T16:49:32.813Z"
   },
   {
    "duration": 16,
    "start_time": "2022-10-20T16:49:32.859Z"
   },
   {
    "duration": 21,
    "start_time": "2022-10-20T16:49:32.877Z"
   },
   {
    "duration": 531,
    "start_time": "2022-10-20T16:49:32.900Z"
   },
   {
    "duration": 350,
    "start_time": "2022-10-20T16:49:33.434Z"
   },
   {
    "duration": 457,
    "start_time": "2022-10-20T16:49:33.786Z"
   },
   {
    "duration": 549,
    "start_time": "2022-10-20T16:49:34.254Z"
   },
   {
    "duration": 472,
    "start_time": "2022-10-20T16:49:34.805Z"
   },
   {
    "duration": 331,
    "start_time": "2022-10-20T16:49:35.279Z"
   },
   {
    "duration": 390,
    "start_time": "2022-10-20T16:49:35.611Z"
   },
   {
    "duration": 163,
    "start_time": "2022-10-20T16:49:36.003Z"
   },
   {
    "duration": 322,
    "start_time": "2022-10-20T16:49:36.168Z"
   },
   {
    "duration": 328,
    "start_time": "2022-10-20T16:49:36.492Z"
   },
   {
    "duration": 316,
    "start_time": "2022-10-20T16:49:36.822Z"
   },
   {
    "duration": 330,
    "start_time": "2022-10-20T16:49:37.140Z"
   },
   {
    "duration": 182,
    "start_time": "2022-10-20T16:49:37.472Z"
   },
   {
    "duration": 273,
    "start_time": "2022-10-20T16:49:37.656Z"
   },
   {
    "duration": 516,
    "start_time": "2022-10-20T16:49:37.930Z"
   },
   {
    "duration": 223,
    "start_time": "2022-10-20T16:49:38.448Z"
   },
   {
    "duration": 237,
    "start_time": "2022-10-20T16:49:38.672Z"
   },
   {
    "duration": 228,
    "start_time": "2022-10-20T16:49:38.910Z"
   },
   {
    "duration": 235,
    "start_time": "2022-10-20T16:49:39.140Z"
   },
   {
    "duration": 214,
    "start_time": "2022-10-20T16:49:39.377Z"
   },
   {
    "duration": 773,
    "start_time": "2022-10-20T16:49:39.592Z"
   },
   {
    "duration": 26,
    "start_time": "2022-10-20T16:49:40.367Z"
   },
   {
    "duration": 15,
    "start_time": "2022-10-20T16:49:40.394Z"
   },
   {
    "duration": 179,
    "start_time": "2022-10-20T16:49:40.412Z"
   },
   {
    "duration": 14,
    "start_time": "2022-10-20T16:51:29.519Z"
   },
   {
    "duration": 112,
    "start_time": "2022-10-20T16:51:33.345Z"
   },
   {
    "duration": 4,
    "start_time": "2022-10-20T16:52:01.588Z"
   },
   {
    "duration": 179,
    "start_time": "2022-10-20T16:52:08.495Z"
   }
  ],
  "kernelspec": {
   "display_name": "Python 3 (ipykernel)",
   "language": "python",
   "name": "python3"
  },
  "language_info": {
   "codemirror_mode": {
    "name": "ipython",
    "version": 3
   },
   "file_extension": ".py",
   "mimetype": "text/x-python",
   "name": "python",
   "nbconvert_exporter": "python",
   "pygments_lexer": "ipython3",
   "version": "3.9.5"
  },
  "toc": {
   "base_numbering": 1,
   "nav_menu": {},
   "number_sections": true,
   "sideBar": true,
   "skip_h1_title": true,
   "title_cell": "Table of Contents",
   "title_sidebar": "Contents",
   "toc_cell": false,
   "toc_position": {},
   "toc_section_display": true,
   "toc_window_display": false
  }
 },
 "nbformat": 4,
 "nbformat_minor": 2
}
