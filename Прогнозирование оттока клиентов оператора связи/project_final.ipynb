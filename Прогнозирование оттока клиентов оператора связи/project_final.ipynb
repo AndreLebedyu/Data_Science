{
 "cells": [
  {
   "cell_type": "markdown",
   "metadata": {},
   "source": [
    "# Телеком"
   ]
  },
  {
   "cell_type": "markdown",
   "metadata": {},
   "source": [
    "Оператор связи хочет научиться прогнозировать отток клиентов. Если выяснится, что пользователь планирует уйти, ему будут предложены промокоды и специальные условия. Команда оператора собрала персональные данные о некоторых клиентах, информацию об их тарифах и договорах.\n",
    "\n",
    "<b> Описание услуг </b>\n",
    "\n",
    "Оператор предоставляет два основных типа услуг: \n",
    "\n",
    "1. Стационарную телефонную связь. Возможно подключение телефонного аппарата к нескольким линиям одновременно.\n",
    "2. Интернет. Подключение может быть двух типов: через телефонную линию (DSL*,* от англ. *digital subscriber line*, «цифровая абонентская линия») или оптоволоконный кабель (*Fiber optic*).  \n",
    "\n",
    "Также доступны такие услуги:\n",
    "\n",
    "- Интернет-безопасность: антивирус (*DeviceProtection*) и блокировка небезопасных сайтов (*OnlineSecurity*);\n",
    "- Выделенная линия технической поддержки (*TechSupport*);\n",
    "- Облачное хранилище файлов для резервного копирования данных (*OnlineBackup*);\n",
    "- Стриминговое телевидение (*StreamingTV*) и каталог фильмов (*StreamingMovies*).\n",
    "\n",
    "За услуги клиенты могут платить каждый месяц или заключить договор на 1–2 года. Доступны различные способы расчёта и возможность получения электронного чека."
   ]
  },
  {
   "cell_type": "markdown",
   "metadata": {},
   "source": [
    "<b>План решения задачи </b>"
   ]
  },
  {
   "cell_type": "markdown",
   "metadata": {},
   "source": [
    "1. Подготовка данных: импорт необходимых для работы библиотек, загрузка датасетов, вывод информации о них, перевод данных в необходимые форматы (при необходимости), оценка количества дубликатов и пропусков, работа с ними\n",
    "2. Анализ данных: оценка признаков и целевого признака, построение графиков, изучение мультиколлинеарности и баланса классов\n",
    "3. Обучение моделей: разделение датасета на выборки, преобразования категориальных признаков в численные, стандартизация численных признаков, построение нескольких моделей и оценка метрик на каждой из моделей, а также оценка времени обучения и предсказания \n",
    "4. Тестирование модели: выбор наилучшей модели из обученных ранее, проверка выбранной модели на тестовой выборке, оценка полученных метрик на тестовой выборке\n",
    "5. Выводы о проделанной работе"
   ]
  },
  {
   "cell_type": "markdown",
   "metadata": {},
   "source": [
    "## Подготовка данных"
   ]
  },
  {
   "cell_type": "markdown",
   "metadata": {},
   "source": [
    "Начнем работу с загрузки и импорта необходимых для работы библиотек:"
   ]
  },
  {
   "cell_type": "code",
   "execution_count": 1,
   "metadata": {},
   "outputs": [
    {
     "name": "stdout",
     "output_type": "stream",
     "text": [
      "Collecting phik\n",
      "  Downloading phik-0.12.3-cp39-cp39-manylinux_2_17_x86_64.manylinux2014_x86_64.whl (679 kB)\n",
      "\u001b[K     |████████████████████████████████| 679 kB 2.5 MB/s eta 0:00:01\n",
      "\u001b[?25hRequirement already satisfied: numpy>=1.18.0 in /opt/conda/lib/python3.9/site-packages (from phik) (1.21.1)\n",
      "Requirement already satisfied: pandas>=0.25.1 in /opt/conda/lib/python3.9/site-packages (from phik) (1.2.4)\n",
      "Requirement already satisfied: scipy>=1.5.2 in /opt/conda/lib/python3.9/site-packages (from phik) (1.9.1)\n",
      "Requirement already satisfied: matplotlib>=2.2.3 in /opt/conda/lib/python3.9/site-packages (from phik) (3.3.4)\n",
      "Requirement already satisfied: joblib>=0.14.1 in /opt/conda/lib/python3.9/site-packages (from phik) (1.1.0)\n",
      "Requirement already satisfied: pyparsing!=2.0.4,!=2.1.2,!=2.1.6,>=2.0.3 in /opt/conda/lib/python3.9/site-packages (from matplotlib>=2.2.3->phik) (2.4.7)\n",
      "Requirement already satisfied: cycler>=0.10 in /opt/conda/lib/python3.9/site-packages (from matplotlib>=2.2.3->phik) (0.11.0)\n",
      "Requirement already satisfied: python-dateutil>=2.1 in /opt/conda/lib/python3.9/site-packages (from matplotlib>=2.2.3->phik) (2.8.1)\n",
      "Requirement already satisfied: kiwisolver>=1.0.1 in /opt/conda/lib/python3.9/site-packages (from matplotlib>=2.2.3->phik) (1.4.4)\n",
      "Requirement already satisfied: pillow>=6.2.0 in /opt/conda/lib/python3.9/site-packages (from matplotlib>=2.2.3->phik) (8.4.0)\n",
      "Requirement already satisfied: pytz>=2017.3 in /opt/conda/lib/python3.9/site-packages (from pandas>=0.25.1->phik) (2021.1)\n",
      "Requirement already satisfied: six>=1.5 in /opt/conda/lib/python3.9/site-packages (from python-dateutil>=2.1->matplotlib>=2.2.3->phik) (1.16.0)\n",
      "Installing collected packages: phik\n",
      "Successfully installed phik-0.12.3\n",
      "Collecting scikit-learn==1.1.3\n",
      "  Downloading scikit_learn-1.1.3-cp39-cp39-manylinux_2_17_x86_64.manylinux2014_x86_64.whl (30.8 MB)\n",
      "\u001b[K     |████████████████████████████████| 30.8 MB 48 kB/s  eta 0:00:01\n",
      "\u001b[?25hRequirement already satisfied: threadpoolctl>=2.0.0 in /opt/conda/lib/python3.9/site-packages (from scikit-learn==1.1.3) (3.1.0)\n",
      "Requirement already satisfied: numpy>=1.17.3 in /opt/conda/lib/python3.9/site-packages (from scikit-learn==1.1.3) (1.21.1)\n",
      "Requirement already satisfied: scipy>=1.3.2 in /opt/conda/lib/python3.9/site-packages (from scikit-learn==1.1.3) (1.9.1)\n",
      "Requirement already satisfied: joblib>=1.0.0 in /opt/conda/lib/python3.9/site-packages (from scikit-learn==1.1.3) (1.1.0)\n",
      "Installing collected packages: scikit-learn\n",
      "  Attempting uninstall: scikit-learn\n",
      "    Found existing installation: scikit-learn 0.24.1\n",
      "    Uninstalling scikit-learn-0.24.1:\n",
      "      Successfully uninstalled scikit-learn-0.24.1\n",
      "Successfully installed scikit-learn-1.1.3\n"
     ]
    }
   ],
   "source": [
    "!pip install phik\n",
    "!pip install scikit-learn==1.1.3"
   ]
  },
  {
   "cell_type": "code",
   "execution_count": 2,
   "metadata": {},
   "outputs": [],
   "source": [
    "import pandas as pd\n",
    "import matplotlib.pyplot as plt\n",
    "import seaborn as sns\n",
    "import phik\n",
    "\n",
    "from termcolor import colored\n",
    "from phik.report import plot_correlation_matrix\n",
    "from sklearn.model_selection import train_test_split\n",
    "from sklearn.preprocessing import OneHotEncoder\n",
    "from sklearn.preprocessing import StandardScaler\n",
    "from sklearn.model_selection import GridSearchCV\n",
    "from sklearn.model_selection import RandomizedSearchCV\n",
    "from sklearn.linear_model import LogisticRegression\n",
    "from sklearn.ensemble import RandomForestClassifier\n",
    "from catboost import CatBoostClassifier\n",
    "from sklearn.metrics import roc_auc_score\n",
    "from sklearn.metrics import accuracy_score\n",
    "from sklearn.metrics import roc_curve\n",
    "from sklearn.metrics import confusion_matrix\n",
    "from sklearn.metrics import ConfusionMatrixDisplay"
   ]
  },
  {
   "cell_type": "markdown",
   "metadata": {},
   "source": [
    "Также сразу зададим значение константы RANDOM_STATE"
   ]
  },
  {
   "cell_type": "code",
   "execution_count": 3,
   "metadata": {},
   "outputs": [],
   "source": [
    "RANDOM_STATE=240423"
   ]
  },
  {
   "cell_type": "markdown",
   "metadata": {},
   "source": [
    "Данные состоят из файлов, полученных из разных источников:\n",
    "\n",
    "- `contract_new.csv` — информация о договоре;\n",
    "- `personal_new.csv` — персональные данные клиента;\n",
    "- `internet_new.csv` — информация об интернет-услугах;\n",
    "- `phone_new.csv` — информация об услугах телефонии.\n",
    "\n",
    "Во всех файлах столбец `customerID` содержит код клиента. Информация о договорах актуальна на 1 февраля 2020."
   ]
  },
  {
   "cell_type": "markdown",
   "metadata": {},
   "source": [
    "Откроем датасеты, выведем первые несколько строк, а также выведем информацию о них"
   ]
  },
  {
   "cell_type": "code",
   "execution_count": 4,
   "metadata": {},
   "outputs": [
    {
     "name": "stdout",
     "output_type": "stream",
     "text": [
      "\u001b[32m   Информация о договоре\u001b[0m\n"
     ]
    },
    {
     "data": {
      "text/html": [
       "<div>\n",
       "<style scoped>\n",
       "    .dataframe tbody tr th:only-of-type {\n",
       "        vertical-align: middle;\n",
       "    }\n",
       "\n",
       "    .dataframe tbody tr th {\n",
       "        vertical-align: top;\n",
       "    }\n",
       "\n",
       "    .dataframe thead th {\n",
       "        text-align: right;\n",
       "    }\n",
       "</style>\n",
       "<table border=\"1\" class=\"dataframe\">\n",
       "  <thead>\n",
       "    <tr style=\"text-align: right;\">\n",
       "      <th></th>\n",
       "      <th>customerID</th>\n",
       "      <th>BeginDate</th>\n",
       "      <th>EndDate</th>\n",
       "      <th>Type</th>\n",
       "      <th>PaperlessBilling</th>\n",
       "      <th>PaymentMethod</th>\n",
       "      <th>MonthlyCharges</th>\n",
       "      <th>TotalCharges</th>\n",
       "    </tr>\n",
       "  </thead>\n",
       "  <tbody>\n",
       "    <tr>\n",
       "      <th>1371</th>\n",
       "      <td>6567-HOOPW</td>\n",
       "      <td>2019-11-01</td>\n",
       "      <td>No</td>\n",
       "      <td>Month-to-month</td>\n",
       "      <td>Yes</td>\n",
       "      <td>Electronic check</td>\n",
       "      <td>79.20</td>\n",
       "      <td>237.6</td>\n",
       "    </tr>\n",
       "    <tr>\n",
       "      <th>4686</th>\n",
       "      <td>8024-XNAFQ</td>\n",
       "      <td>2014-02-01</td>\n",
       "      <td>2016-03-01</td>\n",
       "      <td>Two year</td>\n",
       "      <td>Yes</td>\n",
       "      <td>Bank transfer (automatic)</td>\n",
       "      <td>107.40</td>\n",
       "      <td>2711.85</td>\n",
       "    </tr>\n",
       "    <tr>\n",
       "      <th>1792</th>\n",
       "      <td>8401-EMUWF</td>\n",
       "      <td>2016-08-01</td>\n",
       "      <td>No</td>\n",
       "      <td>Month-to-month</td>\n",
       "      <td>Yes</td>\n",
       "      <td>Bank transfer (automatic)</td>\n",
       "      <td>69.40</td>\n",
       "      <td>3177.13</td>\n",
       "    </tr>\n",
       "    <tr>\n",
       "      <th>75</th>\n",
       "      <td>2673-CXQEU</td>\n",
       "      <td>2015-06-01</td>\n",
       "      <td>No</td>\n",
       "      <td>One year</td>\n",
       "      <td>No</td>\n",
       "      <td>Electronic check</td>\n",
       "      <td>110.50</td>\n",
       "      <td>6435.52</td>\n",
       "    </tr>\n",
       "    <tr>\n",
       "      <th>6769</th>\n",
       "      <td>9916-AYHTC</td>\n",
       "      <td>2016-02-01</td>\n",
       "      <td>No</td>\n",
       "      <td>Two year</td>\n",
       "      <td>No</td>\n",
       "      <td>Credit card (automatic)</td>\n",
       "      <td>19.85</td>\n",
       "      <td>952.8</td>\n",
       "    </tr>\n",
       "  </tbody>\n",
       "</table>\n",
       "</div>"
      ],
      "text/plain": [
       "      customerID   BeginDate     EndDate            Type PaperlessBilling  \\\n",
       "1371  6567-HOOPW  2019-11-01          No  Month-to-month              Yes   \n",
       "4686  8024-XNAFQ  2014-02-01  2016-03-01        Two year              Yes   \n",
       "1792  8401-EMUWF  2016-08-01          No  Month-to-month              Yes   \n",
       "75    2673-CXQEU  2015-06-01          No        One year               No   \n",
       "6769  9916-AYHTC  2016-02-01          No        Two year               No   \n",
       "\n",
       "                  PaymentMethod  MonthlyCharges TotalCharges  \n",
       "1371           Electronic check           79.20        237.6  \n",
       "4686  Bank transfer (automatic)          107.40      2711.85  \n",
       "1792  Bank transfer (automatic)           69.40      3177.13  \n",
       "75             Electronic check          110.50      6435.52  \n",
       "6769    Credit card (automatic)           19.85        952.8  "
      ]
     },
     "metadata": {},
     "output_type": "display_data"
    },
    {
     "name": "stdout",
     "output_type": "stream",
     "text": [
      "<class 'pandas.core.frame.DataFrame'>\n",
      "RangeIndex: 7043 entries, 0 to 7042\n",
      "Data columns (total 8 columns):\n",
      " #   Column            Non-Null Count  Dtype  \n",
      "---  ------            --------------  -----  \n",
      " 0   customerID        7043 non-null   object \n",
      " 1   BeginDate         7043 non-null   object \n",
      " 2   EndDate           7043 non-null   object \n",
      " 3   Type              7043 non-null   object \n",
      " 4   PaperlessBilling  7043 non-null   object \n",
      " 5   PaymentMethod     7043 non-null   object \n",
      " 6   MonthlyCharges    7043 non-null   float64\n",
      " 7   TotalCharges      7043 non-null   object \n",
      "dtypes: float64(1), object(7)\n",
      "memory usage: 440.3+ KB\n",
      "\n",
      "\u001b[31m   Персональные данные клиента\u001b[0m\n"
     ]
    },
    {
     "data": {
      "text/html": [
       "<div>\n",
       "<style scoped>\n",
       "    .dataframe tbody tr th:only-of-type {\n",
       "        vertical-align: middle;\n",
       "    }\n",
       "\n",
       "    .dataframe tbody tr th {\n",
       "        vertical-align: top;\n",
       "    }\n",
       "\n",
       "    .dataframe thead th {\n",
       "        text-align: right;\n",
       "    }\n",
       "</style>\n",
       "<table border=\"1\" class=\"dataframe\">\n",
       "  <thead>\n",
       "    <tr style=\"text-align: right;\">\n",
       "      <th></th>\n",
       "      <th>customerID</th>\n",
       "      <th>gender</th>\n",
       "      <th>SeniorCitizen</th>\n",
       "      <th>Partner</th>\n",
       "      <th>Dependents</th>\n",
       "    </tr>\n",
       "  </thead>\n",
       "  <tbody>\n",
       "    <tr>\n",
       "      <th>2428</th>\n",
       "      <td>2519-FAKOD</td>\n",
       "      <td>Male</td>\n",
       "      <td>0</td>\n",
       "      <td>No</td>\n",
       "      <td>Yes</td>\n",
       "    </tr>\n",
       "    <tr>\n",
       "      <th>1976</th>\n",
       "      <td>9497-QCMMS</td>\n",
       "      <td>Male</td>\n",
       "      <td>1</td>\n",
       "      <td>No</td>\n",
       "      <td>No</td>\n",
       "    </tr>\n",
       "    <tr>\n",
       "      <th>3154</th>\n",
       "      <td>0581-BXBUB</td>\n",
       "      <td>Female</td>\n",
       "      <td>1</td>\n",
       "      <td>No</td>\n",
       "      <td>No</td>\n",
       "    </tr>\n",
       "    <tr>\n",
       "      <th>3459</th>\n",
       "      <td>6609-MXJHJ</td>\n",
       "      <td>Female</td>\n",
       "      <td>0</td>\n",
       "      <td>Yes</td>\n",
       "      <td>Yes</td>\n",
       "    </tr>\n",
       "    <tr>\n",
       "      <th>1654</th>\n",
       "      <td>2967-MXRAV</td>\n",
       "      <td>Male</td>\n",
       "      <td>0</td>\n",
       "      <td>Yes</td>\n",
       "      <td>Yes</td>\n",
       "    </tr>\n",
       "  </tbody>\n",
       "</table>\n",
       "</div>"
      ],
      "text/plain": [
       "      customerID  gender  SeniorCitizen Partner Dependents\n",
       "2428  2519-FAKOD    Male              0      No        Yes\n",
       "1976  9497-QCMMS    Male              1      No         No\n",
       "3154  0581-BXBUB  Female              1      No         No\n",
       "3459  6609-MXJHJ  Female              0     Yes        Yes\n",
       "1654  2967-MXRAV    Male              0     Yes        Yes"
      ]
     },
     "metadata": {},
     "output_type": "display_data"
    },
    {
     "name": "stdout",
     "output_type": "stream",
     "text": [
      "<class 'pandas.core.frame.DataFrame'>\n",
      "RangeIndex: 7043 entries, 0 to 7042\n",
      "Data columns (total 5 columns):\n",
      " #   Column         Non-Null Count  Dtype \n",
      "---  ------         --------------  ----- \n",
      " 0   customerID     7043 non-null   object\n",
      " 1   gender         7043 non-null   object\n",
      " 2   SeniorCitizen  7043 non-null   int64 \n",
      " 3   Partner        7043 non-null   object\n",
      " 4   Dependents     7043 non-null   object\n",
      "dtypes: int64(1), object(4)\n",
      "memory usage: 275.2+ KB\n",
      "\n",
      "\u001b[34m   Информация об интернет-услугах\u001b[0m\n"
     ]
    },
    {
     "data": {
      "text/html": [
       "<div>\n",
       "<style scoped>\n",
       "    .dataframe tbody tr th:only-of-type {\n",
       "        vertical-align: middle;\n",
       "    }\n",
       "\n",
       "    .dataframe tbody tr th {\n",
       "        vertical-align: top;\n",
       "    }\n",
       "\n",
       "    .dataframe thead th {\n",
       "        text-align: right;\n",
       "    }\n",
       "</style>\n",
       "<table border=\"1\" class=\"dataframe\">\n",
       "  <thead>\n",
       "    <tr style=\"text-align: right;\">\n",
       "      <th></th>\n",
       "      <th>customerID</th>\n",
       "      <th>InternetService</th>\n",
       "      <th>OnlineSecurity</th>\n",
       "      <th>OnlineBackup</th>\n",
       "      <th>DeviceProtection</th>\n",
       "      <th>TechSupport</th>\n",
       "      <th>StreamingTV</th>\n",
       "      <th>StreamingMovies</th>\n",
       "    </tr>\n",
       "  </thead>\n",
       "  <tbody>\n",
       "    <tr>\n",
       "      <th>3059</th>\n",
       "      <td>0991-BRRFB</td>\n",
       "      <td>DSL</td>\n",
       "      <td>Yes</td>\n",
       "      <td>No</td>\n",
       "      <td>No</td>\n",
       "      <td>No</td>\n",
       "      <td>No</td>\n",
       "      <td>No</td>\n",
       "    </tr>\n",
       "    <tr>\n",
       "      <th>2485</th>\n",
       "      <td>2834-SPCJV</td>\n",
       "      <td>Fiber optic</td>\n",
       "      <td>Yes</td>\n",
       "      <td>No</td>\n",
       "      <td>No</td>\n",
       "      <td>No</td>\n",
       "      <td>Yes</td>\n",
       "      <td>No</td>\n",
       "    </tr>\n",
       "    <tr>\n",
       "      <th>4752</th>\n",
       "      <td>4024-CSNBY</td>\n",
       "      <td>Fiber optic</td>\n",
       "      <td>Yes</td>\n",
       "      <td>Yes</td>\n",
       "      <td>Yes</td>\n",
       "      <td>Yes</td>\n",
       "      <td>No</td>\n",
       "      <td>No</td>\n",
       "    </tr>\n",
       "    <tr>\n",
       "      <th>1395</th>\n",
       "      <td>3669-WHAFY</td>\n",
       "      <td>Fiber optic</td>\n",
       "      <td>Yes</td>\n",
       "      <td>Yes</td>\n",
       "      <td>Yes</td>\n",
       "      <td>Yes</td>\n",
       "      <td>Yes</td>\n",
       "      <td>Yes</td>\n",
       "    </tr>\n",
       "    <tr>\n",
       "      <th>1914</th>\n",
       "      <td>3893-JRNFS</td>\n",
       "      <td>DSL</td>\n",
       "      <td>No</td>\n",
       "      <td>No</td>\n",
       "      <td>Yes</td>\n",
       "      <td>No</td>\n",
       "      <td>No</td>\n",
       "      <td>Yes</td>\n",
       "    </tr>\n",
       "  </tbody>\n",
       "</table>\n",
       "</div>"
      ],
      "text/plain": [
       "      customerID InternetService OnlineSecurity OnlineBackup DeviceProtection  \\\n",
       "3059  0991-BRRFB             DSL            Yes           No               No   \n",
       "2485  2834-SPCJV     Fiber optic            Yes           No               No   \n",
       "4752  4024-CSNBY     Fiber optic            Yes          Yes              Yes   \n",
       "1395  3669-WHAFY     Fiber optic            Yes          Yes              Yes   \n",
       "1914  3893-JRNFS             DSL             No           No              Yes   \n",
       "\n",
       "     TechSupport StreamingTV StreamingMovies  \n",
       "3059          No          No              No  \n",
       "2485          No         Yes              No  \n",
       "4752         Yes          No              No  \n",
       "1395         Yes         Yes             Yes  \n",
       "1914          No          No             Yes  "
      ]
     },
     "metadata": {},
     "output_type": "display_data"
    },
    {
     "name": "stdout",
     "output_type": "stream",
     "text": [
      "<class 'pandas.core.frame.DataFrame'>\n",
      "RangeIndex: 5517 entries, 0 to 5516\n",
      "Data columns (total 8 columns):\n",
      " #   Column            Non-Null Count  Dtype \n",
      "---  ------            --------------  ----- \n",
      " 0   customerID        5517 non-null   object\n",
      " 1   InternetService   5517 non-null   object\n",
      " 2   OnlineSecurity    5517 non-null   object\n",
      " 3   OnlineBackup      5517 non-null   object\n",
      " 4   DeviceProtection  5517 non-null   object\n",
      " 5   TechSupport       5517 non-null   object\n",
      " 6   StreamingTV       5517 non-null   object\n",
      " 7   StreamingMovies   5517 non-null   object\n",
      "dtypes: object(8)\n",
      "memory usage: 344.9+ KB\n",
      "\n",
      "\u001b[35m   Информация об услугах телефонии\u001b[0m\n"
     ]
    },
    {
     "data": {
      "text/html": [
       "<div>\n",
       "<style scoped>\n",
       "    .dataframe tbody tr th:only-of-type {\n",
       "        vertical-align: middle;\n",
       "    }\n",
       "\n",
       "    .dataframe tbody tr th {\n",
       "        vertical-align: top;\n",
       "    }\n",
       "\n",
       "    .dataframe thead th {\n",
       "        text-align: right;\n",
       "    }\n",
       "</style>\n",
       "<table border=\"1\" class=\"dataframe\">\n",
       "  <thead>\n",
       "    <tr style=\"text-align: right;\">\n",
       "      <th></th>\n",
       "      <th>customerID</th>\n",
       "      <th>MultipleLines</th>\n",
       "    </tr>\n",
       "  </thead>\n",
       "  <tbody>\n",
       "    <tr>\n",
       "      <th>6188</th>\n",
       "      <td>6127-IYJOZ</td>\n",
       "      <td>No</td>\n",
       "    </tr>\n",
       "    <tr>\n",
       "      <th>921</th>\n",
       "      <td>3863-IUBJR</td>\n",
       "      <td>No</td>\n",
       "    </tr>\n",
       "    <tr>\n",
       "      <th>1703</th>\n",
       "      <td>0923-PNFUB</td>\n",
       "      <td>No</td>\n",
       "    </tr>\n",
       "    <tr>\n",
       "      <th>5632</th>\n",
       "      <td>2446-BEGGB</td>\n",
       "      <td>Yes</td>\n",
       "    </tr>\n",
       "    <tr>\n",
       "      <th>217</th>\n",
       "      <td>4522-AKYLR</td>\n",
       "      <td>No</td>\n",
       "    </tr>\n",
       "  </tbody>\n",
       "</table>\n",
       "</div>"
      ],
      "text/plain": [
       "      customerID MultipleLines\n",
       "6188  6127-IYJOZ            No\n",
       "921   3863-IUBJR            No\n",
       "1703  0923-PNFUB            No\n",
       "5632  2446-BEGGB           Yes\n",
       "217   4522-AKYLR            No"
      ]
     },
     "metadata": {},
     "output_type": "display_data"
    },
    {
     "name": "stdout",
     "output_type": "stream",
     "text": [
      "<class 'pandas.core.frame.DataFrame'>\n",
      "RangeIndex: 6361 entries, 0 to 6360\n",
      "Data columns (total 2 columns):\n",
      " #   Column         Non-Null Count  Dtype \n",
      "---  ------         --------------  ----- \n",
      " 0   customerID     6361 non-null   object\n",
      " 1   MultipleLines  6361 non-null   object\n",
      "dtypes: object(2)\n",
      "memory usage: 99.5+ KB\n"
     ]
    }
   ],
   "source": [
    "print(colored('   Информация о договоре', \"green\"))\n",
    "data0 = pd.read_csv('/datasets/contract_new.csv')\n",
    "display(data0.sample(5))\n",
    "data0.info()\n",
    "print()\n",
    "print(colored('   Персональные данные клиента', \"red\"))\n",
    "data1 = pd.read_csv('/datasets/personal_new.csv')\n",
    "display(data1.sample(5))\n",
    "data1.info()\n",
    "print()\n",
    "print(colored('   Информация об интернет-услугах', \"blue\"))\n",
    "data2 = pd.read_csv('/datasets/internet_new.csv')\n",
    "display(data2.sample(5))\n",
    "data2.info()\n",
    "print()\n",
    "print(colored('   Информация об услугах телефонии', \"magenta\"))\n",
    "data3 = pd.read_csv('/datasets/phone_new.csv')\n",
    "display(data3.sample(5))\n",
    "data3.info()"
   ]
  },
  {
   "cell_type": "markdown",
   "metadata": {},
   "source": [
    "Как мы видим пропуски в датасетах отсутствуют, однако количество строк в датасетах отличается. Это можно объяснить тем, что не всегда клиенты пользуются и интернетом и телефонией одновременно"
   ]
  },
  {
   "cell_type": "markdown",
   "metadata": {},
   "source": [
    "Объединим наши датасеты в один общий для дальнейшей работы:"
   ]
  },
  {
   "cell_type": "code",
   "execution_count": 5,
   "metadata": {},
   "outputs": [],
   "source": [
    "data=data0.merge(\n",
    "    data1, on='customerID', how='left').merge(\n",
    "    data2, on='customerID', how='left').merge(\n",
    "    data3, on='customerID', how='left')"
   ]
  },
  {
   "cell_type": "code",
   "execution_count": 6,
   "metadata": {
    "scrolled": false
   },
   "outputs": [
    {
     "data": {
      "text/html": [
       "<div>\n",
       "<style scoped>\n",
       "    .dataframe tbody tr th:only-of-type {\n",
       "        vertical-align: middle;\n",
       "    }\n",
       "\n",
       "    .dataframe tbody tr th {\n",
       "        vertical-align: top;\n",
       "    }\n",
       "\n",
       "    .dataframe thead th {\n",
       "        text-align: right;\n",
       "    }\n",
       "</style>\n",
       "<table border=\"1\" class=\"dataframe\">\n",
       "  <thead>\n",
       "    <tr style=\"text-align: right;\">\n",
       "      <th></th>\n",
       "      <th>customerID</th>\n",
       "      <th>BeginDate</th>\n",
       "      <th>EndDate</th>\n",
       "      <th>Type</th>\n",
       "      <th>PaperlessBilling</th>\n",
       "      <th>PaymentMethod</th>\n",
       "      <th>MonthlyCharges</th>\n",
       "      <th>TotalCharges</th>\n",
       "      <th>gender</th>\n",
       "      <th>SeniorCitizen</th>\n",
       "      <th>Partner</th>\n",
       "      <th>Dependents</th>\n",
       "      <th>InternetService</th>\n",
       "      <th>OnlineSecurity</th>\n",
       "      <th>OnlineBackup</th>\n",
       "      <th>DeviceProtection</th>\n",
       "      <th>TechSupport</th>\n",
       "      <th>StreamingTV</th>\n",
       "      <th>StreamingMovies</th>\n",
       "      <th>MultipleLines</th>\n",
       "    </tr>\n",
       "  </thead>\n",
       "  <tbody>\n",
       "    <tr>\n",
       "      <th>829</th>\n",
       "      <td>5337-IIWKZ</td>\n",
       "      <td>2017-04-01</td>\n",
       "      <td>No</td>\n",
       "      <td>Month-to-month</td>\n",
       "      <td>Yes</td>\n",
       "      <td>Electronic check</td>\n",
       "      <td>44.85</td>\n",
       "      <td>1585.9</td>\n",
       "      <td>Male</td>\n",
       "      <td>0</td>\n",
       "      <td>Yes</td>\n",
       "      <td>Yes</td>\n",
       "      <td>DSL</td>\n",
       "      <td>No</td>\n",
       "      <td>No</td>\n",
       "      <td>Yes</td>\n",
       "      <td>Yes</td>\n",
       "      <td>Yes</td>\n",
       "      <td>No</td>\n",
       "      <td>NaN</td>\n",
       "    </tr>\n",
       "    <tr>\n",
       "      <th>7004</th>\n",
       "      <td>6075-SLNIL</td>\n",
       "      <td>2016-12-01</td>\n",
       "      <td>2019-02-01</td>\n",
       "      <td>Month-to-month</td>\n",
       "      <td>Yes</td>\n",
       "      <td>Credit card (automatic)</td>\n",
       "      <td>95.10</td>\n",
       "      <td>2472.6</td>\n",
       "      <td>Male</td>\n",
       "      <td>0</td>\n",
       "      <td>No</td>\n",
       "      <td>No</td>\n",
       "      <td>Fiber optic</td>\n",
       "      <td>No</td>\n",
       "      <td>Yes</td>\n",
       "      <td>Yes</td>\n",
       "      <td>No</td>\n",
       "      <td>No</td>\n",
       "      <td>Yes</td>\n",
       "      <td>Yes</td>\n",
       "    </tr>\n",
       "    <tr>\n",
       "      <th>6759</th>\n",
       "      <td>1591-MQJTP</td>\n",
       "      <td>2015-11-01</td>\n",
       "      <td>No</td>\n",
       "      <td>One year</td>\n",
       "      <td>Yes</td>\n",
       "      <td>Bank transfer (automatic)</td>\n",
       "      <td>93.65</td>\n",
       "      <td>4776.15</td>\n",
       "      <td>Male</td>\n",
       "      <td>1</td>\n",
       "      <td>Yes</td>\n",
       "      <td>No</td>\n",
       "      <td>Fiber optic</td>\n",
       "      <td>Yes</td>\n",
       "      <td>No</td>\n",
       "      <td>Yes</td>\n",
       "      <td>No</td>\n",
       "      <td>No</td>\n",
       "      <td>Yes</td>\n",
       "      <td>Yes</td>\n",
       "    </tr>\n",
       "    <tr>\n",
       "      <th>4579</th>\n",
       "      <td>5650-YLIBA</td>\n",
       "      <td>2017-07-01</td>\n",
       "      <td>No</td>\n",
       "      <td>Month-to-month</td>\n",
       "      <td>Yes</td>\n",
       "      <td>Electronic check</td>\n",
       "      <td>81.15</td>\n",
       "      <td>2515.65</td>\n",
       "      <td>Male</td>\n",
       "      <td>0</td>\n",
       "      <td>No</td>\n",
       "      <td>No</td>\n",
       "      <td>Fiber optic</td>\n",
       "      <td>No</td>\n",
       "      <td>Yes</td>\n",
       "      <td>No</td>\n",
       "      <td>No</td>\n",
       "      <td>No</td>\n",
       "      <td>No</td>\n",
       "      <td>Yes</td>\n",
       "    </tr>\n",
       "    <tr>\n",
       "      <th>5539</th>\n",
       "      <td>4632-PAOYU</td>\n",
       "      <td>2018-04-01</td>\n",
       "      <td>No</td>\n",
       "      <td>One year</td>\n",
       "      <td>No</td>\n",
       "      <td>Mailed check</td>\n",
       "      <td>19.95</td>\n",
       "      <td>456.46</td>\n",
       "      <td>Male</td>\n",
       "      <td>0</td>\n",
       "      <td>Yes</td>\n",
       "      <td>Yes</td>\n",
       "      <td>NaN</td>\n",
       "      <td>NaN</td>\n",
       "      <td>NaN</td>\n",
       "      <td>NaN</td>\n",
       "      <td>NaN</td>\n",
       "      <td>NaN</td>\n",
       "      <td>NaN</td>\n",
       "      <td>No</td>\n",
       "    </tr>\n",
       "    <tr>\n",
       "      <th>31</th>\n",
       "      <td>4929-XIHVW</td>\n",
       "      <td>2019-12-01</td>\n",
       "      <td>No</td>\n",
       "      <td>Month-to-month</td>\n",
       "      <td>Yes</td>\n",
       "      <td>Credit card (automatic)</td>\n",
       "      <td>95.50</td>\n",
       "      <td>194.82</td>\n",
       "      <td>Male</td>\n",
       "      <td>1</td>\n",
       "      <td>Yes</td>\n",
       "      <td>No</td>\n",
       "      <td>Fiber optic</td>\n",
       "      <td>No</td>\n",
       "      <td>No</td>\n",
       "      <td>Yes</td>\n",
       "      <td>No</td>\n",
       "      <td>Yes</td>\n",
       "      <td>Yes</td>\n",
       "      <td>No</td>\n",
       "    </tr>\n",
       "    <tr>\n",
       "      <th>5852</th>\n",
       "      <td>3398-ZOUAA</td>\n",
       "      <td>2018-01-01</td>\n",
       "      <td>No</td>\n",
       "      <td>Month-to-month</td>\n",
       "      <td>Yes</td>\n",
       "      <td>Electronic check</td>\n",
       "      <td>69.10</td>\n",
       "      <td>1865.7</td>\n",
       "      <td>Male</td>\n",
       "      <td>1</td>\n",
       "      <td>Yes</td>\n",
       "      <td>No</td>\n",
       "      <td>Fiber optic</td>\n",
       "      <td>No</td>\n",
       "      <td>No</td>\n",
       "      <td>No</td>\n",
       "      <td>No</td>\n",
       "      <td>No</td>\n",
       "      <td>No</td>\n",
       "      <td>No</td>\n",
       "    </tr>\n",
       "    <tr>\n",
       "      <th>2085</th>\n",
       "      <td>8290-YWKHZ</td>\n",
       "      <td>2017-03-01</td>\n",
       "      <td>No</td>\n",
       "      <td>Month-to-month</td>\n",
       "      <td>Yes</td>\n",
       "      <td>Electronic check</td>\n",
       "      <td>93.20</td>\n",
       "      <td>3490.34</td>\n",
       "      <td>Female</td>\n",
       "      <td>1</td>\n",
       "      <td>Yes</td>\n",
       "      <td>No</td>\n",
       "      <td>Fiber optic</td>\n",
       "      <td>No</td>\n",
       "      <td>No</td>\n",
       "      <td>No</td>\n",
       "      <td>No</td>\n",
       "      <td>Yes</td>\n",
       "      <td>Yes</td>\n",
       "      <td>Yes</td>\n",
       "    </tr>\n",
       "    <tr>\n",
       "      <th>3630</th>\n",
       "      <td>9986-BONCE</td>\n",
       "      <td>2019-08-01</td>\n",
       "      <td>No</td>\n",
       "      <td>Month-to-month</td>\n",
       "      <td>No</td>\n",
       "      <td>Bank transfer (automatic)</td>\n",
       "      <td>20.95</td>\n",
       "      <td>137.01</td>\n",
       "      <td>Female</td>\n",
       "      <td>0</td>\n",
       "      <td>No</td>\n",
       "      <td>No</td>\n",
       "      <td>NaN</td>\n",
       "      <td>NaN</td>\n",
       "      <td>NaN</td>\n",
       "      <td>NaN</td>\n",
       "      <td>NaN</td>\n",
       "      <td>NaN</td>\n",
       "      <td>NaN</td>\n",
       "      <td>No</td>\n",
       "    </tr>\n",
       "    <tr>\n",
       "      <th>3264</th>\n",
       "      <td>6818-DJXAA</td>\n",
       "      <td>2019-04-01</td>\n",
       "      <td>No</td>\n",
       "      <td>Month-to-month</td>\n",
       "      <td>Yes</td>\n",
       "      <td>Electronic check</td>\n",
       "      <td>91.10</td>\n",
       "      <td>911.0</td>\n",
       "      <td>Female</td>\n",
       "      <td>0</td>\n",
       "      <td>No</td>\n",
       "      <td>Yes</td>\n",
       "      <td>Fiber optic</td>\n",
       "      <td>No</td>\n",
       "      <td>No</td>\n",
       "      <td>Yes</td>\n",
       "      <td>Yes</td>\n",
       "      <td>Yes</td>\n",
       "      <td>No</td>\n",
       "      <td>No</td>\n",
       "    </tr>\n",
       "  </tbody>\n",
       "</table>\n",
       "</div>"
      ],
      "text/plain": [
       "      customerID   BeginDate     EndDate            Type PaperlessBilling  \\\n",
       "829   5337-IIWKZ  2017-04-01          No  Month-to-month              Yes   \n",
       "7004  6075-SLNIL  2016-12-01  2019-02-01  Month-to-month              Yes   \n",
       "6759  1591-MQJTP  2015-11-01          No        One year              Yes   \n",
       "4579  5650-YLIBA  2017-07-01          No  Month-to-month              Yes   \n",
       "5539  4632-PAOYU  2018-04-01          No        One year               No   \n",
       "31    4929-XIHVW  2019-12-01          No  Month-to-month              Yes   \n",
       "5852  3398-ZOUAA  2018-01-01          No  Month-to-month              Yes   \n",
       "2085  8290-YWKHZ  2017-03-01          No  Month-to-month              Yes   \n",
       "3630  9986-BONCE  2019-08-01          No  Month-to-month               No   \n",
       "3264  6818-DJXAA  2019-04-01          No  Month-to-month              Yes   \n",
       "\n",
       "                  PaymentMethod  MonthlyCharges TotalCharges  gender  \\\n",
       "829            Electronic check           44.85       1585.9    Male   \n",
       "7004    Credit card (automatic)           95.10       2472.6    Male   \n",
       "6759  Bank transfer (automatic)           93.65      4776.15    Male   \n",
       "4579           Electronic check           81.15      2515.65    Male   \n",
       "5539               Mailed check           19.95       456.46    Male   \n",
       "31      Credit card (automatic)           95.50       194.82    Male   \n",
       "5852           Electronic check           69.10       1865.7    Male   \n",
       "2085           Electronic check           93.20      3490.34  Female   \n",
       "3630  Bank transfer (automatic)           20.95       137.01  Female   \n",
       "3264           Electronic check           91.10        911.0  Female   \n",
       "\n",
       "      SeniorCitizen Partner Dependents InternetService OnlineSecurity  \\\n",
       "829               0     Yes        Yes             DSL             No   \n",
       "7004              0      No         No     Fiber optic             No   \n",
       "6759              1     Yes         No     Fiber optic            Yes   \n",
       "4579              0      No         No     Fiber optic             No   \n",
       "5539              0     Yes        Yes             NaN            NaN   \n",
       "31                1     Yes         No     Fiber optic             No   \n",
       "5852              1     Yes         No     Fiber optic             No   \n",
       "2085              1     Yes         No     Fiber optic             No   \n",
       "3630              0      No         No             NaN            NaN   \n",
       "3264              0      No        Yes     Fiber optic             No   \n",
       "\n",
       "     OnlineBackup DeviceProtection TechSupport StreamingTV StreamingMovies  \\\n",
       "829            No              Yes         Yes         Yes              No   \n",
       "7004          Yes              Yes          No          No             Yes   \n",
       "6759           No              Yes          No          No             Yes   \n",
       "4579          Yes               No          No          No              No   \n",
       "5539          NaN              NaN         NaN         NaN             NaN   \n",
       "31             No              Yes          No         Yes             Yes   \n",
       "5852           No               No          No          No              No   \n",
       "2085           No               No          No         Yes             Yes   \n",
       "3630          NaN              NaN         NaN         NaN             NaN   \n",
       "3264           No              Yes         Yes         Yes              No   \n",
       "\n",
       "     MultipleLines  \n",
       "829            NaN  \n",
       "7004           Yes  \n",
       "6759           Yes  \n",
       "4579           Yes  \n",
       "5539            No  \n",
       "31              No  \n",
       "5852            No  \n",
       "2085           Yes  \n",
       "3630            No  \n",
       "3264            No  "
      ]
     },
     "metadata": {},
     "output_type": "display_data"
    },
    {
     "name": "stdout",
     "output_type": "stream",
     "text": [
      "<class 'pandas.core.frame.DataFrame'>\n",
      "Int64Index: 7043 entries, 0 to 7042\n",
      "Data columns (total 20 columns):\n",
      " #   Column            Non-Null Count  Dtype  \n",
      "---  ------            --------------  -----  \n",
      " 0   customerID        7043 non-null   object \n",
      " 1   BeginDate         7043 non-null   object \n",
      " 2   EndDate           7043 non-null   object \n",
      " 3   Type              7043 non-null   object \n",
      " 4   PaperlessBilling  7043 non-null   object \n",
      " 5   PaymentMethod     7043 non-null   object \n",
      " 6   MonthlyCharges    7043 non-null   float64\n",
      " 7   TotalCharges      7043 non-null   object \n",
      " 8   gender            7043 non-null   object \n",
      " 9   SeniorCitizen     7043 non-null   int64  \n",
      " 10  Partner           7043 non-null   object \n",
      " 11  Dependents        7043 non-null   object \n",
      " 12  InternetService   5517 non-null   object \n",
      " 13  OnlineSecurity    5517 non-null   object \n",
      " 14  OnlineBackup      5517 non-null   object \n",
      " 15  DeviceProtection  5517 non-null   object \n",
      " 16  TechSupport       5517 non-null   object \n",
      " 17  StreamingTV       5517 non-null   object \n",
      " 18  StreamingMovies   5517 non-null   object \n",
      " 19  MultipleLines     6361 non-null   object \n",
      "dtypes: float64(1), int64(1), object(18)\n",
      "memory usage: 1.1+ MB\n"
     ]
    }
   ],
   "source": [
    "display(data.sample(10))\n",
    "data.info()"
   ]
  },
  {
   "cell_type": "markdown",
   "metadata": {},
   "source": [
    "Посмотрим на количество дубликатов:"
   ]
  },
  {
   "cell_type": "code",
   "execution_count": 7,
   "metadata": {
    "scrolled": true
   },
   "outputs": [
    {
     "name": "stdout",
     "output_type": "stream",
     "text": [
      "0\n"
     ]
    }
   ],
   "source": [
    "print(data.duplicated().sum())"
   ]
  },
  {
   "cell_type": "markdown",
   "metadata": {},
   "source": [
    "Как видим дубликаты отсутствуют"
   ]
  },
  {
   "cell_type": "markdown",
   "metadata": {},
   "source": [
    "Целью работы является создание модели способной спрогнозировать отток клиентов. Соответственно целевым признаком будет столбец с информацией о том является ли человек клиентом оператор связи или уже нет. Информацию о дате окончания пользования услугами мы можем найти в столбце 'EndDate': если дата имеется, то человек больше не является клиентом оператора. Для удобства создадим отдельный столбец для целевого признака с информацией о статусе в бинарном виде"
   ]
  },
  {
   "cell_type": "code",
   "execution_count": 8,
   "metadata": {},
   "outputs": [],
   "source": [
    "data.loc[data['EndDate'] != 'No', 'status'] = 0\n",
    "data.loc[data['EndDate'] == 'No', 'status'] = 1"
   ]
  },
  {
   "cell_type": "markdown",
   "metadata": {},
   "source": [
    "Посмотрим как теперь выглядит датасет:"
   ]
  },
  {
   "cell_type": "code",
   "execution_count": 9,
   "metadata": {},
   "outputs": [
    {
     "data": {
      "text/html": [
       "<div>\n",
       "<style scoped>\n",
       "    .dataframe tbody tr th:only-of-type {\n",
       "        vertical-align: middle;\n",
       "    }\n",
       "\n",
       "    .dataframe tbody tr th {\n",
       "        vertical-align: top;\n",
       "    }\n",
       "\n",
       "    .dataframe thead th {\n",
       "        text-align: right;\n",
       "    }\n",
       "</style>\n",
       "<table border=\"1\" class=\"dataframe\">\n",
       "  <thead>\n",
       "    <tr style=\"text-align: right;\">\n",
       "      <th></th>\n",
       "      <th>customerID</th>\n",
       "      <th>BeginDate</th>\n",
       "      <th>EndDate</th>\n",
       "      <th>Type</th>\n",
       "      <th>PaperlessBilling</th>\n",
       "      <th>PaymentMethod</th>\n",
       "      <th>MonthlyCharges</th>\n",
       "      <th>TotalCharges</th>\n",
       "      <th>gender</th>\n",
       "      <th>SeniorCitizen</th>\n",
       "      <th>...</th>\n",
       "      <th>Dependents</th>\n",
       "      <th>InternetService</th>\n",
       "      <th>OnlineSecurity</th>\n",
       "      <th>OnlineBackup</th>\n",
       "      <th>DeviceProtection</th>\n",
       "      <th>TechSupport</th>\n",
       "      <th>StreamingTV</th>\n",
       "      <th>StreamingMovies</th>\n",
       "      <th>MultipleLines</th>\n",
       "      <th>status</th>\n",
       "    </tr>\n",
       "  </thead>\n",
       "  <tbody>\n",
       "    <tr>\n",
       "      <th>5443</th>\n",
       "      <td>7109-MFBYV</td>\n",
       "      <td>2017-12-01</td>\n",
       "      <td>No</td>\n",
       "      <td>Month-to-month</td>\n",
       "      <td>No</td>\n",
       "      <td>Electronic check</td>\n",
       "      <td>45.45</td>\n",
       "      <td>1181.7</td>\n",
       "      <td>Male</td>\n",
       "      <td>0</td>\n",
       "      <td>...</td>\n",
       "      <td>No</td>\n",
       "      <td>DSL</td>\n",
       "      <td>No</td>\n",
       "      <td>No</td>\n",
       "      <td>No</td>\n",
       "      <td>No</td>\n",
       "      <td>No</td>\n",
       "      <td>No</td>\n",
       "      <td>No</td>\n",
       "      <td>1.0</td>\n",
       "    </tr>\n",
       "    <tr>\n",
       "      <th>3184</th>\n",
       "      <td>5197-LQXXH</td>\n",
       "      <td>2014-03-01</td>\n",
       "      <td>No</td>\n",
       "      <td>Two year</td>\n",
       "      <td>Yes</td>\n",
       "      <td>Credit card (automatic)</td>\n",
       "      <td>83.30</td>\n",
       "      <td>5914.3</td>\n",
       "      <td>Female</td>\n",
       "      <td>0</td>\n",
       "      <td>...</td>\n",
       "      <td>No</td>\n",
       "      <td>DSL</td>\n",
       "      <td>No</td>\n",
       "      <td>Yes</td>\n",
       "      <td>Yes</td>\n",
       "      <td>Yes</td>\n",
       "      <td>Yes</td>\n",
       "      <td>Yes</td>\n",
       "      <td>Yes</td>\n",
       "      <td>1.0</td>\n",
       "    </tr>\n",
       "    <tr>\n",
       "      <th>6634</th>\n",
       "      <td>1465-VINDH</td>\n",
       "      <td>2019-02-01</td>\n",
       "      <td>No</td>\n",
       "      <td>Month-to-month</td>\n",
       "      <td>Yes</td>\n",
       "      <td>Credit card (automatic)</td>\n",
       "      <td>102.10</td>\n",
       "      <td>1225.2</td>\n",
       "      <td>Female</td>\n",
       "      <td>0</td>\n",
       "      <td>...</td>\n",
       "      <td>Yes</td>\n",
       "      <td>Fiber optic</td>\n",
       "      <td>No</td>\n",
       "      <td>Yes</td>\n",
       "      <td>Yes</td>\n",
       "      <td>No</td>\n",
       "      <td>Yes</td>\n",
       "      <td>Yes</td>\n",
       "      <td>Yes</td>\n",
       "      <td>1.0</td>\n",
       "    </tr>\n",
       "    <tr>\n",
       "      <th>3094</th>\n",
       "      <td>1898-JSNDC</td>\n",
       "      <td>2016-11-01</td>\n",
       "      <td>No</td>\n",
       "      <td>One year</td>\n",
       "      <td>Yes</td>\n",
       "      <td>Credit card (automatic)</td>\n",
       "      <td>58.60</td>\n",
       "      <td>2285.4</td>\n",
       "      <td>Female</td>\n",
       "      <td>0</td>\n",
       "      <td>...</td>\n",
       "      <td>No</td>\n",
       "      <td>DSL</td>\n",
       "      <td>No</td>\n",
       "      <td>Yes</td>\n",
       "      <td>No</td>\n",
       "      <td>No</td>\n",
       "      <td>Yes</td>\n",
       "      <td>No</td>\n",
       "      <td>No</td>\n",
       "      <td>1.0</td>\n",
       "    </tr>\n",
       "    <tr>\n",
       "      <th>1707</th>\n",
       "      <td>4854-CIDCF</td>\n",
       "      <td>2019-11-01</td>\n",
       "      <td>No</td>\n",
       "      <td>Month-to-month</td>\n",
       "      <td>No</td>\n",
       "      <td>Electronic check</td>\n",
       "      <td>73.85</td>\n",
       "      <td>237.06</td>\n",
       "      <td>Female</td>\n",
       "      <td>1</td>\n",
       "      <td>...</td>\n",
       "      <td>No</td>\n",
       "      <td>Fiber optic</td>\n",
       "      <td>No</td>\n",
       "      <td>No</td>\n",
       "      <td>Yes</td>\n",
       "      <td>No</td>\n",
       "      <td>No</td>\n",
       "      <td>No</td>\n",
       "      <td>No</td>\n",
       "      <td>1.0</td>\n",
       "    </tr>\n",
       "    <tr>\n",
       "      <th>3691</th>\n",
       "      <td>2150-WLKUW</td>\n",
       "      <td>2016-10-01</td>\n",
       "      <td>No</td>\n",
       "      <td>One year</td>\n",
       "      <td>No</td>\n",
       "      <td>Bank transfer (automatic)</td>\n",
       "      <td>63.90</td>\n",
       "      <td>2556.0</td>\n",
       "      <td>Female</td>\n",
       "      <td>0</td>\n",
       "      <td>...</td>\n",
       "      <td>No</td>\n",
       "      <td>DSL</td>\n",
       "      <td>No</td>\n",
       "      <td>Yes</td>\n",
       "      <td>No</td>\n",
       "      <td>No</td>\n",
       "      <td>Yes</td>\n",
       "      <td>No</td>\n",
       "      <td>Yes</td>\n",
       "      <td>1.0</td>\n",
       "    </tr>\n",
       "    <tr>\n",
       "      <th>4201</th>\n",
       "      <td>1166-PQLGG</td>\n",
       "      <td>2014-02-01</td>\n",
       "      <td>No</td>\n",
       "      <td>Two year</td>\n",
       "      <td>No</td>\n",
       "      <td>Bank transfer (automatic)</td>\n",
       "      <td>19.55</td>\n",
       "      <td>1492.06</td>\n",
       "      <td>Female</td>\n",
       "      <td>0</td>\n",
       "      <td>...</td>\n",
       "      <td>Yes</td>\n",
       "      <td>NaN</td>\n",
       "      <td>NaN</td>\n",
       "      <td>NaN</td>\n",
       "      <td>NaN</td>\n",
       "      <td>NaN</td>\n",
       "      <td>NaN</td>\n",
       "      <td>NaN</td>\n",
       "      <td>No</td>\n",
       "      <td>1.0</td>\n",
       "    </tr>\n",
       "    <tr>\n",
       "      <th>6453</th>\n",
       "      <td>8634-MPHTR</td>\n",
       "      <td>2016-02-01</td>\n",
       "      <td>2019-08-01</td>\n",
       "      <td>Month-to-month</td>\n",
       "      <td>Yes</td>\n",
       "      <td>Electronic check</td>\n",
       "      <td>100.05</td>\n",
       "      <td>4412.2</td>\n",
       "      <td>Male</td>\n",
       "      <td>1</td>\n",
       "      <td>...</td>\n",
       "      <td>No</td>\n",
       "      <td>Fiber optic</td>\n",
       "      <td>No</td>\n",
       "      <td>No</td>\n",
       "      <td>Yes</td>\n",
       "      <td>No</td>\n",
       "      <td>Yes</td>\n",
       "      <td>Yes</td>\n",
       "      <td>Yes</td>\n",
       "      <td>0.0</td>\n",
       "    </tr>\n",
       "    <tr>\n",
       "      <th>4791</th>\n",
       "      <td>7808-DVWEP</td>\n",
       "      <td>2019-11-01</td>\n",
       "      <td>No</td>\n",
       "      <td>Month-to-month</td>\n",
       "      <td>No</td>\n",
       "      <td>Bank transfer (automatic)</td>\n",
       "      <td>20.00</td>\n",
       "      <td>65.4</td>\n",
       "      <td>Male</td>\n",
       "      <td>0</td>\n",
       "      <td>...</td>\n",
       "      <td>No</td>\n",
       "      <td>NaN</td>\n",
       "      <td>NaN</td>\n",
       "      <td>NaN</td>\n",
       "      <td>NaN</td>\n",
       "      <td>NaN</td>\n",
       "      <td>NaN</td>\n",
       "      <td>NaN</td>\n",
       "      <td>No</td>\n",
       "      <td>1.0</td>\n",
       "    </tr>\n",
       "    <tr>\n",
       "      <th>4648</th>\n",
       "      <td>9717-QEBGU</td>\n",
       "      <td>2019-12-01</td>\n",
       "      <td>No</td>\n",
       "      <td>Month-to-month</td>\n",
       "      <td>Yes</td>\n",
       "      <td>Electronic check</td>\n",
       "      <td>70.30</td>\n",
       "      <td>147.63</td>\n",
       "      <td>Male</td>\n",
       "      <td>0</td>\n",
       "      <td>...</td>\n",
       "      <td>No</td>\n",
       "      <td>Fiber optic</td>\n",
       "      <td>No</td>\n",
       "      <td>No</td>\n",
       "      <td>No</td>\n",
       "      <td>No</td>\n",
       "      <td>No</td>\n",
       "      <td>No</td>\n",
       "      <td>No</td>\n",
       "      <td>1.0</td>\n",
       "    </tr>\n",
       "  </tbody>\n",
       "</table>\n",
       "<p>10 rows × 21 columns</p>\n",
       "</div>"
      ],
      "text/plain": [
       "      customerID   BeginDate     EndDate            Type PaperlessBilling  \\\n",
       "5443  7109-MFBYV  2017-12-01          No  Month-to-month               No   \n",
       "3184  5197-LQXXH  2014-03-01          No        Two year              Yes   \n",
       "6634  1465-VINDH  2019-02-01          No  Month-to-month              Yes   \n",
       "3094  1898-JSNDC  2016-11-01          No        One year              Yes   \n",
       "1707  4854-CIDCF  2019-11-01          No  Month-to-month               No   \n",
       "3691  2150-WLKUW  2016-10-01          No        One year               No   \n",
       "4201  1166-PQLGG  2014-02-01          No        Two year               No   \n",
       "6453  8634-MPHTR  2016-02-01  2019-08-01  Month-to-month              Yes   \n",
       "4791  7808-DVWEP  2019-11-01          No  Month-to-month               No   \n",
       "4648  9717-QEBGU  2019-12-01          No  Month-to-month              Yes   \n",
       "\n",
       "                  PaymentMethod  MonthlyCharges TotalCharges  gender  \\\n",
       "5443           Electronic check           45.45       1181.7    Male   \n",
       "3184    Credit card (automatic)           83.30       5914.3  Female   \n",
       "6634    Credit card (automatic)          102.10       1225.2  Female   \n",
       "3094    Credit card (automatic)           58.60       2285.4  Female   \n",
       "1707           Electronic check           73.85       237.06  Female   \n",
       "3691  Bank transfer (automatic)           63.90       2556.0  Female   \n",
       "4201  Bank transfer (automatic)           19.55      1492.06  Female   \n",
       "6453           Electronic check          100.05       4412.2    Male   \n",
       "4791  Bank transfer (automatic)           20.00         65.4    Male   \n",
       "4648           Electronic check           70.30       147.63    Male   \n",
       "\n",
       "      SeniorCitizen  ... Dependents InternetService OnlineSecurity  \\\n",
       "5443              0  ...         No             DSL             No   \n",
       "3184              0  ...         No             DSL             No   \n",
       "6634              0  ...        Yes     Fiber optic             No   \n",
       "3094              0  ...         No             DSL             No   \n",
       "1707              1  ...         No     Fiber optic             No   \n",
       "3691              0  ...         No             DSL             No   \n",
       "4201              0  ...        Yes             NaN            NaN   \n",
       "6453              1  ...         No     Fiber optic             No   \n",
       "4791              0  ...         No             NaN            NaN   \n",
       "4648              0  ...         No     Fiber optic             No   \n",
       "\n",
       "     OnlineBackup DeviceProtection TechSupport StreamingTV StreamingMovies  \\\n",
       "5443           No               No          No          No              No   \n",
       "3184          Yes              Yes         Yes         Yes             Yes   \n",
       "6634          Yes              Yes          No         Yes             Yes   \n",
       "3094          Yes               No          No         Yes              No   \n",
       "1707           No              Yes          No          No              No   \n",
       "3691          Yes               No          No         Yes              No   \n",
       "4201          NaN              NaN         NaN         NaN             NaN   \n",
       "6453           No              Yes          No         Yes             Yes   \n",
       "4791          NaN              NaN         NaN         NaN             NaN   \n",
       "4648           No               No          No          No              No   \n",
       "\n",
       "     MultipleLines status  \n",
       "5443            No    1.0  \n",
       "3184           Yes    1.0  \n",
       "6634           Yes    1.0  \n",
       "3094            No    1.0  \n",
       "1707            No    1.0  \n",
       "3691           Yes    1.0  \n",
       "4201            No    1.0  \n",
       "6453           Yes    0.0  \n",
       "4791            No    1.0  \n",
       "4648            No    1.0  \n",
       "\n",
       "[10 rows x 21 columns]"
      ]
     },
     "metadata": {},
     "output_type": "display_data"
    },
    {
     "name": "stdout",
     "output_type": "stream",
     "text": [
      "<class 'pandas.core.frame.DataFrame'>\n",
      "Int64Index: 7043 entries, 0 to 7042\n",
      "Data columns (total 21 columns):\n",
      " #   Column            Non-Null Count  Dtype  \n",
      "---  ------            --------------  -----  \n",
      " 0   customerID        7043 non-null   object \n",
      " 1   BeginDate         7043 non-null   object \n",
      " 2   EndDate           7043 non-null   object \n",
      " 3   Type              7043 non-null   object \n",
      " 4   PaperlessBilling  7043 non-null   object \n",
      " 5   PaymentMethod     7043 non-null   object \n",
      " 6   MonthlyCharges    7043 non-null   float64\n",
      " 7   TotalCharges      7043 non-null   object \n",
      " 8   gender            7043 non-null   object \n",
      " 9   SeniorCitizen     7043 non-null   int64  \n",
      " 10  Partner           7043 non-null   object \n",
      " 11  Dependents        7043 non-null   object \n",
      " 12  InternetService   5517 non-null   object \n",
      " 13  OnlineSecurity    5517 non-null   object \n",
      " 14  OnlineBackup      5517 non-null   object \n",
      " 15  DeviceProtection  5517 non-null   object \n",
      " 16  TechSupport       5517 non-null   object \n",
      " 17  StreamingTV       5517 non-null   object \n",
      " 18  StreamingMovies   5517 non-null   object \n",
      " 19  MultipleLines     6361 non-null   object \n",
      " 20  status            7043 non-null   float64\n",
      "dtypes: float64(2), int64(1), object(18)\n",
      "memory usage: 1.2+ MB\n"
     ]
    }
   ],
   "source": [
    "display(data.sample(10))\n",
    "data.info()"
   ]
  },
  {
   "cell_type": "markdown",
   "metadata": {},
   "source": [
    "## Анализ данных"
   ]
  },
  {
   "cell_type": "markdown",
   "metadata": {},
   "source": [
    "Как видим все в порядке. Далее можем заняться каждым столбцом по отдельности"
   ]
  },
  {
   "cell_type": "markdown",
   "metadata": {},
   "source": [
    "<b>Вывод: </b> Мы оценили исходный датасет, узнали его размер и количество пропусков, определили целевой признак"
   ]
  },
  {
   "cell_type": "markdown",
   "metadata": {},
   "source": [
    "У нас имеются столбцы 'BeginDate' и 'EndDate' с информацией о дате начала пользования услугами и окончании. Создадим признак с информацией о времени пользования услугами. Но перед этим займемся редактированием столбца 'EndDate'. Поскольку многие пользователи являются пользователями оператора связи, у них отсутствует дата окончания пользования услугами. Для таких клиентов заполним значение столбца 'EndDate' датой на которую актуальны договора по условию (1 февраля 2020)"
   ]
  },
  {
   "cell_type": "code",
   "execution_count": 10,
   "metadata": {},
   "outputs": [],
   "source": [
    "data.loc[data['EndDate'] == 'No', 'EndDate'] = '2020-02-01'"
   ]
  },
  {
   "cell_type": "markdown",
   "metadata": {},
   "source": [
    "Заодно проверим столбцы 'BeginDate' и 'EndDate' на наличие аномалий - даты в них не должны быть позже 1 февраля 2020. Предварительно переведем эти столбцы в формат даты"
   ]
  },
  {
   "cell_type": "code",
   "execution_count": 11,
   "metadata": {},
   "outputs": [],
   "source": [
    "data['BeginDate'] = pd.to_datetime(data['BeginDate'])\n",
    "data['EndDate'] = pd.to_datetime(data['EndDate'])                      "
   ]
  },
  {
   "cell_type": "code",
   "execution_count": 12,
   "metadata": {},
   "outputs": [
    {
     "name": "stdout",
     "output_type": "stream",
     "text": [
      "2020-02-01 00:00:00\n",
      "2020-02-01 00:00:00\n"
     ]
    }
   ],
   "source": [
    "print(data['BeginDate'].max())\n",
    "print(data['EndDate'].max())"
   ]
  },
  {
   "cell_type": "markdown",
   "metadata": {},
   "source": [
    "Как мы видим аномалии отстутствуют - можно создавать новый признак с информацией о времени пользования услугами. Заодно после этого переведем значения в новом столбце в более подходящий формат"
   ]
  },
  {
   "cell_type": "code",
   "execution_count": 13,
   "metadata": {},
   "outputs": [],
   "source": [
    "data['time'] = data['EndDate'] - data['BeginDate']\n",
    "data['time'] = data['time'].dt.days"
   ]
  },
  {
   "cell_type": "markdown",
   "metadata": {},
   "source": [
    "Посмотрим на значения в столбце 'Type' (тип оплаты) и построим по значениям этого столбца график"
   ]
  },
  {
   "cell_type": "code",
   "execution_count": 14,
   "metadata": {},
   "outputs": [
    {
     "data": {
      "image/png": "[encoded data removed]",
      "text/plain": [
       "<Figure size 720x360 with 1 Axes>"
      ]
     },
     "metadata": {
      "needs_background": "light"
     },
     "output_type": "display_data"
    },
    {
     "name": "stdout",
     "output_type": "stream",
     "text": [
      "Month-to-month    3875\n",
      "Two year          1695\n",
      "One year          1473\n",
      "Name: Type, dtype: int64\n"
     ]
    }
   ],
   "source": [
    "fig, ax = plt.subplots(figsize=(10, 5))\n",
    "sns.countplot(data=data, x='Type')\n",
    "plt.ylabel('Количество людей')\n",
    "plt.xlabel('Тип оплаты')\n",
    "plt.show()\n",
    "print(data['Type'].value_counts())"
   ]
  },
  {
   "cell_type": "markdown",
   "metadata": {},
   "source": [
    "Как мы видим чаще всего люди предпочитают ежемесячный тип оплаты, далее идет двухгодичный тип оплаты и еще реже люди выбирают годовой тип оплаты"
   ]
  },
  {
   "cell_type": "markdown",
   "metadata": {},
   "source": [
    "Далее посмотрим на распределения в столбцах 'PaperlessBilling' (электронный платежный документ) и 'PaymentMethod' (способ оплаты) и построим соответствующие графики"
   ]
  },
  {
   "cell_type": "code",
   "execution_count": 15,
   "metadata": {},
   "outputs": [
    {
     "data": {
      "image/png": "[encoded data removed]",
      "text/plain": [
       "<Figure size 504x288 with 1 Axes>"
      ]
     },
     "metadata": {
      "needs_background": "light"
     },
     "output_type": "display_data"
    },
    {
     "name": "stdout",
     "output_type": "stream",
     "text": [
      "Yes    4171\n",
      "No     2872\n",
      "Name: PaperlessBilling, dtype: int64\n"
     ]
    }
   ],
   "source": [
    "fig, ax = plt.subplots(figsize=(7, 4))\n",
    "sns.countplot(data=data, x='PaperlessBilling')\n",
    "plt.ylabel('Количество людей')\n",
    "plt.xlabel('Электорнный платежный документ')\n",
    "plt.show()\n",
    "print(data['PaperlessBilling'].value_counts())"
   ]
  },
  {
   "cell_type": "code",
   "execution_count": 16,
   "metadata": {},
   "outputs": [
    {
     "data": {
      "image/png": "[encoded data removed]",
      "text/plain": [
       "<Figure size 720x360 with 1 Axes>"
      ]
     },
     "metadata": {
      "needs_background": "light"
     },
     "output_type": "display_data"
    },
    {
     "name": "stdout",
     "output_type": "stream",
     "text": [
      "Electronic check             2365\n",
      "Mailed check                 1612\n",
      "Bank transfer (automatic)    1544\n",
      "Credit card (automatic)      1522\n",
      "Name: PaymentMethod, dtype: int64\n"
     ]
    }
   ],
   "source": [
    "fig, ax = plt.subplots(figsize=(10, 5))\n",
    "sns.countplot(data=data, x='PaymentMethod')\n",
    "plt.ylabel('Количество людей')\n",
    "plt.xlabel('Способ оплаты')\n",
    "plt.show()\n",
    "print(data['PaymentMethod'].value_counts())"
   ]
  },
  {
   "cell_type": "markdown",
   "metadata": {},
   "source": [
    "Как мы видим чаще всего клиенты предпочитают использовать электронный чек в качестве способа оплаты и иметь электорнный платежный документ"
   ]
  },
  {
   "cell_type": "markdown",
   "metadata": {},
   "source": [
    "Посмотрим на значения в столбце 'MonthlyCharges' (ежемесячные траты на услуги) и построим по значениям этого столбца график"
   ]
  },
  {
   "cell_type": "code",
   "execution_count": 17,
   "metadata": {},
   "outputs": [
    {
     "data": {
      "image/png": "[encoded data removed]",
      "text/plain": [
       "<Figure size 720x360 with 1 Axes>"
      ]
     },
     "metadata": {
      "needs_background": "light"
     },
     "output_type": "display_data"
    },
    {
     "name": "stdout",
     "output_type": "stream",
     "text": [
      "20.05     61\n",
      "19.85     45\n",
      "19.90     44\n",
      "19.95     44\n",
      "19.65     43\n",
      "          ..\n",
      "87.65      1\n",
      "35.30      1\n",
      "114.85     1\n",
      "56.50      1\n",
      "97.25      1\n",
      "Name: MonthlyCharges, Length: 1585, dtype: int64\n"
     ]
    }
   ],
   "source": [
    "fig, ax = plt.subplots(figsize=(10, 5))\n",
    "data['MonthlyCharges'].hist(bins=50)\n",
    "plt.ylabel('Количество людей')\n",
    "plt.xlabel('Ежемесячные траты на услуги')\n",
    "plt.show()\n",
    "print(data['MonthlyCharges'].value_counts())"
   ]
  },
  {
   "cell_type": "markdown",
   "metadata": {},
   "source": [
    "Как мы видим чаще всего люди тратят около 20 у.е. на услуги в месяц. Однако немало и тех, кто платит от 45 до 100 у.е. в месяц"
   ]
  },
  {
   "cell_type": "markdown",
   "metadata": {},
   "source": [
    "Далее посмотрим на значения в столбце 'TotalCharges' (суммарные траты на услуги) и построим по значениям этого столбца график"
   ]
  },
  {
   "cell_type": "code",
   "execution_count": 18,
   "metadata": {
    "scrolled": true
   },
   "outputs": [
    {
     "name": "stdout",
     "output_type": "stream",
     "text": [
      "           11\n",
      "20.45       6\n",
      "101.0       5\n",
      "19.65       4\n",
      "40.1        4\n",
      "           ..\n",
      "348.6       1\n",
      "1412.32     1\n",
      "1886.0      1\n",
      "1272.0      1\n",
      "216.65      1\n",
      "Name: TotalCharges, Length: 6658, dtype: int64\n"
     ]
    }
   ],
   "source": [
    "print(data['TotalCharges'].value_counts())"
   ]
  },
  {
   "cell_type": "markdown",
   "metadata": {},
   "source": [
    "Как мы видим у нас имеются пустые значения в данном столбце - возможно была ошибка в выгрузке данных или это клиенты с нулевыми суммарными тратами на услуги на момент выгрузки данных (например, новые клиенты). Посмотрим на этих клиентов повнимательнее"
   ]
  },
  {
   "cell_type": "code",
   "execution_count": 19,
   "metadata": {
    "scrolled": true
   },
   "outputs": [
    {
     "data": {
      "text/html": [
       "<div>\n",
       "<style scoped>\n",
       "    .dataframe tbody tr th:only-of-type {\n",
       "        vertical-align: middle;\n",
       "    }\n",
       "\n",
       "    .dataframe tbody tr th {\n",
       "        vertical-align: top;\n",
       "    }\n",
       "\n",
       "    .dataframe thead th {\n",
       "        text-align: right;\n",
       "    }\n",
       "</style>\n",
       "<table border=\"1\" class=\"dataframe\">\n",
       "  <thead>\n",
       "    <tr style=\"text-align: right;\">\n",
       "      <th></th>\n",
       "      <th>customerID</th>\n",
       "      <th>BeginDate</th>\n",
       "      <th>EndDate</th>\n",
       "      <th>Type</th>\n",
       "      <th>PaperlessBilling</th>\n",
       "      <th>PaymentMethod</th>\n",
       "      <th>MonthlyCharges</th>\n",
       "      <th>TotalCharges</th>\n",
       "      <th>gender</th>\n",
       "      <th>SeniorCitizen</th>\n",
       "      <th>...</th>\n",
       "      <th>InternetService</th>\n",
       "      <th>OnlineSecurity</th>\n",
       "      <th>OnlineBackup</th>\n",
       "      <th>DeviceProtection</th>\n",
       "      <th>TechSupport</th>\n",
       "      <th>StreamingTV</th>\n",
       "      <th>StreamingMovies</th>\n",
       "      <th>MultipleLines</th>\n",
       "      <th>status</th>\n",
       "      <th>time</th>\n",
       "    </tr>\n",
       "  </thead>\n",
       "  <tbody>\n",
       "    <tr>\n",
       "      <th>488</th>\n",
       "      <td>4472-LVYGI</td>\n",
       "      <td>2020-02-01</td>\n",
       "      <td>2020-02-01</td>\n",
       "      <td>Two year</td>\n",
       "      <td>Yes</td>\n",
       "      <td>Bank transfer (automatic)</td>\n",
       "      <td>52.55</td>\n",
       "      <td></td>\n",
       "      <td>Female</td>\n",
       "      <td>0</td>\n",
       "      <td>...</td>\n",
       "      <td>DSL</td>\n",
       "      <td>Yes</td>\n",
       "      <td>No</td>\n",
       "      <td>Yes</td>\n",
       "      <td>Yes</td>\n",
       "      <td>Yes</td>\n",
       "      <td>No</td>\n",
       "      <td>NaN</td>\n",
       "      <td>1.0</td>\n",
       "      <td>0</td>\n",
       "    </tr>\n",
       "    <tr>\n",
       "      <th>753</th>\n",
       "      <td>3115-CZMZD</td>\n",
       "      <td>2020-02-01</td>\n",
       "      <td>2020-02-01</td>\n",
       "      <td>Two year</td>\n",
       "      <td>No</td>\n",
       "      <td>Mailed check</td>\n",
       "      <td>20.25</td>\n",
       "      <td></td>\n",
       "      <td>Male</td>\n",
       "      <td>0</td>\n",
       "      <td>...</td>\n",
       "      <td>NaN</td>\n",
       "      <td>NaN</td>\n",
       "      <td>NaN</td>\n",
       "      <td>NaN</td>\n",
       "      <td>NaN</td>\n",
       "      <td>NaN</td>\n",
       "      <td>NaN</td>\n",
       "      <td>No</td>\n",
       "      <td>1.0</td>\n",
       "      <td>0</td>\n",
       "    </tr>\n",
       "    <tr>\n",
       "      <th>936</th>\n",
       "      <td>5709-LVOEQ</td>\n",
       "      <td>2020-02-01</td>\n",
       "      <td>2020-02-01</td>\n",
       "      <td>Two year</td>\n",
       "      <td>No</td>\n",
       "      <td>Mailed check</td>\n",
       "      <td>80.85</td>\n",
       "      <td></td>\n",
       "      <td>Female</td>\n",
       "      <td>0</td>\n",
       "      <td>...</td>\n",
       "      <td>DSL</td>\n",
       "      <td>Yes</td>\n",
       "      <td>Yes</td>\n",
       "      <td>Yes</td>\n",
       "      <td>No</td>\n",
       "      <td>Yes</td>\n",
       "      <td>Yes</td>\n",
       "      <td>No</td>\n",
       "      <td>1.0</td>\n",
       "      <td>0</td>\n",
       "    </tr>\n",
       "    <tr>\n",
       "      <th>1082</th>\n",
       "      <td>4367-NUYAO</td>\n",
       "      <td>2020-02-01</td>\n",
       "      <td>2020-02-01</td>\n",
       "      <td>Two year</td>\n",
       "      <td>No</td>\n",
       "      <td>Mailed check</td>\n",
       "      <td>25.75</td>\n",
       "      <td></td>\n",
       "      <td>Male</td>\n",
       "      <td>0</td>\n",
       "      <td>...</td>\n",
       "      <td>NaN</td>\n",
       "      <td>NaN</td>\n",
       "      <td>NaN</td>\n",
       "      <td>NaN</td>\n",
       "      <td>NaN</td>\n",
       "      <td>NaN</td>\n",
       "      <td>NaN</td>\n",
       "      <td>Yes</td>\n",
       "      <td>1.0</td>\n",
       "      <td>0</td>\n",
       "    </tr>\n",
       "    <tr>\n",
       "      <th>1340</th>\n",
       "      <td>1371-DWPAZ</td>\n",
       "      <td>2020-02-01</td>\n",
       "      <td>2020-02-01</td>\n",
       "      <td>Two year</td>\n",
       "      <td>No</td>\n",
       "      <td>Credit card (automatic)</td>\n",
       "      <td>56.05</td>\n",
       "      <td></td>\n",
       "      <td>Female</td>\n",
       "      <td>0</td>\n",
       "      <td>...</td>\n",
       "      <td>DSL</td>\n",
       "      <td>Yes</td>\n",
       "      <td>Yes</td>\n",
       "      <td>Yes</td>\n",
       "      <td>Yes</td>\n",
       "      <td>Yes</td>\n",
       "      <td>No</td>\n",
       "      <td>NaN</td>\n",
       "      <td>1.0</td>\n",
       "      <td>0</td>\n",
       "    </tr>\n",
       "    <tr>\n",
       "      <th>3331</th>\n",
       "      <td>7644-OMVMY</td>\n",
       "      <td>2020-02-01</td>\n",
       "      <td>2020-02-01</td>\n",
       "      <td>Two year</td>\n",
       "      <td>No</td>\n",
       "      <td>Mailed check</td>\n",
       "      <td>19.85</td>\n",
       "      <td></td>\n",
       "      <td>Male</td>\n",
       "      <td>0</td>\n",
       "      <td>...</td>\n",
       "      <td>NaN</td>\n",
       "      <td>NaN</td>\n",
       "      <td>NaN</td>\n",
       "      <td>NaN</td>\n",
       "      <td>NaN</td>\n",
       "      <td>NaN</td>\n",
       "      <td>NaN</td>\n",
       "      <td>No</td>\n",
       "      <td>1.0</td>\n",
       "      <td>0</td>\n",
       "    </tr>\n",
       "    <tr>\n",
       "      <th>3826</th>\n",
       "      <td>3213-VVOLG</td>\n",
       "      <td>2020-02-01</td>\n",
       "      <td>2020-02-01</td>\n",
       "      <td>Two year</td>\n",
       "      <td>No</td>\n",
       "      <td>Mailed check</td>\n",
       "      <td>25.35</td>\n",
       "      <td></td>\n",
       "      <td>Male</td>\n",
       "      <td>0</td>\n",
       "      <td>...</td>\n",
       "      <td>NaN</td>\n",
       "      <td>NaN</td>\n",
       "      <td>NaN</td>\n",
       "      <td>NaN</td>\n",
       "      <td>NaN</td>\n",
       "      <td>NaN</td>\n",
       "      <td>NaN</td>\n",
       "      <td>Yes</td>\n",
       "      <td>1.0</td>\n",
       "      <td>0</td>\n",
       "    </tr>\n",
       "    <tr>\n",
       "      <th>4380</th>\n",
       "      <td>2520-SGTTA</td>\n",
       "      <td>2020-02-01</td>\n",
       "      <td>2020-02-01</td>\n",
       "      <td>Two year</td>\n",
       "      <td>No</td>\n",
       "      <td>Mailed check</td>\n",
       "      <td>20.00</td>\n",
       "      <td></td>\n",
       "      <td>Female</td>\n",
       "      <td>0</td>\n",
       "      <td>...</td>\n",
       "      <td>NaN</td>\n",
       "      <td>NaN</td>\n",
       "      <td>NaN</td>\n",
       "      <td>NaN</td>\n",
       "      <td>NaN</td>\n",
       "      <td>NaN</td>\n",
       "      <td>NaN</td>\n",
       "      <td>No</td>\n",
       "      <td>1.0</td>\n",
       "      <td>0</td>\n",
       "    </tr>\n",
       "    <tr>\n",
       "      <th>5218</th>\n",
       "      <td>2923-ARZLG</td>\n",
       "      <td>2020-02-01</td>\n",
       "      <td>2020-02-01</td>\n",
       "      <td>One year</td>\n",
       "      <td>Yes</td>\n",
       "      <td>Mailed check</td>\n",
       "      <td>19.70</td>\n",
       "      <td></td>\n",
       "      <td>Male</td>\n",
       "      <td>0</td>\n",
       "      <td>...</td>\n",
       "      <td>NaN</td>\n",
       "      <td>NaN</td>\n",
       "      <td>NaN</td>\n",
       "      <td>NaN</td>\n",
       "      <td>NaN</td>\n",
       "      <td>NaN</td>\n",
       "      <td>NaN</td>\n",
       "      <td>No</td>\n",
       "      <td>1.0</td>\n",
       "      <td>0</td>\n",
       "    </tr>\n",
       "    <tr>\n",
       "      <th>6670</th>\n",
       "      <td>4075-WKNIU</td>\n",
       "      <td>2020-02-01</td>\n",
       "      <td>2020-02-01</td>\n",
       "      <td>Two year</td>\n",
       "      <td>No</td>\n",
       "      <td>Mailed check</td>\n",
       "      <td>73.35</td>\n",
       "      <td></td>\n",
       "      <td>Female</td>\n",
       "      <td>0</td>\n",
       "      <td>...</td>\n",
       "      <td>DSL</td>\n",
       "      <td>No</td>\n",
       "      <td>Yes</td>\n",
       "      <td>Yes</td>\n",
       "      <td>Yes</td>\n",
       "      <td>Yes</td>\n",
       "      <td>No</td>\n",
       "      <td>Yes</td>\n",
       "      <td>1.0</td>\n",
       "      <td>0</td>\n",
       "    </tr>\n",
       "    <tr>\n",
       "      <th>6754</th>\n",
       "      <td>2775-SEFEE</td>\n",
       "      <td>2020-02-01</td>\n",
       "      <td>2020-02-01</td>\n",
       "      <td>Two year</td>\n",
       "      <td>Yes</td>\n",
       "      <td>Bank transfer (automatic)</td>\n",
       "      <td>61.90</td>\n",
       "      <td></td>\n",
       "      <td>Male</td>\n",
       "      <td>0</td>\n",
       "      <td>...</td>\n",
       "      <td>DSL</td>\n",
       "      <td>Yes</td>\n",
       "      <td>Yes</td>\n",
       "      <td>No</td>\n",
       "      <td>Yes</td>\n",
       "      <td>No</td>\n",
       "      <td>No</td>\n",
       "      <td>Yes</td>\n",
       "      <td>1.0</td>\n",
       "      <td>0</td>\n",
       "    </tr>\n",
       "  </tbody>\n",
       "</table>\n",
       "<p>11 rows × 22 columns</p>\n",
       "</div>"
      ],
      "text/plain": [
       "      customerID  BeginDate    EndDate      Type PaperlessBilling  \\\n",
       "488   4472-LVYGI 2020-02-01 2020-02-01  Two year              Yes   \n",
       "753   3115-CZMZD 2020-02-01 2020-02-01  Two year               No   \n",
       "936   5709-LVOEQ 2020-02-01 2020-02-01  Two year               No   \n",
       "1082  4367-NUYAO 2020-02-01 2020-02-01  Two year               No   \n",
       "1340  1371-DWPAZ 2020-02-01 2020-02-01  Two year               No   \n",
       "3331  7644-OMVMY 2020-02-01 2020-02-01  Two year               No   \n",
       "3826  3213-VVOLG 2020-02-01 2020-02-01  Two year               No   \n",
       "4380  2520-SGTTA 2020-02-01 2020-02-01  Two year               No   \n",
       "5218  2923-ARZLG 2020-02-01 2020-02-01  One year              Yes   \n",
       "6670  4075-WKNIU 2020-02-01 2020-02-01  Two year               No   \n",
       "6754  2775-SEFEE 2020-02-01 2020-02-01  Two year              Yes   \n",
       "\n",
       "                  PaymentMethod  MonthlyCharges TotalCharges  gender  \\\n",
       "488   Bank transfer (automatic)           52.55               Female   \n",
       "753                Mailed check           20.25                 Male   \n",
       "936                Mailed check           80.85               Female   \n",
       "1082               Mailed check           25.75                 Male   \n",
       "1340    Credit card (automatic)           56.05               Female   \n",
       "3331               Mailed check           19.85                 Male   \n",
       "3826               Mailed check           25.35                 Male   \n",
       "4380               Mailed check           20.00               Female   \n",
       "5218               Mailed check           19.70                 Male   \n",
       "6670               Mailed check           73.35               Female   \n",
       "6754  Bank transfer (automatic)           61.90                 Male   \n",
       "\n",
       "      SeniorCitizen  ... InternetService OnlineSecurity OnlineBackup  \\\n",
       "488               0  ...             DSL            Yes           No   \n",
       "753               0  ...             NaN            NaN          NaN   \n",
       "936               0  ...             DSL            Yes          Yes   \n",
       "1082              0  ...             NaN            NaN          NaN   \n",
       "1340              0  ...             DSL            Yes          Yes   \n",
       "3331              0  ...             NaN            NaN          NaN   \n",
       "3826              0  ...             NaN            NaN          NaN   \n",
       "4380              0  ...             NaN            NaN          NaN   \n",
       "5218              0  ...             NaN            NaN          NaN   \n",
       "6670              0  ...             DSL             No          Yes   \n",
       "6754              0  ...             DSL            Yes          Yes   \n",
       "\n",
       "     DeviceProtection TechSupport StreamingTV StreamingMovies MultipleLines  \\\n",
       "488               Yes         Yes         Yes              No           NaN   \n",
       "753               NaN         NaN         NaN             NaN            No   \n",
       "936               Yes          No         Yes             Yes            No   \n",
       "1082              NaN         NaN         NaN             NaN           Yes   \n",
       "1340              Yes         Yes         Yes              No           NaN   \n",
       "3331              NaN         NaN         NaN             NaN            No   \n",
       "3826              NaN         NaN         NaN             NaN           Yes   \n",
       "4380              NaN         NaN         NaN             NaN            No   \n",
       "5218              NaN         NaN         NaN             NaN            No   \n",
       "6670              Yes         Yes         Yes              No           Yes   \n",
       "6754               No         Yes          No              No           Yes   \n",
       "\n",
       "     status time  \n",
       "488     1.0    0  \n",
       "753     1.0    0  \n",
       "936     1.0    0  \n",
       "1082    1.0    0  \n",
       "1340    1.0    0  \n",
       "3331    1.0    0  \n",
       "3826    1.0    0  \n",
       "4380    1.0    0  \n",
       "5218    1.0    0  \n",
       "6670    1.0    0  \n",
       "6754    1.0    0  \n",
       "\n",
       "[11 rows x 22 columns]"
      ]
     },
     "metadata": {},
     "output_type": "display_data"
    }
   ],
   "source": [
    "display(data.loc[data['TotalCharges'] == ' '])"
   ]
  },
  {
   "cell_type": "markdown",
   "metadata": {},
   "source": [
    "Как мы видим у всех этих клиентов начало пользования услугами совпадает с днем выгрузки данных, поэтому нулевые суммарные траты на услуги у них выглядят логично. Мы можем заполнить данные пропуски нулями или, еще лучше, избавиться от них - поскольку таких значений немного и чтобы они не портили картину будущих предсказаний"
   ]
  },
  {
   "cell_type": "code",
   "execution_count": 20,
   "metadata": {},
   "outputs": [],
   "source": [
    "data = data.loc[data['TotalCharges'] != ' ']"
   ]
  },
  {
   "cell_type": "markdown",
   "metadata": {},
   "source": [
    "Теперь поменяем тип данных на более подходящий и построим по значениям этого столбца график и диаграмму типа 'ящик с усами'. Заодно оценим минимальное и максимальное значение суммарных затрат на услуги (чтобы избежать аномальных значений)"
   ]
  },
  {
   "cell_type": "code",
   "execution_count": 21,
   "metadata": {},
   "outputs": [],
   "source": [
    "data['TotalCharges'] = data['TotalCharges'].astype('float64')"
   ]
  },
  {
   "cell_type": "code",
   "execution_count": 22,
   "metadata": {},
   "outputs": [
    {
     "data": {
      "image/png": "[encoded data removed]",
      "text/plain": [
       "<Figure size 720x360 with 1 Axes>"
      ]
     },
     "metadata": {
      "needs_background": "light"
     },
     "output_type": "display_data"
    },
    {
     "data": {
      "image/png": "[encoded data removed]",
      "text/plain": [
       "<Figure size 720x360 with 1 Axes>"
      ]
     },
     "metadata": {
      "needs_background": "light"
     },
     "output_type": "display_data"
    },
    {
     "data": {
      "text/plain": [
       "count    7032.000000\n",
       "mean     2118.621822\n",
       "std      2112.736199\n",
       "min        19.050000\n",
       "25%       439.745000\n",
       "50%      1345.275000\n",
       "75%      3239.317500\n",
       "max      9221.380000\n",
       "Name: TotalCharges, dtype: float64"
      ]
     },
     "execution_count": 22,
     "metadata": {},
     "output_type": "execute_result"
    }
   ],
   "source": [
    "fig, ax = plt.subplots(figsize=(10, 5))\n",
    "data['TotalCharges'].hist(bins = 50)\n",
    "plt.ylabel('Количество людей')\n",
    "plt.xlabel('Суммарные траты на услуги')\n",
    "plt.show()\n",
    "fig, ax = plt.subplots(figsize=(10, 5))\n",
    "data.boxplot(column='TotalCharges')\n",
    "plt.title('Суммарные траты на услуги')\n",
    "plt.show()\n",
    "data['TotalCharges'].describe()"
   ]
  },
  {
   "cell_type": "markdown",
   "metadata": {},
   "source": [
    "Как мы видим, клиенты чаще всего имеют суммарные затраты на услуги от 440 до 3200 у.е., минимальное значение трат составляет 19 у.е. (стоимость оказания услуг за один месяц), а максимальное значение трат - 9221 у.е., что выглядит правдоподобно при больших ежемесячных тратах и долгом пользовании услугами."
   ]
  },
  {
   "cell_type": "markdown",
   "metadata": {},
   "source": [
    "Посмотрим на распределения в столбцах в столбцах, связанных с персональными данными клиентов: 'gender',\t'SeniorCitizen', 'Partner',\t'Dependents' и построим соответствующие графики"
   ]
  },
  {
   "cell_type": "code",
   "execution_count": 23,
   "metadata": {
    "scrolled": true
   },
   "outputs": [
    {
     "data": {
      "image/png": "[encoded data removed]",
      "text/plain": [
       "<Figure size 504x288 with 1 Axes>"
      ]
     },
     "metadata": {
      "needs_background": "light"
     },
     "output_type": "display_data"
    },
    {
     "name": "stdout",
     "output_type": "stream",
     "text": [
      "Male      3549\n",
      "Female    3483\n",
      "Name: gender, dtype: int64\n"
     ]
    }
   ],
   "source": [
    "fig, ax = plt.subplots(figsize=(7, 4))\n",
    "sns.countplot(data=data, x='gender')\n",
    "plt.ylabel('Количество людей')\n",
    "plt.xlabel('Пол')\n",
    "plt.show()\n",
    "print(data['gender'].value_counts())"
   ]
  },
  {
   "cell_type": "markdown",
   "metadata": {},
   "source": [
    "Как мы видим клиенты имеют почти равное распределение по полу, что вполне логично"
   ]
  },
  {
   "cell_type": "code",
   "execution_count": 24,
   "metadata": {},
   "outputs": [
    {
     "data": {
      "image/png": "[encoded data removed]",
      "text/plain": [
       "<Figure size 504x288 with 1 Axes>"
      ]
     },
     "metadata": {
      "needs_background": "light"
     },
     "output_type": "display_data"
    },
    {
     "name": "stdout",
     "output_type": "stream",
     "text": [
      "0    5890\n",
      "1    1142\n",
      "Name: SeniorCitizen, dtype: int64\n"
     ]
    }
   ],
   "source": [
    "fig, ax = plt.subplots(figsize=(7, 4))\n",
    "sns.countplot(data=data, x='SeniorCitizen')\n",
    "plt.ylabel('Количество людей')\n",
    "plt.xlabel('Пенсионный статус')\n",
    "plt.show()\n",
    "print(data['SeniorCitizen'].value_counts())"
   ]
  },
  {
   "cell_type": "markdown",
   "metadata": {},
   "source": [
    "Примерно 1/6 часть клиентов являются пенсионерами"
   ]
  },
  {
   "cell_type": "code",
   "execution_count": 25,
   "metadata": {},
   "outputs": [
    {
     "data": {
      "image/png": "[encoded data removed]",
      "text/plain": [
       "<Figure size 504x288 with 1 Axes>"
      ]
     },
     "metadata": {
      "needs_background": "light"
     },
     "output_type": "display_data"
    },
    {
     "name": "stdout",
     "output_type": "stream",
     "text": [
      "No     3639\n",
      "Yes    3393\n",
      "Name: Partner, dtype: int64\n"
     ]
    }
   ],
   "source": [
    "fig, ax = plt.subplots(figsize=(7, 4))\n",
    "sns.countplot(data=data, x='Partner')\n",
    "plt.ylabel('Количество людей')\n",
    "plt.xlabel('Наличие супруга')\n",
    "plt.show()\n",
    "print(data['Partner'].value_counts())"
   ]
  },
  {
   "cell_type": "markdown",
   "metadata": {},
   "source": [
    "Примерно равные части клиентов имеют и не имеют супругов"
   ]
  },
  {
   "cell_type": "code",
   "execution_count": 26,
   "metadata": {},
   "outputs": [
    {
     "data": {
      "image/png": "[encoded data removed]",
      "text/plain": [
       "<Figure size 504x288 with 1 Axes>"
      ]
     },
     "metadata": {
      "needs_background": "light"
     },
     "output_type": "display_data"
    },
    {
     "name": "stdout",
     "output_type": "stream",
     "text": [
      "No     4933\n",
      "Yes    2099\n",
      "Name: Dependents, dtype: int64\n"
     ]
    }
   ],
   "source": [
    "fig, ax = plt.subplots(figsize=(7, 4))\n",
    "sns.countplot(data=data, x='Dependents')\n",
    "plt.ylabel('Количество людей')\n",
    "plt.xlabel('Наличие иждивенца')\n",
    "plt.show()\n",
    "print(data['Dependents'].value_counts())"
   ]
  },
  {
   "cell_type": "markdown",
   "metadata": {},
   "source": [
    "Клиентов без иждивенцев в два с лишним раза больше чем с иждивенцами"
   ]
  },
  {
   "cell_type": "markdown",
   "metadata": {},
   "source": [
    "Теперь посмотрим на столбцы, содержащие информацию об интернет-услугах: 'InternetService',\t'OnlineSecurity',\t'OnlineBackup', 'DeviceProtection',\t'TechSupport',\t'StreamingTV',\t'StreamingMovies'. Для данных столбцов нам необходимо учесть, что в них после объединения исходных файлов имеются пропуски поскольку не все клиенты пользуются интернетом"
   ]
  },
  {
   "cell_type": "markdown",
   "metadata": {},
   "source": [
    "Начнем со столбца 'InternetService' - в нем содержится информация о технологии интернета: Fiber optic (оптоволокно) или DSL (телефонная сеть). Также нам необходимо посмотреть на пропуски в этом столбце   "
   ]
  },
  {
   "cell_type": "code",
   "execution_count": 27,
   "metadata": {
    "scrolled": false
   },
   "outputs": [
    {
     "data": {
      "image/png": "[encoded data removed]",
      "text/plain": [
       "<Figure size 504x288 with 1 Axes>"
      ]
     },
     "metadata": {
      "needs_background": "light"
     },
     "output_type": "display_data"
    },
    {
     "name": "stdout",
     "output_type": "stream",
     "text": [
      "Fiber optic    3096\n",
      "DSL            2416\n",
      "Name: InternetService, dtype: int64\n",
      "Количество пропусков:  1520\n"
     ]
    }
   ],
   "source": [
    "fig, ax = plt.subplots(figsize=(7, 4))\n",
    "sns.countplot(data=data, x='InternetService')\n",
    "plt.ylabel('Количество людей')\n",
    "plt.xlabel('Вид интернета')\n",
    "plt.show()\n",
    "print(data['InternetService'].value_counts())\n",
    "print('Количество пропусков: ', data['InternetService'].isna().sum())"
   ]
  },
  {
   "cell_type": "markdown",
   "metadata": {},
   "source": [
    "Мы видим, что количество клиентов использующих Fiber optic (оптоволокно) чуть больше чем пользователей DSL технологии. Пропуски заполним значением 'No'"
   ]
  },
  {
   "cell_type": "code",
   "execution_count": 28,
   "metadata": {},
   "outputs": [],
   "source": [
    "data['InternetService'] = data['InternetService'].fillna('No')"
   ]
  },
  {
   "cell_type": "markdown",
   "metadata": {},
   "source": [
    "Далее посмотрим на столбцы с дополнительными интернет-услугами: 'OnlineSecurity' (онлайн безопасность), 'OnlineBackup' (резервное копирование), 'DeviceProtection' (защита устройства), 'TechSupport' (тех. поддержка), 'StreamingTV' (стриминговое ТВ), 'StreamingMovies' (стриминговое кино). Построим для них графики и аналогичным способом заполним пропуски"
   ]
  },
  {
   "cell_type": "code",
   "execution_count": 29,
   "metadata": {},
   "outputs": [
    {
     "data": {
      "image/png": "[encoded data removed]",
      "text/plain": [
       "<Figure size 504x288 with 1 Axes>"
      ]
     },
     "metadata": {
      "needs_background": "light"
     },
     "output_type": "display_data"
    },
    {
     "name": "stdout",
     "output_type": "stream",
     "text": [
      "No     3497\n",
      "Yes    2015\n",
      "Name: OnlineSecurity, dtype: int64\n",
      "Количество пропусков:  1520\n"
     ]
    }
   ],
   "source": [
    "fig, ax = plt.subplots(figsize=(7, 4))\n",
    "sns.countplot(data=data, x='OnlineSecurity')\n",
    "plt.ylabel('Количество людей')\n",
    "plt.xlabel('Использование онлайн безопасности')\n",
    "plt.show()\n",
    "print(data['OnlineSecurity'].value_counts())\n",
    "print('Количество пропусков: ', data['OnlineSecurity'].isna().sum())"
   ]
  },
  {
   "cell_type": "markdown",
   "metadata": {},
   "source": [
    "Больше клиентов, которые не пользуются онлайн безопасностью"
   ]
  },
  {
   "cell_type": "code",
   "execution_count": 30,
   "metadata": {},
   "outputs": [
    {
     "data": {
      "image/png": "[encoded data removed]",
      "text/plain": [
       "<Figure size 504x288 with 1 Axes>"
      ]
     },
     "metadata": {
      "needs_background": "light"
     },
     "output_type": "display_data"
    },
    {
     "name": "stdout",
     "output_type": "stream",
     "text": [
      "No     3087\n",
      "Yes    2425\n",
      "Name: OnlineBackup, dtype: int64\n",
      "Количество пропусков:  1520\n"
     ]
    }
   ],
   "source": [
    "fig, ax = plt.subplots(figsize=(7, 4))\n",
    "sns.countplot(data=data, x='OnlineBackup')\n",
    "plt.ylabel('Количество людей')\n",
    "plt.xlabel('Использование резервного копирования')\n",
    "plt.show()\n",
    "print(data['OnlineBackup'].value_counts())\n",
    "print('Количество пропусков: ', data['OnlineBackup'].isna().sum())"
   ]
  },
  {
   "cell_type": "markdown",
   "metadata": {},
   "source": [
    "Клиентов не использующих резервное копирование также больше, чем использующих"
   ]
  },
  {
   "cell_type": "code",
   "execution_count": 31,
   "metadata": {},
   "outputs": [
    {
     "data": {
      "image/png": "[encoded data removed]",
      "text/plain": [
       "<Figure size 504x288 with 1 Axes>"
      ]
     },
     "metadata": {
      "needs_background": "light"
     },
     "output_type": "display_data"
    },
    {
     "name": "stdout",
     "output_type": "stream",
     "text": [
      "No     3094\n",
      "Yes    2418\n",
      "Name: DeviceProtection, dtype: int64\n",
      "Количество пропусков:  1520\n"
     ]
    }
   ],
   "source": [
    "fig, ax = plt.subplots(figsize=(7, 4))\n",
    "sns.countplot(data=data, x='DeviceProtection')\n",
    "plt.ylabel('Количество людей')\n",
    "plt.xlabel('Использование защиты устройства')\n",
    "plt.show()\n",
    "print(data['DeviceProtection'].value_counts())\n",
    "print('Количество пропусков: ', data['DeviceProtection'].isna().sum())"
   ]
  },
  {
   "cell_type": "markdown",
   "metadata": {},
   "source": [
    "Клиентов не использующих защиту устройства также чуть больше, чем использующих"
   ]
  },
  {
   "cell_type": "code",
   "execution_count": 32,
   "metadata": {},
   "outputs": [
    {
     "data": {
      "image/png": "[encoded data removed]",
      "text/plain": [
       "<Figure size 504x288 with 1 Axes>"
      ]
     },
     "metadata": {
      "needs_background": "light"
     },
     "output_type": "display_data"
    },
    {
     "name": "stdout",
     "output_type": "stream",
     "text": [
      "No     3472\n",
      "Yes    2040\n",
      "Name: TechSupport, dtype: int64\n",
      "Количество пропусков:  1520\n"
     ]
    }
   ],
   "source": [
    "fig, ax = plt.subplots(figsize=(7, 4))\n",
    "sns.countplot(data=data, x='TechSupport')\n",
    "plt.ylabel('Количество людей')\n",
    "plt.xlabel('Использование тех. поддержки')\n",
    "plt.show()\n",
    "print(data['TechSupport'].value_counts())\n",
    "print('Количество пропусков: ', data['TechSupport'].isna().sum())"
   ]
  },
  {
   "cell_type": "markdown",
   "metadata": {},
   "source": [
    "Клиентов не использующих услуги тех. поддержки также больше, чем использующих"
   ]
  },
  {
   "cell_type": "code",
   "execution_count": 33,
   "metadata": {},
   "outputs": [
    {
     "data": {
      "image/png": "[encoded data removed]",
      "text/plain": [
       "<Figure size 504x288 with 1 Axes>"
      ]
     },
     "metadata": {
      "needs_background": "light"
     },
     "output_type": "display_data"
    },
    {
     "name": "stdout",
     "output_type": "stream",
     "text": [
      "No     2809\n",
      "Yes    2703\n",
      "Name: StreamingTV, dtype: int64\n",
      "Количество пропусков:  1520\n"
     ]
    }
   ],
   "source": [
    "fig, ax = plt.subplots(figsize=(7, 4))\n",
    "sns.countplot(data=data, x='StreamingTV')\n",
    "plt.ylabel('Количество людей')\n",
    "plt.xlabel('Использование стримингового ТВ')\n",
    "plt.show()\n",
    "print(data['StreamingTV'].value_counts())\n",
    "print('Количество пропусков: ', data['StreamingTV'].isna().sum())"
   ]
  },
  {
   "cell_type": "markdown",
   "metadata": {},
   "source": [
    "Клиентов использующих и не использующих услуги стримингового ТВ почти равное количество"
   ]
  },
  {
   "cell_type": "code",
   "execution_count": 34,
   "metadata": {},
   "outputs": [
    {
     "data": {
      "image/png": "[encoded data removed]",
      "text/plain": [
       "<Figure size 504x288 with 1 Axes>"
      ]
     },
     "metadata": {
      "needs_background": "light"
     },
     "output_type": "display_data"
    },
    {
     "name": "stdout",
     "output_type": "stream",
     "text": [
      "No     2781\n",
      "Yes    2731\n",
      "Name: StreamingMovies, dtype: int64\n",
      "Количество пропусков:  1520\n"
     ]
    }
   ],
   "source": [
    "fig, ax = plt.subplots(figsize=(7, 4))\n",
    "sns.countplot(data=data, x='StreamingMovies')\n",
    "plt.ylabel('Количество людей')\n",
    "plt.xlabel('Использование стримингового кино')\n",
    "plt.show()\n",
    "print(data['StreamingMovies'].value_counts())\n",
    "print('Количество пропусков: ', data['StreamingMovies'].isna().sum())"
   ]
  },
  {
   "cell_type": "markdown",
   "metadata": {},
   "source": [
    "Клиентов использующих и не использующих услуги стримингового кино также почти равное количество"
   ]
  },
  {
   "cell_type": "markdown",
   "metadata": {},
   "source": [
    "Из всего вышесказанного мы можем сделать вывод, что из дополнительных интернет-услуг востребованы только стриминговое ТВ и стриминговое кино - их использует около половины пользователей интернета, остальные услуги использует еще меньший процент пользователей"
   ]
  },
  {
   "cell_type": "markdown",
   "metadata": {},
   "source": [
    "Заполним пропуски с столбцах с интернет-услугами значением 'No'"
   ]
  },
  {
   "cell_type": "code",
   "execution_count": 35,
   "metadata": {},
   "outputs": [],
   "source": [
    "data['OnlineSecurity'] = data['OnlineSecurity'].fillna('No')\n",
    "data['OnlineBackup'] = data['OnlineBackup'].fillna('No')\n",
    "data['DeviceProtection'] = data['DeviceProtection'].fillna('No')\n",
    "data['TechSupport'] = data['TechSupport'].fillna('No')\n",
    "data['StreamingTV'] = data['StreamingTV'].fillna('No')\n",
    "data['StreamingMovies'] = data['StreamingMovies'].fillna('No')"
   ]
  },
  {
   "cell_type": "markdown",
   "metadata": {},
   "source": [
    "Осталось посмотреть на информация об услугах телефонии. Посмотрим на столбец 'MultipleLines' - в нем содержится информация о возможности ведения параллельной линии во время звонка. Также нам необходимо посмотреть на пропуски в этом столбце"
   ]
  },
  {
   "cell_type": "code",
   "execution_count": 36,
   "metadata": {},
   "outputs": [
    {
     "data": {
      "image/png": "[encoded data removed]",
      "text/plain": [
       "<Figure size 504x288 with 1 Axes>"
      ]
     },
     "metadata": {
      "needs_background": "light"
     },
     "output_type": "display_data"
    },
    {
     "name": "stdout",
     "output_type": "stream",
     "text": [
      "No     3385\n",
      "Yes    2967\n",
      "Name: MultipleLines, dtype: int64\n",
      "Количество пропусков:  680\n"
     ]
    }
   ],
   "source": [
    "fig, ax = plt.subplots(figsize=(7, 4))\n",
    "sns.countplot(data=data, x='MultipleLines' )\n",
    "plt.ylabel('Количество людей')\n",
    "plt.xlabel('Возможность ведения параллельной линии')\n",
    "plt.show()\n",
    "print(data['MultipleLines'].value_counts())\n",
    "print('Количество пропусков: ', data['MultipleLines'].isna().sum())"
   ]
  },
  {
   "cell_type": "markdown",
   "metadata": {},
   "source": [
    "Как мы видим чуть чаще у клиентов нет возможности ведения параллельной линии. Поскольку мы не знаем наверняка о такой возможности у клиентов, которые не пользуются услугами телефонии, поэтому заполним пропуски значением 'unknown'"
   ]
  },
  {
   "cell_type": "code",
   "execution_count": 37,
   "metadata": {},
   "outputs": [],
   "source": [
    "data['MultipleLines'] = data['MultipleLines'].fillna('unknown')"
   ]
  },
  {
   "cell_type": "markdown",
   "metadata": {},
   "source": [
    "Обратим внимание на столбцы с непосредственными датами заключения и расторжения договоров, а также уникальный идентификатор клиента: поскольку они являются индивидуальными и не смогут помочь нам в предсказаниях удалим эти столбцы"
   ]
  },
  {
   "cell_type": "code",
   "execution_count": 38,
   "metadata": {},
   "outputs": [],
   "source": [
    "data = data.drop(['BeginDate','EndDate', 'customerID'], axis = 1)"
   ]
  },
  {
   "cell_type": "markdown",
   "metadata": {},
   "source": [
    "Посмотрим как теперь выглядит датасет:"
   ]
  },
  {
   "cell_type": "code",
   "execution_count": 39,
   "metadata": {},
   "outputs": [
    {
     "data": {
      "text/html": [
       "<div>\n",
       "<style scoped>\n",
       "    .dataframe tbody tr th:only-of-type {\n",
       "        vertical-align: middle;\n",
       "    }\n",
       "\n",
       "    .dataframe tbody tr th {\n",
       "        vertical-align: top;\n",
       "    }\n",
       "\n",
       "    .dataframe thead th {\n",
       "        text-align: right;\n",
       "    }\n",
       "</style>\n",
       "<table border=\"1\" class=\"dataframe\">\n",
       "  <thead>\n",
       "    <tr style=\"text-align: right;\">\n",
       "      <th></th>\n",
       "      <th>Type</th>\n",
       "      <th>PaperlessBilling</th>\n",
       "      <th>PaymentMethod</th>\n",
       "      <th>MonthlyCharges</th>\n",
       "      <th>TotalCharges</th>\n",
       "      <th>gender</th>\n",
       "      <th>SeniorCitizen</th>\n",
       "      <th>Partner</th>\n",
       "      <th>Dependents</th>\n",
       "      <th>InternetService</th>\n",
       "      <th>OnlineSecurity</th>\n",
       "      <th>OnlineBackup</th>\n",
       "      <th>DeviceProtection</th>\n",
       "      <th>TechSupport</th>\n",
       "      <th>StreamingTV</th>\n",
       "      <th>StreamingMovies</th>\n",
       "      <th>MultipleLines</th>\n",
       "      <th>status</th>\n",
       "      <th>time</th>\n",
       "    </tr>\n",
       "  </thead>\n",
       "  <tbody>\n",
       "    <tr>\n",
       "      <th>6108</th>\n",
       "      <td>Month-to-month</td>\n",
       "      <td>No</td>\n",
       "      <td>Mailed check</td>\n",
       "      <td>25.15</td>\n",
       "      <td>452.70</td>\n",
       "      <td>Male</td>\n",
       "      <td>0</td>\n",
       "      <td>No</td>\n",
       "      <td>No</td>\n",
       "      <td>DSL</td>\n",
       "      <td>No</td>\n",
       "      <td>No</td>\n",
       "      <td>No</td>\n",
       "      <td>No</td>\n",
       "      <td>No</td>\n",
       "      <td>No</td>\n",
       "      <td>unknown</td>\n",
       "      <td>1.0</td>\n",
       "      <td>549</td>\n",
       "    </tr>\n",
       "    <tr>\n",
       "      <th>6614</th>\n",
       "      <td>Two year</td>\n",
       "      <td>No</td>\n",
       "      <td>Credit card (automatic)</td>\n",
       "      <td>19.70</td>\n",
       "      <td>1398.70</td>\n",
       "      <td>Male</td>\n",
       "      <td>0</td>\n",
       "      <td>Yes</td>\n",
       "      <td>Yes</td>\n",
       "      <td>No</td>\n",
       "      <td>No</td>\n",
       "      <td>No</td>\n",
       "      <td>No</td>\n",
       "      <td>No</td>\n",
       "      <td>No</td>\n",
       "      <td>No</td>\n",
       "      <td>No</td>\n",
       "      <td>1.0</td>\n",
       "      <td>2163</td>\n",
       "    </tr>\n",
       "    <tr>\n",
       "      <th>2599</th>\n",
       "      <td>Two year</td>\n",
       "      <td>Yes</td>\n",
       "      <td>Credit card (automatic)</td>\n",
       "      <td>73.00</td>\n",
       "      <td>5676.48</td>\n",
       "      <td>Female</td>\n",
       "      <td>0</td>\n",
       "      <td>No</td>\n",
       "      <td>No</td>\n",
       "      <td>DSL</td>\n",
       "      <td>Yes</td>\n",
       "      <td>Yes</td>\n",
       "      <td>Yes</td>\n",
       "      <td>Yes</td>\n",
       "      <td>No</td>\n",
       "      <td>Yes</td>\n",
       "      <td>No</td>\n",
       "      <td>1.0</td>\n",
       "      <td>2191</td>\n",
       "    </tr>\n",
       "    <tr>\n",
       "      <th>4350</th>\n",
       "      <td>Month-to-month</td>\n",
       "      <td>Yes</td>\n",
       "      <td>Credit card (automatic)</td>\n",
       "      <td>44.55</td>\n",
       "      <td>1470.15</td>\n",
       "      <td>Male</td>\n",
       "      <td>0</td>\n",
       "      <td>Yes</td>\n",
       "      <td>No</td>\n",
       "      <td>DSL</td>\n",
       "      <td>No</td>\n",
       "      <td>No</td>\n",
       "      <td>No</td>\n",
       "      <td>No</td>\n",
       "      <td>No</td>\n",
       "      <td>No</td>\n",
       "      <td>No</td>\n",
       "      <td>1.0</td>\n",
       "      <td>1006</td>\n",
       "    </tr>\n",
       "    <tr>\n",
       "      <th>6732</th>\n",
       "      <td>Month-to-month</td>\n",
       "      <td>Yes</td>\n",
       "      <td>Electronic check</td>\n",
       "      <td>89.55</td>\n",
       "      <td>2149.20</td>\n",
       "      <td>Female</td>\n",
       "      <td>0</td>\n",
       "      <td>No</td>\n",
       "      <td>No</td>\n",
       "      <td>Fiber optic</td>\n",
       "      <td>No</td>\n",
       "      <td>No</td>\n",
       "      <td>No</td>\n",
       "      <td>Yes</td>\n",
       "      <td>No</td>\n",
       "      <td>Yes</td>\n",
       "      <td>Yes</td>\n",
       "      <td>1.0</td>\n",
       "      <td>730</td>\n",
       "    </tr>\n",
       "    <tr>\n",
       "      <th>2648</th>\n",
       "      <td>Month-to-month</td>\n",
       "      <td>Yes</td>\n",
       "      <td>Electronic check</td>\n",
       "      <td>59.60</td>\n",
       "      <td>2086.00</td>\n",
       "      <td>Male</td>\n",
       "      <td>0</td>\n",
       "      <td>No</td>\n",
       "      <td>No</td>\n",
       "      <td>DSL</td>\n",
       "      <td>Yes</td>\n",
       "      <td>No</td>\n",
       "      <td>Yes</td>\n",
       "      <td>No</td>\n",
       "      <td>No</td>\n",
       "      <td>No</td>\n",
       "      <td>Yes</td>\n",
       "      <td>1.0</td>\n",
       "      <td>1067</td>\n",
       "    </tr>\n",
       "    <tr>\n",
       "      <th>1745</th>\n",
       "      <td>Two year</td>\n",
       "      <td>Yes</td>\n",
       "      <td>Credit card (automatic)</td>\n",
       "      <td>19.80</td>\n",
       "      <td>1108.80</td>\n",
       "      <td>Female</td>\n",
       "      <td>0</td>\n",
       "      <td>Yes</td>\n",
       "      <td>Yes</td>\n",
       "      <td>No</td>\n",
       "      <td>No</td>\n",
       "      <td>No</td>\n",
       "      <td>No</td>\n",
       "      <td>No</td>\n",
       "      <td>No</td>\n",
       "      <td>No</td>\n",
       "      <td>No</td>\n",
       "      <td>1.0</td>\n",
       "      <td>1706</td>\n",
       "    </tr>\n",
       "    <tr>\n",
       "      <th>3383</th>\n",
       "      <td>Month-to-month</td>\n",
       "      <td>Yes</td>\n",
       "      <td>Electronic check</td>\n",
       "      <td>75.50</td>\n",
       "      <td>727.07</td>\n",
       "      <td>Male</td>\n",
       "      <td>0</td>\n",
       "      <td>Yes</td>\n",
       "      <td>No</td>\n",
       "      <td>Fiber optic</td>\n",
       "      <td>No</td>\n",
       "      <td>No</td>\n",
       "      <td>No</td>\n",
       "      <td>No</td>\n",
       "      <td>No</td>\n",
       "      <td>No</td>\n",
       "      <td>Yes</td>\n",
       "      <td>1.0</td>\n",
       "      <td>276</td>\n",
       "    </tr>\n",
       "    <tr>\n",
       "      <th>3721</th>\n",
       "      <td>Month-to-month</td>\n",
       "      <td>No</td>\n",
       "      <td>Mailed check</td>\n",
       "      <td>20.65</td>\n",
       "      <td>61.95</td>\n",
       "      <td>Female</td>\n",
       "      <td>0</td>\n",
       "      <td>No</td>\n",
       "      <td>No</td>\n",
       "      <td>No</td>\n",
       "      <td>No</td>\n",
       "      <td>No</td>\n",
       "      <td>No</td>\n",
       "      <td>No</td>\n",
       "      <td>No</td>\n",
       "      <td>No</td>\n",
       "      <td>No</td>\n",
       "      <td>1.0</td>\n",
       "      <td>92</td>\n",
       "    </tr>\n",
       "    <tr>\n",
       "      <th>1283</th>\n",
       "      <td>Two year</td>\n",
       "      <td>Yes</td>\n",
       "      <td>Electronic check</td>\n",
       "      <td>105.50</td>\n",
       "      <td>7596.00</td>\n",
       "      <td>Female</td>\n",
       "      <td>0</td>\n",
       "      <td>Yes</td>\n",
       "      <td>No</td>\n",
       "      <td>Fiber optic</td>\n",
       "      <td>Yes</td>\n",
       "      <td>No</td>\n",
       "      <td>Yes</td>\n",
       "      <td>No</td>\n",
       "      <td>Yes</td>\n",
       "      <td>Yes</td>\n",
       "      <td>Yes</td>\n",
       "      <td>1.0</td>\n",
       "      <td>2191</td>\n",
       "    </tr>\n",
       "  </tbody>\n",
       "</table>\n",
       "</div>"
      ],
      "text/plain": [
       "                Type PaperlessBilling            PaymentMethod  \\\n",
       "6108  Month-to-month               No             Mailed check   \n",
       "6614        Two year               No  Credit card (automatic)   \n",
       "2599        Two year              Yes  Credit card (automatic)   \n",
       "4350  Month-to-month              Yes  Credit card (automatic)   \n",
       "6732  Month-to-month              Yes         Electronic check   \n",
       "2648  Month-to-month              Yes         Electronic check   \n",
       "1745        Two year              Yes  Credit card (automatic)   \n",
       "3383  Month-to-month              Yes         Electronic check   \n",
       "3721  Month-to-month               No             Mailed check   \n",
       "1283        Two year              Yes         Electronic check   \n",
       "\n",
       "      MonthlyCharges  TotalCharges  gender  SeniorCitizen Partner Dependents  \\\n",
       "6108           25.15        452.70    Male              0      No         No   \n",
       "6614           19.70       1398.70    Male              0     Yes        Yes   \n",
       "2599           73.00       5676.48  Female              0      No         No   \n",
       "4350           44.55       1470.15    Male              0     Yes         No   \n",
       "6732           89.55       2149.20  Female              0      No         No   \n",
       "2648           59.60       2086.00    Male              0      No         No   \n",
       "1745           19.80       1108.80  Female              0     Yes        Yes   \n",
       "3383           75.50        727.07    Male              0     Yes         No   \n",
       "3721           20.65         61.95  Female              0      No         No   \n",
       "1283          105.50       7596.00  Female              0     Yes         No   \n",
       "\n",
       "     InternetService OnlineSecurity OnlineBackup DeviceProtection TechSupport  \\\n",
       "6108             DSL             No           No               No          No   \n",
       "6614              No             No           No               No          No   \n",
       "2599             DSL            Yes          Yes              Yes         Yes   \n",
       "4350             DSL             No           No               No          No   \n",
       "6732     Fiber optic             No           No               No         Yes   \n",
       "2648             DSL            Yes           No              Yes          No   \n",
       "1745              No             No           No               No          No   \n",
       "3383     Fiber optic             No           No               No          No   \n",
       "3721              No             No           No               No          No   \n",
       "1283     Fiber optic            Yes           No              Yes          No   \n",
       "\n",
       "     StreamingTV StreamingMovies MultipleLines  status  time  \n",
       "6108          No              No       unknown     1.0   549  \n",
       "6614          No              No            No     1.0  2163  \n",
       "2599          No             Yes            No     1.0  2191  \n",
       "4350          No              No            No     1.0  1006  \n",
       "6732          No             Yes           Yes     1.0   730  \n",
       "2648          No              No           Yes     1.0  1067  \n",
       "1745          No              No            No     1.0  1706  \n",
       "3383          No              No           Yes     1.0   276  \n",
       "3721          No              No            No     1.0    92  \n",
       "1283         Yes             Yes           Yes     1.0  2191  "
      ]
     },
     "metadata": {},
     "output_type": "display_data"
    },
    {
     "name": "stdout",
     "output_type": "stream",
     "text": [
      "<class 'pandas.core.frame.DataFrame'>\n",
      "Int64Index: 7032 entries, 0 to 7042\n",
      "Data columns (total 19 columns):\n",
      " #   Column            Non-Null Count  Dtype  \n",
      "---  ------            --------------  -----  \n",
      " 0   Type              7032 non-null   object \n",
      " 1   PaperlessBilling  7032 non-null   object \n",
      " 2   PaymentMethod     7032 non-null   object \n",
      " 3   MonthlyCharges    7032 non-null   float64\n",
      " 4   TotalCharges      7032 non-null   float64\n",
      " 5   gender            7032 non-null   object \n",
      " 6   SeniorCitizen     7032 non-null   int64  \n",
      " 7   Partner           7032 non-null   object \n",
      " 8   Dependents        7032 non-null   object \n",
      " 9   InternetService   7032 non-null   object \n",
      " 10  OnlineSecurity    7032 non-null   object \n",
      " 11  OnlineBackup      7032 non-null   object \n",
      " 12  DeviceProtection  7032 non-null   object \n",
      " 13  TechSupport       7032 non-null   object \n",
      " 14  StreamingTV       7032 non-null   object \n",
      " 15  StreamingMovies   7032 non-null   object \n",
      " 16  MultipleLines     7032 non-null   object \n",
      " 17  status            7032 non-null   float64\n",
      " 18  time              7032 non-null   int64  \n",
      "dtypes: float64(3), int64(2), object(14)\n",
      "memory usage: 1.3+ MB\n"
     ]
    }
   ],
   "source": [
    "display(data.sample(10))\n",
    "data.info()"
   ]
  },
  {
   "cell_type": "markdown",
   "metadata": {},
   "source": [
    "Как мы видим с пропусками мы разобрались, создали новые признаки и удалили лишние, поменяли тип данных там, где это было необходимо."
   ]
  },
  {
   "cell_type": "markdown",
   "metadata": {},
   "source": [
    "Посмотрим на созданные нами признаки и оценим баланс классов в целевом признаке"
   ]
  },
  {
   "cell_type": "code",
   "execution_count": 40,
   "metadata": {},
   "outputs": [
    {
     "data": {
      "image/png": "[encoded data removed]",
      "text/plain": [
       "<Figure size 504x288 with 1 Axes>"
      ]
     },
     "metadata": {
      "needs_background": "light"
     },
     "output_type": "display_data"
    },
    {
     "name": "stdout",
     "output_type": "stream",
     "text": [
      "1.0    5931\n",
      "0.0    1101\n",
      "Name: status, dtype: int64\n"
     ]
    }
   ],
   "source": [
    "fig, ax = plt.subplots(figsize=(7, 4))\n",
    "sns.countplot(data=data, x='status')\n",
    "plt.ylabel('Количество людей')\n",
    "plt.xlabel('Является ли человек действующим клиентом оператора связи')\n",
    "plt.show()\n",
    "print(data['status'].value_counts())"
   ]
  },
  {
   "cell_type": "markdown",
   "metadata": {},
   "source": [
    "Как мы видим у нас имеется дисбаланс классов (действующих пользователей почти в 6 раз больше чем ушедших). Но поскольку мы планируем использовать метрику ROC-AUC, которая не чувствительна к дисбалансу, то оставим это без изменений"
   ]
  },
  {
   "cell_type": "markdown",
   "metadata": {},
   "source": [
    "Посмотрим на время пользования услугами и построим соответствующий график"
   ]
  },
  {
   "cell_type": "code",
   "execution_count": 41,
   "metadata": {},
   "outputs": [
    {
     "data": {
      "image/png": "[encoded data removed]",
      "text/plain": [
       "<Figure size 720x360 with 1 Axes>"
      ]
     },
     "metadata": {
      "needs_background": "light"
     },
     "output_type": "display_data"
    },
    {
     "data": {
      "image/png": "[encoded data removed]",
      "text/plain": [
       "<Figure size 720x360 with 1 Axes>"
      ]
     },
     "metadata": {
      "needs_background": "light"
     },
     "output_type": "display_data"
    },
    {
     "data": {
      "text/plain": [
       "count    7032.000000\n",
       "mean      899.961320\n",
       "std       682.738777\n",
       "min        28.000000\n",
       "25%       276.000000\n",
       "50%       761.000000\n",
       "75%      1461.000000\n",
       "max      2314.000000\n",
       "Name: time, dtype: float64"
      ]
     },
     "execution_count": 41,
     "metadata": {},
     "output_type": "execute_result"
    }
   ],
   "source": [
    "fig, ax = plt.subplots(figsize=(10, 5))\n",
    "data['time'].hist(bins = 50)\n",
    "plt.ylabel('Количество людей')\n",
    "plt.xlabel('Время пользования услугами')\n",
    "plt.show()\n",
    "fig, ax = plt.subplots(figsize=(10, 5))\n",
    "data.boxplot(column='time')\n",
    "plt.title('Время пользования услугами')\n",
    "plt.show()\n",
    "data['time'].describe()"
   ]
  },
  {
   "cell_type": "markdown",
   "metadata": {},
   "source": [
    "Как мы видим, клиенты чаще всего пользуются услугами от 276 до 1461 дней - то есть от 0,75 года до 4 лет, минимальное значение пользования - один месяц, а максимальное - 6 с лишним лет, что выглядит правдоподобно"
   ]
  },
  {
   "cell_type": "markdown",
   "metadata": {},
   "source": [
    "Изучим мультиколлинеарность в нашем датасете. Для этого посмотрим на 𝜙k (Phik) коэффициент корреляции и построим матрицу, содержащую попарные коэффициенты 𝜙k между нашими признаками"
   ]
  },
  {
   "cell_type": "code",
   "execution_count": 42,
   "metadata": {},
   "outputs": [
    {
     "data": {
      "image/png": "[encoded data removed]",
      "text/plain": [
       "<Figure size 1008x720 with 2 Axes>"
      ]
     },
     "metadata": {
      "needs_background": "light"
     },
     "output_type": "display_data"
    }
   ],
   "source": [
    "interval_cols = ['MonthlyCharges', 'TotalCharges', 'time']\n",
    "phik_overview = data.phik_matrix(interval_cols=interval_cols)\n",
    "plot_correlation_matrix(phik_overview.values, \n",
    "                        x_labels=phik_overview.columns, \n",
    "                        y_labels=phik_overview.index, \n",
    "                        vmin=0, vmax=1, color_map=\"Blues\", \n",
    "                        title=\"Корреляция\", \n",
    "                        fontsize_factor=1, \n",
    "                        figsize=(14, 10))\n",
    "plt.tight_layout()"
   ]
  },
  {
   "cell_type": "markdown",
   "metadata": {},
   "source": [
    "Как мы видим присутствует средняя и высокая корреляция между ежемесячными тратами на услуги и дополнительными интернет-услугами и средняя корреляция между суммарными тратами на услуги и дополнительными интернет-услугами, а также высокая корреляция между суммарными тратами на услуги и временем пользования услугами, что вполне логично"
   ]
  },
  {
   "cell_type": "markdown",
   "metadata": {},
   "source": [
    "<b>Вывод: </b> Мы проанализировали каждый признак нашего датасета, построили графики, обработали пропуски и избавились от лишних признаков, проанализировали баланс классов и оценили корреляцию между признаками"
   ]
  },
  {
   "cell_type": "markdown",
   "metadata": {},
   "source": [
    "## Обучение моделей"
   ]
  },
  {
   "cell_type": "markdown",
   "metadata": {},
   "source": [
    "Перед обучением модели нам необходимо разделить датасет на выборки"
   ]
  },
  {
   "cell_type": "markdown",
   "metadata": {},
   "source": [
    "Разобьем данные на выборки: выделим 25% данных для тестовой выборки, остальные 75% — для обучающей"
   ]
  },
  {
   "cell_type": "code",
   "execution_count": 43,
   "metadata": {},
   "outputs": [],
   "source": [
    "data_train, data_test = train_test_split(data, test_size=0.25, random_state=RANDOM_STATE)"
   ]
  },
  {
   "cell_type": "markdown",
   "metadata": {},
   "source": [
    "Целевым признаком в нашем датасете является столбец \"status\" - именно в нем содержится информацию о статусе клиенте (является ли он клиентом оператора или уже нет) и его нам необходимо будет предсказывать. Остальные столбцы датасета будут признаками. Создадим переменные для признаков и целевого признака для каждой выборки"
   ]
  },
  {
   "cell_type": "code",
   "execution_count": 44,
   "metadata": {},
   "outputs": [],
   "source": [
    "features_train = data_train.drop(['status'], axis=1)\n",
    "target_train = data_train['status']\n",
    "features_test = data_test.drop(['status'], axis=1)\n",
    "target_test = data_test['status']"
   ]
  },
  {
   "cell_type": "markdown",
   "metadata": {},
   "source": [
    "Для преобразования категориальных признаков в численные воспользуемся техникой OHE. Перед этим в переменной category создадим список всех категориальных признаков"
   ]
  },
  {
   "cell_type": "code",
   "execution_count": 45,
   "metadata": {},
   "outputs": [],
   "source": [
    "category = ['Type', 'PaperlessBilling', 'PaymentMethod', 'gender', 'Partner', 'Dependents',\n",
    "            'InternetService', 'OnlineSecurity', 'OnlineBackup', 'DeviceProtection', \n",
    "            'TechSupport', 'StreamingTV', 'StreamingMovies', 'MultipleLines']"
   ]
  },
  {
   "cell_type": "code",
   "execution_count": 46,
   "metadata": {},
   "outputs": [],
   "source": [
    "encoder = OneHotEncoder(drop='first', handle_unknown='ignore', sparse=False)\n",
    "encoder.fit(features_train[category])\n",
    "\n",
    "features_train[encoder.get_feature_names_out()] = encoder.transform(features_train[category])\n",
    "features_train = features_train.drop(category, axis=1)\n",
    "\n",
    "features_test[encoder.get_feature_names_out()] = encoder.transform(features_test[category])\n",
    "features_test = features_test.drop(category, axis=1)"
   ]
  },
  {
   "cell_type": "markdown",
   "metadata": {},
   "source": [
    "Стандартизируем численные признаки. Перед этим в переменной numeric создадим список всех численных признаков"
   ]
  },
  {
   "cell_type": "code",
   "execution_count": 47,
   "metadata": {},
   "outputs": [],
   "source": [
    "numeric = ['MonthlyCharges', 'TotalCharges', 'time']\n",
    "\n",
    "scaler = StandardScaler() \n",
    "scaler.fit(features_train[numeric])\n",
    "\n",
    "features_train[numeric] = scaler.transform(features_train[numeric])\n",
    "features_test[numeric] = scaler.transform(features_test[numeric])"
   ]
  },
  {
   "cell_type": "markdown",
   "metadata": {},
   "source": [
    "Далее применим три модели и посмотрим какая из них покажет наилучшие результаты"
   ]
  },
  {
   "cell_type": "markdown",
   "metadata": {},
   "source": [
    "Применим модель 'Логистической регрессии' подбирая параметры через GridSearch и посмотрим на лучший результат, который продемонстрирует модель"
   ]
  },
  {
   "cell_type": "code",
   "execution_count": 48,
   "metadata": {},
   "outputs": [
    {
     "name": "stdout",
     "output_type": "stream",
     "text": [
      "Лучший результат 'Логистической регрессии': 0.7721530486608409\n",
      "Лучшие параметры 'Логистической регрессии': {'C': 1, 'max_iter': 100, 'solver': 'lbfgs'}\n",
      "Время обучения и предсказания модели:\n",
      "CPU times: user 1min 24s, sys: 1min 44s, total: 3min 9s\n",
      "Wall time: 3min 10s\n"
     ]
    }
   ],
   "source": [
    "%%time\n",
    "\n",
    "model = LogisticRegression(random_state=RANDOM_STATE)\n",
    "param_grid = {'max_iter': range(100, 500, 100), 'C': [0.001, 0.01, 0.1, 1, 10, 100, 1000],\n",
    "              'solver'  : ['newton-cg', 'lbfgs', 'liblinear']}\n",
    "\n",
    "gs_l = GridSearchCV(model, param_grid, cv=5, scoring='roc_auc', n_jobs=-1)\n",
    "gs_l.fit(features_train, target_train)\n",
    "\n",
    "print(\"Лучший результат 'Логистической регрессии':\", gs_l.best_score_)\n",
    "print(\"Лучшие параметры 'Логистической регрессии':\", gs_l.best_params_)\n",
    "print('Время обучения и предсказания модели:') "
   ]
  },
  {
   "cell_type": "markdown",
   "metadata": {},
   "source": [
    "Далее применим модель 'Случайный лес' подбирая параметры через RandomizedSearch"
   ]
  },
  {
   "cell_type": "code",
   "execution_count": 49,
   "metadata": {},
   "outputs": [
    {
     "name": "stdout",
     "output_type": "stream",
     "text": [
      "Лучший результат 'Случайного леса': 0.8234744524424557\n",
      "Лучшие параметры 'Случайного леса': {'n_estimators': 440, 'min_samples_split': 2, 'min_samples_leaf': 2, 'max_depth': 7}\n",
      "Время обучения и предсказания модели:\n",
      "CPU times: user 48.2 s, sys: 0 ns, total: 48.2 s\n",
      "Wall time: 48.3 s\n"
     ]
    }
   ],
   "source": [
    "%%time\n",
    "\n",
    "model = RandomForestClassifier(random_state=RANDOM_STATE)\n",
    "param_rand = {'n_estimators': range(10, 500, 10), 'max_depth': range(1,15), \n",
    "              'min_samples_leaf': range (1,10), 'min_samples_split': range (2,10)}\n",
    "\n",
    "gs_r = RandomizedSearchCV(model, param_rand, cv=5, scoring='roc_auc', n_jobs=-1)\n",
    "gs_r.fit(features_train, target_train)\n",
    "\n",
    "print(\"Лучший результат 'Случайного леса':\", gs_r.best_score_)\n",
    "print(\"Лучшие параметры 'Случайного леса':\", gs_r.best_params_)\n",
    "print('Время обучения и предсказания модели:') "
   ]
  },
  {
   "cell_type": "markdown",
   "metadata": {},
   "source": [
    "И применим модель 'CatBoost' подбирая параметры через RandomizedSearch"
   ]
  },
  {
   "cell_type": "code",
   "execution_count": 50,
   "metadata": {},
   "outputs": [
    {
     "name": "stdout",
     "output_type": "stream",
     "text": [
      "Лучший результат 'CatBoost': 0.9017223000195178\n",
      "Лучшие параметры 'CatBoost': {'learning_rate': 0.1, 'iterations': 400, 'depth': 6}\n",
      "Время обучения и предсказания модели:\n",
      "CPU times: user 2min 19s, sys: 0 ns, total: 2min 19s\n",
      "Wall time: 3min 16s\n"
     ]
    }
   ],
   "source": [
    "%%time\n",
    "\n",
    "model = CatBoostClassifier(random_state=RANDOM_STATE)\n",
    "param_grid = {'iterations': range(100, 1000, 100),'depth': range(1, 10),\n",
    "              'learning_rate' : [0.01, 0.03, 0.05, 0.1]}\n",
    "\n",
    "gs_c = RandomizedSearchCV(model, param_grid, cv=5, scoring='roc_auc', n_jobs=-1)\n",
    "gs_c.fit(features_train, target_train, verbose=0)\n",
    "\n",
    "print(\"Лучший результат 'CatBoost':\", gs_c.best_score_)\n",
    "print(\"Лучшие параметры 'CatBoost':\", gs_c.best_params_)\n",
    "print('Время обучения и предсказания модели:') "
   ]
  },
  {
   "cell_type": "markdown",
   "metadata": {},
   "source": [
    "Как мы видим наилучшие результаты продемонстрировала модель 'CatBoost' с параметрами: 'learning_rate': 0.1, 'iterations': 400, 'depth': 6"
   ]
  },
  {
   "cell_type": "markdown",
   "metadata": {},
   "source": [
    "<b>Вывод: </b> нами было произведено кодирование и стандартизация признаков, проведено испытание трех моделей машинного обучения с подбором параметров. Наилучший результат продемонстрировала модель 'CatBoost'"
   ]
  },
  {
   "cell_type": "markdown",
   "metadata": {},
   "source": [
    "## Тестирование модели"
   ]
  },
  {
   "cell_type": "markdown",
   "metadata": {},
   "source": [
    "Проверим нашу наилучшую модель на тестовой выборке. Основной метрикой для нас будет ROC-AUC, дополнительной - Accuracy"
   ]
  },
  {
   "cell_type": "code",
   "execution_count": 51,
   "metadata": {},
   "outputs": [
    {
     "name": "stdout",
     "output_type": "stream",
     "text": [
      "ROC-AUC на тестовой выборке: 0.9103083930704899\n",
      "Accuracy на тестовой выборке: 0.9163822525597269\n"
     ]
    }
   ],
   "source": [
    "probabilities_valid = gs_c.best_estimator_.predict_proba(features_test)\n",
    "probabilities_one_valid = probabilities_valid[:, 1]\n",
    "answer = gs_c.best_estimator_.predict(features_test)\n",
    "accuracy = accuracy_score(target_test, answer)\n",
    "roc_auc = roc_auc_score(target_test, probabilities_one_valid)\n",
    "print(\"ROC-AUC на тестовой выборке:\", roc_auc)\n",
    "print(\"Accuracy на тестовой выборке:\", accuracy)"
   ]
  },
  {
   "cell_type": "markdown",
   "metadata": {},
   "source": [
    "Как мы видим нам удалось достичь требуемого значения метрики ROC-AUC ( > 0.85), значит наша модель подходит заказчику"
   ]
  },
  {
   "cell_type": "markdown",
   "metadata": {},
   "source": [
    "Также мы можем построить ROC-кривую для наглядности"
   ]
  },
  {
   "cell_type": "code",
   "execution_count": 52,
   "metadata": {
    "scrolled": true
   },
   "outputs": [
    {
     "data": {
      "image/png": "[encoded data removed]",
      "text/plain": [
       "<Figure size 504x360 with 1 Axes>"
      ]
     },
     "metadata": {
      "needs_background": "light"
     },
     "output_type": "display_data"
    }
   ],
   "source": [
    "fpr, tpr, thresholds = roc_curve(target_test, probabilities_one_valid)\n",
    "plt.figure(figsize=(7, 5))\n",
    "plt.plot(fpr, tpr, color=\"orange\") \n",
    "plt.plot([0, 1], [0, 1], linestyle='-')\n",
    "plt.xlim([-0.03, 1.0])\n",
    "plt.ylim([0.0, 1.03])\n",
    "plt.title(\"ROC-кривая\") \n",
    "plt.xlabel(\"False Positive Rate\")\n",
    "plt.ylabel(\"True Positive Rate\")\n",
    "plt.grid()\n",
    "plt.show()"
   ]
  },
  {
   "cell_type": "markdown",
   "metadata": {},
   "source": [
    "А также построим матрицу ошибок"
   ]
  },
  {
   "cell_type": "code",
   "execution_count": 53,
   "metadata": {
    "scrolled": false
   },
   "outputs": [
    {
     "data": {
      "image/png": "[encoded data removed]",
      "text/plain": [
       "<Figure size 432x288 with 2 Axes>"
      ]
     },
     "metadata": {
      "needs_background": "light"
     },
     "output_type": "display_data"
    }
   ],
   "source": [
    "cm = confusion_matrix(target_test, answer)\n",
    "cm_display = ConfusionMatrixDisplay(cm).plot(cmap=plt.cm.Blues)\n",
    "plt.title('Матрица ошибок')\n",
    "plt.xlabel('Предсказания')\n",
    "plt.ylabel('Истинные значения')\n",
    "plt.show()"
   ]
  },
  {
   "cell_type": "markdown",
   "metadata": {},
   "source": [
    "Как мы видим сумма истинно позитивных и истинно отрицательных предсказаний существенно превышает сумму ошибочно положительных и ошибочно отрицательных предсказаний (что и подтверждает метрика Accuracy). Доля ошибочно положительных предсказаний больше доли ошибочно отрицательных"
   ]
  },
  {
   "cell_type": "markdown",
   "metadata": {},
   "source": [
    "В заключение проведем анализ важности признаков, построим соответствующий график и посмотрим какие признаки оказались наиболее важными для нас"
   ]
  },
  {
   "cell_type": "code",
   "execution_count": 54,
   "metadata": {
    "scrolled": false
   },
   "outputs": [
    {
     "data": {
      "image/png": "[encoded data removed]",
      "text/plain": [
       "<Figure size 792x576 with 1 Axes>"
      ]
     },
     "metadata": {
      "needs_background": "light"
     },
     "output_type": "display_data"
    }
   ],
   "source": [
    "feature_importances = pd.Series(gs_c.best_estimator_.get_feature_importance(), features_train.columns)\n",
    "fig, ax = plt.subplots(figsize=(11,8))\n",
    "feature_importances.plot.bar(ax=ax)\n",
    "ax.set_title(\"Признаки\")\n",
    "ax.set_ylabel('Важность, %')\n",
    "fig.tight_layout()"
   ]
  },
  {
   "cell_type": "markdown",
   "metadata": {},
   "source": [
    "Как мы видим наибольшее влияние с большим отрывом оказывает время пользования услугами, далее следуют ежемесячные траты на услуги и суммарные траты на услуги, остальные признаки имеют еще меньшую важность (около 5% и менее)"
   ]
  },
  {
   "cell_type": "markdown",
   "metadata": {},
   "source": [
    "<b>Вывод: </b> нами был обработан исходный датасет, заполнены пропуски, проанализированы и добавлены новые признаки, подготовлено и протестировано несколько моделей. Проанализировав критерии заказчика мы пришли к выводу, что наиболее подходящей моделью будет \"CatBoost\" - проверка на тестовой выборке это подтвердила и требуемое значение метрики ROC-AUC было достигнуто. Таким образом наша модель сможет помочь спрогнозировать отток клиентов оператору связи."
   ]
  },
  {
   "cell_type": "markdown",
   "metadata": {},
   "source": [
    "## Отчет по решению"
   ]
  },
  {
   "cell_type": "markdown",
   "metadata": {},
   "source": [
    "### Ключевые пункты плана"
   ]
  },
  {
   "cell_type": "markdown",
   "metadata": {},
   "source": [
    "Проанализируем проделанную работу и посмотрим все ли пункта первоначального плана нам удалось выполнить. Для этого еще раз взглянем на план и отметим выполненные пункты"
   ]
  },
  {
   "cell_type": "markdown",
   "metadata": {},
   "source": [
    "1. [x] Подготовка данных: импорт необходимых для работы библиотек, загрузка датасетов, вывод информации о них, перевод данных в необходимые форматы (при необходимости), оценка количества дубликатов и пропусков, работа с ними\n",
    "2. [x]  Анализ данных: оценка признаков и целевого признака, построение графиков, изучение мультиколлинеарности и баланса классов\n",
    "3. [x]  Обучение моделей: разделение датасета на выборки, преобразования категориальных признаков в численные, стандартизация численных признаков, построение нескольких моделей и оценка метрик на каждой из моделей, а также оценка времени обучения и предсказания \n",
    "4. [x]  Тестирование модели: выбор наилучшей модели из обученных ранее, проверка выбранной модели на тестовой выборке, оценка метрик полученных  на тестовой выборке\n",
    "5. [x]  Выводы о проделанной работе"
   ]
  },
  {
   "cell_type": "markdown",
   "metadata": {},
   "source": [
    "Как видим все пункты плана выполнены, в некоторых местах дополнительно построены графики и написаны промежуточные выводы"
   ]
  },
  {
   "cell_type": "markdown",
   "metadata": {},
   "source": [
    "### Основные трудности при выполнении"
   ]
  },
  {
   "cell_type": "markdown",
   "metadata": {},
   "source": [
    "Особых трудностей проект не вызвал, но некоторые из них были связаны с подбором гиперпараметров - на их подбор с помощью GridSearchCV уходило много времени, поэтому было принято решение использовать подбор параметров через RandomizedSearchCV для двух наиболее долго выполняемых моделей"
   ]
  },
  {
   "cell_type": "markdown",
   "metadata": {},
   "source": [
    "### Ключевые шаги в решении"
   ]
  },
  {
   "cell_type": "markdown",
   "metadata": {},
   "source": [
    "Ключевые шаги в решении задачи во много коррелируют с планом решения задачи. Выделим ключевые шаги:"
   ]
  },
  {
   "cell_type": "markdown",
   "metadata": {},
   "source": [
    "- Предобработка данных, выявление пропусков, дубликатов и аномалий\n",
    "- Анализ данных: оценка признаков, создание целевого признака\n",
    "- Подготовка данных к обучению: разделение на выборки, кодирование и масштабирование признаков\n",
    "- Обучение моделей и выбор наилучшей из них\n",
    "- Тестирование наилучшей модели"
   ]
  },
  {
   "cell_type": "markdown",
   "metadata": {},
   "source": [
    "### Признаки для обучения модели"
   ]
  },
  {
   "cell_type": "markdown",
   "metadata": {},
   "source": [
    "   Для обучения модели были использованы практически все признаки из первоначальных датасетов за исключением 'BeginDate' (дата начала пользования услугами), 'EndDate' (дата окончания пользования услугами) и 'customerID' (уникальный идентификатор клиента) поскольку они являются индивидуальными для каждого клиента и не смогли бы помочь нам в предсказаниях.\n",
    "   \n",
    "   Также на основе удаленных признаков с информацией о дате начала и дате окончания пользования услугами были созданы признаки 'time' (время пользования услугами) и 'status' (информация о статусе клиента). Признак 'status' выбран в качестве целевого. \n",
    "   \n",
    "   Полный список признаков, участвующих в обучении модели: 'Type',\t'PaperlessBilling',\t'PaymentMethod',\t'MonthlyCharges',\t'TotalCharges',\t'gender', 'SeniorCitizen',\t'Partner',\t'Dependents',\t'InternetService',\t'OnlineSecurity',\t'OnlineBackup',\t'DeviceProtection',\t'TechSupport',\t'StreamingTV',\t'StreamingMovies',\t'MultipleLines',\t'time'.\\\n",
    "   Целевой признак: 'status'\n",
    "   \n",
    "   \n",
    "   Признаки, используемые для обучения модели были проверены на аномальные значения, также были заполнены пропуски и удалена небольшая часть данных, которая могла испортить картину будущих предсказаний (клиенты, начавшие пользование услугами в день выгрузки данных)\n",
    "   \n",
    "   В конце работы была проведена оценка важности признаков и построен соответствующий график"
   ]
  },
  {
   "cell_type": "markdown",
   "metadata": {},
   "source": [
    "### Итоговая модель, её гиперпараметы и качество"
   ]
  },
  {
   "cell_type": "markdown",
   "metadata": {},
   "source": [
    "Итоговой моделью была выбрана модель \"CatBoost\" со следующими гиперпараметрами, подобранными с помощью RandomizedSearchCV:\n",
    "- 'learning_rate': 0.1\n",
    "- 'iterations': 400\n",
    "- 'depth': 6\n",
    "-  random_state=240423\n",
    "\n",
    "Данная модель обеспечила следующие значения метрик на тестовой выборке:\n",
    "- ROC-AUC (основная метрика) :  0.910 \n",
    "- Accuracy (дополнительная метрика) :  0.916 \n",
    "\n",
    "<b>Примечание: </b> Поскольку подбор гиперпараметров осуществлялся с помощью RandomizedSearchCV с целью экономии времени, повторный запуск может выдать другие значения гиперпараметров и соответственно другие значения метрики ROC-AUC. Однако для данной модели в ходе нескольких испытаний (более 5) значение метрики ROC-AUC было в пределах 0.88-0.92, что в любом случае обеспечивает требуемое значения метрики ROC-AUC ( > 0.85)"
   ]
  },
  {
   "cell_type": "markdown",
   "metadata": {},
   "source": [
    "### Вывод"
   ]
  },
  {
   "cell_type": "markdown",
   "metadata": {},
   "source": [
    "Нами были произведены предобработка и анализ данных, подготовка данных к обучению и обучение нескольких моделей. Проанализировав полученные результаты обучения мы пришли к выводу, что наиболее подходящей моделью будет \"CatBoost\" - проверка на тестовой выборке это подтвердила и требуемое значение метрики ROC-AUC было достигнуто. Таким образом наша модель сможет помочь спрогнозировать отток клиентов оператору связи."
   ]
  }
 ],
 "metadata": {
  "ExecuteTimeLog": [
   {
    "duration": 11130,
    "start_time": "2023-05-03T11:08:00.533Z"
   },
   {
    "duration": 1722,
    "start_time": "2023-05-03T11:08:11.666Z"
   },
   {
    "duration": 3,
    "start_time": "2023-05-03T11:08:13.390Z"
   },
   {
    "duration": 501,
    "start_time": "2023-05-03T11:08:13.395Z"
   },
   {
    "duration": 26,
    "start_time": "2023-05-03T11:08:13.898Z"
   },
   {
    "duration": 40,
    "start_time": "2023-05-03T11:08:13.926Z"
   },
   {
    "duration": 19,
    "start_time": "2023-05-03T11:08:13.967Z"
   },
   {
    "duration": 7,
    "start_time": "2023-05-03T11:08:13.988Z"
   },
   {
    "duration": 81,
    "start_time": "2023-05-03T11:08:13.997Z"
   },
   {
    "duration": 19,
    "start_time": "2023-05-03T11:08:14.082Z"
   },
   {
    "duration": 22,
    "start_time": "2023-05-03T11:08:14.104Z"
   },
   {
    "duration": 5,
    "start_time": "2023-05-03T11:08:14.128Z"
   },
   {
    "duration": 27,
    "start_time": "2023-05-03T11:08:14.134Z"
   },
   {
    "duration": 156,
    "start_time": "2023-05-03T11:08:14.163Z"
   },
   {
    "duration": 130,
    "start_time": "2023-05-03T11:08:14.321Z"
   },
   {
    "duration": 159,
    "start_time": "2023-05-03T11:08:14.453Z"
   },
   {
    "duration": 299,
    "start_time": "2023-05-03T11:08:14.613Z"
   },
   {
    "duration": 8,
    "start_time": "2023-05-03T11:08:14.913Z"
   },
   {
    "duration": 32,
    "start_time": "2023-05-03T11:08:14.932Z"
   },
   {
    "duration": 6,
    "start_time": "2023-05-03T11:08:14.966Z"
   },
   {
    "duration": 7,
    "start_time": "2023-05-03T11:08:14.974Z"
   },
   {
    "duration": 334,
    "start_time": "2023-05-03T11:08:14.983Z"
   },
   {
    "duration": 133,
    "start_time": "2023-05-03T11:08:15.318Z"
   },
   {
    "duration": 125,
    "start_time": "2023-05-03T11:08:15.452Z"
   },
   {
    "duration": 148,
    "start_time": "2023-05-03T11:08:15.579Z"
   },
   {
    "duration": 122,
    "start_time": "2023-05-03T11:08:15.734Z"
   },
   {
    "duration": 139,
    "start_time": "2023-05-03T11:08:15.858Z"
   },
   {
    "duration": 4,
    "start_time": "2023-05-03T11:08:16.002Z"
   },
   {
    "duration": 173,
    "start_time": "2023-05-03T11:08:16.008Z"
   },
   {
    "duration": 135,
    "start_time": "2023-05-03T11:08:16.183Z"
   },
   {
    "duration": 131,
    "start_time": "2023-05-03T11:08:16.320Z"
   },
   {
    "duration": 142,
    "start_time": "2023-05-03T11:08:16.452Z"
   },
   {
    "duration": 133,
    "start_time": "2023-05-03T11:08:16.596Z"
   },
   {
    "duration": 132,
    "start_time": "2023-05-03T11:08:16.734Z"
   },
   {
    "duration": 10,
    "start_time": "2023-05-03T11:08:16.868Z"
   },
   {
    "duration": 236,
    "start_time": "2023-05-03T11:08:16.880Z"
   },
   {
    "duration": 4,
    "start_time": "2023-05-03T11:08:17.118Z"
   },
   {
    "duration": 15,
    "start_time": "2023-05-03T11:08:17.124Z"
   },
   {
    "duration": 41,
    "start_time": "2023-05-03T11:08:17.141Z"
   },
   {
    "duration": 134,
    "start_time": "2023-05-03T11:08:17.184Z"
   },
   {
    "duration": 428,
    "start_time": "2023-05-03T11:08:17.319Z"
   },
   {
    "duration": 4717,
    "start_time": "2023-05-03T11:08:17.749Z"
   },
   {
    "duration": 7,
    "start_time": "2023-05-03T11:08:22.467Z"
   },
   {
    "duration": 23,
    "start_time": "2023-05-03T11:08:22.476Z"
   },
   {
    "duration": 9,
    "start_time": "2023-05-03T11:08:22.501Z"
   },
   {
    "duration": 94,
    "start_time": "2023-05-03T11:08:22.511Z"
   },
   {
    "duration": 17,
    "start_time": "2023-05-03T11:08:22.607Z"
   },
   {
    "duration": 190207,
    "start_time": "2023-05-03T11:08:22.625Z"
   },
   {
    "duration": 48307,
    "start_time": "2023-05-03T11:11:32.835Z"
   },
   {
    "duration": 196951,
    "start_time": "2023-05-03T11:12:21.144Z"
   },
   {
    "duration": 10,
    "start_time": "2023-05-03T11:15:38.097Z"
   },
   {
    "duration": 125,
    "start_time": "2023-05-03T11:15:38.109Z"
   },
   {
    "duration": 159,
    "start_time": "2023-05-03T11:15:38.236Z"
   },
   {
    "duration": 402,
    "start_time": "2023-05-03T11:15:38.397Z"
   },
   {
    "duration": 47,
    "start_time": "2023-05-03T16:20:32.048Z"
   }
  ],
  "kernelspec": {
   "display_name": "Python 3 (ipykernel)",
   "language": "python",
   "name": "python3"
  },
  "language_info": {
   "codemirror_mode": {
    "name": "ipython",
    "version": 3
   },
   "file_extension": ".py",
   "mimetype": "text/x-python",
   "name": "python",
   "nbconvert_exporter": "python",
   "pygments_lexer": "ipython3",
   "version": "3.9.5"
  },
  "toc": {
   "base_numbering": 1,
   "nav_menu": {},
   "number_sections": true,
   "sideBar": true,
   "skip_h1_title": true,
   "title_cell": "Table of Contents",
   "title_sidebar": "Contents",
   "toc_cell": false,
   "toc_position": {},
   "toc_section_display": true,
   "toc_window_display": false
  }
 },
 "nbformat": 4,
 "nbformat_minor": 2
}
